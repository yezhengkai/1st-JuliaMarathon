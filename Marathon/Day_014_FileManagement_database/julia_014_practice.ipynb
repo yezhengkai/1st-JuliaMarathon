{
 "cells": [
  {
   "cell_type": "markdown",
   "metadata": {
    "colab_type": "text",
    "id": "l0GLe5A6wf7g"
   },
   "source": [
    "# Julia 檔案處理與資料庫連線\n",
    "\n",
    "## 1. 流 (Stream) 與 IO\n",
    "\n",
    "各種 Julia 不同 stream 的上層型別均為 IO，也都繼承了 read() 和 write() 函式。\n",
    "\n",
    "最常見的標準流為輸入 (stdin)、輸出 (stdout)、錯誤 (stderr)。\n",
    "\n",
    "### 1.1 標準輸入 (stdin)、輸出 (stdout)、錯誤 (stderr)"
   ]
  },
  {
   "cell_type": "code",
   "execution_count": 1,
   "metadata": {
    "colab": {},
    "colab_type": "code",
    "id": "pClO34L-wf7p",
    "outputId": "0ff5ea71-e453-4692-8f81-91d057ec4297"
   },
   "outputs": [
    {
     "name": "stdout",
     "output_type": "stream",
     "text": [
      "stdin> 3\n"
     ]
    },
    {
     "data": {
      "text/plain": [
       "\"3\""
      ]
     },
     "execution_count": 1,
     "metadata": {},
     "output_type": "execute_result"
    }
   ],
   "source": [
    "# 標準輸入 (stdin)\n",
    "# 並且將輸入值指定給變數 a\n",
    "a = readline()"
   ]
  },
  {
   "cell_type": "code",
   "execution_count": 2,
   "metadata": {
    "colab": {},
    "colab_type": "code",
    "id": "PZjicxtCwf7z",
    "outputId": "6c307be3-22c9-46bd-8f4f-aa357b50e809"
   },
   "outputs": [
    {
     "data": {
      "text/plain": [
       "\"3\""
      ]
     },
     "execution_count": 2,
     "metadata": {},
     "output_type": "execute_result"
    }
   ],
   "source": [
    "a"
   ]
  },
  {
   "cell_type": "markdown",
   "metadata": {
    "colab_type": "text",
    "id": "RqaOfopwwf76"
   },
   "source": [
    "在 Jupyter / IJulia 環境中, 無法實現用 `read()` 函式來做為 stdin, IJulia 僅實作了 `readline()`\n",
    "\n",
    "在 REPL 中執行標準輸入 `read()`, 例如:\n",
    "```julia\n",
    "# 標準輸入, 並指定輸入值為 Char\n",
    "read(stdin, Char)\n",
    "```"
   ]
  },
  {
   "cell_type": "code",
   "execution_count": 3,
   "metadata": {},
   "outputs": [
    {
     "ename": "EOFError",
     "evalue": "EOFError: read end of file",
     "output_type": "error",
     "traceback": [
      "EOFError: read end of file",
      "",
      "Stacktrace:",
      " [1] read(::Base.PipeEndpoint, ::Type{UInt8}) at .\\stream.jl:868",
      " [2] read at .\\io.jl:314 [inlined]",
      " [3] read(::IJulia.IJuliaStdio{Base.PipeEndpoint}, ::Type{Char}) at .\\io.jl:697",
      " [4] top-level scope at In[3]:1"
     ]
    }
   ],
   "source": [
    "# IJulia沒有實作read\n",
    "read(stdin, Char)"
   ]
  },
  {
   "cell_type": "code",
   "execution_count": 4,
   "metadata": {
    "colab": {},
    "colab_type": "code",
    "id": "b-Qe8TCIwf8D",
    "outputId": "351e1036-944b-43d0-cfa7-4c6da0351a07"
   },
   "outputs": [
    {
     "name": "stdout",
     "output_type": "stream",
     "text": [
      "Welcome to \n",
      "Julia!"
     ]
    },
    {
     "data": {
      "text/plain": [
       "18"
      ]
     },
     "execution_count": 4,
     "metadata": {},
     "output_type": "execute_result"
    }
   ],
   "source": [
    "# 標準輸出 (stdout)\n",
    "write(stdout, \"Welcome to \\nJulia!\")"
   ]
  },
  {
   "cell_type": "code",
   "execution_count": 6,
   "metadata": {},
   "outputs": [
    {
     "name": "stdout",
     "output_type": "stream",
     "text": [
      "Welcome to \n",
      "Julia!"
     ]
    }
   ],
   "source": [
    "a = write(stdout, \"Welcome to \\nJulia!\");"
   ]
  },
  {
   "cell_type": "code",
   "execution_count": 8,
   "metadata": {},
   "outputs": [
    {
     "data": {
      "text/plain": [
       "Int64"
      ]
     },
     "execution_count": 8,
     "metadata": {},
     "output_type": "execute_result"
    }
   ],
   "source": [
    "typeof(a)"
   ]
  },
  {
   "cell_type": "code",
   "execution_count": 5,
   "metadata": {
    "colab": {},
    "colab_type": "code",
    "id": "jirPraOHwf8I",
    "outputId": "37f19331-4472-424d-c406-60ff7af6b3a0"
   },
   "outputs": [
    {
     "name": "stdout",
     "output_type": "stream",
     "text": [
      "Welcome to \n",
      "Julia!"
     ]
    }
   ],
   "source": [
    "# 上面的例子中, out 的部分也輸出了成功輸出的字元數, 如果不要顯示的話, 可以加入 ; 隠藏\n",
    "write(stdout, \"Welcome to \\nJulia!\");"
   ]
  },
  {
   "cell_type": "code",
   "execution_count": 10,
   "metadata": {},
   "outputs": [
    {
     "name": "stdout",
     "output_type": "stream",
     "text": [
      "Welcome to \n",
      "Julia!\n",
      "hello Julia!"
     ]
    }
   ],
   "source": [
    "write(stdout, \"Welcome to \\nJulia!\") + write(stdout, \"\\nhello Julia!\");"
   ]
  },
  {
   "cell_type": "code",
   "execution_count": 18,
   "metadata": {
    "colab": {},
    "colab_type": "code",
    "id": "zPSopKLBwf8M",
    "outputId": "0b288ac7-5d70-4d13-c9ef-dd5fc6141ad6"
   },
   "outputs": [
    {
     "name": "stderr",
     "output_type": "stream",
     "text": [
      "This is an error."
     ]
    },
    {
     "data": {
      "text/plain": [
       "17"
      ]
     },
     "execution_count": 18,
     "metadata": {},
     "output_type": "execute_result"
    }
   ],
   "source": [
    "# 標準錯誤 (stderr)\n",
    "write(stderr, \"This is an error.\")"
   ]
  },
  {
   "cell_type": "code",
   "execution_count": 20,
   "metadata": {},
   "outputs": [
    {
     "name": "stderr",
     "output_type": "stream",
     "text": [
      "This is an error.This is an error."
     ]
    },
    {
     "data": {
      "text/plain": [
       "34"
      ]
     },
     "execution_count": 20,
     "metadata": {},
     "output_type": "execute_result"
    }
   ],
   "source": [
    "write(stderr, \"This is an error.\") + write(stderr, \"This is an error.\")"
   ]
  },
  {
   "cell_type": "markdown",
   "metadata": {},
   "source": [
    "stdout and stderr can concatenate."
   ]
  },
  {
   "cell_type": "code",
   "execution_count": 19,
   "metadata": {},
   "outputs": [
    {
     "name": "stdout",
     "output_type": "stream",
     "text": [
      "\n",
      "hello Julia!"
     ]
    },
    {
     "name": "stderr",
     "output_type": "stream",
     "text": [
      "This is an error."
     ]
    }
   ],
   "source": [
    "write(stderr, \"This is an error.\") + write(stdout, \"\\nhello Julia!\");"
   ]
  },
  {
   "cell_type": "markdown",
   "metadata": {
    "colab_type": "text",
    "id": "ePQzRTsKwf8T"
   },
   "source": [
    "### 1.2 檔案讀取\n",
    "\n",
    "要操作文件檔案時，需要的時候可以透過函式 open() 及 close() 進行開啟和關閉。\n",
    "\n",
    "開啟檔案時，預設的模式是唯讀。若需要進行寫入或添加 (append) 的話，需要指定相對應的模式。\n",
    "\n",
    "|模式 (Mode)|操作說明|\n",
    "|---|---|\n",
    "|r|開啟並為唯讀。|\n",
    "|r+|開啟可讀且可寫入。|\n",
    "|w|檔案不存在時建立檔案、存在的話清空內容，可寫入。|\n",
    "|w+|可讀且可寫入，檔案不存在時建立檔案、存在的話清空內容。|\n",
    "|a|檔案不存在時建立檔案、存在的話添加內容，可寫入。|\n",
    "|a+|可讀且可寫入，檔案不存在時建立檔案、存在的話添加內容。|"
   ]
  },
  {
   "cell_type": "code",
   "execution_count": 21,
   "metadata": {
    "colab": {},
    "colab_type": "code",
    "id": "_cjVI7Znwf8V",
    "outputId": "7eaaa8e6-bd04-4d2e-a38f-cf4af34f806b"
   },
   "outputs": [
    {
     "name": "stdout",
     "output_type": "stream",
     "text": [
      "1. Title: Iris Plants Database\n",
      "\tUpdated Sept 21 by C.Blake - Added discrepency information\n",
      "\n",
      "2. Sources:\n",
      "     (a) Creator: R.A. Fisher\n",
      "     (b) Donor: Michael Marshall (MARSHALL%PLU@io.arc.nasa.gov)\n",
      "     (c) Date: July, 1988\n",
      "\n",
      "3. Past Usage:\n",
      "   - Publications: too many to mention!!!  Here are a few.\n",
      "   1. Fisher,R.A. \"The use of multiple measurements in taxonomic problems\"\n",
      "      Annual Eugenics, 7, Part II, 179-188 (1936); also in \"Contributions\n",
      "      to Mathematical Statistics\" (John Wiley, NY, 1950).\n",
      "   2. Duda,R.O., & Hart,P.E. (1973) Pattern Classification and Scene Analysis.\n",
      "      (Q327.D83) John Wiley & Sons.  ISBN 0-471-22361-1.  See page 218.\n",
      "   3. Dasarathy, B.V. (1980) \"Nosing Around the Neighborhood: A New System\n",
      "      Structure and Classification Rule for Recognition in Partially Exposed\n",
      "      Environments\".  IEEE Transactions on Pattern Analysis and Machine\n",
      "      Intelligence, Vol. PAMI-2, No. 1, 67-71.\n",
      "      -- Results:\n",
      "         -- very low misclassification rates (0% for the setosa class)\n",
      "   4. Gates, G.W. (1972) \"The Reduced Nearest Neighbor Rule\".  IEEE \n",
      "      Transactions on Information Theory, May 1972, 431-433.\n",
      "      -- Results:\n",
      "         -- very low misclassification rates again\n",
      "   5. See also: 1988 MLC Proceedings, 54-64.  Cheeseman et al's AUTOCLASS II\n",
      "      conceptual clustering system finds 3 classes in the data.\n",
      "\n",
      "4. Relevant Information:\n",
      "   --- This is perhaps the best known database to be found in the pattern\n",
      "       recognition literature.  Fisher's paper is a classic in the field\n",
      "       and is referenced frequently to this day.  (See Duda & Hart, for\n",
      "       example.)  The data set contains 3 classes of 50 instances each,\n",
      "       where each class refers to a type of iris plant.  One class is\n",
      "       linearly separable from the other 2; the latter are NOT linearly\n",
      "       separable from each other.\n",
      "   --- Predicted attribute: class of iris plant.\n",
      "   --- This is an exceedingly simple domain.\n",
      "   --- This data differs from the data presented in Fishers article\n",
      "\t(identified by Steve Chadwick,  spchadwick@espeedaz.net )\n",
      "\tThe 35th sample should be: 4.9,3.1,1.5,0.2,\"Iris-setosa\"\n",
      "\twhere the error is in the fourth feature.\n",
      "\tThe 38th sample: 4.9,3.6,1.4,0.1,\"Iris-setosa\"\n",
      "\twhere the errors are in the second and third features.  \n",
      "\n",
      "5. Number of Instances: 150 (50 in each of three classes)\n",
      "\n",
      "6. Number of Attributes: 4 numeric, predictive attributes and the class\n",
      "\n",
      "7. Attribute Information:\n",
      "   1. sepal length in cm\n",
      "   2. sepal width in cm\n",
      "   3. petal length in cm\n",
      "   4. petal width in cm\n",
      "   5. class: \n",
      "      -- Iris Setosa\n",
      "      -- Iris Versicolour\n",
      "      -- Iris Virginica\n",
      "\n",
      "8. Missing Attribute Values: None\n",
      "\n",
      "Summary Statistics:\n",
      "\t         Min  Max   Mean    SD   Class Correlation\n",
      "   sepal length: 4.3  7.9   5.84  0.83    0.7826   \n",
      "    sepal width: 2.0  4.4   3.05  0.43   -0.4194\n",
      "   petal length: 1.0  6.9   3.76  1.76    0.9490  (high!)\n",
      "    petal width: 0.1  2.5   1.20  0.76    0.9565  (high!)\n",
      "\n",
      "9. Class Distribution: 33.3% for each of 3 classes.\n"
     ]
    }
   ],
   "source": [
    "# 逐行讀取文字檔並顯示內容\n",
    "f = open(\"iris.names\")\n",
    "\n",
    "while !eof(f)\n",
    "    println(readline(f))\n",
    "end"
   ]
  },
  {
   "cell_type": "markdown",
   "metadata": {
    "colab_type": "text",
    "id": "mbmSFuz_wf8b"
   },
   "source": [
    "透過下列函式查詢 IOStream 物件的屬性。"
   ]
  },
  {
   "cell_type": "code",
   "execution_count": 22,
   "metadata": {
    "colab": {},
    "colab_type": "code",
    "id": "v4FtC6tSwf8d",
    "outputId": "15731d2d-9be1-45bf-ecd9-416b464888b3"
   },
   "outputs": [
    {
     "name": "stdout",
     "output_type": "stream",
     "text": [
      "已開啟的檔案物件的類型:IOStream\n",
      "是否已開啟: true\n",
      "是否可讀取: true\n",
      "是否為唯讀: true\n",
      "是否可寫入: false\n"
     ]
    }
   ],
   "source": [
    "println(\"已開啟的檔案物件的類型:\", typeof(f))\n",
    "\n",
    "# 察看 IOStream 的狀態\n",
    "println(\"是否已開啟: \", isopen(f))\n",
    "println(\"是否可讀取: \", isreadable(f))\n",
    "println(\"是否為唯讀: \", isreadonly(f)) # 預設未設定模式的話, 開啟後為唯讀\n",
    "println(\"是否可寫入: \", iswritable(f))"
   ]
  },
  {
   "cell_type": "code",
   "execution_count": 23,
   "metadata": {
    "colab": {},
    "colab_type": "code",
    "id": "lwW8j6Knwf8i"
   },
   "outputs": [],
   "source": [
    "# remember close I/O stream\n",
    "close(f)"
   ]
  },
  {
   "cell_type": "markdown",
   "metadata": {
    "colab_type": "text",
    "id": "HsOCGyzmwf8v"
   },
   "source": [
    "#### `readlines()` 函式"
   ]
  },
  {
   "cell_type": "code",
   "execution_count": 27,
   "metadata": {
    "colab": {},
    "colab_type": "code",
    "id": "mg7OkDmywf8x",
    "outputId": "4dce0dde-522c-410c-d004-24294558234e"
   },
   "outputs": [
    {
     "name": "stdout",
     "output_type": "stream",
     "text": [
      "[\"1. Title: Iris Plants Database\", \"\\tUpdated Sept 21 by C.Blake - Added discrepency information\", \"\", \"2. Sources:\", \"     (a) Creator: R.A. Fisher\", \"     (b) Donor: Michael Marshall (MARSHALL%PLU@io.arc.nasa.gov)\", \"     (c) Date: July, 1988\", \"\", \"3. Past Usage:\", \"   - Publications: too many to mention!!!  Here are a few.\", \"   1. Fisher,R.A. \\\"The use of multiple measurements in taxonomic problems\\\"\", \"      Annual Eugenics, 7, Part II, 179-188 (1936); also in \\\"Contributions\", \"      to Mathematical Statistics\\\" (John Wiley, NY, 1950).\", \"   2. Duda,R.O., & Hart,P.E. (1973) Pattern Classification and Scene Analysis.\", \"      (Q327.D83) John Wiley & Sons.  ISBN 0-471-22361-1.  See page 218.\", \"   3. Dasarathy, B.V. (1980) \\\"Nosing Around the Neighborhood: A New System\", \"      Structure and Classification Rule for Recognition in Partially Exposed\", \"      Environments\\\".  IEEE Transactions on Pattern Analysis and Machine\", \"      Intelligence, Vol. PAMI-2, No. 1, 67-71.\", \"      -- Results:\", \"         -- very low misclassification rates (0% for the setosa class)\", \"   4. Gates, G.W. (1972) \\\"The Reduced Nearest Neighbor Rule\\\".  IEEE \", \"      Transactions on Information Theory, May 1972, 431-433.\", \"      -- Results:\", \"         -- very low misclassification rates again\", \"   5. See also: 1988 MLC Proceedings, 54-64.  Cheeseman et al's AUTOCLASS II\", \"      conceptual clustering system finds 3 classes in the data.\", \"\", \"4. Relevant Information:\", \"   --- This is perhaps the best known database to be found in the pattern\", \"       recognition literature.  Fisher's paper is a classic in the field\", \"       and is referenced frequently to this day.  (See Duda & Hart, for\", \"       example.)  The data set contains 3 classes of 50 instances each,\", \"       where each class refers to a type of iris plant.  One class is\", \"       linearly separable from the other 2; the latter are NOT linearly\", \"       separable from each other.\", \"   --- Predicted attribute: class of iris plant.\", \"   --- This is an exceedingly simple domain.\", \"   --- This data differs from the data presented in Fishers article\", \"\\t(identified by Steve Chadwick,  spchadwick@espeedaz.net )\", \"\\tThe 35th sample should be: 4.9,3.1,1.5,0.2,\\\"Iris-setosa\\\"\", \"\\twhere the error is in the fourth feature.\", \"\\tThe 38th sample: 4.9,3.6,1.4,0.1,\\\"Iris-setosa\\\"\", \"\\twhere the errors are in the second and third features.  \", \"\", \"5. Number of Instances: 150 (50 in each of three classes)\", \"\", \"6. Number of Attributes: 4 numeric, predictive attributes and the class\", \"\", \"7. Attribute Information:\", \"   1. sepal length in cm\", \"   2. sepal width in cm\", \"   3. petal length in cm\", \"   4. petal width in cm\", \"   5. class: \", \"      -- Iris Setosa\", \"      -- Iris Versicolour\", \"      -- Iris Virginica\", \"\", \"8. Missing Attribute Values: None\", \"\", \"Summary Statistics:\", \"\\t         Min  Max   Mean    SD   Class Correlation\", \"   sepal length: 4.3  7.9   5.84  0.83    0.7826   \", \"    sepal width: 2.0  4.4   3.05  0.43   -0.4194\", \"   petal length: 1.0  6.9   3.76  1.76    0.9490  (high!)\", \"    petal width: 0.1  2.5   1.20  0.76    0.9565  (high!)\", \"\", \"9. Class Distribution: 33.3% for each of 3 classes.\"]\n",
      "Number of line: 69\n"
     ]
    },
    {
     "data": {
      "text/plain": [
       "Array{String,1}"
      ]
     },
     "execution_count": 27,
     "metadata": {},
     "output_type": "execute_result"
    }
   ],
   "source": [
    "f = open(\"iris.names\")\n",
    "# 使用 readlines() 函式逐行讀取內容, 傳回值為向量類型\n",
    "# Read all lines of an I/O stream or a file as a vector of strings.\n",
    "str_vec = readlines(f)\n",
    "close(f)\n",
    "println(str_vec)\n",
    "println(\"Number of line: \", length(str_vec))\n",
    "typeof(str_vec)"
   ]
  },
  {
   "cell_type": "markdown",
   "metadata": {},
   "source": [
    "**It is safer to use the following syntax because it will automatically close file descriptor.**\n",
    "\n",
    "do: Create an anonymous function and pass it as the first argument to a function call."
   ]
  },
  {
   "cell_type": "code",
   "execution_count": 31,
   "metadata": {
    "scrolled": true
   },
   "outputs": [
    {
     "name": "stdout",
     "output_type": "stream",
     "text": [
      "1. Title: Iris Plants Database\n",
      "\tUpdated Sept 21 by C.Blake - Added discrepency information\n",
      "\n",
      "2. Sources:\n",
      "     (a) Creator: R.A. Fisher\n",
      "     (b) Donor: Michael Marshall (MARSHALL%PLU@io.arc.nasa.gov)\n",
      "     (c) Date: July, 1988\n",
      "\n",
      "3. Past Usage:\n",
      "   - Publications: too many to mention!!!  Here are a few.\n",
      "   1. Fisher,R.A. \"The use of multiple measurements in taxonomic problems\"\n",
      "      Annual Eugenics, 7, Part II, 179-188 (1936); also in \"Contributions\n",
      "      to Mathematical Statistics\" (John Wiley, NY, 1950).\n",
      "   2. Duda,R.O., & Hart,P.E. (1973) Pattern Classification and Scene Analysis.\n",
      "      (Q327.D83) John Wiley & Sons.  ISBN 0-471-22361-1.  See page 218.\n",
      "   3. Dasarathy, B.V. (1980) \"Nosing Around the Neighborhood: A New System\n",
      "      Structure and Classification Rule for Recognition in Partially Exposed\n",
      "      Environments\".  IEEE Transactions on Pattern Analysis and Machine\n",
      "      Intelligence, Vol. PAMI-2, No. 1, 67-71.\n",
      "      -- Results:\n",
      "         -- very low misclassification rates (0% for the setosa class)\n",
      "   4. Gates, G.W. (1972) \"The Reduced Nearest Neighbor Rule\".  IEEE \n",
      "      Transactions on Information Theory, May 1972, 431-433.\n",
      "      -- Results:\n",
      "         -- very low misclassification rates again\n",
      "   5. See also: 1988 MLC Proceedings, 54-64.  Cheeseman et al's AUTOCLASS II\n",
      "      conceptual clustering system finds 3 classes in the data.\n",
      "\n",
      "4. Relevant Information:\n",
      "   --- This is perhaps the best known database to be found in the pattern\n",
      "       recognition literature.  Fisher's paper is a classic in the field\n",
      "       and is referenced frequently to this day.  (See Duda & Hart, for\n",
      "       example.)  The data set contains 3 classes of 50 instances each,\n",
      "       where each class refers to a type of iris plant.  One class is\n",
      "       linearly separable from the other 2; the latter are NOT linearly\n",
      "       separable from each other.\n",
      "   --- Predicted attribute: class of iris plant.\n",
      "   --- This is an exceedingly simple domain.\n",
      "   --- This data differs from the data presented in Fishers article\n",
      "\t(identified by Steve Chadwick,  spchadwick@espeedaz.net )\n",
      "\tThe 35th sample should be: 4.9,3.1,1.5,0.2,\"Iris-setosa\"\n",
      "\twhere the error is in the fourth feature.\n",
      "\tThe 38th sample: 4.9,3.6,1.4,0.1,\"Iris-setosa\"\n",
      "\twhere the errors are in the second and third features.  \n",
      "\n",
      "5. Number of Instances: 150 (50 in each of three classes)\n",
      "\n",
      "6. Number of Attributes: 4 numeric, predictive attributes and the class\n",
      "\n",
      "7. Attribute Information:\n",
      "   1. sepal length in cm\n",
      "   2. sepal width in cm\n",
      "   3. petal length in cm\n",
      "   4. petal width in cm\n",
      "   5. class: \n",
      "      -- Iris Setosa\n",
      "      -- Iris Versicolour\n",
      "      -- Iris Virginica\n",
      "\n",
      "8. Missing Attribute Values: None\n",
      "\n",
      "Summary Statistics:\n",
      "\t         Min  Max   Mean    SD   Class Correlation\n",
      "   sepal length: 4.3  7.9   5.84  0.83    0.7826   \n",
      "    sepal width: 2.0  4.4   3.05  0.43   -0.4194\n",
      "   petal length: 1.0  6.9   3.76  1.76    0.9490  (high!)\n",
      "    petal width: 0.1  2.5   1.20  0.76    0.9565  (high!)\n",
      "\n",
      "9. Class Distribution: 33.3% for each of 3 classes.\n"
     ]
    }
   ],
   "source": [
    "# open(f::Function, args...; kwargs....)\n",
    "# Apply the function f to the result of open(args...; kwargs...) and close the\n",
    "# resulting file descriptor upon completion.\n",
    "open(\"iris.names\") do io\n",
    "    while !eof(io)\n",
    "        println(readline(io))\n",
    "    end\n",
    "end;"
   ]
  },
  {
   "cell_type": "code",
   "execution_count": 33,
   "metadata": {},
   "outputs": [
    {
     "data": {
      "text/plain": [
       "69-element Array{String,1}:\n",
       " \"1. Title: Iris Plants Database\"\n",
       " \"\\tUpdated Sept 21 by C.Blake - Added discrepency information\"\n",
       " \"\"\n",
       " \"2. Sources:\"\n",
       " \"     (a) Creator: R.A. Fisher\"\n",
       " \"     (b) Donor: Michael Marshall (MARSHALL%PLU@io.arc.nasa.gov)\"\n",
       " \"     (c) Date: July, 1988\"\n",
       " \"\"\n",
       " \"3. Past Usage:\"\n",
       " \"   - Publications: too many to mention!!!  Here are a few.\"\n",
       " \"   1. Fisher,R.A. \\\"The use of multiple measurements in taxonomic problems\\\"\"\n",
       " \"      Annual Eugenics, 7, Part II, 179-188 (1936); also in \\\"Contributions\"\n",
       " \"      to Mathematical Statistics\\\" (John Wiley, NY, 1950).\"\n",
       " ⋮\n",
       " \"      -- Iris Virginica\"\n",
       " \"\"\n",
       " \"8. Missing Attribute Values: None\"\n",
       " \"\"\n",
       " \"Summary Statistics:\"\n",
       " \"\\t         Min  Max   Mean    SD   Class Correlation\"\n",
       " \"   sepal length: 4.3  7.9   5.84  0.83    0.7826   \"\n",
       " \"    sepal width: 2.0  4.4   3.05  0.43   -0.4194\"\n",
       " \"   petal length: 1.0  6.9   3.76  1.76    0.9490  (high!)\"\n",
       " \"    petal width: 0.1  2.5   1.20  0.76    0.9565  (high!)\"\n",
       " \"\"\n",
       " \"9. Class Distribution: 33.3% for each of 3 classes.\""
      ]
     },
     "execution_count": 33,
     "metadata": {},
     "output_type": "execute_result"
    }
   ],
   "source": [
    "open(io -> readlines(io), \"iris.names\")"
   ]
  },
  {
   "cell_type": "code",
   "execution_count": 34,
   "metadata": {},
   "outputs": [
    {
     "ename": "UndefVarError",
     "evalue": "UndefVarError: io not defined",
     "output_type": "error",
     "traceback": [
      "UndefVarError: io not defined",
      "",
      "Stacktrace:",
      " [1] top-level scope at In[34]:1"
     ]
    }
   ],
   "source": [
    "isopen(io)"
   ]
  },
  {
   "cell_type": "markdown",
   "metadata": {
    "colab_type": "text",
    "id": "E334I9cqwf88"
   },
   "source": [
    "### 1.3 檔案寫入"
   ]
  },
  {
   "cell_type": "code",
   "execution_count": 35,
   "metadata": {
    "colab": {},
    "colab_type": "code",
    "id": "cbOC8EgAwf8-",
    "outputId": "d0ab6cee-6986-42e3-dd70-ddd3438f3cd6"
   },
   "outputs": [
    {
     "name": "stdout",
     "output_type": "stream",
     "text": [
      "已開啟的檔案物件的類型:IOStream\n",
      "是否已開啟: true\n",
      "是否可讀取: true\n",
      "是否為唯讀: false\n",
      "是否可寫入: true\n"
     ]
    }
   ],
   "source": [
    "# 開啟檔案, 若檔案不存在就新建; 檔案存在的話, 寫入時不覆蓋原內容, 將新內容繼續添加至檔案中.\n",
    "f = open(\"hello.txt\", \"a+\")\n",
    "\n",
    "println(\"已開啟的檔案物件的類型:\", typeof(f))\n",
    "\n",
    "# 察看 IOStream 的狀態\n",
    "println(\"是否已開啟: \", isopen(f))\n",
    "println(\"是否可讀取: \", isreadable(f))\n",
    "println(\"是否為唯讀: \", isreadonly(f))\n",
    "println(\"是否可寫入: \", iswritable(f))\n",
    "\n",
    "write(f, \"Hello\\nJulia.\")\n",
    "write(f, \"Learning Julia is fun!\")\n",
    "\n",
    "close(f)"
   ]
  },
  {
   "cell_type": "markdown",
   "metadata": {},
   "source": [
    "Check that the file has been created and printed."
   ]
  },
  {
   "cell_type": "code",
   "execution_count": 41,
   "metadata": {
    "scrolled": true
   },
   "outputs": [
    {
     "name": "stdout",
     "output_type": "stream",
     "text": [
      "true\n",
      "[\"Hello\", \"Julia.Learning Julia is fun!\"]\n"
     ]
    }
   ],
   "source": [
    "println(\"hello.txt\" in readdir(pwd(); join=false, sort=true))\n",
    "open(io -> println(readlines(io)), \"hello.txt\")"
   ]
  },
  {
   "cell_type": "code",
   "execution_count": 52,
   "metadata": {},
   "outputs": [
    {
     "name": "stdout",
     "output_type": "stream",
     "text": [
      "已開啟的檔案物件的類型:IOStream\n",
      "是否已開啟: true\n",
      "是否可讀取: false\n",
      "是否為唯讀: false\n",
      "是否可寫入: true\n"
     ]
    }
   ],
   "source": [
    "# clean content and rewrite new string to file\n",
    "open(\"hello.txt\", \"w\") do f\n",
    "\n",
    "    println(\"已開啟的檔案物件的類型:\", typeof(f))\n",
    "\n",
    "    # 察看 IOStream 的狀態\n",
    "    println(\"是否已開啟: \", isopen(f))\n",
    "    println(\"是否可讀取: \", isreadable(f))\n",
    "    println(\"是否為唯讀: \", isreadonly(f))\n",
    "    println(\"是否可寫入: \", iswritable(f))\n",
    "\n",
    "    write(f, \"Use \\\"w\\\"\\n\")\n",
    "    write(f, \"Learning Julia is fun!\")\n",
    "\n",
    "end;"
   ]
  },
  {
   "cell_type": "markdown",
   "metadata": {},
   "source": [
    "Check that the file has been created and printed."
   ]
  },
  {
   "cell_type": "code",
   "execution_count": 53,
   "metadata": {
    "scrolled": true
   },
   "outputs": [
    {
     "name": "stdout",
     "output_type": "stream",
     "text": [
      "true\n",
      "[\"Use \\\"w\\\"\", \"Learning Julia is fun!\"]\n"
     ]
    }
   ],
   "source": [
    "println(\"hello.txt\" in readdir(pwd(); join=false, sort=true))\n",
    "open(io -> println(readlines(io)), \"hello.txt\")"
   ]
  },
  {
   "cell_type": "markdown",
   "metadata": {
    "colab_type": "text",
    "id": "6h42i5r0wf9G"
   },
   "source": [
    "### 1.4 讀寫緩衝 (IOBuffer)\n",
    "\n",
    "有時候因為傳輸及處理的需求，我們需要先將 stream 裡面的資料暫存，再進行後續的處理，這時候就可以使用 `IOBuffer`。\n",
    "\n",
    "`IOBuffer` 內容除了資料流本身之外，也包含了豐富的屬性來標示及做為操作 buffer 之用。使用 `dump()` 函式可以列出資料及所有屬性及其值。\n",
    "\n",
    "透過 `take!()` 函式，可以取出 buffer 內容並重置 buffer。"
   ]
  },
  {
   "cell_type": "code",
   "execution_count": 57,
   "metadata": {
    "colab": {},
    "colab_type": "code",
    "id": "Vbn0qDNiwf9H",
    "outputId": "503aafee-ed1b-4ee1-c137-45a97c2abaea"
   },
   "outputs": [
    {
     "data": {
      "text/plain": [
       "IOBuffer(data=UInt8[...], readable=true, writable=true, seekable=true, append=false, size=0, maxsize=5, ptr=1, mark=-1)"
      ]
     },
     "execution_count": 57,
     "metadata": {},
     "output_type": "execute_result"
    }
   ],
   "source": [
    "# 初始化緩衝區, 設定最大大小為5個字元(5*4 bytes)\n",
    "buff = IOBuffer(maxsize = 5)"
   ]
  },
  {
   "cell_type": "code",
   "execution_count": 59,
   "metadata": {},
   "outputs": [
    {
     "data": {
      "text/plain": [
       "Base.GenericIOBuffer{Array{UInt8,1}}"
      ]
     },
     "execution_count": 59,
     "metadata": {},
     "output_type": "execute_result"
    }
   ],
   "source": [
    "typeof(buff)"
   ]
  },
  {
   "cell_type": "code",
   "execution_count": 60,
   "metadata": {
    "colab": {},
    "colab_type": "code",
    "id": "PcP-JH9Kwf9V",
    "outputId": "61b9a23b-c03f-4e64-8c73-5a561b25635a"
   },
   "outputs": [
    {
     "data": {
      "text/plain": [
       "5-element Array{UInt8,1}:\n",
       " 0x00\n",
       " 0x00\n",
       " 0x00\n",
       " 0x00\n",
       " 0x00"
      ]
     },
     "execution_count": 60,
     "metadata": {},
     "output_type": "execute_result"
    }
   ],
   "source": [
    "# 可以看出緩衝區的內容\n",
    "buff.data"
   ]
  },
  {
   "cell_type": "code",
   "execution_count": 61,
   "metadata": {
    "colab": {},
    "colab_type": "code",
    "id": "ieLmlmHTwf9b",
    "outputId": "694cd4fc-a116-4247-9bde-35b7cf2a3355"
   },
   "outputs": [
    {
     "data": {
      "text/plain": [
       "5-element Array{UInt8,1}:\n",
       " 0x31\n",
       " 0x32\n",
       " 0x33\n",
       " 0x34\n",
       " 0x35"
      ]
     },
     "execution_count": 61,
     "metadata": {},
     "output_type": "execute_result"
    }
   ],
   "source": [
    "# 欲寫入6個字元到 buffer內, 但因超過緩衝區 maxsize, 所以僅成功寫入5個字元\n",
    "write(buff, \"123456\")\n",
    "buff.data"
   ]
  },
  {
   "cell_type": "code",
   "execution_count": 62,
   "metadata": {
    "colab": {},
    "colab_type": "code",
    "id": "I4xSkIEQwf9f",
    "outputId": "38e60b4b-e8d5-400a-a53c-60148e3a7b9a"
   },
   "outputs": [
    {
     "name": "stdout",
     "output_type": "stream",
     "text": [
      "緩衝區大小: 5\n",
      "緩衝區目前游標位置 (為 size = 1): 6\n"
     ]
    }
   ],
   "source": [
    "println(\"緩衝區大小: \", buff.size)\n",
    "println(\"緩衝區目前游標位置 (為 size = 1): \", buff.ptr)"
   ]
  },
  {
   "cell_type": "code",
   "execution_count": 63,
   "metadata": {
    "colab": {},
    "colab_type": "code",
    "id": "qxWzWji2wf9j",
    "outputId": "721cd9c4-3960-4cc1-dde8-637ab849245f"
   },
   "outputs": [
    {
     "data": {
      "text/plain": [
       "0"
      ]
     },
     "execution_count": 63,
     "metadata": {},
     "output_type": "execute_result"
    }
   ],
   "source": [
    "# 因為緩衝區已滿, 所以寫入成功字元數為 0\n",
    "write(buff, \"789\")"
   ]
  },
  {
   "cell_type": "code",
   "execution_count": 64,
   "metadata": {
    "colab": {},
    "colab_type": "code",
    "id": "DJJ_-GrWwf98",
    "outputId": "6f096c3f-1e20-45ee-e7f6-b6cca89d86b1"
   },
   "outputs": [
    {
     "name": "stdout",
     "output_type": "stream",
     "text": [
      "Base.GenericIOBuffer{Array{UInt8,1}}\n",
      "  data: Array{UInt8}((5,)) UInt8[0x31, 0x32, 0x33, 0x34, 0x35]\n",
      "  readable: Bool true\n",
      "  writable: Bool true\n",
      "  seekable: Bool true\n",
      "  append: Bool false\n",
      "  size: Int64 5\n",
      "  maxsize: Int64 5\n",
      "  ptr: Int64 6\n",
      "  mark: Int64 -1\n"
     ]
    }
   ],
   "source": [
    "# 查看緩衝區狀態\n",
    "dump(buff)"
   ]
  },
  {
   "cell_type": "code",
   "execution_count": 65,
   "metadata": {
    "colab": {},
    "colab_type": "code",
    "id": "VthVM7DPwf-N",
    "outputId": "cad6f893-40d5-4fc4-92b7-10108519b7f7"
   },
   "outputs": [
    {
     "data": {
      "text/plain": [
       "5-element Array{UInt8,1}:\n",
       " 0x31\n",
       " 0x32\n",
       " 0x33\n",
       " 0x34\n",
       " 0x35"
      ]
     },
     "execution_count": 65,
     "metadata": {},
     "output_type": "execute_result"
    }
   ],
   "source": [
    "# 取出緩衝區內容並且重置緩衝區\n",
    "take!(buff)"
   ]
  },
  {
   "cell_type": "code",
   "execution_count": 66,
   "metadata": {
    "colab": {},
    "colab_type": "code",
    "id": "BhznCKuowf-T",
    "outputId": "7f018b43-8e6a-470a-8c31-36d2133af21b"
   },
   "outputs": [
    {
     "name": "stdout",
     "output_type": "stream",
     "text": [
      "Base.GenericIOBuffer{Array{UInt8,1}}\n",
      "  data: Array{UInt8}((5,)) UInt8[0x00, 0x00, 0x00, 0x00, 0x00]\n",
      "  readable: Bool true\n",
      "  writable: Bool true\n",
      "  seekable: Bool true\n",
      "  append: Bool false\n",
      "  size: Int64 0\n",
      "  maxsize: Int64 5\n",
      "  ptr: Int64 1\n",
      "  mark: Int64 -1\n"
     ]
    }
   ],
   "source": [
    "dump(buff)\n",
    "# 可以看出緩衝區已經被清空回到初始狀態"
   ]
  },
  {
   "cell_type": "markdown",
   "metadata": {
    "colab_type": "text",
    "id": "kp7zqwiuwf-h"
   },
   "source": [
    "### 1.5 序列化 (Serialization)\n",
    "\n",
    "序列化可以將資料在不同的類型與 stream 之間互相轉換，例如在資料傳輸之前先將字串 `serialize()`，在收到資料後進行反序列化 `deserialize()` 還原資料。"
   ]
  },
  {
   "cell_type": "code",
   "execution_count": 67,
   "metadata": {
    "colab": {},
    "colab_type": "code",
    "id": "-rb9OSxQwf-u"
   },
   "outputs": [],
   "source": [
    "using Serialization"
   ]
  },
  {
   "cell_type": "code",
   "execution_count": 70,
   "metadata": {
    "colab": {},
    "colab_type": "code",
    "id": "dE-NsK2xwf-z",
    "outputId": "137e0a00-3db5-4729-8c46-89014f8d4710"
   },
   "outputs": [
    {
     "name": "stdout",
     "output_type": "stream",
     "text": [
      "Base.GenericIOBuffer{Array{UInt8,1}}\n",
      "  data: Array{UInt8}((32,)) UInt8[0x00, 0x00, 0x00, 0x00, 0x00, 0x00, 0x00, 0x00, 0x00, 0x00  …  0x00, 0x00, 0x00, 0x00, 0x00, 0x00, 0x00, 0x00, 0x00, 0x00]\n",
      "  readable: Bool true\n",
      "  writable: Bool true\n",
      "  seekable: Bool true\n",
      "  append: Bool false\n",
      "  size: Int64 0\n",
      "  maxsize: Int64 9223372036854775807\n",
      "  ptr: Int64 1\n",
      "  mark: Int64 -1\n",
      "Serializer{Base.GenericIOBuffer{Array{UInt8,1}}}\n",
      "Base.GenericIOBuffer{Array{UInt8,1}}\n",
      "  data: Array{UInt8}((32,)) UInt8[0x37, 0x4a, 0x4c, 0x09, 0x04, 0x00, 0x00, 0x00, 0x0f, 0x48  …  0x0f, 0x75, 0x0f, 0x6c, 0x0f, 0x69, 0x0f, 0x61, 0x00, 0x00]\n",
      "  readable: Bool true\n",
      "  writable: Bool true\n",
      "  seekable: Bool true\n",
      "  append: Bool false\n",
      "  size: Int64 30\n",
      "  maxsize: Int64 9223372036854775807\n",
      "  ptr: Int64 31\n",
      "  mark: Int64 -1\n"
     ]
    }
   ],
   "source": [
    "# 序列化\n",
    "str = \"Hello Julia\"\n",
    "\n",
    "io = IOBuffer()\n",
    "s = Serializer(io)\n",
    "dump(io)\n",
    "println(typeof(s))\n",
    "Serialization.writeheader(s)\n",
    "for i in str\n",
    "    # serialize(stream::IO, value) or serialize(filename::AbstractString, value)\n",
    "    serialize(s, i)\n",
    "end\n",
    "\n",
    "dump(io)"
   ]
  },
  {
   "cell_type": "code",
   "execution_count": 71,
   "metadata": {
    "colab": {},
    "colab_type": "code",
    "id": "9-Buy8zkwf_i",
    "outputId": "a4ef5adc-6894-49a5-cfe3-b7366ed8fee9"
   },
   "outputs": [
    {
     "name": "stdout",
     "output_type": "stream",
     "text": [
      "deserialize(io) = 'H'\n",
      "deserialize(io) = 'e'\n",
      "deserialize(io) = 'l'\n",
      "deserialize(io) = 'l'\n",
      "deserialize(io) = 'o'\n",
      "deserialize(io) = ' '\n",
      "deserialize(io) = 'J'\n",
      "deserialize(io) = 'u'\n",
      "deserialize(io) = 'l'\n",
      "deserialize(io) = 'i'\n",
      "deserialize(io) = 'a'\n"
     ]
    }
   ],
   "source": [
    "# 反序列化\n",
    "io = IOBuffer(take!(io))\n",
    "\n",
    "while !eof(io)\n",
    "    @show deserialize(io)\n",
    "end"
   ]
  },
  {
   "cell_type": "markdown",
   "metadata": {
    "colab_type": "text",
    "id": "H-KYsNxAwf_n"
   },
   "source": [
    "## 2. CSV 及 JSON 檔案讀取及寫入\n",
    "\n",
    "### 2.1 CSV.jl: 讀取及寫入 CSV 檔"
   ]
  },
  {
   "cell_type": "code",
   "execution_count": 76,
   "metadata": {
    "colab": {},
    "colab_type": "code",
    "id": "h4Z2IRyQwf_o"
   },
   "outputs": [],
   "source": [
    "using Pkg"
   ]
  },
  {
   "cell_type": "code",
   "execution_count": 77,
   "metadata": {
    "colab": {},
    "colab_type": "code",
    "id": "WVc6qaO_wf_t",
    "outputId": "8d6a94ae-7e1f-4337-d383-629c8144e3e2"
   },
   "outputs": [
    {
     "name": "stderr",
     "output_type": "stream",
     "text": [
      "\u001b[32m\u001b[1m   Updating\u001b[22m\u001b[39m registry at `C:\\Users\\kai\\.julia\\registries\\General`\n",
      "\u001b[32m\u001b[1m   Updating\u001b[22m\u001b[39m git-repo `https://github.com/JuliaRegistries/General.git`\n"
     ]
    },
    {
     "name": "stdout",
     "output_type": "stream",
     "text": [
      "\u001b[2K\u001b[?25h[1mFetching:\u001b[22m\u001b[39m [========================================>]  100.0 %.0 %>                    ]  48.1 %\u001b[36m\u001b[1mFetching:\u001b[22m\u001b[39m [==============================>          ]  74.6 %"
     ]
    },
    {
     "name": "stderr",
     "output_type": "stream",
     "text": [
      "\u001b[32m\u001b[1m  Resolving\u001b[22m\u001b[39m package versions...\n",
      "\u001b[32m\u001b[1m   Updating\u001b[22m\u001b[39m `C:\\Users\\kai\\.julia\\environments\\v1.4\\Project.toml`\n",
      "\u001b[90m [no changes]\u001b[39m\n",
      "\u001b[32m\u001b[1m   Updating\u001b[22m\u001b[39m `C:\\Users\\kai\\.julia\\environments\\v1.4\\Manifest.toml`\n",
      "\u001b[90m [no changes]\u001b[39m\n"
     ]
    }
   ],
   "source": [
    "# 如果尚未安裝, 需先安裝套件\n",
    "Pkg.add(PackageSpec(name=\"CSV\", version=\"0.5.26\"))"
   ]
  },
  {
   "cell_type": "code",
   "execution_count": 78,
   "metadata": {
    "colab": {},
    "colab_type": "code",
    "id": "TD67DlJWwf_x",
    "outputId": "2c854cec-b971-4647-b9bc-8f7b1ee71b8d"
   },
   "outputs": [
    {
     "name": "stderr",
     "output_type": "stream",
     "text": [
      "┌ Warning: Pkg.installed() is deprecated\n",
      "└ @ Pkg D:\\buildbot\\worker\\package_win64\\build\\usr\\share\\julia\\stdlib\\v1.4\\Pkg\\src\\Pkg.jl:531\n"
     ]
    },
    {
     "data": {
      "text/plain": [
       "v\"0.5.26\""
      ]
     },
     "execution_count": 78,
     "metadata": {},
     "output_type": "execute_result"
    }
   ],
   "source": [
    "# 目前安裝版本\n",
    "Pkg.installed()[\"CSV\"]"
   ]
  },
  {
   "cell_type": "code",
   "execution_count": 79,
   "metadata": {
    "colab": {},
    "colab_type": "code",
    "id": "avm_57gWwf_3",
    "outputId": "212ec357-1804-4519-debc-a294ef6b88a1"
   },
   "outputs": [],
   "source": [
    "using CSV"
   ]
  },
  {
   "cell_type": "markdown",
   "metadata": {
    "colab_type": "text",
    "id": "5gcZA3r7wf_7"
   },
   "source": [
    "以下的資料集為 UCI Machine Learning Repository 的 Auto MPG Data Set\n",
    "\n",
    "如果沒有 header 的話, 可以設定 header 為 false. delim 可以指定分隔符號, 若未指定的話, 讀取時會自動判斷.\n",
    "\n",
    "在有空值的資料列, 讀取時會顯示 warning, 可以忽略"
   ]
  },
  {
   "cell_type": "code",
   "execution_count": 80,
   "metadata": {
    "colab": {},
    "colab_type": "code",
    "id": "wh7cxPT5wf_8",
    "outputId": "f532f16f-6c23-4e5e-a64f-90c6107a27d0",
    "scrolled": true
   },
   "outputs": [
    {
     "name": "stdout",
     "output_type": "stream",
     "text": [
      "thread = 1 warning: parsed expected 9 columns, but didn't reach end of line on data row: 29. Ignoring any extra columns on this row\n",
      "thread = 1 warning: parsed expected 9 columns, but didn't reach end of line on data row: 33. Ignoring any extra columns on this row\n",
      "thread = 1 warning: parsed expected 9 columns, but didn't reach end of line on data row: 127. Ignoring any extra columns on this row\n",
      "thread = 1 warning: parsed expected 9 columns, but didn't reach end of line on data row: 331. Ignoring any extra columns on this row\n",
      "thread = 1 warning: parsed expected 9 columns, but didn't reach end of line on data row: 337. Ignoring any extra columns on this row\n",
      "thread = 1 warning: parsed expected 9 columns, but didn't reach end of line on data row: 355. Ignoring any extra columns on this row\n",
      "thread = 1 warning: parsed expected 9 columns, but didn't reach end of line on data row: 375. Ignoring any extra columns on this row\n"
     ]
    },
    {
     "data": {
      "text/html": [
       "<table class=\"data-frame\"><thead><tr><th></th><th>Column1</th><th>Column2</th><th>Column3</th><th>Column4</th><th>Column5</th><th>Column6</th><th>Column7</th><th>Column8</th><th>Column9</th></tr><tr><th></th><th>Float64</th><th>Int64⍰</th><th>Float64</th><th>String</th><th>Float64⍰</th><th>Float64⍰</th><th>Float64</th><th>Float64</th><th>String</th></tr></thead><tbody><p>398 rows × 9 columns</p><tr><th>1</th><td>18.0</td><td>8</td><td>307.0</td><td>130.0</td><td>3504.0</td><td>12.0</td><td>70.0</td><td>1.0</td><td>chevrolet chevelle malibu</td></tr><tr><th>2</th><td>15.0</td><td>8</td><td>350.0</td><td>165.0</td><td>3693.0</td><td>11.5</td><td>70.0</td><td>1.0</td><td>buick skylark 320</td></tr><tr><th>3</th><td>18.0</td><td>8</td><td>318.0</td><td>150.0</td><td>3436.0</td><td>11.0</td><td>70.0</td><td>1.0</td><td>plymouth satellite</td></tr><tr><th>4</th><td>16.0</td><td>8</td><td>304.0</td><td>150.0</td><td>3433.0</td><td>12.0</td><td>70.0</td><td>1.0</td><td>amc rebel sst</td></tr><tr><th>5</th><td>17.0</td><td>8</td><td>302.0</td><td>140.0</td><td>3449.0</td><td>10.5</td><td>70.0</td><td>1.0</td><td>ford torino</td></tr><tr><th>6</th><td>15.0</td><td>8</td><td>429.0</td><td>198.0</td><td>4341.0</td><td>10.0</td><td>70.0</td><td>1.0</td><td>ford galaxie 500</td></tr><tr><th>7</th><td>14.0</td><td>8</td><td>454.0</td><td>220.0</td><td>4354.0</td><td>9.0</td><td>70.0</td><td>1.0</td><td>chevrolet impala</td></tr><tr><th>8</th><td>14.0</td><td>8</td><td>440.0</td><td>215.0</td><td>4312.0</td><td>8.5</td><td>70.0</td><td>1.0</td><td>plymouth fury iii</td></tr><tr><th>9</th><td>14.0</td><td>8</td><td>455.0</td><td>225.0</td><td>4425.0</td><td>10.0</td><td>70.0</td><td>1.0</td><td>pontiac catalina</td></tr><tr><th>10</th><td>15.0</td><td>8</td><td>390.0</td><td>190.0</td><td>3850.0</td><td>8.5</td><td>70.0</td><td>1.0</td><td>amc ambassador dpl</td></tr><tr><th>11</th><td>15.0</td><td>8</td><td>383.0</td><td>170.0</td><td>3563.0</td><td>10.0</td><td>70.0</td><td>1.0</td><td>dodge challenger se</td></tr><tr><th>12</th><td>14.0</td><td>8</td><td>340.0</td><td>160.0</td><td>3609.0</td><td>8.0</td><td>70.0</td><td>1.0</td><td>plymouth 'cuda 340</td></tr><tr><th>13</th><td>15.0</td><td>8</td><td>400.0</td><td>150.0</td><td>3761.0</td><td>9.5</td><td>70.0</td><td>1.0</td><td>chevrolet monte carlo</td></tr><tr><th>14</th><td>14.0</td><td>8</td><td>455.0</td><td>225.0</td><td>3086.0</td><td>10.0</td><td>70.0</td><td>1.0</td><td>buick estate wagon (sw)</td></tr><tr><th>15</th><td>24.0</td><td>4</td><td>113.0</td><td>95.00</td><td>2372.0</td><td>15.0</td><td>70.0</td><td>3.0</td><td>toyota corona mark ii</td></tr><tr><th>16</th><td>22.0</td><td>6</td><td>198.0</td><td>95.00</td><td>2833.0</td><td>15.5</td><td>70.0</td><td>1.0</td><td>plymouth duster</td></tr><tr><th>17</th><td>18.0</td><td>6</td><td>199.0</td><td>97.00</td><td>2774.0</td><td>15.5</td><td>70.0</td><td>1.0</td><td>amc hornet</td></tr><tr><th>18</th><td>21.0</td><td>6</td><td>200.0</td><td>85.00</td><td>2587.0</td><td>16.0</td><td>70.0</td><td>1.0</td><td>ford maverick</td></tr><tr><th>19</th><td>27.0</td><td>4</td><td>97.0</td><td>88.00</td><td>2130.0</td><td>14.5</td><td>70.0</td><td>3.0</td><td>datsun pl510</td></tr><tr><th>20</th><td>26.0</td><td>4</td><td>97.0</td><td>46.00</td><td>1835.0</td><td>20.5</td><td>70.0</td><td>2.0</td><td>volkswagen 1131 deluxe sedan</td></tr><tr><th>21</th><td>25.0</td><td>4</td><td>110.0</td><td>87.00</td><td>2672.0</td><td>17.5</td><td>70.0</td><td>2.0</td><td>peugeot 504</td></tr><tr><th>22</th><td>24.0</td><td>4</td><td>107.0</td><td>90.00</td><td>2430.0</td><td>14.5</td><td>70.0</td><td>2.0</td><td>audi 100 ls</td></tr><tr><th>23</th><td>25.0</td><td>4</td><td>104.0</td><td>95.00</td><td>2375.0</td><td>17.5</td><td>70.0</td><td>2.0</td><td>saab 99e</td></tr><tr><th>24</th><td>26.0</td><td>4</td><td>121.0</td><td>113.0</td><td>2234.0</td><td>12.5</td><td>70.0</td><td>2.0</td><td>bmw 2002</td></tr><tr><th>25</th><td>21.0</td><td>6</td><td>199.0</td><td>90.00</td><td>2648.0</td><td>15.0</td><td>70.0</td><td>1.0</td><td>amc gremlin</td></tr><tr><th>26</th><td>10.0</td><td>8</td><td>360.0</td><td>215.0</td><td>4615.0</td><td>14.0</td><td>70.0</td><td>1.0</td><td>ford f250</td></tr><tr><th>27</th><td>10.0</td><td>8</td><td>307.0</td><td>200.0</td><td>4376.0</td><td>15.0</td><td>70.0</td><td>1.0</td><td>chevy c20</td></tr><tr><th>28</th><td>11.0</td><td>8</td><td>318.0</td><td>210.0</td><td>4382.0</td><td>13.5</td><td>70.0</td><td>1.0</td><td>dodge d200</td></tr><tr><th>29</th><td>9.0</td><td>missing</td><td>8.0</td><td> 304.0</td><td>193.0</td><td>4732.0</td><td>18.5</td><td>70.0</td><td>1</td></tr><tr><th>30</th><td>27.0</td><td>4</td><td>97.0</td><td>88.00</td><td>2130.0</td><td>14.5</td><td>71.0</td><td>3.0</td><td>datsun pl510</td></tr><tr><th>&vellip;</th><td>&vellip;</td><td>&vellip;</td><td>&vellip;</td><td>&vellip;</td><td>&vellip;</td><td>&vellip;</td><td>&vellip;</td><td>&vellip;</td><td>&vellip;</td></tr></tbody></table>"
      ],
      "text/latex": [
       "\\begin{tabular}{r|ccccccccc}\n",
       "\t& Column1 & Column2 & Column3 & Column4 & Column5 & Column6 & Column7 & Column8 & Column9\\\\\n",
       "\t\\hline\n",
       "\t& Float64 & Int64⍰ & Float64 & String & Float64⍰ & Float64⍰ & Float64 & Float64 & String\\\\\n",
       "\t\\hline\n",
       "\t1 & 18.0 & 8 & 307.0 & 130.0 & 3504.0 & 12.0 & 70.0 & 1.0 & chevrolet chevelle malibu \\\\\n",
       "\t2 & 15.0 & 8 & 350.0 & 165.0 & 3693.0 & 11.5 & 70.0 & 1.0 & buick skylark 320 \\\\\n",
       "\t3 & 18.0 & 8 & 318.0 & 150.0 & 3436.0 & 11.0 & 70.0 & 1.0 & plymouth satellite \\\\\n",
       "\t4 & 16.0 & 8 & 304.0 & 150.0 & 3433.0 & 12.0 & 70.0 & 1.0 & amc rebel sst \\\\\n",
       "\t5 & 17.0 & 8 & 302.0 & 140.0 & 3449.0 & 10.5 & 70.0 & 1.0 & ford torino \\\\\n",
       "\t6 & 15.0 & 8 & 429.0 & 198.0 & 4341.0 & 10.0 & 70.0 & 1.0 & ford galaxie 500 \\\\\n",
       "\t7 & 14.0 & 8 & 454.0 & 220.0 & 4354.0 & 9.0 & 70.0 & 1.0 & chevrolet impala \\\\\n",
       "\t8 & 14.0 & 8 & 440.0 & 215.0 & 4312.0 & 8.5 & 70.0 & 1.0 & plymouth fury iii \\\\\n",
       "\t9 & 14.0 & 8 & 455.0 & 225.0 & 4425.0 & 10.0 & 70.0 & 1.0 & pontiac catalina \\\\\n",
       "\t10 & 15.0 & 8 & 390.0 & 190.0 & 3850.0 & 8.5 & 70.0 & 1.0 & amc ambassador dpl \\\\\n",
       "\t11 & 15.0 & 8 & 383.0 & 170.0 & 3563.0 & 10.0 & 70.0 & 1.0 & dodge challenger se \\\\\n",
       "\t12 & 14.0 & 8 & 340.0 & 160.0 & 3609.0 & 8.0 & 70.0 & 1.0 & plymouth 'cuda 340 \\\\\n",
       "\t13 & 15.0 & 8 & 400.0 & 150.0 & 3761.0 & 9.5 & 70.0 & 1.0 & chevrolet monte carlo \\\\\n",
       "\t14 & 14.0 & 8 & 455.0 & 225.0 & 3086.0 & 10.0 & 70.0 & 1.0 & buick estate wagon (sw) \\\\\n",
       "\t15 & 24.0 & 4 & 113.0 & 95.00 & 2372.0 & 15.0 & 70.0 & 3.0 & toyota corona mark ii \\\\\n",
       "\t16 & 22.0 & 6 & 198.0 & 95.00 & 2833.0 & 15.5 & 70.0 & 1.0 & plymouth duster \\\\\n",
       "\t17 & 18.0 & 6 & 199.0 & 97.00 & 2774.0 & 15.5 & 70.0 & 1.0 & amc hornet \\\\\n",
       "\t18 & 21.0 & 6 & 200.0 & 85.00 & 2587.0 & 16.0 & 70.0 & 1.0 & ford maverick \\\\\n",
       "\t19 & 27.0 & 4 & 97.0 & 88.00 & 2130.0 & 14.5 & 70.0 & 3.0 & datsun pl510 \\\\\n",
       "\t20 & 26.0 & 4 & 97.0 & 46.00 & 1835.0 & 20.5 & 70.0 & 2.0 & volkswagen 1131 deluxe sedan \\\\\n",
       "\t21 & 25.0 & 4 & 110.0 & 87.00 & 2672.0 & 17.5 & 70.0 & 2.0 & peugeot 504 \\\\\n",
       "\t22 & 24.0 & 4 & 107.0 & 90.00 & 2430.0 & 14.5 & 70.0 & 2.0 & audi 100 ls \\\\\n",
       "\t23 & 25.0 & 4 & 104.0 & 95.00 & 2375.0 & 17.5 & 70.0 & 2.0 & saab 99e \\\\\n",
       "\t24 & 26.0 & 4 & 121.0 & 113.0 & 2234.0 & 12.5 & 70.0 & 2.0 & bmw 2002 \\\\\n",
       "\t25 & 21.0 & 6 & 199.0 & 90.00 & 2648.0 & 15.0 & 70.0 & 1.0 & amc gremlin \\\\\n",
       "\t26 & 10.0 & 8 & 360.0 & 215.0 & 4615.0 & 14.0 & 70.0 & 1.0 & ford f250 \\\\\n",
       "\t27 & 10.0 & 8 & 307.0 & 200.0 & 4376.0 & 15.0 & 70.0 & 1.0 & chevy c20 \\\\\n",
       "\t28 & 11.0 & 8 & 318.0 & 210.0 & 4382.0 & 13.5 & 70.0 & 1.0 & dodge d200 \\\\\n",
       "\t29 & 9.0 &  & 8.0 &  304.0 & 193.0 & 4732.0 & 18.5 & 70.0 & 1 \\\\\n",
       "\t30 & 27.0 & 4 & 97.0 & 88.00 & 2130.0 & 14.5 & 71.0 & 3.0 & datsun pl510 \\\\\n",
       "\t$\\dots$ & $\\dots$ & $\\dots$ & $\\dots$ & $\\dots$ & $\\dots$ & $\\dots$ & $\\dots$ & $\\dots$ & $\\dots$ \\\\\n",
       "\\end{tabular}\n"
      ],
      "text/plain": [
       "398×9 DataFrames.DataFrame. Omitted printing of 2 columns\n",
       "│ Row │ Column1 │ Column2 │ Column3 │ Column4 │ Column5  │ Column6  │ Column7 │\n",
       "│     │ \u001b[90mFloat64\u001b[39m │ \u001b[90mInt64⍰\u001b[39m  │ \u001b[90mFloat64\u001b[39m │ \u001b[90mString\u001b[39m  │ \u001b[90mFloat64⍰\u001b[39m │ \u001b[90mFloat64⍰\u001b[39m │ \u001b[90mFloat64\u001b[39m │\n",
       "├─────┼─────────┼─────────┼─────────┼─────────┼──────────┼──────────┼─────────┤\n",
       "│ 1   │ 18.0    │ 8       │ 307.0   │ 130.0   │ 3504.0   │ 12.0     │ 70.0    │\n",
       "│ 2   │ 15.0    │ 8       │ 350.0   │ 165.0   │ 3693.0   │ 11.5     │ 70.0    │\n",
       "│ 3   │ 18.0    │ 8       │ 318.0   │ 150.0   │ 3436.0   │ 11.0     │ 70.0    │\n",
       "│ 4   │ 16.0    │ 8       │ 304.0   │ 150.0   │ 3433.0   │ 12.0     │ 70.0    │\n",
       "│ 5   │ 17.0    │ 8       │ 302.0   │ 140.0   │ 3449.0   │ 10.5     │ 70.0    │\n",
       "│ 6   │ 15.0    │ 8       │ 429.0   │ 198.0   │ 4341.0   │ 10.0     │ 70.0    │\n",
       "│ 7   │ 14.0    │ 8       │ 454.0   │ 220.0   │ 4354.0   │ 9.0      │ 70.0    │\n",
       "│ 8   │ 14.0    │ 8       │ 440.0   │ 215.0   │ 4312.0   │ 8.5      │ 70.0    │\n",
       "│ 9   │ 14.0    │ 8       │ 455.0   │ 225.0   │ 4425.0   │ 10.0     │ 70.0    │\n",
       "│ 10  │ 15.0    │ 8       │ 390.0   │ 190.0   │ 3850.0   │ 8.5      │ 70.0    │\n",
       "⋮\n",
       "│ 388 │ 38.0    │ 6       │ 262.0   │ 85.00   │ 3015.0   │ 17.0     │ 82.0    │\n",
       "│ 389 │ 26.0    │ 4       │ 156.0   │ 92.00   │ 2585.0   │ 14.5     │ 82.0    │\n",
       "│ 390 │ 22.0    │ 6       │ 232.0   │ 112.0   │ 2835.0   │ 14.7     │ 82.0    │\n",
       "│ 391 │ 32.0    │ 4       │ 144.0   │ 96.00   │ 2665.0   │ 13.9     │ 82.0    │\n",
       "│ 392 │ 36.0    │ 4       │ 135.0   │ 84.00   │ 2370.0   │ 13.0     │ 82.0    │\n",
       "│ 393 │ 27.0    │ 4       │ 151.0   │ 90.00   │ 2950.0   │ 17.3     │ 82.0    │\n",
       "│ 394 │ 27.0    │ 4       │ 140.0   │ 86.00   │ 2790.0   │ 15.6     │ 82.0    │\n",
       "│ 395 │ 44.0    │ 4       │ 97.0    │ 52.00   │ 2130.0   │ 24.6     │ 82.0    │\n",
       "│ 396 │ 32.0    │ 4       │ 135.0   │ 84.00   │ 2295.0   │ 11.6     │ 82.0    │\n",
       "│ 397 │ 28.0    │ 4       │ 120.0   │ 79.00   │ 2625.0   │ 18.6     │ 82.0    │\n",
       "│ 398 │ 31.0    │ 4       │ 119.0   │ 82.00   │ 2720.0   │ 19.4     │ 82.0    │"
      ]
     },
     "execution_count": 80,
     "metadata": {},
     "output_type": "execute_result"
    }
   ],
   "source": [
    "df = CSV.read(\"auto-mpg.data\"; header=false, delim=\",\")"
   ]
  },
  {
   "cell_type": "markdown",
   "metadata": {
    "colab_type": "text",
    "id": "DV9cf7ouwgAA"
   },
   "source": [
    "空值會自動取代為 missing 值"
   ]
  },
  {
   "cell_type": "code",
   "execution_count": 81,
   "metadata": {
    "colab": {},
    "colab_type": "code",
    "id": "z_C40Ae7wgAB",
    "outputId": "624fdc44-e1d8-4678-855d-4bd322de27fa"
   },
   "outputs": [
    {
     "data": {
      "text/html": [
       "<p>DataFrameRow (9 columns)</p><table class=\"data-frame\"><thead><tr><th></th><th>Column1</th><th>Column2</th><th>Column3</th><th>Column4</th><th>Column5</th><th>Column6</th><th>Column7</th><th>Column8</th><th>Column9</th></tr><tr><th></th><th>Float64</th><th>Int64⍰</th><th>Float64</th><th>String</th><th>Float64⍰</th><th>Float64⍰</th><th>Float64</th><th>Float64</th><th>String</th></tr></thead><tbody><tr><th>29</th><td>9.0</td><td>missing</td><td>8.0</td><td> 304.0</td><td>193.0</td><td>4732.0</td><td>18.5</td><td>70.0</td><td>1</td></tr></tbody></table>"
      ],
      "text/latex": [
       "\\begin{tabular}{r|ccccccccc}\n",
       "\t& Column1 & Column2 & Column3 & Column4 & Column5 & Column6 & Column7 & Column8 & Column9\\\\\n",
       "\t\\hline\n",
       "\t& Float64 & Int64⍰ & Float64 & String & Float64⍰ & Float64⍰ & Float64 & Float64 & String\\\\\n",
       "\t\\hline\n",
       "\t29 & 9.0 &  & 8.0 &  304.0 & 193.0 & 4732.0 & 18.5 & 70.0 & 1 \\\\\n",
       "\\end{tabular}\n"
      ],
      "text/plain": [
       "DataFrameRow. Omitted printing of 2 columns\n",
       "│ Row │ Column1 │ Column2 │ Column3 │ Column4 │ Column5  │ Column6  │ Column7 │\n",
       "│     │ \u001b[90mFloat64\u001b[39m │ \u001b[90mInt64⍰\u001b[39m  │ \u001b[90mFloat64\u001b[39m │ \u001b[90mString\u001b[39m  │ \u001b[90mFloat64⍰\u001b[39m │ \u001b[90mFloat64⍰\u001b[39m │ \u001b[90mFloat64\u001b[39m │\n",
       "├─────┼─────────┼─────────┼─────────┼─────────┼──────────┼──────────┼─────────┤\n",
       "│ 29  │ 9.0     │ \u001b[90mmissing\u001b[39m │ 8.0     │  304.0  │ 193.0    │ 4732.0   │ 18.5    │"
      ]
     },
     "execution_count": 81,
     "metadata": {},
     "output_type": "execute_result"
    }
   ],
   "source": [
    "df[29, :]"
   ]
  },
  {
   "cell_type": "markdown",
   "metadata": {
    "colab_type": "text",
    "id": "LC1bxzdxwgAG"
   },
   "source": [
    "如果沒有 header 的話, 也可以將 column 名稱設定至 header"
   ]
  },
  {
   "cell_type": "code",
   "execution_count": 82,
   "metadata": {
    "colab": {},
    "colab_type": "code",
    "id": "N9-6kk-dwgAI",
    "outputId": "5072ee25-1081-416a-d9fd-4383cdffe59b",
    "scrolled": true
   },
   "outputs": [
    {
     "name": "stdout",
     "output_type": "stream",
     "text": [
      "thread = 1 warning: parsed expected 9 columns, but didn't reach end of line on data row: 29. Ignoring any extra columns on this row\n",
      "thread = 1 warning: parsed expected 9 columns, but didn't reach end of line on data row: 33. Ignoring any extra columns on this row\n",
      "thread = 1 warning: parsed expected 9 columns, but didn't reach end of line on data row: 127. Ignoring any extra columns on this row\n",
      "thread = 1 warning: parsed expected 9 columns, but didn't reach end of line on data row: 331. Ignoring any extra columns on this row\n",
      "thread = 1 warning: parsed expected 9 columns, but didn't reach end of line on data row: 337. Ignoring any extra columns on this row\n",
      "thread = 1 warning: parsed expected 9 columns, but didn't reach end of line on data row: 355. Ignoring any extra columns on this row\n",
      "thread = 1 warning: parsed expected 9 columns, but didn't reach end of line on data row: 375. Ignoring any extra columns on this row\n"
     ]
    },
    {
     "data": {
      "text/html": [
       "<table class=\"data-frame\"><thead><tr><th></th><th>mpg</th><th>cylinders</th><th>displacement</th><th>horsepower</th><th>weight</th><th>acceleration</th><th>model year</th></tr><tr><th></th><th>Float64</th><th>Int64⍰</th><th>Float64</th><th>String</th><th>Float64⍰</th><th>Float64⍰</th><th>Float64</th></tr></thead><tbody><p>398 rows × 9 columns (omitted printing of 2 columns)</p><tr><th>1</th><td>18.0</td><td>8</td><td>307.0</td><td>130.0</td><td>3504.0</td><td>12.0</td><td>70.0</td></tr><tr><th>2</th><td>15.0</td><td>8</td><td>350.0</td><td>165.0</td><td>3693.0</td><td>11.5</td><td>70.0</td></tr><tr><th>3</th><td>18.0</td><td>8</td><td>318.0</td><td>150.0</td><td>3436.0</td><td>11.0</td><td>70.0</td></tr><tr><th>4</th><td>16.0</td><td>8</td><td>304.0</td><td>150.0</td><td>3433.0</td><td>12.0</td><td>70.0</td></tr><tr><th>5</th><td>17.0</td><td>8</td><td>302.0</td><td>140.0</td><td>3449.0</td><td>10.5</td><td>70.0</td></tr><tr><th>6</th><td>15.0</td><td>8</td><td>429.0</td><td>198.0</td><td>4341.0</td><td>10.0</td><td>70.0</td></tr><tr><th>7</th><td>14.0</td><td>8</td><td>454.0</td><td>220.0</td><td>4354.0</td><td>9.0</td><td>70.0</td></tr><tr><th>8</th><td>14.0</td><td>8</td><td>440.0</td><td>215.0</td><td>4312.0</td><td>8.5</td><td>70.0</td></tr><tr><th>9</th><td>14.0</td><td>8</td><td>455.0</td><td>225.0</td><td>4425.0</td><td>10.0</td><td>70.0</td></tr><tr><th>10</th><td>15.0</td><td>8</td><td>390.0</td><td>190.0</td><td>3850.0</td><td>8.5</td><td>70.0</td></tr><tr><th>11</th><td>15.0</td><td>8</td><td>383.0</td><td>170.0</td><td>3563.0</td><td>10.0</td><td>70.0</td></tr><tr><th>12</th><td>14.0</td><td>8</td><td>340.0</td><td>160.0</td><td>3609.0</td><td>8.0</td><td>70.0</td></tr><tr><th>13</th><td>15.0</td><td>8</td><td>400.0</td><td>150.0</td><td>3761.0</td><td>9.5</td><td>70.0</td></tr><tr><th>14</th><td>14.0</td><td>8</td><td>455.0</td><td>225.0</td><td>3086.0</td><td>10.0</td><td>70.0</td></tr><tr><th>15</th><td>24.0</td><td>4</td><td>113.0</td><td>95.00</td><td>2372.0</td><td>15.0</td><td>70.0</td></tr><tr><th>16</th><td>22.0</td><td>6</td><td>198.0</td><td>95.00</td><td>2833.0</td><td>15.5</td><td>70.0</td></tr><tr><th>17</th><td>18.0</td><td>6</td><td>199.0</td><td>97.00</td><td>2774.0</td><td>15.5</td><td>70.0</td></tr><tr><th>18</th><td>21.0</td><td>6</td><td>200.0</td><td>85.00</td><td>2587.0</td><td>16.0</td><td>70.0</td></tr><tr><th>19</th><td>27.0</td><td>4</td><td>97.0</td><td>88.00</td><td>2130.0</td><td>14.5</td><td>70.0</td></tr><tr><th>20</th><td>26.0</td><td>4</td><td>97.0</td><td>46.00</td><td>1835.0</td><td>20.5</td><td>70.0</td></tr><tr><th>21</th><td>25.0</td><td>4</td><td>110.0</td><td>87.00</td><td>2672.0</td><td>17.5</td><td>70.0</td></tr><tr><th>22</th><td>24.0</td><td>4</td><td>107.0</td><td>90.00</td><td>2430.0</td><td>14.5</td><td>70.0</td></tr><tr><th>23</th><td>25.0</td><td>4</td><td>104.0</td><td>95.00</td><td>2375.0</td><td>17.5</td><td>70.0</td></tr><tr><th>24</th><td>26.0</td><td>4</td><td>121.0</td><td>113.0</td><td>2234.0</td><td>12.5</td><td>70.0</td></tr><tr><th>25</th><td>21.0</td><td>6</td><td>199.0</td><td>90.00</td><td>2648.0</td><td>15.0</td><td>70.0</td></tr><tr><th>26</th><td>10.0</td><td>8</td><td>360.0</td><td>215.0</td><td>4615.0</td><td>14.0</td><td>70.0</td></tr><tr><th>27</th><td>10.0</td><td>8</td><td>307.0</td><td>200.0</td><td>4376.0</td><td>15.0</td><td>70.0</td></tr><tr><th>28</th><td>11.0</td><td>8</td><td>318.0</td><td>210.0</td><td>4382.0</td><td>13.5</td><td>70.0</td></tr><tr><th>29</th><td>9.0</td><td>missing</td><td>8.0</td><td> 304.0</td><td>193.0</td><td>4732.0</td><td>18.5</td></tr><tr><th>30</th><td>27.0</td><td>4</td><td>97.0</td><td>88.00</td><td>2130.0</td><td>14.5</td><td>71.0</td></tr><tr><th>&vellip;</th><td>&vellip;</td><td>&vellip;</td><td>&vellip;</td><td>&vellip;</td><td>&vellip;</td><td>&vellip;</td><td>&vellip;</td></tr></tbody></table>"
      ],
      "text/latex": [
       "\\begin{tabular}{r|cccccccc}\n",
       "\t& mpg & cylinders & displacement & horsepower & weight & acceleration & model year & \\\\\n",
       "\t\\hline\n",
       "\t& Float64 & Int64⍰ & Float64 & String & Float64⍰ & Float64⍰ & Float64 & \\\\\n",
       "\t\\hline\n",
       "\t1 & 18.0 & 8 & 307.0 & 130.0 & 3504.0 & 12.0 & 70.0 & $\\dots$ \\\\\n",
       "\t2 & 15.0 & 8 & 350.0 & 165.0 & 3693.0 & 11.5 & 70.0 & $\\dots$ \\\\\n",
       "\t3 & 18.0 & 8 & 318.0 & 150.0 & 3436.0 & 11.0 & 70.0 & $\\dots$ \\\\\n",
       "\t4 & 16.0 & 8 & 304.0 & 150.0 & 3433.0 & 12.0 & 70.0 & $\\dots$ \\\\\n",
       "\t5 & 17.0 & 8 & 302.0 & 140.0 & 3449.0 & 10.5 & 70.0 & $\\dots$ \\\\\n",
       "\t6 & 15.0 & 8 & 429.0 & 198.0 & 4341.0 & 10.0 & 70.0 & $\\dots$ \\\\\n",
       "\t7 & 14.0 & 8 & 454.0 & 220.0 & 4354.0 & 9.0 & 70.0 & $\\dots$ \\\\\n",
       "\t8 & 14.0 & 8 & 440.0 & 215.0 & 4312.0 & 8.5 & 70.0 & $\\dots$ \\\\\n",
       "\t9 & 14.0 & 8 & 455.0 & 225.0 & 4425.0 & 10.0 & 70.0 & $\\dots$ \\\\\n",
       "\t10 & 15.0 & 8 & 390.0 & 190.0 & 3850.0 & 8.5 & 70.0 & $\\dots$ \\\\\n",
       "\t11 & 15.0 & 8 & 383.0 & 170.0 & 3563.0 & 10.0 & 70.0 & $\\dots$ \\\\\n",
       "\t12 & 14.0 & 8 & 340.0 & 160.0 & 3609.0 & 8.0 & 70.0 & $\\dots$ \\\\\n",
       "\t13 & 15.0 & 8 & 400.0 & 150.0 & 3761.0 & 9.5 & 70.0 & $\\dots$ \\\\\n",
       "\t14 & 14.0 & 8 & 455.0 & 225.0 & 3086.0 & 10.0 & 70.0 & $\\dots$ \\\\\n",
       "\t15 & 24.0 & 4 & 113.0 & 95.00 & 2372.0 & 15.0 & 70.0 & $\\dots$ \\\\\n",
       "\t16 & 22.0 & 6 & 198.0 & 95.00 & 2833.0 & 15.5 & 70.0 & $\\dots$ \\\\\n",
       "\t17 & 18.0 & 6 & 199.0 & 97.00 & 2774.0 & 15.5 & 70.0 & $\\dots$ \\\\\n",
       "\t18 & 21.0 & 6 & 200.0 & 85.00 & 2587.0 & 16.0 & 70.0 & $\\dots$ \\\\\n",
       "\t19 & 27.0 & 4 & 97.0 & 88.00 & 2130.0 & 14.5 & 70.0 & $\\dots$ \\\\\n",
       "\t20 & 26.0 & 4 & 97.0 & 46.00 & 1835.0 & 20.5 & 70.0 & $\\dots$ \\\\\n",
       "\t21 & 25.0 & 4 & 110.0 & 87.00 & 2672.0 & 17.5 & 70.0 & $\\dots$ \\\\\n",
       "\t22 & 24.0 & 4 & 107.0 & 90.00 & 2430.0 & 14.5 & 70.0 & $\\dots$ \\\\\n",
       "\t23 & 25.0 & 4 & 104.0 & 95.00 & 2375.0 & 17.5 & 70.0 & $\\dots$ \\\\\n",
       "\t24 & 26.0 & 4 & 121.0 & 113.0 & 2234.0 & 12.5 & 70.0 & $\\dots$ \\\\\n",
       "\t25 & 21.0 & 6 & 199.0 & 90.00 & 2648.0 & 15.0 & 70.0 & $\\dots$ \\\\\n",
       "\t26 & 10.0 & 8 & 360.0 & 215.0 & 4615.0 & 14.0 & 70.0 & $\\dots$ \\\\\n",
       "\t27 & 10.0 & 8 & 307.0 & 200.0 & 4376.0 & 15.0 & 70.0 & $\\dots$ \\\\\n",
       "\t28 & 11.0 & 8 & 318.0 & 210.0 & 4382.0 & 13.5 & 70.0 & $\\dots$ \\\\\n",
       "\t29 & 9.0 &  & 8.0 &  304.0 & 193.0 & 4732.0 & 18.5 & $\\dots$ \\\\\n",
       "\t30 & 27.0 & 4 & 97.0 & 88.00 & 2130.0 & 14.5 & 71.0 & $\\dots$ \\\\\n",
       "\t$\\dots$ & $\\dots$ & $\\dots$ & $\\dots$ & $\\dots$ & $\\dots$ & $\\dots$ & $\\dots$ &  \\\\\n",
       "\\end{tabular}\n"
      ],
      "text/plain": [
       "398×9 DataFrames.DataFrame. Omitted printing of 4 columns\n",
       "│ Row │ mpg     │ cylinders │ displacement │ horsepower │ weight   │\n",
       "│     │ \u001b[90mFloat64\u001b[39m │ \u001b[90mInt64⍰\u001b[39m    │ \u001b[90mFloat64\u001b[39m      │ \u001b[90mString\u001b[39m     │ \u001b[90mFloat64⍰\u001b[39m │\n",
       "├─────┼─────────┼───────────┼──────────────┼────────────┼──────────┤\n",
       "│ 1   │ 18.0    │ 8         │ 307.0        │ 130.0      │ 3504.0   │\n",
       "│ 2   │ 15.0    │ 8         │ 350.0        │ 165.0      │ 3693.0   │\n",
       "│ 3   │ 18.0    │ 8         │ 318.0        │ 150.0      │ 3436.0   │\n",
       "│ 4   │ 16.0    │ 8         │ 304.0        │ 150.0      │ 3433.0   │\n",
       "│ 5   │ 17.0    │ 8         │ 302.0        │ 140.0      │ 3449.0   │\n",
       "│ 6   │ 15.0    │ 8         │ 429.0        │ 198.0      │ 4341.0   │\n",
       "│ 7   │ 14.0    │ 8         │ 454.0        │ 220.0      │ 4354.0   │\n",
       "│ 8   │ 14.0    │ 8         │ 440.0        │ 215.0      │ 4312.0   │\n",
       "│ 9   │ 14.0    │ 8         │ 455.0        │ 225.0      │ 4425.0   │\n",
       "│ 10  │ 15.0    │ 8         │ 390.0        │ 190.0      │ 3850.0   │\n",
       "⋮\n",
       "│ 388 │ 38.0    │ 6         │ 262.0        │ 85.00      │ 3015.0   │\n",
       "│ 389 │ 26.0    │ 4         │ 156.0        │ 92.00      │ 2585.0   │\n",
       "│ 390 │ 22.0    │ 6         │ 232.0        │ 112.0      │ 2835.0   │\n",
       "│ 391 │ 32.0    │ 4         │ 144.0        │ 96.00      │ 2665.0   │\n",
       "│ 392 │ 36.0    │ 4         │ 135.0        │ 84.00      │ 2370.0   │\n",
       "│ 393 │ 27.0    │ 4         │ 151.0        │ 90.00      │ 2950.0   │\n",
       "│ 394 │ 27.0    │ 4         │ 140.0        │ 86.00      │ 2790.0   │\n",
       "│ 395 │ 44.0    │ 4         │ 97.0         │ 52.00      │ 2130.0   │\n",
       "│ 396 │ 32.0    │ 4         │ 135.0        │ 84.00      │ 2295.0   │\n",
       "│ 397 │ 28.0    │ 4         │ 120.0        │ 79.00      │ 2625.0   │\n",
       "│ 398 │ 31.0    │ 4         │ 119.0        │ 82.00      │ 2720.0   │"
      ]
     },
     "execution_count": 82,
     "metadata": {},
     "output_type": "execute_result"
    }
   ],
   "source": [
    "df = CSV.read(\"auto-mpg.data\", header=[\"mpg\", \"cylinders\", \"displacement\", \"horsepower\", \"weight\", \"acceleration\", \"model year\", \"origin\", \"car name\"], delim=',')"
   ]
  },
  {
   "cell_type": "code",
   "execution_count": 83,
   "metadata": {
    "colab": {},
    "colab_type": "code",
    "id": "rhcJkyJZwgAM",
    "outputId": "e2057f0d-d22d-4dcc-cdd4-e9eec84b3b60"
   },
   "outputs": [
    {
     "name": "stderr",
     "output_type": "stream",
     "text": [
      "\u001b[32m\u001b[1m  Resolving\u001b[22m\u001b[39m package versions...\n",
      "\u001b[32m\u001b[1m   Updating\u001b[22m\u001b[39m `C:\\Users\\kai\\.julia\\environments\\v1.4\\Project.toml`\n",
      " \u001b[90m [a93c6f00]\u001b[39m\u001b[92m + DataFrames v0.20.2\u001b[39m\n",
      "\u001b[32m\u001b[1m   Updating\u001b[22m\u001b[39m `C:\\Users\\kai\\.julia\\environments\\v1.4\\Manifest.toml`\n",
      "\u001b[90m [no changes]\u001b[39m\n"
     ]
    },
    {
     "name": "stdout",
     "output_type": "stream",
     "text": [
      "5×9 DataFrame\n",
      "│ Row │ mpg     │ cylinders │ displacement │ horsepower │ weight   │\n",
      "│     │ \u001b[90mFloat64\u001b[39m │ \u001b[90mInt64⍰\u001b[39m    │ \u001b[90mFloat64\u001b[39m      │ \u001b[90mString\u001b[39m     │ \u001b[90mFloat64⍰\u001b[39m │\n",
      "├─────┼─────────┼───────────┼──────────────┼────────────┼──────────┤\n",
      "│ 1   │ 18.0    │ 8         │ 307.0        │ 130.0      │ 3504.0   │\n",
      "│ 2   │ 15.0    │ 8         │ 350.0        │ 165.0      │ 3693.0   │\n",
      "│ 3   │ 18.0    │ 8         │ 318.0        │ 150.0      │ 3436.0   │\n",
      "│ 4   │ 16.0    │ 8         │ 304.0        │ 150.0      │ 3433.0   │\n",
      "│ 5   │ 17.0    │ 8         │ 302.0        │ 140.0      │ 3449.0   │\n",
      "\n",
      "│ Row │ acceleration │ model year │ origin  │ car name                  │\n",
      "│     │ \u001b[90mFloat64⍰\u001b[39m     │ \u001b[90mFloat64\u001b[39m    │ \u001b[90mFloat64\u001b[39m │ \u001b[90mString\u001b[39m                    │\n",
      "├─────┼──────────────┼────────────┼─────────┼───────────────────────────┤\n",
      "│ 1   │ 12.0         │ 70.0       │ 1.0     │ chevrolet chevelle malibu │\n",
      "│ 2   │ 11.5         │ 70.0       │ 1.0     │ buick skylark 320         │\n",
      "│ 3   │ 11.0         │ 70.0       │ 1.0     │ plymouth satellite        │\n",
      "│ 4   │ 12.0         │ 70.0       │ 1.0     │ amc rebel sst             │\n",
      "│ 5   │ 10.5         │ 70.0       │ 1.0     │ ford torino               │"
     ]
    }
   ],
   "source": [
    "# DataFrames 的用法, 會在之後的內容中進行詳細介紹和實作\n",
    "# 此處僅是呼叫 DataFrames.show() 函式來顯示所有 column\n",
    "\n",
    "# 如果尚未安裝, 需先安裝套件\n",
    "Pkg.add(PackageSpec(name=\"DataFrames\", version=\"0.20.2\"))\n",
    "\n",
    "using DataFrames\n",
    "\n",
    "# 顥示所有 column\n",
    "show(df[1:5, :], allcols=true)"
   ]
  },
  {
   "cell_type": "markdown",
   "metadata": {
    "colab_type": "text",
    "id": "vu4Vk1CbwgAQ"
   },
   "source": [
    "#### 從 Zip 壓縮檔讀取 CSV 檔案"
   ]
  },
  {
   "cell_type": "code",
   "execution_count": 84,
   "metadata": {
    "colab": {},
    "colab_type": "code",
    "id": "4y0FSo4CwgAS",
    "outputId": "e2f26c20-2810-44eb-cbf8-9386566fb469"
   },
   "outputs": [
    {
     "name": "stderr",
     "output_type": "stream",
     "text": [
      "\u001b[32m\u001b[1m  Resolving\u001b[22m\u001b[39m package versions...\n",
      "\u001b[32m\u001b[1m  Installed\u001b[22m\u001b[39m ZipFile ─ v0.8.4\n",
      "\u001b[32m\u001b[1m   Updating\u001b[22m\u001b[39m `C:\\Users\\kai\\.julia\\environments\\v1.4\\Project.toml`\n",
      " \u001b[90m [a5390f91]\u001b[39m\u001b[92m + ZipFile v0.8.4\u001b[39m\n",
      "\u001b[32m\u001b[1m   Updating\u001b[22m\u001b[39m `C:\\Users\\kai\\.julia\\environments\\v1.4\\Manifest.toml`\n",
      " \u001b[90m [a5390f91]\u001b[39m\u001b[92m + ZipFile v0.8.4\u001b[39m\n",
      "\u001b[32m\u001b[1m   Building\u001b[22m\u001b[39m ZipFile → `C:\\Users\\kai\\.julia\\packages\\ZipFile\\DW0Qr\\deps\\build.log`\n"
     ]
    }
   ],
   "source": [
    "# 如果尚未安裝, 需先安裝套件\n",
    "Pkg.add(PackageSpec(name=\"ZipFile\", version=\"0.8.4\"))"
   ]
  },
  {
   "cell_type": "code",
   "execution_count": 86,
   "metadata": {
    "colab": {},
    "colab_type": "code",
    "id": "EPMmL_7mwgAc",
    "outputId": "8b3bae21-f777-40cd-de7e-52b28dbe8cd4"
   },
   "outputs": [
    {
     "data": {
      "text/plain": [
       "ZipFile.Reader for IOStream(<file iris.zip>) containing 1 files:\n",
       "\n",
       "uncompressedsize method  mtime            name\n",
       "----------------------------------------------\n",
       "            4549 Store   2019-10-02 17-08 iris.data\n"
      ]
     },
     "execution_count": 86,
     "metadata": {},
     "output_type": "execute_result"
    }
   ],
   "source": [
    "using ZipFile\n",
    "\n",
    "z = ZipFile.Reader(\"iris.zip\")"
   ]
  },
  {
   "cell_type": "code",
   "execution_count": 85,
   "metadata": {
    "colab": {},
    "colab_type": "code",
    "id": "EPMmL_7mwgAc",
    "outputId": "8b3bae21-f777-40cd-de7e-52b28dbe8cd4",
    "scrolled": true
   },
   "outputs": [
    {
     "name": "stderr",
     "output_type": "stream",
     "text": [
      "┌ Info: Precompiling ZipFile [a5390f91-8eb1-5f08-bee0-b1d1ffed6cea]\n",
      "└ @ Base loading.jl:1260\n"
     ]
    },
    {
     "data": {
      "text/html": [
       "<table class=\"data-frame\"><thead><tr><th></th><th>Column1</th><th>Column2</th><th>Column3</th><th>Column4</th><th>Column5</th></tr><tr><th></th><th>Float64</th><th>Float64</th><th>Float64</th><th>Float64</th><th>String</th></tr></thead><tbody><p>150 rows × 5 columns</p><tr><th>1</th><td>5.1</td><td>3.5</td><td>1.4</td><td>0.2</td><td>Iris-setosa</td></tr><tr><th>2</th><td>4.9</td><td>3.0</td><td>1.4</td><td>0.2</td><td>Iris-setosa</td></tr><tr><th>3</th><td>4.7</td><td>3.2</td><td>1.3</td><td>0.2</td><td>Iris-setosa</td></tr><tr><th>4</th><td>4.6</td><td>3.1</td><td>1.5</td><td>0.2</td><td>Iris-setosa</td></tr><tr><th>5</th><td>5.0</td><td>3.6</td><td>1.4</td><td>0.2</td><td>Iris-setosa</td></tr><tr><th>6</th><td>5.4</td><td>3.9</td><td>1.7</td><td>0.4</td><td>Iris-setosa</td></tr><tr><th>7</th><td>4.6</td><td>3.4</td><td>1.4</td><td>0.3</td><td>Iris-setosa</td></tr><tr><th>8</th><td>5.0</td><td>3.4</td><td>1.5</td><td>0.2</td><td>Iris-setosa</td></tr><tr><th>9</th><td>4.4</td><td>2.9</td><td>1.4</td><td>0.2</td><td>Iris-setosa</td></tr><tr><th>10</th><td>4.9</td><td>3.1</td><td>1.5</td><td>0.1</td><td>Iris-setosa</td></tr><tr><th>11</th><td>5.4</td><td>3.7</td><td>1.5</td><td>0.2</td><td>Iris-setosa</td></tr><tr><th>12</th><td>4.8</td><td>3.4</td><td>1.6</td><td>0.2</td><td>Iris-setosa</td></tr><tr><th>13</th><td>4.8</td><td>3.0</td><td>1.4</td><td>0.1</td><td>Iris-setosa</td></tr><tr><th>14</th><td>4.3</td><td>3.0</td><td>1.1</td><td>0.1</td><td>Iris-setosa</td></tr><tr><th>15</th><td>5.8</td><td>4.0</td><td>1.2</td><td>0.2</td><td>Iris-setosa</td></tr><tr><th>16</th><td>5.7</td><td>4.4</td><td>1.5</td><td>0.4</td><td>Iris-setosa</td></tr><tr><th>17</th><td>5.4</td><td>3.9</td><td>1.3</td><td>0.4</td><td>Iris-setosa</td></tr><tr><th>18</th><td>5.1</td><td>3.5</td><td>1.4</td><td>0.3</td><td>Iris-setosa</td></tr><tr><th>19</th><td>5.7</td><td>3.8</td><td>1.7</td><td>0.3</td><td>Iris-setosa</td></tr><tr><th>20</th><td>5.1</td><td>3.8</td><td>1.5</td><td>0.3</td><td>Iris-setosa</td></tr><tr><th>21</th><td>5.4</td><td>3.4</td><td>1.7</td><td>0.2</td><td>Iris-setosa</td></tr><tr><th>22</th><td>5.1</td><td>3.7</td><td>1.5</td><td>0.4</td><td>Iris-setosa</td></tr><tr><th>23</th><td>4.6</td><td>3.6</td><td>1.0</td><td>0.2</td><td>Iris-setosa</td></tr><tr><th>24</th><td>5.1</td><td>3.3</td><td>1.7</td><td>0.5</td><td>Iris-setosa</td></tr><tr><th>25</th><td>4.8</td><td>3.4</td><td>1.9</td><td>0.2</td><td>Iris-setosa</td></tr><tr><th>26</th><td>5.0</td><td>3.0</td><td>1.6</td><td>0.2</td><td>Iris-setosa</td></tr><tr><th>27</th><td>5.0</td><td>3.4</td><td>1.6</td><td>0.4</td><td>Iris-setosa</td></tr><tr><th>28</th><td>5.2</td><td>3.5</td><td>1.5</td><td>0.2</td><td>Iris-setosa</td></tr><tr><th>29</th><td>5.2</td><td>3.4</td><td>1.4</td><td>0.2</td><td>Iris-setosa</td></tr><tr><th>30</th><td>4.7</td><td>3.2</td><td>1.6</td><td>0.2</td><td>Iris-setosa</td></tr><tr><th>&vellip;</th><td>&vellip;</td><td>&vellip;</td><td>&vellip;</td><td>&vellip;</td><td>&vellip;</td></tr></tbody></table>"
      ],
      "text/latex": [
       "\\begin{tabular}{r|ccccc}\n",
       "\t& Column1 & Column2 & Column3 & Column4 & Column5\\\\\n",
       "\t\\hline\n",
       "\t& Float64 & Float64 & Float64 & Float64 & String\\\\\n",
       "\t\\hline\n",
       "\t1 & 5.1 & 3.5 & 1.4 & 0.2 & Iris-setosa \\\\\n",
       "\t2 & 4.9 & 3.0 & 1.4 & 0.2 & Iris-setosa \\\\\n",
       "\t3 & 4.7 & 3.2 & 1.3 & 0.2 & Iris-setosa \\\\\n",
       "\t4 & 4.6 & 3.1 & 1.5 & 0.2 & Iris-setosa \\\\\n",
       "\t5 & 5.0 & 3.6 & 1.4 & 0.2 & Iris-setosa \\\\\n",
       "\t6 & 5.4 & 3.9 & 1.7 & 0.4 & Iris-setosa \\\\\n",
       "\t7 & 4.6 & 3.4 & 1.4 & 0.3 & Iris-setosa \\\\\n",
       "\t8 & 5.0 & 3.4 & 1.5 & 0.2 & Iris-setosa \\\\\n",
       "\t9 & 4.4 & 2.9 & 1.4 & 0.2 & Iris-setosa \\\\\n",
       "\t10 & 4.9 & 3.1 & 1.5 & 0.1 & Iris-setosa \\\\\n",
       "\t11 & 5.4 & 3.7 & 1.5 & 0.2 & Iris-setosa \\\\\n",
       "\t12 & 4.8 & 3.4 & 1.6 & 0.2 & Iris-setosa \\\\\n",
       "\t13 & 4.8 & 3.0 & 1.4 & 0.1 & Iris-setosa \\\\\n",
       "\t14 & 4.3 & 3.0 & 1.1 & 0.1 & Iris-setosa \\\\\n",
       "\t15 & 5.8 & 4.0 & 1.2 & 0.2 & Iris-setosa \\\\\n",
       "\t16 & 5.7 & 4.4 & 1.5 & 0.4 & Iris-setosa \\\\\n",
       "\t17 & 5.4 & 3.9 & 1.3 & 0.4 & Iris-setosa \\\\\n",
       "\t18 & 5.1 & 3.5 & 1.4 & 0.3 & Iris-setosa \\\\\n",
       "\t19 & 5.7 & 3.8 & 1.7 & 0.3 & Iris-setosa \\\\\n",
       "\t20 & 5.1 & 3.8 & 1.5 & 0.3 & Iris-setosa \\\\\n",
       "\t21 & 5.4 & 3.4 & 1.7 & 0.2 & Iris-setosa \\\\\n",
       "\t22 & 5.1 & 3.7 & 1.5 & 0.4 & Iris-setosa \\\\\n",
       "\t23 & 4.6 & 3.6 & 1.0 & 0.2 & Iris-setosa \\\\\n",
       "\t24 & 5.1 & 3.3 & 1.7 & 0.5 & Iris-setosa \\\\\n",
       "\t25 & 4.8 & 3.4 & 1.9 & 0.2 & Iris-setosa \\\\\n",
       "\t26 & 5.0 & 3.0 & 1.6 & 0.2 & Iris-setosa \\\\\n",
       "\t27 & 5.0 & 3.4 & 1.6 & 0.4 & Iris-setosa \\\\\n",
       "\t28 & 5.2 & 3.5 & 1.5 & 0.2 & Iris-setosa \\\\\n",
       "\t29 & 5.2 & 3.4 & 1.4 & 0.2 & Iris-setosa \\\\\n",
       "\t30 & 4.7 & 3.2 & 1.6 & 0.2 & Iris-setosa \\\\\n",
       "\t$\\dots$ & $\\dots$ & $\\dots$ & $\\dots$ & $\\dots$ & $\\dots$ \\\\\n",
       "\\end{tabular}\n"
      ],
      "text/plain": [
       "150×5 DataFrame\n",
       "│ Row │ Column1 │ Column2 │ Column3 │ Column4 │ Column5        │\n",
       "│     │ \u001b[90mFloat64\u001b[39m │ \u001b[90mFloat64\u001b[39m │ \u001b[90mFloat64\u001b[39m │ \u001b[90mFloat64\u001b[39m │ \u001b[90mString\u001b[39m         │\n",
       "├─────┼─────────┼─────────┼─────────┼─────────┼────────────────┤\n",
       "│ 1   │ 5.1     │ 3.5     │ 1.4     │ 0.2     │ Iris-setosa    │\n",
       "│ 2   │ 4.9     │ 3.0     │ 1.4     │ 0.2     │ Iris-setosa    │\n",
       "│ 3   │ 4.7     │ 3.2     │ 1.3     │ 0.2     │ Iris-setosa    │\n",
       "│ 4   │ 4.6     │ 3.1     │ 1.5     │ 0.2     │ Iris-setosa    │\n",
       "│ 5   │ 5.0     │ 3.6     │ 1.4     │ 0.2     │ Iris-setosa    │\n",
       "│ 6   │ 5.4     │ 3.9     │ 1.7     │ 0.4     │ Iris-setosa    │\n",
       "│ 7   │ 4.6     │ 3.4     │ 1.4     │ 0.3     │ Iris-setosa    │\n",
       "│ 8   │ 5.0     │ 3.4     │ 1.5     │ 0.2     │ Iris-setosa    │\n",
       "│ 9   │ 4.4     │ 2.9     │ 1.4     │ 0.2     │ Iris-setosa    │\n",
       "│ 10  │ 4.9     │ 3.1     │ 1.5     │ 0.1     │ Iris-setosa    │\n",
       "⋮\n",
       "│ 140 │ 6.9     │ 3.1     │ 5.4     │ 2.1     │ Iris-virginica │\n",
       "│ 141 │ 6.7     │ 3.1     │ 5.6     │ 2.4     │ Iris-virginica │\n",
       "│ 142 │ 6.9     │ 3.1     │ 5.1     │ 2.3     │ Iris-virginica │\n",
       "│ 143 │ 5.8     │ 2.7     │ 5.1     │ 1.9     │ Iris-virginica │\n",
       "│ 144 │ 6.8     │ 3.2     │ 5.9     │ 2.3     │ Iris-virginica │\n",
       "│ 145 │ 6.7     │ 3.3     │ 5.7     │ 2.5     │ Iris-virginica │\n",
       "│ 146 │ 6.7     │ 3.0     │ 5.2     │ 2.3     │ Iris-virginica │\n",
       "│ 147 │ 6.3     │ 2.5     │ 5.0     │ 1.9     │ Iris-virginica │\n",
       "│ 148 │ 6.5     │ 3.0     │ 5.2     │ 2.0     │ Iris-virginica │\n",
       "│ 149 │ 6.2     │ 3.4     │ 5.4     │ 2.3     │ Iris-virginica │\n",
       "│ 150 │ 5.9     │ 3.0     │ 5.1     │ 1.8     │ Iris-virginica │"
      ]
     },
     "execution_count": 85,
     "metadata": {},
     "output_type": "execute_result"
    }
   ],
   "source": [
    "df = CSV.read(z.files[1], header=false)"
   ]
  },
  {
   "cell_type": "markdown",
   "metadata": {
    "colab_type": "text",
    "id": "rdGECiI1wgAg"
   },
   "source": [
    "#### 將 DataFrame 寫入 CSV 檔案"
   ]
  },
  {
   "cell_type": "code",
   "execution_count": 92,
   "metadata": {
    "colab": {},
    "colab_type": "code",
    "id": "8YsYIZkBwgAh",
    "outputId": "f31af19e-497f-4f1f-85f8-16ec699f0718"
   },
   "outputs": [
    {
     "data": {
      "text/plain": [
       "\"a.csv\""
      ]
     },
     "execution_count": 92,
     "metadata": {},
     "output_type": "execute_result"
    }
   ],
   "source": [
    "CSV.write(\"a.csv\", df; delim=\";\", header=[\"sepalLength\", \"sepalWidth\", \"petalLength\", \"petalWidth\", \"species\"])"
   ]
  },
  {
   "cell_type": "markdown",
   "metadata": {
    "colab_type": "text",
    "id": "VKNf3FMOwgAx"
   },
   "source": [
    "### 2.2. JSON.jl: 讀取及寫入 JSON 檔"
   ]
  },
  {
   "cell_type": "code",
   "execution_count": 93,
   "metadata": {
    "colab": {},
    "colab_type": "code",
    "id": "5zMwI32KwgAy",
    "outputId": "c2f84758-a109-4982-e5d7-c1aa22e2103a"
   },
   "outputs": [
    {
     "name": "stderr",
     "output_type": "stream",
     "text": [
      "\u001b[32m\u001b[1m  Resolving\u001b[22m\u001b[39m package versions...\n",
      "\u001b[32m\u001b[1m   Updating\u001b[22m\u001b[39m `C:\\Users\\kai\\.julia\\environments\\v1.4\\Project.toml`\n",
      " \u001b[90m [682c06a0]\u001b[39m\u001b[92m + JSON v0.21.0\u001b[39m\n",
      "\u001b[32m\u001b[1m   Updating\u001b[22m\u001b[39m `C:\\Users\\kai\\.julia\\environments\\v1.4\\Manifest.toml`\n",
      "\u001b[90m [no changes]\u001b[39m\n"
     ]
    }
   ],
   "source": [
    "# 如果尚未安裝, 需先安裝套件\n",
    "Pkg.add(PackageSpec(name=\"JSON\", version=\"0.21.0\"))"
   ]
  },
  {
   "cell_type": "code",
   "execution_count": 94,
   "metadata": {
    "colab": {},
    "colab_type": "code",
    "id": "vHLBbJ0uwgA6"
   },
   "outputs": [],
   "source": [
    "using JSON"
   ]
  },
  {
   "cell_type": "markdown",
   "metadata": {
    "colab_type": "text",
    "id": "hZYjqeiSwgA-"
   },
   "source": [
    "從 JSON 檔讀取 UCI Machine Learning Repository Iris data set"
   ]
  },
  {
   "cell_type": "code",
   "execution_count": 95,
   "metadata": {
    "colab": {},
    "colab_type": "code",
    "id": "4pg0dnv3wgA_",
    "outputId": "c5ce4d3e-7fe6-482b-8ad7-7d599d7cd15d"
   },
   "outputs": [
    {
     "data": {
      "text/plain": [
       "150-element Array{Any,1}:\n",
       " Dict{String,Any}(\"petalLength\" => 1.4,\"sepalWidth\" => 3.5,\"sepalLength\" => 5.1,\"petalWidth\" => 0.2,\"species\" => \"setosa\")\n",
       " Dict{String,Any}(\"petalLength\" => 1.4,\"sepalWidth\" => 3.0,\"sepalLength\" => 4.9,\"petalWidth\" => 0.2,\"species\" => \"setosa\")\n",
       " Dict{String,Any}(\"petalLength\" => 1.3,\"sepalWidth\" => 3.2,\"sepalLength\" => 4.7,\"petalWidth\" => 0.2,\"species\" => \"setosa\")\n",
       " Dict{String,Any}(\"petalLength\" => 1.5,\"sepalWidth\" => 3.1,\"sepalLength\" => 4.6,\"petalWidth\" => 0.2,\"species\" => \"setosa\")\n",
       " Dict{String,Any}(\"petalLength\" => 1.4,\"sepalWidth\" => 3.6,\"sepalLength\" => 5.0,\"petalWidth\" => 0.2,\"species\" => \"setosa\")\n",
       " Dict{String,Any}(\"petalLength\" => 1.7,\"sepalWidth\" => 3.9,\"sepalLength\" => 5.4,\"petalWidth\" => 0.4,\"species\" => \"setosa\")\n",
       " Dict{String,Any}(\"petalLength\" => 1.4,\"sepalWidth\" => 3.4,\"sepalLength\" => 4.6,\"petalWidth\" => 0.3,\"species\" => \"setosa\")\n",
       " Dict{String,Any}(\"petalLength\" => 1.5,\"sepalWidth\" => 3.4,\"sepalLength\" => 5.0,\"petalWidth\" => 0.2,\"species\" => \"setosa\")\n",
       " Dict{String,Any}(\"petalLength\" => 1.4,\"sepalWidth\" => 2.9,\"sepalLength\" => 4.4,\"petalWidth\" => 0.2,\"species\" => \"setosa\")\n",
       " Dict{String,Any}(\"petalLength\" => 1.5,\"sepalWidth\" => 3.1,\"sepalLength\" => 4.9,\"petalWidth\" => 0.1,\"species\" => \"setosa\")\n",
       " Dict{String,Any}(\"petalLength\" => 1.5,\"sepalWidth\" => 3.7,\"sepalLength\" => 5.4,\"petalWidth\" => 0.2,\"species\" => \"setosa\")\n",
       " Dict{String,Any}(\"petalLength\" => 1.6,\"sepalWidth\" => 3.4,\"sepalLength\" => 4.8,\"petalWidth\" => 0.2,\"species\" => \"setosa\")\n",
       " Dict{String,Any}(\"petalLength\" => 1.4,\"sepalWidth\" => 3.0,\"sepalLength\" => 4.8,\"petalWidth\" => 0.1,\"species\" => \"setosa\")\n",
       " ⋮\n",
       " Dict{String,Any}(\"petalLength\" => 4.8,\"sepalWidth\" => 3.0,\"sepalLength\" => 6.0,\"petalWidth\" => 1.8,\"species\" => \"virginica\")\n",
       " Dict{String,Any}(\"petalLength\" => 5.4,\"sepalWidth\" => 3.1,\"sepalLength\" => 6.9,\"petalWidth\" => 2.1,\"species\" => \"virginica\")\n",
       " Dict{String,Any}(\"petalLength\" => 5.6,\"sepalWidth\" => 3.1,\"sepalLength\" => 6.7,\"petalWidth\" => 2.4,\"species\" => \"virginica\")\n",
       " Dict{String,Any}(\"petalLength\" => 5.1,\"sepalWidth\" => 3.1,\"sepalLength\" => 6.9,\"petalWidth\" => 2.3,\"species\" => \"virginica\")\n",
       " Dict{String,Any}(\"petalLength\" => 5.1,\"sepalWidth\" => 2.7,\"sepalLength\" => 5.8,\"petalWidth\" => 1.9,\"species\" => \"virginica\")\n",
       " Dict{String,Any}(\"petalLength\" => 5.9,\"sepalWidth\" => 3.2,\"sepalLength\" => 6.8,\"petalWidth\" => 2.3,\"species\" => \"virginica\")\n",
       " Dict{String,Any}(\"petalLength\" => 5.7,\"sepalWidth\" => 3.3,\"sepalLength\" => 6.7,\"petalWidth\" => 2.5,\"species\" => \"virginica\")\n",
       " Dict{String,Any}(\"petalLength\" => 5.2,\"sepalWidth\" => 3.0,\"sepalLength\" => 6.7,\"petalWidth\" => 2.3,\"species\" => \"virginica\")\n",
       " Dict{String,Any}(\"petalLength\" => 5.0,\"sepalWidth\" => 2.5,\"sepalLength\" => 6.3,\"petalWidth\" => 1.9,\"species\" => \"virginica\")\n",
       " Dict{String,Any}(\"petalLength\" => 5.2,\"sepalWidth\" => 3.0,\"sepalLength\" => 6.5,\"petalWidth\" => 2.0,\"species\" => \"virginica\")\n",
       " Dict{String,Any}(\"petalLength\" => 5.4,\"sepalWidth\" => 3.4,\"sepalLength\" => 6.2,\"petalWidth\" => 2.3,\"species\" => \"virginica\")\n",
       " Dict{String,Any}(\"petalLength\" => 5.1,\"sepalWidth\" => 3.0,\"sepalLength\" => 5.9,\"petalWidth\" => 1.8,\"species\" => \"virginica\")"
      ]
     },
     "execution_count": 95,
     "metadata": {},
     "output_type": "execute_result"
    }
   ],
   "source": [
    "j = JSON.parsefile(\"iris.json\")"
   ]
  },
  {
   "cell_type": "code",
   "execution_count": 96,
   "metadata": {
    "colab": {},
    "colab_type": "code",
    "id": "w_kv_A0XwgBE",
    "outputId": "695a0c1d-18d1-4537-8fe1-36b4fd8266b7"
   },
   "outputs": [
    {
     "data": {
      "text/plain": [
       "Array{Any,1}"
      ]
     },
     "execution_count": 96,
     "metadata": {},
     "output_type": "execute_result"
    }
   ],
   "source": [
    "typeof(j)"
   ]
  },
  {
   "cell_type": "code",
   "execution_count": 110,
   "metadata": {},
   "outputs": [
    {
     "data": {
      "text/plain": [
       "Dict{String,Any} with 5 entries:\n",
       "  \"petalLength\" => 1.4\n",
       "  \"sepalWidth\"  => 3.5\n",
       "  \"sepalLength\" => 5.1\n",
       "  \"petalWidth\"  => 0.2\n",
       "  \"species\"     => \"setosa\""
      ]
     },
     "execution_count": 110,
     "metadata": {},
     "output_type": "execute_result"
    }
   ],
   "source": [
    "j[1]"
   ]
  },
  {
   "cell_type": "code",
   "execution_count": 115,
   "metadata": {},
   "outputs": [
    {
     "name": "stdout",
     "output_type": "stream",
     "text": [
      "====================\n",
      "petalLength => 1.4\n",
      "sepalWidth => 3.5\n",
      "sepalLength => 5.1\n",
      "petalWidth => 0.2\n",
      "species => setosa\n",
      "====================\n",
      "petalLength => 1.4\n",
      "sepalWidth => 3.0\n",
      "sepalLength => 4.9\n",
      "petalWidth => 0.2\n",
      "species => setosa\n",
      "====================\n",
      "petalLength => 1.3\n",
      "sepalWidth => 3.2\n",
      "sepalLength => 4.7\n",
      "petalWidth => 0.2\n",
      "species => setosa\n",
      "====================\n",
      "petalLength => 1.5\n",
      "sepalWidth => 3.1\n",
      "sepalLength => 4.6\n",
      "petalWidth => 0.2\n",
      "species => setosa\n",
      "====================\n",
      "petalLength => 1.4\n",
      "sepalWidth => 3.6\n",
      "sepalLength => 5.0\n",
      "petalWidth => 0.2\n",
      "species => setosa\n",
      "====================\n",
      "petalLength => 1.7\n",
      "sepalWidth => 3.9\n",
      "sepalLength => 5.4\n",
      "petalWidth => 0.4\n",
      "species => setosa\n",
      "====================\n",
      "petalLength => 1.4\n",
      "sepalWidth => 3.4\n",
      "sepalLength => 4.6\n",
      "petalWidth => 0.3\n",
      "species => setosa\n",
      "====================\n",
      "petalLength => 1.5\n",
      "sepalWidth => 3.4\n",
      "sepalLength => 5.0\n",
      "petalWidth => 0.2\n",
      "species => setosa\n",
      "====================\n",
      "petalLength => 1.4\n",
      "sepalWidth => 2.9\n",
      "sepalLength => 4.4\n",
      "petalWidth => 0.2\n",
      "species => setosa\n",
      "====================\n",
      "petalLength => 1.5\n",
      "sepalWidth => 3.1\n",
      "sepalLength => 4.9\n",
      "petalWidth => 0.1\n",
      "species => setosa\n",
      "====================\n",
      "petalLength => 1.5\n",
      "sepalWidth => 3.7\n",
      "sepalLength => 5.4\n",
      "petalWidth => 0.2\n",
      "species => setosa\n",
      "====================\n",
      "petalLength => 1.6\n",
      "sepalWidth => 3.4\n",
      "sepalLength => 4.8\n",
      "petalWidth => 0.2\n",
      "species => setosa\n",
      "====================\n",
      "petalLength => 1.4\n",
      "sepalWidth => 3.0\n",
      "sepalLength => 4.8\n",
      "petalWidth => 0.1\n",
      "species => setosa\n",
      "====================\n",
      "petalLength => 1.1\n",
      "sepalWidth => 3.0\n",
      "sepalLength => 4.3\n",
      "petalWidth => 0.1\n",
      "species => setosa\n",
      "====================\n",
      "petalLength => 1.2\n",
      "sepalWidth => 4.0\n",
      "sepalLength => 5.8\n",
      "petalWidth => 0.2\n",
      "species => setosa\n",
      "====================\n",
      "petalLength => 1.5\n",
      "sepalWidth => 4.4\n",
      "sepalLength => 5.7\n",
      "petalWidth => 0.4\n",
      "species => setosa\n",
      "====================\n",
      "petalLength => 1.3\n",
      "sepalWidth => 3.9\n",
      "sepalLength => 5.4\n",
      "petalWidth => 0.4\n",
      "species => setosa\n",
      "====================\n",
      "petalLength => 1.4\n",
      "sepalWidth => 3.5\n",
      "sepalLength => 5.1\n",
      "petalWidth => 0.3\n",
      "species => setosa\n",
      "====================\n",
      "petalLength => 1.7\n",
      "sepalWidth => 3.8\n",
      "sepalLength => 5.7\n",
      "petalWidth => 0.3\n",
      "species => setosa\n",
      "====================\n",
      "petalLength => 1.5\n",
      "sepalWidth => 3.8\n",
      "sepalLength => 5.1\n",
      "petalWidth => 0.3\n",
      "species => setosa\n",
      "====================\n",
      "petalLength => 1.7\n",
      "sepalWidth => 3.4\n",
      "sepalLength => 5.4\n",
      "petalWidth => 0.2\n",
      "species => setosa\n",
      "====================\n",
      "petalLength => 1.5\n",
      "sepalWidth => 3.7\n",
      "sepalLength => 5.1\n",
      "petalWidth => 0.4\n",
      "species => setosa\n",
      "====================\n",
      "petalLength => 1.0\n",
      "sepalWidth => 3.6\n",
      "sepalLength => 4.6\n",
      "petalWidth => 0.2\n",
      "species => setosa\n",
      "====================\n",
      "petalLength => 1.7\n",
      "sepalWidth => 3.3\n",
      "sepalLength => 5.1\n",
      "petalWidth => 0.5\n",
      "species => setosa\n",
      "====================\n",
      "petalLength => 1.9\n",
      "sepalWidth => 3.4\n",
      "sepalLength => 4.8\n",
      "petalWidth => 0.2\n",
      "species => setosa\n",
      "====================\n",
      "petalLength => 1.6\n",
      "sepalWidth => 3.0\n",
      "sepalLength => 5.0\n",
      "petalWidth => 0.2\n",
      "species => setosa\n",
      "====================\n",
      "petalLength => 1.6\n",
      "sepalWidth => 3.4\n",
      "sepalLength => 5.0\n",
      "petalWidth => 0.4\n",
      "species => setosa\n",
      "====================\n",
      "petalLength => 1.5\n",
      "sepalWidth => 3.5\n",
      "sepalLength => 5.2\n",
      "petalWidth => 0.2\n",
      "species => setosa\n",
      "====================\n",
      "petalLength => 1.4\n",
      "sepalWidth => 3.4\n",
      "sepalLength => 5.2\n",
      "petalWidth => 0.2\n",
      "species => setosa\n",
      "====================\n",
      "petalLength => 1.6\n",
      "sepalWidth => 3.2\n",
      "sepalLength => 4.7\n",
      "petalWidth => 0.2\n",
      "species => setosa\n",
      "====================\n",
      "petalLength => 1.6\n",
      "sepalWidth => 3.1\n",
      "sepalLength => 4.8\n",
      "petalWidth => 0.2\n",
      "species => setosa\n",
      "====================\n",
      "petalLength => 1.5\n",
      "sepalWidth => 3.4\n",
      "sepalLength => 5.4\n",
      "petalWidth => 0.4\n",
      "species => setosa\n",
      "====================\n",
      "petalLength => 1.5\n",
      "sepalWidth => 4.1\n",
      "sepalLength => 5.2\n",
      "petalWidth => 0.1\n",
      "species => setosa\n",
      "====================\n",
      "petalLength => 1.4\n",
      "sepalWidth => 4.2\n",
      "sepalLength => 5.5\n",
      "petalWidth => 0.2\n",
      "species => setosa\n",
      "====================\n",
      "petalLength => 1.5\n",
      "sepalWidth => 3.1\n",
      "sepalLength => 4.9\n",
      "petalWidth => 0.2\n",
      "species => setosa\n",
      "====================\n",
      "petalLength => 1.2\n",
      "sepalWidth => 3.2\n",
      "sepalLength => 5.0\n",
      "petalWidth => 0.2\n",
      "species => setosa\n",
      "====================\n",
      "petalLength => 1.3\n",
      "sepalWidth => 3.5\n",
      "sepalLength => 5.5\n",
      "petalWidth => 0.2\n",
      "species => setosa\n",
      "====================\n",
      "petalLength => 1.4\n",
      "sepalWidth => 3.6\n",
      "sepalLength => 4.9\n",
      "petalWidth => 0.1\n",
      "species => setosa\n",
      "====================\n",
      "petalLength => 1.3\n",
      "sepalWidth => 3.0\n",
      "sepalLength => 4.4\n",
      "petalWidth => 0.2\n",
      "species => setosa\n",
      "====================\n",
      "petalLength => 1.5\n",
      "sepalWidth => 3.4\n",
      "sepalLength => 5.1\n",
      "petalWidth => 0.2\n",
      "species => setosa\n",
      "====================\n",
      "petalLength => 1.3\n",
      "sepalWidth => 3.5\n",
      "sepalLength => 5.0\n",
      "petalWidth => 0.3\n",
      "species => setosa\n",
      "====================\n",
      "petalLength => 1.3\n",
      "sepalWidth => 2.3\n",
      "sepalLength => 4.5\n",
      "petalWidth => 0.3\n",
      "species => setosa\n",
      "====================\n",
      "petalLength => 1.3\n",
      "sepalWidth => 3.2\n",
      "sepalLength => 4.4\n",
      "petalWidth => 0.2\n",
      "species => setosa\n",
      "====================\n",
      "petalLength => 1.6\n",
      "sepalWidth => 3.5\n",
      "sepalLength => 5.0\n",
      "petalWidth => 0.6\n",
      "species => setosa\n",
      "====================\n",
      "petalLength => 1.9\n",
      "sepalWidth => 3.8\n",
      "sepalLength => 5.1\n",
      "petalWidth => 0.4\n",
      "species => setosa\n",
      "====================\n",
      "petalLength => 1.4\n",
      "sepalWidth => 3.0\n",
      "sepalLength => 4.8\n",
      "petalWidth => 0.3\n",
      "species => setosa\n",
      "====================\n",
      "petalLength => 1.6\n",
      "sepalWidth => 3.8\n",
      "sepalLength => 5.1\n",
      "petalWidth => 0.2\n",
      "species => setosa\n",
      "====================\n",
      "petalLength => 1.4\n",
      "sepalWidth => 3.2\n",
      "sepalLength => 4.6\n",
      "petalWidth => 0.2\n",
      "species => setosa\n",
      "====================\n",
      "petalLength => 1.5\n",
      "sepalWidth => 3.7\n",
      "sepalLength => 5.3\n",
      "petalWidth => 0.2\n",
      "species => setosa\n",
      "====================\n",
      "petalLength => 1.4\n",
      "sepalWidth => 3.3\n",
      "sepalLength => 5.0\n",
      "petalWidth => 0.2\n",
      "species => setosa\n",
      "====================\n",
      "petalLength => 4.7\n",
      "sepalWidth => 3.2\n",
      "sepalLength => 7.0\n",
      "petalWidth => 1.4\n",
      "species => versicolor\n",
      "====================\n",
      "petalLength => 4.5\n",
      "sepalWidth => 3.2\n",
      "sepalLength => 6.4\n",
      "petalWidth => 1.5\n",
      "species => versicolor\n",
      "====================\n",
      "petalLength => 4.9\n",
      "sepalWidth => 3.1\n",
      "sepalLength => 6.9\n",
      "petalWidth => 1.5\n",
      "species => versicolor\n",
      "====================\n",
      "petalLength => 4.0\n",
      "sepalWidth => 2.3\n",
      "sepalLength => 5.5\n",
      "petalWidth => 1.3\n",
      "species => versicolor\n",
      "====================\n",
      "petalLength => 4.6\n",
      "sepalWidth => 2.8\n",
      "sepalLength => 6.5\n",
      "petalWidth => 1.5\n",
      "species => versicolor\n",
      "====================\n",
      "petalLength => 4.5\n",
      "sepalWidth => 2.8\n",
      "sepalLength => 5.7\n",
      "petalWidth => 1.3\n",
      "species => versicolor\n",
      "====================\n",
      "petalLength => 4.7\n",
      "sepalWidth => 3.3\n",
      "sepalLength => 6.3\n",
      "petalWidth => 1.6\n",
      "species => versicolor\n",
      "====================\n",
      "petalLength => 3.3\n",
      "sepalWidth => 2.4\n",
      "sepalLength => 4.9\n",
      "petalWidth => 1.0\n",
      "species => versicolor\n",
      "====================\n",
      "petalLength => 4.6\n",
      "sepalWidth => 2.9\n",
      "sepalLength => 6.6\n",
      "petalWidth => 1.3\n",
      "species => versicolor\n",
      "====================\n",
      "petalLength => 3.9\n",
      "sepalWidth => 2.7\n",
      "sepalLength => 5.2\n",
      "petalWidth => 1.4\n",
      "species => versicolor\n",
      "====================\n",
      "petalLength => 3.5\n",
      "sepalWidth => 2.0\n",
      "sepalLength => 5.0\n",
      "petalWidth => 1.0\n",
      "species => versicolor\n",
      "====================\n",
      "petalLength => 4.2\n",
      "sepalWidth => 3.0\n",
      "sepalLength => 5.9\n",
      "petalWidth => 1.5\n",
      "species => versicolor\n",
      "====================\n",
      "petalLength => 4.0\n",
      "sepalWidth => 2.2\n",
      "sepalLength => 6.0\n",
      "petalWidth => 1.0\n",
      "species => versicolor\n",
      "====================\n",
      "petalLength => 4.7\n",
      "sepalWidth => 2.9\n",
      "sepalLength => 6.1\n",
      "petalWidth => 1.4\n",
      "species => versicolor\n",
      "====================\n",
      "petalLength => 3.6\n",
      "sepalWidth => 2.9\n",
      "sepalLength => 5.6\n",
      "petalWidth => 1.3\n",
      "species => versicolor\n",
      "====================\n",
      "petalLength => 4.4\n",
      "sepalWidth => 3.1\n",
      "sepalLength => 6.7\n",
      "petalWidth => 1.4\n",
      "species => versicolor\n",
      "====================\n",
      "petalLength => 4.5\n",
      "sepalWidth => 3.0\n",
      "sepalLength => 5.6\n",
      "petalWidth => 1.5\n",
      "species => versicolor\n",
      "====================\n",
      "petalLength => 4.1\n",
      "sepalWidth => 2.7\n",
      "sepalLength => 5.8\n",
      "petalWidth => 1.0\n",
      "species => versicolor\n",
      "====================\n",
      "petalLength => 4.5\n",
      "sepalWidth => 2.2\n",
      "sepalLength => 6.2\n",
      "petalWidth => 1.5\n",
      "species => versicolor\n",
      "====================\n",
      "petalLength => 3.9\n",
      "sepalWidth => 2.5\n",
      "sepalLength => 5.6\n",
      "petalWidth => 1.1\n",
      "species => versicolor\n",
      "====================\n",
      "petalLength => 4.8\n",
      "sepalWidth => 3.2\n",
      "sepalLength => 5.9\n",
      "petalWidth => 1.8\n",
      "species => versicolor\n",
      "====================\n",
      "petalLength => 4.0\n",
      "sepalWidth => 2.8\n",
      "sepalLength => 6.1\n",
      "petalWidth => 1.3\n",
      "species => versicolor\n",
      "====================\n",
      "petalLength => 4.9\n",
      "sepalWidth => 2.5\n",
      "sepalLength => 6.3\n",
      "petalWidth => 1.5\n",
      "species => versicolor\n",
      "====================\n",
      "petalLength => 4.7\n",
      "sepalWidth => 2.8\n",
      "sepalLength => 6.1\n",
      "petalWidth => 1.2\n",
      "species => versicolor\n",
      "====================\n",
      "petalLength => 4.3\n",
      "sepalWidth => 2.9\n",
      "sepalLength => 6.4\n",
      "petalWidth => 1.3\n",
      "species => versicolor\n",
      "====================\n",
      "petalLength => 4.4\n",
      "sepalWidth => 3.0\n",
      "sepalLength => 6.6\n",
      "petalWidth => 1.4\n",
      "species => versicolor\n",
      "====================\n",
      "petalLength => 4.8\n",
      "sepalWidth => 2.8\n",
      "sepalLength => 6.8\n",
      "petalWidth => 1.4\n",
      "species => versicolor\n",
      "====================\n",
      "petalLength => 5.0\n",
      "sepalWidth => 3.0\n",
      "sepalLength => 6.7\n",
      "petalWidth => 1.7\n",
      "species => versicolor\n",
      "====================\n",
      "petalLength => 4.5\n",
      "sepalWidth => 2.9\n",
      "sepalLength => 6.0\n",
      "petalWidth => 1.5\n",
      "species => versicolor\n",
      "====================\n",
      "petalLength => 3.5\n",
      "sepalWidth => 2.6\n",
      "sepalLength => 5.7\n",
      "petalWidth => 1.0\n",
      "species => versicolor\n",
      "====================\n",
      "petalLength => 3.8\n",
      "sepalWidth => 2.4\n",
      "sepalLength => 5.5\n",
      "petalWidth => 1.1\n",
      "species => versicolor\n"
     ]
    },
    {
     "name": "stdout",
     "output_type": "stream",
     "text": [
      "====================\n",
      "petalLength => 3.7\n",
      "sepalWidth => 2.4\n",
      "sepalLength => 5.5\n",
      "petalWidth => 1.0\n",
      "species => versicolor\n",
      "====================\n",
      "petalLength => 3.9\n",
      "sepalWidth => 2.7\n",
      "sepalLength => 5.8\n",
      "petalWidth => 1.2\n",
      "species => versicolor\n",
      "====================\n",
      "petalLength => 5.1\n",
      "sepalWidth => 2.7\n",
      "sepalLength => 6.0\n",
      "petalWidth => 1.6\n",
      "species => versicolor\n",
      "====================\n",
      "petalLength => 4.5\n",
      "sepalWidth => 3.0\n",
      "sepalLength => 5.4\n",
      "petalWidth => 1.5\n",
      "species => versicolor\n",
      "====================\n",
      "petalLength => 4.5\n",
      "sepalWidth => 3.4\n",
      "sepalLength => 6.0\n",
      "petalWidth => 1.6\n",
      "species => versicolor\n",
      "====================\n",
      "petalLength => 4.7\n",
      "sepalWidth => 3.1\n",
      "sepalLength => 6.7\n",
      "petalWidth => 1.5\n",
      "species => versicolor\n",
      "====================\n",
      "petalLength => 4.4\n",
      "sepalWidth => 2.3\n",
      "sepalLength => 6.3\n",
      "petalWidth => 1.3\n",
      "species => versicolor\n",
      "====================\n",
      "petalLength => 4.1\n",
      "sepalWidth => 3.0\n",
      "sepalLength => 5.6\n",
      "petalWidth => 1.3\n",
      "species => versicolor\n",
      "====================\n",
      "petalLength => 4.0\n",
      "sepalWidth => 2.5\n",
      "sepalLength => 5.5\n",
      "petalWidth => 1.3\n",
      "species => versicolor\n",
      "====================\n",
      "petalLength => 4.4\n",
      "sepalWidth => 2.6\n",
      "sepalLength => 5.5\n",
      "petalWidth => 1.2\n",
      "species => versicolor\n",
      "====================\n",
      "petalLength => 4.6\n",
      "sepalWidth => 3.0\n",
      "sepalLength => 6.1\n",
      "petalWidth => 1.4\n",
      "species => versicolor\n",
      "====================\n",
      "petalLength => 4.0\n",
      "sepalWidth => 2.6\n",
      "sepalLength => 5.8\n",
      "petalWidth => 1.2\n",
      "species => versicolor\n",
      "====================\n",
      "petalLength => 3.3\n",
      "sepalWidth => 2.3\n",
      "sepalLength => 5.0\n",
      "petalWidth => 1.0\n",
      "species => versicolor\n",
      "====================\n",
      "petalLength => 4.2\n",
      "sepalWidth => 2.7\n",
      "sepalLength => 5.6\n",
      "petalWidth => 1.3\n",
      "species => versicolor\n",
      "====================\n",
      "petalLength => 4.2\n",
      "sepalWidth => 3.0\n",
      "sepalLength => 5.7\n",
      "petalWidth => 1.2\n",
      "species => versicolor\n",
      "====================\n",
      "petalLength => 4.2\n",
      "sepalWidth => 2.9\n",
      "sepalLength => 5.7\n",
      "petalWidth => 1.3\n",
      "species => versicolor\n",
      "====================\n",
      "petalLength => 4.3\n",
      "sepalWidth => 2.9\n",
      "sepalLength => 6.2\n",
      "petalWidth => 1.3\n",
      "species => versicolor\n",
      "====================\n",
      "petalLength => 3.0\n",
      "sepalWidth => 2.5\n",
      "sepalLength => 5.1\n",
      "petalWidth => 1.1\n",
      "species => versicolor\n",
      "====================\n",
      "petalLength => 4.1\n",
      "sepalWidth => 2.8\n",
      "sepalLength => 5.7\n",
      "petalWidth => 1.3\n",
      "species => versicolor\n",
      "====================\n",
      "petalLength => 6.0\n",
      "sepalWidth => 3.3\n",
      "sepalLength => 6.3\n",
      "petalWidth => 2.5\n",
      "species => virginica\n",
      "====================\n",
      "petalLength => 5.1\n",
      "sepalWidth => 2.7\n",
      "sepalLength => 5.8\n",
      "petalWidth => 1.9\n",
      "species => virginica\n",
      "====================\n",
      "petalLength => 5.9\n",
      "sepalWidth => 3.0\n",
      "sepalLength => 7.1\n",
      "petalWidth => 2.1\n",
      "species => virginica\n",
      "====================\n",
      "petalLength => 5.6\n",
      "sepalWidth => 2.9\n",
      "sepalLength => 6.3\n",
      "petalWidth => 1.8\n",
      "species => virginica\n",
      "====================\n",
      "petalLength => 5.8\n",
      "sepalWidth => 3.0\n",
      "sepalLength => 6.5\n",
      "petalWidth => 2.2\n",
      "species => virginica\n",
      "====================\n",
      "petalLength => 6.6\n",
      "sepalWidth => 3.0\n",
      "sepalLength => 7.6\n",
      "petalWidth => 2.1\n",
      "species => virginica\n",
      "====================\n",
      "petalLength => 4.5\n",
      "sepalWidth => 2.5\n",
      "sepalLength => 4.9\n",
      "petalWidth => 1.7\n",
      "species => virginica\n",
      "====================\n",
      "petalLength => 6.3\n",
      "sepalWidth => 2.9\n",
      "sepalLength => 7.3\n",
      "petalWidth => 1.8\n",
      "species => virginica\n",
      "====================\n",
      "petalLength => 5.8\n",
      "sepalWidth => 2.5\n",
      "sepalLength => 6.7\n",
      "petalWidth => 1.8\n",
      "species => virginica\n",
      "====================\n",
      "petalLength => 6.1\n",
      "sepalWidth => 3.6\n",
      "sepalLength => 7.2\n",
      "petalWidth => 2.5\n",
      "species => virginica\n",
      "====================\n",
      "petalLength => 5.1\n",
      "sepalWidth => 3.2\n",
      "sepalLength => 6.5\n",
      "petalWidth => 2.0\n",
      "species => virginica\n",
      "====================\n",
      "petalLength => 5.3\n",
      "sepalWidth => 2.7\n",
      "sepalLength => 6.4\n",
      "petalWidth => 1.9\n",
      "species => virginica\n",
      "====================\n",
      "petalLength => 5.5\n",
      "sepalWidth => 3.0\n",
      "sepalLength => 6.8\n",
      "petalWidth => 2.1\n",
      "species => virginica\n",
      "====================\n",
      "petalLength => 5.0\n",
      "sepalWidth => 2.5\n",
      "sepalLength => 5.7\n",
      "petalWidth => 2.0\n",
      "species => virginica\n",
      "====================\n",
      "petalLength => 5.1\n",
      "sepalWidth => 2.8\n",
      "sepalLength => 5.8\n",
      "petalWidth => 2.4\n",
      "species => virginica\n",
      "====================\n",
      "petalLength => 5.3\n",
      "sepalWidth => 3.2\n",
      "sepalLength => 6.4\n",
      "petalWidth => 2.3\n",
      "species => virginica\n",
      "====================\n",
      "petalLength => 5.5\n",
      "sepalWidth => 3.0\n",
      "sepalLength => 6.5\n",
      "petalWidth => 1.8\n",
      "species => virginica\n",
      "====================\n",
      "petalLength => 6.7\n",
      "sepalWidth => 3.8\n",
      "sepalLength => 7.7\n",
      "petalWidth => 2.2\n",
      "species => virginica\n",
      "====================\n",
      "petalLength => 6.9\n",
      "sepalWidth => 2.6\n",
      "sepalLength => 7.7\n",
      "petalWidth => 2.3\n",
      "species => virginica\n",
      "====================\n",
      "petalLength => 5.0\n",
      "sepalWidth => 2.2\n",
      "sepalLength => 6.0\n",
      "petalWidth => 1.5\n",
      "species => virginica\n",
      "====================\n",
      "petalLength => 5.7\n",
      "sepalWidth => 3.2\n",
      "sepalLength => 6.9\n",
      "petalWidth => 2.3\n",
      "species => virginica\n",
      "====================\n",
      "petalLength => 4.9\n",
      "sepalWidth => 2.8\n",
      "sepalLength => 5.6\n",
      "petalWidth => 2.0\n",
      "species => virginica\n",
      "====================\n",
      "petalLength => 6.7\n",
      "sepalWidth => 2.8\n",
      "sepalLength => 7.7\n",
      "petalWidth => 2.0\n",
      "species => virginica\n",
      "====================\n",
      "petalLength => 4.9\n",
      "sepalWidth => 2.7\n",
      "sepalLength => 6.3\n",
      "petalWidth => 1.8\n",
      "species => virginica\n",
      "====================\n",
      "petalLength => 5.7\n",
      "sepalWidth => 3.3\n",
      "sepalLength => 6.7\n",
      "petalWidth => 2.1\n",
      "species => virginica\n",
      "====================\n",
      "petalLength => 6.0\n",
      "sepalWidth => 3.2\n",
      "sepalLength => 7.2\n",
      "petalWidth => 1.8\n",
      "species => virginica\n",
      "====================\n",
      "petalLength => 4.8\n",
      "sepalWidth => 2.8\n",
      "sepalLength => 6.2\n",
      "petalWidth => 1.8\n",
      "species => virginica\n",
      "====================\n",
      "petalLength => 4.9\n",
      "sepalWidth => 3.0\n",
      "sepalLength => 6.1\n",
      "petalWidth => 1.8\n",
      "species => virginica\n",
      "====================\n",
      "petalLength => 5.6\n",
      "sepalWidth => 2.8\n",
      "sepalLength => 6.4\n",
      "petalWidth => 2.1\n",
      "species => virginica\n",
      "====================\n",
      "petalLength => 5.8\n",
      "sepalWidth => 3.0\n",
      "sepalLength => 7.2\n",
      "petalWidth => 1.6\n",
      "species => virginica\n",
      "====================\n",
      "petalLength => 6.1\n",
      "sepalWidth => 2.8\n",
      "sepalLength => 7.4\n",
      "petalWidth => 1.9\n",
      "species => virginica\n",
      "====================\n",
      "petalLength => 6.4\n",
      "sepalWidth => 3.8\n",
      "sepalLength => 7.9\n",
      "petalWidth => 2.0\n",
      "species => virginica\n",
      "====================\n",
      "petalLength => 5.6\n",
      "sepalWidth => 2.8\n",
      "sepalLength => 6.4\n",
      "petalWidth => 2.2\n",
      "species => virginica\n",
      "====================\n",
      "petalLength => 5.1\n",
      "sepalWidth => 2.8\n",
      "sepalLength => 6.3\n",
      "petalWidth => 1.5\n",
      "species => virginica\n",
      "====================\n",
      "petalLength => 5.6\n",
      "sepalWidth => 2.6\n",
      "sepalLength => 6.1\n",
      "petalWidth => 1.4\n",
      "species => virginica\n",
      "====================\n",
      "petalLength => 6.1\n",
      "sepalWidth => 3.0\n",
      "sepalLength => 7.7\n",
      "petalWidth => 2.3\n",
      "species => virginica\n",
      "====================\n",
      "petalLength => 5.6\n",
      "sepalWidth => 3.4\n",
      "sepalLength => 6.3\n",
      "petalWidth => 2.4\n",
      "species => virginica\n",
      "====================\n",
      "petalLength => 5.5\n",
      "sepalWidth => 3.1\n",
      "sepalLength => 6.4\n",
      "petalWidth => 1.8\n",
      "species => virginica\n",
      "====================\n",
      "petalLength => 4.8\n",
      "sepalWidth => 3.0\n",
      "sepalLength => 6.0\n",
      "petalWidth => 1.8\n",
      "species => virginica\n",
      "====================\n",
      "petalLength => 5.4\n",
      "sepalWidth => 3.1\n",
      "sepalLength => 6.9\n",
      "petalWidth => 2.1\n",
      "species => virginica\n",
      "====================\n",
      "petalLength => 5.6\n",
      "sepalWidth => 3.1\n",
      "sepalLength => 6.7\n",
      "petalWidth => 2.4\n",
      "species => virginica\n",
      "====================\n",
      "petalLength => 5.1\n",
      "sepalWidth => 3.1\n",
      "sepalLength => 6.9\n",
      "petalWidth => 2.3\n",
      "species => virginica\n",
      "====================\n",
      "petalLength => 5.1\n",
      "sepalWidth => 2.7\n",
      "sepalLength => 5.8\n",
      "petalWidth => 1.9\n",
      "species => virginica\n",
      "====================\n",
      "petalLength => 5.9\n",
      "sepalWidth => 3.2\n",
      "sepalLength => 6.8\n",
      "petalWidth => 2.3\n",
      "species => virginica\n",
      "====================\n",
      "petalLength => 5.7\n",
      "sepalWidth => 3.3\n",
      "sepalLength => 6.7\n",
      "petalWidth => 2.5\n",
      "species => virginica\n",
      "====================\n",
      "petalLength => 5.2\n",
      "sepalWidth => 3.0\n",
      "sepalLength => 6.7\n",
      "petalWidth => 2.3\n",
      "species => virginica\n",
      "====================\n",
      "petalLength => 5.0\n",
      "sepalWidth => 2.5\n",
      "sepalLength => 6.3\n",
      "petalWidth => 1.9\n",
      "species => virginica\n",
      "====================\n",
      "petalLength => 5.2\n",
      "sepalWidth => 3.0\n",
      "sepalLength => 6.5\n",
      "petalWidth => 2.0\n",
      "species => virginica\n",
      "====================\n",
      "petalLength => 5.4\n",
      "sepalWidth => 3.4\n",
      "sepalLength => 6.2\n",
      "petalWidth => 2.3\n",
      "species => virginica\n",
      "====================\n",
      "petalLength => 5.1\n",
      "sepalWidth => 3.0\n",
      "sepalLength => 5.9\n",
      "petalWidth => 1.8\n",
      "species => virginica\n"
     ]
    }
   ],
   "source": [
    "for item in j\n",
    "    println(\"$(\"=\"^20)\")\n",
    "    for (key, value) in item\n",
    "        println(key, \" => \", value)\n",
    "    end\n",
    "end"
   ]
  },
  {
   "cell_type": "markdown",
   "metadata": {
    "colab_type": "text",
    "id": "5rdm2kWzwgBI"
   },
   "source": [
    "#### 儲存 JSON 檔案\n",
    "\n",
    "將物件轉換為 JSON 字串, 並存入 JSON 檔案"
   ]
  },
  {
   "cell_type": "code",
   "execution_count": 116,
   "metadata": {
    "colab": {},
    "colab_type": "code",
    "id": "XsHhEfQGwgBL",
    "outputId": "c64c76a0-e38e-454c-8c4d-8b068ff62f24"
   },
   "outputs": [
    {
     "data": {
      "text/plain": [
       "\"[{\\\"petalLength\\\":1.4,\\\"sepalWidth\\\":3.5,\\\"sepalLength\\\":5.1,\\\"petalWidth\\\":0.2,\\\"species\\\":\\\"setosa\\\"},{\\\"petalLength\\\":1.4,\\\"sepalWidth\\\":3.0,\\\"sepalLength\\\":4.9,\\\"petalWidth\\\":0.2,\\\"species\\\":\\\"setosa\\\"},{\\\"petalLength\\\":1.3,\\\"sepalWidth\\\":3.2,\\\"sepalLength\\\":4.7,\\\"petalWidth\\\":0.2,\\\"species\\\":\\\"setosa\\\"},{\\\"petalLength\\\":1.5,\\\"sepalWidth\\\":3.1,\\\"sepalLength\\\":4.6,\\\"petalWidth\\\":0.2,\\\"species\\\":\\\"setosa\\\"},{\\\"petalLength\\\":1.4,\\\"sepalWidth\\\":3.6,\\\"sepalLength\\\":5.0,\\\"petalWidth\\\":0.2,\\\"species\\\":\\\"setosa\\\"},{\\\"petalLength\\\":1.7,\\\"sepalWidth\\\":3.9,\\\"sepalLength\\\":5.4,\\\"petalWidth\\\":0.4,\\\"species\\\":\\\"setosa\\\"},{\\\"petalLength\\\":1.4,\\\"sepalWidth\\\":3.4,\\\"sepalLength\\\":4.6,\\\"petalWidth\\\":0.3,\\\"species\\\":\\\"setosa\\\"},{\\\"petalLength\\\":1.5,\\\"sepalWidth\\\":3.4,\\\"sepalLength\\\":5.0,\\\"petalWidth\\\":0.2,\\\"species\\\":\\\"setosa\\\"},{\\\"petalLength\\\":1.4,\\\"sepalWidth\\\":2.9,\\\"sepalLength\\\":4.4,\\\"petalWidth\\\":0.2,\\\"species\\\":\\\"setosa\\\"},{\\\"petalLength\\\":1.5,\\\"sepalWidth\\\":3.1,\\\"sepalLength\\\":4.9,\\\"petalWidth\\\":0.1,\\\"species\\\":\\\"setosa\\\"},{\\\"petalLength\\\":1.5,\\\"sepalWidth\\\":3.7,\\\"sepalLength\\\":5.4,\\\"petalWidth\\\":0.2,\\\"species\\\":\\\"setosa\\\"},{\\\"petalLength\\\":1.6,\\\"sepalWidth\\\":3.4,\\\"sepalLength\\\":4.8,\\\"petalWidth\\\":0.2,\\\"species\\\":\\\"setosa\\\"},{\\\"petalLength\\\":1.4,\\\"sepalWidth\\\":3.0,\\\"sepalLength\\\":4.8,\\\"petalWidth\\\":0.1,\\\"species\\\":\\\"setosa\\\"},{\\\"petalLength\\\":1.1,\\\"sepalWidth\\\":3.0,\\\"sepalLength\\\":4.3,\\\"petalWidth\\\":0.1,\\\"species\\\":\\\"setosa\\\"},{\\\"petalLength\\\":1.2,\\\"sepalWidth\\\":4.0,\\\"sepalLength\\\":5.8,\\\"petalWidth\\\":0.2,\\\"species\\\":\\\"setosa\\\"},{\\\"petalLength\\\":1.5,\\\"sepalWidth\\\":4.4,\\\"sepalLength\\\":5.7,\\\"petalWidth\\\":0.4,\\\"species\\\":\\\"setosa\\\"},{\\\"petalLength\\\":1.3,\\\"sepalWidth\\\":3.9,\\\"sepalLength\\\":5.4,\\\"petalWidth\\\":0.4,\\\"species\\\":\\\"setosa\\\"},{\\\"petalLength\\\":1.4,\\\"sepalWidth\\\":3.5,\\\"sepalLength\\\":5.1,\\\"petalWidth\\\":0.3,\\\"species\\\":\\\"setosa\\\"},{\\\"petalLength\\\":1.7,\\\"sepalWidth\\\":3.8,\\\"sepalLength\\\":5.7,\\\"petalWidth\\\":0.3,\\\"species\\\":\\\"setosa\\\"},{\\\"petalLength\\\":1.5,\\\"sepalWidth\\\":3.8,\\\"sepalLength\\\":5.1,\\\"petalWidth\\\":0.3,\\\"species\\\":\\\"setosa\\\"},{\\\"petalLength\\\":1.7,\\\"sepalWidth\\\":3.4,\\\"sepalLength\\\":5.4,\\\"petalWidth\\\":0.2,\\\"species\\\":\\\"setosa\\\"},{\\\"petalLength\\\":1.5,\\\"sepalWidth\\\":3.7,\\\"sepalLength\\\":5.1,\\\"petalWidth\\\":0.4,\\\"species\\\":\\\"setosa\\\"},{\\\"petalLength\\\":1.0,\\\"sepalWidth\\\":3.6,\\\"sepalLength\\\":4.6,\\\"petalWidth\\\":0.2,\\\"species\\\":\\\"setosa\\\"},{\\\"petalLength\\\":1.7,\\\"sepalWidth\\\":3.3,\\\"sepalLength\\\":5.1,\\\"petalWidth\\\":0.5,\\\"species\\\":\\\"setosa\\\"},{\\\"petalLength\\\":1.9,\\\"sepalWidth\\\":3.4,\\\"sepalLength\\\":4.8,\\\"petalWidth\\\":0.2,\\\"species\\\":\\\"setosa\\\"},{\\\"petalLength\\\":1.6,\\\"sepalWidth\\\":3.0,\\\"sepalLength\\\":5.0,\\\"petalWidth\\\":0.2,\\\"species\\\":\\\"setosa\\\"},{\\\"petalLength\\\":1.6,\\\"sepalWidth\\\":3.4,\\\"sepalLength\\\":5.0,\\\"petalWidth\\\":0.4,\\\"species\\\":\\\"setosa\\\"},{\\\"petalLength\\\":1.5,\\\"sepalWidth\\\":3.5,\\\"sepalLength\\\":5.2,\\\"petalWidth\\\":0.2,\\\"species\\\":\\\"setosa\\\"},{\\\"petalLength\\\":1.4,\\\"sepalWidth\\\":3.4,\\\"sepalLength\\\":5.2,\\\"petalWidth\\\":0.2,\\\"species\\\":\\\"setosa\\\"},{\\\"petalLength\\\":1.6,\\\"sepalWidth\\\":3.2,\\\"sepalLength\\\":4.7,\\\"petalWidth\\\":0.2,\\\"species\\\":\\\"setosa\\\"},{\\\"petalLength\\\":1.6,\\\"sepalWidth\\\":3.1,\\\"sepalLength\\\":4.8,\\\"petalWidth\\\":0.2,\\\"species\\\":\\\"setosa\\\"},{\\\"petalLength\\\":1.5,\\\"sepalWidth\\\":3.4,\\\"sepalLength\\\":5.4,\\\"petalWidth\\\":0.4,\\\"species\\\":\\\"setosa\\\"},{\\\"petalLength\\\":1.5,\\\"sepalWidth\\\":4.1,\\\"sepalLength\\\":5.2,\\\"petalWidth\\\":0.1,\\\"species\\\":\\\"setosa\\\"},{\\\"petalLength\\\":1.4,\\\"sepalWidth\\\":4.2,\\\"sepalLength\\\":5.5,\\\"petalWidth\\\":0.2,\\\"species\\\":\\\"setosa\\\"},{\\\"petalLength\\\":1.5,\\\"sepalWidth\\\":3.1,\\\"sepalLength\\\":4.9,\\\"petalWidth\\\":0.2,\\\"species\\\":\\\"setosa\\\"},{\\\"petalLength\\\":1.2,\\\"sepalWidth\\\":3.2,\\\"sepalLength\\\":5.0,\\\"petalWidth\\\":0.2,\\\"species\\\":\\\"setosa\\\"},{\\\"petalLength\\\":1.3,\\\"sepalWidth\\\":3.5,\\\"sepalLength\\\":5.5,\\\"petalWidth\\\":0.2,\\\"species\\\":\\\"setosa\\\"},{\\\"petalLength\\\":1.4,\\\"sepalWidth\\\":3.6,\\\"sepalLength\\\":4.9,\\\"petalWidth\\\":0.1,\\\"species\\\":\\\"setosa\\\"},{\\\"petalLength\\\":1.3,\\\"sepalWidth\\\":3.0,\\\"sepalLength\\\":4.4,\\\"petalWidth\\\":0.2,\\\"species\\\":\\\"setosa\\\"},{\\\"petalLength\\\":1.5,\\\"sepalWidth\\\":3.4,\\\"sepalLength\\\":5.1,\\\"petalWidth\\\":0.2,\\\"species\\\":\\\"setosa\\\"},{\\\"petalLength\\\":1.3,\\\"sepalWidth\\\":3.5,\\\"sepalLength\\\":5.0,\\\"petalWidth\\\":0.3,\\\"species\\\":\\\"setosa\\\"},{\\\"petalLength\\\":1.3,\\\"sepalWidth\\\":2.3,\\\"sepalLength\\\":4.5,\\\"petalWidth\\\":0.3,\\\"species\\\":\\\"setosa\\\"},{\\\"petalLength\\\":1.3,\\\"sepalWidth\\\":3.2,\\\"sepalLength\\\":4.4,\\\"petalWidth\\\":0.2,\\\"species\\\":\\\"setosa\\\"},{\\\"petalLength\\\":1.6,\\\"sepalWidth\\\":3.5,\\\"sepalLength\\\":5.0,\\\"petalWidth\\\":0.6,\\\"species\\\":\\\"setosa\\\"},{\\\"petalLength\\\":1.9,\\\"sepalWidth\\\":3.8,\\\"sepalLength\\\":5.1,\\\"petalWidth\\\":0.4,\\\"species\\\":\\\"setosa\\\"},{\\\"petalLength\\\":1.4,\\\"sepalWidth\\\":3.0,\\\"sepalLength\\\":4.8,\\\"petalWidth\\\":0.3,\\\"species\\\":\\\"setosa\\\"},{\\\"petalLength\\\":1.6,\\\"sepalWidth\\\":3.8,\\\"sepalLength\\\":5.1,\\\"petalWidth\\\":0.2,\\\"species\\\":\\\"setosa\\\"},{\\\"petalLength\\\":1.4,\\\"sepalWidth\\\":3.2,\\\"sepalLength\\\":4.6,\\\"petalWidth\\\":0.2,\\\"species\\\":\\\"setosa\\\"},{\\\"petalLength\\\":1.5,\\\"sepalWidth\\\":3.7,\\\"sepalLength\\\":5.3,\\\"petalWidth\\\":0.2,\\\"species\\\":\\\"setosa\\\"},{\\\"petalLength\\\":1.4,\\\"sepalWidth\\\":3.3,\\\"sepalLength\\\":5.0,\\\"petalWidth\\\":0.2,\\\"species\\\":\\\"setosa\\\"},{\\\"petalLength\\\":4.7,\\\"sepalWidth\\\":3.2,\\\"sepalLength\\\":7.0,\\\"petalWidth\\\":1.4,\\\"species\\\":\\\"versicolor\\\"},{\\\"petalLength\\\":4.5,\\\"sepalWidth\\\":3.2,\\\"sepalLength\\\":6.4,\\\"petalWidth\\\":1.5,\\\"species\\\":\\\"versicolor\\\"},{\\\"petalLength\\\":4.9,\\\"sepalWidth\\\":3.1,\\\"sepalLength\\\":6.9,\\\"petalWidth\\\":1.5,\\\"species\\\":\\\"versicolor\\\"},{\\\"petalLength\\\":4.0,\\\"sepalWidth\\\":2.3,\\\"sepalLength\\\":5.5,\\\"petalWidth\\\":1.3,\\\"species\\\":\\\"versicolor\\\"},{\\\"petalLength\\\":4.6,\\\"sepalWidth\\\":2.8,\\\"sepalLength\\\":6.5,\\\"petalWidth\\\":1.5,\\\"species\\\":\\\"versicolor\\\"},{\\\"petalLength\\\":4.5,\\\"sepalWidth\\\":2.8,\\\"sepalLength\\\":5.7,\\\"petalWidth\\\":1.3,\\\"species\\\":\\\"versicolor\\\"},{\\\"petalLength\\\":4.7,\\\"sepalWidth\\\":3.3,\\\"sepalLength\\\":6.3,\\\"petalWidth\\\":1.6,\\\"species\\\":\\\"versicolor\\\"},{\\\"petalLength\\\":3.3,\\\"sepalWidth\\\":2.4,\\\"sepalLength\\\":4.9,\\\"petalWidth\\\":1.0,\\\"species\\\":\\\"versicolor\\\"},{\\\"petalLength\\\":4.6,\\\"sepalWidth\\\":2.9,\\\"sepalLength\\\":6.6,\\\"petalWidth\\\":1.3,\\\"species\\\":\\\"versicolor\\\"},{\\\"petalLength\\\":3.9,\\\"sepalWidth\\\":2.7,\\\"sepalLength\\\":5.2,\\\"petalWidth\\\":1.4,\\\"species\\\":\\\"versicolor\\\"},{\\\"petalLength\\\":3.5,\\\"sepalWidth\\\":2.0,\\\"sepalLength\\\":5.0,\\\"petalWidth\\\":1.0,\\\"species\\\":\\\"versicolor\\\"},{\\\"petalLength\\\":4.2,\\\"sepalWidth\\\":3.0,\\\"sepalLength\\\":5.9,\\\"petalWidth\\\":1.5,\\\"species\\\":\\\"versicolor\\\"},{\\\"petalLength\\\":4.0,\\\"sepalWidth\\\":2.2,\\\"sepalLength\\\":6.0,\\\"petalWidth\\\":1.0,\\\"species\\\":\\\"versicolor\\\"},{\\\"petalLength\\\":4.7,\\\"sepalWidth\\\":2.9,\\\"sepalLength\\\":6.1,\\\"petalWidth\\\":1.4,\\\"species\\\":\\\"versicolor\\\"},{\\\"petalLength\\\":3.6,\\\"sepalWidth\\\":2.9,\\\"sepalLength\\\":5.6,\\\"petalWidth\\\":1.3,\\\"species\\\":\\\"versicolor\\\"},{\\\"petalLength\\\":4.4,\\\"sepalWidth\\\":3.1,\\\"sepalLength\\\":6.7,\\\"petalWidth\\\":1.4,\\\"species\\\":\\\"versicolor\\\"},{\\\"petalLength\\\":4.5,\\\"sepalWidth\\\":3.0,\\\"sepalLength\\\":5.6,\\\"petalWidth\\\":1.5,\\\"species\\\":\\\"versicolor\\\"},{\\\"petalLength\\\":4.1,\\\"sepalWidth\\\":2.7,\\\"sepalLength\\\":5.8,\\\"petalWidth\\\":1.0,\\\"species\\\":\\\"versicolor\\\"},{\\\"petalLength\\\":4.5,\\\"sepalWidth\\\":2.2,\\\"sepalLength\\\":6.2,\\\"petalWidth\\\":1.5,\\\"species\\\":\\\"versicolor\\\"},{\\\"petalLength\\\":3.9,\\\"sepalWidth\\\":2.5,\\\"sepalLength\\\":5.6,\\\"petalWidth\\\":1.1,\\\"species\\\":\\\"versicolor\\\"},{\\\"petalLength\\\":4.8,\\\"sepalWidth\\\":3.2,\\\"sepalLength\\\":5.9,\\\"petalWidth\\\":1.8,\\\"species\\\":\\\"versicolor\\\"},{\\\"petalLength\\\":4.0,\\\"sepalWidth\\\":2.8,\\\"sepalLength\\\":6.1,\\\"petalWidth\\\":1.3,\\\"species\\\":\\\"versicolor\\\"},{\\\"petalLength\\\":4.9,\\\"sepalWidth\\\":2.5,\\\"sepalLength\\\":6.3,\\\"petalWidth\\\":1.5,\\\"species\\\":\\\"versicolor\\\"},{\\\"petalLength\\\":4.7,\\\"sepalWidth\\\":2.8,\\\"sepalLength\\\":6.1,\\\"petalWidth\\\":1.2,\\\"species\\\":\\\"versicolor\\\"},{\\\"petalLength\\\":4.3,\\\"sepalWidth\\\":2.9,\\\"sepalLength\\\":6.4,\\\"petalWidth\\\":1.3,\\\"species\\\":\\\"versicolor\\\"},{\\\"petalLength\\\":4.4,\\\"sepalWidth\\\":3.0,\\\"sepalLength\\\":6.6,\\\"petalWidth\\\":1.4,\\\"species\\\":\\\"versicolor\\\"},{\\\"petalLength\\\":4.8,\\\"sepalWidth\\\":2.8,\\\"sepalLength\\\":6.8,\\\"petalWidth\\\":1.4,\\\"species\\\":\\\"versicolor\\\"},{\\\"petalLength\\\":5.0,\\\"sepalWidth\\\":3.0,\\\"sepalLength\\\":6.7,\\\"petalWidth\\\":1.7,\\\"species\\\":\\\"versicolor\\\"},{\\\"petalLength\\\":4.5,\\\"sepalWidth\\\":2.9,\\\"sepalLength\\\":6.0,\\\"petalWidth\\\":1.5,\\\"species\\\":\\\"versicolor\\\"},{\\\"petalLength\\\":3.5,\\\"sepalWidth\\\":2.6,\\\"sepalLength\\\":5.7,\\\"petalWidth\\\":1.0,\\\"species\\\":\\\"versicolor\\\"},{\\\"petalLength\\\":3.8,\\\"sepalWidth\\\":2.4,\\\"sepalLength\\\":5.5,\\\"petalWidth\\\":1.1,\\\"species\\\":\\\"versicolor\\\"},{\\\"petalLength\\\":3.7,\\\"sepalWidth\\\":2.4,\\\"sepalLength\\\":5.5,\\\"petalWidth\\\":1.0,\\\"species\\\":\\\"versicolor\\\"},{\\\"petalLength\\\":3.9,\\\"sepalWidth\\\":2.7,\\\"sepalLength\\\":5.8,\\\"petalWidth\\\":1.2,\\\"species\\\":\\\"versicolor\\\"},{\\\"petalLength\\\":5.1,\\\"sepalWidth\\\":2.7,\\\"sepalLength\\\":6.0,\\\"petalWidth\\\":1.6,\\\"species\\\":\\\"versicolor\\\"},{\\\"petalLength\\\":4.5,\\\"sepalWidth\\\":3.0,\\\"sepalLength\\\":5.4,\\\"petalWidth\\\":1.5,\\\"species\\\":\\\"versicolor\\\"},{\\\"petalLength\\\":4.5,\\\"sepalWidth\\\":3.4,\\\"sepalLength\\\":6.0,\\\"petalWidth\\\":1.6,\\\"species\\\":\\\"versicolor\\\"},{\\\"petalLength\\\":4.7,\\\"sepalWidth\\\":3.1,\\\"sepalLength\\\":6.7,\\\"petalWidth\\\":1.5,\\\"species\\\":\\\"versicolor\\\"},{\\\"petalLength\\\":4.4,\\\"sepalWidth\\\":2.3,\\\"sepalLength\\\":6.3,\\\"petalWidth\\\":1.3,\\\"species\\\":\\\"versicolor\\\"},{\\\"petalLength\\\":4.1,\\\"sepalWidth\\\":3.0,\\\"sepalLength\\\":5.6,\\\"petalWidth\\\":1.3,\\\"species\\\":\\\"versicolor\\\"},{\\\"petalLength\\\":4.0,\\\"sepalWidth\\\":2.5,\\\"sepalLength\\\":5.5,\\\"petalWidth\\\":1.3,\\\"species\\\":\\\"versicolor\\\"},{\\\"petalLength\\\":4.4,\\\"sepalWidth\\\":2.6,\\\"sepalLength\\\":5.5,\\\"petalWidth\\\":1.2,\\\"species\\\":\\\"versicolor\\\"},{\\\"petalLength\\\":4.6,\\\"sepalWidth\\\":3.0,\\\"sepalLength\\\":6.1,\\\"petalWidth\\\":1.4,\\\"species\\\":\\\"versicolor\\\"},{\\\"petalLength\\\":4.0,\\\"sepalWidth\\\":2.6,\\\"sepalLength\\\":5.8,\\\"petalWidth\\\":1.2,\\\"species\\\":\\\"versicolor\\\"},{\\\"petalLength\\\":3.3,\\\"sepalWidth\\\":2.3,\\\"sepalLength\\\":5.0,\\\"petalWidth\\\":1.0,\\\"species\\\":\\\"versicolor\\\"},{\\\"petalLength\\\":4.2,\\\"sepalWidth\\\":2.7,\\\"sepalLength\\\":5.6,\\\"petalWidth\\\":1.3,\\\"species\\\":\\\"versicolor\\\"},{\\\"petalLength\\\":4.2,\\\"sepalWidth\\\":3.0,\\\"sepalLength\\\":5.7,\\\"petalWidth\\\":1.2,\\\"species\\\":\\\"versicolor\\\"},{\\\"petalLength\\\":4.2,\\\"sepalWidth\\\":2.9,\\\"sepalLength\\\":5.7,\\\"petalWidth\\\":1.3,\\\"species\\\":\\\"versicolor\\\"},{\\\"petalLength\\\":4.3,\\\"sepalWidth\\\":2.9,\\\"sepalLength\\\":6.2,\\\"petalWidth\\\":1.3,\\\"species\\\":\\\"versicolor\\\"},{\\\"petalLength\\\":3.0,\\\"sepalWidth\\\":2.5,\\\"sepalLength\\\":5.1,\\\"petalWidth\\\":1.1,\\\"species\\\":\\\"versicolor\\\"},{\\\"petalLength\\\":4.1,\\\"sepalWidth\\\":2.8,\\\"sepalLength\\\":5.7,\\\"petalWidth\\\":1.3,\\\"species\\\":\\\"versicolor\\\"},{\\\"petalLength\\\":6.0,\\\"sepalWidth\\\":3.3,\\\"sepalLength\\\":6.3,\\\"petalWidth\\\":2.5,\\\"species\\\":\\\"virginica\\\"},{\\\"petalLength\\\":5.1,\\\"sepalWidth\\\":2.7,\\\"sepalLength\\\":5.8,\\\"petalWidth\\\":1.9,\\\"species\\\":\\\"virginica\\\"},{\\\"petalLength\\\":5.9,\\\"sepalWidth\\\":3.0,\\\"sepalLength\\\":7.1,\\\"petalWidth\\\":2.1,\\\"species\\\":\\\"virginica\\\"},{\\\"petalLength\\\":5.6,\\\"sepalWidth\\\":2.9,\\\"sepalLength\\\":6.3,\\\"petalWidth\\\":1.8,\\\"species\\\":\\\"virginica\\\"},{\\\"petalLength\\\":5.8,\\\"sepalWidth\\\":3.0,\\\"sepalLength\\\":6.5,\\\"petalWidth\\\":2.2,\\\"species\\\":\\\"virginica\\\"},{\\\"petalLength\\\":6.6,\\\"sepalWidth\\\":3.0,\\\"sepalLength\\\":7.6,\\\"petalWidth\\\":2.1,\\\"species\\\":\\\"virginica\\\"},{\\\"petalLength\\\":4.5,\\\"sepalWidth\\\":2.5,\\\"sepalLength\\\":4.9,\\\"petalWidth\\\":1.7,\\\"species\\\":\\\"virginica\\\"},{\\\"petalLength\\\":6.3,\\\"sepalWidth\\\":2.9,\\\"sepalLength\\\":7.3,\\\"petalWidth\\\":1.8,\\\"species\\\":\\\"virginica\\\"},{\\\"petalLength\\\":5.8,\\\"sepalWidth\\\":2.5,\\\"sepalLength\\\":6.7,\\\"petalWidth\\\":1.8,\\\"species\\\":\\\"virginica\\\"},{\\\"petalLength\\\":6.1,\\\"sepalWidth\\\":3.6,\\\"sepalLength\\\":7.2,\\\"petalWidth\\\":2.5,\\\"species\\\":\\\"virginica\\\"},{\\\"petalLength\\\":5.1,\\\"sepalWidth\\\":3.2,\\\"sepalLength\\\":6.5,\\\"petalWidth\\\":2.0,\\\"species\\\":\\\"virginica\\\"},{\\\"petalLength\\\":5.3,\\\"sepalWidth\\\":2.7,\\\"sepalLength\\\":6.4,\\\"petalWidth\\\":1.9,\\\"species\\\":\\\"virginica\\\"},{\\\"petalLength\\\":5.5,\\\"sepalWidth\\\":3.0,\\\"sepalLength\\\":6.8,\\\"petalWidth\\\":2.1,\\\"species\\\":\\\"virginica\\\"},{\\\"petalLength\\\":5.0,\\\"sepalWidth\\\":2.5,\\\"sepalLength\\\":5.7,\\\"petalWidth\\\":2.0,\\\"species\\\":\\\"virginica\\\"},{\\\"petalLength\\\":5.1,\\\"sepalWidth\\\":2.8,\\\"sepalLength\\\":5.8,\\\"petalWidth\\\":2.4,\\\"species\\\":\\\"virginica\\\"},{\\\"petalLength\\\":5.3,\\\"sepalWidth\\\":3.2,\\\"sepalLength\\\":6.4,\\\"petalWidth\\\":2.3,\\\"species\\\":\\\"virginica\\\"},{\\\"petalLength\\\":5.5,\\\"sepalWidth\\\":3.0,\\\"sepalLength\\\":6.5,\\\"petalWidth\\\":1.8,\\\"species\\\":\\\"virginica\\\"},{\\\"petalLength\\\":6.7,\\\"sepalWidth\\\":3.8,\\\"sepalLength\\\":7.7,\\\"petalWidth\\\":2.2,\\\"species\\\":\\\"virginica\\\"},{\\\"petalLength\\\":6.9,\\\"sepalWidth\\\":2.6,\\\"sepalLength\\\":7.7,\\\"petalWidth\\\":2.3,\\\"species\\\":\\\"virginica\\\"},{\\\"petalLength\\\":5.0,\\\"sepalWidth\\\":2.2,\\\"sepalLength\\\":6.0,\\\"petalWidth\\\":1.5,\\\"species\\\":\\\"virginica\\\"},{\\\"petalLength\\\":5.7,\\\"sepalWidth\\\":3.2,\\\"sepalLength\\\":6.9,\\\"petalWidth\\\":2.3,\\\"species\\\":\\\"virginica\\\"},{\\\"petalLength\\\":4.9,\\\"sepalWidth\\\":2.8,\\\"sepalLength\\\":5.6,\\\"petalWidth\\\":2.0,\\\"species\\\":\\\"virginica\\\"},{\\\"petalLength\\\":6.7,\\\"sepalWidth\\\":2.8,\\\"sepalLength\\\":7.7,\\\"petalWidth\\\":2.0,\\\"species\\\":\\\"virginica\\\"},{\\\"petalLength\\\":4.9,\\\"sepalWidth\\\":2.7,\\\"sepalLength\\\":6.3,\\\"petalWidth\\\":1.8,\\\"species\\\":\\\"virginica\\\"},{\\\"petalLength\\\":5.7,\\\"sepalWidth\\\":3.3,\\\"sepalLength\\\":6.7,\\\"petalWidth\\\":2.1,\\\"species\\\":\\\"virginica\\\"},{\\\"petalLength\\\":6.0,\\\"sepalWidth\\\":3.2,\\\"sepalLength\\\":7.2,\\\"petalWidth\\\":1.8,\\\"species\\\":\\\"virginica\\\"},{\\\"petalLength\\\":4.8,\\\"sepalWidth\\\":2.8,\\\"sepalLength\\\":6.2,\\\"petalWidth\\\":1.8,\\\"species\\\":\\\"virginica\\\"},{\\\"petalLength\\\":4.9,\\\"sepalWidth\\\":3.0,\\\"sepalLength\\\":6.1,\\\"petalWidth\\\":1.8,\\\"species\\\":\\\"virginica\\\"},{\\\"petalLength\\\":5.6,\\\"sepalWidth\\\":2.8,\\\"sepalLength\\\":6.4,\\\"petalWidth\\\":2.1,\\\"species\\\":\\\"virginica\\\"},{\\\"petalLength\\\":5.8,\\\"sepalWidth\\\":3.0,\\\"sepalLength\\\":7.2,\\\"petalWidth\\\":1.6,\\\"species\\\":\\\"virginica\\\"},{\\\"petalLength\\\":6.1,\\\"sepalWidth\\\":2.8,\\\"sepalLength\\\":7.4,\\\"petalWidth\\\":1.9,\\\"species\\\":\\\"virginica\\\"},{\\\"petalLength\\\":6.4,\\\"sepalWidth\\\":3.8,\\\"sepalLength\\\":7.9,\\\"petalWidth\\\":2.0,\\\"species\\\":\\\"virginica\\\"},{\\\"petalLength\\\":5.6,\\\"sepalWidth\\\":2.8,\\\"sepalLength\\\":6.4,\\\"petalWidth\\\":2.2,\\\"species\\\":\\\"virginica\\\"},{\\\"petalLength\\\":5.1,\\\"sepalWidth\\\":2.8,\\\"sepalLength\\\":6.3,\\\"petalWidth\\\":1.5,\\\"species\\\":\\\"virginica\\\"},{\\\"petalLength\\\":5.6,\\\"sepalWidth\\\":2.6,\\\"sepalLength\\\":6.1,\\\"petalWidth\\\":1.4,\\\"species\\\":\\\"virginica\\\"},{\\\"petalLength\\\":6.1,\\\"sepalWidth\\\":3.0,\\\"sepalLength\\\":7.7,\\\"petalWidth\\\":2.3,\\\"species\\\":\\\"virginica\\\"},{\\\"petalLength\\\":5.6,\\\"sepalWidth\\\":3.4,\\\"sepalLength\\\":6.3,\\\"petalWidth\\\":2.4,\\\"species\\\":\\\"virginica\\\"},{\\\"petalLength\\\":5.5,\\\"sepalWidth\\\":3.1,\\\"sepalLength\\\":6.4,\\\"petalWidth\\\":1.8,\\\"species\\\":\\\"virginica\\\"},{\\\"petalLength\\\":4.8,\\\"sepalWidth\\\":3.0,\\\"sepalLength\\\":6.0,\\\"petalWidth\\\":1.8,\\\"species\\\":\\\"virginica\\\"},{\\\"petalLength\\\":5.4,\\\"sepalWidth\\\":3.1,\\\"sepalLength\\\":6.9,\\\"petalWidth\\\":2.1,\\\"species\\\":\\\"virginica\\\"},{\\\"petalLength\\\":5.6,\\\"sepalWidth\\\":3.1,\\\"sepalLength\\\":6.7,\\\"petalWidth\\\":2.4,\\\"species\\\":\\\"virginica\\\"},{\\\"petalLength\\\":5.1,\\\"sepalWidth\\\":3.1,\\\"sepalLength\\\":6.9,\\\"petalWidth\\\":2.3,\\\"species\\\":\\\"virginica\\\"},{\\\"petalLength\\\":5.1,\\\"sepalWidth\\\":2.7,\\\"sepalLength\\\":5.8,\\\"petalWidth\\\":1.9,\\\"species\\\":\\\"virginica\\\"},{\\\"petalLength\\\":5.9,\\\"sepalWidth\\\":3.2,\\\"sepalLength\\\":6.8,\\\"petalWidth\\\":2.3,\\\"species\\\":\\\"virginica\\\"},{\\\"petalLength\\\":5.7,\\\"sepalWidth\\\":3.3,\\\"sepalLength\\\":6.7,\\\"petalWidth\\\":2.5,\\\"species\\\":\\\"virginica\\\"},{\\\"petalLength\\\":5.2,\\\"sepalWidth\\\":3.0,\\\"sepalLength\\\":6.7,\\\"petalWidth\\\":2.3,\\\"species\\\":\\\"virginica\\\"},{\\\"petalLength\\\":5.0,\\\"sepalWidth\\\":2.5,\\\"sepalLength\\\":6.3,\\\"petalWidth\\\":1.9,\\\"species\\\":\\\"virginica\\\"},{\\\"petalLength\\\":5.2,\\\"sepalWidth\\\":3.0,\\\"sepalLength\\\":6.5,\\\"petalWidth\\\":2.0,\\\"species\\\":\\\"virginica\\\"},{\\\"petalLength\\\":5.4,\\\"sepalWidth\\\":3.4,\\\"sepalLength\\\":6.2,\\\"petalWidth\\\":2.3,\\\"species\\\":\\\"virginica\\\"},{\\\"petalLength\\\":5.1,\\\"sepalWidth\\\":3.0,\\\"sepalLength\\\":5.9,\\\"petalWidth\\\":1.8,\\\"species\\\":\\\"virginica\\\"}]\""
      ]
     },
     "execution_count": 116,
     "metadata": {},
     "output_type": "execute_result"
    }
   ],
   "source": [
    "str = JSON.json(j)"
   ]
  },
  {
   "cell_type": "code",
   "execution_count": 117,
   "metadata": {
    "colab": {},
    "colab_type": "code",
    "id": "sdKFMRFQwgBY"
   },
   "outputs": [],
   "source": [
    "f = open(\"b.json\", \"w\")\n",
    "println(f, str)\n",
    "close(f)"
   ]
  },
  {
   "cell_type": "markdown",
   "metadata": {
    "colab_type": "text",
    "id": "j0j_ZZ0cwgBl"
   },
   "source": [
    "## 3. 資料庫連線\n",
    "\n",
    "![](https://avatars3.githubusercontent.com/u/6539129?s=200&v=4)\n",
    "\n",
    "以下範例將以 JuliaDatabases 的套件示範。\n",
    "\n",
    "GitHub: [https://github.com/JuliaDatabases](https://github.com/JuliaDatabases)\n",
    "\n",
    "### 3.1 透過 ODBC.jl 連接 SQLite 資料庫\n",
    "\n",
    "在 Windows 10 中要透過 ODBC 連接 SQLite 資料庫，須先安裝及設定 ODBC Driver for SQLite，範例中以 devart 的驅動程式為例。\n",
    "\n",
    "免費下載試用版路徑為 [ODBC Driver for SQLite](https://www.devart.com/odbc/sqlite/download.html)。\n",
    "\n",
    "設定 devart ODBC Driver for SQLite ，請參考文件：[Connecting to SQLite](https://www.devart.com/odbc/sqlite/docs/driver_configuration_and_conne.htm)\n",
    "\n",
    "另外，需安裝 `ODBC.jl` 套件，在 Julia 中呼叫 ODBC 介面。"
   ]
  },
  {
   "cell_type": "code",
   "execution_count": 118,
   "metadata": {
    "colab": {},
    "colab_type": "code",
    "id": "WR8XREtLwgBm",
    "outputId": "118e7447-0e13-4981-e1a0-694fb3ece575"
   },
   "outputs": [
    {
     "name": "stderr",
     "output_type": "stream",
     "text": [
      "\u001b[32m\u001b[1m  Resolving\u001b[22m\u001b[39m package versions...\n",
      "\u001b[32m\u001b[1m  Installed\u001b[22m\u001b[39m DecFP ──────────── v0.4.10\n",
      "\u001b[32m\u001b[1m  Installed\u001b[22m\u001b[39m SpecialFunctions ─ v0.9.0\n",
      "\u001b[32m\u001b[1m  Installed\u001b[22m\u001b[39m ODBC ───────────── v0.9.0\n",
      "\u001b[32m\u001b[1m   Updating\u001b[22m\u001b[39m `C:\\Users\\kai\\.julia\\environments\\v1.4\\Project.toml`\n",
      " \u001b[90m [be6f12e9]\u001b[39m\u001b[92m + ODBC v0.9.0\u001b[39m\n",
      "\u001b[32m\u001b[1m   Updating\u001b[22m\u001b[39m `C:\\Users\\kai\\.julia\\environments\\v1.4\\Manifest.toml`\n",
      " \u001b[90m [55939f99]\u001b[39m\u001b[92m + DecFP v0.4.10\u001b[39m\n",
      " \u001b[90m [8f5d6c58]\u001b[39m\u001b[93m ↑ EzXML v0.9.5 ⇒ v1.1.0\u001b[39m\n",
      " \u001b[90m [94ce4f54]\u001b[39m\u001b[92m + Libiconv_jll v1.16.0+2\u001b[39m\n",
      " \u001b[90m [be6f12e9]\u001b[39m\u001b[92m + ODBC v0.9.0\u001b[39m\n",
      " \u001b[90m [276daf66]\u001b[39m\u001b[95m ↓ SpecialFunctions v0.10.0 ⇒ v0.9.0\u001b[39m\n",
      " \u001b[90m [02c8fc9c]\u001b[39m\u001b[92m + XML2_jll v2.9.9+4\u001b[39m\n",
      "\u001b[32m\u001b[1m   Building\u001b[22m\u001b[39m DecFP → `C:\\Users\\kai\\.julia\\packages\\DecFP\\quvcm\\deps\\build.log`\n"
     ]
    }
   ],
   "source": [
    "# 如果尚未安裝, 需先安裝套件\n",
    "Pkg.add(\"ODBC\")"
   ]
  },
  {
   "cell_type": "code",
   "execution_count": 119,
   "metadata": {
    "colab": {},
    "colab_type": "code",
    "id": "ZS6dt39twgBt",
    "outputId": "f20dd7d5-0444-4d19-e530-1a1c68575eeb"
   },
   "outputs": [
    {
     "name": "stderr",
     "output_type": "stream",
     "text": [
      "┌ Info: Precompiling ODBC [be6f12e9-ca4f-5eb2-a339-a4f995cc0291]\n",
      "└ @ Base loading.jl:1260\n"
     ]
    }
   ],
   "source": [
    "using ODBC"
   ]
  },
  {
   "cell_type": "markdown",
   "metadata": {
    "colab_type": "text",
    "id": "8njB9XVjwgBz"
   },
   "source": [
    "利用 DSN 連接資料來源, 在 Windows 環境中, 須先到控制台的系統管理工具中, 設定 ODBC 資料來源, 下面範例的 DSN 名稱為 \"iris-dsn\", 資料庫中 table 名稱為 \"iris\".\n",
    "\n",
    "設定 DSN 時, 請將資料庫檔案為 iris_dataset.db"
   ]
  },
  {
   "cell_type": "code",
   "execution_count": 42,
   "metadata": {
    "colab": {},
    "colab_type": "code",
    "id": "mn49SONbwgB1",
    "outputId": "082ac614-95f3-47f1-a739-9d375dcb1eb3"
   },
   "outputs": [
    {
     "ename": "ODBC.ODBCError",
     "evalue": "ODBC.ODBCError(\"API.SQLExecDirect(stmt, query) failed; return code: -2 => SQL_INVALID_HANDLE\")",
     "output_type": "error",
     "traceback": [
      "ODBC.ODBCError(\"API.SQLExecDirect(stmt, query) failed; return code: -2 => SQL_INVALID_HANDLE\")",
      "",
      "Stacktrace:",
      " [1] macro expansion at C:\\Users\\james\\.julia\\packages\\ODBC\\5L1N8\\src\\ODBC.jl:57 [inlined]",
      " [2] ODBC.Query(::ODBC.DSN, ::String) at C:\\Users\\james\\.julia\\packages\\ODBC\\5L1N8\\src\\Query.jl:52",
      " [3] #query#15(::Bool, ::Bool, ::Dict{Int64,Function}, ::typeof(ODBC.query), ::ODBC.DSN, ::String, ::Type{DataFrame}) at C:\\Users\\james\\.julia\\packages\\ODBC\\5L1N8\\src\\Query.jl:390",
      " [4] query at C:\\Users\\james\\.julia\\packages\\ODBC\\5L1N8\\src\\Query.jl:385 [inlined]",
      " [5] query(::ODBC.DSN, ::String) at C:\\Users\\james\\.julia\\packages\\ODBC\\5L1N8\\src\\Query.jl:376",
      " [6] top-level scope at In[42]:2"
     ]
    }
   ],
   "source": [
    "dsn = ODBC.DSN(\"iris_dsn\")\n",
    "df = ODBC.query(dsn, \"select * from iris\")"
   ]
  },
  {
   "cell_type": "code",
   "execution_count": 43,
   "metadata": {
    "colab": {},
    "colab_type": "code",
    "id": "a4S-7A5NwgB4"
   },
   "outputs": [],
   "source": [
    "ODBC.disconnect!(dsn)"
   ]
  },
  {
   "cell_type": "markdown",
   "metadata": {
    "colab_type": "text",
    "id": "9whA-W-owgB7"
   },
   "source": [
    "### 3.2 透過原生套件連接 SQLite 資料庫"
   ]
  },
  {
   "cell_type": "code",
   "execution_count": 120,
   "metadata": {
    "colab": {},
    "colab_type": "code",
    "id": "DVmxlVsGwgB-",
    "outputId": "0d958e49-043c-472e-9faa-76d42302db3d"
   },
   "outputs": [
    {
     "name": "stderr",
     "output_type": "stream",
     "text": [
      "\u001b[32m\u001b[1m  Resolving\u001b[22m\u001b[39m package versions...\n",
      "\u001b[32m\u001b[1m  Installed\u001b[22m\u001b[39m SQLite ─ v0.8.1\n",
      "\u001b[32m\u001b[1m   Updating\u001b[22m\u001b[39m `C:\\Users\\kai\\.julia\\environments\\v1.4\\Project.toml`\n",
      " \u001b[90m [0aa819cd]\u001b[39m\u001b[92m + SQLite v0.8.1\u001b[39m\n",
      "\u001b[32m\u001b[1m   Updating\u001b[22m\u001b[39m `C:\\Users\\kai\\.julia\\environments\\v1.4\\Manifest.toml`\n",
      " \u001b[90m [0aa819cd]\u001b[39m\u001b[92m + SQLite v0.8.1\u001b[39m\n",
      "\u001b[32m\u001b[1m   Building\u001b[22m\u001b[39m SQLite → `C:\\Users\\kai\\.julia\\packages\\SQLite\\yKARA\\deps\\build.log`\n"
     ]
    }
   ],
   "source": [
    "# 如果尚未安裝, 需先安裝套件\n",
    "Pkg.add(PackageSpec(name=\"SQLite\", version=\"0.8.1\"))"
   ]
  },
  {
   "cell_type": "code",
   "execution_count": 121,
   "metadata": {
    "colab": {},
    "colab_type": "code",
    "id": "Qc9q1_b4wgCE",
    "outputId": "49603796-4b7a-4495-efba-8da1a47bf128"
   },
   "outputs": [
    {
     "name": "stderr",
     "output_type": "stream",
     "text": [
      "┌ Warning: Pkg.installed() is deprecated\n",
      "└ @ Pkg D:\\buildbot\\worker\\package_win64\\build\\usr\\share\\julia\\stdlib\\v1.4\\Pkg\\src\\Pkg.jl:531\n"
     ]
    },
    {
     "data": {
      "text/plain": [
       "v\"0.8.1\""
      ]
     },
     "execution_count": 121,
     "metadata": {},
     "output_type": "execute_result"
    }
   ],
   "source": [
    "# 目前安裝版本\n",
    "Pkg.installed()[\"SQLite\"]"
   ]
  },
  {
   "cell_type": "code",
   "execution_count": 122,
   "metadata": {
    "colab": {},
    "colab_type": "code",
    "id": "pvYCEWyQwgCI",
    "outputId": "281efb3b-5ad3-4c28-c410-ee11bcf8ee56"
   },
   "outputs": [
    {
     "name": "stderr",
     "output_type": "stream",
     "text": [
      "┌ Info: Precompiling SQLite [0aa819cd-b072-5ff4-a722-6bc24af294d9]\n",
      "└ @ Base loading.jl:1260\n"
     ]
    }
   ],
   "source": [
    "using SQLite"
   ]
  },
  {
   "cell_type": "code",
   "execution_count": 123,
   "metadata": {
    "colab": {},
    "colab_type": "code",
    "id": "Dor483MUwgCL",
    "outputId": "bdbab317-4d63-48d0-eda1-ec10a74e1b50"
   },
   "outputs": [
    {
     "data": {
      "text/plain": [
       "SQLite.DB(\"iris_dataset.db\")"
      ]
     },
     "execution_count": 123,
     "metadata": {},
     "output_type": "execute_result"
    }
   ],
   "source": [
    "# 從 SQLite 資料庫中讀取資料並傳回 DataFrame\n",
    "cond = \"Iris-setosa\"\n",
    "\n",
    "db = SQLite.DB(\"iris_dataset.db\")"
   ]
  },
  {
   "cell_type": "code",
   "execution_count": 127,
   "metadata": {},
   "outputs": [
    {
     "name": "stdout",
     "output_type": "stream",
     "text": [
      "SQLite.DB\n",
      "  file: String \"iris_dataset.db\"\n",
      "  handle: Ptr{Nothing} @0x0000000034a839e8\n",
      "  changes: Int64 0\n"
     ]
    }
   ],
   "source": [
    "dump(db)"
   ]
  },
  {
   "cell_type": "code",
   "execution_count": 129,
   "metadata": {},
   "outputs": [
    {
     "data": {
      "text/plain": [
       "SQLite.Query{NamedTuple{(:sepal_length, :sepal_width, :petal_length, :petal_width, :species),Tuple{Union{Missing, Float64},Union{Missing, Float64},Union{Missing, Float64},Union{Missing, Float64},Union{Missing, String}}}}(SQLite.Stmt(SQLite.DB(\"iris_dataset.db\"), Ptr{Nothing} @0x0000000051bff2b8), Base.RefValue{Int32}(100))"
      ]
     },
     "execution_count": 129,
     "metadata": {},
     "output_type": "execute_result"
    }
   ],
   "source": [
    "SQLite.Query(db, \"SELECT * FROM iris where species = \\'$cond\\'\")"
   ]
  },
  {
   "cell_type": "code",
   "execution_count": 130,
   "metadata": {},
   "outputs": [
    {
     "data": {
      "text/plain": [
       "SQLite.Query{NamedTuple{(:sepal_length, :sepal_width, :petal_length, :petal_width, :species),Tuple{Union{Missing, Float64},Union{Missing, Float64},Union{Missing, Float64},Union{Missing, Float64},Union{Missing, String}}}}"
      ]
     },
     "execution_count": 130,
     "metadata": {},
     "output_type": "execute_result"
    }
   ],
   "source": [
    "typeof(SQLite.Query(db, \"SELECT * FROM iris where species = \\'$cond\\'\"))"
   ]
  },
  {
   "cell_type": "code",
   "execution_count": 131,
   "metadata": {},
   "outputs": [
    {
     "data": {
      "text/plain": [
       "SQLite.Query{NamedTuple{(:sepal_length, :sepal_width, :petal_length, :petal_width, :species),Tuple{Union{Missing, Float64},Union{Missing, Float64},Union{Missing, Float64},Union{Missing, Float64},Union{Missing, String}}}}(SQLite.Stmt(SQLite.DB(\"iris_dataset.db\"), Ptr{Nothing} @0x0000000051c01ce8), Base.RefValue{Int32}(100))"
      ]
     },
     "execution_count": 131,
     "metadata": {},
     "output_type": "execute_result"
    }
   ],
   "source": [
    "a = SQLite.Query(db, \"SELECT * FROM iris where species = \\'$cond\\'\")"
   ]
  },
  {
   "cell_type": "code",
   "execution_count": 134,
   "metadata": {},
   "outputs": [
    {
     "name": "stdout",
     "output_type": "stream",
     "text": [
      "SQLite.Query{NamedTuple{(:sepal_length, :sepal_width, :petal_length, :petal_width, :species),Tuple{Union{Missing, Float64},Union{Missing, Float64},Union{Missing, Float64},Union{Missing, Float64},Union{Missing, String}}}}\n",
      "  stmt: SQLite.Stmt\n",
      "    db: SQLite.DB\n",
      "      file: String \"iris_dataset.db\"\n",
      "      handle: Ptr{Nothing} @0x0000000034a839e8\n",
      "      changes: Int64 0\n",
      "    handle: Ptr{Nothing} @0x0000000051c01ce8\n",
      "  status: Base.RefValue{Int32}\n",
      "    x: Int32 100\n"
     ]
    }
   ],
   "source": [
    "dump(a)"
   ]
  },
  {
   "cell_type": "code",
   "execution_count": 128,
   "metadata": {
    "colab": {},
    "colab_type": "code",
    "id": "Dor483MUwgCL",
    "outputId": "bdbab317-4d63-48d0-eda1-ec10a74e1b50"
   },
   "outputs": [
    {
     "data": {
      "text/html": [
       "<table class=\"data-frame\"><thead><tr><th></th><th>sepal_length</th><th>sepal_width</th><th>petal_length</th><th>petal_width</th><th>species</th></tr><tr><th></th><th>Float64⍰</th><th>Float64⍰</th><th>Float64⍰</th><th>Float64⍰</th><th>String⍰</th></tr></thead><tbody><p>50 rows × 5 columns</p><tr><th>1</th><td>5.1</td><td>3.5</td><td>1.4</td><td>0.2</td><td>Iris-setosa</td></tr><tr><th>2</th><td>4.9</td><td>3.0</td><td>1.4</td><td>0.2</td><td>Iris-setosa</td></tr><tr><th>3</th><td>4.7</td><td>3.2</td><td>1.3</td><td>0.2</td><td>Iris-setosa</td></tr><tr><th>4</th><td>4.6</td><td>3.1</td><td>1.5</td><td>0.2</td><td>Iris-setosa</td></tr><tr><th>5</th><td>5.0</td><td>3.6</td><td>1.4</td><td>0.2</td><td>Iris-setosa</td></tr><tr><th>6</th><td>5.4</td><td>3.9</td><td>1.7</td><td>0.4</td><td>Iris-setosa</td></tr><tr><th>7</th><td>4.6</td><td>3.4</td><td>1.4</td><td>0.3</td><td>Iris-setosa</td></tr><tr><th>8</th><td>5.0</td><td>3.4</td><td>1.5</td><td>0.2</td><td>Iris-setosa</td></tr><tr><th>9</th><td>4.4</td><td>2.9</td><td>1.4</td><td>0.2</td><td>Iris-setosa</td></tr><tr><th>10</th><td>4.9</td><td>3.1</td><td>1.5</td><td>0.1</td><td>Iris-setosa</td></tr><tr><th>11</th><td>5.4</td><td>3.7</td><td>1.5</td><td>0.2</td><td>Iris-setosa</td></tr><tr><th>12</th><td>4.8</td><td>3.4</td><td>1.6</td><td>0.2</td><td>Iris-setosa</td></tr><tr><th>13</th><td>4.8</td><td>3.0</td><td>1.4</td><td>0.1</td><td>Iris-setosa</td></tr><tr><th>14</th><td>4.3</td><td>3.0</td><td>1.1</td><td>0.1</td><td>Iris-setosa</td></tr><tr><th>15</th><td>5.8</td><td>4.0</td><td>1.2</td><td>0.2</td><td>Iris-setosa</td></tr><tr><th>16</th><td>5.7</td><td>4.4</td><td>1.5</td><td>0.4</td><td>Iris-setosa</td></tr><tr><th>17</th><td>5.4</td><td>3.9</td><td>1.3</td><td>0.4</td><td>Iris-setosa</td></tr><tr><th>18</th><td>5.1</td><td>3.5</td><td>1.4</td><td>0.3</td><td>Iris-setosa</td></tr><tr><th>19</th><td>5.7</td><td>3.8</td><td>1.7</td><td>0.3</td><td>Iris-setosa</td></tr><tr><th>20</th><td>5.1</td><td>3.8</td><td>1.5</td><td>0.3</td><td>Iris-setosa</td></tr><tr><th>21</th><td>5.4</td><td>3.4</td><td>1.7</td><td>0.2</td><td>Iris-setosa</td></tr><tr><th>22</th><td>5.1</td><td>3.7</td><td>1.5</td><td>0.4</td><td>Iris-setosa</td></tr><tr><th>23</th><td>4.6</td><td>3.6</td><td>1.0</td><td>0.2</td><td>Iris-setosa</td></tr><tr><th>24</th><td>5.1</td><td>3.3</td><td>1.7</td><td>0.5</td><td>Iris-setosa</td></tr><tr><th>25</th><td>4.8</td><td>3.4</td><td>1.9</td><td>0.2</td><td>Iris-setosa</td></tr><tr><th>26</th><td>5.0</td><td>3.0</td><td>1.6</td><td>0.2</td><td>Iris-setosa</td></tr><tr><th>27</th><td>5.0</td><td>3.4</td><td>1.6</td><td>0.4</td><td>Iris-setosa</td></tr><tr><th>28</th><td>5.2</td><td>3.5</td><td>1.5</td><td>0.2</td><td>Iris-setosa</td></tr><tr><th>29</th><td>5.2</td><td>3.4</td><td>1.4</td><td>0.2</td><td>Iris-setosa</td></tr><tr><th>30</th><td>4.7</td><td>3.2</td><td>1.6</td><td>0.2</td><td>Iris-setosa</td></tr><tr><th>&vellip;</th><td>&vellip;</td><td>&vellip;</td><td>&vellip;</td><td>&vellip;</td><td>&vellip;</td></tr></tbody></table>"
      ],
      "text/latex": [
       "\\begin{tabular}{r|ccccc}\n",
       "\t& sepal\\_length & sepal\\_width & petal\\_length & petal\\_width & species\\\\\n",
       "\t\\hline\n",
       "\t& Float64⍰ & Float64⍰ & Float64⍰ & Float64⍰ & String⍰\\\\\n",
       "\t\\hline\n",
       "\t1 & 5.1 & 3.5 & 1.4 & 0.2 & Iris-setosa \\\\\n",
       "\t2 & 4.9 & 3.0 & 1.4 & 0.2 & Iris-setosa \\\\\n",
       "\t3 & 4.7 & 3.2 & 1.3 & 0.2 & Iris-setosa \\\\\n",
       "\t4 & 4.6 & 3.1 & 1.5 & 0.2 & Iris-setosa \\\\\n",
       "\t5 & 5.0 & 3.6 & 1.4 & 0.2 & Iris-setosa \\\\\n",
       "\t6 & 5.4 & 3.9 & 1.7 & 0.4 & Iris-setosa \\\\\n",
       "\t7 & 4.6 & 3.4 & 1.4 & 0.3 & Iris-setosa \\\\\n",
       "\t8 & 5.0 & 3.4 & 1.5 & 0.2 & Iris-setosa \\\\\n",
       "\t9 & 4.4 & 2.9 & 1.4 & 0.2 & Iris-setosa \\\\\n",
       "\t10 & 4.9 & 3.1 & 1.5 & 0.1 & Iris-setosa \\\\\n",
       "\t11 & 5.4 & 3.7 & 1.5 & 0.2 & Iris-setosa \\\\\n",
       "\t12 & 4.8 & 3.4 & 1.6 & 0.2 & Iris-setosa \\\\\n",
       "\t13 & 4.8 & 3.0 & 1.4 & 0.1 & Iris-setosa \\\\\n",
       "\t14 & 4.3 & 3.0 & 1.1 & 0.1 & Iris-setosa \\\\\n",
       "\t15 & 5.8 & 4.0 & 1.2 & 0.2 & Iris-setosa \\\\\n",
       "\t16 & 5.7 & 4.4 & 1.5 & 0.4 & Iris-setosa \\\\\n",
       "\t17 & 5.4 & 3.9 & 1.3 & 0.4 & Iris-setosa \\\\\n",
       "\t18 & 5.1 & 3.5 & 1.4 & 0.3 & Iris-setosa \\\\\n",
       "\t19 & 5.7 & 3.8 & 1.7 & 0.3 & Iris-setosa \\\\\n",
       "\t20 & 5.1 & 3.8 & 1.5 & 0.3 & Iris-setosa \\\\\n",
       "\t21 & 5.4 & 3.4 & 1.7 & 0.2 & Iris-setosa \\\\\n",
       "\t22 & 5.1 & 3.7 & 1.5 & 0.4 & Iris-setosa \\\\\n",
       "\t23 & 4.6 & 3.6 & 1.0 & 0.2 & Iris-setosa \\\\\n",
       "\t24 & 5.1 & 3.3 & 1.7 & 0.5 & Iris-setosa \\\\\n",
       "\t25 & 4.8 & 3.4 & 1.9 & 0.2 & Iris-setosa \\\\\n",
       "\t26 & 5.0 & 3.0 & 1.6 & 0.2 & Iris-setosa \\\\\n",
       "\t27 & 5.0 & 3.4 & 1.6 & 0.4 & Iris-setosa \\\\\n",
       "\t28 & 5.2 & 3.5 & 1.5 & 0.2 & Iris-setosa \\\\\n",
       "\t29 & 5.2 & 3.4 & 1.4 & 0.2 & Iris-setosa \\\\\n",
       "\t30 & 4.7 & 3.2 & 1.6 & 0.2 & Iris-setosa \\\\\n",
       "\t$\\dots$ & $\\dots$ & $\\dots$ & $\\dots$ & $\\dots$ & $\\dots$ \\\\\n",
       "\\end{tabular}\n"
      ],
      "text/plain": [
       "50×5 DataFrame\n",
       "│ Row │ sepal_length │ sepal_width │ petal_length │ petal_width │ species     │\n",
       "│     │ \u001b[90mFloat64⍰\u001b[39m     │ \u001b[90mFloat64⍰\u001b[39m    │ \u001b[90mFloat64⍰\u001b[39m     │ \u001b[90mFloat64⍰\u001b[39m    │ \u001b[90mString⍰\u001b[39m     │\n",
       "├─────┼──────────────┼─────────────┼──────────────┼─────────────┼─────────────┤\n",
       "│ 1   │ 5.1          │ 3.5         │ 1.4          │ 0.2         │ Iris-setosa │\n",
       "│ 2   │ 4.9          │ 3.0         │ 1.4          │ 0.2         │ Iris-setosa │\n",
       "│ 3   │ 4.7          │ 3.2         │ 1.3          │ 0.2         │ Iris-setosa │\n",
       "│ 4   │ 4.6          │ 3.1         │ 1.5          │ 0.2         │ Iris-setosa │\n",
       "│ 5   │ 5.0          │ 3.6         │ 1.4          │ 0.2         │ Iris-setosa │\n",
       "│ 6   │ 5.4          │ 3.9         │ 1.7          │ 0.4         │ Iris-setosa │\n",
       "│ 7   │ 4.6          │ 3.4         │ 1.4          │ 0.3         │ Iris-setosa │\n",
       "│ 8   │ 5.0          │ 3.4         │ 1.5          │ 0.2         │ Iris-setosa │\n",
       "│ 9   │ 4.4          │ 2.9         │ 1.4          │ 0.2         │ Iris-setosa │\n",
       "│ 10  │ 4.9          │ 3.1         │ 1.5          │ 0.1         │ Iris-setosa │\n",
       "⋮\n",
       "│ 40  │ 5.1          │ 3.4         │ 1.5          │ 0.2         │ Iris-setosa │\n",
       "│ 41  │ 5.0          │ 3.5         │ 1.3          │ 0.3         │ Iris-setosa │\n",
       "│ 42  │ 4.5          │ 2.3         │ 1.3          │ 0.3         │ Iris-setosa │\n",
       "│ 43  │ 4.4          │ 3.2         │ 1.3          │ 0.2         │ Iris-setosa │\n",
       "│ 44  │ 5.0          │ 3.5         │ 1.6          │ 0.6         │ Iris-setosa │\n",
       "│ 45  │ 5.1          │ 3.8         │ 1.9          │ 0.4         │ Iris-setosa │\n",
       "│ 46  │ 4.8          │ 3.0         │ 1.4          │ 0.3         │ Iris-setosa │\n",
       "│ 47  │ 5.1          │ 3.8         │ 1.6          │ 0.2         │ Iris-setosa │\n",
       "│ 48  │ 4.6          │ 3.2         │ 1.4          │ 0.2         │ Iris-setosa │\n",
       "│ 49  │ 5.3          │ 3.7         │ 1.5          │ 0.2         │ Iris-setosa │\n",
       "│ 50  │ 5.0          │ 3.3         │ 1.4          │ 0.2         │ Iris-setosa │"
      ]
     },
     "execution_count": 128,
     "metadata": {},
     "output_type": "execute_result"
    }
   ],
   "source": [
    "# SQLite.Query(db, sql::String; values=[]; stricttypes::Bool=true, nullable::Bool=true)\n",
    "df = SQLite.Query(db, \"SELECT * FROM iris where species = \\'$cond\\'\") |> DataFrame"
   ]
  },
  {
   "cell_type": "markdown",
   "metadata": {
    "colab": {},
    "colab_type": "code",
    "id": "B7DmJbcfwgCP"
   },
   "source": [
    "# References:\n",
    "- Marathon example notebook\n",
    "- [I/O and Network](https://docs.julialang.org/en/v1/base/io-network/)\n",
    "- [github: CSV.jl](https://github.com/JuliaData/CSV.jl)\n",
    "- [github: SQLite.jl](https://juliadatabases.github.io/SQLite.jl/stable/)"
   ]
  }
 ],
 "metadata": {
  "@webio": {
   "lastCommId": null,
   "lastKernelId": null
  },
  "colab": {
   "name": "julia_013_example.ipynb",
   "provenance": []
  },
  "kernelspec": {
   "display_name": "Julia 1.4.0",
   "language": "julia",
   "name": "julia-1.4"
  },
  "language_info": {
   "file_extension": ".jl",
   "mimetype": "application/julia",
   "name": "julia",
   "version": "1.4.0"
  }
 },
 "nbformat": 4,
 "nbformat_minor": 4
}
