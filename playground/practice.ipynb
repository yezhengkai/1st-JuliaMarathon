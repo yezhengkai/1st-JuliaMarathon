{
 "cells": [
  {
   "cell_type": "code",
   "execution_count": 78,
   "metadata": {},
   "outputs": [
    {
     "data": {
      "text/plain": [
       "openit (generic function with 1 method)"
      ]
     },
     "execution_count": 78,
     "metadata": {},
     "output_type": "execute_result"
    }
   ],
   "source": [
    "# https://discourse.julialang.org/t/open-file-with-systems-default-program/3019/2\n",
    "# https://discourse.julialang.org/t/system-commands/10618\n",
    "# https://docs.julialang.org/en/v1/manual/running-external-programs/\n",
    "# https://docs.julialang.org/en/v1/base/file/\n",
    "# https://docs.julialang.org/en/v1/base/base/#Base.run\n",
    "\n",
    "function openit(path::AbstractString)\n",
    "    if !ispath(path)\n",
    "        @warn(\"You have entered an invalid file system entity.\");\n",
    "        return nothing\n",
    "    end\n",
    "    \n",
    "    if Sys.iswindows()\n",
    "        run(`cmd /c start $path`, wait=false);\n",
    "    elseif Sys.islinux()\n",
    "        run(`xdg-open $path`, wait=false);\n",
    "    else\n",
    "        @warn(\"Couldn't open $path\");\n",
    "    end\n",
    "    return nothing\n",
    "end"
   ]
  },
  {
   "cell_type": "code",
   "execution_count": 79,
   "metadata": {},
   "outputs": [],
   "source": [
    "f = raw\"..\\\\playground\"\n",
    "openit(f)"
   ]
  },
  {
   "cell_type": "code",
   "execution_count": 80,
   "metadata": {},
   "outputs": [
    {
     "name": "stderr",
     "output_type": "stream",
     "text": [
      "┌ Warning: You have entered an invalid file system entity.\n",
      "└ @ Main In[78]:9\n"
     ]
    }
   ],
   "source": [
    "f = raw\"..\\\\play\"\n",
    "openit(f)"
   ]
  },
  {
   "cell_type": "code",
   "execution_count": 81,
   "metadata": {},
   "outputs": [],
   "source": [
    "f = raw\"Untitled.ipynb\"\n",
    "openit(f)"
   ]
  },
  {
   "cell_type": "code",
   "execution_count": null,
   "metadata": {},
   "outputs": [],
   "source": []
  }
 ],
 "metadata": {
  "kernelspec": {
   "display_name": "Julia 1.4.0",
   "language": "julia",
   "name": "julia-1.4"
  },
  "language_info": {
   "file_extension": ".jl",
   "mimetype": "application/julia",
   "name": "julia",
   "version": "1.4.0"
  }
 },
 "nbformat": 4,
 "nbformat_minor": 4
}
