{
 "cells": [
  {
   "cell_type": "markdown",
   "metadata": {},
   "source": [
    "# Julia 數值系統\n",
    "Julia 數值系統型別 (Type) 階層，其最上層的父型別是`Any`，也是 Julia 所有型別的父型別。數值系統的最上層父型別為`Number`。\n",
    "\n",
    "In Julia, the top supertype of all types is `Any`. ([Special types: Core.Any](https://docs.julialang.org/en/v1/base/base/#Core.Any))\n",
    "\n",
    "And the top supertype in numeric primitives is `Number`."
   ]
  },
  {
   "cell_type": "code",
   "execution_count": 50,
   "metadata": {},
   "outputs": [
    {
     "name": "stdout",
     "output_type": "stream",
     "text": [
      "Any\n",
      "Any[Complex, Real]\n",
      "1 is `Any` => true\n",
      "1 is `Number` => true\n"
     ]
    }
   ],
   "source": [
    "# supuertype and subtypes of Number\n",
    "println(supertype(Number))\n",
    "println(subtypes(Number))\n",
    "\n",
    "# isa(x, type) -> bool\n",
    "# Determine whether x is of the given type.\n",
    "# Integer is Any\n",
    "println(\"1 is `Any` => \", isa(1, Any))\n",
    "println(\"1 is `Number` => \", isa(1, Number))"
   ]
  },
  {
   "cell_type": "code",
   "execution_count": 43,
   "metadata": {},
   "outputs": [
    {
     "name": "stdout",
     "output_type": "stream",
     "text": [
      "Number\n",
      "    Complex\n",
      "    Real\n",
      "        AbstractFloat\n",
      "            BigFloat\n",
      "            Float16\n",
      "            Float32\n",
      "            Float64\n",
      "        AbstractIrrational\n",
      "            Irrational\n",
      "        Integer\n",
      "            Bool\n",
      "            Signed\n",
      "                BigInt\n",
      "                Int128\n",
      "                Int16\n",
      "                Int32\n",
      "                Int64\n",
      "                Int8\n",
      "            Unsigned\n",
      "                UInt128\n",
      "                UInt16\n",
      "                UInt32\n",
      "                UInt64\n",
      "                UInt8\n",
      "        Rational\n"
     ]
    }
   ],
   "source": [
    "# show type tree\n",
    "function subtypetree(t, level=1, indent=4)\n",
    "   level == 1 && println(t)\n",
    "   for s in subtypes(t)\n",
    "     println(join(fill(\" \", level * indent)) * string(s))\n",
    "     subtypetree(s, level+1, indent)\n",
    "   end\n",
    "end\n",
    "subtypetree(Number)"
   ]
  },
  {
   "cell_type": "code",
   "execution_count": 47,
   "metadata": {},
   "outputs": [
    {
     "name": "stdout",
     "output_type": "stream",
     "text": [
      "Number <: Any\n",
      "Int32 <: Signed <: Integer <: Real <: Number <: Any\n"
     ]
    }
   ],
   "source": [
    "function show_supertypes(io::IO, typ::DataType) \n",
    "     print(io, typ) \n",
    "     while typ != Any \n",
    "         typ = supertype(typ) \n",
    "         print(io, \" <: \", typ) \n",
    "     end \n",
    " end \n",
    "show_supertypes(Number)\n",
    "show_supertypes(Int32)"
   ]
  },
  {
   "cell_type": "markdown",
   "metadata": {},
   "source": [
    "## 1. 整數 (Integer)\n",
    "整數是數值系統中最基本的型別，分為\"有正負號(signed)\"、\"無正負號(unsigned)\"以及\"布林值\"整數型別，其最大和最小值也不同。\n",
    "\n",
    "\\*注意：BigInt為任意精度(Arbitrary Precision)，沒有辦法查看最大值與最小值。([Arbitrary Precision Arithmetic](https://docs.julialang.org/en/v1/manual/integers-and-floating-point-numbers/#Arbitrary-Precision-Arithmetic-1))\n",
    "\n",
    "```plain\n",
    "Number\n",
    "  |\n",
    "  └──Real\n",
    "       |\n",
    "       └──Integer\n",
    "            |\n",
    "            ├──Bool\n",
    "            |\n",
    "            ├──Signed\n",
    "            |    |\n",
    "            |    ├──BigInt\n",
    "            |    ├──Int128\n",
    "            |    ├──Int64\n",
    "            |    ├──Int32\n",
    "            |    ├──Int16\n",
    "            |    └──Int8\n",
    "            └──Unsigned\n",
    "                 |\n",
    "                 ├──UInt128\n",
    "                 ├──UInt64\n",
    "                 ├──UInt32\n",
    "                 ├──UInt16\n",
    "                 └──UInt8\n",
    "```\n",
    "\n",
    "\n",
    "|是否有正負號|型別|<div style=\"width:120px\">位元數<div>|<div style=\"width:120px\">最大值</div>|<div style=\"width:120px\">最小值</div>|\n",
    "|---|---|---|---|---|\n",
    "|有|Int128, Int64, Int32, Int16, Int8|根據型別內數字|$2^{位元數-1}-1$|$-2^{位元數-1}$|\n",
    "|無|UInt128, UInt64, UInt32, UInt16, UInt8|根據型別內數字|$2^{位元數}-1$|$0$|\n",
    "|N/A|Bool|8|true(1)|false(0)|\n",
    "\n",
    "\n",
    "### 1.1 範圍\n",
    "\n",
    "下面範例是呼叫 `typemax()` 與 `typemin()` 函式查看 Int64 型別的最大值和最小值。"
   ]
  },
  {
   "cell_type": "code",
   "execution_count": 55,
   "metadata": {},
   "outputs": [
    {
     "name": "stdout",
     "output_type": "stream",
     "text": [
      "Int64  : 最小值 -9223372036854775808, 最大值 9223372036854775807\n"
     ]
    }
   ],
   "source": [
    "println(\"$(rpad(Int64, 7)): 最小值 $(typemin(Int64)), 最大值 $(typemax(Int64))\")"
   ]
  },
  {
   "cell_type": "markdown",
   "metadata": {},
   "source": [
    "以下範例為直接計算Int64型別的最大值和最小值。"
   ]
  },
  {
   "cell_type": "code",
   "execution_count": 54,
   "metadata": {},
   "outputs": [
    {
     "name": "stdout",
     "output_type": "stream",
     "text": [
      "Int64  : 最小值 -4611686018427387904, 最大值 9223372036854775807\n"
     ]
    }
   ],
   "source": [
    "println(\"$(rpad(Int64, 7)): 最小值 $(-2^(63-1)), 最大值 $(2^(64-1)-1)\")"
   ]
  },
  {
   "cell_type": "markdown",
   "metadata": {},
   "source": [
    "查看Bool型別的最大值和最小值"
   ]
  },
  {
   "cell_type": "code",
   "execution_count": 57,
   "metadata": {},
   "outputs": [
    {
     "name": "stdout",
     "output_type": "stream",
     "text": [
      "Bool   : 最小值 false, 最大值 true\n"
     ]
    }
   ],
   "source": [
    "println(\"$(rpad(Bool, 7)): 最小值 $(typemin(Bool)), 最大值 $(typemax(Bool))\")"
   ]
  },
  {
   "cell_type": "markdown",
   "metadata": {},
   "source": [
    "`BigInt` 型別是任意精度 (Arbitrary Precision)，若要呼叫 `typemax()` 或 `typemin()` 則會產生錯誤。"
   ]
  },
  {
   "cell_type": "code",
   "execution_count": 72,
   "metadata": {},
   "outputs": [
    {
     "ename": "MethodError",
     "evalue": "MethodError: no method matching typemax(::Type{BigInt})\nClosest candidates are:\n  typemax(!Matched::Type{Bool}) at bool.jl:7\n  typemax(!Matched::Type{Int8}) at int.jl:652\n  typemax(!Matched::Type{UInt8}) at int.jl:654\n  ...",
     "output_type": "error",
     "traceback": [
      "MethodError: no method matching typemax(::Type{BigInt})\nClosest candidates are:\n  typemax(!Matched::Type{Bool}) at bool.jl:7\n  typemax(!Matched::Type{Int8}) at int.jl:652\n  typemax(!Matched::Type{UInt8}) at int.jl:654\n  ...",
      "",
      "Stacktrace:",
      " [1] top-level scope at In[72]:1"
     ]
    }
   ],
   "source": [
    "typemax(BigInt)"
   ]
  },
  {
   "cell_type": "code",
   "execution_count": 73,
   "metadata": {},
   "outputs": [
    {
     "ename": "MethodError",
     "evalue": "MethodError: no method matching typemin(::Type{BigInt})\nClosest candidates are:\n  typemin(!Matched::Type{Bool}) at bool.jl:6\n  typemin(!Matched::Type{Int8}) at int.jl:651\n  typemin(!Matched::Type{UInt8}) at int.jl:653\n  ...",
     "output_type": "error",
     "traceback": [
      "MethodError: no method matching typemin(::Type{BigInt})\nClosest candidates are:\n  typemin(!Matched::Type{Bool}) at bool.jl:6\n  typemin(!Matched::Type{Int8}) at int.jl:651\n  typemin(!Matched::Type{UInt8}) at int.jl:653\n  ...",
      "",
      "Stacktrace:",
      " [1] top-level scope at In[73]:1"
     ]
    }
   ],
   "source": [
    "typemin(BigInt)"
   ]
  },
  {
   "cell_type": "code",
   "execution_count": 76,
   "metadata": {},
   "outputs": [
    {
     "data": {
      "text/plain": [
       "46116860184273879035"
      ]
     },
     "execution_count": 76,
     "metadata": {},
     "output_type": "execute_result"
    }
   ],
   "source": [
    "BigInt(typemax(Int64)) * 5"
   ]
  },
  {
   "cell_type": "markdown",
   "metadata": {},
   "source": [
    "### 1.2 使用與宣告變數\n",
    "\n",
    "Julia 會自動判斷適用的整數值型別，十進位的值會自動指定為有正負號的整數，預設的位數是以作業系統位元數為準，例如 64 位元的作業系統就會自動採用 `Int64` 型別。(註: 在不影響位元數的情況下，也就是未超過型別的最大值，且未指定型別。)\n",
    "\n",
    "若超過 `Int64` 最大值時，Julia 會自動判斷並將型別定為 `Int128`。(一開始創建時即超過最大值)"
   ]
  },
  {
   "cell_type": "code",
   "execution_count": 77,
   "metadata": {},
   "outputs": [
    {
     "data": {
      "text/plain": [
       "64"
      ]
     },
     "execution_count": 77,
     "metadata": {},
     "output_type": "execute_result"
    }
   ],
   "source": [
    "# 查看內部變數 Sys.WORD_SIZE，顯示作業系統為 32-bit 或 64-bit。\n",
    "Sys.WORD_SIZE"
   ]
  },
  {
   "cell_type": "code",
   "execution_count": 93,
   "metadata": {},
   "outputs": [
    {
     "name": "stdout",
     "output_type": "stream",
     "text": [
      "Int64\n",
      "true\n"
     ]
    }
   ],
   "source": [
    "# 32-bit system:\n",
    "# julia> typeof(1)\n",
    "# Int32\n",
    "\n",
    "# 64-bit system:\n",
    "x = 3\n",
    "println(typeof(x))  # 自動採用Int64型別\n",
    "println(Int == Int64)  # Int等於Int64"
   ]
  },
  {
   "cell_type": "code",
   "execution_count": 96,
   "metadata": {},
   "outputs": [
    {
     "name": "stdout",
     "output_type": "stream",
     "text": [
      "Int64\n",
      "Int128\n",
      "Int128\n",
      "Int128\n"
     ]
    }
   ],
   "source": [
    "println(typeof(2^63 + 1))  # 2^63, 1都是Int64\n",
    "println(typeof(Int128(2^63) + 1))  # 2^63是Int128，因此相加時1從Int64轉型為Int128\n",
    "println(typeof(2^63 + Int128(1)))  # 1是Int128，因此相加時2^63從Int64轉型為Int128\n",
    "println(typeof(9223372036854775808))  # 創建時即為Int128"
   ]
  },
  {
   "cell_type": "markdown",
   "metadata": {},
   "source": [
    "使用 `length()` 加上 `bitstring()` 函式可以看到不同整數型別的位元數。"
   ]
  },
  {
   "cell_type": "code",
   "execution_count": 79,
   "metadata": {},
   "outputs": [
    {
     "data": {
      "text/plain": [
       "64"
      ]
     },
     "execution_count": 79,
     "metadata": {},
     "output_type": "execute_result"
    }
   ],
   "source": [
    "length(bitstring(x))"
   ]
  },
  {
   "cell_type": "markdown",
   "metadata": {},
   "source": [
    "使用`sizeof()`查看型別的位元組數(bytes)"
   ]
  },
  {
   "cell_type": "code",
   "execution_count": 80,
   "metadata": {},
   "outputs": [
    {
     "name": "stdout",
     "output_type": "stream",
     "text": [
      "Int64 的位元組數(bytes)是: 8\n"
     ]
    }
   ],
   "source": [
    "# Size, in bytes, of the canonical binary representation of the given DataType\n",
    "println(\"Int64 的位元組數(bytes)是: \", sizeof(x))"
   ]
  },
  {
   "cell_type": "code",
   "execution_count": 81,
   "metadata": {},
   "outputs": [
    {
     "name": "stdout",
     "output_type": "stream",
     "text": [
      "Bool 的位元組數(bytes)是: 1\n"
     ]
    }
   ],
   "source": [
    "println(\"Bool 的位元組數(bytes)是: \", sizeof(Bool))"
   ]
  },
  {
   "cell_type": "markdown",
   "metadata": {},
   "source": [
    "若是十六進位(hexadecimal)、八進位(octal)、二進位(Binary)的整數值，則可以將 `0x`, `0o`, `0b` 放在數值之前，代表不同的進位制。下面的例子是不同進位制的宣告。\n",
    "\n",
    "須留意十六進位、八進位、二進位之英文字母均需小寫。"
   ]
  },
  {
   "cell_type": "code",
   "execution_count": 98,
   "metadata": {},
   "outputs": [
    {
     "data": {
      "text/plain": [
       "20"
      ]
     },
     "execution_count": 98,
     "metadata": {},
     "output_type": "execute_result"
    }
   ],
   "source": [
    "# 十進位\n",
    "20"
   ]
  },
  {
   "cell_type": "code",
   "execution_count": 1,
   "metadata": {},
   "outputs": [
    {
     "data": {
      "text/plain": [
       "0x12"
      ]
     },
     "execution_count": 1,
     "metadata": {},
     "output_type": "execute_result"
    }
   ],
   "source": [
    "# 十六進位 僅可使用0-9a-f\n",
    "0x12"
   ]
  },
  {
   "cell_type": "code",
   "execution_count": 2,
   "metadata": {},
   "outputs": [
    {
     "data": {
      "text/plain": [
       "0x14"
      ]
     },
     "execution_count": 2,
     "metadata": {},
     "output_type": "execute_result"
    }
   ],
   "source": [
    "# 八進位 僅可使用0-7\n",
    "0o24"
   ]
  },
  {
   "cell_type": "code",
   "execution_count": 5,
   "metadata": {},
   "outputs": [
    {
     "data": {
      "text/plain": [
       "0x02"
      ]
     },
     "execution_count": 5,
     "metadata": {},
     "output_type": "execute_result"
    }
   ],
   "source": [
    "# 二進位 僅可使用0-1\n",
    "0b10"
   ]
  },
  {
   "cell_type": "code",
   "execution_count": 11,
   "metadata": {},
   "outputs": [
    {
     "name": "stdout",
     "output_type": "stream",
     "text": [
      "十進位整數: 18; 位元數: 16\n",
      "十進位整數: 18; 位元數: 1\n"
     ]
    }
   ],
   "source": [
    "# 利用前方補0來控制位元數\n",
    "tmp1 = 0x00000000000000000000000012\n",
    "tmp2 = 0x12\n",
    "println(\"十進位整數: $(tmp1); 位元數: $(sizeof(tmp1))\")\n",
    "println(\"十進位整數: $(tmp2); 位元數: $(sizeof(tmp2))\")"
   ]
  },
  {
   "cell_type": "markdown",
   "metadata": {},
   "source": [
    "上面有提到，十進位的整數會自動判斷為有 signed 整數，但是十六/八/二進位則會自動判斷為 unsigned。"
   ]
  },
  {
   "cell_type": "code",
   "execution_count": 18,
   "metadata": {},
   "outputs": [
    {
     "name": "stdout",
     "output_type": "stream",
     "text": [
      "UInt8\n",
      "UInt32\n",
      "UInt16\n",
      "UInt16\n"
     ]
    }
   ],
   "source": [
    "println(typeof(0x14))\n",
    "println(typeof(0x1f423af))\n",
    "println(typeof(0o22163))\n",
    "println(typeof(0b10111001110))"
   ]
  },
  {
   "cell_type": "markdown",
   "metadata": {},
   "source": [
    "Binary, octal, and hexadecimal literals may be signed by a - immediately preceding the unsigned literal. They produce an unsigned integer of the same size as the unsigned literal would do, with the two's complement of the value.\n",
    "\n",
    "在二進制、八進制及十六進制的文字前加上\"-\"，可以產生跟無號整數相同位元長度的二補數([Two's complement](https://en.wikipedia.org/wiki/Two%27s_complement))。"
   ]
  },
  {
   "cell_type": "code",
   "execution_count": 12,
   "metadata": {},
   "outputs": [
    {
     "data": {
      "text/plain": [
       "0xfe"
      ]
     },
     "execution_count": 12,
     "metadata": {},
     "output_type": "execute_result"
    }
   ],
   "source": [
    "-0x2"
   ]
  },
  {
   "cell_type": "code",
   "execution_count": 13,
   "metadata": {},
   "outputs": [
    {
     "data": {
      "text/plain": [
       "0xfffe"
      ]
     },
     "execution_count": 13,
     "metadata": {},
     "output_type": "execute_result"
    }
   ],
   "source": [
    "-0x0002"
   ]
  },
  {
   "cell_type": "markdown",
   "metadata": {},
   "source": [
    "### 1.3 指定型別與轉換\n",
    "\n",
    "型別的指定，只要在宣告時加上型別名稱即可。以下例來說，如果沒有指定的話，型別根據系統(Sys.WORD_SIZE)決定是 `Int32` 或 `Int64`。"
   ]
  },
  {
   "cell_type": "code",
   "execution_count": 16,
   "metadata": {},
   "outputs": [
    {
     "data": {
      "text/plain": [
       "Int128"
      ]
     },
     "execution_count": 16,
     "metadata": {},
     "output_type": "execute_result"
    }
   ],
   "source": [
    "y = Int128(3)\n",
    "typeof(y)"
   ]
  },
  {
   "cell_type": "code",
   "execution_count": 17,
   "metadata": {},
   "outputs": [
    {
     "data": {
      "text/plain": [
       "128"
      ]
     },
     "execution_count": 17,
     "metadata": {},
     "output_type": "execute_result"
    }
   ],
   "source": [
    "length(bitstring(y))"
   ]
  },
  {
   "cell_type": "markdown",
   "metadata": {},
   "source": [
    "#### `signed()` 或 `unsigned()`\n",
    "\n",
    "有無正負號的轉換，可以透過 `signed()` 或 `unsigned()` 來進行。下面的例子就可以看到我們把 `Int64` 轉換為 `UInt64` 型別。"
   ]
  },
  {
   "cell_type": "code",
   "execution_count": 14,
   "metadata": {},
   "outputs": [
    {
     "data": {
      "text/plain": [
       "UInt64"
      ]
     },
     "execution_count": 14,
     "metadata": {},
     "output_type": "execute_result"
    }
   ],
   "source": [
    "typeof(unsigned(20))"
   ]
  },
  {
   "cell_type": "markdown",
   "metadata": {},
   "source": [
    "將 Int8 轉為 UInt8。"
   ]
  },
  {
   "cell_type": "code",
   "execution_count": 15,
   "metadata": {},
   "outputs": [
    {
     "data": {
      "text/plain": [
       "UInt8"
      ]
     },
     "execution_count": 15,
     "metadata": {},
     "output_type": "execute_result"
    }
   ],
   "source": [
    "typeof(unsigned(Int8(20)))"
   ]
  },
  {
   "cell_type": "markdown",
   "metadata": {},
   "source": [
    "將 UInt32 轉為 Int32。"
   ]
  },
  {
   "cell_type": "code",
   "execution_count": 16,
   "metadata": {},
   "outputs": [
    {
     "data": {
      "text/plain": [
       "Int32"
      ]
     },
     "execution_count": 16,
     "metadata": {},
     "output_type": "execute_result"
    }
   ],
   "source": [
    "typeof(signed(UInt32(20)))"
   ]
  },
  {
   "cell_type": "markdown",
   "metadata": {},
   "source": [
    "要留意的是，`signed()` 轉換時，若造成轉換後溢位 (overflow)，系統並不會顯示錯誤。"
   ]
  },
  {
   "cell_type": "code",
   "execution_count": 17,
   "metadata": {},
   "outputs": [
    {
     "data": {
      "text/plain": [
       "-1"
      ]
     },
     "execution_count": 17,
     "metadata": {},
     "output_type": "execute_result"
    }
   ],
   "source": [
    "x = typemax(UInt8) # UInt8 最大值為 255 (2^8-1)\n",
    "signed(x) # 由於 Int8 的最大值為 127 (2^7-1)，所以轉換後會造成 overflow"
   ]
  },
  {
   "cell_type": "markdown",
   "metadata": {},
   "source": [
    "若要自動偵測是否可以安全轉換，建議使用`convert()`(詳細介紹請參考[Conversion and Promotion](https://docs.julialang.org/en/v1/manual/conversion-and-promotion/#conversion-and-promotion-1))。"
   ]
  },
  {
   "cell_type": "code",
   "execution_count": 33,
   "metadata": {},
   "outputs": [
    {
     "ename": "InexactError",
     "evalue": "InexactError: check_top_bit(Int8, 255)",
     "output_type": "error",
     "traceback": [
      "InexactError: check_top_bit(Int8, 255)",
      "",
      "Stacktrace:",
      " [1] throw_inexacterror(::Symbol, ::Type{Int8}, ::UInt8) at .\\boot.jl:557",
      " [2] check_top_bit at .\\boot.jl:571 [inlined]",
      " [3] toInt8 at .\\boot.jl:596 [inlined]",
      " [4] Int8 at .\\boot.jl:704 [inlined]",
      " [5] convert(::Type{Int8}, ::UInt8) at .\\number.jl:7",
      " [6] top-level scope at In[33]:2"
     ]
    }
   ],
   "source": [
    "# 使用convert\n",
    "x = typemax(UInt8)\n",
    "convert(Int8, x)"
   ]
  },
  {
   "cell_type": "code",
   "execution_count": 34,
   "metadata": {},
   "outputs": [
    {
     "ename": "InexactError",
     "evalue": "InexactError: check_top_bit(Int8, 255)",
     "output_type": "error",
     "traceback": [
      "InexactError: check_top_bit(Int8, 255)",
      "",
      "Stacktrace:",
      " [1] throw_inexacterror(::Symbol, ::Type{Int8}, ::UInt8) at .\\boot.jl:557",
      " [2] check_top_bit at .\\boot.jl:571 [inlined]",
      " [3] toInt8 at .\\boot.jl:596 [inlined]",
      " [4] Int8(::UInt8) at .\\boot.jl:704",
      " [5] top-level scope at In[34]:3"
     ]
    }
   ],
   "source": [
    "# 使用constructor(少數情況會與convert有不同行為)\n",
    "x = typemax(UInt8)\n",
    "Int8(x)"
   ]
  },
  {
   "cell_type": "markdown",
   "metadata": {},
   "source": [
    "#### `BigInt`\n",
    "\n",
    "`BigInt` 可以用在當型別要超出精度時 (例如最大值加 1 或是最小值 - 1)，避免因此而造成溢位 (overflow)。"
   ]
  },
  {
   "cell_type": "code",
   "execution_count": 18,
   "metadata": {},
   "outputs": [
    {
     "data": {
      "text/plain": [
       "-9223372036854775808"
      ]
     },
     "execution_count": 18,
     "metadata": {},
     "output_type": "execute_result"
    }
   ],
   "source": [
    "# 溢位，結果為負數\n",
    "typemax(Int64) + 1"
   ]
  },
  {
   "cell_type": "markdown",
   "metadata": {},
   "source": [
    "`BigInt` 必須明確 (explicitly) 宣告，無法自動被 promote。轉換為 `BigInt` 後就不會造成溢位了。"
   ]
  },
  {
   "cell_type": "code",
   "execution_count": 19,
   "metadata": {},
   "outputs": [
    {
     "data": {
      "text/plain": [
       "9223372036854775808"
      ]
     },
     "execution_count": 19,
     "metadata": {},
     "output_type": "execute_result"
    }
   ],
   "source": [
    "BigInt(typemax(Int64)) + 1"
   ]
  },
  {
   "cell_type": "markdown",
   "metadata": {},
   "source": [
    "### 1.4 Division Error\n",
    "\n",
    "相除取整數 (integer divide; 運算子為 $\\div$) 時，若是將整數 $\\div$ 零，會產生 `DivideError`。\n",
    "\n",
    "有關於運算及運算子，會在未來的內容中進行詳細介紹。"
   ]
  },
  {
   "cell_type": "code",
   "execution_count": 37,
   "metadata": {},
   "outputs": [
    {
     "data": {
      "text/plain": [
       "1"
      ]
     },
     "execution_count": 37,
     "metadata": {},
     "output_type": "execute_result"
    }
   ],
   "source": [
    "3 ÷ 2"
   ]
  },
  {
   "cell_type": "markdown",
   "metadata": {},
   "source": [
    "Division Error的情況\n",
    "1. 除以零 (dividing by zero)\n",
    "2. 最小負整數除以-1 (dividing the lowest negative number (typemin) by -1)"
   ]
  },
  {
   "cell_type": "code",
   "execution_count": 43,
   "metadata": {},
   "outputs": [
    {
     "ename": "DivideError",
     "evalue": "DivideError: integer division error",
     "output_type": "error",
     "traceback": [
      "DivideError: integer division error",
      "",
      "Stacktrace:",
      " [1] div(::Int64, ::Int64) at .\\int.jl:230",
      " [2] top-level scope at In[43]:1"
     ]
    }
   ],
   "source": [
    "# 1. dividing by zero\n",
    "3 ÷ 0  # 同div(3, 0), div(x, y): The quotient from Euclidean division. Computes x/y, truncated to an integer."
   ]
  },
  {
   "cell_type": "code",
   "execution_count": 47,
   "metadata": {},
   "outputs": [
    {
     "ename": "DivideError",
     "evalue": "DivideError: integer division error",
     "output_type": "error",
     "traceback": [
      "DivideError: integer division error",
      "",
      "Stacktrace:",
      " [1] div(::Int64, ::Int64) at .\\int.jl:230",
      " [2] top-level scope at In[47]:1"
     ]
    }
   ],
   "source": [
    "# 2. dividing the lowest negative number (typemin) by -1.\n",
    "div(typemin(Int64), -1)"
   ]
  },
  {
   "cell_type": "markdown",
   "metadata": {},
   "source": [
    "The remainder and modulus functions (rem and mod) throw a DivideError when their second argument is zero.\n",
    "\n",
    "餘數和模數函數（rem和mod）在第二個參數為零時會出現DivideError。"
   ]
  },
  {
   "cell_type": "code",
   "execution_count": 49,
   "metadata": {},
   "outputs": [
    {
     "data": {
      "text/plain": [
       "1"
      ]
     },
     "execution_count": 49,
     "metadata": {},
     "output_type": "execute_result"
    }
   ],
   "source": [
    "rem(7, 3)"
   ]
  },
  {
   "cell_type": "code",
   "execution_count": 50,
   "metadata": {},
   "outputs": [
    {
     "data": {
      "text/plain": [
       "1"
      ]
     },
     "execution_count": 50,
     "metadata": {},
     "output_type": "execute_result"
    }
   ],
   "source": [
    "mod(7, 3)"
   ]
  },
  {
   "cell_type": "code",
   "execution_count": 51,
   "metadata": {},
   "outputs": [
    {
     "data": {
      "text/plain": [
       "1"
      ]
     },
     "execution_count": 51,
     "metadata": {},
     "output_type": "execute_result"
    }
   ],
   "source": [
    "7 % 3"
   ]
  },
  {
   "cell_type": "code",
   "execution_count": 53,
   "metadata": {},
   "outputs": [
    {
     "ename": "DivideError",
     "evalue": "DivideError: integer division error",
     "output_type": "error",
     "traceback": [
      "DivideError: integer division error",
      "",
      "Stacktrace:",
      " [1] rem(::Int64, ::Int64) at .\\int.jl:231",
      " [2] top-level scope at In[53]:1"
     ]
    }
   ],
   "source": [
    "rem(7, 0)"
   ]
  },
  {
   "cell_type": "markdown",
   "metadata": {},
   "source": [
    "但是除法 (divide) 的分母可以為 0，其結果為無窮大(Inf)。"
   ]
  },
  {
   "cell_type": "code",
   "execution_count": 39,
   "metadata": {},
   "outputs": [
    {
     "data": {
      "text/plain": [
       "Inf"
      ]
     },
     "execution_count": 39,
     "metadata": {},
     "output_type": "execute_result"
    }
   ],
   "source": [
    "3 / 0"
   ]
  },
  {
   "cell_type": "markdown",
   "metadata": {},
   "source": [
    "## 2. 布林值 (Bool)\n",
    "\n",
    "布林值是用 `true` 或 `false` 保留字來代表邏輯判斷的\"真\"或\"假\"。\n",
    "\n",
    "在型別系統上，`Bool` 是 `Integer` 的子型別。如果用 `bitstring()` 來查看的話，會發現 `true` / `false` 內部是以 `Int8` 型別表達。"
   ]
  },
  {
   "cell_type": "code",
   "execution_count": 56,
   "metadata": {},
   "outputs": [
    {
     "data": {
      "text/plain": [
       "(\"00000001\", \"00000000\")"
      ]
     },
     "execution_count": 56,
     "metadata": {},
     "output_type": "execute_result"
    }
   ],
   "source": [
    "bitstring(true), bitstring(false)"
   ]
  },
  {
   "cell_type": "markdown",
   "metadata": {},
   "source": [
    "### 轉換\n",
    "\n",
    "`Bool` 可以與整數型別進行互相轉換。"
   ]
  },
  {
   "cell_type": "code",
   "execution_count": 59,
   "metadata": {},
   "outputs": [
    {
     "data": {
      "text/plain": [
       "(1, 0)"
      ]
     },
     "execution_count": 59,
     "metadata": {},
     "output_type": "execute_result"
    }
   ],
   "source": [
    "# Bool 轉為整數，只要是整數型別都可以\n",
    "# 使用convert()\n",
    "convert(Int, true), convert(Int8, false)"
   ]
  },
  {
   "cell_type": "code",
   "execution_count": 60,
   "metadata": {},
   "outputs": [
    {
     "data": {
      "text/plain": [
       "(1, 0)"
      ]
     },
     "execution_count": 60,
     "metadata": {},
     "output_type": "execute_result"
    }
   ],
   "source": [
    "# Bool 轉為整數，只要是整數型別都可以\n",
    "# 使用constructor\n",
    "Int(true), Int8(false)"
   ]
  },
  {
   "cell_type": "code",
   "execution_count": 61,
   "metadata": {},
   "outputs": [
    {
     "data": {
      "text/plain": [
       "(true, false)"
      ]
     },
     "execution_count": 61,
     "metadata": {},
     "output_type": "execute_result"
    }
   ],
   "source": [
    "# 整數轉為 Bool\n",
    "# 使用convert()\n",
    "convert(Bool, Int64(1)), convert(Bool, 0)"
   ]
  },
  {
   "cell_type": "code",
   "execution_count": 62,
   "metadata": {},
   "outputs": [
    {
     "data": {
      "text/plain": [
       "(true, false)"
      ]
     },
     "execution_count": 62,
     "metadata": {},
     "output_type": "execute_result"
    }
   ],
   "source": [
    "# 整數轉為 Bool\n",
    "# 使用constructor\n",
    "Bool(Int64(1)), Bool(0)"
   ]
  },
  {
   "cell_type": "markdown",
   "metadata": {},
   "source": [
    "若嘗試將非 1 / 0 的整數值轉為 `Bool`，則會產生 `InexactError` 錯誤。"
   ]
  },
  {
   "cell_type": "code",
   "execution_count": 64,
   "metadata": {},
   "outputs": [
    {
     "ename": "InexactError",
     "evalue": "InexactError: Bool(10)",
     "output_type": "error",
     "traceback": [
      "InexactError: Bool(10)",
      "",
      "Stacktrace:",
      " [1] Bool at .\\float.jl:73 [inlined]",
      " [2] convert(::Type{Bool}, ::Int64) at .\\number.jl:7",
      " [3] top-level scope at In[64]:1"
     ]
    }
   ],
   "source": [
    "# 使用convert()\n",
    "convert(Bool, 10)"
   ]
  },
  {
   "cell_type": "code",
   "execution_count": 63,
   "metadata": {},
   "outputs": [
    {
     "ename": "InexactError",
     "evalue": "InexactError: Bool(10)",
     "output_type": "error",
     "traceback": [
      "InexactError: Bool(10)",
      "",
      "Stacktrace:",
      " [1] Bool(::Int64) at .\\float.jl:73",
      " [2] top-level scope at In[63]:1"
     ]
    }
   ],
   "source": [
    "# 使用constructor\n",
    "Bool(10)"
   ]
  },
  {
   "cell_type": "markdown",
   "metadata": {},
   "source": [
    "跟有些程式語言不同的是，在 Julia 中不能用 1 / 0 整數值來取代 `true` / `false`，會造成 `TypeError` 錯誤。"
   ]
  },
  {
   "cell_type": "code",
   "execution_count": 66,
   "metadata": {},
   "outputs": [
    {
     "name": "stdout",
     "output_type": "stream",
     "text": [
      "true\n"
     ]
    },
    {
     "ename": "TypeError",
     "evalue": "TypeError: non-boolean (Int64) used in boolean context",
     "output_type": "error",
     "traceback": [
      "TypeError: non-boolean (Int64) used in boolean context",
      "",
      "Stacktrace:",
      " [1] top-level scope at In[66]:4"
     ]
    }
   ],
   "source": [
    "if true\n",
    "    println(\"true\")\n",
    "end\n",
    "\n",
    "if 1\n",
    "    println(\"true\")\n",
    "end"
   ]
  },
  {
   "cell_type": "markdown",
   "metadata": {},
   "source": [
    "## 3. 浮點數 (Floating Point)\n",
    "\n",
    "浮點數沒有 signed / unsigned 的區分，而是分為不同的精度。\n",
    "```\n",
    "Number\n",
    "  |\n",
    "  └──Real\n",
    "       |\n",
    "       └──AbstractFloat\n",
    "            |\n",
    "            ├──BigFloat\n",
    "            ├──Float16\n",
    "            ├──Float32\n",
    "            └──Float64\n",
    "```\n",
    "\n",
    "|型別|精度|位元數|\n",
    "|---|---|---|\n",
    "|`Float16`|半精度(Half Precision)|16|\n",
    "|`Float32`|單精度(Single Precision)|32|\n",
    "|`Float64`|雙精度(Double Precision)|64|"
   ]
  },
  {
   "cell_type": "markdown",
   "metadata": {},
   "source": [
    "### 3.1 範圍\n",
    "\n",
    "浮點數是實數的子型別，其邊界值為無窮大或負無窮大。\n",
    "\n",
    "|型別|最小值|最大值|\n",
    "|---|---|---|\n",
    "|`Float64`|-Inf|Inf|\n",
    "|`Float32`|-Inf 或 -Inf32|Inf 或 Inf32|\n",
    "|`Float16`|-Inf 或 -Inf16|Inf 或 Inf16|\n",
    "\n",
    "無窮值 (`Inf` 及 `-Inf`) 在 Julia 都是正常的浮點數。下面範例是呼叫 `typemax()` 與 `typemin()` 函式可以查看 Float64 型別的最大值和最小值。"
   ]
  },
  {
   "cell_type": "code",
   "execution_count": 67,
   "metadata": {},
   "outputs": [
    {
     "name": "stdout",
     "output_type": "stream",
     "text": [
      "Float64: 最小值 -Inf, 最大值 Inf\n"
     ]
    }
   ],
   "source": [
    "println(\"$(rpad(Float64,7)): 最小值 $(typemin(Float64)), 最大值 $(typemax(Float64))\")"
   ]
  },
  {
   "cell_type": "code",
   "execution_count": 2,
   "metadata": {},
   "outputs": [
    {
     "data": {
      "text/plain": [
       "Inf16"
      ]
     },
     "execution_count": 2,
     "metadata": {},
     "output_type": "execute_result"
    }
   ],
   "source": [
    "typemax(Float16)"
   ]
  },
  {
   "cell_type": "code",
   "execution_count": 3,
   "metadata": {},
   "outputs": [
    {
     "data": {
      "text/plain": [
       "-Inf16"
      ]
     },
     "execution_count": 3,
     "metadata": {},
     "output_type": "execute_result"
    }
   ],
   "source": [
    "typemin(Float16)"
   ]
  },
  {
   "cell_type": "markdown",
   "metadata": {},
   "source": [
    "`BigFloat`的最大值與最小值，也可以用`typemax()`和`typemin()`查看。"
   ]
  },
  {
   "cell_type": "code",
   "execution_count": 4,
   "metadata": {},
   "outputs": [
    {
     "data": {
      "text/plain": [
       "Inf"
      ]
     },
     "execution_count": 4,
     "metadata": {},
     "output_type": "execute_result"
    }
   ],
   "source": [
    "typemax(BigFloat)"
   ]
  },
  {
   "cell_type": "code",
   "execution_count": 5,
   "metadata": {},
   "outputs": [
    {
     "data": {
      "text/plain": [
       "-Inf"
      ]
     },
     "execution_count": 5,
     "metadata": {},
     "output_type": "execute_result"
    }
   ],
   "source": [
    "typemin(BigFloat)"
   ]
  },
  {
   "cell_type": "markdown",
   "metadata": {},
   "source": [
    "### 3.2 宣告\n",
    "\n",
    "下列的方式均可宣告數值為浮點數。"
   ]
  },
  {
   "cell_type": "code",
   "execution_count": 6,
   "metadata": {},
   "outputs": [
    {
     "data": {
      "text/plain": [
       "(1.0, 1.0, 0.5, 0.5, -1.2)"
      ]
     },
     "execution_count": 6,
     "metadata": {},
     "output_type": "execute_result"
    }
   ],
   "source": [
    "1.0, 1., 0.5, .5, -1.2"
   ]
  },
  {
   "cell_type": "markdown",
   "metadata": {},
   "source": [
    "也可以使用科學記號進行宣告。"
   ]
  },
  {
   "cell_type": "code",
   "execution_count": 7,
   "metadata": {},
   "outputs": [
    {
     "data": {
      "text/plain": [
       "(1.0e10, 0.001)"
      ]
     },
     "execution_count": 7,
     "metadata": {},
     "output_type": "execute_result"
    }
   ],
   "source": [
    "1.e10, 1.0e-3"
   ]
  },
  {
   "cell_type": "markdown",
   "metadata": {},
   "source": [
    "同樣的，預設的位數是以作業系統位元數為準，例如 64 位元的作業系統就會自動採用 `Float64` 型別。"
   ]
  },
  {
   "cell_type": "code",
   "execution_count": 8,
   "metadata": {},
   "outputs": [
    {
     "data": {
      "text/plain": [
       "Float64"
      ]
     },
     "execution_count": 8,
     "metadata": {},
     "output_type": "execute_result"
    }
   ],
   "source": [
    "typeof(1.)"
   ]
  },
  {
   "cell_type": "markdown",
   "metadata": {},
   "source": [
    "若加上 f0 字串，則是宣告為 Float32。"
   ]
  },
  {
   "cell_type": "code",
   "execution_count": 18,
   "metadata": {},
   "outputs": [
    {
     "data": {
      "text/plain": [
       "1.0f0"
      ]
     },
     "execution_count": 18,
     "metadata": {},
     "output_type": "execute_result"
    }
   ],
   "source": [
    "1f0  # Float32後面接有f0"
   ]
  },
  {
   "cell_type": "code",
   "execution_count": 19,
   "metadata": {},
   "outputs": [
    {
     "data": {
      "text/plain": [
       "Float32"
      ]
     },
     "execution_count": 19,
     "metadata": {},
     "output_type": "execute_result"
    }
   ],
   "source": [
    "# ans 是 Julia 將最後一個值指定給 ans 變數\n",
    "typeof(ans)"
   ]
  },
  {
   "cell_type": "markdown",
   "metadata": {},
   "source": [
    "Literal Float32 values can be entered by writing an f in place of e (類似科學記號的寫法)"
   ]
  },
  {
   "cell_type": "code",
   "execution_count": 16,
   "metadata": {},
   "outputs": [
    {
     "data": {
      "text/plain": [
       "0.00025f0"
      ]
     },
     "execution_count": 16,
     "metadata": {},
     "output_type": "execute_result"
    }
   ],
   "source": [
    "2.5f-4"
   ]
  },
  {
   "cell_type": "code",
   "execution_count": 17,
   "metadata": {},
   "outputs": [
    {
     "data": {
      "text/plain": [
       "Float32"
      ]
     },
     "execution_count": 17,
     "metadata": {},
     "output_type": "execute_result"
    }
   ],
   "source": [
    "typeof(2.5f-4)"
   ]
  },
  {
   "cell_type": "markdown",
   "metadata": {},
   "source": [
    "除了上述 `Inf` 是浮點數外，`NaN` (not a number) 也是屬於特殊浮點數，有 `NaN`, `NaN64`, `NaN32`, `NaN16` 。"
   ]
  },
  {
   "cell_type": "code",
   "execution_count": 20,
   "metadata": {},
   "outputs": [
    {
     "data": {
      "text/plain": [
       "Float64"
      ]
     },
     "execution_count": 20,
     "metadata": {},
     "output_type": "execute_result"
    }
   ],
   "source": [
    "typeof(NaN)"
   ]
  },
  {
   "cell_type": "code",
   "execution_count": 21,
   "metadata": {},
   "outputs": [
    {
     "data": {
      "text/plain": [
       "Float16"
      ]
     },
     "execution_count": 21,
     "metadata": {},
     "output_type": "execute_result"
    }
   ],
   "source": [
    "typeof(NaN16)"
   ]
  },
  {
   "cell_type": "markdown",
   "metadata": {},
   "source": [
    "浮點數零比較特別，正零與負零均為零，請看下面範例。但是實際上正零與負零的位元內容不相同。"
   ]
  },
  {
   "cell_type": "code",
   "execution_count": 22,
   "metadata": {},
   "outputs": [
    {
     "data": {
      "text/plain": [
       "true"
      ]
     },
     "execution_count": 22,
     "metadata": {},
     "output_type": "execute_result"
    }
   ],
   "source": [
    "0.0 == -0.0"
   ]
  },
  {
   "cell_type": "code",
   "execution_count": 23,
   "metadata": {},
   "outputs": [
    {
     "data": {
      "text/plain": [
       "\"0000000000000000000000000000000000000000000000000000000000000000\""
      ]
     },
     "execution_count": 23,
     "metadata": {},
     "output_type": "execute_result"
    }
   ],
   "source": [
    "bitstring(0.0)"
   ]
  },
  {
   "cell_type": "code",
   "execution_count": 24,
   "metadata": {},
   "outputs": [
    {
     "data": {
      "text/plain": [
       "\"1000000000000000000000000000000000000000000000000000000000000000\""
      ]
     },
     "execution_count": 24,
     "metadata": {},
     "output_type": "execute_result"
    }
   ],
   "source": [
    "bitstring(-0.0)"
   ]
  },
  {
   "cell_type": "markdown",
   "metadata": {},
   "source": [
    "如果要避免混淆，可以透過 zero() 函式來宣告零浮點數。\n",
    "\n",
    "zero() 函式的用途很廣泛，未來會在相關應用時提供範例。"
   ]
  },
  {
   "cell_type": "code",
   "execution_count": 25,
   "metadata": {},
   "outputs": [
    {
     "data": {
      "text/plain": [
       "0.0"
      ]
     },
     "execution_count": 25,
     "metadata": {},
     "output_type": "execute_result"
    }
   ],
   "source": [
    "zero(Float64)"
   ]
  },
  {
   "cell_type": "code",
   "execution_count": 26,
   "metadata": {},
   "outputs": [
    {
     "data": {
      "text/plain": [
       "\"0000000000000000000000000000000000000000000000000000000000000000\""
      ]
     },
     "execution_count": 26,
     "metadata": {},
     "output_type": "execute_result"
    }
   ],
   "source": [
    "bitstring(ans)"
   ]
  },
  {
   "cell_type": "markdown",
   "metadata": {},
   "source": [
    "### 3.3 指定型別\n",
    "\n",
    "型別的指定，只要在宣告時加上型別名稱即可。"
   ]
  },
  {
   "cell_type": "code",
   "execution_count": null,
   "metadata": {},
   "outputs": [],
   "source": [
    "Float32(1.0)"
   ]
  },
  {
   "cell_type": "code",
   "execution_count": null,
   "metadata": {},
   "outputs": [],
   "source": [
    "typeof(ans)"
   ]
  },
  {
   "cell_type": "markdown",
   "metadata": {},
   "source": [
    "Hexadecimal floating-point literals are also valid, but only as `Float64` values, with p preceding the base-2 exponent:\n",
    "\n",
    "十六進制的浮點數是合法的，但是僅支援`Float64`。p後面接以2為底的指數。"
   ]
  },
  {
   "cell_type": "code",
   "execution_count": 68,
   "metadata": {},
   "outputs": [
    {
     "data": {
      "text/plain": [
       "1.0"
      ]
     },
     "execution_count": 68,
     "metadata": {},
     "output_type": "execute_result"
    }
   ],
   "source": [
    "0x1p0"
   ]
  },
  {
   "cell_type": "code",
   "execution_count": 69,
   "metadata": {},
   "outputs": [
    {
     "data": {
      "text/plain": [
       "12.0"
      ]
     },
     "execution_count": 69,
     "metadata": {},
     "output_type": "execute_result"
    }
   ],
   "source": [
    "0x1.8p3"
   ]
  },
  {
   "cell_type": "code",
   "execution_count": 70,
   "metadata": {},
   "outputs": [
    {
     "data": {
      "text/plain": [
       "0.125"
      ]
     },
     "execution_count": 70,
     "metadata": {},
     "output_type": "execute_result"
    }
   ],
   "source": [
    "0x.4p-1"
   ]
  },
  {
   "cell_type": "code",
   "execution_count": 71,
   "metadata": {},
   "outputs": [
    {
     "data": {
      "text/plain": [
       "Float64"
      ]
     },
     "execution_count": 71,
     "metadata": {},
     "output_type": "execute_result"
    }
   ],
   "source": [
    "typeof(ans)"
   ]
  },
  {
   "cell_type": "markdown",
   "metadata": {},
   "source": [
    "Half-precision floating-point numbers are also supported (`Float16`), but they are implemented in software and use `Float32` for calculations.\n",
    "\n",
    "Float16是在軟體上實現，並使用Float32進行計算。"
   ]
  },
  {
   "cell_type": "code",
   "execution_count": 72,
   "metadata": {},
   "outputs": [
    {
     "data": {
      "text/plain": [
       "2"
      ]
     },
     "execution_count": 72,
     "metadata": {},
     "output_type": "execute_result"
    }
   ],
   "source": [
    "sizeof(Float16(4.))"
   ]
  },
  {
   "cell_type": "code",
   "execution_count": 73,
   "metadata": {},
   "outputs": [
    {
     "data": {
      "text/plain": [
       "Float16(8.0)"
      ]
     },
     "execution_count": 73,
     "metadata": {},
     "output_type": "execute_result"
    }
   ],
   "source": [
    "2*Float16(4.)"
   ]
  },
  {
   "cell_type": "markdown",
   "metadata": {},
   "source": [
    "The underscore `_` can be used as digit separator:\n",
    "\n",
    "可以使用底線`_`分隔數字(方便閱讀)"
   ]
  },
  {
   "cell_type": "code",
   "execution_count": 74,
   "metadata": {},
   "outputs": [
    {
     "data": {
      "text/plain": [
       "(10000, 5.0e-9, 0xdeadbeef, 0xb2)"
      ]
     },
     "execution_count": 74,
     "metadata": {},
     "output_type": "execute_result"
    }
   ],
   "source": [
    "10_000, 0.000_000_005, 0xdead_beef, 0b1011_0010"
   ]
  },
  {
   "cell_type": "markdown",
   "metadata": {},
   "source": [
    "### 3.4 $\\epsilon$ (epsilon)\n",
    "\n",
    "Julia 提供了 `eps()` 函式來計算 epsilon。\n",
    "\n",
    "若不熟悉epsilon，請參考[Machine epsilon](https://en.wikipedia.org/wiki/Machine_epsilon)。"
   ]
  },
  {
   "cell_type": "code",
   "execution_count": 27,
   "metadata": {},
   "outputs": [
    {
     "data": {
      "text/plain": [
       "2.220446049250313e-16"
      ]
     },
     "execution_count": 27,
     "metadata": {},
     "output_type": "execute_result"
    }
   ],
   "source": [
    "eps()"
   ]
  },
  {
   "cell_type": "code",
   "execution_count": 28,
   "metadata": {},
   "outputs": [
    {
     "data": {
      "text/plain": [
       "2.220446049250313e-16"
      ]
     },
     "execution_count": 28,
     "metadata": {},
     "output_type": "execute_result"
    }
   ],
   "source": [
    "# 預設即為 eps(Float64)\n",
    "eps(Float64)"
   ]
  },
  {
   "cell_type": "markdown",
   "metadata": {},
   "source": [
    "也可以計算某特定數值的 epsilon。"
   ]
  },
  {
   "cell_type": "code",
   "execution_count": 31,
   "metadata": {},
   "outputs": [
    {
     "data": {
      "text/plain": [
       "1.4210854715202004e-14"
      ]
     },
     "execution_count": 31,
     "metadata": {},
     "output_type": "execute_result"
    }
   ],
   "source": [
    "eps(100.0)"
   ]
  },
  {
   "cell_type": "markdown",
   "metadata": {},
   "source": [
    "100.0 的下一個可表現的浮點值如下例。"
   ]
  },
  {
   "cell_type": "code",
   "execution_count": 32,
   "metadata": {},
   "outputs": [
    {
     "data": {
      "text/plain": [
       "100.00000000000001"
      ]
     },
     "execution_count": 32,
     "metadata": {},
     "output_type": "execute_result"
    }
   ],
   "source": [
    "100.0 + eps(100.0)"
   ]
  },
  {
   "cell_type": "markdown",
   "metadata": {},
   "source": [
    "我們也可以用 nextfloat() 或 prevfloat() 來取得下一個或上一個可表現的浮點數值。"
   ]
  },
  {
   "cell_type": "code",
   "execution_count": 33,
   "metadata": {},
   "outputs": [
    {
     "data": {
      "text/plain": [
       "100.00000000000001"
      ]
     },
     "execution_count": 33,
     "metadata": {},
     "output_type": "execute_result"
    }
   ],
   "source": [
    "nextfloat(100.0)"
   ]
  },
  {
   "cell_type": "markdown",
   "metadata": {},
   "source": [
    "### 3.5  Rounding\n",
    "\n",
    "在 Rounding 的方法部分，Julia 是採用 IEEE 754 規範，也就是 `RoundNearest`，取最近的偶數(四捨五取最近偶數)，而非我們一般講的四捨五入。\n",
    "\n",
    "要採用不同的 rounding 方法，可在呼叫 `round()` 函式時加入不同的常數參數，列表如下:\n",
    "\n",
    "|常數|描述|\n",
    "|---|---|\n",
    "|RoundNearest (default)|四捨五取最近偶數(預設)|\n",
    "|RoundNearestTiesAway|四捨五取遠離0|\n",
    "|RoundNearestTiesUp|四捨五入|\n",
    "|RoundToZero|無條件捨去|\n",
    "|RoundFromZero (BigFloat only)|四捨五取遠離0|\n",
    "|RoundUp|無條件進位|\n",
    "|RoundDown|無條件退位|"
   ]
  },
  {
   "cell_type": "code",
   "execution_count": 61,
   "metadata": {},
   "outputs": [
    {
     "name": "stdout",
     "output_type": "stream",
     "text": [
      "round(-0.9) => -1.0\n",
      "round(-0.8) => -1.0\n",
      "round(-0.7) => -1.0\n",
      "round(-0.6) => -1.0\n",
      "round(-0.5) => -0.0\n",
      "round(-0.4) => -0.0\n",
      "round(-0.3) => -0.0\n",
      "round(-0.2) => -0.0\n",
      "round(-0.1) => -0.0\n",
      "round( 0.1) => 0.0\n",
      "round( 0.2) => 0.0\n",
      "round( 0.3) => 0.0\n",
      "round( 0.4) => 0.0\n",
      "round( 0.5) => 0.0\n",
      "round( 0.6) => 1.0\n",
      "round( 0.7) => 1.0\n",
      "round( 0.8) => 1.0\n",
      "round( 0.9) => 1.0\n"
     ]
    }
   ],
   "source": [
    "# RoundNearest 四捨五取最近偶數\n",
    "println(\"round(-0.9) => \", round(-0.9))  # 進\n",
    "println(\"round(-0.8) => \", round(-0.8))  # 進\n",
    "println(\"round(-0.7) => \", round(-0.7))  # 進\n",
    "println(\"round(-0.6) => \", round(-0.6))  # 進\n",
    "println(\"round(-0.5) => \", round(-0.5))  # 取最近偶數0\n",
    "println(\"round(-0.4) => \", round(-0.4))  # 捨\n",
    "println(\"round(-0.3) => \", round(-0.3))  # 捨\n",
    "println(\"round(-0.2) => \", round(-0.2))  # 捨\n",
    "println(\"round(-0.1) => \", round(-0.1))  # 捨\n",
    "println(\"round( 0.1) => \", round( 0.1))  # 捨\n",
    "println(\"round( 0.2) => \", round( 0.2))  # 捨\n",
    "println(\"round( 0.3) => \", round( 0.3))  # 捨\n",
    "println(\"round( 0.4) => \", round( 0.4))  # 捨\n",
    "println(\"round( 0.5) => \", round( 0.5))  # 取最近偶數\n",
    "println(\"round( 0.6) => \", round( 0.6))  # 進\n",
    "println(\"round( 0.7) => \", round( 0.7))  # 進\n",
    "println(\"round( 0.8) => \", round( 0.8))  # 進\n",
    "println(\"round( 0.9) => \", round( 0.9))  # 進"
   ]
  },
  {
   "cell_type": "code",
   "execution_count": 63,
   "metadata": {},
   "outputs": [
    {
     "name": "stdout",
     "output_type": "stream",
     "text": [
      "round(-0.9, RoundNearestTiesAway) => -1.0\n",
      "round(-0.8, RoundNearestTiesAway) => -1.0\n",
      "round(-0.7, RoundNearestTiesAway) => -1.0\n",
      "round(-0.6, RoundNearestTiesAway) => -1.0\n",
      "round(-0.5, RoundNearestTiesAway) => -1.0\n",
      "round(-0.4, RoundNearestTiesAway) => -0.0\n",
      "round(-0.3, RoundNearestTiesAway) => -0.0\n",
      "round(-0.2, RoundNearestTiesAway) => -0.0\n",
      "round(-0.1, RoundNearestTiesAway) => -0.0\n",
      "round( 0.1, RoundNearestTiesAway) => 0.0\n",
      "round( 0.2, RoundNearestTiesAway) => 0.0\n",
      "round( 0.3, RoundNearestTiesAway) => 0.0\n",
      "round( 0.4, RoundNearestTiesAway) => 0.0\n",
      "round( 0.5, RoundNearestTiesAway) => 1.0\n",
      "round( 0.6, RoundNearestTiesAway) => 1.0\n",
      "round( 0.7, RoundNearestTiesAway) => 1.0\n",
      "round( 0.8, RoundNearestTiesAway) => 1.0\n",
      "round( 0.9, RoundNearestTiesAway) => 1.0\n"
     ]
    }
   ],
   "source": [
    "# RoundNearestTiesAway 四捨五取遠離0\n",
    "println(\"round(-0.9, RoundNearestTiesAway) => \", round(-0.9, RoundNearestTiesAway))  # 進\n",
    "println(\"round(-0.8, RoundNearestTiesAway) => \", round(-0.8, RoundNearestTiesAway))  # 進\n",
    "println(\"round(-0.7, RoundNearestTiesAway) => \", round(-0.7, RoundNearestTiesAway))  # 進\n",
    "println(\"round(-0.6, RoundNearestTiesAway) => \", round(-0.6, RoundNearestTiesAway))  # 進\n",
    "println(\"round(-0.5, RoundNearestTiesAway) => \", round(-0.5, RoundNearestTiesAway))  # 取遠離0\n",
    "println(\"round(-0.4, RoundNearestTiesAway) => \", round(-0.4, RoundNearestTiesAway))  # 捨\n",
    "println(\"round(-0.3, RoundNearestTiesAway) => \", round(-0.3, RoundNearestTiesAway))  # 捨\n",
    "println(\"round(-0.2, RoundNearestTiesAway) => \", round(-0.2, RoundNearestTiesAway))  # 捨\n",
    "println(\"round(-0.1, RoundNearestTiesAway) => \", round(-0.1, RoundNearestTiesAway))  # 捨\n",
    "println(\"round( 0.1, RoundNearestTiesAway) => \", round( 0.1, RoundNearestTiesAway))  # 捨\n",
    "println(\"round( 0.2, RoundNearestTiesAway) => \", round( 0.2, RoundNearestTiesAway))  # 捨\n",
    "println(\"round( 0.3, RoundNearestTiesAway) => \", round( 0.3, RoundNearestTiesAway))  # 捨\n",
    "println(\"round( 0.4, RoundNearestTiesAway) => \", round( 0.4, RoundNearestTiesAway))  # 捨\n",
    "println(\"round( 0.5, RoundNearestTiesAway) => \", round( 0.5, RoundNearestTiesAway))  # 取遠離0\n",
    "println(\"round( 0.6, RoundNearestTiesAway) => \", round( 0.6, RoundNearestTiesAway))  # 進\n",
    "println(\"round( 0.7, RoundNearestTiesAway) => \", round( 0.7, RoundNearestTiesAway))  # 進\n",
    "println(\"round( 0.8, RoundNearestTiesAway) => \", round( 0.8, RoundNearestTiesAway))  # 進\n",
    "println(\"round( 0.9, RoundNearestTiesAway) => \", round( 0.9, RoundNearestTiesAway))  # 進"
   ]
  },
  {
   "cell_type": "code",
   "execution_count": 62,
   "metadata": {},
   "outputs": [
    {
     "name": "stdout",
     "output_type": "stream",
     "text": [
      "round(-0.9, RoundNearestTiesUp) => -1.0\n",
      "round(-0.8, RoundNearestTiesUp) => -1.0\n",
      "round(-0.7, RoundNearestTiesUp) => -1.0\n",
      "round(-0.6, RoundNearestTiesUp) => -1.0\n",
      "round(-0.5, RoundNearestTiesUp) => -0.0\n",
      "round(-0.4, RoundNearestTiesUp) => -0.0\n",
      "round(-0.3, RoundNearestTiesUp) => -0.0\n",
      "round(-0.2, RoundNearestTiesUp) => -0.0\n",
      "round(-0.1, RoundNearestTiesUp) => -0.0\n",
      "round( 0.1, RoundNearestTiesUp) => 0.0\n",
      "round( 0.2, RoundNearestTiesUp) => 0.0\n",
      "round( 0.3, RoundNearestTiesUp) => 0.0\n",
      "round( 0.4, RoundNearestTiesUp) => 0.0\n",
      "round( 0.5, RoundNearestTiesUp) => 1.0\n",
      "round( 0.6, RoundNearestTiesUp) => 1.0\n",
      "round( 0.7, RoundNearestTiesUp) => 1.0\n",
      "round( 0.8, RoundNearestTiesUp) => 1.0\n",
      "round( 0.9, RoundNearestTiesUp) => 1.0\n"
     ]
    }
   ],
   "source": [
    "# RoundNearestTiesUp 四捨五入\n",
    "println(\"round(-0.9, RoundNearestTiesUp) => \", round(-0.9, RoundNearestTiesUp))  # 進\n",
    "println(\"round(-0.8, RoundNearestTiesUp) => \", round(-0.8, RoundNearestTiesUp))  # 進\n",
    "println(\"round(-0.7, RoundNearestTiesUp) => \", round(-0.7, RoundNearestTiesUp))  # 進\n",
    "println(\"round(-0.6, RoundNearestTiesUp) => \", round(-0.6, RoundNearestTiesUp))  # 進\n",
    "println(\"round(-0.5, RoundNearestTiesUp) => \", round(-0.5, RoundNearestTiesUp))  # 取遠離0\n",
    "println(\"round(-0.4, RoundNearestTiesUp) => \", round(-0.4, RoundNearestTiesUp))  # 捨\n",
    "println(\"round(-0.3, RoundNearestTiesUp) => \", round(-0.3, RoundNearestTiesUp))  # 捨\n",
    "println(\"round(-0.2, RoundNearestTiesUp) => \", round(-0.2, RoundNearestTiesUp))  # 捨\n",
    "println(\"round(-0.1, RoundNearestTiesUp) => \", round(-0.1, RoundNearestTiesUp))  # 捨\n",
    "println(\"round( 0.1, RoundNearestTiesUp) => \", round( 0.1, RoundNearestTiesUp))  # 捨\n",
    "println(\"round( 0.2, RoundNearestTiesUp) => \", round( 0.2, RoundNearestTiesUp))  # 捨\n",
    "println(\"round( 0.3, RoundNearestTiesUp) => \", round( 0.3, RoundNearestTiesUp))  # 捨\n",
    "println(\"round( 0.4, RoundNearestTiesUp) => \", round( 0.4, RoundNearestTiesUp))  # 捨\n",
    "println(\"round( 0.5, RoundNearestTiesUp) => \", round( 0.5, RoundNearestTiesUp))  # 取遠離0\n",
    "println(\"round( 0.6, RoundNearestTiesUp) => \", round( 0.6, RoundNearestTiesUp))  # 進\n",
    "println(\"round( 0.7, RoundNearestTiesUp) => \", round( 0.7, RoundNearestTiesUp))  # 進\n",
    "println(\"round( 0.8, RoundNearestTiesUp) => \", round( 0.8, RoundNearestTiesUp))  # 進\n",
    "println(\"round( 0.9, RoundNearestTiesUp) => \", round( 0.9, RoundNearestTiesUp))  # 進"
   ]
  },
  {
   "cell_type": "code",
   "execution_count": 64,
   "metadata": {},
   "outputs": [
    {
     "name": "stdout",
     "output_type": "stream",
     "text": [
      "round(-0.9, RoundToZero) => -0.0\n",
      "round(-0.8, RoundToZero) => -0.0\n",
      "round(-0.7, RoundToZero) => -0.0\n",
      "round(-0.6, RoundToZero) => -0.0\n",
      "round(-0.5, RoundToZero) => -0.0\n",
      "round(-0.4, RoundToZero) => -0.0\n",
      "round(-0.3, RoundToZero) => -0.0\n",
      "round(-0.2, RoundToZero) => -0.0\n",
      "round(-0.1, RoundToZero) => -0.0\n",
      "round( 0.1, RoundToZero) => 0.0\n",
      "round( 0.2, RoundToZero) => 0.0\n",
      "round( 0.3, RoundToZero) => 0.0\n",
      "round( 0.4, RoundToZero) => 0.0\n",
      "round( 0.5, RoundToZero) => 0.0\n",
      "round( 0.6, RoundToZero) => 0.0\n",
      "round( 0.7, RoundToZero) => 0.0\n",
      "round( 0.8, RoundToZero) => 0.0\n",
      "round( 0.9, RoundToZero) => 0.0\n"
     ]
    }
   ],
   "source": [
    "# RoundToZero 無條件捨去\n",
    "println(\"round(-0.9, RoundToZero) => \", round(-0.9, RoundToZero))  # 捨\n",
    "println(\"round(-0.8, RoundToZero) => \", round(-0.8, RoundToZero))  # 捨\n",
    "println(\"round(-0.7, RoundToZero) => \", round(-0.7, RoundToZero))  # 捨\n",
    "println(\"round(-0.6, RoundToZero) => \", round(-0.6, RoundToZero))  # 捨\n",
    "println(\"round(-0.5, RoundToZero) => \", round(-0.5, RoundToZero))  # 捨\n",
    "println(\"round(-0.4, RoundToZero) => \", round(-0.4, RoundToZero))  # 捨\n",
    "println(\"round(-0.3, RoundToZero) => \", round(-0.3, RoundToZero))  # 捨\n",
    "println(\"round(-0.2, RoundToZero) => \", round(-0.2, RoundToZero))  # 捨\n",
    "println(\"round(-0.1, RoundToZero) => \", round(-0.1, RoundToZero))  # 捨\n",
    "println(\"round( 0.1, RoundToZero) => \", round( 0.1, RoundToZero))  # 捨\n",
    "println(\"round( 0.2, RoundToZero) => \", round( 0.2, RoundToZero))  # 捨\n",
    "println(\"round( 0.3, RoundToZero) => \", round( 0.3, RoundToZero))  # 捨\n",
    "println(\"round( 0.4, RoundToZero) => \", round( 0.4, RoundToZero))  # 捨\n",
    "println(\"round( 0.5, RoundToZero) => \", round( 0.5, RoundToZero))  # 捨\n",
    "println(\"round( 0.6, RoundToZero) => \", round( 0.6, RoundToZero))  # 捨\n",
    "println(\"round( 0.7, RoundToZero) => \", round( 0.7, RoundToZero))  # 捨\n",
    "println(\"round( 0.8, RoundToZero) => \", round( 0.8, RoundToZero))  # 捨\n",
    "println(\"round( 0.9, RoundToZero) => \", round( 0.9, RoundToZero))  # 捨"
   ]
  },
  {
   "cell_type": "code",
   "execution_count": 66,
   "metadata": {},
   "outputs": [
    {
     "name": "stdout",
     "output_type": "stream",
     "text": [
      "round(-0.9, RoundUp) => -0.0\n",
      "round(-0.8, RoundUp) => -0.0\n",
      "round(-0.7, RoundUp) => -0.0\n",
      "round(-0.6, RoundUp) => -0.0\n",
      "round(-0.5, RoundUp) => -0.0\n",
      "round(-0.4, RoundUp) => -0.0\n",
      "round(-0.3, RoundUp) => -0.0\n",
      "round(-0.2, RoundUp) => -0.0\n",
      "round(-0.1, RoundUp) => -0.0\n",
      "round( 0.1, RoundUp) => 1.0\n",
      "round( 0.2, RoundUp) => 1.0\n",
      "round( 0.3, RoundUp) => 1.0\n",
      "round( 0.4, RoundUp) => 1.0\n",
      "round( 0.5, RoundUp) => 1.0\n",
      "round( 0.6, RoundUp) => 1.0\n",
      "round( 0.7, RoundUp) => 1.0\n",
      "round( 0.8, RoundUp) => 1.0\n",
      "round( 0.9, RoundUp) => 1.0\n"
     ]
    }
   ],
   "source": [
    "# RoundUp 無條件進位\n",
    "println(\"round(-0.9, RoundUp) => \", round(-0.9, RoundUp))  # 進\n",
    "println(\"round(-0.8, RoundUp) => \", round(-0.8, RoundUp))  # 進\n",
    "println(\"round(-0.7, RoundUp) => \", round(-0.7, RoundUp))  # 進\n",
    "println(\"round(-0.6, RoundUp) => \", round(-0.6, RoundUp))  # 進\n",
    "println(\"round(-0.5, RoundUp) => \", round(-0.5, RoundUp))  # 進\n",
    "println(\"round(-0.4, RoundUp) => \", round(-0.4, RoundUp))  # 進\n",
    "println(\"round(-0.3, RoundUp) => \", round(-0.3, RoundUp))  # 進\n",
    "println(\"round(-0.2, RoundUp) => \", round(-0.2, RoundUp))  # 進\n",
    "println(\"round(-0.1, RoundUp) => \", round(-0.1, RoundUp))  # 進\n",
    "println(\"round( 0.1, RoundUp) => \", round( 0.1, RoundUp))  # 進\n",
    "println(\"round( 0.2, RoundUp) => \", round( 0.2, RoundUp))  # 進\n",
    "println(\"round( 0.3, RoundUp) => \", round( 0.3, RoundUp))  # 進\n",
    "println(\"round( 0.4, RoundUp) => \", round( 0.4, RoundUp))  # 進\n",
    "println(\"round( 0.5, RoundUp) => \", round( 0.5, RoundUp))  # 進\n",
    "println(\"round( 0.6, RoundUp) => \", round( 0.6, RoundUp))  # 進\n",
    "println(\"round( 0.7, RoundUp) => \", round( 0.7, RoundUp))  # 進\n",
    "println(\"round( 0.8, RoundUp) => \", round( 0.8, RoundUp))  # 進\n",
    "println(\"round( 0.9, RoundUp) => \", round( 0.9, RoundUp))  # 進"
   ]
  },
  {
   "cell_type": "code",
   "execution_count": 67,
   "metadata": {},
   "outputs": [
    {
     "name": "stdout",
     "output_type": "stream",
     "text": [
      "round(-0.9, RoundDown) => -1.0\n",
      "round(-0.8, RoundDown) => -1.0\n",
      "round(-0.7, RoundDown) => -1.0\n",
      "round(-0.6, RoundDown) => -1.0\n",
      "round(-0.5, RoundDown) => -1.0\n",
      "round(-0.4, RoundDown) => -1.0\n",
      "round(-0.3, RoundDown) => -1.0\n",
      "round(-0.2, RoundDown) => -1.0\n",
      "round(-0.1, RoundDown) => -1.0\n",
      "round( 0.1, RoundDown) => 0.0\n",
      "round( 0.2, RoundDown) => 0.0\n",
      "round( 0.3, RoundDown) => 0.0\n",
      "round( 0.4, RoundDown) => 0.0\n",
      "round( 0.5, RoundDown) => 0.0\n",
      "round( 0.6, RoundDown) => 0.0\n",
      "round( 0.7, RoundDown) => 0.0\n",
      "round( 0.8, RoundDown) => 0.0\n",
      "round( 0.9, RoundDown) => 0.0\n"
     ]
    }
   ],
   "source": [
    "# RoundDown 無條件退位\n",
    "println(\"round(-0.9, RoundDown) => \", round(-0.9, RoundDown))  # 退\n",
    "println(\"round(-0.8, RoundDown) => \", round(-0.8, RoundDown))  # 退\n",
    "println(\"round(-0.7, RoundDown) => \", round(-0.7, RoundDown))  # 退\n",
    "println(\"round(-0.6, RoundDown) => \", round(-0.6, RoundDown))  # 退\n",
    "println(\"round(-0.5, RoundDown) => \", round(-0.5, RoundDown))  # 退\n",
    "println(\"round(-0.4, RoundDown) => \", round(-0.4, RoundDown))  # 退\n",
    "println(\"round(-0.3, RoundDown) => \", round(-0.3, RoundDown))  # 退\n",
    "println(\"round(-0.2, RoundDown) => \", round(-0.2, RoundDown))  # 退\n",
    "println(\"round(-0.1, RoundDown) => \", round(-0.1, RoundDown))  # 退\n",
    "println(\"round( 0.1, RoundDown) => \", round( 0.1, RoundDown))  # 退\n",
    "println(\"round( 0.2, RoundDown) => \", round( 0.2, RoundDown))  # 退\n",
    "println(\"round( 0.3, RoundDown) => \", round( 0.3, RoundDown))  # 退\n",
    "println(\"round( 0.4, RoundDown) => \", round( 0.4, RoundDown))  # 退\n",
    "println(\"round( 0.5, RoundDown) => \", round( 0.5, RoundDown))  # 退\n",
    "println(\"round( 0.6, RoundDown) => \", round( 0.6, RoundDown))  # 退\n",
    "println(\"round( 0.7, RoundDown) => \", round( 0.7, RoundDown))  # 退\n",
    "println(\"round( 0.8, RoundDown) => \", round( 0.8, RoundDown))  # 退\n",
    "println(\"round( 0.9, RoundDown) => \", round( 0.9, RoundDown))  # 退"
   ]
  },
  {
   "cell_type": "code",
   "execution_count": 44,
   "metadata": {},
   "outputs": [
    {
     "data": {
      "text/plain": [
       "1.0"
      ]
     },
     "execution_count": 44,
     "metadata": {},
     "output_type": "execute_result"
    }
   ],
   "source": [
    "# The default rounding mode.\n",
    "# Rounds to the nearest integer, with ties (fractional values of 0.5) being rounded to the nearest even integer.\n",
    "round(1.2)"
   ]
  },
  {
   "cell_type": "code",
   "execution_count": 38,
   "metadata": {},
   "outputs": [
    {
     "name": "stdout",
     "output_type": "stream",
     "text": [
      "round(0.1) => 0.0\n",
      "round(0.2) => 0.0\n",
      "round(0.3) => 0.0\n",
      "round(0.4) => 0.0\n",
      "round(0.5) => 0.0\n",
      "round(0.6) => 1.0\n",
      "round(0.7) => 1.0\n",
      "round(0.8) => 1.0\n",
      "round(0.9) => 1.0\n"
     ]
    }
   ],
   "source": [
    "# 0.5最近的偶數為 0\n",
    "println(\"round(0.1) => \", round(0.1))  # 捨\n",
    "println(\"round(0.2) => \", round(0.2))  # 捨\n",
    "println(\"round(0.3) => \", round(0.3))  # 捨\n",
    "println(\"round(0.4) => \", round(0.4))  # 捨\n",
    "println(\"round(0.5) => \", round(0.5))  # 取最近偶數\n",
    "println(\"round(0.6) => \", round(0.6))  # 進\n",
    "println(\"round(0.7) => \", round(0.7))  # 進\n",
    "println(\"round(0.8) => \", round(0.8))  # 進\n",
    "println(\"round(0.9) => \", round(0.9))  # 進"
   ]
  },
  {
   "cell_type": "code",
   "execution_count": 45,
   "metadata": {},
   "outputs": [
    {
     "data": {
      "text/plain": [
       "(2.0, 2.0)"
      ]
     },
     "execution_count": 45,
     "metadata": {},
     "output_type": "execute_result"
    }
   ],
   "source": [
    "# 最近的偶數為 2\n",
    "round(1.5), round(2.5)"
   ]
  },
  {
   "cell_type": "code",
   "execution_count": 75,
   "metadata": {},
   "outputs": [
    {
     "data": {
      "text/plain": [
       "(2.0, 2.0)"
      ]
     },
     "execution_count": 75,
     "metadata": {},
     "output_type": "execute_result"
    }
   ],
   "source": [
    "# 若要四捨五入, 加上 RoundNearestTiesUp 常數參數\n",
    "round(2.4, RoundNearestTiesUp), round(1.6, RoundNearestTiesUp)"
   ]
  },
  {
   "cell_type": "code",
   "execution_count": 53,
   "metadata": {},
   "outputs": [
    {
     "data": {
      "text/plain": [
       "(-2.0, 1.0)"
      ]
     },
     "execution_count": 53,
     "metadata": {},
     "output_type": "execute_result"
    }
   ],
   "source": [
    "# 無條件退位\n",
    "round(-1.5, RoundDown), round(1.5, RoundDown)"
   ]
  },
  {
   "cell_type": "markdown",
   "metadata": {},
   "source": [
    "## 4. 有理數 (Rational)\n",
    "\n",
    "### 4.1 宣告\n",
    "\n",
    "有理數是用 \"分子//分母\" 的格式宣告，有規則如下：\n",
    "- 分子、分母均需為整數\n",
    "- 分子、分母的整數型別不同時，會自動進行必要的轉換\n",
    "- 分子、分母可為正或負數，但是有理數會被約分為分母不為負數的形式\n",
    "- 分子及分母不可為浮點數\n",
    "- 分母或分子可為零，但是不可分子和分母同時為零"
   ]
  },
  {
   "cell_type": "code",
   "execution_count": 76,
   "metadata": {},
   "outputs": [
    {
     "data": {
      "text/plain": [
       "1//2"
      ]
     },
     "execution_count": 76,
     "metadata": {},
     "output_type": "execute_result"
    }
   ],
   "source": [
    "# 分子、分母均需為整數\n",
    "1//2"
   ]
  },
  {
   "cell_type": "code",
   "execution_count": 77,
   "metadata": {},
   "outputs": [
    {
     "data": {
      "text/plain": [
       "0x00000003//0x00000005"
      ]
     },
     "execution_count": 77,
     "metadata": {},
     "output_type": "execute_result"
    }
   ],
   "source": [
    "# 分子、分母的整數型別不同時，會自動進行必要的轉換\n",
    "UInt32(3)//Int8(5)"
   ]
  },
  {
   "cell_type": "code",
   "execution_count": 78,
   "metadata": {},
   "outputs": [
    {
     "data": {
      "text/plain": [
       "Rational{UInt32}"
      ]
     },
     "execution_count": 78,
     "metadata": {},
     "output_type": "execute_result"
    }
   ],
   "source": [
    "typeof(ans)"
   ]
  },
  {
   "cell_type": "code",
   "execution_count": 79,
   "metadata": {},
   "outputs": [
    {
     "data": {
      "text/plain": [
       "-2//1"
      ]
     },
     "execution_count": 79,
     "metadata": {},
     "output_type": "execute_result"
    }
   ],
   "source": [
    "# 分子、分母可為正或負數，但是有理數會被約分為分母不為負數的形式\n",
    "2//-1"
   ]
  },
  {
   "cell_type": "code",
   "execution_count": 80,
   "metadata": {},
   "outputs": [
    {
     "data": {
      "text/plain": [
       "1//2"
      ]
     },
     "execution_count": 80,
     "metadata": {},
     "output_type": "execute_result"
    }
   ],
   "source": [
    "# 約分\n",
    "3 // 6"
   ]
  },
  {
   "cell_type": "code",
   "execution_count": 85,
   "metadata": {},
   "outputs": [
    {
     "data": {
      "text/plain": [
       "true"
      ]
     },
     "execution_count": 85,
     "metadata": {},
     "output_type": "execute_result"
    }
   ],
   "source": [
    "# 約分\n",
    "3 // 6 == 30 // 60"
   ]
  },
  {
   "cell_type": "code",
   "execution_count": 81,
   "metadata": {},
   "outputs": [
    {
     "ename": "MethodError",
     "evalue": "MethodError: no method matching //(::Float64, ::Int64)\nClosest candidates are:\n  //(!Matched::Integer, ::Integer) at rational.jl:50\n  //(!Matched::Rational, ::Integer) at rational.jl:53\n  //(!Matched::Complex, ::Real) at rational.jl:66\n  ...",
     "output_type": "error",
     "traceback": [
      "MethodError: no method matching //(::Float64, ::Int64)\nClosest candidates are:\n  //(!Matched::Integer, ::Integer) at rational.jl:50\n  //(!Matched::Rational, ::Integer) at rational.jl:53\n  //(!Matched::Complex, ::Real) at rational.jl:66\n  ...",
      "",
      "Stacktrace:",
      " [1] top-level scope at In[81]:1"
     ]
    }
   ],
   "source": [
    "# 分子及分母不可為浮點數\n",
    "1.1//2"
   ]
  },
  {
   "cell_type": "code",
   "execution_count": 82,
   "metadata": {},
   "outputs": [
    {
     "data": {
      "text/plain": [
       "0//1"
      ]
     },
     "execution_count": 82,
     "metadata": {},
     "output_type": "execute_result"
    }
   ],
   "source": [
    "# 分母或分子可為零\n",
    "0//5"
   ]
  },
  {
   "cell_type": "code",
   "execution_count": 83,
   "metadata": {},
   "outputs": [
    {
     "data": {
      "text/plain": [
       "1//0"
      ]
     },
     "execution_count": 83,
     "metadata": {},
     "output_type": "execute_result"
    }
   ],
   "source": [
    "# 分母或分子可為零\n",
    "9//0"
   ]
  },
  {
   "cell_type": "code",
   "execution_count": 88,
   "metadata": {},
   "outputs": [
    {
     "data": {
      "text/plain": [
       "-1//0"
      ]
     },
     "execution_count": 88,
     "metadata": {},
     "output_type": "execute_result"
    }
   ],
   "source": [
    "# 分母或分子可為零\n",
    "-3//0"
   ]
  },
  {
   "cell_type": "code",
   "execution_count": 84,
   "metadata": {},
   "outputs": [
    {
     "ename": "ArgumentError",
     "evalue": "ArgumentError: invalid rational: zero(Int64)//zero(Int64)",
     "output_type": "error",
     "traceback": [
      "ArgumentError: invalid rational: zero(Int64)//zero(Int64)",
      "",
      "Stacktrace:",
      " [1] __throw_rational_argerror_zero(::Type{T} where T) at .\\rational.jl:24",
      " [2] Rational at .\\rational.jl:14 [inlined]",
      " [3] Rational at .\\rational.jl:27 [inlined]",
      " [4] //(::Int64, ::Int64) at .\\rational.jl:50",
      " [5] top-level scope at In[84]:1"
     ]
    }
   ],
   "source": [
    "# 分母或分子可為零，但是不可分子和分母同時為零\n",
    "0//0"
   ]
  },
  {
   "cell_type": "markdown",
   "metadata": {},
   "source": [
    "### 4.2 轉換\n",
    "\n",
    "有理數與浮點數之間可以進行轉換。"
   ]
  },
  {
   "cell_type": "code",
   "execution_count": 86,
   "metadata": {},
   "outputs": [
    {
     "data": {
      "text/plain": [
       "1.5"
      ]
     },
     "execution_count": 86,
     "metadata": {},
     "output_type": "execute_result"
    }
   ],
   "source": [
    "# 有理數轉為浮點數\n",
    "Float64(3//2)"
   ]
  },
  {
   "cell_type": "code",
   "execution_count": 87,
   "metadata": {},
   "outputs": [
    {
     "data": {
      "text/plain": [
       "-1//4"
      ]
     },
     "execution_count": 87,
     "metadata": {},
     "output_type": "execute_result"
    }
   ],
   "source": [
    "# 浮點數轉為有理數\n",
    "Rational(-0.25)"
   ]
  },
  {
   "cell_type": "markdown",
   "metadata": {},
   "source": [
    "Conversion from rational to floating-point respects the following identity for any integral values of a and b, with the exception of the case a == 0 and b == 0:"
   ]
  },
  {
   "cell_type": "code",
   "execution_count": 89,
   "metadata": {},
   "outputs": [
    {
     "data": {
      "text/plain": [
       "true"
      ]
     },
     "execution_count": 89,
     "metadata": {},
     "output_type": "execute_result"
    }
   ],
   "source": [
    "a = 5\n",
    "b = 7\n",
    "isequal(float(a//b), a/b)"
   ]
  },
  {
   "cell_type": "markdown",
   "metadata": {},
   "source": [
    "### 4.3 `numerator()` 與 `denominator()` \n",
    "\n",
    "呼叫 `numerator()` 與 `denominator()` 函式分別可以取得有理數的分子或分母值。"
   ]
  },
  {
   "cell_type": "code",
   "execution_count": 90,
   "metadata": {},
   "outputs": [
    {
     "data": {
      "text/plain": [
       "2"
      ]
     },
     "execution_count": 90,
     "metadata": {},
     "output_type": "execute_result"
    }
   ],
   "source": [
    "r = 2//3\n",
    "\n",
    "# 取得有理數的分子\n",
    "numerator(r)"
   ]
  },
  {
   "cell_type": "code",
   "execution_count": 91,
   "metadata": {},
   "outputs": [
    {
     "data": {
      "text/plain": [
       "3"
      ]
     },
     "execution_count": 91,
     "metadata": {},
     "output_type": "execute_result"
    }
   ],
   "source": [
    "# 取得有理數的分母\n",
    "denominator(r)"
   ]
  },
  {
   "cell_type": "markdown",
   "metadata": {},
   "source": [
    "As usual, the promotion system makes interactions with other numeric types effortless:\n",
    "\n",
    "透過promotion，數值型別間可以互相作用"
   ]
  },
  {
   "cell_type": "code",
   "execution_count": 92,
   "metadata": {},
   "outputs": [
    {
     "data": {
      "text/plain": [
       "8//5"
      ]
     },
     "execution_count": 92,
     "metadata": {},
     "output_type": "execute_result"
    }
   ],
   "source": [
    "3//5 + 1"
   ]
  },
  {
   "cell_type": "code",
   "execution_count": 93,
   "metadata": {},
   "outputs": [
    {
     "data": {
      "text/plain": [
       "0.09999999999999998"
      ]
     },
     "execution_count": 93,
     "metadata": {},
     "output_type": "execute_result"
    }
   ],
   "source": [
    "3//5 - 0.5"
   ]
  },
  {
   "cell_type": "code",
   "execution_count": 94,
   "metadata": {},
   "outputs": [
    {
     "data": {
      "text/plain": [
       "2//7 + 4//7*im"
      ]
     },
     "execution_count": 94,
     "metadata": {},
     "output_type": "execute_result"
    }
   ],
   "source": [
    "2//7 * (1 + 2im)"
   ]
  },
  {
   "cell_type": "code",
   "execution_count": 95,
   "metadata": {},
   "outputs": [
    {
     "data": {
      "text/plain": [
       "0.42857142857142855 + 0.5714285714285714im"
      ]
     },
     "execution_count": 95,
     "metadata": {},
     "output_type": "execute_result"
    }
   ],
   "source": [
    "2//7 * (1.5 + 2im)"
   ]
  },
  {
   "cell_type": "code",
   "execution_count": 96,
   "metadata": {},
   "outputs": [
    {
     "data": {
      "text/plain": [
       "3//10 - 3//5*im"
      ]
     },
     "execution_count": 96,
     "metadata": {},
     "output_type": "execute_result"
    }
   ],
   "source": [
    "3//2 / (1 + 2im)"
   ]
  },
  {
   "cell_type": "code",
   "execution_count": 97,
   "metadata": {},
   "outputs": [
    {
     "data": {
      "text/plain": [
       "1//2 + 2//1*im"
      ]
     },
     "execution_count": 97,
     "metadata": {},
     "output_type": "execute_result"
    }
   ],
   "source": [
    "1//2 + 2im"
   ]
  },
  {
   "cell_type": "code",
   "execution_count": 98,
   "metadata": {},
   "outputs": [
    {
     "data": {
      "text/plain": [
       "1//1 - 2//3*im"
      ]
     },
     "execution_count": 98,
     "metadata": {},
     "output_type": "execute_result"
    }
   ],
   "source": [
    "1 + 2//3im"
   ]
  },
  {
   "cell_type": "code",
   "execution_count": 99,
   "metadata": {},
   "outputs": [
    {
     "data": {
      "text/plain": [
       "true"
      ]
     },
     "execution_count": 99,
     "metadata": {},
     "output_type": "execute_result"
    }
   ],
   "source": [
    "0.5 == 1//2"
   ]
  },
  {
   "cell_type": "code",
   "execution_count": 100,
   "metadata": {},
   "outputs": [
    {
     "data": {
      "text/plain": [
       "false"
      ]
     },
     "execution_count": 100,
     "metadata": {},
     "output_type": "execute_result"
    }
   ],
   "source": [
    " 0.33 == 1//3"
   ]
  },
  {
   "cell_type": "code",
   "execution_count": 101,
   "metadata": {},
   "outputs": [
    {
     "data": {
      "text/plain": [
       "true"
      ]
     },
     "execution_count": 101,
     "metadata": {},
     "output_type": "execute_result"
    }
   ],
   "source": [
    "0.33 < 1//3"
   ]
  },
  {
   "cell_type": "code",
   "execution_count": 102,
   "metadata": {},
   "outputs": [
    {
     "data": {
      "text/plain": [
       "0.0033333333333332993"
      ]
     },
     "execution_count": 102,
     "metadata": {},
     "output_type": "execute_result"
    }
   ],
   "source": [
    "1//3 - 0.33"
   ]
  },
  {
   "cell_type": "markdown",
   "metadata": {},
   "source": [
    "## 5. 複數 (Complex)\n",
    "\n",
    "### 5.1 宣告\n",
    "\n",
    "複數是由實部和虛部組成，格式為 \"實部+虛部im\"。實部和虛部可以是任何實數 (Real) 型別，包含整數、浮點數、有理數、無理數。"
   ]
  },
  {
   "cell_type": "code",
   "execution_count": 103,
   "metadata": {},
   "outputs": [
    {
     "data": {
      "text/plain": [
       "1 + 2im"
      ]
     },
     "execution_count": 103,
     "metadata": {},
     "output_type": "execute_result"
    }
   ],
   "source": [
    "1 + 2im"
   ]
  },
  {
   "cell_type": "markdown",
   "metadata": {},
   "source": [
    "若未提供實部或虛部值，則預設為 0。"
   ]
  },
  {
   "cell_type": "code",
   "execution_count": 106,
   "metadata": {},
   "outputs": [
    {
     "data": {
      "text/plain": [
       "8 + 0im"
      ]
     },
     "execution_count": 106,
     "metadata": {},
     "output_type": "execute_result"
    }
   ],
   "source": [
    "Complex(8)"
   ]
  },
  {
   "cell_type": "code",
   "execution_count": 107,
   "metadata": {},
   "outputs": [
    {
     "data": {
      "text/plain": [
       "0 + 3im"
      ]
     },
     "execution_count": 107,
     "metadata": {},
     "output_type": "execute_result"
    }
   ],
   "source": [
    "Complex(3im)"
   ]
  },
  {
   "cell_type": "markdown",
   "metadata": {},
   "source": [
    "若是使用變數來組成複數的實部和虛部，則在虛部的部分需要加上 `*`。"
   ]
  },
  {
   "cell_type": "code",
   "execution_count": 121,
   "metadata": {},
   "outputs": [
    {
     "name": "stdout",
     "output_type": "stream",
     "text": [
      "Int64\n",
      "Int64\n",
      "1 + 2im\n"
     ]
    }
   ],
   "source": [
    "a = 1; b = 2\n",
    "println(typeof(a))\n",
    "println(typeof(b))\n",
    "println(a + b * im)  # promotion"
   ]
  },
  {
   "cell_type": "code",
   "execution_count": 118,
   "metadata": {},
   "outputs": [
    {
     "name": "stdout",
     "output_type": "stream",
     "text": [
      "Int64\n",
      "Complex{Int64}\n",
      "1 + 2im\n"
     ]
    }
   ],
   "source": [
    "a = 1; b = 2im\n",
    "println(typeof(a))\n",
    "println(typeof(b))\n",
    "println(a + b)  # promotion"
   ]
  },
  {
   "cell_type": "code",
   "execution_count": 119,
   "metadata": {},
   "outputs": [
    {
     "name": "stdout",
     "output_type": "stream",
     "text": [
      "Int64\n",
      "Complex{Int64}\n",
      "1 + 2im\n"
     ]
    }
   ],
   "source": [
    "a = 1; b = 2*im\n",
    "println(typeof(a))\n",
    "println(typeof(b))\n",
    "println(a + b)  # promotion"
   ]
  },
  {
   "cell_type": "markdown",
   "metadata": {},
   "source": [
    "但由於使用 * 的方式易與乘法混淆，為避免也可以使用 complex() 函式，或是指定型別來組成。"
   ]
  },
  {
   "cell_type": "code",
   "execution_count": 122,
   "metadata": {},
   "outputs": [
    {
     "data": {
      "text/plain": [
       "5 + 6im"
      ]
     },
     "execution_count": 122,
     "metadata": {},
     "output_type": "execute_result"
    }
   ],
   "source": [
    "Complex(5, 6)"
   ]
  },
  {
   "cell_type": "code",
   "execution_count": 123,
   "metadata": {},
   "outputs": [
    {
     "data": {
      "text/plain": [
       "Complex{Int64}"
      ]
     },
     "execution_count": 123,
     "metadata": {},
     "output_type": "execute_result"
    }
   ],
   "source": [
    "# 型別由 Julia 自動確定\n",
    "typeof(ans)"
   ]
  },
  {
   "cell_type": "code",
   "execution_count": 128,
   "metadata": {},
   "outputs": [
    {
     "data": {
      "text/plain": [
       "2.3333333333333335 + 6.0im"
      ]
     },
     "execution_count": 128,
     "metadata": {},
     "output_type": "execute_result"
    }
   ],
   "source": [
    "Complex(7//3, 6.0)"
   ]
  },
  {
   "cell_type": "code",
   "execution_count": 129,
   "metadata": {},
   "outputs": [
    {
     "data": {
      "text/plain": [
       "Complex{Float64}"
      ]
     },
     "execution_count": 129,
     "metadata": {},
     "output_type": "execute_result"
    }
   ],
   "source": [
    "# 型別由 Julia 自動確定\n",
    "typeof(ans)"
   ]
  },
  {
   "cell_type": "markdown",
   "metadata": {},
   "source": [
    "實部及虛部為浮點數時，而且要指定型別時，可以使用下列方式宣告。\n",
    "\n",
    "|複數型別|別名|\n",
    "|---|---|\n",
    "|Complex{Float64}|ComplexF64|\n",
    "|Complex{Float32}|ComplexF32|\n",
    "|Complex{Float16}|ComplexF16|"
   ]
  },
  {
   "cell_type": "code",
   "execution_count": 130,
   "metadata": {},
   "outputs": [
    {
     "data": {
      "text/plain": [
       "1.0 + 2.0im"
      ]
     },
     "execution_count": 130,
     "metadata": {},
     "output_type": "execute_result"
    }
   ],
   "source": [
    "Complex{Float64}(1, 2)"
   ]
  },
  {
   "cell_type": "code",
   "execution_count": 131,
   "metadata": {},
   "outputs": [
    {
     "data": {
      "text/plain": [
       "1.0f0 + 2.0f0im"
      ]
     },
     "execution_count": 131,
     "metadata": {},
     "output_type": "execute_result"
    }
   ],
   "source": [
    "# 使用別名\n",
    "ComplexF32(1, 2)"
   ]
  },
  {
   "cell_type": "code",
   "execution_count": 132,
   "metadata": {},
   "outputs": [
    {
     "data": {
      "text/plain": [
       "Complex{Int64}"
      ]
     },
     "execution_count": 132,
     "metadata": {},
     "output_type": "execute_result"
    }
   ],
   "source": [
    "# 整數也可以\n",
    "typeof(Complex{Int64}(1, 2))"
   ]
  },
  {
   "cell_type": "code",
   "execution_count": 133,
   "metadata": {},
   "outputs": [
    {
     "data": {
      "text/plain": [
       "7//3 + 7//3*im"
      ]
     },
     "execution_count": 133,
     "metadata": {},
     "output_type": "execute_result"
    }
   ],
   "source": [
    "# 有理數也可以\n",
    "Complex{Rational}(7//3, 7//3)"
   ]
  },
  {
   "cell_type": "code",
   "execution_count": 134,
   "metadata": {},
   "outputs": [
    {
     "data": {
      "text/plain": [
       "Complex{Rational}"
      ]
     },
     "execution_count": 134,
     "metadata": {},
     "output_type": "execute_result"
    }
   ],
   "source": [
    "typeof(Complex{Rational}(7//3, 7//3))"
   ]
  },
  {
   "cell_type": "markdown",
   "metadata": {},
   "source": [
    "### 5.2 複數常用函式\n",
    "\n",
    "|函式|說明|\n",
    "|---|---|\n",
    "|`real()`|取得實部|\n",
    "|`imag()`|取得虛部|\n",
    "|`reim()`|同時取得實部與虚部|\n",
    "|`conj()`|共軛|\n",
    "|`abs()`|絕對值，與0的距離|\n",
    "|`abs2()`|絕對值平方|\n",
    "|`angle()`|相角(radians)|"
   ]
  },
  {
   "cell_type": "code",
   "execution_count": 142,
   "metadata": {},
   "outputs": [
    {
     "data": {
      "text/plain": [
       "3.0 + 4.0im"
      ]
     },
     "execution_count": 142,
     "metadata": {},
     "output_type": "execute_result"
    }
   ],
   "source": [
    "x = Complex{Float64}(3, 4)"
   ]
  },
  {
   "cell_type": "code",
   "execution_count": 143,
   "metadata": {},
   "outputs": [
    {
     "data": {
      "text/plain": [
       "3.0"
      ]
     },
     "execution_count": 143,
     "metadata": {},
     "output_type": "execute_result"
    }
   ],
   "source": [
    "real(x)"
   ]
  },
  {
   "cell_type": "code",
   "execution_count": 144,
   "metadata": {},
   "outputs": [
    {
     "data": {
      "text/plain": [
       "4.0"
      ]
     },
     "execution_count": 144,
     "metadata": {},
     "output_type": "execute_result"
    }
   ],
   "source": [
    "imag(x)"
   ]
  },
  {
   "cell_type": "code",
   "execution_count": 145,
   "metadata": {},
   "outputs": [
    {
     "data": {
      "text/plain": [
       "4.0"
      ]
     },
     "execution_count": 145,
     "metadata": {},
     "output_type": "execute_result"
    }
   ],
   "source": [
    "imag(x)"
   ]
  },
  {
   "cell_type": "code",
   "execution_count": 146,
   "metadata": {},
   "outputs": [
    {
     "data": {
      "text/plain": [
       "(3.0, 4.0)"
      ]
     },
     "execution_count": 146,
     "metadata": {},
     "output_type": "execute_result"
    }
   ],
   "source": [
    "reim(x)"
   ]
  },
  {
   "cell_type": "code",
   "execution_count": 147,
   "metadata": {},
   "outputs": [
    {
     "data": {
      "text/plain": [
       "3.0 - 4.0im"
      ]
     },
     "execution_count": 147,
     "metadata": {},
     "output_type": "execute_result"
    }
   ],
   "source": [
    "conj(x)"
   ]
  },
  {
   "cell_type": "code",
   "execution_count": 148,
   "metadata": {},
   "outputs": [
    {
     "data": {
      "text/plain": [
       "5.0"
      ]
     },
     "execution_count": 148,
     "metadata": {},
     "output_type": "execute_result"
    }
   ],
   "source": [
    "abs(x)"
   ]
  },
  {
   "cell_type": "code",
   "execution_count": 149,
   "metadata": {},
   "outputs": [
    {
     "data": {
      "text/plain": [
       "25.0"
      ]
     },
     "execution_count": 149,
     "metadata": {},
     "output_type": "execute_result"
    }
   ],
   "source": [
    "abs2(x)"
   ]
  },
  {
   "cell_type": "code",
   "execution_count": 150,
   "metadata": {},
   "outputs": [
    {
     "data": {
      "text/plain": [
       "0.9272952180016122"
      ]
     },
     "execution_count": 150,
     "metadata": {},
     "output_type": "execute_result"
    }
   ],
   "source": [
    "angle(x)"
   ]
  },
  {
   "cell_type": "markdown",
   "metadata": {},
   "source": [
    "## 6. 無理數 (Irrational)\n",
    "\n",
    "無限不循環小數，例如 $\\pi$ 即為無理數。以下用 Julia 內建常數 $\\pi$ 與 ℯ 來做示範。"
   ]
  },
  {
   "cell_type": "code",
   "execution_count": 151,
   "metadata": {},
   "outputs": [
    {
     "data": {
      "text/plain": [
       "π = 3.1415926535897..."
      ]
     },
     "execution_count": 151,
     "metadata": {},
     "output_type": "execute_result"
    }
   ],
   "source": [
    "# π 為內建的數學常數，將在未來的內容介紹。\n",
    "pi"
   ]
  },
  {
   "cell_type": "code",
   "execution_count": 152,
   "metadata": {},
   "outputs": [
    {
     "data": {
      "text/plain": [
       "Irrational{:π}"
      ]
     },
     "execution_count": 152,
     "metadata": {},
     "output_type": "execute_result"
    }
   ],
   "source": [
    "typeof(pi)"
   ]
  },
  {
   "cell_type": "code",
   "execution_count": 153,
   "metadata": {},
   "outputs": [
    {
     "data": {
      "text/plain": [
       "Irrational{:ℯ}"
      ]
     },
     "execution_count": 153,
     "metadata": {},
     "output_type": "execute_result"
    }
   ],
   "source": [
    "# 歐拉數 (Euler's number)，為內建的數學常數，將在未來的內容介紹。\n",
    "typeof(ℯ)"
   ]
  },
  {
   "cell_type": "markdown",
   "metadata": {},
   "source": [
    "## 7. 隨機數\n",
    "\n",
    "|函式|描述|\n",
    "|--|--|\n",
    "|rand()|產生元素為隨機介於 \\[0, 1) 區間的均勻分布數字|\n",
    "|randn()|產生元素為隨機常態分布的數字|\n",
    "|randexp()|產生元素為隨機指數分布的數字|"
   ]
  },
  {
   "cell_type": "code",
   "execution_count": 155,
   "metadata": {},
   "outputs": [
    {
     "name": "stderr",
     "output_type": "stream",
     "text": [
      "\u001b[32m\u001b[1m   Updating\u001b[22m\u001b[39m registry at `C:\\Users\\kai\\.julia\\registries\\General`\n",
      "\u001b[32m\u001b[1m   Updating\u001b[22m\u001b[39m git-repo `https://github.com/JuliaRegistries/General.git`\n"
     ]
    },
    {
     "name": "stdout",
     "output_type": "stream",
     "text": [
      "\u001b[2K\u001b[36m\u001b[1mFetching:\u001b[22m\u001b[39m [========================================>]  99.9 %0.0 %21.9 %                        ]  38.0 %8 %               ]  60.5 %============================>            ]  68.6 %82.2 % %\u001b[?25h"
     ]
    },
    {
     "name": "stderr",
     "output_type": "stream",
     "text": [
      "\u001b[32m\u001b[1m  Resolving\u001b[22m\u001b[39m package versions...\n",
      "\u001b[32m\u001b[1m  Installed\u001b[22m\u001b[39m ZeroMQ_jll ──────── v4.3.2+2\n",
      "\u001b[32m\u001b[1m  Installed\u001b[22m\u001b[39m OpenSSL_jll ─────── v1.1.1+2\n",
      "\u001b[32m\u001b[1m  Installed\u001b[22m\u001b[39m Bzip2_jll ───────── v1.0.6+2\n",
      "\u001b[32m\u001b[1m  Installed\u001b[22m\u001b[39m Measures ────────── v0.3.1\n",
      "\u001b[32m\u001b[1m  Installed\u001b[22m\u001b[39m RecipesPipeline ─── v0.1.3\n",
      "\u001b[32m\u001b[1m  Installed\u001b[22m\u001b[39m RecipesBase ─────── v1.0.0\n",
      "\u001b[32m\u001b[1m  Installed\u001b[22m\u001b[39m ColorTypes ──────── v0.10.0\n",
      "\u001b[32m\u001b[1m  Installed\u001b[22m\u001b[39m Plots ───────────── v1.0.9\n",
      "\u001b[32m\u001b[1m  Installed\u001b[22m\u001b[39m FFMPEG ──────────── v0.3.0\n",
      "\u001b[32m\u001b[1m  Installed\u001b[22m\u001b[39m x264_jll ────────── v2019.5.25+1\n",
      "\u001b[32m\u001b[1m  Installed\u001b[22m\u001b[39m FriBidi_jll ─────── v1.0.5+2\n",
      "\u001b[32m\u001b[1m  Installed\u001b[22m\u001b[39m FFMPEG_jll ──────── v4.1.0+2\n",
      "\u001b[32m\u001b[1m  Installed\u001b[22m\u001b[39m Ogg_jll ─────────── v1.3.3+0\n",
      "\u001b[32m\u001b[1m  Installed\u001b[22m\u001b[39m PlotThemes ──────── v1.0.3\n",
      "\u001b[32m\u001b[1m  Installed\u001b[22m\u001b[39m PlotUtils ───────── v0.6.5\n",
      "\u001b[32m\u001b[1m  Installed\u001b[22m\u001b[39m libass_jll ──────── v0.14.0+1\n",
      "\u001b[32m\u001b[1m  Installed\u001b[22m\u001b[39m x265_jll ────────── v3.0.0+0\n",
      "\u001b[32m\u001b[1m  Installed\u001b[22m\u001b[39m Zlib_jll ────────── v1.2.11+9\n",
      "\u001b[32m\u001b[1m  Installed\u001b[22m\u001b[39m LAME_jll ────────── v3.100.0+0\n",
      "\u001b[32m\u001b[1m  Installed\u001b[22m\u001b[39m FreeType2_jll ───── v2.10.1+2\n",
      "\u001b[32m\u001b[1m  Installed\u001b[22m\u001b[39m GR ──────────────── v0.48.0\n",
      "\u001b[32m\u001b[1m  Installed\u001b[22m\u001b[39m StatsBase ───────── v0.33.0\n",
      "\u001b[32m\u001b[1m  Installed\u001b[22m\u001b[39m libvorbis_jll ───── v1.3.6+2\n",
      "\u001b[32m\u001b[1m  Installed\u001b[22m\u001b[39m libfdk_aac_jll ──── v0.1.6+1\n",
      "\u001b[32m\u001b[1m  Installed\u001b[22m\u001b[39m Opus_jll ────────── v1.3.1+0\n",
      "\u001b[32m\u001b[1m  Installed\u001b[22m\u001b[39m Colors ──────────── v0.12.0\n",
      "\u001b[32m\u001b[1m  Installed\u001b[22m\u001b[39m NaNMath ─────────── v0.3.3\n",
      "\u001b[32m\u001b[1m  Installed\u001b[22m\u001b[39m Contour ─────────── v0.5.2\n",
      "\u001b[32m\u001b[1m  Installed\u001b[22m\u001b[39m LibVPX_jll ──────── v1.8.1+1\n",
      "\u001b[32m\u001b[1m  Installed\u001b[22m\u001b[39m GeometryTypes ───── v0.8.2\n",
      "\u001b[32m\u001b[1m  Installed\u001b[22m\u001b[39m Requires ────────── v1.0.1\n",
      "\u001b[32m\u001b[1m  Installed\u001b[22m\u001b[39m Showoff ─────────── v0.3.1\n",
      "\u001b[32m\u001b[1m  Installed\u001b[22m\u001b[39m StaticArrays ────── v0.12.1\n",
      "\u001b[32m\u001b[1m  Installed\u001b[22m\u001b[39m FixedPointNumbers ─ v0.8.0\n",
      "\u001b[32m\u001b[1m   Updating\u001b[22m\u001b[39m `C:\\Users\\kai\\.julia\\environments\\v1.4\\Project.toml`\n",
      " \u001b[90m [91a5bcdd]\u001b[39m\u001b[92m + Plots v1.0.9\u001b[39m\n",
      "\u001b[32m\u001b[1m   Updating\u001b[22m\u001b[39m `C:\\Users\\kai\\.julia\\environments\\v1.4\\Manifest.toml`\n",
      " \u001b[90m [6e34b625]\u001b[39m\u001b[92m + Bzip2_jll v1.0.6+2\u001b[39m\n",
      " \u001b[90m [3da002f7]\u001b[39m\u001b[92m + ColorTypes v0.10.0\u001b[39m\n",
      " \u001b[90m [5ae59095]\u001b[39m\u001b[92m + Colors v0.12.0\u001b[39m\n",
      " \u001b[90m [d38c429a]\u001b[39m\u001b[92m + Contour v0.5.2\u001b[39m\n",
      " \u001b[90m [c87230d0]\u001b[39m\u001b[92m + FFMPEG v0.3.0\u001b[39m\n",
      " \u001b[90m [b22a6f82]\u001b[39m\u001b[92m + FFMPEG_jll v4.1.0+2\u001b[39m\n",
      " \u001b[90m [53c48c17]\u001b[39m\u001b[92m + FixedPointNumbers v0.8.0\u001b[39m\n",
      " \u001b[90m [d7e528f0]\u001b[39m\u001b[92m + FreeType2_jll v2.10.1+2\u001b[39m\n",
      " \u001b[90m [559328eb]\u001b[39m\u001b[92m + FriBidi_jll v1.0.5+2\u001b[39m\n",
      " \u001b[90m [28b8d3ca]\u001b[39m\u001b[92m + GR v0.48.0\u001b[39m\n",
      " \u001b[90m [4d00f742]\u001b[39m\u001b[92m + GeometryTypes v0.8.2\u001b[39m\n",
      " \u001b[90m [c1c5ebd0]\u001b[39m\u001b[92m + LAME_jll v3.100.0+0\u001b[39m\n",
      " \u001b[90m [dd192d2f]\u001b[39m\u001b[92m + LibVPX_jll v1.8.1+1\u001b[39m\n",
      " \u001b[90m [442fdcdd]\u001b[39m\u001b[92m + Measures v0.3.1\u001b[39m\n",
      " \u001b[90m [77ba4419]\u001b[39m\u001b[92m + NaNMath v0.3.3\u001b[39m\n",
      " \u001b[90m [e7412a2a]\u001b[39m\u001b[92m + Ogg_jll v1.3.3+0\u001b[39m\n",
      " \u001b[90m [458c3c95]\u001b[39m\u001b[92m + OpenSSL_jll v1.1.1+2\u001b[39m\n",
      " \u001b[90m [91d4177d]\u001b[39m\u001b[92m + Opus_jll v1.3.1+0\u001b[39m\n",
      " \u001b[90m [ccf2f8ad]\u001b[39m\u001b[92m + PlotThemes v1.0.3\u001b[39m\n",
      " \u001b[90m [995b91a9]\u001b[39m\u001b[92m + PlotUtils v0.6.5\u001b[39m\n",
      " \u001b[90m [91a5bcdd]\u001b[39m\u001b[92m + Plots v1.0.9\u001b[39m\n",
      " \u001b[90m [3cdcf5f2]\u001b[39m\u001b[92m + RecipesBase v1.0.0\u001b[39m\n",
      " \u001b[90m [01d81517]\u001b[39m\u001b[92m + RecipesPipeline v0.1.3\u001b[39m\n",
      " \u001b[90m [ae029012]\u001b[39m\u001b[92m + Requires v1.0.1\u001b[39m\n",
      " \u001b[90m [992d4aef]\u001b[39m\u001b[92m + Showoff v0.3.1\u001b[39m\n",
      " \u001b[90m [90137ffa]\u001b[39m\u001b[92m + StaticArrays v0.12.1\u001b[39m\n",
      " \u001b[90m [2913bbd2]\u001b[39m\u001b[92m + StatsBase v0.33.0\u001b[39m\n",
      " \u001b[90m [8f1865be]\u001b[39m\u001b[93m ↑ ZeroMQ_jll v4.3.2+1 ⇒ v4.3.2+2\u001b[39m\n",
      " \u001b[90m [83775a58]\u001b[39m\u001b[92m + Zlib_jll v1.2.11+9\u001b[39m\n",
      " \u001b[90m [0ac62f75]\u001b[39m\u001b[92m + libass_jll v0.14.0+1\u001b[39m\n",
      " \u001b[90m [f638f0a6]\u001b[39m\u001b[92m + libfdk_aac_jll v0.1.6+1\u001b[39m\n",
      " \u001b[90m [f27f6e37]\u001b[39m\u001b[92m + libvorbis_jll v1.3.6+2\u001b[39m\n",
      " \u001b[90m [1270edf5]\u001b[39m\u001b[92m + x264_jll v2019.5.25+1\u001b[39m\n",
      " \u001b[90m [dfaa095f]\u001b[39m\u001b[92m + x265_jll v3.0.0+0\u001b[39m\n",
      "\u001b[32m\u001b[1m   Building\u001b[22m\u001b[39m GR ───→ `C:\\Users\\kai\\.julia\\packages\\GR\\yMV3y\\deps\\build.log`\n",
      "\u001b[32m\u001b[1m   Building\u001b[22m\u001b[39m Plots → `C:\\Users\\kai\\.julia\\packages\\Plots\\NVH6y\\deps\\build.log`\n"
     ]
    }
   ],
   "source": [
    "# 若未曾安裝 Plots 套件, 請先安裝\n",
    "using Pkg\n",
    "Pkg.add(\"Plots\")"
   ]
  },
  {
   "cell_type": "code",
   "execution_count": 156,
   "metadata": {},
   "outputs": [
    {
     "name": "stderr",
     "output_type": "stream",
     "text": [
      "┌ Info: Precompiling Plots [91a5bcdd-55d7-5caf-9e0b-520d859cae80]\n",
      "└ @ Base loading.jl:1260\n"
     ]
    },
    {
     "data": {
      "image/svg+xml": [
       "<?xml version=\"1.0\" encoding=\"utf-8\"?>\n",
       "<svg xmlns=\"http://www.w3.org/2000/svg\" xmlns:xlink=\"http://www.w3.org/1999/xlink\" width=\"600\" height=\"400\" viewBox=\"0 0 2400 1600\">\n",
       "<defs>\n",
       "  <clipPath id=\"clip9600\">\n",
       "    <rect x=\"0\" y=\"0\" width=\"2400\" height=\"1600\"/>\n",
       "  </clipPath>\n",
       "</defs>\n",
       "<path clip-path=\"url(#clip9600)\" d=\"\n",
       "M0 1600 L2400 1600 L2400 0 L0 0  Z\n",
       "  \" fill=\"#ffffff\" fill-rule=\"evenodd\" fill-opacity=\"1\"/>\n",
       "<defs>\n",
       "  <clipPath id=\"clip9601\">\n",
       "    <rect x=\"480\" y=\"0\" width=\"1681\" height=\"1600\"/>\n",
       "  </clipPath>\n",
       "</defs>\n",
       "<path clip-path=\"url(#clip9600)\" d=\"\n",
       "M161.598 1486.45 L2352.76 1486.45 L2352.76 47.2441 L161.598 47.2441  Z\n",
       "  \" fill=\"#ffffff\" fill-rule=\"evenodd\" fill-opacity=\"1\"/>\n",
       "<defs>\n",
       "  <clipPath id=\"clip9602\">\n",
       "    <rect x=\"161\" y=\"47\" width=\"2192\" height=\"1440\"/>\n",
       "  </clipPath>\n",
       "</defs>\n",
       "<polyline clip-path=\"url(#clip9602)\" style=\"stroke:#000000; stroke-width:2; stroke-opacity:0.1; fill:none\" points=\"\n",
       "  282.116,1486.45 282.116,47.2441 \n",
       "  \"/>\n",
       "<polyline clip-path=\"url(#clip9602)\" style=\"stroke:#000000; stroke-width:2; stroke-opacity:0.1; fill:none\" points=\"\n",
       "  769.646,1486.45 769.646,47.2441 \n",
       "  \"/>\n",
       "<polyline clip-path=\"url(#clip9602)\" style=\"stroke:#000000; stroke-width:2; stroke-opacity:0.1; fill:none\" points=\"\n",
       "  1257.18,1486.45 1257.18,47.2441 \n",
       "  \"/>\n",
       "<polyline clip-path=\"url(#clip9602)\" style=\"stroke:#000000; stroke-width:2; stroke-opacity:0.1; fill:none\" points=\"\n",
       "  1744.71,1486.45 1744.71,47.2441 \n",
       "  \"/>\n",
       "<polyline clip-path=\"url(#clip9602)\" style=\"stroke:#000000; stroke-width:2; stroke-opacity:0.1; fill:none\" points=\"\n",
       "  2232.24,1486.45 2232.24,47.2441 \n",
       "  \"/>\n",
       "<polyline clip-path=\"url(#clip9602)\" style=\"stroke:#000000; stroke-width:2; stroke-opacity:0.1; fill:none\" points=\"\n",
       "  161.598,1445.72 2352.76,1445.72 \n",
       "  \"/>\n",
       "<polyline clip-path=\"url(#clip9602)\" style=\"stroke:#000000; stroke-width:2; stroke-opacity:0.1; fill:none\" points=\"\n",
       "  161.598,1155.6 2352.76,1155.6 \n",
       "  \"/>\n",
       "<polyline clip-path=\"url(#clip9602)\" style=\"stroke:#000000; stroke-width:2; stroke-opacity:0.1; fill:none\" points=\"\n",
       "  161.598,865.485 2352.76,865.485 \n",
       "  \"/>\n",
       "<polyline clip-path=\"url(#clip9602)\" style=\"stroke:#000000; stroke-width:2; stroke-opacity:0.1; fill:none\" points=\"\n",
       "  161.598,575.37 2352.76,575.37 \n",
       "  \"/>\n",
       "<polyline clip-path=\"url(#clip9602)\" style=\"stroke:#000000; stroke-width:2; stroke-opacity:0.1; fill:none\" points=\"\n",
       "  161.598,285.255 2352.76,285.255 \n",
       "  \"/>\n",
       "<polyline clip-path=\"url(#clip9600)\" style=\"stroke:#000000; stroke-width:4; stroke-opacity:1; fill:none\" points=\"\n",
       "  161.598,1486.45 2352.76,1486.45 \n",
       "  \"/>\n",
       "<polyline clip-path=\"url(#clip9600)\" style=\"stroke:#000000; stroke-width:4; stroke-opacity:1; fill:none\" points=\"\n",
       "  161.598,1486.45 161.598,47.2441 \n",
       "  \"/>\n",
       "<polyline clip-path=\"url(#clip9600)\" style=\"stroke:#000000; stroke-width:4; stroke-opacity:1; fill:none\" points=\"\n",
       "  282.116,1486.45 282.116,1469.18 \n",
       "  \"/>\n",
       "<polyline clip-path=\"url(#clip9600)\" style=\"stroke:#000000; stroke-width:4; stroke-opacity:1; fill:none\" points=\"\n",
       "  769.646,1486.45 769.646,1469.18 \n",
       "  \"/>\n",
       "<polyline clip-path=\"url(#clip9600)\" style=\"stroke:#000000; stroke-width:4; stroke-opacity:1; fill:none\" points=\"\n",
       "  1257.18,1486.45 1257.18,1469.18 \n",
       "  \"/>\n",
       "<polyline clip-path=\"url(#clip9600)\" style=\"stroke:#000000; stroke-width:4; stroke-opacity:1; fill:none\" points=\"\n",
       "  1744.71,1486.45 1744.71,1469.18 \n",
       "  \"/>\n",
       "<polyline clip-path=\"url(#clip9600)\" style=\"stroke:#000000; stroke-width:4; stroke-opacity:1; fill:none\" points=\"\n",
       "  2232.24,1486.45 2232.24,1469.18 \n",
       "  \"/>\n",
       "<polyline clip-path=\"url(#clip9600)\" style=\"stroke:#000000; stroke-width:4; stroke-opacity:1; fill:none\" points=\"\n",
       "  161.598,1445.72 187.892,1445.72 \n",
       "  \"/>\n",
       "<polyline clip-path=\"url(#clip9600)\" style=\"stroke:#000000; stroke-width:4; stroke-opacity:1; fill:none\" points=\"\n",
       "  161.598,1155.6 187.892,1155.6 \n",
       "  \"/>\n",
       "<polyline clip-path=\"url(#clip9600)\" style=\"stroke:#000000; stroke-width:4; stroke-opacity:1; fill:none\" points=\"\n",
       "  161.598,865.485 187.892,865.485 \n",
       "  \"/>\n",
       "<polyline clip-path=\"url(#clip9600)\" style=\"stroke:#000000; stroke-width:4; stroke-opacity:1; fill:none\" points=\"\n",
       "  161.598,575.37 187.892,575.37 \n",
       "  \"/>\n",
       "<polyline clip-path=\"url(#clip9600)\" style=\"stroke:#000000; stroke-width:4; stroke-opacity:1; fill:none\" points=\"\n",
       "  161.598,285.255 187.892,285.255 \n",
       "  \"/>\n",
       "<path clip-path=\"url(#clip9600)\" d=\"M 0 0 M250.125 1508.44 Q246.514 1508.44 244.685 1512 Q242.88 1515.55 242.88 1522.67 Q242.88 1529.78 244.685 1533.35 Q246.514 1536.89 250.125 1536.89 Q253.759 1536.89 255.565 1533.35 Q257.394 1529.78 257.394 1522.67 Q257.394 1515.55 255.565 1512 Q253.759 1508.44 250.125 1508.44 M250.125 1504.73 Q255.935 1504.73 258.991 1509.34 Q262.07 1513.92 262.07 1522.67 Q262.07 1531.4 258.991 1536.01 Q255.935 1540.59 250.125 1540.59 Q244.315 1540.59 241.236 1536.01 Q238.181 1531.4 238.181 1522.67 Q238.181 1513.92 241.236 1509.34 Q244.315 1504.73 250.125 1504.73 Z\" fill=\"#000000\" fill-rule=\"evenodd\" fill-opacity=\"1\" /><path clip-path=\"url(#clip9600)\" d=\"M 0 0 M267.139 1534.04 L272.023 1534.04 L272.023 1539.92 L267.139 1539.92 L267.139 1534.04 Z\" fill=\"#000000\" fill-rule=\"evenodd\" fill-opacity=\"1\" /><path clip-path=\"url(#clip9600)\" d=\"M 0 0 M287.093 1508.44 Q283.482 1508.44 281.653 1512 Q279.847 1515.55 279.847 1522.67 Q279.847 1529.78 281.653 1533.35 Q283.482 1536.89 287.093 1536.89 Q290.727 1536.89 292.532 1533.35 Q294.361 1529.78 294.361 1522.67 Q294.361 1515.55 292.532 1512 Q290.727 1508.44 287.093 1508.44 M287.093 1504.73 Q292.903 1504.73 295.958 1509.34 Q299.037 1513.92 299.037 1522.67 Q299.037 1531.4 295.958 1536.01 Q292.903 1540.59 287.093 1540.59 Q281.282 1540.59 278.204 1536.01 Q275.148 1531.4 275.148 1522.67 Q275.148 1513.92 278.204 1509.34 Q281.282 1504.73 287.093 1504.73 Z\" fill=\"#000000\" fill-rule=\"evenodd\" fill-opacity=\"1\" /><path clip-path=\"url(#clip9600)\" d=\"M 0 0 M314.106 1508.44 Q310.495 1508.44 308.667 1512 Q306.861 1515.55 306.861 1522.67 Q306.861 1529.78 308.667 1533.35 Q310.495 1536.89 314.106 1536.89 Q317.741 1536.89 319.546 1533.35 Q321.375 1529.78 321.375 1522.67 Q321.375 1515.55 319.546 1512 Q317.741 1508.44 314.106 1508.44 M314.106 1504.73 Q319.917 1504.73 322.972 1509.34 Q326.051 1513.92 326.051 1522.67 Q326.051 1531.4 322.972 1536.01 Q319.917 1540.59 314.106 1540.59 Q308.296 1540.59 305.218 1536.01 Q302.162 1531.4 302.162 1522.67 Q302.162 1513.92 305.218 1509.34 Q308.296 1504.73 314.106 1504.73 Z\" fill=\"#000000\" fill-rule=\"evenodd\" fill-opacity=\"1\" /><path clip-path=\"url(#clip9600)\" d=\"M 0 0 M738.952 1508.44 Q735.341 1508.44 733.512 1512 Q731.707 1515.55 731.707 1522.67 Q731.707 1529.78 733.512 1533.35 Q735.341 1536.89 738.952 1536.89 Q742.586 1536.89 744.392 1533.35 Q746.221 1529.78 746.221 1522.67 Q746.221 1515.55 744.392 1512 Q742.586 1508.44 738.952 1508.44 M738.952 1504.73 Q744.762 1504.73 747.818 1509.34 Q750.897 1513.92 750.897 1522.67 Q750.897 1531.4 747.818 1536.01 Q744.762 1540.59 738.952 1540.59 Q733.142 1540.59 730.063 1536.01 Q727.008 1531.4 727.008 1522.67 Q727.008 1513.92 730.063 1509.34 Q733.142 1504.73 738.952 1504.73 Z\" fill=\"#000000\" fill-rule=\"evenodd\" fill-opacity=\"1\" /><path clip-path=\"url(#clip9600)\" d=\"M 0 0 M755.966 1534.04 L760.85 1534.04 L760.85 1539.92 L755.966 1539.92 L755.966 1534.04 Z\" fill=\"#000000\" fill-rule=\"evenodd\" fill-opacity=\"1\" /><path clip-path=\"url(#clip9600)\" d=\"M 0 0 M769.947 1535.98 L786.267 1535.98 L786.267 1539.92 L764.322 1539.92 L764.322 1535.98 Q766.984 1533.23 771.568 1528.6 Q776.174 1523.95 777.355 1522.61 Q779.6 1520.08 780.48 1518.35 Q781.382 1516.59 781.382 1514.9 Q781.382 1512.14 779.438 1510.41 Q777.517 1508.67 774.415 1508.67 Q772.216 1508.67 769.762 1509.43 Q767.332 1510.2 764.554 1511.75 L764.554 1507.03 Q767.378 1505.89 769.832 1505.31 Q772.285 1504.73 774.322 1504.73 Q779.693 1504.73 782.887 1507.42 Q786.082 1510.11 786.082 1514.6 Q786.082 1516.73 785.271 1518.65 Q784.484 1520.54 782.378 1523.14 Q781.799 1523.81 778.697 1527.03 Q775.595 1530.22 769.947 1535.98 Z\" fill=\"#000000\" fill-rule=\"evenodd\" fill-opacity=\"1\" /><path clip-path=\"url(#clip9600)\" d=\"M 0 0 M791.382 1505.36 L809.739 1505.36 L809.739 1509.3 L795.665 1509.3 L795.665 1517.77 Q796.683 1517.42 797.702 1517.26 Q798.72 1517.07 799.739 1517.07 Q805.526 1517.07 808.905 1520.24 Q812.285 1523.42 812.285 1528.83 Q812.285 1534.41 808.813 1537.51 Q805.341 1540.59 799.021 1540.59 Q796.845 1540.59 794.577 1540.22 Q792.331 1539.85 789.924 1539.11 L789.924 1534.41 Q792.007 1535.54 794.23 1536.1 Q796.452 1536.66 798.929 1536.66 Q802.933 1536.66 805.271 1534.55 Q807.609 1532.44 807.609 1528.83 Q807.609 1525.22 805.271 1523.11 Q802.933 1521.01 798.929 1521.01 Q797.054 1521.01 795.179 1521.42 Q793.327 1521.84 791.382 1522.72 L791.382 1505.36 Z\" fill=\"#000000\" fill-rule=\"evenodd\" fill-opacity=\"1\" /><path clip-path=\"url(#clip9600)\" d=\"M 0 0 M1225.68 1508.44 Q1222.07 1508.44 1220.24 1512 Q1218.44 1515.55 1218.44 1522.67 Q1218.44 1529.78 1220.24 1533.35 Q1222.07 1536.89 1225.68 1536.89 Q1229.32 1536.89 1231.12 1533.35 Q1232.95 1529.78 1232.95 1522.67 Q1232.95 1515.55 1231.12 1512 Q1229.32 1508.44 1225.68 1508.44 M1225.68 1504.73 Q1231.49 1504.73 1234.55 1509.34 Q1237.63 1513.92 1237.63 1522.67 Q1237.63 1531.4 1234.55 1536.01 Q1231.49 1540.59 1225.68 1540.59 Q1219.87 1540.59 1216.8 1536.01 Q1213.74 1531.4 1213.74 1522.67 Q1213.74 1513.92 1216.8 1509.34 Q1219.87 1504.73 1225.68 1504.73 Z\" fill=\"#000000\" fill-rule=\"evenodd\" fill-opacity=\"1\" /><path clip-path=\"url(#clip9600)\" d=\"M 0 0 M1242.7 1534.04 L1247.58 1534.04 L1247.58 1539.92 L1242.7 1539.92 L1242.7 1534.04 Z\" fill=\"#000000\" fill-rule=\"evenodd\" fill-opacity=\"1\" /><path clip-path=\"url(#clip9600)\" d=\"M 0 0 M1252.7 1505.36 L1271.05 1505.36 L1271.05 1509.3 L1256.98 1509.3 L1256.98 1517.77 Q1258 1517.42 1259.02 1517.26 Q1260.04 1517.07 1261.05 1517.07 Q1266.84 1517.07 1270.22 1520.24 Q1273.6 1523.42 1273.6 1528.83 Q1273.6 1534.41 1270.13 1537.51 Q1266.66 1540.59 1260.34 1540.59 Q1258.16 1540.59 1255.89 1540.22 Q1253.65 1539.85 1251.24 1539.11 L1251.24 1534.41 Q1253.32 1535.54 1255.55 1536.1 Q1257.77 1536.66 1260.24 1536.66 Q1264.25 1536.66 1266.59 1534.55 Q1268.92 1532.44 1268.92 1528.83 Q1268.92 1525.22 1266.59 1523.11 Q1264.25 1521.01 1260.24 1521.01 Q1258.37 1521.01 1256.49 1521.42 Q1254.64 1521.84 1252.7 1522.72 L1252.7 1505.36 Z\" fill=\"#000000\" fill-rule=\"evenodd\" fill-opacity=\"1\" /><path clip-path=\"url(#clip9600)\" d=\"M 0 0 M1288.67 1508.44 Q1285.06 1508.44 1283.23 1512 Q1281.42 1515.55 1281.42 1522.67 Q1281.42 1529.78 1283.23 1533.35 Q1285.06 1536.89 1288.67 1536.89 Q1292.3 1536.89 1294.11 1533.35 Q1295.94 1529.78 1295.94 1522.67 Q1295.94 1515.55 1294.11 1512 Q1292.3 1508.44 1288.67 1508.44 M1288.67 1504.73 Q1294.48 1504.73 1297.54 1509.34 Q1300.61 1513.92 1300.61 1522.67 Q1300.61 1531.4 1297.54 1536.01 Q1294.48 1540.59 1288.67 1540.59 Q1282.86 1540.59 1279.78 1536.01 Q1276.73 1531.4 1276.73 1522.67 Q1276.73 1513.92 1279.78 1509.34 Q1282.86 1504.73 1288.67 1504.73 Z\" fill=\"#000000\" fill-rule=\"evenodd\" fill-opacity=\"1\" /><path clip-path=\"url(#clip9600)\" d=\"M 0 0 M1713.67 1508.44 Q1710.06 1508.44 1708.23 1512 Q1706.42 1515.55 1706.42 1522.67 Q1706.42 1529.78 1708.23 1533.35 Q1710.06 1536.89 1713.67 1536.89 Q1717.3 1536.89 1719.11 1533.35 Q1720.93 1529.78 1720.93 1522.67 Q1720.93 1515.55 1719.11 1512 Q1717.3 1508.44 1713.67 1508.44 M1713.67 1504.73 Q1719.48 1504.73 1722.53 1509.34 Q1725.61 1513.92 1725.61 1522.67 Q1725.61 1531.4 1722.53 1536.01 Q1719.48 1540.59 1713.67 1540.59 Q1707.86 1540.59 1704.78 1536.01 Q1701.72 1531.4 1701.72 1522.67 Q1701.72 1513.92 1704.78 1509.34 Q1707.86 1504.73 1713.67 1504.73 Z\" fill=\"#000000\" fill-rule=\"evenodd\" fill-opacity=\"1\" /><path clip-path=\"url(#clip9600)\" d=\"M 0 0 M1730.68 1534.04 L1735.56 1534.04 L1735.56 1539.92 L1730.68 1539.92 L1730.68 1534.04 Z\" fill=\"#000000\" fill-rule=\"evenodd\" fill-opacity=\"1\" /><path clip-path=\"url(#clip9600)\" d=\"M 0 0 M1739.45 1505.36 L1761.68 1505.36 L1761.68 1507.35 L1749.13 1539.92 L1744.24 1539.92 L1756.05 1509.3 L1739.45 1509.3 L1739.45 1505.36 Z\" fill=\"#000000\" fill-rule=\"evenodd\" fill-opacity=\"1\" /><path clip-path=\"url(#clip9600)\" d=\"M 0 0 M1766.79 1505.36 L1785.15 1505.36 L1785.15 1509.3 L1771.07 1509.3 L1771.07 1517.77 Q1772.09 1517.42 1773.11 1517.26 Q1774.13 1517.07 1775.15 1517.07 Q1780.93 1517.07 1784.31 1520.24 Q1787.69 1523.42 1787.69 1528.83 Q1787.69 1534.41 1784.22 1537.51 Q1780.75 1540.59 1774.43 1540.59 Q1772.25 1540.59 1769.99 1540.22 Q1767.74 1539.85 1765.33 1539.11 L1765.33 1534.41 Q1767.42 1535.54 1769.64 1536.1 Q1771.86 1536.66 1774.34 1536.66 Q1778.34 1536.66 1780.68 1534.55 Q1783.02 1532.44 1783.02 1528.83 Q1783.02 1525.22 1780.68 1523.11 Q1778.34 1521.01 1774.34 1521.01 Q1772.46 1521.01 1770.59 1521.42 Q1768.74 1521.84 1766.79 1522.72 L1766.79 1505.36 Z\" fill=\"#000000\" fill-rule=\"evenodd\" fill-opacity=\"1\" /><path clip-path=\"url(#clip9600)\" d=\"M 0 0 M2190.63 1535.98 L2198.27 1535.98 L2198.27 1509.62 L2189.96 1511.29 L2189.96 1507.03 L2198.22 1505.36 L2202.9 1505.36 L2202.9 1535.98 L2210.54 1535.98 L2210.54 1539.92 L2190.63 1539.92 L2190.63 1535.98 Z\" fill=\"#000000\" fill-rule=\"evenodd\" fill-opacity=\"1\" /><path clip-path=\"url(#clip9600)\" d=\"M 0 0 M2215.61 1534.04 L2220.49 1534.04 L2220.49 1539.92 L2215.61 1539.92 L2215.61 1534.04 Z\" fill=\"#000000\" fill-rule=\"evenodd\" fill-opacity=\"1\" /><path clip-path=\"url(#clip9600)\" d=\"M 0 0 M2235.56 1508.44 Q2231.95 1508.44 2230.12 1512 Q2228.31 1515.55 2228.31 1522.67 Q2228.31 1529.78 2230.12 1533.35 Q2231.95 1536.89 2235.56 1536.89 Q2239.19 1536.89 2241 1533.35 Q2242.83 1529.78 2242.83 1522.67 Q2242.83 1515.55 2241 1512 Q2239.19 1508.44 2235.56 1508.44 M2235.56 1504.73 Q2241.37 1504.73 2244.43 1509.34 Q2247.5 1513.92 2247.5 1522.67 Q2247.5 1531.4 2244.43 1536.01 Q2241.37 1540.59 2235.56 1540.59 Q2229.75 1540.59 2226.67 1536.01 Q2223.62 1531.4 2223.62 1522.67 Q2223.62 1513.92 2226.67 1509.34 Q2229.75 1504.73 2235.56 1504.73 Z\" fill=\"#000000\" fill-rule=\"evenodd\" fill-opacity=\"1\" /><path clip-path=\"url(#clip9600)\" d=\"M 0 0 M2262.57 1508.44 Q2258.96 1508.44 2257.13 1512 Q2255.33 1515.55 2255.33 1522.67 Q2255.33 1529.78 2257.13 1533.35 Q2258.96 1536.89 2262.57 1536.89 Q2266.21 1536.89 2268.01 1533.35 Q2269.84 1529.78 2269.84 1522.67 Q2269.84 1515.55 2268.01 1512 Q2266.21 1508.44 2262.57 1508.44 M2262.57 1504.73 Q2268.38 1504.73 2271.44 1509.34 Q2274.52 1513.92 2274.52 1522.67 Q2274.52 1531.4 2271.44 1536.01 Q2268.38 1540.59 2262.57 1540.59 Q2256.76 1540.59 2253.68 1536.01 Q2250.63 1531.4 2250.63 1522.67 Q2250.63 1513.92 2253.68 1509.34 Q2256.76 1504.73 2262.57 1504.73 Z\" fill=\"#000000\" fill-rule=\"evenodd\" fill-opacity=\"1\" /><path clip-path=\"url(#clip9600)\" d=\"M 0 0 M125.654 1431.51 Q122.043 1431.51 120.214 1435.08 Q118.408 1438.62 118.408 1445.75 Q118.408 1452.86 120.214 1456.42 Q122.043 1459.96 125.654 1459.96 Q129.288 1459.96 131.094 1456.42 Q132.922 1452.86 132.922 1445.75 Q132.922 1438.62 131.094 1435.08 Q129.288 1431.51 125.654 1431.51 M125.654 1427.81 Q131.464 1427.81 134.52 1432.42 Q137.598 1437 137.598 1445.75 Q137.598 1454.48 134.52 1459.08 Q131.464 1463.67 125.654 1463.67 Q119.844 1463.67 116.765 1459.08 Q113.709 1454.48 113.709 1445.75 Q113.709 1437 116.765 1432.42 Q119.844 1427.81 125.654 1427.81 Z\" fill=\"#000000\" fill-rule=\"evenodd\" fill-opacity=\"1\" /><path clip-path=\"url(#clip9600)\" d=\"M 0 0 M95.2605 1168.95 L111.58 1168.95 L111.58 1172.88 L89.6355 1172.88 L89.6355 1168.95 Q92.2975 1166.19 96.8808 1161.56 Q101.487 1156.91 102.668 1155.57 Q104.913 1153.04 105.793 1151.31 Q106.696 1149.55 106.696 1147.86 Q106.696 1145.1 104.751 1143.37 Q102.83 1141.63 99.728 1141.63 Q97.529 1141.63 95.0753 1142.39 Q92.6447 1143.16 89.867 1144.71 L89.867 1139.99 Q92.691 1138.85 95.1447 1138.27 Q97.5984 1137.7 99.6354 1137.7 Q105.006 1137.7 108.2 1140.38 Q111.395 1143.07 111.395 1147.56 Q111.395 1149.69 110.584 1151.61 Q109.797 1153.51 107.691 1156.1 Q107.112 1156.77 104.01 1159.99 Q100.909 1163.18 95.2605 1168.95 Z\" fill=\"#000000\" fill-rule=\"evenodd\" fill-opacity=\"1\" /><path clip-path=\"url(#clip9600)\" d=\"M 0 0 M116.696 1138.32 L135.052 1138.32 L135.052 1142.26 L120.978 1142.26 L120.978 1150.73 Q121.996 1150.38 123.015 1150.22 Q124.033 1150.03 125.052 1150.03 Q130.839 1150.03 134.219 1153.2 Q137.598 1156.38 137.598 1161.79 Q137.598 1167.37 134.126 1170.47 Q130.654 1173.55 124.334 1173.55 Q122.158 1173.55 119.89 1173.18 Q117.645 1172.81 115.237 1172.07 L115.237 1167.37 Q117.321 1168.51 119.543 1169.06 Q121.765 1169.62 124.242 1169.62 Q128.246 1169.62 130.584 1167.51 Q132.922 1165.4 132.922 1161.79 Q132.922 1158.18 130.584 1156.07 Q128.246 1153.97 124.242 1153.97 Q122.367 1153.97 120.492 1154.39 Q118.64 1154.8 116.696 1155.68 L116.696 1138.32 Z\" fill=\"#000000\" fill-rule=\"evenodd\" fill-opacity=\"1\" /><path clip-path=\"url(#clip9600)\" d=\"M 0 0 M89.6818 848.205 L108.038 848.205 L108.038 852.14 L93.9642 852.14 L93.9642 860.613 Q94.9827 860.265 96.0012 860.103 Q97.0197 859.918 98.0382 859.918 Q103.825 859.918 107.205 863.089 Q110.584 866.261 110.584 871.677 Q110.584 877.256 107.112 880.358 Q103.64 883.436 97.3206 883.436 Q95.1447 883.436 92.8762 883.066 Q90.6309 882.696 88.2235 881.955 L88.2235 877.256 Q90.3068 878.39 92.529 878.946 Q94.7512 879.501 97.2281 879.501 Q101.233 879.501 103.571 877.395 Q105.909 875.288 105.909 871.677 Q105.909 868.066 103.571 865.96 Q101.233 863.853 97.2281 863.853 Q95.3531 863.853 93.4781 864.27 Q91.6262 864.687 89.6818 865.566 L89.6818 848.205 Z\" fill=\"#000000\" fill-rule=\"evenodd\" fill-opacity=\"1\" /><path clip-path=\"url(#clip9600)\" d=\"M 0 0 M125.654 851.284 Q122.043 851.284 120.214 854.849 Q118.408 858.39 118.408 865.52 Q118.408 872.626 120.214 876.191 Q122.043 879.733 125.654 879.733 Q129.288 879.733 131.094 876.191 Q132.922 872.626 132.922 865.52 Q132.922 858.39 131.094 854.849 Q129.288 851.284 125.654 851.284 M125.654 847.58 Q131.464 847.58 134.52 852.187 Q137.598 856.77 137.598 865.52 Q137.598 874.247 134.52 878.853 Q131.464 883.436 125.654 883.436 Q119.844 883.436 116.765 878.853 Q113.709 874.247 113.709 865.52 Q113.709 856.77 116.765 852.187 Q119.844 847.58 125.654 847.58 Z\" fill=\"#000000\" fill-rule=\"evenodd\" fill-opacity=\"1\" /><path clip-path=\"url(#clip9600)\" d=\"M 0 0 M89.3577 558.09 L111.58 558.09 L111.58 560.081 L99.0336 592.65 L94.1494 592.65 L105.955 562.025 L89.3577 562.025 L89.3577 558.09 Z\" fill=\"#000000\" fill-rule=\"evenodd\" fill-opacity=\"1\" /><path clip-path=\"url(#clip9600)\" d=\"M 0 0 M116.696 558.09 L135.052 558.09 L135.052 562.025 L120.978 562.025 L120.978 570.497 Q121.996 570.15 123.015 569.988 Q124.033 569.803 125.052 569.803 Q130.839 569.803 134.219 572.974 Q137.598 576.145 137.598 581.562 Q137.598 587.141 134.126 590.243 Q130.654 593.321 124.334 593.321 Q122.158 593.321 119.89 592.951 Q117.645 592.58 115.237 591.84 L115.237 587.141 Q117.321 588.275 119.543 588.83 Q121.765 589.386 124.242 589.386 Q128.246 589.386 130.584 587.28 Q132.922 585.173 132.922 581.562 Q132.922 577.951 130.584 575.844 Q128.246 573.738 124.242 573.738 Q122.367 573.738 120.492 574.155 Q118.64 574.571 116.696 575.451 L116.696 558.09 Z\" fill=\"#000000\" fill-rule=\"evenodd\" fill-opacity=\"1\" /><path clip-path=\"url(#clip9600)\" d=\"M 0 0 M63.6634 298.599 L71.3023 298.599 L71.3023 272.234 L62.9921 273.901 L62.9921 269.641 L71.256 267.975 L75.9319 267.975 L75.9319 298.599 L83.5707 298.599 L83.5707 302.535 L63.6634 302.535 L63.6634 298.599 Z\" fill=\"#000000\" fill-rule=\"evenodd\" fill-opacity=\"1\" /><path clip-path=\"url(#clip9600)\" d=\"M 0 0 M98.6401 271.053 Q95.029 271.053 93.2003 274.618 Q91.3948 278.16 91.3948 285.289 Q91.3948 292.396 93.2003 295.961 Q95.029 299.502 98.6401 299.502 Q102.274 299.502 104.08 295.961 Q105.909 292.396 105.909 285.289 Q105.909 278.16 104.08 274.618 Q102.274 271.053 98.6401 271.053 M98.6401 267.35 Q104.45 267.35 107.506 271.956 Q110.584 276.539 110.584 285.289 Q110.584 294.016 107.506 298.623 Q104.45 303.206 98.6401 303.206 Q92.8299 303.206 89.7512 298.623 Q86.6957 294.016 86.6957 285.289 Q86.6957 276.539 89.7512 271.956 Q92.8299 267.35 98.6401 267.35 Z\" fill=\"#000000\" fill-rule=\"evenodd\" fill-opacity=\"1\" /><path clip-path=\"url(#clip9600)\" d=\"M 0 0 M125.654 271.053 Q122.043 271.053 120.214 274.618 Q118.408 278.16 118.408 285.289 Q118.408 292.396 120.214 295.961 Q122.043 299.502 125.654 299.502 Q129.288 299.502 131.094 295.961 Q132.922 292.396 132.922 285.289 Q132.922 278.16 131.094 274.618 Q129.288 271.053 125.654 271.053 M125.654 267.35 Q131.464 267.35 134.52 271.956 Q137.598 276.539 137.598 285.289 Q137.598 294.016 134.52 298.623 Q131.464 303.206 125.654 303.206 Q119.844 303.206 116.765 298.623 Q113.709 294.016 113.709 285.289 Q113.709 276.539 116.765 271.956 Q119.844 267.35 125.654 267.35 Z\" fill=\"#000000\" fill-rule=\"evenodd\" fill-opacity=\"1\" /><path clip-path=\"url(#clip9602)\" d=\"\n",
       "M282.116 238.836 L282.116 1445.72 L477.128 1445.72 L477.128 238.836 L282.116 238.836 L282.116 238.836  Z\n",
       "  \" fill=\"#009af9\" fill-rule=\"evenodd\" fill-opacity=\"1\"/>\n",
       "<polyline clip-path=\"url(#clip9602)\" style=\"stroke:#000000; stroke-width:4; stroke-opacity:1; fill:none\" points=\"\n",
       "  282.116,238.836 282.116,1445.72 477.128,1445.72 477.128,238.836 282.116,238.836 \n",
       "  \"/>\n",
       "<path clip-path=\"url(#clip9602)\" d=\"\n",
       "M477.128 87.9763 L477.128 1445.72 L672.14 1445.72 L672.14 87.9763 L477.128 87.9763 L477.128 87.9763  Z\n",
       "  \" fill=\"#009af9\" fill-rule=\"evenodd\" fill-opacity=\"1\"/>\n",
       "<polyline clip-path=\"url(#clip9602)\" style=\"stroke:#000000; stroke-width:4; stroke-opacity:1; fill:none\" points=\"\n",
       "  477.128,87.9763 477.128,1445.72 672.14,1445.72 672.14,87.9763 477.128,87.9763 \n",
       "  \"/>\n",
       "<path clip-path=\"url(#clip9602)\" d=\"\n",
       "M672.14 389.696 L672.14 1445.72 L867.153 1445.72 L867.153 389.696 L672.14 389.696 L672.14 389.696  Z\n",
       "  \" fill=\"#009af9\" fill-rule=\"evenodd\" fill-opacity=\"1\"/>\n",
       "<polyline clip-path=\"url(#clip9602)\" style=\"stroke:#000000; stroke-width:4; stroke-opacity:1; fill:none\" points=\"\n",
       "  672.14,389.696 672.14,1445.72 867.153,1445.72 867.153,389.696 672.14,389.696 \n",
       "  \"/>\n",
       "<path clip-path=\"url(#clip9602)\" d=\"\n",
       "M867.153 285.255 L867.153 1445.72 L1062.16 1445.72 L1062.16 285.255 L867.153 285.255 L867.153 285.255  Z\n",
       "  \" fill=\"#009af9\" fill-rule=\"evenodd\" fill-opacity=\"1\"/>\n",
       "<polyline clip-path=\"url(#clip9602)\" style=\"stroke:#000000; stroke-width:4; stroke-opacity:1; fill:none\" points=\"\n",
       "  867.153,285.255 867.153,1445.72 1062.16,1445.72 1062.16,285.255 867.153,285.255 \n",
       "  \"/>\n",
       "<path clip-path=\"url(#clip9602)\" d=\"\n",
       "M1062.16 401.301 L1062.16 1445.72 L1257.18 1445.72 L1257.18 401.301 L1062.16 401.301 L1062.16 401.301  Z\n",
       "  \" fill=\"#009af9\" fill-rule=\"evenodd\" fill-opacity=\"1\"/>\n",
       "<polyline clip-path=\"url(#clip9602)\" style=\"stroke:#000000; stroke-width:4; stroke-opacity:1; fill:none\" points=\"\n",
       "  1062.16,401.301 1062.16,1445.72 1257.18,1445.72 1257.18,401.301 1062.16,401.301 \n",
       "  \"/>\n",
       "<path clip-path=\"url(#clip9602)\" d=\"\n",
       "M1257.18 308.464 L1257.18 1445.72 L1452.19 1445.72 L1452.19 308.464 L1257.18 308.464 L1257.18 308.464  Z\n",
       "  \" fill=\"#009af9\" fill-rule=\"evenodd\" fill-opacity=\"1\"/>\n",
       "<polyline clip-path=\"url(#clip9602)\" style=\"stroke:#000000; stroke-width:4; stroke-opacity:1; fill:none\" points=\"\n",
       "  1257.18,308.464 1257.18,1445.72 1452.19,1445.72 1452.19,308.464 1257.18,308.464 \n",
       "  \"/>\n",
       "<path clip-path=\"url(#clip9602)\" d=\"\n",
       "M1452.19 227.232 L1452.19 1445.72 L1647.2 1445.72 L1647.2 227.232 L1452.19 227.232 L1452.19 227.232  Z\n",
       "  \" fill=\"#009af9\" fill-rule=\"evenodd\" fill-opacity=\"1\"/>\n",
       "<polyline clip-path=\"url(#clip9602)\" style=\"stroke:#000000; stroke-width:4; stroke-opacity:1; fill:none\" points=\"\n",
       "  1452.19,227.232 1452.19,1445.72 1647.2,1445.72 1647.2,227.232 1452.19,227.232 \n",
       "  \"/>\n",
       "<path clip-path=\"url(#clip9602)\" d=\"\n",
       "M1647.2 366.487 L1647.2 1445.72 L1842.21 1445.72 L1842.21 366.487 L1647.2 366.487 L1647.2 366.487  Z\n",
       "  \" fill=\"#009af9\" fill-rule=\"evenodd\" fill-opacity=\"1\"/>\n",
       "<polyline clip-path=\"url(#clip9602)\" style=\"stroke:#000000; stroke-width:4; stroke-opacity:1; fill:none\" points=\"\n",
       "  1647.2,366.487 1647.2,1445.72 1842.21,1445.72 1842.21,366.487 1647.2,366.487 \n",
       "  \"/>\n",
       "<path clip-path=\"url(#clip9602)\" d=\"\n",
       "M1842.21 320.068 L1842.21 1445.72 L2037.23 1445.72 L2037.23 320.068 L1842.21 320.068 L1842.21 320.068  Z\n",
       "  \" fill=\"#009af9\" fill-rule=\"evenodd\" fill-opacity=\"1\"/>\n",
       "<polyline clip-path=\"url(#clip9602)\" style=\"stroke:#000000; stroke-width:4; stroke-opacity:1; fill:none\" points=\"\n",
       "  1842.21,320.068 1842.21,1445.72 2037.23,1445.72 2037.23,320.068 1842.21,320.068 \n",
       "  \"/>\n",
       "<path clip-path=\"url(#clip9602)\" d=\"\n",
       "M2037.23 227.232 L2037.23 1445.72 L2232.24 1445.72 L2232.24 227.232 L2037.23 227.232 L2037.23 227.232  Z\n",
       "  \" fill=\"#009af9\" fill-rule=\"evenodd\" fill-opacity=\"1\"/>\n",
       "<polyline clip-path=\"url(#clip9602)\" style=\"stroke:#000000; stroke-width:4; stroke-opacity:1; fill:none\" points=\"\n",
       "  2037.23,227.232 2037.23,1445.72 2232.24,1445.72 2232.24,227.232 2037.23,227.232 \n",
       "  \"/>\n",
       "<path clip-path=\"url(#clip9600)\" d=\"\n",
       "M1989.74 251.724 L2280.76 251.724 L2280.76 130.764 L1989.74 130.764  Z\n",
       "  \" fill=\"#ffffff\" fill-rule=\"evenodd\" fill-opacity=\"1\"/>\n",
       "<polyline clip-path=\"url(#clip9600)\" style=\"stroke:#000000; stroke-width:4; stroke-opacity:1; fill:none\" points=\"\n",
       "  1989.74,251.724 2280.76,251.724 2280.76,130.764 1989.74,130.764 1989.74,251.724 \n",
       "  \"/>\n",
       "<path clip-path=\"url(#clip9600)\" d=\"\n",
       "M2013.74 215.436 L2157.74 215.436 L2157.74 167.052 L2013.74 167.052 L2013.74 215.436  Z\n",
       "  \" fill=\"#009af9\" fill-rule=\"evenodd\" fill-opacity=\"1\"/>\n",
       "<polyline clip-path=\"url(#clip9600)\" style=\"stroke:#000000; stroke-width:4; stroke-opacity:1; fill:none\" points=\"\n",
       "  2013.74,215.436 2157.74,215.436 2157.74,167.052 2013.74,167.052 2013.74,215.436 \n",
       "  \"/>\n",
       "<path clip-path=\"url(#clip9600)\" d=\"M 0 0 M2195.58 210.931 Q2193.77 215.561 2192.06 216.973 Q2190.35 218.385 2187.48 218.385 L2184.08 218.385 L2184.08 214.82 L2186.58 214.82 Q2188.33 214.82 2189.31 213.987 Q2190.28 213.154 2191.46 210.052 L2192.22 208.107 L2181.74 182.598 L2186.25 182.598 L2194.35 202.876 L2202.46 182.598 L2206.97 182.598 L2195.58 210.931 Z\" fill=\"#000000\" fill-rule=\"evenodd\" fill-opacity=\"1\" /><path clip-path=\"url(#clip9600)\" d=\"M 0 0 M2212.85 204.589 L2220.49 204.589 L2220.49 178.223 L2212.18 179.89 L2212.18 175.631 L2220.44 173.964 L2225.12 173.964 L2225.12 204.589 L2232.76 204.589 L2232.76 208.524 L2212.85 208.524 L2212.85 204.589 Z\" fill=\"#000000\" fill-rule=\"evenodd\" fill-opacity=\"1\" /></svg>\n"
      ]
     },
     "execution_count": 156,
     "metadata": {},
     "output_type": "execute_result"
    }
   ],
   "source": [
    "using Plots\n",
    "\n",
    "histogram(rand(1000))"
   ]
  },
  {
   "cell_type": "markdown",
   "metadata": {},
   "source": [
    "下面範例是加入 range 定義，產生 10 個 1 到 100 之間的隨機數字。"
   ]
  },
  {
   "cell_type": "code",
   "execution_count": 157,
   "metadata": {},
   "outputs": [
    {
     "data": {
      "text/plain": [
       "10-element Array{Int64,1}:\n",
       " 38\n",
       " 51\n",
       " 95\n",
       " 45\n",
       " 37\n",
       " 12\n",
       " 77\n",
       " 88\n",
       " 68\n",
       " 52"
      ]
     },
     "execution_count": 157,
     "metadata": {},
     "output_type": "execute_result"
    }
   ],
   "source": [
    "# rand([rng=GLOBAL_RNG], [S], [dims...])\n",
    "rand(1:100, 10)"
   ]
  },
  {
   "cell_type": "markdown",
   "metadata": {},
   "source": [
    "產生隨機常態分布數字。"
   ]
  },
  {
   "cell_type": "code",
   "execution_count": 160,
   "metadata": {},
   "outputs": [
    {
     "data": {
      "image/svg+xml": [
       "<?xml version=\"1.0\" encoding=\"utf-8\"?>\n",
       "<svg xmlns=\"http://www.w3.org/2000/svg\" xmlns:xlink=\"http://www.w3.org/1999/xlink\" width=\"600\" height=\"400\" viewBox=\"0 0 2400 1600\">\n",
       "<defs>\n",
       "  <clipPath id=\"clip0000\">\n",
       "    <rect x=\"0\" y=\"0\" width=\"2400\" height=\"1600\"/>\n",
       "  </clipPath>\n",
       "</defs>\n",
       "<path clip-path=\"url(#clip0000)\" d=\"\n",
       "M0 1600 L2400 1600 L2400 0 L0 0  Z\n",
       "  \" fill=\"#ffffff\" fill-rule=\"evenodd\" fill-opacity=\"1\"/>\n",
       "<defs>\n",
       "  <clipPath id=\"clip0001\">\n",
       "    <rect x=\"480\" y=\"0\" width=\"1681\" height=\"1600\"/>\n",
       "  </clipPath>\n",
       "</defs>\n",
       "<path clip-path=\"url(#clip0000)\" d=\"\n",
       "M161.598 1486.45 L2352.76 1486.45 L2352.76 47.2441 L161.598 47.2441  Z\n",
       "  \" fill=\"#ffffff\" fill-rule=\"evenodd\" fill-opacity=\"1\"/>\n",
       "<defs>\n",
       "  <clipPath id=\"clip0002\">\n",
       "    <rect x=\"161\" y=\"47\" width=\"2192\" height=\"1440\"/>\n",
       "  </clipPath>\n",
       "</defs>\n",
       "<polyline clip-path=\"url(#clip0002)\" style=\"stroke:#000000; stroke-width:2; stroke-opacity:0.1; fill:none\" points=\"\n",
       "  421.41,1486.45 421.41,47.2441 \n",
       "  \"/>\n",
       "<polyline clip-path=\"url(#clip0002)\" style=\"stroke:#000000; stroke-width:2; stroke-opacity:0.1; fill:none\" points=\"\n",
       "  699.999,1486.45 699.999,47.2441 \n",
       "  \"/>\n",
       "<polyline clip-path=\"url(#clip0002)\" style=\"stroke:#000000; stroke-width:2; stroke-opacity:0.1; fill:none\" points=\"\n",
       "  978.588,1486.45 978.588,47.2441 \n",
       "  \"/>\n",
       "<polyline clip-path=\"url(#clip0002)\" style=\"stroke:#000000; stroke-width:2; stroke-opacity:0.1; fill:none\" points=\"\n",
       "  1257.18,1486.45 1257.18,47.2441 \n",
       "  \"/>\n",
       "<polyline clip-path=\"url(#clip0002)\" style=\"stroke:#000000; stroke-width:2; stroke-opacity:0.1; fill:none\" points=\"\n",
       "  1535.77,1486.45 1535.77,47.2441 \n",
       "  \"/>\n",
       "<polyline clip-path=\"url(#clip0002)\" style=\"stroke:#000000; stroke-width:2; stroke-opacity:0.1; fill:none\" points=\"\n",
       "  1814.35,1486.45 1814.35,47.2441 \n",
       "  \"/>\n",
       "<polyline clip-path=\"url(#clip0002)\" style=\"stroke:#000000; stroke-width:2; stroke-opacity:0.1; fill:none\" points=\"\n",
       "  2092.94,1486.45 2092.94,47.2441 \n",
       "  \"/>\n",
       "<polyline clip-path=\"url(#clip0002)\" style=\"stroke:#000000; stroke-width:2; stroke-opacity:0.1; fill:none\" points=\"\n",
       "  161.598,1445.72 2352.76,1445.72 \n",
       "  \"/>\n",
       "<polyline clip-path=\"url(#clip0002)\" style=\"stroke:#000000; stroke-width:2; stroke-opacity:0.1; fill:none\" points=\"\n",
       "  161.598,1095.78 2352.76,1095.78 \n",
       "  \"/>\n",
       "<polyline clip-path=\"url(#clip0002)\" style=\"stroke:#000000; stroke-width:2; stroke-opacity:0.1; fill:none\" points=\"\n",
       "  161.598,745.85 2352.76,745.85 \n",
       "  \"/>\n",
       "<polyline clip-path=\"url(#clip0002)\" style=\"stroke:#000000; stroke-width:2; stroke-opacity:0.1; fill:none\" points=\"\n",
       "  161.598,395.917 2352.76,395.917 \n",
       "  \"/>\n",
       "<polyline clip-path=\"url(#clip0000)\" style=\"stroke:#000000; stroke-width:4; stroke-opacity:1; fill:none\" points=\"\n",
       "  161.598,1486.45 2352.76,1486.45 \n",
       "  \"/>\n",
       "<polyline clip-path=\"url(#clip0000)\" style=\"stroke:#000000; stroke-width:4; stroke-opacity:1; fill:none\" points=\"\n",
       "  161.598,1486.45 161.598,47.2441 \n",
       "  \"/>\n",
       "<polyline clip-path=\"url(#clip0000)\" style=\"stroke:#000000; stroke-width:4; stroke-opacity:1; fill:none\" points=\"\n",
       "  421.41,1486.45 421.41,1469.18 \n",
       "  \"/>\n",
       "<polyline clip-path=\"url(#clip0000)\" style=\"stroke:#000000; stroke-width:4; stroke-opacity:1; fill:none\" points=\"\n",
       "  699.999,1486.45 699.999,1469.18 \n",
       "  \"/>\n",
       "<polyline clip-path=\"url(#clip0000)\" style=\"stroke:#000000; stroke-width:4; stroke-opacity:1; fill:none\" points=\"\n",
       "  978.588,1486.45 978.588,1469.18 \n",
       "  \"/>\n",
       "<polyline clip-path=\"url(#clip0000)\" style=\"stroke:#000000; stroke-width:4; stroke-opacity:1; fill:none\" points=\"\n",
       "  1257.18,1486.45 1257.18,1469.18 \n",
       "  \"/>\n",
       "<polyline clip-path=\"url(#clip0000)\" style=\"stroke:#000000; stroke-width:4; stroke-opacity:1; fill:none\" points=\"\n",
       "  1535.77,1486.45 1535.77,1469.18 \n",
       "  \"/>\n",
       "<polyline clip-path=\"url(#clip0000)\" style=\"stroke:#000000; stroke-width:4; stroke-opacity:1; fill:none\" points=\"\n",
       "  1814.35,1486.45 1814.35,1469.18 \n",
       "  \"/>\n",
       "<polyline clip-path=\"url(#clip0000)\" style=\"stroke:#000000; stroke-width:4; stroke-opacity:1; fill:none\" points=\"\n",
       "  2092.94,1486.45 2092.94,1469.18 \n",
       "  \"/>\n",
       "<polyline clip-path=\"url(#clip0000)\" style=\"stroke:#000000; stroke-width:4; stroke-opacity:1; fill:none\" points=\"\n",
       "  161.598,1445.72 187.892,1445.72 \n",
       "  \"/>\n",
       "<polyline clip-path=\"url(#clip0000)\" style=\"stroke:#000000; stroke-width:4; stroke-opacity:1; fill:none\" points=\"\n",
       "  161.598,1095.78 187.892,1095.78 \n",
       "  \"/>\n",
       "<polyline clip-path=\"url(#clip0000)\" style=\"stroke:#000000; stroke-width:4; stroke-opacity:1; fill:none\" points=\"\n",
       "  161.598,745.85 187.892,745.85 \n",
       "  \"/>\n",
       "<polyline clip-path=\"url(#clip0000)\" style=\"stroke:#000000; stroke-width:4; stroke-opacity:1; fill:none\" points=\"\n",
       "  161.598,395.917 187.892,395.917 \n",
       "  \"/>\n",
       "<path clip-path=\"url(#clip0000)\" d=\"M 0 0 M401.989 1525.04 L414.466 1525.04 L414.466 1528.83 L401.989 1528.83 L401.989 1525.04 Z\" fill=\"#000000\" fill-rule=\"evenodd\" fill-opacity=\"1\" /><path clip-path=\"url(#clip0000)\" d=\"M 0 0 M433.702 1521.29 Q437.058 1522 438.933 1524.27 Q440.831 1526.54 440.831 1529.87 Q440.831 1534.99 437.313 1537.79 Q433.794 1540.59 427.313 1540.59 Q425.137 1540.59 422.822 1540.15 Q420.531 1539.73 418.077 1538.88 L418.077 1534.36 Q420.021 1535.5 422.336 1536.08 Q424.651 1536.66 427.174 1536.66 Q431.572 1536.66 433.864 1534.92 Q436.179 1533.18 436.179 1529.87 Q436.179 1526.82 434.026 1525.11 Q431.896 1523.37 428.077 1523.37 L424.049 1523.37 L424.049 1519.53 L428.262 1519.53 Q431.711 1519.53 433.54 1518.16 Q435.369 1516.77 435.369 1514.18 Q435.369 1511.52 433.47 1510.11 Q431.595 1508.67 428.077 1508.67 Q426.156 1508.67 423.957 1509.09 Q421.757 1509.5 419.119 1510.38 L419.119 1506.22 Q421.781 1505.48 424.095 1505.11 Q426.433 1504.73 428.494 1504.73 Q433.818 1504.73 436.919 1507.17 Q440.021 1509.57 440.021 1513.69 Q440.021 1516.56 438.378 1518.55 Q436.734 1520.52 433.702 1521.29 Z\" fill=\"#000000\" fill-rule=\"evenodd\" fill-opacity=\"1\" /><path clip-path=\"url(#clip0000)\" d=\"M 0 0 M681.053 1525.04 L693.529 1525.04 L693.529 1528.83 L681.053 1528.83 L681.053 1525.04 Z\" fill=\"#000000\" fill-rule=\"evenodd\" fill-opacity=\"1\" /><path clip-path=\"url(#clip0000)\" d=\"M 0 0 M702.626 1535.98 L718.946 1535.98 L718.946 1539.92 L697.002 1539.92 L697.002 1535.98 Q699.664 1533.23 704.247 1528.6 Q708.853 1523.95 710.034 1522.61 Q712.279 1520.08 713.159 1518.35 Q714.062 1516.59 714.062 1514.9 Q714.062 1512.14 712.117 1510.41 Q710.196 1508.67 707.094 1508.67 Q704.895 1508.67 702.441 1509.43 Q700.011 1510.2 697.233 1511.75 L697.233 1507.03 Q700.057 1505.89 702.511 1505.31 Q704.964 1504.73 707.001 1504.73 Q712.372 1504.73 715.566 1507.42 Q718.761 1510.11 718.761 1514.6 Q718.761 1516.73 717.95 1518.65 Q717.163 1520.54 715.057 1523.14 Q714.478 1523.81 711.376 1527.03 Q708.275 1530.22 702.626 1535.98 Z\" fill=\"#000000\" fill-rule=\"evenodd\" fill-opacity=\"1\" /><path clip-path=\"url(#clip0000)\" d=\"M 0 0 M959.456 1525.04 L971.933 1525.04 L971.933 1528.83 L959.456 1528.83 L959.456 1525.04 Z\" fill=\"#000000\" fill-rule=\"evenodd\" fill-opacity=\"1\" /><path clip-path=\"url(#clip0000)\" d=\"M 0 0 M977.813 1535.98 L985.452 1535.98 L985.452 1509.62 L977.141 1511.29 L977.141 1507.03 L985.405 1505.36 L990.081 1505.36 L990.081 1535.98 L997.72 1535.98 L997.72 1539.92 L977.813 1539.92 L977.813 1535.98 Z\" fill=\"#000000\" fill-rule=\"evenodd\" fill-opacity=\"1\" /><path clip-path=\"url(#clip0000)\" d=\"M 0 0 M1257.18 1508.44 Q1253.57 1508.44 1251.74 1512 Q1249.93 1515.55 1249.93 1522.67 Q1249.93 1529.78 1251.74 1533.35 Q1253.57 1536.89 1257.18 1536.89 Q1260.81 1536.89 1262.62 1533.35 Q1264.45 1529.78 1264.45 1522.67 Q1264.45 1515.55 1262.62 1512 Q1260.81 1508.44 1257.18 1508.44 M1257.18 1504.73 Q1262.99 1504.73 1266.04 1509.34 Q1269.12 1513.92 1269.12 1522.67 Q1269.12 1531.4 1266.04 1536.01 Q1262.99 1540.59 1257.18 1540.59 Q1251.37 1540.59 1248.29 1536.01 Q1245.23 1531.4 1245.23 1522.67 Q1245.23 1513.92 1248.29 1509.34 Q1251.37 1504.73 1257.18 1504.73 Z\" fill=\"#000000\" fill-rule=\"evenodd\" fill-opacity=\"1\" /><path clip-path=\"url(#clip0000)\" d=\"M 0 0 M1526.15 1535.98 L1533.79 1535.98 L1533.79 1509.62 L1525.48 1511.29 L1525.48 1507.03 L1533.74 1505.36 L1538.42 1505.36 L1538.42 1535.98 L1546.06 1535.98 L1546.06 1539.92 L1526.15 1539.92 L1526.15 1535.98 Z\" fill=\"#000000\" fill-rule=\"evenodd\" fill-opacity=\"1\" /><path clip-path=\"url(#clip0000)\" d=\"M 0 0 M1809.01 1535.98 L1825.33 1535.98 L1825.33 1539.92 L1803.38 1539.92 L1803.38 1535.98 Q1806.04 1533.23 1810.63 1528.6 Q1815.23 1523.95 1816.42 1522.61 Q1818.66 1520.08 1819.54 1518.35 Q1820.44 1516.59 1820.44 1514.9 Q1820.44 1512.14 1818.5 1510.41 Q1816.58 1508.67 1813.48 1508.67 Q1811.28 1508.67 1808.82 1509.43 Q1806.39 1510.2 1803.61 1511.75 L1803.61 1507.03 Q1806.44 1505.89 1808.89 1505.31 Q1811.35 1504.73 1813.38 1504.73 Q1818.75 1504.73 1821.95 1507.42 Q1825.14 1510.11 1825.14 1514.6 Q1825.14 1516.73 1824.33 1518.65 Q1823.54 1520.54 1821.44 1523.14 Q1820.86 1523.81 1817.76 1527.03 Q1814.66 1530.22 1809.01 1535.98 Z\" fill=\"#000000\" fill-rule=\"evenodd\" fill-opacity=\"1\" /><path clip-path=\"url(#clip0000)\" d=\"M 0 0 M2097.19 1521.29 Q2100.55 1522 2102.42 1524.27 Q2104.32 1526.54 2104.32 1529.87 Q2104.32 1534.99 2100.8 1537.79 Q2097.28 1540.59 2090.8 1540.59 Q2088.63 1540.59 2086.31 1540.15 Q2084.02 1539.73 2081.57 1538.88 L2081.57 1534.36 Q2083.51 1535.5 2085.83 1536.08 Q2088.14 1536.66 2090.66 1536.66 Q2095.06 1536.66 2097.35 1534.92 Q2099.67 1533.18 2099.67 1529.87 Q2099.67 1526.82 2097.52 1525.11 Q2095.39 1523.37 2091.57 1523.37 L2087.54 1523.37 L2087.54 1519.53 L2091.75 1519.53 Q2095.2 1519.53 2097.03 1518.16 Q2098.86 1516.77 2098.86 1514.18 Q2098.86 1511.52 2096.96 1510.11 Q2095.09 1508.67 2091.57 1508.67 Q2089.65 1508.67 2087.45 1509.09 Q2085.25 1509.5 2082.61 1510.38 L2082.61 1506.22 Q2085.27 1505.48 2087.59 1505.11 Q2089.92 1504.73 2091.98 1504.73 Q2097.31 1504.73 2100.41 1507.17 Q2103.51 1509.57 2103.51 1513.69 Q2103.51 1516.56 2101.87 1518.55 Q2100.22 1520.52 2097.19 1521.29 Z\" fill=\"#000000\" fill-rule=\"evenodd\" fill-opacity=\"1\" /><path clip-path=\"url(#clip0000)\" d=\"M 0 0 M125.654 1431.51 Q122.043 1431.51 120.214 1435.08 Q118.408 1438.62 118.408 1445.75 Q118.408 1452.86 120.214 1456.42 Q122.043 1459.96 125.654 1459.96 Q129.288 1459.96 131.094 1456.42 Q132.922 1452.86 132.922 1445.75 Q132.922 1438.62 131.094 1435.08 Q129.288 1431.51 125.654 1431.51 M125.654 1427.81 Q131.464 1427.81 134.52 1432.42 Q137.598 1437 137.598 1445.75 Q137.598 1454.48 134.52 1459.08 Q131.464 1463.67 125.654 1463.67 Q119.844 1463.67 116.765 1459.08 Q113.709 1454.48 113.709 1445.75 Q113.709 1437 116.765 1432.42 Q119.844 1427.81 125.654 1427.81 Z\" fill=\"#000000\" fill-rule=\"evenodd\" fill-opacity=\"1\" /><path clip-path=\"url(#clip0000)\" d=\"M 0 0 M89.6818 1078.5 L108.038 1078.5 L108.038 1082.44 L93.9642 1082.44 L93.9642 1090.91 Q94.9827 1090.56 96.0012 1090.4 Q97.0197 1090.22 98.0382 1090.22 Q103.825 1090.22 107.205 1093.39 Q110.584 1096.56 110.584 1101.97 Q110.584 1107.55 107.112 1110.66 Q103.64 1113.73 97.3206 1113.73 Q95.1447 1113.73 92.8762 1113.36 Q90.6309 1112.99 88.2235 1112.25 L88.2235 1107.55 Q90.3068 1108.69 92.529 1109.24 Q94.7512 1109.8 97.2281 1109.8 Q101.233 1109.8 103.571 1107.69 Q105.909 1105.59 105.909 1101.97 Q105.909 1098.36 103.571 1096.26 Q101.233 1094.15 97.2281 1094.15 Q95.3531 1094.15 93.4781 1094.57 Q91.6262 1094.98 89.6818 1095.86 L89.6818 1078.5 Z\" fill=\"#000000\" fill-rule=\"evenodd\" fill-opacity=\"1\" /><path clip-path=\"url(#clip0000)\" d=\"M 0 0 M125.654 1081.58 Q122.043 1081.58 120.214 1085.15 Q118.408 1088.69 118.408 1095.82 Q118.408 1102.92 120.214 1106.49 Q122.043 1110.03 125.654 1110.03 Q129.288 1110.03 131.094 1106.49 Q132.922 1102.92 132.922 1095.82 Q132.922 1088.69 131.094 1085.15 Q129.288 1081.58 125.654 1081.58 M125.654 1077.88 Q131.464 1077.88 134.52 1082.48 Q137.598 1087.07 137.598 1095.82 Q137.598 1104.54 134.52 1109.15 Q131.464 1113.73 125.654 1113.73 Q119.844 1113.73 116.765 1109.15 Q113.709 1104.54 113.709 1095.82 Q113.709 1087.07 116.765 1082.48 Q119.844 1077.88 125.654 1077.88 Z\" fill=\"#000000\" fill-rule=\"evenodd\" fill-opacity=\"1\" /><path clip-path=\"url(#clip0000)\" d=\"M 0 0 M63.6634 759.195 L71.3023 759.195 L71.3023 732.829 L62.9921 734.496 L62.9921 730.237 L71.256 728.57 L75.9319 728.57 L75.9319 759.195 L83.5707 759.195 L83.5707 763.13 L63.6634 763.13 L63.6634 759.195 Z\" fill=\"#000000\" fill-rule=\"evenodd\" fill-opacity=\"1\" /><path clip-path=\"url(#clip0000)\" d=\"M 0 0 M98.6401 731.649 Q95.029 731.649 93.2003 735.213 Q91.3948 738.755 91.3948 745.885 Q91.3948 752.991 93.2003 756.556 Q95.029 760.098 98.6401 760.098 Q102.274 760.098 104.08 756.556 Q105.909 752.991 105.909 745.885 Q105.909 738.755 104.08 735.213 Q102.274 731.649 98.6401 731.649 M98.6401 727.945 Q104.45 727.945 107.506 732.551 Q110.584 737.135 110.584 745.885 Q110.584 754.612 107.506 759.218 Q104.45 763.801 98.6401 763.801 Q92.8299 763.801 89.7512 759.218 Q86.6957 754.612 86.6957 745.885 Q86.6957 737.135 89.7512 732.551 Q92.8299 727.945 98.6401 727.945 Z\" fill=\"#000000\" fill-rule=\"evenodd\" fill-opacity=\"1\" /><path clip-path=\"url(#clip0000)\" d=\"M 0 0 M125.654 731.649 Q122.043 731.649 120.214 735.213 Q118.408 738.755 118.408 745.885 Q118.408 752.991 120.214 756.556 Q122.043 760.098 125.654 760.098 Q129.288 760.098 131.094 756.556 Q132.922 752.991 132.922 745.885 Q132.922 738.755 131.094 735.213 Q129.288 731.649 125.654 731.649 M125.654 727.945 Q131.464 727.945 134.52 732.551 Q137.598 737.135 137.598 745.885 Q137.598 754.612 134.52 759.218 Q131.464 763.801 125.654 763.801 Q119.844 763.801 116.765 759.218 Q113.709 754.612 113.709 745.885 Q113.709 737.135 116.765 732.551 Q119.844 727.945 125.654 727.945 Z\" fill=\"#000000\" fill-rule=\"evenodd\" fill-opacity=\"1\" /><path clip-path=\"url(#clip0000)\" d=\"M 0 0 M64.6588 409.262 L72.2976 409.262 L72.2976 382.896 L63.9875 384.563 L63.9875 380.304 L72.2513 378.637 L76.9272 378.637 L76.9272 409.262 L84.5661 409.262 L84.5661 413.197 L64.6588 413.197 L64.6588 409.262 Z\" fill=\"#000000\" fill-rule=\"evenodd\" fill-opacity=\"1\" /><path clip-path=\"url(#clip0000)\" d=\"M 0 0 M89.6818 378.637 L108.038 378.637 L108.038 382.572 L93.9642 382.572 L93.9642 391.045 Q94.9827 390.697 96.0012 390.535 Q97.0197 390.35 98.0382 390.35 Q103.825 390.35 107.205 393.521 Q110.584 396.693 110.584 402.109 Q110.584 407.688 107.112 410.79 Q103.64 413.868 97.3206 413.868 Q95.1447 413.868 92.8762 413.498 Q90.6309 413.128 88.2235 412.387 L88.2235 407.688 Q90.3068 408.822 92.529 409.378 Q94.7512 409.933 97.2281 409.933 Q101.233 409.933 103.571 407.827 Q105.909 405.72 105.909 402.109 Q105.909 398.498 103.571 396.392 Q101.233 394.285 97.2281 394.285 Q95.3531 394.285 93.4781 394.702 Q91.6262 395.119 89.6818 395.998 L89.6818 378.637 Z\" fill=\"#000000\" fill-rule=\"evenodd\" fill-opacity=\"1\" /><path clip-path=\"url(#clip0000)\" d=\"M 0 0 M125.654 381.716 Q122.043 381.716 120.214 385.281 Q118.408 388.822 118.408 395.952 Q118.408 403.058 120.214 406.623 Q122.043 410.165 125.654 410.165 Q129.288 410.165 131.094 406.623 Q132.922 403.058 132.922 395.952 Q132.922 388.822 131.094 385.281 Q129.288 381.716 125.654 381.716 M125.654 378.012 Q131.464 378.012 134.52 382.619 Q137.598 387.202 137.598 395.952 Q137.598 404.679 134.52 409.285 Q131.464 413.868 125.654 413.868 Q119.844 413.868 116.765 409.285 Q113.709 404.679 113.709 395.952 Q113.709 387.202 116.765 382.619 Q119.844 378.012 125.654 378.012 Z\" fill=\"#000000\" fill-rule=\"evenodd\" fill-opacity=\"1\" /><path clip-path=\"url(#clip0002)\" d=\"\n",
       "M282.116 1438.72 L282.116 1445.72 L421.41 1445.72 L421.41 1438.72 L282.116 1438.72 L282.116 1438.72  Z\n",
       "  \" fill=\"#009af9\" fill-rule=\"evenodd\" fill-opacity=\"1\"/>\n",
       "<polyline clip-path=\"url(#clip0002)\" style=\"stroke:#000000; stroke-width:4; stroke-opacity:1; fill:none\" points=\"\n",
       "  282.116,1438.72 282.116,1445.72 421.41,1445.72 421.41,1438.72 282.116,1438.72 \n",
       "  \"/>\n",
       "<path clip-path=\"url(#clip0002)\" d=\"\n",
       "M421.41 1410.72 L421.41 1445.72 L560.705 1445.72 L560.705 1410.72 L421.41 1410.72 L421.41 1410.72  Z\n",
       "  \" fill=\"#009af9\" fill-rule=\"evenodd\" fill-opacity=\"1\"/>\n",
       "<polyline clip-path=\"url(#clip0002)\" style=\"stroke:#000000; stroke-width:4; stroke-opacity:1; fill:none\" points=\"\n",
       "  421.41,1410.72 421.41,1445.72 560.705,1445.72 560.705,1410.72 421.41,1410.72 \n",
       "  \"/>\n",
       "<path clip-path=\"url(#clip0002)\" d=\"\n",
       "M560.705 1319.74 L560.705 1445.72 L699.999 1445.72 L699.999 1319.74 L560.705 1319.74 L560.705 1319.74  Z\n",
       "  \" fill=\"#009af9\" fill-rule=\"evenodd\" fill-opacity=\"1\"/>\n",
       "<polyline clip-path=\"url(#clip0002)\" style=\"stroke:#000000; stroke-width:4; stroke-opacity:1; fill:none\" points=\"\n",
       "  560.705,1319.74 560.705,1445.72 699.999,1445.72 699.999,1319.74 560.705,1319.74 \n",
       "  \"/>\n",
       "<path clip-path=\"url(#clip0002)\" d=\"\n",
       "M699.999 1228.76 L699.999 1445.72 L839.294 1445.72 L839.294 1228.76 L699.999 1228.76 L699.999 1228.76  Z\n",
       "  \" fill=\"#009af9\" fill-rule=\"evenodd\" fill-opacity=\"1\"/>\n",
       "<polyline clip-path=\"url(#clip0002)\" style=\"stroke:#000000; stroke-width:4; stroke-opacity:1; fill:none\" points=\"\n",
       "  699.999,1228.76 699.999,1445.72 839.294,1445.72 839.294,1228.76 699.999,1228.76 \n",
       "  \"/>\n",
       "<path clip-path=\"url(#clip0002)\" d=\"\n",
       "M839.294 829.834 L839.294 1445.72 L978.588 1445.72 L978.588 829.834 L839.294 829.834 L839.294 829.834  Z\n",
       "  \" fill=\"#009af9\" fill-rule=\"evenodd\" fill-opacity=\"1\"/>\n",
       "<polyline clip-path=\"url(#clip0002)\" style=\"stroke:#000000; stroke-width:4; stroke-opacity:1; fill:none\" points=\"\n",
       "  839.294,829.834 839.294,1445.72 978.588,1445.72 978.588,829.834 839.294,829.834 \n",
       "  \"/>\n",
       "<path clip-path=\"url(#clip0002)\" d=\"\n",
       "M978.588 332.929 L978.588 1445.72 L1117.88 1445.72 L1117.88 332.929 L978.588 332.929 L978.588 332.929  Z\n",
       "  \" fill=\"#009af9\" fill-rule=\"evenodd\" fill-opacity=\"1\"/>\n",
       "<polyline clip-path=\"url(#clip0002)\" style=\"stroke:#000000; stroke-width:4; stroke-opacity:1; fill:none\" points=\"\n",
       "  978.588,332.929 978.588,1445.72 1117.88,1445.72 1117.88,332.929 978.588,332.929 \n",
       "  \"/>\n",
       "<path clip-path=\"url(#clip0002)\" d=\"\n",
       "M1117.88 87.9763 L1117.88 1445.72 L1257.18 1445.72 L1257.18 87.9763 L1117.88 87.9763 L1117.88 87.9763  Z\n",
       "  \" fill=\"#009af9\" fill-rule=\"evenodd\" fill-opacity=\"1\"/>\n",
       "<polyline clip-path=\"url(#clip0002)\" style=\"stroke:#000000; stroke-width:4; stroke-opacity:1; fill:none\" points=\"\n",
       "  1117.88,87.9763 1117.88,1445.72 1257.18,1445.72 1257.18,87.9763 1117.88,87.9763 \n",
       "  \"/>\n",
       "<path clip-path=\"url(#clip0002)\" d=\"\n",
       "M1257.18 290.937 L1257.18 1445.72 L1396.47 1445.72 L1396.47 290.937 L1257.18 290.937 L1257.18 290.937  Z\n",
       "  \" fill=\"#009af9\" fill-rule=\"evenodd\" fill-opacity=\"1\"/>\n",
       "<polyline clip-path=\"url(#clip0002)\" style=\"stroke:#000000; stroke-width:4; stroke-opacity:1; fill:none\" points=\"\n",
       "  1257.18,290.937 1257.18,1445.72 1396.47,1445.72 1396.47,290.937 1257.18,290.937 \n",
       "  \"/>\n",
       "<path clip-path=\"url(#clip0002)\" d=\"\n",
       "M1396.47 192.956 L1396.47 1445.72 L1535.77 1445.72 L1535.77 192.956 L1396.47 192.956 L1396.47 192.956  Z\n",
       "  \" fill=\"#009af9\" fill-rule=\"evenodd\" fill-opacity=\"1\"/>\n",
       "<polyline clip-path=\"url(#clip0002)\" style=\"stroke:#000000; stroke-width:4; stroke-opacity:1; fill:none\" points=\"\n",
       "  1396.47,192.956 1396.47,1445.72 1535.77,1445.72 1535.77,192.956 1396.47,192.956 \n",
       "  \"/>\n",
       "<path clip-path=\"url(#clip0002)\" d=\"\n",
       "M1535.77 759.847 L1535.77 1445.72 L1675.06 1445.72 L1675.06 759.847 L1535.77 759.847 L1535.77 759.847  Z\n",
       "  \" fill=\"#009af9\" fill-rule=\"evenodd\" fill-opacity=\"1\"/>\n",
       "<polyline clip-path=\"url(#clip0002)\" style=\"stroke:#000000; stroke-width:4; stroke-opacity:1; fill:none\" points=\"\n",
       "  1535.77,759.847 1535.77,1445.72 1675.06,1445.72 1675.06,759.847 1535.77,759.847 \n",
       "  \"/>\n",
       "<path clip-path=\"url(#clip0002)\" d=\"\n",
       "M1675.06 1158.77 L1675.06 1445.72 L1814.35 1445.72 L1814.35 1158.77 L1675.06 1158.77 L1675.06 1158.77  Z\n",
       "  \" fill=\"#009af9\" fill-rule=\"evenodd\" fill-opacity=\"1\"/>\n",
       "<polyline clip-path=\"url(#clip0002)\" style=\"stroke:#000000; stroke-width:4; stroke-opacity:1; fill:none\" points=\"\n",
       "  1675.06,1158.77 1675.06,1445.72 1814.35,1445.72 1814.35,1158.77 1675.06,1158.77 \n",
       "  \"/>\n",
       "<path clip-path=\"url(#clip0002)\" d=\"\n",
       "M1814.35 1333.74 L1814.35 1445.72 L1953.65 1445.72 L1953.65 1333.74 L1814.35 1333.74 L1814.35 1333.74  Z\n",
       "  \" fill=\"#009af9\" fill-rule=\"evenodd\" fill-opacity=\"1\"/>\n",
       "<polyline clip-path=\"url(#clip0002)\" style=\"stroke:#000000; stroke-width:4; stroke-opacity:1; fill:none\" points=\"\n",
       "  1814.35,1333.74 1814.35,1445.72 1953.65,1445.72 1953.65,1333.74 1814.35,1333.74 \n",
       "  \"/>\n",
       "<path clip-path=\"url(#clip0002)\" d=\"\n",
       "M1953.65 1417.72 L1953.65 1445.72 L2092.94 1445.72 L2092.94 1417.72 L1953.65 1417.72 L1953.65 1417.72  Z\n",
       "  \" fill=\"#009af9\" fill-rule=\"evenodd\" fill-opacity=\"1\"/>\n",
       "<polyline clip-path=\"url(#clip0002)\" style=\"stroke:#000000; stroke-width:4; stroke-opacity:1; fill:none\" points=\"\n",
       "  1953.65,1417.72 1953.65,1445.72 2092.94,1445.72 2092.94,1417.72 1953.65,1417.72 \n",
       "  \"/>\n",
       "<path clip-path=\"url(#clip0002)\" d=\"\n",
       "M2092.94 1438.72 L2092.94 1445.72 L2232.24 1445.72 L2232.24 1438.72 L2092.94 1438.72 L2092.94 1438.72  Z\n",
       "  \" fill=\"#009af9\" fill-rule=\"evenodd\" fill-opacity=\"1\"/>\n",
       "<polyline clip-path=\"url(#clip0002)\" style=\"stroke:#000000; stroke-width:4; stroke-opacity:1; fill:none\" points=\"\n",
       "  2092.94,1438.72 2092.94,1445.72 2232.24,1445.72 2232.24,1438.72 2092.94,1438.72 \n",
       "  \"/>\n",
       "<path clip-path=\"url(#clip0000)\" d=\"\n",
       "M1989.74 251.724 L2280.76 251.724 L2280.76 130.764 L1989.74 130.764  Z\n",
       "  \" fill=\"#ffffff\" fill-rule=\"evenodd\" fill-opacity=\"1\"/>\n",
       "<polyline clip-path=\"url(#clip0000)\" style=\"stroke:#000000; stroke-width:4; stroke-opacity:1; fill:none\" points=\"\n",
       "  1989.74,251.724 2280.76,251.724 2280.76,130.764 1989.74,130.764 1989.74,251.724 \n",
       "  \"/>\n",
       "<path clip-path=\"url(#clip0000)\" d=\"\n",
       "M2013.74 215.436 L2157.74 215.436 L2157.74 167.052 L2013.74 167.052 L2013.74 215.436  Z\n",
       "  \" fill=\"#009af9\" fill-rule=\"evenodd\" fill-opacity=\"1\"/>\n",
       "<polyline clip-path=\"url(#clip0000)\" style=\"stroke:#000000; stroke-width:4; stroke-opacity:1; fill:none\" points=\"\n",
       "  2013.74,215.436 2157.74,215.436 2157.74,167.052 2013.74,167.052 2013.74,215.436 \n",
       "  \"/>\n",
       "<path clip-path=\"url(#clip0000)\" d=\"M 0 0 M2195.58 210.931 Q2193.77 215.561 2192.06 216.973 Q2190.35 218.385 2187.48 218.385 L2184.08 218.385 L2184.08 214.82 L2186.58 214.82 Q2188.33 214.82 2189.31 213.987 Q2190.28 213.154 2191.46 210.052 L2192.22 208.107 L2181.74 182.598 L2186.25 182.598 L2194.35 202.876 L2202.46 182.598 L2206.97 182.598 L2195.58 210.931 Z\" fill=\"#000000\" fill-rule=\"evenodd\" fill-opacity=\"1\" /><path clip-path=\"url(#clip0000)\" d=\"M 0 0 M2212.85 204.589 L2220.49 204.589 L2220.49 178.223 L2212.18 179.89 L2212.18 175.631 L2220.44 173.964 L2225.12 173.964 L2225.12 204.589 L2232.76 204.589 L2232.76 208.524 L2212.85 208.524 L2212.85 204.589 Z\" fill=\"#000000\" fill-rule=\"evenodd\" fill-opacity=\"1\" /></svg>\n"
      ]
     },
     "execution_count": 160,
     "metadata": {},
     "output_type": "execute_result"
    }
   ],
   "source": [
    "histogram(randn(1000))"
   ]
  },
  {
   "cell_type": "markdown",
   "metadata": {},
   "source": [
    "產生隨機指數分布數字。randexp() 預設的數值型別也是 Float64。"
   ]
  },
  {
   "cell_type": "code",
   "execution_count": 162,
   "metadata": {},
   "outputs": [
    {
     "data": {
      "image/svg+xml": [
       "<?xml version=\"1.0\" encoding=\"utf-8\"?>\n",
       "<svg xmlns=\"http://www.w3.org/2000/svg\" xmlns:xlink=\"http://www.w3.org/1999/xlink\" width=\"600\" height=\"400\" viewBox=\"0 0 2400 1600\">\n",
       "<defs>\n",
       "  <clipPath id=\"clip0400\">\n",
       "    <rect x=\"0\" y=\"0\" width=\"2400\" height=\"1600\"/>\n",
       "  </clipPath>\n",
       "</defs>\n",
       "<path clip-path=\"url(#clip0400)\" d=\"\n",
       "M0 1600 L2400 1600 L2400 0 L0 0  Z\n",
       "  \" fill=\"#ffffff\" fill-rule=\"evenodd\" fill-opacity=\"1\"/>\n",
       "<defs>\n",
       "  <clipPath id=\"clip0401\">\n",
       "    <rect x=\"480\" y=\"0\" width=\"1681\" height=\"1600\"/>\n",
       "  </clipPath>\n",
       "</defs>\n",
       "<path clip-path=\"url(#clip0400)\" d=\"\n",
       "M166.205 1486.45 L2352.76 1486.45 L2352.76 47.2441 L166.205 47.2441  Z\n",
       "  \" fill=\"#ffffff\" fill-rule=\"evenodd\" fill-opacity=\"1\"/>\n",
       "<defs>\n",
       "  <clipPath id=\"clip0402\">\n",
       "    <rect x=\"166\" y=\"47\" width=\"2188\" height=\"1440\"/>\n",
       "  </clipPath>\n",
       "</defs>\n",
       "<polyline clip-path=\"url(#clip0402)\" style=\"stroke:#000000; stroke-width:2; stroke-opacity:0.1; fill:none\" points=\"\n",
       "  286.469,1486.45 286.469,47.2441 \n",
       "  \"/>\n",
       "<polyline clip-path=\"url(#clip0402)\" style=\"stroke:#000000; stroke-width:2; stroke-opacity:0.1; fill:none\" points=\"\n",
       "  718.918,1486.45 718.918,47.2441 \n",
       "  \"/>\n",
       "<polyline clip-path=\"url(#clip0402)\" style=\"stroke:#000000; stroke-width:2; stroke-opacity:0.1; fill:none\" points=\"\n",
       "  1151.37,1486.45 1151.37,47.2441 \n",
       "  \"/>\n",
       "<polyline clip-path=\"url(#clip0402)\" style=\"stroke:#000000; stroke-width:2; stroke-opacity:0.1; fill:none\" points=\"\n",
       "  1583.82,1486.45 1583.82,47.2441 \n",
       "  \"/>\n",
       "<polyline clip-path=\"url(#clip0402)\" style=\"stroke:#000000; stroke-width:2; stroke-opacity:0.1; fill:none\" points=\"\n",
       "  2016.27,1486.45 2016.27,47.2441 \n",
       "  \"/>\n",
       "<polyline clip-path=\"url(#clip0402)\" style=\"stroke:#000000; stroke-width:2; stroke-opacity:0.1; fill:none\" points=\"\n",
       "  166.205,1445.72 2352.76,1445.72 \n",
       "  \"/>\n",
       "<polyline clip-path=\"url(#clip0402)\" style=\"stroke:#000000; stroke-width:2; stroke-opacity:0.1; fill:none\" points=\"\n",
       "  166.205,1096.68 2352.76,1096.68 \n",
       "  \"/>\n",
       "<polyline clip-path=\"url(#clip0402)\" style=\"stroke:#000000; stroke-width:2; stroke-opacity:0.1; fill:none\" points=\"\n",
       "  166.205,747.649 2352.76,747.649 \n",
       "  \"/>\n",
       "<polyline clip-path=\"url(#clip0402)\" style=\"stroke:#000000; stroke-width:2; stroke-opacity:0.1; fill:none\" points=\"\n",
       "  166.205,398.616 2352.76,398.616 \n",
       "  \"/>\n",
       "<polyline clip-path=\"url(#clip0402)\" style=\"stroke:#000000; stroke-width:2; stroke-opacity:0.1; fill:none\" points=\"\n",
       "  166.205,49.5826 2352.76,49.5826 \n",
       "  \"/>\n",
       "<polyline clip-path=\"url(#clip0400)\" style=\"stroke:#000000; stroke-width:4; stroke-opacity:1; fill:none\" points=\"\n",
       "  166.205,1486.45 2352.76,1486.45 \n",
       "  \"/>\n",
       "<polyline clip-path=\"url(#clip0400)\" style=\"stroke:#000000; stroke-width:4; stroke-opacity:1; fill:none\" points=\"\n",
       "  166.205,1486.45 166.205,47.2441 \n",
       "  \"/>\n",
       "<polyline clip-path=\"url(#clip0400)\" style=\"stroke:#000000; stroke-width:4; stroke-opacity:1; fill:none\" points=\"\n",
       "  286.469,1486.45 286.469,1469.18 \n",
       "  \"/>\n",
       "<polyline clip-path=\"url(#clip0400)\" style=\"stroke:#000000; stroke-width:4; stroke-opacity:1; fill:none\" points=\"\n",
       "  718.918,1486.45 718.918,1469.18 \n",
       "  \"/>\n",
       "<polyline clip-path=\"url(#clip0400)\" style=\"stroke:#000000; stroke-width:4; stroke-opacity:1; fill:none\" points=\"\n",
       "  1151.37,1486.45 1151.37,1469.18 \n",
       "  \"/>\n",
       "<polyline clip-path=\"url(#clip0400)\" style=\"stroke:#000000; stroke-width:4; stroke-opacity:1; fill:none\" points=\"\n",
       "  1583.82,1486.45 1583.82,1469.18 \n",
       "  \"/>\n",
       "<polyline clip-path=\"url(#clip0400)\" style=\"stroke:#000000; stroke-width:4; stroke-opacity:1; fill:none\" points=\"\n",
       "  2016.27,1486.45 2016.27,1469.18 \n",
       "  \"/>\n",
       "<polyline clip-path=\"url(#clip0400)\" style=\"stroke:#000000; stroke-width:4; stroke-opacity:1; fill:none\" points=\"\n",
       "  166.205,1445.72 192.443,1445.72 \n",
       "  \"/>\n",
       "<polyline clip-path=\"url(#clip0400)\" style=\"stroke:#000000; stroke-width:4; stroke-opacity:1; fill:none\" points=\"\n",
       "  166.205,1096.68 192.443,1096.68 \n",
       "  \"/>\n",
       "<polyline clip-path=\"url(#clip0400)\" style=\"stroke:#000000; stroke-width:4; stroke-opacity:1; fill:none\" points=\"\n",
       "  166.205,747.649 192.443,747.649 \n",
       "  \"/>\n",
       "<polyline clip-path=\"url(#clip0400)\" style=\"stroke:#000000; stroke-width:4; stroke-opacity:1; fill:none\" points=\"\n",
       "  166.205,398.616 192.443,398.616 \n",
       "  \"/>\n",
       "<polyline clip-path=\"url(#clip0400)\" style=\"stroke:#000000; stroke-width:4; stroke-opacity:1; fill:none\" points=\"\n",
       "  166.205,49.5826 192.443,49.5826 \n",
       "  \"/>\n",
       "<path clip-path=\"url(#clip0400)\" d=\"M 0 0 M286.469 1508.44 Q282.858 1508.44 281.029 1512 Q279.224 1515.55 279.224 1522.67 Q279.224 1529.78 281.029 1533.35 Q282.858 1536.89 286.469 1536.89 Q290.103 1536.89 291.909 1533.35 Q293.737 1529.78 293.737 1522.67 Q293.737 1515.55 291.909 1512 Q290.103 1508.44 286.469 1508.44 M286.469 1504.73 Q292.279 1504.73 295.335 1509.34 Q298.413 1513.92 298.413 1522.67 Q298.413 1531.4 295.335 1536.01 Q292.279 1540.59 286.469 1540.59 Q280.659 1540.59 277.58 1536.01 Q274.524 1531.4 274.524 1522.67 Q274.524 1513.92 277.58 1509.34 Q280.659 1504.73 286.469 1504.73 Z\" fill=\"#000000\" fill-rule=\"evenodd\" fill-opacity=\"1\" /><path clip-path=\"url(#clip0400)\" d=\"M 0 0 M713.571 1535.98 L729.891 1535.98 L729.891 1539.92 L707.946 1539.92 L707.946 1535.98 Q710.608 1533.23 715.192 1528.6 Q719.798 1523.95 720.979 1522.61 Q723.224 1520.08 724.104 1518.35 Q725.006 1516.59 725.006 1514.9 Q725.006 1512.14 723.062 1510.41 Q721.141 1508.67 718.039 1508.67 Q715.84 1508.67 713.386 1509.43 Q710.955 1510.2 708.178 1511.75 L708.178 1507.03 Q711.002 1505.89 713.455 1505.31 Q715.909 1504.73 717.946 1504.73 Q723.317 1504.73 726.511 1507.42 Q729.705 1510.11 729.705 1514.6 Q729.705 1516.73 728.895 1518.65 Q728.108 1520.54 726.002 1523.14 Q725.423 1523.81 722.321 1527.03 Q719.219 1530.22 713.571 1535.98 Z\" fill=\"#000000\" fill-rule=\"evenodd\" fill-opacity=\"1\" /><path clip-path=\"url(#clip0400)\" d=\"M 0 0 M1154.38 1509.43 L1142.57 1527.88 L1154.38 1527.88 L1154.38 1509.43 M1153.15 1505.36 L1159.03 1505.36 L1159.03 1527.88 L1163.96 1527.88 L1163.96 1531.77 L1159.03 1531.77 L1159.03 1539.92 L1154.38 1539.92 L1154.38 1531.77 L1138.78 1531.77 L1138.78 1527.26 L1153.15 1505.36 Z\" fill=\"#000000\" fill-rule=\"evenodd\" fill-opacity=\"1\" /><path clip-path=\"url(#clip0400)\" d=\"M 0 0 M1584.22 1520.78 Q1581.07 1520.78 1579.22 1522.93 Q1577.39 1525.08 1577.39 1528.83 Q1577.39 1532.56 1579.22 1534.73 Q1581.07 1536.89 1584.22 1536.89 Q1587.37 1536.89 1589.2 1534.73 Q1591.05 1532.56 1591.05 1528.83 Q1591.05 1525.08 1589.2 1522.93 Q1587.37 1520.78 1584.22 1520.78 M1593.5 1506.12 L1593.5 1510.38 Q1591.75 1509.55 1589.94 1509.11 Q1588.16 1508.67 1586.4 1508.67 Q1581.77 1508.67 1579.32 1511.8 Q1576.88 1514.92 1576.54 1521.24 Q1577.9 1519.23 1579.96 1518.16 Q1582.02 1517.07 1584.5 1517.07 Q1589.71 1517.07 1592.72 1520.24 Q1595.75 1523.39 1595.75 1528.83 Q1595.75 1534.16 1592.6 1537.37 Q1589.45 1540.59 1584.22 1540.59 Q1578.23 1540.59 1575.06 1536.01 Q1571.88 1531.4 1571.88 1522.67 Q1571.88 1514.48 1575.77 1509.62 Q1579.66 1504.73 1586.21 1504.73 Q1587.97 1504.73 1589.75 1505.08 Q1591.56 1505.43 1593.5 1506.12 Z\" fill=\"#000000\" fill-rule=\"evenodd\" fill-opacity=\"1\" /><path clip-path=\"url(#clip0400)\" d=\"M 0 0 M2016.27 1523.51 Q2012.93 1523.51 2011.01 1525.29 Q2009.11 1527.07 2009.11 1530.2 Q2009.11 1533.32 2011.01 1535.11 Q2012.93 1536.89 2016.27 1536.89 Q2019.6 1536.89 2021.52 1535.11 Q2023.44 1533.3 2023.44 1530.2 Q2023.44 1527.07 2021.52 1525.29 Q2019.62 1523.51 2016.27 1523.51 M2011.59 1521.52 Q2008.58 1520.78 2006.89 1518.72 Q2005.23 1516.66 2005.23 1513.69 Q2005.23 1509.55 2008.17 1507.14 Q2011.13 1504.73 2016.27 1504.73 Q2021.43 1504.73 2024.37 1507.14 Q2027.31 1509.55 2027.31 1513.69 Q2027.31 1516.66 2025.62 1518.72 Q2023.95 1520.78 2020.97 1521.52 Q2024.35 1522.3 2026.22 1524.6 Q2028.12 1526.89 2028.12 1530.2 Q2028.12 1535.22 2025.04 1537.91 Q2021.98 1540.59 2016.27 1540.59 Q2010.55 1540.59 2007.47 1537.91 Q2004.42 1535.22 2004.42 1530.2 Q2004.42 1526.89 2006.31 1524.6 Q2008.21 1522.3 2011.59 1521.52 M2009.88 1514.13 Q2009.88 1516.82 2011.54 1518.32 Q2013.23 1519.83 2016.27 1519.83 Q2019.28 1519.83 2020.97 1518.32 Q2022.68 1516.82 2022.68 1514.13 Q2022.68 1511.45 2020.97 1509.94 Q2019.28 1508.44 2016.27 1508.44 Q2013.23 1508.44 2011.54 1509.94 Q2009.88 1511.45 2009.88 1514.13 Z\" fill=\"#000000\" fill-rule=\"evenodd\" fill-opacity=\"1\" /><path clip-path=\"url(#clip0400)\" d=\"M 0 0 M130.26 1431.51 Q126.649 1431.51 124.82 1435.08 Q123.015 1438.62 123.015 1445.75 Q123.015 1452.86 124.82 1456.42 Q126.649 1459.96 130.26 1459.96 Q133.895 1459.96 135.7 1456.42 Q137.529 1452.86 137.529 1445.75 Q137.529 1438.62 135.7 1435.08 Q133.895 1431.51 130.26 1431.51 M130.26 1427.81 Q136.07 1427.81 139.126 1432.42 Q142.205 1437 142.205 1445.75 Q142.205 1454.48 139.126 1459.08 Q136.07 1463.67 130.26 1463.67 Q124.45 1463.67 121.371 1459.08 Q118.316 1454.48 118.316 1445.75 Q118.316 1437 121.371 1432.42 Q124.45 1427.81 130.26 1427.81 Z\" fill=\"#000000\" fill-rule=\"evenodd\" fill-opacity=\"1\" /><path clip-path=\"url(#clip0400)\" d=\"M 0 0 M68.2699 1110.03 L75.9087 1110.03 L75.9087 1083.66 L67.5986 1085.33 L67.5986 1081.07 L75.8624 1079.4 L80.5383 1079.4 L80.5383 1110.03 L88.1772 1110.03 L88.1772 1113.96 L68.2699 1113.96 L68.2699 1110.03 Z\" fill=\"#000000\" fill-rule=\"evenodd\" fill-opacity=\"1\" /><path clip-path=\"url(#clip0400)\" d=\"M 0 0 M103.247 1082.48 Q99.6354 1082.48 97.8068 1086.05 Q96.0012 1089.59 96.0012 1096.72 Q96.0012 1103.82 97.8068 1107.39 Q99.6354 1110.93 103.247 1110.93 Q106.881 1110.93 108.686 1107.39 Q110.515 1103.82 110.515 1096.72 Q110.515 1089.59 108.686 1086.05 Q106.881 1082.48 103.247 1082.48 M103.247 1078.78 Q109.057 1078.78 112.112 1083.38 Q115.191 1087.97 115.191 1096.72 Q115.191 1105.44 112.112 1110.05 Q109.057 1114.63 103.247 1114.63 Q97.4364 1114.63 94.3577 1110.05 Q91.3022 1105.44 91.3022 1096.72 Q91.3022 1087.97 94.3577 1083.38 Q97.4364 1078.78 103.247 1078.78 Z\" fill=\"#000000\" fill-rule=\"evenodd\" fill-opacity=\"1\" /><path clip-path=\"url(#clip0400)\" d=\"M 0 0 M130.26 1082.48 Q126.649 1082.48 124.82 1086.05 Q123.015 1089.59 123.015 1096.72 Q123.015 1103.82 124.82 1107.39 Q126.649 1110.93 130.26 1110.93 Q133.895 1110.93 135.7 1107.39 Q137.529 1103.82 137.529 1096.72 Q137.529 1089.59 135.7 1086.05 Q133.895 1082.48 130.26 1082.48 M130.26 1078.78 Q136.07 1078.78 139.126 1083.38 Q142.205 1087.97 142.205 1096.72 Q142.205 1105.44 139.126 1110.05 Q136.07 1114.63 130.26 1114.63 Q124.45 1114.63 121.371 1110.05 Q118.316 1105.44 118.316 1096.72 Q118.316 1087.97 121.371 1083.38 Q124.45 1078.78 130.26 1078.78 Z\" fill=\"#000000\" fill-rule=\"evenodd\" fill-opacity=\"1\" /><path clip-path=\"url(#clip0400)\" d=\"M 0 0 M71.8578 760.994 L88.1772 760.994 L88.1772 764.929 L66.2328 764.929 L66.2328 760.994 Q68.8949 758.239 73.4782 753.61 Q78.0846 748.957 79.2652 747.614 Q81.5105 745.091 82.3902 743.355 Q83.2929 741.596 83.2929 739.906 Q83.2929 737.152 81.3485 735.415 Q79.4272 733.679 76.3254 733.679 Q74.1263 733.679 71.6726 734.443 Q69.2421 735.207 66.4643 736.758 L66.4643 732.036 Q69.2884 730.902 71.7421 730.323 Q74.1958 729.744 76.2328 729.744 Q81.6031 729.744 84.7976 732.429 Q87.992 735.114 87.992 739.605 Q87.992 741.735 87.1818 743.656 Q86.3948 745.554 84.2883 748.147 Q83.7096 748.818 80.6078 752.036 Q77.5059 755.23 71.8578 760.994 Z\" fill=\"#000000\" fill-rule=\"evenodd\" fill-opacity=\"1\" /><path clip-path=\"url(#clip0400)\" d=\"M 0 0 M103.247 733.448 Q99.6354 733.448 97.8068 737.013 Q96.0012 740.554 96.0012 747.684 Q96.0012 754.79 97.8068 758.355 Q99.6354 761.897 103.247 761.897 Q106.881 761.897 108.686 758.355 Q110.515 754.79 110.515 747.684 Q110.515 740.554 108.686 737.013 Q106.881 733.448 103.247 733.448 M103.247 729.744 Q109.057 729.744 112.112 734.351 Q115.191 738.934 115.191 747.684 Q115.191 756.411 112.112 761.017 Q109.057 765.6 103.247 765.6 Q97.4364 765.6 94.3577 761.017 Q91.3022 756.411 91.3022 747.684 Q91.3022 738.934 94.3577 734.351 Q97.4364 729.744 103.247 729.744 Z\" fill=\"#000000\" fill-rule=\"evenodd\" fill-opacity=\"1\" /><path clip-path=\"url(#clip0400)\" d=\"M 0 0 M130.26 733.448 Q126.649 733.448 124.82 737.013 Q123.015 740.554 123.015 747.684 Q123.015 754.79 124.82 758.355 Q126.649 761.897 130.26 761.897 Q133.895 761.897 135.7 758.355 Q137.529 754.79 137.529 747.684 Q137.529 740.554 135.7 737.013 Q133.895 733.448 130.26 733.448 M130.26 729.744 Q136.07 729.744 139.126 734.351 Q142.205 738.934 142.205 747.684 Q142.205 756.411 139.126 761.017 Q136.07 765.6 130.26 765.6 Q124.45 765.6 121.371 761.017 Q118.316 756.411 118.316 747.684 Q118.316 738.934 121.371 734.351 Q124.45 729.744 130.26 729.744 Z\" fill=\"#000000\" fill-rule=\"evenodd\" fill-opacity=\"1\" /><path clip-path=\"url(#clip0400)\" d=\"M 0 0 M81.0476 397.262 Q84.404 397.979 86.279 400.248 Q88.1772 402.516 88.1772 405.85 Q88.1772 410.965 84.6587 413.766 Q81.1402 416.567 74.6587 416.567 Q72.4828 416.567 70.168 416.127 Q67.8764 415.711 65.4227 414.854 L65.4227 410.34 Q67.3671 411.475 69.6819 412.053 Q71.9967 412.632 74.5198 412.632 Q78.918 412.632 81.2096 410.896 Q83.5244 409.16 83.5244 405.85 Q83.5244 402.794 81.3717 401.081 Q79.242 399.345 75.4226 399.345 L71.3949 399.345 L71.3949 395.502 L75.6078 395.502 Q79.0569 395.502 80.8855 394.137 Q82.7142 392.748 82.7142 390.155 Q82.7142 387.493 80.8161 386.081 Q78.9411 384.646 75.4226 384.646 Q73.5013 384.646 71.3023 385.063 Q69.1032 385.479 66.4643 386.359 L66.4643 382.192 Q69.1264 381.452 71.4412 381.081 Q73.7791 380.711 75.8393 380.711 Q81.1633 380.711 84.2652 383.141 Q87.367 385.549 87.367 389.669 Q87.367 392.54 85.7235 394.53 Q84.08 396.498 81.0476 397.262 Z\" fill=\"#000000\" fill-rule=\"evenodd\" fill-opacity=\"1\" /><path clip-path=\"url(#clip0400)\" d=\"M 0 0 M103.247 384.415 Q99.6354 384.415 97.8068 387.979 Q96.0012 391.521 96.0012 398.651 Q96.0012 405.757 97.8068 409.322 Q99.6354 412.863 103.247 412.863 Q106.881 412.863 108.686 409.322 Q110.515 405.757 110.515 398.651 Q110.515 391.521 108.686 387.979 Q106.881 384.415 103.247 384.415 M103.247 380.711 Q109.057 380.711 112.112 385.317 Q115.191 389.901 115.191 398.651 Q115.191 407.377 112.112 411.984 Q109.057 416.567 103.247 416.567 Q97.4364 416.567 94.3577 411.984 Q91.3022 407.377 91.3022 398.651 Q91.3022 389.901 94.3577 385.317 Q97.4364 380.711 103.247 380.711 Z\" fill=\"#000000\" fill-rule=\"evenodd\" fill-opacity=\"1\" /><path clip-path=\"url(#clip0400)\" d=\"M 0 0 M130.26 384.415 Q126.649 384.415 124.82 387.979 Q123.015 391.521 123.015 398.651 Q123.015 405.757 124.82 409.322 Q126.649 412.863 130.26 412.863 Q133.895 412.863 135.7 409.322 Q137.529 405.757 137.529 398.651 Q137.529 391.521 135.7 387.979 Q133.895 384.415 130.26 384.415 M130.26 380.711 Q136.07 380.711 139.126 385.317 Q142.205 389.901 142.205 398.651 Q142.205 407.377 139.126 411.984 Q136.07 416.567 130.26 416.567 Q124.45 416.567 121.371 411.984 Q118.316 407.377 118.316 398.651 Q118.316 389.901 121.371 385.317 Q124.45 380.711 130.26 380.711 Z\" fill=\"#000000\" fill-rule=\"evenodd\" fill-opacity=\"1\" /><path clip-path=\"url(#clip0400)\" d=\"M 0 0 M78.5939 36.3767 L66.7884 54.8256 L78.5939 54.8256 L78.5939 36.3767 M77.367 32.3026 L83.2466 32.3026 L83.2466 54.8256 L88.1772 54.8256 L88.1772 58.7145 L83.2466 58.7145 L83.2466 66.8626 L78.5939 66.8626 L78.5939 58.7145 L62.9921 58.7145 L62.9921 54.2006 L77.367 32.3026 Z\" fill=\"#000000\" fill-rule=\"evenodd\" fill-opacity=\"1\" /><path clip-path=\"url(#clip0400)\" d=\"M 0 0 M103.247 35.3813 Q99.6354 35.3813 97.8068 38.9461 Q96.0012 42.4877 96.0012 49.6173 Q96.0012 56.7238 97.8068 60.2886 Q99.6354 63.8302 103.247 63.8302 Q106.881 63.8302 108.686 60.2886 Q110.515 56.7238 110.515 49.6173 Q110.515 42.4877 108.686 38.9461 Q106.881 35.3813 103.247 35.3813 M103.247 31.6776 Q109.057 31.6776 112.112 36.2841 Q115.191 40.8674 115.191 49.6173 Q115.191 58.3441 112.112 62.9506 Q109.057 67.5339 103.247 67.5339 Q97.4364 67.5339 94.3577 62.9506 Q91.3022 58.3441 91.3022 49.6173 Q91.3022 40.8674 94.3577 36.2841 Q97.4364 31.6776 103.247 31.6776 Z\" fill=\"#000000\" fill-rule=\"evenodd\" fill-opacity=\"1\" /><path clip-path=\"url(#clip0400)\" d=\"M 0 0 M130.26 35.3813 Q126.649 35.3813 124.82 38.9461 Q123.015 42.4877 123.015 49.6173 Q123.015 56.7238 124.82 60.2886 Q126.649 63.8302 130.26 63.8302 Q133.895 63.8302 135.7 60.2886 Q137.529 56.7238 137.529 49.6173 Q137.529 42.4877 135.7 38.9461 Q133.895 35.3813 130.26 35.3813 M130.26 31.6776 Q136.07 31.6776 139.126 36.2841 Q142.205 40.8674 142.205 49.6173 Q142.205 58.3441 139.126 62.9506 Q136.07 67.5339 130.26 67.5339 Q124.45 67.5339 121.371 62.9506 Q118.316 58.3441 118.316 49.6173 Q118.316 40.8674 121.371 36.2841 Q124.45 31.6776 130.26 31.6776 Z\" fill=\"#000000\" fill-rule=\"evenodd\" fill-opacity=\"1\" /><path clip-path=\"url(#clip0402)\" d=\"\n",
       "M286.469 87.9763 L286.469 1445.72 L394.581 1445.72 L394.581 87.9763 L286.469 87.9763 L286.469 87.9763  Z\n",
       "  \" fill=\"#009af9\" fill-rule=\"evenodd\" fill-opacity=\"1\"/>\n",
       "<polyline clip-path=\"url(#clip0402)\" style=\"stroke:#000000; stroke-width:4; stroke-opacity:1; fill:none\" points=\"\n",
       "  286.469,87.9763 286.469,1445.72 394.581,1445.72 394.581,87.9763 286.469,87.9763 \n",
       "  \"/>\n",
       "<path clip-path=\"url(#clip0402)\" d=\"\n",
       "M394.581 597.565 L394.581 1445.72 L502.694 1445.72 L502.694 597.565 L394.581 597.565 L394.581 597.565  Z\n",
       "  \" fill=\"#009af9\" fill-rule=\"evenodd\" fill-opacity=\"1\"/>\n",
       "<polyline clip-path=\"url(#clip0402)\" style=\"stroke:#000000; stroke-width:4; stroke-opacity:1; fill:none\" points=\"\n",
       "  394.581,597.565 394.581,1445.72 502.694,1445.72 502.694,597.565 394.581,597.565 \n",
       "  \"/>\n",
       "<path clip-path=\"url(#clip0402)\" d=\"\n",
       "M502.694 974.521 L502.694 1445.72 L610.806 1445.72 L610.806 974.521 L502.694 974.521 L502.694 974.521  Z\n",
       "  \" fill=\"#009af9\" fill-rule=\"evenodd\" fill-opacity=\"1\"/>\n",
       "<polyline clip-path=\"url(#clip0402)\" style=\"stroke:#000000; stroke-width:4; stroke-opacity:1; fill:none\" points=\"\n",
       "  502.694,974.521 502.694,1445.72 610.806,1445.72 610.806,974.521 502.694,974.521 \n",
       "  \"/>\n",
       "<path clip-path=\"url(#clip0402)\" d=\"\n",
       "M610.806 1110.64 L610.806 1445.72 L718.918 1445.72 L718.918 1110.64 L610.806 1110.64 L610.806 1110.64  Z\n",
       "  \" fill=\"#009af9\" fill-rule=\"evenodd\" fill-opacity=\"1\"/>\n",
       "<polyline clip-path=\"url(#clip0402)\" style=\"stroke:#000000; stroke-width:4; stroke-opacity:1; fill:none\" points=\"\n",
       "  610.806,1110.64 610.806,1445.72 718.918,1445.72 718.918,1110.64 610.806,1110.64 \n",
       "  \"/>\n",
       "<path clip-path=\"url(#clip0402)\" d=\"\n",
       "M718.918 1253.75 L718.918 1445.72 L827.031 1445.72 L827.031 1253.75 L718.918 1253.75 L718.918 1253.75  Z\n",
       "  \" fill=\"#009af9\" fill-rule=\"evenodd\" fill-opacity=\"1\"/>\n",
       "<polyline clip-path=\"url(#clip0402)\" style=\"stroke:#000000; stroke-width:4; stroke-opacity:1; fill:none\" points=\"\n",
       "  718.918,1253.75 718.918,1445.72 827.031,1445.72 827.031,1253.75 718.918,1253.75 \n",
       "  \"/>\n",
       "<path clip-path=\"url(#clip0402)\" d=\"\n",
       "M827.031 1316.57 L827.031 1445.72 L935.143 1445.72 L935.143 1316.57 L827.031 1316.57 L827.031 1316.57  Z\n",
       "  \" fill=\"#009af9\" fill-rule=\"evenodd\" fill-opacity=\"1\"/>\n",
       "<polyline clip-path=\"url(#clip0402)\" style=\"stroke:#000000; stroke-width:4; stroke-opacity:1; fill:none\" points=\"\n",
       "  827.031,1316.57 827.031,1445.72 935.143,1445.72 935.143,1316.57 827.031,1316.57 \n",
       "  \"/>\n",
       "<path clip-path=\"url(#clip0402)\" d=\"\n",
       "M935.143 1379.4 L935.143 1445.72 L1043.26 1445.72 L1043.26 1379.4 L935.143 1379.4 L935.143 1379.4  Z\n",
       "  \" fill=\"#009af9\" fill-rule=\"evenodd\" fill-opacity=\"1\"/>\n",
       "<polyline clip-path=\"url(#clip0402)\" style=\"stroke:#000000; stroke-width:4; stroke-opacity:1; fill:none\" points=\"\n",
       "  935.143,1379.4 935.143,1445.72 1043.26,1445.72 1043.26,1379.4 935.143,1379.4 \n",
       "  \"/>\n",
       "<path clip-path=\"url(#clip0402)\" d=\"\n",
       "M1043.26 1403.83 L1043.26 1445.72 L1151.37 1445.72 L1151.37 1403.83 L1043.26 1403.83 L1043.26 1403.83  Z\n",
       "  \" fill=\"#009af9\" fill-rule=\"evenodd\" fill-opacity=\"1\"/>\n",
       "<polyline clip-path=\"url(#clip0402)\" style=\"stroke:#000000; stroke-width:4; stroke-opacity:1; fill:none\" points=\"\n",
       "  1043.26,1403.83 1043.26,1445.72 1151.37,1445.72 1151.37,1403.83 1043.26,1403.83 \n",
       "  \"/>\n",
       "<path clip-path=\"url(#clip0402)\" d=\"\n",
       "M1151.37 1428.26 L1151.37 1445.72 L1259.48 1445.72 L1259.48 1428.26 L1151.37 1428.26 L1151.37 1428.26  Z\n",
       "  \" fill=\"#009af9\" fill-rule=\"evenodd\" fill-opacity=\"1\"/>\n",
       "<polyline clip-path=\"url(#clip0402)\" style=\"stroke:#000000; stroke-width:4; stroke-opacity:1; fill:none\" points=\"\n",
       "  1151.37,1428.26 1151.37,1445.72 1259.48,1445.72 1259.48,1428.26 1151.37,1428.26 \n",
       "  \"/>\n",
       "<path clip-path=\"url(#clip0402)\" d=\"\n",
       "M1259.48 1435.24 L1259.48 1445.72 L1367.59 1445.72 L1367.59 1435.24 L1259.48 1435.24 L1259.48 1435.24  Z\n",
       "  \" fill=\"#009af9\" fill-rule=\"evenodd\" fill-opacity=\"1\"/>\n",
       "<polyline clip-path=\"url(#clip0402)\" style=\"stroke:#000000; stroke-width:4; stroke-opacity:1; fill:none\" points=\"\n",
       "  1259.48,1435.24 1259.48,1445.72 1367.59,1445.72 1367.59,1435.24 1259.48,1435.24 \n",
       "  \"/>\n",
       "<path clip-path=\"url(#clip0402)\" d=\"\n",
       "M1367.59 1445.72 L1367.59 1445.72 L1475.71 1445.72 L1475.71 1445.72 L1367.59 1445.72 L1367.59 1445.72  Z\n",
       "  \" fill=\"#009af9\" fill-rule=\"evenodd\" fill-opacity=\"1\"/>\n",
       "<polyline clip-path=\"url(#clip0402)\" style=\"stroke:#000000; stroke-width:4; stroke-opacity:1; fill:none\" points=\"\n",
       "  1367.59,1445.72 1367.59,1445.72 1475.71,1445.72 1367.59,1445.72 \n",
       "  \"/>\n",
       "<path clip-path=\"url(#clip0402)\" d=\"\n",
       "M1475.71 1435.24 L1475.71 1445.72 L1583.82 1445.72 L1583.82 1435.24 L1475.71 1435.24 L1475.71 1435.24  Z\n",
       "  \" fill=\"#009af9\" fill-rule=\"evenodd\" fill-opacity=\"1\"/>\n",
       "<polyline clip-path=\"url(#clip0402)\" style=\"stroke:#000000; stroke-width:4; stroke-opacity:1; fill:none\" points=\"\n",
       "  1475.71,1435.24 1475.71,1445.72 1583.82,1445.72 1583.82,1435.24 1475.71,1435.24 \n",
       "  \"/>\n",
       "<path clip-path=\"url(#clip0402)\" d=\"\n",
       "M1583.82 1442.23 L1583.82 1445.72 L1691.93 1445.72 L1691.93 1442.23 L1583.82 1442.23 L1583.82 1442.23  Z\n",
       "  \" fill=\"#009af9\" fill-rule=\"evenodd\" fill-opacity=\"1\"/>\n",
       "<polyline clip-path=\"url(#clip0402)\" style=\"stroke:#000000; stroke-width:4; stroke-opacity:1; fill:none\" points=\"\n",
       "  1583.82,1442.23 1583.82,1445.72 1691.93,1445.72 1691.93,1442.23 1583.82,1442.23 \n",
       "  \"/>\n",
       "<path clip-path=\"url(#clip0402)\" d=\"\n",
       "M1691.93 1445.72 L1691.93 1445.72 L1800.04 1445.72 L1800.04 1445.72 L1691.93 1445.72 L1691.93 1445.72  Z\n",
       "  \" fill=\"#009af9\" fill-rule=\"evenodd\" fill-opacity=\"1\"/>\n",
       "<polyline clip-path=\"url(#clip0402)\" style=\"stroke:#000000; stroke-width:4; stroke-opacity:1; fill:none\" points=\"\n",
       "  1691.93,1445.72 1691.93,1445.72 1800.04,1445.72 1691.93,1445.72 \n",
       "  \"/>\n",
       "<path clip-path=\"url(#clip0402)\" d=\"\n",
       "M1800.04 1442.23 L1800.04 1445.72 L1908.15 1445.72 L1908.15 1442.23 L1800.04 1442.23 L1800.04 1442.23  Z\n",
       "  \" fill=\"#009af9\" fill-rule=\"evenodd\" fill-opacity=\"1\"/>\n",
       "<polyline clip-path=\"url(#clip0402)\" style=\"stroke:#000000; stroke-width:4; stroke-opacity:1; fill:none\" points=\"\n",
       "  1800.04,1442.23 1800.04,1445.72 1908.15,1445.72 1908.15,1442.23 1800.04,1442.23 \n",
       "  \"/>\n",
       "<path clip-path=\"url(#clip0402)\" d=\"\n",
       "M1908.15 1445.72 L1908.15 1445.72 L2016.27 1445.72 L2016.27 1445.72 L1908.15 1445.72 L1908.15 1445.72  Z\n",
       "  \" fill=\"#009af9\" fill-rule=\"evenodd\" fill-opacity=\"1\"/>\n",
       "<polyline clip-path=\"url(#clip0402)\" style=\"stroke:#000000; stroke-width:4; stroke-opacity:1; fill:none\" points=\"\n",
       "  1908.15,1445.72 1908.15,1445.72 2016.27,1445.72 1908.15,1445.72 \n",
       "  \"/>\n",
       "<path clip-path=\"url(#clip0402)\" d=\"\n",
       "M2016.27 1445.72 L2016.27 1445.72 L2124.38 1445.72 L2124.38 1445.72 L2016.27 1445.72 L2016.27 1445.72  Z\n",
       "  \" fill=\"#009af9\" fill-rule=\"evenodd\" fill-opacity=\"1\"/>\n",
       "<polyline clip-path=\"url(#clip0402)\" style=\"stroke:#000000; stroke-width:4; stroke-opacity:1; fill:none\" points=\"\n",
       "  2016.27,1445.72 2016.27,1445.72 2124.38,1445.72 2016.27,1445.72 \n",
       "  \"/>\n",
       "<path clip-path=\"url(#clip0402)\" d=\"\n",
       "M2124.38 1442.23 L2124.38 1445.72 L2232.49 1445.72 L2232.49 1442.23 L2124.38 1442.23 L2124.38 1442.23  Z\n",
       "  \" fill=\"#009af9\" fill-rule=\"evenodd\" fill-opacity=\"1\"/>\n",
       "<polyline clip-path=\"url(#clip0402)\" style=\"stroke:#000000; stroke-width:4; stroke-opacity:1; fill:none\" points=\"\n",
       "  2124.38,1442.23 2124.38,1445.72 2232.49,1445.72 2232.49,1442.23 2124.38,1442.23 \n",
       "  \"/>\n",
       "<path clip-path=\"url(#clip0400)\" d=\"\n",
       "M1989.74 251.724 L2280.76 251.724 L2280.76 130.764 L1989.74 130.764  Z\n",
       "  \" fill=\"#ffffff\" fill-rule=\"evenodd\" fill-opacity=\"1\"/>\n",
       "<polyline clip-path=\"url(#clip0400)\" style=\"stroke:#000000; stroke-width:4; stroke-opacity:1; fill:none\" points=\"\n",
       "  1989.74,251.724 2280.76,251.724 2280.76,130.764 1989.74,130.764 1989.74,251.724 \n",
       "  \"/>\n",
       "<path clip-path=\"url(#clip0400)\" d=\"\n",
       "M2013.74 215.436 L2157.74 215.436 L2157.74 167.052 L2013.74 167.052 L2013.74 215.436  Z\n",
       "  \" fill=\"#009af9\" fill-rule=\"evenodd\" fill-opacity=\"1\"/>\n",
       "<polyline clip-path=\"url(#clip0400)\" style=\"stroke:#000000; stroke-width:4; stroke-opacity:1; fill:none\" points=\"\n",
       "  2013.74,215.436 2157.74,215.436 2157.74,167.052 2013.74,167.052 2013.74,215.436 \n",
       "  \"/>\n",
       "<path clip-path=\"url(#clip0400)\" d=\"M 0 0 M2195.58 210.931 Q2193.77 215.561 2192.06 216.973 Q2190.35 218.385 2187.48 218.385 L2184.08 218.385 L2184.08 214.82 L2186.58 214.82 Q2188.33 214.82 2189.31 213.987 Q2190.28 213.154 2191.46 210.052 L2192.22 208.107 L2181.74 182.598 L2186.25 182.598 L2194.35 202.876 L2202.46 182.598 L2206.97 182.598 L2195.58 210.931 Z\" fill=\"#000000\" fill-rule=\"evenodd\" fill-opacity=\"1\" /><path clip-path=\"url(#clip0400)\" d=\"M 0 0 M2212.85 204.589 L2220.49 204.589 L2220.49 178.223 L2212.18 179.89 L2212.18 175.631 L2220.44 173.964 L2225.12 173.964 L2225.12 204.589 L2232.76 204.589 L2232.76 208.524 L2212.85 208.524 L2212.85 204.589 Z\" fill=\"#000000\" fill-rule=\"evenodd\" fill-opacity=\"1\" /></svg>\n"
      ]
     },
     "execution_count": 162,
     "metadata": {},
     "output_type": "execute_result"
    }
   ],
   "source": [
    "using Random\n",
    "histogram(randexp(1000))"
   ]
  },
  {
   "cell_type": "markdown",
   "metadata": {},
   "source": [
    "**給定rng**"
   ]
  },
  {
   "cell_type": "code",
   "execution_count": 163,
   "metadata": {},
   "outputs": [
    {
     "data": {
      "text/plain": [
       "10-element Array{Int64,1}:\n",
       " 65\n",
       " 83\n",
       " 26\n",
       " 54\n",
       " 17\n",
       "  1\n",
       " 20\n",
       " 96\n",
       " 25\n",
       " 24"
      ]
     },
     "execution_count": 163,
     "metadata": {},
     "output_type": "execute_result"
    }
   ],
   "source": [
    "# rand([rng=GLOBAL_RNG], [S], [dims...])\n",
    "rand(MersenneTwister(0), 1:100, 10)"
   ]
  },
  {
   "cell_type": "code",
   "execution_count": 164,
   "metadata": {},
   "outputs": [
    {
     "data": {
      "text/plain": [
       "10-element Array{Int64,1}:\n",
       " 65\n",
       " 83\n",
       " 26\n",
       " 54\n",
       " 17\n",
       "  1\n",
       " 20\n",
       " 96\n",
       " 25\n",
       " 24"
      ]
     },
     "execution_count": 164,
     "metadata": {},
     "output_type": "execute_result"
    }
   ],
   "source": [
    "# rand([rng=GLOBAL_RNG], [S], [dims...])\n",
    "rand(MersenneTwister(0), 1:100, 10)"
   ]
  },
  {
   "cell_type": "markdown",
   "metadata": {},
   "source": [
    "# References:\n",
    "- Marathon example notebook\n",
    "- [Integers and Floating-Point Numbers](https://docs.julialang.org/en/v1/manual/integers-and-floating-point-numbers/)\n",
    "- [Mathematical Operations and Elementary Functions](https://docs.julialang.org/en/v1/manual/mathematical-operations/#Mathematical-Operations-and-Elementary-Functions-1)\n",
    "- [Complex and Rational Numbers](https://docs.julialang.org/en/v1/manual/complex-and-rational-numbers/)\n",
    "- [Conversion and Promotion](https://docs.julialang.org/en/v1/manual/conversion-and-promotion/#conversion-and-promotion-1)\n",
    "- [Machine epsilon](https://en.wikipedia.org/wiki/Machine_epsilon)\n",
    "- [Convenient function that shows the type hierarchy](https://github.com/JuliaLang/julia/issues/24741)\n",
    "- [Special types: Core.Any](https://docs.julialang.org/en/v1/base/base/#Core.Any)\n"
   ]
  }
 ],
 "metadata": {
  "kernelspec": {
   "display_name": "Julia 1.4.0",
   "language": "julia",
   "name": "julia-1.4"
  },
  "language_info": {
   "file_extension": ".jl",
   "mimetype": "application/julia",
   "name": "julia",
   "version": "1.4.0"
  }
 },
 "nbformat": 4,
 "nbformat_minor": 4
}
