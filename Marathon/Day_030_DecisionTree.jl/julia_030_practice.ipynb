{
 "cells": [
  {
   "cell_type": "markdown",
   "metadata": {},
   "source": [
    "# Julia 機器學習：DecisionTree 決策樹"
   ]
  },
  {
   "cell_type": "markdown",
   "metadata": {},
   "source": [
    "本範例需要使用到的套件有 DecisionTree、ScikitLearn，請在執行以下範例前先安裝。\n",
    "\n",
    "```\n",
    "] add DecisionTree\n",
    "] add ScikitLearn\n",
    "```"
   ]
  },
  {
   "cell_type": "code",
   "execution_count": 2,
   "metadata": {},
   "outputs": [
    {
     "name": "stderr",
     "output_type": "stream",
     "text": [
      "\u001b[32m\u001b[1m  Resolving\u001b[22m\u001b[39m package versions...\n",
      "\u001b[32m\u001b[1m  Installed\u001b[22m\u001b[39m OpenBLAS_jll ──────── v0.3.9+4\n",
      "\u001b[32m\u001b[1m  Installed\u001b[22m\u001b[39m ProgressMeter ─────── v1.2.0\n",
      "\u001b[32m\u001b[1m  Installed\u001b[22m\u001b[39m ArrayLayouts ──────── v0.2.6\n",
      "\u001b[32m\u001b[1m  Installed\u001b[22m\u001b[39m ElasticArrays ─────── v1.1.0\n",
      "\u001b[32m\u001b[1m  Installed\u001b[22m\u001b[39m JLD2 ──────────────── v0.1.13\n",
      "\u001b[32m\u001b[1m  Installed\u001b[22m\u001b[39m DecisionTree ──────── v0.10.1\n",
      "\u001b[32m\u001b[1m  Installed\u001b[22m\u001b[39m Documenter ────────── v0.24.11\n",
      "\u001b[32m\u001b[1m  Installed\u001b[22m\u001b[39m ScikitLearn ───────── v0.5.1\n",
      "\u001b[32m\u001b[1m  Installed\u001b[22m\u001b[39m ZygoteRules ───────── v0.2.0\n",
      "\u001b[32m\u001b[1m  Installed\u001b[22m\u001b[39m PyPlot ────────────── v2.9.0\n",
      "\u001b[32m\u001b[1m  Installed\u001b[22m\u001b[39m NBInclude ─────────── v2.2.0\n",
      "\u001b[32m\u001b[1m  Installed\u001b[22m\u001b[39m ElasticPDMats ─────── v0.2.1\n",
      "\u001b[32m\u001b[1m  Installed\u001b[22m\u001b[39m IRTools ───────────── v0.3.2\n",
      "\u001b[32m\u001b[1m  Installed\u001b[22m\u001b[39m LaTeXStrings ──────── v1.1.0\n",
      "\u001b[32m\u001b[1m  Installed\u001b[22m\u001b[39m GaussianMixtures ──── v0.3.1\n",
      "\u001b[32m\u001b[1m  Installed\u001b[22m\u001b[39m FastGaussQuadrature ─ v0.4.2\n",
      "\u001b[32m\u001b[1m  Installed\u001b[22m\u001b[39m NNlib ─────────────── v0.6.6\n",
      "\u001b[32m\u001b[1m  Installed\u001b[22m\u001b[39m Zygote ────────────── v0.4.20\n",
      "\u001b[32m\u001b[1m  Installed\u001b[22m\u001b[39m GaussianProcesses ─── v0.12.0\n",
      "\u001b[32m\u001b[1m   Updating\u001b[22m\u001b[39m `C:\\Users\\kai\\.julia\\environments\\v1.4\\Project.toml`\n",
      " \u001b[90m [7806a523]\u001b[39m\u001b[92m + DecisionTree v0.10.1\u001b[39m\n",
      " \u001b[90m [3646fa90]\u001b[39m\u001b[92m + ScikitLearn v0.5.1\u001b[39m\n",
      "\u001b[32m\u001b[1m   Updating\u001b[22m\u001b[39m `C:\\Users\\kai\\.julia\\environments\\v1.4\\Manifest.toml`\n",
      " \u001b[90m [4c555306]\u001b[39m\u001b[92m + ArrayLayouts v0.2.6\u001b[39m\n",
      " \u001b[90m [7806a523]\u001b[39m\u001b[92m + DecisionTree v0.10.1\u001b[39m\n",
      " \u001b[90m [e30172f5]\u001b[39m\u001b[92m + Documenter v0.24.11\u001b[39m\n",
      " \u001b[90m [fdbdab4c]\u001b[39m\u001b[92m + ElasticArrays v1.1.0\u001b[39m\n",
      " \u001b[90m [2904ab23]\u001b[39m\u001b[92m + ElasticPDMats v0.2.1\u001b[39m\n",
      " \u001b[90m [442a2c76]\u001b[39m\u001b[92m + FastGaussQuadrature v0.4.2\u001b[39m\n",
      " \u001b[90m [cc18c42c]\u001b[39m\u001b[92m + GaussianMixtures v0.3.1\u001b[39m\n",
      " \u001b[90m [891a1506]\u001b[39m\u001b[92m + GaussianProcesses v0.12.0\u001b[39m\n",
      " \u001b[90m [7869d1d1]\u001b[39m\u001b[92m + IRTools v0.3.2\u001b[39m\n",
      " \u001b[90m [033835bb]\u001b[39m\u001b[92m + JLD2 v0.1.13\u001b[39m\n",
      " \u001b[90m [b964fa9f]\u001b[39m\u001b[92m + LaTeXStrings v1.1.0\u001b[39m\n",
      " \u001b[90m [0db19996]\u001b[39m\u001b[92m + NBInclude v2.2.0\u001b[39m\n",
      " \u001b[90m [872c559c]\u001b[39m\u001b[92m + NNlib v0.6.6\u001b[39m\n",
      " \u001b[90m [4536629a]\u001b[39m\u001b[93m ↑ OpenBLAS_jll v0.3.9+3 ⇒ v0.3.9+4\u001b[39m\n",
      " \u001b[90m [92933f4c]\u001b[39m\u001b[92m + ProgressMeter v1.2.0\u001b[39m\n",
      " \u001b[90m [d330b81b]\u001b[39m\u001b[92m + PyPlot v2.9.0\u001b[39m\n",
      " \u001b[90m [3646fa90]\u001b[39m\u001b[92m + ScikitLearn v0.5.1\u001b[39m\n",
      " \u001b[90m [e88e6eb3]\u001b[39m\u001b[92m + Zygote v0.4.20\u001b[39m\n",
      " \u001b[90m [700de1a5]\u001b[39m\u001b[92m + ZygoteRules v0.2.0\u001b[39m\n",
      "\u001b[32m\u001b[1m   Building\u001b[22m\u001b[39m NNlib → `C:\\Users\\kai\\.julia\\packages\\NNlib\\FAI3o\\deps\\build.log`\n"
     ]
    }
   ],
   "source": [
    "import Pkg\n",
    "Pkg.add([\"DecisionTree\", \"ScikitLearn\"])"
   ]
  },
  {
   "cell_type": "code",
   "execution_count": 3,
   "metadata": {},
   "outputs": [
    {
     "name": "stderr",
     "output_type": "stream",
     "text": [
      "┌ Info: Precompiling DecisionTree [7806a523-6efd-50cb-b5f6-3fa6f1930dbb]\n",
      "└ @ Base loading.jl:1260\n",
      "┌ Info: Precompiling ScikitLearn [3646fa90-6ef7-5e7e-9f22-8aca16db6324]\n",
      "└ @ Base loading.jl:1260\n"
     ]
    }
   ],
   "source": [
    "using DecisionTree\n",
    "using ScikitLearn.CrossValidation: cross_val_score"
   ]
  },
  {
   "cell_type": "markdown",
   "metadata": {},
   "source": [
    "## ScikitLearn.jl API\n",
    "DecisionTree.jl supports the ScikitLearn.jl interface and algorithms (cross-validation, hyperparameter tuning, pipelines, etc.)\n",
    "\n",
    "Available models: DecisionTreeClassifier, DecisionTreeRegressor, RandomForestClassifier, RandomForestRegressor, AdaBoostStumpClassifier. See each model's help (eg. ?DecisionTreeRegressor at the REPL) for more information"
   ]
  },
  {
   "cell_type": "markdown",
   "metadata": {},
   "source": [
    "## 載入資料"
   ]
  },
  {
   "cell_type": "code",
   "execution_count": 4,
   "metadata": {},
   "outputs": [],
   "source": [
    "features, labels = DecisionTree.load_data(\"iris\");"
   ]
  },
  {
   "cell_type": "code",
   "execution_count": 5,
   "metadata": {},
   "outputs": [
    {
     "data": {
      "text/plain": [
       "Array{Any,2}"
      ]
     },
     "execution_count": 5,
     "metadata": {},
     "output_type": "execute_result"
    }
   ],
   "source": [
    "typeof(features)"
   ]
  },
  {
   "cell_type": "code",
   "execution_count": 6,
   "metadata": {},
   "outputs": [
    {
     "data": {
      "text/plain": [
       "Array{Any,1}"
      ]
     },
     "execution_count": 6,
     "metadata": {},
     "output_type": "execute_result"
    }
   ],
   "source": [
    "typeof(labels)"
   ]
  },
  {
   "cell_type": "markdown",
   "metadata": {},
   "source": [
    "## Casting"
   ]
  },
  {
   "cell_type": "code",
   "execution_count": 7,
   "metadata": {},
   "outputs": [
    {
     "data": {
      "text/plain": [
       "150-element Array{String,1}:\n",
       " \"Iris-setosa\"\n",
       " \"Iris-setosa\"\n",
       " \"Iris-setosa\"\n",
       " \"Iris-setosa\"\n",
       " \"Iris-setosa\"\n",
       " \"Iris-setosa\"\n",
       " \"Iris-setosa\"\n",
       " \"Iris-setosa\"\n",
       " \"Iris-setosa\"\n",
       " \"Iris-setosa\"\n",
       " \"Iris-setosa\"\n",
       " \"Iris-setosa\"\n",
       " \"Iris-setosa\"\n",
       " ⋮\n",
       " \"Iris-virginica\"\n",
       " \"Iris-virginica\"\n",
       " \"Iris-virginica\"\n",
       " \"Iris-virginica\"\n",
       " \"Iris-virginica\"\n",
       " \"Iris-virginica\"\n",
       " \"Iris-virginica\"\n",
       " \"Iris-virginica\"\n",
       " \"Iris-virginica\"\n",
       " \"Iris-virginica\"\n",
       " \"Iris-virginica\"\n",
       " \"Iris-virginica\""
      ]
     },
     "execution_count": 7,
     "metadata": {},
     "output_type": "execute_result"
    }
   ],
   "source": [
    "# the data loaded are of type Array{Any}\n",
    "# cast them to concrete types for better performance\n",
    "features = float.(features)\n",
    "labels = string.(labels)"
   ]
  },
  {
   "cell_type": "markdown",
   "metadata": {},
   "source": [
    "## 決策樹模型"
   ]
  },
  {
   "cell_type": "code",
   "execution_count": 8,
   "metadata": {},
   "outputs": [
    {
     "data": {
      "text/plain": [
       "DecisionTreeClassifier\n",
       "max_depth:                2\n",
       "min_samples_leaf:         1\n",
       "min_samples_split:        2\n",
       "min_purity_increase:      0.0\n",
       "pruning_purity_threshold: 1.0\n",
       "n_subfeatures:            0\n",
       "classes:                  nothing\n",
       "root:                     nothing"
      ]
     },
     "execution_count": 8,
     "metadata": {},
     "output_type": "execute_result"
    }
   ],
   "source": [
    "# create a depth-truncated classifier\n",
    "model = DecisionTree.DecisionTreeClassifier(max_depth=2)"
   ]
  },
  {
   "cell_type": "markdown",
   "metadata": {},
   "source": [
    "可用模型:\n",
    "\n",
    "* `DecisionTreeClassifier`\n",
    "* `DecisionTreeRegressor`\n",
    "* `RandomForestClassifier`\n",
    "* `RandomForestRegressor`\n",
    "* `AdaBoostStumpClassifier`"
   ]
  },
  {
   "cell_type": "code",
   "execution_count": 9,
   "metadata": {},
   "outputs": [
    {
     "data": {
      "text/plain": [
       "DecisionTreeClassifier"
      ]
     },
     "execution_count": 9,
     "metadata": {},
     "output_type": "execute_result"
    }
   ],
   "source": [
    "typeof(model)"
   ]
  },
  {
   "cell_type": "code",
   "execution_count": 12,
   "metadata": {},
   "outputs": [
    {
     "name": "stdout",
     "output_type": "stream",
     "text": [
      "DecisionTreeClassifier\n",
      "  pruning_purity_threshold: Float64 1.0\n",
      "  max_depth: Int64 2\n",
      "  min_samples_leaf: Int64 1\n",
      "  min_samples_split: Int64 2\n",
      "  min_purity_increase: Float64 0.0\n",
      "  n_subfeatures: Int64 0\n",
      "  rng: Random._GLOBAL_RNG Random._GLOBAL_RNG()\n",
      "  root: Nothing nothing\n",
      "  classes: Nothing nothing\n"
     ]
    }
   ],
   "source": [
    "dump(model)"
   ]
  },
  {
   "cell_type": "code",
   "execution_count": 13,
   "metadata": {},
   "outputs": [
    {
     "name": "stdout",
     "output_type": "stream",
     "text": [
      "DecisionTreeClassifier <: ScikitLearnBase.BaseClassifier <: ScikitLearnBase.BaseEstimator <: Any"
     ]
    }
   ],
   "source": [
    "Base.show_supertypes(DecisionTreeClassifier)"
   ]
  },
  {
   "cell_type": "markdown",
   "metadata": {},
   "source": [
    "## 訓練"
   ]
  },
  {
   "cell_type": "code",
   "execution_count": 14,
   "metadata": {},
   "outputs": [
    {
     "data": {
      "text/plain": [
       "DecisionTreeClassifier\n",
       "max_depth:                2\n",
       "min_samples_leaf:         1\n",
       "min_samples_split:        2\n",
       "min_purity_increase:      0.0\n",
       "pruning_purity_threshold: 1.0\n",
       "n_subfeatures:            0\n",
       "classes:                  [\"Iris-setosa\", \"Iris-versicolor\", \"Iris-virginica\"]\n",
       "root:                     Decision Tree\n",
       "Leaves: 3\n",
       "Depth:  2"
      ]
     },
     "execution_count": 14,
     "metadata": {},
     "output_type": "execute_result"
    }
   ],
   "source": [
    "DecisionTree.fit!(model, features, labels)"
   ]
  },
  {
   "cell_type": "markdown",
   "metadata": {},
   "source": [
    "## 印出決策樹"
   ]
  },
  {
   "cell_type": "code",
   "execution_count": 15,
   "metadata": {},
   "outputs": [
    {
     "name": "stdout",
     "output_type": "stream",
     "text": [
      "Feature 3, Threshold 2.45\n",
      "L-> Iris-setosa : 50/50\n",
      "R-> Feature 4, Threshold 1.75\n",
      "    L-> Iris-versicolor : 49/54\n",
      "    R-> Iris-virginica : 45/46\n"
     ]
    }
   ],
   "source": [
    "# pretty print of the tree, to a depth of 5 nodes (optional)\n",
    "DecisionTree.print_tree(model, 5)"
   ]
  },
  {
   "cell_type": "markdown",
   "metadata": {},
   "source": [
    "## 預測"
   ]
  },
  {
   "cell_type": "code",
   "execution_count": 16,
   "metadata": {},
   "outputs": [
    {
     "data": {
      "text/plain": [
       "\"Iris-virginica\""
      ]
     },
     "execution_count": 16,
     "metadata": {},
     "output_type": "execute_result"
    }
   ],
   "source": [
    "# apply learned model\n",
    "new_iris = [5.9, 3.0, 5.1, 1.9]\n",
    "DecisionTree.predict(model, new_iris)"
   ]
  },
  {
   "cell_type": "code",
   "execution_count": 17,
   "metadata": {},
   "outputs": [
    {
     "data": {
      "text/plain": [
       "3-element Array{Float64,1}:\n",
       " 0.0\n",
       " 0.021739130434782608\n",
       " 0.9782608695652174"
      ]
     },
     "execution_count": 17,
     "metadata": {},
     "output_type": "execute_result"
    }
   ],
   "source": [
    "# get the probability of each label\n",
    "DecisionTree.predict_proba(model, new_iris)"
   ]
  },
  {
   "cell_type": "markdown",
   "metadata": {},
   "source": [
    "## `predict_proba` 對應的類別"
   ]
  },
  {
   "cell_type": "code",
   "execution_count": 18,
   "metadata": {},
   "outputs": [
    {
     "name": "stdout",
     "output_type": "stream",
     "text": [
      "[\"Iris-setosa\", \"Iris-versicolor\", \"Iris-virginica\"]\n"
     ]
    },
    {
     "data": {
      "text/plain": [
       "3-element Array{String,1}:\n",
       " \"Iris-setosa\"\n",
       " \"Iris-versicolor\"\n",
       " \"Iris-virginica\""
      ]
     },
     "execution_count": 18,
     "metadata": {},
     "output_type": "execute_result"
    }
   ],
   "source": [
    "# returns the ordering of the columns in predict_proba's output\n",
    "println(get_classes(model))\n",
    "DecisionTree.get_classes(model)"
   ]
  },
  {
   "cell_type": "markdown",
   "metadata": {},
   "source": [
    "### 驗證 cross validation"
   ]
  },
  {
   "cell_type": "code",
   "execution_count": 19,
   "metadata": {},
   "outputs": [
    {
     "data": {
      "text/plain": [
       "3-element Array{Float64,1}:\n",
       " 0.9607843137254902\n",
       " 0.9019607843137255\n",
       " 0.9791666666666666"
      ]
     },
     "execution_count": 19,
     "metadata": {},
     "output_type": "execute_result"
    }
   ],
   "source": [
    "# run n-fold cross validation over 3 CV folds\n",
    "# See ScikitLearn.jl for installation instructions\n",
    "# using ScikitLearn.CrossValidation: cross_val_score\n",
    "accuracy = cross_val_score(model, features, labels, cv=3)"
   ]
  },
  {
   "cell_type": "markdown",
   "metadata": {},
   "source": [
    "## 隨機森林模型"
   ]
  },
  {
   "cell_type": "code",
   "execution_count": 20,
   "metadata": {},
   "outputs": [
    {
     "data": {
      "text/plain": [
       "RandomForestClassifier\n",
       "n_trees:             50\n",
       "n_subfeatures:       -1\n",
       "partial_sampling:    0.7\n",
       "max_depth:           2\n",
       "min_samples_leaf:    1\n",
       "min_samples_split:   2\n",
       "min_purity_increase: 0.0\n",
       "classes:             nothing\n",
       "ensemble:            nothing"
      ]
     },
     "execution_count": 20,
     "metadata": {},
     "output_type": "execute_result"
    }
   ],
   "source": [
    "model = DecisionTree.RandomForestClassifier(n_trees=50, max_depth=2)"
   ]
  },
  {
   "cell_type": "markdown",
   "metadata": {},
   "source": [
    "## 訓練"
   ]
  },
  {
   "cell_type": "code",
   "execution_count": 21,
   "metadata": {},
   "outputs": [
    {
     "data": {
      "text/plain": [
       "RandomForestClassifier\n",
       "n_trees:             50\n",
       "n_subfeatures:       -1\n",
       "partial_sampling:    0.7\n",
       "max_depth:           2\n",
       "min_samples_leaf:    1\n",
       "min_samples_split:   2\n",
       "min_purity_increase: 0.0\n",
       "classes:             [\"Iris-setosa\", \"Iris-versicolor\", \"Iris-virginica\"]\n",
       "ensemble:            Ensemble of Decision Trees\n",
       "Trees:      50\n",
       "Avg Leaves: 3.16\n",
       "Avg Depth:  2.0"
      ]
     },
     "execution_count": 21,
     "metadata": {},
     "output_type": "execute_result"
    }
   ],
   "source": [
    "DecisionTree.fit!(model, features, labels)"
   ]
  },
  {
   "cell_type": "markdown",
   "metadata": {},
   "source": [
    "## 預測"
   ]
  },
  {
   "cell_type": "code",
   "execution_count": 22,
   "metadata": {},
   "outputs": [
    {
     "data": {
      "text/plain": [
       "\"Iris-virginica\""
      ]
     },
     "execution_count": 22,
     "metadata": {},
     "output_type": "execute_result"
    }
   ],
   "source": [
    "new_iris = [5.9, 3.0, 5.1, 1.9]\n",
    "DecisionTree.predict(model, new_iris)"
   ]
  },
  {
   "cell_type": "markdown",
   "metadata": {},
   "source": [
    "## 交叉驗證"
   ]
  },
  {
   "cell_type": "code",
   "execution_count": 23,
   "metadata": {},
   "outputs": [
    {
     "data": {
      "text/plain": [
       "5-element Array{Float64,1}:\n",
       " 0.9333333333333333\n",
       " 0.9666666666666667\n",
       " 0.9\n",
       " 0.9333333333333333\n",
       " 1.0"
      ]
     },
     "execution_count": 23,
     "metadata": {},
     "output_type": "execute_result"
    }
   ],
   "source": [
    "accuracy = cross_val_score(model, features, labels, cv=5)"
   ]
  },
  {
   "cell_type": "markdown",
   "metadata": {},
   "source": [
    "## Native API"
   ]
  },
  {
   "cell_type": "markdown",
   "metadata": {},
   "source": [
    "### Classification Example\n",
    "#### Decision Tree Classifier"
   ]
  },
  {
   "cell_type": "code",
   "execution_count": 24,
   "metadata": {},
   "outputs": [
    {
     "name": "stdout",
     "output_type": "stream",
     "text": [
      "Feature 4, Threshold 0.8\n",
      "L-> Iris-setosa : 50/50\n",
      "R-> Feature 4, Threshold 1.75\n",
      "    L-> Feature 3, Threshold 4.95\n",
      "        L-> Iris-versicolor : 47/48\n",
      "        R-> Feature 4, Threshold 1.55\n",
      "            L-> Iris-virginica : 3/3\n",
      "            R-> Feature 1, Threshold 6.95\n",
      "                L-> Iris-versicolor : 2/2\n",
      "                R-> Iris-virginica : 1/1\n",
      "    R-> Feature 3, Threshold 4.85\n",
      "        L-> Feature 2, Threshold 3.1\n",
      "            L-> Iris-virginica : 2/2\n",
      "            R-> Iris-versicolor : 1/1\n",
      "        R-> Iris-virginica : 43/43\n",
      "\n",
      "Fold 1\n",
      "Classes:  [\"Iri"
     ]
    },
    {
     "data": {
      "text/plain": [
       "3×3 Array{Int64,2}:\n",
       " 17   0   0\n",
       "  0  18   0\n",
       "  0   0  15"
      ]
     },
     "metadata": {},
     "output_type": "display_data"
    },
    {
     "name": "stdout",
     "output_type": "stream",
     "text": [
      "s-setosa\", \"Iris-versicolor\", \"Iris-virginica\"]"
     ]
    },
    {
     "data": {
      "text/plain": [
       "3×3 Array{Int64,2}:\n",
       " 13   0   0\n",
       "  0  17   0\n",
       "  0   0  20"
      ]
     },
     "metadata": {},
     "output_type": "display_data"
    },
    {
     "data": {
      "text/plain": [
       "3×3 Array{Int64,2}:\n",
       " 20   0   0\n",
       "  0  15   0\n",
       "  0   0  15"
      ]
     },
     "metadata": {},
     "output_type": "display_data"
    },
    {
     "name": "stdout",
     "output_type": "stream",
     "text": [
      "\n",
      "Matrix:   \n",
      "Accuracy: 1.0\n",
      "Kappa:    1.0\n",
      "\n",
      "Fold 2\n",
      "Classes:  [\"Iris-setosa\", \"Iris-versicolor\", \"Iris-virginica\"]\n",
      "Matrix:   \n",
      "Accuracy: 1.0\n",
      "Kappa:    1.0\n",
      "\n",
      "Fold 3\n",
      "Classes:  [\"Iris-setosa\", \"Iris-versicolor\", \"Iris-virginica\"]\n",
      "Matrix:   \n",
      "Accuracy: 1.0\n",
      "Kappa:    1.0\n",
      "\n",
      "Mean Accuracy: 1.0\n"
     ]
    },
    {
     "data": {
      "text/plain": [
       "3-element Array{Float64,1}:\n",
       " 1.0\n",
       " 1.0\n",
       " 1.0"
      ]
     },
     "execution_count": 24,
     "metadata": {},
     "output_type": "execute_result"
    }
   ],
   "source": [
    "# train full-tree classifier\n",
    "model = build_tree(labels, features)\n",
    "\n",
    "# prune tree: merge leaves having >= 90% combined purity (default: 100%)\n",
    "model = prune_tree(model, 0.9)\n",
    "\n",
    "# pretty print of the tree, to a depth of 5 nodes (optional)\n",
    "print_tree(model, 5)\n",
    "\n",
    "# apply learned model\n",
    "apply_tree(model, [5.9,3.0,5.1,1.9])\n",
    "\n",
    "# get the probability of each label\n",
    "apply_tree_proba(model, [5.9,3.0,5.1,1.9], [\"Iris-setosa\", \"Iris-versicolor\", \"Iris-virginica\"])\n",
    "\n",
    "# run 3-fold cross validation of pruned tree,\n",
    "n_folds=3\n",
    "accuracy = nfoldCV_tree(labels, features, n_folds)"
   ]
  },
  {
   "cell_type": "code",
   "execution_count": 25,
   "metadata": {},
   "outputs": [
    {
     "data": {
      "text/plain": [
       "3×3 Array{Int64,2}:\n",
       " 11   0   0\n",
       "  0  20   0\n",
       "  0   0  19"
      ]
     },
     "metadata": {},
     "output_type": "display_data"
    },
    {
     "data": {
      "text/plain": [
       "3×3 Array{Int64,2}:\n",
       " 13   0   0\n",
       "  0  17   0\n",
       "  0   0  20"
      ]
     },
     "metadata": {},
     "output_type": "display_data"
    },
    {
     "data": {
      "text/plain": [
       "3×3 Array{Int64,2}:\n",
       " 26   0   0\n",
       "  0  13   0\n",
       "  0   0  11"
      ]
     },
     "metadata": {},
     "output_type": "display_data"
    },
    {
     "name": "stdout",
     "output_type": "stream",
     "text": [
      "\n",
      "Fold 1\n",
      "Classes:  [\"Iris-setosa\", \"Iris-versicolor\", \"Iris-virginica\"]\n",
      "Matrix:   \n",
      "Accuracy: 1.0\n",
      "Kappa:    1.0\n",
      "\n",
      "Fold 2\n",
      "Classes:  [\"Iris-setosa\", \"Iris-versicolor\", \"Iris-virginica\"]\n",
      "Matrix:   \n",
      "Accuracy: 1.0\n",
      "Kappa:    1.0\n",
      "\n",
      "Fold 3\n",
      "Classes:  [\"Iris-setosa\", \"Iris-versicolor\", \"Iris-virginica\"]\n",
      "Matrix:   \n",
      "Accuracy: 1.0\n",
      "Kappa:    1.0\n",
      "\n",
      "Mean Accuracy: 1.0\n"
     ]
    },
    {
     "data": {
      "text/plain": [
       "3-element Array{Float64,1}:\n",
       " 1.0\n",
       " 1.0\n",
       " 1.0"
      ]
     },
     "execution_count": 25,
     "metadata": {},
     "output_type": "execute_result"
    }
   ],
   "source": [
    "# set of classification parameters and respective default values\n",
    "# pruning_purity: purity threshold used for post-pruning (default: 1.0, no pruning)\n",
    "# max_depth: maximum depth of the decision tree (default: -1, no maximum)\n",
    "# min_samples_leaf: the minimum number of samples each leaf needs to have (default: 1)\n",
    "# min_samples_split: the minimum number of samples in needed for a split (default: 2)\n",
    "# min_purity_increase: minimum purity needed for a split (default: 0.0)\n",
    "# n_subfeatures: number of features to select at random (default: 0, keep all)\n",
    "n_subfeatures = 0;\n",
    "max_depth = -1;\n",
    "min_samples_leaf = 1;\n",
    "min_samples_split = 2;\n",
    "min_purity_increase = 0.0;\n",
    "pruning_purity = 1.0\n",
    "\n",
    "model    =   build_tree(labels, features,\n",
    "                        n_subfeatures,\n",
    "                        max_depth,\n",
    "                        min_samples_leaf,\n",
    "                        min_samples_split,\n",
    "                        min_purity_increase)\n",
    "\n",
    "accuracy = nfoldCV_tree(labels, features,\n",
    "                        n_folds,\n",
    "                        pruning_purity,\n",
    "                        max_depth,\n",
    "                        min_samples_leaf,\n",
    "                        min_samples_split,\n",
    "                        min_purity_increase)"
   ]
  },
  {
   "cell_type": "markdown",
   "metadata": {},
   "source": [
    "#### Random Forest Classifier"
   ]
  },
  {
   "cell_type": "code",
   "execution_count": 26,
   "metadata": {},
   "outputs": [
    {
     "data": {
      "text/plain": [
       "3×3 Array{Int64,2}:\n",
       " 16   0   0\n",
       "  0  14   1\n",
       "  0   0  19"
      ]
     },
     "metadata": {},
     "output_type": "display_data"
    },
    {
     "data": {
      "text/plain": [
       "3×3 Array{Int64,2}:\n",
       " 18   0   0\n",
       "  0  15   0\n",
       "  0   1  16"
      ]
     },
     "metadata": {},
     "output_type": "display_data"
    },
    {
     "data": {
      "text/plain": [
       "3×3 Array{Int64,2}:\n",
       " 16   0   0\n",
       "  0  20   0\n",
       "  0   1  13"
      ]
     },
     "metadata": {},
     "output_type": "display_data"
    },
    {
     "name": "stdout",
     "output_type": "stream",
     "text": [
      "\n",
      "Fold 1\n",
      "Classes:  [\"Iris-setosa\", \"Iris-versicolor\", \"Iris-virginica\"]\n",
      "Matrix:   \n",
      "Accuracy: 0.98\n",
      "Kappa:    0.9697702539298669\n",
      "\n",
      "Fold 2\n",
      "Classes:  [\"Iris-setosa\", \"Iris-versicolor\", \"Iris-virginica\"]\n",
      "Matrix:   \n",
      "Accuracy: 0.98\n",
      "Kappa:    0.969951923076923\n",
      "\n",
      "Fold 3\n",
      "Classes:  [\"Iris-setosa\", \"Iris-versicolor\", \"Iris-virginica\"]\n",
      "Matrix:   \n",
      "Accuracy: 0.98\n",
      "Kappa:    0.9695493300852619\n",
      "\n",
      "Mean Accuracy: 0.98\n"
     ]
    },
    {
     "data": {
      "text/plain": [
       "3-element Array{Float64,1}:\n",
       " 0.98\n",
       " 0.98\n",
       " 0.98"
      ]
     },
     "execution_count": 26,
     "metadata": {},
     "output_type": "execute_result"
    }
   ],
   "source": [
    "# train random forest classifier\n",
    "# using 2 random features, 10 trees, 0.5 portion of samples per tree, and a maximum tree depth of 6\n",
    "model = build_forest(labels, features, 2, 10, 0.5, 6)\n",
    "\n",
    "# apply learned model\n",
    "apply_forest(model, [5.9,3.0,5.1,1.9])\n",
    "\n",
    "# get the probability of each label\n",
    "apply_forest_proba(model, [5.9,3.0,5.1,1.9], [\"Iris-setosa\", \"Iris-versicolor\", \"Iris-virginica\"])\n",
    "\n",
    "# run 3-fold cross validation for forests, using 2 random features per split\n",
    "n_folds=3;\n",
    "n_subfeatures=2;\n",
    "accuracy = nfoldCV_forest(labels, features, n_folds, n_subfeatures)"
   ]
  },
  {
   "cell_type": "code",
   "execution_count": 27,
   "metadata": {},
   "outputs": [
    {
     "data": {
      "text/plain": [
       "3×3 Array{Int64,2}:\n",
       " 18   0   0\n",
       "  0  15   2\n",
       "  0   0  15"
      ]
     },
     "metadata": {},
     "output_type": "display_data"
    },
    {
     "data": {
      "text/plain": [
       "3×3 Array{Int64,2}:\n",
       " 16   0   0\n",
       "  0  11   0\n",
       "  0   2  21"
      ]
     },
     "metadata": {},
     "output_type": "display_data"
    },
    {
     "data": {
      "text/plain": [
       "3×3 Array{Int64,2}:\n",
       " 16   0   0\n",
       "  0  19   3\n",
       "  0   0  12"
      ]
     },
     "metadata": {},
     "output_type": "display_data"
    },
    {
     "name": "stdout",
     "output_type": "stream",
     "text": [
      "\n",
      "Fold 1\n",
      "Classes:  [\"Iris-setosa\", \"Iris-versicolor\", \"Iris-virginica\"]\n",
      "Matrix:   \n",
      "Accuracy: 0.96\n",
      "Kappa:    0.9399759903961584\n",
      "\n",
      "Fold 2\n",
      "Classes:  [\"Iris-setosa\", \"Iris-versicolor\", \"Iris-virginica\"]\n",
      "Matrix:   \n",
      "Accuracy: 0.96\n",
      "Kappa:    0.938195302843016\n",
      "\n",
      "Fold 3\n",
      "Classes:  [\"Iris-setosa\", \"Iris-versicolor\", \"Iris-virginica\"]\n",
      "Matrix:   \n",
      "Accuracy: 0.94\n",
      "Kappa:    0.9088699878493316\n",
      "\n",
      "Mean Accuracy: 0.9533333333333333\n"
     ]
    },
    {
     "data": {
      "text/plain": [
       "3-element Array{Float64,1}:\n",
       " 0.96\n",
       " 0.96\n",
       " 0.94"
      ]
     },
     "execution_count": 27,
     "metadata": {},
     "output_type": "execute_result"
    }
   ],
   "source": [
    "# set of classification parameters and respective default values\n",
    "# n_subfeatures: number of features to consider at random per split (default: -1, sqrt(# features))\n",
    "# n_trees: number of trees to train (default: 10)\n",
    "# partial_sampling: fraction of samples to train each tree on (default: 0.7)\n",
    "# max_depth: maximum depth of the decision trees (default: no maximum)\n",
    "# min_samples_leaf: the minimum number of samples each leaf needs to have (default: 5)\n",
    "# min_samples_split: the minimum number of samples in needed for a split (default: 2)\n",
    "# min_purity_increase: minimum purity needed for a split (default: 0.0)\n",
    "n_subfeatures = -1;\n",
    "n_trees = 10;\n",
    "partial_sampling = 0.7;\n",
    "max_depth = -1;\n",
    "min_samples_leaf = 5;\n",
    "min_samples_split = 2;\n",
    "min_purity_increase = 0.0;\n",
    "\n",
    "model    =   build_forest(labels, features,\n",
    "                          n_subfeatures,\n",
    "                          n_trees,\n",
    "                          partial_sampling,\n",
    "                          max_depth,\n",
    "                          min_samples_leaf,\n",
    "                          min_samples_split,\n",
    "                          min_purity_increase)\n",
    "\n",
    "accuracy = nfoldCV_forest(labels, features,\n",
    "                          n_folds,\n",
    "                          n_subfeatures,\n",
    "                          n_trees,\n",
    "                          partial_sampling,\n",
    "                          max_depth,\n",
    "                          min_samples_leaf,\n",
    "                          min_samples_split,\n",
    "                          min_purity_increase)"
   ]
  },
  {
   "cell_type": "markdown",
   "metadata": {},
   "source": [
    "#### Adaptive-Boosted Decision Stumps Classifier"
   ]
  },
  {
   "cell_type": "code",
   "execution_count": 28,
   "metadata": {},
   "outputs": [
    {
     "data": {
      "text/plain": [
       "3×3 Array{Int64,2}:\n",
       " 18   0   0\n",
       "  0  10   3\n",
       "  0   1  18"
      ]
     },
     "metadata": {},
     "output_type": "display_data"
    },
    {
     "data": {
      "text/plain": [
       "3×3 Array{Int64,2}:\n",
       " 13   0   0\n",
       "  0  22   1\n",
       "  0   2  12"
      ]
     },
     "metadata": {},
     "output_type": "display_data"
    },
    {
     "data": {
      "text/plain": [
       "3×3 Array{Int64,2}:\n",
       " 19   0   0\n",
       "  0  14   0\n",
       "  0   3  14"
      ]
     },
     "metadata": {},
     "output_type": "display_data"
    },
    {
     "name": "stdout",
     "output_type": "stream",
     "text": [
      "\n",
      "Fold 1\n",
      "Classes:  [\"Iris-setosa\", \"Iris-versicolor\", \"Iris-virginica\"]\n",
      "Matrix:   \n",
      "Accuracy: 0.92\n",
      "Kappa:    0.8776009791921667\n",
      "\n",
      "Fold 2\n",
      "Classes:  [\"Iris-setosa\", \"Iris-versicolor\", \"Iris-virginica\"]\n",
      "Matrix:   \n",
      "Accuracy: 0.94\n",
      "Kappa:    0.9060738885410143\n",
      "\n",
      "Fold 3\n",
      "Classes:  [\"Iris-setosa\", \"Iris-versicolor\", \"Iris-virginica\"]\n",
      "Matrix:   \n",
      "Accuracy: 0.94\n",
      "Kappa:    0.909801563439567\n",
      "\n",
      "Mean Accuracy: 0.9333333333333332\n"
     ]
    },
    {
     "data": {
      "text/plain": [
       "3-element Array{Float64,1}:\n",
       " 0.92\n",
       " 0.94\n",
       " 0.94"
      ]
     },
     "execution_count": 28,
     "metadata": {},
     "output_type": "execute_result"
    }
   ],
   "source": [
    "# train adaptive-boosted stumps, using 7 iterations\n",
    "model, coeffs = build_adaboost_stumps(labels, features, 7);\n",
    "\n",
    "# apply learned model\n",
    "apply_adaboost_stumps(model, coeffs, [5.9,3.0,5.1,1.9])\n",
    "\n",
    "# get the probability of each label\n",
    "apply_adaboost_stumps_proba(model, coeffs, [5.9,3.0,5.1,1.9], [\"Iris-setosa\", \"Iris-versicolor\", \"Iris-virginica\"])\n",
    "\n",
    "# run 3-fold cross validation for boosted stumps, using 7 iterations\n",
    "n_iterations=7;\n",
    "n_folds=3\n",
    "accuracy = nfoldCV_stumps(labels, features,\n",
    "                          n_folds,\n",
    "                          n_iterations)"
   ]
  },
  {
   "cell_type": "markdown",
   "metadata": {},
   "source": [
    "### Regression Example"
   ]
  },
  {
   "cell_type": "code",
   "execution_count": 29,
   "metadata": {},
   "outputs": [
    {
     "data": {
      "text/plain": [
       "1000-element Array{Float64,1}:\n",
       " -2.3940256977680154\n",
       " -4.535785063986726\n",
       " -3.971110993337532\n",
       "  0.5265605327422795\n",
       "  1.0311315746395038\n",
       "  5.600370918786503\n",
       "  2.4528376945533896\n",
       " -2.447322497472193\n",
       "  1.805591436389902\n",
       "  2.722688592534743\n",
       "  0.3388062179053337\n",
       " -9.818812566894554\n",
       " -5.089166858411414\n",
       "  ⋮\n",
       "  1.686803642122198\n",
       "  1.4950737070560025\n",
       " -1.271427251847347\n",
       "  2.8710074291145715\n",
       " -0.7968302719081265\n",
       "  0.06826435959750815\n",
       " -2.266895243073727\n",
       " -3.0240479712785917\n",
       "  4.105311969174998\n",
       " -3.5789904048676626\n",
       " -5.284592717156557\n",
       "  4.094758312294372"
      ]
     },
     "execution_count": 29,
     "metadata": {},
     "output_type": "execute_result"
    }
   ],
   "source": [
    "n, m = 10^3, 5\n",
    "features = randn(n, m)\n",
    "weights = rand(-2:2, m)\n",
    "labels = features * weights"
   ]
  },
  {
   "cell_type": "markdown",
   "metadata": {},
   "source": [
    "#### Regression Tree"
   ]
  },
  {
   "cell_type": "code",
   "execution_count": 30,
   "metadata": {},
   "outputs": [
    {
     "name": "stdout",
     "output_type": "stream",
     "text": [
      "\n",
      "Fold 1\n",
      "Mean Squared Error:     0.6441944163339781\n",
      "Correlation Coeff:      0.9699778491090388\n",
      "Coeff of Determination: 0.9404479695269051\n",
      "\n",
      "Fold 2\n",
      "Mean Squared Error:     0.7253914321857626\n",
      "Correlation Coeff:      0.9658514809419773\n",
      "Coeff of Determination: 0.9324125701676048\n",
      "\n",
      "Fold 3\n",
      "Mean Squared Error:     0.7999629568075756\n",
      "Correlation Coeff:      0.9636917041932589\n",
      "Coeff of Determination: 0.928261798446073\n",
      "\n",
      "Mean Coeff of Determination: 0.933707446046861\n"
     ]
    },
    {
     "data": {
      "text/plain": [
       "3-element Array{Float64,1}:\n",
       " 0.9404479695269051\n",
       " 0.9324125701676048\n",
       " 0.928261798446073"
      ]
     },
     "execution_count": 30,
     "metadata": {},
     "output_type": "execute_result"
    }
   ],
   "source": [
    "# train regression tree\n",
    "model = build_tree(labels, features)\n",
    "\n",
    "# apply learned model\n",
    "apply_tree(model, [-0.9,3.0,5.1,1.9,0.0])\n",
    "\n",
    "# run 3-fold cross validation, returns array of coefficients of determination (R^2)\n",
    "n_folds = 3\n",
    "r2 = nfoldCV_tree(labels, features, n_folds)"
   ]
  },
  {
   "cell_type": "code",
   "execution_count": 31,
   "metadata": {},
   "outputs": [
    {
     "name": "stdout",
     "output_type": "stream",
     "text": [
      "\n",
      "Fold 1\n",
      "Mean Squared Error:     0.7385604014875171\n",
      "Correlation Coeff:      0.9638652920570201\n",
      "Coeff of Determination: 0.9287663505443762\n",
      "\n",
      "Fold 2\n",
      "Mean Squared Error:     0.7451621629078825\n",
      "Correlation Coeff:      0.9626734042963007\n",
      "Coeff of Determination: 0.9253999239971102\n",
      "\n",
      "Fold 3\n",
      "Mean Squared Error:     0.6831476590817647\n",
      "Correlation Coeff:      0.9721502195510533\n",
      "Coeff of Determination: 0.944765437405164\n",
      "\n",
      "Mean Coeff of Determination: 0.9329772373155502\n"
     ]
    },
    {
     "data": {
      "text/plain": [
       "3-element Array{Float64,1}:\n",
       " 0.9287663505443762\n",
       " 0.9253999239971102\n",
       " 0.944765437405164"
      ]
     },
     "execution_count": 31,
     "metadata": {},
     "output_type": "execute_result"
    }
   ],
   "source": [
    "# set of regression parameters and respective default values\n",
    "# pruning_purity: purity threshold used for post-pruning (default: 1.0, no pruning)\n",
    "# max_depth: maximum depth of the decision tree (default: -1, no maximum)\n",
    "# min_samples_leaf: the minimum number of samples each leaf needs to have (default: 5)\n",
    "# min_samples_split: the minimum number of samples in needed for a split (default: 2)\n",
    "# min_purity_increase: minimum purity needed for a split (default: 0.0)\n",
    "# n_subfeatures: number of features to select at random (default: 0, keep all)\n",
    "n_subfeatures = 0;\n",
    "max_depth = -1;\n",
    "min_samples_leaf = 5;\n",
    "min_samples_split = 2;\n",
    "min_purity_increase = 0.0;\n",
    "pruning_purity = 1.0\n",
    "\n",
    "model = build_tree(labels, features,\n",
    "                   n_subfeatures,\n",
    "                   max_depth,\n",
    "                   min_samples_leaf,\n",
    "                   min_samples_split,\n",
    "                   min_purity_increase)\n",
    "\n",
    "r2 =  nfoldCV_tree(labels, features,\n",
    "                   n_folds,\n",
    "                   pruning_purity,\n",
    "                   max_depth,\n",
    "                   min_samples_leaf,\n",
    "                   min_samples_split,\n",
    "                   min_purity_increase)"
   ]
  },
  {
   "cell_type": "markdown",
   "metadata": {},
   "source": [
    "#### Regression Random Forest"
   ]
  },
  {
   "cell_type": "code",
   "execution_count": 32,
   "metadata": {},
   "outputs": [
    {
     "name": "stdout",
     "output_type": "stream",
     "text": [
      "\n",
      "Fold 1\n",
      "Mean Squared Error:     0.8059708239371419\n",
      "Correlation Coeff:      0.9736564432531492\n",
      "Coeff of Determination: 0.9297075445233678\n",
      "\n",
      "Fold 2\n",
      "Mean Squared Error:     0.711891006710938\n",
      "Correlation Coeff:      0.9739435917200108\n",
      "Coeff of Determination: 0.9305895157465476\n",
      "\n",
      "Fold 3\n",
      "Mean Squared Error:     0.8100033506368693\n",
      "Correlation Coeff:      0.9696441162160488\n",
      "Coeff of Determination: 0.9259403706933763\n",
      "\n",
      "Mean Coeff of Determination: 0.9287458103210972\n"
     ]
    },
    {
     "data": {
      "text/plain": [
       "3-element Array{Float64,1}:\n",
       " 0.9297075445233678\n",
       " 0.9305895157465476\n",
       " 0.9259403706933763"
      ]
     },
     "execution_count": 32,
     "metadata": {},
     "output_type": "execute_result"
    }
   ],
   "source": [
    "# train regression forest, using 2 random features, 10 trees,\n",
    "# averaging of 5 samples per leaf, and 0.7 portion of samples per tree\n",
    "model = build_forest(labels, features, 2, 10, 0.7, 5)\n",
    "\n",
    "# apply learned model\n",
    "apply_forest(model, [-0.9,3.0,5.1,1.9,0.0])\n",
    "\n",
    "# run 3-fold cross validation on regression forest, using 2 random features per split\n",
    "n_subfeatures=2;\n",
    "n_folds=3;\n",
    "r2 = nfoldCV_forest(labels, features, n_folds, n_subfeatures)"
   ]
  },
  {
   "cell_type": "code",
   "execution_count": 33,
   "metadata": {},
   "outputs": [
    {
     "name": "stdout",
     "output_type": "stream",
     "text": [
      "\n",
      "Fold 1\n",
      "Mean Squared Error:     0.797472585598311\n",
      "Correlation Coeff:      0.9655158673504437\n",
      "Coeff of Determination: 0.9180006428603329\n",
      "\n",
      "Fold 2\n",
      "Mean Squared Error:     0.8835021203457081\n",
      "Correlation Coeff:      0.9711007836797497\n",
      "Coeff of Determination: 0.9214695443029738\n",
      "\n",
      "Fold 3\n",
      "Mean Squared Error:     0.832325609247293\n",
      "Correlation Coeff:      0.970444581313212\n",
      "Coeff of Determination: 0.9268171831112857\n",
      "\n",
      "Mean Coeff of Determination: 0.9220957900915309\n"
     ]
    },
    {
     "data": {
      "text/plain": [
       "3-element Array{Float64,1}:\n",
       " 0.9180006428603329\n",
       " 0.9214695443029738\n",
       " 0.9268171831112857"
      ]
     },
     "execution_count": 33,
     "metadata": {},
     "output_type": "execute_result"
    }
   ],
   "source": [
    "# set of regression build_forest() parameters and respective default values\n",
    "# n_subfeatures: number of features to consider at random per split (default: -1, sqrt(# features))\n",
    "# n_trees: number of trees to train (default: 10)\n",
    "# partial_sampling: fraction of samples to train each tree on (default: 0.7)\n",
    "# max_depth: maximum depth of the decision trees (default: no maximum)\n",
    "# min_samples_leaf: the minimum number of samples each leaf needs to have (default: 5)\n",
    "# min_samples_split: the minimum number of samples in needed for a split (default: 2)\n",
    "# min_purity_increase: minimum purity needed for a split (default: 0.0)\n",
    "n_subfeatures = -1;\n",
    "n_trees = 10;\n",
    "partial_sampling = 0.7;\n",
    "max_depth=-1;\n",
    "min_samples_leaf = 5;\n",
    "min_samples_split = 2;\n",
    "min_purity_increase = 0.0;\n",
    "\n",
    "model = build_forest(labels, features,\n",
    "                     n_subfeatures,\n",
    "                     n_trees,\n",
    "                     partial_sampling,\n",
    "                     max_depth,\n",
    "                     min_samples_leaf,\n",
    "                     min_samples_split,\n",
    "                     min_purity_increase)\n",
    "\n",
    "r2 =  nfoldCV_forest(labels, features,\n",
    "                     n_folds,\n",
    "                     n_subfeatures,\n",
    "                     n_trees,\n",
    "                     partial_sampling,\n",
    "                     max_depth,\n",
    "                     min_samples_leaf,\n",
    "                     min_samples_split,\n",
    "                     min_purity_increase)"
   ]
  },
  {
   "cell_type": "markdown",
   "metadata": {},
   "source": [
    "### Saving Models\n",
    "Models can be saved to disk and loaded back with the use of the JLD2.jl package."
   ]
  },
  {
   "cell_type": "code",
   "execution_count": 36,
   "metadata": {},
   "outputs": [
    {
     "name": "stderr",
     "output_type": "stream",
     "text": [
      "\u001b[32m\u001b[1m  Resolving\u001b[22m\u001b[39m package versions...\n",
      "\u001b[32m\u001b[1m   Updating\u001b[22m\u001b[39m `C:\\Users\\kai\\.julia\\environments\\v1.4\\Project.toml`\n",
      " \u001b[90m [033835bb]\u001b[39m\u001b[92m + JLD2 v0.1.13\u001b[39m\n",
      "\u001b[32m\u001b[1m   Updating\u001b[22m\u001b[39m `C:\\Users\\kai\\.julia\\environments\\v1.4\\Manifest.toml`\n",
      "\u001b[90m [no changes]\u001b[39m\n"
     ]
    }
   ],
   "source": [
    "Pkg.add(\"JLD2\")"
   ]
  },
  {
   "cell_type": "code",
   "execution_count": 37,
   "metadata": {},
   "outputs": [
    {
     "name": "stderr",
     "output_type": "stream",
     "text": [
      "┌ Info: Precompiling JLD2 [033835bb-8acc-5ee8-8aae-3f567f8a3819]\n",
      "└ @ Base loading.jl:1260\n"
     ]
    }
   ],
   "source": [
    "using JLD2\n",
    "@save \"model_file.jld2\" model"
   ]
  },
  {
   "cell_type": "markdown",
   "metadata": {},
   "source": [
    "Note that even though features and labels of type `Array{Any}` are supported, it is highly recommended that data be cast to explicit types (ie with `float.()`, `string.()`, etc). This significantly improves model training and prediction execution times, and also drastically reduces the size of saved models."
   ]
  },
  {
   "cell_type": "code",
   "execution_count": null,
   "metadata": {},
   "outputs": [],
   "source": []
  }
 ],
 "metadata": {
  "kernelspec": {
   "display_name": "Julia 1.4.0",
   "language": "julia",
   "name": "julia-1.4"
  },
  "language_info": {
   "file_extension": ".jl",
   "mimetype": "application/julia",
   "name": "julia",
   "version": "1.4.0"
  }
 },
 "nbformat": 4,
 "nbformat_minor": 4
}
