{
 "cells": [
  {
   "cell_type": "markdown",
   "metadata": {
    "colab_type": "text",
    "id": "C53tnp-lRMY7"
   },
   "source": [
    "# Julia 日期與時間\n",
    "\n",
    "Julia 提供了不同的型別和大量的函式，讓開發和研究人員可以方便的操作日期與時間資料，今天的內容要介紹日期與時間型別及其操作。\n",
    "\n",
    "Date 與 DateTime 型別對於日期的計算遵循 ISO 8601 的日期和時間的表示方法，要留意的是依照 ISO 8601 的定義方式週的第一天為週一。\n",
    "\n",
    "## 1. 日期與時間的建立\n",
    "\n",
    "日期與時間相關的屬性與函式定義在 Dates 模組內，開始使用前先用 using 引入。\n",
    "\n",
    "最常用的型別有 Date、DateTime、Time。"
   ]
  },
  {
   "cell_type": "code",
   "execution_count": 1,
   "metadata": {
    "colab": {},
    "colab_type": "code",
    "id": "bTFnaoQqRMZG"
   },
   "outputs": [],
   "source": [
    "using Dates"
   ]
  },
  {
   "cell_type": "markdown",
   "metadata": {
    "colab_type": "text",
    "id": "r30HcCMGRMZS"
   },
   "source": [
    "`Dates.now()` 方法會回傳目前系統日期時間。"
   ]
  },
  {
   "cell_type": "code",
   "execution_count": 3,
   "metadata": {},
   "outputs": [
    {
     "data": {
      "text/plain": [
       "2020-04-18T15:31:41.419"
      ]
     },
     "execution_count": 3,
     "metadata": {},
     "output_type": "execute_result"
    }
   ],
   "source": [
    "Dates.now()"
   ]
  },
  {
   "cell_type": "code",
   "execution_count": 2,
   "metadata": {
    "colab": {},
    "colab_type": "code",
    "id": "s_8Ah5gGRMZZ",
    "outputId": "6dac3524-1735-4cbe-99f8-9fb572098b83"
   },
   "outputs": [
    {
     "data": {
      "text/plain": [
       "2020-04-18T11:09:59.114"
      ]
     },
     "execution_count": 2,
     "metadata": {},
     "output_type": "execute_result"
    }
   ],
   "source": [
    "now()"
   ]
  },
  {
   "cell_type": "code",
   "execution_count": 3,
   "metadata": {
    "colab": {},
    "colab_type": "code",
    "id": "folZ10qvRMZo",
    "outputId": "32b0c038-9eaa-496a-9f8b-ffe18547a0e6"
   },
   "outputs": [
    {
     "data": {
      "text/plain": [
       "2020-04-18"
      ]
     },
     "execution_count": 3,
     "metadata": {},
     "output_type": "execute_result"
    }
   ],
   "source": [
    "today()"
   ]
  },
  {
   "cell_type": "markdown",
   "metadata": {
    "colab_type": "text",
    "id": "I96BlLLgRMZv"
   },
   "source": [
    "使用 `Date()` 建構子建立日期，下例是透過建構子將目前系統日期時間轉換為日期。"
   ]
  },
  {
   "cell_type": "code",
   "execution_count": 4,
   "metadata": {
    "colab": {},
    "colab_type": "code",
    "id": "Q3Tx4tO6RMZy",
    "outputId": "3ad2ad3a-d66e-4b32-bc6d-c71760a100fa"
   },
   "outputs": [
    {
     "data": {
      "text/plain": [
       "2020-04-18"
      ]
     },
     "execution_count": 4,
     "metadata": {},
     "output_type": "execute_result"
    }
   ],
   "source": [
    "# 等同於呼叫 today()\n",
    "Date(now())"
   ]
  },
  {
   "cell_type": "markdown",
   "metadata": {
    "colab_type": "text",
    "id": "is9f1tBfRMZ-"
   },
   "source": [
    "使用 DateTime、Date、Time 建構子建立日期與時間，除了第一個值是必要輸入的之外，其他未輸入的值會以預設值自動帶入。\n",
    "\n",
    "**DateTime**"
   ]
  },
  {
   "cell_type": "code",
   "execution_count": 7,
   "metadata": {
    "colab": {},
    "colab_type": "code",
    "id": "b6laqSRhRMaA",
    "outputId": "919375a3-d725-46e3-e774-27cad0923c1e"
   },
   "outputs": [
    {
     "name": "stdout",
     "output_type": "stream",
     "text": [
      "2013-01-01T00:00:00\n",
      "2018-10-10T13:45:30.003\n"
     ]
    }
   ],
   "source": [
    "# DateTime(y, [m, d, h, mi, s, ms]) -> DateTime\n",
    "println(DateTime(2013))\n",
    "println(DateTime(2018, 10, 10, 13, 45, 30, 3))"
   ]
  },
  {
   "cell_type": "code",
   "execution_count": 17,
   "metadata": {},
   "outputs": [
    {
     "name": "stdout",
     "output_type": "stream",
     "text": [
      "2000-01-21T00:00:00\n",
      "2010-01-01T00:11:15\n"
     ]
    }
   ],
   "source": [
    "# DateTime(periods::Period...) -> DateTime\n",
    "println(DateTime(Year(2000), Day(21)))\n",
    "println(DateTime(Year(2010), Week(10), Minute(11), Second(15)))"
   ]
  },
  {
   "cell_type": "code",
   "execution_count": 21,
   "metadata": {},
   "outputs": [
    {
     "name": "stdout",
     "output_type": "stream",
     "text": [
      "2000-01-01T21:00:00\n",
      "2000-01-01T00:00:00\n"
     ]
    }
   ],
   "source": [
    "# DateTime(d::Date, t::Time)\n",
    "println(DateTime(Date(2000), Time(21)))\n",
    "# DateTime(dt::Date) -> DateTime\n",
    "println(DateTime(Date(2000)))"
   ]
  },
  {
   "cell_type": "code",
   "execution_count": 23,
   "metadata": {},
   "outputs": [
    {
     "name": "stdout",
     "output_type": "stream",
     "text": [
      "2010-10-20T10:00:40\n"
     ]
    },
    {
     "ename": "ArgumentError",
     "evalue": "ArgumentError: Adjustment limit reached: 5 iterations",
     "output_type": "error",
     "traceback": [
      "ArgumentError: Adjustment limit reached: 5 iterations",
      "",
      "Stacktrace:",
      " [1] adjust(::Dates.DateFunction, ::DateTime, ::Hour, ::Int64) at D:\\buildbot\\worker\\package_win64\\build\\usr\\share\\julia\\stdlib\\v1.4\\Dates\\src\\adjusters.jl:202",
      " [2] DateTime(::Function, ::Int64, ::Int64, ::Int64, ::Int64; step::Hour, limit::Int64) at D:\\buildbot\\worker\\package_win64\\build\\usr\\share\\julia\\stdlib\\v1.4\\Dates\\src\\adjusters.jl:267",
      " [3] top-level scope at In[23]:3"
     ]
    }
   ],
   "source": [
    "# DateTime(f::Function, y[, m, d, h, mi, s]; step=Day(1), limit=10000) -> DateTime\n",
    "println(DateTime(dt -> Dates.second(dt) == 40, 2010, 10, 20, 10; step = Dates.Second(1)))\n",
    "println(DateTime(dt -> Dates.hour(dt) == 20, 2010, 10, 20, 10; step = Dates.Hour(1), limit = 5))"
   ]
  },
  {
   "cell_type": "code",
   "execution_count": 38,
   "metadata": {},
   "outputs": [
    {
     "name": "stdout",
     "output_type": "stream",
     "text": [
      "2020-04-01T13:00:05"
     ]
    }
   ],
   "source": [
    "# DateTime(dt::AbstractString, format::AbstractString; locale=\"english\") -> DateTime\n",
    "print(DateTime(\"20200401-13:00:05\", \"yyyymmdd-H:M:S\"))"
   ]
  },
  {
   "cell_type": "code",
   "execution_count": 34,
   "metadata": {},
   "outputs": [
    {
     "name": "stdout",
     "output_type": "stream",
     "text": [
      "2015-01-01T00:00:00\n",
      "2015-01-01T00:00:00\n",
      "2015-01-02T00:00:00\n",
      "2015-01-03T00:00:00\n",
      "2015-01-04T00:00:00\n",
      "2015-01-05T00:00:00\n",
      "2015-01-06T00:00:00\n",
      "2015-01-07T00:00:00\n",
      "2015-01-08T00:00:00\n",
      "2015-01-09T00:00:00\n",
      "2015-01-10T00:00:00\n"
     ]
    }
   ],
   "source": [
    "# DateTime(dt::AbstractString, df::DateFormat) -> DateTime\n",
    "df = DateFormat(\"y-m-d H:M:S\");\n",
    "println(DateTime(\"2015-01-01 13:00:05\", df))\n",
    "\n",
    "# use the dateformat\"\" string macro\n",
    "for i = 1:10\n",
    "    println(DateTime(\"2015-01-$i\" , dateformat\"y-m-d H:M:S\"))\n",
    "end"
   ]
  },
  {
   "cell_type": "markdown",
   "metadata": {},
   "source": [
    "**Date**"
   ]
  },
  {
   "cell_type": "code",
   "execution_count": 39,
   "metadata": {},
   "outputs": [
    {
     "name": "stdout",
     "output_type": "stream",
     "text": [
      "1997-01-01\n",
      "1997-12-25\n"
     ]
    }
   ],
   "source": [
    "# Date(y, [m, d]) -> Date\n",
    "println(Date(1997))\n",
    "println(Date(1997, 12, 25))"
   ]
  },
  {
   "cell_type": "code",
   "execution_count": 41,
   "metadata": {},
   "outputs": [
    {
     "name": "stdout",
     "output_type": "stream",
     "text": [
      "0200-01-10\n",
      "0001-07-10\n"
     ]
    }
   ],
   "source": [
    "# Date(period::Period...) -> Date\n",
    "println(Date(Day(10), Year(200)))\n",
    "println(Date(Day(10), Month(7)))"
   ]
  },
  {
   "cell_type": "code",
   "execution_count": 42,
   "metadata": {},
   "outputs": [
    {
     "name": "stdout",
     "output_type": "stream",
     "text": [
      "2018-10-10\n",
      "2018-10-10\n"
     ]
    }
   ],
   "source": [
    "# Date(dt::DateTime) -> Date\n",
    "println(Date(DateTime(2018, 10, 10, 13, 45, 30, 3)))"
   ]
  },
  {
   "cell_type": "code",
   "execution_count": 2,
   "metadata": {},
   "outputs": [
    {
     "data": {
      "text/plain": [
       "2010-01-01"
      ]
     },
     "execution_count": 2,
     "metadata": {},
     "output_type": "execute_result"
    }
   ],
   "source": [
    "# Date(f::Function, y[, m, d]; step=Day(1), limit=10000) -> Date\n",
    "Date(date -> Dates.year(date) == 2010, 2000)"
   ]
  },
  {
   "cell_type": "code",
   "execution_count": 3,
   "metadata": {},
   "outputs": [
    {
     "name": "stdout",
     "output_type": "stream",
     "text": [
      "2020-04-01"
     ]
    }
   ],
   "source": [
    "# Date(d::AbstractString, format::AbstractString; locale=\"english\") -> Date\n",
    "print(Date(\"20200401-13:00:05\", \"yyyymmdd-H:M:S\"))"
   ]
  },
  {
   "cell_type": "code",
   "execution_count": 7,
   "metadata": {},
   "outputs": [
    {
     "name": "stdout",
     "output_type": "stream",
     "text": [
      "2015-01-01\n",
      "2015-01-01\n",
      "2015-01-02\n",
      "2015-01-03\n",
      "2015-01-04\n",
      "2015-01-05\n",
      "2015-01-06\n",
      "2015-01-07\n",
      "2015-01-08\n",
      "2015-01-09\n",
      "2015-01-10\n"
     ]
    }
   ],
   "source": [
    "# Date(dt::AbstractString, df::DateFormat) -> DateTime\n",
    "df = DateFormat(\"y-m-d H:M:S\");\n",
    "println(Date(\"2015-01-01 13:00:05\", df))\n",
    "\n",
    "# use the dateformat\"\" string macro\n",
    "for i = 1:10\n",
    "    println(Date(\"2015-01-$i\" , dateformat\"y-m-d H:M:S\"))\n",
    "end"
   ]
  },
  {
   "cell_type": "markdown",
   "metadata": {},
   "source": [
    "**Time**"
   ]
  },
  {
   "cell_type": "code",
   "execution_count": 4,
   "metadata": {},
   "outputs": [
    {
     "name": "stdout",
     "output_type": "stream",
     "text": [
      "17:00:00\n",
      "11:03:10.040037021\n"
     ]
    }
   ],
   "source": [
    "# Time(h, [mi, s, ms, us, ns]) -> Time\n",
    "println(Time(17))\n",
    "println(Time(11, 3, 10, 40, 37, 21))"
   ]
  },
  {
   "cell_type": "code",
   "execution_count": 7,
   "metadata": {},
   "outputs": [
    {
     "name": "stdout",
     "output_type": "stream",
     "text": [
      "00:03:00.014\n"
     ]
    }
   ],
   "source": [
    "# Time(period::TimePeriod...) -> Time\n",
    "println(Time(Millisecond(14), Minute(3)))"
   ]
  },
  {
   "cell_type": "code",
   "execution_count": 8,
   "metadata": {},
   "outputs": [
    {
     "name": "stdout",
     "output_type": "stream",
     "text": [
      "13:45:30.003\n"
     ]
    }
   ],
   "source": [
    "# Time(dt::DateTime) -> Time\n",
    "println(Time(DateTime(2018, 10, 10, 13, 45, 30, 3)))"
   ]
  },
  {
   "cell_type": "code",
   "execution_count": 10,
   "metadata": {},
   "outputs": [
    {
     "name": "stdout",
     "output_type": "stream",
     "text": [
      "20:30:00\n",
      "20:00:00\n"
     ]
    },
    {
     "ename": "ArgumentError",
     "evalue": "ArgumentError: Adjustment limit reached: 5 iterations",
     "output_type": "error",
     "traceback": [
      "ArgumentError: Adjustment limit reached: 5 iterations",
      "",
      "Stacktrace:",
      " [1] adjust(::Dates.DateFunction, ::Time, ::Second, ::Int64) at D:\\buildbot\\worker\\package_win64\\build\\usr\\share\\julia\\stdlib\\v1.4\\Dates\\src\\adjusters.jl:202",
      " [2] #Time#17 at D:\\buildbot\\worker\\package_win64\\build\\usr\\share\\julia\\stdlib\\v1.4\\Dates\\src\\adjusters.jl:307 [inlined]",
      " [3] top-level scope at In[10]:7"
     ]
    }
   ],
   "source": [
    "# Time(f::Function, h, mi=0; step::Period=Second(1), limit::Int=10000)\n",
    "# Time(f::Function, h, mi, s; step::Period=Millisecond(1), limit::Int=10000)\n",
    "# Time(f::Function, h, mi, s, ms; step::Period=Microsecond(1), limit::Int=10000)\n",
    "# Time(f::Function, h, mi, s, ms, us; step::Period=Nanosecond(1), limit::Int=10000)\n",
    "println(Dates.Time(t -> Dates.minute(t) == 30, 20))\n",
    "println(Dates.Time(t -> Dates.minute(t) == 0, 20))\n",
    "println(Dates.Time(t -> Dates.hour(t) == 10, 3; limit = 5))"
   ]
  },
  {
   "cell_type": "code",
   "execution_count": 11,
   "metadata": {},
   "outputs": [
    {
     "name": "stdout",
     "output_type": "stream",
     "text": [
      "13:00:05"
     ]
    }
   ],
   "source": [
    "# Time(t::AbstractString, format::AbstractString; locale=\"english\") -> Time\n",
    "print(Time(\"20200401-13:00:05\", \"yyyymmdd-H:M:S\"))"
   ]
  },
  {
   "cell_type": "code",
   "execution_count": 12,
   "metadata": {},
   "outputs": [
    {
     "name": "stdout",
     "output_type": "stream",
     "text": [
      "13:00:05\n",
      "01:21:47\n",
      "02:21:47\n",
      "03:21:47\n",
      "04:21:47\n",
      "05:21:47\n",
      "06:21:47\n",
      "07:21:47\n",
      "08:21:47\n",
      "09:21:47\n",
      "10:21:47\n"
     ]
    }
   ],
   "source": [
    "# Time(t::AbstractString, df::DateFormat) -> Time\n",
    "df = DateFormat(\"y-m-d H:M:S\");\n",
    "println(Time(\"2015-01-01 13:00:05\", df))\n",
    "\n",
    "# use the dateformat\"\" string macro\n",
    "for i = 1:10\n",
    "    println(Time(\"2015-01-21 $i:21:47\" , dateformat\"y-m-d H:M:S\"))\n",
    "end"
   ]
  },
  {
   "cell_type": "markdown",
   "metadata": {
    "colab_type": "text",
    "id": "db2o40nORMaN"
   },
   "source": [
    "除了使用建構子外，也可以使用 Period 型別指定。請留意 Period 型別為可變參數其均以大寫開頭。"
   ]
  },
  {
   "cell_type": "code",
   "execution_count": 13,
   "metadata": {
    "colab": {},
    "colab_type": "code",
    "id": "U9Ep59jlRMaP",
    "outputId": "846b1948-da7c-4875-e4ec-96b35b0e5a41"
   },
   "outputs": [
    {
     "data": {
      "text/plain": [
       "2019-10-01T00:00:00.1"
      ]
     },
     "execution_count": 13,
     "metadata": {},
     "output_type": "execute_result"
    }
   ],
   "source": [
    "DateTime(Month(10), Millisecond(100), Year(2019))"
   ]
  },
  {
   "cell_type": "markdown",
   "metadata": {
    "colab_type": "text",
    "id": "Uv-7CLbjRMaa"
   },
   "source": [
    "## 2. 從日期與時間取得各周期值\n",
    "\n",
    "透過函式或 Period 型別，可以取得各周期值。\n",
    "\n",
    "|函式或 Period|說明|\n",
    "|---|---|\n",
    "|year(), Year()|取得年，回傳值分別為 Int64 和 Period 型別。|\n",
    "|month(), Month()|取得月，回傳值分別為 Int64 和 Period 型別。|\n",
    "|week(), Week()|取得週數 (從年初起算) ，回傳值分別為 Int64 和 Period 型別。|\n",
    "|day(), Day()|取得日，回傳值分別為 Int64 和 Period 型別。|\n",
    "|yearmonth()|取得 (年, 月)，回傳值為 Tuple。|\n",
    "|monthday()|取得 (月, 日)，回傳值為 Tuple。|\n",
    "|yearmonthday()|取得 (年, 月, 日)，回傳值為 Tuple。|\n",
    "|value()|距離公元第一天的總天數|\n",
    "\n",
    "例如：呼叫 `monthday()` 取得目前的月與日，回傳值為 Tuple。"
   ]
  },
  {
   "cell_type": "code",
   "execution_count": 14,
   "metadata": {
    "colab": {},
    "colab_type": "code",
    "id": "-vIWiYKGRMad",
    "outputId": "fea60ada-0872-4eb3-82cc-986cd10757e5"
   },
   "outputs": [
    {
     "data": {
      "text/plain": [
       "(4, 18)"
      ]
     },
     "execution_count": 14,
     "metadata": {},
     "output_type": "execute_result"
    }
   ],
   "source": [
    "monthday(now())"
   ]
  },
  {
   "cell_type": "markdown",
   "metadata": {
    "colab_type": "text",
    "id": "FOFS2njFRMak"
   },
   "source": [
    "呼叫 `yearmonthday()` 回傳年、月、日的 Tuple。"
   ]
  },
  {
   "cell_type": "code",
   "execution_count": 15,
   "metadata": {
    "colab": {},
    "colab_type": "code",
    "id": "2nc3FODORMaq",
    "outputId": "599e78b4-ccc4-491c-fccb-32852053a167"
   },
   "outputs": [
    {
     "data": {
      "text/plain": [
       "(2019, 11, 11)"
      ]
     },
     "execution_count": 15,
     "metadata": {},
     "output_type": "execute_result"
    }
   ],
   "source": [
    "yearmonthday(Date(2019, 11, 11))"
   ]
  },
  {
   "cell_type": "markdown",
   "metadata": {
    "colab_type": "text",
    "id": "fx_eGhHlRMa2"
   },
   "source": [
    "透過 `Week()` 得到 2019/11/11 是第 46 週。"
   ]
  },
  {
   "cell_type": "code",
   "execution_count": 16,
   "metadata": {
    "colab": {},
    "colab_type": "code",
    "id": "NmnArVfzRMa-",
    "outputId": "1cab9ba2-7d5b-4c8e-c3db-3e6580c0cb8b"
   },
   "outputs": [
    {
     "data": {
      "text/plain": [
       "46 weeks"
      ]
     },
     "execution_count": 16,
     "metadata": {},
     "output_type": "execute_result"
    }
   ],
   "source": [
    "Week(Date(2019, 11, 11))"
   ]
  },
  {
   "cell_type": "markdown",
   "metadata": {
    "colab_type": "text",
    "id": "0neghuovRMbI"
   },
   "source": [
    "本週的第幾天是以星期日起算。 (星期日為7)\n",
    "\n",
    "dayofweek(dt::TimeType) -> Int64\n",
    "\n",
    "Return the day of the week as an Int64 with 1 = Monday, 2 = Tuesday, etc.."
   ]
  },
  {
   "cell_type": "code",
   "execution_count": 17,
   "metadata": {
    "colab": {},
    "colab_type": "code",
    "id": "7U0xlZP6RMbM",
    "outputId": "0c154daf-a224-4e97-90f7-e2bc012564fb"
   },
   "outputs": [
    {
     "data": {
      "text/plain": [
       "6"
      ]
     },
     "execution_count": 17,
     "metadata": {},
     "output_type": "execute_result"
    }
   ],
   "source": [
    "dayofweek(now())"
   ]
  },
  {
   "cell_type": "code",
   "execution_count": 20,
   "metadata": {},
   "outputs": [
    {
     "data": {
      "text/plain": [
       "7"
      ]
     },
     "execution_count": 20,
     "metadata": {},
     "output_type": "execute_result"
    }
   ],
   "source": [
    "dayofweek(Date(2020, 4, 19))"
   ]
  },
  {
   "cell_type": "code",
   "execution_count": 21,
   "metadata": {},
   "outputs": [
    {
     "data": {
      "text/plain": [
       "1"
      ]
     },
     "execution_count": 21,
     "metadata": {},
     "output_type": "execute_result"
    }
   ],
   "source": [
    "dayofweek(Date(2020, 4, 20))"
   ]
  },
  {
   "cell_type": "code",
   "execution_count": 22,
   "metadata": {
    "colab": {},
    "colab_type": "code",
    "id": "20rH04QHRMbT",
    "outputId": "81c81e6c-e9bc-40f4-c1fd-d8f3ddf4172e"
   },
   "outputs": [
    {
     "data": {
      "text/plain": [
       "63722908075358"
      ]
     },
     "execution_count": 22,
     "metadata": {},
     "output_type": "execute_result"
    }
   ],
   "source": [
    "# 距離公元第一天的總天數\n",
    "Dates.value(now())"
   ]
  },
  {
   "cell_type": "markdown",
   "metadata": {
    "colab_type": "text",
    "id": "XaiYiSHmRMbb"
   },
   "source": [
    "## 3. 轉換\n",
    "\n",
    "### 3.1 日期與時間的轉換\n",
    "\n",
    "Date、DateTime、Time 之間互相轉換有部分的限制，請參考下表及範例。\n",
    "\n",
    "|轉換|能否轉換|\t說明|\n",
    "|---|---|---|\n",
    "|DateTime 轉成 Date|\tY|\t時、分、秒會被捨去|\n",
    "|Date 轉成 DateTime|\tY|\t時、分、秒會採預設值 0|\n",
    "|DateTime 轉成 Time|\tY|\t日期會被捨去|\n",
    "|Time 轉成 DateTime|\tN||\t\n",
    "|Date 轉成 Time|\tN\t||\n",
    "|Time 轉成 Date|\tN\t||"
   ]
  },
  {
   "cell_type": "markdown",
   "metadata": {
    "colab_type": "text",
    "id": "NQC_u0PLRMbe"
   },
   "source": [
    "範例：DateTime 轉成 Date，時、分、秒會被捨去。"
   ]
  },
  {
   "cell_type": "code",
   "execution_count": 23,
   "metadata": {
    "colab": {},
    "colab_type": "code",
    "id": "1FtApM1wRMbg",
    "outputId": "423842d2-fc21-4d55-8a6e-265668aa0b01"
   },
   "outputs": [
    {
     "data": {
      "text/plain": [
       "2020-04-18"
      ]
     },
     "execution_count": 23,
     "metadata": {},
     "output_type": "execute_result"
    }
   ],
   "source": [
    "Date(DateTime(now()))"
   ]
  },
  {
   "cell_type": "markdown",
   "metadata": {
    "colab_type": "text",
    "id": "IbERsCa2RMbn"
   },
   "source": [
    "Date 轉成 DateTime，時、分、秒會採預設值 0。"
   ]
  },
  {
   "cell_type": "code",
   "execution_count": 24,
   "metadata": {
    "colab": {},
    "colab_type": "code",
    "id": "rnHag60fRMbt",
    "outputId": "0c05b534-4584-4e92-9892-ccafbeaf5a07"
   },
   "outputs": [
    {
     "data": {
      "text/plain": [
       "2020-04-18T00:00:00"
      ]
     },
     "execution_count": 24,
     "metadata": {},
     "output_type": "execute_result"
    }
   ],
   "source": [
    "DateTime(Date(now()))"
   ]
  },
  {
   "cell_type": "markdown",
   "metadata": {
    "colab_type": "text",
    "id": "LS0WxYetRMb0"
   },
   "source": [
    "範例：DateTime 轉 Time，日期會被捨去。"
   ]
  },
  {
   "cell_type": "code",
   "execution_count": 25,
   "metadata": {
    "colab": {},
    "colab_type": "code",
    "id": "5wGE4H29RMb2",
    "outputId": "88e515c5-932c-4fde-a404-6d3a72727d5b"
   },
   "outputs": [
    {
     "data": {
      "text/plain": [
       "15:48:13.661"
      ]
     },
     "execution_count": 25,
     "metadata": {},
     "output_type": "execute_result"
    }
   ],
   "source": [
    "Time(DateTime(now()))"
   ]
  },
  {
   "cell_type": "markdown",
   "metadata": {
    "colab_type": "text",
    "id": "5MtAk0QzRMb9"
   },
   "source": [
    "以下 3 種轉換則不支援。\n",
    "- Time 轉成 DateTime\n",
    "- Date 轉成 Time\n",
    "- Time 轉成 Date"
   ]
  },
  {
   "cell_type": "code",
   "execution_count": 26,
   "metadata": {
    "colab": {},
    "colab_type": "code",
    "id": "SlzcLpMtRMb_",
    "outputId": "5bd50c07-9b81-481e-9cfc-5f503dfe2910"
   },
   "outputs": [
    {
     "ename": "MethodError",
     "evalue": "MethodError: Cannot `convert` an object of type Time to an object of type DateTime\nClosest candidates are:\n  convert(::Type{DateTime}, !Matched::Date) at D:\\buildbot\\worker\\package_win64\\build\\usr\\share\\julia\\stdlib\\v1.4\\Dates\\src\\conversions.jl:30\n  convert(::Type{DateTime}, !Matched::Millisecond) at D:\\buildbot\\worker\\package_win64\\build\\usr\\share\\julia\\stdlib\\v1.4\\Dates\\src\\conversions.jl:34\n  convert(::Type{T}, !Matched::T) where T at essentials.jl:171\n  ...",
     "output_type": "error",
     "traceback": [
      "MethodError: Cannot `convert` an object of type Time to an object of type DateTime\nClosest candidates are:\n  convert(::Type{DateTime}, !Matched::Date) at D:\\buildbot\\worker\\package_win64\\build\\usr\\share\\julia\\stdlib\\v1.4\\Dates\\src\\conversions.jl:30\n  convert(::Type{DateTime}, !Matched::Millisecond) at D:\\buildbot\\worker\\package_win64\\build\\usr\\share\\julia\\stdlib\\v1.4\\Dates\\src\\conversions.jl:34\n  convert(::Type{T}, !Matched::T) where T at essentials.jl:171\n  ...",
      "",
      "Stacktrace:",
      " [1] DateTime(::Time) at D:\\buildbot\\worker\\package_win64\\build\\usr\\share\\julia\\stdlib\\v1.4\\Dates\\src\\conversions.jl:20",
      " [2] top-level scope at In[26]:2"
     ]
    }
   ],
   "source": [
    "tm = Time(now())\n",
    "DateTime(tm)"
   ]
  },
  {
   "cell_type": "code",
   "execution_count": 27,
   "metadata": {
    "colab": {},
    "colab_type": "code",
    "id": "db8zJC5QRMcF",
    "outputId": "89533464-d0ba-4898-cf1f-9c76d24a9330"
   },
   "outputs": [
    {
     "ename": "MethodError",
     "evalue": "MethodError: no method matching Int64(::Date)\nClosest candidates are:\n  Int64(!Matched::Union{Bool, Int32, Int64, UInt32, UInt64, UInt8, Int128, Int16, Int8, UInt128, UInt16}) at boot.jl:707\n  Int64(!Matched::Ptr) at boot.jl:717\n  Int64(!Matched::Float32) at float.jl:707\n  ...",
     "output_type": "error",
     "traceback": [
      "MethodError: no method matching Int64(::Date)\nClosest candidates are:\n  Int64(!Matched::Union{Bool, Int32, Int64, UInt32, UInt64, UInt8, Int128, Int16, Int8, UInt128, UInt16}) at boot.jl:707\n  Int64(!Matched::Ptr) at boot.jl:717\n  Int64(!Matched::Float32) at float.jl:707\n  ...",
      "",
      "Stacktrace:",
      " [1] Time(::Date, ::Int64, ::Int64, ::Int64, ::Int64, ::Int64, ::Dates.AMPM) at D:\\buildbot\\worker\\package_win64\\build\\usr\\share\\julia\\stdlib\\v1.4\\Dates\\src\\types.jl:369 (repeats 2 times)",
      " [2] top-level scope at In[27]:1"
     ]
    }
   ],
   "source": [
    "Time(Date(now()))"
   ]
  },
  {
   "cell_type": "code",
   "execution_count": 28,
   "metadata": {
    "colab": {},
    "colab_type": "code",
    "id": "NgQwBNxZRMcQ",
    "outputId": "e6a736b3-afa7-4c51-ba19-f1fa2ac59c42",
    "scrolled": true
   },
   "outputs": [
    {
     "ename": "MethodError",
     "evalue": "MethodError: Cannot `convert` an object of type Time to an object of type Date\nClosest candidates are:\n  convert(::Type{Date}, !Matched::DateTime) at D:\\buildbot\\worker\\package_win64\\build\\usr\\share\\julia\\stdlib\\v1.4\\Dates\\src\\conversions.jl:31\n  convert(::Type{Date}, !Matched::Day) at D:\\buildbot\\worker\\package_win64\\build\\usr\\share\\julia\\stdlib\\v1.4\\Dates\\src\\conversions.jl:36\n  convert(::Type{T}, !Matched::T) where T at essentials.jl:171\n  ...",
     "output_type": "error",
     "traceback": [
      "MethodError: Cannot `convert` an object of type Time to an object of type Date\nClosest candidates are:\n  convert(::Type{Date}, !Matched::DateTime) at D:\\buildbot\\worker\\package_win64\\build\\usr\\share\\julia\\stdlib\\v1.4\\Dates\\src\\conversions.jl:31\n  convert(::Type{Date}, !Matched::Day) at D:\\buildbot\\worker\\package_win64\\build\\usr\\share\\julia\\stdlib\\v1.4\\Dates\\src\\conversions.jl:36\n  convert(::Type{T}, !Matched::T) where T at essentials.jl:171\n  ...",
      "",
      "Stacktrace:",
      " [1] Date(::Time) at D:\\buildbot\\worker\\package_win64\\build\\usr\\share\\julia\\stdlib\\v1.4\\Dates\\src\\conversions.jl:12",
      " [2] top-level scope at In[28]:1"
     ]
    }
   ],
   "source": [
    "Date(Time(now()))"
   ]
  },
  {
   "cell_type": "markdown",
   "metadata": {
    "colab_type": "text",
    "id": "_1bhTffTRMcY"
   },
   "source": [
    "### 3.2 日期時間與字串的轉換\n",
    "\n",
    "日期/時間與字串之間互相轉換用的格式定義碼\n",
    "\n",
    "|格式|說明|\n",
    "|---|---|\n",
    "|y|西元年份, 可用來控制年份顯示位數|\n",
    "|Y|最小位數的西元年份數值|\n",
    "|m|最小位數的月份數值|\n",
    "|u|月份的英文縮寫|\n",
    "|U|月份的英文全名|\n",
    "|d|日|\n",
    "|H|24小時制的小時數值|\n",
    "|M|分鐘|\n",
    "|S|秒|\n",
    "|s|毫秒|\n",
    "|e|星期幾的英文縮寫|\n",
    "|E|星期幾的英文全名|\n",
    "\n",
    "#### 將日期時間轉換為字串\n",
    "\n",
    "透過 `Dates.format()` 函式"
   ]
  },
  {
   "cell_type": "code",
   "execution_count": 29,
   "metadata": {
    "colab": {},
    "colab_type": "code",
    "id": "__GZKLi9RMcZ",
    "outputId": "690509b3-7379-4462-f715-b28861624951"
   },
   "outputs": [
    {
     "data": {
      "text/plain": [
       "\"2020-04-18 Saturday 15:49:52\""
      ]
     },
     "execution_count": 29,
     "metadata": {},
     "output_type": "execute_result"
    }
   ],
   "source": [
    "s = Dates.format(now(), \"yyyy-mm-dd E HH:MM:SS\")"
   ]
  },
  {
   "cell_type": "code",
   "execution_count": 30,
   "metadata": {
    "colab": {},
    "colab_type": "code",
    "id": "h1xCJ-pHRMfm",
    "outputId": "b475bb4b-8758-46f2-8165-20f1428a59e5"
   },
   "outputs": [
    {
     "data": {
      "text/plain": [
       "String"
      ]
     },
     "execution_count": 30,
     "metadata": {},
     "output_type": "execute_result"
    }
   ],
   "source": [
    "typeof(s)"
   ]
  },
  {
   "cell_type": "code",
   "execution_count": 35,
   "metadata": {
    "colab": {},
    "colab_type": "code",
    "id": "IWaJhYMnRMfs",
    "outputId": "ae708398-ba40-425b-a255-d8065d7bc0db"
   },
   "outputs": [
    {
     "data": {
      "text/plain": [
       "\"2020年4月18日 15時51分33秒\""
      ]
     },
     "execution_count": 35,
     "metadata": {},
     "output_type": "execute_result"
    }
   ],
   "source": [
    "Dates.format(now(), \"Y年m月d日 HH時MM分SS秒\")"
   ]
  },
  {
   "cell_type": "markdown",
   "metadata": {
    "colab_type": "text",
    "id": "vBiEwWotRMfw"
   },
   "source": [
    "#### 將字串轉換為日期/時間\n",
    "\n",
    "透過 Date、DateTime、Time 建構子，配合格式定義完成。"
   ]
  },
  {
   "cell_type": "code",
   "execution_count": 36,
   "metadata": {
    "colab": {},
    "colab_type": "code",
    "id": "0KUd1XHtRMfy",
    "outputId": "82b65c1b-a1d9-4485-e593-324e4a9cc6d6"
   },
   "outputs": [
    {
     "data": {
      "text/plain": [
       "2015-01-01"
      ]
     },
     "execution_count": 36,
     "metadata": {},
     "output_type": "execute_result"
    }
   ],
   "source": [
    "Date(\"2015-01-01\",\"y-m-d\")"
   ]
  },
  {
   "cell_type": "code",
   "execution_count": 37,
   "metadata": {
    "colab": {},
    "colab_type": "code",
    "id": "G8JO0XxuRMf3",
    "outputId": "0cc4e43a-3ef2-48a2-b2c3-607ddb617645"
   },
   "outputs": [
    {
     "data": {
      "text/plain": [
       "2015-01-01T00:00:00"
      ]
     },
     "execution_count": 37,
     "metadata": {},
     "output_type": "execute_result"
    }
   ],
   "source": [
    "DateTime(\"20150101\",\"yyyymmdd\")"
   ]
  },
  {
   "cell_type": "code",
   "execution_count": 38,
   "metadata": {
    "colab": {},
    "colab_type": "code",
    "id": "VjPgfEGGRMf8",
    "outputId": "077b74e2-3c11-4a03-cf39-a50e7f640a04"
   },
   "outputs": [
    {
     "data": {
      "text/plain": [
       "12:01:03"
      ]
     },
     "execution_count": 38,
     "metadata": {},
     "output_type": "execute_result"
    }
   ],
   "source": [
    "Time(\"12:01:03\", \"HH:MM:SS\")"
   ]
  },
  {
   "cell_type": "markdown",
   "metadata": {
    "colab_type": "text",
    "id": "cDA21esZRMgB"
   },
   "source": [
    "將字串轉換為日期/時間，若先利用 DateFormat 轉換格式定義，可以大幅提昇執行效能。"
   ]
  },
  {
   "cell_type": "code",
   "execution_count": 41,
   "metadata": {
    "colab": {},
    "colab_type": "code",
    "id": "B-v-ku8JRMgC",
    "outputId": "9293007f-bf27-4045-d8fb-9bdd0c38f61a"
   },
   "outputs": [
    {
     "name": "stdout",
     "output_type": "stream",
     "text": [
      "  0.000090 seconds (59 allocations: 2.922 KiB)\n"
     ]
    },
    {
     "data": {
      "text/plain": [
       "2015-01-01"
      ]
     },
     "execution_count": 41,
     "metadata": {},
     "output_type": "execute_result"
    }
   ],
   "source": [
    "# 先前字串轉換為日期所需要的時間\n",
    "@time Date(\"2015-01-01\", \"y-m-d\")"
   ]
  },
  {
   "cell_type": "code",
   "execution_count": 43,
   "metadata": {
    "colab": {},
    "colab_type": "code",
    "id": "3b1Ck4IGRMgH",
    "outputId": "90316772-bea4-4579-9761-2ffb2b989d8b"
   },
   "outputs": [
    {
     "name": "stdout",
     "output_type": "stream",
     "text": [
      "  0.000006 seconds (1 allocation: 16 bytes)\n"
     ]
    },
    {
     "data": {
      "text/plain": [
       "2015-01-01"
      ]
     },
     "execution_count": 43,
     "metadata": {},
     "output_type": "execute_result"
    }
   ],
   "source": [
    "# 利用 DateFormat 轉換格式定義，再轉換為字串為日期\n",
    "df = DateFormat(\"y-m-d\")\n",
    "@time d = Date(\"2015-01-01\", df)"
   ]
  },
  {
   "cell_type": "markdown",
   "metadata": {
    "colab_type": "text",
    "id": "ewl8ySMDRMgK"
   },
   "source": [
    "## 4. 日期與時間的運算\n",
    "\n",
    "### 4.1 比較\n",
    "\n",
    "DateTime 之間、 Date 之間、 Time 之間可以運用比較運算子互相比較。"
   ]
  },
  {
   "cell_type": "code",
   "execution_count": 44,
   "metadata": {
    "colab": {},
    "colab_type": "code",
    "id": "VOrVJMgJRMgL",
    "outputId": "4e350450-554f-4882-bbe9-2ce126bd952c"
   },
   "outputs": [
    {
     "data": {
      "text/plain": [
       "true"
      ]
     },
     "execution_count": 44,
     "metadata": {},
     "output_type": "execute_result"
    }
   ],
   "source": [
    "dt1 = Date(2019, 8, 15)\n",
    "dt2 = Date(2019, 8, 15)\n",
    "\n",
    "dt1 === dt2"
   ]
  },
  {
   "cell_type": "markdown",
   "metadata": {
    "colab_type": "text",
    "id": "i4-lozNiRMgP"
   },
   "source": [
    "下面的例子比較特別，DateTime 與 Date 互相比較，DateTime 採用預設的時分秒，雖然精度不同，但年、月、日相同就算相同。不過，如果建立時時分秒非 0 的話，就會被判斷為不同。"
   ]
  },
  {
   "cell_type": "code",
   "execution_count": 45,
   "metadata": {
    "colab": {},
    "colab_type": "code",
    "id": "oVLANF2jRMgQ",
    "outputId": "172479db-07c5-4490-ed07-59c8b3ecbe31"
   },
   "outputs": [
    {
     "data": {
      "text/plain": [
       "2019-08-15T00:00:00"
      ]
     },
     "execution_count": 45,
     "metadata": {},
     "output_type": "execute_result"
    }
   ],
   "source": [
    "dt3 = DateTime(2019, 8, 15)"
   ]
  },
  {
   "cell_type": "code",
   "execution_count": 46,
   "metadata": {
    "colab": {},
    "colab_type": "code",
    "id": "t--cXNYdRMgT",
    "outputId": "e0526653-88e9-4ab5-b1cc-2f1920e3e436"
   },
   "outputs": [
    {
     "data": {
      "text/plain": [
       "true"
      ]
     },
     "execution_count": 46,
     "metadata": {},
     "output_type": "execute_result"
    }
   ],
   "source": [
    "dt1 == dt3"
   ]
  },
  {
   "cell_type": "code",
   "execution_count": 47,
   "metadata": {},
   "outputs": [
    {
     "data": {
      "text/plain": [
       "2019-08-15T21:30:00"
      ]
     },
     "execution_count": 47,
     "metadata": {},
     "output_type": "execute_result"
    }
   ],
   "source": [
    "dt4 = DateTime(2019, 8, 15, 21, 30)"
   ]
  },
  {
   "cell_type": "code",
   "execution_count": 48,
   "metadata": {},
   "outputs": [
    {
     "data": {
      "text/plain": [
       "false"
      ]
     },
     "execution_count": 48,
     "metadata": {},
     "output_type": "execute_result"
    }
   ],
   "source": [
    "dt1 == dt4"
   ]
  },
  {
   "cell_type": "markdown",
   "metadata": {
    "colab_type": "text",
    "id": "JdQvyAYSRMgX"
   },
   "source": [
    "Time 與 DateTime 或是 Date 之間不能互相比較。"
   ]
  },
  {
   "cell_type": "code",
   "execution_count": 49,
   "metadata": {
    "colab": {},
    "colab_type": "code",
    "id": "80GQQUamRMgY",
    "outputId": "ef0033f4-ab1b-4b4b-eccb-18ec61202c8b"
   },
   "outputs": [
    {
     "ename": "ErrorException",
     "evalue": "promotion of types Time and Date failed to change any arguments",
     "output_type": "error",
     "traceback": [
      "promotion of types Time and Date failed to change any arguments",
      "",
      "Stacktrace:",
      " [1] error(::String, ::String, ::String) at .\\error.jl:42",
      " [2] sametype_error(::Tuple{Time,Date}) at .\\promotion.jl:306",
      " [3] not_sametype(::Tuple{Time,Date}, ::Tuple{Time,Date}) at .\\promotion.jl:300",
      " [4] promote at .\\promotion.jl:283 [inlined]",
      " [5] isless(::Time, ::Date) at D:\\buildbot\\worker\\package_win64\\build\\usr\\share\\julia\\stdlib\\v1.4\\Dates\\src\\types.jl:398",
      " [6] <(::Time, ::Date) at .\\operators.jl:268",
      " [7] >(::Date, ::Time) at .\\operators.jl:294",
      " [8] top-level scope at In[49]:2"
     ]
    }
   ],
   "source": [
    "t = Time(\"12:01:03\", \"HH:MM:SS\")\n",
    "dt1 > t"
   ]
  },
  {
   "cell_type": "markdown",
   "metadata": {
    "colab_type": "text",
    "id": "yGeN50FQRMgb"
   },
   "source": [
    "### 4.2 時間差異 (加減法)"
   ]
  },
  {
   "cell_type": "markdown",
   "metadata": {
    "colab_type": "text",
    "id": "dD5UufYCRMgc"
   },
   "source": [
    "2 個日期/時間之間的差異，可以透過減法，在同型別之間可以直接相減。 (+, *, / 是非法的運算)\n",
    "\n",
    "下例是 2 個日期相減，回傳值是以日為單位。"
   ]
  },
  {
   "cell_type": "code",
   "execution_count": 50,
   "metadata": {
    "colab": {},
    "colab_type": "code",
    "id": "0wq-z5XgRMgd",
    "outputId": "7d534155-3969-4a21-f41b-a00312bab201"
   },
   "outputs": [
    {
     "data": {
      "text/plain": [
       "-1 day"
      ]
     },
     "execution_count": 50,
     "metadata": {},
     "output_type": "execute_result"
    }
   ],
   "source": [
    "dt1 = Date(2019, 8, 15)\n",
    "dt2 = Date(2019, 8, 16)\n",
    "\n",
    "dt1 - dt2"
   ]
  },
  {
   "cell_type": "code",
   "execution_count": 52,
   "metadata": {},
   "outputs": [
    {
     "name": "stdout",
     "output_type": "stream",
     "text": [
      "Date\n",
      "  instant: Dates.UTInstant{Day}\n",
      "    periods: Day\n",
      "      value: Int64 737286\n"
     ]
    }
   ],
   "source": [
    "dump(dt1)"
   ]
  },
  {
   "cell_type": "code",
   "execution_count": 53,
   "metadata": {},
   "outputs": [
    {
     "name": "stdout",
     "output_type": "stream",
     "text": [
      "Date\n",
      "  instant: Dates.UTInstant{Day}\n",
      "    periods: Day\n",
      "      value: Int64 737287\n"
     ]
    }
   ],
   "source": [
    "dump(dt2)"
   ]
  },
  {
   "cell_type": "code",
   "execution_count": 51,
   "metadata": {},
   "outputs": [
    {
     "ename": "MethodError",
     "evalue": "MethodError: no method matching +(::Date, ::Date)\nClosest candidates are:\n  +(::Any, ::Any, !Matched::Any, !Matched::Any...) at operators.jl:529\n  +(!Matched::Dates.CompoundPeriod, ::TimeType) at D:\\buildbot\\worker\\package_win64\\build\\usr\\share\\julia\\stdlib\\v1.4\\Dates\\src\\periods.jl:369\n  +(::Date, !Matched::Day) at D:\\buildbot\\worker\\package_win64\\build\\usr\\share\\julia\\stdlib\\v1.4\\Dates\\src\\arithmetic.jl:74\n  ...",
     "output_type": "error",
     "traceback": [
      "MethodError: no method matching +(::Date, ::Date)\nClosest candidates are:\n  +(::Any, ::Any, !Matched::Any, !Matched::Any...) at operators.jl:529\n  +(!Matched::Dates.CompoundPeriod, ::TimeType) at D:\\buildbot\\worker\\package_win64\\build\\usr\\share\\julia\\stdlib\\v1.4\\Dates\\src\\periods.jl:369\n  +(::Date, !Matched::Day) at D:\\buildbot\\worker\\package_win64\\build\\usr\\share\\julia\\stdlib\\v1.4\\Dates\\src\\arithmetic.jl:74\n  ...",
      "",
      "Stacktrace:",
      " [1] top-level scope at In[51]:1"
     ]
    }
   ],
   "source": [
    "dt1 + dt2"
   ]
  },
  {
   "cell_type": "code",
   "execution_count": 54,
   "metadata": {},
   "outputs": [
    {
     "ename": "MethodError",
     "evalue": "MethodError: no method matching *(::Date, ::Date)\nClosest candidates are:\n  *(::Any, ::Any, !Matched::Any, !Matched::Any...) at operators.jl:529",
     "output_type": "error",
     "traceback": [
      "MethodError: no method matching *(::Date, ::Date)\nClosest candidates are:\n  *(::Any, ::Any, !Matched::Any, !Matched::Any...) at operators.jl:529",
      "",
      "Stacktrace:",
      " [1] top-level scope at In[54]:1"
     ]
    }
   ],
   "source": [
    "dt1 * dt2"
   ]
  },
  {
   "cell_type": "code",
   "execution_count": 55,
   "metadata": {},
   "outputs": [
    {
     "ename": "MethodError",
     "evalue": "MethodError: no method matching /(::Date, ::Date)",
     "output_type": "error",
     "traceback": [
      "MethodError: no method matching /(::Date, ::Date)",
      "",
      "Stacktrace:",
      " [1] top-level scope at In[55]:1"
     ]
    }
   ],
   "source": [
    "dt1 / dt2"
   ]
  },
  {
   "cell_type": "markdown",
   "metadata": {
    "colab_type": "text",
    "id": "gwO2cmVYRMgf"
   },
   "source": [
    "在不同的型別之間，不能直接加減，但是可以與 Period 型別之物件進行加減。"
   ]
  },
  {
   "cell_type": "code",
   "execution_count": 56,
   "metadata": {
    "colab": {},
    "colab_type": "code",
    "id": "1qrJD0GzRMgg",
    "outputId": "ab4631e9-70c0-4bd9-9bad-555ba7015055"
   },
   "outputs": [
    {
     "data": {
      "text/plain": [
       "2021-08-15"
      ]
     },
     "execution_count": 56,
     "metadata": {},
     "output_type": "execute_result"
    }
   ],
   "source": [
    "dt1 + Year(2)"
   ]
  },
  {
   "cell_type": "markdown",
   "metadata": {
    "colab_type": "text",
    "id": "jCI6nagURMgj"
   },
   "source": [
    "Period 型別的物件，可以跨型別運算，其回傳的型別為 `Dates.CompoundPeriod`。"
   ]
  },
  {
   "cell_type": "code",
   "execution_count": 57,
   "metadata": {
    "colab": {},
    "colab_type": "code",
    "id": "zMH-FC4_RMgj",
    "outputId": "925b4234-65cd-4401-ae54-c165b385af95"
   },
   "outputs": [
    {
     "data": {
      "text/plain": [
       "2 months, 3 days"
      ]
     },
     "execution_count": 57,
     "metadata": {},
     "output_type": "execute_result"
    }
   ],
   "source": [
    "md = Month(2) + Day(3)"
   ]
  },
  {
   "cell_type": "code",
   "execution_count": 58,
   "metadata": {
    "colab": {},
    "colab_type": "code",
    "id": "jgZWpRaKRMgm",
    "outputId": "7f728828-01f1-4fa9-c0c0-d4a02fb03a2b"
   },
   "outputs": [
    {
     "data": {
      "text/plain": [
       "Dates.CompoundPeriod"
      ]
     },
     "execution_count": 58,
     "metadata": {},
     "output_type": "execute_result"
    }
   ],
   "source": [
    "typeof(md)"
   ]
  },
  {
   "cell_type": "markdown",
   "metadata": {
    "colab_type": "text",
    "id": "B5vzLZ6KRMgp"
   },
   "source": [
    "Period 型別的物件同型別之間支援除法。"
   ]
  },
  {
   "cell_type": "code",
   "execution_count": 59,
   "metadata": {
    "colab": {},
    "colab_type": "code",
    "id": "IjdaG0iORMgq",
    "outputId": "1a041bc9-ee81-42ff-c519-5c60cf2b2172"
   },
   "outputs": [
    {
     "data": {
      "text/plain": [
       "0.6666666666666666"
      ]
     },
     "execution_count": 59,
     "metadata": {},
     "output_type": "execute_result"
    }
   ],
   "source": [
    "Month(2) / Month(3)"
   ]
  },
  {
   "cell_type": "code",
   "execution_count": 60,
   "metadata": {},
   "outputs": [
    {
     "ename": "MethodError",
     "evalue": "MethodError: no method matching /(::Year, ::Month)\nClosest candidates are:\n  /(::P, !Matched::P) where P<:Period at D:\\buildbot\\worker\\package_win64\\build\\usr\\share\\julia\\stdlib\\v1.4\\Dates\\src\\periods.jl:78\n  /(::P, !Matched::Real) where P<:Period at D:\\buildbot\\worker\\package_win64\\build\\usr\\share\\julia\\stdlib\\v1.4\\Dates\\src\\periods.jl:79\n  /(!Matched::Union{DenseArray{P,N}, Base.ReinterpretArray{P,N,S,A} where S where A<:Union{SubArray{T,N,A,I,true} where I<:Union{Tuple{Vararg{Real,N} where N}, Tuple{AbstractUnitRange,Vararg{Any,N} where N}} where A<:DenseArray where N where T, DenseArray}, Base.ReshapedArray{P,N,A,MI} where MI<:Tuple{Vararg{Base.MultiplicativeInverses.SignedMultiplicativeInverse{Int64},N} where N} where A<:Union{Base.ReinterpretArray{T,N,S,A} where S where A<:Union{SubArray{T,N,A,I,true} where I<:Union{Tuple{Vararg{Real,N} where N}, Tuple{AbstractUnitRange,Vararg{Any,N} where N}} where A<:DenseArray where N where T, DenseArray} where N where T, SubArray{T,N,A,I,true} where I<:Union{Tuple{Vararg{Real,N} where N}, Tuple{AbstractUnitRange,Vararg{Any,N} where N}} where A<:DenseArray where N where T, DenseArray}, SubArray{P,N,A,I,L} where L where I<:Tuple{Vararg{Union{Int64, AbstractRange{Int64}, Base.AbstractCartesianIndex},N} where N} where A<:Union{Base.ReinterpretArray{T,N,S,A} where S where A<:Union{SubArray{T,N,A,I,true} where I<:Union{Tuple{Vararg{Real,N} where N}, Tuple{AbstractUnitRange,Vararg{Any,N} where N}} where A<:DenseArray where N where T, DenseArray} where N where T, Base.ReshapedArray{T,N,A,MI} where MI<:Tuple{Vararg{Base.MultiplicativeInverses.SignedMultiplicativeInverse{Int64},N} where N} where A<:Union{Base.ReinterpretArray{T,N,S,A} where S where A<:Union{SubArray{T,N,A,I,true} where I<:Union{Tuple{Vararg{Real,N} where N}, Tuple{AbstractUnitRange,Vararg{Any,N} where N}} where A<:DenseArray where N where T, DenseArray} where N where T, SubArray{T,N,A,I,true} where I<:Union{Tuple{Vararg{Real,N} where N}, Tuple{AbstractUnitRange,Vararg{Any,N} where N}} where A<:DenseArray where N where T, DenseArray} where N where T, DenseArray}} where N, ::P) where P<:Period at D:\\buildbot\\worker\\package_win64\\build\\usr\\share\\julia\\stdlib\\v1.4\\Dates\\src\\deprecated.jl:46",
     "output_type": "error",
     "traceback": [
      "MethodError: no method matching /(::Year, ::Month)\nClosest candidates are:\n  /(::P, !Matched::P) where P<:Period at D:\\buildbot\\worker\\package_win64\\build\\usr\\share\\julia\\stdlib\\v1.4\\Dates\\src\\periods.jl:78\n  /(::P, !Matched::Real) where P<:Period at D:\\buildbot\\worker\\package_win64\\build\\usr\\share\\julia\\stdlib\\v1.4\\Dates\\src\\periods.jl:79\n  /(!Matched::Union{DenseArray{P,N}, Base.ReinterpretArray{P,N,S,A} where S where A<:Union{SubArray{T,N,A,I,true} where I<:Union{Tuple{Vararg{Real,N} where N}, Tuple{AbstractUnitRange,Vararg{Any,N} where N}} where A<:DenseArray where N where T, DenseArray}, Base.ReshapedArray{P,N,A,MI} where MI<:Tuple{Vararg{Base.MultiplicativeInverses.SignedMultiplicativeInverse{Int64},N} where N} where A<:Union{Base.ReinterpretArray{T,N,S,A} where S where A<:Union{SubArray{T,N,A,I,true} where I<:Union{Tuple{Vararg{Real,N} where N}, Tuple{AbstractUnitRange,Vararg{Any,N} where N}} where A<:DenseArray where N where T, DenseArray} where N where T, SubArray{T,N,A,I,true} where I<:Union{Tuple{Vararg{Real,N} where N}, Tuple{AbstractUnitRange,Vararg{Any,N} where N}} where A<:DenseArray where N where T, DenseArray}, SubArray{P,N,A,I,L} where L where I<:Tuple{Vararg{Union{Int64, AbstractRange{Int64}, Base.AbstractCartesianIndex},N} where N} where A<:Union{Base.ReinterpretArray{T,N,S,A} where S where A<:Union{SubArray{T,N,A,I,true} where I<:Union{Tuple{Vararg{Real,N} where N}, Tuple{AbstractUnitRange,Vararg{Any,N} where N}} where A<:DenseArray where N where T, DenseArray} where N where T, Base.ReshapedArray{T,N,A,MI} where MI<:Tuple{Vararg{Base.MultiplicativeInverses.SignedMultiplicativeInverse{Int64},N} where N} where A<:Union{Base.ReinterpretArray{T,N,S,A} where S where A<:Union{SubArray{T,N,A,I,true} where I<:Union{Tuple{Vararg{Real,N} where N}, Tuple{AbstractUnitRange,Vararg{Any,N} where N}} where A<:DenseArray where N where T, DenseArray} where N where T, SubArray{T,N,A,I,true} where I<:Union{Tuple{Vararg{Real,N} where N}, Tuple{AbstractUnitRange,Vararg{Any,N} where N}} where A<:DenseArray where N where T, DenseArray} where N where T, DenseArray}} where N, ::P) where P<:Period at D:\\buildbot\\worker\\package_win64\\build\\usr\\share\\julia\\stdlib\\v1.4\\Dates\\src\\deprecated.jl:46",
      "",
      "Stacktrace:",
      " [1] top-level scope at In[60]:1"
     ]
    }
   ],
   "source": [
    "Year(2000) / Month(1)"
   ]
  },
  {
   "cell_type": "markdown",
   "metadata": {
    "colab_type": "text",
    "id": "8g80t6S-RMgu"
   },
   "source": [
    "### 4.3 產生時間序列\n",
    "\n",
    "搭配 range 以及 Period 型別，可以產生時間序列，其回傳值型別為 StepRange。\n",
    "\n",
    "Date、DateTime、Time 均可以透過相同的方式產生序列。\n",
    "\n",
    "例如：`Date(2019, 8, 31) : Month(1) : Date(2020, 12, 31)`，宣告了起始日期、區間、結束日期，產生 2019 年每個月底的時間序列。"
   ]
  },
  {
   "cell_type": "code",
   "execution_count": 61,
   "metadata": {
    "colab": {},
    "colab_type": "code",
    "id": "f3JICv1fRMgv",
    "outputId": "caed1a95-3935-493c-de19-1968b34f0f64"
   },
   "outputs": [
    {
     "data": {
      "text/plain": [
       "2019-08-31:1 month:2020-12-31"
      ]
     },
     "execution_count": 61,
     "metadata": {},
     "output_type": "execute_result"
    }
   ],
   "source": [
    "dt = Date(2019, 8, 31) : Month(1) : Date(2020, 12, 31)"
   ]
  },
  {
   "cell_type": "code",
   "execution_count": 62,
   "metadata": {
    "colab": {},
    "colab_type": "code",
    "id": "3UReLvAcRMg2",
    "outputId": "25a1e87d-d60d-4910-cdbb-3a11f9d1f7c8"
   },
   "outputs": [
    {
     "data": {
      "text/plain": [
       "StepRange{Date,Month}"
      ]
     },
     "execution_count": 62,
     "metadata": {},
     "output_type": "execute_result"
    }
   ],
   "source": [
    "typeof(dt)"
   ]
  },
  {
   "cell_type": "markdown",
   "metadata": {
    "colab_type": "text",
    "id": "ObRAQ-guRMg5"
   },
   "source": [
    "透過迭代的方式可以列出序列中的每個日期。"
   ]
  },
  {
   "cell_type": "code",
   "execution_count": 63,
   "metadata": {
    "colab": {},
    "colab_type": "code",
    "id": "sZWIipeSRMg9",
    "outputId": "73027ed8-1a55-49ab-b9e3-d20c4b0f02d1"
   },
   "outputs": [
    {
     "name": "stdout",
     "output_type": "stream",
     "text": [
      "2019-08-31\n",
      "2019-09-30\n",
      "2019-10-31\n",
      "2019-11-30\n",
      "2019-12-31\n",
      "2020-01-31\n",
      "2020-02-29\n",
      "2020-03-31\n",
      "2020-04-30\n",
      "2020-05-31\n",
      "2020-06-30\n",
      "2020-07-31\n",
      "2020-08-31\n",
      "2020-09-30\n",
      "2020-10-31\n",
      "2020-11-30\n",
      "2020-12-31\n"
     ]
    }
   ],
   "source": [
    "for d ∈ dt\n",
    "    println(d)\n",
    "end"
   ]
  },
  {
   "cell_type": "markdown",
   "metadata": {
    "colab_type": "text",
    "id": "MdS5HVMARMg_"
   },
   "source": [
    "## 5. 日期與時間對照函式 (Mapping Function)\n",
    "\n",
    "在實務應用上，我們常會根據日期去得到或查詢某些屬性，例如是星期幾，或是該年是否為閏年… 等，Julia 也提供了許多內建的對照函式可以直接使用。\n",
    "\n",
    "|函式|說明|\n",
    "|---|---|\n",
    "|`monthname()`|該月份的英文名稱|\n",
    "|`isleapyear()`|該年是否為閏年|\n",
    "|`dayofyear()`|該天是該年的第幾天|\n",
    "|`quarterofyear()`|該天是屬於第幾季|\n",
    "|`dayofquarter()`|該天是該季的第幾天|"
   ]
  },
  {
   "cell_type": "code",
   "execution_count": 64,
   "metadata": {
    "colab": {},
    "colab_type": "code",
    "id": "_gMe_8SgRMhA",
    "outputId": "5c8f51fe-ba2d-4eb8-c8f1-9943cddea2f2"
   },
   "outputs": [
    {
     "data": {
      "text/plain": [
       "\"November\""
      ]
     },
     "execution_count": 64,
     "metadata": {},
     "output_type": "execute_result"
    }
   ],
   "source": [
    "monthname(Date(2019, 11, 11))"
   ]
  },
  {
   "cell_type": "code",
   "execution_count": 65,
   "metadata": {
    "colab": {},
    "colab_type": "code",
    "id": "V5e21cpyRMhD",
    "outputId": "46ebcec5-983e-46a8-ebb5-affca23e45c6"
   },
   "outputs": [
    {
     "data": {
      "text/plain": [
       "true"
      ]
     },
     "execution_count": 65,
     "metadata": {},
     "output_type": "execute_result"
    }
   ],
   "source": [
    "isleapyear(Date(2020))"
   ]
  },
  {
   "cell_type": "code",
   "execution_count": 66,
   "metadata": {
    "colab": {},
    "colab_type": "code",
    "id": "ylIZ_zm-RMhG",
    "outputId": "2f846b8c-049a-4d23-ee9a-7d2a1b5fd7e6"
   },
   "outputs": [
    {
     "data": {
      "text/plain": [
       "283"
      ]
     },
     "execution_count": 66,
     "metadata": {},
     "output_type": "execute_result"
    }
   ],
   "source": [
    "dayofyear(Date(2019, 10, 10))"
   ]
  },
  {
   "cell_type": "code",
   "execution_count": 67,
   "metadata": {
    "colab": {},
    "colab_type": "code",
    "id": "e11KgJy_RMhL",
    "outputId": "3ef6835d-e4fa-4764-a4b7-732823a5f4ce"
   },
   "outputs": [
    {
     "data": {
      "text/plain": [
       "2"
      ]
     },
     "execution_count": 67,
     "metadata": {},
     "output_type": "execute_result"
    }
   ],
   "source": [
    "quarterofyear(Date(2020, 5, 1))"
   ]
  },
  {
   "cell_type": "code",
   "execution_count": 68,
   "metadata": {
    "colab": {},
    "colab_type": "code",
    "id": "hMVrNcd_RMhN",
    "outputId": "4f4db46b-84b9-4c97-85c0-c725e79ff020"
   },
   "outputs": [
    {
     "data": {
      "text/plain": [
       "32"
      ]
     },
     "execution_count": 68,
     "metadata": {},
     "output_type": "execute_result"
    }
   ],
   "source": [
    "dayofquarter(Date(2020, 5, 1))"
   ]
  },
  {
   "cell_type": "markdown",
   "metadata": {
    "colab_type": "text",
    "id": "xW1-TUYeRMhQ"
   },
   "source": [
    "|函式|說明|\n",
    "|---|---|\n",
    "|`firstdayofweek()`|該週第一天的日期|\n",
    "|`lastdayofweek()`|該週最後一天的日期|\n",
    "|`lastdayofquarter()`|該季最後一天的日期|\n",
    "\n",
    "在範例中，2020/5/1 是週五，依照 ISO 8601 的定義方式週的第一天為週一，所以該週的第一天週一是 4/27，該週最後一天週日是 5/3。"
   ]
  },
  {
   "cell_type": "code",
   "execution_count": 69,
   "metadata": {
    "colab": {},
    "colab_type": "code",
    "id": "tTfYsEcvRMhR",
    "outputId": "4c486d55-7d55-4bce-c29b-948f519eb6d4"
   },
   "outputs": [
    {
     "data": {
      "text/plain": [
       "2020-04-27"
      ]
     },
     "execution_count": 69,
     "metadata": {},
     "output_type": "execute_result"
    }
   ],
   "source": [
    "firstdayofweek(Date(2020, 5, 1))"
   ]
  },
  {
   "cell_type": "code",
   "execution_count": 70,
   "metadata": {
    "colab": {},
    "colab_type": "code",
    "id": "kwN3ED1JRMhU",
    "outputId": "251fb333-1c84-49d5-edc2-44df22872ffd"
   },
   "outputs": [
    {
     "data": {
      "text/plain": [
       "2020-05-03"
      ]
     },
     "execution_count": 70,
     "metadata": {},
     "output_type": "execute_result"
    }
   ],
   "source": [
    "lastdayofweek(Date(2020, 5, 1))"
   ]
  },
  {
   "cell_type": "code",
   "execution_count": 71,
   "metadata": {
    "colab": {},
    "colab_type": "code",
    "id": "hUstST7GRMhX",
    "outputId": "ec258e09-ac62-47e3-8fd1-f79fc288f483"
   },
   "outputs": [
    {
     "data": {
      "text/plain": [
       "2020-06-30"
      ]
     },
     "execution_count": 71,
     "metadata": {},
     "output_type": "execute_result"
    }
   ],
   "source": [
    "lastdayofquarter(Date(2020, 5, 1))"
   ]
  },
  {
   "cell_type": "markdown",
   "metadata": {
    "colab_type": "text",
    "id": "q62o0TCJRMha"
   },
   "source": [
    "|函式|說明|\n",
    "|---|---|\n",
    "|`toprev()`|尋找前一個符合條件的日期|\n",
    "|`tonext()`|尋找前一個符合條件的日期|\n",
    "\n",
    "利用 `Dates.Sunday` 常數判斷是否為週日，在範例中 2019/12/25 是週三，所以前一個週日是 12/22，而後一個週日是12/29。"
   ]
  },
  {
   "cell_type": "code",
   "execution_count": 72,
   "metadata": {
    "colab": {},
    "colab_type": "code",
    "id": "58ZWoP2JRMhc",
    "outputId": "fd5d022f-9e46-4106-9fed-b98a88fd53ea"
   },
   "outputs": [
    {
     "data": {
      "text/plain": [
       "2019-12-22"
      ]
     },
     "execution_count": 72,
     "metadata": {},
     "output_type": "execute_result"
    }
   ],
   "source": [
    "issunday = x->Dates.dayofweek(x) == Dates.Sunday\n",
    "\n",
    "Dates.toprev(issunday, Date(2019, 12, 25))"
   ]
  },
  {
   "cell_type": "code",
   "execution_count": 73,
   "metadata": {
    "colab": {},
    "colab_type": "code",
    "id": "CobMeG5bRMhf",
    "outputId": "768dcc91-1594-4589-f964-f2dd1eb24ae1"
   },
   "outputs": [
    {
     "data": {
      "text/plain": [
       "2019-12-29"
      ]
     },
     "execution_count": 73,
     "metadata": {},
     "output_type": "execute_result"
    }
   ],
   "source": [
    "tonext(issunday, Date(2019, 12, 25))"
   ]
  },
  {
   "cell_type": "markdown",
   "metadata": {
    "colab_type": "text",
    "id": "qfrKDdyBRMhh"
   },
   "source": [
    "## 5. TimeZones.jl\n",
    "\n",
    "由於 Julia 本身的 DateTime 不具備時區的概念，所以如果需要處理時區相關的日期/時間，需藉助其他套件。Time Zones 套件根據 IANA 資料庫，提供 Julia的使用者取得時區資料，並且可以以類似 DateTime 的方式操作日期與時間資料。"
   ]
  },
  {
   "cell_type": "code",
   "execution_count": 6,
   "metadata": {
    "colab": {},
    "colab_type": "code",
    "id": "EMq_Ti0ERMhi",
    "outputId": "6c96f5d4-b3e6-4f0b-e2ae-a937e6a40387"
   },
   "outputs": [
    {
     "name": "stderr",
     "output_type": "stream",
     "text": [
      "\u001b[32m\u001b[1m  Resolving\u001b[22m\u001b[39m package versions...\n",
      "\u001b[32m\u001b[1m   Updating\u001b[22m\u001b[39m `C:\\Users\\kai\\.julia\\environments\\v1.4\\Project.toml`\n",
      " \u001b[90m [f269a46b]\u001b[39m\u001b[93m ↑ TimeZones v0.10.2 ⇒ v1.1.0\u001b[39m\n",
      "\u001b[32m\u001b[1m   Updating\u001b[22m\u001b[39m `C:\\Users\\kai\\.julia\\environments\\v1.4\\Manifest.toml`\n",
      " \u001b[90m [f269a46b]\u001b[39m\u001b[93m ↑ TimeZones v0.10.2 ⇒ v1.1.0\u001b[39m\n"
     ]
    }
   ],
   "source": [
    "using Pkg\n",
    "Pkg.add(PackageSpec(name=\"TimeZones\", version=\"1.1.0\"))"
   ]
  },
  {
   "cell_type": "code",
   "execution_count": 7,
   "metadata": {},
   "outputs": [
    {
     "name": "stderr",
     "output_type": "stream",
     "text": [
      "┌ Warning: Pkg.installed() is deprecated\n",
      "└ @ Pkg D:\\buildbot\\worker\\package_win64\\build\\usr\\share\\julia\\stdlib\\v1.4\\Pkg\\src\\Pkg.jl:531\n"
     ]
    },
    {
     "data": {
      "text/plain": [
       "Dict{String,VersionNumber} with 6 entries:\n",
       "  \"CSV\"            => v\"0.5.26\"\n",
       "  \"TimeZones\"      => v\"1.1.0\"\n",
       "  \"IJulia\"         => v\"1.21.1\"\n",
       "  \"Distributions\"  => v\"0.23.2\"\n",
       "  \"Plots\"          => v\"1.0.9\"\n",
       "  \"BenchmarkTools\" => v\"0.5.0\""
      ]
     },
     "execution_count": 7,
     "metadata": {},
     "output_type": "execute_result"
    }
   ],
   "source": [
    "Pkg.installed()"
   ]
  },
  {
   "cell_type": "code",
   "execution_count": 8,
   "metadata": {
    "colab": {},
    "colab_type": "code",
    "id": "CtHEWVyBRMhk",
    "outputId": "2e4d5c07-cef6-4c20-fb7a-776b8186c86b"
   },
   "outputs": [],
   "source": [
    "using TimeZones"
   ]
  },
  {
   "cell_type": "markdown",
   "metadata": {
    "colab_type": "text",
    "id": "3BHbbHCsRMhm"
   },
   "source": [
    "Time Zone 的指定可以使用 tz Database 中的名稱，也可以使用 UTC Offset。\n",
    "\n",
    "完整的 Time Zone 名稱清單，可以參考 [Wikipedia: List of tz database time zones](https://en.wikipedia.org/wiki/List_of_tz_database_time_zones)\n",
    "\n",
    "下例為目前的格林威治時間。"
   ]
  },
  {
   "cell_type": "code",
   "execution_count": 2,
   "metadata": {
    "colab": {},
    "colab_type": "code",
    "id": "6PDtK8X0RMhn",
    "outputId": "1905ec5c-416c-4ee7-b7b9-6d5d8e2f401f"
   },
   "outputs": [
    {
     "data": {
      "text/plain": [
       "2020-04-18T08:21:23.156+00:00"
      ]
     },
     "execution_count": 2,
     "metadata": {},
     "output_type": "execute_result"
    }
   ],
   "source": [
    "now(tz\"UTC\")"
   ]
  },
  {
   "cell_type": "markdown",
   "metadata": {
    "colab_type": "text",
    "id": "pIISahkURMhp"
   },
   "source": [
    "目前的日期。在使用目前的日期時，須留意不同的時區可能因為跨日的問題而有日期的差異。"
   ]
  },
  {
   "cell_type": "code",
   "execution_count": 3,
   "metadata": {
    "colab": {},
    "colab_type": "code",
    "id": "gTNfxRd7RMhq",
    "outputId": "6013320f-c127-44cf-dd62-c14f8706e74f"
   },
   "outputs": [
    {
     "data": {
      "text/plain": [
       "2020-04-18"
      ]
     },
     "execution_count": 3,
     "metadata": {},
     "output_type": "execute_result"
    }
   ],
   "source": [
    "today(tz\"UTC+8\")"
   ]
  },
  {
   "cell_type": "markdown",
   "metadata": {
    "colab_type": "text",
    "id": "P4w_M2U8RMhs"
   },
   "source": [
    "其型別為 `ZonedDateTime`。"
   ]
  },
  {
   "cell_type": "code",
   "execution_count": 4,
   "metadata": {
    "colab": {},
    "colab_type": "code",
    "id": "iIFU7cQpRMhw",
    "outputId": "3fa63ca6-ba58-4010-f015-bc211581a053"
   },
   "outputs": [
    {
     "data": {
      "text/plain": [
       "ZonedDateTime"
      ]
     },
     "execution_count": 4,
     "metadata": {},
     "output_type": "execute_result"
    }
   ],
   "source": [
    "typeof(now(tz\"UTC\"))"
   ]
  },
  {
   "cell_type": "markdown",
   "metadata": {
    "colab_type": "text",
    "id": "6V2TEbU8RMhz"
   },
   "source": [
    "透過 ZonedDateTime 建構子建立具有時區的日期，並進行算出不同時區之間的時間差異\n",
    "\n",
    "例如台北時間和格林威治時間差 28800000 毫秒，即為 8 小時。"
   ]
  },
  {
   "cell_type": "markdown",
   "metadata": {},
   "source": [
    "TimeZones.build()在下載階段失敗的話，請手動下載 https://data.iana.org/time-zones/releases/tzdata2019c.tar.gz 並放置在相對應的TimeZomes版本資料夾下的 deps\\tzarchive"
   ]
  },
  {
   "cell_type": "code",
   "execution_count": 1,
   "metadata": {},
   "outputs": [
    {
     "name": "stderr",
     "output_type": "stream",
     "text": [
      "┌ Info: Extracting 2019c tzdata archive\n",
      "└ @ TimeZones.TZData C:\\Users\\kai\\.julia\\packages\\TimeZones\\OSWcm\\src\\tzdata\\build.jl:58\n"
     ]
    },
    {
     "name": "stdout",
     "output_type": "stream",
     "text": [
      "\r\n",
      "7-Zip 19.00 (x64) : Copyright (c) 1999-2018 Igor Pavlov : 2019-02-21\r\n",
      "\r\n",
      "\r\n",
      "Extracting archive: \r\n",
      "--\r\n",
      "Path = \r\n",
      "Type = tar\r\n",
      "Code Page = UTF-8\r\n",
      "\r\n",
      "Everything is Ok\r\n",
      "\r\n",
      "Files: 33\r\n",
      "Size:       1157632\r\n",
      "Compressed: 23552\r\n"
     ]
    },
    {
     "name": "stderr",
     "output_type": "stream",
     "text": [
      "┌ Info: Converting tz source files into TimeZone data\n",
      "└ @ TimeZones.TZData C:\\Users\\kai\\.julia\\packages\\TimeZones\\OSWcm\\src\\tzdata\\build.jl:63\n",
      "┌ Info: Compiling Windows time zone name translation\n",
      "└ @ TimeZones.WindowsTimeZoneIDs C:\\Users\\kai\\.julia\\packages\\TimeZones\\OSWcm\\src\\winzone\\WindowsTimeZoneIDs.jl:54\n",
      "┌ Info: Successfully built TimeZones\n",
      "└ @ TimeZones C:\\Users\\kai\\.julia\\packages\\TimeZones\\OSWcm\\src\\build.jl:20\n"
     ]
    }
   ],
   "source": [
    "TimeZones.build()"
   ]
  },
  {
   "cell_type": "code",
   "execution_count": 2,
   "metadata": {
    "colab": {},
    "colab_type": "code",
    "id": "s18Bbl5CRMh0",
    "outputId": "46f8e2ce-2a32-405a-f0f9-45660dadb981"
   },
   "outputs": [
    {
     "data": {
      "text/plain": [
       "28800000 milliseconds"
      ]
     },
     "execution_count": 2,
     "metadata": {},
     "output_type": "execute_result"
    }
   ],
   "source": [
    "ZonedDateTime(2016, 1, 1, 12, tz\"UTC\") - ZonedDateTime(2016, 1, 1, 12, tz\"Asia/Taipei\")"
   ]
  },
  {
   "cell_type": "markdown",
   "metadata": {
    "colab": {},
    "colab_type": "code",
    "id": "3DLVjXuFRMh3"
   },
   "source": [
    "# References:\n",
    "- Marathon example notebook\n",
    "- [Dates](https://docs.julialang.org/en/v1/stdlib/Dates/)\n",
    "- [TimeZones](https://github.com/JuliaTime/TimeZones.jl)"
   ]
  }
 ],
 "metadata": {
  "@webio": {
   "lastCommId": null,
   "lastKernelId": null
  },
  "colab": {
   "name": "julia_011_example.ipynb",
   "provenance": []
  },
  "kernelspec": {
   "display_name": "Julia 1.4.0",
   "language": "julia",
   "name": "julia-1.4"
  },
  "language_info": {
   "file_extension": ".jl",
   "mimetype": "application/julia",
   "name": "julia",
   "version": "1.4.0"
  }
 },
 "nbformat": 4,
 "nbformat_minor": 4
}
