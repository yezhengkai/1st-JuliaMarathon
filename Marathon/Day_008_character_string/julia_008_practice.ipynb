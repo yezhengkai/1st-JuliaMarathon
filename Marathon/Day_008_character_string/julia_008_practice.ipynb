{
 "cells": [
  {
   "cell_type": "markdown",
   "metadata": {
    "colab_type": "text",
    "id": "Le5fF2palp_S"
   },
   "source": [
    "# 字元 (Char) 與字串 (String)\n",
    "\n",
    "Julia 字元和字串的相關型別及階層關係如下。`Any` 是所有型別的最上層父型別。"
   ]
  },
  {
   "cell_type": "code",
   "execution_count": 4,
   "metadata": {},
   "outputs": [
    {
     "name": "stdout",
     "output_type": "stream",
     "text": [
      "AbstractChar\n",
      "    Char\n"
     ]
    }
   ],
   "source": [
    "function subtypetree(t, level=1, indent=4)\n",
    "   level == 1 && println(t)\n",
    "   for s in subtypes(t)\n",
    "     println(join(fill(\" \", level * indent)) * string(s))\n",
    "     subtypetree(s, level+1, indent)\n",
    "   end\n",
    "end\n",
    "subtypetree(AbstractChar)"
   ]
  },
  {
   "cell_type": "code",
   "execution_count": 5,
   "metadata": {},
   "outputs": [
    {
     "name": "stdout",
     "output_type": "stream",
     "text": [
      "AbstractString\n",
      "    String\n",
      "    SubString\n",
      "    SubstitutionString\n",
      "    Test.GenericString\n"
     ]
    }
   ],
   "source": [
    "subtypetree(AbstractString)"
   ]
  },
  {
   "cell_type": "markdown",
   "metadata": {},
   "source": [
    "字元是32位元長的原始型別"
   ]
  },
  {
   "cell_type": "code",
   "execution_count": 12,
   "metadata": {},
   "outputs": [
    {
     "data": {
      "text/plain": [
       "4"
      ]
     },
     "execution_count": 12,
     "metadata": {},
     "output_type": "execute_result"
    }
   ],
   "source": [
    "sizeof(Char)  # 4 bytes"
   ]
  },
  {
   "cell_type": "markdown",
   "metadata": {},
   "source": [
    "字串沒有固定長度"
   ]
  },
  {
   "cell_type": "code",
   "execution_count": 22,
   "metadata": {},
   "outputs": [
    {
     "ename": "ErrorException",
     "evalue": "Type String does not have a definite size.",
     "output_type": "error",
     "traceback": [
      "Type String does not have a definite size.",
      "",
      "Stacktrace:",
      " [1] sizeof(::Type{T} where T) at .\\essentials.jl:451",
      " [2] top-level scope at In[22]:1"
     ]
    }
   ],
   "source": [
    "sizeof(String)"
   ]
  },
  {
   "cell_type": "code",
   "execution_count": 34,
   "metadata": {},
   "outputs": [
    {
     "data": {
      "text/plain": [
       "3"
      ]
     },
     "execution_count": 34,
     "metadata": {},
     "output_type": "execute_result"
    }
   ],
   "source": [
    "sizeof(\"1/f\")"
   ]
  },
  {
   "cell_type": "code",
   "execution_count": 20,
   "metadata": {},
   "outputs": [
    {
     "data": {
      "text/plain": [
       "5"
      ]
     },
     "execution_count": 20,
     "metadata": {},
     "output_type": "execute_result"
    }
   ],
   "source": [
    "sizeof(\"xsazf\")"
   ]
  },
  {
   "cell_type": "code",
   "execution_count": 33,
   "metadata": {},
   "outputs": [
    {
     "data": {
      "text/plain": [
       "3"
      ]
     },
     "execution_count": 33,
     "metadata": {},
     "output_type": "execute_result"
    }
   ],
   "source": [
    "sizeof(\"\\u2410\")"
   ]
  },
  {
   "cell_type": "markdown",
   "metadata": {
    "colab_type": "text",
    "id": "Le5fF2palp_S"
   },
   "source": [
    "## 1. 字元\n",
    "\n",
    "### 1.1 字元的宣告"
   ]
  },
  {
   "cell_type": "code",
   "execution_count": 35,
   "metadata": {
    "colab": {},
    "colab_type": "code",
    "id": "lgFsocTelp_U",
    "outputId": "8675616b-97f7-4ba4-80bf-69c5ca4d38da"
   },
   "outputs": [
    {
     "data": {
      "text/plain": [
       "'x': ASCII/Unicode U+0078 (category Ll: Letter, lowercase)"
      ]
     },
     "execution_count": 35,
     "metadata": {},
     "output_type": "execute_result"
    }
   ],
   "source": [
    "'x'"
   ]
  },
  {
   "cell_type": "code",
   "execution_count": 36,
   "metadata": {
    "colab": {},
    "colab_type": "code",
    "id": "PPNhnE9nlp_Z",
    "outputId": "a9bdcbe8-6a28-4178-ee7c-7340318ebc2d"
   },
   "outputs": [
    {
     "data": {
      "text/plain": [
       "Char"
      ]
     },
     "execution_count": 36,
     "metadata": {},
     "output_type": "execute_result"
    }
   ],
   "source": [
    "# answer 為字元變數，使用 typeof 函式可以看到其型號為字元\n",
    "answer = 'y'\n",
    "typeof(answer)"
   ]
  },
  {
   "cell_type": "code",
   "execution_count": 37,
   "metadata": {
    "colab": {},
    "colab_type": "code",
    "id": "aVTDZk5flp_c",
    "outputId": "b3738384-978b-4d98-9e41-71a26aefb542"
   },
   "outputs": [
    {
     "data": {
      "text/plain": [
       "'①': Unicode U+2460 (category No: Number, other)"
      ]
     },
     "execution_count": 37,
     "metadata": {},
     "output_type": "execute_result"
    }
   ],
   "source": [
    "# 使用 \\u 或 \\U 加上 Unicode 編碼，可以顯示相對應的 Unicode 字元\n",
    "'\\u2460'"
   ]
  },
  {
   "cell_type": "code",
   "execution_count": 38,
   "metadata": {},
   "outputs": [
    {
     "data": {
      "text/plain": [
       "'②': Unicode U+2461 (category No: Number, other)"
      ]
     },
     "execution_count": 38,
     "metadata": {},
     "output_type": "execute_result"
    }
   ],
   "source": [
    "'\\U2461'"
   ]
  },
  {
   "cell_type": "code",
   "execution_count": 39,
   "metadata": {
    "colab": {},
    "colab_type": "code",
    "id": "c1zpV8XJlp_g",
    "outputId": "ec7499cd-0e97-467e-aaa8-00b30c6ee4db"
   },
   "outputs": [
    {
     "data": {
      "text/plain": [
       "Char"
      ]
     },
     "execution_count": 39,
     "metadata": {},
     "output_type": "execute_result"
    }
   ],
   "source": [
    "# 同樣的，我們可以看到 2460 這個 Unicode 字元的型別為 Char\n",
    "typeof('①')"
   ]
  },
  {
   "cell_type": "markdown",
   "metadata": {
    "colab_type": "text",
    "id": "Mqt27m3Jlp_j"
   },
   "source": [
    "### 1.2 字元與數值的轉型\n",
    "\n",
    "#### 將數值轉型為字元\n",
    "字元編碼採用二/八/十/十六進位皆可\n",
    "\n",
    "將 10 進位數值轉型為字元"
   ]
  },
  {
   "cell_type": "code",
   "execution_count": 40,
   "metadata": {
    "colab": {},
    "colab_type": "code",
    "id": "9ub6QCbllp_j",
    "outputId": "fbfe4edc-d0cf-497f-ebdc-e6389cd72e92"
   },
   "outputs": [
    {
     "data": {
      "text/plain": [
       "'x': ASCII/Unicode U+0078 (category Ll: Letter, lowercase)"
      ]
     },
     "execution_count": 40,
     "metadata": {},
     "output_type": "execute_result"
    }
   ],
   "source": [
    "Char(120)"
   ]
  },
  {
   "cell_type": "markdown",
   "metadata": {},
   "source": [
    "將 16 進位數值轉型為字元"
   ]
  },
  {
   "cell_type": "code",
   "execution_count": 47,
   "metadata": {},
   "outputs": [
    {
     "data": {
      "text/plain": [
       "'②': Unicode U+2461 (category No: Number, other)"
      ]
     },
     "execution_count": 47,
     "metadata": {},
     "output_type": "execute_result"
    }
   ],
   "source": [
    "Char(0x2461)"
   ]
  },
  {
   "cell_type": "markdown",
   "metadata": {
    "colab_type": "text",
    "id": "_LFoyUdclp_m"
   },
   "source": [
    "由於使用 Char 轉型並不會判斷字元編碼是否為合法值，這時候可以用 `isvalid()` 函式來判斷。合法的話，會傳回 true 值"
   ]
  },
  {
   "cell_type": "code",
   "execution_count": 53,
   "metadata": {
    "colab": {},
    "colab_type": "code",
    "id": "TES2K-m0lp_n",
    "outputId": "9d1a8744-0844-439f-96bf-06e3880b3ecf"
   },
   "outputs": [
    {
     "name": "stdout",
     "output_type": "stream",
     "text": [
      "true\n"
     ]
    }
   ],
   "source": [
    "println(isvalid(Char, 120))"
   ]
  },
  {
   "cell_type": "markdown",
   "metadata": {
    "colab_type": "text",
    "id": "yEviqOM7lp_q"
   },
   "source": [
    "如果編碼值為非法的話，則會傳回 false 值"
   ]
  },
  {
   "cell_type": "code",
   "execution_count": 54,
   "metadata": {
    "colab": {},
    "colab_type": "code",
    "id": "VWEd8sswlp_r",
    "outputId": "0d8141c5-804a-4f15-e6cd-41db27946cb0"
   },
   "outputs": [
    {
     "name": "stdout",
     "output_type": "stream",
     "text": [
      "false\n"
     ]
    }
   ],
   "source": [
    "println(isvalid(Char, 0x110000))"
   ]
  },
  {
   "cell_type": "code",
   "execution_count": 58,
   "metadata": {},
   "outputs": [
    {
     "data": {
      "text/plain": [
       "'\\U110000': Unicode U+110000 (category In: Invalid, too high)"
      ]
     },
     "execution_count": 58,
     "metadata": {},
     "output_type": "execute_result"
    }
   ],
   "source": [
    "convert(Char, 0x110000)"
   ]
  },
  {
   "cell_type": "markdown",
   "metadata": {
    "colab_type": "text",
    "id": "RBpvtL0Flp_t"
   },
   "source": [
    "#### 將字元轉型為數值"
   ]
  },
  {
   "cell_type": "code",
   "execution_count": 59,
   "metadata": {
    "colab": {},
    "colab_type": "code",
    "id": "-p84Pu6Slp_u",
    "outputId": "55590148-6aff-44e1-83f7-a81b82296dbc"
   },
   "outputs": [
    {
     "data": {
      "text/plain": [
       "120"
      ]
     },
     "execution_count": 59,
     "metadata": {},
     "output_type": "execute_result"
    }
   ],
   "source": [
    "convert(Int64, 'x')"
   ]
  },
  {
   "cell_type": "code",
   "execution_count": 60,
   "metadata": {},
   "outputs": [
    {
     "data": {
      "text/plain": [
       "0x0078"
      ]
     },
     "execution_count": 60,
     "metadata": {},
     "output_type": "execute_result"
    }
   ],
   "source": [
    "convert(UInt16, 'x')"
   ]
  },
  {
   "cell_type": "markdown",
   "metadata": {
    "colab_type": "text",
    "id": "KapU03y8lp_x"
   },
   "source": [
    "#### 判斷字元是否是 ascii 字元\n",
    "\n",
    "要判斷字元是否是 ascii 字元，可以使用 `isascii()` 函式"
   ]
  },
  {
   "cell_type": "code",
   "execution_count": 61,
   "metadata": {
    "colab": {},
    "colab_type": "code",
    "id": "psY2HfIqlp_x",
    "outputId": "e19e5ee8-8226-44d1-a496-150dd49283c7"
   },
   "outputs": [
    {
     "name": "stdout",
     "output_type": "stream",
     "text": [
      "true\n",
      "false\n"
     ]
    }
   ],
   "source": [
    "println(isascii('x'))\n",
    "println(isascii('\\u2460')) # ① 字元"
   ]
  },
  {
   "cell_type": "code",
   "execution_count": 71,
   "metadata": {},
   "outputs": [
    {
     "name": "stdout",
     "output_type": "stream",
     "text": [
      "true\n",
      "true\n",
      "true\n",
      "false\n"
     ]
    }
   ],
   "source": [
    "# ascii在0~127數值內\n",
    "println(isascii('\\u0000'))\n",
    "println(isascii('\\u0001'))\n",
    "println(isascii('\\u007f'))  # 16 * 7 + 15 = 127\n",
    "println(isascii('\\u0080'))"
   ]
  },
  {
   "cell_type": "markdown",
   "metadata": {
    "colab_type": "text",
    "id": "t5arq1eLlp_0"
   },
   "source": [
    "### 1.3 字元的運算與比較\n",
    "\n",
    "字元跟字元之間可用減法，計算兩個字元間編碼的距離。但是加、乘、除法均不合法。\n",
    "\n",
    "字元本身加減整數值，可以得到該字元往前或往後對應的字元。"
   ]
  },
  {
   "cell_type": "code",
   "execution_count": 82,
   "metadata": {
    "colab": {},
    "colab_type": "code",
    "id": "XklrXrcmlp_0",
    "outputId": "bc69ed06-2f86-4ae0-91c6-82b7a8eacdcc"
   },
   "outputs": [
    {
     "data": {
      "text/plain": [
       "25"
      ]
     },
     "execution_count": 82,
     "metadata": {},
     "output_type": "execute_result"
    }
   ],
   "source": [
    "'z' - 'a'"
   ]
  },
  {
   "cell_type": "code",
   "execution_count": 83,
   "metadata": {},
   "outputs": [
    {
     "ename": "MethodError",
     "evalue": "MethodError: no method matching +(::Char, ::Char)\nClosest candidates are:\n  +(::Any, ::Any, !Matched::Any, !Matched::Any...) at operators.jl:529\n  +(!Matched::Integer, ::AbstractChar) at char.jl:224\n  +(::T, !Matched::Integer) where T<:AbstractChar at char.jl:223",
     "output_type": "error",
     "traceback": [
      "MethodError: no method matching +(::Char, ::Char)\nClosest candidates are:\n  +(::Any, ::Any, !Matched::Any, !Matched::Any...) at operators.jl:529\n  +(!Matched::Integer, ::AbstractChar) at char.jl:224\n  +(::T, !Matched::Integer) where T<:AbstractChar at char.jl:223",
      "",
      "Stacktrace:",
      " [1] top-level scope at In[83]:1"
     ]
    }
   ],
   "source": [
    "'z' + 'a'"
   ]
  },
  {
   "cell_type": "code",
   "execution_count": 84,
   "metadata": {},
   "outputs": [
    {
     "data": {
      "text/plain": [
       "\"zal\""
      ]
     },
     "execution_count": 84,
     "metadata": {},
     "output_type": "execute_result"
    }
   ],
   "source": [
    "'z' * 'a' * 'l'  # 連接成字串，並非原本的字元型別"
   ]
  },
  {
   "cell_type": "code",
   "execution_count": 85,
   "metadata": {},
   "outputs": [
    {
     "ename": "MethodError",
     "evalue": "MethodError: no method matching /(::Char, ::Char)",
     "output_type": "error",
     "traceback": [
      "MethodError: no method matching /(::Char, ::Char)",
      "",
      "Stacktrace:",
      " [1] top-level scope at In[85]:1"
     ]
    }
   ],
   "source": [
    "'z' / 'a'"
   ]
  },
  {
   "cell_type": "markdown",
   "metadata": {},
   "source": [
    "使用`^`可以重複同一字元並連接成字串"
   ]
  },
  {
   "cell_type": "code",
   "execution_count": 89,
   "metadata": {},
   "outputs": [
    {
     "data": {
      "text/plain": [
       "\"==========\""
      ]
     },
     "execution_count": 89,
     "metadata": {},
     "output_type": "execute_result"
    }
   ],
   "source": [
    "'=' ^ 10"
   ]
  },
  {
   "cell_type": "markdown",
   "metadata": {
    "colab_type": "text",
    "id": "-gyo3bdglp_4"
   },
   "source": [
    "字元本身加減整數值，可以得到該字元往前或往後對應的字元。"
   ]
  },
  {
   "cell_type": "code",
   "execution_count": 93,
   "metadata": {
    "colab": {},
    "colab_type": "code",
    "id": "Zl4B8-Pzlp_4",
    "outputId": "357fa37a-2ad1-401c-9836-c964291927ca"
   },
   "outputs": [
    {
     "data": {
      "text/plain": [
       "'Z': ASCII/Unicode U+005A (category Lu: Letter, uppercase)"
      ]
     },
     "execution_count": 93,
     "metadata": {},
     "output_type": "execute_result"
    }
   ],
   "source": [
    "'A' + 25"
   ]
  },
  {
   "cell_type": "code",
   "execution_count": 94,
   "metadata": {
    "colab": {},
    "colab_type": "code",
    "id": "wv1rxeGAlp_7",
    "outputId": "d744fae3-e9ef-4b3f-bd67-4c39d5b8df4f"
   },
   "outputs": [
    {
     "data": {
      "text/plain": [
       "'Ü': Unicode U+00DC (category Lu: Letter, uppercase)"
      ]
     },
     "execution_count": 94,
     "metadata": {},
     "output_type": "execute_result"
    }
   ],
   "source": [
    "'x' + 100"
   ]
  },
  {
   "cell_type": "code",
   "execution_count": 97,
   "metadata": {},
   "outputs": [
    {
     "data": {
      "text/plain": [
       "'a': ASCII/Unicode U+0061 (category Ll: Letter, lowercase)"
      ]
     },
     "execution_count": 97,
     "metadata": {},
     "output_type": "execute_result"
    }
   ],
   "source": [
    "'c' - 2"
   ]
  },
  {
   "cell_type": "markdown",
   "metadata": {
    "colab_type": "text",
    "id": "OaIgPpQVlp_9"
   },
   "source": [
    "字元之間可以使用比較運算子進行比較"
   ]
  },
  {
   "cell_type": "code",
   "execution_count": 98,
   "metadata": {
    "colab": {},
    "colab_type": "code",
    "id": "3hQLwRyilp_-",
    "outputId": "1613639e-d3bc-4115-f555-cec7db28ff3f"
   },
   "outputs": [
    {
     "data": {
      "text/plain": [
       "true"
      ]
     },
     "execution_count": 98,
     "metadata": {},
     "output_type": "execute_result"
    }
   ],
   "source": [
    "'A' < 'a'"
   ]
  },
  {
   "cell_type": "markdown",
   "metadata": {
    "colab_type": "text",
    "id": "FPF-2Y97lqAA"
   },
   "source": [
    "## 2. 字串\n",
    "\n",
    "### 2.1 字串的宣告\n",
    "\n",
    "字串是以成對雙引號或是成對的 3 個雙引號。"
   ]
  },
  {
   "cell_type": "code",
   "execution_count": 99,
   "metadata": {
    "colab": {},
    "colab_type": "code",
    "id": "n0n1iJhilqAB",
    "outputId": "b25e59d3-4fee-420f-baf3-a6878dd65730"
   },
   "outputs": [
    {
     "data": {
      "text/plain": [
       "String"
      ]
     },
     "execution_count": 99,
     "metadata": {},
     "output_type": "execute_result"
    }
   ],
   "source": [
    "x = \"Hello Julia\"\n",
    "typeof(x)"
   ]
  },
  {
   "cell_type": "code",
   "execution_count": 100,
   "metadata": {
    "colab": {},
    "colab_type": "code",
    "id": "t3KQJoDUlqAD",
    "outputId": "6b15aa32-e695-445f-db33-aaa47d0b80d0"
   },
   "outputs": [
    {
     "data": {
      "text/plain": [
       "String"
      ]
     },
     "execution_count": 100,
     "metadata": {},
     "output_type": "execute_result"
    }
   ],
   "source": [
    "# 成對的 3 個雙引號\n",
    "typeof(\"\"\"Hello Julia\"\"\")"
   ]
  },
  {
   "cell_type": "code",
   "execution_count": 101,
   "metadata": {
    "colab": {},
    "colab_type": "code",
    "id": "swlxFU_blqAH",
    "outputId": "6f83e014-7f6e-4acb-c45b-955864a72df9"
   },
   "outputs": [
    {
     "data": {
      "text/plain": [
       "\"∀ x ∃ y\""
      ]
     },
     "execution_count": 101,
     "metadata": {},
     "output_type": "execute_result"
    }
   ],
   "source": [
    "# 字串中也可以包含 Unicode 字元\n",
    "y = \"\\u2200 x \\u2203 y\""
   ]
  },
  {
   "cell_type": "markdown",
   "metadata": {
    "colab_type": "text",
    "id": "kT808dp9lqAJ"
   },
   "source": [
    "若是字串中要包含引號的話, 可以用下列兩種方式:\n",
    "- 成對引號中, 使用\\\\加引號\n",
    "- 成對3引號中, 使用引號"
   ]
  },
  {
   "cell_type": "code",
   "execution_count": 102,
   "metadata": {
    "colab": {},
    "colab_type": "code",
    "id": "hJhhDM7FlqAK",
    "outputId": "d0b9c51b-5733-4e5e-b722-fabfdc9ee0ab"
   },
   "outputs": [
    {
     "name": "stdout",
     "output_type": "stream",
     "text": [
      "方式1: 成對引號中, 使用\\加引號\n",
      "Hello \"Julia\" world\n",
      "\n",
      "方式2: 成對3引號中, 使用引號\n",
      "Hello \"Julia\" world\n"
     ]
    }
   ],
   "source": [
    "println(\"方式1: 成對引號中, 使用\\\\加引號\")\n",
    "println(\"Hello \\\"Julia\\\" world\\n\")\n",
    "println(\"方式2: 成對3引號中, 使用引號\")\n",
    "println(\"\"\"Hello \"Julia\" world\"\"\")"
   ]
  },
  {
   "cell_type": "markdown",
   "metadata": {
    "colab_type": "text",
    "id": "wVIb88OHlqAN"
   },
   "source": [
    "Julia 的字串也支援 C 語言的跳脫序列 (escape sequence)。下面範例是在字串中加入換行 `\\n`。\n",
    "\n",
    "詳細說明可以參考 Wikipedia [C syntax](https://en.wikipedia.org/wiki/C_syntax#Backslash_escapes)"
   ]
  },
  {
   "cell_type": "code",
   "execution_count": 103,
   "metadata": {
    "colab": {},
    "colab_type": "code",
    "id": "Sju_iCoAlqAN",
    "outputId": "f52b62bc-0ecc-4b26-c4f4-f855ebbd4947"
   },
   "outputs": [
    {
     "data": {
      "text/plain": [
       "\"hello\\nword\""
      ]
     },
     "execution_count": 103,
     "metadata": {},
     "output_type": "execute_result"
    }
   ],
   "source": [
    "str = \"hello\\nword\""
   ]
  },
  {
   "cell_type": "code",
   "execution_count": 104,
   "metadata": {
    "colab": {},
    "colab_type": "code",
    "id": "qBnyBST3lqAQ",
    "outputId": "60ca747f-91bf-49d4-d300-2b3eb8af18ae"
   },
   "outputs": [
    {
     "name": "stdout",
     "output_type": "stream",
     "text": [
      "hello\n",
      "word\n"
     ]
    }
   ],
   "source": [
    "println(str)"
   ]
  },
  {
   "cell_type": "markdown",
   "metadata": {
    "colab_type": "text",
    "id": "iDdusAVPlqAS"
   },
   "source": [
    "### 2.2 字串的索引\n",
    "\n",
    "字串可以透過索引值，取得對應位置的字元或子字串\n",
    "\n",
    "字串的索引起始值是從 1 開始，在 Julia 語言中預設皆是如此，與其他大多程式語言有所不同"
   ]
  },
  {
   "cell_type": "code",
   "execution_count": 105,
   "metadata": {
    "colab": {},
    "colab_type": "code",
    "id": "qNPEwc68lqAT",
    "outputId": "d5cbb5c7-c680-4bb8-9e36-115be3964212"
   },
   "outputs": [
    {
     "data": {
      "text/plain": [
       "'l': ASCII/Unicode U+006C (category Ll: Letter, lowercase)"
      ]
     },
     "execution_count": 105,
     "metadata": {},
     "output_type": "execute_result"
    }
   ],
   "source": [
    "x = \"Hello Julia\"\n",
    "# 取得 x 字串的第 3 個字元\n",
    "x[3]"
   ]
  },
  {
   "cell_type": "code",
   "execution_count": 106,
   "metadata": {
    "colab": {},
    "colab_type": "code",
    "id": "vWh2MTLMlqAV",
    "outputId": "eea6edef-dd27-44b6-dd3b-7ed9d746092e"
   },
   "outputs": [
    {
     "data": {
      "text/plain": [
       "\"Julia\""
      ]
     },
     "execution_count": 106,
     "metadata": {},
     "output_type": "execute_result"
    }
   ],
   "source": [
    "# 取得 x 字串的第 7 - 最後一個字元的子字串\n",
    "x[7:end]"
   ]
  },
  {
   "cell_type": "code",
   "execution_count": 108,
   "metadata": {},
   "outputs": [
    {
     "data": {
      "text/plain": [
       "\"Hello\""
      ]
     },
     "execution_count": 108,
     "metadata": {},
     "output_type": "execute_result"
    }
   ],
   "source": [
    "# 取得 x 字串的第 1 - 第5字元的子字串\n",
    "x[1:5]  # or x[begin:5]"
   ]
  },
  {
   "cell_type": "code",
   "execution_count": 113,
   "metadata": {},
   "outputs": [
    {
     "data": {
      "text/plain": [
       "true"
      ]
     },
     "execution_count": 113,
     "metadata": {},
     "output_type": "execute_result"
    }
   ],
   "source": [
    "x[5:5] != x[5]  # 前面是新的字串，而後面是字元"
   ]
  },
  {
   "cell_type": "markdown",
   "metadata": {},
   "source": [
    "Range indexing makes a copy of the selected part of the original string. Alternatively, it is possible to create a **view** into a string using the type `SubString`, for example:\n",
    "\n",
    "索引值區間的語法會複製所選範圍的字串，也就是產生了新的字串。\n",
    "\n",
    "相對的，可以使用`SubString`來產生**view**而非複製。"
   ]
  },
  {
   "cell_type": "code",
   "execution_count": 114,
   "metadata": {},
   "outputs": [
    {
     "data": {
      "text/plain": [
       "\"long\""
      ]
     },
     "execution_count": 114,
     "metadata": {},
     "output_type": "execute_result"
    }
   ],
   "source": [
    "str = \"long string\"\n",
    "substr = SubString(str, 1, 4)"
   ]
  },
  {
   "cell_type": "code",
   "execution_count": 115,
   "metadata": {},
   "outputs": [
    {
     "data": {
      "text/plain": [
       "SubString{String}"
      ]
     },
     "execution_count": 115,
     "metadata": {},
     "output_type": "execute_result"
    }
   ],
   "source": [
    "typeof(substr)"
   ]
  },
  {
   "cell_type": "markdown",
   "metadata": {},
   "source": [
    "Several standard functions like `chop`, `chomp` or `strip` return a `SubString`."
   ]
  },
  {
   "cell_type": "markdown",
   "metadata": {
    "colab_type": "text",
    "id": "OtB894vTlqAX"
   },
   "source": [
    "#### 字串中有 UTF-8 編碼字元時計算索引位置\n",
    "\n",
    "下列字串包含 UTF-8 字元。"
   ]
  },
  {
   "cell_type": "code",
   "execution_count": 116,
   "metadata": {
    "colab": {},
    "colab_type": "code",
    "id": "YrK1Zzx6lqAY",
    "outputId": "7979fbd0-8b9d-4d79-a6b0-7c2cedec289a"
   },
   "outputs": [
    {
     "data": {
      "text/plain": [
       "\"∀x∃y\""
      ]
     },
     "execution_count": 116,
     "metadata": {},
     "output_type": "execute_result"
    }
   ],
   "source": [
    "str = \"\\u2200x\\u2203y\" "
   ]
  },
  {
   "cell_type": "code",
   "execution_count": 117,
   "metadata": {
    "colab": {},
    "colab_type": "code",
    "id": "6ts06dFBlqAb",
    "outputId": "612a774d-ba56-405c-d4ef-d5dedd2f96c8"
   },
   "outputs": [
    {
     "data": {
      "text/plain": [
       "'∀': Unicode U+2200 (category Sm: Symbol, math)"
      ]
     },
     "execution_count": 117,
     "metadata": {},
     "output_type": "execute_result"
    }
   ],
   "source": [
    "str[1]"
   ]
  },
  {
   "cell_type": "markdown",
   "metadata": {
    "colab_type": "text",
    "id": "kL778kcTlqAd"
   },
   "source": [
    "因為 UTF-8 字元長度不一定相同，所以用索引有可能無法定位到正確的字元，而會產生錯誤。"
   ]
  },
  {
   "cell_type": "code",
   "execution_count": 118,
   "metadata": {
    "colab": {},
    "colab_type": "code",
    "id": "Ti9Q7A42lqAd",
    "outputId": "dd13e27f-8f75-4882-fd92-e9aa573e64b5"
   },
   "outputs": [
    {
     "ename": "StringIndexError",
     "evalue": "StringIndexError(\"∀x∃y\", 2)",
     "output_type": "error",
     "traceback": [
      "StringIndexError(\"∀x∃y\", 2)",
      "",
      "Stacktrace:",
      " [1] string_index_err(::String, ::Int64) at .\\strings\\string.jl:12",
      " [2] getindex_continued(::String, ::Int64, ::UInt32) at .\\strings\\string.jl:220",
      " [3] getindex(::String, ::Int64) at .\\strings\\string.jl:213",
      " [4] top-level scope at In[118]:1"
     ]
    }
   ],
   "source": [
    "str[2]"
   ]
  },
  {
   "cell_type": "markdown",
   "metadata": {},
   "source": [
    "use the `eachindex` function to iterate over the valid character indices:"
   ]
  },
  {
   "cell_type": "code",
   "execution_count": 134,
   "metadata": {},
   "outputs": [
    {
     "data": {
      "text/plain": [
       "4-element Array{Int64,1}:\n",
       " 1\n",
       " 4\n",
       " 5\n",
       " 8"
      ]
     },
     "execution_count": 134,
     "metadata": {},
     "output_type": "execute_result"
    }
   ],
   "source": [
    "collect(eachindex(str))"
   ]
  },
  {
   "cell_type": "code",
   "execution_count": 129,
   "metadata": {},
   "outputs": [
    {
     "data": {
      "text/plain": [
       "4"
      ]
     },
     "execution_count": 129,
     "metadata": {},
     "output_type": "execute_result"
    }
   ],
   "source": [
    "prevind(str, 8, 2)  # 索引值8往前2個索引值"
   ]
  },
  {
   "cell_type": "code",
   "execution_count": 126,
   "metadata": {},
   "outputs": [
    {
     "data": {
      "text/plain": [
       "'x': ASCII/Unicode U+0078 (category Ll: Letter, lowercase)"
      ]
     },
     "execution_count": 126,
     "metadata": {},
     "output_type": "execute_result"
    }
   ],
   "source": [
    "str[4]"
   ]
  },
  {
   "cell_type": "code",
   "execution_count": 122,
   "metadata": {},
   "outputs": [
    {
     "data": {
      "text/plain": [
       "'x': ASCII/Unicode U+0078 (category Ll: Letter, lowercase)"
      ]
     },
     "execution_count": 122,
     "metadata": {},
     "output_type": "execute_result"
    }
   ],
   "source": [
    "str[prevind(str, end, 2)]"
   ]
  },
  {
   "cell_type": "markdown",
   "metadata": {
    "colab_type": "text",
    "id": "KLKidyBWlqAg"
   },
   "source": [
    "呼叫 `length()` 函式算出字串的長度，我們可以看到是 4 個字元組成的字串。\n",
    "\n",
    "但是若以索引數來看的話，索引長度是 8。`firstindex()` 回傳是字串中第一個索引值，`lastindex()` 回傳是字串中最後一個索引值。"
   ]
  },
  {
   "cell_type": "code",
   "execution_count": 119,
   "metadata": {
    "colab": {},
    "colab_type": "code",
    "id": "oJLaAPielqAg",
    "outputId": "b1804adc-f08a-4fca-93d9-3ebd4f233874"
   },
   "outputs": [
    {
     "name": "stdout",
     "output_type": "stream",
     "text": [
      "字元數目：4\n",
      "索引長度：8\n"
     ]
    }
   ],
   "source": [
    "println(\"字元數目：\", length(str))\n",
    "println(\"索引長度：\", lastindex(str) - firstindex(str) + 1)"
   ]
  },
  {
   "cell_type": "markdown",
   "metadata": {
    "colab_type": "text",
    "id": "FlQbS276lqAp"
   },
   "source": [
    "呼叫 `nextind()` 函式，可以找出正確的 index。在下面例子中，先用 `nextind()` 找出所有在字串中每個字元正確的 index，之後再透過 index 印出每個字元。\n",
    "\n",
    "取得的索引值為存在陣列 (array) 中，陣列我們會在接下來的內容中詳細介紹。"
   ]
  },
  {
   "cell_type": "code",
   "execution_count": 120,
   "metadata": {
    "colab": {},
    "colab_type": "code",
    "id": "Eos0btH5lqAp"
   },
   "outputs": [],
   "source": [
    "a = []\n",
    "i = 0\n",
    "\n",
    "while i < lastindex(str)\n",
    "    i = nextind(str, i)\n",
    "    push!(a, i)\n",
    "end"
   ]
  },
  {
   "cell_type": "code",
   "execution_count": 121,
   "metadata": {
    "colab": {},
    "colab_type": "code",
    "id": "6QnBzttBlqAr",
    "outputId": "5dcf44f9-acad-4af4-b4fe-c556d6ec9fc1"
   },
   "outputs": [
    {
     "name": "stdout",
     "output_type": "stream",
     "text": [
      "∀x∃y"
     ]
    }
   ],
   "source": [
    "# 列出原先字串中的每個字元\n",
    "for j in a\n",
    "    print(str[j])\n",
    "end"
   ]
  },
  {
   "cell_type": "markdown",
   "metadata": {},
   "source": [
    "use the string as an iterable object\n",
    "\n",
    "將字串視為可迭代的物件"
   ]
  },
  {
   "cell_type": "code",
   "execution_count": 123,
   "metadata": {},
   "outputs": [
    {
     "name": "stdout",
     "output_type": "stream",
     "text": [
      "∀x∃y"
     ]
    }
   ],
   "source": [
    "for i in str\n",
    "    print(i)\n",
    "end"
   ]
  },
  {
   "cell_type": "markdown",
   "metadata": {
    "colab_type": "text",
    "id": "OjzQAk7zlqAu"
   },
   "source": [
    "#### 字串的插值 (Interpolation)\n",
    "\n",
    "在應用上，常會遇到需要在字串中插入變數值，與字串結合或輸出，這時候我們可以在字串使用 $，$ 後接續變數名稱或是表達式 (expression)，就可以達到將字串中的變數值或是表達式整合在一起。"
   ]
  },
  {
   "cell_type": "code",
   "execution_count": 135,
   "metadata": {
    "colab": {},
    "colab_type": "code",
    "id": "lOCnfIHmlqAu",
    "outputId": "91481c8f-0a66-4bc9-f3d3-38daf766e9a1"
   },
   "outputs": [
    {
     "name": "stdout",
     "output_type": "stream",
     "text": [
      "Welcome Julia"
     ]
    }
   ],
   "source": [
    "greet = \"Welcome\"\n",
    "whom = \"Julia\"\n",
    "\n",
    "print(\"$greet $whom\")"
   ]
  },
  {
   "cell_type": "code",
   "execution_count": 136,
   "metadata": {
    "colab": {},
    "colab_type": "code",
    "id": "Gl5xhkzelqAx",
    "outputId": "321aa2d9-c855-4992-8ca7-fb9af3e1c264"
   },
   "outputs": [
    {
     "data": {
      "text/plain": [
       "\"1 + 2 = 3\""
      ]
     },
     "execution_count": 136,
     "metadata": {},
     "output_type": "execute_result"
    }
   ],
   "source": [
    "\"1 + 2 = $(1 + 2)\""
   ]
  },
  {
   "cell_type": "markdown",
   "metadata": {
    "colab_type": "text",
    "id": "DDQT0UdblqAz"
   },
   "source": [
    "#### 字串常用操作 – 組合\n",
    "\n",
    "字串與字串或字元之間的組合，可以透過下列幾種方式進行操作：\n",
    "- `string()` 函式\n",
    "- `*` 運算子\n",
    "- `^` 運算子\n",
    "- Broadcast 函式"
   ]
  },
  {
   "cell_type": "code",
   "execution_count": 0,
   "metadata": {
    "colab": {},
    "colab_type": "code",
    "id": "jsuejcYRlqAz",
    "outputId": "cc746bd1-7b80-4477-9627-3a74fbaa98b2"
   },
   "outputs": [
    {
     "data": {
      "text/plain": [
       "\"abc123\""
      ]
     },
     "execution_count": 30,
     "metadata": {
      "tags": []
     },
     "output_type": "execute_result"
    }
   ],
   "source": [
    "string(\"abc\", \"123\")"
   ]
  },
  {
   "cell_type": "code",
   "execution_count": 0,
   "metadata": {
    "colab": {},
    "colab_type": "code",
    "id": "oFTN7i7XlqA2",
    "outputId": "dc9dde87-84ca-4355-f0a0-32fb5de226e2"
   },
   "outputs": [
    {
     "data": {
      "text/plain": [
       "\"abc123\""
      ]
     },
     "execution_count": 31,
     "metadata": {
      "tags": []
     },
     "output_type": "execute_result"
    }
   ],
   "source": [
    "\"abc\" * \"123\""
   ]
  },
  {
   "cell_type": "code",
   "execution_count": 92,
   "metadata": {},
   "outputs": [
    {
     "data": {
      "text/plain": [
       "\"d=1a1a1a1a1a1a1a1a1a1a\""
      ]
     },
     "execution_count": 92,
     "metadata": {},
     "output_type": "execute_result"
    }
   ],
   "source": [
    "\"d=\" * \"1a\" ^ 10  # ^運算子會重複同一字串且優先序高於*運算子"
   ]
  },
  {
   "cell_type": "code",
   "execution_count": 0,
   "metadata": {
    "colab": {},
    "colab_type": "code",
    "id": "1wzLbQT2lqA4",
    "outputId": "655d7c84-5ca6-486d-b890-7016549f8b15"
   },
   "outputs": [
    {
     "data": {
      "text/plain": [
       "\"abc123\""
      ]
     },
     "execution_count": 32,
     "metadata": {
      "tags": []
     },
     "output_type": "execute_result"
    }
   ],
   "source": [
    "broadcast(*, \"abc\", \"123\")"
   ]
  },
  {
   "cell_type": "code",
   "execution_count": 140,
   "metadata": {},
   "outputs": [
    {
     "data": {
      "text/plain": [
       "\"abc123\""
      ]
     },
     "execution_count": 140,
     "metadata": {},
     "output_type": "execute_result"
    }
   ],
   "source": [
    "(*).(\"abc\", \"123\")"
   ]
  },
  {
   "cell_type": "markdown",
   "metadata": {
    "colab_type": "text",
    "id": "8sKwrWjqlqA7"
   },
   "source": [
    "若是要結合字串/字元元組 (tuple) 或是陣列 (array)，可以使用 `join()` 函式，也可以使用 String() 建構子。"
   ]
  },
  {
   "cell_type": "code",
   "execution_count": 148,
   "metadata": {
    "colab": {},
    "colab_type": "code",
    "id": "PSErSpq5lqA9",
    "outputId": "e0c14099-a9b3-46bb-95c1-082ab811fcd6"
   },
   "outputs": [
    {
     "data": {
      "text/plain": [
       "\"abc123\""
      ]
     },
     "execution_count": 148,
     "metadata": {},
     "output_type": "execute_result"
    }
   ],
   "source": [
    "join([\"abc\" \"123\"])"
   ]
  },
  {
   "cell_type": "code",
   "execution_count": 149,
   "metadata": {
    "colab": {},
    "colab_type": "code",
    "id": "cSVkmeCxlqBA",
    "outputId": "21a0da44-e091-4c32-b780-20018c48132f"
   },
   "outputs": [
    {
     "data": {
      "text/plain": [
       "\"abc\""
      ]
     },
     "execution_count": 149,
     "metadata": {},
     "output_type": "execute_result"
    }
   ],
   "source": [
    "String(['a', 'b', 'c'])"
   ]
  },
  {
   "cell_type": "markdown",
   "metadata": {
    "colab_type": "text",
    "id": "SFvd7s_XlqBC"
   },
   "source": [
    "#### 字串常用操作 – 比較\n",
    "\n",
    "字串與字串之間可以用比較運算子進行比較"
   ]
  },
  {
   "cell_type": "code",
   "execution_count": 150,
   "metadata": {
    "colab": {},
    "colab_type": "code",
    "id": "DA_gPQxelqBC",
    "outputId": "75dab90e-2580-4f7a-8ee9-3f1a4ead299d"
   },
   "outputs": [
    {
     "data": {
      "text/plain": [
       "true"
      ]
     },
     "execution_count": 150,
     "metadata": {},
     "output_type": "execute_result"
    }
   ],
   "source": [
    "\"abc\" < \"xyz\""
   ]
  },
  {
   "cell_type": "markdown",
   "metadata": {
    "colab_type": "text",
    "id": "mEkQ9GR4lqBF"
   },
   "source": [
    "但是字串和字元之間不能互相比較大小，只能比較是否相等"
   ]
  },
  {
   "cell_type": "code",
   "execution_count": 151,
   "metadata": {
    "colab": {},
    "colab_type": "code",
    "id": "EVcmHYe-lqBF",
    "outputId": "ef765dd1-61c5-445d-c60f-6226991cd434"
   },
   "outputs": [
    {
     "ename": "MethodError",
     "evalue": "MethodError: no method matching isless(::String, ::Char)\nClosest candidates are:\n  isless(!Matched::Char, ::Char) at char.jl:209\n  isless(!Matched::Missing, ::Any) at missing.jl:87\n  isless(!Matched::AbstractChar, ::AbstractChar) at char.jl:216\n  ...",
     "output_type": "error",
     "traceback": [
      "MethodError: no method matching isless(::String, ::Char)\nClosest candidates are:\n  isless(!Matched::Char, ::Char) at char.jl:209\n  isless(!Matched::Missing, ::Any) at missing.jl:87\n  isless(!Matched::AbstractChar, ::AbstractChar) at char.jl:216\n  ...",
      "",
      "Stacktrace:",
      " [1] <(::String, ::Char) at .\\operators.jl:268",
      " [2] top-level scope at In[151]:1"
     ]
    }
   ],
   "source": [
    "# 產生 exception\n",
    "\"abc\" < 'a'"
   ]
  },
  {
   "cell_type": "code",
   "execution_count": 152,
   "metadata": {
    "colab": {},
    "colab_type": "code",
    "id": "TFjCROPZlqBH",
    "outputId": "2250f2ba-ae71-4a22-9d11-d00ca3ccb6f4"
   },
   "outputs": [
    {
     "data": {
      "text/plain": [
       "false"
      ]
     },
     "execution_count": 152,
     "metadata": {},
     "output_type": "execute_result"
    }
   ],
   "source": [
    "\"abc\" == 'a'"
   ]
  },
  {
   "cell_type": "markdown",
   "metadata": {
    "colab_type": "text",
    "id": "PcGd1PxklqBJ"
   },
   "source": [
    "#### 字串常用操作 – 搜尋\n",
    "\n",
    "要搜尋子字串是否在字串內，可使用 `occursin()` 函式"
   ]
  },
  {
   "cell_type": "code",
   "execution_count": 153,
   "metadata": {
    "colab": {},
    "colab_type": "code",
    "id": "oSimkoWnlqBJ",
    "outputId": "29066905-d675-4531-9834-bfeabde4621d"
   },
   "outputs": [
    {
     "data": {
      "text/plain": [
       "true"
      ]
     },
     "execution_count": 153,
     "metadata": {},
     "output_type": "execute_result"
    }
   ],
   "source": [
    "occursin(\"world\", \"hello world\")"
   ]
  },
  {
   "cell_type": "markdown",
   "metadata": {},
   "source": [
    "也可以搜尋字元是否在字串內"
   ]
  },
  {
   "cell_type": "code",
   "execution_count": 160,
   "metadata": {},
   "outputs": [
    {
     "data": {
      "text/plain": [
       "true"
      ]
     },
     "execution_count": 160,
     "metadata": {},
     "output_type": "execute_result"
    }
   ],
   "source": [
    "occursin('w', \"hello world\")"
   ]
  },
  {
   "cell_type": "markdown",
   "metadata": {
    "colab_type": "text",
    "id": "1EkvZ8oElqBM"
   },
   "source": [
    "要搜尋字元是否在字串內，可使用 in 或是 ∈"
   ]
  },
  {
   "cell_type": "code",
   "execution_count": 154,
   "metadata": {
    "colab": {},
    "colab_type": "code",
    "id": "ndEQ0Td1lqBM",
    "outputId": "d0ca4b89-1173-48d7-cab5-1b4435c5673a"
   },
   "outputs": [
    {
     "data": {
      "text/plain": [
       "true"
      ]
     },
     "execution_count": 154,
     "metadata": {},
     "output_type": "execute_result"
    }
   ],
   "source": [
    "'w' ∈ \"hello world\""
   ]
  },
  {
   "cell_type": "markdown",
   "metadata": {
    "colab_type": "text",
    "id": "7TS0mHjvlqBP"
   },
   "source": [
    "`findfirst()`, `findlast()`, `findprev()`, `findnext()` 函式"
   ]
  },
  {
   "cell_type": "code",
   "execution_count": 155,
   "metadata": {
    "colab": {},
    "colab_type": "code",
    "id": "XTPqqbZClqBP",
    "outputId": "19e3e711-3e96-49eb-96ef-c3824b15a3e3"
   },
   "outputs": [
    {
     "data": {
      "text/plain": [
       "5:5"
      ]
     },
     "execution_count": 155,
     "metadata": {},
     "output_type": "execute_result"
    }
   ],
   "source": [
    "# 找第一個\n",
    "findfirst(\"o\", \"hello world\")"
   ]
  },
  {
   "cell_type": "code",
   "execution_count": 156,
   "metadata": {
    "colab": {},
    "colab_type": "code",
    "id": "jRzEFnF5lqBS",
    "outputId": "5928a64c-df47-49e6-e110-e4e2a436f735"
   },
   "outputs": [
    {
     "data": {
      "text/plain": [
       "8:8"
      ]
     },
     "execution_count": 156,
     "metadata": {},
     "output_type": "execute_result"
    }
   ],
   "source": [
    "# 找最後一個\n",
    "findlast(\"o\", \"hello world\")"
   ]
  },
  {
   "cell_type": "markdown",
   "metadata": {
    "colab_type": "text",
    "id": "C9BAsPKnlqBU"
   },
   "source": [
    "若要比較字元的話，不能直接比較，需要用下列語法進行比較。\n",
    "\n",
    "回傳值與字串互比略為不同，回傳的是絕對的位置。"
   ]
  },
  {
   "cell_type": "code",
   "execution_count": 161,
   "metadata": {},
   "outputs": [
    {
     "data": {
      "text/plain": [
       "8"
      ]
     },
     "execution_count": 161,
     "metadata": {},
     "output_type": "execute_result"
    }
   ],
   "source": [
    "findlast('o', \"hello world\")"
   ]
  },
  {
   "cell_type": "code",
   "execution_count": 159,
   "metadata": {},
   "outputs": [
    {
     "data": {
      "text/plain": [
       "(::Base.Fix2{typeof(isequal),Char}) (generic function with 1 method)"
      ]
     },
     "execution_count": 159,
     "metadata": {},
     "output_type": "execute_result"
    }
   ],
   "source": [
    "isequal('o')"
   ]
  },
  {
   "cell_type": "code",
   "execution_count": 157,
   "metadata": {
    "colab": {},
    "colab_type": "code",
    "id": "DvFGqc6OlqBV",
    "outputId": "3704ce93-16da-47fe-aefa-d81da600681a"
   },
   "outputs": [
    {
     "data": {
      "text/plain": [
       "8"
      ]
     },
     "execution_count": 157,
     "metadata": {},
     "output_type": "execute_result"
    }
   ],
   "source": [
    "findlast(isequal('o'), \"hello world\")"
   ]
  },
  {
   "cell_type": "code",
   "execution_count": 158,
   "metadata": {
    "colab": {},
    "colab_type": "code",
    "id": "HdRRHCxIlqBY",
    "outputId": "4f66d9c0-eb00-4e21-8720-1727644d1bb7"
   },
   "outputs": [
    {
     "data": {
      "text/plain": [
       "10"
      ]
     },
     "execution_count": 158,
     "metadata": {},
     "output_type": "execute_result"
    }
   ],
   "source": [
    "# 找指定位置的找下一個符合字元\n",
    "findnext(isequal('l'), \"hello world\", 6)"
   ]
  },
  {
   "cell_type": "code",
   "execution_count": 162,
   "metadata": {
    "colab": {},
    "colab_type": "code",
    "id": "b1qlVww0lqBb",
    "outputId": "412b463f-759b-4b75-88ee-6981437b184f"
   },
   "outputs": [
    {
     "data": {
      "text/plain": [
       "5"
      ]
     },
     "execution_count": 162,
     "metadata": {},
     "output_type": "execute_result"
    }
   ],
   "source": [
    "# 找指定位置的前一個符合字元\n",
    "findprev(isequal('o'), \"hello world\", 5)"
   ]
  },
  {
   "cell_type": "markdown",
   "metadata": {
    "colab_type": "text",
    "id": "4iKvdTeClqBd"
   },
   "source": [
    "#### 字串常用操作 – 取代\n",
    "\n",
    "取代字串中的內容，可以使用 `replace()` 函式，由於字串本身是 immutable，所以使用 `replace()` 函式不會變更原字串。"
   ]
  },
  {
   "cell_type": "code",
   "execution_count": 163,
   "metadata": {
    "colab": {},
    "colab_type": "code",
    "id": "aBGGjC5NlqBd",
    "outputId": "1a6be699-d828-4eb5-fb1b-42a4af91a60e"
   },
   "outputs": [
    {
     "data": {
      "text/plain": [
       "\"hellp wprld\""
      ]
     },
     "execution_count": 163,
     "metadata": {},
     "output_type": "execute_result"
    }
   ],
   "source": [
    "replace(\"hello world\", \"o\"=>\"p\")"
   ]
  },
  {
   "cell_type": "markdown",
   "metadata": {
    "colab_type": "text",
    "id": "Y1incLHylqBg"
   },
   "source": [
    "搭配使用 count，可以指定要取代的數目。下例僅會取代第一個 o。"
   ]
  },
  {
   "cell_type": "code",
   "execution_count": 164,
   "metadata": {
    "colab": {},
    "colab_type": "code",
    "id": "0RUwMBI1lqBh",
    "outputId": "38868e69-b916-41f7-e5ff-973408e98b3d"
   },
   "outputs": [
    {
     "data": {
      "text/plain": [
       "\"hellp world\""
      ]
     },
     "execution_count": 164,
     "metadata": {},
     "output_type": "execute_result"
    }
   ],
   "source": [
    "replace(\"hello world\", \"o\"=>\"p\"; count=1)"
   ]
  },
  {
   "cell_type": "markdown",
   "metadata": {
    "colab_type": "text",
    "id": "Q-Pr3FMUlqBj"
   },
   "source": [
    "#### 字串常用操作 – 分割\n",
    "\n",
    "分割字串，例如要分割一個逗號分隔的字串時，可以使用 `split()` 函式，分割後的字串，型別為 SubString。"
   ]
  },
  {
   "cell_type": "code",
   "execution_count": 165,
   "metadata": {
    "colab": {},
    "colab_type": "code",
    "id": "LpjArjkGlqBk",
    "outputId": "a0fc222e-4fc5-42c9-9546-c2263eb178df"
   },
   "outputs": [
    {
     "data": {
      "text/plain": [
       "4-element Array{SubString{String},1}:\n",
       " \"hello\"\n",
       " \" world\"\n",
       " \" John\"\n",
       " \" Wick\""
      ]
     },
     "execution_count": 165,
     "metadata": {},
     "output_type": "execute_result"
    }
   ],
   "source": [
    "split(\"hello, world, John, Wick\", ',')"
   ]
  },
  {
   "cell_type": "markdown",
   "metadata": {
    "colab_type": "text",
    "id": "_bfi2HbflqBn"
   },
   "source": [
    "#### 字串常用操作 – 與數值之間的轉型\n",
    "\n",
    "要將數值轉型為字串，可以使用 `string()` 函式"
   ]
  },
  {
   "cell_type": "code",
   "execution_count": 166,
   "metadata": {
    "colab": {},
    "colab_type": "code",
    "id": "8G4vJ9Z-lqBo",
    "outputId": "302de83a-0ab6-4671-db3c-db5c408d82f4"
   },
   "outputs": [
    {
     "data": {
      "text/plain": [
       "\"10\""
      ]
     },
     "execution_count": 166,
     "metadata": {},
     "output_type": "execute_result"
    }
   ],
   "source": [
    "string(10)"
   ]
  },
  {
   "cell_type": "markdown",
   "metadata": {
    "colab_type": "text",
    "id": "UD3JQ9C_lqBr"
   },
   "source": [
    "轉型時，加上 pad 參數可以補足位數\n",
    "\n",
    "下面例子是110 之前補 7 個 0，產生總共 10 位數長的字串。"
   ]
  },
  {
   "cell_type": "code",
   "execution_count": 167,
   "metadata": {
    "colab": {},
    "colab_type": "code",
    "id": "QRHXxuDKlqBs",
    "outputId": "910680b3-1161-4193-92b0-a90676cdedd4"
   },
   "outputs": [
    {
     "data": {
      "text/plain": [
       "\"0000000110\""
      ]
     },
     "execution_count": 167,
     "metadata": {},
     "output_type": "execute_result"
    }
   ],
   "source": [
    "string(110, base=10, pad=10)"
   ]
  },
  {
   "cell_type": "markdown",
   "metadata": {
    "colab_type": "text",
    "id": "rqewyPF0lqBu"
   },
   "source": [
    "要將字串轉型為數值，可使用 `parse()` 函式"
   ]
  },
  {
   "cell_type": "code",
   "execution_count": 168,
   "metadata": {
    "colab": {},
    "colab_type": "code",
    "id": "WFaKetTSlqBu",
    "outputId": "04e258c9-595c-4273-c279-0af010201814"
   },
   "outputs": [
    {
     "data": {
      "text/plain": [
       "12.3"
      ]
     },
     "execution_count": 168,
     "metadata": {},
     "output_type": "execute_result"
    }
   ],
   "source": [
    "parse(Float64, \"12.3\")"
   ]
  },
  {
   "cell_type": "code",
   "execution_count": 169,
   "metadata": {
    "colab": {},
    "colab_type": "code",
    "id": "RY8ejiWGlqBw",
    "outputId": "74a9ad23-4bb5-41a5-c396-0a2bdb65ad36"
   },
   "outputs": [
    {
     "data": {
      "text/plain": [
       "Float64"
      ]
     },
     "execution_count": 169,
     "metadata": {},
     "output_type": "execute_result"
    }
   ],
   "source": [
    "typeof(ans)"
   ]
  },
  {
   "cell_type": "markdown",
   "metadata": {},
   "source": [
    "## [Regular Expressions](https://docs.julialang.org/en/v1/manual/strings/#Regular-Expressions-1)\n",
    "The most basic regular expression literal without any options turned on just uses `r\"...\"`:\n",
    "\n",
    "前面接r的字串即是最基本的正規表達式\n",
    "\n",
    "由於較為複雜，所以請參考連結網頁。"
   ]
  },
  {
   "cell_type": "code",
   "execution_count": 170,
   "metadata": {},
   "outputs": [
    {
     "data": {
      "text/plain": [
       "r\"^\\s*(?:#|$)\""
      ]
     },
     "execution_count": 170,
     "metadata": {},
     "output_type": "execute_result"
    }
   ],
   "source": [
    "r\"^\\s*(?:#|$)\""
   ]
  },
  {
   "cell_type": "code",
   "execution_count": 171,
   "metadata": {},
   "outputs": [
    {
     "data": {
      "text/plain": [
       "Regex"
      ]
     },
     "execution_count": 171,
     "metadata": {},
     "output_type": "execute_result"
    }
   ],
   "source": [
    "typeof(ans)"
   ]
  },
  {
   "cell_type": "markdown",
   "metadata": {},
   "source": [
    "## Raw String Literals\n",
    "Raw strings without interpolation or unescaping can be expressed with non-standard string literals of the form `raw\"...\"`. \n",
    "字串前面接raw\n",
    "\n",
    "`raw\"...\"`"
   ]
  },
  {
   "cell_type": "code",
   "execution_count": 175,
   "metadata": {},
   "outputs": [
    {
     "name": "stdout",
     "output_type": "stream",
     "text": [
      "\\\n"
     ]
    }
   ],
   "source": [
    "println(\"\\\\\")"
   ]
  },
  {
   "cell_type": "code",
   "execution_count": 184,
   "metadata": {},
   "outputs": [
    {
     "name": "stdout",
     "output_type": "stream",
     "text": [
      " \\ \n"
     ]
    }
   ],
   "source": [
    "println(raw\" \\ \")"
   ]
  },
  {
   "cell_type": "markdown",
   "metadata": {},
   "source": [
    "The exception is that quotation marks still must be escaped, e.g. `raw\"\\\"\"` is equivalent to `\"\\\"\"`."
   ]
  },
  {
   "cell_type": "code",
   "execution_count": 177,
   "metadata": {},
   "outputs": [
    {
     "name": "stdout",
     "output_type": "stream",
     "text": [
      "\\\\ \\\"\n"
     ]
    }
   ],
   "source": [
    " println(raw\"\\\\ \\\\\\\"\")"
   ]
  },
  {
   "cell_type": "markdown",
   "metadata": {
    "colab": {},
    "colab_type": "code",
    "id": "EKMaiDYGlqBy"
   },
   "source": [
    "# References:\n",
    "- Marathon example notebook\n",
    "- [Strings](https://docs.julialang.org/en/v1/manual/strings/)\n",
    "- [Wikipedia: UTF-8](https://en.wikipedia.org/wiki/UTF-8)\n",
    "- [C syntax: Backslash escapes](https://en.wikipedia.org/wiki/C_syntax#Backslash_escapes)\n",
    "- [Unicode 13.0 Character Code Charts](http://www.unicode.org/charts/)"
   ]
  }
 ],
 "metadata": {
  "@webio": {
   "lastCommId": null,
   "lastKernelId": null
  },
  "colab": {
   "name": "julia_008_example.ipynb",
   "provenance": []
  },
  "kernelspec": {
   "display_name": "Julia 1.4.0",
   "language": "julia",
   "name": "julia-1.4"
  },
  "language_info": {
   "file_extension": ".jl",
   "mimetype": "application/julia",
   "name": "julia",
   "version": "1.4.0"
  }
 },
 "nbformat": 4,
 "nbformat_minor": 1
}
