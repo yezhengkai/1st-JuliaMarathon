{
 "cells": [
  {
   "cell_type": "markdown",
   "metadata": {},
   "source": [
    "# Julia 深度學習：卷積神經網路模型簡介\n",
    "\n",
    "## 作業 033：訓練 CNN 學習門牌號碼資料集\n",
    "\n",
    "訓練一個 CNN 模型來學習門牌號碼資料集。"
   ]
  },
  {
   "cell_type": "code",
   "execution_count": 1,
   "metadata": {},
   "outputs": [],
   "source": [
    "using Flux\n",
    "using Flux.Data: DataLoader\n",
    "using Flux: @epochs, onecold, onehotbatch, throttle, logitcrossentropy\n",
    "using MLDatasets\n",
    "using Statistics"
   ]
  },
  {
   "cell_type": "code",
   "execution_count": 2,
   "metadata": {},
   "outputs": [],
   "source": [
    "using CuArrays"
   ]
  },
  {
   "cell_type": "markdown",
   "metadata": {},
   "source": [
    "## 讀取資料"
   ]
  },
  {
   "cell_type": "code",
   "execution_count": 3,
   "metadata": {},
   "outputs": [
    {
     "data": {
      "text/plain": [
       "(Float32[0.14901961 0.15294118 … 0.19607843 0.1882353; 0.15294118 0.15294118 … 0.2 0.1882353; … ; 0.16470589 0.16862746 … 0.1764706 0.17254902; 0.15294118 0.15294118 … 0.16470589 0.16470589]\n",
       "\n",
       "Float32[0.40392157 0.40784314 … 0.45882353 0.4509804; 0.40784314 0.40784314 … 0.4627451 0.4509804; … ; 0.40392157 0.39607844 … 0.45490196 0.4509804; 0.38039216 0.38039216 … 0.44313726 0.44313726]\n",
       "\n",
       "Float32[0.23529412 0.23921569 … 0.29803923 0.2901961; 0.23921569 0.23921569 … 0.3019608 0.2901961; … ; 0.24313726 0.24705882 … 0.28235295 0.2784314; 0.22352941 0.22352941 … 0.27058825 0.2784314]\n",
       "\n",
       "Float32[0.5058824 0.5254902 … 0.5411765 0.5137255; 0.49803922 0.52156866 … 0.50980395 0.47843137; … ; 0.48235294 0.49411765 … 0.39607844 0.43529412; 0.48235294 0.49019608 … 0.4392157 0.48235294]\n",
       "\n",
       "Float32[0.5568628 0.5882353 … 0.59607846 0.5686275; 0.56078434 0.58431375 … 0.5647059 0.53333336; … ; 0.5254902 0.5372549 … 0.41960785 0.4627451; 0.5294118 0.5372549 … 0.4627451 0.50980395]\n",
       "\n",
       "Float32[0.6 0.627451 … 0.64705884 0.61960787; 0.59607846 0.61960787 … 0.6156863 0.58431375; … ; 0.6117647 0.6156863 … 0.5254902 0.5647059; 0.6156863 0.61960787 … 0.5647059 0.6117647]\n",
       "\n",
       "Float32[0.5882353 0.5882353 … 0.5764706 0.62352943; 0.5882353 0.5921569 … 0.5764706 0.62352943; … ; 0.5882353 0.6 … 0.54509807 0.59607846; 0.5764706 0.5882353 … 0.5411765 0.59607846]\n",
       "\n",
       "Float32[0.627451 0.627451 … 0.64705884 0.69411767; 0.6392157 0.6392157 … 0.6431373 0.69411767; … ; 0.67058825 0.67058825 … 0.60784316 0.65882355; 0.6627451 0.6627451 … 0.60784316 0.65882355]\n",
       "\n",
       "Float32[0.6627451 0.6627451 … 0.7019608 0.7411765; 0.6666667 0.6627451 … 0.7019608 0.74509805; … ; 0.70980394 0.7058824 … 0.6666667 0.7137255; 0.7058824 0.7019608 … 0.67058825 0.7176471]\n",
       "\n",
       "...\n",
       "\n",
       "Float32[0.050980393 0.050980393 … 0.043137256 0.047058824; 0.047058824 0.047058824 … 0.047058824 0.050980393; … ; 0.10980392 0.11764706 … 0.13725491 0.13725491; 0.105882354 0.11372549 … 0.14509805 0.15294118]\n",
       "\n",
       "Float32[0.05882353 0.05490196 … 0.047058824 0.050980393; 0.050980393 0.050980393 … 0.050980393 0.05490196; … ; 0.1254902 0.13725491 … 0.14117648 0.14117648; 0.12941177 0.13725491 … 0.14901961 0.15294118]\n",
       "\n",
       "Float32[0.05490196 0.05882353 … 0.05490196 0.05882353; 0.05882353 0.05882353 … 0.05882353 0.0627451; … ; 0.12941177 0.13333334 … 0.16470589 0.16862746; 0.12156863 0.12941177 … 0.1764706 0.18431373]\n",
       "\n",
       "Float32[0.23529412 0.23529412 … 0.2627451 0.25882354; 0.23921569 0.23921569 … 0.2627451 0.25490198; … ; 0.4745098 0.49411765 … 0.43529412 0.41960785; 0.4745098 0.49803922 … 0.4392157 0.41568628]\n",
       "\n",
       "Float32[0.21960784 0.22352941 … 0.21960784 0.20784314; 0.22745098 0.23529412 … 0.22352941 0.20784314; … ; 0.5019608 0.52156866 … 0.4392157 0.40784314; 0.5019608 0.5254902 … 0.44313726 0.40392157]\n",
       "\n",
       "Float32[0.2784314 0.29411766 … 0.26666668 0.24705882; 0.2901961 0.30588236 … 0.27058825 0.24705882; … ; 0.5411765 0.56078434 … 0.4862745 0.45882353; 0.5411765 0.5647059 … 0.49019608 0.45490196]\n",
       "\n",
       "Float32[0.40392157 0.43529412 … 0.47058824 0.43529412; 0.40392157 0.43137255 … 0.46666667 0.43529412; … ; 0.41568628 0.4509804 … 0.37254903 0.32156864; 0.4 0.44313726 … 0.36862746 0.32156864]\n",
       "\n",
       "Float32[0.45490196 0.49411765 … 0.4509804 0.40784314; 0.45882353 0.49411765 … 0.4509804 0.4117647; … ; 0.41960785 0.4627451 … 0.35686275 0.3019608; 0.40392157 0.44705883 … 0.3529412 0.29803923]\n",
       "\n",
       "Float32[0.5058824 0.54509807 … 0.52156866 0.47843137; 0.50980395 0.54509807 … 0.5176471 0.47843137; … ; 0.4 0.4392157 … 0.3529412 0.29411766; 0.38039216 0.41960785 … 0.3372549 0.2901961], [5, 2, 1, 10, 6, 1, 9, 1, 1, 8  …  4, 6, 5, 7, 1, 8, 4, 8, 1, 6])"
      ]
     },
     "execution_count": 3,
     "metadata": {},
     "output_type": "execute_result"
    }
   ],
   "source": [
    "train_X, train_y = SVHN2.traindata(Float32, 1:20000)\n",
    "test_X,  test_y  = SVHN2.testdata(Float32, 1:2000)"
   ]
  },
  {
   "cell_type": "code",
   "execution_count": 4,
   "metadata": {},
   "outputs": [
    {
     "name": "stdout",
     "output_type": "stream",
     "text": [
      "(32, 32, 3, 20000)\n",
      "(20000,)\n",
      "(32, 32, 3, 2000)\n",
      "(2000,)\n"
     ]
    }
   ],
   "source": [
    "println(size(train_X))\n",
    "println(size(train_y))\n",
    "println(size(test_X))\n",
    "println(size(test_y))"
   ]
  },
  {
   "cell_type": "code",
   "execution_count": 5,
   "metadata": {},
   "outputs": [
    {
     "data": {
      "text/plain": [
       "10×2000 Flux.OneHotMatrix{Array{Flux.OneHotVector,1}}:\n",
       " 0  0  1  0  0  1  0  1  1  0  0  0  0  …  0  0  0  0  0  0  1  0  0  0  1  0\n",
       " 0  1  0  0  0  0  0  0  0  0  0  0  0     0  0  0  0  0  0  0  0  0  0  0  0\n",
       " 0  0  0  0  0  0  0  0  0  0  1  0  0     0  0  0  0  0  0  0  0  0  0  0  0\n",
       " 0  0  0  0  0  0  0  0  0  0  0  0  0     0  0  1  0  0  0  0  0  1  0  0  0\n",
       " 1  0  0  0  0  0  0  0  0  0  0  0  1     0  0  0  0  1  0  0  0  0  0  0  0\n",
       " 0  0  0  0  1  0  0  0  0  0  0  1  0  …  0  0  0  1  0  0  0  0  0  0  0  1\n",
       " 0  0  0  0  0  0  0  0  0  0  0  0  0     1  0  0  0  0  1  0  0  0  0  0  0\n",
       " 0  0  0  0  0  0  0  0  0  1  0  0  0     0  1  0  0  0  0  0  1  0  1  0  0\n",
       " 0  0  0  0  0  0  1  0  0  0  0  0  0     0  0  0  0  0  0  0  0  0  0  0  0\n",
       " 0  0  0  1  0  0  0  0  0  0  0  0  0     0  0  0  0  0  0  0  0  0  0  0  0"
      ]
     },
     "execution_count": 5,
     "metadata": {},
     "output_type": "execute_result"
    }
   ],
   "source": [
    "train_y = onehotbatch(train_y, 1:10)\n",
    "test_y = onehotbatch(test_y, 1:10)"
   ]
  },
  {
   "cell_type": "markdown",
   "metadata": {},
   "source": [
    "## hyper parameters"
   ]
  },
  {
   "cell_type": "code",
   "execution_count": 23,
   "metadata": {},
   "outputs": [],
   "source": [
    "epochs = 20;\n",
    "batchsize = 64;\n",
    "learining_rate = 0.002;\n",
    "decay = 0.1;\n",
    "decay_step = 1;\n",
    "clip = 1e-4;\n",
    "optimizer = Flux.Optimiser(ExpDecay(learining_rate, decay, decay_step, clip), ADAM(learining_rate));"
   ]
  },
  {
   "cell_type": "markdown",
   "metadata": {},
   "source": [
    "## data loader"
   ]
  },
  {
   "cell_type": "code",
   "execution_count": 24,
   "metadata": {},
   "outputs": [],
   "source": [
    "train = DataLoader(train_X, train_y, batchsize=batchsize, shuffle=true);\n",
    "test = DataLoader(test_X, test_y, batchsize=batchsize);"
   ]
  },
  {
   "cell_type": "markdown",
   "metadata": {},
   "source": [
    "## loss function"
   ]
  },
  {
   "cell_type": "code",
   "execution_count": 25,
   "metadata": {},
   "outputs": [],
   "source": [
    "loss(x, y) = logitcrossentropy(model(x), y);"
   ]
  },
  {
   "cell_type": "markdown",
   "metadata": {},
   "source": [
    "## callback function"
   ]
  },
  {
   "cell_type": "code",
   "execution_count": 26,
   "metadata": {},
   "outputs": [],
   "source": [
    "function test_loss()\n",
    "    l = 0f0\n",
    "    for (x, y) in test\n",
    "        l += loss(x, y)\n",
    "    end\n",
    "    l/length(test)\n",
    "end\n",
    "\n",
    "evalcb() = @show(test_loss());"
   ]
  },
  {
   "cell_type": "markdown",
   "metadata": {},
   "source": [
    "## evaluation function"
   ]
  },
  {
   "cell_type": "code",
   "execution_count": 27,
   "metadata": {},
   "outputs": [
    {
     "data": {
      "text/plain": [
       "accuracy (generic function with 1 method)"
      ]
     },
     "execution_count": 27,
     "metadata": {},
     "output_type": "execute_result"
    }
   ],
   "source": [
    "accuracy(x, y) = mean(onecold(model(x)) .== onecold(y))"
   ]
  },
  {
   "cell_type": "markdown",
   "metadata": {},
   "source": [
    "## CNN 模型\n",
    "Chain(Conv((3, 3), 3=>32, relu), MaxPool((2, 2), pad = (0, 0, 0, 0), stride = (2, 2)), Conv((3, 3), 32=>32, relu), MaxPool((2, 2), pad = (0, 0, 0, 0), stride = (2, 2)), Conv((3, 3), 32=>64, relu), MaxPool((2, 2), pad = (0, 0, 0, 0), stride = (2, 2)), flatten, Dense(1024, 256, relu), Dense(256, 10), softmax)"
   ]
  },
  {
   "cell_type": "code",
   "execution_count": 32,
   "metadata": {},
   "outputs": [
    {
     "data": {
      "text/plain": [
       "Chain(Conv((3, 3), 3=>16, relu), MaxPool((2, 2), pad = (0, 0, 0, 0), stride = (2, 2)), Conv((3, 3), 16=>32, relu), MaxPool((2, 2), pad = (0, 0, 0, 0), stride = (2, 2)), Conv((3, 3), 32=>32, relu), MaxPool((2, 2), pad = (0, 0, 0, 0), stride = (2, 2)), flatten, Dense(512, 10), logsoftmax)"
      ]
     },
     "execution_count": 32,
     "metadata": {},
     "output_type": "execute_result"
    }
   ],
   "source": [
    "model = Chain(\n",
    "    Conv((3, 3), 3=>16, pad=(1,1), relu),\n",
    "    MaxPool((2, 2)),\n",
    "    Conv((3, 3), 16=>32, pad=(1,1), relu),\n",
    "    MaxPool((2, 2)),\n",
    "    Conv((3, 3), 32=>32, pad=(1,1), relu),\n",
    "    MaxPool((2, 2)),\n",
    "    flatten,\n",
    "    Dense(512, 10),\n",
    "    logsoftmax)"
   ]
  },
  {
   "cell_type": "markdown",
   "metadata": {},
   "source": [
    "## using CUDA"
   ]
  },
  {
   "cell_type": "code",
   "execution_count": 33,
   "metadata": {},
   "outputs": [],
   "source": [
    "model = model |> gpu;\n",
    "train_X = train_X |> gpu;\n",
    "train_y = train_y |> gpu;\n",
    "test_X = test_X |> gpu;\n",
    "test_y = test_y |> gpu;"
   ]
  },
  {
   "cell_type": "markdown",
   "metadata": {},
   "source": [
    "## training model"
   ]
  },
  {
   "cell_type": "code",
   "execution_count": 34,
   "metadata": {},
   "outputs": [
    {
     "name": "stderr",
     "output_type": "stream",
     "text": [
      "┌ Info: Epoch 1\n",
      "└ @ Main C:\\Users\\kai\\.julia\\packages\\Flux\\Fj3bt\\src\\optimise\\train.jl:121\n"
     ]
    },
    {
     "name": "stdout",
     "output_type": "stream",
     "text": [
      "test_loss() = 2.3031383f0\n",
      "test_loss() = 1.2359419f0\n"
     ]
    },
    {
     "name": "stderr",
     "output_type": "stream",
     "text": [
      "┌ Info: Epoch 2\n",
      "└ @ Main C:\\Users\\kai\\.julia\\packages\\Flux\\Fj3bt\\src\\optimise\\train.jl:121\n",
      "┌ Info: Epoch 3\n",
      "└ @ Main C:\\Users\\kai\\.julia\\packages\\Flux\\Fj3bt\\src\\optimise\\train.jl:121\n"
     ]
    },
    {
     "name": "stdout",
     "output_type": "stream",
     "text": [
      "test_loss() = 0.84129167f0\n"
     ]
    },
    {
     "name": "stderr",
     "output_type": "stream",
     "text": [
      "┌ Info: Epoch 4\n",
      "└ @ Main C:\\Users\\kai\\.julia\\packages\\Flux\\Fj3bt\\src\\optimise\\train.jl:121\n"
     ]
    },
    {
     "name": "stdout",
     "output_type": "stream",
     "text": [
      "test_loss() = 0.73975223f0\n",
      "test_loss() = 0.6946958f0\n"
     ]
    },
    {
     "name": "stderr",
     "output_type": "stream",
     "text": [
      "┌ Info: Epoch 5\n",
      "└ @ Main C:\\Users\\kai\\.julia\\packages\\Flux\\Fj3bt\\src\\optimise\\train.jl:121\n"
     ]
    },
    {
     "name": "stdout",
     "output_type": "stream",
     "text": [
      "test_loss() = 0.6677616f0\n"
     ]
    },
    {
     "name": "stderr",
     "output_type": "stream",
     "text": [
      "┌ Info: Epoch 6\n",
      "└ @ Main C:\\Users\\kai\\.julia\\packages\\Flux\\Fj3bt\\src\\optimise\\train.jl:121\n",
      "┌ Info: Epoch 7\n",
      "└ @ Main C:\\Users\\kai\\.julia\\packages\\Flux\\Fj3bt\\src\\optimise\\train.jl:121\n"
     ]
    },
    {
     "name": "stdout",
     "output_type": "stream",
     "text": [
      "test_loss() = 0.6341647f0\n"
     ]
    },
    {
     "name": "stderr",
     "output_type": "stream",
     "text": [
      "┌ Info: Epoch 8\n",
      "└ @ Main C:\\Users\\kai\\.julia\\packages\\Flux\\Fj3bt\\src\\optimise\\train.jl:121\n"
     ]
    },
    {
     "name": "stdout",
     "output_type": "stream",
     "text": [
      "test_loss() = 0.6245042f0\n",
      "test_loss() = 0.61042625f0\n"
     ]
    },
    {
     "name": "stderr",
     "output_type": "stream",
     "text": [
      "┌ Info: Epoch 9\n",
      "└ @ Main C:\\Users\\kai\\.julia\\packages\\Flux\\Fj3bt\\src\\optimise\\train.jl:121\n"
     ]
    },
    {
     "name": "stdout",
     "output_type": "stream",
     "text": [
      "test_loss() = 0.60359424f0\n"
     ]
    },
    {
     "name": "stderr",
     "output_type": "stream",
     "text": [
      "┌ Info: Epoch 10\n",
      "└ @ Main C:\\Users\\kai\\.julia\\packages\\Flux\\Fj3bt\\src\\optimise\\train.jl:121\n"
     ]
    },
    {
     "name": "stdout",
     "output_type": "stream",
     "text": [
      "test_loss() = 0.61374575f0\n"
     ]
    },
    {
     "name": "stderr",
     "output_type": "stream",
     "text": [
      "┌ Info: Epoch 11\n",
      "└ @ Main C:\\Users\\kai\\.julia\\packages\\Flux\\Fj3bt\\src\\optimise\\train.jl:121\n"
     ]
    },
    {
     "name": "stdout",
     "output_type": "stream",
     "text": [
      "test_loss() = 0.6482f0\n"
     ]
    },
    {
     "name": "stderr",
     "output_type": "stream",
     "text": [
      "┌ Info: Epoch 12\n",
      "└ @ Main C:\\Users\\kai\\.julia\\packages\\Flux\\Fj3bt\\src\\optimise\\train.jl:121\n"
     ]
    },
    {
     "name": "stdout",
     "output_type": "stream",
     "text": [
      "test_loss() = 0.6079829f0\n"
     ]
    },
    {
     "name": "stderr",
     "output_type": "stream",
     "text": [
      "┌ Info: Epoch 13\n",
      "└ @ Main C:\\Users\\kai\\.julia\\packages\\Flux\\Fj3bt\\src\\optimise\\train.jl:121\n",
      "┌ Info: Epoch 14\n",
      "└ @ Main C:\\Users\\kai\\.julia\\packages\\Flux\\Fj3bt\\src\\optimise\\train.jl:121\n"
     ]
    },
    {
     "name": "stdout",
     "output_type": "stream",
     "text": [
      "test_loss() = 0.6164887f0\n"
     ]
    },
    {
     "name": "stderr",
     "output_type": "stream",
     "text": [
      "┌ Info: Epoch 15\n",
      "└ @ Main C:\\Users\\kai\\.julia\\packages\\Flux\\Fj3bt\\src\\optimise\\train.jl:121\n"
     ]
    },
    {
     "name": "stdout",
     "output_type": "stream",
     "text": [
      "test_loss() = 0.6589031f0\n"
     ]
    },
    {
     "name": "stderr",
     "output_type": "stream",
     "text": [
      "┌ Info: Epoch 16\n",
      "└ @ Main C:\\Users\\kai\\.julia\\packages\\Flux\\Fj3bt\\src\\optimise\\train.jl:121\n"
     ]
    },
    {
     "name": "stdout",
     "output_type": "stream",
     "text": [
      "test_loss() = 0.65968484f0\n",
      "test_loss() = 0.6676631f0\n"
     ]
    },
    {
     "name": "stderr",
     "output_type": "stream",
     "text": [
      "┌ Info: Epoch 17\n",
      "└ @ Main C:\\Users\\kai\\.julia\\packages\\Flux\\Fj3bt\\src\\optimise\\train.jl:121\n"
     ]
    },
    {
     "name": "stdout",
     "output_type": "stream",
     "text": [
      "test_loss() = 0.66870385f0\n"
     ]
    },
    {
     "name": "stderr",
     "output_type": "stream",
     "text": [
      "┌ Info: Epoch 18\n",
      "└ @ Main C:\\Users\\kai\\.julia\\packages\\Flux\\Fj3bt\\src\\optimise\\train.jl:121\n",
      "┌ Info: Epoch 19\n",
      "└ @ Main C:\\Users\\kai\\.julia\\packages\\Flux\\Fj3bt\\src\\optimise\\train.jl:121\n"
     ]
    },
    {
     "name": "stdout",
     "output_type": "stream",
     "text": [
      "test_loss() = 0.6497834f0\n",
      "test_loss() = 0.6821816f0\n"
     ]
    },
    {
     "name": "stderr",
     "output_type": "stream",
     "text": [
      "┌ Info: Epoch 20\n",
      "└ @ Main C:\\Users\\kai\\.julia\\packages\\Flux\\Fj3bt\\src\\optimise\\train.jl:121\n"
     ]
    }
   ],
   "source": [
    "@epochs epochs Flux.train!(loss, params(model), train, optimizer, cb=throttle(evalcb, 10))"
   ]
  },
  {
   "cell_type": "markdown",
   "metadata": {},
   "source": [
    "## model evaluation"
   ]
  },
  {
   "cell_type": "code",
   "execution_count": 35,
   "metadata": {},
   "outputs": [
    {
     "name": "stdout",
     "output_type": "stream",
     "text": [
      "Accuracy: 82.60%\n"
     ]
    }
   ],
   "source": [
    "using Printf\n",
    "@printf(\"Accuracy: %.2f%%\\n\", accuracy(test_X, test_y)*100)"
   ]
  },
  {
   "cell_type": "code",
   "execution_count": null,
   "metadata": {},
   "outputs": [],
   "source": []
  }
 ],
 "metadata": {
  "kernelspec": {
   "display_name": "Julia 1.4.0",
   "language": "julia",
   "name": "julia-1.4"
  },
  "language_info": {
   "file_extension": ".jl",
   "mimetype": "application/julia",
   "name": "julia",
   "version": "1.4.0"
  }
 },
 "nbformat": 4,
 "nbformat_minor": 4
}
