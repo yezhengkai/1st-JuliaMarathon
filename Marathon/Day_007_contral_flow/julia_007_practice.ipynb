{
 "cells": [
  {
   "cell_type": "markdown",
   "metadata": {},
   "source": [
    "# Julia 控制流程 (Control Flow)\n",
    "Julia提供了多種控制流程的構築語句：\n",
    "\n",
    "- 複合表達式([Compound Expressions](https://docs.julialang.org/en/v1/manual/control-flow/#man-compound-expressions-1))：`begin`和`;`\n",
    "- 條件判斷([Conditional Evaluation](https://docs.julialang.org/en/v1/manual/control-flow/#man-conditional-evaluation-1))：`if-elseif-else`和`?:`（三元運算子）。\n",
    "- 最小化求值([Short-circuit evaluation](https://docs.julialang.org/en/v1/manual/control-flow/#Short-Circuit-Evaluation-1))：`&&`、`||`和鍊式比較。\n",
    "- 迴圈([Repeated Evaluation: Loops](https://docs.julialang.org/en/v1/manual/control-flow/#man-loops-1))：`while`和`for`。\n",
    "- 例外處理([Exception Handling](https://docs.julialang.org/en/v1/manual/control-flow/#Exception-Handling-1))：`try-catch`、`error`和`throw`。\n",
    "- 協程([Tasks (aka Coroutines)](https://docs.julialang.org/en/v1/manual/control-flow/#man-tasks-1))：`yieldto`。"
   ]
  },
  {
   "cell_type": "markdown",
   "metadata": {},
   "source": [
    "## 複合表達式 (Compound Expressions)\n",
    "\n",
    "使用`begin`區塊和`;`鏈結子表達式(subexpression)，可以令多個子表達式依序執行並回傳最後一個子表達式的值。"
   ]
  },
  {
   "cell_type": "markdown",
   "metadata": {},
   "source": [
    "### 1.  `begin`"
   ]
  },
  {
   "cell_type": "code",
   "execution_count": 1,
   "metadata": {},
   "outputs": [
    {
     "data": {
      "text/plain": [
       "3"
      ]
     },
     "execution_count": 1,
     "metadata": {},
     "output_type": "execute_result"
    }
   ],
   "source": [
    "z = begin\n",
    "    x = 1\n",
    "    y = 2\n",
    "    x + y\n",
    "end"
   ]
  },
  {
   "cell_type": "markdown",
   "metadata": {},
   "source": [
    "### 2. `;`\n",
    "要使用括號"
   ]
  },
  {
   "cell_type": "code",
   "execution_count": 8,
   "metadata": {},
   "outputs": [
    {
     "data": {
      "text/plain": [
       "3"
      ]
     },
     "execution_count": 8,
     "metadata": {},
     "output_type": "execute_result"
    }
   ],
   "source": [
    "z = (x = 1; y = 2; x + y)"
   ]
  },
  {
   "cell_type": "code",
   "execution_count": 9,
   "metadata": {},
   "outputs": [
    {
     "data": {
      "text/plain": [
       "3"
      ]
     },
     "execution_count": 9,
     "metadata": {},
     "output_type": "execute_result"
    }
   ],
   "source": [
    "z"
   ]
  },
  {
   "cell_type": "code",
   "execution_count": 6,
   "metadata": {},
   "outputs": [
    {
     "data": {
      "text/plain": [
       "7"
      ]
     },
     "execution_count": 6,
     "metadata": {},
     "output_type": "execute_result"
    }
   ],
   "source": [
    "z = x = 5; y = 2; x + y"
   ]
  },
  {
   "cell_type": "code",
   "execution_count": 7,
   "metadata": {},
   "outputs": [
    {
     "data": {
      "text/plain": [
       "5"
      ]
     },
     "execution_count": 7,
     "metadata": {},
     "output_type": "execute_result"
    }
   ],
   "source": [
    "z"
   ]
  },
  {
   "cell_type": "code",
   "execution_count": 3,
   "metadata": {},
   "outputs": [
    {
     "data": {
      "text/plain": [
       "3"
      ]
     },
     "execution_count": 3,
     "metadata": {},
     "output_type": "execute_result"
    }
   ],
   "source": [
    "begin x = 1; y = 2; x + y end"
   ]
  },
  {
   "cell_type": "code",
   "execution_count": 4,
   "metadata": {},
   "outputs": [
    {
     "data": {
      "text/plain": [
       "3"
      ]
     },
     "execution_count": 4,
     "metadata": {},
     "output_type": "execute_result"
    }
   ],
   "source": [
    "(x = 1;\n",
    "y = 2;\n",
    "x + y)"
   ]
  },
  {
   "cell_type": "markdown",
   "metadata": {
    "colab_type": "text",
    "id": "i2Er0cZgkUXg"
   },
   "source": [
    "## 條件判斷 (Conditional Evaluation)"
   ]
  },
  {
   "cell_type": "markdown",
   "metadata": {
    "colab_type": "text",
    "id": "6HvMARkDkUXh"
   },
   "source": [
    "### 1. `if-elseif-else` 語法\n",
    "\n",
    "兩個條件判斷：\n",
    "```julia\n",
    "if 條件式\n",
    "    運算式\n",
    "else\n",
    "    運算式\n",
    "end\n",
    "```\n",
    "\n",
    "多個條件判斷：\n",
    "```julia\n",
    "if 條件式\n",
    "    運算式\n",
    "elseif 條件式\n",
    "    運算式\n",
    "else\n",
    "    運算式\n",
    "end\n",
    "```"
   ]
  },
  {
   "cell_type": "markdown",
   "metadata": {
    "colab_type": "text",
    "id": "Y6cdxp2xkUXi"
   },
   "source": [
    "函式名稱可以用中文。"
   ]
  },
  {
   "cell_type": "code",
   "execution_count": 10,
   "metadata": {
    "colab": {},
    "colab_type": "code",
    "id": "F800nmzokUXi",
    "outputId": "c473301e-99b9-46c1-d2d4-227085b3cfc2"
   },
   "outputs": [
    {
     "data": {
      "text/plain": [
       "比大小 (generic function with 1 method)"
      ]
     },
     "execution_count": 10,
     "metadata": {},
     "output_type": "execute_result"
    }
   ],
   "source": [
    "function 比大小(x, y)\n",
    "    if x > y\n",
    "        println(\"x大\")\n",
    "    elseif x < y\n",
    "        println(\"y大\")\n",
    "    else\n",
    "        println(\"一樣大\")\n",
    "    end\n",
    "end"
   ]
  },
  {
   "cell_type": "code",
   "execution_count": 11,
   "metadata": {
    "colab": {},
    "colab_type": "code",
    "id": "s1QMcLK4kUXn",
    "outputId": "ddfe4553-e1cc-42ca-deb5-ca6a8fbfc5e5"
   },
   "outputs": [
    {
     "name": "stdout",
     "output_type": "stream",
     "text": [
      "y大\n"
     ]
    }
   ],
   "source": [
    "比大小(1,2)"
   ]
  },
  {
   "cell_type": "markdown",
   "metadata": {
    "colab_type": "text",
    "id": "Q-qYvXJJkUXr"
   },
   "source": [
    "Julia 的 if-elseif-else 判斷式中，比較特別的是，在 if / elseif / else 區塊中，本身就會 return value，這跟很多其他的程式語言不同。"
   ]
  },
  {
   "cell_type": "code",
   "execution_count": 12,
   "metadata": {
    "colab": {},
    "colab_type": "code",
    "id": "IbCOwgqQkUXr",
    "outputId": "b67fb0c1-27c9-42c5-f096-8a7112747669"
   },
   "outputs": [
    {
     "name": "stdout",
     "output_type": "stream",
     "text": [
      "x is positive!\n"
     ]
    }
   ],
   "source": [
    "function foo(x)\n",
    "    if x > 0\n",
    "        \"positive!\"\n",
    "    elseif x == 0\n",
    "        \"zero\"\n",
    "    else\n",
    "        \"negative...\"\n",
    "    end\n",
    "end\n",
    "\n",
    "println(\"x is \", foo(3))"
   ]
  },
  {
   "cell_type": "markdown",
   "metadata": {
    "colab_type": "text",
    "id": "Y1WugkHPkUXu"
   },
   "source": [
    "if-elseif-else 條件式結果必須為 Bool (true 或 false)。**在某些程式語言中常用 1 或 0 代表 true 或 false，但是在 Julia 中不允許，並會產生 error。**"
   ]
  },
  {
   "cell_type": "code",
   "execution_count": 13,
   "metadata": {
    "colab": {},
    "colab_type": "code",
    "id": "27Q6btQIkUXv",
    "outputId": "e3304fba-34c2-4288-fc7f-e2fc40d0d024"
   },
   "outputs": [
    {
     "ename": "TypeError",
     "evalue": "TypeError: non-boolean (Int64) used in boolean context",
     "output_type": "error",
     "traceback": [
      "TypeError: non-boolean (Int64) used in boolean context",
      "",
      "Stacktrace:",
      " [1] top-level scope at In[13]:1"
     ]
    }
   ],
   "source": [
    "if 1\n",
    "    println(\"foo\")\n",
    "else\n",
    "    println(\"gee\")\n",
    "end"
   ]
  },
  {
   "cell_type": "markdown",
   "metadata": {
    "colab_type": "text",
    "id": "Y4pmsWF_kUX0"
   },
   "source": [
    "### 三元運算子 Ternary Operator `?`\n",
    "\n",
    "三元運算子的運算式為 a ? b : c，其意義為：如果 a 條件式為 true 的話，就評估 b 運算式；若 a 為 false，則評估 c 運算式。\n",
    "\n",
    "要注意是是在使用三元運算子的時候，? 和 : 前後與運算式都要有空格，否則會產生 error。"
   ]
  },
  {
   "cell_type": "code",
   "execution_count": 14,
   "metadata": {
    "colab": {},
    "colab_type": "code",
    "id": "OSoPeXvbkUX0",
    "outputId": "34dcb58f-a0e2-40bc-bc1d-fd9204348710"
   },
   "outputs": [
    {
     "name": "stdout",
     "output_type": "stream",
     "text": [
      "x is less than y\n"
     ]
    }
   ],
   "source": [
    "x = 1\n",
    "y = 2\n",
    "\n",
    "println(x < y ? \"x is less than y\" : \"x is not less than y\")"
   ]
  },
  {
   "cell_type": "markdown",
   "metadata": {
    "colab_type": "text",
    "id": "T23kr6HWkUYc"
   },
   "source": [
    "## 最小化求值 (Short-circuit evaluation)\n",
    "\n",
    "當有多個條件式，可以透過邏輯運算子達到最小化求值的結果。\n",
    "\n",
    "- && (AND): 兩條件式均為 true 的話就是 true，反之就是 false。\n",
    "- || (OR) : 兩條件式至少一個 true 的話就是 true，反之就是 false。\n",
    "- ! (反相)"
   ]
  },
  {
   "cell_type": "code",
   "execution_count": 8,
   "metadata": {
    "colab": {},
    "colab_type": "code",
    "id": "39_WTII0kUYc",
    "outputId": "937fb664-3b69-4775-d596-d587484772e6"
   },
   "outputs": [
    {
     "name": "stdout",
     "output_type": "stream",
     "text": [
      "true\n"
     ]
    }
   ],
   "source": [
    "i = 1; j = 2\n",
    "\n",
    "if i == 1 && j == 2\n",
    "    println(\"true\")\n",
    "else\n",
    "    println(\"false\")\n",
    "end"
   ]
  },
  {
   "cell_type": "code",
   "execution_count": 9,
   "metadata": {
    "colab": {},
    "colab_type": "code",
    "id": "AUP0_ueUkUYf",
    "outputId": "31c3d547-3cf2-4297-9120-fb6f93a6ca11"
   },
   "outputs": [
    {
     "name": "stdout",
     "output_type": "stream",
     "text": [
      "true\n"
     ]
    }
   ],
   "source": [
    "i = 1; j = 3\n",
    "\n",
    "if i == 1 || j == 2\n",
    "    println(\"true\")\n",
    "else\n",
    "    println(\"false\")\n",
    "end"
   ]
  },
  {
   "cell_type": "code",
   "execution_count": 10,
   "metadata": {
    "colab": {},
    "colab_type": "code",
    "id": "bxrpW56xkUYh",
    "outputId": "18c80944-1577-44ed-fdb8-a64aa013eda9"
   },
   "outputs": [
    {
     "name": "stdout",
     "output_type": "stream",
     "text": [
      "false\n"
     ]
    }
   ],
   "source": [
    "j = 2\n",
    "\n",
    "if !(j == 2)\n",
    "    println(\"true\")\n",
    "else\n",
    "    println(\"false\")\n",
    "end"
   ]
  },
  {
   "cell_type": "markdown",
   "metadata": {},
   "source": [
    "Short-circuit evaluation可以當成簡短的`if`語句來使用。\n",
    "\n",
    "if [cond] [statement] end 相當於 [cond] && [statement]  (which could be read as: [cond] and then [statement])\n",
    "\n",
    "if ! [cond] [statement] end 相當於 [cond] || [statement] (which could be read as: [cond] or else [statement])"
   ]
  },
  {
   "cell_type": "code",
   "execution_count": 15,
   "metadata": {},
   "outputs": [
    {
     "data": {
      "text/plain": [
       "fact (generic function with 1 method)"
      ]
     },
     "execution_count": 15,
     "metadata": {},
     "output_type": "execute_result"
    }
   ],
   "source": [
    "function fact(n::Int)\n",
    "    n >= 0 || error(\"n must be non-negative\")\n",
    "    n == 0 && return 1\n",
    "    n * fact(n-1)\n",
    "end"
   ]
  },
  {
   "cell_type": "code",
   "execution_count": 16,
   "metadata": {},
   "outputs": [
    {
     "data": {
      "text/plain": [
       "120"
      ]
     },
     "execution_count": 16,
     "metadata": {},
     "output_type": "execute_result"
    }
   ],
   "source": [
    "fact(5)"
   ]
  },
  {
   "cell_type": "code",
   "execution_count": 17,
   "metadata": {},
   "outputs": [
    {
     "data": {
      "text/plain": [
       "1"
      ]
     },
     "execution_count": 17,
     "metadata": {},
     "output_type": "execute_result"
    }
   ],
   "source": [
    "fact(0)"
   ]
  },
  {
   "cell_type": "code",
   "execution_count": 18,
   "metadata": {},
   "outputs": [
    {
     "ename": "ErrorException",
     "evalue": "n must be non-negative",
     "output_type": "error",
     "traceback": [
      "n must be non-negative",
      "",
      "Stacktrace:",
      " [1] error(::String) at .\\error.jl:33",
      " [2] fact(::Int64) at .\\In[15]:2",
      " [3] top-level scope at In[18]:1"
     ]
    }
   ],
   "source": [
    "fact(-1)"
   ]
  },
  {
   "cell_type": "markdown",
   "metadata": {},
   "source": [
    "## 迴圈 (Repeated Evaluation: Loops)"
   ]
  },
  {
   "cell_type": "markdown",
   "metadata": {
    "colab_type": "text",
    "id": "Mh-CsaLVkUX3"
   },
   "source": [
    "### 1. `while` 迴圈\n",
    "\n",
    "語法：\n",
    "```\n",
    "while 條件式\n",
    "    運算式\n",
    "end\n",
    "```\n",
    "\n",
    "跟 if-elseif-else 一樣，while 的條件式結果必須為 Bool (true 或 false)。"
   ]
  },
  {
   "cell_type": "code",
   "execution_count": 15,
   "metadata": {
    "colab": {},
    "colab_type": "code",
    "id": "jceRcSf_kUX4",
    "outputId": "87d5432d-4b31-4e3b-844c-40e790d0798c"
   },
   "outputs": [
    {
     "name": "stdout",
     "output_type": "stream",
     "text": [
      "1\n",
      "2\n",
      "3\n",
      "4\n",
      "5\n"
     ]
    }
   ],
   "source": [
    "i = 1\n",
    "\n",
    "while i <= 5\n",
    "    println(i)\n",
    "    i += 1\n",
    "end"
   ]
  },
  {
   "cell_type": "markdown",
   "metadata": {
    "colab_type": "text",
    "id": "eycPqlr8kUX7"
   },
   "source": [
    "#### `break`\n",
    "\n",
    "在迴圈裡面，要中斷可使用 `break` 關鍵字。\n",
    "\n",
    "下面範例中也示範變數範圍 (scope)，在迴圈外的索引值 i 若要在迴圈內特別標明其 scope 的話，可使用 `global` 關鍵字。"
   ]
  },
  {
   "cell_type": "code",
   "execution_count": 1,
   "metadata": {
    "colab": {},
    "colab_type": "code",
    "id": "6H-B1aDNkUX8",
    "outputId": "913ce071-c0e0-4dee-94eb-b3d9edce48cc"
   },
   "outputs": [
    {
     "name": "stdout",
     "output_type": "stream",
     "text": [
      "global i is 1\n",
      "global i is 2\n",
      "global i is 3\n",
      "global i is 4\n",
      "global i is 5\n"
     ]
    }
   ],
   "source": [
    "i = 1\n",
    "\n",
    "while true\n",
    "    println(\"global i is $i\")\n",
    "    \n",
    "    if i >= 5\n",
    "        break\n",
    "    end\n",
    "\n",
    "    global i += 1\n",
    "end"
   ]
  },
  {
   "cell_type": "markdown",
   "metadata": {
    "colab_type": "text",
    "id": "9d4mEjOFkUX_"
   },
   "source": [
    "#### `continue`\n",
    "\n",
    "`continue` 關鍵字在迴圈中，可以用來在某些條件情況下，直接執行下一個迴圈。\n",
    "\n",
    "下面範例是示範印出被 3 整除的數字，若未能被 3 整除則跳過繼續執行。"
   ]
  },
  {
   "cell_type": "code",
   "execution_count": 23,
   "metadata": {
    "colab": {},
    "colab_type": "code",
    "id": "_-yeZO0kkUX_",
    "outputId": "ff26a643-41a6-4ea7-d959-97eb91a3cf6b"
   },
   "outputs": [
    {
     "name": "stdout",
     "output_type": "stream",
     "text": [
      "3\n",
      "6\n",
      "9\n"
     ]
    }
   ],
   "source": [
    "i = 0\n",
    "\n",
    "while i < 10\n",
    "    i += 1\n",
    "    \n",
    "    if i % 3 != 0\n",
    "        continue\n",
    "    end\n",
    "    \n",
    "    println(i)\n",
    "end"
   ]
  },
  {
   "cell_type": "markdown",
   "metadata": {
    "colab_type": "text",
    "id": "tPX9ghp6kUYC"
   },
   "source": [
    "### 2. `for` 迴圈\n",
    "\n",
    "`for` 迴圈的控制可以使用範圍 (range)，也可以使用集合 (例如向量或是元組Tuple)。"
   ]
  },
  {
   "cell_type": "code",
   "execution_count": 25,
   "metadata": {
    "colab": {},
    "colab_type": "code",
    "id": "LTp58S3NkUYD",
    "outputId": "35ec7b8e-6337-4d54-ab2b-f3e331e795fb"
   },
   "outputs": [
    {
     "name": "stdout",
     "output_type": "stream",
     "text": [
      "1\n",
      "2\n",
      "3\n",
      "4\n",
      "5\n"
     ]
    }
   ],
   "source": [
    "# 使用 range\n",
    "for i = 1:5\n",
    "    println(i)\n",
    "end"
   ]
  },
  {
   "cell_type": "code",
   "execution_count": 26,
   "metadata": {},
   "outputs": [
    {
     "name": "stdout",
     "output_type": "stream",
     "text": [
      "1\n",
      "3\n",
      "5\n",
      "7\n",
      "9\n"
     ]
    }
   ],
   "source": [
    "# 使用 range\n",
    "for i = range(1, 10; step=2)\n",
    "    println(i)\n",
    "end"
   ]
  },
  {
   "cell_type": "code",
   "execution_count": 27,
   "metadata": {},
   "outputs": [
    {
     "name": "stdout",
     "output_type": "stream",
     "text": [
      "1.0\n",
      "4.0\n",
      "7.0\n",
      "10.0\n"
     ]
    }
   ],
   "source": [
    "# 使用 range\n",
    "for i = range(1, 10; length=4)\n",
    "    println(i)\n",
    "end"
   ]
  },
  {
   "cell_type": "markdown",
   "metadata": {
    "colab_type": "text",
    "id": "Owulor7YkUYF"
   },
   "source": [
    "使用 `in` 關鍵字也可以。"
   ]
  },
  {
   "cell_type": "code",
   "execution_count": 28,
   "metadata": {
    "colab": {},
    "colab_type": "code",
    "id": "9GEkRsfHkUYH",
    "outputId": "bda2e521-bcb6-4af4-e074-18e03713e1d3"
   },
   "outputs": [
    {
     "name": "stdout",
     "output_type": "stream",
     "text": [
      "1\n",
      "2\n",
      "3\n",
      "4\n",
      "5\n"
     ]
    }
   ],
   "source": [
    "for i in 1:5\n",
    "    println(i)\n",
    "end"
   ]
  },
  {
   "cell_type": "markdown",
   "metadata": {
    "colab_type": "text",
    "id": "ljjem4O_kUYJ"
   },
   "source": [
    "使用字元 ∈ 也可以。輸入 `\\in[tab]` 即可產生 ∈ 字元。"
   ]
  },
  {
   "cell_type": "code",
   "execution_count": 29,
   "metadata": {
    "colab": {},
    "colab_type": "code",
    "id": "sx2UaGORkUYK",
    "outputId": "e9b2fbd7-1f10-4804-a282-77463aeb934a"
   },
   "outputs": [
    {
     "name": "stdout",
     "output_type": "stream",
     "text": [
      "1\n",
      "4\n",
      "0\n"
     ]
    }
   ],
   "source": [
    "# 使用向量\n",
    "for j ∈ [1, 4, 0]\n",
    "    println(j)\n",
    "end"
   ]
  },
  {
   "cell_type": "code",
   "execution_count": 30,
   "metadata": {
    "colab": {},
    "colab_type": "code",
    "id": "xnsgWl9wkUYM",
    "outputId": "ee57df04-647a-41da-c7c5-3b52f4f2bf2d"
   },
   "outputs": [
    {
     "name": "stdout",
     "output_type": "stream",
     "text": [
      "1\n",
      "4\n",
      "0\n"
     ]
    }
   ],
   "source": [
    "# 使用元組 (Tuple)\n",
    "for j ∈ (1, 4, 0)\n",
    "    println(j)\n",
    "end"
   ]
  },
  {
   "cell_type": "markdown",
   "metadata": {},
   "source": [
    "上述迴圈所使用的變數`j`僅存在迴圈內。"
   ]
  },
  {
   "cell_type": "code",
   "execution_count": 31,
   "metadata": {},
   "outputs": [
    {
     "ename": "UndefVarError",
     "evalue": "UndefVarError: j not defined",
     "output_type": "error",
     "traceback": [
      "UndefVarError: j not defined",
      "",
      "Stacktrace:",
      " [1] top-level scope at In[31]:1"
     ]
    }
   ],
   "source": [
    "j"
   ]
  },
  {
   "cell_type": "markdown",
   "metadata": {
    "colab_type": "text",
    "id": "7Pyvw6HIkUYP"
   },
   "source": [
    "#### `break`\n",
    "\n",
    "與上面 `while` 的例子類似，`for` loop 中也可以使用中斷。"
   ]
  },
  {
   "cell_type": "code",
   "execution_count": 24,
   "metadata": {
    "colab": {},
    "colab_type": "code",
    "id": "jpTSrRkzkUYP",
    "outputId": "7731157e-d9a1-465d-a2a0-102f1881ed02"
   },
   "outputs": [
    {
     "name": "stdout",
     "output_type": "stream",
     "text": [
      "1\n",
      "2\n",
      "3\n",
      "4\n",
      "5\n"
     ]
    }
   ],
   "source": [
    "for i = 1:10\n",
    "    println(i)\n",
    "    \n",
    "    if i >= 5\n",
    "        break\n",
    "    end\n",
    "end"
   ]
  },
  {
   "cell_type": "markdown",
   "metadata": {
    "colab_type": "text",
    "id": "99Ql6uXAkUYR"
   },
   "source": [
    "#### `continue`\n",
    "\n",
    "與上面 `while` 的例子類似，`for` loop 中也可以使用 `continue`。"
   ]
  },
  {
   "cell_type": "code",
   "execution_count": 32,
   "metadata": {
    "colab": {},
    "colab_type": "code",
    "id": "k_uDgIklkUYS",
    "outputId": "c37ac29c-171e-4e4b-bc36-4c5cecfef8ad"
   },
   "outputs": [
    {
     "name": "stdout",
     "output_type": "stream",
     "text": [
      "3\n",
      "6\n",
      "9\n"
     ]
    }
   ],
   "source": [
    "j = 0\n",
    "\n",
    "for j = 1:10\n",
    "    if j % 3 != 0\n",
    "        continue\n",
    "    end\n",
    "    \n",
    "    println(j)\n",
    "end"
   ]
  },
  {
   "cell_type": "markdown",
   "metadata": {
    "colab_type": "text",
    "id": "O3mym57hkUYV"
   },
   "source": [
    "### 巢狀迴圈\n",
    "\n",
    "巢狀迴圈的寫法，可以用傳統的寫法: 2 個 for loop，或是更簡潔的寫法，在一個 for loop 中用 2 個 counter 去做控制。"
   ]
  },
  {
   "cell_type": "code",
   "execution_count": 35,
   "metadata": {
    "colab": {},
    "colab_type": "code",
    "id": "LzD_tPGSkUYW",
    "outputId": "b8afa8fd-e285-466c-fba1-4fb03154660b"
   },
   "outputs": [
    {
     "name": "stdout",
     "output_type": "stream",
     "text": [
      "1,3\n",
      "1,4\n",
      "2,3\n",
      "2,4\n",
      "3,3\n",
      "3,4\n",
      "4,3\n",
      "4,4\n",
      "5,3\n",
      "5,4\n"
     ]
    }
   ],
   "source": [
    "for i = 1:5\n",
    "    for j = 3:4 \n",
    "        println(i, \",\", j)\n",
    "    end\n",
    "end"
   ]
  },
  {
   "cell_type": "code",
   "execution_count": 3,
   "metadata": {
    "colab": {},
    "colab_type": "code",
    "id": "DNDa_sNykUYZ",
    "outputId": "547402df-971b-481a-dc5d-06550cfd06cf"
   },
   "outputs": [
    {
     "name": "stdout",
     "output_type": "stream",
     "text": [
      "1,3\n",
      "1,4\n",
      "2,3\n",
      "2,4\n",
      "3,3\n",
      "3,4\n",
      "4,3\n",
      "4,4\n",
      "5,3\n",
      "5,4\n"
     ]
    }
   ],
   "source": [
    "for i = 1:5, j = 3:4 \n",
    "    println(i, \",\", j)\n",
    "end"
   ]
  },
  {
   "cell_type": "markdown",
   "metadata": {},
   "source": [
    "Both variables (j and k) are set to their current iteration values each time the inner loop runs. Therefore, assignments to j will not be visible to subsequent iterations:"
   ]
  },
  {
   "cell_type": "code",
   "execution_count": 6,
   "metadata": {},
   "outputs": [
    {
     "name": "stdout",
     "output_type": "stream",
     "text": [
      "(1, 3)\n",
      "(1, 4)\n",
      "(2, 3)\n",
      "(2, 4)\n"
     ]
    }
   ],
   "source": [
    "for j = 1:2, k = 3:4\n",
    "    println((j, k))\n",
    "    j = 0\n",
    "end"
   ]
  },
  {
   "cell_type": "code",
   "execution_count": 7,
   "metadata": {},
   "outputs": [
    {
     "name": "stdout",
     "output_type": "stream",
     "text": [
      "(1, 3)\n",
      "(0, 4)\n",
      "(2, 3)\n",
      "(0, 4)\n"
     ]
    }
   ],
   "source": [
    "for j = 1:2\n",
    "    for k = 3:4\n",
    "        println((j, k))\n",
    "        j = 0\n",
    "    end\n",
    "end"
   ]
  },
  {
   "cell_type": "markdown",
   "metadata": {},
   "source": [
    "## 例外處理 (Exception Handling)"
   ]
  },
  {
   "cell_type": "markdown",
   "metadata": {},
   "source": [
    "Built-in Exceptions\n",
    "Exceptions are thrown when an unexpected condition has occurred. The built-in Exceptions listed below all interrupt the normal flow of control.\n",
    "\n",
    "|Exception|\n",
    "|-------|\n",
    "|ArgumentError|\n",
    "|BoundsError|\n",
    "|CompositeException|\n",
    "|DimensionMismatch|\n",
    "|DivideError|\n",
    "|DomainError|\n",
    "|EOFError|\n",
    "|ErrorException|\n",
    "|InexactError|\n",
    "|InitError|\n",
    "|InterruptException|\n",
    "|InvalidStateException|\n",
    "|KeyError|\n",
    "|LoadError|\n",
    "|OutOfMemoryError|\n",
    "|ReadOnlyMemoryError|\n",
    "|RemoteException|\n",
    "|MethodError|\n",
    "|OverflowError|\n",
    "|Meta.ParseError|\n",
    "|SystemError|\n",
    "|TypeError|\n",
    "|UndefRefError|\n",
    "|UndefVarError|\n",
    "|StringIndexError|"
   ]
  },
  {
   "cell_type": "markdown",
   "metadata": {},
   "source": [
    "define your own exceptions"
   ]
  },
  {
   "cell_type": "code",
   "execution_count": 14,
   "metadata": {},
   "outputs": [],
   "source": [
    "# <:(T1, T2) Subtype operator: returns true if and only if all values of type T1 are also of type T2.\n",
    "# >:(T1, T2) Supertype operator, equivalent to T2 <: T1.\n",
    "struct MyCustomException <: Exception end"
   ]
  },
  {
   "cell_type": "markdown",
   "metadata": {},
   "source": [
    "### The `throw` function\n",
    "\n",
    "Exceptions can be created explicitly with throw\n",
    "\n",
    "可以使用`throw`引發例外"
   ]
  },
  {
   "cell_type": "code",
   "execution_count": 19,
   "metadata": {},
   "outputs": [
    {
     "data": {
      "text/plain": [
       "f (generic function with 1 method)"
      ]
     },
     "execution_count": 19,
     "metadata": {},
     "output_type": "execute_result"
    }
   ],
   "source": [
    "f(x) = x>=0 ? exp(-x) : throw(DomainError(x, \"argument must be nonnegative\"))"
   ]
  },
  {
   "cell_type": "code",
   "execution_count": 20,
   "metadata": {},
   "outputs": [
    {
     "data": {
      "text/plain": [
       "0.006737946999085467"
      ]
     },
     "execution_count": 20,
     "metadata": {},
     "output_type": "execute_result"
    }
   ],
   "source": [
    "f(5)"
   ]
  },
  {
   "cell_type": "code",
   "execution_count": 21,
   "metadata": {},
   "outputs": [
    {
     "ename": "DomainError",
     "evalue": "DomainError with -1:\nargument must be nonnegative",
     "output_type": "error",
     "traceback": [
      "DomainError with -1:\nargument must be nonnegative",
      "",
      "Stacktrace:",
      " [1] f(::Int64) at .\\In[19]:1",
      " [2] top-level scope at In[21]:1"
     ]
    }
   ],
   "source": [
    "f(-1)"
   ]
  },
  {
   "cell_type": "markdown",
   "metadata": {},
   "source": [
    "Note that DomainError without parentheses is not an exception, but a type of exception. It needs to be called to obtain an Exception object:\n",
    "\n",
    "DomainError後面一定要有括號才是屬於exception的型別。"
   ]
  },
  {
   "cell_type": "code",
   "execution_count": 23,
   "metadata": {},
   "outputs": [
    {
     "data": {
      "text/plain": [
       "true"
      ]
     },
     "execution_count": 23,
     "metadata": {},
     "output_type": "execute_result"
    }
   ],
   "source": [
    "typeof(DomainError(nothing)) <: Exception"
   ]
  },
  {
   "cell_type": "code",
   "execution_count": 27,
   "metadata": {},
   "outputs": [
    {
     "data": {
      "text/plain": [
       "false"
      ]
     },
     "execution_count": 27,
     "metadata": {},
     "output_type": "execute_result"
    }
   ],
   "source": [
    "typeof(DomainError) <: Exception"
   ]
  },
  {
   "cell_type": "code",
   "execution_count": 24,
   "metadata": {},
   "outputs": [
    {
     "ename": "MethodError",
     "evalue": "MethodError: no method matching DomainError()\nClosest candidates are:\n  DomainError(!Matched::Any) at boot.jl:259\n  DomainError(!Matched::Any, !Matched::Any) at boot.jl:260",
     "output_type": "error",
     "traceback": [
      "MethodError: no method matching DomainError()\nClosest candidates are:\n  DomainError(!Matched::Any) at boot.jl:259\n  DomainError(!Matched::Any, !Matched::Any) at boot.jl:260",
      "",
      "Stacktrace:",
      " [1] top-level scope at In[24]:1"
     ]
    }
   ],
   "source": [
    "typeof(DomainError()) <: Exception"
   ]
  },
  {
   "cell_type": "code",
   "execution_count": 28,
   "metadata": {},
   "outputs": [
    {
     "data": {
      "text/plain": [
       "DomainError"
      ]
     },
     "execution_count": 28,
     "metadata": {},
     "output_type": "execute_result"
    }
   ],
   "source": [
    "typeof(DomainError(nothing))"
   ]
  },
  {
   "cell_type": "code",
   "execution_count": 31,
   "metadata": {},
   "outputs": [
    {
     "data": {
      "text/plain": [
       "DataType"
      ]
     },
     "execution_count": 31,
     "metadata": {},
     "output_type": "execute_result"
    }
   ],
   "source": [
    "typeof(DomainError)"
   ]
  },
  {
   "cell_type": "markdown",
   "metadata": {},
   "source": [
    "### Errors\n",
    "The `error` function is used to produce an `ErrorException` that interrupts the normal flow of control."
   ]
  },
  {
   "cell_type": "code",
   "execution_count": 33,
   "metadata": {},
   "outputs": [
    {
     "data": {
      "text/plain": [
       "verbose_fussy_sqrt (generic function with 1 method)"
      ]
     },
     "execution_count": 33,
     "metadata": {},
     "output_type": "execute_result"
    }
   ],
   "source": [
    "fussy_sqrt(x) = x >= 0 ? sqrt(x) : error(\"negative x not allowed\")\n",
    "\n",
    "function verbose_fussy_sqrt(x)\n",
    "    println(\"before fussy_sqrt\")\n",
    "    r = fussy_sqrt(x)\n",
    "    println(\"after fussy_sqrt\")\n",
    "    return r\n",
    "end"
   ]
  },
  {
   "cell_type": "code",
   "execution_count": 34,
   "metadata": {},
   "outputs": [
    {
     "name": "stdout",
     "output_type": "stream",
     "text": [
      "before fussy_sqrt\n",
      "after fussy_sqrt\n"
     ]
    },
    {
     "data": {
      "text/plain": [
       "1.4142135623730951"
      ]
     },
     "execution_count": 34,
     "metadata": {},
     "output_type": "execute_result"
    }
   ],
   "source": [
    "verbose_fussy_sqrt(2)"
   ]
  },
  {
   "cell_type": "code",
   "execution_count": 35,
   "metadata": {},
   "outputs": [
    {
     "name": "stdout",
     "output_type": "stream",
     "text": [
      "before fussy_sqrt\n"
     ]
    },
    {
     "ename": "ErrorException",
     "evalue": "negative x not allowed",
     "output_type": "error",
     "traceback": [
      "negative x not allowed",
      "",
      "Stacktrace:",
      " [1] error(::String) at .\\error.jl:33",
      " [2] fussy_sqrt at .\\In[33]:1 [inlined]",
      " [3] verbose_fussy_sqrt(::Int64) at .\\In[33]:5",
      " [4] top-level scope at In[35]:1"
     ]
    }
   ],
   "source": [
    "# instead of trying to continue execution of the calling function, \n",
    "# it returns immediately, displaying the error message in the interactive session\n",
    "verbose_fussy_sqrt(-1)"
   ]
  },
  {
   "cell_type": "markdown",
   "metadata": {},
   "source": [
    "### The try/catch statement\n",
    "\n",
    "```julia\n",
    "try\n",
    "    要測試有無錯誤產生的語句區塊\n",
    "catch e\n",
    "    定義有錯誤時，需要進行何種處理的區塊\n",
    "end\n",
    "```"
   ]
  },
  {
   "cell_type": "code",
   "execution_count": 36,
   "metadata": {},
   "outputs": [
    {
     "name": "stdout",
     "output_type": "stream",
     "text": [
      "You should have entered a numeric value\n"
     ]
    }
   ],
   "source": [
    "try\n",
    "   sqrt(\"ten\")\n",
    "catch e\n",
    "   println(\"You should have entered a numeric value\")\n",
    "end"
   ]
  },
  {
   "cell_type": "markdown",
   "metadata": {},
   "source": [
    "try/catch statements also allow the Exception to be saved in a variable\n",
    "\n",
    "Exception可存成變數"
   ]
  },
  {
   "cell_type": "code",
   "execution_count": 37,
   "metadata": {},
   "outputs": [
    {
     "data": {
      "text/plain": [
       "sqrt_second (generic function with 1 method)"
      ]
     },
     "execution_count": 37,
     "metadata": {},
     "output_type": "execute_result"
    }
   ],
   "source": [
    "sqrt_second(x) = try\n",
    "           sqrt(x[2])\n",
    "       catch y\n",
    "           if isa(y, DomainError)\n",
    "               sqrt(complex(x[2], 0))\n",
    "           elseif isa(y, BoundsError)\n",
    "               sqrt(x)\n",
    "           end\n",
    "       end"
   ]
  },
  {
   "cell_type": "code",
   "execution_count": 38,
   "metadata": {},
   "outputs": [
    {
     "data": {
      "text/plain": [
       "2.0"
      ]
     },
     "execution_count": 38,
     "metadata": {},
     "output_type": "execute_result"
    }
   ],
   "source": [
    "sqrt_second([1 4])"
   ]
  },
  {
   "cell_type": "code",
   "execution_count": 39,
   "metadata": {},
   "outputs": [
    {
     "data": {
      "text/plain": [
       "0.0 + 2.0im"
      ]
     },
     "execution_count": 39,
     "metadata": {},
     "output_type": "execute_result"
    }
   ],
   "source": [
    "sqrt_second([1 -4])"
   ]
  },
  {
   "cell_type": "code",
   "execution_count": 40,
   "metadata": {},
   "outputs": [
    {
     "data": {
      "text/plain": [
       "3.0"
      ]
     },
     "execution_count": 40,
     "metadata": {},
     "output_type": "execute_result"
    }
   ],
   "source": [
    "sqrt_second(9)"
   ]
  },
  {
   "cell_type": "code",
   "execution_count": 41,
   "metadata": {},
   "outputs": [
    {
     "ename": "DomainError",
     "evalue": "DomainError with -9.0:\nsqrt will only return a complex result if called with a complex argument. Try sqrt(Complex(x)).",
     "output_type": "error",
     "traceback": [
      "DomainError with -9.0:\nsqrt will only return a complex result if called with a complex argument. Try sqrt(Complex(x)).",
      "",
      "Stacktrace:",
      " [1] throw_complex_domainerror(::Symbol, ::Float64) at .\\math.jl:33",
      " [2] sqrt at .\\math.jl:557 [inlined]",
      " [3] sqrt at .\\math.jl:583 [inlined]",
      " [4] sqrt_second(::Int64) at .\\In[37]:7",
      " [5] top-level scope at In[41]:1"
     ]
    }
   ],
   "source": [
    "sqrt_second(-9)"
   ]
  },
  {
   "cell_type": "markdown",
   "metadata": {},
   "source": [
    "Note that the symbol following catch will always be interpreted as a name for the exception, so care is needed when writing try/catch expressions on a single line.\n",
    "\n",
    "(X)\n",
    "```julia\n",
    "try bad() catch x end\n",
    "```\n",
    "(O)\n",
    "```julia\n",
    "try bad() catch; x end\n",
    "```"
   ]
  },
  {
   "cell_type": "markdown",
   "metadata": {},
   "source": [
    "The power of the try/catch construct lies in the ability to unwind a deeply nested computation immediately to a much higher level in the stack of calling functions. There are situations where no error has occurred, but the ability to unwind the stack and pass a value to a higher level is desirable. Julia provides the `rethrow`, `backtrace`, `catch_backtrace` and `ase.catch_stack` functions for more advanced error handling."
   ]
  },
  {
   "cell_type": "markdown",
   "metadata": {},
   "source": [
    "### `finally` Clauses\n",
    "\n",
    "The `finally` keyword provides a way to run some code when a given block of code exits, regardless of how it exits.\n",
    "\n",
    "`finally`語句保證某個區塊的程式碼執行後，必定會執行`finally`區塊的程式碼。\n",
    "\n",
    "```julia\n",
    "f = open(\"file\")\n",
    "try\n",
    "    # operate on file f\n",
    "finally\n",
    "    close(f)\n",
    "end\n",
    "```"
   ]
  },
  {
   "cell_type": "markdown",
   "metadata": {},
   "source": [
    "## 協程 (Tasks (aka Coroutines))\n",
    "\n",
    "較為進階，請參考[Tasks (aka Coroutines)](https://docs.julialang.org/en/v1/manual/control-flow/#man-tasks-1)以及[Coroutine](https://en.wikipedia.org/wiki/Coroutine)。"
   ]
  },
  {
   "cell_type": "markdown",
   "metadata": {
    "colab": {},
    "colab_type": "code",
    "id": "ne4iuDilkUYj"
   },
   "source": [
    "# References:\n",
    "- Marathon example notebook\n",
    "- [Control Flow](https://docs.julialang.org/en/v1/manual/control-flow/)\n",
    "- [Coroutine](https://en.wikipedia.org/wiki/Coroutine)"
   ]
  }
 ],
 "metadata": {
  "@webio": {
   "lastCommId": null,
   "lastKernelId": null
  },
  "colab": {
   "name": "julia_007_example.ipynb",
   "provenance": []
  },
  "kernelspec": {
   "display_name": "Julia 1.4.0",
   "language": "julia",
   "name": "julia-1.4"
  },
  "language_info": {
   "file_extension": ".jl",
   "mimetype": "application/julia",
   "name": "julia",
   "version": "1.4.0"
  }
 },
 "nbformat": 4,
 "nbformat_minor": 1
}
