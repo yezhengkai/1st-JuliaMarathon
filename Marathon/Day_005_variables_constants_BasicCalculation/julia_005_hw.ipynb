{
 "cells": [
  {
   "cell_type": "markdown",
   "metadata": {
    "colab_type": "text",
    "id": "EDGcSU9RafSz"
   },
   "source": [
    "# Julia 變數 (Variables)、常數 (Constants) 與內建數學常數、與運算\n",
    "\n",
    "## Day 005 作業：利用蒙地卡羅方法，估算圓周率\n",
    "\n",
    "蒙地卡羅方法 (Monte Carlo Method) 也稱為統計類比方法，可透過隨機分布的特徵數轉化為求解問題的答案，例如隨機數出現的機率。利用蒙地卡羅方法，估算圓周率的方式是藉由輸入隨機數來計算圓面積的過程，計算出圓周率 $\\pi$。\n",
    "\n",
    "![](circle.png)\n",
    "\n",
    "假設有一個直徑長為 1 的圓形，要使用蒙地卡羅方法計算其面積，我們隨機塞入 N 個點到上面的正方形當中，有些點會落在圓形內而有些點會在圓形外，算出落在圓形內點的數目就可以得到圓形的面積。\n",
    "\n",
    "假設半徑為 $r$，圓形面積的計算公式為\n",
    "$$\\pi r^2=\\pi\\times0.5^2=\\frac{\\pi}{4}$$\n",
    "\n",
    "並以此得到 $$\\pi=4\\times面積=4\\times\\frac{落在圓內的點}{所有的點}$$"
   ]
  },
  {
   "cell_type": "code",
   "execution_count": 1,
   "metadata": {
    "colab": {},
    "colab_type": "code",
    "id": "UpY-Se1QafS3"
   },
   "outputs": [
    {
     "data": {
      "text/plain": [
       "0.5"
      ]
     },
     "execution_count": 1,
     "metadata": {},
     "output_type": "execute_result"
    }
   ],
   "source": [
    "# 半徑長度\n",
    "radius = 0.5"
   ]
  },
  {
   "cell_type": "code",
   "execution_count": 2,
   "metadata": {},
   "outputs": [
    {
     "data": {
      "text/plain": [
       "100000"
      ]
     },
     "execution_count": 2,
     "metadata": {},
     "output_type": "execute_result"
    }
   ],
   "source": [
    "# 設定隨機數產生的數目\n",
    "n = 100000"
   ]
  },
  {
   "cell_type": "code",
   "execution_count": 3,
   "metadata": {
    "colab": {},
    "colab_type": "code",
    "id": "g5P95yTvafTF"
   },
   "outputs": [
    {
     "data": {
      "text/plain": [
       "0"
      ]
     },
     "execution_count": 3,
     "metadata": {},
     "output_type": "execute_result"
    }
   ],
   "source": [
    "# 計算落在圓內點的數量\n",
    "count = 0"
   ]
  },
  {
   "cell_type": "markdown",
   "metadata": {
    "colab_type": "text",
    "id": "4Zzfd3NrafTK"
   },
   "source": [
    "隨機產生兩個 0 到 1 之間的亂數以做為點的座標，並用迴圈計算及判斷點是否落在圓內 (迴圈及條件式的語法將會在 Day_007 詳細說明)\n",
    "\n",
    "[提示] \n",
    "1. 隨機數的產生，請回顧 Day_004 的內容。\n",
    "2. 隨機點到中心點的距離，為 $\\sqrt{(x-0.5)^2 + (y-0.5)^2}$，可以呼叫內建函式 `sqrt()` 開根號。"
   ]
  },
  {
   "cell_type": "code",
   "execution_count": 4,
   "metadata": {
    "colab": {},
    "colab_type": "code",
    "id": "y0kmovBBafTM"
   },
   "outputs": [],
   "source": [
    "for i = 1:n\n",
    "    x = rand(Float64)\n",
    "    y = rand(Float64)\n",
    "\n",
    "    # 計算隨機點到中心點的距離，若距離小於半徑，表示點落在圓內\n",
    "    dist = hypot((x - radius), (y - radius))\n",
    "    \n",
    "    if dist <= radius\n",
    "        count += 1\n",
    "    end\n",
    "end"
   ]
  },
  {
   "cell_type": "markdown",
   "metadata": {
    "colab_type": "text",
    "id": "UT6njuWaafTR"
   },
   "source": [
    "估算出 $\\pi$ 值"
   ]
  },
  {
   "cell_type": "code",
   "execution_count": 5,
   "metadata": {
    "colab": {},
    "colab_type": "code",
    "id": "JTB2HojJafTT"
   },
   "outputs": [
    {
     "data": {
      "text/plain": [
       "3.14372"
      ]
     },
     "execution_count": 5,
     "metadata": {},
     "output_type": "execute_result"
    }
   ],
   "source": [
    "mypi = 4 * count / n"
   ]
  },
  {
   "cell_type": "code",
   "execution_count": null,
   "metadata": {},
   "outputs": [],
   "source": []
  }
 ],
 "metadata": {
  "@webio": {
   "lastCommId": null,
   "lastKernelId": null
  },
  "colab": {
   "name": "julia_005_hw.ipynb",
   "provenance": []
  },
  "kernelspec": {
   "display_name": "Julia 1.4.0",
   "language": "julia",
   "name": "julia-1.4"
  },
  "language_info": {
   "file_extension": ".jl",
   "mimetype": "application/julia",
   "name": "julia",
   "version": "1.4.0"
  }
 },
 "nbformat": 4,
 "nbformat_minor": 4
}
