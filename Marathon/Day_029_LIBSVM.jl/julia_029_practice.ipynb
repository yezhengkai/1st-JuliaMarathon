{
 "cells": [
  {
   "cell_type": "markdown",
   "metadata": {},
   "source": [
    "# Julia 機器學習：LIBSVM 支撐向量機"
   ]
  },
  {
   "cell_type": "markdown",
   "metadata": {},
   "source": [
    "本範例需要使用到的套件有 LIBSVM、StatsBase，請在執行以下範例前先安裝。\n",
    "\n",
    "```\n",
    "] add LIBSVM\n",
    "] add StatsBase\n",
    "```"
   ]
  },
  {
   "cell_type": "code",
   "execution_count": 3,
   "metadata": {},
   "outputs": [
    {
     "name": "stderr",
     "output_type": "stream",
     "text": [
      "\u001b[32m\u001b[1m  Resolving\u001b[22m\u001b[39m package versions...\n",
      "\u001b[32m\u001b[1m  Installed\u001b[22m\u001b[39m OpenBLAS_jll ──── v0.3.9+3\n",
      "\u001b[32m\u001b[1m  Installed\u001b[22m\u001b[39m ScikitLearnBase ─ v0.5.0\n",
      "\u001b[32m\u001b[1m  Installed\u001b[22m\u001b[39m LIBSVM ────────── v0.4.0\n",
      "\u001b[32m\u001b[1m  Installed\u001b[22m\u001b[39m LIBLINEAR ─────── v0.5.1\n",
      "\u001b[32m\u001b[1m   Updating\u001b[22m\u001b[39m `C:\\Users\\kai\\.julia\\environments\\v1.4\\Project.toml`\n",
      " \u001b[90m [b1bec4e5]\u001b[39m\u001b[92m + LIBSVM v0.4.0\u001b[39m\n",
      "\u001b[32m\u001b[1m   Updating\u001b[22m\u001b[39m `C:\\Users\\kai\\.julia\\environments\\v1.4\\Manifest.toml`\n",
      " \u001b[90m [2d691ee1]\u001b[39m\u001b[92m + LIBLINEAR v0.5.1\u001b[39m\n",
      " \u001b[90m [b1bec4e5]\u001b[39m\u001b[92m + LIBSVM v0.4.0\u001b[39m\n",
      " \u001b[90m [4536629a]\u001b[39m\u001b[93m ↑ OpenBLAS_jll v0.3.9+2 ⇒ v0.3.9+3\u001b[39m\n",
      " \u001b[90m [6e75b9c4]\u001b[39m\u001b[92m + ScikitLearnBase v0.5.0\u001b[39m\n",
      "\u001b[32m\u001b[1m   Building\u001b[22m\u001b[39m LIBLINEAR → `C:\\Users\\kai\\.julia\\packages\\LIBLINEAR\\yTdp5\\deps\\build.log`\n",
      "\u001b[32m\u001b[1m   Building\u001b[22m\u001b[39m LIBSVM ───→ `C:\\Users\\kai\\.julia\\packages\\LIBSVM\\5Z99T\\deps\\build.log`\n",
      "base64 binary data: 4pSMIEVycm9yOiBFcnJvciBidWlsZGluZyBgTElCU1ZNYDogCuKUgiBbIEluZm86IERvd25sb2FkaW5nIExJQlNWTSBiaW5hcnkK4pSCIOKUjCBFcnJvcjogRG93bmxvYWQgZmFpbGVkOiBjdXJsOiAoMzUpIHNjaGFubmVsOiBuZXh0IEluaXRpYWxpemVTZWN1cml0eUNvbnRleHQgZmFpbGVkOiBVbmtub3duIGVycm9yICgweDgwMDkyMDEyKSAtILpNvlClXK/gtUyqa8DLrGS+zMPSqrq6Tb5QoUMK4pSCIOKUlCBAIEJhc2UgZG93bmxvYWQuamw6NDMK4pSCIEVSUk9SOiBMb2FkRXJyb3I6IGZhaWxlZCBwcm9jZXNzOiBQcm9jZXNzKGAnQzpcV0lORE9XU1xTeXN0ZW0zMlxjdXJsLmV4ZScgLXMgLVMgLWcgLUwgLWYgLW8gJ0M6XFVzZXJzXGthaVwuanVsaWFccGFja2FnZXNcTElCU1ZNXDVaOTlUXGRlcHNcbGlic3ZtLmRsbCcgJ2h0dHA6Ly93ZWIuaWNzLnB1cmR1ZS5lZHUvfmZpbmVqL2xpYnN2bS0zLjIyXzEuZGxsJ2AsIFByb2Nlc3NFeGl0ZWQoMzUpKSBbMzVdCuKUgiAK4pSCIFN0YWNrdHJhY2U6CuKUgiAgWzFdIHBpcGVsaW5lX2Vycm9yIGF0IC5ccHJvY2Vzcy5qbDo1MjUgW2lubGluZWRdCuKUgiAgWzJdIGRvd25sb2FkX2N1cmwoOjpTdHJpbmcsIDo6U3RyaW5nLCA6OlN0cmluZykgYXQgLlxkb3dubG9hZC5qbDo0NArilIIgIFszXSBkb3dubG9hZCg6OlN0cmluZywgOjpTdHJpbmcpIGF0IC5cZG93bmxvYWQuamw6NjIK4pSCICBbNF0gdG9wLWxldmVsIHNjb3BlIGF0IEM6XFVzZXJzXGthaVwuanVsaWFccGFja2FnZXNcTElCU1ZNXDVaOTlUXGRlcHNcYnVpbGQuamw6NgrilIIgIFs1XSBpbmNsdWRlKDo6U3RyaW5nKSBhdCAuXGNsaWVudC5qbDo0MzkK4pSCICBbNl0gdG9wLWxldmVsIHNjb3BlIGF0IG5vbmU6NQrilIIgaW4gZXhwcmVzc2lvbiBzdGFydGluZyBhdCBDOlxVc2Vyc1xrYWlcLmp1bGlhXHBhY2thZ2VzXExJQlNWTVw1Wjk5VFxkZXBzXGJ1aWxkLmpsOjIK4pSUIEAgUGtnLk9wZXJhdGlvbnMgRDpcYnVpbGRib3Rcd29ya2VyXHBhY2thZ2Vfd2luNjRcYnVpbGRcdXNyXHNoYXJlXGp1bGlhXHN0ZGxpYlx2MS40XFBrZ1xzcmNcT3BlcmF0aW9ucy5qbDo4OTIK\n"
     ]
    }
   ],
   "source": [
    "using Pkg\n",
    "Pkg.add(\"LIBSVM\")"
   ]
  },
  {
   "cell_type": "code",
   "execution_count": 4,
   "metadata": {},
   "outputs": [
    {
     "name": "stderr",
     "output_type": "stream",
     "text": [
      "┌ Info: Precompiling LIBSVM [b1bec4e5-fd48-53fe-b0cb-9723c09d164b]\n",
      "└ @ Base loading.jl:1260\n"
     ]
    }
   ],
   "source": [
    "using LIBSVM, RDatasets, StatsBase"
   ]
  },
  {
   "cell_type": "markdown",
   "metadata": {},
   "source": [
    "## 載入資料"
   ]
  },
  {
   "cell_type": "code",
   "execution_count": 5,
   "metadata": {},
   "outputs": [
    {
     "data": {
      "text/html": [
       "<table class=\"data-frame\"><thead><tr><th></th><th>SepalLength</th><th>SepalWidth</th><th>PetalLength</th><th>PetalWidth</th><th>Species</th></tr><tr><th></th><th>Float64</th><th>Float64</th><th>Float64</th><th>Float64</th><th>Categorical…</th></tr></thead><tbody><p>6 rows × 5 columns</p><tr><th>1</th><td>5.1</td><td>3.5</td><td>1.4</td><td>0.2</td><td>setosa</td></tr><tr><th>2</th><td>4.9</td><td>3.0</td><td>1.4</td><td>0.2</td><td>setosa</td></tr><tr><th>3</th><td>4.7</td><td>3.2</td><td>1.3</td><td>0.2</td><td>setosa</td></tr><tr><th>4</th><td>4.6</td><td>3.1</td><td>1.5</td><td>0.2</td><td>setosa</td></tr><tr><th>5</th><td>5.0</td><td>3.6</td><td>1.4</td><td>0.2</td><td>setosa</td></tr><tr><th>6</th><td>5.4</td><td>3.9</td><td>1.7</td><td>0.4</td><td>setosa</td></tr></tbody></table>"
      ],
      "text/latex": [
       "\\begin{tabular}{r|ccccc}\n",
       "\t& SepalLength & SepalWidth & PetalLength & PetalWidth & Species\\\\\n",
       "\t\\hline\n",
       "\t& Float64 & Float64 & Float64 & Float64 & Categorical…\\\\\n",
       "\t\\hline\n",
       "\t1 & 5.1 & 3.5 & 1.4 & 0.2 & setosa \\\\\n",
       "\t2 & 4.9 & 3.0 & 1.4 & 0.2 & setosa \\\\\n",
       "\t3 & 4.7 & 3.2 & 1.3 & 0.2 & setosa \\\\\n",
       "\t4 & 4.6 & 3.1 & 1.5 & 0.2 & setosa \\\\\n",
       "\t5 & 5.0 & 3.6 & 1.4 & 0.2 & setosa \\\\\n",
       "\t6 & 5.4 & 3.9 & 1.7 & 0.4 & setosa \\\\\n",
       "\\end{tabular}\n"
      ],
      "text/plain": [
       "6×5 DataFrame\n",
       "│ Row │ SepalLength │ SepalWidth │ PetalLength │ PetalWidth │ Species      │\n",
       "│     │ \u001b[90mFloat64\u001b[39m     │ \u001b[90mFloat64\u001b[39m    │ \u001b[90mFloat64\u001b[39m     │ \u001b[90mFloat64\u001b[39m    │ \u001b[90mCategorical…\u001b[39m │\n",
       "├─────┼─────────────┼────────────┼─────────────┼────────────┼──────────────┤\n",
       "│ 1   │ 5.1         │ 3.5        │ 1.4         │ 0.2        │ setosa       │\n",
       "│ 2   │ 4.9         │ 3.0        │ 1.4         │ 0.2        │ setosa       │\n",
       "│ 3   │ 4.7         │ 3.2        │ 1.3         │ 0.2        │ setosa       │\n",
       "│ 4   │ 4.6         │ 3.1        │ 1.5         │ 0.2        │ setosa       │\n",
       "│ 5   │ 5.0         │ 3.6        │ 1.4         │ 0.2        │ setosa       │\n",
       "│ 6   │ 5.4         │ 3.9        │ 1.7         │ 0.4        │ setosa       │"
      ]
     },
     "execution_count": 5,
     "metadata": {},
     "output_type": "execute_result"
    }
   ],
   "source": [
    "iris = dataset(\"datasets\", \"iris\")\n",
    "first(iris, 6)"
   ]
  },
  {
   "cell_type": "markdown",
   "metadata": {},
   "source": [
    "## 前處理"
   ]
  },
  {
   "cell_type": "code",
   "execution_count": 6,
   "metadata": {},
   "outputs": [],
   "source": [
    "X = Matrix(iris[!, 1:4])\n",
    "y = Vector{String}(iris[!, :Species]);"
   ]
  },
  {
   "cell_type": "markdown",
   "metadata": {},
   "source": [
    "## 支撐向量機模型"
   ]
  },
  {
   "cell_type": "code",
   "execution_count": 9,
   "metadata": {},
   "outputs": [
    {
     "data": {
      "text/plain": [
       "SVC(LIBSVM.Kernel.RadialBasis, 0.25, nothing, 1.0, 3, 0.0, 0.001, true, false, false, LIBSVM.SVM{String}(SVC, LIBSVM.Kernel.RadialBasis, nothing, 4, 3, [\"setosa\", \"versicolor\", \"virginica\"], Int32[1, 2, 3], Float64[], Int32[], LIBSVM.SupportVectors{String,Float64}(45, Int32[7, 19, 19], [\"setosa\", \"setosa\", \"setosa\", \"setosa\", \"setosa\", \"setosa\", \"setosa\", \"versicolor\", \"versicolor\", \"versicolor\"  …  \"virginica\", \"virginica\", \"virginica\", \"virginica\", \"virginica\", \"virginica\", \"virginica\", \"virginica\", \"virginica\", \"virginica\"], [4.3 5.7 … 6.5 5.9; 3.0 4.4 … 3.0 3.0; 1.1 1.5 … 5.2 5.1; 0.1 0.4 … 2.0 1.8], Int32[14, 16, 19, 24, 25, 42, 45, 51, 53, 55  …  130, 132, 134, 135, 139, 142, 143, 147, 148, 150], LIBSVM.SVMNode[LIBSVM.SVMNode(1187983392, 8.4879831653e-314), LIBSVM.SVMNode(398020776, 0.0), LIBSVM.SVMNode(0, 0.0), LIBSVM.SVMNode(1, 5.1), LIBSVM.SVMNode(1, 4.8), LIBSVM.SVMNode(1, 4.5), LIBSVM.SVMNode(1, 5.1), LIBSVM.SVMNode(1, 7.0), LIBSVM.SVMNode(0, 0.0), LIBSVM.SVMNode(1187986262, 0.0)  …  LIBSVM.SVMNode(1, 7.2), LIBSVM.SVMNode(1187992832, 8.487983165e-314), LIBSVM.SVMNode(39, 0.0), LIBSVM.SVMNode(390245112, 0.0), LIBSVM.SVMNode(1187983542, 2.121995791e-314), LIBSVM.SVMNode(1187993600, 0.0), LIBSVM.SVMNode(1, 5.8), LIBSVM.SVMNode(1, 6.3), LIBSVM.SVMNode(65536, 6.500007629394531), LIBSVM.SVMNode(1187994272, 8.4879831644e-314)]), 0.0, [0.0 0.009368831960995326; 0.4386244104464341 0.9556474901217844; … ; -0.0 -1.0; -0.0 -1.0], Float64[], Float64[], [0.03985691051205832, 0.1677745320943027, 0.143704687543137], 3, 0.25, 200.0, 0.001, 1.0, 0.5, 0.1, true, false))"
      ]
     },
     "execution_count": 9,
     "metadata": {},
     "output_type": "execute_result"
    }
   ],
   "source": [
    "model = LIBSVM.fit!(SVC(), X, y)"
   ]
  },
  {
   "cell_type": "markdown",
   "metadata": {},
   "source": [
    "## 預測"
   ]
  },
  {
   "cell_type": "code",
   "execution_count": 10,
   "metadata": {},
   "outputs": [
    {
     "data": {
      "text/plain": [
       "150-element Array{String,1}:\n",
       " \"setosa\"\n",
       " \"setosa\"\n",
       " \"setosa\"\n",
       " \"setosa\"\n",
       " \"setosa\"\n",
       " \"setosa\"\n",
       " \"setosa\"\n",
       " \"setosa\"\n",
       " \"setosa\"\n",
       " \"setosa\"\n",
       " \"setosa\"\n",
       " \"setosa\"\n",
       " \"setosa\"\n",
       " ⋮\n",
       " \"virginica\"\n",
       " \"virginica\"\n",
       " \"virginica\"\n",
       " \"virginica\"\n",
       " \"virginica\"\n",
       " \"virginica\"\n",
       " \"virginica\"\n",
       " \"virginica\"\n",
       " \"virginica\"\n",
       " \"virginica\"\n",
       " \"virginica\"\n",
       " \"virginica\""
      ]
     },
     "execution_count": 10,
     "metadata": {},
     "output_type": "execute_result"
    }
   ],
   "source": [
    "predicted_labels, decision_values = LIBSVM.predict(model, X)"
   ]
  },
  {
   "cell_type": "markdown",
   "metadata": {},
   "source": [
    "## 評估模型"
   ]
  },
  {
   "cell_type": "code",
   "execution_count": 11,
   "metadata": {},
   "outputs": [
    {
     "data": {
      "text/plain": [
       "accuracy (generic function with 1 method)"
      ]
     },
     "execution_count": 11,
     "metadata": {},
     "output_type": "execute_result"
    }
   ],
   "source": [
    "accuracy() = mean((predicted_labels .== y))*100"
   ]
  },
  {
   "cell_type": "code",
   "execution_count": 12,
   "metadata": {},
   "outputs": [
    {
     "data": {
      "text/plain": [
       "33.33333333333333"
      ]
     },
     "execution_count": 12,
     "metadata": {},
     "output_type": "execute_result"
    }
   ],
   "source": [
    "accuracy()"
   ]
  },
  {
   "cell_type": "markdown",
   "metadata": {},
   "source": [
    "## LIBSVM API\n",
    "This provides a lower level API similar to LIBSVM C-interface. See `?svmtrain` for options."
   ]
  },
  {
   "cell_type": "code",
   "execution_count": 1,
   "metadata": {},
   "outputs": [
    {
     "name": "stdout",
     "output_type": "stream",
     "text": [
      "Accuracy: 93.33%\n"
     ]
    }
   ],
   "source": [
    "using RDatasets, LIBSVM, Printf, StatsBase\n",
    "\n",
    "# Load Fisher's classic iris data\n",
    "iris = dataset(\"datasets\", \"iris\")\n",
    "\n",
    "# LIBSVM handles multi-class data automatically using a one-against-one strategy\n",
    "labels = convert(Vector{String}, iris[!, :Species])\n",
    "\n",
    "# First dimension of input data is features; second is instances\n",
    "instances = convert(Array, iris[!, 1:4])'\n",
    "\n",
    "# Train SVM on half of the data using default parameters. See documentation\n",
    "# of svmtrain for options\n",
    "model = svmtrain(instances[:, 1:2:end], labels[1:2:end]);\n",
    "\n",
    "# Test model on the other half of the data.\n",
    "(predicted_labels, decision_values) = svmpredict(model, instances[:, 2:2:end]);\n",
    "\n",
    "# Compute accuracy\n",
    "@printf \"Accuracy: %.2f%%\\n\" mean((predicted_labels .== labels[2:2:end]))*100"
   ]
  },
  {
   "cell_type": "code",
   "execution_count": 2,
   "metadata": {},
   "outputs": [
    {
     "name": "stdout",
     "output_type": "stream",
     "text": [
      "Accuracy: 93.33%\n"
     ]
    }
   ],
   "source": [
    "using LIBSVM, Printf, StatsBase, CSV, DataFrames\n",
    "\n",
    "# Load Fisher's classic iris data\n",
    "iris = DataFrame(CSV.File(joinpath(dirname(pathof(DataFrames)), \"../docs/src/assets/iris.csv\")));\n",
    "\n",
    "# LIBSVM handles multi-class data automatically using a one-against-one strategy\n",
    "labels = convert(Vector, iris[!, :Species])\n",
    "\n",
    "# First dimension of input data is features; second is instances\n",
    "instances = convert(Array, iris[!, 1:4])'\n",
    "\n",
    "# Train SVM on half of the data using default parameters. See documentation\n",
    "# of svmtrain for options\n",
    "model = svmtrain(instances[:, 1:2:end], labels[1:2:end]);\n",
    "\n",
    "# Test model on the other half of the data.\n",
    "(predicted_labels, decision_values) = svmpredict(model, instances[:, 2:2:end]);\n",
    "\n",
    "# Compute accuracy\n",
    "@printf \"Accuracy: %.2f%%\\n\" mean((predicted_labels .== labels[2:2:end]))*100"
   ]
  },
  {
   "cell_type": "code",
   "execution_count": 3,
   "metadata": {},
   "outputs": [
    {
     "data": {
      "text/plain": [
       "5-element Array{DataType,1}:\n",
       " Float64\n",
       " Float64\n",
       " Float64\n",
       " Float64\n",
       " CategoricalString{UInt8}"
      ]
     },
     "execution_count": 3,
     "metadata": {},
     "output_type": "execute_result"
    }
   ],
   "source": [
    "iris = dataset(\"datasets\", \"iris\")\n",
    "eltype.(eachcol(iris))"
   ]
  },
  {
   "cell_type": "code",
   "execution_count": 4,
   "metadata": {},
   "outputs": [
    {
     "data": {
      "text/plain": [
       "5-element Array{DataType,1}:\n",
       " Float64\n",
       " Float64\n",
       " Float64\n",
       " Float64\n",
       " String"
      ]
     },
     "execution_count": 4,
     "metadata": {},
     "output_type": "execute_result"
    }
   ],
   "source": [
    "iris = DataFrame(CSV.File(joinpath(dirname(pathof(DataFrames)), \"../docs/src/assets/iris.csv\")));\n",
    "eltype.(eachcol(iris))"
   ]
  },
  {
   "cell_type": "markdown",
   "metadata": {},
   "source": [
    "## ScikitLearn API\n",
    "You can alternatively use ScikitLearn.jl API with same options as svmtrain:"
   ]
  },
  {
   "cell_type": "code",
   "execution_count": 36,
   "metadata": {},
   "outputs": [
    {
     "data": {
      "text/plain": [
       "56-element Array{Float64,1}:\n",
       " -0.7000113490808335\n",
       " -0.7996246408701291\n",
       "  0.6186400419362288\n",
       "  2.3999767521176216\n",
       "  3.14483985114843\n",
       "  3.14483985114843\n",
       "  3.700283339414352\n",
       "  5.0855501735619\n",
       "  3.14483985114843\n",
       "  4.399762328002755\n",
       "  4.826573424201148\n",
       "  4.826573424201148\n",
       "  5.264403656617971\n",
       "  ⋮\n",
       "  4.7246204145302455\n",
       "  5.000278543993352\n",
       "  4.724479924584878\n",
       "  4.7246204145302455\n",
       "  7.399094305453358\n",
       "  6.399828505025188\n",
       "  7.399094305453358\n",
       "  8.376502151680235\n",
       "  7.899681575131432\n",
       "  7.399094305453358\n",
       "  8.900109144603398\n",
       "  9.599863791319233"
      ]
     },
     "execution_count": 36,
     "metadata": {},
     "output_type": "execute_result"
    }
   ],
   "source": [
    "using LIBSVM\n",
    "using RDatasets: dataset\n",
    "\n",
    "#Classification C-SVM\n",
    "iris = dataset(\"datasets\", \"iris\")\n",
    "labels = convert(Vector{String}, iris[!, :Species])\n",
    "instances = convert(Array, iris[:, 1:4])\n",
    "model = LIBSVM.fit!(SVC(), instances[1:2:end, :], labels[1:2:end])\n",
    "yp = LIBSVM.predict(model, instances[2:2:end, :])\n",
    "\n",
    "#epsilon-regression\n",
    "whiteside = RDatasets.dataset(\"MASS\", \"whiteside\")\n",
    "X = Array(whiteside[!, :Gas])\n",
    "if typeof(X) <: AbstractVector\n",
    "    X = reshape(X, (length(X),1))\n",
    "end\n",
    "y = Array(whiteside[!, :Temp])\n",
    "svrmod = LIBSVM.fit!(EpsilonSVR(cost = 10., gamma = 1.), X, y)\n",
    "yp = LIBSVM.predict(svrmod, X)"
   ]
  },
  {
   "cell_type": "markdown",
   "metadata": {},
   "source": [
    "# References:\n",
    "- Marathon example notebook\n",
    "- [Github: LIBSVM.jl](https://github.com/mpastell/LIBSVM.jl)"
   ]
  }
 ],
 "metadata": {
  "kernelspec": {
   "display_name": "Julia 1.4.0",
   "language": "julia",
   "name": "julia-1.4"
  },
  "language_info": {
   "file_extension": ".jl",
   "mimetype": "application/julia",
   "name": "julia",
   "version": "1.4.0"
  }
 },
 "nbformat": 4,
 "nbformat_minor": 4
}
