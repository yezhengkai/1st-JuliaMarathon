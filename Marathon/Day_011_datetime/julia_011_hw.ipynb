{
 "cells": [
  {
   "cell_type": "markdown",
   "metadata": {
    "colab_type": "text",
    "id": "OeTSRKgZeaML"
   },
   "source": [
    "# Julia 日期與時間\n",
    "\n",
    "## Day 011 補充教材：不同語系的月份及星期顯示\n",
    "\n",
    "Julia 內建的日期與時間語系是英文，那是要顯示其他語系的話要如何辦到呢？可以設定不同語系的月份和星期名稱，在呼叫時間時指定 `locale` 關鍵字即可。"
   ]
  },
  {
   "cell_type": "code",
   "execution_count": 1,
   "metadata": {
    "colab": {},
    "colab_type": "code",
    "id": "R0GzErPJeaMM"
   },
   "outputs": [],
   "source": [
    "using Dates"
   ]
  },
  {
   "cell_type": "markdown",
   "metadata": {
    "colab_type": "text",
    "id": "R3WXjBEweaMR"
   },
   "source": [
    "Julia 內建的是英文語系。"
   ]
  },
  {
   "cell_type": "code",
   "execution_count": 2,
   "metadata": {
    "colab": {},
    "colab_type": "code",
    "id": "e1JFGdYAeaMR",
    "outputId": "09b229d7-7221-4c7b-a549-8da07b688333"
   },
   "outputs": [
    {
     "data": {
      "text/plain": [
       "2020-04-18T16:45:38.07"
      ]
     },
     "execution_count": 2,
     "metadata": {},
     "output_type": "execute_result"
    }
   ],
   "source": [
    "now()"
   ]
  },
  {
   "cell_type": "markdown",
   "metadata": {
    "colab_type": "text",
    "id": "_vX5JQnqeaMW"
   },
   "source": [
    "例如：顯示星期幾時，顯示的是英文名稱。"
   ]
  },
  {
   "cell_type": "code",
   "execution_count": 3,
   "metadata": {
    "colab": {},
    "colab_type": "code",
    "id": "51fVPw_heaMW",
    "outputId": "b7aab98f-b114-4df4-c4d0-0134a8300bd7"
   },
   "outputs": [
    {
     "data": {
      "text/plain": [
       "\"Saturday\""
      ]
     },
     "execution_count": 3,
     "metadata": {},
     "output_type": "execute_result"
    }
   ],
   "source": [
    "dayname(now())"
   ]
  },
  {
   "cell_type": "code",
   "execution_count": 4,
   "metadata": {
    "colab": {},
    "colab_type": "code",
    "id": "TPsEW3yUeaMZ",
    "outputId": "f9d47a84-e95a-4a75-9d2b-d16b23576a38"
   },
   "outputs": [
    {
     "data": {
      "text/plain": [
       "\"Saturday\""
      ]
     },
     "execution_count": 4,
     "metadata": {},
     "output_type": "execute_result"
    }
   ],
   "source": [
    "# 上面的程式等同於指定 english 為語系\n",
    "dayname(now(); locale=\"english\")"
   ]
  },
  {
   "cell_type": "markdown",
   "metadata": {
    "colab_type": "text",
    "id": "-bshEP0weaMc"
   },
   "source": [
    "如果我們想要顯示繁體中文的月份和星期，可透過定義**月份全名**、**月份簡稱**、**星期全名**、**星期簡稱**，並指定語系名稱。\n",
    "\n",
    "下面範例示範了設定**月份全名**、**星期全名**、**星期簡稱** (無月份簡稱)讓 _taiwan_ 語系來使用。"
   ]
  },
  {
   "cell_type": "code",
   "execution_count": 5,
   "metadata": {
    "colab": {},
    "colab_type": "code",
    "id": "UUkqJuqleaMd"
   },
   "outputs": [],
   "source": [
    "taiwan_months = [\"一月\", \"二月\", \"三月\", \"四月\", \"五月\", \"六月\",\n",
    "                 \"七月\", \"八月\", \"九月\", \"十月\", \"十一月\", \"十二月\"]\n",
    "\n",
    "taiwan_days = [\"星期一\", \"星期二\", \"星期三\", \"星期四\", \"星期五\", \"星期六\", \"星期日\"]\n",
    "\n",
    "taiwan_days_abbrev = [\"週一\", \"週二\", \"週三\", \"週四\", \"週五\", \"週六\", \"週日\"]\n",
    "\n",
    "Dates.LOCALES[\"taiwan\"] = Dates.DateLocale(taiwan_months, [\"\"], taiwan_days, taiwan_days_abbrev);"
   ]
  },
  {
   "cell_type": "markdown",
   "metadata": {
    "colab_type": "text",
    "id": "H3yicEd7eaMf"
   },
   "source": [
    "顯示台灣的星期全名和星期簡稱。"
   ]
  },
  {
   "cell_type": "code",
   "execution_count": 6,
   "metadata": {
    "colab": {},
    "colab_type": "code",
    "id": "qJt0ipyLeaMg",
    "outputId": "d56aee78-f1dc-4425-935b-d6a4b7c2af89"
   },
   "outputs": [
    {
     "data": {
      "text/plain": [
       "\"星期六\""
      ]
     },
     "execution_count": 6,
     "metadata": {},
     "output_type": "execute_result"
    }
   ],
   "source": [
    "dayname(now(); locale=\"taiwan\")"
   ]
  },
  {
   "cell_type": "code",
   "execution_count": 7,
   "metadata": {
    "colab": {},
    "colab_type": "code",
    "id": "RN1zwSRneaMj",
    "outputId": "e054bccb-c87c-4e20-de38-31f796c82b4d"
   },
   "outputs": [
    {
     "data": {
      "text/plain": [
       "\"週六\""
      ]
     },
     "execution_count": 7,
     "metadata": {},
     "output_type": "execute_result"
    }
   ],
   "source": [
    "dayabbr(now(); locale=\"taiwan\")"
   ]
  },
  {
   "cell_type": "markdown",
   "metadata": {
    "colab_type": "text",
    "id": "n6ewJDRveaMm"
   },
   "source": [
    "## Day 011 作業：新增另一個語系的月份與星期名稱\n",
    "\n",
    "請新增另一個語系的月份及星期，並嘗試印出不同語系的月份及星期簡稱/縮寫。\n",
    "\n",
    "下表為法文的月份及星期供參考。\n",
    "\n",
    "||月份全名|月份縮寫|\n",
    "|---|---|---|\n",
    "|一月|janvier|janv|\n",
    "|二月|février|févr|\n",
    "|三月|mars|mars|\n",
    "|四月|avril|avril|\n",
    "|五月|mai|mai|\n",
    "|六月|juin|juin|\n",
    "|七月|juillet|juil|\n",
    "|八月|août|août|\n",
    "|九月|septembre|sept|\n",
    "|十月|octobre|oct|\n",
    "|十一月|novembre|nov|\n",
    "|十二月|décembre|déc|\n",
    "\n",
    "||星期全名|星期縮寫|\n",
    "|---|---|---|\n",
    "|星期一|lundi|lun.|\n",
    "|星期二|mardi|mar.|\n",
    "|星期三|mercredi|mer.|\n",
    "|星期四|jeudi|jeu.|\n",
    "|星期五|vendredi|ven.|\n",
    "|星期六|samedi|sam.|\n",
    "|星期日|dimanche|dim.|"
   ]
  },
  {
   "cell_type": "code",
   "execution_count": 8,
   "metadata": {
    "colab": {},
    "colab_type": "code",
    "id": "tpESqZT2eaMn"
   },
   "outputs": [],
   "source": [
    "french_months = [\"janvier\", \"février\", \"mars\", \"avril\", \"mai\", \"juin\",\n",
    "                 \"juillet\", \"août\", \"septembre\", \"octobre\", \"novembre\", \"décembre\"];\n",
    "french_months_abbrev = [\"janv\", \"févr\", \"mars\", \"avril\", \"mai\", \"juin\",\n",
    "                        \"juil\", \"août\", \"sept\", \"oct\", \"nov\", \"déc\"];\n",
    "french_days = [\"lundi\", \"mardi\", \"mercredi\", \"jeudi\", \"vendredi\", \"samedi\", \"dimanche\"];\n",
    "french_days_abbrev = [\"lun.\", \"mar.\", \"mer.\", \"jeu.\", \"ven.\", \"sam.\", \"dim.\"];\n",
    "\n",
    "Dates.LOCALES[\"french\"] = Dates.DateLocale(french_months, french_months_abbrev, french_days, french_days_abbrev);"
   ]
  },
  {
   "cell_type": "code",
   "execution_count": 10,
   "metadata": {},
   "outputs": [
    {
     "data": {
      "text/plain": [
       "\"samedi\""
      ]
     },
     "execution_count": 10,
     "metadata": {},
     "output_type": "execute_result"
    }
   ],
   "source": [
    "dayname(now(); locale=\"french\")"
   ]
  },
  {
   "cell_type": "code",
   "execution_count": 13,
   "metadata": {},
   "outputs": [
    {
     "data": {
      "text/plain": [
       "\"lun.\""
      ]
     },
     "execution_count": 13,
     "metadata": {},
     "output_type": "execute_result"
    }
   ],
   "source": [
    "dayabbr(1; locale=\"french\")"
   ]
  },
  {
   "cell_type": "code",
   "execution_count": 15,
   "metadata": {},
   "outputs": [
    {
     "data": {
      "text/plain": [
       "\"février\""
      ]
     },
     "execution_count": 15,
     "metadata": {},
     "output_type": "execute_result"
    }
   ],
   "source": [
    "monthname(Date(\"2010-2-28\"); locale=\"french\")"
   ]
  },
  {
   "cell_type": "code",
   "execution_count": 16,
   "metadata": {},
   "outputs": [
    {
     "data": {
      "text/plain": [
       "\"août\""
      ]
     },
     "execution_count": 16,
     "metadata": {},
     "output_type": "execute_result"
    }
   ],
   "source": [
    "monthabbr(8; locale=\"french\")"
   ]
  }
 ],
 "metadata": {
  "colab": {
   "name": "julia_011_hw.ipynb",
   "provenance": []
  },
  "kernelspec": {
   "display_name": "Julia 1.4.0",
   "language": "julia",
   "name": "julia-1.4"
  },
  "language_info": {
   "file_extension": ".jl",
   "mimetype": "application/julia",
   "name": "julia",
   "version": "1.4.0"
  }
 },
 "nbformat": 4,
 "nbformat_minor": 1
}
