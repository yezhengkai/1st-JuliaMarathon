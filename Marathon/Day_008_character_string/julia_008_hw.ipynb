{
 "cells": [
  {
   "cell_type": "markdown",
   "metadata": {},
   "source": [
    "# Julia 字元 (Char) 與字串 (String)\n",
    "\n",
    "## Day 008 作業：讀取使用者輸入字串，並印出每個字元\n",
    "\n",
    "1. 使用 `readline()` 函式，讀取使用者輸入之字串。`readline()`是從 console 讀取使用者輸入的方式，讀進來的資料型別為字串，`readline()`的說明可參照官方文件 [Base.readline](https://docs.julialang.org/en/v1/base/io-network/#Base.readline)"
   ]
  },
  {
   "cell_type": "code",
   "execution_count": 1,
   "metadata": {},
   "outputs": [
    {
     "name": "stdout",
     "output_type": "stream",
     "text": [
      "stdin> 你好，世界! Hello world!\n"
     ]
    },
    {
     "data": {
      "text/plain": [
       "\"你好，世界! Hello world!\""
      ]
     },
     "execution_count": 1,
     "metadata": {},
     "output_type": "execute_result"
    }
   ],
   "source": [
    "str = readline()"
   ]
  },
  {
   "cell_type": "markdown",
   "metadata": {},
   "source": [
    "2. 印出字串中所有字元。"
   ]
  },
  {
   "cell_type": "code",
   "execution_count": 4,
   "metadata": {},
   "outputs": [
    {
     "name": "stdout",
     "output_type": "stream",
     "text": [
      "你\n",
      "好\n",
      "，\n",
      "世\n",
      "界\n",
      "!\n",
      " \n",
      "H\n",
      "e\n",
      "l\n",
      "l\n",
      "o\n",
      " \n",
      "w\n",
      "o\n",
      "r\n",
      "l\n",
      "d\n",
      "!\n"
     ]
    }
   ],
   "source": [
    "for s in str\n",
    "    println(s)\n",
    "end"
   ]
  },
  {
   "cell_type": "code",
   "execution_count": 5,
   "metadata": {},
   "outputs": [
    {
     "name": "stdout",
     "output_type": "stream",
     "text": [
      "你\n",
      "好\n",
      "，\n",
      "世\n",
      "界\n",
      "!\n",
      " \n",
      "H\n",
      "e\n",
      "l\n",
      "l\n",
      "o\n",
      " \n",
      "w\n",
      "o\n",
      "r\n",
      "l\n",
      "d\n",
      "!\n"
     ]
    }
   ],
   "source": [
    "index = collect(eachindex(str))\n",
    "for i in index\n",
    "    println(str[i])\n",
    "end"
   ]
  }
 ],
 "metadata": {
  "kernelspec": {
   "display_name": "Julia 1.4.0",
   "language": "julia",
   "name": "julia-1.4"
  },
  "language_info": {
   "file_extension": ".jl",
   "mimetype": "application/julia",
   "name": "julia",
   "version": "1.4.0"
  }
 },
 "nbformat": 4,
 "nbformat_minor": 4
}
