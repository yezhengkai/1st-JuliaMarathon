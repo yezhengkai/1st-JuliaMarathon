{
 "cells": [
  {
   "cell_type": "markdown",
   "metadata": {},
   "source": [
    "# References\n",
    "## Flux\n",
    "- [Flux model-zoo: conv.jl](https://github.com/FluxML/model-zoo/blob/master/vision/mnist/conv.jl)\n",
    "- [Flux model-zoo: lenet_mnist.jl](https://github.com/FluxML/model-zoo/blob/master/vision/lenet_mnist/lenet_mnist.jl)\n",
    "- [Flux model-zoo: dcgan_mnist.jl](https://github.com/FluxML/model-zoo/blob/master/vision/dcgan_mnist/dcgan_mnist.jl)\n",
    "- [Julia Flux Convolutional Neural Network Explained](https://spcman.github.io/getting-to-know-julia/deep-learning/vision/flux-cnn-zoo/)\n",
    "- [Flux: regularisation](https://fluxml.ai/Flux.jl/stable/models/regularisation/)\n",
    "- [Flux: saving](https://fluxml.ai/Flux.jl/stable/saving/)\n",
    "- [Github: Model optimization fails (NaNs) with Zygote.pullback but works with Tracker.forward](https://github.com/FluxML/Flux.jl/issues/876)\n",
    "- [Discourse: How come Flux.jl’s network parameters go to NaN?](https://discourse.julialang.org/t/how-come-flux-jls-network-parameters-go-to-nan/16439/4)\n",
    "- [Discourse: How to do L2 regularization with new Flux and Zygote](https://discourse.julialang.org/t/how-to-do-l2-regularization-with-new-flux-and-zygote/31756/2)\n",
    "- [Reddit: L1 Regularization Flux+CuArrays](https://www.reddit.com/r/Julia/comments/g5uxab/l1_regularization_fluxcuarrays/)\n",
    "\n",
    "## tensorflow\n",
    "- [Doc: KLDivergence](https://www.tensorflow.org/api_docs/python/tf/keras/losses/KLDivergence)\n",
    "\n",
    "## keras\n",
    "- [Github: kullback_leibler_divergence](https://github.com/keras-team/keras/blob/master/keras/losses.py#L711-L714)\n",
    "\n",
    "## Image\n",
    "- [SO: Reading image info in Julia without loading the images\n",
    "](https://stackoverflow.com/questions/43188201/reading-image-info-in-julia-without-loading-the-images)\n",
    "- [SO: image to array](https://stackoverflow.com/questions/59344708/strange-and-uninformative-error-in-my-simple-julia-flux-dense-model)\n",
    "- [Githun: image to array(cifar10.jl)](https://github.com/FluxML/model-zoo/blob/master/vision/cifar10/cifar10.jl)\n",
    "\n",
    "## IO\n",
    "- [Github: read file](https://github.com/FluxML/Metalhead.jl/blob/sf/training/training/ImageNet/dataset.jl)"
   ]
  },
  {
   "cell_type": "markdown",
   "metadata": {},
   "source": [
    "# Add packages"
   ]
  },
  {
   "cell_type": "code",
   "execution_count": 1,
   "metadata": {},
   "outputs": [
    {
     "name": "stderr",
     "output_type": "stream",
     "text": [
      "┌ Warning: Pkg.installed() is deprecated\n",
      "└ @ Pkg D:\\buildbot\\worker\\package_win64\\build\\usr\\share\\julia\\stdlib\\v1.4\\Pkg\\src\\Pkg.jl:531\n"
     ]
    },
    {
     "data": {
      "text/plain": [
       "Dict{String,VersionNumber} with 6 entries:\n",
       "  \"BSON\"          => v\"0.2.6\"\n",
       "  \"Images\"        => v\"0.22.2\"\n",
       "  \"Plots\"         => v\"1.2.4\"\n",
       "  \"DataFrames\"    => v\"0.21.0\"\n",
       "  \"Flux\"          => v\"0.10.4\"\n",
       "  \"ProgressMeter\" => v\"1.3.0\""
      ]
     },
     "execution_count": 1,
     "metadata": {},
     "output_type": "execute_result"
    }
   ],
   "source": [
    "using Pkg\n",
    "Pkg.installed()"
   ]
  },
  {
   "cell_type": "markdown",
   "metadata": {},
   "source": [
    "```julia\n",
    "# add required packages\n",
    "used_packages = [\n",
    "    \"Flux\", \n",
    "    \"DataFrames\", \n",
    "    \"Images\", \n",
    "    \"Plots\", \n",
    "    \"Parameters\",\n",
    "    \"TensorBoardLogger\",\n",
    "    \"ProgressMeter\",\n",
    "    \"DrWatson\",\n",
    "    \"BSON\"\n",
    "]\n",
    "Pkg.add(used_packages)\n",
    "Pkg.installed()\n",
    "```"
   ]
  },
  {
   "cell_type": "markdown",
   "metadata": {},
   "source": [
    "# Import packages"
   ]
  },
  {
   "cell_type": "code",
   "execution_count": 3,
   "metadata": {},
   "outputs": [],
   "source": [
    "## import packages\n",
    "using Flux\n",
    "import Flux.Data: DataLoader\n",
    "import Flux: @epochs, onecold, onehotbatch, crossentropy\n",
    "using DataFrames\n",
    "using Images\n",
    "using Plots\n",
    "using ImageMagick\n",
    "using Statistics\n",
    "using Dates\n",
    "using LinearAlgebra\n",
    "using CuArrays\n",
    "using Printf\n",
    "import ProgressMeter\n",
    "import BSON\n",
    "\n",
    "# For KL divergence\n",
    "# import Base: log\n",
    "\n",
    "# include(\"./src/monkey.jl\")\n",
    "# import .monkey: read_label_discription, recursive_readdir, show_image, getarray"
   ]
  },
  {
   "cell_type": "markdown",
   "metadata": {},
   "source": [
    "# Define useful functions"
   ]
  },
  {
   "cell_type": "code",
   "execution_count": 4,
   "metadata": {},
   "outputs": [
    {
     "data": {
      "text/plain": [
       "read_label_discription (generic function with 1 method)"
      ]
     },
     "execution_count": 4,
     "metadata": {},
     "output_type": "execute_result"
    }
   ],
   "source": [
    "# read monkey_labels.txt\n",
    "function read_label_discription(label_txt::String)::DataFrames.DataFrame\n",
    "    \n",
    "    # initialize\n",
    "    column_names = [];\n",
    "    content = [];\n",
    "\n",
    "    # read text file\n",
    "    for (i, line) in enumerate(eachline(label_txt))\n",
    "        strings = strip.(split(line, \",\"));\n",
    "        # println(strings, typeof(strings))\n",
    "        if all(strings .== \"\")\n",
    "            break\n",
    "        end\n",
    "        if i == 1\n",
    "            append!(column_names, Symbol.(strings));\n",
    "            continue\n",
    "        end\n",
    "        push!(content, String.(strings));\n",
    "    end\n",
    "    \n",
    "    # convert 1d vector to 2d array (content has been transposed)\n",
    "    content = reduce(hcat, content);\n",
    "\n",
    "    # construct dataframe\n",
    "    label_discription = DataFrames.DataFrame();\n",
    "    for (i, name) in enumerate(column_names)\n",
    "        if i > 3\n",
    "            column = parse.(Int, content[i, :]);\n",
    "            label_discription[!, name] =column;\n",
    "        else\n",
    "            label_discription[!, name] =content[i, :];\n",
    "        end\n",
    "    end\n",
    "\n",
    "    return label_discription;\n",
    "end\n"
   ]
  },
  {
   "cell_type": "code",
   "execution_count": 5,
   "metadata": {},
   "outputs": [
    {
     "data": {
      "text/plain": [
       "show_image (generic function with 1 method)"
      ]
     },
     "execution_count": 5,
     "metadata": {},
     "output_type": "execute_result"
    }
   ],
   "source": [
    "# show image\n",
    "function show_image(path::String; return_plot=false)\n",
    "    img = Images.load(path);\n",
    "    p = Plots.plot(img)\n",
    "    display(p);\n",
    "    if return_plot\n",
    "        return p\n",
    "    else\n",
    "        return nothing\n",
    "    end\n",
    "end"
   ]
  },
  {
   "cell_type": "code",
   "execution_count": 6,
   "metadata": {},
   "outputs": [
    {
     "data": {
      "text/plain": [
       "getarray (generic function with 1 method)"
      ]
     },
     "execution_count": 6,
     "metadata": {},
     "output_type": "execute_result"
    }
   ],
   "source": [
    "# convert image to array\n",
    "# https://stackoverflow.com/questions/59344708/strange-and-uninformative-error-in-my-simple-julia-flux-dense-model\n",
    "# https://github.com/FluxML/model-zoo/blob/master/vision/cifar10/cifar10.jl\n",
    "function getarray(path::String; img_size=(100, 100))::Array\n",
    "    # img_size: (height, width)\n",
    "    \n",
    "    # code to get image based on the number and convert it to float\n",
    "    file = Images.load(path)\n",
    "    if ~isnothing(img_size)\n",
    "        file = Images.imresize(file, img_size...)\n",
    "    end\n",
    "    X = convert(Array{Float64}, Images.channelview(file))\n",
    "    # X = permutedims(X, (2, 3, 1))  # (channel, height, width) to (height, width, channel)\n",
    "    X = permutedims(X, (3, 2, 1))  # (channel, height, width) to (width, height, channel)\n",
    "    \n",
    "    return X\n",
    "end"
   ]
  },
  {
   "cell_type": "code",
   "execution_count": 7,
   "metadata": {},
   "outputs": [
    {
     "data": {
      "text/plain": [
       "recursive_readdir (generic function with 1 method)"
      ]
     },
     "execution_count": 7,
     "metadata": {},
     "output_type": "execute_result"
    }
   ],
   "source": [
    "# https://github.com/FluxML/Metalhead.jl/blob/sf/training/training/ImageNet/dataset.jl\n",
    "function recursive_readdir(root::String; ext=nothing)::Array\n",
    "    if !isnothing(ext) && ext[1] != \".\"\n",
    "        ext = \".\" * ext\n",
    "    end\n",
    "    ret = String[]\n",
    "    for (r, dirs, files) in walkdir(root)\n",
    "        for f in files\n",
    "            relative_path = relpath(joinpath(r, f));\n",
    "            if isnothing(ext)\n",
    "                push!(ret, relative_path);\n",
    "            elseif splitext(relative_path)[end] == ext\n",
    "                push!(ret, relative_path);\n",
    "            end\n",
    "        end\n",
    "    end\n",
    "    return ret\n",
    "end"
   ]
  },
  {
   "cell_type": "code",
   "execution_count": 8,
   "metadata": {},
   "outputs": [
    {
     "data": {
      "text/plain": [
       "get_imgs_size_info (generic function with 1 method)"
      ]
     },
     "execution_count": 8,
     "metadata": {},
     "output_type": "execute_result"
    }
   ],
   "source": [
    "# https://stackoverflow.com/questions/43188201/reading-image-info-in-julia-without-loading-the-images\n",
    "function get_imgs_size_info(imgs_path)\n",
    "    wand = MagickWand()\n",
    "    imgs_size = Tuple[]\n",
    "    for img_path in imgs_path\n",
    "        ImageMagick.pingimage(wand, img_path)\n",
    "        push!(imgs_size, size(wand))  # (width, height)\n",
    "    end\n",
    "    info = DataFrame(path=imgs_path, size=imgs_size);\n",
    "    return info\n",
    "end"
   ]
  },
  {
   "cell_type": "code",
   "execution_count": 9,
   "metadata": {},
   "outputs": [
    {
     "data": {
      "text/plain": [
       "resize_save_imgs (generic function with 1 method)"
      ]
     },
     "execution_count": 9,
     "metadata": {},
     "output_type": "execute_result"
    }
   ],
   "source": [
    "function resize_save_imgs(info_train_raw, train_raw_imgs_path, valid_raw_imgs_path;\n",
    "                          train_img_width=150, do_process=true)\n",
    "    \n",
    "    train_img_height = floor(Int, train_img_width * mean(last.(info_train_raw.size)) / mean(first.(info_train_raw.size)));\n",
    "    train_img_size = (train_img_width, train_img_height)\n",
    "\n",
    "    train_imgs_path = replace.(train_raw_imgs_path, r\"raw\" => s\"processed\");\n",
    "    if do_process\n",
    "        processed_train_imgs = imresize.(load.(train_raw_imgs_path), reverse(train_img_size)...);\n",
    "        @. mkpath(dirname(train_imgs_path));\n",
    "        Images.save.(train_imgs_path, processed_train_imgs);\n",
    "    end\n",
    "\n",
    "    \n",
    "    valid_imgs_path = replace.(valid_raw_imgs_path, r\"raw\" => s\"processed\");\n",
    "    if do_process\n",
    "        processed_valid_imgs = imresize.(load.(valid_raw_imgs_path), reverse(train_img_size)...);\n",
    "        @. mkpath(dirname(valid_imgs_path));\n",
    "        Images.save.(valid_imgs_path, processed_valid_imgs);\n",
    "    end\n",
    "    \n",
    "    return train_imgs_path, valid_imgs_path, train_img_size\n",
    "end"
   ]
  },
  {
   "cell_type": "markdown",
   "metadata": {},
   "source": [
    "# Setting parameters"
   ]
  },
  {
   "cell_type": "code",
   "execution_count": 10,
   "metadata": {},
   "outputs": [],
   "source": [
    "## setting\n",
    "data_dir = joinpath(\"data\");\n",
    "\n",
    "label_txt = joinpath(data_dir, \"monkey_labels.txt\");\n",
    "\n",
    "raw_data_dir = joinpath(data_dir, \"raw\");\n",
    "processed_dir = joinpath(data_dir, \"processed\");\n",
    "\n",
    "train_raw_data_dir = joinpath(raw_data_dir, \"training\");\n",
    "valid_raw_data_dir = joinpath(raw_data_dir, \"validation\");\n",
    "# train_data_dir = joinpath(processed_dir, \"training\");\n",
    "# valid_data_dir = joinpath(processed_dir, \"validation\");\n",
    "\n",
    "train_raw_imgs_path = recursive_readdir(train_raw_data_dir; ext=\"jpg\");\n",
    "valid_raw_imgs_path = recursive_readdir(valid_raw_data_dir; ext=\"jpg\");"
   ]
  },
  {
   "cell_type": "code",
   "execution_count": 11,
   "metadata": {},
   "outputs": [
    {
     "data": {
      "image/svg+xml": [
       "<?xml version=\"1.0\" encoding=\"utf-8\"?>\n",
       "<svg xmlns=\"http://www.w3.org/2000/svg\" xmlns:xlink=\"http://www.w3.org/1999/xlink\" width=\"600\" height=\"400\" viewBox=\"0 0 2400 1600\">\n",
       "<defs>\n",
       "  <clipPath id=\"clip690\">\n",
       "    <rect x=\"0\" y=\"0\" width=\"2400\" height=\"1600\"/>\n",
       "  </clipPath>\n",
       "</defs>\n",
       "<path clip-path=\"url(#clip690)\" d=\"\n",
       "M0 1600 L2400 1600 L2400 0 L0 0  Z\n",
       "  \" fill=\"#ffffff\" fill-rule=\"evenodd\" fill-opacity=\"1\"/>\n",
       "<defs>\n",
       "  <clipPath id=\"clip691\">\n",
       "    <rect x=\"480\" y=\"0\" width=\"1681\" height=\"1600\"/>\n",
       "  </clipPath>\n",
       "</defs>\n",
       "<path clip-path=\"url(#clip690)\" d=\"\n",
       "M427.179 1486.45 L2088.54 1486.45 L2088.54 47.2441 L427.179 47.2441  Z\n",
       "  \" fill=\"#ffffff\" fill-rule=\"evenodd\" fill-opacity=\"1\"/>\n",
       "<defs>\n",
       "  <clipPath id=\"clip692\">\n",
       "    <rect x=\"427\" y=\"47\" width=\"1662\" height=\"1440\"/>\n",
       "  </clipPath>\n",
       "</defs>\n",
       "<polyline clip-path=\"url(#clip692)\" style=\"stroke:#000000; stroke-width:2; stroke-opacity:0.1; fill:none\" points=\"\n",
       "  665.548,47.2441 665.548,1486.45 \n",
       "  \"/>\n",
       "<polyline clip-path=\"url(#clip692)\" style=\"stroke:#000000; stroke-width:2; stroke-opacity:0.1; fill:none\" points=\"\n",
       "  906.325,47.2441 906.325,1486.45 \n",
       "  \"/>\n",
       "<polyline clip-path=\"url(#clip692)\" style=\"stroke:#000000; stroke-width:2; stroke-opacity:0.1; fill:none\" points=\"\n",
       "  1147.1,47.2441 1147.1,1486.45 \n",
       "  \"/>\n",
       "<polyline clip-path=\"url(#clip692)\" style=\"stroke:#000000; stroke-width:2; stroke-opacity:0.1; fill:none\" points=\"\n",
       "  1387.88,47.2441 1387.88,1486.45 \n",
       "  \"/>\n",
       "<polyline clip-path=\"url(#clip692)\" style=\"stroke:#000000; stroke-width:2; stroke-opacity:0.1; fill:none\" points=\"\n",
       "  1628.66,47.2441 1628.66,1486.45 \n",
       "  \"/>\n",
       "<polyline clip-path=\"url(#clip692)\" style=\"stroke:#000000; stroke-width:2; stroke-opacity:0.1; fill:none\" points=\"\n",
       "  1869.43,47.2441 1869.43,1486.45 \n",
       "  \"/>\n",
       "<polyline clip-path=\"url(#clip692)\" style=\"stroke:#000000; stroke-width:2; stroke-opacity:0.1; fill:none\" points=\"\n",
       "  427.179,285.507 2088.54,285.507 \n",
       "  \"/>\n",
       "<polyline clip-path=\"url(#clip692)\" style=\"stroke:#000000; stroke-width:2; stroke-opacity:0.1; fill:none\" points=\"\n",
       "  427.179,526.176 2088.54,526.176 \n",
       "  \"/>\n",
       "<polyline clip-path=\"url(#clip692)\" style=\"stroke:#000000; stroke-width:2; stroke-opacity:0.1; fill:none\" points=\"\n",
       "  427.179,766.846 2088.54,766.846 \n",
       "  \"/>\n",
       "<polyline clip-path=\"url(#clip692)\" style=\"stroke:#000000; stroke-width:2; stroke-opacity:0.1; fill:none\" points=\"\n",
       "  427.179,1007.52 2088.54,1007.52 \n",
       "  \"/>\n",
       "<polyline clip-path=\"url(#clip692)\" style=\"stroke:#000000; stroke-width:2; stroke-opacity:0.1; fill:none\" points=\"\n",
       "  427.179,1248.19 2088.54,1248.19 \n",
       "  \"/>\n",
       "<polyline clip-path=\"url(#clip690)\" style=\"stroke:#000000; stroke-width:4; stroke-opacity:1; fill:none\" points=\"\n",
       "  427.179,1486.45 2088.54,1486.45 \n",
       "  \"/>\n",
       "<polyline clip-path=\"url(#clip690)\" style=\"stroke:#000000; stroke-width:4; stroke-opacity:1; fill:none\" points=\"\n",
       "  427.179,47.2441 427.179,1486.45 \n",
       "  \"/>\n",
       "<polyline clip-path=\"url(#clip690)\" style=\"stroke:#000000; stroke-width:4; stroke-opacity:1; fill:none\" points=\"\n",
       "  665.548,1486.45 665.548,1469.18 \n",
       "  \"/>\n",
       "<polyline clip-path=\"url(#clip690)\" style=\"stroke:#000000; stroke-width:4; stroke-opacity:1; fill:none\" points=\"\n",
       "  906.325,1486.45 906.325,1469.18 \n",
       "  \"/>\n",
       "<polyline clip-path=\"url(#clip690)\" style=\"stroke:#000000; stroke-width:4; stroke-opacity:1; fill:none\" points=\"\n",
       "  1147.1,1486.45 1147.1,1469.18 \n",
       "  \"/>\n",
       "<polyline clip-path=\"url(#clip690)\" style=\"stroke:#000000; stroke-width:4; stroke-opacity:1; fill:none\" points=\"\n",
       "  1387.88,1486.45 1387.88,1469.18 \n",
       "  \"/>\n",
       "<polyline clip-path=\"url(#clip690)\" style=\"stroke:#000000; stroke-width:4; stroke-opacity:1; fill:none\" points=\"\n",
       "  1628.66,1486.45 1628.66,1469.18 \n",
       "  \"/>\n",
       "<polyline clip-path=\"url(#clip690)\" style=\"stroke:#000000; stroke-width:4; stroke-opacity:1; fill:none\" points=\"\n",
       "  1869.43,1486.45 1869.43,1469.18 \n",
       "  \"/>\n",
       "<polyline clip-path=\"url(#clip690)\" style=\"stroke:#000000; stroke-width:4; stroke-opacity:1; fill:none\" points=\"\n",
       "  427.179,285.507 447.115,285.507 \n",
       "  \"/>\n",
       "<polyline clip-path=\"url(#clip690)\" style=\"stroke:#000000; stroke-width:4; stroke-opacity:1; fill:none\" points=\"\n",
       "  427.179,526.176 447.115,526.176 \n",
       "  \"/>\n",
       "<polyline clip-path=\"url(#clip690)\" style=\"stroke:#000000; stroke-width:4; stroke-opacity:1; fill:none\" points=\"\n",
       "  427.179,766.846 447.115,766.846 \n",
       "  \"/>\n",
       "<polyline clip-path=\"url(#clip690)\" style=\"stroke:#000000; stroke-width:4; stroke-opacity:1; fill:none\" points=\"\n",
       "  427.179,1007.52 447.115,1007.52 \n",
       "  \"/>\n",
       "<polyline clip-path=\"url(#clip690)\" style=\"stroke:#000000; stroke-width:4; stroke-opacity:1; fill:none\" points=\"\n",
       "  427.179,1248.19 447.115,1248.19 \n",
       "  \"/>\n",
       "<path clip-path=\"url(#clip690)\" d=\"M 0 0 M642.319 1505.36 L660.675 1505.36 L660.675 1509.3 L646.601 1509.3 L646.601 1517.77 Q647.62 1517.42 648.638 1517.26 Q649.657 1517.07 650.675 1517.07 Q656.462 1517.07 659.842 1520.24 Q663.222 1523.42 663.222 1528.83 Q663.222 1534.41 659.749 1537.51 Q656.277 1540.59 649.958 1540.59 Q647.782 1540.59 645.513 1540.22 Q643.268 1539.85 640.861 1539.11 L640.861 1534.41 Q642.944 1535.54 645.166 1536.1 Q647.388 1536.66 649.865 1536.66 Q653.87 1536.66 656.208 1534.55 Q658.546 1532.44 658.546 1528.83 Q658.546 1525.22 656.208 1523.11 Q653.87 1521.01 649.865 1521.01 Q647.99 1521.01 646.115 1521.42 Q644.263 1521.84 642.319 1522.72 L642.319 1505.36 Z\" fill=\"#000000\" fill-rule=\"evenodd\" fill-opacity=\"1\" /><path clip-path=\"url(#clip690)\" d=\"M 0 0 M678.291 1508.44 Q674.68 1508.44 672.851 1512 Q671.046 1515.55 671.046 1522.67 Q671.046 1529.78 672.851 1533.35 Q674.68 1536.89 678.291 1536.89 Q681.925 1536.89 683.731 1533.35 Q685.559 1529.78 685.559 1522.67 Q685.559 1515.55 683.731 1512 Q681.925 1508.44 678.291 1508.44 M678.291 1504.73 Q684.101 1504.73 687.157 1509.34 Q690.235 1513.92 690.235 1522.67 Q690.235 1531.4 687.157 1536.01 Q684.101 1540.59 678.291 1540.59 Q672.481 1540.59 669.402 1536.01 Q666.347 1531.4 666.347 1522.67 Q666.347 1513.92 669.402 1509.34 Q672.481 1504.73 678.291 1504.73 Z\" fill=\"#000000\" fill-rule=\"evenodd\" fill-opacity=\"1\" /><path clip-path=\"url(#clip690)\" d=\"M 0 0 M869.693 1535.98 L877.332 1535.98 L877.332 1509.62 L869.022 1511.29 L869.022 1507.03 L877.286 1505.36 L881.962 1505.36 L881.962 1535.98 L889.601 1535.98 L889.601 1539.92 L869.693 1539.92 L869.693 1535.98 Z\" fill=\"#000000\" fill-rule=\"evenodd\" fill-opacity=\"1\" /><path clip-path=\"url(#clip690)\" d=\"M 0 0 M904.67 1508.44 Q901.059 1508.44 899.23 1512 Q897.425 1515.55 897.425 1522.67 Q897.425 1529.78 899.23 1533.35 Q901.059 1536.89 904.67 1536.89 Q908.304 1536.89 910.11 1533.35 Q911.939 1529.78 911.939 1522.67 Q911.939 1515.55 910.11 1512 Q908.304 1508.44 904.67 1508.44 M904.67 1504.73 Q910.48 1504.73 913.536 1509.34 Q916.614 1513.92 916.614 1522.67 Q916.614 1531.4 913.536 1536.01 Q910.48 1540.59 904.67 1540.59 Q898.86 1540.59 895.781 1536.01 Q892.726 1531.4 892.726 1522.67 Q892.726 1513.92 895.781 1509.34 Q898.86 1504.73 904.67 1504.73 Z\" fill=\"#000000\" fill-rule=\"evenodd\" fill-opacity=\"1\" /><path clip-path=\"url(#clip690)\" d=\"M 0 0 M931.684 1508.44 Q928.073 1508.44 926.244 1512 Q924.439 1515.55 924.439 1522.67 Q924.439 1529.78 926.244 1533.35 Q928.073 1536.89 931.684 1536.89 Q935.318 1536.89 937.124 1533.35 Q938.952 1529.78 938.952 1522.67 Q938.952 1515.55 937.124 1512 Q935.318 1508.44 931.684 1508.44 M931.684 1504.73 Q937.494 1504.73 940.55 1509.34 Q943.628 1513.92 943.628 1522.67 Q943.628 1531.4 940.55 1536.01 Q937.494 1540.59 931.684 1540.59 Q925.874 1540.59 922.795 1536.01 Q919.739 1531.4 919.739 1522.67 Q919.739 1513.92 922.795 1509.34 Q925.874 1504.73 931.684 1504.73 Z\" fill=\"#000000\" fill-rule=\"evenodd\" fill-opacity=\"1\" /><path clip-path=\"url(#clip690)\" d=\"M 0 0 M1110.97 1535.98 L1118.61 1535.98 L1118.61 1509.62 L1110.3 1511.29 L1110.3 1507.03 L1118.56 1505.36 L1123.24 1505.36 L1123.24 1535.98 L1130.88 1535.98 L1130.88 1539.92 L1110.97 1539.92 L1110.97 1535.98 Z\" fill=\"#000000\" fill-rule=\"evenodd\" fill-opacity=\"1\" /><path clip-path=\"url(#clip690)\" d=\"M 0 0 M1135.99 1505.36 L1154.35 1505.36 L1154.35 1509.3 L1140.27 1509.3 L1140.27 1517.77 Q1141.29 1517.42 1142.31 1517.26 Q1143.33 1517.07 1144.35 1517.07 Q1150.13 1517.07 1153.51 1520.24 Q1156.89 1523.42 1156.89 1528.83 Q1156.89 1534.41 1153.42 1537.51 Q1149.95 1540.59 1143.63 1540.59 Q1141.45 1540.59 1139.19 1540.22 Q1136.94 1539.85 1134.53 1539.11 L1134.53 1534.41 Q1136.62 1535.54 1138.84 1536.1 Q1141.06 1536.66 1143.54 1536.66 Q1147.54 1536.66 1149.88 1534.55 Q1152.22 1532.44 1152.22 1528.83 Q1152.22 1525.22 1149.88 1523.11 Q1147.54 1521.01 1143.54 1521.01 Q1141.66 1521.01 1139.79 1521.42 Q1137.94 1521.84 1135.99 1522.72 L1135.99 1505.36 Z\" fill=\"#000000\" fill-rule=\"evenodd\" fill-opacity=\"1\" /><path clip-path=\"url(#clip690)\" d=\"M 0 0 M1171.96 1508.44 Q1168.35 1508.44 1166.52 1512 Q1164.72 1515.55 1164.72 1522.67 Q1164.72 1529.78 1166.52 1533.35 Q1168.35 1536.89 1171.96 1536.89 Q1175.6 1536.89 1177.4 1533.35 Q1179.23 1529.78 1179.23 1522.67 Q1179.23 1515.55 1177.4 1512 Q1175.6 1508.44 1171.96 1508.44 M1171.96 1504.73 Q1177.77 1504.73 1180.83 1509.34 Q1183.91 1513.92 1183.91 1522.67 Q1183.91 1531.4 1180.83 1536.01 Q1177.77 1540.59 1171.96 1540.59 Q1166.15 1540.59 1163.07 1536.01 Q1160.02 1531.4 1160.02 1522.67 Q1160.02 1513.92 1163.07 1509.34 Q1166.15 1504.73 1171.96 1504.73 Z\" fill=\"#000000\" fill-rule=\"evenodd\" fill-opacity=\"1\" /><path clip-path=\"url(#clip690)\" d=\"M 0 0 M1355.52 1535.98 L1371.84 1535.98 L1371.84 1539.92 L1349.89 1539.92 L1349.89 1535.98 Q1352.56 1533.23 1357.14 1528.6 Q1361.75 1523.95 1362.93 1522.61 Q1365.17 1520.08 1366.05 1518.35 Q1366.95 1516.59 1366.95 1514.9 Q1366.95 1512.14 1365.01 1510.41 Q1363.09 1508.67 1359.99 1508.67 Q1357.79 1508.67 1355.33 1509.43 Q1352.9 1510.2 1350.13 1511.75 L1350.13 1507.03 Q1352.95 1505.89 1355.4 1505.31 Q1357.86 1504.73 1359.89 1504.73 Q1365.26 1504.73 1368.46 1507.42 Q1371.65 1510.11 1371.65 1514.6 Q1371.65 1516.73 1370.84 1518.65 Q1370.06 1520.54 1367.95 1523.14 Q1367.37 1523.81 1364.27 1527.03 Q1361.17 1530.22 1355.52 1535.98 Z\" fill=\"#000000\" fill-rule=\"evenodd\" fill-opacity=\"1\" /><path clip-path=\"url(#clip690)\" d=\"M 0 0 M1386.91 1508.44 Q1383.3 1508.44 1381.47 1512 Q1379.66 1515.55 1379.66 1522.67 Q1379.66 1529.78 1381.47 1533.35 Q1383.3 1536.89 1386.91 1536.89 Q1390.54 1536.89 1392.35 1533.35 Q1394.18 1529.78 1394.18 1522.67 Q1394.18 1515.55 1392.35 1512 Q1390.54 1508.44 1386.91 1508.44 M1386.91 1504.73 Q1392.72 1504.73 1395.77 1509.34 Q1398.85 1513.92 1398.85 1522.67 Q1398.85 1531.4 1395.77 1536.01 Q1392.72 1540.59 1386.91 1540.59 Q1381.1 1540.59 1378.02 1536.01 Q1374.96 1531.4 1374.96 1522.67 Q1374.96 1513.92 1378.02 1509.34 Q1381.1 1504.73 1386.91 1504.73 Z\" fill=\"#000000\" fill-rule=\"evenodd\" fill-opacity=\"1\" /><path clip-path=\"url(#clip690)\" d=\"M 0 0 M1413.92 1508.44 Q1410.31 1508.44 1408.48 1512 Q1406.68 1515.55 1406.68 1522.67 Q1406.68 1529.78 1408.48 1533.35 Q1410.31 1536.89 1413.92 1536.89 Q1417.56 1536.89 1419.36 1533.35 Q1421.19 1529.78 1421.19 1522.67 Q1421.19 1515.55 1419.36 1512 Q1417.56 1508.44 1413.92 1508.44 M1413.92 1504.73 Q1419.73 1504.73 1422.79 1509.34 Q1425.87 1513.92 1425.87 1522.67 Q1425.87 1531.4 1422.79 1536.01 Q1419.73 1540.59 1413.92 1540.59 Q1408.11 1540.59 1405.03 1536.01 Q1401.98 1531.4 1401.98 1522.67 Q1401.98 1513.92 1405.03 1509.34 Q1408.11 1504.73 1413.92 1504.73 Z\" fill=\"#000000\" fill-rule=\"evenodd\" fill-opacity=\"1\" /><path clip-path=\"url(#clip690)\" d=\"M 0 0 M1596.79 1535.98 L1613.11 1535.98 L1613.11 1539.92 L1591.17 1539.92 L1591.17 1535.98 Q1593.83 1533.23 1598.41 1528.6 Q1603.02 1523.95 1604.2 1522.61 Q1606.45 1520.08 1607.33 1518.35 Q1608.23 1516.59 1608.23 1514.9 Q1608.23 1512.14 1606.28 1510.41 Q1604.36 1508.67 1601.26 1508.67 Q1599.06 1508.67 1596.61 1509.43 Q1594.18 1510.2 1591.4 1511.75 L1591.4 1507.03 Q1594.22 1505.89 1596.68 1505.31 Q1599.13 1504.73 1601.17 1504.73 Q1606.54 1504.73 1609.73 1507.42 Q1612.93 1510.11 1612.93 1514.6 Q1612.93 1516.73 1612.12 1518.65 Q1611.33 1520.54 1609.22 1523.14 Q1608.65 1523.81 1605.54 1527.03 Q1602.44 1530.22 1596.79 1535.98 Z\" fill=\"#000000\" fill-rule=\"evenodd\" fill-opacity=\"1\" /><path clip-path=\"url(#clip690)\" d=\"M 0 0 M1618.23 1505.36 L1636.59 1505.36 L1636.59 1509.3 L1622.51 1509.3 L1622.51 1517.77 Q1623.53 1517.42 1624.55 1517.26 Q1625.57 1517.07 1626.59 1517.07 Q1632.37 1517.07 1635.75 1520.24 Q1639.13 1523.42 1639.13 1528.83 Q1639.13 1534.41 1635.66 1537.51 Q1632.19 1540.59 1625.87 1540.59 Q1623.69 1540.59 1621.42 1540.22 Q1619.18 1539.85 1616.77 1539.11 L1616.77 1534.41 Q1618.85 1535.54 1621.08 1536.1 Q1623.3 1536.66 1625.77 1536.66 Q1629.78 1536.66 1632.12 1534.55 Q1634.46 1532.44 1634.46 1528.83 Q1634.46 1525.22 1632.12 1523.11 Q1629.78 1521.01 1625.77 1521.01 Q1623.9 1521.01 1622.02 1521.42 Q1620.17 1521.84 1618.23 1522.72 L1618.23 1505.36 Z\" fill=\"#000000\" fill-rule=\"evenodd\" fill-opacity=\"1\" /><path clip-path=\"url(#clip690)\" d=\"M 0 0 M1654.2 1508.44 Q1650.59 1508.44 1648.76 1512 Q1646.96 1515.55 1646.96 1522.67 Q1646.96 1529.78 1648.76 1533.35 Q1650.59 1536.89 1654.2 1536.89 Q1657.83 1536.89 1659.64 1533.35 Q1661.47 1529.78 1661.47 1522.67 Q1661.47 1515.55 1659.64 1512 Q1657.83 1508.44 1654.2 1508.44 M1654.2 1504.73 Q1660.01 1504.73 1663.07 1509.34 Q1666.15 1513.92 1666.15 1522.67 Q1666.15 1531.4 1663.07 1536.01 Q1660.01 1540.59 1654.2 1540.59 Q1648.39 1540.59 1645.31 1536.01 Q1642.26 1531.4 1642.26 1522.67 Q1642.26 1513.92 1645.31 1509.34 Q1648.39 1504.73 1654.2 1504.73 Z\" fill=\"#000000\" fill-rule=\"evenodd\" fill-opacity=\"1\" /><path clip-path=\"url(#clip690)\" d=\"M 0 0 M1846.67 1521.29 Q1850.02 1522 1851.9 1524.27 Q1853.8 1526.54 1853.8 1529.87 Q1853.8 1534.99 1850.28 1537.79 Q1846.76 1540.59 1840.28 1540.59 Q1838.1 1540.59 1835.79 1540.15 Q1833.5 1539.73 1831.04 1538.88 L1831.04 1534.36 Q1832.99 1535.5 1835.3 1536.08 Q1837.62 1536.66 1840.14 1536.66 Q1844.54 1536.66 1846.83 1534.92 Q1849.14 1533.18 1849.14 1529.87 Q1849.14 1526.82 1846.99 1525.11 Q1844.86 1523.37 1841.04 1523.37 L1837.02 1523.37 L1837.02 1519.53 L1841.23 1519.53 Q1844.68 1519.53 1846.51 1518.16 Q1848.33 1516.77 1848.33 1514.18 Q1848.33 1511.52 1846.44 1510.11 Q1844.56 1508.67 1841.04 1508.67 Q1839.12 1508.67 1836.92 1509.09 Q1834.72 1509.5 1832.08 1510.38 L1832.08 1506.22 Q1834.75 1505.48 1837.06 1505.11 Q1839.4 1504.73 1841.46 1504.73 Q1846.78 1504.73 1849.89 1507.17 Q1852.99 1509.57 1852.99 1513.69 Q1852.99 1516.56 1851.34 1518.55 Q1849.7 1520.52 1846.67 1521.29 Z\" fill=\"#000000\" fill-rule=\"evenodd\" fill-opacity=\"1\" /><path clip-path=\"url(#clip690)\" d=\"M 0 0 M1868.87 1508.44 Q1865.26 1508.44 1863.43 1512 Q1861.62 1515.55 1861.62 1522.67 Q1861.62 1529.78 1863.43 1533.35 Q1865.26 1536.89 1868.87 1536.89 Q1872.5 1536.89 1874.31 1533.35 Q1876.14 1529.78 1876.14 1522.67 Q1876.14 1515.55 1874.31 1512 Q1872.5 1508.44 1868.87 1508.44 M1868.87 1504.73 Q1874.68 1504.73 1877.73 1509.34 Q1880.81 1513.92 1880.81 1522.67 Q1880.81 1531.4 1877.73 1536.01 Q1874.68 1540.59 1868.87 1540.59 Q1863.06 1540.59 1859.98 1536.01 Q1856.92 1531.4 1856.92 1522.67 Q1856.92 1513.92 1859.98 1509.34 Q1863.06 1504.73 1868.87 1504.73 Z\" fill=\"#000000\" fill-rule=\"evenodd\" fill-opacity=\"1\" /><path clip-path=\"url(#clip690)\" d=\"M 0 0 M1895.88 1508.44 Q1892.27 1508.44 1890.44 1512 Q1888.64 1515.55 1888.64 1522.67 Q1888.64 1529.78 1890.44 1533.35 Q1892.27 1536.89 1895.88 1536.89 Q1899.51 1536.89 1901.32 1533.35 Q1903.15 1529.78 1903.15 1522.67 Q1903.15 1515.55 1901.32 1512 Q1899.51 1508.44 1895.88 1508.44 M1895.88 1504.73 Q1901.69 1504.73 1904.75 1509.34 Q1907.83 1513.92 1907.83 1522.67 Q1907.83 1531.4 1904.75 1536.01 Q1901.69 1540.59 1895.88 1540.59 Q1890.07 1540.59 1886.99 1536.01 Q1883.94 1531.4 1883.94 1522.67 Q1883.94 1513.92 1886.99 1509.34 Q1890.07 1504.73 1895.88 1504.73 Z\" fill=\"#000000\" fill-rule=\"evenodd\" fill-opacity=\"1\" /><path clip-path=\"url(#clip690)\" d=\"M 0 0 M355.262 268.227 L373.619 268.227 L373.619 272.162 L359.545 272.162 L359.545 280.634 Q360.563 280.287 361.582 280.125 Q362.6 279.94 363.619 279.94 Q369.406 279.94 372.785 283.111 Q376.165 286.282 376.165 291.699 Q376.165 297.278 372.693 300.38 Q369.22 303.458 362.901 303.458 Q360.725 303.458 358.457 303.088 Q356.211 302.717 353.804 301.977 L353.804 297.278 Q355.887 298.412 358.109 298.968 Q360.332 299.523 362.808 299.523 Q366.813 299.523 369.151 297.417 Q371.489 295.31 371.489 291.699 Q371.489 288.088 369.151 285.981 Q366.813 283.875 362.808 283.875 Q360.933 283.875 359.058 284.292 Q357.207 284.708 355.262 285.588 L355.262 268.227 Z\" fill=\"#000000\" fill-rule=\"evenodd\" fill-opacity=\"1\" /><path clip-path=\"url(#clip690)\" d=\"M 0 0 M391.234 271.306 Q387.623 271.306 385.794 274.87 Q383.989 278.412 383.989 285.542 Q383.989 292.648 385.794 296.213 Q387.623 299.755 391.234 299.755 Q394.868 299.755 396.674 296.213 Q398.503 292.648 398.503 285.542 Q398.503 278.412 396.674 274.87 Q394.868 271.306 391.234 271.306 M391.234 267.602 Q397.044 267.602 400.1 272.208 Q403.179 276.792 403.179 285.542 Q403.179 294.268 400.1 298.875 Q397.044 303.458 391.234 303.458 Q385.424 303.458 382.345 298.875 Q379.29 294.268 379.29 285.542 Q379.29 276.792 382.345 272.208 Q385.424 267.602 391.234 267.602 Z\" fill=\"#000000\" fill-rule=\"evenodd\" fill-opacity=\"1\" /><path clip-path=\"url(#clip690)\" d=\"M 0 0 M329.244 539.521 L336.883 539.521 L336.883 513.156 L328.572 514.822 L328.572 510.563 L336.836 508.896 L341.512 508.896 L341.512 539.521 L349.151 539.521 L349.151 543.456 L329.244 543.456 L329.244 539.521 Z\" fill=\"#000000\" fill-rule=\"evenodd\" fill-opacity=\"1\" /><path clip-path=\"url(#clip690)\" d=\"M 0 0 M364.22 511.975 Q360.609 511.975 358.781 515.54 Q356.975 519.082 356.975 526.211 Q356.975 533.318 358.781 536.882 Q360.609 540.424 364.22 540.424 Q367.855 540.424 369.66 536.882 Q371.489 533.318 371.489 526.211 Q371.489 519.082 369.66 515.54 Q367.855 511.975 364.22 511.975 M364.22 508.271 Q370.031 508.271 373.086 512.878 Q376.165 517.461 376.165 526.211 Q376.165 534.938 373.086 539.544 Q370.031 544.128 364.22 544.128 Q358.41 544.128 355.332 539.544 Q352.276 534.938 352.276 526.211 Q352.276 517.461 355.332 512.878 Q358.41 508.271 364.22 508.271 Z\" fill=\"#000000\" fill-rule=\"evenodd\" fill-opacity=\"1\" /><path clip-path=\"url(#clip690)\" d=\"M 0 0 M391.234 511.975 Q387.623 511.975 385.794 515.54 Q383.989 519.082 383.989 526.211 Q383.989 533.318 385.794 536.882 Q387.623 540.424 391.234 540.424 Q394.868 540.424 396.674 536.882 Q398.503 533.318 398.503 526.211 Q398.503 519.082 396.674 515.54 Q394.868 511.975 391.234 511.975 M391.234 508.271 Q397.044 508.271 400.1 512.878 Q403.179 517.461 403.179 526.211 Q403.179 534.938 400.1 539.544 Q397.044 544.128 391.234 544.128 Q385.424 544.128 382.345 539.544 Q379.29 534.938 379.29 526.211 Q379.29 517.461 382.345 512.878 Q385.424 508.271 391.234 508.271 Z\" fill=\"#000000\" fill-rule=\"evenodd\" fill-opacity=\"1\" /><path clip-path=\"url(#clip690)\" d=\"M 0 0 M330.239 780.191 L337.878 780.191 L337.878 753.825 L329.568 755.492 L329.568 751.233 L337.832 749.566 L342.508 749.566 L342.508 780.191 L350.146 780.191 L350.146 784.126 L330.239 784.126 L330.239 780.191 Z\" fill=\"#000000\" fill-rule=\"evenodd\" fill-opacity=\"1\" /><path clip-path=\"url(#clip690)\" d=\"M 0 0 M355.262 749.566 L373.619 749.566 L373.619 753.501 L359.545 753.501 L359.545 761.973 Q360.563 761.626 361.582 761.464 Q362.6 761.279 363.619 761.279 Q369.406 761.279 372.785 764.45 Q376.165 767.621 376.165 773.038 Q376.165 778.617 372.693 781.719 Q369.22 784.797 362.901 784.797 Q360.725 784.797 358.457 784.427 Q356.211 784.057 353.804 783.316 L353.804 778.617 Q355.887 779.751 358.109 780.307 Q360.332 780.862 362.808 780.862 Q366.813 780.862 369.151 778.756 Q371.489 776.649 371.489 773.038 Q371.489 769.427 369.151 767.321 Q366.813 765.214 362.808 765.214 Q360.933 765.214 359.058 765.631 Q357.207 766.047 355.262 766.927 L355.262 749.566 Z\" fill=\"#000000\" fill-rule=\"evenodd\" fill-opacity=\"1\" /><path clip-path=\"url(#clip690)\" d=\"M 0 0 M391.234 752.645 Q387.623 752.645 385.794 756.209 Q383.989 759.751 383.989 766.881 Q383.989 773.987 385.794 777.552 Q387.623 781.094 391.234 781.094 Q394.868 781.094 396.674 777.552 Q398.503 773.987 398.503 766.881 Q398.503 759.751 396.674 756.209 Q394.868 752.645 391.234 752.645 M391.234 748.941 Q397.044 748.941 400.1 753.547 Q403.179 758.131 403.179 766.881 Q403.179 775.608 400.1 780.214 Q397.044 784.797 391.234 784.797 Q385.424 784.797 382.345 780.214 Q379.29 775.608 379.29 766.881 Q379.29 758.131 382.345 753.547 Q385.424 748.941 391.234 748.941 Z\" fill=\"#000000\" fill-rule=\"evenodd\" fill-opacity=\"1\" /><path clip-path=\"url(#clip690)\" d=\"M 0 0 M332.832 1020.86 L349.151 1020.86 L349.151 1024.8 L327.207 1024.8 L327.207 1020.86 Q329.869 1018.11 334.452 1013.48 Q339.059 1008.82 340.239 1007.48 Q342.484 1004.96 343.364 1003.22 Q344.267 1001.46 344.267 999.772 Q344.267 997.018 342.322 995.282 Q340.401 993.546 337.299 993.546 Q335.1 993.546 332.647 994.31 Q330.216 995.073 327.438 996.624 L327.438 991.902 Q330.262 990.768 332.716 990.189 Q335.17 989.611 337.207 989.611 Q342.577 989.611 345.771 992.296 Q348.966 994.981 348.966 999.472 Q348.966 1001.6 348.156 1003.52 Q347.369 1005.42 345.262 1008.01 Q344.683 1008.68 341.582 1011.9 Q338.48 1015.1 332.832 1020.86 Z\" fill=\"#000000\" fill-rule=\"evenodd\" fill-opacity=\"1\" /><path clip-path=\"url(#clip690)\" d=\"M 0 0 M364.22 993.314 Q360.609 993.314 358.781 996.879 Q356.975 1000.42 356.975 1007.55 Q356.975 1014.66 358.781 1018.22 Q360.609 1021.76 364.22 1021.76 Q367.855 1021.76 369.66 1018.22 Q371.489 1014.66 371.489 1007.55 Q371.489 1000.42 369.66 996.879 Q367.855 993.314 364.22 993.314 M364.22 989.611 Q370.031 989.611 373.086 994.217 Q376.165 998.8 376.165 1007.55 Q376.165 1016.28 373.086 1020.88 Q370.031 1025.47 364.22 1025.47 Q358.41 1025.47 355.332 1020.88 Q352.276 1016.28 352.276 1007.55 Q352.276 998.8 355.332 994.217 Q358.41 989.611 364.22 989.611 Z\" fill=\"#000000\" fill-rule=\"evenodd\" fill-opacity=\"1\" /><path clip-path=\"url(#clip690)\" d=\"M 0 0 M391.234 993.314 Q387.623 993.314 385.794 996.879 Q383.989 1000.42 383.989 1007.55 Q383.989 1014.66 385.794 1018.22 Q387.623 1021.76 391.234 1021.76 Q394.868 1021.76 396.674 1018.22 Q398.503 1014.66 398.503 1007.55 Q398.503 1000.42 396.674 996.879 Q394.868 993.314 391.234 993.314 M391.234 989.611 Q397.044 989.611 400.1 994.217 Q403.179 998.8 403.179 1007.55 Q403.179 1016.28 400.1 1020.88 Q397.044 1025.47 391.234 1025.47 Q385.424 1025.47 382.345 1020.88 Q379.29 1016.28 379.29 1007.55 Q379.29 998.8 382.345 994.217 Q385.424 989.611 391.234 989.611 Z\" fill=\"#000000\" fill-rule=\"evenodd\" fill-opacity=\"1\" /><path clip-path=\"url(#clip690)\" d=\"M 0 0 M333.827 1261.53 L350.146 1261.53 L350.146 1265.47 L328.202 1265.47 L328.202 1261.53 Q330.864 1258.78 335.447 1254.15 Q340.054 1249.49 341.234 1248.15 Q343.48 1245.63 344.359 1243.89 Q345.262 1242.13 345.262 1240.44 Q345.262 1237.69 343.318 1235.95 Q341.396 1234.22 338.295 1234.22 Q336.096 1234.22 333.642 1234.98 Q331.211 1235.74 328.434 1237.29 L328.434 1232.57 Q331.258 1231.44 333.711 1230.86 Q336.165 1230.28 338.202 1230.28 Q343.572 1230.28 346.767 1232.97 Q349.961 1235.65 349.961 1240.14 Q349.961 1242.27 349.151 1244.19 Q348.364 1246.09 346.258 1248.68 Q345.679 1249.35 342.577 1252.57 Q339.475 1255.77 333.827 1261.53 Z\" fill=\"#000000\" fill-rule=\"evenodd\" fill-opacity=\"1\" /><path clip-path=\"url(#clip690)\" d=\"M 0 0 M355.262 1230.91 L373.619 1230.91 L373.619 1234.84 L359.545 1234.84 L359.545 1243.31 Q360.563 1242.97 361.582 1242.8 Q362.6 1242.62 363.619 1242.62 Q369.406 1242.62 372.785 1245.79 Q376.165 1248.96 376.165 1254.38 Q376.165 1259.96 372.693 1263.06 Q369.22 1266.14 362.901 1266.14 Q360.725 1266.14 358.457 1265.77 Q356.211 1265.4 353.804 1264.65 L353.804 1259.96 Q355.887 1261.09 358.109 1261.65 Q360.332 1262.2 362.808 1262.2 Q366.813 1262.2 369.151 1260.09 Q371.489 1257.99 371.489 1254.38 Q371.489 1250.77 369.151 1248.66 Q366.813 1246.55 362.808 1246.55 Q360.933 1246.55 359.058 1246.97 Q357.207 1247.39 355.262 1248.27 L355.262 1230.91 Z\" fill=\"#000000\" fill-rule=\"evenodd\" fill-opacity=\"1\" /><path clip-path=\"url(#clip690)\" d=\"M 0 0 M391.234 1233.98 Q387.623 1233.98 385.794 1237.55 Q383.989 1241.09 383.989 1248.22 Q383.989 1255.33 385.794 1258.89 Q387.623 1262.43 391.234 1262.43 Q394.868 1262.43 396.674 1258.89 Q398.503 1255.33 398.503 1248.22 Q398.503 1241.09 396.674 1237.55 Q394.868 1233.98 391.234 1233.98 M391.234 1230.28 Q397.044 1230.28 400.1 1234.89 Q403.179 1239.47 403.179 1248.22 Q403.179 1256.95 400.1 1261.55 Q397.044 1266.14 391.234 1266.14 Q385.424 1266.14 382.345 1261.55 Q379.29 1256.95 379.29 1248.22 Q379.29 1239.47 382.345 1234.89 Q385.424 1230.28 391.234 1230.28 Z\" fill=\"#000000\" fill-rule=\"evenodd\" fill-opacity=\"1\" /><g clip-path=\"url(#clip692)\">\n",
       "<image width=\"1661\" height=\"1439\" xlink:href=\"data:image/png;base64,\n",
       "iVBORw0KGgoAAAANSUhEUgAABn0AAAWfCAYAAABugTNIAAAgAElEQVR4nOy9x84tSZLnZy5CHfWJ\n",
       "e2/eFFXZVV2YwQiCANckd3wKrkk+GF+B2wG4JDgkQAzYHHK6q0WJFFd+4ojQ4Vxk5zFzT7dAbefD\n",
       "/7eKOMciwoW5mbmfE+bmv/uffhVII/jrYd+qUvT4+fF6bI1R5W42u+vxeBlUuePT6XrsQ63KVXv+\n",
       "bnRxAafilIoTEVHRxOeHzV1W7s3hX0Tnu+rLrNzefhufby9Zub77fXT+8PSn6/EQXP7er34dnf/x\n",
       "u49ZuT/86bv4uv2UldsdbHReH+as3GJilehbLl//mC8rEVH3kft0fOxUuaE58MlGFaOl7K/Hh8aq\n",
       "cl/v+CZu4TJcJl3Hlop1u/T6EPji8Pp6fL+9VeWsH6/Hx+lJlfvu8Ud+7kHcz+t67ifR/r1ep1qM\n",
       "r812r8rt9/zdMOr99MN3f74eT0MffWeWX6fiP8nNcfkurdIWJr7fZpfXKyu6ve/y+kpEtMx8/Y1e\n",
       "dQrEzz128Vjt+3wZSvcqOi+KMi9XjtH5dpsfh0VdxdeZ32bl5tFH5xO9ux5XVZG9hoho47+6Hg9J\n",
       "v0na6Q98POTt1jzHbV6YvJ7OQzw++xM/t6nz7UVEtN9xHaf5rMp9+MDlmFbGwO1ejIFKH1PjyH11\n",
       "6risT+d8OxARBcdlbVbaX9679Lrc/S2P/8bpdrX23Lav7/iaTanf+/sf2Fd89+GdKvdw4fpW+60q\n",
       "VzTch5ttpcrtpE/uYp885IcDFSZxAn0+hhiTfnfFkpWzPv68p/wYGOa4QHPI328SfsRQ7CvKIt8W\n",
       "zsaBxjAqvjbEdaq3+T4tzC46H8d8Y75/H8cI88h1ur+5z15DlNiToNvZXgSCX3/xWpXzBffph0/P\n",
       "+v2EUmwabsv9Vh+77ZHthCM93tztbq7HDyfdJ//w6YOQ08d/33JZK8vt9cVBjwsONcv5V/oYl2Zi\n",
       "23hVbl6E/zrq9nKc2GZU9U38pWLDax/X408//ENWzhVchqpUBjURLZOwg6Xen5OYZ4xL0p8hX0c3\n",
       "x23pKD8O5yn2S5duzMpZG8u9fZ3X7S/fxJ+fL3m9+vjpITp/fOJ6XAbdf83CvtS1bmelvgxdXmcL\n",
       "G7d5P+X1b0nG0EbE2m++WIn3RZy7GD0+P/Zcp82Kn+tnlht7Xa8a4nt8dc/zN096HG9qtsenWb/3\n",
       "pyP3m/f6OPRi/PeXvE4RET0K2zeMXL6q1Cc+VcVltVaPz/cN3+9+r+vK23uOB/ebb1S5Y8t9+DzG\n",
       "PtNt8m3x7e1/G9/j6ces3PPjH5Nn5WOSfonHu2myYpSGdsZynx77vP86fYjbsn/K+/s6UdHS5xc/\n",
       "ZpP0jaLbZRXb1dnkfXzXx3rUi9h7UdYIiIiGjus+nHTf7WYe543X9eUofHx7PKpy0l8bx7pzGvTx\n",
       "8CTud9jr8cih4Unc5aIvPk0zf+frB1WuLrgPqprbYbgccuI/yW25rPOKzZhL1uVlfKvKhcDKXDo9\n",
       "brl8Zr0qXDzufJlv26qOB8TtLj/OXSHWEhY9LptnHv+dNocnIjkF2ZbxYL2/y8dFbdKUPzzmdexT\n",
       "4tfGNu/ntknc/nqTNxo2mYtNhtt2CStxjFhT8oU+DgvL46Hv8v7w+BjbN6m/krKK9eOrL/LrlJtd\n",
       "PI7PLc/TTKn3byni83nU5+eu4LXdqdPlguWxV5T6Asyl576aJ67jzcp6VQjs546nlXXFieWKveI4\n",
       "iEgOva7T79f1rG9OXORWYhi5XjJNuh0cRZvvD3psTJbHoVHmp0RE3vE96jKeK76+faPdPD5t/pyV\n",
       "Grp43PSKHgx9Mu8e8rH7KD4vbdyWZbpA/8/sm/jzss770F9MH7JSRI/HZGws+fEv13KIiLworyN9\n",
       "/WUW8/NxxXcYoUtFpY8v6a/fbHS/+eaG7cT7d5+yMnqkDgAAAAAAAAAAAAAAAAAAAP6zAT/6AAAA\n",
       "AAAAAAAAAAAAAAAAvADwow8AAAAAAAAAAAAAAAAAAMALAD/6AAAAAAAAAAAAAAAAAAAAvADwow8A\n",
       "AAAAAAAAAAAAAAAAAMALwDdNpX45jfyb0DiMqtxCQVyzqHKduEdYgipnvbseb3eFKmccl33oyvi7\n",
       "sM9es9mY6Hy38Vm5Zv8cnRflJSs3mL+Pzv+v3/+Qlfvj73+MzqeBn3v/9tfZa35bx2W7e/VtVu5w\n",
       "+1fR+aen/5iV876Lzq3ps3LbTdzmd5v6etxbvX8Xy/1b3uXbn4joxzM/92E4q3LDNF+PvdvockHI\n",
       "Ge5fW+q6PTvWPxP03z6d4ecaq9+vH7kM/WxUuWZ7w/dzzfV4GvRrlsDfzZM+bo7HI8sFvZ+8Z70S\n",
       "TfcLHHF92z4WrIvb7DXWfReflx+ycuMY16Nvv8jKlf5wPTb0pJZ1Njy++v5GlbNe6IeJbYYz+T4Y\n",
       "p2ScBK0PpvhZNm8zu3GIzmt3zMoZisfhbNgGBXKp+JWlf+ASTboejAuXdxjyihCSuhZV/n6+iMfQ\n",
       "XHP5iiJvY4mIfMl9oFt6orphOzFZve6m4PKNin0jIpoMyxnPdaxq/d7OcwnHoVPlvOO22GxLVW6/\n",
       "5/FvVZ0iooX1aFg68bFevyB8R7XVbedW+No1OSPHjdXtpdSXQLGuDMOUihMRUVHX0Xmz3WXlDvv4\n",
       "c+fzbdZNsU+5POf76nxq4+eK/oiee2AbNHRxmxc+f01TbqPzuc6KkfNxW3aKPwx2Ss7z47WsYx/l\n",
       "hB64Qh9h3chtFOZBlVuEzXg+5e0WEVErbNDTSb9fIco0kWhbm9cVIiInhmgwep0+j2wvbaXL3e64\n",
       "r5z+WDrPXD4Z57aLPg7rmsf/dqX9q0rYS6fHAtPItmDsdOfdC3se5tgPlVU+jrmMn6Jz6/PjphIx\n",
       "9H7zWi0DTfycNT8UrNAjF+v/1t7lb93GdbJLvs1Clfgely9Hn9imz88fs3KnU9xGN4d8+eY5tk3D\n",
       "zPdvu/xcgoiIhG3dH3R7LPVlmjX9S5R5ySt338Z65IT/enrQ+63eiBja6jprhc72vT7ARAhNi/5Y\n",
       "KsR8RPqistTjjEnY2bASQ1sRV5lJ93OzKODYrsyNxbO8EWV1epzhjSjfVnEcRDQ7tquXXrdBx/Pp\n",
       "elxYXfeWgcvUPj9E350+5q/7w9/9H9F5XeXr1ZRJrF3m46KyiHV+XPI283yM9WjsRX8s+bJ259ie\n",
       "TUr8VCc+2dd53bbJf2b7Pq9/z8fY/42K/vVDIifGzTTp46bvpV/SdbEQ5Z0VH0BE9HBiG9x43QbV\n",
       "tZgDirnxvBJ3zzP3++X8rMp9+P6P1+PDIR8PEhF5MYcu7Neq3OL4WYb4for5/knOsu7N40GVs+Z3\n",
       "1+PdN/p6xvMTt8vlSY8F2vH99XhI5snDQ74t0njw6eZvsnKvb/7t9djv2qwMEdE8cMMUJh/jEhHd\n",
       "3HB9b6p4HSokawE/8/gcG/ezorO/GCfKOk0a32jOIyQ+3gjfMfT6uDGO27ZYmXt6EYsOk1KnpK7p\n",
       "HOlnrC0SuTzDEvehdXxd4fR+o0WMa/NZFZP+0K9N0MWznNf9MAn/P/Zsjy8ra3Cl4/uVK3JWxC2n\n",
       "B31uYoV9n2c9hl7kGrU4Hkf9mvh+ehCza7j9b3ZbVS6INbigxnnxWpa3sbYsij9MpxmX53x5jYnH\n",
       "TaFMkmyVzI2VNXMj1ibLZP4mYyTJnKyp9krMde5jHz/O+bLOc7pWl3/uMKS2iusYlLISEVVirmeU\n",
       "dUWieM2xKnVfe9iyPS5X1qHHjvv+/PSQlcGbPgAAAAAAAAAAAAAAAAAAAC8A/OgDAAAAAAAAAAAA\n",
       "AAAAAADwAsCPPgAAAAAAAAAAAAAAAAAAAC8A/OgDAAAAAAAAAAAAAAAAAADwAsCPPgAAAAAAAAAA\n",
       "AAAAAAAAAC8AP8yj+uUwhutxP02q3LIs1+NxXFS5M/GzbFDFyBbl9fip/6jKbeo312Nv99F33m6y\n",
       "1xRzfN4fn7Jy77rvovMhPGflQohv+PzZZeX85svovNrvrsdPY5u95m//+P9E53c326zcm7s30XlZ\n",
       "5evunI/ODeU7ISQqYUVn1VbXA9+w3N3tTpXb33L5/t8/P6pyn+eOy2RqVW7x/Nul9aw7wei6uEx8\n",
       "7yHf/ERE9G7g8h2fB1XOVFz3znSq3ORYLrT84LrI9y0RUVlX1+M5VWDB6cy63Dl9gA0Nt2Vp9X7a\n",
       "1HfX42Woou+G5YfsNVNiT8K8z8rN4yU675fPWTlf8P1S/ZWY7vZ6fDnrNs2Xhu9XFvF3Lv8beJ/Y\n",
       "tMXkx4AxJjqflvz9xjbWo1Cc82V1sS2ZieXGSe/fk7DbYdR/1w+2vx5bnx9fS2KbBpMfA6WPy+M8\n",
       "t1mw+rgZRNuGoNuWZsP1GCtdD6xospH0+41BPpePi6C3V2G5f70pVbl5nsWxXoZJ+MPS68+dF77f\n",
       "83C6Ho+9brjakcvXGd1mmJrb0tUr40uodli5H4nvfFKn7SHvlxoX6543+XKUyfgviryvXcZYF8v2\n",
       "kpXzqS1d8vfbbm5EGWJdrot8nTbNTXRubb5OaR0+P7zPyp2T+MMqXVBVsZ1uSrbva/aze+Q2art8\n",
       "exERLYF9m4z7Up7PfA/nC1Vuv7/nExFL9bNeBheEj5/1Mnyc2V6+3h5UucOOfe+eKlXuaLlMH888\n",
       "Diej+5u+5PKZFXtkiPVgmvQ6zYPQ7aDboEXY1Tl2S+QKpT82ccz767tfZ8XqmmPZwuntdTq9ux4/\n",
       "i+MUX7Jeev86LuuQbwub+Ju6zJfDFYnOn/IDZzz20fnQ91m5to/7sCjzfjMksYQXscZ80n23FTGr\n",
       "jFVSiorvZ3sljg+xrTJLfvyHNF5d+N7tSY9lD1uOuVZti/Bf07AyBkRXl063GduGba71wn76vP0m\n",
       "IpqFj++VviUiGgZuM7sSC5iZnzWv1KkwfI9G6OimWfG1wm/O22alDFynYaUMrajvtNHr7kUM6JI4\n",
       "zwz5GHWTDLuyzOtiO8b+63LJx4QumQf5Ml//0sT6sRfteWnzbVvt4rEaNvn+LYrYnstYVjIM8fWz\n",
       "oi/DGOulL/N6Woa4TnYRcXyvx1xLx33fXfT+lSP50uo+6zLws5yufrQI3d5teEw+HE85cSIi+vSB\n",
       "53nLpJf1sOF5Y+j1sVLuWY+qlThjbLkirbBvtvwuJ05ERN0TxwwrpoUON1y+m+ZrVa7vOLb77vif\n",
       "VLkghlCXxLK+ydvjborH5+k5Pw6fPv/N9Xi70+OHL7/guLEo9fZ//MTHh1/Fz3z16l9kr7mt4nHy\n",
       "4fghK/dwjNf+QqvMPdv4uXfKmkY/xHrZifiwm3RbL2NqN+ttJu3sSfGbIZkPFnVeZ9M4vp+VsZKs\n",
       "TTRivDbVW62oNIv6zlaPzUzgcd2tzDcLMf6t09vID2x3Csd2xq7MJYyIH8xKbOwCD9Kv716rcmex\n",
       "7nZS/BoRRfPBICbAi7JuSkTkRbxZ1/qa5f2ObcuNMi8mIhrE4mTf60YoiDUHWmJf0Z3za2vGxm1Z\n",
       "lt9m5eY51uV+zK/ZDokNKpW1yl3N47M08Tw5TPk4/pzo/zzn+8Asccw8dHk/N81x2bS5bHI7kpcN\n",
       "K/O5xfL4qr0+HsqCB2xV6c7WGe77sdefex75O6foKd70AQAAAAAAAAAAAAAAAAAAeAHgRx8AAAAA\n",
       "AAAAAAAAAAAAAIAXAH70AQAAAAAAAAAAAAAAAAAAeAHgRx8AAAAAAAAAAAAAAAAAAIAXAH70AQAA\n",
       "AAAAAAAAAAAAAAAAeAH4vu/VL6dpvh4b61S5siyux8sc9PvJ78KsypWlvx7ff3GnyjWuuR4/P1yi\n",
       "7x7f/5i95sfvh/hZtc/K3b+Nn7u9eZWVuznEn7cf8889z3E7d8vT9Xh2l1SciIgqW0Tn/XDOyn34\n",
       "8BiX6dW3WblNs4vObdhk5fr+GJ933GbzOGWvISIqwnI9Pk2DKmcdt3nTVKpcM7HONfVWldve3FyP\n",
       "K2eux9PYqteYnsvnaafKtReWmy76/UrHfTV4o8p5z3JTy21Z1KV6TVFxe/kq32dERNPC/ead3k9h\n",
       "6fjE6O2/33K7FnYffffp9B+y18znWM7Pr/M3t0/xuc+PG1dwm3t6qxWV5uWL6/F5/JMqNy1sg6rE\n",
       "pjmXt3HWxrYqKLbL+7hvyjLfp/0pHhuT7bJyS2pKDduQQLr9HHvWv2UuVDnr+AE732Rlhiku2xLy\n",
       "ZbUm1jcnxvgo7ELK1HKdphWb0Wy4Htbq42s2XKdJd0VkCnGPwP1u9GYla/k/EkWht6v0qcui1/3S\n",
       "sm4Phf7/C2v5HpWwM73RK/g4Cl9h1+4tvlv5C8g8j9fjsNJPg2edtyHWicXkH3BM/M3cPWflfHJ9\n",
       "VeX7YBBlJSI6KnZ7GGI5Y/J61Qn/5xOfXFf7VJyIiG72cfzgbL6sbRf79LDkbdCmjm3L4vJl3RSJ\n",
       "TbP19bg75+MMIqKx47YY+lGVI8O6ODt9sDhRvsNe91mHA/sfqWPdRY9L+4GfO096XDrO3G9nc1Tl\n",
       "NpvD9bhoVuxlz8+qFrZvTneh5EV4OSx6u44dt2tYMVzTyN/Ny4oNEmM0tUCHm7xf2iY69vVX/zIr\n",
       "5+xX1+PT+TErQ0T00P/D9fjDpz+qct3AdRqmOM67V8Z4U8afV690HYueNeZt16WLbYQJ+XmBS+x+\n",
       "q4wVn5RPXqfFGUREC/H9pknXF2lLyzrfRtMYj89CsW8HF8e/jfAxdiV+uKnu+ZptPn4gIhrad9fj\n",
       "x4uuL6VlvSx9rcptxVxgCcJuLbo96ib2RV2n20H5Xen0mNwZEZOvxPtOxJgb0U9Nk9cvIopsrCn1\n",
       "dpiFHZxIj/enie/Xj/n4jYjIWr6HTWz7dpcvb7n8dXTeKPPpi499uvenrJzfxG1eFkpMnoyNWtT/\n",
       "0ORtgU3i/UXRl8slLtvxnI9Huj5pc5vXlzrpa1Mq4zqZV/iZx7gvVuZ9xPp36XVd7ITvsJXutDYb\n",
       "fpZdCYjfv//+evzO8pzr3Oo6tt0JWzPo8247iVhbH4bkxdzMKTpFRHQ+c7uc+0/X427Wyzqe3lyP\n",
       "v/zNgyr37bfsD0v/K1Xu40fWl7rWx7WtRLyfzCGrbb7NLpdYrn3I27hx4jZaFt1mfHr6++ux97qt\n",
       "2lYc597cx/Pzu1utLb6Pziqfnxd8dYjXDi7PSh9ckroOeR9vKNb5+cLtvMwr61ViXm/dSswlYvlJ\n",
       "mfdVu7jfd7u8HlTJetA45/2mHCdERDcl12Pj8+uAREST+e56vBR6/44j33+YdX15fOD1HGv0AWsW\n",
       "EbcIvdoX+ngohd1efrEoIu4tAvFpWpnzCjto9CpRWfL9rIjnzsNa/CDi7kW3LV/csN0KQS/EKNZb\n",
       "x1FfS7BiLlA3Sfub/FzKF/H9gs37hCGJmbsuX470p4RJiYukzoZkOGlLO2kUoNkun8yLC+WGIcT6\n",
       "cUltyM/lSZxPHEPo46YQ62mH7cra9Yb13q/owfnx/fW4XlmouRXrEc0mPw7xpg8AAAAAAAAAAAAA\n",
       "AAAAAMALAD/6AAAAAAAAAAAAAAAAAAAAvAB8obw+/RP8GpdfSUkQNvzb0TLrr6D1Lb/WvJb2Joh3\n",
       "7gLpr/0V4lXy7S5+NerylH8N8JSkVhqVN4KrTVxf4/LpCz59H7+q2vVPWbndIXm1XLw+f+nyr6CN\n",
       "p/g3uWDzr4k127iNukv+dXS3xHUoXP71NGPi50yW5Y6jnnLi8siNaWc9FdpOpCyYvf7aetNwu5Qr\n",
       "r8gdbjkNWSOaeVbalYiIhM6++6C/2hss61E/6ylnjs/8au9c6K917i33QdfyK4XDRX+1703JKQR3\n",
       "W/314v2B2zIsep0mofQrbzVH6Sicj18VrMt82sU5SZlktdSFJh4Pc7jJyolMFxSMboNswc8Jgy7X\n",
       "i1dVTZKeYaOkprBJKrV5ytuucYz7pizzOlskrzIbJU1XmsItkEjPoKRqISJyXqTlVFJqEcWvqmp1\n",
       "Ioqfo2UUS1PeLUJwLeVn5AaM7hNGaXe8PgYmkcZlXtEXJ14FN8IW2zV/KNpyVNuLyIlXgtM0P7Eg\n",
       "69tl0G2LdSLdg7D12+aQEycioudZpHpUUosRETmhR27lPyAyXcGwkhJW5sdLs8pVSkqLhRL9sHl9\n",
       "sWWSukxJa+SGJCWJMgZMoh9BUdPnB7aXb+7fRN+VSvqdIkmXOCp+88PHj9F51+d9x7aK7e9OSWHj\n",
       "mrg888D91j3m08MSEQUxRmuvp36x4rtyJS1EI/q6UcpKRGTEOHJCD8JKaqsgcgKUXk8l8Vqksz09\n",
       "5+MyIqIHoffuF4kEmGeR1sFVLHez08fXVqYD87qP74UvaruVNHDCX7crMcP5xGP0cIjbqFBe+/+r\n",
       "L/7r6HyZ8/37xz//39fjjx/fZWWIiE4nTknQnVZS3gp/WCb2slVU1iQ+pb3k7bFb4rGvpQNcknRu\n",
       "WvbpJfGHz0oB6yVJxyjsp5b2lYhomPnB5/PKeBWpuMpKsdtjXFYtrdyuiWMv2WZV0OPuynEqie1K\n",
       "+uXKcVqeedJ11gq/7lbiFtmWF5mubFpJ+yr99biWIobvYVZcdynkVtwrhZnlZEYttc+IKAS+5qu7\n",
       "N6rc5cTj5rTo9yscfzevpAXuRrYZXYjj9igdruBNMi8zNn///ilJJTPkx6tN0idWRT59apWYplrG\n",
       "Zu4j5ZinuGxdl9fF8znWj75X/GGSGtsr/lCm5yUiOp3zbdSdYt8vMynbSffJRqSENSv+S6bD3Rzy\n",
       "861fPHhlvJ6fOcacRFrKeWVusilF2jYldSdRGkN/UuWWkcfHNKz418B+alp4fSQ8/1q95uaW6/HX\n",
       "v/3Xqtzb+n+4Hn8c/hdV7nn499fjV7dfqHJ25jr96ot/FX3Xzfn59Kfy/4s/mPJrQHTift8dPqhl\n",
       "ODScmi0sen+OxGnHTsckRj3kF9dO8w/RuXG3Wbnt4Zvo/FnRxeMS1+PHx3/Kyz3FNvLpSaTaH/TU\n",
       "gJXww2WlpzENYv4qx4MkDQFtl/dFU5J6slbWJsY+ti1e2JrbWtftzv75enzq9DqNIr37ytIunc5i\n",
       "C4iV9N9epEV9JVI9mlLXMbm2kM7ZJFakEzs9KfpPcQo2WtFtOW+W6bmLFYcfxBCoVrauWAyX4ZKm\n",
       "CRU8n8Qa4UrqTit8UVEl6wJKLGWTmOE0/WNWbpri+b6m25SkT52U1MAXkR7Outjnbbf5OhZJzCZT\n",
       "40v6xMcvSkpCm6R3W+a8T54prruc729KPT3pnUgZ/molvbkXazvtUU99PHQ8f63rldSsex7L6TLI\n",
       "z+BNHwAAAAAAAAAAAAAAAAAAgBcAfvQBAAAAAAAAAAAAAAAAAAB4AeBHHwAAAAAAAAAAAAAAAAAA\n",
       "gBcAfvQBAAAAAAAAAAAAAAAAAAB4AXjv9c14F7Eh17Lom01R4M2I5MaVvxATOyXLjUhTrNgQsS71\n",
       "Tcac2Ah7CfEmUmPI12s28efpJovX+7l4I7DF5jcna7tjdG6W/AZTTRFvnGgdbwKlbWp5Osf36qv8\n",
       "BtruPq7T6axsoJdsbnaze5WV++qbr6NzI3fNLH7MXkNE1IuNVM/H/IaDRPGGraRsEEoUbyDWdfr9\n",
       "psCbZpUb1hdX6LpjF95x7aHTN3keFjEGWn0DWO/FBpXKhuVE8Sa0QWxKt2i7iBPRpwexwZfJb2xK\n",
       "RFSLfpoXfTPovuXN04ZO35S9bbnuhYs3bA2U34zY2HQj8vzG5NYl4zDkN0ULYrO5sOg7CVrPY6Vc\n",
       "2ejMDMIGhVj3FuX+zsd9My/5HdKGNmnLkN90cLOP62pIsVWJzZ2Fzhpls3uiWBenFb2SjINiW2zc\n",
       "Rr7Ib86X2tFZbIw3TvrmwcbIjY5XNnYVfspY3WeNYrNP7/T7yc20W2FnFqOXdTSiLVc2mpYbZge3\n",
       "smGzaNugm0GahV72A4/JTtupj4ic2NSy8CubXwp/bVf+A1JIX+v0jcit6E+b1L3t8j50HmPdscpm\n",
       "xHURf+6UzT/DlIxXZTPHMfn8+fEhKydjpNt9vOns6ZjfbP3pMfZXDw/5e//w/s/R+e5GsV0+9tWj\n",
       "sgm1M/Fz5YaVZiXmuhGbTS52ZWPXUfoVfcNWuaG0CbpeTeJ2Ul/WNmwtyr9Mt+VGrE+zvklmJ+Nc\n",
       "q9+vF2ZnK2JUt7JxdSE2TrdbvV2nIGxQp/u5Toz/4yUfaxIRjTM3bJlsArzd5cfvd9/HG6D/+d13\n",
       "Wbk/fP9P12Nf6Dp1d8Pt36Q7rwtkCBLmuP2bTX4T1HRMPzwocfc+Hk9Vld/AfLfEvuKobATcJTbM\n",
       "KPOHdEP1puG+f/36dfYaIqJh5Hjp+ZS3GUREz48879js8jbDJz5qUvzwkIxjI/tjZRwen9nW2EIf\n",
       "41HsvuIP5aO0WIyI6OnEdT8OR1VO0niOyb0SlxERbSuWWykqVaK+LqzscC38q/Qj3q/5UP7urtbj\n",
       "fSfshDY/JSIyIs5Ys6vDxL6s6+LxFHy+MS7V+/hZJh9vGhP7yapQYm0b6+g45Mf10Mfzm7PwS26b\n",
       "n3M8PcefPz7l5ZYlnr9t9/mN5ve72DaFkJ9z9UPsk4dLvg8up7jtxhPfL8z6PG0QPmEOuk+oGq7X\n",
       "9kbXv72Y77z/Xp8b98L/VM399fj+Lr+uQERU1CI2nvSy1mKD76rWN8JuL8IPGL1OsmVLsQF3Veh+\n",
       "6Zvfcd2/vfsfVTlX/8fr8Ye//ajKmekLLk/Q1wh+8+3b6/FhF4+HS5e34Q+puyrz/utwx77nZveN\n",
       "WgY7cX+Glfhmt2X71M+xv/r+Y36t6OH7OBZb5nf5su7+GJ0fj3ldDGnM5r/MyqV2wc7ifmfd2D+J\n",
       "TePtoMc7O2EPyjo/xg3F1yvmkqpk7joqc71kek77hvv07Rs9zjguHI8cv9PnybLNh1FfSwiLWHta\n",
       "me8XJbeLFfPkdC4mOYn44ZKusQhGsdbxrNh2IiIr9MWsrREY9lF24GumoJe12bINutnnY82fYH84\n",
       "rOjULOJ4Y/SyyiUpX8S2xZh8fGhd3J/O5m1X1w7Jeb5/CxOvazXVISu3ETFWXcdl8EoV2za2LUtQ\n",
       "1hISPVKW6qjrY/2Yh7zvLprY9+w3vA562JUN94YAACAASURBVOt+bivmO2HUY7P2wmv1C+m63Wy5\n",
       "YRaj68vHE9vSS5+3QXjTBwAAAAAAAAAAAAAAAAAA4AWAH30AAAAAAAAAAAAAAAAAAABeAPjRBwAA\n",
       "AAAAAAAAAAAAAAAA4AWAH30AAAAAAAAAAAAAAAAAAABeAPjRBwAAAAAAAAAAAAAAAAAA4AXgnTEr\n",
       "Xy98NI+qVPRVcKqcc/wbk/delSsalts0hSpXVXyPromf2xzq7DXBxfdzfsnKbfdzdG78g1LWuP02\n",
       "7pCV++L26+R+XA7rn7LXnIf30fmpy5fhsbuJzts237aXpyE6D2OTlXv1Oj7f1Ny2+802ew0R0XCz\n",
       "ux5Po64vYcP9G+ZBlSPb873HXhV7eubyVeXd9Xhb5+tHROQncc1el3s+ijJMep2qsroe10Wpyp2H\n",
       "0/XYedbRwlU5cSIiOl0u/JxKb6+iEPUIehkoTNfDRRz/8rmP1+O6jute+LweWBv/jjxN+d+Vxzke\n",
       "X2UZsnLG8efznB+rRESGuD/rWrcZZcljw1D8zFIxSUUR25Jpypej75ZETimEjctnbL6N7BiXbw6i\n",
       "HCv9RpbLYeysis3iFkZp2iJpyrR/f2ZZ4huEwHbRrPgY6/k7V+py0l84q/uOZeI2q2p9TDXNhq9Z\n",
       "uCHOiz7GJ+K2rJ1uM6bAcvOy0k/Cv5LTddsKPe2H8/X4fD6q1zQbtoOe8mOLiMiJceOM7rulbXGk\n",
       "95MpWT/S2w3nvA0fk/FklfLOic4vJq+Lc4jvt6zUX1JV+T6tKtYjqddERH2fr9Oli8v6fMn31WRi\n",
       "ez6FfNu+//QxOrcmX6fKxW2ylXpudR1zNd/Ped1+jh3r9tLpenA6d9fjsOLbast+ygi9mpW+JSKq\n",
       "ah7/a/7rLMpqnH4/aZ8s6WNgv+V6FOKafmnVaw4l169aiQsGx2X1SkxKRGRFH67F0E3Fz2rquE7d\n",
       "JR9HSttCRPTcfc7KmYLb3Dd6uzoRn/tSb9eZpK+I44pFcUxj4lyPly4rt0lsy+2b+6ycT3Q0KCZj\n",
       "WWJ/WpX5sRKSG3hhDO8Ot/mbExGJcR2C7ruPZ54zOJPXq9v9Jjo/nS5Zue5yis6DMEn9tOKTRWxm\n",
       "G30cDoH7xq3EZtZxG00rsfbpievRB5YLpLfXRrTFrtmpco3wwyboc47C87PW5tDLKMoUeDyEQbcF\n",
       "gdgPfXz/QZXre657e9HrbqyMoXW5fuD6zl3c/sbl6/jRx7pTKH4p9VeuUOLIEPvDWZkfBpvOz1lu\n",
       "OeXb9niK63Rp8/3rkomAK/K2qyximzFPebk+qYMNeVslxxMR0VxwHUfSxwMJe7ypdHvc7LgPm1of\n",
       "r/XM7fK7v/pClfv6za+vxx8e+H6z03XbCHu+3efXaIiIauEDq3KvytmSfdm8Eub5kcf/7R2P/91O\n",
       "97Vfv/031+Mw6/H+3737n6/H3/2oyy0z68vT539Q5b68fXM9nhJffR6+y17z/PjH6LxXbNKx/f56\n",
       "vCv/rVqGr7/m9aqq3Khyl45jhh8+xHUqm3x80iRrE/P0mJV7+vxDLDcoum1if3oo8z7euvg5oXy+\n",
       "Hh9pZT63yHUoXV/kXMAp8WZpYrsVlrx9m5e47c6K3f7yq1jufvNfXI+Ny8dvREQXsa6lzWF++o51\n",
       "9tzn40YiovbI7eKc7uO9WM81jss+Gd2+DcS25RL09a/njusxmZVYoObx32x03a5KMecVsYm6WEJE\n",
       "XqxnVCty3YW/mya9TqXl5/p0MUYw9MKuVnqsLUnjpW7It0WRxLIz5ctbmlgXNz4fZ+03bM994oeM\n",
       "zd+7H+OyWp/3MW6O7d6srNVNQ6zzpc+P/00T+56b3Sv+bqO3cxDr1aeVdZpF+NqyWbmf5+9OK+P1\n",
       "04ntsZ3y9hdv+gAAAAAAAAAAAAAAAAAAALwA8KMPAAAAAAAAAAAAAAAAAADAC8DXtf4q7jKL1BuL\n",
       "/kqRzAaylnJCvr5vS/3Vt6oWr2itPFdmmXFl/FpYfcjf3yZpJqzNpx6p6zRdUb4IvolTsznKv4K3\n",
       "pKkaRPqz/T7/KuIdxX0zLvlX0Loxfo1us8u/JjYnKQXStFU/Mw1xecaWX0evvP474f1BpJK5nFW5\n",
       "78+cqqZe0Zf9nsvripVUMi2/thseuexv79+q19Si7rbSX5vc7DjdSH/WdXZoWf/sSnqcRfzOutlx\n",
       "e40rWe5IvDY5jHr7B6F7WookojilYVGupLMSrx7apP29zeuiS9JALEqKDJmagogoLHmddZb7aQ75\n",
       "9CRERIH4O1uspPUSaelM8npr4fJttt/Fr70uSgqm56e4TudLPoVCWvdCeW03JPkKllnYTyXNGhGR\n",
       "83x/JdvGT98JXVyU18dDSFPW5etkk+7zog9KPYtDlO6hWBnjMk3aahoyy/fYN7oeyHQv3cQ62s35\n",
       "1BtERItoS629iOJ/Uqz1kxGpZNZS+ZB4vd2J13yrSm+vWqSV2qyMBxLj1StpgoiIpBqk6dMkcWq7\n",
       "uHyTkhohTTkTlPRxaQrB9JyfO66ea9fvdvnX0ZeR2//HH3+MvivrfJrLzSa+V9Xk29Ynr2B/fPyU\n",
       "lSuSPqyVV/iLfVyeUAjdVtLZEBG1wiaVbiWdikjZRUr7ExEdH9n/m0JPnWFEqsYpcJq0WUl7QURU\n",
       "i3Ss40oaWWl+XaHHGWYRKQlX6rTZyj5kY9CNupGtRMrbIqzYbJHOzq6kSPbC0G5W0tc2IgWeSdry\n",
       "hx/+kL3m8fIcf1Dm++DNb1nHXFhLoXsn5HQnMNUcvxkfx43TkLddxv9lKSzSVKy66Yr7JkrnITgk\n",
       "sYBT0ruNSQw9DNyWs5r3lahpuJ3W0pDJOOtwq6SUvouv/1Tk07382MWpI0mkBppnvawy9W6wK+mi\n",
       "tqyLbbuS7lTEVeOi+8NzK9IpinRWNg1CBE3DOvtKpD5NGaT/GvV40zm2pd7q438Q9eguXD8tRTAR\n",
       "0bzIMuRTH/1UBrZHy7ISOwkbqfnMf5a8HlVJjFUq6VSm5GPNdxfp9SE/bs5JiuReiRlCkv5Tpnem\n",
       "XotjYv/n67yOJdmXaVTSd57PcRstSnq3uY99T9Pk71fWSWrsA9vWedLTqkvbVZZ6DFfXtZDT/eGX\n",
       "Ip1d266MQ5EStmhEuqKV+e+HB9bnftDvXTouq1lJd+oD2z7r9PvVQo9ev+W63x10W/C2+u+vx4P9\n",
       "31S5f/i9SN/j9VSv88B580v7jSr3+MAp3H732zhVWfsu72//6u1/FZ3//un3WbnQsR59etRTzD18\n",
       "ZD98e/NKlfvmd9z+pUu2MDD5tEbv7d9G502Z7wPXxW1UbPP9+3T5c3S+b/J2e0y6xvtvr8eVycfd\n",
       "RPEahEyjlSJTU3rKyzVJHGqGvO84HeNYbKry43+/i8dabX91PX7/8f9Uy/qHP/M8pgv57SWIiJaF\n",
       "+34mPV2cTIu8tgYsU7/JtYRFSRlGRBTEmqNdWa+2os0PB30OU0R+UxWjfuS1gFKsrVUr9fMyRfWo\n",
       "xzqjiIPGlcW/QqS813wrEdHpmfXlczLXlLHn2uehyNuuJvFL97f5+jsT17e0eb0yMpV1kgbR+PwY\n",
       "l6kAiYjsoqR2T2JrbS5VJOncmk1eX+omHndOpIFuB33cGDkvNboeOJEOv9d+ZCCi84l1cS3Wq0u2\n",
       "x4XyGwve9AEAAAAAAAAAAAAAAAAAAHgB4EcfAAAAAAAAAAAAAAAAAACAFwB+9AEAAAAAAAAAAAAA\n",
       "AAAAAHgB4EcfAAAAAAAAAAAAAAAAAACAFwB+9AEAAAAAAAAAAAAAAAAAAHgB+Gl+UL/cbJvrcSCv\n",
       "ypnLeD2utk6VCzRfj4tK/71pJ+4x70dVbpr42E4h+s6ZfDncPv785m6flVu6Y3Rej3VWrg7b+P5z\n",
       "yMpNyf2aA19X7W+y17zaxG3Ut8esXOmG6Pz+/ldZubtdEZ1XxV1WbrPdRedPjz9cj0/HD9lriIj2\n",
       "29vr8Rd3v1PlyHDdL12+TkRES8/1tys/T7qF+3Rq+fPL8aJeM5b99Xg4Dqrc5XxmOepUuVByARd9\n",
       "CNCmYj0KgXXbeaNeUxoun3OLKjdwlaj0eoMNHd+v7/Xx5Wx1PV7GWK9n26fiREQUTNyW3uYbI/jY\n",
       "nkxzvm2Hge83TXNW5qfvuHz14azLCTtWurgMzjWpOBERebeJzqt6k5WzPqmDfc7KDV0s17an/P0S\n",
       "pS8KHr/LpOtBGFiXrNP1wBO32VDkZVJrZijfn4Zi/V1m7qu8RfwJV/L9gtF9jNS/53OrynlXXo/b\n",
       "Xm+jJbD+bhzbO1vpZThdhF6FvK78dBNui9ubW1XMGe6b4+N7Va7w3JbG8fFxzusXEZHtWafKYsW2\n",
       "FGyPXNDl2p7H4Tzr7VpvWJG6MdZrU+dtxpJ8bJZ82/ZtrMvGTVm5cY5tkKV8ve42sf+72eX9Yd9y\n",
       "vz8/P0Xftef82G372AYNiu06PsU+arzkR4u7iQfo4fZNVm63iW2TtUJ3VnyojM2kzU0pCi5fm3ac\n",
       "YBH2fZh1h2gurEuuYDnvqpz4T2UVcUF/1n2CGfh+dbVT5cIi7GWljwESPnoa2YY3jW4LfODx9XzR\n",
       "/dLxme9nqVTljIhrx5DXfyKiSnT2mLh4M+WN/Y2P+2m2+bi0O7Hc0OpleNXwg8OsyzXCp/R9XHer\n",
       "dK9LfHdb5JX7Msbjq77kx2vfx7pcKrFAmOMClUW+LZc5vl8vxv/Hx8/Za4iINr3wHTtdr145tlXf\n",
       "fJWP97+6+TI6/7vLP2bleorrNBgu+9ToOjtMbAvDrI+vm4bnWOeTPn8IQi/drNd9J+IiXwj7YXUd\n",
       "K2bWRbPiv6zj2GIxui0YR7ZP7co4nITeXyb2193KvMeQ8MnTSnxe8liZnF5W6ZMvQ17/iYhqYbNN\n",
       "Mr5MlbfHtY9jMWPy42FKYotlyZd3SbpmGvI+ZphTH8UXLuf8vdsxucbmy9qUsQ8tgzKHmeO2HEJ+\n",
       "DjOWsX6Y5pCVm5J5QKh4XDZKuxIRbTzb6S9u87aAiOj4wH3VnvS58XzH7fflXd4HEBHZnuv1n/7w\n",
       "x+vx37/X7Rttee4vY/+U0bDdmZV4kIjIeW6XftTrZGeu0yLEXn+Tj6N+uojL8Kfnf6eKDRe2b2Wh\n",
       "16k78jrKptbt5eOzqNPw2+i7zT7fFpc2ttO3TT6GaGexjlXoa3/dM9uqT4+Pqtzm4f56/MX9fxN9\n",
       "96C4jqGN9WO7ya/BbQ9xPN63+XlfXcXXz7+wDT/R7OIYYXBc/9qv6KIY15ejHpudOy5fr8Qt0yUp\n",
       "65Sv09DF9na7y/uYqYhtyR8fWMc+jf+rWtbTxPXwVq/TprkIOX2sXMR6UNfp49AsXN9plDGqPueQ\n",
       "82ltLkdEdFuzbWm8vuqwLNyW46z7Vyv8QyPmI87qZRgG1pW21ecmbuI2qpyuewVxGczK/PxerDNc\n",
       "nuPx1S/5WCMkcYs/5OOiLln7n+f8+tdNFX9eF/mYYRq4zT9e4jIMSlMMl1inguKT5yRuWZT3WnY3\n",
       "8bp9VeTHQLqO6sV4DaTHxmXNdnou9fE1Lqyn56NuZ43QEVeurP0VYr5fbrMyeNMHAAAAAAAAAAAA\n",
       "AAAAAADgBYAffQAAAAAAAAAAAAAAAAAAAF4A+NEHAAAAAAAAAAAAAAAAAADgBYAffQAAAAAAAAAA\n",
       "AAAAAAAAAF4A+NEHAAAAAAAAAAAAAAAAAADgBeDnSf/dZ5mm6/E0LKqc83zcNLUqV5Ys6IpRL1TJ\n",
       "zy2LQpUzLEbD3MffzXP2GptU1yx5OTPFn8/TkJVbQnzDvs/XKyTtdxblrZZ8m5kmPt/t83KNaFci\n",
       "orY7ZeWK8hCdl9WUlevHh+j88/N31+Pnp0/Za4iIFtGWTZ1vVyKi7W7HZaj1/g2e22wx+fYnIjqf\n",
       "+bvufOHPna7bO8Nl2O02qtxC3LbGOlVuCFxfp4uRFQrohKAxKxfN3A7OGlVsWfjeQ6+P177nso5D\n",
       "UOV8wc/yLu6ncc7rjnXJ/ZTyhuTjaciPm3liwXnW6xQCf9d3eltKnTJFXFZL+TpdTBedj4otHBKb\n",
       "ERQbdLlcovNpyd/PJsZKtrnRu42c5zar7Yr9FM20qfJjYOjiss5jvp9M+v+BZRKHui3wM1fEGn28\n",
       "yjpRn+8nIqK+Z7u6LI+qXF2zzSgLtqvG6eNrs2G5cdI7wImxUtelKlc4/m7qtqrcMB25fEJVts0u\n",
       "I/3P14gxrqgXERE5z20elr+sThuv65QrRfu5ZDwU+XE5nmId67o+K9eP8efVmC/vYmL9sMZn5aom\n",
       "drB2zpevtLU4jm3BuetScSIiGsak0X3+3rv9bXTu9nn9G+bY/2l9OibjU5pjrR2IiEpfsdxK/xYl\n",
       "y3WtPg4LL8b1iq2SNn0YWi5PpY/DUthwWnRbby3X1zt9HNqCx0DbX1S5Wdi0/ZbH6939Xr1mHHkM\n",
       "PD3o9mgRulwWlSrnhX0qjD6wZVybhkGloouTjW3QrMTeo7Dn3XRWy/DugWNFG3TbboifMyRxRbPk\n",
       "y1DUcRtpTdGe4/78sWuzckuIn3t7e8jK1WVcnkXxA5ta70OXxkiCUsZchd5mk7CRnz69y8oUidu1\n",
       "Vf65t6/uovOPn7nfxl4fh1Mr4vMHPT7f726ux4b0+eH5zLarKRtVrq75HrsDj/Fh1HXx8ZHH3njW\n",
       "2//uzWu+3/Csyr1/+MD3m/RxWFdc974Vet7rZT1sud/NyriR84dl5e+b0ieMY963EhF5YahTeznb\n",
       "fB3nLlYyQ3l9MRT7pVmJCfskth6UecEliRGmmeXsnG+MdPrglDlXCCGRy9/PJHObUfFFS+KTK5+3\n",
       "Df0S60RUDN110+6G/c/rt69VubsbboDLKW8HiYjCzPP/55PuD8OF71E03Ea39/rYfRo5XrIrcxMS\n",
       "fbUSPpA1wmcFPRZ4fPp8Pf7y9RfX47vtf6lec2p/fz3+x7/Nx3lERFb4yarW7Vu14TlW3+rrX33L\n",
       "uv3hU7wWo60B1dt4vBaKLg6lWHModaWqNsJWBd1mDAPrxzAeo++KKm8z3pS/ic73/k1WrqTYB6fz\n",
       "4etzL7GdbkdFZ+dY34zhNmv2ur8uZ+G/vD4elmcu76jMYSzFdq+a87Hjpor7b3v4nJU7f4z1qLf/\n",
       "/nrcTfr8MMxcD1vp47CuuI22+ZCIiIiWJxHvKzEbEVFd8P3kvGBR1mGJiIxYLHKlPsZLEZsZo8ct\n",
       "wyBjFX0cSv9aNVzuotSdrRVrE8OKr108j2ObLoYJtkLuLpkrSrxj/X1O9P9Z0bHRxuUbKG/jXLL2\n",
       "55f8XGpe0nXofNt2I7fRsY/90EB5m7FN4u45nV//XDYfl6Ha5NdVyqROfZuv++kc27RKzJ3evr3P\n",
       "XkNEFETM8OnhSZXrhC7aFf/lhd5Pi65XhZjjL4odxJs+AAAAAAAAAAAAAAAAAAAALwBfFfrPt4P4\n",
       "V8Y06f90kP8Qrir9nw6Hg/jVbeVf3ZP4S443+q/Gk/h3Xkh/LVX+tTz3fXKev79J/u3jfb68S/Jv\n",
       "n0n5BVL+45OIaBn5F76xzV+zKeN/HxTKf17SfwErfzIgSv7M0E3KP3VDXJ7F8T+QXKP/7+Yi/ql0\n",
       "fND/SbRp+J+FN/e6/m0PrEvn9qjKnU78T49h4Dppb10REW1q8a+2Wv/Hy2Yj/gmv/IuNiOg88PgI\n",
       "Qf8HtBN/uy3EP3rlv5JTumfu32nRyzCLe5uV8RVm/qV+HPRfjaXODsm4WUzeHtTJvyCcz+tLMrx+\n",
       "8e+6nFz6K370HDEOp5VfzIN4cyh9w8Yp/zKYXKxHi/LPzn6Mx+HQ5f/9OiXjTquXSf6NsIjGmJS3\n",
       "iIiIpKkZVt6KkT1Vb/J2sHTxv/aM8u/vIfnHxiLatmz0f9kb4r7qzyuvpMi3N1b+xeNk+Vbeihsm\n",
       "1mfZlqs6Fv2zVv9ncxD/5jqe9H95GPHPGPlmTop8m9QKHzCv/L3Xy3/FrbwhRyTfpNPLEEQZ/Mrb\n",
       "t/LtYGfiftfegLTJP47mOW+T0n+DTcq/j036GpxSL29inXWU19Mg6tReYltwfsr7uUuI9aNU/vlf\n",
       "J/8MLYp8GRzFjRf/W00818R19eINOaPYN6L4zSGjmwxy4h+IlddjvUX8i3SZV3yW+NfX6cw+ZTOt\n",
       "vG1kxVsspMvNYqxMyhuKRLE+z7Me38h/JkpbcHu4y0j/xLt3P8gCqVSi3+tCt0Hyrcll5V+PVr55\n",
       "nHy3VWL0TX0TnZ+XvI7NM8diG6/3bSsCUev0f9LKtzOlDhAR9crbfNt9/C9WW+bLUSf/Zv6FbfiZ\n",
       "xNc6pQvmOdajUvm39G4Xt7F8SXxW3pImIirEPCO1DZKL0IPTKf9m//chKWuR/9djfRM/x4s3Ujzp\n",
       "b8GPwq5+ftbrtAh/7b3+b1VDrFd25c33eWGbK9+Qbxr9DYOT0MWVF3Nombk/p9V4n+c6l173w7ee\n",
       "x3UQtqoq9UK8/ZL/mXt+Xvn3p8iqMShvqRMRjUG8XbHyplUh/vHtEhu0KDHXxsbjcFLsZ/r27umS\n",
       "ty3pmz6LMo8fk+pOo4iRnPIv4KRO6fnPuMSmaVpQJjpqXF7/Ut89j/k7lja2kVXN47Xwegxdlvzd\n",
       "0+lBlXt+YDvx8eNHVe5y5nsUKzHhoRJtLt7i3q/4pUmESzc3+huy3ZEFffrKokBmrTCz3kaNeGPh\n",
       "1d031+Pa/0a95vvhf78e2+VLVe7ulViHWvHx+yBs31Yva3visfJ0Tt7+8vlx/up13JYHm49JZIaC\n",
       "fuUNA/kSVrNfebNf6EAw8T/LjTJH+vXrfx2dL0NeX+YuHsftkH87ckzWq07KAliayaAS49WtxLyF\n",
       "ZR+42epxpDXc5kOZr7sNsa8uKP+2gC/j59zf5ueRz+9iG/Y0/Qd+1vgv9bJuxUBcmfPWJdd9f6vH\n",
       "xtWG27I76XNj8bJ8pOdzq9/biMDbrcx5pdyivM1ORORlZo/VTCj8LJk9YlrJiGELlts2esw7LGzb\n",
       "y5U1mr3jsr4q9bVSGV+nMXPf599YfkreGNlt8m+GLWPc5p1S3DnxlIsyNwjitVWXtL9TJp/p2ute\n",
       "8R1Vmca4eX3pLvG8ve3yb8WYJK5qNjzGw8rccxRvKJ9W3qqVb6Td3OqxcVGzPh8v+pqSExOXTnku\n",
       "3vQBAAAAAAAAAAAAAAAAAAB4AeBHHwAAAAAAAAAAAAAAAAAAgBcAfvQBAAAAAAAAAAAAAAAAAAB4\n",
       "AeBHHwAAAAAAAAAAAAAAAAAAgBcAfvQBAAAAAAAAAAAAAAAAAAB4AXhvavXLmSYWdEG/SzVfD4tq\n",
       "UcXKmu8xTbrc0HV8rItR6Pl+s40F0/Of6S6X6Lw45+vVlPHvYeV2k5VLm2WZs2JkkvJMi7kehyX/\n",
       "21t6r2nKl/XUttG5N1X+fjRG58H2Wbmq9tH5F9Xt9XgYdtlriIj6luvx+LlV5d59fH89toVR5XY3\n",
       "zfX47u5OlZsXrte7dz9wWVulM4ho3vJzx3FU5Yjc9ch7r0r5hb+bZ11pjRH9Hvh4GvWyLjPLzSsD\n",
       "wkmF8cXK/bhOY6//7jtMPP7DMkXf2TKvi1OiO2WVv79NLw/5tnVCPYqVOhUlXz/Oep3GiXV+GOJ+\n",
       "t4oqFj6+n3MuKzeNQ3Q+9/kxULikjcomK0eJ3DSL/g26vkyi39q++4vknp7zcofdNjr3Pt+2wxDX\n",
       "fQlSX/QxPgubNs96nZzn78qyVOVMIcpndT2Qo2iauezdqLeXtdwffsXP+YXr9PT0UZW7nFn/ykrR\n",
       "ASK6ueU+CKLkY3fJiRMRUVVzG7Vt3s4TEYVZ2iBVjKzwKW7Fd3fj+Xrsq3icLGV+/BoTy3mvjK/k\n",
       "sVYZsFNiq/puyMot43N0vr+/zcqN0p4nDr9u8rrobDx2NZtRmLgOec9NtCS6PA35zupDEmdEl+n9\n",
       "tiz8nXErMZy0VZMqFo34cdDH1Dxze15ObC9N0MduYfjBVZVvVyIiI2zV6aiPlaLivtL6iYioqbl3\n",
       "RuGvh0FvCKnbQXMwRDSLflu1QUKtNns9drciFtiWsS7ebw/Za/Yh1r6yPeVv7rif7l7dq2U4Nmx3\n",
       "5knvz4/vj9fj5RzXvbnPx5tlFbelK/P95pKYQZvFVFVS9ybftqmP8i4//us6ni8sgW3QvDIOnef7\n",
       "uVKPtb0oXn85Z2Uuie9v+/xziyr28cWW22Lb6DHvJHSsff+oyj2cuXz327yNJSLa7bivHOmxQHvi\n",
       "Z52PPPa2+21OnIiI9jes80XQfe3T86fr8VKsxCOleNayMpcVvkiGTttGs/REt3vu93klPp+EjVyb\n",
       "c0wiHjFrsZgYHCEdKCZ/XeXjNrcmbwu7ZO6pzbn6Pr7eUF7/bIjHtRP/X3Vlvt+aZEyXynyiSJoy\n",
       "KIGRd/H96jo/XhsTN6YWjrlkUlSIuVO/Mkf9/MAxZnv5XpWTvra7KLadiHqxHuFXYnIf2OZuRDdp\n",
       "cwQiIteyHfQrAUQvYtuizK+9/PQs1ktf3Khyzfar6/HtgX3Wp89/Vq85t9yub758pcqNlm1Gd9Zj\n",
       "bVcIu7rT7eDtDfuAvo/jFuPzHmxJYrZNsc/KnS7c/n27skYgfFRV6v0p10SCScpq8/3rKba/5z4f\n",
       "m52Px+j81Od9zBDiefastFFk4IhoEvp3es7PEYiIajEO61q3s40IzrQ5qnVxv2zrvG7Xm2SeUR6z\n",
       "cpfPsZwl1r9l0m39Moq12GJlbVfEr9bpejAvXL7LkI9HiIi6Z26/0yP329p6cCN8ZVhZL3RirW5e\n",
       "sS1WzKX0uxEthssk18L8ykVy3r3Z6D5++sT3nlfW/rqJ9fLkddvS1DyW62Qt4bV/m71mY+L7tXO+\n",
       "38ZkzXFU+somNsg6xXeLVp+TttSWbDZJfH+4y9tPm8y7nz4/ZeVOp9j/zSGvL9tNPI43e27bp1bX\n",
       "84v4nSGNw6P7bXj82xXFKsT8pFp0fxhE3BwoL4c3fQAAAAAAAAAAAAAAAAAAAF4A+NEHAAAAAAAA\n",
       "AAAAAAAAAADgBYAffQAAAAAAAAAAAAAAAAAAAF4A+NEHAAAAAAAAAAAAAAAAAADgBYAffQAAAAAA\n",
       "AAAAAAAAAAAAAF4Afpkm9UtnzPV4M5EjCgAAIABJREFUt2lUuWDD9biuC1XOCjljF1Vuofl63LYX\n",
       "VW4e+R7OxM8tGpe9xs0mOg9KOYKL5WYfsnLexO3i63xZx2WOzpdh5GfNShmmuA5L8Pmbm/je50u+\n",
       "T42LPy8rRc7Ez3W+5O90daGqYbnbV6UqNw7H6/HT8VG/3wP36W9++2tV7le/+tX1eBLt+vSg37u7\n",
       "DPwct/Lbp5Xf6XJWyIWgywWhRpMYe/NKu9bl9np8Op1UueNzfz0u3KzKyeeOoz4O5+gWcZ2mPl/g\n",
       "eR6j82HIipE3SRvN+fFqiT8PYcVmLPyg4PL3IiJaJq7UNMWFW8KYiv8sGZ3VZV63LcU2oirzelCY\n",
       "2EhYl7eZ/Rg/d+hFea1eRzl+faGPw0KM60D5/nw+P0fnzuTt4Gazic5r8dxp1NqVaBF2sW70stal\n",
       "uL/Nl4GIaBh4DPShV+WKgtvcCD9H+rAhEvrnV9q/cVwPV+k6GwbhD/2KzTB8DyPGQyXsQso8cd3b\n",
       "Tvehl4v4Luh1Kou9kNPb9dy11+PtNvaNpc33b1gSnxzynbBMiR4p49wktsXafNumH39uH7Jyk6jT\n",
       "MHfRd74yqTgRERVJ2UbFEIY+1g8b8gFEXcfja14U352cjyO3pdauRERBXGgWfXzNE3+33+xVOe9Y\n",
       "R6xtVbmwSL95ez1uKj3e3G1Y7/c7fQzI2GJaiXPnwN9VK/FrUfCzBtGfx+MxJ/7TNZbvt7u5UeW6\n",
       "C7dR3ytOk4iKisdQUSjxIBFNot8HinXsnOjwz9SJH5qV2LgUdrrYb7IyRES9Y9/x+JR/JhHRYHlc\n",
       "V9vYRmhq0GziwbtT9MDZ2+h8HLXYuIrOrVH0oIifO4/5epmVGLAqlUkCETWbgzi+V+WM8DHGV1mZ\n",
       "h8f30fnz8+es3H4f2wVfcd2VaRQRES0iJnw66jbjdOJx2HX6eL0R/mIZdZ9VeS5fEIbrctH90s1h\n",
       "dz2eZt0OjjPrrPU7VW67fcMnhT5ex5HHtRGTJ6dNFInochb1CLqNnaLYPe+HiIgcyfbS7eDQcT3K\n",
       "JL4plZh3nuN+l/0hsSa2VZpPjmIxIgqKLwpLbJuCKEd6D/48KRPl770kcxgZc0lcOvdXh3z8hTN5\n",
       "u5pePgkfM/S6/ewG1ufzWfe1TcPlrXe6n2sf+X4/fn5W5Z7FvPmrL9lu3dzqui3j7u1G9x10z/r2\n",
       "8KTP41+/lnMdfayMwp5cTuyv313+nXrNRfhJU51VOTnfdytzz1nocjvo/fTqVrTlXVwnp9kaH+vs\n",
       "2OV1rKrYV5Sj3l4nMS/oxpV4RKyLGXqKy1rm2+L7P/8pOu+VNb6uj9c6Fq/ELUksUG4PWbm0yYeL\n",
       "WIMbdX89W/abS9D9lzNcj4LysVlBcZtXZd5nbarY95xaJRDaxnrpeo4xx/mdWtZLz42hrW0SEW2E\n",
       "jtiLHr+OYl1gXvFFvVjomoT9rVdsweGWy1DVK3FVxfpmwpMqN4zc5uOkz89JzFfLWhxXun2rSrZv\n",
       "XlnXISJ6u+Oytl63La2YF/zh+b0q589s03wRP9cX+XFYJWs5QemCkCyKzIq6pC59UuabQbT5nKzp\n",
       "FUU+lr19FcfxadzxM58/xb7i6SmvB3J9hIjIFnm9WpK509OZ73dZiSPl3HPN1juxRvj5Kb/+QER0\n",
       "Y/lZxq+sb4rfErSfC/CmDwAAAAAAAAAAAAAAAAAAwAsAP/oAAAAAAAAAAAAAAAAAAAC8APym0F/F\n",
       "m8Vrq8HpqXdm8ar1NOupfLqeX8myXn9u2fDraf1KSqdBpOwoyvh++03+NczNNnn1zeffgRrm+JXW\n",
       "Ycm/ylUmr4WVm/zraZON22W5iFfc+vy9pyH+fFBeq+uTlHXLlBe057hOWsqTto9ffYtS1aykrahr\n",
       "bsvmNt8ORETLyOU9r6Tvu7T8yuLj49or3q+vx7/5q7++Hn+oP6rXPH7mV3aHXn+9lZzQPyVtAFGc\n",
       "AsBaPe2KTNUk0ymtvbLnZAqclXRsXcuvP89Kyg+iOP1BWFbyd4hmCSFuo27Il8Mkr3Qak9ftNL2D\n",
       "M/k2c+IVWb+SJsyL+/lab3+ZtcImY39Z8ve/dPrrmZJDYnOqndIHS/yq9qikd2zP8eue7UmkClnT\n",
       "FzFe/UrasEak7Nxt8/f78PlTdB6lAxNMSWo8mSrI2xVdFKnaXJryT1CKdDtltZKaQviVttdtSxCv\n",
       "5i4ivVix4ud2Db9mPs96yoNS3GO/18u6Fym7Hga9rI9ntn2FaKN9uZZylW17+rq3ZBxECgtVimgW\n",
       "6f8GzRERUS9SQfgx1qn5lE9lMCbprIKSuiz9XPNz6Xvmaaq1nymrePz7Wkm7IoxGnaS59co4TH3r\n",
       "8SlvW3ziK3a7/Dv2fTI2hklLWZeklRM2c1LszE/XyfutpHcT42ZcSfM3iHQqgfSxQqL9SmEmgpJG\n",
       "koiidLbO6XLSZxVKqpGf4HbpV9Lo9CIusqJ8mk0kItpU3J/bg55OJfLJKzGvyNREk+JbiYg6kQqx\n",
       "H2O501M+Zc8P/i+09SLdg3nUbftHkUbn+UlPYSHTnb5+8yr67n6jxQVxf24VG7epY588jXl9GRJV\n",
       "fnrMp9ENlKapyo/rcIl1fjb8gGqrpzKRvsMoMRERkbPcZs7lx9fjU9x/n5VUTWNiR29fcXqcUi9C\n",
       "lJq1KPVx6LyYH66kFzNGxgL6c/d7TjMj03M/nfU0i1uRLcev3LzZsr4Yp/tXWrhh0hQlEqmlXsT+\n",
       "kxJrEhG9/8wpROY1my06Z7OSZtGJdHi0Eu+3LT83zaDrFJ/QJ+kNJ2We3CYDbBjzcsMUf26DMpdN\n",
       "zmX8Pyv3nkwyyF3e1lfJM22RT+cTKO7DTunSyxDr/KSkppmWuHxjECmrlXYgisOdutbj11KkY5tm\n",
       "3XfLvj8c8qmyiIhqkRJTpnq8tLpuy9TTYeU/x06kh9ZSBhIRkUgdW3g9zjCBx8C5/XA9/vj8N+o1\n",
       "IXzF15OeWqmpv74ej9NK6mOx/lJY3Q72PRurcUnivue8H10onqM2ytxApqJb5pW1P5GGa2WqGell\n",
       "e0lSKbX5/h0TW5CuGfyMTdLLlkoq5Saxfa7MxwKti9voScy51LkEETnHct7pdrYqxPrmnHec8xyX\n",
       "re0+ZeXS7SD6SfFFdXy9I06DNY96erd54E6daGWNVcT4w6Qrwij8IdmVLT5EG7lSxA8radus2Kpg\n",
       "GPT4XNqTcrMSQwu5sLLmQGJuJudVa+NGZkK0K2Zr6/jeS6XH0J2I8YeVPSCCGKRVkop1o6Sit0na\n",
       "0nOfXy9dEn+1KD5+SGIVbbnUi7h218R6vb/NpxA0STrXx0/5VMWPxzjGXTTfkXSOlsLy0sW26vEk\n",
       "2sLren68sJ32K/7LSPt50ueRW7FWtNnr6QVlavuiys9h8KYPAAAAAAAAAAAAAAAAAADACwA/+gAA\n",
       "AAAAAAAAAAAAAAAAALwA8KMPAAAAAAAAAAAAAAAAAADACwA/+gAAAAAAAAAAAAAAAAAAALwA8KMP\n",
       "AAAAAAAAAAAAAAAAAADAC8DvN079cqbyemxcqcq143Q9fjydVblxma/HlS9UuWZbq9/FBRT3q+J6\n",
       "3N1ss5csyb2dyf/udW4v0Xk7Dlk5kzRfVeXrtZQhvs5ym01myV7T9310fmnnvFyI7/3qNl9362K5\n",
       "Lrn/z4Tkfrtmcz2uS71vqsJfjwtdXWiz5zayRaXKzaJ/H58+q3LWch9+8frt9fjXX+tlLSwXsOt1\n",
       "nV0WIx5kVLlA/N2yBFVuIf7OO76mLPV26E/d9XgcR1VOtlfh9DJYw/1k9CpRCJM4Tr6c8no+LbEu\n",
       "a21hTPy5M3k550SdZv036slxWf0vCss0G9YJ4330XQj5xpinKTqfxrzclJTPT/ny2qRNzJwf/zap\n",
       "hrRVVrFbREQk7OySv/VPzxW3KMv8gN3tdvE1isKkNmMUD66sT8X5fuK6qZ9UOetZrrS6zwrE42gy\n",
       "+liZRBuFie9tgt6uNvBzHe10OaEfhV51Wryw54p/ISIap/Z6PIny+bw7+Om5W5bbH/L+gIjo3HLd\n",
       "l5XxZR1/Fya9n4pC9+tDl/c3NtGpRvGhxsbKPCrKPU3x50axBybEcqViq5ywE9bFZQ0u32YTxfcK\n",
       "iiJMib7NdX4cbpNAww+KrUrtgrAt0j+kWO/+Ijk5biq3otyG5Xyp38+IsWxEvNmd9fGwGNYPszII\n",
       "ZCxmjC7nhdy5Paly48j6u5d2UbHfREQhCDsz6HKF43aom5XgScQg/ayPw7JmO1iUse600zF7zSW5\n",
       "33nI33+eWbftiq/dbV5fj+vyXpW739xcj7+5fxN990XRZK85n56j87HvsnL1GI+HMOfL28+xrxin\n",
       "vL5sE3+42dwqcrENe2hZd8KwYuvPbOu7Wbel3cTzk1P7kJUZlthGWCXG7Me4nwfhhwuvj/Fx4DYz\n",
       "sx5Iloafa/3KGGhYT/f7fLsSEQVh98+i3w21OXEiIpqEz6p2eZ0iIrLTq+vxHPTx1V8er8dDp88f\n",
       "ylL0obD1lxV/7y3r3nDR5dzCdsLWelkbMTepS328BhFjBUpi3stzKv7T5zYeX50Sw50S39+OebnU\n",
       "pRvKlzfVo0Ko36jNOSjx9zbvu4tEldO442fmxGYMit/skzlbUeXte5G25Zl1ey2O92Iue3Ovj5ta\n",
       "jP/zMd+fRESXI9uTt1/9SpXb7dimn898zdh9WrmG7af0USm2YrtzO+njS87dy1K3Vc7xvM8WfM1W\n",
       "rG388iJu1/LwtSp2e8vfPT7odV+mp+vxfqfH5Hd33EaXxK99enhKxYmIaJzj8TUWeX9oRBtNsz4/\n",
       "KivWxdu9bi83QqeGJF6YlHFok2UZr8znfLJGKP1D9Hky53A27zd9HQ/s+obv91hcUnFRDq5jU+pt\n",
       "1hTcb8uY799uiNtkCPmy9nPcf0VxyD80nY+IdRSvxE5ERFuhf0WxEmsH1qt50f0rLdyp282KvhSs\n",
       "I23BNsiuxOdyOqh7L6KmYcEp6AazFnOxUrHFRERB2FUStnkc9LL2vWijlfj8k4jf+kXXqc6Ice31\n",
       "dY9FrH+1ST/1fb5/0zhUK0dI129C3s7axH/J/pDshc1Nx673+TZ7/zG2q8djfp5mE1tSKevVbRv7\n",
       "lFHpqyn5fJy4Pxqv63ktfYdZ+a3DCP+ji9HGsW1pjL72JIOXTaOsP+pXAwAAAAAAAAAAAAAAAAAA\n",
       "gP9cwI8+AAAAAAAAAAAAAAAAAAAALwD86AMAAAAAAAAAAAAAAAAAAPACwI8+AAAAAAAAAAAAAAAA\n",
       "AAAALwBvjb7ZlBcbR5Urm3OVYs+sfmVz6XbgTZCMsokiEZHxYuNJr8tdxFfpHlelugFpvPGZUzZE\n",
       "H5JNihdtCzETbxjmivz90o3qrdjQzJZKHySNqe2Zm27YFpTN1l260eGY76wl+XgUm89ZWtmA1PGF\n",
       "06RvuVbVvBHVOK787ig2qVtRF3p65k0kndhs/e3rL9Vr/vo3v7se/8M//b0qJ/cEn1Y2XAsL9+Gw\n",
       "slHvJOTKQmy65/MbjhERBdHxIe0cgdyAe20zbrmh7LKyQ6gxsv3jDqiK/Cac4xjr3rjkdTEkmzz+\n",
       "YgPyn+XEuAvK5q9ERIW4fmz1fiIxrstkQzpl72YySR3GMa/bp2O8+eI55PXAJBt/+yK/g1tI+mbT\n",
       "iM25VzYgHMTGsUtY2cBctJn3+ftVZWxbvFM2oU3qIPWvO+kbscq9dbe1vrlpIzbTXFZsy/nMG/y1\n",
       "axss17yBXik2UZ8Vm0hEdHni+7396ltVzonNHKeVMgyBN3MMK3642bFtCMIW9+c+J05ERLPY0O9m\n",
       "o7erF/Z3VPwGEUV/D3FON8ZSj0zi80qXt3HOxOPQmrxtMUlTTm1+Y9GQ2D51M+hkE9TlrGx+K/Qj\n",
       "JPHIosQnc+KsFzUeia9vFTv4qorHoVH6alzxD9o1RERO1HHNJ8Tf6XIhiE3e3crm4XIDVxH39ZO+\n",
       "aewgdHZe9M2gNxse46kuSrY3YmPRUm+jUdjVumY9Dyv2SPrNyukbsW4rrse0YtsvI7fL0OpxRik2\n",
       "Qd6W8fifLnm7sQyx7s1B8aMifthVb9QyfPOb3/AlWvBKRKVov00yHupF8Tdl3JZFlb//IdmEWhuF\n",
       "Qx/Xtb3Pt9G33/4mKcf/z96b9diSI3l+5u709SwRcdfMrKwu9aIGBjMQ9CYI0EfXNxhhBgMIo+5B\n",
       "10xNdVblcu+N5Sy+06mHrDxmZNKIeu3A//fkJ465OxejmZEnaIzbtLz1++YPf+Z6PV70Q9RlyL8t\n",
       "iQOWxXfrGLdbx6N/qPt+Hz8Meup9w5qLPtD8PRHRLA4Cd6vuE3InnpE4sLnreAx8817Xq5cnbr9+\n",
       "Yr+ZJU7CHUVMbhZ9jO+zr/lDHj80nYhonc+3azvptqpq5QHwrLPzdv618C9luOd6XEk/YHwWh7df\n",
       "rnr8MIk2f/+gH1zfNNyHeTD/Haa4LTgvft0HJTZeA59iqrheGeP3TW4V3+38+m5iblYqB7l3wZyl\n",
       "6+L2uAoOAXfKxGC1vo2winXJwtcUcb/Zdn6bzJY/L7Pev9LlN5XuD2W4Mw26Xh13XI+6TPg2EU9k\n",
       "JOeU6i2eH5hWPX5t96ynxzt97enlmW1X3ehttFzFGoZhe/nx/d/qhW24HfLqXhVzG9fDqHEe0bax\n",
       "DdoSdScxF2hbvT8lp5NvT8YsPl5394fbdWV0W1CKOcP9MbH2J8baUvl1MmV83hHGdrkSR+bBWp1y\n",
       "fjyFYUo4b/6FfePXo91xn26X7+MPJ6Js5XYyhe67M2Hfsyxu36TuERFV9C4qV3R+f7oxXqcp8GXz\n",
       "wuUr3J1a1qblvtnoWZVbZy7vavS61/XH2/Wu1f1wJta/SDx7HnV/OE8slyfi+Lzh91aFrrOei3J6\n",
       "3FLXHNvVLV+n1vf6C68/zIseFwziveOUWiPgMVXXui2QzRK6q2VWbP3m28uqiI9XU/oxbqnMY0Lf\n",
       "8/7hTVSuFWtFL6cv3nff//m76D1hiLvZ+HiogzFuynhZx2CuI/tXUm7+/dMLF2RfH0LxG3L+lc26\n",
       "zjY524lUrL0v+V11rtvtquX691t8HGKnDwAAAAAAAAAAAAAAAAAAwCsAP/oAAAAAAAAAAAAAAAAA\n",
       "AAC8AsxF36lGbcn7xKoinkKASG5aJypzfev8JH9jUtI+/fwMkU6l1d97b3krUxak+bBjfHtrWfm/\n",
       "cy1KCqY8yBdX2Pg2MRO0i1W2t2ej/95iFqmalG1YTee3UaXsWLwE2/mqLb4P9r70tyhvJr4derR+\n",
       "m/ST2NaZ2O5NI9/XKtvqiIjKnOX2rb6l7bLwtsQ+kVotF9vqXxZO9VZe9N80m4Lb/91v3qpy5zNv\n",
       "O/3hz0+qXN+LVE2k63ae83sLkZbP6jvTaRbbYCkxvrKS2/I8JbaPW952WpX68+QQCLKpULNTUhkE\n",
       "e7DtHNft6+gr7aRs17x7EDqbSF1UiHa5Lnrdh571KEyPUyhNUYYpnJSUTuGu8mWKb6vtg/dqW1B3\n",
       "O9+m7UX6k1JJI0lEdHFckXPCwA8Z60Fbxbeqlrk/Pssq/rw2sFWnE9f97l7fjjpcuD8qJR0AEVEl\n",
       "UnFsiVRBR5GWIJWmahCpwTbpb0i3WyeRzqN7eVTl3tyzPXlZ9a3bn3veVn//5qMqtzM8Bi7Pn2/X\n",
       "+VHfli9Tcj59SqSpEf4qL/Tt45Ww0wclLQoRkRPpBMO0DaXSHTLdJ5EeGixB2rbrJR4b1EEfNo2S\n",
       "OnMNXqRs299qlisCJ3xSUszZwAccdvH0ID9+529nv1PSfC5B2reS9lG504vf127mcuz3esoDGZo5\n",
       "zRASkRXpdmbSY7NMpAfKtsT2dpGyQMZc2Z0+dlcRCsxWT6dyJ9LZ7nfxNBpERItIUzVuum4fRLo4\n",
       "EinmDm28L4iIWrHdfth0J+9Eaqr7hw+63BPbnXXSfcAwcpqJvPbfmytpcDLr92dZxftgEf7rTafH\n",
       "b0cxDo0S4xIRDU9sI8M0su92D9F7OuOX7es3cR/TBYFLlinlcL7c05d4KpO/aX/r36a00WiDeFWk\n",
       "9vnYJdInNjwe/vj4gyr3WaT9+PA2nsbYkj/exyne7//6/Cfv82Xg/uhyfTzkYiDWnT4OZ5ESOk+k\n",
       "d5PjPxW/yjSkLufnGV3FSGa23FL/61hz3GKUFD1ERHnBqXPqMDgWVDnX465jOzGedVucX7gi35/0\n",
       "+M2WXNa80NPjHHdcD5ulUuiyj1qDFGc2j/u5JUhtOSqplac5SEM0KCnOAl9dOCVVU+eP91LoVfar\n",
       "fGo/c7/z23yb43XqWv/Z9THukz+dfRsxrPG6uyCtnGaCstm/fyd86CVhM2SKomzQ480s53pUBz19\n",
       "Yiue1+z02P00cfz5eBFxacLWZyOXYUukm5UutWrjaSmJiA6iMfsxkSJZtF9RcHy+JOaK+cw6tW/0\n",
       "VE0yJadL2C2ZXqxtdJuxitSP4ZS3reN2Nky51O3ibbbfi5SBq24zZL6oUVnTIiJahY1sgjRQm423\n",
       "WdMGRycscd3+VRpvpWnDdNCHu3isd7z3/y5Ts35V6nr+0+f/frueE6l8K7FWqWl2W/jvaZv4WClL\n",
       "P+65bvHKT2f/eW7i8pWJtbpKpMN1To9fLXEfXlZ9HilTd5tcn8sakRKr2nF7Xa2eOo7EnLJT1imI\n",
       "iCbLbTE6fW4s9SpPpIStcx6vuYiD5kS2+stFHIlgdF9Ljtt1nPXYiUS69LOSxpeIqCvYd5ggfej+\n",
       "Id5m4bEF4X2/0I/+Ola7i6cNfDj67+mUNH+ffuRUik8nfx1lVNZLbJB+zc3xGM4FKZG1tdguSJv5\n",
       "fI3bqiz4HaDdHcR3uk9uxDymyvX+lamU652ui0sh4tJcf28l1hL7i5Y2EwAAAAAAAAAAAAAAAAAA\n",
       "APybBz/6AAAAAAAAAAAAAAAAAAAAvALwow8AAAAAAAAAAAAAAAAAAMArAD/6AAAAAAAAAAAAAAAA\n",
       "AAAAvALwow8AAAAAAAAAAAAAAAAAAMArwHw5PapffugOt+sm138fGld7u7bFor+s5uu83FS5rVhv\n",
       "1xXVqhw1GT8va72visJEb1mdX751XeNyq1++xbqoXFX47WKqeHlzl/lylu8rTPzZlPnPzhQxQ/6z\n",
       "i3WMylVN8IBN6dPZf94kPm/aPURkC5ZzplXlStPcrsdlVuW2hfugMqUqV1X8vGwrbtfnS6/e87Je\n",
       "b9c2y1S54+54uz4c36py1wvr0fl0UeXaXXe7Lmuu0+VFbwfi4eW1XUiRc3tZe1XlrGW5PI+PEyKi\n",
       "suTvCuP3+66u4vfkfj9ZxRwU5eR9Po1xnc1ybtd1naIyIZ2Jl42IyG6yQH6/ayauKE3y8y+4QI/W\n",
       "hM38a9g23wb1so2U9iIiWkT/rquuV8PA9uCH8U9Rmd3BH8dNG6/TtvltMo+stPsH3RZQy31lFVtM\n",
       "RDT34nl3R1WubcT4cHr7VwW/d8vZZjjFxhIRDRPrzvVFH19Vxj4gy3XbYojHyjzqfvPtW7YZ7duv\n",
       "b9fPj7oOjJZtX5HQQ5uxrizroMpJH2DaTpUrhT8M2zJX/sckC8aNc/HYwFrrfc7yeGeVxtfFqorb\n",
       "AxeMr9nEx7X0Q+bst1Hl4v3b7nf+H4oiKleWfrxwVmxcXfl/H8f4uL6svs/bRBuVpe5Dj8f97Trs\n",
       "D8my8PNW0vWlLrm+ZR6vOxFR27BtMMLHl5nu52QZdpUu17bcB1ZzREQ0i9guVXfZfoXoz7LR27Xr\n",
       "uHxVInaStn7pdTu4DquQs6rcm/2b23Ub9Lur4+MrJ7+Nlmt8brAX9a1It+3jE9unbNBt1eWn0+26\n",
       "aH3bfjjGx+Sx9XUqX+L9e3p58j7L2EdyF8R2Wx+P4Z6+9/3k/mEfles6v12+fcPPnxPjYRDqtyT8\n",
       "YX5lnT1Np6jMmPv6sY5x25KXvl5aMR5++PxZLcPDPY+vOhGfZ3u2cacXPSb/4Sd+13Wn25ay4HdN\n",
       "oj9tpo+vWtiCstFthhz+66rbDCLxXtLnsqOYi5mZy3fu9fptotuzXJ//SvuWNbpOkWM9mCe9rDYT\n",
       "cpuve70ylzqPvtw0x3V2ozCGjvfVHPi/vFACsjycd/Nnbc2grv2/d4f42DWF7wNGJYYO5/qNMgaG\n",
       "IG7ZlC6YFl9OjsOi1vWgrlmfG6fHZk7E6GbRbUsl6t8vepx7ur7crmeh521i7l8YruNm9TIMV7Zp\n",
       "79/dq3J5wc/rE37TUtxX5spcjoiobbkeu+NBldtO3Ea1Mi8mIto2UQYldiUisqJdssCm7Y7xtv3K\n",
       "fPA+a+tauXhvocSkRESmZB1YN72sq+XxGq4lVMoanJ19u5pTvBx10DdyvcR/gN/mplAG2Obblk3O\n",
       "Dxc9lipE3LZZ3cc44Yu0WNtk/jgulMeFc/9KGf9t54/3TcxHilIfh62Yw1mn+7l+5nFtU2sJE/uH\n",
       "LrVOk3FfOeET6ipui4mIKtGUdaHXaVv4eUNiOc1Z0UYJ3z0Jv2mIx9O06b77OrNN3BI6ZSyXVVla\n",
       "JiKiSuj8/qDbwf1BrDkE/ZkrixpZULxpiJf3eO/HxodjvBwuiK0fH+Pzh9Fbu/J9bZbFx806+fFH\n",
       "6RQfX/nz7qqJ22O57kFE1IzKeA3WBGqhs7vEWqwV87TR6srYVqzPuWbfiMht3E7LnPAdcq1+OUdl\n",
       "sNMHAAAAAAAAAAAAAAAAAADgFYAffQAAAAAAAAAAAAAAAAAAAF4B+NEHAAAAAAAAAAAAAAAAAADg\n",
       "FYAffQAAAAAAAAAAAAAAAAAAAF4B+NEHAAAAAAAAAAAAAAAAAADgFWDWYlG/dJW7XU/OqnKX8Xq7\n",
       "XhO/I5m24utyU+Uy8YjCtbocP47yrPS/c1n0Hhu81mXx8hal//fSxcvbVLX3eX94iMqts99+PV1u\n",
       "17kLpf9yT/BOu8b7oCz8utd5vO5vjzvvc+HidT9fe+/ztnE5NpPo35rbotztVbmqKG7Xy1UVo9xx\n",
       "vXJbqHJu5ga8LsPt+mxH9Z5FKMK2xNuLiGg88LMb06lyx/3727VdKlVuW0WfrmI8kFHvufTcSEWp\n",
       "P7tuuR6F/jhyYizXda3LycENfU2RAAAgAElEQVTifCXd1fFyhONuUexGV/sF3Ir485o9y81TwlaJ\n",
       "sj60ej9JXZ6tX7ZpnuP3hH9QbIZp/LZsq3gnbME43twalZs2/+9u4s9FoY+HtmWbWSllICJahS5W\n",
       "RROVKQNFMlo/lf79cybaedR9xyhszbrG24GIqO3av0pO6vNud9Cf17ItdMQ6uyy6jrWGv3ODXoZl\n",
       "YLvT7ePtSkR0aI636+us+8PccR8cD1yn6fxJvacX5avKUpVz2XS7tqNuL93GY8ORbjMkW1ClzcUd\n",
       "3RYIboqvNcbXxd1uF5VrGr/NKxMfA9M0eZ9HzQaPwi4E6tEoz35ofP/Xr1NU7nDw65A18XG9Bmo0\n",
       "zIqeBsOzzLmvikL3c13FOtJUesw19lyPRYkzfn4Xt0uZ6/pXlly+jLjuecJuZTW/t+t0Wy9jQhcG\n",
       "frIMOb+3a/TntTV3ghO6XCbGV7Pj5w0vum3ZFi6fU8YJEVGbi/LpoQB9+/Gb2/XU+0HWTHF7fFn8\n",
       "uG9XvonKfTzy3zvS2+v80+l2XW96YU0v+mb2x8kf/t//Gr3n2Prj5NDEfXKTiFc9uSC+3C7nqFxR\n",
       "BX19jo+BuvDfW4t5wqzE3UREJGzSGxO3b0REq2FbPT7Hy/o4PXufX/o+KheGErs9265p0n23E/ay\n",
       "bXSbQSPXSZtvERF9eXriW8a4vSQiur+/v11vOT/PZnpMtAkbZBMDZxMG/nR5VuUWyz7BKvEbEdGl\n",
       "F+2XC5uYmB+9uftwu14zvV2Xgsd1v+ixwHx9YbmL7uNpFO0X2HbNJGXB3HPZ4v1mV9/+toqPKQL9\n",
       "eHMXty+72n+vW7led0rbHvd+PPj24S4qd+798fT8Od62W7DWYRQ/0ASubNvijWk3f/7hxUEuEccL\n",
       "t/IyD6rcJOYPQxicCa6iHOOq+6x1Y90uDF+bUvdfZbEJOT1+qMQzrn1iHMp4PdNtVZbxuzJh8FK+\n",
       "dhXzwyERG2+ZmBfkui2wxO26rXrdZZlMHcSyddzGFYU/nkalvFvGZahSawkN6/I06nUaB657lvnv\n",
       "3JTnhy7ZKfFIaAs0ORus8yx9fB4/BzF4Kebr4fqcXw7pO/RxuIgYLtN8QhHM6ZXX5sGioGIyfqUf\n",
       "jWP9yHJ9npZLu50IR0oRk2+6ytIw8nrmVVyHLCLOmsQ6SJ7rcaRcwyic7uOlT55WXU5iEusoq1gX\n",
       "mIj7bXa6LZgc++QtsWZeFhxD7zvdx5uKy7dr9f40op+WxdexWbEFdTDHOuzfxuVaX8e0NZJp9OPL\n",
       "ZdDiTW7XcE4/KmvcRe77NW0UlsZX0iKL+zm7+e/Js7hyd5Vf90KsW9ZWt5+Z8F9zYjzMG/dNao17\n",
       "vxNzrkKfFzjxjMrEy4edPgAAAAAAAAAAAAAAAAAAAK8A/OgDAAAAAAAAAAAAAAAAAADwCjDtMZWu\n",
       "i7cKrfouWNrElqLa6FvVKsNbpWxi61suttUWWSL9FMmUGOF38QLLFCJERKVRtsv+6r54ee92fjq3\n",
       "N/cfonLz6G85LcT2XhfmjPnlHutv01uXeBny0m+jQ3mMyj20/vb20ippqhb/77bmthwS/eblG0ls\n",
       "R5epA6pEKplKpFNaJ32LsUxZMIqth0Wjp1Yi0e82sX35+++/v123pb6t7v3br27XHz58VOVmUY9M\n",
       "bOFNbR8fxBbqTtmGSERUdrxlt0iknMkysV02tb11EVuFg9QZWqagIihfrqQAsoU/PkslHaPMkmJS\n",
       "qVrEts56r2+7lPVdg5QTz6f4NsxhCLat2/gYaIPt7KWiL3lw/7WPp2f5Vd5H0UZ5IjVC27E9yLNU\n",
       "WgjWq/NTfCvuPPptnm3xlGkm9+tebCJVUyKdjdzem+epfeb8vOugp7C4inEUpvmS7EQKEC+9WGIP\n",
       "ey78YZNIT9pfRaqLX3kSZt9xW46nkyp3vfB3Xcnt1TW6PepFurii0Nt1sUKnEqkpcpGapkik65Lf\n",
       "FWF/Kk0W+rlN8d1hf7ZtvH/rYByG6eN+wQXj0K2KnHxvkGchTH94EwtSjcxLfHw9HP20Bu0+nuZg\n",
       "Ctokp3gKG1v5bZmJRi+Vre5ERNPIYypLjIFS6IEp9dhM6kGe6/a4FGklZdpLs+l2qxGpffapVHQi\n",
       "jrGk63YpUlZWRtftTqSElOlTZGq2kGVkG5s7vb1kCjyZnjMkF0M+lZri40eOQb7/7k/edxcl9cjb\n",
       "IHWnLeOpmr5q3t2uD7Vug344cX+uZz1NkBXpeS8vvh3cHeNtFqa5PSi+9u0bPxaelXRFYbqprYy3\n",
       "0SFIHRvakF9YghTJhUi5MSpxPBHRMPA8oa50fXlX8bxjaeLpbL7/4qelcpOSeiuIJWqh57v9V6E4\n",
       "s/J7U6kpxjOnZ3KpsSLKNybSLs0iLY9MrWgTqVllGtlf5fgWDDPr3/Oz7pN3B9ar/f17VU6mQsnF\n",
       "XHbXxlMnEhF99e0/3q6dlvubiD69/Ovtejw9qXKNGKNdQqeyle3laH1dsRT3CVkwHyyVGC5MYTz2\n",
       "8RjOBalpvn0bn09/+83X3udO6MFOSQ06BHHjo9K/3//4g/f5MsbL2h5821IoviNMsbwpw3/a/LaT\n",
       "6c1XLXgiokn4GJuwLfJ/fMNUd5J5EulAE2lWZZ8uIm1VmfhfYulfi0QaOJni7Hx5VOVketgqodul\n",
       "SEduCpabEu21CNt+VvSViGhZef52GXSb0YuYITXvlpnTw3RWmXYcQdBNmTJBd0L5SiU1MZE/L5sT\n",
       "afO8OVswz1sVRQ/rsOVx3S6CNQEtBVNomqY5vpZyWfz5vVk49mwzfTzUIlWzTaSBGxexDrXGy5AH\n",
       "MXhdxucwTevHN+sSj0eyoE1kXLTYROpCkSo/N7rflM83ylopEZEV8dKy6Wc2bDP3/SrnZUpKbyKi\n",
       "VcxR7aaXdRb2KE+UNRPNkhqHTqxdyTlp2OYSGY8USnotIqL7Pfvkw0FP9SrjB6fl+COi4SpS6Fq/\n",
       "fHaJ17Fr/fe++xD3tc9nP7b4/PRjVC7PfB2tlBjOiBTawS1UlvGyVkH6yszGbdea+foxTvHYeAyO\n",
       "chgUuUPnt5GcJ+S9rrOFSEE+J+bdg0i9bSe9fw97jve7Tl/XKjORgnyNr0Njpw8AAAAAAAAAAAAA\n",
       "AAAAAMArAD/6AAAAAAAAAAAAAAAAAAAAvALwow8AAAAAAAAAAAAAAAAAAMArAD/6AAAAAAAAAAAA\n",
       "AAAAAAAAvAJMq59bS1UuDuMm/XDZQhyKnZN+sOsmDtZdV/1g3TqThwUnDkHK+PAqa/0DnHLlUEVT\n",
       "+IcgyQOqJfZXhzzHD2K2a3BI46QceDkHfxcHmrosfoCTCw5vLvP4IVdlcGDYb9/8XVSuC+QyG++D\n",
       "wgWHshvu+5c53g5EROIcUCoy/YC0eVqFnH6YYC3ea0f9cDh5ALc87C88QFOSiQPRjXK4LxHRNPB3\n",
       "ff+syp1rPhzy4U4/pPXtOz780xHr2PyT3q5v3vDz2sSAbTqu+2r19rKi37XDFomISBwGudv747qc\n",
       "lcPWi6B8TVwu7/369uf4QWpSV+bEQb2FKOvZ6m15qNlWlY1/8OdOOUctPLivq5TDF4PxaRTTFR7S\n",
       "OCuH0uW5/15ZDqk7IbM4pM7kupwRY++rj/HDiEvjt1GpHN4+BQfhLcRtYRQbS0Qk7xpHvd/ujtxv\n",
       "a+KQZ8+vrHrdd8I/5OJ5LtPLIA+urSq9DFb4uUI5UJXIP2w1L3Q/d+35cNjKiIM19UdTmfNhicsa\n",
       "H1tERE6UtTS6727F4Ytlrh9QWYgTZcvgdNlxjB9ueh38Ng997y/UdZ38/AtbcOClneN+blv9Nm+V\n",
       "g0+dOFxyCXz1QPFnz7N/oO8wXaJy71v/ANk3Zdy+D786/DYq5sVERL7OpvRlEGNvnl9Uufu7d/y8\n",
       "xCGoVoy9adIPQc5arkgmDgJOPXvfsi7uaj0u3cQh4ybXD7+UhxEr55ATEVEhbN90ZV+0JA6GnwyX\n",
       "4es3X6tysgzv375T5ZwYG/suEWuvrKdfMl8XW8XGfXu89z5f1ni8c++4Hf793/5jVIaI6G+O7FP+\n",
       "x+//qMqdhB8aTn7ckufx8VAEfsllcZt07n1bMgxTVG5afX0bzvH4aQoOVP7w/iEqtwZ2ohG2flt0\n",
       "fdlm1qtwriI5igNmy/fxuo+Zb/d/vDxF5X4IDh+fVi5r2+iHDH/9LR/8+y///F9VOSvMfuV0I2SM\n",
       "PGxdH4iFsGmHlsfAMuuxsTyYvE3YjKwRMbniN4iImorL2tT6ONy1rKdtw+Pr7dvfqvd8+Pg7LsP0\n",
       "J1Xu6cptNKUOmr8KXTZ63NJIGxnEnqQcXj31Z++z2eKxXt34utzVd1G5nYgziIj+3f/6H6JyX7/z\n",
       "D52eJh7X/+k//t/Re6rKHyd5OFf5C3bz63o8vI3KNZ2vR8Mcty11YJusEusNQVzrxFhxi95v28zP\n",
       "8w5HD8hFAFAn5sbv3n57u74E/Su5XPi7TBxc/9AdY+I/P/sNt+WyxduLiKgX8VJT6vFmXbNeZUp/\n",
       "/vylaEsRF6QOZSex/mKdbgvmheuxJdpfzgWkPQrJcr2vtflEEcTacjxIrPtr55BchlSdGjGuw/Fl\n",
       "FBNug/eWSr8VxvfJdRWP9/PSr7sb4vMMOwV/L0Q7K2trRERZzuO8SMynHXE7LXNcLtt8n+xcvJEy\n",
       "6/+9oHj5fq2//F6rzGd+fi9/l236GCi8dom3PxFRsxPlTbSRFcGAy2Xsr95C48JtViQE5ZLjrtJt\n",
       "gWyXlG5LjIhDm0qPiXbVX2db2j0Xtm4TawnC7ixxtSYiolzE5G3nzym1cb7f+/5rWuMv6CffB/RD\n",
       "fH7YVb6OOmUO5xzHuHkQj9RKv63OX/tbp3i/rdavwzTH1wzHYG1oXePPm8M1Alklp+v55cJzp8sa\n",
       "j7uJiBZvfq77OSt85ZbpOiuX+PsxXnfs9AEAAAAAAAAAAAAAAAAAAHgF4EcfAAAAAAAAAAAAAAAA\n",
       "AACAVwB+9AEAAAAAAAAAAAAAAAAAAHgF4EcfAAAAAAAAAAAAAAAAAACAVwB+9AEAAAAAAAAAAAAA\n",
       "AAAAAHgFmNZ06pfZVt6uS3NQ5cqqvV3b1ahys11u122xU+XuDne363F+UuUWt92u89z//aos21D8\n",
       "57+bxv9DVkbl7Lp6n3On1Gvz71+GLSpmx8X7vE3udj0VNn5P4depyONlrY1fVztnUbl+mvwyzHNU\n",
       "7tL33ufZsdwyTqE4f0er+p2k2u9v11leqHJFyfVtunh/EhGR4WdsxO1qKv3Zs12FnFPl3r5lPd0W\n",
       "/TdSU3C/T/NJl6tZ7u7heLv+7f6Des82cPnWNdH+q+i3TB+HdcPfzeuiyp2vw+16nK/ed/vyGIr/\n",
       "5b1+GxmK62LX+XbnjdJVsskfn+LjhIhonlhH3XxR5cqWx/9D7du0O1NH79l3vq2qFJ3NAzXqr+eo\n",
       "3GV88T5bGx83de23UVHxeHCr3hZkhQ3SVZt2O26L3Gj64j/ALnH9C/9uhE2b5yEUv7GIfisKfbwu\n",
       "4vndTvdFmbAFa6ZX3op6dW0l3qPbme3Kddq2uO0kIuo6tm+m1v3rZeOxl6XKKt517lmnCtLHrjT1\n",
       "66brijFc93av++S25XZZp1GVGwa2QVMw9sc5rjtPT76PX5Z4vXY7v3xtEy9vGdggZ+M+eQv+XGdx\n",
       "W7Xl/PeJ/LacbVwPliB+oC1epznwwUMft131/o332SljZc39Sjnxfz1FFUozvbDvo9L+RES15T78\n",
       "eP9GlbtcuB7ni+4PZ+HPjIhvmkRhq0rYrUyX21Z+7/39vSp3PLIvW0a97n3Pdsws/N6y0W3G293H\n",
       "2/W7w3tVTvrDrz58VOVk/LVPvPef/7//drvuf/LjuXyKx5Hzy7NfJheXK2e2Vdmg28FMjAG36Daj\n",
       "8HyMbwdNGe/f88Wv06TYpKr062AVh1hPgY20cZu5boGfO/dRuf3Bn2eUO+6rzMTtDBGREX54WfR4\n",
       "ej1z+UwT76e//ep33ufdJR6z1edH7/OfnlgP8jH+bCKif/+3//vt+p/+8z+pcmXOdT80+nhdV9Yl\n",
       "ZVpGRESN6NO64vZqq3j8RkR0EHPKnbgOOfesH/udHu87x324TnH/QkREhu3J88jt/OXLNSZNRET/\n",
       "z3/8L7frsf+9/ug9l8GUuo8vhP+yil4TES2Oyzqu/rg+rXEbfidiHSKiPI/HkV3r697dPm6P29p/\n",
       "3jTF2+k//5f/5H3+l3/577frbz42oTgREWUmmKsrMfS6+f2+K+MxXFP47zFFvO5t7su92HhbFoFd\n",
       "qGu+r8113XaOdfaixCNERNcrt2UVBj+CXKwfNIX+XmrYPjXCd7+7f6veIv3wuX9R5QYxl+1qZa5J\n",
       "RHXN5XOJ/2GehC+ylttr2xJxtxP+a9VtNom4sW7jukdEVAl/nQjJaRVlHUffrxllnhb+vavj5chX\n",
       "7neXWK8ZRZzhEnPIpuZ+r0ww9zfx/jClr1Ph2t2NxW+kNYypf3lvHq6TKe81vu+R5chIdzibsPV5\n",
       "ofdvKdeR8victwjmRKViM7JgLlIqaw5LoEibWKtTll6IiMiI+Lqq9LrLt65WH19VzZJyfIWsIv7K\n",
       "xVxqS4yvWehsoczRiIiKQtitRu+nSUyOE8tplG38vFLYN1vq9auFv3eJgZOLlrWJOC8X/rpK2OJK\n",
       "rGVVpT8vnrZ4JacgJn8+/xiVGxLzfUlGvo62TdxvyrWELIgzemWMj1f/79uqtG2wTm/DRblf3hsM\n",
       "J6fIUbB2sM5cjsR0mlbx28RKurGXtq+p9Ce28jcWp89RP51/uF3/8PQp/k71bgAAAAAAAAAAAAAA\n",
       "AAAAAPBvBvzoAwAAAAAAAAAAAAAAAAAA8AowJpFmbR55D5Qr9N+HCrFFcZ31bcNyK2JZJrYUim3O\n",
       "VSLdzuR4C+Xm/PdmW7y86+Lv63JbfLtgEaQNacv49somaL9c2cm1BdswC7G9MsvibZYHKVzqOt5X\n",
       "u8ZPd2Qpvp1vDFLJTHN86/x1Cf5ei7Ys9e2VlRPbZRPbpjOx73RLbDMnkZagSqR3q0Waqk1syc6V\n",
       "diUiWhaZ8iBRBmLdzqyeMi0T/TlN+p7RlwtvuSta1ok37/SUEyuJ1HGJ7aiDSJU1J9Lw1S33k7q1\n",
       "mog2sS1xXP3tynMR7w8TpCjQ0rOUnf/3fIm37SzSXs2JvbjDIFNd6Dq6q/m9TeuXwS3x+8K0hdq2\n",
       "dWv9bZfLFB8Da5iCQdkGHG4PNiJtVZVII5CLsVckVHvXsj1pu/hW3DC9wKKk6Mpqv01kmo/zRU9l\n",
       "sqx/Xdo2K3Q7a/Tt0DLtXbj1XZOTmdXyRD48mYZoSaRJyYTdXq2esk7sWqc1sRd/E9vW5a7mWdkK\n",
       "TUTkxDb/LPG/HaVIXdIlUtFVIjXC1Ov9OYrUoDbcVq6kT7SBnoefb38PtnSvc7wPQr9ZKu+tA59e\n",
       "F/E+kLGPDVKfTUq8MwX2t1bSbYxBFZ7GeJ/ujP885+J6ZRNpAteEzso65qXu50aREuA669v+nfQD\n",
       "pW6ExpXTwNmRy2619KFENIot9vMQT69FRLRY9lk5JVLEiPi1KBNxrvAX2QP3ZxOkJJLc7TnVTUf6\n",
       "+HpTs//vnJ7GYRR2y570VD7f/fP/vF1/+c5P2/DmLp6WLw9SFT/cKTGJ6Pc//v4PahlOJ05jtPZ6\n",
       "WUnUyQSqsjsqfqn3UyRlyvzE5f6YLpR4JBx1bRvvgzBlsJbZqwnG5yJTCiV8zL5jveqV+IGI6CrS\n",
       "JxZzfC6V7Xybsyvibfku+PM2c9mLSvfJH+++uV3/7uu/V+Vm4jG6S/j4nz5/f7vOEjbDiPQqQ8/2\n",
       "+HzS08hWco500e3W+fxXxtoidW9e6P3Udtw3Mj1R1+npJvOCx8rDvZ7yo7vn/i1qvQzTmZ+3XnU5\n",
       "GW/mgR0stdR5q697tZJy8ngXpIFT2qxf/RSTzz/+FJUL06KWR7Yhq5JK9RL4ikFJ5RmmE3v3EE/L\n",
       "+c07PyW3VdLgPH7y06z8z88/ROWeghTJd3cPt+t9k0jXXXObO2WdgohoFnFbPukpYlwuUogedP3b\n",
       "NfwuOd80ehHocmW7/Xh6VOV6y321N/rcWKaOdIl0VquIHa1cc0jMEdaZ22hRUnATETmx6LMmUltl\n",
       "Yv6WSpk2e04lWNfK4jYuTKlVKOtfmXyxEu8SERkRQxdKykYiolL4Qxukitfm/m2QZq1UUtZN1h9P\n",
       "6xSPIbZwDc8qa3pBerJC5HjatPRORGTFRC03+nhoZNovJf13mNl118TtapX5f9+UOrlAfeVJEW7V\n",
       "Yy6ppyZxbEEtjsmolTSXROTlts8z3bbINNdO6HZqCU52b2IKQ5tIB7gz+vqy3UQK3USqrF76GJEa\n",
       "c00cieDEmlmt9C0RUbYJu7XoldrJtbpMXwPNiddyLsHcc9ri6URn5x8/4JTU/SH7Xdwe7yo/3jwe\n",
       "tDmXiN+Cfl/XuA/Ng7Grpc7LgnUU9ciAwFk4ZQiEqSKNiOuVnw5+lhPz/crp80O5oFMm5oelSBE7\n",
       "Lvq4/uELz/XOQ/xoHOz0AQAAAAAAAAAAAAAAAAAAeAXgRx8AAAAAAAAAAAAAAAAAAIBXAH70AQAA\n",
       "AAAAAAAAAAAAAAAAeAXgRx8AAAAAAAAAAAAAAAAAAIBXAH70AQAAAAAAAAAAAAAAAAAAeAWYccrU\n",
       "L9dlZcFiVeXajq83t6lyG/EzhuWiyrnn+Xb90LxV5TLHv1lti//ewU7Re+zqgs/x373quvQ+N7WJ\n",
       "P88Fn8clKrcMo/d5EnJTZqP3hJgqXlbnCu/zWoxRuYmu3udhi8v15P+9KtrbdV6VofiNuqi4rFbX\n",
       "q7PoG+ecKmeFLjVNo8qVlXjXxm3RlkVE+mfyjN97upxVuWXmvhnmeN8SEZmM31XWehstI+v24/On\n",
       "2/XL5VNMnIiIvnn49nZdN/qz27W+XV8uz6pc3/e366KJ6zUR0W7H/b477rzvxi9D9J67fet/vjuq\n",
       "z/ee9xwfr8vEfy8KXaeOR35PVes6dRDGqjZ+W14GZTyMfl2LKq5Xxvjjs+jifXVYO+/zvMbHvyP/\n",
       "79vG46GqqlCcv8v4vXaaVTnauD21cdg2tf8HF/cD0+jbcyPsRJb41wJZp3GMtz8RUSvG1NTHdY+I\n",
       "6Cr60OW6vsxH1qtB2Jn+fFLvsWL82033c8PC5TO1boNWw+VbE/bSFdyAeSn63en2KCMug9v08SB1\n",
       "bJr0drWW5Var61RecLuE/srUu1D8L2X15dY1rmNl7o+nIouPgaoIfHdVR+WKzLd9VRe3hXku/j74\n",
       "bTRe420xr74uN/t9VG7NfT2airi+XE4v3ucij9e9q30/mYvHzZM+vkiMlaZtVbFN6NIfv/tOlXv7\n",
       "4eF2vTvqvntZeBxen9kvjate1osY/8tVj52aA7ft6aT7w3VkfWurTpX76v3vbtfv71in1kUfu9PM\n",
       "ZWjbhO923J/T81WVu544VgljSslPf/gTP+/ce989fPxfovcMhd+WvRLLnj994WdfdXtZCf+6V/Sf\n",
       "iKhcWEnv7nwb4ShehvuHO+/zcR+3LcPgxxW54jfr2rcRhzZuM5bB93NlHdcXE8TJi2U9yHRzTHf3\n",
       "HMc0re44r1694vq3Of/+1sTH4b3x7V5Tc9vev/1GLcND++Z2/X/+H/+XKjda1tk5MdVxwg9kpe7b\n",
       "XM7f/fjph9v1ZdD9127gMX656Dq7Cl3Ms7gOEBFVYj7cxlXvZzIu08vlRy7PXo+7370T/bTqZTgP\n",
       "bNPOX/Q6ySG0K+5Vsarj93pzKiJqTLwc+eDrv3VxXZxs4NOVuafdfH96Hl+iclXlt9/hKx7XzRQf\n",
       "k3Xj26C6jsdwNtDRx89P8ec5vwxvu7gimKDqXRO3QSfn133b+MbxovsEO4l1FaMPMLvw87M8odti\n",
       "3twUup6uxO03u78uPpyFT+lHvU65sH1Tn4hzxVxnS8Tkl4F94LSKOD6xXjXOXI9ZWU/6SyFul8ui\n",
       "lzUXMVue6e3qT8V8ZzEvylzR+bZv6eN9IKe87U6fQ0p/2NR6PJgLHzOsfhtlWtsuftnqMh4XVZXv\n",
       "r2wWlyuCeUGvOJlt9t+bia6yWcLfCL0qjd5mNuNxuC3xOUxoHttdvE5tEFdMSp1M8EAr1u6uSvxG\n",
       "RNRfWW4mfbxmO47jjzs9hstEH6TWivNNzEuJ9SU1n5Y+RVsrISKaxdqadXpsnInxGtp6yTRzWXsR\n",
       "W4Q+StK0rB/7oz5uMif61+nP24s2r43+vHFiO/EUrP05ZT3YVH4/GeX5jvw56XF/F5Vrja+zVR6f\n",
       "yz498VrnENiCdVPW40vfFmwU15c1sDlO6eDwd4pcUb8qWJuohT+8LrrOXoWt2XRTT7vqcLsuM71/\n",
       "rxfhi0jX7Vmsz+UUb3/s9AEAAAAAAAAAAAAAAAAAAHgF4EcfAAAAAAAAAAAAAAAAAACAVwB+9AEA\n",
       "AAAAAAAAAAAAAAAAAHgF4EcfAAAAAAAAAAAAAAAAAACAV4BZJv2QXUN8mFvm9AOp5YGGm9UPN8qt\n",
       "OLRs1X9v2u/e8rXRT8ncKj6kaRz8A5uyMl7e57N/yFW7P0Tlzr1/MObyEj/IrwkOS82Ug6PkIeBE\n",
       "RK04LLkID0v/5R7rH+KnHQ63GP8Qv2mOlzUr/LK6RjlEzvjvrcRBsU2nH3QsD2MbE4eMG3Eo4vl8\n",
       "UeWkKlWJA0gbcdhZWbIuGu10LiIqxSHjeeKk+ZM4QGsNDyMVLDMfSulm/aTe8cwHk8rDKtdNPwx6\n",
       "MdxeX338qMr9TcaHAP9ZOZSciOg7cRDzddEPkTPegaN+G919iB/mlgWnltXK4cFr7x8uvYoDqiXy\n",
       "YPg8ceBdLQ5OrhrdZpQF16kMumlXxfVgGv1+X5f4+KqDw24PtXLQ/M7X5XlWxkrul0ceILgufSh9\n",
       "w4hD71J6Na9sI3c2rrPb5tszqxxeN81+G23ioNLzVS/ruorDLxOHOf40cd0r0g9sFmdp0pIYr9MD\n",
       "t/k4cX+6hP9yoqyl0w/CnSz7jtM5cYC8OIxQfytRLg6uLnZ8iN9dG/ddRESt6M7UYZVFwfY8TxxS\n",
       "epm4zTujH0i/CJ1tWhl1WwoAACAASURBVP9gwqqMPz+z+nsl1vo2wq1xe1AEByLmpBwUG3ShK5RD\n",
       "csWBlHnp27fqENeDQ+33jXZurwkOC9fOKc0n3+YUJq4xTRuUT7T57PRYz21cxy1hMy69OHx1Shxq\n",
       "e+JnHO/0AyqdONy46rifsjyhY/Igy1aPS+UZt1mlyz0OfFD3co77ISKirOW49HdfvbtdfysOtA95\n",
       "+Z4PmrfLoyo3vXAcpFsWooOIm78867HTXclPseQfmO3G+KHvx9b3Q9/98V+jcjIOLUs9dto2ft46\n",
       "6WWVh7K3td/vYxYfEGXr+6tmFy/H7uDHAs/PcXvcNf64Kar4+FqC+GZdtQPp/Xo44Te7Tu/hyyT7\n",
       "Rm9bWd5cOQB2DMra1PExtS/98T4LP+wm3Yc2wk78b3/3H1S5n14+364zpz+vEs/7fP6iyv3+D/90\n",
       "ux6fWce+vvtavae/st3qjrrf7MS4UcI3IiIqRYw1zfHxREQkTal7983tumqPEemfycWzh6veXofm\n",
       "N7frffGVKnc+sX2ra90OFjWPKRMcJL5t8XnfFhwSXRZxR1cHPsVQvHHH0R93H9pvonJZ0DmXnm3c\n",
       "sY63bR6EuJ0S718uvr1clDiDMj+OX5W2HYL5/Y8vcX2xhd9GruLPW6nbjEaMf9frsfbZ8vO+7HQ9\n",
       "2ERD6TNZosuVY8JlZj1w0zUmTkT+Qex1pccFVpT17PR4ZD3zuA7XYiRG2MKTmBf0Tg+OjYiH72t9\n",
       "3YPEgdnP64sqNYv5A1WJ+b6oxzL6Prmc4roY+q+DietLKWJ3bQwSERmxVmQzfXaykuzPvfddYeP+\n",
       "Zlf7/X6nxP97CtqoimtjX/h/z/K4Tx6DOe44ckxSNLou1i3Xw+b63HMeeewVSvzaBeO4VuYmoS7P\n",
       "FO/3qvLb7q7iGNU6PYZ2G9d97vUx0HTsK9dVtxnkxPwkXFgRGKGnnbB3hdMPpy9E7JSaFzjDz3ar\n",
       "HsdPK5e1LPV1Mtm0cp2iSwQGu4rjzeE5vk5ERJQfuP2/+uaD/rwdP+/5s16n0wu337HyY96ijLfZ\n",
       "OD/5f1Ds58PdO+/zYR+f78zBGtDpFI+1N+I2L3Nfp6ZZ87W+XK742pz8/lz6+Hg9Bzpf5/Hx3wdr\n",
       "w1XD733sf4qXlYhWEn540/XgceDvhlr3CY3wxKvVbZAx/IxK8fHY6QMAAAAAAAAAAAAAAAAAAPAK\n",
       "wI8+AAAAAAAAAAAAAAAAAAAArwBTJ7bLZWLrYWKHJy0Dby0zeWKLkth+Z7R8J0RUiu28z2d9u+zn\n",
       "xx9v13OQTqxTUt/cHR+8z0/K869jkEpGScDTB/lY7vfxreV17W+5K0X6OZfF2yxsoVxJA2XXIFVW\n",
       "EZdzwQMLJTVHZQJBUcfrNZHKQGxB23L998RBbFmeN30raCa29NlEjqJRbJGbZ5YrC/3ZleVnF0Yv\n",
       "a7sXWzmVbZJERMsgtjYm0uMUhtOiVXtO47AViTRcInWBS6Rju3vLW3vrv/mtKmdqfu/3nz6rcpNI\n",
       "w5cF2y5traQaXH3dG8b4NvOq8Nvy7fv4ltGzSJtnWj3Fwbzy+JwS2x+vgxzH/pb9sor37/2Dv219\n",
       "3eK6WARbQTclV1MX1MMofZ8X/vbMVaQ8sFZPnyhTLayJVIODSNNTZfH0BVlgm55f4ukjnl98/ZhW\n",
       "7je5NTrEOS6f3Mr86+ez3SmsPlbaXLRtwhddT9xGlrh8TWJreiX6t3/Rt6PnIl3Rsuj99HJl35PI\n",
       "nkrv3nIakZ1I32VMIlVOyX5oGBNpKUVbZgm7ZUre/lwpaUGJiDbR5lmQgqws4nZ22Pw20tL8/epu\n",
       "tbj+/fMc11kXpI4K0zPGyuOChCeNkiKmCJ7llABqWvwyOGVch2kcSiV97RaUbxNt0XSJdCorN+Y4\n",
       "JtJoihRRx70+XguR9oMW3Xd3Yrt8JdIBbql0wkLHZLrOkExEUO8Ob1W5qeI2P530ug9n1qMv7tPt\n",
       "+u6jXoZapFP59ElP9XgSKXn/LpHuoRA+YVr0WOzr33Cc+8fv/pv33Z9+UFIDBmmIrn1cFz+8e3+7\n",
       "Pj3pKetkeBnG55Jc6Gh358fPdoiP3cPB98m5oi6lCVIm2XiqhV3r27R5jscQYfyV/SpK/5kwBWwp\n",
       "5Oymt0Up+lfGNL8uCI8pR/HxlVOQcnWK+6w6SAciXDIti+4Pv//vf+J3NfoY+Pg3nKJrWvQx8PEo\n",
       "xuim+6zvxETm67ec7rhJpM2zImXVVUnPS+TXvdvpfq4WqYaGRAq865XnkeuVdWcY9TRcJFI4tYk5\n",
       "RyXn7on59FaJtJ65botnMS+rjC+3q+O23gVp2jclpe4WxCBOic3KwMt3StqleufHq52Y0/RKyvAx\n",
       "SDNs8niblUGa20pJrWaD2Hha4+M6yExDhzqeGvslKJ+dRLq9cE4ukHa7IN1vnkRaoymRt22bRJr2\n",
       "VR8rVsy1F9G/S2J8FSLdbKEZbSLaxLqAplNERHnGYyBPxPtGrEfIIVAkYt5GjL3DTk8JSSJt2DTo\n",
       "c0+ZFnUb9XFoxXc2iMWMMkfNgxSdTlnT2IQyLkqqbiIim3Gd8kQ/yRy62+KXQVvaOV+ClJBNvA+W\n",
       "IPXeMMVt5hjE1r2SlPAapMobRy5HlUiBXQunYFrdHhfCBi9WSfv6q7mJotuLf/84K757F6SLa9kO\n",
       "Hnd6SkLZZH2hx7xNLcehri+nE4/5aqfHAqVIXlyKXOzhXMy/ieWKxDqZTG11OenP29VchiZR1kyM\n",
       "gVnYtDKxtlmIozGKMJ+o4OEtp0wLU+NL+oHX565nfc3BbiKteumn8a6UOepqfbmXi5I+zvlr5JOy\n",
       "ppQFvkdbpqnkPCNYSytd3HeEa0irsh48BkegaOMrTEPbtfGxUgbrlINYa14XXRenVabu18dXJmKQ\n",
       "yujzgq3g9xZKGnoiolrYUjfHYyfs9AEAAAAAAAAAAAAAAAAAAHgF4EcfAAAAAAAAAAAAAAAAAACA\n",
       "VwB+9AEAAAAAAAAAAAAAAAAAAHgF4EcfAAAAAAAAAAAAAAAAAACAVwB+9AEAAAAAAAAAAAAAAAAA\n",
       "AHgFmNxm6pdu227X67KpctP15Xa9a0tVrjL8nXOzKvd0HW/Xjy+PqtxlvPJ77/bed9t1iN5Ttp33\n",
       "2TkXlyv838Ou0zkqV1cH7/Pd24eoXFdX3ud54DoOQ7ysJvhNrsmKeBmCrumVLp1Gv82zLf68qq29\n",
       "z5b4BdMcL+vPctyWddeqcmXX3K6b7K/73bHM42UlIsqFnm52ul2PtKr3rOKrqo7rABGRE++tG32s\n",
       "FMTflVSpcpUR99TcRsOil3UQuvf0+FmV25fclrtmp8p99Y51tGn0sp4uPK77q6//trDRe7bJ17Fr\n",
       "/xKVy2q/fG0XtxvDxnWqEjo1TcvtenSjKjcvrL9b75e1quJtkZPf70bR2ar061A0JioX2lKr2OAs\n",
       "8/UyE/q8LnodpU3LM90eb0Lu6XGJy5A/7n76dIrKXfvJ+zzM/LxOjPeQsuK2LI0uV2TcV5vVx8q8\n",
       "cpuvq+6znn7sb9dVw+3QHuuY+M9k/LwPd29UsUWqx6rby1n052gTcuK7YeSyulLv23liP/fyEu8z\n",
       "IqJ54ec13V6VaxruG1foNjsT31WlP54KF++PugjGiWLqbRAzWMVmZpmvy7lS3qL05S7DFJWTftIF\n",
       "YzVTXEIVdo3SZOHtmVMqH/y9rOJy22aDzyxXlnF7ROSPKWvjtuDn93LFqkp/3nji2GzddL/ZHI+3\n",
       "67rhZ9tEvGkcyzW5Pgbq5u52vTP6uJ6exdgb436NiMgSt8tpYr92Mvq4sVduh9Oniyo3XznOfdPq\n",
       "7Sqb/Hz6ospJ/ciCx/305cfoPX3vt/l+H6/X+P2n2/XDQY8z2pbH/8vLJ1XOCX/6JahTkcd9ct/3\n",
       "3ufNxMdDUfuV3ynxzq70B6hRdLbu/OetyjSmcL4emYL1tNCHgzdGZ6v7eGNEeZXnOevbM6sMqX19\n",
       "532uDJehKA6h+I3TC4+b04+6Lr5/eHe7vtvrMZzb3d+uh14fK//47T/crk3Nld8yPS44i7jvMl11\n",
       "OSu/022BfFdd67YlF920iblEpug1EdEk/FqmdVpAV+pl6O7echkS8+7H89Ptej77umdnRckCm6Gp\n",
       "dtb6sWyh+A4TxAKl4jiLYMomY/Jn21MMa/ybOiXeKXM/Dj09xef+T0+/9z7f399H5drO75smV/xF\n",
       "7fuyw4HH5dv9XSjNzxM+3rp4WYmIdhXHhFWViOFEXy+rHguYjHV43VhfrNX9VynnWGti7i/0fpt1\n",
       "nb2KedCUWEsoRNxiCm4vQ4m5/8Ljf7zEdYqIqJLrMrNuM/JVvEtZdyIiymbx3RKMKBd//lr4tm9Q\n",
       "1oo6aZBcYu1PjOT6V8GsYOP3LoNfhkwJ5POdP756xWyfgn5/6eN9MG6+3KIE5db6bW7F/DDL9X6b\n",
       "RCzbWn2OmufCF9m4Lq7BHGi1cT1wzh93g7KeaYw/1uojj6/UvLsW9vcxj6/REBFNlv1w3+vxiHVi\n",
       "TS/Xx2Gdsy3MxNqOXfVny+W5qtTHTV1x23blUZUjsZ5Z1Km5LF8vYp5sra4rO7GOdTzG/QERUVby\n",
       "wx+/6Gt6lwvP3UP9ldSG46rW+uO1zrtQnIiITOHHYsMYj+GW1fcpgzI3MyaIaYq4nHTxNlij3RS7\n",
       "GM5J5zluNIbBtwXTFO+ruvDbpK3iPrmrfblt5TFe1XosO848bmxq/ivmvHViPacUer/O+liR5Sts\n",
       "fG6GnT4AAAAAAAAAAAAAAAAAAACvAPzoAwAAAAAAAAAAAAAAAAAA8ArAjz4AAAAAAAAAAAAAAAAA\n",
       "AACvAPzoAwAAAAAAAAAAAAAAAAAA8ArAjz4AAAAAAAAAAAAAAAAAAACvAFOWtfqlXfnauU2VW5ZV\n",
       "yBWqXD+c+dmT/rzhOvKz81WVcyTf67zvpmmI3lME9W2qMirXdnvvczW5qFxX33uf397fReWyLPM+\n",
       "D8OVr+d4WWsy3ueyO0TldmXjfS6Un/LccPE+r+sSlVsm/+/Ocl+ti95vm3jvsupybc3lNRRv158f\n",
       "yN91pa5XleG2Xa0sQ7x+RER2YsE+odtWlC/sQ68MRcVlrVtVLiOWm2fW3/50jYn/XIZivl0/Pn/W\n",
       "n22n2/V+f9TLWne368Nhp8rtD9xP15Nfpx9enqL3rNsYfI637VRM3ud6i/evKUX75zYqQ0S033G7\n",
       "rqf4eCIimldhT0q/P3OlrEXw58wp5Qh0Pq/idZpW//55naJyZenbpqYVfZAndNby8+2ij6+h7/lx\n",
       "UxOVuVz9/nx67KNy/a/sORuDjPSyOtEWc5kar/yM4ar7BDvzOJqHWZVbZn7ex49sV6t73R9mGfdT\n",
       "Uen/L5GJft8n/q9iqbgM5WxUOVOwnmYZP2/b9L59ubKvfT5fVDnn+NmmSdgtocqri+srEVFds87e\n",
       "HX0fmi3xcVNlwTixcX0ZZ//+1cT7tyz8emxaDJGPwed4X63C97vNL0OmdEEW1Kms4/272/n6tt/F\n",
       "bcbLy8n7vK3xttyCsbYJmzYu+niQsYDSDEREVFVcj2nR7azUkW3TdduJ8mUihpM+PcQIf11kus24\n",
       "uxNlHc+q3OnlE5fH6f6wMuxjFqETn7+8qPdcvny5XZtE7FSXXNb+8qzKDSLm7RN1+vEzf2eCmPfp\n",
       "OR5rjIFKfXX/EH/2D3++Xc+JGOvSC1uwj8euRP74fLr4Y/LD/T4UJyKiTz89ep+Pu7j/Ollf59/f\n",
       "xeOiLz/+4H3WYugwBCzy+HvXyX+vKVhfVqP7mKrm8b8tettuwm47GzdCWeB7sjwuZxffPuYFl+H+\n",
       "EG9/IqJ841jArvG4gIjo9MN3t+vd7z6qcnctj73nslPl3vz9v7tdX2b2bechHpMSET39xPZz2/T4\n",
       "4XRhvZpGvU4m5/Z/UHSKiKg07Iv2LY/x3MTnnUREjYgj3az72k3M05Z51OVm1sVUDG1Hbpc1mBPZ\n",
       "WYnPV1/H2iau21XQn0YZYNPi1+N8jduqYg58megPLSoa52A82bj/2jeV9zks+y/UQRfWVRWVM7nf\n",
       "drmL24xt8vVyzbivskb3h5lw2EWh61VOXI7lqut2VYp4WFkfISKqjKiXiNnaRo9L5XrT+az7L/k8\n",
       "Q3r8YDfWgzkxzyhJxNCFeJ4y5yMimgfWF+v0WKcQY2Ua9PE6C3u+LLoNmsTahNv8frdZfNzItQQi\n",
       "os3E26w0wg8l5oar4+fZTdc9J21pMAes6nhZi9wfT9c5rovn0R/jszKXyls/Zmu0uhf+3xuxbvZ8\n",
       "0udIL2f2HUtirahtWbed0rRzoG+rNj80vs3QxnU4B7RifSPlY1wm4u5S14Nrz7Ht86DHuW93X92u\n",
       "TaHHN0bGIEJ1jN6s/v1GXweU0wxziNtiIn9OFPobybyy/pWG+2nf6XOE+8Ob2/XdXTx+JiL610+8\n",
       "jnfpT6rctEq7k1jzEf6/Hv3xasq4z/fWwojIUlwuI7/NF4rPI1fr+9dljMttYs4WxiPbFo9589wE\n",
       "cnH7mTt/PO3b+JrGvvXX7Q+7+PzEZL4eTWIOXSfWgEqxBlQ4fV1lv2ddur+L/3ZARJSJcX6edN89\n",
       "j9x+xaq0kXo3AAAAAAAAAAAAAAAAAAAA+DcDfvQBAAAAAAAAAAAAAAAAAAB4BZii0LduWrGlKMzA\n",
       "IsnELsIlsX28F9s41zCXhGAWW6janb41yooUJ3IbIhFRpmyHnG2wpc3Gt0AVwe5Abev2Mfh75eLt\n",
       "uYapVURajHWNb4OzwVa38xLfgloGqc9MFt9+WOX+tst1i/fBOPjvXRfesjyHW+QFchewvnmZSG5T\n",
       "1LWPqBOpZPaNroByy+gsd6pquXfIr3u/6nLjyNsmwxSCkvsdl7Xc6dtbqZZ15+tKSVVERDRmMu2C\n",
       "Pm4msdU9U7ZMExE9T1ynatDTyr254y2Q79698767jvGeuwZbVTMlpc0SpGrasnj92z2P4zGR6uLQ\n",
       "8Vbtyr1T5V5ykWIyqEKujIcq6PZdHrctWaBvRpF7yfz3LEoalylIsyhTK9lEihKpp1vCcMtUAZvS\n",
       "T5eLrx+KuaTc+dtv65rHQKbdRH5qyn0VT3tBRFTsuR5Ps54WYhJpIfJKty658G2b0MVt1e9pRBqB\n",
       "z4lUMgexdTi1a70feev2NOnj//7IW49LkRrIJsaDEemxdnvdh0pdyUu9tDLNYuhvJJ1IT+SsX76u\n",
       "im+hrsn3oVrauizzU2ysNv4/K3WQpm60cRs3BClxyja+HV/a6TBd5ab4wyVI1ZIrOdOaKhg3Tdx3\n",
       "uyA1Xt8rdjvYBl+IMT4mUrrINpfpV0Nake6lT2h3J7aqd4mUDFa056nn+CZMxSFpRNqK2enxyPz4\n",
       "P27X66iX9SJ8oFFSgxARnS/cfk+fWRe/ZLotGE/sD7+508fh22/e3q5tKh2mGBrnQa/77//I6cqu\n",
       "va+Lmu9++OjrnpZ2pTtwOqtx0NNjyFQj3V5Pt/HlM7fR19/46b8en+K2/uXJb3NDcZ+fB7F1+S5e\n",
       "jiKIq/JMSZ8YpLMrm3hf2V+lX/zr0gR7ZUqkOKzF/GbblLSUq19Xq9TpKUj/aQzXsan11CMyvcVv\n",
       "vtZTnC0iNdIy6DZo98A247jTn2dEqsxxkT40kWpQpAl7HvXxKrMnucS8IBN2oiB9XE89+0CZKjeR\n",
       "AYcKkeoxS6RWkqmyaiWVMBHRlnMbpdK7jSId7hLYlkEZ51+99cerMYouBj69v8T9Vz/578kUv1l3\n",
       "fptXYh5uFTXYZr8MV6vYrtmP2zVdDNP6dW3cttjFj4Mef/pTVG4Y/PhmqkV6oUTa/ErEY3Mizd8o\n",
       "5gxTmB5PcLpyStLDTk9lJD3lLObJ+05PzbiKeOn0rNsWGS+1O/15TqTNXGxibizeOwhbEOqbRKbU\n",
       "qUo9VZYRcksiZZrM6NYnfPckYscqWF8qqrjhMEEqtUJJ7dWLlEunR33uL9fJDnd6is9CpFU0QfM3\n",
       "FI8jr0EK10FJEfs8+uNmobhcF6RzbpT4tQjSLG5y/pAnxpeYl5aJWFZmx5qn+Jy3qf3+U6Yw5AJ7\n",
       "ubuP2yAb6PzlyjYkT+i2XCtqlRRYRES5TGGVSGe1itRvYdowySji8GZjHW1yPe4uxBqGS61XC/14\n",
       "edKPQdjtWZ9TfrMw3O+NOLKhbfVUxVakO/3pz59UucWy7SsSq6WNTPebSOc+iSNCptlPD90P8fvm\n",
       "wX/vsin6EsTGhVKM8M/TqumfSGsf6JQ2T57HoKxT3NaXhT/27+/eRuXuRBo+IqIyi/vu4er7yVGk\n",
       "/P3y/F0oznIiLq0qXbfXmcvb94n5uZj/n0+675Zte3+vpMNM3A0AAAAAAAAAAAAAAAAAAAD+jYAf\n",
       "fQAAAAAAAAAAAAAAAAAAAF4B+NEHAAAAAAAAAAAAAAAAAADgFYAffQAAAAAAAAAAAAAAAAAAAF4B\n",
       "+NEHAAAAAAAAAAAAAAAAAADgFWAKk+lfkrtdW3Edktf8jK2w+ttKlsu3QhVr68Pt+uFw1N8rntdP\n",
       "J++7ya7Re6xbvM/7bh+VyzK/vnVTRuXqovLv2+L1z93mfd7Vze166XbRey791fv83J+ictM8+2Wi\n",
       "a1TOBU1usy0qNy/+85Zpul1vm64HWcG/Ia5L/NlERNdsuF3vm1qVq2tu86Y0qtwm+npd+b3LqpdV\n",
       "frVZXRfXhb/b9CrRLMbRMiXaaOM22rWsA3kR1y8ioh8v/LyMFlUuK1kXTaJdx4H79/PTsyon29J8\n",
       "eO999+7wPhQnIqJmbbzP4+Uclbv2j97nYR6jclV7f7vOrP4bdVO0t+u3Dx9UuYx+ul1f5sH7brpe\n",
       "ovcUzreRu10TlbPBGJftJ3GhXiq2cJ18G5aLcmR5FYqLF/DzS6PLbRXryExzVCbL/LLVbXwc5rNf\n",
       "10rYZlp1n3AQY/yu03U2F215yeO2nYhoE+9tav15buFnPH1hXXRKOxAR7e/ZLxUH3W9uPdvLddXL\n",
       "Op9Z55dZf++acRu5XNjEPK6HRESm5DY/7FpVblrZnoR+ROI2rkciZKBN6PaXxxf/XVX8+V3zzvu8\n",
       "b+M+eQp0vu/7qNyy+bZkK+I2M/SHRR6320XJgpX19d9tcZtUZH4jNSbeV1Xm232j2IL3xwfv87Py\n",
       "/zprYINk3DYpNpaIyAnnlhnd0a0TP6PKdUV4c7i7Xd/tOlVuEWV66dkXDVb3cwuJ8i26bSktf1c4\n",
       "fax0IsbMXFz3iIis6Jt54Xadx3i8RUS0XtkW/ESDKnd3z23UKHpIRLSJfv/uhxdV7vHM7ffpsx83\n",
       "Hu8fQnEiInq++r76+Rz3h7XwtXbU++l4YHv5+Us8DiAiyojb9XyevO/+4W++jd6z3/v9ZLa4ne0H\n",
       "vw7ffffnqNzf/vZr73Oex8dAlvvjcxjibTRZvw83cZ+nvwH9zDZtSwScVcl9EProX2i6e++zFjvO\n",
       "gV3ICjGvGuJzDiKiTsSb79/fq3KbY511SrsSEQ0X1ueUbZFzi1r4hNOzPh4csS0wlR5rS/u2DLpu\n",
       "TwvrqXF6jCVjbSfqtNvrsUkj7KVb9HmPEQ4sV+a7RETnM/fhsk6qnIxX29q32a0S8y6B7qxLvN/G\n",
       "QO4yxm1huM7QtfG5MRlfzop56eU5XkcTzNV/FQD8hc9fnrzP3//5x6jcvvPbSM7n/Pf4Or8pc726\n",
       "8316IdqiV9qLiOjSc9+Pix7D5SJw25zuY84XtkHhHERiZzE+hB82b3Sdlcsq2ZhYUxJdY0t9fn4d\n",
       "uK/Pg+6HB9EusxVtpPgNIiIjbXalj/FSzMtcIjbOcx7zTWJ+nmdcprL0daXu4rH8bu+Xb1HswcuJ\n",
       "2+jpKWEvhU8xpV7WQqrs7L9zG+JlmK6+XbVl3CdcVl/nxyUe72/BHMsoZtsFPnmYWA+KStex445t\n",
       "0G6vz6UGsX4Q+v/be8hXkGyLK8w0+zZsUNZRwvllIXx3lunKKE3f/bt4PEhEVBuhf60+Bp7Of7hd\n",
       "n2fdb7qev8srniO0lJirC/XoT7r/uojYKcv1taInEa9XyrouEdH+wPbdOJZbet3GLmIdZEusgU4D\n",
       "j71t1uWcsEGO9P6UeuXI14lxiseoQx+sf43a+PLbKBWX/jVylbClZbh+rrgEU/tlKPO4jpnC1yOT\n",
       "x/Xq8yd//fF6UuL4ydc3WafdXvdzhx2vadRaXEB+TGiV9UIiIiemuWWlz6drYaurLj5esdMHAAAA\n",
       "AAAAAAAAAAAAAADgFYAffQAAAAAAAAAAAAAAAAAAAF4B+NEHAAAAAAAAAAAAAAAAAADgFYAffQAA\n",
       "AAAAAAAAAAAAAAAAAF4B5pg4yGoVB6wOk36A1iJOBVs3/RCvyvDBrk4/P4/KnA9LqzL9gK9uJw6b\n",
       "a/wHnq/xA0jXxT8pqlTOYsqDQx5zGz/oze38v4cHUd7kgsPMm4Jf/LCLHx6cB8+ap3jb9sFBwpc5\n",
       "fqBhFRwemFXx3/y2oHNEUakg/cA7K84Zs4kDElchOCQOO6vFQaoucdjZKg5mHEQbXRIHky+b6A+n\n",
       "//YpD80qa/0QPxIHmD4/6mPFiYP39vfc70Wpl6ESh9WaXD88TJxVS+OYOBhe6OI86/30/IUP1s5n\n",
       "XxffHT5G77nf+wevrsoBmFlw2NywxvVqHbldq+wYlSEiymbup1Oi7svC9q4KDofblENoC+uP3TyL\n",
       "H8z2cv7sfX7q44fDzcZ/b1vEn3cIDk4MD6/WOIkDJTfloPmfv+Q+Nft4GWxwSPSgtO0SHPhqV5ar\n",
       "E7rdFOIA2EX3HfLMvGmn+wRZuqbWD7wjcdDmLOyETRwgfRYHf86rfgjtfuBnNEa3l4ecx0pe6XXa\n",
       "icMO78RBfXulz4h821fW+gGckzjw9TrED3IkImoNP6NInFbbCLk18N2XS/z5ufUPeS6zuJ1dAht0\n",
       "vSqHQWf+88wuXt7m4LdLbeI+xogxUGT+2DVVvKyN8ete1/H+3cLDZZVDUG3ml61U+iA8DFLGELXR\n",
       "Yz05BvqX+KGxRETO8vO7xGHErmTdrPd3qpyp2TbIw70vvX6A/Oa4f7PEoaLmyv3WFPp4LYU9v150\n",
       "G1Rk4jthV89nAKK+tAAAIABJREFUvb2uj19Y7qTbwYy4b+oiYbNFrPLH759Uscczt+U1sKsNxdvs\n",
       "+uLHLffH+AG/P33mQ2ivz3EfR0T07g3r1Ps3uu/++7/7ze36+z//q/fd3WO838qgjY6H+IHvb+58\n",
       "HzD18cOrHz7ce5/Pz5+icuHBrvUublvr4GDivBblK/VxeB0uQkyXK8XEpa3jdXeVbyPyPO6LbHDo\n",
       "sTwM2ii6QkS0E35F9zBEpYhjEm6TvshxlOl1L3L+zhC3Q56Ym1TC9tnMqnKHjvUgW/TCPosxcPqi\n",
       "H4j+JGxpLfx1Kt6/igOVnUuUVcxHdiZx0LzwPY7051kR5y6BzXBLvLyV88dDrpRD+g0iIrso847M\n",
       "n984p8wLgimWnbnsXfM2ek8e6Pm0xm19VgZt5OJjYAj6Zuzj8+5w7v+j4l+L4D3bzDb8/k63n2+/\n",
       "4kOj270e80p7EtoxSSPmXHOvyw0n1tOdiEvXk65jtYiH39b6AfJSF788jarcIOKW66TP+2bHfV2I\n",
       "A+6bxKHYpWF9yTI95l1HsU7hdJvRdDz+D62+ljCKQ8rnOai7sq5SGX8uYJT5xNPGupc6kF2OY2v1\n",
       "Oq1iHLtAp/JcuW/y37sqpn4JDmsvlLioCOYFlpRxHayd1DJG1cpKRPcN+9e7Nu5riYhGMU+ot7i+\n",
       "hHrkRiXeH/22lPNpSVWEdUqsUQlm0W/1pt+zCZuZZ7qPuRoey9cXPSY8CcNdd2KNIDH/XURZn876\n",
       "sz+feL1qGnXdrmrup29/97Uq9+b41e06F/OHl6cvMXEiIrqKGGZJ2KN1Ztu5WT3WcUJnC2UOSURU\n",
       "VixnAl2Wa44eW7AWnsefbwKf7C30CubAz1ltbVcUpwjW/Zxiky5XfY4lKQq/DJuN++Tr1f/7auPj\n",
       "sDv4/uH+wHPZY5mKudi2uITvOF04dhyW+HoG0a9jF41NzCOdEmxjpw8AAAAAAAAAAAAAAAAAAMAr\n",
       "AD/6AAAAAAAAAAAAAAAAAAAAvAJMqe88IiO2+Wu7sYmISKQasal0G5XYYp/Y5l+INAQPhzeqnCXe\n",
       "olUGaYz2StqFYAcaXS/xrcNu87e0HffxLZBzuC1U2YbpRn/rViVuK5UUQLsgnViRxX+jC3dqL8r2\n",
       "Vhdsl92UPgi30ZYiFUEqhcIg6p7a2jht/IxR2d5KRHQVW5HbQk9rVhQivaDYO3hJKO2wcKO1ieQU\n",
       "73asf4d9PG0AEdF04f49veipaaZBbP8UZa07vX7ZKraj7/UtnpvYwn560sswLDwI7KobALmt+3Hy\n",
       "U8nMp/hWxH/43T94n99+eBeVa2pfjy5jfBvmi9jO2zZ6miCaeaw8irR0IWPJ9qko/H6/alutg5RL\n",
       "tTIOxyAdyKIMsJL8vm6UbdPb6r9nuYrxlUiFNghdLGo9BVgjtoJvrbIVNLBNplJSdFGgRyJ1xvuj\n",
       "npbuKHxCKhXa9cLjtUikJL2IdAhaOhsiIiNSxJDjtKNfTvr28U9iTK1GH4f7D2wzjo1e91LYIOP0\n",
       "NBrHI7+rFeNmS2wHlmlvikSKv6bgZxcJG2QMf7dM+nvbgrdDd+983Xu+xO/bJl93Lpe4LZiCcZiR\n",
       "Ut5AFa2NpxuZre8fjibuswqS6Y78d5ZZfNzsAh9aK/9fcw7acniK265zkIomU7Z7z0HKmUykgdp1\n",
       "emqKXGzZf3rWfccq+qBc9DQuY87PGErdBsnyTSKVzEsixRyJlFNlpY/xvBfpExvdxxciNc31pNtV\n",
       "k3P5MjGm1kSsc71wOzxvut2i7fF2WSe28sv0IKer/t7Pz5w2oArShD6dHkNxIiL6zTs/ZeugpfZx\n",
       "XI/3H/T0GLURYyPT5wUXkeKgDeL2/V08/U4RjLv9IS7XGb8tTxT3X2Xj61GnxFm7Y/B3G+8rU/pj\n",
       "zYnUGWsi3cOLSM1aJeQqkaqp6+J1H4NUQJuS1iwL0jnPIg5qW33+dXfklFN5Kq23SDmxKvMjIqJG\n",
       "6H2mTU6IaBR2ZxnZ39/vDzFxIvJTsjwq/oWIyBbcFlUizeJBpDFeEqmnM8f2vC5Zx7pEilqZdntK\n",
       "zI9khk+XSEtrRIrlLDEOTcVt6bbAripp1u+rIJbt4vHOGKRPyR7jdnsKYmhD/z97b9IjSbLk+Ynt\n",
       "i+8RkZGZtb7XrxcOu4doNog+EBwS4IUAvzEPBDgnDkAOCaJJzszrrtddSy6Rsflm+8ZDVrmIaqkY\n",
       "6xz4/05m4eJmuoiIiqqHirp9ZmD9XaZjl7GiZLLm6qOS6m4MrLSIiZIW0WpKbeljstJKvX77ximX\n",
       "x2admpLHwEjLQ09ESS7i+Jl/422FTdlllwQT9/XhqI/DlUgHmooxpmj1NMEUcyywmUlXLdPv3H28\n",
       "05+XifSO8Uw6TNGngUh5G9mpiwRpINJIhnrD1h0/o1LmsUREY8P65ulhCw01+6DT2YzFPCUV+NpK\n",
       "Vby5ds+79yk/by59qFyfq2s9vd4o7DoPrVRjudtnWMtQVDfuOVdv2etCGZN9K5Xa+dmdbtOeC29v\n",
       "by/XX8+kn81T/l4+k2JrI+RWsZIC/mj256lU5lJW2v1RS0Vp+SaZobqpZuJSsa6SBHqKw0mMgb0y\n",
       "1yEiyhJeGytnUpLK8XoIud+mmYVomeJz7jiCc8nPro/6nOPqmuOEodP78/07Ttc/jezT0lRvh9WC\n",
       "baAgfZ7c1iwXKWMcEZEXsI+M59K7pdzmo/XednTbr23/y8g9P7RTk2vZ3Z+tdc+icvvCoWGdGu0j\n",
       "RhTVyay5q+aTamtO1Cup7UYrlWqqxNBZZrW5zwVcL9w+9rOcOMKk0f1nLXz9MBND+ynryzBjh53w\n",
       "pZoYdvoAAAAAAAAAAAAAAAAAAAC8APCjDwAAAAAAAAAAAAAAAAAAwAsAP/oAAAAAAAAAAAAAAAAA\n",
       "AAC8APCjDwAAAAAAAAAAAAAAAAAAwAsAP/oAAAAAAAAAAAAAAAAAAAC8AMJ6HNUPj6eny/Xk6Q9J\n",
       "s4yvg1iVq8vz5bofalVuIn7Zc92oclHA743pxvjMp9b5nc4vTbmVuxxlOxj3n4pHp1zfBebzi8op\n",
       "t7Ta5dV6zdfLtS1ORETN04P5rr53ynlRaNwHQ+CUm3yzr4fRXfdpNDs7DnIuQ9s5v0NENDRc9zSc\n",
       "VDka+PlFXapisuebNFflQo/r7w18PTa67ng1t+WULlU5v+PfRb3GrVNEROHAnxWHB1UuyhN+XsDP\n",
       "bt1dS0REWcL9mc60w6eH+8v1qdDL6vvcRn2tvziNFlyGbGt8Flbu57eFaTfpzcop12Xm782B7+6D\n",
       "u++fL9d+fnbKEBFNGevlofijKre4Tvl5vmmTfmhLf+bjvanzRZO6Bf3IuM13brvuR/P7Z8UXPjx/\n",
       "Mr/Xsu5k0Y0tfiGJri/X5fFZl0uKy3XVuSsfRaYd75Zu/54kZp3yhPt9PaOzycg2mnq6b0k89hnH\n",
       "dydVbhTupPd03Y4XXK9xOl6ud7n+fxC+eNw51v3bWPFYkWX6824XbF/L2K0rRETnhuvbnbmNqkFv\n",
       "L3/i/lze6O3vpaxTh6pQ5YqSP2sr9xhHRLQSfR1H5jjkx5EtTkREZWnadV26+61pzPdGqbsP0oU5\n",
       "fp1bd4zTFaZvqgf386KAn9eOZhnkeCN5/+5glslfOOXG3iqbEo4dOrNsVev2hX5i3qfCJ52Per+l\n",
       "McdSY5ipctPAL5gmxQ8S0aczl6+MdDsMc9aRhz232fOT7uujkMuwzPUyxB03ZjcTv8bEPq2biW+6\n",
       "ice8P333w+X6cDq6xD8/O5Uxqj4m//jEsXZV6XHLMPD4WjV6DB0Ina2tGMv33Y2xbU2dnSZ3W3gB\n",
       "92fvDU4ZIqJWVPfN179X5QrhT/7wu2+tsrrbbJ2ZviQJ3eXYXZtxRZK5x82yM7/f+e4Yers07dif\n",
       "EqccWW38dGQdWa2v3N8hokzMpSZPHzsaMW/rjgenzGTNORrFt3Rk1qHuuH9Dpf2JiJ4PrLNZqgRP\n",
       "RNT0rKdhtlHlvJALOA26z/CI+yr0+VrGCDaB8AXN816V68TcUxkOPpePZhyKYLvm+i5z1p1N5h4P\n",
       "iIg2GzEu9W49JCKqxJg8trrPGCd+xrnW7fWb128v111n2v6k+IzI+r/RZequV1ubzxsX7nJ8PJu6\n",
       "XAxu35oE5ljmi/4tR3fHBVZZByV+CkNTl+PQHfPGoWk33dE9l11GZvy1XLrt/+bG/Lss37nQx5in\n",
       "Z47x94UeG3tigjPO/L/v1HNfe4O+PhQF7IOPZ657Geo+o7nittw3+tz//sR1+ums2+ua2Fbiufm5\n",
       "mAvkSzGPSvV2GHvWo7bT5VpR96LQ7fAkfNVuUMYNIkpijmkWiRmjeopuD6M5Hk6t228E0tcr60RE\n",
       "RK2IwadI93WhjPGteH+K3d8re7OfOmVdK7bWtZa+ex4TB2YM2KbumDDLTDveiLWYxVKPed/ubi/X\n",
       "ke4+aX/P42F/dOtiVZo+59gp65ShqW9+4+733nJhvZhAdL3eb7XQ7R/ffVDlVmv254tUb6NWvHed\n",
       "6rrtibmYL8asKtR1sQlYDz7NrBeGYk31qzffqHLnhvvpnx7/WZVb19x+K6HLWanHOut0d7lOPD3O\n",
       "C4VZn0vdb7ViYbBVbJ+IiHrWlygz+yny3fPufjLH0DB021ddmUrWKOuq54M5HylObrk8YTsMYrPf\n",
       "+1YxsMGKz3t3W8SpaeNp5h67R2uiHSrxDdXme+R66b7QdbFseP56UubqRETtxG2kdBMREQ3C0IOZ\n",
       "rTq+KG45uNf+sNMHAAAAAAAAAAAAAAAAAADgBYAffQAAAAAAAAAAAAAAAAAAAF4A+NEHAAAAAAAA\n",
       "AAAAAAAAAADgBYAffQAAAAAAAAAAAAAAAAAAAF4A+NEHAAAAAAAAAAAAAAAAAADgBRAeqkL9sBvG\n",
       "y3XVNqpc0XaX6+UqV+XifHG5nhr996Zx6PmaKlWu7vi9cTCaH07W/c/4vvXeLnDLkWeWSbxL0tZn\n",
       "4z6YPKdclsbGfZJkl+swjG1xIiKK48y498raKVedS/MPvbtt4zw07iPlvd44GfedqHvXtM7vEBF1\n",
       "A38vDN3tYD8jmvnd0Q+5b/xBFaNRPG8c+Hk+uetHRBR5XL5hcPctEVFRybZ16xQRUZpEl+vV1UaV\n",
       "C2OuUyCqPin6+rmA/Fl91u019rlOm4Vuh+PILx69SZVbZOvL9Xq5Mj/bJM7vVL1Zjz9+9y9Oubo0\n",
       "/YlW/Wy5Y5mZsh4L7sPFMlPlxlH0dW/q6OPDo/M7p4Opo8dHt0/KctOXHE9uW8l3S+N+qZQ3yVPj\n",
       "fn84Xa4Pz7pBLHLWv37U9cUrxGee21byzPz7ZqWUNTLLOvXcV6eTXoZR+O3FRtfZKeG+2t2+VuX2\n",
       "P364XPetbtdty++92nF7NZ3u3/wd2/i1H6pyb69eXa5v86Uq5zVcvur5qMolwmdkPvdHPEUu8c/P\n",
       "zm4u1/vHUpV7fsc6X/R6PzUDt0sY6b69KH68XCexWb7ec4+1nuWn+96t201rjn9h7O6DsTL9xHhy\n",
       "xy5hbL53VPpUhgiB5YLayq1jx6MZF/i5Yl+paU9969a/cTQdpDZmTYPpq8qS5fpet4c6EG006H42\n",
       "S9nOg1G3gYWId7JY19NW2KjXcdlTX/fhScCfpYHuM5YRx5vhjFxZsj9vGr2Nuobbpaq5vR6envWy\n",
       "Ztxe8Uy7BgEr2aSL0Tiw7e0Pemw8EdvQ1dWV8dnXX33l/I43mfaVZW57HVt+b+jrfRsFrB/L5UKV\n",
       "I+GLb67WxkdV8eT8SlmYNp2H7udv1tfG/fXNG3cRavN5B6VLu95sk4jcnRVY7XJzze/1Y3fsREQU\n",
       "CX8yjbqfbcVncez2Lf1o6rKfpG45yz36Yl5wrvXxcBJj0aC0AxFRErEeTMr8iIhoteJx+PHde/15\n",
       "Gduy1LFPHz6q32lq1tlMaQciojxiH9T1ekz+fOTnHY762F0JP92LWCcudH8UZOzfqv1elWsrttdO\n",
       "GTeIiKaW59P+TNySilh7GZrjSKD48NAah7qmd8pVhRmDaHHWZDk/z3PrS99ZMYKIGbLBbQ9XG9MP\n",
       "esp8orTWOsbQ3WapPXb7il23ph61lTseu/9otuX+xHpVlmdbnD8TcdHhdFLlPBEvZbmuf4uE2y/U\n",
       "XRUl4kNjzWDGb/UD201buHWFiKhtuL7Xm5UqF3hivj/qcyKpvd4k5GZiomliXz8oMSkRUSs+KuuZ\n",
       "5wVifk66HWY5j4EyfiAiosjdZl5gdtTDo3suWzWsK757eCciojjhdo1n4jcRttAwmDZ9Orn9Ymep\n",
       "R6LExlFktlE7uOvuk/neRer27ytrPh0LfXl+r8dw9/98d7keSt3PVgXrbKvolZ+ZbbneueeHodUm\n",
       "UepeU4osPYqFTU6evra2EDp2bt3rikTmeqlPusL0BT9j1JeKyQ+5D8qe+/N4d69+ZxC+5XqxVeW+\n",
       "/fLby7U3E+//8IF90I/3emHPYtwMl/w8P9HtoRL2qY0vROY4WRa6z2g68YxA789AzJ3ixuwnLeRq\n",
       "W9OeutYdawyD6fvsuejlPdY4Fytzg1jEIPZSwjC5/ez9R9OXaL5rYf/+4LvL2nbmGPyr3wV+xrPi\n",
       "2jjkOv1w/pO7EETUiHisnllTksvfUTITm2X8WZrqg3IsnuEr803s9AEAAAAAAAAAAAAAAAAAAHgB\n",
       "4EcfAAAAAAAAAAAAAAAAAACAF0DYzKTN6sW2umOpp5IgsQU7WejpbIx0L/b2bONxQi7St0YNNT9j\n",
       "sraSyTQYkqYyt/OdCiWljWc+z1d24K2sFGnajr7Q2obZiG3AeyUFU9tYW92H35bOJlS2qgVTYMm5\n",
       "n2en0TJuZ1L7kEi14Ok71Wi94HJE4Ux6N59f3M0oqkwvOIiUXdOkb0cdxNY335/Z4nnmbYV1p2+D\n",
       "3W55C3qQ6O+VWz5LkaotCPR2jWLesljMpXcTqbjypW6Hg0i9Ndj5ikzBy2VbmPb/XLq3bheWXBK5\n",
       "tyK2VhoIT0n9tMq5XfOZlASrFW/7LWo9JUYnUuAFVuqIRNk+e7S2rVdnJTXFYKVjDN1bS5O16UyS\n",
       "1N1Xy5W5Hf3+gVM3PD/r6R4GYXyBnuGQYpHmREujMZJpd7UyDtj+UfpwO1WmpCLWg6rR05B5GbdR\n",
       "MZf+SPwfw2omtdrVWqSmELkF+5n0M99+w2mRbmfsqxRp+GrFToiIrpacbmTs9UpVIqVALVKV/Sr1\n",
       "g+DdHdvAx8c7Va4a2acFy5mUq2I43FzpdliLNBjJwrSHSUmX41t2NwXuNA6hlW4qzd3bx3srVVNg\n",
       "55P4mavUTBsyKKm96o6fF1tpSwNylyEKzboHgVtOpnn9LOf2g72VLq5T4qfYGkcmkuPczLgkrtNM\n",
       "T8WVp9z3u2Cty23Z8Ywz4+vTgdN3hSJd1CqdSX9EwnY7PdAIEn7G0Op1P+zZp1WlHmc0Ih1CK1Ku\n",
       "nuz0uoJOxNCJMsb9XMLLVd/paaWkn57JtEu+iIcbK5VyoTjQ3ZWZOkOmvZREnkilFM2kJBBpMG52\n",
       "en8ePnFMM1mpWpYLt45FkykXRO6B7nQ2x6ssc/u4wZovRLH7vdNk+iY1JYMVW6diLDpV+lxKpl1a\n",
       "LPVUJnuRxqks3fYVL605TKikd6vNOp1EfNPPpHe72vFni8VMrC3ioGRm+lAcZGyrj0UyBVgqUuXd\n",
       "Xl27xImI6CTGw0xpByKi6sRpkapWH5PPIs6dTd8Rcz1KkUfv/cMn9SuPBccMzUGP87qK+62p9FRZ\n",
       "0u+vZ+bnU8htFEamD8pyd5t5vanLmu+qrXi/UVLEVJ0pV9aKrVgpyGPhW98k7jnHtTWmaGl67q3c\n",
       "jsXgHhNOdiq10a0vbWXqxy52+0I7ZetZ9P2p1Od9ZKQq13W2r3mcmsnyRyuRpjpK9LFIppZKRHwz\n",
       "l5ZSpuQfZ9aAthuRRlZLm0fm3CKfSZtJE9teJexrLgV0lnNstsr08aufxNijzA2JjAyEVDd6uxbC\n",
       "lu14k5QY4nQ01yaGzh2TtCLtkJam6def6XKh6HfPUipfUYPSs8dQt6+frFh4VOxwssqXBm7lXlrp\n",
       "oGOR/uxw1vVAHp8wp2Ovb3l+6CuVt1PZLXfuWNuPzLrXRyWtn+VzfGGT/cy8exBx21zMW4p0gM00\n",
       "cwyCmHPNTKGpEfP9o/BHWjo8IqIrkdLt61e/0+VCns/9ePeTKjeKI00WgR4LrFfcN9uNGDc93R5q\n",
       "kbKuaPSxOxc+o+10n12LGGTy9H6ahF3buqfZeWNNIKbOrWN26UIl3elopROMJrdcKI8SGC1/prRF\n",
       "X5t1Gka3vvR22jb72Jef8aw+DJWMfZOll41YL6FQj3nlvM+fZta4R24Lb+bIGyN8mhnjpfGlynwf\n",
       "O30AAAAAAAAAAAAAAAAAAABeAPjRBwAAAAAAAAAAAAAAAAAA4AWAH30AAAAAAAAAAAAAAAAAAABe\n",
       "APjRBwAAAAAAAAAAAAAAAAAA4AUQdsrhTUTmYevVST/EXh7gdEz1Q23lgXB1rT9vueRD87yZQ+Ra\n",
       "cQhfZx0gGQeZLe58b+C5f/cKrMOls5X7eclkHq4lD/uV2IdklR0fUHkclcPRrQOgxt5dVr83D4c7\n",
       "K4c+1q11WG3qPmgrsQ6Ri0M+vC7y9YPPRnFIWzNzMNtmwwezpbH+u2MkDuHqSl1fInH4bz/w85qZ\n",
       "A9L6QhyOPnMQcxDx88JJt5W65T5IYv2UzCTiE8Mieej8zEGRxZkPyWuUw8aJiPyE+22hHLZGRLRc\n",
       "ch+WJ/2Q7buf7i/XU2sebrpX/IF9kOgXb750ytWl2eajckbdx3d84O3NzY1a1r/8z/7V5frNmz9X\n",
       "5Vriw/U6z7ST/M93zu/E04NxXy7dPqnrzbp79iGcP2OfH6upy25jHvI4fsnPCyZdZ9tB6FiiHza3\n",
       "3ojD1sntg1LLB/nKCbBtbeplKOo+zRx493Q4XK7/dNyrckPEPmjuANhlzLq9yFeq3G7JB3V/fPfj\n",
       "5boh3b5qebDuNONbRvYTo3aaKRE99eIgxZkDQjvRnx/uPlyuf/qHP6nfIeKDJ4tWP1Ay3fB7l9f6\n",
       "Ic++OKg7W7jHQiJT52NLbqkcQutZ+tF0bt8yjqbuRZFySKNv6keknAVd277UPlTyZ8qS+7MNzXcu\n",
       "UndbBJadPO/dur23/h4Ebn0ZR9MO28atf/ahtlHKdcpn+m0QccuoD3N0Fn5/sXYfQktEFPYyFtB9\n",
       "1bniz6aJyxoEysmaRDR23BbDzBnqgxhfu5lD2euK9WXmXGeSbmcUB2b62imgROSH7GP7GZ8xilOe\n",
       "5eG5Nh5xG3nKgcVEREnKfvBcmmP8H//Td87vrK/Xxv3htXs8vN1uLtdvb7dOGSIiLxLjy8zhvq04\n",
       "4P7Dpw/GZ3/+5Ve2OBERJdYBvIky1p5OB+O+VeLz0fr/t93K7Qvt2Djx3QpYWAfQ1/JQ35m22O64\n",
       "D+Jct696YjsflDlMb/29H9z+rSNTj97dPV2up1Yfa4OAY8Kvv9Vjsylm+2hmDOxwZl/oKQfwEhFJ\n",
       "MwrF2PH7r79Vv0MR9/v//af/RxWrhV71o+5cGuGrnkvdv43i4PplyM/2PV0JChFnUKU746oUc5hK\n",
       "9y1RyH5/DPQ6nd6/4xvP7Kf10j122HOiTtEXW0cb5TDi3poIRKE7LspS0/6vtuyrbhP3HDVdmM+y\n",
       "3/ULYWiWNfTdck8Hc+zuFd3urNi4HZ6dcquV6X/7lv1iX+t6INcmrrdun01E1BKPK3EWq3K9iL+8\n",
       "mTHLj1iHl0v2l0mkrxGcC67TeWYNKBBjR1frvsAX4+FmvVHlPLE2UVXsm5tKCQ6JKE1ZD+JYr5M8\n",
       "LHya9FigE2PP/lmPyVvRRoul+bx87baHyfKXVemuVy30SPoPm0Gsp036EGDELUlkjiOhPdH9mchS\n",
       "vV7xGY1v1snz3DobWgUsKrc/Dq35wirg58WJHkuFIdvleqHPKTerq8v11Ct+sDfbvDu5nxVY/ZmR\n",
       "u+5xZOpDKOLNamZt9zSyjlWHmTWgj7wGVM3YynrJceCkzGGIiGoxXkxijnR9deUSJyKiXPjzotLj\n",
       "h+cP33NZu3tVLk64jW42etyS5fzexON2HmbiAhLrB4mv+86hEXOYXvdvvZh0dDO+eBhFPDiYbdQp\n",
       "6yVdbdbDXsP5Bc+KVaLYrYueVd9xdNcrjvm90n8TEdWF23YHMvW8adw6G8VmHeLEHRuvrHhmuXCv\n",
       "v46R+by+EWvNia7nnYj7qpmxe5C/YShzEyIiuQy32uprxVviek1K3IKdPgAAAAAAAAAAAAAAAAAA\n",
       "AC8A/OgDAAAAAAAAAAAAAAAAAADwAsCPPgAAAAAAAAAAAAAAAAAAAC8A/OgDAAAAAAAAAAAAAAAA\n",
       "AADwAsCPPgAAAAAAAAAAAAAAAAAAAC+AMA0y9cM05+u+GlS587m4XJ/uT6pcUVWX67arVblqtbpc\n",
       "714vVbmu7rh8XWl8tltO7jIUplwSxk65oe2M+zQdnXL+FBn3U+9up94qzujxddO4vzP05juHzilG\n",
       "bdUa91XbO+UizzPufd9zynmhWafQC/k6iGxxfh6xHPXuZxMRnYS+jAv9eYskuFxPnrv9iYi8gBs3\n",
       "9Lktx8ndDkREkc+6mOe6jsWLhL+T6mUdBy5fdTyrchSm/B2pY43+lcHjdqApUOWKkvUgTCtVbnd9\n",
       "fbmOQt3+Hz48XK6r0dTRNHG3hTdait67K9Y3Zvk8z/37c1UeL9cfP7ZOGSKiq5uby/WXX/21Ktd5\n",
       "7J/60ewnb3IbWGu5tCff7eOOpVmnMXDbQOCbbeQrur3epMb9ImM9DaiwxS887rnNW6X9iYg84j71\n",
       "QrcPii392GZrp1w4mv03jFynstPLUHbcZsdKr9M6XVyu09jts225fua9xYHfdbVhe8g3uUuciIgm\n",
       "4d5iP1HlsiXbRtfrfuvD+0+X68NJHw978dH5wDf7s16/KGTdi1L9fztWa9ax9Vqve7ZluUlvfso3\n",
       "PHbL8Z6IqFN00bN8mue7dXHyTX9eTm4f58em3U2522e+v7s37hf+xikXBNx+E5nPHia3jSdLsy27\n",
       "wa0Hw2A0IkEjAAAgAElEQVT51YXbH/uF9Z7JbStNabbRIG6nXvef5ZnjolEP9ahv+IHPiydVbnvN\n",
       "9Q8S3Qb6kX2uT1z3yR2+fUaUzyM9zqCedbZr9LrTxLbcNqUqVnVcj7rhckeh7gtCEV8OWgBHRF7E\n",
       "9QhjfYyfROA4DnpHjcRllW1MRNT37nKcKtM+3989Kw/nzlmtF24ZIlpueKy4uf1ClXv7asfPs3xV\n",
       "+fjB+R0Z+xMRUeZ2Sru1adMLMbeQHM+mPQ1KPDIFoXE/+u62HMlU4H5g/UuXbj/z+Xncv+/uPqpy\n",
       "RcV26EfuugfxlXHf9W69aiyD35dc9vqs2003cmw2xqkqt2lYF71uJoa7Zn0py4MqZzgHUSc/1J3G\n",
       "799+c7k+Hh5VuX/7DzwmfLzfq3Knjtvs1Otjd7bluq92rOdff/Faf/aen3f/Xi9rL9xO0ehlqGv2\n",
       "ae2k+4zA488WqannXee2Bz8wde9Yu8elyZo3hql7nNutzfgyCd3zjL635nZijD5F7jjjeDbjhaZ2\n",
       "t1lVmzoaZe6yxrHZJlOnxC1k+oh8tXXKLZemLw1EmwWBPiZECffV6OtjrZxjpqTL3b5+e7meGzdl\n",
       "32wNP6vHm0/PPHf6+P5OlStrLmxR6DrbiLWPq6sbVe72hm1PhuRBose8YczzLWMObjHJppwJXPqW\n",
       "61H1+vx8FPoXTmZsoYUGgxUb23HgRU6sT0UUOmWIiJKE7XpO9wZRp8LSFc3Vh9Zyy2jb8s/YVtwr\n",
       "84LGqnuduF88hFYcJNZiwkFvi0nMbY93+trOv/zA43VEbr/lT6ZtxL77vcul2UjXK3ec1XpW3Wse\n",
       "Lw6VHsuWYn6eRvrY/fYV+wJvRrenhuOWTPGXREQkVCkWc6RwpZfhh/c/8fX+vSo3CD16tdPX6lLR\n",
       "lk2r+8HqxPoiw8Eo1P1bKnxiMDOPehZrRcVRH7uLmuvUzkzMerHWOVn9NNmLzz/Ttebfy7M7lrXt\n",
       "P1bWwsfR/HutjK9hwH+PIrOf7HX3X/DtsVaZdweeFWdMStwy+Jacew7nWfYZhtwWPz3rsdnQijWD\n",
       "UddFGvl5baPr4vnMsfbTkx4b333kMv3+a/d4iJ0+AAAAAAAAAAAAAAAAAAAALwD86AMAAAAAAAAA\n",
       "AAAAAAAAAPACCANP39aYJrxNL9jpOV36irfEP+31LfFyu1erpJggIjrvOa3UOPOzVC62oPtWPZQs\n",
       "a1Rbaeqq3r0F0rO2Pwc7dzt1oZXuYXRv0WoacxumTL9xLtzb4JrGbKO6Urbs2mk+lHRRnZUKJcrc\n",
       "jWs/rzqJdGzjTDoVscW+J30raLAS6eJmtkoGEcv9qo4GItWF+Gumq7axT3ps9TIsAt52mif6tlWZ\n",
       "QuGsbGskIgpFqqFW7DNvzjP1E+3gzaSVKgve9jcGevu/fsvttVq603UREb1+zSkoir25rbkq3Fuo\n",
       "Q8se2totl+VWWkRFr16J1C+Ph6NThojok0gD8+P7W1Xu+jVv7b26eWt81tfutG1vbk27O+3dKSxS\n",
       "K9VjMyrpBa00i57n7ivf2h8ciRRAcaynLlyIjAVBq9trGPIzOs/9vL41/WMXu20gz820OaPYil+d\n",
       "dXuIhB5c+TtVTqaVXK10O7zdceqMm9ydRoOIKBDpSl5tOQ1OO+gp097fv7tcN2d9K+40cZutNrp9\n",
       "ffmaUx7lkb5l919+YN3ORCqPv/jD1+p3DsIfLWdS1q1FGq4onxlsPR6L5saAWKTeKyqz3999fGeL\n",
       "ExHR+WTqWJy500ncvDHTInm+orNWuogod/fB9q2pH2njTvO5WHKdbJusCrfPaKxUar3StJOVRqpU\n",
       "UrBlmVnWRinr6WTqUVtzeZuZdA9NyXrvKykniIi6jtu2nknV5Is0XVdLd0otIqJlwvWYOu73ptB1\n",
       "0ZPpZn3dF5QiLczxpKdTKWu25eOMrzqLlAyVSIU2l/4kEDHXcqOn9Woa4Xe0cYPM1A1lqcfQMq2n\n",
       "b43J27Xbz45k1uN8dqcy+b7mv5eVnu7k7tO1+pnkq1tuF89KibpYu5/hD6bu+Yq6+LnZ5vHqyimX\n",
       "WHo0hm4beLZSuFaFO8WhneIk8NiHjJozIDP10BTpdjOJeLhV5nDHvalHT0r89O6jmcbv7pn7dLDT\n",
       "6Al8kRam/eFelUseuXzXaz2Ny82Xby7X21T3QX7LNpqKdHhNreuiLxTk7/7V36hyd8L+H+//L1Vu\n",
       "EumZbq/1VG03X3G8HiYiVUup+6NBzBW3G92G0lToQKen2vxUcMqPfibF5zrnvtmuzDFzlbn77enB\n",
       "1B17nvsL0dq0hzh3pyvabU3flMXu1CiHgzXOCX9wUPznMjPjoEXujovGo2knvpLa63pn+pJBSRUW\n",
       "WPPuqlLS3IZmTLnesO5sVvr6S5qwXNfp9loUbFPLte5bBpG+s1dSxRMRyaUO6Y8CzRkTURpzWRep\n",
       "nhpUhnCekrqTiKirWQ9aJU0+EZHMvCfTscrUvb8qg0in1ClrNEREk2hzbyadsydy7cYz625LMfZk\n",
       "VmzhKen2xsn8exa420ymgZpJBEiBTBmqpEgiIjqL9Ny1lVKuq93z2sjyEXE6ky9aUDRuu/FD83lX\n",
       "1+44awhMH9YIu57J0Esy63s7Y1+dSHGWKLqdWP1ip+L6BTvjnZYeOrTS7EfCFyyU4xuIiFaizbuZ\n",
       "VMqFmJv1lV73eMfvff3qjSqXCr2S6yOnmXSHd8IejoM+foUiBdhceuimYD163OvHkZCYO8VijWC7\n",
       "1tcVIqFTzaT7jJNI9TzOpPWS7V/PzAtGseZrz0eCSfE11jw+CNxGEFvp9DNlHdRe+54Gt99IRIq0\n",
       "jZXS1F4//IXKSrs9KfaQp6aNx8rz1lYssE3d46GdkrsS62HXuZ5OtPJYT4uZeXIjYtmu1fVFjqmL\n",
       "VHdWSxHTrGK3D8JOHwAAAAAAAAAAAAAAAAAAgBcAfvQBAAAAAAAAAAAAAAAAAAB4AeBHHwAAAAAA\n",
       "AAAAAAAAAAAAgBcAfvQBAAAAAAAAAAAAAAAAAAB4AeBHHwAAAAAAAAAAAAAAAAAAgBdA+P0PP6of\n",
       "Zkl+uY6jXJUbhvFy3dSDLjfyb0y+l6py5+p8uT487VU5/2p9uV4tzed1nbsccbI07qu6cctFkXGf\n",
       "RFun3DBV5h+C0CnX97VVvu5yXVe1LU5ERG03GfdF7ZYjLzBus6W7bf14NO6T2C23zMy+Huv+ct03\n",
       "oy1+IfBjvgk9VW53u+DvhO72IiKaxCOmPlDlvJTrkXn8vMTTdXGMVpfrfopVuTBinV0sMlWuIH5v\n",
       "2Oh1z2PW2aeS9bwolb4lsz/jTC+rP3IZ+qpT5c7Pp8v18pVep+vNhm8su25qtx6Mo6mzw+SWS6x6\n",
       "VELHjOdF3JZeEjlliIjuz4fLdf7hn1W5fPvn/Dxam59la1uciIjW326M+yhcOOU+PD6a90/3TrnW\n",
       "Pxr3JbVOuWCw+rDntmiHE2lMxHJxqutinAqdHdy//3edWbaiLtzPik07DnO213ihl2HVs24Hg7v9\n",
       "iYgaoc+T0l5ERNVYXq7bWH/eJNT5vuA6VUr9iIhOYqxoikqVyxPW7SEqVTnP50JMie5Xv/rz15fr\n",
       "JGXfHIa6L7j/9MQ3waTKRTF/VvZnVa44c32jpd6uT/c8Xj8dzba8ezrY4p/fezbbaFG5fdKr6xvj\n",
       "Ps3dY0dRm/XIUnc7ra9vjfteCTU8n3UvSc13jqHbzwa92Z/ZZuOUi6w443g8OuVGa3iIE6cYeUfT\n",
       "T/se294w6HqQZdzmcag8nMxYr595Xhzw8/J4pcqlCb+r7kWcoZsDTR33wTRThvuH58v14aTbddNy\n",
       "m9Wd/uKjeEYo4pYw1P93yvf5s9yKPSUBsb8cOn3sHgYuaxi6x0wioknEhLIMRERe6I6lQmvsDnO3\n",
       "HiQBPy+M9Pghyrjfp1CfP4xiPA0Sc2zdHz85v7NZXJnPCNx90Iam7p1Gd8zbWwblx26f0XSmfaY3\n",
       "7lggTs33yH57KPRYr2y5T+PMPecgInr/xLFG3bvnMPefPhr3z4oNHEvz+62ww2gm5mo91pdg0m0g\n",
       "8Lktoly3gU78D+Jy4W5XIiJfvHchdNsf9LigLnhM+OLNW1Xuv/vr/4LLWutzjn+8Y70sAn3cXK64\n",
       "/U6l6LNC9zM+sc6Oox47jYMYk2fscLNiPQpI95epaMt1asXGypiQf2HKHRp3vNNFZluWndsG7h8e\n",
       "zDIpvupcmHY4+lyv1HfrTmjN32421045Gs0x/nhw928cmrbRT26/vbTipZvXytrHYPpzf+T7sXXb\n",
       "OBFRLOo+Ku1FRJRM3C5ZqK+/kJjzPiprE0RETcv2Vsi4xdN9wTiy3q/Xui/wRNuenvTxMA1YLpx0\n",
       "W5mEXx3FnNQn/TveIJ7t636QRDuEnm7XieinRaw/73rF9r9emONQELvtd/Kt+bniC7uO9aNu9Hbt\n",
       "Rznf0tdopLZNk1m2qnLrbGeFLWHkbgsvMHVZ6ptBa9a908JNz6yHL+6LmfmcXLrz+pm5rPDBqa+0\n",
       "mWXjReX2Lc9PZtsN441T7ldrdSO3RUczuiiKZ8eHkizhPkhyPYabfCmn+yAS9nEWfvW5dM8NiYg2\n",
       "K27XcdLjglHEzdnMHKYTk4v+rPe7J9ZfwxX3ezLjC3KxZr7Kd6rcueIyHHzdx4YTj6f+zB4NX8xB\n",
       "7DllSO7y2ks+kecuR5qabZlnbj0YB9MO48Gtf6mIKW/W5tiYJe5+O57Nwtrv+oXE6nc5Pki2mTkf\n",
       "v1m5Y4HBWoMrRazXP7nnJkREecQGtt7qdtOsxZy31+dzgWjKfGbskPPp62v3/AE7fQAAAAAAAAAA\n",
       "AAAAAAAAAF4A+NEHAAAAAAAAAAAAAAAAAADgBYAffQAAAAAAAAAAAAAAAAAAAF4A+NEHAAAAAAAA\n",
       "AAAAAAAAAADgBRD+43f6oeeROLDq1as3qlwuDl+NU/1AyVQcnBYohysTEYXiGZ6vH/BV1+LQyMk8\n",
       "5K1v3AfeXa2/NO7b3n0g1NiZB7Y93LsPQV1szMOXtAP/PM8+AI7LF/nKwWdWE4W9coCTdXhjpxxy\n",
       "ZR8Q3I3ug/zsg91iecitfo4dBQkfDukn+mFuoTgwrKn0A5ZL0Yddqx8mmEx8UFYmDg9eBXoZPHHg\n",
       "+2OnH7Y+NqItff2grVicirYIdRtYL/hwt7bmxixL/dC9YOC6pzMHcK5S7s+W9DqVJz6MrMn0wzRT\n",
       "cQBvX5sH3p2VAz73j0/GvTzwWrKwDuptlEPfDuKAxWTm4E9x5h71g344X9Vyu/z47ifjsy9u3Icl\n",
       "fvPW9BmvXn/hlPP/3/9g3H/auw9lr0dTj8rGrVdxatp7Kg6X9kK3jRMRtfIQTv3cXoo9Ya/KAaRZ\n",
       "Yjoh7RA/ikzHMIqT56IZO1z0ogyDbuNRwJ/1vn6obbjgNju0um/xB/Zpnx7kGKPboTxIdIz1gyKj\n",
       "JbfZOZg5bJ34s3I8qXLJgtu88lmumzn4byUOSHx61g8cPBTcRvWMH2zEOHm7vlLljs/sWx4fzLH7\n",
       "1Lh9xs3Na+N+k7pPYs1C0/4Xvlu5g8j8uz+4B632bNY3it2HhD4+sU/LJ+tg3cD97NAa04PAHe+E\n",
       "1mHQxb3bd0WWbfTK4e2NdZB2Ig52DAPdvrIsE3J6bNaIw39HXV2oE9WoDvoB6zJsa8XhpmOtH1Y5\n",
       "tdy/Tak/+3TiQhTFzIHUYuyJ4pnDaoUzlePXOOgHIsuDq6uZw4Ll4atpoo9zTcPP8D297oE47HO0\n",
       "XFrTuHUnsw4I3VqHrP5CYpRVb69O2N133/2kyv3Tf/rj5XoRm7Fn5Llt/Ms3r2bvf+H3C9O3NI17\n",
       "LDqezL5Zrtz6l6Xm4bzn3m0Ed9Z8Yei5HqXS/kRE55J9epjrBvbTHX92/eqtUybJTL28Sd169c3G\n",
       "9LePj8+XayP+tShEHLm90ceEN1/y3PF6PTPvizkWeHjUx6xrQ0dYx4Zat4dFzv5tf/+syr2O2Uf+\n",
       "j//Nf63K/fGOx4T/6X/7n1W5p7v7y/Wx4fHQJ91ntKIe+0d3DElEdCq4/adQn5itRdwcBvr/eZZi\n",
       "PDzcm/HIkLpjjTEw9eOsHCDf56Y9nQt3bBbYAWvunkvVnenPR1/U/+we52rPtPE+dvuW3IozaOl+\n",
       "3mpl2s3Rd8eEN9embaxv3HbYFGabl6fHy/XhfG+LMx77tGvlQGoioiBjfx5H+jyyHLhtT5Eeu/di\n",
       "kG9rMafUw1KaiJ8XRno8Egs73C71WHuo+WXTzGQnFOstsXjvzDIULcRp92Got8Ow5Xb99ToPcwrZ\n",
       "vtJAr5M8qDux1mIixXxjy746ZR2qE2tARamXtepE0DBzcL2MW+yRojgr8Y59uLq2ZmbF0JNyIH1r\n",
       "rU0UZ/f4WhWmb8pF//qevmYziJgrsxflBFnEz4g8d0cF1rpYah0ofylrZ/rHfnLPSyfLn8cZly/8\n",
       "VY8wssnnDpCPxPrNduWeHxER9UIxT40+l+1FMHoi7qfzoMfni5x91c2ol8Hv+dlzcxhKWe99d9hI\n",
       "RERiCYN2a+4nJSQlIqK2EWVIdMHY4w6ItfVfMueRqa+P3WEmfJW1ZuOP7uf31ti9WLjbLI7Nv8u5\n",
       "oqS14i+/dfepDFUSywWlypw+2ZpjbTi56xSHpl+V44MkqM26Dyd3WYPQbPNcrJn94da9DkhENIqh\n",
       "rQ10PWhGbrO212PCqRXzgmFmnJuEbo9u+8dOHwAAAAAAAAAAAAAAAAAAgBcAfvQBAAAAAAAAAAAA\n",
       "AAAAAAB4AYR/+1d/o354d3d3uR4afet8ut5eruOZ7cCLFW9rHpWtR0REacDbnKpa3wabBpxaYqjN\n",
       "369Oj+6tpXFnbpMsnt1yfWulfoncW6pe+2bqp83WvW06Xpj17T3evjlp27qsHZ2v37q3hQ9WepFe\n",
       "abL12kzFoexap6420/IEHb83T7a2+IUk5bqPM1vaBpFO5emkp+8rxLbTQNmiSEQ0irRB7cjvHZZ6\n",
       "6pFa5KYZWn076vnE/VSc9W3OaSre5ellPZdc31jsbYxTvb3qgbfB5oNuD4nH2zD9Sd+y21Zsy+8+\n",
       "6Wk0vnz19eV68s0tnX37aIsTkZl+hoioU9Kp2FtEk9itjP2e0wb4jb79cX3FW+zbUE+j88M7kUrG\n",
       "2gbb9+5UGl5ktuUXX37tlPvqd6Yv+HD/3inX3X8w7qfWvR29LqzUkXLrtpKKioior0X6kknf5tyS\n",
       "SLfpuf3W6JvbXofQ3e/5K9MvBGIL//lR77ew5vINR90Gbnz2QUdlay8RUdtxm/m5/rxcpM6rE9ax\n",
       "KtG3mZ8jlkt7vV2fvP3leuj1FHPS/kdfHw+fhc/wjZR8uj86T/zexa07XRoRUSi2y3tKWgQiokRs\n",
       "y19s9OcdHzhmONV3xmc3W/fYcb00ddnr3G1xuj8b9+nOnVKoOFj2r6TYmzwzzY/v791yYsv5+Wzq\n",
       "R9W6x6+iMf9+vd055Ra5mVKy69w+KLJSzuRLtw2st+b4INMizgxLlK64f+vB3Q5ERLXP5avO7joR\n",
       "EfViC7rf6CkTEzFeJ72IDzvdvvYihWChpAkiIqoqHpP9aMYGRKqlYCaVyatXnDpHps1r5rblT6zL\n",
       "c/9hVbcibZ6SapOIyBPjZL7S08C1IrWCN5h2raXBqTorDhqVGNpIbekeD4iIvAdWODtlsESmPmtb\n",
       "c57Rnd3+eL0006JsV+7UrH/xZ2b5/vD7P3PKfWGlh6vO7j44n8x46Vi4U7A9fDLTMUk99WZSbDVi\n",
       "/GpGPYY7ndkGvvjW7YPsKVagpAB745tj/6lgfTFSaFtsd+zP05WeHieUaQNnUpm0Fdd3s9LTxZUn\n",
       "bts+4HatWj0V2puc9eU2159d7Nn3ba5mUjD9GacNLE5/pcr903t+7//yv/4fl+tmJu3rqRbptUp9\n",
       "blKLeHi51uPBE7FNnWbeOwo/0TyZdjMpKVJXidnvWpa5JDV9ZDS4y7G2UgidPrr7tDibsYBMQfM8\n",
       "KinmMtOmm4/uso7WeFUrNp7lZvxwdeVOh9nG5vOC1N1INwvTB/3wwH1/0lWbbq9Yx+KZ+XkrUqGW\n",
       "Z30950GkahuUlFpERIMn0g4LnR3tfKKCSPi+Raw/+2rHz+4SPRXdWqw5NErcSEQUibleKFP2eDOp\n",
       "rUR8vcz1MiRioSaZSTG3FnM2O62vJBYxm5Xhmxa52yelVtqwZnK3xZRy3ZeZHu8XFetAN+pyjThK\n",
       "wM5sJ1MNSVrrz54SZ6RWqqY3C3cfVFYqtWhwj692NWR6/UU/s24Zcr9FM0F0mnJ5Nwt3bDZZaew7\n",
       "RWdzKxWrlkZ2snKNBSKVupYCi4jIG7num7U+di/XHDcHM2naDyU7qLrT11+KiushS36l6DURUSDm\n",
       "X0M+s54hnr3JZ+ou9GWb6ekwJ6G/Mm3jpOg1EVFRcvzwq3mo4F6sWfpKKmEiotciPfFcGj6Zsrm1\n",
       "0qj75Lbf1OrPOHCvl65yc+60zJS1osjsm6WSElOuV0/WXKdW5lIbK430UlmD6K3UZ+XktpvBN9cb\n",
       "H5WjADyr6XJx9MySdLtZpewz8oWexnScuL51q+tLKeaHc2ngWpHisFeOzMBOHwAAAAAAAAAAAAAA\n",
       "AAAAgBcAfvQBAAAAAAAAAAAAAAAAAAB4AeBHHwAAAAAAAAAAAAAAAAAAgBcAfvQBAAAAAAAAAAAA\n",
       "AAAAAAB4AeBHHwAAAAAAAAAAAAAAAAAAgBdAmG9eqx/Gp/FyHQWhKrda3lyu/Ul/WV2Xl+vAj1W5\n",
       "q8X15bpN9N+l4ji9XPf1aHxWUeX8TnOujfuy6Jxy3WBWZKwGd1mt94ZB5JSL0qX1B74MssT5Hd8P\n",
       "jPskyZxyw2CWLU3cfbXbmt9PIs8pd348G/eHT3y/P390foeIiGLRV4n72URExw+f3N+xSFdc3qkf\n",
       "Vblzx30diP4coq36HV80kb9bqnIU8Hu7zq0DRETxivU5yxaqXN31l+tzyfYQbtw6QERU3beX63/+\n",
       "/kdVLs1Yqa5e6XVKhE31U6vKfXz66XLtJ6Yu7jY753fG1rSbOHDb+TJeGfdN5y7HIuB6JFHqlCEi\n",
       "6s7cT02zV+VOHrd/Ept1qvuT8zvtYNpDO7p9y+tXXxj3//pf/6X7ef/wYNxXtbu842j6KhLqF3q6\n",
       "ffk+929VuctKRFRWXK9gcutLkln9mbp9kDea+jsSf28QOm8ThlzWfKP3bz6ybveDrrPHgdusrRtV\n",
       "7iSapW5Zd8ZJH+f8Seisp/ujgFiv8oXug/qey7rM3eMGEdGhLS7Xaczt37a6Pypbrns4014rUb5x\n",
       "0n3x+ci28f6nD6pc23KdrvO18dkXr67cZUhNue/+43dOuY5MX5IqMcT+6dm4f/2NO8ZZrE2dv394\n",
       "dMo1Qo8Sz9SP9VZ59mjWyZ/cgdHQmXqUKva1mMy/d6NbT0fLjPMl6+w04zP6kXXpVOp61Zasp5Hv\n",
       "jp2IiEJhA95MTDj1/KEcArpK/9Lp1DmvbTwxdse+btdxwr4rjHU79HtuvyDg+gWT7gsmYVPepLer\n",
       "fJ4dzxmIfpqTk59NZLalpgWepR/n89kp13U8Xs2W9Tf+T9kgdMB+XtgHtvjP3zHvzyf3OFeKGIuI\n",
       "6P17d/yUWzG4rxS9Ksw2+fhw75RrW9PneiHXYxx1fSFf9MGMvcYx+7790R0/JJ7Zdn7ktoHicDDu\n",
       "v/jq7eV6e3Nti1/48ssvL9d5oo/dmzy/XC8Wun31JY8x06TLyeC9aXhsvL65Vb9yOnAbrTPdZ+yu\n",
       "NpfrHx/0uU56zXL/w7/5N6pc/O/+3eX6u3/80+X6/cFtW0REveimb/76a1XOD8X45+n+bSTWt2Nx\n",
       "VOV++p7j/b6w7Gl0G0S6y417bS5bWrGY77t1uyjNmDdfuudSfW86gChifdmkuS1ORERxYI6hkzLn\n",
       "OD2abdQoMfRQm3UNRiXetP7ut6VT7A9/+L1x/82br/im1WPoQbTF6VSocpXwkXVRq3KHip/ha46Q\n",
       "iPyAP1tG3E+TEusQEQXieYtYnyfnwmeku5Uqdz7xM2wdk2getx/07/gTt+tY6nIBcVm3K91frhas\n",
       "812rt9Ewsn+KYjPGzVK3fYXWWs7QuHU7EPFNNDOf9oWP7TW9JiJP6kBmtvIqcet50Zi6p8VFoRWp\n",
       "TIFbF5PUWifL3PXaxGbb5WKtbqj0MSHw+L3+XAwt7LBsFPuyqlrXbjk7DspXbp9mT0Mn4SfSzD2X\n",
       "ICLabnned32t6+wk/PThpK+ryPlhW+o+aBJraGHIOhYq4wERUSTaP4jc7UBENIq1pjD4besjc3MT\n",
       "GaZJe5jzb5OIeT3PHbsSETUi3q9qfX4+9mx7sh1s4ozbxcvNfvcV7+db9uV77vl0llg+KHb7oMBa\n",
       "n14pdijtpOtMu9NiY3sdMfS1+NC0myhyl9We62hdOg1WecSafGKv6cvvCX1uuzl94c/6Yca3iGfM\n",
       "rfs0nZwfut+LnT4AAAAAAAAAAAAAAAAAAAAvAPzoAwAAAAAAAAAAAAAAAAAA8ALAjz4AAAAAAAAA\n",
       "AAAAAAAAAAAvAPzoAwAAAAAAAAAAAAAAAAAA8ALAjz4AAAAAAAAAAAAAAAAAAAAvgPDf//t/VD88\n",
       "Ho+X6zevblW5NBou18E0qnI/ff/+cp2EgSp3dbW9XOcLT5WLvelyHY6T8Vk2TLY4ERG1bWXce51b\n",
       "bhpj475oCqfc3ftPxv3uZumUW2/N5/VZcrkOxsj5naE3f5MbBqcYTdZvd2nv7gOv7qznuX/zGwbz\n",
       "+714fuN1tjh/NtaX67ZtVbk4Di/Xm6uVKrfeibbslMoTUR03XNaay/6pfVa/M4pqTL6uY/kqv1wH\n",
       "lKpyTcB6FKRunSIiGoQaeCH3ex5m+nc6bsvDaa/KZcTPiEK9rNPYX67bSe/Px+PT5frVq1fGZ0EQ\n",
       "2uJERLRZmv15u7lxyq2ztXH/8f7BKVccuW+9wW0nRETHM/sqL9N1b7Xj/qTQ1KmPT+/JRdEdjPvF\n",
       "2t22Vzuz7r7n1oNvv/zKuH/eu+v1+Gj6lqpg+xoHXWcXS67jNDWq3POTqJeiBoPlH7PM7VvawipP\n",
       "yBIpg08AACAASURBVHJzvsCb+HtToP8Pwm57dbkOFJ9NRNTs+V3dzHuLktulG3gsmjq3XhMRUcz9\n",
       "NKSVLhfw87xA19nY535aLzaqXBqxrSyX7BPn2vWHj+8u1z3p7dV7bAOn6qzKHYXfqU7usZCI6GrN\n",
       "ZX39yrT9Xar072jqaDq5ddv3zO+PjVtpg8CMLcbRPXYcz+b4cCpKp9zHT+ybxtHU/1e3O+d3dpvc\n",
       "uA8Dd52mwerD0S3XnUx900xg6MzvlwW30eFc2+IX9nv2n02ly3mTjLkOupwYi8ZUH9s6EbdVNbdF\n",
       "X8zYeMt6MHr6OBeIcd2fiTfDkJ9n646kn1huEDblebov9n3+Ttf1v0kuDHUfJPVvmClrLJ4xWboX\n",
       "eErc15t2aOv6L8zVV9L3XN+u0+MMmvT297R+s+p0bo9OserTybh/Pt65izBZ41zi1itbrhnc9ao7\n",
       "y65Fm9Wdbl+y/m2ty12teLw4Hh6dMn/5xTfGfRq55yb10Yop22u+9nU73C4Xl+vlMlfl8lzE0KE+\n",
       "PxwSDo67XteXrmd/vsw55uon3b62O44fND9PRBSLmHyzmIn3Sx4D/UQf4//7v/u7y/Uk5l//+x/1\n",
       "eXcjYmvvSm+vzY7H16LW50dHMXYEd7rP+OjJcc70QWPntvkf35tjaJLETrkoMuuxXbvHhNQaKxa5\n",
       "W2fTODHlFvy95uSOzabebCMtfshDs66rtbsM9pg+Ve73ttYwWStrE/exGe97AbdZc9Tj+KphPxFF\n",
       "7vb/XED2s97MfPOrV2wrg7boQOa8WY5Zga/bg8SbdN8ix5jY0+16nYk5dKKPm51o86bhtmwn/Tu+\n",
       "WPcIZsa8nkSbK3EeEdEo58zKuPH5Izl3Mut+OrvbzLPmmlocE/hchnimrJ6oUqiMG0REacZ65JGp\n",
       "e82NW3fuH94Z912jzGOsdSif3Ho1WvMFLX6KIvPvvtCJZLW2xS/0LffV1Os6K/+HvldsfLR8kDY/\n",
       "zLOFcZ/47pjNjkdC0b9prI9fWaLbv0TaSl3qPigR7x1D3QfJNdtA1H0upow8fnYyM9bKmLfs9Dmq\n",
       "ZBr08VXD93SfEf0210cboSuprz8v+61tJF5s678W75Nn1d1zF36aTJ2NlOfJ2Onz/cIpJ3XWnhcM\n",
       "ozKnt+KRTFnf7K25vpdodbfX1t2+arDiXzlPO5R6HEkl+21t7k9EFMVy7qPLhaK+qdJPRMYSlaov\n",
       "2OkDAAAAAAAAAAAAAAAAAADwAsCPPgAAAAAAAAAAAAAAAAAAAC+A8N13H9UPZXqHsNW3FPUn3hrV\n",
       "NXram093vK3zerdV5bYilY8/815PbKFMra1MrzL39sWuN7eJxcr23rOVimNQdhgfD0/m/UlJ02Nt\n",
       "Z688sf1QSS82TuY2SX90lzVLzNQKfu/ug6o2t2c2J/e22vPR3GInd63LFCc2g5HWSN+ymOYiDdnc\n",
       "dnSR0k3bUkhE5Ik0DE8db7n79PTkEiciolJsiV8uElVuNXD6iGAmVZPcJpq3+ra/NOW+isRW1Whm\n",
       "2+qrL+UWan1buN+zHvXtXHoc1oMp1dM9lCW3/8OzuV322nPbr0w/RUS027rl0sBs88h3l2MQ2z/H\n",
       "uTQ6E7dfX+ttNAkbWq/MsvqJO0VJZ9nTDz9973621ebrzO0LdjszJVSopLOyt1M/P3Mal2nGDtcr\n",
       "1pfA0/v3dOCUOEnornsYWNteW/fzDk9WaiChp1Wp90cvfN84s731WHBanmbSU06MB07n45NedxK6\n",
       "HQndaWd2hY8iFdVpfVLlErGtvjnr4+Fyzb7luddTq03Eg89pz7lC2k7fbp9GXAaZNsvm0HB6lsNR\n",
       "T4dZi7SosZ7Jh7IV92G6NPuzVbbcH59Nf7naubeFh76ZPjFWUhSsX5k+p53caZIOpTU+hEqqhQU/\n",
       "ry5MXX7+5H728cGs66/s6GfS2HzneulOdzqU5vd7xReerZQ1tUjF9/yk6+z5kT9LZ1KmLUSbJ5lu\n",
       "rwlxHwaDuz+JiOqSbeooxpjyrKddkNlA/JkxOYrYR04zaapkRj0tFeDnz0RqtZm0NxK5xX4uPUMg\n",
       "Ulv6SioPGzu1h2Qw0r1YaVKU57eVlcZBadqZ11py/LzfmhLOLlt1dvvFuDefN5I7QA9iMw6dIrfP\n",
       "LArLT8daLmUrLUTvlitLs9y1SFeW5nq8GYr6963u3z2hp70yDuyfzHRRsZLq4ub22rhfrdhew5mU\n",
       "SY2Y6+UzdeoHLt/t6zeq3NMdG/Y0kw5wteb54WrB5Xv6+JP6nd01p+8JIz1dlBg2jVTRNmEjUswp\n",
       "sSsR0fff/3i5/m9FqrevvvlW/c7/+Y+c+u2H7oMq54l4JJiJdWRa4NNBHwMmmWp3Mp/XNu42Gz1z\n",
       "/rZ/dsc76405pgy9W6+WC3Ps1vzGamWO/dstx/LLa7cuPt9bc/XO3Rarpfn9a5EaUGKP3bafvZTt\n",
       "2qxTpsTadWPGQbWYr29ydxpZIqIo4P4dZlL5JjnbdZbqY7JXCTuccfYyk79Mn5okui+QKYC09KFE\n",
       "ZtqfptZTmidikEpm0iRJ3R7EPG+YOY7AqPuot8NJpFasa91nTyKVep7q6x6ZWAsYrDRwnhrHWOnd\n",
       "tPUSWY+ZNRWZUiukmfREol1Da81H04Po+gvjvircY3xv+ZxJmSfbqc6VDMmGvyQiGkXqsrmgJhf6\n",
       "Ei50HZNpDSMleLLtSUt7a8t5yv/nR1Yqr3zBdh2nuh0ezxxrPxz0eZ9ZCF0PSpHqai6VryfWI0RW\n",
       "ZQpmxtBEpNrdLGdSDaYs1z7pZTDieCVu/CzHnw0ird80k0ZW+pM5/ybTtqWZrlNy2dibWcuR2GNm\n",
       "qLStnQKyV8Yvuz89JXVhZq3lJsrarizfYMlo401npa8Nf+McKVbmh781qd9ojQ+D6NNOSUVHRDSK\n",
       "eN+fWddKRKq2ZJr5rcPoU73uMkWcNgZgpw8AAAAAAAAAAAAAAAAAAMALAD/6AAAAAAAAAAAAAAAA\n",
       "AAAAvADwow8AAAAAAAAAAAAAAAAAAMALAD/6AAAAAAAAAAAAAAAAAAAAvADCP7t5rX4oD3oaZw46\n",
       "88RBT4Vy8CoRUZ7yqVRpph8yFogDeDfLV6rc2PEBhplnHvS0vHIfRjxYB1RulEPf97V5EHPkuw+h\n",
       "7hPzYLEkVQ5PCszDvyJxdlegHPrWWWdEN5X7kMBmNN8ZbNxlqK0DuarWfehm2ZkHf5eVOOBz1A8d\n",
       "iwPu00Q5ZJuIqBYHBkczB6l5Nb+3mzkHuOu5vscjN1o9cxBrJA5b3+Tuw7OJiE57PuyzbfUD0eOY\n",
       "DySzDyCUtDH3oTzoMI51e7i64kM8b77YqnLnT6yjVamXtRKHD4ek9yf1fCjg/s7UPT86Or+yTE17\n",
       "uH96dMo1lVm+pyf3YYKFsEOP9MOze3FI49DpdTrvuR5BYtrd6trtMxa5qcue7z6g7u6jWYdPrVYn\n",
       "8wDZ29sbp9xqZfZ1FLKOPD/rhy/24tDB21vdf15fic8a98GurXUwaVG6D7893Ju+5FCyfnTKQdNE\n",
       "RGtx+GLsu/0REdEPnjgYL9QPvKvFwXur1UaVCzbclqno32nm/yB8cXj2ttF1TB7y/qsDwgXnMx9+\n",
       "KQ+NtAnFYeRX4kDq5cp9IDAR0SCHq3rGbgZ+73ap+8Fxxf20WOrtH/j8vDE26655pN46yNIblENQ\n",
       "rYMJp9DdV91gtuWzclDp5Jvt0rbuQaYRMUJdmLrcVLUtTkREcWSWLQndY9GpN+OlMnM/b5GZvslu\n",
       "i0t5BvM9vTj8dr3SD2/e+KJ/ST9kWHQvVf7MIajCPkr3UPH5GUJFqpKf17b6IZnCvMhP9MDA89gP\n",
       "ztmXPCRz7vBVeciotPHfSqjoKxFREMyMwxLRv4M300bi2j4cVSu7jGGIiMLQXSbjINaZdpDnxGrP\n",
       "sp/R92Y/JbniawKzTpPn7l/7DFuttAOZdpeka6ecfaD9oMSEsW/qpSxtOnPgOIkYPZ05rHazYN+f\n",
       "KOPh7/7wrXHvh267fvvNW+P+zdd8v9np8ebpxIbtRzOH1Wb83v2zOx4kIspzrlM06fHw3fvvL9ff\n",
       "/8DP+/aLW/U7+wMPiG2hO6TFkvtms3DHg5/luF3u3t+pcjdLjkGmTsRlaz02+c9/92eX6+P37vGA\n",
       "iOj9u6fL9eDpPvv4yGPM/v6gyrU16/LQmL6lVmKIojbtsFdive3SHHuuNu649JsvTZ1NE7cNTJP5\n",
       "nkBY2CJ2zz2ntVnWqFfssDPHgM3S3VeL3NQP33fbwHZnfb93H6w9dGYbp+JQdj/RfcbHh/vL9d39\n",
       "J1XueOY2i1P3egYR0U74vmWux5hyfUjOjatKj3n7iP2nfeC4pBEHYYeK3yIi8sVB3XMHnYvpIQXK\n",
       "4d6/LgP3x9zh9HHCde8Hfd7dC73ySH+e1KMg/G2Ht9tjfKToojzC3FdiSCKiRCxQhdHM2p+YE9Fk\n",
       "1j303O2cxaYvGFr386fRtPFxVMpr1UNTq1+FIGK9apqJDxeZWNOY0dmy5PlcO7jjyCyz1hIUs67E\n",
       "s4iIutH93tSquy9iqdPzXi3r8chj4DBzIH2WsI9Lkpl5n7CpaZpZrBPz60EYZT/MzCUmHgO7Xpfz\n",
       "Rbw0o9okQ3yPdPsKA36INCc7RjWfze3vz8RvWfrb4n3/N+7LkDH0MFj2pOhsaJWv69z1Cq0yRLG7\n",
       "zWIrDg3I/d5B+NXRaktFzX/l3zpl3mHLqeaquzTz+74pKOeHnqfPFb2Qv+epvpiIxPP7aWaOKgew\n",
       "aWaNSvRpqPyugJ0+AAAAAAAAAAAAAAAAAAAALwD86AMAAAAAAAAAAAAAAAAAAPACwI8+AAAAAAAA\n",
       "AAAAAAAAAAAALwD86AMAAAAAAAAAAAAAAAAAAPACwI8+AAAAAAAAAAAAAAAAAAAAL4Dwr75+o37o\n",
       "+/yb0KkoVbl26C/Xi9hT5dIs4xcnkSqXBfxZRKkq140DX0/m71dx6P49KwlD495Pe6ec147mH+KV\n",
       "U86/yo37xdZdryCynjdxOWLfXcc0Ssx3hY27DNZvd1U/OOWa0fz7ELj7KlnFxn3gc53ayvkVIiLq\n",
       "G27LehhVuXjFzwsoVOX8nst3qmpV7mlfXK4fz+fLdZIkLnEiIrpa3Vyu16lehsTjsnaDW1eIiCZR\n",
       "3VGvOvUN90FfcWMe2qP6naLcX653+Y0q1w3t5bqs9Y7aH7mNmju9ToEv2m8MzDIpdhPvTJ0qPXdj\n",
       "9NaflzfueqVXO/4OTVpR6Wl/uFx/fP+synVTIK7NNn8+uJ+/3Zq2f7V268v+VBj3xf7slGtaU46m\n",
       "wCm3WHxj3N/crC/Xnq+3xccPny7XldAdm8Bn36X5oKow2+j9D++dcvvDyfzeyPqRpLqvH3JWhKlr\n",
       "Vbntdnm57npdZ5ua7cuf8RnLLdc3X3L7X1/vXOKf5VL+TjW4fSwR0TRx34wzzuD+/u5y3TR6WZ/3\n",
       "j5frvuc2Op/1MkQdl3VqdblYjPHb5UaVmwJ+RpjqY3zZsh4MltjilWLja1OXv/uP/+yUq4sn83vx\n",
       "wik3tJ1xn+du3f7Lv/pL4/7d08kp11RC5xOzUjfrrfM7b16bdc2VMWb/9GjcT5MyJi/NsSxKYqfc\n",
       "MJlt2XXcFuGg+4yxZL1KJ3087AuW++lRjwn3R5ZrBne7EhH5Htcr9LlOWaaXYRCDbRS724GIaBK2\n",
       "N2eHgcdt7k16GwUiXup73QaMMojn9aNuh77P9fU8/dnys98qN8zEYpJxMsu3XC6dcust+4mq0uOM\n",
       "4syfST20GYQvHSy/GifusZFGs5+mya0HgWfKjUpbLDKzrre3t065Tx8+GvfZ0j0vyMRch4ioacXY\n",
       "psRERKa+rN66/RsR0d/+7d/+/5b17//N3xv3799/dMotV6bfD0XcvLnSx8Mo5TZ//VqPS1MxbvqT\n",
       "bgPUs44MjR4LLDayTNyWHz89/Vr4Z1YR20Pm6f/reCx5HI5nfQvLLXK3DhARecLmFzJ+KAuXOBER\n",
       "fX19dbn+/tHdt0RE3/+HD5frbtJjIq/gNgpn/FYy8meNZYeaO558sy3HSBmXLD/RFW6/8fTB7MO3\n",
       "b66dcofjwbivCo6195F73rdamP20XLnH7r4yfVWr+AzPiqu6zj0/35dWXTt3H8jYjsj0v2Gnj4d1\n",
       "we/tWl0PWmFf+70+LzhH/NlmvVblbB/3C0Gg+GwiooD1xfd1XRyEn2h7d7sSEaU+vyv2Z2IGMeEs\n",
       "xZymUdZKiIgm+m1jfBhzndJU9xlDJNarZvzbJMa2PDXHJTXu681xLlPKIceXSFn/ISKKItFPgT5e\n",
       "jQPrVN/Zn7l18VyYdddig8DyJVmUO+U8aw3JC9z+PYrNv4tlLfIHPT6R881zofvtsmE9nSb3fK44\n",
       "mzFzFLnnxvba1WrlnpvZ3x/FvLuu9PicAm6z7Uofv6QezelsJdY0Ak+3f+kbPOLrcWZtJ4i4rL2n\n",
       "y7UN+9mx1csqy5Ao4xWR6d9CsW48N5eQa4TTzFwiC/m9/cx6xtD/tueNYn1utOZ56rTPWjOPlLjI\n",
       "C00/EShyY2e2S9m7+0Cu29tF833l2XaZZuZSvwlLj7SxKPRNXR7EWvvU6OOSL3xQGM6scYv6jsrc\n",
       "//PL+HJmdDVGLM23YKcPAAAAAAAAAAAAAAAAAADACwA/+gAAAAAAAAAAAAAAAAAAALwAwq/e6tvy\n",
       "G7F9KQ71rUdVxXKbVE/Hlue8XS5b6qkLZDqA8llPDTKJTV/9aG6ROynF9RJzW1eQun/3au2t/St3\n",
       "vfzE/L62VbU5mFvd9gexPX1ybxldpGZqBd9zb0WMUnOb9cOjkuYgMNsoSd0bxTY7axvtkreJFQd9\n",
       "2+ThxH3VzWzJjlL3Nl2bc8nlvX9yp8oiIno48jbWXmyRS7XUIETkiW3wvZ59iq6uOL3A3Pa7g0jt\n",
       "Ncyk0RnEe2uRzmqYSbvw/h2nAOq2ep38lisiU7jZ7Pe8vb046ulZtinXfZObutjWbj3/dDbTgeUb\n",
       "dwqAzEpXlMdaWkT+ezLzE3UhdK+fSXXRlEIvA7NsYe9+waeTmS7uXe1OceZZm1Bvb1455TIrrcTj\n",
       "s9v+mz+aaa6+/R2n+thdu1PvEBElCW8nfXzQ9eDDe9ar8sntMw4PZhqNTx/dqfPsLAlBxv0bhW4d\n",
       "ICKKxfbxKdJtYBRbis+lvhX/+ZFtqh317e2ZSNH3eOA6/d7OUSC4Fqm8hpmUkEZqpVH3l3XP/R7O\n",
       "KPd6x329FumE6lpPCffdT3/i8ujmQHnE49p5r6eYlFvavUj3Qa3H9bV3+ccLd3/Y6XHSXEkrtbLS\n",
       "nSrpPDxrA7SWbmQKzTH9SslkEnz5xeU6+sKKA5Qt96G1cX1Q0kf4vjmmx0oKi5WVZiXL3ClsAsuN\n",
       "th3792mcSf0i0u1k9kMEXc3+8+zrcvuKU8SUZ92mfGHXC+G3ZjIw0dCJFI7BTFoIkUZrLjWCN3E9\n",
       "xrn0bmIrvsyu6YVzG+4FMyk5ZQqAYC6tTChS282kDRhG+Zk5LnVKaoS+Mv/ed+40FqlIzbzI9TJI\n",
       "u2tmUiFI32L30/HgHr98y8ZTJaa0m3xSUqu9vjHjm7/+i79xynWl6c+nyq2odnrpdcbznTjR2+yL\n",
       "L9jX7F65U1sREf2Xf/9fXa6//Oorp8zmleVHFb8dWH5wFKmQ5lKc3e44Ddki1+Vkir260+PNVMwJ\n",
       "i5m0S57w+6sdz1/fP+vp3a6W7D/Loz7O3Yo2m0vjIlPbtWd9jroU7TeULJfPPFummPwy1eM8+dn9\n",
       "SY91BtFe/vZKldsmbEO/bn63nj9ZsWtZusvRWul2nj7cOeWoNr/vKfPIODLLk4oYs1H8Vlibf/cV\n",
       "le2s7xdKmuDImgPJtKPmi0x/7s3MDw3EWBvPpLMJhY69faOn6x+FHWr9RERUi1R84czYFvnuFDb+\n",
       "3HA4cps1nV4nmYpuudDnD5mYN4bhzER+EnGpL947k7JdViSYGWtlZrVoJnaSvjSN9dTzkRg3V1bK\n",
       "5Thzj3ODlS9di5+kT7NTqUqmQaTKmvFVck2ksdIql6XbdsvabHPt+bGdnl8ZiyYrFhh/lQzqM6Fl\n",
       "h4FIwZTGuo51Ym1hLqVuJmIQLV2ZPWdT6x6bY3Kg6JVce/38fLbrttVjrljYdTqT4iwWxxtMpOvL\n",
       "1YLjp7l0VrL9qpptsp5J7T6J9JrNjNxJpPgMet3HypRaXj6T7jQRaWmFL/BmJie/NSWknDP4M/Y1\n",
       "iADWG39bnUZ7HFLGm96Ss2Pqy3utOmnpou3UolraOrmMas+dJqVtZXp5IqJJ8V12ejjVXsff5i8D\n",
       "6/tyfiL141flEDY15zNk6sh2JgW2jMn7mTmqcbSAYq7Y6QMAAAAAAAAAAAAAAAAAAPACwI8+AAAA\n",
       "AAAAAAAAAAAAAAAALwD86AMAAAAAAAAAAAAAAAAAAPACwI8+AAAAAAAAAAAAAAAAAAAALwD86AMA\n",
       "AAAAAAAAAAAAAAAAAPACCMkf9U/96XK53axUsUWaXa690VPlmqa9XEftpMr5fSuue1UuSOLLdTuZ\n",
       "zzu1jfM7bW/K+V7olOu9zrhvBnc7BYcn4361zpxyWZIY90PJ1w+fHpzfoelk3HZKmwVBZNyHC3ed\n",
       "Vlfm31+9zZ1yYWLK+QHfT5Pev+mG62g/Q9JMw+V6rPX+LZvicl13ur4sVrvL9Xq3vVyvUr0M0cD6\n",
       "MZFuA23HZT0VlSpXt6wvSbZU5XrRh93AbbneXqvf8QquhzelqpxsoXHGrJdLLl8eLFS5bcztuk2v\n",
       "jM+qurPFiYjohw8/GffP+5NTbnljvtd/coqRH3Ct3tzobRR5bAOb7VqVG0XD+EFgfNa3bl0MQ/O3\n",
       "8SRLnHJtZ+pHWbt90Hpr+lLPC5xyg9WJj897/k6g60G+4PJtVnr/Viv2s9PZrTDJrfn93fqtU26c\n",
       "zDoULTu43qvVMqw37MPzVB9jjmdu2zCKVLko4rqXM/Z6rri+zafj5TqJ3f6biKg6s85761iVi5P/\n",
       "j70367IjSe78LPa4W95csANV1Sunm2yKFI/mUOKDvrle9aYjDXs4pKab3V1djQIKQCIz7xq76wGF\n",
       "a+YGN588eprJ8/89Rdxr4eGLubl5RLg568vxENZ/IqJR6Ms8D+sUEdHjJ9z3JjZH1NzeBqQ/kYox\n",
       "4KyK9PGK7eXu3c6Um8T4l+W27tUlt82u9et/f7PR4kREtPmw986/+eaboJxTY/ztNly33/zkF955\n",
       "341BuQ9bv7xJewjKOVH2svLHv+1duExvPlx754fdPih3fX3n32sKf4dTlH6dz+Zh/Tu78PV3vWZb\n",
       "//j5hRbn9ITfMl/Y7du23L6rcJGIiCh/y+UapnD9ExGR47rNU7a/mbMHsFHYmsrZ/aZI+b5jEvE3\n",
       "idt0MPw8IiJZCjmOFKltjzIxxpS1LZfn3J7paOc1STivY8Q37ke27ZPSqcSo2/V67Z23bXj8ur5m\n",
       "3S5L2w7O5tw2VWW30yDKMagyVWV4TOgbX6eSJFy3zda3QalR9q9f+jbjn/7X/z0oN1f9sG3Cur1X\n",
       "dmEu6un8zPZPfvN3vzkdd5G52dWTx6fjZB6u29uNb1sOx/B4uFj4bXh+zmNClds6u5iL+cMQ9geJ\n",
       "fH9kJFtnpX2X47hmueT668Qc4dmLsG9CRNTvuD0WC9s/bxuuo2oV8QX2PPZUiW3fejmmjDwm74zx\n",
       "gIjoyYsXp+NX52tT7jc//fp0/MfXxhySiN6Lce5JxIeWU+Nc+UG9Mf/64ebGOz8cwmPorPL7zTiG\n",
       "66wofD/SdeE+kOb+3K4Uc9Q0C4+hh71vz4bWmNOTn4dpCMs1va/Lg2FbtL86jeG+kid+vgvxfING\n",
       "+/vcQeQvSW1dzETdlkV4zkFEtKjFHHph+47rFffDquIy9r1tC+SYkub2s4RyxvqSOLtMg/DtemO+\n",
       "RURUCnW5EHOibmaPtXJO3/Z2HiahL11nl33KuLyz3B43UzEfPBz8udPxELaf6rEWORfOh5xr9r1d\n",
       "X13P9qkobd2bibmwS305o9tQpuxlNxjP6jrfllg2U3VDStNwfmdLf0yRPvTLJy+D1xARrYSe987W\n",
       "l5s7no9ZeTg/95+jLGbGMzhl3zbG3OnjnT8HHFrWl9nMHr9K8b1/u7Pn52nBlVtHfAHZRTOj7ET+\n",
       "GD+K58GD8byWiCjzniXaPtEk5hllFsmryEPMVjUN14v096fIw7XBGNc0mXim5CJzDmn7IlMYGsWc\n",
       "oVMdojfmExP59jc1OqzWxYTCY4ecmxARpbkxxqT8u8v8a3qjbvWcZTLG2kwVNTX6q55nWI+1E+VL\n",
       "TDK9yfZRE5E9l9j9QarLFBnjSbSVi+if1M22DY8VWOkDAAAAAAAAAAAAAAAAAADwAMBLHwAAAAAA\n",
       "AAAAAAAAAAAAgAcAXvoAAAAAAAAAAAAAAAAAAAA8APDSBwAAAAAAAAAAAAAAAAAA4AGAlz4AAAAA\n",
       "AAAAAAAAAAAAAAAPgHzqc/tP8U6oSDJTLknEu6PMfo80VZyGKytT7uCm0/E28l5q6lhu0/Tef/u2\n",
       "C15zt7/xzp+9uAjKrc/8/N3t+6DcSsn93c//Nii3/bDx09vw+av6PHiNc7V3/u2HD0G5t9e33nlX\n",
       "j+G8Ppp751O6CsqVmV+mi/nsdPzi1WXwGiKi/aE9He/awZQbHNflkOxNOZfuTsfzWWHKJVlyOi4d\n",
       "56HKk5D4J7mSdXF7dzTl3v5Z1Pm0MOXagzsdN61dpt6xXuYzvubi/JF5zaunX3EWpsmUK3OuoySx\n",
       "y546bt92F9YVIqJ0KE/HN8fW+685hPtXXi+983YMy12/a5RcuA3SjMt7+9Fup/mC+0qVzEy5ybFe\n",
       "6jIcDJ1Nlek7O58H5RYrX7Bp74Jy3dHvr/M6nN/9nW8z2lvuN/X0KngNEVF1znpa5LbOPj/nvnw5\n",
       "a4MyWerb33EM60vf+Nf3E+vB5rDR4ifqFZd9cLbNSBzXbTI0ptz2bns6Xs9LU84R/9ceuF7fv7X7\n",
       "w37D931yER4PiIjOfnp1Or5LIjq75P7/m5/Z7XlecBv+/k9/PB2/fHpmXvPVb9hmHLbhPkhEQiyc\n",
       "ewAAIABJREFUdP2adfGD0QeJiD6+43rt9nY7jQOXyTnn/Xf2KNxvzi/X3vnNrTF+Xfq25fwqnN4P\n",
       "b//inWdjOL9Z4t9ndxP2cY471u32+Nr7rzPsp9RXIqLdXVhnx9H3v1LD3Umcr8ttF87rx53fD9sb\n",
       "zt/Y2e32+AW3gSvsMSYR2Z2G2pQ7m7FPsy13plzb8TjlhK+XFLZfmk5cjv3hxpTrCh7nisL2X4fx\n",
       "wNcMdr9OhA9cV6x7RRaxM6IPDINdr+PI7ZaSPXZnJY/xS8N/IyKSPa9TvvHYhPNxGH3dsXwIOYY6\n",
       "sut1u2W7v1zZtioVZSoKvy6nYzivo6ry0YXl0sq3QUkT7gO6pOViHZT71X/8J++8OW6Dcps7vy5v\n",
       "P/5wOnYUsce37DPE5lzDkvvUahnO603jV9I8C+tLNfilXwojNCvtPGTCl+1Se9xsHPfl0sXmkdxW\n",
       "U+5Muazi9DphVl0RHg+IiJqBx7mxD/s6RERz0f9vI7ZgfcZ5qCO2qt1zBsuS7eXlo/C8k4jo6Nge\n",
       "LUp7/vvXv/r56Xg0fEgiopt///Z07CY7vXTgvqG6DVUU7jfN3K/zZW20r+qfGYXrrMj9MSU17Muo\n",
       "fMB+K8/D41Ke+nPIcQinPWhjYPTDNPHrskoMnVU/p4XdVpJeXHfY2WNoIuq2jjxX6cXzkiLSV85m\n",
       "/N/FOmxbfrwxH4o6Wizs8bCqOH95Hhnjc05vHG1b0AtbmkXGTYkck5vBTns8cnp9E/ELWrYnzugn\n",
       "RER9z+lNkfvmQq+GyZez6kI/F7B8jVQ8E8kyu75k24yTLdcKX6JQ6V2uwzp27HwdLQ2/tOnUnLIz\n",
       "xpjUL2tv+Pv7vS/XNKw72+v/Ek6biArRp4bRrot6yePr6jxs3+va7xuJMW7e3fp+7bXx7G8YIvo2\n",
       "2OPcIMdQsv3Svuc6Ght7fijTmM1s+zZ23I9S4We4iC2oZP03dr+ZZzxPniJjtxN9qpvs+nMTl/dI\n",
       "fBx7BifJMtvXSRPZv+y8yjSsuSERUSf60Jf9JHxhosYvSsO6fez9OnIU1llpsz+lHy6/V3+9X5ep\n",
       "MecYJv+eqVEZes7irDFBP9Qbw206jXb+msn2eQfxPGwcY3NKMSZE9GoS5chye3zNRd8rjbrESh8A\n",
       "AAAAAAAAAAAAAAAAAIAHQN519ldnZcFfxsTeWo7ibXUW+eqJRk4j8vEATeLtX2ThEDVH/vrluPe/\n",
       "uLO+/MvVm/XucAjKjZWfwVkW/oLm+YX/JcxZtQzKkfrg/uKMr0sonPZ85n8tYH31lKs3hH98/Too\n",
       "t238sv7Z+OItb1945+XXL0Vew/Wl73u7t1e7zM/5TeWjM/tLolev+L7N0X5behCrsO7u+L6///N3\n",
       "5jXtnnXn7//q16ZcMeP2/K//Zqf39gf+QrOMfHU3Eec1y7ndbhb2F8vV16wH5+fhVWFERJP4gkF+\n",
       "EazpxAqXIvJVBvXiSwz9UttoXv11f9+E34bv1MqQ1li9URTi629j1RARUX/g+9Sl/fUGiS9SJlWo\n",
       "bh/+mm6vbERzCPfXVz957J1/9Sq8eiNTq2UWdXg1jut847f5eH06vn4T/sKYiKjfii/FumtTrq74\n",
       "62uXhw3tMPh5HYwVlMu1/yV3KdJeV/aXCWklV4naX04sCk6vqm3bst1yGu/e2iuMtnfcX7sj6167\n",
       "tfN6EGPbOn9myjUb1qPl3P6i8vlTtn1FZffD3/3hT6djJ1bzDZGxcbrhPDTbyJdEIpHzmf31cSO+\n",
       "ENzs3ptyfcty9cLX63wK10VFvk3Lx/AY2nz0x7nt7jYo1ze+fpwbK77qyreRk2Grko5tWjn4/o38\n",
       "clVysfTLlDx6EZTLC78RLT+rXvlfL4/Gl0ndF3aV6yKxvpQkou17/pJte2fri/yAdGoiXxX3fK/Y\n",
       "qtOy5LbJ5JdiSWS1kRhj5PWaUXzxaSxQ/HRfUeexr4+d43LIr/OyyR5rZXqJYWOJ/C/XYit9+p7v\n",
       "2xi+KxFRK74+1jplfYm5P/rjn0xDMq+53WNtO59z/29bW6dGsfpGf8F3VodXCLnUz9uhsb9qlVj6\n",
       "Uqgv/xLjS+lvXn7lnZ8/DtuqtvOvf/M9rz787g+/M/PXiy+nY3W7EW0/vH0blElSvTow/KXulfDv\n",
       "iYiO4uveamGv5mvFV7LLpTHvIV+PZpE+0LRcpqaxdVvOHQuxEilJIrZgxjo77uwvlqX/6gwbS0Qk\n",
       "PyZPcntu7IS/6aUX+1hY/DeLrPSpS+5fLx7bERi+fcfj9eZgG0JpW/at749bX+Dq3/Mi3Ab6o+Jk\n",
       "MlYsDPqrfaOi9MohYeOK0rDhzs/EZNjZXg0WVj8sMv8+1soJvQDoYIzDeqVE6uTcx1YY+YF2qb9g\n",
       "FjjRCJmzbcsoljpFFhKQrBaZh4jZol4sX7KiBhARJa1YIRv5UloOF3Il3RfpJfK+fNw7O+1CjN2l\n",
       "Xvom8+AdR+rV+6o98lW3+MvpZWJfnP94X9W/isryY+63SkE+P0siD+vkX8MXX/aH85qrL9WtFQFp\n",
       "5vtVQxFWRr2yZzJsy6Cek0lbX0TarRPj4eRse7yYs/6dLYxVTkd/brK5Cz/3+fjRX9kzM+YZZaUj\n",
       "BXD+Yi0tbf0U6eSeXY34xplQhOFoP6dpjjyuy7xa8ygiokysiqkz29cWQWGoMXSAiGgSfouzxbx+\n",
       "KFd1ukja0qYNfWQOI5796WdmkkIY0yJSdieiVji1YsdMXv1hLVQdVP8ajfKno58/851BIn2iyMRM\n",
       "4FTmrFUxuhdbeSgLf6xwmTGfVu9H5Mq65mg/h5L3LSP+oZd2ZKWPnO8PkZVhJNrGGc+hsdIHAAAA\n",
       "AAAAAAAAAAAAAADgAYCXPgAAAAAAAAAAAAAAAAAAAA8AvPQBAAAAAAAAAAAAAAAAAAB4AOClDwAA\n",
       "AAAAAAAAAAAAAAAAwAMAL30AAAAAAAAAAAAAAAAAAAAeADklk/1nnp+OkyQx5YZpYLnJfo80DP3p\n",
       "uOkHU+7YtafjusxNuSLnPF2s595/8+UseE1eZt75drsJyk1HP3+Tkd3jx9Y7/47eBOXa1pfrOk7Q\n",
       "jeE2qLPaO7+sy6CcO1/6ctWvgnKHyc/DD5v3Qbl//0/feec3b7mOzp6eB68hIvqwvz0dt+loyi07\n",
       "PrZbl6i+vDwdZxH9Sx2n0m+5Lu9+6ELiREQ0S7nOnpUvTbmb4+50XI7XptzlnPVqJDuvznEfyJ07\n",
       "HR9e781r+kec10NyMOXefeD2dGmkv/ZcR0VhyzWiv/bOb8990wSvaRtfrun6oNzQ+/dNpkVQLhf9\n",
       "Px2zoAyRb4Payda9PBVlV0VfZuH+Vc39+67PlkG5yzO/b6zm4TIlrV8nUxtug0W29s67hMv47o+3\n",
       "Wpz/I+6vEfNOjx49Ox1nVR2UKSvfjm734T51t/nonfeO5Rbn4bQ/3ZczOCV2f/35q5+fjpO0MuU+\n",
       "XrGNu7kN6ygRUbZjuUXN6a0MHSAiSkfWq907u/7Xl1xn89oue7NlPfh+F7bFRESj4/w9fvT8dPxh\n",
       "Z+dh96fv+XjbmnKNMDvHvW0LjrfcNvs7u3+NA4//WeL7Ah9fH8PXHO6883oV1gPpPxARbbYfgnLz\n",
       "yh9Vrl6Fx6xF5ffP1LCt2YL7e77ydS93YX9nvfLv6YStj/0+jmF72Y5b73yRhfXq4ty3GWl6wWmT\n",
       "3W6dsO+3W3uMuf3IbXXzLlz/RES3d6xzfW+P8tWCy5EJf65pbJ1t27AeaeqS++E03c/PLYvClBtF\n",
       "/58mbjfnIuNNLsoX8WVl/qbBTm8YhN9o6BQRUVWxnuaZP34dj+H6q5WtGoZwP0xT1vlxsPPQE/83\n",
       "TrZtaUV569qv/6OhB04lNw1hB92Nfl1mhn1vDv593nz3fVDu2bNX3vlsHh6LLh/7v19esQ1ZGGMt\n",
       "EdHxjvtXc7B9wt2e2/DtzU1QZln6c6Inz58E5ZLc1w9pJzKjfERE8xmXY7+3bcZM6FVuqwHlI/eP\n",
       "+Tw8f/uUKdY/b4462mN36Xgu0ea2zqZbHlPTiL1MRP+vCrtfZzNugzIX+YtUhJzXTsetKZeLPn42\n",
       "s33jdcX/HY62TySnWPtO9/3wOFflfn+VtsH/3a/zJAnnV9e47ucWacaCRRm24foZRj9YY4K+abhM\n",
       "eeqXwZpyTWo+UqbhsheqH2YiH+kYqQjh5LvR1m0Szxk6w8/4fOfP5Lk91pZePXMdpZG5Z5ZyHygK\n",
       "27ZIPWruwvbtUx5E34uMh13P9v0g5q5dZKwdRR/PYnP6lOvBRR5ouJH7lLQfGuk2p+q+4z0/0+6M\n",
       "52vShxmd7RMlA9+3j9yzE+2URFRPkue+nU6zcH/QtkTaekmS+XKWX5Sp8sq6SCPPDJZiDlxG5nPr\n",
       "Jc8npi7cbw4bf67TH8PjZq3KWpfhsW2iiB5FTIavz7ag9HPbxp6flyK/02DblkE8+5B2ooisPxiO\n",
       "ci4RSVv4gFnEj5dTgZgPnaZcJpleZjyv1fkbDJ+UiGj07HSkHybc7jI/Gv85nq/L5txT3TYxmiBR\n",
       "5XUuXC49x7J8AV8vlX0bw2nrIdOcz6l5RmbkIVNjrTPG5LT363KS42ZknCtFf429w5A6Mo6ReaSo\n",
       "tDy3dTsVvqhVR1jpAwAAAAAAAAAAAAAAAAAA8ADASx8AAAAAAAAAAAAAAAAAAIAHAF76AAAAAAAA\n",
       "AAAAAAAAAAAAPADw0gcAAAAAAAAAAAAAAAAAAOABgJc+AAAAAAAAAAAAAAAAAAAAD4C8aRrzT+fc\n",
       "6Thx9vuhtm1Px6uyMOWSjNPII++bVsWMT6bElCtSvm+WOO+/ZV0Fr1mvz7zzdJiCckPrp5fm4fze\n",
       "vrv2zl9/9+9BuVLlp17M+SQJ52G323nn7jgE5dLB/32Zh9vg1ZOvvPOX/bOg3F9ufvDOm7Y7HRfp\n",
       "TIufePasPh0fp6Mpl6bcps2xN+Xev/94Ou4P4bITEfU7Tu/DX7g9du+25jUvfvKL0/H162tT7s0H\n",
       "/m+/uTPl8hnXS2nUPxFRWXG7Tx3X0TS4kDgRES2r9b3S7hquy4Hs9NqR5bLerv9+HDntya//qRi1\n",
       "+Ce5zpcbKNx/nfp5nML5bYTOuzHcT4iI0oyv7yNlenJ5fjq+Wi+9/6ax0+Kf0lO/L6+WQbn5bOGd\n",
       "j0Z+D+9vvfPv/vh9UK5I/L726unL03G1LIPXEBFNA5e/78PtRETU3LD+1bOwXp098+3l+vHToNxm\n",
       "79uq19dvTsdDtzfzMF9lnIelrdsfvnt/Os6rcP0TET2+fHI6Puwi3zQ47teVGGMulrZ9kzV+ONq2\n",
       "5eYH/k/rjqQTdb69tW3LannB12zfnY5zo82IiMpDfjqetRFbsOcxdNzaNnae8b1ePHlsysnu71Qn\n",
       "v/t4E7zmeGy986wIt1uS+Lrcd+Exprpae+fZlAfl0smvv8Tor4WwubmyW30Xbt/Dzm/PNA2Xqa79\n",
       "flyUWVCuSH25dAqnlyu7X+acXlbUWvxEknEdZWPYdyIiOtxxG3wc7T5AI1dU28bGGE4jl2VPbbuV\n",
       "CV8sz8NtS0SUJZxebugUkV/nWR6ufyKiLOP/JqEqZWHb4lzktWttWyB97RhJwvValvZ9pZz0z4mI\n",
       "9odD8Jqi8Mu+XBp2VtjL49Eu09DzfedWWkTUC6ORZ349FEXYf8hS//fUqr/El6tnYfuu6//td2+C\n",
       "ct1f+XW3rJ4E5Rz5Y94g7MTmLlz/RER3Hz6cjg87u39Njm1SPQ+XqW/9uZ1z4T6lp1jFjO1EVtk2\n",
       "o6j5vruNndciZb06tnbZu5btuXO2r1ckRVBuGmM2g68ZE9sWZGKcm5w9Hk7CryqTyJxX2JNJ2OaY\n",
       "L+uEXG2MG5/SYJ1aRezby0c8Hu4jvnG14D6ab/12P7bhup2p/tX34ecJum3SJNyvq8IfexJjPJwm\n",
       "3+5MQrcnFy5jptopTcI244vfDduSfCEXFKNRlX0w1crXCSc7Zma3by50JDHq9ZNgJuTs9PZH9uUn\n",
       "svtUVfH4U3eF+N32H/z/Yv1QjMlZxM8V/yWp3afkGCjnqG0fGb9Ecsb09NN/0heLCMq2ieVVNuGX\n",
       "7Wm0b+rftzLqrB/4+jRiL50YX4vUrn85bmqbNk3hMh4b5e9n4T6eKZ23dHt097uv9sGl7ziv7XFu\n",
       "veJnBkUe8Y0PPH7d3dwGZbreL/usCPuvq9nKO993Ybv6hd8o6qjIYn6p7TdLBtFXhsEeO6SNi9kg\n",
       "6bPK54CZUQ9Efh+NPa+Wz32SwdbZQRrgSH+dRvGfmMvGyiebI2ZjpSrqebKfXiKO7bymKddfqcZM\n",
       "qz/ocUmff0aX1+qvSer/bumY7NZO+fvTGK6zVvkVk2G6Bufb88EYbNP0fnWk566d8OPriM2oKta/\n",
       "WUSuF3PCmE8oh5g8MkdNxTzech2x0gcAAAAAAAAAAAAAAAAAAOABgJc+AAAAAAAAAAAAAAAAAAAA\n",
       "D4D8/Pzc/FMuJxs6e2mfDAuRGku/iIgGscS2jywVlMvHksleppeLJW29XkJthA3rcn/51/EuvFzw\n",
       "uPevd0aYub0Kb/GXH8JhIcqFv8Tr5Vcv+L8iXGelCqm3UOGjPlOpJaeDERrhfD33zvMmvLT5+s6v\n",
       "80PLoSqeXl0GryEi+ubXX5+Om9EO4/BOhLeYGlsuE8s6e7KXYY9iHdthxu3Zl3ZYqQsRbm90rSlX\n",
       "VFyXxdxefncceTnv46tw2DwiovMVh1B485qX0SeR8Ay37zan469//o0p99Wrn52O39/aIevGPYce\n",
       "So3wCUREF2fc1gcVKmSXbLQ4ERG1qb+cMkvDS1KLwV963B+NMItyyW5mL4OVyykXq5UpN4h1oR9V\n",
       "HVVGaMrVyu931rLO49bX5Y/ffwjKPVbhDy7XYRs8KtP0k1ccnvHyzC6jDLWiQ0RK9ntejv7xTbiv\n",
       "bFQ7X70Mh+k5X2q7wPr8+u2fzTzcbTj9dmYv8d72rLNDJJzKQdjp640dYnIUapov2S52kaXWGxFu\n",
       "p8oiy+NH/s/tI0txHfeB/Dg35Zq9WAL8ketrfW7rwIw4pEue2WEckhnbviqxw9m4C7FsOBIa4CBC\n",
       "tW23fsif1fxR8JpOhUizQorkapwbh3A+5rWvH24ywja2vs7PjbAkMiRJmft2qyvCY0dVqjA1Vjgb\n",
       "lVdr6fw0+DZnaI2xSIVzHESY1TESyqSasf6VkU+BKhGCJkvsZevSp8lbe3xtRbiLSdiMorb7TS76\n",
       "XizkQT9y2kkaC4UmL7L9UtmGMuTMONnXNA3nr4nUvxxTiiISLkrkwSWR8CwyNLPSPSv9plXhhI26\n",
       "TUXYiiYS3k2GUDgYIeWIiJwIw6dDs57Nwz6v1uW+MXRMhTSrZuE+nis/aHMbDlf29tvX3vnXvwj7\n",
       "estH/n293Ha2/WwOXI79NhwihohoVvN4uzTqaPXowjvf7sO+wFfKnssQNrFQuXcb/m+9vjDlZJi5\n",
       "WBgXEv7OELmvjMwhdXkwwtcR+WFDjr09znnhpyJyJEKIZTFfQIRx6r3Yp7afMYm4UlXEFsiQyDMj\n",
       "/DgR0ddPrk7H7+/sMHx74Y9oHyszxptKhStqDB9Ch33Wocz4V2VzjLArOiqPDE1jhY6jSMhAibaX\n",
       "qRGmJ0vvF35K29FEx4g9Xa9DNYkwf0a4eiI/bJUVUlrnL43o7LkIHW35I0S+7+JPzSJhEYV/3jd2\n",
       "XgcvFJo9dst5RprafaoQYQPLkq3xMMbCO8nQVpHQ4tIgGfNdIqJc6JEVzpzID1WoQ5Kllu6ocEXj\n",
       "GG6DSYR2HyNlT8Wzp8HYfoDIL1OixpHMSF6bNCsEkx57BiOmk54/WGGq5nN/jnVWc+jyx4/CYVqJ\n",
       "/P7bHOzwYrc3YjsCwx+pSr+OLFs1KLtq+e66f2ZifhKJCElOhOu3QmURESXCHufGc0oiosmzcRG9\n",
       "EmnIUG9W2F0iok6E9hqMMKNERJ0Ykyuy7ZtnJyI2I82S4HHMJibl/cLmNeK5Zx/xM4zo4V8g86TD\n",
       "ellhvvRYYfVD7apkabj8egsUQ8y7PtG6YoQuq+f++GeFYxt6/3dtGz7TqlDb1jYI+j7SHve9Pa+d\n",
       "JtbnWDhAGaotNu+TbWOVncjvK1Y4Z6z0AQAAAAAAAAAAAAAAAAAAeADgpQ8AAAAAAAAAAAAAAAAA\n",
       "AMADAC99AAAAAAAAAAAAAAAAAAAAHgB46QMAAAAAAAAAAAAAAAAAAPAAwEsfAAAAAAAAAAAAAAAA\n",
       "AACAB0A+TZP5Z9d1p2PnnCmXFfnpuKxyU26YCr5mtN835TmnMQ223HxxznLT6P1XlFk4r2nhnafq\n",
       "/DNNs/XOd9tDWG7w75smZVBuVi38H6bkdDj24TaoFv41jx49Dqed+/fsXROUozHxTo9tWG458+tk\n",
       "rJen4/X6LJw2EV2sWO5mczTlyPWnw/msNsWqasaX5LaeuoZ1pL3g+yaRPNQZ6/NiWZlyHXHd/nz1\n",
       "zJS73t6J9MK6R0S0POO6LT/y72/efm9e0wtdIUNfiYgun1ydjs9WF6ZcVnIahzas10R+P6wmVabL\n",
       "cJ0lqvu7s3D/rdOldz4cw/blcLc7HUdMFZU552+ICPZjezpOS78/JFn4uv1x553f/eU2KJdmfhmS\n",
       "fAjKPX/5jXf+D3/zMij35tu33vmy5nYrssj7+onvO7ThPBARVRn3vcfni6DMpvH14+OH66BcfTb3\n",
       "zl8+f3E6vjpfm3n44S9/OR1/ePfOlEtTLu/1+3AeiIiuD9znb5vWlMtK1t8yZd1JYuNXwrb+an1u\n",
       "yl2suS6G3rZBs5Tlnr96bsp9fMeGYr1cnY7TcQyJf0LqR9qbYrOC5crSHuNTYQuS1JZbVtyn1jO/\n",
       "f7k0bOtHXY40rNtF4bdN1xnjnPPTu1ivgmJl6dtSq0uVWS5k1DV5+KKy8O1j24Z1cXf0+5f0uSTp\n",
       "5N8nS5Kg3Kyaq1+kn2H3ByeSa1tbrxphD25vN6bcqMeL+5Cw/U2cff3Ys03re9u+ZZlMw9ZZ54Td\n",
       "T8P1+ukvmZ5sDzsP8r+qsv2MouC0p8lOT/q5dR32NT/JcZnazi97lofLmI9+/xrHcJ3J7jUMdl7X\n",
       "ax7j90fbz1hf8PhQ176N+MI2fE5v6+te34XTryrlLxl+5HHw+8bHjx+Ccv/5//lP3vnTV0+Dcr9U\n",
       "fu3Ne+7X3/7e9vVu7/i/JImMHfXl6Xg02uDs8ol3njdh/Wsa346WNcu1O8PGElEq6nZMbT2QfmTT\n",
       "2GVyyf1sxtCxTvRiLnHY7s1rEsf56ybbFnSib8Ry4/WNWL4zrqNEyOWFfY0THWwyxg0iokmUKY/Y\n",
       "t6XwaS5m9vzh/Rv2M4ZR6Yoxr03U8CfbWuKcmlMa2R0H31cZLEGFHIeL2p5TenkawrYgVT87Iw/a\n",
       "NllqkCp7m6WWj6luLMbD2WxGFtIViI2HRcFtkKcRnXVS5+y5VJbxjeWwqZ/FSIaBBeVcTDMOXOeV\n",
       "fnYi6FvZNpF538R61fV8PPZ2XmUfT50935Jtk0RsS59zedvGtqtdH/HD9QT7R/JC9espPMa7kevI\n",
       "ObvsifDBy9y2GVKnisyXs2xBVfm2RI8/nzmoscKS0/fx/T7m4uLCPHeROc3mIz/b2W93ppz02+bz\n",
       "sA0qVTtZ8wL9XHY10359WG4SvmzEjaREGA3b4yVKxHPf2LPiREyeYj6hNBSTGGGj5kiM9zGdlf91\n",
       "vd2/Ys+yJXJ8lW1r6TWRr3upMY8l8utLP5eVjCIPEVNFTtiFXI0vZjaUzutx6jNf9Kd7+mnevEow\n",
       "iHE3idhs75ZqDHYunNdh9HXP6l+Hg29bLJ1NVV3Kto+PyZy/YbCfv0gfwiWx5y9ifhjRAyL+Uz+r\n",
       "OKUVuxwAAAAAAAAAAAAAAAAAAAD8jwFe+gAAAAAAAAAAAAAAAAAAADwA8NIHAAAAAAAAAAAAAAAA\n",
       "AADgAYCXPgAAAAAAAAAAAAAAAAAAAA+AvCztzWDlJkPRTbzEpkV9ZBMvmUZsMy25+VJvbGxM5G8w\n",
       "pTdALvLwpqXTFxtehvMxO/M3acpn4c27MufX33IZ3nDt4pG/iVxVc3ptG97ctFAbaFkb96ZqN82n\n",
       "F+HNZeWGaJ/Ow23aq42JC7HheDW3NyMexcZdciNGTZ7xJmt1Ga4vIqJMNGle2Jtz9mKj4py4Xi8v\n",
       "7A3kn17xRrjnF2emXCE2N3v89NKU23e8iezNbmvKdWLTtp9+9c3peLDVnN6+5U2Fv39nb2L//BVv\n",
       "3Pv41TNTbnHGbXi2sMt+dsb/Zblf9rub98FrZpmvy+kY3vRtpjZ1H/dhXbwVG9kddvaGaK7n64va\n",
       "3mjv2HF6Tr3zruqwLmobOXWGjZv8/CUunI8nF/4Gy+fL86Dc3ezOOx+EkvSDvflfJTaYc7f2Btr7\n",
       "PaeXuXC/7pxfptubH4Jyk9rfsku4jl4+/crMw6snPzsdrzK7f7XtDec1tW3BE7Hh/fXdnSn37ob7\n",
       "VLrnOjo7uwiJExHRo5c/ZTmxSbmm2fF9jxt74+p0uTodF5FN3kcxRg3Cxs4rW88p4U38hshWnXID\n",
       "6DLyCYjcSDCLbHa/KLivuLm/Ae9obC6bqQ1grZFDb6o4uHA/1JvpzhdhfZEbERP5foxE+kGj2ii5\n",
       "a41dFVXexilcuXnm25xsEd60WO+xae1nmqlNRp3YRLKPjMmTMNPDaCtCN7Cg07t4C6TOGntuEhFR\n",
       "IjcTFUNAzD+UGwaXM9sWDBPbt9imqvK/orL9YW+T1uR+G7ZK3Y5t/CnZHmybLXWxjmxYLvM0KN99\n",
       "NOpW5y/Pw3XxQfggsU1tJculbS/Xa7aDlfJxb38I+zvH4947X9Rh+7k49+876l3aP99n748VcmN4\n",
       "ydu3b73zP//xbVDu7/7xV955XQl73Nsb4XbCt8iKiFMo2vfYhvVlo35/+eJF+J5Hf9PjUuj2NNi7\n",
       "xtZCP/b7vSm3OmObNhk2lohoNmO5MTLGDCPbtEnY426M5LXk+l+s7TF+d8v+Tdnbc9lE5OHQRuao\n",
       "on9Im2htsktE/ibsmT3vTh23UxLZuDoXhvUnL56bcv/y+7+cjge1wXJZR/Ir82SYwrypZRAMAAAg\n",
       "AElEQVT0r9cbM39mVLsUD4b+6bHas8HGuKQfYVj7JmvNGw0/Qz+bSIzN4LWNdGNYX4rCtwteMYxN\n",
       "sT9dx/2wiNjjswXbwjy323MjbOEU2Q2+qni8kNUfsxmVeC7T9/Z8rk84DWsz7k9p8H/jGNkwW2xw\n",
       "LcdQuan4F4j5W9R/EM2e6k3PpRzxeB3Zj54mMT5rP0j7wJ9J1ObqzrCFo+h3sXaSt7E2Of+UiMhf\n",
       "oTdbD/eHfvTb00pf64elL7pt5vOwDz2b+b52IjrYx5uPwWuIiDa3t3wy2X5pmYo5kqEHozJCk1FH\n",
       "9cwvwywL99dObRLfivM0sXU7y7js1ryHiMiN4pmeYbM/3YwPk8xOryi4HHIemVDkubHo11Vp2zf5\n",
       "n65nidTL2HNtqVeyOWMur9/sdtqjsDsR00JE95tn+H3Nv6/VvpkqR5aF/X2ty/q52Wd0Px7HcPm9\n",
       "7Kj6t0r4hU4Zk0qnfi+NZyTO+XOnyejX8rkHke+3reb2fE7qVWz8kmNRrB8msrEivnEmfEdLt7HS\n",
       "BwAAAAAAAAAAAAAAAAAA4AGAlz4AAAAAAAAAAAAAAAAAAAAPgDy2dDO2/FYilyimOg6JIBP/lcZS\n",
       "MiI/VFthhJgg8pe7JWqtthX6YlDLXuercEinK732Owsv/6qcXjIaFPty6bdYxq6Xvp9+V0vLEgov\n",
       "x+1VWKn2EE7vyfqRn4WrcJlaldd+2JyOm0gcsne3vCx8t92Zcseel9JOR1suOXL7ztNwCCwiopaz\n",
       "R7s7Dq22KiNhoJ5wiK0nV49MuWePHp+OF0t7SfzNRiwP7uxl03/4jsOBzNec9q9+/quQOBERnV9y\n",
       "iKjXb16bctu9WOr+Ohx2hIiovOU+9fS5XfbVSoTNK/yyL6rwEuq0VUu8jfBHpQ5XkId1MVtx6Je1\n",
       "bQpoaDm9d3fh0HNERHXByyQXKuzT3FiuWail1WUVfldep35/LQxb8P7djXd+9zHcB0Zlmxdiyfdm\n",
       "s9HiJ9KEK6rv7SXZN+K+4xgOz+LUkv0uC48Jt7d+SMNvX3OokFePbZ19cf7ydPzT5z8z5TqxHFcv\n",
       "fZcUBYePeLazdXstwgE1A4fBKWJjXsv11R4j4TbEOLeY20q72XLYgLutHRJyLULOjZkIU5HboSSG\n",
       "XthpI+wIkR96xEXCAVQivGYZCQ2SjPay5sroD6nqX80xPMb0owqVl4bLr5eCD40RxlSFVuhHO0TO\n",
       "KW3n9/3BsvUqTE1nhAoqVEy90hizUuWm9G04PaeC00wiTseU2O2WOv6v7e0xfrMRISYjfcUlfF8Z\n",
       "fkZTCv/OiTA6Mb+0E+FxIu4mjWk4pItG+o5FLGSiCLUg8xcLzyDDu+kQxBIZ9iKWV1nnsfRk/prG\n",
       "1+v7hDEkIrq6CofHfSN8i1h46IMIU/f8pR1WSoZSG5R/aYVG6NTvl+uwf1jP/LBvW8Pf3He+bXlk\n",
       "+EWFsn1/+S4c7jQv/947P7+U45cd6q695nabBjvM34uC62x5sQrK7FRZRyNElAzjS0Q0E7bepZHQ\n",
       "PsLWL+d2mObdzvbxJTLkVxMJFyf7gAy/Ees34yB0LBKmJq+47HlkPEwbzoMV7oSISEbUlLmLhbyU\n",
       "6U1k26MkuZ+9HER9ffU80g+FfiQqrFdqhIjV/b/vw22gQ5o5Co/dOipSaoRj1Lo8iPG2P4bH8WRU\n",
       "IeGssDcqb1aYqi/q3PKz1O+LMhyKsla/T6JM6WTr9tSxLYyFAJLhvHoj9A6R70PH3OFUjPHOybHW\n",
       "7l+jGGvH0e4EMg0XiYUm2yYWHicX4XFkKLRYSDgZ+s05u17lOBcbD/P0fqGaUqF/owrVZNatel5V\n",
       "GM/XnJiUWiHIiIgSGf7L6KuaL/qD0W+6ye+fuZFXXUVWfqvK95nPluHxsFJbBEjffbuxx6hWhO/M\n",
       "I+3Wirm25ZvpdjciXlOV+XI6rPRndDhHqX9W+GsivXWHLZeLkJNzY3sJIqLjgW1QHXnutliK0PPJ\n",
       "/XRxED50EfEzFiI09g839jYIbpIh62LzgnD+Ch0XzbgmFqLatzu23fKilkbsmwzp9sVtE2OerGxG\n",
       "aoQN0ypv+S65CqtqTM8pE3JyDCGyh1Cn8maGLlOZTYy20jbHSs/FQh9G2leGII7N0yRFEXmuIkID\n",
       "95GwnDK8oxGhGit9AAAAAAAAAAAAAAAAAAAAHgJ46QMAAAAAAAAAAAAAAAAAAPAAwEsfAAAAAAAA\n",
       "AAAAAAAAAACABwBe+gAAAAAAAAAAAAAAAAAAADwA8NIHAAAAAAAAAAAAAAAAAADgAZC3fWP+mRX8\n",
       "Tsi50ZTz3xzZcnmRcdqZM+WKsjwdJ1NmyqUp3/n88sr7b5im4DVt23rnpbiXnwf/vn3fB+X64eDf\n",
       "twuX33WJd55lBd8rDechIf+aJE2CcnXhX18WeTivk1/2xfk8KPe4OPfTn+rTsasKLX5i1x9Px7fD\n",
       "1pTbt9xuY2K37zJfnI6b23D9ExEVY3U6Pl+sT8fX19fmNf/H//l/8TV5uL6IiOoZp/3NV69MuUeP\n",
       "L0/HZ9UTU+685DqijnX0+dWFec3lgtP+ydWlKbfdcp1vj3b9TyPraHEz2HLE+pIu/XbPtuH3xfNB\n",
       "6dQU7g+Z0u3Jhftrn3H+uqwz8zrUbE/OKKzXRESrGevys0u/zs9XMyNxvwyTC9dZXvp1VBZ1UO7u\n",
       "sPHTG8LplZXfr/uW+4pLF1r8xL7lvuJyu7/Ozrm8u30blGm6Tp2H5YbW75/7/f50/K+3/2Lm4fAV\n",
       "62m2MsXoZy/Zvh9slaXd4ePpOF3Y3zQ8+5pvtjtyvS6XS/OaFy9enI4TY3whIjoceExY5oZOkT9S\n",
       "joM9HmaZHDe5PQ+9XRF5xvmT13+R9sR1NEXyMInyjob+ExGNCZeqTXyd6JNw+tnkpzcavoFTvkUW\n",
       "Hg5JN83xGLZBqbqNK8IJOse/S5+DiCjJw2P3ofX9gtk83A/PL/yxpygMe5koW1KFdXsc/et3B/bv\n",
       "6lk4r0REd1tuq+uPG1Nuf+T+PyV2eoOwac7tTbmcuF5ms5k4tm143wsd6+wxoWtZrqzsMT5N+b9I\n",
       "tybnOnHMOuHIvqht+b8kYoulviwWts3oOu7LScQn397dnI5fPHns/ff9998Hr0mVnXj7F0OOWG5W\n",
       "hsc4IqIfNu9Px4uZbdy7XowpqlMfhnDd5pX/+6Pzr4NyF898Hb07HoNy19/786D1KmyDfnLx0jvv\n",
       "j+H8VeSPI48vWccWq3AeiIj2G66Lq4tnpty8ZB15ehkes27v/H63v7kJyi2ePPLOR+n32SpLY8Jl\n",
       "Hwy/gIgoy9hWpZM9xrTCVrWtrdvNkcs1jmxnnkR86KbjOk/I7l9H4evFxk03cXra1ktaUZf1kn22\n",
       "brL7TU0858gSY5Ajop2Y57XOnh9VI9d5aug/EdFf/4dvTse/e+ePAdtd2IbvB38cqusqKNe1/n2n\n",
       "KawvR2XP0yKsgHni/37shM87hetsaNVYYcxNytwvU56G9UCOV0REueELTOTrvFEkcso/Kip7fJX0\n",
       "QmeH3u43h8Pt6TiPdOykEvNDo+xERLuRdULWmXN2H9+0u9PxFJFz4lnHLLP9+FLYwdj4motKT8Qz\n",
       "h17rhKARfnx7tJ+TUcb90HBxiYhoGPleg7PvmxaciHN+2S3d7pW9zCncbqmYd5dZ5JmeuO1I95sX\n",
       "yLkJkf1sbVKmSvvUp9/J99lWl+ugnJ6zTYYTd3t7653LZ3pTxI8sxDgwRZ5vOlHczHimpMeUwmin\n",
       "fvTnRGVu9EM1iZF9LzF0hcjvA4VlkIgoz8Sz2MhYNFsl95JLhJ2Q7d5G+qG0g/O5PS+oxH+PO3s8\n",
       "PApfxVC9L+4r5zP6mYjEiedYaW4nXkj9cLbcJPprzK7mwvblqa976RjuD9plSEpjTtn711t1Vqjn\n",
       "zk5PsH9E1mWv8pYaep6SekZglGnUz0SMqVnmfB1NDRvXqWcT0rbEnq05+Xwzud/aGkd2vyHZryPz\n",
       "zVyUIzP0Cit9AAAAAAAAAAAAAAAAAAAAHgB46QMAAAAAAAAAAAAAAAAAAPAAwEsfAAAAAAAAAAAA\n",
       "AAAAAACABwBe+gAAAAAAAAAAAAAAAAAAADwA8NIHAAAAAAAAAAAAAAAAAADgAZAXmf3eJ035vyyr\n",
       "TLlEJCGv0WRZwtckiSlHNJ2OXOS11DAMLNcd9c2C15RV7p1X6vwzuhzT0AblXO5fX6RFUC6Z/Pwk\n",
       "omB5XgavqSo/rbIOp53lfl5zF67bQl0/m82CcrO139Yfdjen43fNXfAaIqLjZns67g7h+iIiKkRd\n",
       "HLZ7U64UdXlVX5hyuUhvI+p1vbCvke07ucaU23bd6fj19QdTrqHxdHx2dmbKzc7PT8dSfzdHOw9l\n",
       "sTgdL8valKvORdnPlqbc6Pi+lNn9sEiFbg+j95/VfzOVXpaE+1eu+mdi2I2idqfjehyDMkREk9D5\n",
       "cppMOXmXsvT7nWmTdF6t5J0vNxj5mM/9tpkMOatO/ltkwiCnYTP4KX1R3PnMsO/q+lz/8COr9cI7\n",
       "f/T46nTcNbYtSEWLvHn9rSm3qjizs9nClCsrtmm73c6Uo5r18sX5o9Oxcy4kTUREb99w/y9zW66u\n",
       "uY/O53Ze+74/HR96u/83Df+XZdwHYmNoN3LaRREeX4iIctE/Y0OytJdJElEqNwk5P8Hc8DWSxP/d\n",
       "Sfskf1e2JDP6h5tUQe7Zv6w+EDEnNBkmKVdVNJ+H22Axm/vX5eEyDaNfpv0urC+DspFZzmNomofH\n",
       "eyKi5pbH9bv9wZTbHtnPSgzbTkTkV62tL1KvZN+L9cMk4f8yw88jIspyrrNYem3bCjl7jElFo/r9\n",
       "IeyXffqT77vfb02xqyu2l+PQm3JFIfNgd1g5to1KJ6y6+NnPfuadf/vHPwfl+p515bi17dZiwbYv\n",
       "S+yxrBL2aXfwbXaZhXXs0Pk24uYm7Jcuz30f8Oos7BNu3771zgtDr87Xvv+1PYbbYHfrz0fyM9aR\n",
       "b756FryGiOif/2/uo1PE35G6lFA4veXS9zPkuCTR+iDHJdnXNJXQsfh8jpE+r0be1/KJ9H/bLddD\n",
       "09h2qxPja1bYuph0XN6z2rZvs8XqdFwa9UpEVJU8phSV6JON3cdHEvPkiD1ycp4XmSi3nbyXXUev\n",
       "Xr48Hb9r/Ha6uw3PffLan+t0Yr7k/a7Ka81llUtOE4X1KlG/VxXXszUml5mfeG7MfQrlNFv2Uj8j\n",
       "MJ99qH7cGV3AOV/nXSPHJbsfuoH/i/Ub2UezLNxORESFSK+PjK9DzgUZhJ2OmHrqRV1MZOu2pF7M\n",
       "zf9kC8amS9JPyMUzG0sHiIgyr77seri525yOi8K2GWUlnqdFfPJWjP/dwe83bReeS42j3+6l4ZMU\n",
       "hfg98uyv93TW1qks4/T0GNAcw3kt1HMt6SdIZJ+OocfJrjXqSD3Dk37WvLR9ODmdiOps+t9+vql/\n",
       "d2O4X38xJhu3TVNnnruIf+gm0ccHu32HkessOsY7rstYX6GEbYb0S1ujzYi0XY2Mc62Y8+b3841j\n",
       "ZRpFvfQd5zVN7T4ubUsS6V95ynmwxisiIqkeMdsu0bozGjfQclYb6Pa0xrnYGGVdr+cmrfEcVE8D\n",
       "cqMNqsqf4w59uM50WVtjzqX1Q9ZF7F2HpwcRHZM+7/F4NOVk3ernlhL5TN9y3bHSBwAAAAAAAAAA\n",
       "AAAAAAAA4AGAlz4AAAAAAAAAAAAAAAAAAAAPgHy9Xpt/xpbpSvxlZ/YSNG9ZrRHGhMhfDqWXf0mO\n",
       "LS9R1iFdksjSRutekkIv+y3Dy8myUYV+MkKZTGoJ5djfr84k5tL5vb9ULTWWxHe9v1x2ovCStrzw\n",
       "r08d33fa2uEBjre3p+N2Y4cyyUksbdzb4R7GnJf6JatI2BVR3lXBS8Gzhb1k927LS7LfR0LRHUS4\n",
       "kV1nhzLZ95zG88hyPrm8OhPHXWuHe8jc/fQjE0vLy0hInUmEwzMiARKRH0LBqbAcpdV/J7/OM0MX\n",
       "U7X20AoZlYnlylaoFyKikVhuEQmB14s+pLv4F2GhPudVvRvPcjsfEiuMw/Ho9w0dhuUz1rJ3IqLt\n",
       "we6HwyjsRGTtsIxisVgYeXD+ctnJiG2nQ6bIpeVyCatmFKFHpsFeHvz6zbvT8YsXL0y5y8vL03FZ\n",
       "2/W32XD/dyJ0YZ7bNuNyzSGY+s62b7XQP7mMXtP3csm4PR7Oq3B4i9hy6kn0m8wIOUpElHq2yjYG\n",
       "MgRbbPm+tG96GXLTGyFSVTnSwgiRquyqNdbqcXIw+oAeJ8cpPL4OXmwFFfbVMM06TJjlx7TK7g+D\n",
       "ES5q7489saXgXv6IbVUfCRX07vr6dHwtxkbNfuA6KmLRHu4Zqm0yQjrpkH9W2hPdN2ybLZdlMtyA\n",
       "3VfqOdtC2Qd0SFOJ7NexUMp9y+1rhd0l8kOmxMp0dclhZI/Kv9Fh3D5Tq3AqZjiJ0Q7hKFkvOQRW\n",
       "LK+9CK2w3/rh3e42H4PXpKqfvHnzxkjbT+/p8ydBuUr5M4fdbVDuh/d/8s6fvfh1UG6rwrstMnYG\n",
       "njyxQ+8uhK2vqlgH43543Ibt1urKH/8svSqUvZXn02T751JuiIQklLZvFgmFJvXKRe4rw/7IMhVZ\n",
       "xM4M3L96I+zQJ0Gu87vO9rEccXrv39lhZB8/43CC7cTXuMbOaynaPTPGQiKiXoynsXlyLsLKWeGh\n",
       "iIguz9hmLEvtx4dtwe2t7wflZXhMTr8IzRou1xfjpuU/qRCwMszUaMxrSzWHr4wQW9qmTVZIQjV5\n",
       "suxlp+b+zTHcVmPn/y5DIaaR+VwhbJcMIaaZi34Tk5M+ThIJKTQKG9zLkKuR8L/yuU+W2bYgE2FM\n",
       "Y6Ga9g3b2eFo99eyZDk534qFKm5ESMhYaNZchH3NI6EjZXhYax5FREQilK8OJ2aFF9Pz+GYM94Ge\n",
       "BnliIkMNFpH5bi7a5os5jOEXrVf+M8faCKusx6XDIWxnjzu/bcYpXDD9TE+GnK0j8z7/SV0kFJqo\n",
       "s2EMy42jDr0VltO2ZDT8py/svvAxY+HhZWjQztAVTSy9pRjXY75e0wi/RcxhrGebRP54Hw0tLjhG\n",
       "nntIvYqFYJN53Yu8WttxEBFJFzr6bE3oSnR+JEO9RnxtLw01ZqaWzqo5VmaETNP37Y1Yg/3Bn6Na\n",
       "5ZdzJ132wQg1qEPqOeNZxaR01ArX7VTmrGcaMpw2kR+iNxaWbxJ/xnxjEvPXXMeENygjoSgrkT+y\n",
       "wtLe6y4AAAAAAAAAAAAAAAAAAADgv2vw0gcAAAAAAAAAAAAAAAAAAOABgJc+AAAAAAAAAAAAAAAA\n",
       "AAAADwC89AEAAAAAAAAAAAAAAAAAAHgA5PNZZGNNQWyjyNHbCMx+j5SLjdhjm9/KzZ0OrX3fXmx8\n",
       "OOlNroz86g3Dmia8seWZ2kS9KMKbzQ16c2qjWHpjNn/T4vBFenOprm+Ccrudv8Gd1VbHxk+vacMb\n",
       "QlW1LyfzdxXZXJ7EJnVlZ29KlTmx6VtkQ8Nxz23V7SKbqma8edUoNpqO7H1JuyNvVn2IbG6aldzu\n",
       "y6Vd9mrGG/C6yCbUvdjgLxcbJMoNwr64RuhobDM3b2OxxN4czv7HR+6Zl07+fZMiXLm66Nbeul9k\n",
       "z9i41+snMdviHUdKKIqRqc5qbRL4RWounI9e9bt+tMrkn8tNaCV17W+8LJs+vjE5l6OqwnbrU/rc\n",
       "D/UGk5+ZtEFLw3Iu9eXkRqB5bBNakT+9cad325L7nrnBOBG1HdvIs7MzU25e830/frw5HTdN2MZq\n",
       "Vgs77axgbTwcbLs1dDxulqU9DleineTmvoO1wbDOT8RmyA2CY5uUOmG3rM0WiYjSlP+bVM8pDLvo\n",
       "dA8z1KXQG2im4XLpjSutLUL1+JoZNjMV7am7ndUP3eTrcmq0wdirNpzChc+c/3tVhPVF943NgceO\n",
       "fUS3u5bzYW2yTURU1TzOdXs7PVkvk7GZJhHROLCcvOaLTYEFacp1EduI1dvQNLapqmj32PiakNx8\n",
       "VW7UGdmIVbRHVdl2sG2PQs6ufyfyMEV8cmlL3czP39OnT4PX/Off/tY7v729DcpJu3N1+cTMg7S/\n",
       "ZWn7N03DNlL3k0eXl8Frpsbv1e9efwjLjb5vlxu6/Q+/+Q8q/XDZr+9ee+f/8z/8Y1DuuPU3b11c\n",
       "sg25XNu2/smjx6fjpglvXE1ElIkNtFtjjvRIjf1yvJcUhb9JrrSLY2STZ6nbfW/Lef8Nts46kV5s\n",
       "jPf6lPBDZ8aG4J/SZp29FX1NU2Xsc7V7e+xOV3yvNLPLLueNTviDI9ljt5yjxjbtrQvuU6kxFn7K\n",
       "H9dR19hlL4TPdrXwfc8iC7ebtn2WD5dlvo5Z/qb2wRd1uE07tTly1w3iv/CI7wr/nqatV3Md089y\n",
       "fpkslW1aPz9323D+hta/z9RzPuRcUbNacB3N5nNTrvbkbL1qdly30o/XyH7YtfJ5xv3GpWwemRfk\n",
       "bKvawe6Hst3bSL+WbSjtW2xc8jYBjzxLGMVzKOojzzMc58GW8v3wUun/aPjQ+rlWZvhPMbvqXy/G\n",
       "gMn2b7qWdWW5XHr/rS/XwWu0jZiMjc6bTvVxw38dVX/P83DZF+pZp+e7G3N1In9D+iHiSKb3qNpJ\n",
       "Peew3FxtB61nH/pZnxxDY/M+edUUeZYgbWQW2Wg+yblNh4gv0Mnii+coaWLbNyk32abFy2sf8zNE\n",
       "H8ome/4g7zUJuS7yTHoaWRdjfc2J8T8255DzoNicyMuDuq+Vvk6vMvqNnuNa46H2Aa3yy+cjeg5u\n",
       "lTEh32YM1vMqrXuGbqfa5zWe/SXqmcAk9GownlkSEY0T5yMxnpkREZXCFsbaV7aBrjOJnBf0Xbj+\n",
       "sdIHAAAAAAAAAAAAAAAAAADgAYCXPgAAAAAAAAAAAAAAAAAAAA8AvPQBAAAAAAAAAAAAAAAAAAB4\n",
       "AOClDwAAAAAAAAAAAAAAAAAAwAMAL30AAAAAAAAAAAAAAAAAAAAeAHnTNOafSZKcjp1zppz8L428\n",
       "RhrH8XTctoMpJ/N0aEdTTqaX5qXKU6LFf7yvn95QhNOeV355iyxcsLKsvPMsCcuNiX+jPulF2lk4\n",
       "E4rUqNxSlb2duqBc3/llP1C4DZzz01vM69Pxen5m5m9e8X8X9aUp14p8TF1vyt28vWa5wdaXVNTf\n",
       "4Fh3sjI3r3n26unpON9uTLm64Lp4dPnYlFvO5pxebt/37u7udDz10+lY9jVNO3LZs4iuZEJH09SW\n",
       "u2+/Hh3nz02+XJ6HdTFX+p+m4fQT9XNi9BvKOQ+W/n/6T1wSsUGF6Ie6LpMkXGd97/ebztBFWV9E\n",
       "vn2SrNcX6r7htt/tdt65LH9EXWg1X9h/CppK2tnwOND3fv9MsvCN67r25UQGY2NM34m6nGxdpInz\n",
       "Mfa2zdh0R3FJ2A4SEa3X69Px06ePTseH3TEkTkRE2+32dNw0dtq16HtpatuCXNjtWD9s2/Z0LHXK\n",
       "GuOIiJJc5CGJ5EG0p7OHWpomYQtG2xZ7zTn5/WFRhjvmF0U3bEGhbYthZ1N/SKYyDxesKPwxOU2m\n",
       "oFysDSdDZ3XZ9flndN+3bNzl2dI73x8PQblj6/eNQozxpWVjiShPhV1Mbd3ORHGziKGV+uyGcNmJ\n",
       "iJyoF6uOvsiDsNuZ4ZcRERWzmbyTnV7ObZAVsTKxHklfyho3iIiSlNsjzSpTrqxYx47HvSk3r4Vt\n",
       "L+309ntO4+LCH2/+9Kc/Ba+5vr72zq1x6ezi/HS8vrwIyhARzUT9x/yW1Wp1Op4vZt5/xzas583W\n",
       "H1NefR125JPRL8PFKuy//tUvf+adX53NgnK//NlL73w1fxGUG5W+lRX7h/XcmHQQ0V//zc9Px//6\n",
       "r/9myhXCTlj+ZlWpuck95xlyvGkaezycxFg0DPaYLPv1sLfTk7ZvHO30ZDncKPprxH+oC66jVT03\n",
       "5eZztrNtZg+IU8J2tTPmW0REf/zDt6fj58+enI6LyBwhFf3uOLSm3Nma+2He23L7HfeVJLPvW4n7\n",
       "vnry1Pvvt9W/B6+5vPT7U9eF62J/9PurpbPzud82y7Nwf93sfBvZdTyHG4ew3RqV3z62hr5M/vXj\n",
       "GJZzNCq58H2bo18n+124rQY1TiZCn6uIf9j3cuyI9K+Myy+v0bjhft8CJ2ISN4ixMTaOZ2K+34+2\n",
       "nJxzpZktV+Rs48qyNOXk2N22XEexsVb610nEz8iF/5CXtm3PhK+d5LbvXs14LqXT2xvte3vrP8Po\n",
       "jmH7Kf2y2DMH+Rwr1p65mOvMZv6YKcd1yeb2xjs/HMJjPJF/39yYe1aVX0dlHh7n9DMLmVobG7+8\n",
       "vhcZE7zxJ1xnudKjPPKcxpOjcNl7nR0nngEVdh/P5DPbiC7K9GK6Le2+NQYQ+WP8bCn0I2ILBmG3\n",
       "41MELlOe2bZgFHZ2jNgWEnOiXMjp50GSrrvffKaquW1i/dB/5mPLefMtNVaYc1QlVxnFSpTuFUV4\n",
       "3lGW/jMg6/mXfKY0qbHVmv/qMlh1q3+36uzL+4TrqFfPkIaBz7PC1jHpo8aeB8tnEDF9kXUWe1Yk\n",
       "seSw0gcAAAAAAAAAAAAAAAAAAOABgJc+AAAAAAAAAAAAAAAAAAAAD4D8EFm+L5cHWUu1iPxlSbGl\n",
       "TPK/IRKuS4YDGiJLjeWy62RS6Rmhb0a1hLo0lrv3nVoaNYWXZDsVEqYw0kvVErlE1K0MpyCRS8mI\n",
       "iDJjeeVy6Yd+qY26bVUIpywPL//SSyN7kVzX28uhZRihOhJaTS5pq9fhJcBEfpikza0dgk2+u1wk\n",
       "vMR4dXUeEv4kd8Hhnc6u70y5XoTLKSNLvOVS/NhSVSk3TrJPRa4R941EdPJSiC0B9JKIhMSQId10\n",
       "eolxnY4gZIdGUuklYfuSCZthLdsm8m1Lds9lsDrs1WBUhQ5PZC1B1SH1bFvopzcYNx4mFVpNFCvW\n",
       "voVYdhqzxzIs0WxWB2WqyrcFRRFug8VCh5TjOjoc7DHmsGebFF26LcL8rRbh0DtERKMImShDHGmu\n",
       "xXJZGeqtiNgtGXrk2Nhpy6W4OjyeZBKdeYrYDKkv9w3PUBKXQ4chkciQJE6PoTiAxroAACAASURB\n",
       "VAZZai/zT1MRwiLxdSfXMR1/RC9rtnyDzqnx0PBJVHQWyoz+mqtwR5MRQiGNhMQhIyScjr/YG2XS\n",
       "Zc2GcP9KVVEtn0E3tVxmPkXa9yDC5TR7K9yGz2xmhxeTvlksLKcf3lVm3rZvXqjBIRJKgmQIBVNM\n",
       "/Wn3wzENlymPhMfIvPAMkTB3IjRoHtG3XoR7qis7TJW0DX3r19Ef//CH4DVHFYbz/DwcovfqkkM/\n",
       "ZZEwGtLPi9mqX/6SQ5o9ffzI++/88VqLExHRv/zz77zz92+/Dcpdv/FDyfzTP/7HoNw//m//i3e+\n",
       "mIXDSlWVb8+v1s+Dco0Kn5SV3FZZaoc7/Zu/5TBzMbv9ccPlarttUGYY/Lq0bEZd69DYrOexkHBe\n",
       "mI4pNsbwf802nFciPzRV2+xMuYtzbpuUZKho289IRP6qSJlaMa6vVnaY3FL4q1dLO5T1n373X/i+\n",
       "FfstMf+tkyFcIzZ7FO3ZmiGS/OnIbBkJ/SsEz+a+j/XocXgudffW7w9tF87HpML1pZFQXBIrjO5+\n",
       "6+uHDLc5uXD7DsoX6w2d1bZKh6D5jA6v2xlN1Sr7a47dauyphP1MC7t/9SKk+e5gh/mTfxmRsojI\n",
       "D/ValJE5VxEOlR0LUyP/ayNhkg6i3VcL29/MRTjWKuaXimKMowzBZF5Cg+h7EfNGRcFzJyuU0qf/\n",
       "xM0m2yfKRFhJPX92vRHWqPPbPTGff90vDF8qbNXF2rZv8tmT7jebTfiZzWbv912rP2TKB6yrcPvq\n",
       "KMPW/EFvvSB1O4uEQktEPUWnaSKUstm6yhc2ot8HQgYb4eJUmbzr0qjTy4ex8MteZDt7LHIyBFsk\n",
       "rLoMyZ2IMcCIjPkpezJsvp7cCeRzsjQid/TCbdp5leHKpK2P9Rs574mN8ZMocCxEtexTlq4QEU1C\n",
       "Toe5TO4bQtB4VqTLm1vzuUzrYrgNvHB9qq86o24zNSey+qEOkWq1Varylht9JVN1MhM2YzCeFxCp\n",
       "dyfWg0UiSkS/jobbjIxtkkGMD+ZzynulBAAAAAAAAAAAAAAAAAAAAP67Bi99AAAAAAAAAAAAAAAA\n",
       "AAAAHgB46QMAAAAAAAAAAAAAAAAAAPAAwEsfAAAAAAAAAAAAAAAAAACABwBe+gAAAAAAAAAAAAAA\n",
       "AAAAADwA8nGYzD+nif/r+96UG4aBE8xHU24243dMaZKZckVectpjZ8pRlpwOk8R5f41TuFyT0/kL\n",
       "y6UqvWkagnK73cG/Lg2/RyvzTJ3np+MkSbT4j/f081AYac9mM+98aMN5LbPSO8+y8H2T3L9P37d8\n",
       "PLRanK9L5H3tdpuVFechyU25J4+vTsfLembKHVu+V7rjMk5k69hx35yO51Vpym1E2sf9wZRrHadX\n",
       "VZUpJ/uK7AJJYr9/lf8450y5abD7niSxk7g3bgwn4pRKGd2GhsG3J1/2y0+Uo7AZkVfUieM/s0hd\n",
       "yvobVN83TAZR4v+R5eF+k2Va38IJdqrseW7066r2syHEmqPdD9sj66Ira1OuKIrTsdWvtT2bpnDZ\n",
       "D4dG/cJy02i3x2y2Oh1nqW0LKOE6G0dbz5OU6/xsuTblSlEvs3p+Oi4itmC15DLtDjtT7vb29nTc\n",
       "9bpeRF6F3f9SdxhZ5Wkix7xwWxD59RAxGX6/c7Yv4N0rseWyhHXKKUPTG/lQwxx1Yzj9offb3aoz\n",
       "rbPWmOzIN05WerL+te5Z9vgLf8TQ2bb1+52V107JTdrQ/kie+/orq7Lt7TFZ2iSX2gpTFFxHk2kw\n",
       "iZzQq5icJKbPknESeY0knYg/Y0lnooHziAlKPTudGccqD17ftet1HLhtZgvbZh+Fbc8z21ZJpX2/\n",
       "ee/fy9DFpvFtlWULy5r9mzS3fZ264OvXZ2em3C9+8YvT8Tc/+dr7b74stDgRET15/JV3/v2bfw3K\n",
       "/f63f/LO/6e//9ug3LNXT73zRf00KLdv33nn+XwelLuar/wfMtYdl9jj1+Pni9PxL7tfmHL//Nv/\n",
       "93TcJTemnMSaw1WVX8eyv0ofQXPY70/HLtIRu64Tcnb+pNxepK1ZzLl/lMIXyyKJl8K256Xdb/ZH\n",
       "HtePre3vH4Yj35fCOkBEnpP//sP16Xhu6A0RUS76XVHYhqtvOA99F5knV6x7ZWqXfdpxenpsfP78\n",
       "efCa//rdv3nnaRbWA61jlg+x3W69c5eE22Cz8f0vOW66NKyz42g/w5AU+tmE0QT96NeR+cyB/P5e\n",
       "GmNMUfhtU89YcFbb/VCOm6PhOxERJWJMmJztkx8a7ntJa+tfVohnGOL5huXDEBFlYqzMU3vc7AfZ\n",
       "l2P+JstVZWSeMee6nc3YflSVXb624/Y9drbulAWnF/V1hM7nEUdD1tFw9O87NuF+nqj2dIatn+Tv\n",
       "Rj8h8ueeq1VsHsXl2Gw23n83N9da/FNeVTNpX/kzk9Jl039V/caYTn/h92Sj0MXC9rnks4rYs5NU\n",
       "zLmshxW5aifruY/2hQfjvqkxDyAiSiK6KPU0jfSvSYzrU+TxksxFFnlO44Qt7Dr2N/veTnwQepDm\n",
       "ts3InOg3vfHgSd0rNucoCq70WH+VSB2LPacYBjk3iUxOOk6jj7SnzF828/t1XoTH/C/mkIYPp92q\n",
       "3qhb16ln5kEpooTs9wCW/RyU8nWGPdbz6dF4Tqmfuc3qcP+vVP4KMeaNkXci0h8eIs9l5XhdRvxS\n",
       "6YfHngF7z5cNvcJKHwAAAAAAAAAAAAAAAAAAgAcAXvoAAAAAAAAAAAAAAAAAAAA8APDSBwAAAAAA\n",
       "AAAAAAAAAAAA4AGAlz4AAAAAAAAAAAAAAAAAAAAPALz0AQAAAAAAAAAAAAAAAAAAeADk/TiYf6Yp\n",
       "vxNK88xOJOX/iqKw5crqXpmaKDkdl5HXUjJ/Werft2174xr/fL6og3Lr9cI7t8pVlv71XdeF70vO\n",
       "O59VXBdJ4rQ4ERH1vV+Gtm2Dcs751w/H0chr6Z0nWbhMQz9555PLT8dVbbevc5zfw3FjyvV3zen4\n",
       "3fZoyn317NXp+NmTp6ZcJ/I7fv/D6fj2sDevGTquozGz+wARp10VuS01cRu4NDHlZD9KcykX1gEi\n",
       "orGV7WGnnSWcvzy55/tcF7nvOAoxX86FVYwmVY7Rhfth3/t1Po5huUkYgCyP1Kvo2MM0mXL9JDLu\n",
       "fJvmXDj9SaWnbQhf759bZcojttRLj9R9E6E7ViaIKEm4HDrvfv44w7rdTr8PfjtZNkjfpsjZLs7n\n",
       "Z2YeKmE/k8SuF6lGKdly9YztU12HbTsRkRP3kmXab5uQ+OcMctrGuEHkt01sPEyFPYm3E+us1+4R\n",
       "OzMrRB4yW1fygushi9gM2f+HwbaXbcvjX9/7RqKbwjom9ZWIaDBs0uT8OnLGNyu5rhejngal89MQ\n",
       "boNx4vIOY3h812SZr6PDFDaYbe+nZ/WBvPJ/T4z+36v0bnZ3p+NtE8m70INktMe55sBpDE3YFhD5\n",
       "OivtjEb6elK3E1u1vT+nyPiVp9LfseXSjNs9YlYpNeyq5fMR+X0lzWz/dz6fn46b9mDKVdVMpGfn\n",
       "9e3bdyKvftmtsePZi+fe+dXVVVBuEP3wXORbI/vAxeWlKXds2ea+ffvW++/R01Xwmm9+8mvvfHEW\n",
       "1sV88u30xaOLoNzh6PuhjsJjd1L5bXjsw3Krhe9rdy23QT1fBq8hIhqHD6fjMjL56XtO7/GrcN2u\n",
       "Vn7dWXqqfTt/jLfHr8OB9TSNjEXyvs1uZ8rFxkD/vuzX7wbWnSpiNM6XQk9L276tVjzve//hrSmX\n",
       "E9s3y7YTEX31zU9Px6+//RP/ERmTq5z/q4w5GhFRXbCOxXynzcR11EXm+zPhq7TKZizPwjp7fuH7\n",
       "dk0XTv949P2qu03Yxh2Ovo4u5uH+n+eqDR3XmTOqQs+zLTtYqnmepZdTovwRQ/9KdZ88D/uOlRrj\n",
       "5wtuj6q+35xhCJujHzPI6SWJrVd9y/eKjW1SlyYxn84iOltkXEdftKEgFWkMg92/pAuon5dIkobb\n",
       "appi832mE/5rG8nDNMacFWZR89ht6TWRP67v97697I32yJR70/ThMpY51+vqLDwWEhFdXj7ik4hd\n",
       "vb6+OR1vt3fef+MY7jdp4f9eZGE9mNR9Ld9MP9cq87CgU/mR+ZuMuf+XcrYfKeeUeWbYgszPq2WD\n",
       "UjW3aSfr2Z+aOwl/03r+QEQ0iTEriZQ9Ff55ZjynJCLqheGJ+dCZaGupoWNs/iv8TTfYiXfEdTQc\n",
       "7bLLOirK+9nV+87p5VxW+1US6Rvnhr4SETlhY2PzbjnfStTzJWc8MxzUvKzp7Pnc/x9y1S8/I5/L\n",
       "6DJZz5eaprmfnPI/LL+oiIx/3n0aX4+aA88TkiryrkOMbbFxTpY/Nn5JXdLPFiT+c9DwmIWVPgAA\n",
       "AAAAAAAAAAAAAAAAAA+AvC4X5p/yC5dhsr/4yMRb7Tqymqcu+UuH2FvQZOI3Y0nkSzP5xrVSb932\n",
       "FF7lkagvmPIs/DZyUm9Hiyr8dc5q8u97TMP31W9zZzOuC+tLoky9tTwew283bz/6X01Z6RWd/+Yv\n",
       "L8Jtqr+8ll9Ijb391lK2x2L2xJTbHN6cjq8/3ppynXjLKnVHs1jyVzNJwmWsI6uS9t4X6ZGvhcXq\n",
       "mdjqCvkVRBv5UncQX40k4/2+2perjWJfQ6ap/HogrNc/SnJ+Il8PyLfkhfr6bTRWBegvYaxurleW\n",
       "aJ37jKz/bLLrP+35vy6LfO7m5JcYfl3qLx9E6ioNo+zqS6LBkMvVSjrry5G28dumHyOrUASyLofI\n",
       "l51ypYMzvjxNVbvMjK+Uc7XSUn6BlEVWp3kriSa73eSK1Fg/LMR/sb6y2/IXdJsNr0qMfZWxXq9P\n",
       "x6vKtkfF0xen44+3d6bcUXy9sj/aqxJrqR/ii57S0C8iossZf9k8X9lfli9WYuVAZAWaXCHXGOMQ\n",
       "EdHNzfZ0fNv4qz2H0fgav/R1p1qEfRJtMwZjZY7uh4nRBVyqvnBPrdXBXM/5Pb8QcsrPsMYv+eUl\n",
       "UURnE7Vqqg/LtWp11SDG65tre6y9FV9eH7v7fXWXRHw4f9VOZKWPKO+UyBVtdj3LL4ljtkCuio2t\n",
       "HJK+6OQiXwELm1bJ1QKR8smvLcch8tV0I1bcRb6U3u+4f42G/hMRFSXntdfjjdHNl0vfTlRV2Je/\n",
       "OOcVQFNsRbHoh7u9bQeThOvo4/U777+7bXgVy6B82fUy/OX0r//6l975xx/eB+Xy/JF/noT7Sj2q\n",
       "r4qvwvOCXH2NN+XC1u9t++mI0y/WdvvOr8QXvRRebTUom9EaczjXKnsp/M3378P1RUS0FHa6b2zf\n",
       "ZCvGQNfbK33k177lLLrk7nQ4q3mlyd37DyFpIiLKRRHrS/sr+8WC7fSbN3a/XpzxfbvRzutxEv1a\n",
       "+E5NZEnGtBf+yGDPpxePxRwyte3WtOO2Kc/sVdd7uYpVuUHPDZv0eO4L3hp+5Oh8uWwfrtuFmsdn\n",
       "xteqhVrakK+4npZFuD/cbf28uSk8KBzVF89dH+43lRq752W4jha1789MRj88qtWGlVjJtZrbz2na\n",
       "jq9LIz505a3qtseixZJ1JDFWLBD5Pvm+Yf+1i3yxPIrVUd1g24LbLY8DV+e2/1oIP1evbJS4gfVl\n",
       "u+UxlIxVJkREd7d2tBJJXkRWIgm6pfBvIlFDpEuzUysjW2MlXab6Xb0M93O5ojimU6NYWXLc2s8z\n",
       "jmIlUqp819ywBVOhVthTuEypWso8GtW8P/hjz2h8ga9dxa4R/S0y95Hz81i0kUTYKj0H+UyvfGYd\n",
       "oegz+vloYsxLO22rxEqw6LMikby1EuRT/qRfGqkj4SvGVgfKOeZMroaITKuGSMQZibxvVts+ViWe\n",
       "55SRFbel7Nfivn1k1V8i2r2KRdiY3W8eOYqJSxFpJ28Oo55jjUb/ylSHGI0IKrrO9QrXU3pKP6y2\n",
       "kqt2BjVPNoKBfPGcPqmMFTyZXukTrjP9zM2awumV0TK9tLX1fOp4DIz1G/lfEptLiWzoFYtWerp9\n",
       "P4OVPgAAAAAAAAAAAAAAAAAAAA8AvPQBAAAAAAAAAAAAAAAAAAB4AOClDwAAAAAAAAAAAAAAAAAA\n",
       "wAMAL30AAAAAAAAAAAAAAPj/2HuzH0uS5NzPYj9r7lW9VFf3zJAUqQW6gN4EQf8/BAG6VxfEJTVD\n",
       "cnp6qaquJddzTuwReijWcXNL/1wJgpB0E9/vKSKPhYcvZubmEekWhBBCyDOAL30IIYQQQgghhBBC\n",
       "CCGEEEKeAXme5/DHaZqOx1mWQLksy47HaYrfIw1DdzyeZ1xekrjfiiKDcvM8qrr6ckVRBK+x9Sur\n",
       "cPuHYfDO9/t9UC5P/ftUy0VQrqp8OV2PvmnCdZhG77w3dfrCoTn4cm0flLNtT8GY2r5bLEpVRvAS\n",
       "ERGZJlfe3M9QbrFaH4+/+eabSIGuvPfX11Asu7s7Ht/XbpySogyJi4jIMKk+wqooo9LTZJyg3Dy7\n",
       "9iY51tlC/TYrPR8mXHaauE7PI2VrW84zbNe6rtOEB3RU9jWOvk6hvp3F19nR6LCrg//3NAkPQqLU\n",
       "aByxTnWTs405x3JZ5tqbpn4f5aAO1hc0fReU6/vWnIft8PT01C+/D9t11/n30S5zsQj7GRHfH4/A\n",
       "Z4iItK3yxxIep8fzA/CXpuv06ZxjO6xSpc8pNsRF4dprx0NT17W774z1QI9NXjidsH5ak+Wufg8P\n",
       "D1CuWFTH44uLMyjXdq4dsXm4Vf6969w4DYL7Ie9dedkcHlsRkVL7rRGX55VdRvpIzadz6Y/nIqms\n",
       "+Of7ZmZeAnowzkYuB/pi7BjFGolRjywB/TQ5wTn1ZdC4JYlf1wnMHXZORnHLOPm+YEBjZXR+Vn2Z\n",
       "l+H+/3xfZw/9HPZbIiJj59oRsy8dw8ViQu2r5uRpcWTsN42u3gTmIRGRcXS/IT9oyxNR42kVSUup\n",
       "eSkWQ+eZu2+S4Dlex+RTJGbIMqdHy6Xvf5fLZfCak5ONX0YaLv/2zsViVRkuS8TXjywyZB8PKmYz\n",
       "tqvXDJrTtV/X/e19UO7l5ZV3/v7dh3BdTcw8N+H7fvfqlXdeAl2cbYyg9KCM+PpUxVVpguUuLy+P\n",
       "x7eg7bef/Jh5u90G5draX3/oNdcUmRP++Y9/dPWJzHNF7vqoKNdQTseYKHYSESlL10faZW9PT+A1\n",
       "8+Tign0TXsuJiLS/ub6ItUnHGfeRWCC/OnfHatynEbevadxvU9dCubp1dY3Fg6uVs9EarGNFRBoV\n",
       "b9oYFfncizO/z9/+y89BuX70dTkrwz4uM/fpmjooZ+eeTNmK9SFOxszJWdhv2zm4ysNz8mq18uXK\n",
       "cJy7Xfl21zdhfdkXfh+VKo5cLSNzt+rKMbLuK1U78sgcenl+cTyOxcOTmivv97vj8fXtDbzmQenf\n",
       "hKdNb87KUqzbQ+/G+u72AOV8fXFtGjtcieXSjdvQ47lWr4naFtvrb/tPx+NPH26hnPa/em3y+bfw\n",
       "eOSzb08Xyu9oVgs9X+M23alnKs0B+wy9JrLPwnRcpRkG+/ewLtpwCS1jRhtbJ+F2FcY2ZuUPygzb\n",
       "l4jSkRnbzawUum3C/t0+98iy8Pw6mT6Z5rBuWz8462dwEfvq1BoajZOIH4uWEd+i/VMSkcv0b2rt\n",
       "j2JNEZFEPaeJrZOXS9fgpt5BOT9uxjG5fj6nQ/zY8kOvYfTaJkYsjh9V3Bh77qGxczWaDx/9HQXp\n",
       "j+bacHn2efI0h9uln2sPgy+D+qKsfPu0ccIXrNWhNepjuwnL2T7y1qsR+xpVO/ouvJYQ8ccKjZP9\n",
       "Lbo2Vs9z0SsW7vQhhBBCCCGEEEIIIYQQQgh5BvClDyGEEEIIIYQQQgghhBBCyDOAL30IIYQQQggh\n",
       "hBBCCCGEEEKeAXzpQwghhBBCCCGEEEIIIYQQ8gzgSx9CCCGEEEIIIYQQQgghhJBnQF4VJfyx7/vj\n",
       "8TTNuBT12zSNUCxJkuPxYrGCcsvl8ni8b2oo13Ud/K2qquDf88J/z5Vl2ZPKHoYhKFcuCu98HMPt\n",
       "Hwbcf4fDIfj3tm39MsYpKJfliXc+z3lYzrS1KIqgXJH7fVSWTkfKPFy2iEiuyk9T/D5xzhfH49Vi\n",
       "DeX6xrX/cMB6ILPq29zVYUoCsl9+y9yPWi8tuWrvjFXbG/c8DeuUiMichu+VJ5H+ap0dxuqqfxsi\n",
       "djgrPUpSrJdF5upkxzPLw/UdR7+8GXRaMvt9lIF2pbovI/0/TNo+cf8n6j13YsZpnsP2ZZok0xzu\n",
       "syTz+yRPwvZ1aH3fguwwNb55UPVrhlhnuN9mUFcRv2+nPizXmvu0zS4ol5jL89y16WSDdbsonJ+O\n",
       "1XVU/jjmW3RfxuTK0slNk+tXpK8iIk2zPx7nGbbDcXT2mi+WUE7PRVdfXUG5una+77Bz/b+7v4fX\n",
       "3Kg5pQd6LSKy3z+4+gDfJOL70jHigzo9R5X+XFGA8h+NO4g1MtOOVMJyk1HGEejVZK7Pwdym9SMR\n",
       "0wZQto6dRETaFs1ffpv0XKtJM+tXI/GYJ+jqG71GjSmKiUREKqWzfWSO+X+L2HyoQfGbiD9Wsfkw\n",
       "V3PeMOg5NHZnVx6KDUVEus7Vz843mjESR2pUGCRl5Y8n8ouFiSPHMdxn9/c3x+OT7RmuQ+50uW9x\n",
       "3Hh37cqz4zk0rRUXEZHtcuOdNw8PQbk361+8874Ox9p2tVCCGG4ydp1nYd86Dyd++UvXFwVYm3wu\n",
       "3/V5bP76/rvX6uzXoMzDw513juLSTx/fe+dL5YPGqbfiR35798adjOFxEhFZLFx5yy2O97vBzfFd\n",
       "h8ur92oMlW+uUqxjWaLihwzb4Xhwcn/4wx+gnChbnqpw/Pavvx6P1hsXC8xDZA5tVPvAmk9EZJ61\n",
       "z8Z16HtX1/UaxyOdWmsnxvYXQGe/ubzwzv/867ug3N4s1VPQZ1Pq3zcbwVq28/tlqJ2+POyb4DXt\n",
       "4OsyirtXC38OLvJw2+1cjUa0NzZUZGG7Xi38+1QrN1brNX5e0qv5upE9lJvVHNi2eD58r+KE7Qm2\n",
       "V23XeenqcH5+EhIXEZHNqfPb6LmHiMiD8uddg+e8ttFtwj5D/3+zfjbUNGFdERE5PdVzG+6vRD1v\n",
       "yVNsr2mJ/ZOmV3ra9f59t9uw/W42F0ZuE5TTfdQ0uP/1ejqtcDw4KT8x2ngQ9MU8GkuZwLrbxAIz\n",
       "8IVzbC2syBZmfa7iE338qB7K18fmZK1j8xx+NmljwBkEj49j9bB3GU2f9Kr8WLypf5tA/4uI6CXb\n",
       "NEfWvDunS7GYXLvMOXV1iD3L1es0sDwSEX/dUkWeK+q2I50S8cdAr39jzxX1cMZUJVFtSsA6VsS3\n",
       "KbTe/XwvdzM7vxRgPWfXeejZh/07ehcwGH1D+td1zr/ZdRnSMatTSMes3aA172R8BpKLPTMfx8gz\n",
       "2xnPF149lO1FfYt6poGeP4qIzKo8tI7nTh9CCCGEEEIIIYQQQgghhJBnAF/6EEIIIYQQQgghhBBC\n",
       "CCGEPAPyxWIBf9Rbmfoeb53VKQBiWwpztQW9imyJX61cnVA6LBERSfDWvLIKb6WNtVczTf72LLT1\n",
       "ajBbt69vrsNyZhubTiWDtiXrbfkiOPXLauNv+R1B6oDVyt8ivlqCNBNm+56uXyxNit6qVmR4K3Oq\n",
       "xiaSecjbUF1FtrfnpRvTae/SH93tw6moHl0fScem0x9OIJWHiEhXu9+iW1V1qiC1RRGlFhIRSRP3\n",
       "WxZJK+XfJ7LlWZWB0rSJ2FRZ5sck3GeJaTqqh93FmYH3z7lqexpL5aMu7yLblRO1N3cyeXTgttXJ\n",
       "bhkFVbBbQYG91rXfSRXYPm/TTyTK9mI6ptMVxbaMLlXKGevHvmC3iOq0aJpF6fsS7WerCvvcTqXv\n",
       "ubsLp+gREdlsnP2XkfRTidLnMaIHk8oVmGR6q3XMvlx5MZ/R9m6rezfj9DiZSilwdonTu+WFu5fe\n",
       "Pl5H0lmMar4+RFKkJqMre1NG0g6pvjwM+L6TGpvV2qSYmMDcYe0LzOv2z8hee5PebUJ5IY1ttCD1\n",
       "k/bTqUkhhLzso23rQBef6s9Hk+ZDJmTX/t91PZo6kjJJpRCcI7qdqbxhyfy0lBjx1GpKbtIpHCNz\n",
       "skrPgmIiEX/ueWp6N5v+VzN7k9ZT08MWSg6XresXS82qQemJPt/LHds0bSjVcC6+/92engflzlSK\n",
       "nkd5PRV3tx+Px28POI3O3bVLQ7Yy6TDT6VXwmj/9l3/0zjuQBm5d+frxzYuwn/3jP/jlyV/9VVAu\n",
       "/+ald/7zn/85KLc52Xrn23OXKmh7ehq8RsT49IgNlGp+zYBe2Ri82YVTPzV73+8NOuXRhOOMpYpb\n",
       "hh6P76jSBsbmzYWKtRcLbNc69dOoUwVFMh+uVi7dy2aN7aZSdt3scaosbXt1i9teFq68/Z2T++5b\n",
       "PN8v1doY6bWIv2boIv7Nq08kxdRCx4OtrxMNiA8vTfqv/+YPvw/K7f/8xjv/tLsLyg2Nf59TkAZe\n",
       "p4AX8dN0VSCFXW5SeaEYuq1Nmpo83LdN7esHmuPt2m4LUuU9SmGjbSWW/jvRMW8kbWCnUj91kXX8\n",
       "4NbN3YDjVx0+6RTzFxc45eeV8n23t7dQbn+v0rtFUtHpebOLpPnSab11mvxYSriiOKjjSArHRK23\n",
       "sHvz4lybCgmx2vj29eKrl0G5ly/9v+/3n4Jyd3culeq+jvk31xD0LE3ET07cd76uzCCOSVNf//sx\n",
       "rGNJ4l+P5rnM2BeKCTcbP+2gXqPGUg3q9FZpJHV8pvoMzV/d4PsI+FzxkVx4DIbJ199x0Ond8ISY\n",
       "qNggmqpcFdFGdFY/pk1y3Ec6Rb1ePMVi3lj6OU3sGZrmyamxvWcB7ppoFi59ScQXJLNeUz7tGVxe\n",
       "4D7KUidn9V+n0PfqYOabCaSw7PvJyIF0jEY/0JpLr8tG8wB4BvNXW/tz91PHGmJTR6I0cEb3/HM8\n",
       "bskT06V7a8LIWsrU6knloT7iTh9CCCGEEEIIIYQQQgghhJBnAF/6EEIIIYQQQgghhBBCCCGEPAP4\n",
       "0ocQQgghhBBCCCGEEEIIIeQZwJc+hBBCCCGEEEIIIYQQQgghzwC+9CGESR/r9QAAIABJREFUEEII\n",
       "IYQQQgghhBBCCHkG5F03wB/TVB/j90Pj9LSbzTIej9uuhnLDratTWuZQbprcjed59n7rugZd5d9r\n",
       "CLf/cDh451VVBeVWq9W/qbyicOXZujuZwjtfLpdBucVi4Z1PY1BMViv/+qW57gtj77dBt6kfunDh\n",
       "4o+HTOE2iYhUlbtvGymv7V1DbF9oktnd16tr28Jrluv18fhic4bLTpJg2ZZGNb1LsK3oMnTZaeSa\n",
       "rnd9lKYllCsKZytplkE5777R177YsPuxD/59Fn/ckxTowZz4cpKE5TJXwSyiA1nqfpummE9z5el+\n",
       "EBEZp3CbPL0WkQEYWGbGEA3By6srWKfYfQtV4AbYrojIOLr6xXRW33d9dh6Usb4pTcPjZMd5mt19\n",
       "hxHboSTuujyP2YAqI8G+ZZyAHtnb6vsW7r6xeW6e9W+4DrqPImYtszh9GwY0X4mkqbPrk7Pt8bhc\n",
       "hOckEZF3b94ej6cGlz32rg4dmjhEPH+eDGE7ERFJtY1m/hyfI50145mATrN/1nqueTSfAju0I7jc\n",
       "rINyeu6xRdeHsG73rT+vTcBf2i7vu3B5q5WZ46ewb+46v8Ba1ePQYj3QcWCWYd3Wc0KW4jlGj4H1\n",
       "s0hO+6oUzRsiUpZuDsxzPB+Oo9M/FGPZ32Jy6BpBc5fE2w7rMOB5V5c3ptheh9SN+2wMANfJ+Hqg\n",
       "B6vC9fk44v7Kzp2vKiK6kqoyMjNp3t/fBq+ZjA/q67Buv7+/885PV2GfebLxY+O8CI/Bze1773yx\n",
       "uAjKHWrTl5VrV77Efnun1gmxtVmpfOn1h49Bmbp58M7zPLyW2u98uUKN+4ff3sE6VAunB5tIm7rG\n",
       "2eH9/T0ub6nsOsMT59mZi9f3e2XjPV5LNGoOzCP+7fLqUp1h2337/rfj8atvX0O5X37+s5N76XTl\n",
       "51/ewGt++O6b4/F6u4Fy19fONmJx3g+vvz8e3918gnIrFU/Mgz8PFWA8zs2a9H/8714E5f703rfD\n",
       "6bfroFzf+3a9ugivec+2J955q9Z6d0DHFqWdK8J6YH2QXq9qBjMHo3jExpTXt7ugnLXPVq2R9i0e\n",
       "37FzfdYCPygiXvCSJfi5yqAe6NR34bqKiIwqptlsXex0foZ9fVm45yUnW2zjL65cX+4Pv0K5rtcx\n",
       "A7bXTPWtHqfVGvuttnW+uChXUC5X8SHSARF/fRmZDmW7dfPmxYU/v5SLcJ/Zeane3QXltJ+IxTp1\n",
       "7fxqN+LKLtTzOWs3LYh506fajfG/eRmuR16a52SLsM9Ymmd1+tldvQ/312fUc0aJrKeVTelnMV5J\n",
       "id8nyG93xv/KHI5zbfylYzvbL5osw/avmZQ/juq2sq88spegV8/0RqUHU+R5oZ6HY0vUWdl/E1nz\n",
       "6mcVsfW+1meti3o9btHFoXhLRGRQ/jzmC0pVRpJEYmh14+zRXB2OZSfzrAQ9N3u01gR+w/Zl+Wi+\n",
       "fSyXmGfN2Bf4bUfjZv+O1jpWDtmhrY+OT2K64z9jjT1kVTYwY+We1W/Wz2r0b0iOO30IIYQQQggh\n",
       "hBBCCCGEEEKeAXzpQwghhBBCCCGEEEIIIYQQ8gzgSx9CCCGEEEIIIYQQQgghhJBnAF/6EEIIIYQQ\n",
       "QgghhBBCCCGEPAPy3Q5/qK8o3IeAksjHs/UHiGIfrtUftop9jMj7uBH4YLGI/9Es+yEw9EEo+8Gm\n",
       "FnzcuGn8j1CjZhXmg2j2/AtVYT/E7I5T8OFqe439UPwXDru9d77ZnATl7Mekmybct/Po/133c1Xh\n",
       "Dx8+9YPIs/qAWJ7hDzFnmRvDBnzgWkRk0mOl9GC7DH+YW0TkxaX74Oiwr6Hc/V5/WBd/KFYrSKzt\n",
       "eaJtyl0z9JEPBKoP1E2RL9mN2gaiH31T1zzxw9XWruFH/Wb8YUFNlpuPS4P3z4n2GRXWFf3RuNXq\n",
       "HMrpeusPoIqIJODjf3Pi20MOvgy/XPr2ugIfN87Nl/tQX+qPHoqIpJmym8hHAmV0fdk/7Tvivu4o\n",
       "qsr/GORiEb6v/RihtpW+Owhi6F3f6g+dWkrld8Yx4guUbykr3Efaj+XexxLhJZ5d58AXi4gkysCa\n",
       "2Mela9eOPiJXqo8lr1fuI6/LiD28/tZ9DLo97KHcw6cPx+M7dWxJRuef9IdmLeuVswH9gVsRkYc2\n",
       "rOcT+KDyozqYGGSa0Qcq/b/PT/xQbNuH7T+d3Txi7S7LwwqzWPpjk6bhj0E/joPCfTF0ft06MB/u\n",
       "9r5cU2u9wjqr/WcshpP5afY6z0/7kGWhdGSKfDhdoz+kGqvrUz+mmTxx7tZ+2hOLxMZaZ4vsaXXN\n",
       "InUd1PzfRz7urW1gvfbjoOUy/KHjrZFD1Zi9j4/iOuRqji8r3PZy6cazb30/eH55GrymPfgx2/4Q\n",
       "/hDz+ZkfC5+ebYJyLy78+6R52GdszvyPQW9Owx/4Pj33P8C92rryVyc4Lj2oebPZ4Xlzd3C/oTVc\n",
       "P/p+/6QI++3OzM/V2ulH0+LYeLlwtnt1dQXlHtRHxbVfsOh5pe7wnHV66uQ8+x/w2mR/d+PEwEd7\n",
       "Rcw6MmKvVy/c+qFtcTzyN3/7d8fjrnbjNMk1vObuQcnZD3orzs6cjuUlbvvPb986OSglcn56djwu\n",
       "V76POOwegtd0e1/3yquwvW4Wfv2WWfgj4/PstxfFLgczbY5qXtpsw3OtnQMOh7CDs3PADOKM3f2N\n",
       "d377cB+U0x9/FhGpyrAPsh++HlQs0EbWnlpL58j6UMc7OfjQvIhIqmLoeYh96NyNYabm5Jv7sK6I\n",
       "iNzeuj5qW9wm3WdljuuwVx8fH0Y8D6dqLtIx22oZ1hURkf1OjecU6X+9FkhwTHRy6mzqhfIfls3G\n",
       "zSn2g/R3d+EY3T4fyefwGlW739iznClxYwvX+iJSqzWMDYNy8CzMLjVR+DSLf99xRH3r22cDCkwf\n",
       "fD2qaze3xdqYe89f8PPIUa0fojG0ou3D/t3OKTO4b+zD9WOsrqPT51hddemLEq8329bFEOOMfYvu\n",
       "Z23jT/04fZKG543PPzq5vMA+Q/eZXQMinvpsM9HP3bBKSZK6MjJgJyJ+DB677zC4vrQ+YwBmMwz2\n",
       "OS/wGfa+IC7S7ws+lxceA39945eFrsmNHHr+9cgegF5ZfRuGsJydu3X5Sfa0PTOxcdMmOkf0ZZan\n",
       "3TcvnX0gu+ZOH0IIIYQQQgghhBBCCCGEkGcAX/oQQgghhBBCCCGEEEIIIYQ8A/JYYhWddqXI8fa7\n",
       "MndbivICyz01vVuqtsj1YyztldueGtuyr7EpmMoyvF3Qbh+zKTK+sChteeHtwnYrXd+FtznG6gB2\n",
       "3z3aPtbW4bQQndnuBbd/mS1yOgVLFkkrpbe+jpHxGFXb80iKoqVOz1bjdA96O+NSp22KpA06VylO\n",
       "7rtIyrTObeEfR7xdtlq4cR8j99V6r7fHz5EUEZnaChrbhqz1aJqwffnbA2PpE52ctVdov2ZrdQa2\n",
       "IqZJLNGEY1bltZH9j3rrd3P7EReoxtD25dCF7XAyqfdSsH08N3Yz5GHf0ox+Sgxkh4/GWtl5P+Bt\n",
       "ybEt6JpF4WzvdBNOiTeMJuUVSOnUmz3EnUoLE0vpov3neol9QaHsy25f1vjzQGxbrevbYXByNsWG\n",
       "RqdFmgfcx95W8Ab7rVGldKsj/q1QqXzub26Px7E59Pzyq+NxucJtWg3Oxz7cY7vZqzklq/F4rpQ/\n",
       "z+x8M4Rtfhz81BkDyvcQiUE8zHyYgtSF1jNVCxALqFQBNmXFEqT5s+n/0JygU3fGGE1KSWTiNs4Y\n",
       "Iule/Hqo7eORdGUxW/blnpayT+twITqNxtPK1ukhLbG5UuOnd3uaXdu0BE+5JoulvNXlAX0V8dNR\n",
       "TLE+VmXY4UQpiPcmpfEK6GapUjWtFuFUcSJ++pQ8kmrzonAp2JaVny7t0ITTi736/lvvPP3266Dc\n",
       "yqSRKhdhH/Lt919558tNOPXN1dWZd47SO56atHSTincOkVTFegzaSMrPm08uPVgN5piu9+OMCaRF\n",
       "tddnKp1tbF2lU2pF0+OoNUM/YLmscH2egFSbIiJt62KNldKXesDp8DZrlxIujaQk7FWKqDySRmNW\n",
       "tnH7gFOkZyo1VafSSG9OzkLiIuKnh80yXNdGpfwqIykh9bJle4pTs/789p0qz3ca3339lRX/XHbv\n",
       "22cB5sP/9g9/653v9mHfpeMbEZEsDfvjzKT8atU8h1I4Wr/agJirs3aH1smZX7ftNvyMIDVxSzaF\n",
       "faGN52adnlRiz0HU3F3geSlTPqiKrOM7lfqpKrF/X6j01atVOM2lRaetyiacqknH4TEfpPusAamy\n",
       "RERmtTZe6LV6ZL7XbSoiKeb0BLta4XRxl2fO5s9OcH/ptWzf+jq6rML1uLrw02ve3YR1u1H9P0XW\n",
       "/kuVLjKaolqlv7dxd7kK20Nm4oqkfGKaZpAvqzbrweYQngdub33fokPj0zUeD73uGyJzh461tY5p\n",
       "rNebJ5ACy8QtE3j4Z58d6E8zoOcZIn7f5uA5hYh59hdZb44qPVZR4PJ0fXUdnpp+OYaWqwq85vXS\n",
       "u0Xu663jVdwyRtJIahXtIzFRqtaUCYghRUQSZSuxZ6raZzetP+5tA57ZmM8HrCpgryYOKkBq1kcp\n",
       "70E36XGyMRb6hIn961PTu0GdjYy7xuqepzuROUHrdjQl5NOWqP7ac47cV5eXPu25ByGEEEIIIYQQ\n",
       "QgghhBBCCPmvEL70IYQQQgghhBBCCCGEEEIIeQbwpQ8hhBBCCCGEEEIIIYQQQsgzgC99CCGEEEII\n",
       "IYQQQgghhBBCngF86UMIIYQQQgghhBBCCCGEEPIMyOd5hj/q37Isg3KLRXU8TiKvkdq2PR4Pw/C0\n",
       "ChYl/E2X0XWd91uShK/RdRURKctw+YkpYL1eB+XmYfLPxykol5huzlV/dqpfNIf93jtPQd/aMURy\n",
       "dgxTIFgUBTyP6cE0ubbPoP9FRLqDGzdUBxGRrHT3Xa02UE6XUKX58bhvalyHvfttsVhAuTx35U3Z\n",
       "COV0XdvIffvJlVGIG7c+Yg9l5Vo4z7gOWmd1vS1p7uRGXJw3nqP4OrYsl8FrItXzSMz75knCfqgf\n",
       "XIFD3wVlRETm1LVpmHAldL8sKr8Nq9UqXFdr41N4rLLUV3pkAmn+tHftacSZ5hE71P4gZl+V8q1D\n",
       "H/ZBdb3zzscJjEHq97nWnRidOLl0xDqr9S9Wtvbvy2VYR0X8uWOv/GxdR3yGmmOmHuuYrsNmg/3W\n",
       "5uTE1eHwAOUm5Uzbtj8ejyP2GR+vPxyPv/n6JZR7/fvvj8fnF+E5TkTkt59/cXW4xXVtu+Z4XBj9\n",
       "rYqz4DWjcUKdhPvWzuloLkrMfTPpg3KZUaMZmFSmyrP2hOvgV7YDY/XUNs2D3ycobilL/z5p6uwa\n",
       "hCYiItL3ro8SG6xoEldInuHYbFI+OGavtp+ewtCr8uaw3xIRGUbXpqf6o6ei9SAWE2WZa1+a4jp4\n",
       "sVOsqokuD983T3TM4I8nir1PTnz7bPsmKLdTvurFixewDrqPVusKytW7w/G46Xz/e/XVRfCazcL3\n",
       "VYusCMqdmNjuQvlc7z4vL73zLA8PwvmVf30PAqh84dfno/KZdYPnjr2KHZMMz90HJbdHc5axjabd\n",
       "B8XsmshfSz3Nbna7Hfzt4sKN4W+/fYRy2gaW63AsJiKyf3D3+varb4/Hhzs8L12cOd1uDwcop+ei\n",
       "qcO+qVg6vUoiMdbN3f3xuLm/PR7/9Q/fhsQ/y6n24YhI5PT09Hg8TriuJyeufm/evoFy33/7zfG4\n",
       "P/jj+XAI61hizK4Fa9mvXvgxyKb6S1BuWvjXJwmIBUq/vaOK0e9uroPX2Ll7vw/rrJ0r0Fxb5L7/\n",
       "zauwPy4q//p1Gl5vdoMfp2ibqttwDCMikqt5oIjMCVmu7DzD+pIppSsKXJ6Im0ceHm4ico5Urc+n\n",
       "yLOnpnU+qMjx3LFaqTV0xAZGFUNnaq7oOtyvLy6cfWWRmCgrXZtev34N5c5Ptsfju3vcX9q/WR1b\n",
       "LsN+scx8TzEswNpHxQ+7Fq91Hh6cLx0i4WBRuLHJ7IoXTHOZsZPEOpHjD74d9n24Im1r1g9gTMfO\n",
       "l2sbtZZq8Vrq7Mz5jX7C+jKo37Sea9Lc9wVpEvYti8r3Ed0Q9qs2tpsmreeR+FA9B8ki85dW+77F\n",
       "z1/0vZC/tPd9auyv5+TYc2O9hskiz050/WL+Us8XY+o6IlaHaXjaukcT6wc9NPF1hvstN7HrXIbL\n",
       "zzJfdzKwByQ3fVRkQLdNO0bUfrUQtf2f5mD9axav6RPX3ej9xmzqhsbUjqEuP8sj+jv8++6n0TZg\n",
       "n5dodH0zNE7/ftUihBBCCCGEEEIIIYQQQggh/1/Blz6EEEIIIYQQQgghhBBCCCHPAL70IYQQQggh\n",
       "hBBCCCGEEEIIeQbwpQ8hhBBCCCGEEEIIIYQQQsgzgC99CCGEEEIIIYQQQgghhBBCngF5WeXwx91u\n",
       "dzyeo4UUx+Ou7qBc37fH46qqcHlpdjyekgzKtX3v7tuM3m9lEb6urVvvPF2Ey67SxDsf6l1Q7lD7\n",
       "PbPf74Nyk+nBLFNtlCF4TVb452VeBOWSxK9rOydBORH/73kZHvtx9PtobtyYLpYlKFtkEjcGaRpu\n",
       "k4jImE7H404mKLdKXZ8lE9ar1dK9u/z1p5+Px80BXzOpPqpWuE1N78rY1wcot1F6enp6CuWGwZXX\n",
       "Ndoe4CWSpG6cVissqDUsTfH73M1m447XSyjXd83x+OH21vutbsD4WrsZsB5oiiKs21Xu2lHO2Bek\n",
       "ieujTQmMOlA/zQyc3Jj5fTml4XrosRUR2e+boFyRP61PstTvkyxzbUxGK+3Q/qDMcZ8tKld+U/dB\n",
       "mbr12zCO4bqnxgd1yjcXBbavxcqNVT/hWea0Oj8eb07OoJyei/qI7l3ffDwez7Ozqe3JGl4jk+v0\n",
       "rMB+q+/db9MT/68imVf4x9m1Y7tx9rpcYT1venXfGff/OLq2L7dfQ7nf/d2L4/H7D79BuXrv5sm7\n",
       "0beHbAzr2JT5ypyPYT3Ijf0vi3D7y7WZ15JwedPk6weYXuWgYoZ28OfGAcxffee3aVmGC9+s/HFP\n",
       "5nB59ezX9Sq/DMrd74z/be+Ox12H58NRzd1VieeYXtn1lGDd1vHOMGFbmedRHWPf7JG4OoxTxBGq\n",
       "OszIuYuIJK5+kWlTiszVTx1KGi3a/ThmuH2j8hNZxGdnqoJdi/2bLuLm4yfvt2YZnpfy1B8nNGxt\n",
       "62zgPruBdfj6a+dP7u/vodxq7Wwjz3xfhXRC10FEZErDuv3tNy+98xdffxOUG8Tv86o6CVdWtt7Z\n",
       "crMNSn289sembZyvuv2E+6JulG6P2F7fvXtzPE7zsA3UjR+zpRLWq4tvX3vn7399dzz+m7/+O1iH\n",
       "97+5eeBPf/oXKPc//QfXl9s1nose7pwuxeZ4mVUcpOLuDPhYEZHbBzcvdU0N5V4uXF0zEJOKiNzc\n",
       "OL/61VevoNzH966Pzi7cHPrHP/0Er3n9yunozz9judsHZ8evv/sWypXKp/31736Acr2eHxJ/Dm06\n",
       "4ORqo3tjeJ28/ca3pyJrg3KJ+Dq/XoXjsSn3/cLNtRuP2w8frbiIiBwaG8uG7WZh7pkMYbsZR//v\n",
       "PTLXyZfbg+C96/2/d50bg2nCc8ek7DqLLCSXC/dbVeDnPrWKQfYHvOadVEySqVggFmecKn/Z1GEd\n",
       "EPGfoxywmDSNq1+5wPaazM6vtmrdHV2rT2oNs8Tr5Nffunnu7ATH8Q+76+Nx0+I5IM3dfReVX95h\n",
       "F77uV6X/IiJNEq5vp2wgNk56iVtkWFdmte7LKv+e25PwHDqZZzl3d2Ed602sXZbhuWO93njnRRFu\n",
       "V1/49lVUTn/LBR5fHUylI7ZD/VtXh4OnrLBroLAvmM3aZAZhrg3B88L9IY2Nm4qH54hv0WtoHftb\n",
       "cuV2bncPUE7vM8iUD4rF3VOi1wjYGRwGN6+vC2zXiVoPTklkHT+o9qpgOM1wZb3xAOtYERH9WHsY\n",
       "cL+2rWq74HHKVNxcVv58k4DnTWnq60cK+mIy7WjBRDeZZUUGnn34zyb9NqE5eTKLkakJ95l9Fp6D\n",
       "Z3WJ7UpwX9uCRMkNHV57ZuoGSeTtyTy6diWgDiIiqVKs+VHlHbqfUrAw5U4fQgghhBBCCCGEEEII\n",
       "IYSQZwBf+hBCCCGEEEIIIYQQQgghhDwD8jTBWwD1VqlYmqbmiVtGR5XeZRpiaTkcRYG3K5dqm1i1\n",
       "8bfBpmArXGbai3b3jSbV0DiFt5MdTAoxtPXNphdJ1ZZRnepNY9O5LRbhdDZ2++3wEN5in5ttiTlI\n",
       "dTWbNDp6++Eust17UOkoUtAmEZG8VNvnQTobEZF7vU0U7W8VkYVKH7U9c9s6h+E2JC4iIruD2z6e\n",
       "Fni73HLp9K+ocGqKTOkp2qIo4m+/K0qtA7jsVOX5i5WtdgpG07tpXYzZ66TuVZqUPyMwHHtflFbn\n",
       "kT2A+ur+irVdG/K+wVvn/fQx/j2RjxuMjtotpF+w6aLQdujRpHFYrcIpAbLSprpRW7KDV/zrdcr2\n",
       "2h732e7g7KNpw+N5/+DbewlSQp6d+Nupq43r2zzHun1y6tK2lUucrmyZujI+3VxDuetr91seSfei\n",
       "x7BXqYJSkApMRCTz0jtFtvkrXc4jaTTy3P0Wn1/dGNa128JuUxxpdIqSB5A+QURk/+BS6lSRNHyX\n",
       "ly6d2PnZFZRbr1yqBVu/dRFOoWBTP93ehu23bX1fZbd8u7/7vqqswnpgfc40gpQMmU6fYsoC6Wc7\n",
       "k2ICaYsd97EP60Fi5niU+elgUqbo9IyxOaHK3dhovbToLo+le+iV3xlBv4r4dpiqrfjIx4rYlHDY\n",
       "XnV7UYwlIjJ7aWmhmNlW746RHn6un2pfJL2bbkfMrmOpODR6XreplGcQS336dGPkwn17fu58dkxX\n",
       "3rxxKci++uorKKfjWjvuHVCxtvdzSXz1TTjF1smpnyasacKp7c7OfLnTs4ug3MPOTw22TMK+5fra\n",
       "92EP984Hf/p4Z8VV+e63KZLK5FalQiursNIeaj/VdJmH11J3d359Pt26smPje6NS/m43OC3qbx/f\n",
       "H4//9m9+D+VSNVeicRLx46Uff/zxePziMjxmIiL3ty7l180NTkl4fuL84M0dTlMzKfuPpSrXuv3z\n",
       "n10KvA6kCxcRea3i0t/9AffXYefG9+df3kC5rUrnnEbWW5u1G0O7LihAHPPxwwfv/A///f8Ay9eg\n",
       "VE0ro0e3d2FbKbd+zKz7GaXsqkyKLqhjJiUMmjfzwvePaB4YOv8+HYj1MjPHF6VK0yyRdPhqbqsi\n",
       "MW+hYhd7L02p1vsjSI8j4s/r+rnACUjrJSLSqGdAHyJx/Nu3b4/HXYvnPJ2qvIh8qkDrhLeOiiyk\n",
       "lkpfTtU6xaKn0yaSi05/WqCtcbzftq6PdEo4EZEGfD7Bxn27OpzCslfPp7I80q9q/VDmsaBIpV83\n",
       "z5NSkN7qYOJ4lMLVpnpFc5GNU+x1RzmTBlXf99MtnpPvUuer08j/yesU9Qnwl6n9ZgPwx51JhY2f\n",
       "p/l999TnJfq3WIbkRKWVKiNp81vl45pI2qtCpZ9br12qxyqSmrFrnW/pmkiqLNWX6HMBIv6z1zSS\n",
       "Sln3EfLZliL7f36uKyIyR54zaPTUE7tCp7lNjR0WQGdt/ezzqy+Mc2/kULp0/xzWVwla20VrjsEo\n",
       "KVof2r+PoLzcfP4lX4R9Rux5ZiQ0lkTJjUNs5FxfxPRFjyl6t/H5Xvq5G/BBkdoQQgghhBBCCCGE\n",
       "EEIIIYSQ/0rgSx9CCCGEEEIIIYQQQgghhJBnAF/6EEIIIYQQQgghhBBCCCGEPAP40ocQQgghhBBC\n",
       "CCGEEEIIIeQZkMc+mNk27gNObeSD7/qDvvqjuBbvo0gZ/riR/oBW24Q/SCcistm4D4GVhf+RMfSB\n",
       "+tp84A5+PMl8qL7rwh/oqxv8MWPNZD5rpe+LPmppPwyJPpxs21CCjzSu1/7HL9EH5MfefAxatf1w\n",
       "2Ftxh/rA13qNP+x6cv718TiLfNDs+tp9fLU+4I+qdoPrp/Wp+4hk5PvRUqiPlo+CBXU75gS/I23V\n",
       "2HQDthVNlrny7MfXNL0aj9jHs/XH3LIs/NF0EZFRfZRuF7Fr8T7YFulMxeMPn4X9wePvq4XL9z/a\n",
       "HfnioPq42TLyUUBtK/bDcyP4QFry6ENsYZ21bUcfUtus/LGpgB0W5sPL2i/aD9tptN9oWuzf9Yee\n",
       "73dgnExbT1fhj7SenF9557qfB/DhPxGRXn1Ms498BPXXjz8fjz9+/ATl7u/dB7QvLy+h3IsXrr76\n",
       "I8Bz5EPH2h5imtirD1lOkTaNqm/jH910Nq8/VJgX2B+V6kOisW9G6vb2kQ8E1jVuh1fepD4WbPS/\n",
       "H8J9mxe+Paw3QTEpzAeRpzn84cl+9P8+go/mJqZjluuwHc7Kr4r56OwAPvDZmS/Qz2Ayaq0vAXL2\n",
       "w8t9Hx57O076o8B6fnhUfurGLWYC+sO9sbmo750+j5GJWPvILEuCx4+qMGfqOFLZyJyKy8bGoueL\n",
       "Sc1Xsblb00fDAndf3XeP6+DuG/uAvB6b7Xbr/YbaaNcCV1dXQTkdN6IPqtq6xtYZugz7Ad7lKuwM\n",
       "xs7X5V19CMpd395455fnF0G5GzVviIhMErYVa++9+ZD9sbwbP16dRtfGwwH3xR//+I/H49UaxzGL\n",
       "pYtf//LTPwdlcvOR4mTeBeU+fvDn0/29qzvybyL+OmMP+l9EpLh1HyPfbP4DllP6HNOXh5376Hau\n",
       "Pt4ecW+SqQ/cLzc4Ntb+SMcFls3GxUG2/zSd8r9fffXN8fj+9mNIXEREfv3t/fH420tc1zR3bSpL\n",
       "7Lf0+rLe4XWUHuuViVELEMsulr7c3cN9UK4s/DUu8l1l7/vz7BDWq9PTU+98LerD85dfW3ERefxM\n",
       "4A70hX1GgOaRyXyovunC82HX+jZ0fxfWF7u89D6cPuNYz4vhImvPRn0EfcojH05X/TSANomIDJP7\n",
       "TevOIfLM5r3yl2/evINy+pnDxSY8niIir169Oh6vInat147at8RqNDABAAAgAElEQVQ+nq1t3K7t\n",
       "NHcf3Rwzn26h3KTGqW0i46T63MaR5SIco24r/3nL3SHct3p+LSv8JfJIcz2W6gPoZebrVNeEbXcw\n",
       "8SCKIXKz/s3BWNk5CsU3jz8ar+6b4Qbv1Ro6nXG8s1FlzGDRVVS+H8zz8BzTDv64t/twX9oYXK8V\n",
       "Yzqrf0si6z79XCVW3jA6XVqv8LO/Fy++Oh7r+LIfsM/48Nuvx+MxCT8rFREpC6cf6NmLiN9nj3y9\n",
       "QuuL1tFYP4zz09b0yRP3W4xjZPGuy9PrIKOjCZg7UhPjFiWo0+SXN2ZgTjD2NQE7tM+1vTqBvrXP\n",
       "XlGvJOae7Rj2s3Nm7DAL61Vi7jupMS0KvP7S6/gk8rTI82mRtVSSqvVhRK+GzP2WpWEb4E4fQggh\n",
       "hBBCCCGEEEIIIYSQZwBf+hBCCCGEEEIIIYQQQgghhDwD+NKHEEIIIYQQQgghhBBCCCHkGcCXPoQQ\n",
       "QgghhBBCCCGEEEIIIc8AvvQhhBBCCCGEEEIIIYQQQgh5BuSHwwH+2A29Opug3JS440WZQ7nlcumO\n",
       "qxLXap5deYsCilWVK28Y/fr14xC8pmtG73xou3AVxJcbxzEot1osvfNquQjKJUni/yF179uKArRx\n",
       "8tvUNE1QbBj8thZJ+F1eMvttmMc+LGfqutlsjsd6DC17pUsxuR9++P3xuKrw+L68e3k8/uWXv0C5\n",
       "T58+HY+bzrVpypKQuIiIpJXT02ycoVyixmmcsQ3M6lZpit+l6p8ydTLHyla2B3VFRIqiOh6XZVgP\n",
       "RURmZbD90EK5vnd9mRj774B95bmx/zlsNzL5fZ5lWVBsVr5gEjxO+r5ziuU6pfOj8Rn2HP1d10lj\n",
       "x/1RX/wrh9bv830d9kGWJFNtBHUQERkm3UbQ/59LOR6Vebj/87zyzucpPO4fP/zmnY+DKzsFZYuI\n",
       "aNM7NFgXF5Xr29V2DeWWyv9WVQXlMuUjx9H1f93g+VD740Rwm/TYxHxBlifqGM+bRbFQcu4apF8i\n",
       "ImPv+jLaD6kro5+wrtzd3bmTGbc9y928rudnEZGbu4/Ba+x8g3pssfB9WgLsfJr8ea3rw/Nm1/ly\n",
       "M5hfe2X/Xe/rv517vzBG5hRNanwamrHGwbRpCI9B3Vo5V/cpoou6/GnCc5GeBvQ88khMlRHzQWka\n",
       "1uFH8RIEyw3qvigeFPHHMHZXbdezii2yiC8oMu1nIv3q3ScSt6j+ivVRWTo7tDo6TuG4b7lYR8+/\n",
       "UB+Un05wm7R/+u23t1Du+++/Px7vdrX3W9aG63p7e+udX5xeBOV+97vfeef7OmzjP/74k3d+dfUy\n",
       "KGf78s2bn4JyVeX33enJ+fE4z3EM9/Bwfzw+1NhuXn7tyuv7cPxQlhvvHJn1Tz/6sbVu4zDg8f27\n",
       "v/2b4/H9zQ2U027n080dlDs93R6Pz8/PodzdvbvXVsUCdbOH12y3ri/yWDyifEZsbXxycnY8/vD+\n",
       "PZTb7XbH469eOB1Ffk/EXxu/efcblDvduP46Od1AOR3H2znUl3N6tCz99fnbt78Gr1mdnHrnqM8W\n",
       "xjy7Lqyzdu45e3EZlCsXfkyTT25MF1k43rFxUAL0INZHGrseQW2yPmOzDvttO58miavfNOF4om3c\n",
       "+LbAX36ux9NiR93nu909lLu+vj4e6/XbYYftsEhVn0fmw6Rzv0XCFk9fYmuiLHM+9+JidTyOjbX2\n",
       "BTcR/1aqOHK9wrH25tTFw0mK2970rowP5r6HLjx/7c28uT0/C8rNqs/LHMcPlbL/yGOUqB4JmL5G\n",
       "M6eMQLezzMTGCfLbfnkoJrfzn177vH79GpQtcnhwPnzscRypn83k4HnGYNccIIbujS9B/ZyZwUnT\n",
       "hTrGhqPn9cM+rFOf5Vx7Y3aoY9HY3P39998djy8vnZ95uMP2tb9zfmZoayiXp64OhwbLdeo5g54b\n",
       "LdqneWMb0XndDzF/dLI6OR5H11tqNZxGVidlGXmeDuzQ6sco6Hmw0fk5rAizedaH1lzar9o6oOdQ\n",
       "i8xvH+ozGwsjOWuHLejbzPhIPaZDi+NIrQdpZJ2mny/H7EsvCWPPN/UDtQQ9p8RXE0IIIYQQQggh\n",
       "hBBCCCGEkP9a4EsfQgghhBBCCCGEEEIIIYSQZ0AeySThbWmLpqkp3Tan5QKn9dqs3LbalTp+VCm1\n",
       "BfjNh5+h3HTrUgUMg7+1rO3De9rsbq8kC7erLP1tuhVKq2W2YaKUG7b/5ienL8FluHv652iLnE2z\n",
       "st+Ht2HPqV/gi+2L43EsbVumtiLXIFWOiMj/9V/+4XisUzpYlmqrdGSnpBSF2/p3OLg2oZRhIv44\n",
       "JbG0N6rPYtlZdHmxFGz+tj+VLgZsmRTxt/blGS5bp4xAW5xFRLrW/YZSEoj4W1/tNskpCw+I3dKK\n",
       "tDwDKQgfyakxTCMmo+Wa2NbezrXdpttJk/C2XZtuB20ZteNeolSXpu19F/ZVvfFhg063F/EfWkdi\n",
       "23711vBF/sS0lCC926MUQmrLfRKxQ50Fawa+WESkUmkYFgVukx6bvsU20NRORybVpvGJ273LCm/x\n",
       "1jYQGyftduJb51V5SvWmSKqBrUrJGZu7D7Xb6o7mAxGRWvXlFEnvlqRO93S6SRGRV9+GUyb1JsVq\n",
       "C1JYzIlvD8tFWA/K0k+thNJZtSbN4ruPn4Jy3pbuR5NAuG+LwtcPtNV/MmnbRuBbmtb/+74J++3d\n",
       "3k+v46VniPgCb56LTXRqnorFjtrms5gNKDk9D8dSeQ7j09JXPjXFnJaL2YqXatRLy4HrOs86PQYu\n",
       "u3+ib9dFNBH712lr7nYPUM67pvJTRL158y4op9M4FOXTYqztE1Ny6vhNROQvfwnH/3b9UJfhtDqD\n",
       "sa/7+7CP+4//53/2zl+/+i4o9/3r33nnP/0UTu+23fppr2o130TTHWYq7UqN/fHf/71Lt/XNN2G/\n",
       "alP8olQyjUkJpe3hp1/ewDqcnbkUQqslTmt0/+Da8ec//wjldJq/kzOcIub8wuUK+3T94XiM1j0i\n",
       "IgulL7sD7tdblZpqjKQ71SmJXr16BeXurt2aKFNpOepISpd7lVKrjaTK2q6cTW03p1Cu1vaP0i2L\n",
       "SNu6eXf1wrev84ur4DUfTVqeb777ISi3WfjlTUO4HoPtc1BdnVpMxE+Teg+usetBNCdniVnDgPj1\n",
       "0TqgCNtXYdIBbZfhVJQ2fbtOwRRL+ZkoXYyt50bVmZHMrPKX3345Hi8rnP6sWrlnAd2909lYXPr6\n",
       "a5XeaY1t/L1Ka1idh3VPxJ83tY+16PlCz42xtfpe2aFNo6WZVfqjfYPT4SX50+bNxVqlfjKL3gHo\n",
       "webE7/MJpDi8V/Z6aPEzmrFzsXEWSSt1r3xLZtbPaO1p4xs0Hw6DSf1UPi1lMkoDZ7NylWp90kVS\n",
       "nOnscavI868liEE0NgTMQF0Ts8b9+DGcGtumrFyvXf3KyDpZJje+aYL7NVdrcuvHNKu1q8fYYzv8\n",
       "87/8gzp2fx9ifmtwv5V55BmBXnNFHJxOn/rUNNJaR2Np23TqtyLyCZNk1qk7cSzg2UbkmZn3XNE8\n",
       "Sxzmpz2z6SeUctU/x8+h7ecS0HMt57NtWWg8CiM3gbKtr0KplG2GtBmkSJ5G/MkG+/zAK1/VN/JY\n",
       "y7Q/9vkQFQtEHoTqn0aQXo87fQghhBBCCCGEEEIIIYQQQp4BfOlDCCGEEEIIIYQQQgghhBDyDOBL\n",
       "H0IIIYQQQgghhBBCCCGEkGcAX/oQQgghhBBCCCGEEEIIIYQ8A/jShxBCCCGEEEIIIYQQQggh5BmQ\n",
       "iyT4xzw/Hid5FpFz746yDMvN83w8Hro+Uisnt1ivoFh9aF3Z0+T9VhRF8JrJtHcc56Cc/XuST0G5\n",
       "ZVF55/MYrusw+tdPqr5DMgSvSVP/nVxp7nX8e1l659kUrmuW5cG/W9reH5v9rj4eT6BsEZH24OTq\n",
       "/R7K1e3d8fjh9gbKbU62x+OmOUC5NHU6l6r3mP0IBkNEmtrpzma9hnKJaN0O64qISKbkYn00jr2S\n",
       "c+UlKS57HFx5ieA2DZ0ro2k6KNd17jd8V5FZmco4+ffNjM59IS38v5dJ2B+kiX/nIg3Ljaq92n9Y\n",
       "ksRVNs3Dti8ikig7NFWQFPmuCftI7/rUnoffqQ+mL8tF2K7T3PcL9b5xvyW4TuvlwpUNxklEZJyU\n",
       "LrZhfekHvw7JHNZte59F5drU9mH/JiIyKxtYVHjuGDtnr7umhnJl7u5bRfydHpu+V74YXuGP7xyx\n",
       "V/8n7Au0Og8jng+1P/FUJ2IP0+AEF8uwfomIjGp80ZwpIpKq3xYVnpOzXOuemRuB7hSVf9+sBHPy\n",
       "4OtoO4R1tut9/RjBPDAY3V6vl0E5/b8xfedfg+IHGwehOvSmT5DPSDL/+n29C8rtzbw7qvKzDPuM\n",
       "bHb11fOSZRyxPnvlqfbrONJSKHvVc+Aw4HmubZ0v6PsWymWZ06vY3KH7PBa/JkpuVoGe1SNEUeCy\n",
       "dRlJxLen09P+TytZujKsjiIds7qD2qXb0XbYF2t/8sMPr6Hchw8fjsd17ZfXtuHyX7165Z3PQGff\n",
       "vHvrnfdt2M/e39965/9UN0G5q4tL7/zFy4ug3KdPflyr9fTNm3fBa0REKuULX371Asr90z//4/F4\n",
       "AH7w6vJr7/zu7iEod317552fn7k2Xd9/gnX43/73/3g8/l//l/8ZyqVq/vr1lw9Q7vvXfzget5H4\n",
       "tSzdHFOVzmdnObYbvRaIxSM6zl1vtlDu/fv3x+PtZgPl0tTVabVyvu777/4OXvOgdPHuN2zvOi74\n",
       "5ee/QDkdm23gHCdydn5+PO7MfIW88cnJiX8vEEMMje+nv7q4Csrd/vqLf353G5RbqRhXRGTWgRGI\n",
       "zXRsIiKSZahvfT+N/OVoFvsTiG/s3DOBmND6fb1Gis2Hs4pa58j6sFfryOmA19OtikWXS6wvL75W\n",
       "/kn1xR7ERCIih52LW4oMx5tLFWNO4PmIiO+rvvrmayinx3CaXHn7Q9gnioh8+vTxeFxVOIa+VDbV\n",
       "9thvTfeujzZbHEMXauGdmf/LPr8MzwmXVy+987FYBOVaNa/9+gb7jDe//Hw8rmusKwu13l+YPtKx\n",
       "nWYafP0fp6fFTyiGs3YTi+HQdXlkrbhQ65gy8hw0UXatn7FoBtOGNAH3TW2bwrZiY7u6xvGwRutz\n",
       "bN2ny48915rUswRbd03fORvQ5cXGbLly9cuTyHyofCSahx5dE1kX6DWbtwaPPt9z1/Q9XtMns2vH\n",
       "MODytB7F1lHe8y/TpBbEvHZNmlfh8q3ulWV4fBMzNqib0sg7B/TbbOa/BMT7pbHjqgg//7LPW9H6\n",
       "3PoWXf4c8RnaF8TWc3odGVtbT968jm0gV/4JxTfc6UMIIYQQQgghhBBCCCGEEPIM4EsfQgghhBBC\n",
       "CCGEEEIIIYSQZwBf+hBCCCGEEEIIIYQQQgghhDwD+NKHEEIIIYQQQgghhBBCCCHkGcCXPoQQQggh\n",
       "hBBCCCGEEEIIIc+AfBxH+OOc5E4wUkia5uoYv0cahul4PPYHXClVRte3UG7se3ff2b9vnpfBa6Zp\n",
       "8s4Hc/6FRGbvvJzD7ZpGX64dwvWdZ19umFy/96odmizx77nZbMJ1NXVrunAdiqLwyy+zoJytz83N\n",
       "zfF4/4DHt62b43HXdVBOElePtq+h2NQP7pIkgXLVank8Pjs5Px7bPtdoPY3ZgBRObsZVkFGp0TAM\n",
       "UC7pXSFD5/p5ADogIpIXzr6yrIByurV2rL066L6M9Ktu7zD7djJO4evSxNepLAt7jsT0edeF+2wY\n",
       "nB6BW4qISF669iZZZNyV7s2pX4dxDF83TUY/prBc1/lySA8m8eUWi0W4rqnfd0WRqWM8vuvlUsmF\n",
       "bfxz/Zxu3zzsgzLWF4xTuE3WhjI1HuMQ9rEiIonSj6paQrksd30+tNi+Nqv18RjNASIide38Tn3Y\n",
       "HY8PBzwvZZlTwKTBfnBVufFcrcNjKyJSVUpnI3Y4Kj+o7QTNGyIi9/euHXPEcc3iypsTPE563pxK\n",
       "rHvaEQ69rxOVGhvNeuP30WpxCor2x73e74Jy+72vyyMY03Hw7Xi1CeufHpsm8ee1pgHxyey3fRrD\n",
       "YzWb+CPPgb2mfl3R2I/GT2v7z7KYL9B9i/2nD9arNHW/ZenT5qJZ1T02h2pfE5vjPbV/apMiePdS\n",
       "hU9gPrDE7BXex6DtMDaeXevulZuYAYS8Mgy+zhZF2H9Wlft72+L4bbNZqTPcprfv3qiyK++3i5Ow\n",
       "L7i7ufbOT0/Pg3Kz8RkPD/dBuctL//q3v74Jyv2n//R/eOevfngRlJvMffcHNx7397fBa0R8vT+/\n",
       "OINyJ1v325/+9M9Bmbbx+/zjx49Bubtbv0+KSo1bxHZvbh+Ox3/58Rcod6bGcGzCdRARqWvnSz9+\n",
       "vIZyF1eu7WcXbtxubz7hslvnt4uignJ969Ywc2RO1vFmluFY4FC7OerTezfuyfQKXrPeuPr98P33\n",
       "UE7rWHS9pfxT1zdYLNHxoD+3ovjk6vLSO2/qcPnp4PfR6XYblGvN9Xa9/oX1wp+rKzXfJFW4rjYe\n",
       "RH223/s+zdry8T6mTyawjtRrmM/n4TY9Wp8r/x4bX91HMH4QkVn54A48pxAROVFxeBKJ3Se1ft2u\n",
       "3bOJpfYfhnrn+rbr8Ry/PHP6MUUePl1eOfvPc2yHt7fO9nR82EWeP2S5G99qgft1VHpVRfpf1Dpy\n",
       "6LBv2e+dX90d/HG/vw3HEDcf/Zj3u9//dVBOr49OyrANioi86dW4R8KWVMWX9jlUCnxGXpl4ZA6v\n",
       "kUYTMyNfYOMltOa163v9bLGLrJFWCze+Y4+fFY3KzlMQ7uS5r8xZEVZu6wsWYO2k17Eivj6j/hIR\n",
       "SVUXlRVeJ2u/0zRYEariic+AlY22ret/G6dpZu0AInOtXnMUOXYaev3QgnWZiMioYjGtHXYMUdkx\n",
       "n12quCqZ8TiVqr9i/k33uR33CazrZ6Ok0ASMHadAMBXf7so8HDtqXbFzKFr7pE9cwD2KU4Ah2rVT\n",
       "bC2l0aXp50GP6uH1BR7fTL1ZGSN10DFIErGBRM0/KGbjTh9CCCGEEEIIIYQQQgghhJBnQB59G6yP\n",
       "I29v9VvpssRvjUW9xYu9Mdd1sv/546P/m9R/S4betE+jeQvaR/5DSjGA8ubJ7xf4djfFbwW7JnyN\n",
       "feuZp2DXhHnzmoN77Rv/P/rQWNn/lND/fVlG/st7Vn07j/jNvR6D2FvuXvVl7D/h9X8MnJycHI/t\n",
       "7hSNbntMZ723qmC3l4jIpN4B2/9W9eQG918tTe3+O6fG/3AkhfdfFPi/DDK1Kylmhvq/SbvIfx93\n",
       "g/ttnuyumPB4TJOvH2gMxtb/T7OmCXeAtqckxzqwULu9kshL+1TtXrRVQ/+JbX1knqL/JPJ1vgf/\n",
       "Tbc58XfsoZ1mtrXaB8+R3Wn3tzfwN688pbP3u/BOH7sLqVqEd0MU5r86MvVf4lmO7bBV80AN/KCI\n",
       "yFLpc6zt2u83e7xr51btXmzUf7/G/otntXJ9sVjjXUn6H3Ii06b3H6B2x4fG1z/130yRXVx5qnc8\n",
       "YTn939VTEtmhmLiOLWI76VR7s9SUB/7jyO4WGMewHuTmP2vKKjxWaWr+gxH0bVP796mbsA0UufPn\n",
       "dk6GcYa5J7Jx6zPQf43b63u7+/BLXUvTJ2rsgcsWEf8/f+3uZc2/ZcPMU3eu6J1c0bhUKVmSRP4N\n",
       "WMUMY+S/rbR+xOoK/3MqEpt4PluwfendvNH+V/WLxeS7nfN91oej3Tnr5Yl3bv+L9As6BozFOvq/\n",
       "59AuExGRpdqZavvY7uD/Qtv464L7JLyD5907f8cO2uVxeXXhnf/xH/4xKLc1u+3//u//c1Du1avX\n",
       "3vnh4PpyFZk79H+kv3kT3m0kIrJeO/+O9PLhzu+TDMSO5dL/z/zrm7vj8Qb8h7GIyMV3rs/+6V9+\n",
       "gnJfX7ndIN9efQ3l/vLTz8fjkzt831evv1V1/XA83h/wWlHbShqbD1WWhFgGgJfnV8fj2H/06jl6\n",
       "88JdU5TYZ2zXbjzKyI7HLHN23RW4Dlqnhh77wVltpW9bvBNEs9uZtWIZ3uWxWvl/37/7EJSzPmd7\n",
       "Ht7pZ2P1izO3+2sownF8YiJq1Mbrj37d0K5T7bc+3yDct31v1zrhsdJrVxGRPAn/V7ylU7uN0zzm\n",
       "j91xCzIriIiMyo4uXlxCuVKtg2b1DGh3CPtiEZFeLbp2HbbXU5Wx4+L8BMrp3fIfPv4G5TqVHUDv\n",
       "4InuYlE+I7ZLN02cn0gi/0fd6Dk5x+VpP72u/Lbv6rDu/PqXd/75L++Dcufnyk5G3P+FyoixWOMY\n",
       "q1HzcG106uRFODNNY+J7vbbw/+7bq9358wUbB5Vl2AasHeu6HyK7zvRzlSKWkUHF8mjnwGQyALTg\n",
       "uUdmnksOHdrl5Jc3qzi3i9hX27n7xp7p6fVwbEdrrn6L2YCOX3UfzZE0LjpThc3OAOUa3HZ93yyS\n",
       "raBXzyn1eiv2jCDTa5PYQzg1nuh5koh4z41j99W7gOx0BXexmOfEqG/nyey4A7s/bbYe1Ld6PVKY\n",
       "bFNwN59RKbROs366A1mv8sT6jMhYKQblu6Yax4fad8Wy8iyVrypiGVTUzqFYxim9Ey4BGSi404cQ\n",
       "QgghhBBCCCGEEEIIIeQZwJc+hBBCCCGEEEIIIYQQQgghzwC+9CGEEEIIIYQQQgghhBBCCHkG8KUP\n",
       "IYQQQgghhBBCCCGEEELIM4AvfQghhBBCCCGEEEIIIYQQQp4BeVng9z5D3xyPkxIXsn9wctv1Syg3\n",
       "9pM7STMsN83H42lM8I0Vaea3Y5TwdcPsn09JuP2JTN5523fhG+eFdzqDZg1d78uNrvwc9EWa+W3I\n",
       "q3BdN6crv+y2D8ol88I777ohKNe1o3c+qjEoisKKH8kK145a6YTl4eDqlyQzlNNDk2cVlOtVM+4+\n",
       "fDwen5xu4TVd6tqYJVjHitbVLx0mKOeN5xLXtVOV3at+WJRreM1isXTXd7hf287p6O6wh3KHw+54\n",
       "XFVLKLdcut/S1NjXEK7HYXfv/wH0WTb7416WYQdzcrVRF2Ff1XTt8ThPsY7qPmq72vttHEcrLiIi\n",
       "idGPOQvrbJ779VsU4TFdb3y91Lrj3df8vWtdn7dD2HZFRIoqPx6neQ7lusm1t8rCNrCo/OuXq1VQ\n",
       "Ljd+cFDjPsTqqoy8yvG4SerKq0dc3q/v3h6P7bh5xeXOV1W5072yxHVYbZ0urqoFlBtGp2NZhuc5\n",
       "3S+3t7dQrm2cn6jUfWO+uMhVf7UtlJvE6fJquYFy67XT5XEKzy8iIn3v7jXPvu5kyGfUfnndEC4/\n",
       "N2OzXYfrWxS+/83L8FgtFv6cfn8Ij0FXu3ovSt9fWvv4Qmv6HOmVnjNFROom3Ed97+s80u1x9n1Q\n",
       "o+ywGcL+TUSkV4FRVLc7V0YkhJNO+9m+hnJ6XtFtmmccF0wqPpxnbOOzssOYLxD1G5oDbBm58qtJ\n",
       "iuelSbUjzSP9qtqUprjtosqLNF3y0g1OXviCxRiub9/7urdYhHVW2/g0Y1+s/eB2i+ObVCnSaHz7\n",
       "YQzbgx0nNM99/PjRO//++98F5f74pz9658UyHI/cHx6889PtSfi+H669cx2PLRbhOVREpFZzvD62\n",
       "lCvnh7ZnV0EZu9ZJk7DB9o2ZH9TcWA9g3SMiu0/uurTHdnN3fzgen6xxm96+e388Prv4ayindeT2\n",
       "1vXzNOJ5Sc9fH95/gnJto8Y9x3a437vx3KzxeOajmi+U2dUNtpvdnYvPtxWuQ7VwupfnuA7b7enx\n",
       "uLFjrehUDG3XhvMcHt/dg/Htm7COLbd+O+7uboJy6eTLbRZhv5Gnvk/b1U7HWrD2Sc2E9fAQlutN\n",
       "3F2U4fXc/c6/vqrCcrOZk4chPAaDsbVO+elICCeDON/XHfBcO0xuTFFdRfx1311zD+VaZYd6Ho49\n",
       "s2k7N77fvv4rXAe1Rpo6vJb99bd3x+NUsA/abNzcO6t+ODs5h9fc3Ts7nKbI2l8NzvX9HZQb1dzd\n",
       "Y3OVvnHtnXe+nZytw880Ls78ubqewv7lYe987NhhpZpVX06RNUxZud8yE3fv+vC42WdhCLt2snb0\n",
       "BRtr1214zspNjLBYufqCpcnn+6p18iGyll0Uau4AJjCaOaoown3btQfvfF8/BOXG3veXCzUPnJ9e\n",
       "oKp6z1uGGfsMUXqEnj+KiDSJ66NC8Jyln3VMao0wR56tjZkbt4gblE6VXSbYF+SVXu9jP7hQ8zqO\n",
       "3H0SceM5RfqhT1zb+x7bQ6aej+TgGZmIv44ajDKjZ4Z2jTWk4FlR748NemRbFf711t6+kKpn65MJ\n",
       "UtGasjd92YHn8aOpqwCfYXt8asJjYJ+xLCr3zGEqsC/Q66Ikwbo9pK4dI3rHICLj6NqfRPbqZJmr\n",
       "7wzuy50+hBBCCCGEEEIIIYQQQgghzwC+9CGEEEIIIYQQQgghhBBCCHkG8KUPIYQQQgghhBBCCCGE\n",
       "EELIM4AvfQghhBBCCCGEEEIIIYQQQp4BfOlDCCGEEEIIIYQQQgghhBDyDMhPNlv4Y9+3x+NquYBy\n",
       "h2Z/PG7rBso1TXc8nkdcqWmajsdphuXGYT4eD8Pg/ZakkxX/fM3o/30GFUlT/31YkiRBuX7svfPJ\n",
       "1OMLZVn55avyUNlJMnvnRZYH5VYrf2zGJNxpWebXda6DYtK3/hjWtRvfLMEDl+euHWVeQbmiU/WI\n",
       "vHbMVHlVhhUhHV2dms7pmORtQPpff5qL43Hb30O5Ro3n1HdQTutf0ZRQbk5cg5valdf3uL+azrUD\n",
       "6auIiKdG0wzlJtVfdQ2UQERGJadtUkQkycM6u1gU3nkBDDg11QuXZuwwoitF4e7zcL+HcvPsbpzn\n",
       "vj0tl8vgNVbO+gaH6SNg103j9/k8hX1VZv6s/YG1ec1qsz4e5yXWxWFydjivwzJN7/uMBvi3sfXl\n",
       "tF7lOa7DauH6fJixzg6N80l5jn3Beu0aovX3Ean2v+6+aYo0UaRvXZvuGuxb9H3LKuyzRUQy5dOw\n",
       "Tvn6p/W368JjISJyo/q/afCcrDk7w79N4uraD7jtdX04HrIYW2cAACAASURBVFv9P9mEr1ttNt55\n",
       "CXR2GHyDAGYjJycn3vl2vQnK2T6fknCBu3s3P+wOvm9Bc3Jv6toOfVBunH05G8d8oev8629vb8P3\n",
       "NfZ6f6/Go8B2qP17zG60zs6C5XTfIj9o7/uUv4v4NhCTy7Kn/U+TLi9mh/+WOqBrHqHm69lOjv+G\n",
       "+84qzrX3RfWYZzxOCKtvGq0rSK9tfTIT5+33u+A1262/bqmqcPxUFP7fd7twedbn6HlE07a+D8uy\n",
       "Iij3669vvfO8dHJ6HWTR99Vxt6VcuvqenZ8EZUbT5R8+fAjK2Vhuperw7lP4GhGRZbU6Hn9zeQXl\n",
       "9tcPx+O7hwcolxbOl15fX0O5H3/88Xj84qW7b8xv+bE21lntq+YZ29fHjx+Px8N4CuUq1abTUyc3\n",
       "NWE9tHLleIByXoyVYd/e965f2hbrXtO5OGG5Xnm/2Rj4C0Pj62g/hcdgf/DbcTiE22XHcOzDfiMr\n",
       "cyOnYtkk7N96UxZa+1hfBZoknZnj5yTct3b+myXsM+4f/PpMo5uLHkB/iYjUB+eT0khsvFi4NcM8\n",
       "4XluVO1ar8Kxk4g/X7Q11ivN69evjsdnEZ/Rqtj27YcbKJepvk0T3CZvfa5itpjd6PVgbJ08DXqd\n",
       "jH1Qpx1y+7SYwcaX6HnYMPj9vwP6kueuj/IiFus8LX5L9Bxv2t7VYT9bGh1FsYGNb2xs8IWi8scw\n",
       "bF2P71OreXhRhdf+IiKblfOFsfVh27g+v73+FJTJHs2150G5yTznWcyXQbmk8n1dpfxiXuG6pupZ\n",
       "YB7xBV5MOGA5Pc8lkWdPo/LNOuYaIs8VO7V2anssp8d3iuhsoYqIPNLz9V6Ne2yNoNUjZje1esYK\n",
       "pisRESkKp81oDv73AtXXVg+138bQKCbX7Z1mvC7QdKMfd6fgiWFi+ih54r4WJGW7JLZW8eRUHBOL\n",
       "S3X7Y3ql+8y+w9Do2DYB61/u9CGEEEIIIYQQQgghhBBCCHkG8KUPIYQQQgghhBBCCCGEEELIMyA/\n",
       "2azgj8PgtkotNyD/j4gU+0gONn0ztTc1jW1VU7uhBsGpaebZbWWy2yGnMbxnbrQ5DyBP3H5rdgf3\n",
       "YEdfVfp9tFDp3tA2MbsdFaXVOez9lAmZhMsrTeqtCaQRGWZ/z6PeMtY0eJu53opYFnh8l5duq+r+\n",
       "gFOr1SqdUl/glAyit5aq7dpTifWy0+n1psgeT6VXNqWAZkpVirkRl6e3UOqd27GtuA93bnxtyj+N\n",
       "TnsVSyWjt4mmCW5TTEfTIly+3XaZgS33s9nyiFJu6K2RNr2TptX7dCPpcVKv//2250V4Y/ijNFBg\n",
       "S+r8KHVkuB7t4KfEyMGe/bzyU7hVKpVMbCuoTgEYS8XVK/+SSDjNgU1Lhe7bDv543qs0WFWB7WFU\n",
       "W/jbSBqyUm3/3qxxSlLNocHpcbQdLr3UpdhnaB2tSjxvarm+i6TAUqnf1ivcpqEMp2OsI6lUOzUR\n",
       "DZEsd9PkdOD2Dqec2e2VL47olNaP9dpPmYBSfo6mj5BLyu2cAtJR7R78cUfz63JlYxqwvV3dp975\n",
       "ZaOt29FUXvp6k3KmacNjOgx+eft9WLdtxi8/1eDT0jjE0h8VmZPreqwHT00Xp397ap/psuPp3cJp\n",
       "ER+jUz1GpLzUT7q8SPoTHWdEqqB/mqdIOjzl22PpI7z6GTtB1z1K4ZqE5wR9eSSbjecLRhCPf/7N\n",
       "FVKYOdief2G59P0vmpdsytb7+3C8aduOUlPYtIptF7aVxqTR0uEdSl9p65FEUjXd3d0dj3//+98H\n",
       "ZT7c+HW9uLoI17Xz7bhT8SvqBxGRTKUHQul+RUSKlWtvLNWoXu/0kRQxOk1Xq9LKLpe4rvWg5k3g\n",
       "Y0V8PYqtABsVb8Z8UAJ8UJaiJET+HL9aRdbJKh7OIvHgvnbja9OJanoVKNjYeEQpiEu/HSOYO6wu\n",
       "25RMx+vNXPEA0gFuTWyh12k9SIFtY7GuAXU1MeAA+syO++7wtBRnKB6x824iSncE68E4u/HNgc8W\n",
       "ESly12fRFK7qocYcSZmm08BtT0/U37HtlioN94d3b6GcTu8YT5Gs0pVFbGpRqWcTah2P0gyKiExq\n",
       "Vq4i6b8mlUa+iKWHrp3fikyH3pxX2GcOYG1r044iX6h1bxqwvnbd03S5VOXZeW0CMdejNPmgz9LM\n",
       "xC3Ax1k7RLGevV73cx9JmSSzu66MpHS6evHV8fj7r18GZT7d+GnfDn04beBq44/fPIV1O0l9O07F\n",
       "6dgw4pSE2qUVEbvJ1Zotlgqxqd3aEflLERFR9lqq2CLDU7ekXip1PHfnyl6HEY/TOKg1TMQG9Hzo\n",
       "fergUcIzh46tY/FD3zq/E0sTtlm78Yz5Yh232OdkKG1zYsrrQbr4wfiCDKwfSvMcCz6jmvGaD10z\n",
       "mYcYOI2m+SxLxB975QH7f5waW62nCzxuOt1htsR2M6pniX1kPa3HMJbG1I5pCO70IYQQQgghhBBC\n",
       "CCGEEEIIeQbwpQ8hhBBCCCGEEEIIIYQQQsgzgC99CCGEEEIIIYQQQgghhBBCngF86UMIIYQQQggh\n",
       "hBBCCCGEEPIM4EsfQgghhBBCCCGEEEIIIYSQZ0B+f3sDf0yS5HhcliWUm8bxeDwMA5ab3HGZ4fdN\n",
       "c+buO0feS01TdjxOrVyaSIgsy/w/JFNQLk99uXkeg3LFujByc/i+s1/eyXZ7PF6vVsFr6vrgne/3\n",
       "+6Bc2/py1WIdlBPpvbNmqINS3dT65S3d2BdZDsoW6ZvueHxXh8v+XKBre7laQrH16eZ4vFyH+0hE\n",
       "RKtcV7s6lFURkP5MJm6ckiGsKyIi9ejKm2OvSHPXRznQKRGRInV1Gnon1zZ9SFxERFZrN57j0EG5\n",
       "cXQdMU24DtoG8gz3UVG436z9b7aL4DVt6+vO2KN6+PaQpVVQatJD0+I+alrX9rLMoNyofJU+FhGp\n",
       "gc7O4suhvk2M6T/yNV/kjH4URdi3Lpb+3/PEKWDXYT3oD84fpAW2V79SYb819I13fv8Q9kF3d3fe\n",
       "ue7Ls7NzeNvVolJyGyg3Kb1aLMK6JyIyzq5v866Fcmhuy3LsC6bJ9X9zwP5tEleHNMVOQ9chJpem\n",
       "szp245nm4TlJRKTfKx0Ac+G//no8GgdsXzI7+6oiscDJiRvD83N/3JFZ3tz4MUg/hNu1Ptl6520d\n",
       "Ht+3b9965xnwcScnJ/75ZhuUOzu9PB7nuV+W1XvEqgr3WSyu0jzs/Tke6cs0+fFXVTn7SoE/EhEZ\n",
       "1LzSRnxLNzsdmWYc62ndRjGRyGMf/IW4PbjfYmVrPx2T0yCf/f9HkkhAMisfpMdCRCRNwm20Y2Gv\n",
       "+0KmYvfYOOX50+aeWKxSVWFfb8susrAdrdd+LPzhw6eg3O3NvXd+fnoalLP6YX0Xuq++LhaX3t67\n",
       "epws8Xx4f38PfzuWZXzTt998ExZ888Y7bRo351dL7J/61vmJHVibiIis1XxdGz+mub29PR5fXIb7\n",
       "X0QkK5xP+3jtrvn65RW+Rs0BeY7blKqYt97hPj49dXPbJJH1w8H1ZfF/s/dmzZYkyX2f55559rvU\n",
       "vbX2PgtmOIAAmQzURgIkjaLMZKZHfVKZSTIYHwBQIEAZOMAAA0wPZnq6a7n7dtbcUw89fdwjKjxU\n",
       "D3rhtf/vKbKuZ2ZkhIeHR5wKd+lzDPpcGzZsqw6zmSonKcbamo+oGPO8ti11vyUveI3VW590e3vr\n",
       "vKerzH7PCvd4tcfDq1evnHJvb+6N60Yx26vVyrgOxLwXZW77JteGRPrcU4zMcdcqc0dg7RGUK7e+\n",
       "2HsiRaGsC6znSfMbefZBpD8cx575K9DnBEkYsG0dbEWQctKmJVyHqtf97rs71iNpZ2yGnsfHbqM/\n",
       "T65RO89cRIPco+LvO7+80p8tfDPfmiPJhJ8R6XNZJ/x437IsEo5yYO2T1b1bZ5vBWlOG7hcEYm8t\n",
       "DnU7GItv983xsv3tunZaUySmTrXKOBwGU65W9j7qSvdDJaHVJtLvaDxLn4vz833542dPVblPX77c\n",
       "lydT977W9YPpf7y5eOuUe3dxblznI/c4tPcmQjEXxaT7GVLO50dSzzrbk2ePKuY5WdNRIqJa+KWN\n",
       "kPP6kcJfmvrsm1C4dviwdVXjqWsp9hzkvlaj6CsRUSfmisHj146mPK8Hvb42kfvfpWf/KzL2hszx\n",
       "0Dbu8WH73b2y9nnfP3fror0npc2v0hbbfrxcrxq3kN7mhpw1V9vrYcbUN20tO1h9E4j5cFS460pE\n",
       "NBb71cXIs1/VcZ+Wte6bdZ0Yh56m6EV9h8GtfzjpAwAAAAAAAAAAAAAAAAAA8AjAjz4AAAAAAAAA\n",
       "AAAAAAAAAACPAPzoAwAAAAAAAAAAAAAAAAAA8AjAjz4AAAAAAAAAAAAAAAAAAACPgNj3q49M1OdL\n",
       "ylqIpG+VL3G1SN6eJ3pyI5mMabnVE3/KZIRBYL431BJ+WcnmKHAnO4qs5w1KsrPA+t4kdCdPW92b\n",
       "SVUjcV+nJJvabtdmHZS6rnem3O3OnVzaTqxNqft5XWUm5Nq0Ion64E5QR0REMmG4J+HaUcbPiCJP\n",
       "EjORFDH1JJ4MRFbENOekpSNPkuy24298e+lOUkpElGec1HM0dyf6JiLqRbK0ttITYRsJFkU58CT3\n",
       "lbrTNno7NOJvvoTUozGPvVGuJ4CVSRplmYiobt3JNQcryVivmIPUSq4uk/NKpN2pGz2D2UQkEr64\n",
       "fq3K+ZJ7h0qThVZCyVARtG2klqQ9tL9d6av3kht+WC5yI2nxKB+pcolImrdZuW3G0dxMJJyl7nlg\n",
       "MjK/1ai7J1FkJ5LXlYpOEZnJZctal5PJA9tWT6RIIqHkes26E3gaWSYFHBW6LZiMeEz5EsDKfOq+\n",
       "ZKS7mhPeViKZqS8Z72LK77XHrkSOBz3pIVGWcP9qek1EJKfN2kqE3aXuetgJHxvFfr43hyrPs3tQ\n",
       "04ObO9Pu27brO+S4lnpIRBQrdsvuG81/iiLz3zXbcrs022Q0co/rsyszMXGSstyu1uclmWzal4B0\n",
       "EMlS40Qf177ErB+C735pt20bbkl+0Lt84+hD8NdBvseTvfkDE5WGg0jy7POJAt0XSJT5prUSf+p9\n",
       "EH6AjJkEPPDk35XPi6y5sVHm/MQad9PxxCkXx555SbDbmUlUjw8PnXK27dtu3MlX7cT1cvz7kgfL\n",
       "+aJrdb3KUvaht8oaqbXeU5Xu8V8Upi2RSaPX240tzvUTdjv02IJazF9trc8xr9++2ZdnC31+vb69\n",
       "25fHwu/Y7HS/QCYIjnzzYcNj4JNPPlHl/u5v/3pffnJypMp1Iunx2cXlvvy739OfPVTCl73QE80/\n",
       "e/F8X76+vlblwpi/9/DkRJWrd9xPX78xfejxZGaLExFRkHsH9p6HlekL2OPtOzYbU9/i3L3etG3Y\n",
       "ZMbjbaOMh7r70ITv1l6CkhDZ9qts2/UddkJ6jdTyZ2TycDtJtiSI+PmdkpD62+fxePX5cLIPjo+P\n",
       "Vbmi4L5Zr9fO8nvPFn/z+cZZzm1RlXoCc/kd7yccZyqZBF1MRnmh72dI/9KXvL0Uulw2ej9J/Qs9\n",
       "7d8LH7BszfdqVnYILT9S8Q06Yd88WzRUZFw/Lbk6keVbhOY7Nf9kki+M6/XOPV7tcWzPZ99h+9ba\n",
       "ewNrHVqJPZvxyO0/EBFFBevpxcWFKveznnXs3/zrP3LK/OjHPzSuf/3mG6fcr776yrh+c/kzp1xd\n",
       "mj7C0LLOpqH+TYHwI/vWY1tEOYr18bUY8d5i2erjdbXbiDL3b+fx1XOx9vTta8naans5RESBGP+x\n",
       "Z29CqlUm5rnOs61grqd1wY3wG5tWt9lNw23p8/eLjHXUtqutsvbsrPe2yvPtudbeG/+O1JLTvr/v\n",
       "ua/tuTZV9pcaMv99CN11tedarc1sua5z65+9NyHXep7upVL42m2njwcK+Xk+3Y7F7xZyP8hG6lWe\n",
       "K/uPem0AAAAAAAAAAAAAAAAAAADAfyngRx8AAAAAAAAAAAAAAAAAAIBHQNzU+rFVGYpKHjW2kSFn\n",
       "7ONQxvMSPlJVNvoRJXluqm3158mQJHaYtuADj2tpx7/i6MOOZO+2nu8Q3NzcGNe5CFGQKMeweuuo\n",
       "9uJw7pQLR+ax8L5z91VxaIZxmCshFOY78/jtdsXHMAffSbVeHMHT4nqRFbYi1Y911uI71pU7HAAR\n",
       "UdDxsbjZhOs+HbtDEhAR5TG3RXh7r8pl4qhkGunhWWRoBNroY6VuuS23Ip5Ql+nHvccyxIES4o+I\n",
       "qBPHx31HS2X4pAdPWCkZpu69Y47K8Ur7vVpoqSw1j6DGsbvN5JHHwfMbtbQFvnBWRsi61DxOmcb6\n",
       "fZJes0nBh337YIX50Z5nn5KWbRGF+pH7Dw2tJkOZfPzipVOms47B2nbsO7ZWuE4Z+qEu9fFwf89j\n",
       "LyLd5iZiDASeWEG9CAHgOw4dijCckZCLE/3ZSfJhYdsiMXe0nqPzfSuPCuvjVf6tLEWoHM+x8Fh8\n",
       "UxLr7ZCJMRB6dKpI+W/2uDEry99k2wwtvFj/XphFJTyDFQIgUc7w22HfOqVt5dF5IqLLy0unXJLp\n",
       "oe2Kwh0eMwjMuXa3cYewqKyxESk6a4fY0MK7vadHog98Ppw0Gb5wHjJERhB6QrN+YAg2GZrjQ+/5\n",
       "ULlQzFH+sBDuZ/v+9qEh4XzjWhKK0Me+Ob7/wPdG4nn2DKDV3Q41qMnJce1rVzm+RqluL6UO2Lqn\n",
       "1WE6NX3XTAkXLe2l677vODgw5bS5235eoYQHsu3EpmT/dTbT/dKylKHu9LYNIm7brtd0wvx3LaSW\n",
       "/a1ybqs9oVrk/ONT80aE0fn4o1eqnGxbrV2JiJKYdSQTfkHjWSuenPDayWcHpc9b1vqaY3bA64zV\n",
       "Ug+BJ9vyk48+2pfP3p2r9/zke5/ty+PiuSp3c8Pzlc9ujUZch8uzM1VOhvl79fJj42+ar7G8s8Kx\n",
       "KSFXA6t6WphFOyx7pYTLahrzgbkIBxYocavsKGtR4l7PVVaY4UaJ59NZYWO1vQ97DmgqJaR8YYWV\n",
       "M8LXO2/59j4R+qXzxB6S1U2V9RuRGZ448YT1l/ZdCzFpE4nnxZ51mgwxO5nqIapl6DffuE6F/xqK\n",
       "OqSF/mxp+ypP6ONWhIoefHGlZCj7SF/vD2Jt8t43KcPcDncaBe7nd2JPpVPCFhKZa4bIs86Qum3P\n",
       "V1oIwcEK05YotsD2Bdpe29Mz7XSo7BPEln8jUyzUjT7P9aKdipHuG0tb9fVrd4j5589fGNdfvPye\n",
       "U26Rm6kYjo/c335zbYbNvLjkENjLB33+2m1ZD3rPnm1RsC7OPakANhXP3b5oltLuS9sSehwIeY/P\n",
       "n65F+wedJ+ywx/ZJ5LpR6qz3pISc6Dx+vAyTb2cckcjvDe1JVDCI8NCN5bNpfp/ty+bjhVMusUJH\n",
       "xkpSmPdDSirfL9aQgxVT3V6Tf4dcz3z7MvejA1tO2bN9L7WDGqbatL/SD1qt9TkvEftIUfxha9TU\n",
       "Mx/GMnSs6u8TxWLu0PwRnPQBAAAAAAAAAAAAAAAAAAB4BOBHHwAAAAAAAAAAAAAAAAAAgEcAfvQB\n",
       "AAAAAAAAAAAAAAAAAAB4BOBHHwAAAAAAAAAAAAAAAAAAgEcAfvQBAAAAAAAAAAAAAAAAAAB4BMRR\n",
       "lKh/jKJoX27bVpVrmmZfDiL9d6QgCvieqlLluq7fl4dh0OVa/ltPnfG3fnDXt+/N6zh21zeJc0su\n",
       "dsq9Pjs3rtfrtVOuLEvz+Qm3bT7OnPekhdU328Apd3r6xPyHxF3XOmqM6y7tnHKHiwPj+snzY/kQ\n",
       "5z1ERLt1vS+vH3aq3NXmju+plqpc2Wz35fFoqsrJ+kbpZF++KPVn37y54Hu6RpXbLVd8ce9uLyKi\n",
       "YmA9ej49UOWSbLYvv7673pfPd9cucSIi6pvFvhwn+vjqhXL7xmsY8LgJB/15dc392VsDJ4rd43Kw\n",
       "mqgN3HKB9e9147YHQcj1CwK3/n9bP35eooxp+xlZao67LEmVZ5vfXrUbp1zXWjaod4pRH5nfUdfu\n",
       "voois42kKex1VaSh434rS123pW0dOnc/2Xq02rjtm22nh577wKeLNAh7Eum2pTPqpz9PzglDr+tL\n",
       "GPK7pG0vcrctJiIaj8csl7ltLBFR1XKbr9e6DeoGVpCiKFS5+ZxtX5qyjjad3g69qIM2dxERRcr4\n",
       "tGl6fl69q3VBofSR1Z+aytpzdafM3SGZ47NXvr/bWc+jD/vGsnbXsBWDrbMGdZq59WU0nhjXQeDW\n",
       "7c4ed53baMh+JyIKQ7eNs/Vo2whbr9xDRJRl7GvEgS4XhyxX1foc33Wds2yj2XTb5n7o38xn83dE\n",
       "kT4GJNKXdTzR+TyfjyrnpQ8cal4Mm+153iDayJ4rtPra41V+r3Z/muZOGSKiTvhVWarbt0yMocwa\n",
       "T2nifv5sujCuK8u//o7dztTRyWTilOuOrflL0Vlb98Yz9/PsOS8S66LRaOS8x74vCD12W1ZD8eFK\n",
       "y07nsdtellvT95JjfDaZq3WQvt5u7faJiIgyYbuSRF9v3m/Y175fuv0MIqLNht8l5w5pw2zyXK45\n",
       "3LpCRBSJOXmz0eXmc26XTez2G4mIRhnrbyzW2r45ebVaCbmxKkfChwlD3deRz1ut9H6S6+6pNV/V\n",
       "lVt3MnteUny43rLz2+3WKWfrx3rjlstTs/2kq1e3bhveWXavmLhtkj12NT+raS0/SHHKB2tO75Tx\n",
       "2gTm/XJvpsj0OXkY+OM9amXY0jzXbdDJ0eG+LMeazdUNr1mlXzSaum0iEVFacB2yWB+vUg98c/Jm\n",
       "e8MXnjEwmvA4isSzE/0W2or+jVK9rqWY56JQlwuFB9z6/r91y5WqO3M8BeTu4GAw/71cuW1XLNae\n",
       "o1S3W4MYr+/5qIJetFFnOTht7a6DvXoIlf0qsmzGoIzDurT3DtxtO8nMtkyF/WzV1QnRwRHv58Qe\n",
       "fXlY8hzziy//yS1za85rP/jsB0653/9v/rlxfXx05JS7vTf3jV6/+/W+/OvXv7bF95ydne3LK0VX\n",
       "iIjKWuzFrn37KmynY88YkGuLVO4Ve/xzuX5rlPUREVEnfe3Q4xyLR/jWEoPczxnkOsq3nhYKom9n\n",
       "UE/slyaa/pPpk0ce38nYq+/tfSj3fYO1WafZ2cGal/pOWRdY68socsvJug6D2f72Pvl3xLb9VebQ\n",
       "/r19KPe4fm/dObjravd1ZOwt6sYgEBNx5JlkjP0XpQ5E5hyfefzNLGafZl2tnDI46QMAAAAAAAAA\n",
       "AAAAAAAAAPAIwI8+AAAAAAAAAAAAAAAAAAAAjwD86AMAAAAAAAAAAAAAAAAAAPAIwI8+AAAAAAAA\n",
       "AAAAAAAAAAAAjwD86AMAAAAAAAAAAAAAAAAAAPAIiEejif7HLN6Xu6H1PKbel6IoUqWiKNiXS8/z\n",
       "umHYl8MgVuXCsN+XxS2/vc9dj9D6mWs0Gjnl5jOzXfI8d8oVk7lx/ebNG6fcQL1x3VO3L8eZ+7e3\n",
       "IDGvm6FyyqXjwrh+9fmpUy4MA+M6z1OnXFOXxvU3X7/el9/+5tx5DxHR/dVyX96tGlVuccxt++zl\n",
       "E1Xu1atP9+U41vXg+vyOy7eX+/IkH6v3zMdch11/ocqNRL+nobu9iIhGDffvNNd/Sx0Gbtu+X/Mf\n",
       "AnffEhFVFf8t8NSh77kOTaO3fyB0MQkTVS4UgyVJTLkwco/fuq6N6653f1dvyQ1OKaIw5H4PgkCR\n",
       "Iuq6zlm2kc/oW1OuSxWb1Jtjt9rt/j/rQKTrbB+atqlt3e+NIrNVupbrrt3zrSDXN451fZF9en5x\n",
       "55SxvylM3N+Upplxvd5y/cqytMX39A0/Pwh6VW4IWV/yRP8m2b9Sd3zI7u06TRPNNu/1KlDfs5w9\n",
       "HiTL9cO+fH+vz5uDsNsBsVxWuOcuIqKk4P6odnr7SzuRW30oGY35g8NebyPje61JOU7djWb7DJ1i\n",
       "u9ra/PemcduWKDJtVWRP+t+9x7I62nwosftzvV475Wy/ajE/dMoVmdmHXe3+9vP7B+NaG//jsTnn\n",
       "lcvtvpwq7U9ElIhx3Te6bRlEn/a9Pl5l/Xy2Sva9LPtsvfybz9/U7vn/Azk3+p7tayOJbNfA+3+x\n",
       "hL3sPfOheK9dB61OoTJObOT3an4xEVFZ8nuyTLctch6y+7NR5nJblxvFzg6WDZL2U/LeexWdPTw0\n",
       "x3GSup+32a6s+473ZenP2ch2urtfqnJFweO8qtw2I43NNu8bRRcHs9/ThPu0GOtzjNSX9YNe15GY\n",
       "V1arlSon+1RbRxERPX12si9/PH7O71HWckRE5+e8bjk6dttiIqJqw/a83G5VudMT7k+fj5VGbFdv\n",
       "bm725c+fP1PvuTnjb3/9+leq3Kef8vpoNCpUudt79u0ODg5UOTlUHh7M+aYq3To2n5k+ljYOe2uY\n",
       "aHPCkyfmerANb93Ps/YPdsInX203zntsX9aeK7W6aXPMMFj2177+LWFovjdo3c/ravO9Yc5yYaDb\n",
       "5qoVvnGhr3mPj3ncpLk+VsoN60vb6uvIrhO+o3jvh87JWj8REcXie7eecbjb8TOSRJ+LdsLmtjt+\n",
       "XuYZN23P/dZ2ug9TSh8619fTlVhb1K2+Logj/vbBss2RsqZpLLmud+uLnOKrVl8nt0seT2mg+/uj\n",
       "nOszLsz2zwv3nJ9Yw6Ql97gJ7LWn4p+8tzfxgXO8dP+7Ru+P9cP9vnx0cqTKffTJJ/tyoehiZE39\n",
       "l2+vnHJfJf9gXD/79J855U4XC+N6cTDbl0+ez23xPV+f8X1v31yqcjdXvHbcrPQxkI24D337L4P4\n",
       "WyR0tvfc04ix1/n8eDFuamUdRWT5gB7/XPqOsdizsf0qSRazLvr86VDovG9vU+psr+6SEVXCBtl7\n",
       "f9peoLRvRERRrNhta72v9W9n+dqJsk+TCT9P7pUQ6fsl9u8AXe+uQ2vv6SlNZveNNmdFsbWXIPog\n",
       "inx7sR+2/h0Ct47ZhAN/V9nqOmv0TaLMAerdAAAAAAAAAAAAAAAAAAAA4L8Y8KMPAAAAAAAAAAAA\n",
       "AAAAAADAIyCOUv24XC3CfO0q/YitPFbXNfoxPUr40qxZ7QAAIABJREFUWFwa6Eej6p6PeFWRfmQ3\n",
       "GfHf4s48FlYpR4cz6yjoLHMfx93e3BvX2XzhlMut419PF3roAOO+nNuiGLnr8PXbb4zrZus+pnf9\n",
       "lRlybdi4w09RbPb14on7qL8dmiba8LGzotaPQ3fi6HGc60faZuIY8PFED+92lPNR1dura1Uu3XC7\n",
       "FBXr7DTSj01OM/6mgwM9xOFchC8p9NOVdP0Vh2S4u3aHJCAiasWRwFA8L230o329EY5N/502kbo8\n",
       "6MdbKRBjNPYclxXHNWtrfKWRW2ej1KxfonzWwYF59Fg74vqwFOE2Kt22yAOP9rFVSZGy/maReUw3\n",
       "bN1t0VSmLvdK09qHLpvOfQzTVqNWCZdVWmEWAxEaMPUcLZXH3UPl6DwRGcd2G+WjGiu8Q6SE5bRD\n",
       "HMkQQr7jrf3AcpHneGsmvtcXTkW+dxj0Y7C9OFpe7lhfdp5QEpsVP28z/rBQWXXjCfXYcz+tt3rY\n",
       "m0yZo6j3hM2KRZiPQJdLxPyf5Xr7S52qK19oVqEHVsiJTOmO3pIjJaRrH5k6ph0zb61xZ4d4+g77\n",
       "iHeuGSsxYpvQHA9d4w7vdnFuzt2j0cwpV+Tm3JOk7vAso5k5V0exOyxEGJrf2gu7vZi6fRgiossr\n",
       "fl7hCdnVB/z9vtBl0h58aKg2OQf4ni370xdCQYZxqEo9fIfUo7zQx7X2Xl84CxlSV4n+8+3fRDlW\n",
       "QmgSEbUilFfrCfcgwzturTCI47Hbh0usEELauCkKvj/whH6R4ZPGntBb0k4koal7o5l7TI4Lc9xk\n",
       "oTvkxv2l6ceTEuKsSM33amEmRlPzO9RQeZYNk/pSVXpYIxLzdeT7L3ki3IMW+un4yAxFMyjhfOyw\n",
       "mTJ856knHNhc6MG14g8SmXokwzHZfPLio315ZYUXk1y94/XOIp/ye2pdF+dH3G9Nrc/xbcPPODjQ\n",
       "1yaJ8COX63tVbvKE14N3N7wuuLrW71mItebcE15vecMh9Xzr7oMp9+G2VNaGZIZEn0zsNZF7nism\n",
       "Zv1apQuq2qzfRqnH2/Mz49oOhfwdnWXTgkCGwXEb2vdCFSoDbL0y9UOzBUlmjXElpHxVmaEPQ9vf\n",
       "+S0Bmc+rSvazYiWMJBHRfM5rKc22E5lhcx9WN6qc9EWjUNerifCBg4Tt4LrSfdkw4vo1nlDKoQg1\n",
       "tBv0ubsU9iRKdRtUi3lYRjvq79x6TUQUhKyj9507/DURUSRCpD+s9PYPBuEDdvp752Pu9yQ0dTbO\n",
       "3P5hba2xQnKH2xTTBgWe9VYsVdQzx8u5u7XCDm0e3HZ2MjP3yOJMWXcP5v1h5K7HdGb6bDdX7v2X\n",
       "rjFtzkL41MlEb4vVmuux/Ervt3ffcBoELUTy7/7k943rg4U7FcOvL8zx+exnP3XK/c73f2Jcz2cc\n",
       "wnGe/o5a19998sN9efXuz1S54ZD1qCY9DFzUinCAnvDroymPj6rme8qNHoI8kvbcYzMGoX+DZ38k\n",
       "FmGvfKGspd2Xqt3WnlQMMrS+px1K4YvFHj9+IvbTCnV9ShSEIpyYZbK1/YMkM+vXVu55qbf2Dwal\n",
       "DxoyX5wo6yLpC0fWHlxXu++xU5vUSh12VqjjQQmBneXmXBsreyQxmW2Xid8jdq1nnhM66wvxn4rf\n",
       "D+5L/XkytF8ffliIw2Rw9ztO+gAAAAAAAAAAAAAAAAAAADwC8KMPAAAAAAAAAAAAAAAAAADAIwA/\n",
       "+gAAAAAAAAAAAAAAAAAAADwC8KMPAAAAAAAAAAAAAAAAAADAIyD2JdY0E3DqCSDHM06m6UusW1Ui\n",
       "GZMnUa9MjlpVetLNUCQ3Cq1kczLxtGQ6NRPhjUbupMXl1kzYti3d7bRrzSRNWeZOKGsnds1Fcq00\n",
       "cdfh04+/MK6VPJH0YCU9/ebXXznl1nYC2fg3TjmZgJeIKIu47rGSHIqIaJJyYrA81JMRN0uu7z/9\n",
       "rZ5Q8nzK7TIu9ISmk4ITJGYTrvvTJ3oi1pfPnu3LI08CyNdvvt6Xvzl/p8pdLznhXRz5EmFzu5Qi\n",
       "eXCf6fdEuw9LCiaTKttJ2ow6iATw20pPoCfH/2hkJzB2928Ym/8+DO4EaduN+R1h6JZrRGLdrtET\n",
       "3u22nMAty/VvL0Q7T4up8bdISbBq275AMYXNYCWQD5WEd52VGG9wJ6+LrATNkUhu6vu1XtpZT25j\n",
       "iiJ+XqaNgc78pnLn1pe2Mvszz1lfslgfX9LWazb727qK5HV6PkOZB5vaTp9j2obrayRsbPXEjkai\n",
       "415P2FqIJOqRbgaNpOChkszUxkiuHuj3bEViTN+cLHXAp1WdyNDsa6NGJJS2EztqtstOht4oyTXt\n",
       "92rfleemLU2VJOPmtxOt125fQ+peEJvv1BK5NzvTf1gu3c/OrcS849HcKTey5ocnx8dOudLKMXp5\n",
       "y/NS0zSkEYk2SlPdfkqVC0P9eZ2SxNOHbEufjkm5ONYHWCeyrwaesSL1wNYJ7b2+MSUJRdJNbz5k\n",
       "Ue48yWXlV/jqKueOyNJZrR5yfiHS7bFsS187FGIc+vpJ+sz28zRdtP89i91yTywfcLNx+/FdY9qm\n",
       "onDb987ye66vr51ytg2Sc3Lm8fVk/TpP0mI5PrQ1x+mx+e3XF+5EzMXIvD8X15p9IyI6OBCJsD1z\n",
       "d5rz325udH//7o6Tpbe1bluknPRfJ91EvWezZqetGHmSPAs9fXd2pso9ffqU6+qxVXJttlgs9uW6\n",
       "1tfdacp+wXiqr3tasfYMPOZoueYEwZutvp6WxJZOZal7PKyXZvLhLHPLVTtzYtL0anVvPq9UfOPp\n",
       "2HxPJNY7kfJsu59UW9CZuqfVta5NX/ju+sEpd3dzb1wPytopshJ/z4W+HC4OnfcQEeVjHl9dq68P\n",
       "K+Ec9EqCayLTvhv+pkUi9i0iYY/rTq/Dci3tm+4jTA5Z/x5ulqrcaMJy0s7YrBsx/nO2E8NW39eS\n",
       "ydvTSPf3o5wHXxy7bTERUdBy/ULSx3WRcvvHgakTXetef/XW3k4UamOA+yYJPestMZ/2nj2HBzGG\n",
       "bB91MnHb45DMurW1u66pvXhS9oA2Wz0BumSw1ud1y+Oh8uwtlCI5fOnRlxcff7QvN03llPnbL//O\n",
       "uE5S917d6ckr4/rLpXu8/s3Xt8b19z77fF+OU318FWNui7Nrdx2IiJ6/OtqXP/7k+6rcwznrwbln\n",
       "n2yz4fYz9kE8C+VG2G3dGyGKxNydeSbEWOxH9B7/tRNvK4XtbEp9z0xOFb7xZexh9HodSrEy6DP9\n",
       "eYH43vd8YWUObXtT58PcvZ7oOmvNq/g79hqrI/eYetjw2jgi8x5tPRFZmz5D7/6mvjXfOQRuuWAw\n",
       "9U1bH8q9UiKiZuC+TzzrZGMPrvbtKfEzYo++yHrEnr3101P2+e+Wbn8EJ30AAAAAAAAAAAAAAAAA\n",
       "AAAeAfjRBwAAAAAAAAAAAAAAAAAA4BGAH30AAAAAAAAAAAAAAAAAAAAeAfjRBwAAAAAAAAAAAAAA\n",
       "AAAA4BGAH30AAAAAAAAAAAAAAAAAAAAeAXFVl/of43hfHoZelUsSlus6XW6z2ezLYaj/3tRW7b6c\n",
       "Z2NVrusbfp71tyxPnPekqfXvkbu+bdAa1327ccrFeWxcD0PtlFtvVsZ1QPze5XLprmuWGddHJ0+c\n",
       "cpOR+Q1Hk0On3EcvPzLrmkTuuj6Y9ekbbucsim3xPXki9WXQ5UaTfTlNdT148fLZvnxycqLKxQG3\n",
       "0+X59b58fXGp3vM3P/1rLv/8n1S5PuLvOH31TJUbifpVnSpGy1W1LzcbLvehuy+IiJKSdTEIAlUu\n",
       "SvkZo6TQ6zqZ7sthmqlybc8fkmTm88LAPb7ub++M69XDrbsOhfneLHPXo+u4/cPAo3vpaF9OI12n\n",
       "siRnuTQ3/9i7dTaorTEduusRCHtERBQofZrF5r8HylCxx1CScBuF+vAiIlFfzzhMxPiPEnebhaGu\n",
       "RxK7rlkm9cNj61vW7SjSx0BHrIthr88xklhXF6KQx1GUpPtyEOjjIYz5nlRpLyKiWHx6UfjGF+tL\n",
       "M+jPW6147pDjoWoblzgREU1zHg9xnKpysik3ytxFRBSH3P6+Ob5tWc7uzyBwf2NsjYdImWO6zjSs\n",
       "mg+RJG7bZFOWlu+jPK8Tc3VgfXvXtbY4ERHtdjvzXTt32+7SyriW40GSWLbq2cmpU65tzW/4p6/e\n",
       "7MtNo+uLtL/2uyRVud2XfXOR/FvsGYiyD3uhjHZfa/QeWyBNks/flPhskPYufzvwewfPuJH1q6pK\n",
       "lQuE4ffVVVbp/fZ3zwn290m/3rhbNKyvXcdj9t2LwuOPjNhWNbXZ75oe2P5Cpti4+tgcd6vN+oOe\n",
       "N5q61x0Xl2fGdRy53zudTo3ry0v2RY+P3X48kWk3fD60tBNaG83GI+P6Vumq2WxmXC/mC3Gl6+x4\n",
       "zH0ax7oeTGbcFrKvbd6+ec1vTfQ5axBj6uGB58Ynh3q7UsdjJff4xmXDc4JvXN/f3+/LWabby5sb\n",
       "9n9PDuaiDvoctau4DrHiaxIRjUb8Hb5xuC3Futuz3kqFb2zPX5qOlfdXxvXBkXteiqzx+fz0qVPu\n",
       "8sFcJ1+vHpxycWo+rxa2tRRzlFEHy2dr2p1Tbmt9e6j0wWA1yXbrfq+9vq8bdx/MF+a6Xfr7Uarr\n",
       "gbQTZaP7cLX0tUnXP+nb9r0+x+xK9ifaDb+3J/2eNOL3Liu3LSYienvJejCe6uNrFvEY8I3D+zt+\n",
       "Xh1yvX1zsnC1qdNNAfXCB0w9c3ISsM6OPOM/Eb52FppydeXW2SE0fVltb0euPTNt4UlEuVDRTJkL\n",
       "v4UbxvZdV1v3nllo+RWJUtfpwnzvNHPb7boxvz1N3XOH3FckMvcjq1bvYHt+1FhueZwfPjlwyryY\n",
       "vDCu356596h+9tXfms/euL8pfme23c9vfrkvPznU+23z8G5f/sHHz1W5f/Hf/8G+/L1PPlfl/mb3\n",
       "83056nS9ut/ymP/6nNcmZa2vTSS5Z20Sif2hPNT7sxd/8nQ7BWKsJDm3v8c1oVA83DO8qKpZF31+\n",
       "npxTtjtdLhZ21V6m7Lbutm0aczxMjxZOucLjs0ns9cNAbp+haXh901n3aPPce+tipSk+dM/B3iIM\n",
       "A3dd7bsj4WfVHp2VexDaGoGILPdaV8ZUPG+a677A737y8b5cKVMRTvoAAAAAAAAAAAAAAAAAAAA8\n",
       "AvCjDwAAAAAAAAAAAAAAAAAAwCMgNsPwWMgQOHZYNIEMG7Ir9dAUlR1ORSESx4NrKyyaRB4LLSbm\n",
       "0c/FYm6LfytnhduJlTA9swPzSKcWSkOGOPgW9/Pso6VFxkfmbm5unPfsdubR9rO3ynFZq2q5cqpz\n",
       "vTNDbXWlu65Fbn7TbMHh2HrPkbaT46N9+YvvfabKxeKI3HJ1r8o9PHCosJ/99Oe63D0fgRwGobOe\n",
       "o9aVCNmVPNVDx/XiJN1w7D6yS0T0II4fNg/uI9hEREHDxwjHIkRaX3nOgoqjfVoYLiKiRoRjey90\n",
       "kWA8Z93+5OUrVS4UIRnK2hzX1c6tB511tLe2Q6N9h3WSUYtU1YuQa9lIPyaZ53zsN/GE5YgH1olq\n",
       "Z7aRFsJChtsgImqUkE6tFe8hUEJi2sfZtTAi7x2X7biRAk/IpGLENi72hA2UYX+00BSxNYZmylF/\n",
       "+0ixPI472HEwBPLTu063LV3LejTE+jfJMR97Qp5EMlSbmNuKsX58PBdHvJva3V5E5nHtXAkzSkS0\n",
       "FWEb48hzzlwgjw1HkW9Olm3uCWEhVLn2hJUywscoYRCJzG+3VTRI3f2WWuflAy12oWUkYuXodpZ5\n",
       "jlMLQisEQKeoi3lM32zLkNzj0A53pNWps9qyad16ZdvR+ZF7zjp+YoaIkWFR71Zu/4GI6F6E1fGF\n",
       "G9DCsdnIcfihodWkH/mh9/jqIH2xDw1F50O2i6+NtGcHPnsk2ssX3k3K+fwbqad2uEPNHtth4LTn\n",
       "pzIEgy+Mr7CXMtTbezUVfdi3pp6nsdsel9Z8VQfuNvOFFjTeY4WEOZi71w/3t9fGtR3GTfv3N284\n",
       "lIkWfoaIaDbjEBt1fa3KSb3qWncf2GNIC1NT7ky7cHjIdbi9dYfnJTLbtmn1sFKzKa8fDubuECJE\n",
       "RHMRBu7KE5p5JEJ+f/Xrr/flKNTnw49ecgibxcITblLo/OETPVzcIMKYmnOtiQw/NxNrz1Gh24KN\n",
       "CAW6unWHNyMiikT7v3ylh+h5/pz/5rMt5+fn+7Id4lsLrz05Pjau89wdgunyTv8OydIKv5gVyvi3\n",
       "1jeZCBkl/V/zWea40+aYnfVsubaQxLa+DW57maem7QuVEMLHT8zQeLM5j5um0/ttsxVt6wmLKl3M\n",
       "ttbXqFnBexPFWB+vtdD77Zbrt1nrzw4zbqNucK+jiIj6RPgClS73xe98b19OQt133zZsf7fCXqYj\n",
       "/Z7dmueY3hNaXIYxKjw2SIZ3S0Ldb2lEiL4wNH3evnWv69PIbKNA8TenBetU7vOxxHq/a3Td68V+\n",
       "y2CtNVNl7SPDTRIRzVL3HGr7H1qY6txaP0wmE6fcKjB9BmOtuNV1bC1CTB4rIbCIiIZQhMGK3c9L\n",
       "rTXb8/TIKTd7YrbJ2Z17Hu6tkPLdiPfM1qG+Rv34B2JO2Hj8+IHb8uFcty0nM94bO1L2XomItiKM\n",
       "VpJz+59d6/P9TtgWz7ChSuwV+0ISBoHod2VNSkS07fm9axFW0RcSUoYgzD2pE2Kx5+AbhnIfpe/1\n",
       "9pehLUMrvGaauO9rK8u2KPtamTV/aSHIN2tz7h7UZZUM423pb+/2I+1wpIkSojezwv9pa7s4sttE\n",
       "Ce9m3Z8IG7SY6mHv7m7Zf1pt9TCmgQgHmHmWc6nYrzrwrB9+8gmHzT149alTBid9AAAAAAAAAAAA\n",
       "AAAAAAAAHgH40QcAAAAAAAAAAAAAAAAAAOARgB99AAAAAAAAAAAAAAAAAAAAHgH40QcAAAAAAAAA\n",
       "AAAAAAAAAOARgB99AAAAAAAAAAAAAAAAAAAAHgHxbLZQ/7har/flKIpUuc1uuy93ba/KjcbjfXm3\n",
       "3apyYRTvy5M8V+WaptmX1w9L42+73c55T5LExvV8PnXKpZkpN1u45ZLQrN9ms3HK2fXZrlf7cqg0\n",
       "7cnpzLgu69IpN52Ojesha90PjBNTTunTODTlPj79aF9uNu52JSK6vb7dl//mH/5elTv75pyf11Sq\n",
       "XC76fjx2tz8RUR+wXNcP+3Jofa9kInQxbd6pclXA+tx2nSrXtNzmQRyocqPJaF8uWtaxstHbter5\n",
       "vaNspsol4rVlrbfrRvah6DOb2/uHffn1G7ONpuI7JAezuXF9eHTglEsDU/ci5efnTPRhlmVqXVth\n",
       "d4J2UOVKoW9laY6nunW3WTtYNk2pa9Cb/T4M7nq0dW3ep8jZ/94J/Yvj2Bbfk6apqKqui63Q2SRy\n",
       "y/Wd+e3pqHDXNTDvX634G8NY/78FWcrPqypdZ9OI2yJJ9HFNod4uhpioUpzyRZHo949z1r9olKpy\n",
       "ncdOSMotzxV9q9/T1fy3zmhmvV3jhOsXhLrcIB6oqOFv/8Z/7Ht9ju8a1qna0vOybmxxIiKaTMwX\n",
       "57m7bSOrbwZy16PpzfdIPZdUlSkXp+4xIOehwvJH0kjTF7PNa8UvWgsfi4hovXXPA01j6kdZav6T\n",
       "+d5nz5/sy+n9RLmHaLXm5+12+jgsCh4Dg0f/QqFzocd3lH0jTU2c6LZe+qLSB3wP4QvY9kni+5uG\n",
       "/D7/s7ms6SuR+U0+2x4JOx16xrWsk20vg8D9/HFh6vYod9v6ufCFdzu3v0tEVBR8/1SZN4iILi6u\n",
       "9mW7P2czt79zdnZmXFdl7ZR7+fKlcT0ej51yto3Q1juTiTmGenKPQ/v+SLUTJtMpt+319bUqFwkf\n",
       "XfMzstSyo4rc8fGxcf3mjH29H//wd9Q6yD744vPPVDmpB7bPJTk6OtqXq52+PiwK7oPlA8u9fv1G\n",
       "vecH3/vevryYH6py6+5+Xw57fULMZ+z//uZXv1HlaOAxmsRs03aV/n3zA372dKr7Gcslr3mvz3Vd\n",
       "kX8bjdx+OxHRyeHJvnxo7QvUrdvOzmdHxvW5GMuShbUO+Mv/8OdOuXxk2v2vz9465V68eGZcZ8Lf\n",
       "qWr3HBoEZn+Gyjqt7UxbMgzuPYiqNu+fz91rnfncbKNR7J6Hc8u32Ik13MODbmcroUtZ7pk7SMyb\n",
       "nT4XJWLvo+x0X+DmnsdKlrBe+eavOOE6bJR+IiLqA9a3f/V7/1yV+5/+23+xL1eV7kOHwmb84i3b\n",
       "LdkmNlXA3350ovtOch5Oa30/bdgK/Rv0dpVTYGev35Q5P7PaPEzccr1o8y7V++nggL83tecRwfXN\n",
       "3b789swc+5ud29bbc/IQusfh2tojvF8unXI76z3vtdlvaax1fDbibzyIdN3JMh7Xf/Bf/54qN5nz\n",
       "+L25v3DKJCPTF4syt1/0p3/2F8b18+duv+V/+KM/Nq63whb8+Z+7bSwRURSxvzOZuZ9NRCSXesVI\n",
       "HwPThG3myjN3By3r35M57xUloW6PqpIHROCxW61YJ18v71W5Wq6nlX0PIqJIjDW57vGtFsKB/7or\n",
       "16pcJPaNffuFvdh/pEj3RxoSbWTpeUfu9W8zmHP6R89fOuXs8b9aueeiKrbseaD0lfCNh8H2k7U5\n",
       "2apT5t4DSiKzrpHSW0FofnvfudvI3suRex93N25fh8j09fJUX6ctb9l+5rm+r3V4wD7EbnWpyv3p\n",
       "//W/78v/7n/935wyOOkDAAAAAAAAAAAAAAAAAADwCMCPPgAAAAAAAAAAAAAAAAAAAI8A/OgDAAAA\n",
       "AAAAAAAAAAAAAADwCMCPPgAAAAAAAAAAAAAAAAAAAI+AuPMkq6yNxMu+hFecEK6Y6EnfFgtOcnfj\n",
       "SVJqPNuTBFgmWRoGs36dksy9rs0kY1qSZzs56tm5O3lS817yQPd7Z2MzCVokkndpias7q8mnIoGu\n",
       "5Ef/zEy2mhy6E0+urOTPayXh2ur+wbh+d8+JXb/82ZfOe4iIbs5v9uWh1/ttlHNy3s7+SEEn1C8h\n",
       "PelgK367lEm8q507uS8RURFymx8MegKtbc/6kbpVhYishJD6pxt61YhPijM9wWq34xc3vZ5wUCZb\n",
       "9SXMlbnwlPxlREQUdNyuT6xkpIeH7gTL9q/ItVKP3krypiVmk8n0Ik/iapnkTib+s5HJ5belmZCu\n",
       "HdyNYScm1RKVBrYN6rS+MhXEl/hUMgz8PDs5tyQRyVLbWm+LquLEe4GS5Lm27KOWIDTLzAS8Scbj\n",
       "y2fDA5G4r/MkYpXJBNNMT/LedYMo68+LY35eKGy2r706oaPbnZ6kUfaNTPz33vMarp8voaz89q7l\n",
       "9opjXQdmB5wks7WzIApKkQC9082lMa0NHp8hiMR4jezx4G4Lu416JeF9aCX7lONBUllzcBe469tG\n",
       "pm7L/pAkKfdN35tjtR20uprXsWK70tScqzOljZrBtKPLnTup7d2DJbdhPR1P57b4ns8+40TsvgTy\n",
       "d3eceNI3rmWf+saAJhd6bP2Hjq9e6IfveRKfnLTTsg5BoPswg9CP3pOEVtrf1DMfyGTkceCrq0gu\n",
       "HZnPSzP380dWIvHx2J3gdzplP1TONTZFynZaexYRUdtysvbA+qbVaqXcY7blrnIbr8Xu0LgeTd3J\n",
       "iLV1gE3TmPODnXz9OyKrzeXax/cumTB46D0pg0WzV5U7Kfj9vZnMWBuvu515f1FwXwWx3r9SD/pO\n",
       "nxOigJ8xHbvXMN++l+e55OOPVbk05eTX8zEn2f7Lv/hP6j03N7w2yTyJdcen/OzQM742G/Yda8+4\n",
       "ngqbuxX9dDJ16w0RUZqzDqyublS5KGAdGxX6+iEROrrb7VS580tOPm4nbw4UNXh3Yc5DWhL1oDd1\n",
       "fnZ44JS7uz43rkdzd6LzTW36X+P58b5cK+7OZmOud8PW/VH2sNPm+Loxbc547F4TTSfmt4at+3mr\n",
       "tbnuvnvg613tTp5NRBSE/MF1reuidJfaRh+v9yIJ+vGzJ6rck5z/NtT8vIdrt29CRIZnF2a6bYnn\n",
       "PAbOrnR/5C/+8q/25e99+j1V7o/++F/sy+Nf/HJfvheJtN+rw1vRRoVuC6Zi7d7e6XLlmnW2G/Rk\n",
       "92kiWsnyXePI7fPnian0SeiWK2bcrnHq2VsL+HmrVte9OuBxPT02/csn+TPnPeOJOU6SyO2PdI1p\n",
       "M0plbWbbnLJzy61rc54LhU26f/vGeQ8R0fc//2Jf/sM//ENVTrg7FGbu8fXm9dfG9f/xf/6JU+73\n",
       "vvihcf3v/uf/xSmXjEz7eH3HyeVPZ0e2+J6/++lf78vTVJ87Xp/94758cuT2nYiIDg/Yxs1G+vo8\n",
       "Lnle+YRYx5rm2CX+7fNmrC9prD9b7q2dW76P5O0ZzzFv371T5S5ubvflUuzBZcp+LRHRZMRt2efu\n",
       "uYuIaLXhdVqvzC9ERGHGuh2k+rpA7tME1h5hlyjzV23OX+u1227b/qrcM5AElpMQK3tUVcvjsO/N\n",
       "sZqk7rbNrLkiIPck33Tm+lf5GYDS2LTT2jqytHzjRuwRNJ5+Wy/594KRZ5/m0+en+/JcWZcREQ3C\n",
       "3+lat79PRJRnvM5Y3906ZXDSBwAAAAAAAAAAAAAAAAAA4BGAH30AAAAAAAAAAAAAAAAAAAAeAfFq\n",
       "qR/3lkfahlAPNZCJY/lhqB9RkqERQk9okESEt5h4jq3XNb/XjnqlhcHqrZA/feeuhx2aZlCel1lH\n",
       "spZL9xG5TWgeiZNHFpPMHfri6to87v3m3Wun3L//s780ro8+fuGUO315Yly/+uyVU87uw0G0xaAc\n",
       "xSUi6sWR4s1WjxU0XfD3jjzhQXoRrmyz9YQrEycE44R1whd2pRf9OfWEvel24mhzqYdJkkcqx55j\n",
       "nfJAoNTRTglpRGQew+56PTSI/N7JRD+KmyYytITe/jIsRzE1x2GiHJssN2bYBSWyEp2cmro4mbjH\n",
       "+VY8b7PWj8TLECe+8CmlONJaNqZODYG7D+zQFlpYncg6Zh4pNjOMzSOsepgkK+xVL96rR2egToyb\n",
       "TgmB9W1FuLjduMeXPYZkWBNJZYW6CBO2E3Vt95TNAAAgAElEQVSl94cMSegLxzaI8H2dEpbj2/rx\n",
       "fGaH4pEsZjzmpa0PtdggRBQJ25J7xrgMZbTe+sJysM4Ooce2iFCU24rHg3Jqm4iIZkKXB88xZEno\n",
       "CeUjx7Ed+lQyCMVMU/NYc6OENems+lW14pNEplykhBqMrPcWyjHzcWSGGlpeu0MCVDXrb22F9QuU\n",
       "EEyh9f9pQuWId2eHhOzd37SxwrtUtbsPLu/Mbzi7YB9iOtXHw3TOYbBOkqeqnOx7XwhRGUbIpy8y\n",
       "nJq0g76wbdK+e0M4iuf5fAGtPu89Twnv5quDDGn4oWE87VCZEhnS0A7BJBmNclVuPHHbLvvLpzO3\n",
       "Xyq/wxe2LQo9cW4FUj/sblpaoYa/YzIzfTZtDpXhCImIDg8PnXJamDab3gqVmU/c32/rm/T3tx5f\n",
       "thBd4/PhpM6t1+5QozfX5rdrun1yaoZWkf0bx7qOyb9VlS+MrB6OQlILuz+f6z55JEIcHX3KIWz+\n",
       "/mc/V+9ZipBVo0IPt0ETHq+LmTsEGRFRtWZ77NOdXPgM2y3XITs5dYkTEdFK+Fjzka4Dp6f8jMYT\n",
       "wrUWfysSvT9TEnbV8j3tUIHfEcV2mGa3bblZmveXnVsnto0597eB23esKnM+zLas29Pxwhb/9lmW\n",
       "L9wrTvR8Yd6fJG57vDgw+yaLFZ8wMsfdduf2CVfWv1cy3m6sz1+tCLfr8zfJCA2s60Eo1jEN6b57\n",
       "I0LsyPGlhbIlIgrF2NVC7xCZIWYvv3GHqSEi+qv/m/c+fvT591W5P/gjDu/2919/sy+v7vQwUOtb\n",
       "rkMy1ueyH7/i8F+01dtrKnS5i/X9kUSsGx+25jjRwhqF1nidpG6bJPc6+kS3Gdue3xtHntB2wvZl\n",
       "pfntWsjqnRV+7ezCnTqBLB+wUUK4tlZo0duV22e4sf59KtIbjDx7BrNjnmM2O30uk8vNf/xPf+uU\n",
       "eWvt4f3xf/evnHIvnpvhTZut23fcrU1f4vgVhzg8Pjyxxfc8W3Boxt2DHuLw6i2H/Hx79rUqd7/i\n",
       "emSJ7uemYo15fMDzV+dp/7kIHdd69hIakavgk2e6X/r8iN/7X33vx6rcxQV/+5e/5JCQ1572kvst\n",
       "tRJmkIgoF/75tvHsEcgw+SO9XTuxHoys/alc2ZNPrOdd3bjtbFNb41oJMfneWkDbT5DRK+1pLXRP\n",
       "CoEVLrFvFFtQWXLKnkPfWnvcyhq1skJMVmIPOFRsLBHRdMTrjE+e6qELv//J8315e3uhyl2esc5p\n",
       "4fWIiN6INDTJ3/+dUwYnfQAAAAAAAAAAAAAAAAAAAB4B+NEHAAAAAAAAAAAAAAAAAADgEYAffQAA\n",
       "AAAAAAAAAAAAAAAAAB4B+NEHAAAAAAAAAAAAAAAAAADgEYAffQAAAAAAAAAAAAAAAAAAAB4BcVW1\n",
       "6h/bPtiX66pS5Xoa9uWmWapyYci/MRVFpsrNptN9OYgjVS4J+G/ZqDP+FtTu76pK89+HIXDKhWFs\n",
       "ybnrMQyNcV3kY6dcFCXG9d3dal9erd1tG6fmPaennzvlrm6ujesvv7x2yv3H/+cfjOvR3P1NL54d\n",
       "GtefvXixL19f3znvISIqK+6DKM5VuYury315PhupciGrFcVhosp1ogvCut6X236n3jNqWf/WmV7X\n",
       "IWU9yJJYles3/K64desUERF1/FF9ze3VdI1L+tv3Tng8VJ5x2Las21Gkj5tY6HbQ63JDwN+RWvo7\n",
       "dO7xlSVmfwb94JRrLLvzUK2ccqvVw75ct/q3dx235RC630lE1HasH8Ngyg1B77ynH0zb0vedUy6I\n",
       "TP2IQre+2G9p29opJ7/pWzluM7tORj1Ev4UePZD2eDxxj8MkMft9vdk65cqyNK6zsNiXq8b9fURE\n",
       "TcPfMRV232bIxXco7UpEtH3gd1Wl/t7RmHshDfnZjdK3RESdmCu6Xv//EoGoX9Xoz9s13J9V63mv\n",
       "MCeNsB9hqt5C19c8BwTksQUx28Es1e1gFPD39r17nBARVTWP0SAwx1dZKTYuMHUsG7vn0NHElAti\n",
       "dx/Urfme1XbjlqtN/RhHM7fcjnW7sXQq7NxtG1nz1RC4+1f2JxFRq+jfpjP9qkpR7aY3v70R9u7t\n",
       "+Vv3TUSU37GdPT19qsp9/vmn+/I//uOXqpy0Xb65KE1ZiaU9lrbO92y7DyVy3vQh3yttoo20q7Js\n",
       "zyMS+R0TT33kN8Wxx8/o+Xmjke47zWYT9XnTmXt8NZZvMZlMnHJyvspi3S+Tc609PxjvbaTOmvpv\n",
       "zz/fYX9TX7p9g/v7e+NaazN7ro0Kty2czUwb0QVu3bZtpPyOpnH7OkSm/h0eHqpymw3btNvbW6eM\n",
       "2a5Eee7+pqPjE+Na6rbdLpqcb7xKW9j1up8rnxHoQ4DKHfsgk/F8Xz5+oreXHKNZputsI/xa37cf\n",
       "Hx/vy21zpcr14puyjOdanx/flfx9T47dcxKROVJu7u5VuVCsI4uJe+wTES3vWS/lvEFE1ARuG5fn\n",
       "5jo+UGzX28t3xvWqdM/JnfWeYubW2bo0x9cQcmtouhhEpm3X9jQGawqoWrfOzg/Mttyt3HPR/cWN\n",
       "eX3vXp/3ZK4bjblIn0Kpavg7ylrXqzRhn9w3F43G/LJu0Me10eY9v7co9GcvV+t9eecZA6VcN+rD\n",
       "lT7/7BN+tmcN/Wd/9R/5vcI2Z3ZnCyIxwj45faHKzYRehZ59rcmC9aXx7Gc8CLuzqx6Mv4Wdexwm\n",
       "gak749Q9z2UJ+1u97j5QI16zKt1rPiKi2weee4bKrNvR/InybHPsnl1dOOUia89NW9Z31ri5Xyv+\n",
       "vrUXIa+VpT8RETVCR96eX6py33z1q3359GjhlPnX//LfGtejwm3fh878piF329VRZo611VuuXxzp\n",
       "funp4Uu+J9DXfV/9w5t9uY10PXi3OtuXa2W9RUQ0EmvtH37K+5mZx+etd2yDdoqfR0RUjFmh643u\n",
       "YwVi3b0QNtHm4NVn+/LzBevyptb3FdcNt9H1/Y0q92bD4/pq6fbfiIiGVPRhpu8r9hteH8q1OhHR\n",
       "KHMP9Ci1fGhlKRU35uAIA8V2Weu8StkjHIS9jBPLXkbubwys9bO6r2UZCW2vovXMa8bjLEc0Eb7j\n",
       "aqX7h4mYO7Zrj76IdfftudsOEhHd3/K+u/y9xWYj/Krbn/5npwxO+gAAAAAAAAAAAAAAAAAAADwC\n",
       "8KMPAAAAAAAAAAAAAAAAAADAIwA/+gAAAAAAAAAAAAAAAAAAADwC8KMPAAAAAAAAAAAAAAAAAADA\n",
       "IwA/+gAAAAAAAAAAAAAAAAAAADwC4rJt1D+mabov9x653f2GH5jovyP1cbAvN82gyt2utvy8Ua/K\n",
       "dVW7LwdW9frGXY88z81/iN1yHQXGdZ7lTrlkGBnXVdw65drB/I6+Z7kwdt5CZbkxrgPRH5LxYmpc\n",
       "P7fq/h0fHx0Y10ngbttFNjb/4YrrepAsnPcQEa3TrbjS9WA+4+cHgS632+325WpXqnJJku3Lw9Dt\n",
       "y33vefaWv33c6jqWFtzmKbnbn4goTFmfK9KfRyHL7fp6Xx5IHw/lWnx7qMstFjN+Xh+pcnXLbTTN\n",
       "C1UuEN+xergw/lbttrb4t/dEpjKn9nj7LXFnDtggdLdZl3IbBYpeExF1dSfkalVODveqMd9ZNx25\n",
       "GHrzm5ra/fzNYP57lmVOudj61ihy91UfmvXZdcLOxorRIKJqW4l36XqQJ9w3Q+QeK0Nj2rM0GTnl\n",
       "2qa0rvl5o9HMFt9Tt1zXIPXMHQHrfT9Uqlw4cD0WE12384LbrxtYr96bHwS7ar0vzxenqlwQc5uP\n",
       "pxPP83gM3dxfqnK9UIMoZB3bLDcO6W+pIv728XisypEYK22rj5uiELoS6r5A07HNjlOz/bOFezxI\n",
       "20lElB+47ezDxrQ57dKtL5uHtXHdl25bFQXm9+YTZazUQj8aU//TyD0emsoc41Xv1tnY+tQhUGxQ\n",
       "aM7xA7n9jElmtnnc8Ldvr1fOe4iI2py/PQmuVLki4zb/4rPPVbntlt/7+vVrVW6zYR3Oc27LJNLn\n",
       "2lrY30jxYYiISPwtVXwnIqJGzB1R6NZRItNna1vhe+rTEoXC59VsLBFR3fA3jXLdZshvH4+nqtxI\n",
       "tOVobNq0J0+OnPdUlWnDRyO3/QwHfl7f6bagrnlcjz22uO2ETduZ46RVfLNFb+q/NodWlVm/9do9\n",
       "BobBtEHTjz92ypXv1cc9XqdTc867uuIxNVvo/dYKP3C50+17NuI+GB/M3XWYm3rUNe62vDw3fbtP\n",
       "P/p0X+57fXw9f/piX767uVblpK8SewbLeHq4L2epPg+3DbdLILr95MUT9R7pNh88OVHlpmKOWj0s\n",
       "Vbnze55jEmVtSERUSb++5cqOxrpPtBbz1dXlrSr3sOT6dZ71wyxl/egrj1zGdeqanfG35fLOXYfK\n",
       "nFvXa7cf8+U//Ny4Pnjp7oMvPn9hXDeBu75ffvmlcX19xe1UJO5xY88B4eC2x0cHpn3MMvccf3d1\n",
       "Y1yvljun3M7yW7rG7QukkTleD2bsY7bt2hbfsx3EuoDcdSAiGs9ZT2dzfV2wuWEbWSQHqlwc8fOi\n",
       "nsfNw1avQyu64OTIbbeIiLpr/qaPnn6iyp3OuH6xoitERKuG2288436/WJ2r94yOuRwe6baYOrZp\n",
       "i0K3LT84+cG+3Gz0efMX3/xyX17Fpg0KTty+/Lo356FfJ267MRJrnepW76ddzXOCZ8uBqjJhuT4x\n",
       "/tZE7j2bm7MH4zpQ5u7WWu/f3D045crSek/onmNOnz01rtOU56XJqT4n/9VP/3pf/tlf/1SV+zf/\n",
       "47/cl6PQ7cP9+X/4z8Z1W7nXXC+fm3bw4PmnTrnA6pxK+Idfv/laretuw+Mhiz37KgMP2MazV7cQ\n",
       "c+BvLLso+dUl+0EXt2xnfv/HP1HvuVm+44teHze92H9JQr0/Q/GMy92FKvf8mA3AImFdOTx2+4ZE\n",
       "RCR18dXvqGI7sY6/Wertdb1lv+qbm3eq3IUYK7VlC7LUbTPub0zbUtZuX3ZTmXbiYOFeP4zGps7X\n",
       "K7evvVqy7s1G5vzSK/50FZr+R1m6x81kbO5PJ4HbN1vdmXp0tHDb7XRm7rP96lfsd1zc6roo17Vn\n",
       "t/q6++2S1zHbpXufgogoHti2ZrFukIVJo/Xa7WfgpA8AAAAAAAAAAAAAAAAAAMAjAD/6AAAAAAAA\n",
       "AAAAAAAAAAAAPALifKSHvShEqJss18MJbdd8TGyz04+MViJcQUV6GI2JCPeyW/rOloqwHIN5RDSK\n",
       "EluaiIgG6yRj17qPQNlhDZraffRKHrsiItrW7udlhdXOHT+/7d1H1Qo7PJQSHsQOHXdy4D7amCVm\n",
       "G40ydxstJuZxQHl8tq7dYWW+fR6H8Ehz95F4IqJahC+ww2pI2pDrN0T6EVTtCWns/j4iM/TWTgn/\n",
       "Q0TUiFBSo4l+dDsQobJubvXwOGnM753NOJxCoxzzJSJqSm7zoXMffyQiysTZviTWw6l0NetL5Qkh\n",
       "EgzivWTq9a50H1lMrfBC1Lj1pbLCOx6dusMIhDvu991KD+sVB0JXel2ndqKd294Os+bWl4DMcaM+\n",
       "3wpdooVG2TXmsdAocT8vsnQ+iFh3mk4PuyKb1g5vY9Sj5L9FuTJWLIOZK0eFo9S8P07EtS8+gGja\n",
       "UDmWT0SUjfnb18oxfyKiWMTvazzhyn7xi1/sy0dHfFz5o5cvXOJERNSK8Djv6blgK8NS1vp8mIgj\n",
       "4wdzPdTFu3dn+3IodGw+14+wSzvtC4cnw8yEnv8CUgobGSZ6aJDDpzyOQ+uB29JtC3ZWqMjXX7vD\n",
       "6tzcmCErNBs3GZntko013Tb18m7rDlGUiTAmWWqFc1Xm7sYKzTgoIRQSq26JErYxtdquapQQk1YY\n",
       "1FLo32Sihw3LCm6zTp/i6fyMj9k/O32qyskwiQcHnhAx4nu7jvujVkJoEpmhvHzhGKU96VrdBnWe\n",
       "OdV8HuuzfK8MT2YjQwr5QnJKX0ULVUZE9PSEfRDpP9iMcraXcyuc2NGRuz96KyxEkrrrEQi51VIP\n",
       "gTWIuWPlCUUpw0/cPZhyVeW2XScnpi+m6Utgzcky7KDEnqu199repvZe+3lyDHSDPnff3tzvy3bd\n",
       "JamYXzUfOgpMfctGbv1rrLC25+d6yCPJi+e/uy/f3+thyCZTtplxrOv2es1972kiI/TbSoQQOTrU\n",
       "w7udv+PQKLf37lBlRETTxfN9OfesYYKA9WPwhB2WXRgY4af0DzTaa6v7b6MRy41nui9QllxX3xy/\n",
       "FGFXplNzbtVCxEaWjkaF2x6ffPyRWafY/f2vb8y107px+09Xa9MHHIQ/PFXs+dHY+iZlPkytcJhx\n",
       "6N4jyeamfjRKn8aFuY5PKrffcnNlhnDLW7ZVB3N97p5EHAZutdE7OJVh0JV1GRFRmYrQ5/oQoFCE\n",
       "+Q3G3OaJEqqbyHD36f5GH4eHR6zPiWc+lGEHZ1PdJ49zMRft+J6+1eeliZg3w0j3oXc1t+ttrc+H\n",
       "b+/Zv8xj3W+pE26/YGT6h2tlvV5b3b5dufv3Zst2MIx8a0j+jrbRbdDTIw47NpuYa5jra3dY36Y0\n",
       "n/fJRx855X7xy18Z18tbt74cizBcREQHh4dOOXtO3t7xeHvzSz0E8Y8++2JfXuR6qOw/+ZM/2Zen\n",
       "U7c9Tiz7WBRunf33f/pnxrUWWi2x9ghv7mWoMM8cI0L3Jp69tamYYwplv5CIaFxwm//Nz/9OlcvF\n",
       "9/5K+MNhptdhu2Rbf3Ghh2OLxR7E82PdF0hEWx4UuoHbivQaJ8dsY6ONLww69/vY065RwP324uSV\n",
       "Kvcy4799UerhtB/EftzltemLrdbuMIvTzpxTvql+45QbW3tDfaCseet743q5vXfLib3E2405V28b\n",
       "d13L2Pym+cS9X9Jnps7LkPySKjHfe6WE+Vtemt/wq9f/xM8gXceOFuzv93YMd/nerQhVHum/iSQi\n",
       "B8xa2XslIkp71rmxsj+Ckz4AAAAAAAAAAAAAAAAAAACPAPzoAwAAAAAAAAAAAAAAAAAA8AjAjz4A\n",
       "AAAAAAAAAAAAAAAAAACPAPzoAwAAAAAAAAAAAAAAAAAA8AiIR2M9oZxMjjgEeuK/kUg8Wcz0ZHql\n",
       "SI66qd0JVYmISpG8cT4+UeXanp/XWYkJh0BJYvaBydZjK2dZZv/DvhLm72YJuZMOyoS+REShSOo5\n",
       "KMnWD0ZmkrGO3Akqt42ZZDDNld/yBqsPW/e3d42V8FXoQaAlsSeiOOQ2SkI96dtO9FWa68mrDg74\n",
       "+3tPruVG/FEm4O17XWczkZSu6fTfPgvRBxsliSIR0f0DJxqzE5gbz5vy98pEu2Gm3zMWiSxnM08y\n",
       "7hE/O0n0dr0Wid7mUz2RXd3wGA0Csz+7mfu+fGzVL3Try9ZKeBlv3HIy0WGkjC0ioocbTtgWD3oC\n",
       "vVYkYg6tMd0P7j6oW1OPAmUI2P1eKrbFTtDctG497azx2gub5kt0LhOf2t9ownJbJXG13eZZ7u6D\n",
       "LDHtWy/qbieKNp4vkq37Epi3LX9vS/q3y7koDvTE6VXJz2h2/O2XnkSRx4ecPHCz0+cvIv72y8tL\n",
       "VSrLuX69bZsFz19wEsnthuvaKnpDRHR0ykkGfYnqM5EINPS0fyC6t/XY1dAwO6b+t0pSaju5ehK7\n",
       "x++z01PjerFwJ6S3h/+2VJI5Wu1XTNy+UBpyu8SD+Q1D5/6mUWSOu0RJgtpZda07t26nljkvAndf\n",
       "BWZ+a2pE3/vmparm7/Dpy3LFf9uu9flQ+jtl6U7OSUTUiCTBUp9bxTchIkpEEnufzQhEgnXfN8n/\n",
       "++RrI+kr5jnrytqT2HU+X/CzNZ+UiPpcJtbVv0kmLZ5O9aTChwdsq548OTL+Zvui39F15njoGvec\n",
       "EIvxsNt4+jbgNr++uVHlQpGkdLc121Kzi/Ycutu5E77bRJW7bePYnCtsm/Qdm42p88PgdgZsPZrP\n",
       "uT9u7m5t8T2z2Yyf/aAnbJX1mylJo+15d7FwJ7i+uroyrsdCF8mjsxcXZ/tykug6Oxe6GHp87V//\n",
       "8qt9+dmLF6pcIOokbcZkovvG+Yj/tlzrc3dV8vOmE3e7EhFJ1y6KdT9D2je5lqiVsUVENBfJviee\n",
       "dYH8L5vLpZ5AvhdrtrrR129JxnbB9i/Lxm3jLh/M97ZKzuLQWi/sWvfccbk252otsfMwNifETsxf\n",
       "W0VnAyup87Jx24z4wUwYfzBz+xmRNcfXke4XSbpWW8ebbdkt+Xm7Tl/Pda24L9T16tkp25Y808fK\n",
       "8Y9ecp22+hx/d8++8jbmNms8up3lrAdtqI/D8VjMX0fupN1ERHdX7F/vat1ediT8jIG/KYrc/hsR\n",
       "EQX8HdvyThX76tdsB4NK76e/a3+zLzel/t4g5zH65CMzWXgQK3a2NnUvadwDcSvWLWGm263JiP2W\n",
       "bef2n4mI7m7Z4Sx35jdp6+nT58+M60D5v+cRmXP8KHP75y+emnPFZuWub5GbbTKa8Tcu8pktvkfu\n",
       "6e2W+nh49fJjroOyPuytxclq67ZBR8/MNgoTd1/ZfstkzuMrUNZRRERFwXqaenzeSGx2LG/vVbmf\n",
       "/ePP9+Wru2tVbnnOY3QQ+5m3a32dPBJz97bUbctW6N/zI8/cLcbKs4MjVe7VCffBF2J+CUnfUylG\n",
       "bKtGhW5jnz/jtWyaKJMmEZHwHyKPi3sUi/fae/oTd31/cPi5cX3/xfedcrcb0199e/nWKbfamPNX\n",
       "s3Xry0bs13a9Ob/nubstxrPPjOvRyG0Lksi8f1D2zJdWXX/562+ccg+WDx6LefNppu+dFmK9n6W6\n",
       "HkQDj9+y0tdSqfAJi5E+x+x2os0L928xOOkDAAAAAAAAAAAAAAAAAADwCMCPPgAAAAAAAAAAAAAA\n",
       "AAAAAI8A/OgDAAAAAAAAAAAAAAAAAADwCMCPPgAAAAAAAAAAAAAAAAAAAI8A/OgDAAAAAAAAAAAA\n",
       "AAAAAADwCIjzJFb/eL+535frulbliqLYl2fTuSo3mfb84vW9KleJd21WS1VuaDsu963xtzhOnPe0\n",
       "3WBcbzYbp1zYBebzAnc7pan5u1maZ065stoa11nE9YuGzhb/9t+pN67TNHLKUW/WYfFk6hQLA/Ob\n",
       "yGqL72gqsy3Xu/W+vN3qehCEXL+e3M8mIloccP3atlfl1ht+78PK3U9ERE3H9Y0i/sYsdesAERHV\n",
       "zb4YKrpCRLQqud+6rlXl0ozHwPHBoSo3iDbfrPjZ05G7z4iIjo4O9uU41n+n7UX9etLrerTg5+V5\n",
       "rsqV1Wpfvrgsjb8FlbvNitHIuN7VO6dc1TbGtdQx4z1ifG0b/ZuSCY+7h0vdtvRiqAW9OZ7K0l3X\n",
       "cmfqfJa5x/h4UhjX2giod2ZbhqG7T0Orr4tszBduk0FEREnCfdO2epvVDX9XGLm/KbDqFoZuGzRY\n",
       "H7tbV/tyH+h1KAp+71DrH7WsuE+TTJ+zDo+P9uWg0W1LkbGerm5Zz+9XD+o9QcQfGc8LVe7jj57z\n",
       "Rax/U1kJu1rp81yccBvFoikrz5x8e3/N98SpKrfcch2K8UiVm0wm+3JtjV1JO3AF49jsp9HIbWte\n",
       "vfyhcT0du+W2W9NG1Io97i31aJU5ebM2x3uWuHW7H1iPhtCcQ9PIrYt5brb5oPz/mpWlb5u6dMol\n",
       "U/M9aeduoyGw5kkxXoNAnzvalnUpihU/g4gS0adtV6lyciw3HrstkfoShvrYjUSb970uJ22VTy4T\n",
       "flWe6b5A13H7FWLe3G5WLnEiIpqOedxQr4+b8Zht+zAEqtzTk1Nxj26DXr5iG3RwYPrk66XbxoWh\n",
       "OU4uL90+V1awboehboubhnXg4d49vxMRlSXrfFVZbRS420zeQ0QU2L7tb7HXLVnm1sUwNMfreu2u\n",
       "r/3eJ0dHTrmqMsfGkZC7vb113kNE9OT4WNZKlXv37t2+fGzcw7x9fWZcj6UuChKrD2XdDw719dx0\n",
       "yj7rfOF+NhFRmnLbFqE+x4RijZVlum6Pp/yu5ZLnzdFIr8Pzlzyu+1afk+/ueGyMcr0O0q+yfV5J\n",
       "nHAfzmYst1tfu8SJiGgi5vu61m1sJOar0+Mnqtx6x/NcluttdHV1tS/b81eSuX2IwVpnnN+4v+v1\n",
       "9sa4/mZ96ZR7e3thXMv1nGQ+MddLnfAxM2UttRlMWzAo/mFnzVedMh2Oc7Pfl5XbXiaJaVcHctu0\n",
       "8cyc0+/vWbfvNroebLZ3+/KTE33tuRBNmaW63X737u2+fHV9psolOfvDs2Oue1nra3/pS2Uz3S+9\n",
       "WbGNPBnfqXJDyO1SexZFgfDbjsX6t+rcviERURTw82qfCzPmZ6wqvZ9q4YcPY32Onx/xGN1Glo+v\n",
       "NO3IGg9UudcGT5+Jb+/19cPDWvgIsd5Gk9lC1M0cKKt793r67u3X5vWt4o9YftCPfvIjp9ztlTmf\n",
       "xqGyN1GMjetI+MPr3u13ExGVovNzZa1ORHQv5qJE2SOw3ZQ0cj9vvTR9ys5eYP+WyLo/ynlcp+RZ\n",
       "Jy+43yLPuuDiHY//JNXnw0+//8m+/GJ4rsqdXb3elwPh49t+lVGHO67D/VKXCxO2x92FLjctWG7q\n",
       "2R/ZdDz+v3z9m31Z7m3YREL3Dg/dviER0dXNs3356RO3/0ZENBc+fuDZf5yI9cPY8uPT6cx9U27q\n",
       "1Glx4BTbNWZbPj86ccr1ZLbL7se/55STvvXN0vSzl1u3zWgz00bIPS7J9a259/erS/f8dX5uvrfr\n",
       "3HPR0ZPPzWvhZx0FN7b4nvWKbesw6PoSirEXkL5GlXvcQeJZ88ZsYAJlesVJHwAAAAAAAAAAAAAA\n",
       "AAAAgEcAfvQBAAAAAAAAAAAAAAAAAAB4BMSdJ0RM34gQWPqJXaq24ojtTj+2HoijR73nKNNMHM+u\n",
       "Iz0kRi9iNdX2UW3lZGNnhVJryX3MNovMs1FxoBzXjMyjW7OF+2j5amUe15THsJJEOTofmsf5tJAH\n",
       "g3U8s4vcxwDL0mzLunLLDVZou0IcDyym+u+EMpTGdqcfr5yJMC7doOvBII+qJfpxaBlypij4mLkS\n",
       "iYqIiEoRtm250etai3A7eaEfR5fh7D++QRkAACAASURBVK7v9OPop4d8NPLTT1/sy1NPaAoSYVIC\n",
       "T9gbGfrt7OxClVuJUHkyTIjN8SmHCpBhKoiINqUSktBqy83OHfIgtsILaCFt5HHNq2s99Nann31/\n",
       "X+5JD5/SivGfWuNGhtiRZIkVSkkJJUPW0e9OCTeQWaEytNA0dtg3eQw7JF255dMG5Vg4EVEnji/n\n",
       "SvgO2+7Xpdsed4FlV8Wxac/pceqE3V4roQCJiBafcpiZ69srVa4R4R58oQvnqQyhwjo7jd06QERU\n",
       "iPAsm0YPN3m55DkwG+v9tF7znFAc6HV99/Z8X+5FKM/VVg8JlxY8Dx3O9BA9kQhtmaZ6HWT4ymKq\n",
       "f1MqQmpK/SIiKk7cc2hbmzq1U0JkRFZ407Bz6+K2NfumVUJEjRdmeJabt27fpa5YL0MrvkakjN2R\n",
       "pXtB5G6z0vK/NJ3Nx+YR/e3K/U12+IO64frmiR7+pO34G3vPgP1/2XuzHkmSJEFP7Da/r7gyMiOP\n",
       "yqyrZ7p7Tg6wGHBJgG/7wN9JgNzBEnwhQYJLDGfZ2zvTM9PVXV1HZlZmRsbt4be73WZ8GJaLqJWI\n",
       "YV4ZkO9JNVzMXE1VRFTUPFS0SvB+jiXrAbX/LJNjOEdIxVHXHaMNxKc13bvbwfmrakjv5hrxg5zK\n",
       "hKbymwzRppKd7As6JEVUJofaMCQ2StMl13n8GNNCSCkOAACOJpgy4idpFUu+b8NaOtzbaz6GoGnb\n",
       "rIZ1QbRDXWxKD71Y4BxfT18bxbwv2NZS6o1GfCoNmrIKQE7zV9Xmaim9W32uHpI0KZTlwvTNVA/G\n",
       "YzkFU0LS8kwa0gQvZhhjdlp8erE/+fkvjPr333/Pyo1GZloPmrZNiokAzHSgdAzrHB1hzCul0wYw\n",
       "0+ZOp/I6cjTBfqHfK6XdBTB9xnYtpxq0Snz2+ppNul9Tahpqyx5Jx5aUcqqWKEIdPR7Jc3dO7nF9\n",
       "I8fxLZJy/f3Hc1GO+sFbEnMAAIQt3tf0x6bune/458os047rqWD23+Ob9hUIa+NO2xzrssT2bWN+\n",
       "fKleAwAMerztprV0zpGwll1NaymYMt6vHnTMdDhng2NWbjMw49/NDu01thrSk4YYG/hj/pkAAG5J\n",
       "etyrhjTGB23U2Xqae4pF1mw2mRttX7ZDI5VXQwrHiujR3VTWbY/EhC0hLTAAQExSEu/mNGaQ+3Uw\n",
       "QLvxAvnepY++anjCpz4CAHABnzduCAYWOY6TG5kTbJXy7R20TbldxPvjMsbrfWHeAABwSbr0JJMn\n",
       "+cTGvmzVYte+f8Je883Xvzbqj549ZuVCz5x7zt/zvmsyNPvcEZobJaYdt0lazrThXVFA4ly3QWdt\n",
       "GlfZgt3U1uOlcLyBW9bewbX4eTivpQyucrx/uy/P3R3yjvXy44Uod3GOtvf8+SeiXFKiXS838vuX\n",
       "P/vzn+M1Kb6D+/j+g3gNPS4hK+SUdR8uMGVotpDt62aJsdPiTvaDsxt8jmMSc3hCSm8AM5VtUU/N\n",
       "SHDJu8TSl31QXOAYRhs5HskjnE+92ovP42PevuqMjh+xfw875hx8MuTT9xW5Oaf7fd6o0j7qbFm7\n",
       "1S7m+6yesnWb8P7temSmjjxuvWXlLk5Mnd+mfFya26bPKCq8n5M0+PoB9tmiQRcz8h6pNxbS8AFA\n",
       "Qtq3iuX3PkEf109JzuuL7vRRFEVRFEVRFEVRFEVRFEVRFEV5AOiPPoqiKIqiKIqiKIqiKIqiKIqi\n",
       "KA8A/dFHURRFURRFURRFURRFURRFURTlAaA/+iiKoiiKoiiKoiiKoiiKoiiKojwA9EcfRVEURVEU\n",
       "RVEURVEURVEURVGUB4AbtCrxw17V2pd9PxTlkjjfl1ebnShXlSV+seuKcu0Wfq9jy79LlSV+b5xv\n",
       "zDYVEXtNlJdGvbL5528FA7MOLVZuk2+Nel4VrFzlms9RArYjLcu6OAAAxLVbhW7A39uyjPrFzTUr\n",
       "NxiMjPro4ICVS2tfvF3hM65Wc/YaAADPwTENQk+UW0dERyxHlLN9f192AllPozTBSolyfoPuFBa2\n",
       "dR3PRLlut70ve4EvypVZivcuclFuu8W+zHbEboKOeE1u4b27PdkO4y32a57zOgUAsNyirdi+PE7z\n",
       "NcoVZWJ8lhZ8315e3Rn1sMXbea9l6vJ6weuV5aJ+OJY8nuv5al8eHfZEufntYl+Od6avagf8dW7N\n",
       "dqMkZuWiwuxzx+d1O2yZvqSqeN0us5odRjgGeZ7UxRELx9R2ZLuhY+N4fN+WudmGOOX9auibttHq\n",
       "4DPasolDSZ59t1uLcsUWn3edy3PM++nFvlwlvC8GAHg8PN6XUxvtK/fla7wR6mxWZqLcbIf+xIpl\n",
       "uXmCujgc9kW5FtHnLEKf0Qsn4jWB392XB2NZrttGud2O12sAgJsrnFPCUPZBJ8eH+/JyZvrVecHr\n",
       "rOOYPmi5WrFyeWVe73UsVq47Nu24zHh/fHlt+irIeF+1I/Nh3ZzonEcJQtO/BR7vZ73KfIZun/dB\n",
       "vmcakSfYa1Waf++0Ua9skA2xtLCPbFueOzLSl3ku+xaLxCRNsZ5L/Hue4ffaDXO3T3yNJ/Rr/XuL\n",
       "QrZD2pedlqzbw+FwXx4NsLzbbjhxAAAISczQbcnxQ5vY1MFEttdBT57bKLT/6vPL8fFxXRwAAAoS\n",
       "wwAAeA7f3i2JC+JYnoeiCOeKprk7J2MzGNT8oMWPWxybvqoS4u48N22/FGLtuh7RtjeRpin799Fo\n",
       "xP4dAGDQlcfww+zjvnx0JM8JDrGvbrvNymzW5tokEOLXsOarqN1cX/NrCQCA09OTfXkwlJ+X+rR1\n",
       "ItsK1cu72b0oR/WZ9nOWyTbebWM8si7l+LxH7Kso5FigP0C5+VJePxwcjMn9UFca19MJjlscy3pI\n",
       "XaRk0wAAlofjbjmyv7y5ne7Lu9r3bmM+NpvfmuP0/v6Kl6vM+9kOP3ePOqZtBJ6gs56psxbR2Xrb\n",
       "f8StzSl07qGkYPoIaXzjnalvo/6QlWvV7dPi580oN33aJid9HvBrfwCAx0+f7Mv9vuwzqO9LUznW\n",
       "O+ygTQ2qgSh3MUVfdXOLMZvf5t+VAAAsV8QGhLEFAAjJWmwgxEQAAJfXqG+LRF4XeAHqR5uMx3h0\n",
       "JF4TkD4/P78Q5UoH/cToQG7rPemjmbDeBQC4X9/syy9fPjM+Czt836a1+Kb/iNfFzgD9TpTIc/f0\n",
       "DvUjF2wVAKBw8B5ezXZPxo/Za1rdPzXqwvIXljNzrvDbvM+8uPpo1E9P+O+9n5nxvrNAf1AI79YA\n",
       "AMYdtKldJvvjlov6nKR83x4fHhr1ZMfrrF2LmeOcn4vi2ruIdhf7aDThdQAAYEF82ny5EOXGR9je\n",
       "9Uaeu6cJ9u3nP/tclHt3/mFfvjk/x7aSdWidCbHRLJN1sf/85b5cCWs5AIDdhryDa/CDu9VyX766\n",
       "u92XN+TvdQLi+9pCXAYAcH6H/fX06VNR7uUL/MxvWOtQfUtq7+DXt0JcVHtfFb15w4p5oemnJ8L6\n",
       "5OTQ9KWTDj8XbZfY/52O+d7zSIibo/WlUa9Kfty+PDX95Z989iUrt6y967id8/HmYmXaxnaLY79a\n",
       "yfZAXwHvUnmdHKdo10Eo60sc45juoq0olxH/VCa8nO70URRFURRFURRFURRFURRFURRFeQDojz6K\n",
       "oiiKoiiKoiiKoiiKoiiKoigPAP3RR1EURVEURVEURVEURVEURVEU5QGgP/ooiqIoiqIoiqIoiqIo\n",
       "iqIoiqI8APRHH0VRFEVRFEVRFEVRFEVRFEVRlAeAuy2W4ofrZLcvt+2+KJdX1r5cubkoZ1vuvhwl\n",
       "W1EumyZYKUJRzg/xey3H/P2qFbbYa7xOZdSTKOPlqtJs03bDypW2KbdY8f05OpgY9Sov9uU85vvC\n",
       "bntG3e37rByUllHNViUrtlqaz2BbASsXOGbf9fs49p7j1sX3+B62I/SEtgLA9WyxL7seP04AAAej\n",
       "4335aW8gymUFjul6vd6Xp7eX4jWrOfb50+enohxY2Jdpg84GXXyOo/FElEvWaB/xGsfjcHIgXrOE\n",
       "aF92e/LvtLPbO7z3jtdrAIDLS5Tr94einOfiWNuu+b1xlLLX7Gp9FHZ4v5GlsVEf9NusXKuF/dre\n",
       "JKwMAMA2wr589eqVKBfY+EyzG9NWy5jvs9Iyn92yePuyTXOFVoe3gZv1nVEPXN4OHTDtuihQd3xf\n",
       "tkPqk2xHFDN0uwoEfXHNZ80TYQw65sMHXXz2oijq0vhZjs9kW54ot4lwrE5fPBHlMkC9nF1PRbld\n",
       "gTY1PEAdzXe8nwcAWFao27vNSpRr03G3ZDvckftt7teinOvgHLjNsf/HB4fiNb0A/aXjyT4jrbD/\n",
       "K0GvAQDyHPt1u4pFuV0LxzDZmn3U7/E2npY1HSt5fbFapn7kNt+368T83qo2P/5Ir9M16q/fn7Ny\n",
       "UGH/9Wv+zBbmL9/rmXIW/0xxbLbVXvJ6VezMPt+tu6xcsjPt06pQF3eRPG4VaV8QynM3CfXAtitR\n",
       "zrJQ0HFkJ0Q/S1PUsSyTfYZL5qWqktvgkjnL9/n+AgBotdH/9oV5CABgMsaxD0kfDfvyvftEx3p9\n",
       "OdZxHNTt8Xgsytk2PpPj8Hpdb19emHbSbvPPmGzNvux0Oqzc7e3tvrzdyjFRSfy+1fDvZY6POtCu\n",
       "zZll1auL/8vfaz5jsxHi89Jcj1Ado9B+baI+l0nfezAxfTP93jCU1zR0bJrmzW6X6FWP76P6s/YH\n",
       "vJ7Wv4e2b7WS57nra9SDs7PHolxEfJcX8rEOAMDB8dG+PG+YX3c7XJeOxxi/3t3ccuIAANAej/bl\n",
       "gdBfAGa8WZW8rgAABAHaa5MPonrqWqjnrVD2M1mBPtxrCODiDPv15uZGlOuN0J+U8hQPjx492pe3\n",
       "tXlpvV7UxQEA4C4y45Ztxa//EzB1rBLa4VtmXNu2eVspM9NevRB9VScQ5q/c9IPr+YwVKzKzca4w\n",
       "f40Hpn88mByzck7tmTKf9zURmHN3e4L2mgoxDABA2MV2zIX3DwAAvRb2ZbKT/fY/nX/cl1sN8+Fi\n",
       "R8bewz7qebLOhi7a3m4diXJFijZ1sZHjloL07QnxHz/53g4+e5mhXUfkHVedlMTaSSm3YTnHftjO\n",
       "G9aoG9Q/L5DXb9S3nF9eGJ/1Qn49bZdmbNxJ+FgjSNCO87xhfumf7Munj+T1VpTgGmu3Ne2pqPh3\n",
       "NkFotvXy4pq/99bsy/p1P/Lk7JFRtyvevrq19UdVoJ0XII/HfIbP2AvkGG5bos6OD/l3QB/vzGd1\n",
       "hbij3zJ9SymsiaDWJYNjnA+dluwzri6xHZUvTwqHx6gHF+cXotyO3CKzZPt/+xbfyb06e47f05bf\n",
       "L6fETyQN74BCsj4M+nKcEfo4TnEsx339LvqMdg99cZbKdrON0J80xcYfLtHHfriW31P+X3//n/Zl\n",
       "y5bHqddGfWn7plJ8/uIle82z06dGfRbNWbm7j/dGPfuW16tnj58b9eMRbwNZgv633THHqTPg9WAA\n",
       "ZhzQ6/GxbJCbPqfc8nrQq0x7Hwz5+LXomPPDbovza+sT2b4y8q7OFX6LqMuluTy+cYztoGvrOjQ2\n",
       "XiV8DK07fRRFURRFURRFURRFURRFURRFUR4A+qOPoiiKoiiKoiiKoiiKoiiKoijKA8DNXXkL+67E\n",
       "1AWFnKUGKrK1tJ5mjeL7uO06yuQ0cFmCW2mtWN4qWJItWklt+6Pt8fe3alurXY/fmu9W5v0S4Lci\n",
       "11M1LIU0cKftM6O+3uA2sdma35JdeWYbijk/CHFubnl0XX57+7KWOiba8GM/6JrpRWi6Ms9tGF/y\n",
       "kduQKujwGNOpLZYNaf5KvOHk6EyUe/QYPytJuqg3r78Vr/nmm6/35aQQ0voAwLCP29EdR97qvpzh\n",
       "FsjpVE614BKdXSxwW/gPb16L13z+15/vy+lSTj9lZELI5JQTLz99sS9fX9+JckC2Ky8X5tbtdptP\n",
       "QXNyYm6xd2zeDovC3Db5J7/8C1bu7g7b9/6H34tN9Tzc3vr9t9+IciFJx9SupRrJgNfZIjf7sp6O\n",
       "6kfqqVCmC75vvYH5vYWUc6M2htEGbaUrpN4BAPBd9JndlqyzAXn+XcZvm7Z/koqCH0+7VXuGAOvJ\n",
       "Tk7jUDr4jH5PTivVHmH6wyiXUy0EXXymL3/+hSh3+wa3qt/M0F7nQqpNAAC7IOMmpAkCAFjF+Nlg\n",
       "2LC1F9Cfd4dyyploh30ekTQpeUPathZJJRXv5C3x63v0W91Q1qnJAdo7vabOlqTl8W1zG3JZ8X0W\n",
       "x6ZO3S/4+7uFqR+DQ75v+7V0W+sVr3/zqZkOSNo2HZBUpU4tBeFGuHdZ8xm9Lq/b9fQ9kxGfbjN2\n",
       "za33oc1vb+90zD6xC7T/NJHnZIekBHAbYrjNlqQoaUg3UJE8cE2ps8x0ZaQvGnTb87Ct9TRfphzO\n",
       "tVIKLACAEUnTMxzK6U5p39Lna7fldF29Pt57IKQkAACwSdrR8XAkyoH9r/temiLu5tZMKUJTAFBa\n",
       "vqmjNK0vhfZ5lskLA5u0taqa0vXZopyUGpCm+AMAyHN+XqpfLz17HMtzStP3Su2rfw/V2cFATlW8\n",
       "WmF8t26I9Z4+wZg39PkUFnVfIKVqq5snTd/X1NbHjzElRr1fKOckLcyzx89EudEEdTb/Vl4fFmQx\n",
       "miREx0DWMZoeo9eRY6IkRX9eFXIbEpLmtinNYhTh/bpDtCdX0FcAAK+FfqLJbuh8JaVsBDDHvRBS\n",
       "HwEA5AWuR+qpARMhrW9RS6XWCnjfVR8bKSVeUHtcr+Tt6662lk0Axzfa8Kly05qt0pSalH4t1dCR\n",
       "kHq7VUsZ2mrx/v1+as7dq4S36/uVucZySXxeJLKfrYifXc74FD0AAB7x59fv34tyNP3cZivraW7h\n",
       "GBYktrj74YN4TeCgvpRRw1EAJNVN4co+qNXDObAh6xIkxAYckpZ2tZBTQG9jtF0p5TAAgJWjHoUN\n",
       "vuXZE3zvYcnuEmyydvr+nfle4OiATyG4W5v2+vjxC1au3Sdj1pA+9P4O7enjhTye4wlNzWra1/n7\n",
       "79hrprV3DrMZPy/FtVReoy7/ziGyTB90dsKnahr1TLumRwHEG9m+wg7xmQ1phx2Slm+b8OsCq+aD\n",
       "kpz/3nHPjO2qiI9zXdec40kmcPhwLY/bfIt6bzco47uLH/ZlL5BTpr365Of78q7h3a7XQlsmUyNs\n",
       "G+wr3+D9Wp5sX50AY21HDrXBJeuC5aopPTGO+3aK9jVsSKtOs3h3fbmtj04xZeJSmA8AAG6Jfyoa\n",
       "0mm7PXz2y0szXdz1NZ8+8XDwtVFfrnhf2KodreH7/LpgU1sLfPPDG1aOpnQLa0eYWD4/3x+DGVdI\n",
       "aRE7tTn49ID3BccjcwxdYR1pl6Z+dEOSWrwlz0sd8lz1I2AoOTlmoNeT37/QdVZTOuHTU1wXPJLe\n",
       "6YlXK4qiKIqiKIqiKIqiKIqiKIqiKP+/QX/0URRFURRFURRFURRFURRFURRFeQDojz6KoiiKoiiK\n",
       "oiiKoiiKoiiKoigPAP3RR1EURVEURVEURVEURVEURVEU5QHgFk1nxrp4AFFayQcE2hUeWFXt5MOI\n",
       "kjUeWjTpHYlyJTkIO2k4ZCzNUM62zcPckh1/OJwF5mFTZcEfLh365gFTfpc/lCurHaQWCYfS7TLz\n",
       "YLfFbrEvb2z+cNkqNw83+/DuIyvnB2YftT3+wLugdvh7JBxem63NA649cpBd0HBo6Y4c2D4a8Id9\n",
       "AQDY5KDNxcdLUe56/s2+/Jt/+CdR7vgMDy384rPP9uX4XtbZJx08nNPy+QM9AQCiDA8Vn63ktobk\n",
       "wPYw5A/+BAC4u8A2PXqGh4y9es4fOAYA8N//1b/dl8/P5QM4Z6vlvvy77Q+i3ILYRunJ41kBHhhm\n",
       "ueYhfh2bP0R9VzssOMt53e4OzPsNRvwBlWWJY/PssXzo3uUlHla3WMiHAk4O8VBA2zEPRFvyTQXf\n",
       "Nw9si4H3GYdnpt0lOX8o3X1kHqx3O71h5Qah+b1DchBr6DUcHt5GOw9D/gB5APOw3irlD4eLErNT\n",
       "dtslK1fXhw7xNe8+XIltGJFDEd9f8f4NAKB7hD7u5Il8kCI9kDsC+aC92Mb2RT7eOy/5sQUAGLSw\n",
       "LzeZPC+VFurszR1/oCcAQI/MKYEtH/qYJdjnnRR16u53cn8lh3g45GgiH2I/3+HYfLwXDAAARkPi\n",
       "L7vygZ4lmR9OT81Du+cJf1Dkdzfmga9ZIBwEWtbmbmEMqtT8X5av3/L654XmfNh5NGTlojX6tH7P\n",
       "vHcw4O0rK81DFIsOP8d0W+Z3Bn1+7vAt094v7vi57frSPCTXh5N92fPkA1bThPiCUtYXP8Dnr3L5\n",
       "QEl6wH3ZcPAkPUyYHlAZhrJ/o/duOkC+T/zlYrEQ5R4/wrlnPJID4m4LbTQmsY47kK+Z9LAvhwcT\n",
       "US4nB7vTdtcpyYGj/X7DabUl9uWwb/pBy+LHw/VM3bZdPja4n5NDgG25/z0SlxYrWfd8F7/3YGz2\n",
       "ZVXwbS1rB68uFnzcnYP5vZ0Or1frhTmvDQa8DdQPXm6FvN+ut8/zyKHshRxzeWQ9EYTyAbBFhZ85\n",
       "Hj8Gz56Z/ne55A+4r5+hnJGDmO2G/wsMyaHKgwadvbi42Jf7E3l9uFtjfNdpyfa/26DtZTb6LdeR\n",
       "Y50lWXMMh7yfBwDIVjhvjg/lOD4mB80HLfnZ23TcSYzV9N+WFrGHQpoLAWASkEOxMzluyQH1Ldrw\n",
       "h/sCABRbjJ282np35fKxwe3UtLu7uztWDqq6jvI9ELjmGEqHjC9quuxuUe5GCOSHg1atzscxWWXa\n",
       "+Oyej3mT2IzbDw/4dxqLlXn9dM3P3ZZjPms3wL4YDORYdrdDnW0PZPt6f4Pt9bvy/Z4RvS9Anru/\n",
       "ffduX84r6qtk7Y7X2NYnB/yaDwAgtHCOt+VwBPoDnAMvhAPLAQA2tI+6eM3B4SPxmmqJMcN6w+sA\n",
       "AMDhCY772clLUS7dYl8mW3ktaydoo58/e2p81h7x880mNtcZ89UFK/f+FvuoPkdRhl1cy/q+rAPn\n",
       "5/hOpBWYupdGvH0dD81nOBZiaBoXAAB4Dh/vbGpTf147UP5HtsnGqO9S9CFuKL8DCshz5VlDLBtj\n",
       "f1pC31o139Lq8M8+S0w/alW8fz+amD6n8vD+21SOecFCHQvb8rPPpvgu0G+YXy0fx2p2NxPlOjZ+\n",
       "16CL6/j1hn8XCQBwcvZ8X15t+HclAAC5g4pQxfK8OVug/73cCPMVALgkvqkK1OVoJcdvoYt+qyp5\n",
       "PQQAyMicnDWsYXpH6PyKaiPKzRbYL4lj2o3b4dv7Pn5rfleLt6+LtfmeoTvh1zEXN6b/7YZ8nFVN\n",
       "cWxaNd3r9fm4774y21bFvD20wNTR+6MTVm55fGrUO23erzq19910vRnm8jvbTg/bS9erdXYJ8dtL\n",
       "eU6grbByWbenO9RnP+Df0epOH0VRFEVRFEVRFEVRFEVRFEVRlAeA/uijKIqiKIqiKIqiKIqiKIqi\n",
       "KIryANAffRRFURRFURRFURRFURRFURRFUR4A+qOPoiiKoiiKoiiKoiiKoiiKoijKA0B/9FEURVEU\n",
       "RVEURVEURVEURVEURXkAuE7bEj/0KhcF7UCU2y3yfbmATJTbJvG+3O70RLnKx3K6W4pyOeD3dicd\n",
       "87Nc+D2r5RrVwGuxYuvVzqiH/oCVq6A06p1Jn5WzAs+oz7aLfTnLU/aaxeXcqD95/IiVs6Eyv6tk\n",
       "xWC9Whj1Xo9/Js8z27rarvblbovvLwCAIMSBi0uhEQDgeTg2nRHfBgCAVoHPtcsqUe6HN9/tyzdX\n",
       "F9geS/5NczLAcep0ZBtYbqf7cu+AH1sAgJJ81/36XpTrknssp+t9+d3lnXjNF8fP9uXBULabybi9\n",
       "L7fP5ftd3Fzvy7vNTpTr9fC7xqFpX+toVRcHAADPd4y6Vbqs3HBwYNS7HV4PCjRx+MVf/IXY1uwf\n",
       "/mFfDrq+KDdbftiXy5p6PHp+zF6z3pi6XC0KVs4PTbtpeR1WLrE2Rn3n8WNwe3tr1AefYB+1h7Iu\n",
       "tsm4rVb8OAEAlMRR9Ma8Xllg2vt331yzcncLs62dwRC/x5V9wd/+6j/uy4PxSJT75Ms/2pe//foP\n",
       "opzloy33h7JvuZvd7MvTBc4xtie3db7Dz1puW5RzXVQsz5d9y7CPfd5p8KvtE9SjJdGV7Va28ekS\n",
       "dczvyvf226hHUYOPnS+jfbkqE1GuzNBgozQyPruZ835xuzXlOr0uK7femfOXZfNjleWxUU8SPobY\n",
       "bU3bqFxeX148PduXHx2afqvI4ro4AAD84fvvjHpLGF/fD4369fUNK5dXW6Ne67I9QWjqpZ2hT0ri\n",
       "vC6+p7Jw7Kn+1smIjliWrNslmf9tW76feA8piAGAssLncB1+fvlJGxxRDOZEL0+OJ6Kc7+N3bdcY\n",
       "5zb1A332pn7wfZyzqkq2Q/pMRcHPQ/XP6vfLMj7eTCJTl4OAj/lbLfRHcczrPwDAfI521xAOwvER\n",
       "xrWvXn5ufNZu8W149+6dUXccj5UDa2ZUw5D329vt2qjnOW8raWo+bz3+/5F6vwQB2v9yKa9p5nOM\n",
       "+dtteY6h9nF0dMSKPHt2ZtRvb6es3Pt350b9+PhkX84SXlcAAG5u0Fd1OnJbqe9zHNkQNxucs0Yj\n",
       "ORagcenH9x/35f5Ijol6/X+dzlo22rLV4DP6fTJvRoIzBoCSrM2mMxzbSV+OUQddbKsXynLgoj9K\n",
       "dnIcn5AgOm3wq+DhA1/dmvPQu+VFXRoAAG7uzXhwu92ycp3aet8W7HWXms+xE8ZqsTDnbuqrKuD9\n",
       "Z69r6kfg832bJmZ8s1ptWDnbMq/f7PhnX69N3+IUQvtqMcK4jzH03f28Lr4nLsn6vCPbgEv6xa5k\n",
       "PUhTtPmL6ytRbrfB7+0Psa1N89KArDNc+ZUSTO9wPdGyQ1EuL3Eedhx5ft0R+2i38X43l7xeAwB0\n",
       "OzgeJ4KPBQCI1jjuH354Lco5JT6w1TAh+h0cp6IWM0QJr4uFVYuDCv49HH0NFTX4jGiD33tTe29E\n",
       "CQOUKxPzO8eDJ+w1h6NTo3519JsCJwAAIABJREFU/Z6VK0pTj9KS16vJyYlRv7jg10VZbtp12MPx\n",
       "tRw55nKImdu5HOvRzi0jof8dU5eLTNCD2nhGGT/u89r6/uBojBVbfqbjJxhz0ZijDn2XMhjI6+mE\n",
       "rIP8jhCLAYBD3gcVLrbv4FS2r+UG/eeHS9kfdXvY1tGx/J4sJPPrScNapwRs6/QOY7a8kuOHLQmX\n",
       "PEfWlfUKdXk0lJ89zjG2SAt5/dbvkzVzYcZsvs3Pc5+8fG7Uj4b8+6/7mv0nFW+H333/1qhfzz6y\n",
       "coFNdDsw56si5u1mW1vTVwkvNwjMdwedXNCDuRm3WHPeDl3XtMMWWY9Et/L7F2orw4a4NAzRHzTF\n",
       "2tsl2nmZyb+xhCQOsoBfG+tOH0VRFEVRFEVRFEVRFEVRFEVRlAeA/uijKIqiKIqiKIqiKIqiKIqi\n",
       "KIryAHAvZ/IWJcfC7WTjvrxdDjyyjdCTt/ZuK9yiOMvlFAcJSQsTevKWJ5oSw6ttoXJj/vcst2vu\n",
       "2d/s+K1628Lc7rXL1qycW9tKF3b5PctRLSVOSVKcuQGf+uXxxExx8ORYSO9W2y4+n/Nthdq2d1vK\n",
       "jOKZ2xJLkr5kC/IWQ5q+zyvlcXPI9vn7jawHO5JKI44aUpnk+Nn/9rf/57788tUL8ZonT3CL8fJ+\n",
       "JsrlZEvw2aenotzBM9zOV7ry9juvj315f4HP/rvX34vX9NqoB+OJnPYiy7CttzN5y+6CbM9MPDmH\n",
       "hWOhnO3W5Hx+63AB5ji9evUpK/df/aWZqm044Le4viXpO8K2nA+gS/rFduX0Uwetw315l5lyQcCn\n",
       "KHFH5nblZcmnSbm6Nrezrpe8b/nk01dG/eyXZ6zcV1/93qi/fvtuX/4Qytuc//qv/3pf9npy2pVr\n",
       "kj4uAr6tSWymrPC6fKqFUS3tVTAkKcm+l1PMPf/Zy315G/Fb2AEA8hxt6qDBBhYR6v1Xv/8nUa4g\n",
       "6Rgtkn7Oa8upJEKSaiWPJB8LEG1Qr6yGLdkW2bLsO/zWagCAOMJ7xCS9ltuT2zolW4/Xb+R+pduX\n",
       "61uZKSWZYxxb9sURSVtqOaZOZYJZtmupI4+PDlm5g9Lcul3Z/A1nS9Ofj3u83xgMzFReXRizclfv\n",
       "Mf3Ed7/9R+Oz0WRYFwcAgOMn5lyx3vJjcH1j+pLZlPfbowMztUK84VMHVLW0EBaZ5BvTgZE5gaZP\n",
       "+wklSeUr385IQ+Y2pHSSPmtKAwUl6qLXkN5tR/zJ2SkfOwEALIi+zGZyLDAZ4VjT9tluQ3o3YlNN\n",
       "aeBoCqyGLHCQk1iHpuGpE8fYvnqWW0kP4p2ZpsoWAsQuSdWUpbKujEdoX1VDVpRPP8UY4cnZY+Oz\n",
       "xZxPdzgem/ONlN4tqfXR/T2fYnI8Nm2/KIX0LLV0W0kiOLXaAw+HWG9KpzK9xzn50zEfOwGY+iel\n",
       "gaun2jqppcH5kaSWUoPqaVOatft79F0vXjwX5Wh6wVlDmqosQ72k6dN+KoftXa1xvjk+ledQmhKu\n",
       "0caHqLNrIV0XAEBFUkk1pS4c99Fv52QOLeq5hQkRGQ/XblhLEPtMCrkRCbH3OJfvl5M045d3ZvqT\n",
       "ZcKneMp2pv1bQlp1q6ytKYUUMXFixgy7iE9BVdTmKNtH/3nUP6iLAwDAcGjO1WnC39sCc+6pX/cj\n",
       "oW++E8mF9FP1tJ4di4/b2q7pW7YkPWbPk1MmFTnq1fJOfp8Tkvs7DanPl2uSSkZIEwYAMOjgczjE\n",
       "X6aRbDdOiHad5HIMndpkLkoa0q+T1HlSmksAgBFJI78mqXKa0qX32hiXlg1xPE1rFudyrN0Jsc93\n",
       "QjwIAJAQG520zBi1FFL2lDUn5Af8+pymdAsbUk/T9HNHBw1rk5ikm16Z+u8Ic2hWmnZ3fsO/A2oF\n",
       "po4OB3y69GVq6tujZ3x7s1p7IqKnaSWn6OwQPQ88ec2VkfX+7p7Xl15g6puQaReCejp9IVNbt2/O\n",
       "/Rl9Hym7DPDIe9BHA3l8acrfpljg9Rt899H0/isn8VgE2P+Djnxvj6RSt+Zy/6fkveU6akjBtkP7\n",
       "H43lOIPG5G2iA3Q9/pN7b1G34waf0evjGrcpNt6QFJpJKb9HCQJsXz3uc/t8uvTnL16afyh5Jbuo\n",
       "pe7f5ryt9I/N7+mO+LjUI/kSk1qqsqWYctL0BX7AK3fQNZ/hNufjlssrM76pSsFee6Yddrv4jOfX\n",
       "ctpLGvMOuvIcQ49sOZzwcQsAgE3ul6Syr8o32J++z/e/7vRRFEVRFEVRFEVRFEVRFEVRFEV5AOiP\n",
       "PoqiKIqiKIqiKIqiKIqiKIqiKA8A/dFHURRFURRFURRFURRFURRFURTlAaA/+iiKoiiKoiiKoiiK\n",
       "oiiKoiiKojwA9EcfRVEURVEURVEURVEURVEURVGUB4BbFJ74YQHFvrxcbEW5ZJfuy44l/47UPWjt\n",
       "y62RL8pZaYZylSPKpSm273x6bnw2383Ya3p516jHu4RvQ9426lWes3JFlhn1MuLvV65So76LNvvy\n",
       "ZDhgr3n65Myoe7nFyiVpZNTjeMfKub451lmZsXJQG8OsKvG7tvzzAQCUJcrFcSzK9azOvpwXlSjX\n",
       "6hIdqeTvHXo4Vv/uv/tv9uVf/ebX4jVRutyXD4cHopzlYRtev30vyuXB0b48OA5Euesl2lF7hPZw\n",
       "+uqpeM1XH9/hvZdTUc61UT/CdkeUczr4vcOBK8r5RA1cqzQ+W6/58fAc837Pnz5j5b747Auj/uv/\n",
       "8l9YuSTB78kgZWUAAI4fH2LbtnIfOSU+VBKZPm1X8jpbWqad7FLevlqdnlE/PX7Cyn18f2nU3+xe\n",
       "s3KfffGlUfcD1Kv5csVeAwDwv/4f//u+/Gd/8eei3NOXL/Zl2+H79t3bN2YbnC4rt4zMPmkl6JM8\n",
       "om914gLl+oc9US530P8W8pQAo6PxvpwUgn8DgMnx8b58eXW3L0eC/wYAuPpwtS93e7KN90Lso44v\n",
       "z6+9AG1luZiLci7xQXaA5ZYnz6GTYrQvz+fyven/fXRCfh6qM+i1xc82O7xft2vOI6dno7o4AABc\n",
       "X18b9dubD6zceGLq3uSAb6/nmnPKdiPMRbW55+bukhVbb9DWDg7MuaKwy7o4AADMVkujbvu8DZzW\n",
       "/KPn831L/SAAwGrFx2NpZj6TQ4bAdmXDyVO0/zKX7ca2pYpJRu5nW3zcAgBQkdiClj1Hbmuc4XjS\n",
       "a34Kfvbq009Eqa++wr7MMnmOcV2016JEf5RmBSf+Ly0gMZHvy/Y6GqFttNuyfW232Naiwb+lKfaf\n",
       "55k+qKr48bBtUy5J+b7o9dBP73ZynPf8OfZ5mst99Itf/Om+HIah8Zkj2FcYmn20XKxZufrYzOdL\n",
       "Vq7eR/GGn+O90BzD3W7DytXnETr20ym/NgEASBKy9mnJ8ybtp4uLC1ambp6TyYSV6/XNWPH773DO\n",
       "/6Mvfya2IU2xDVkm66JP5rn1Wl5HBqSPrAafQZ+X2mRVyWsJajdN996RdYtly/fzSFvrOkuJiQ2t\n",
       "t6hTnZbs38IW6naWy/4tSlC3q4Z1FJ07dqkc36zJnDWdmzqaurwvePHEnL+2ccTKJZn5vVMh3lms\n",
       "zL/nFv9cfmjaRquLfRZHfFvv78xnmi/4dULgmbFdu9Vn5b7//nujbjn8fPjLP/2lUe9a/DxAdRkA\n",
       "4PYe49JceP8AAFAS15UXclza7eBzbLf8OAEA5OT9wWevPhXlihL7ebtF/9tqH3PiAACw3GIstdnx\n",
       "PhYA4MkLXDtVpTxv/u53v9uX/UCeN8ej4b5M14B2IfuCNEJf0DR3f0bWsnYly01vUP96PXl9/uoL\n",
       "tKn35z8Yn/3H//tX7DXt3tionxzza6m8wj4PQjl+8xx8jtPTR6JcFKEe5Zm5Jl1ueF//h/fvjPpo\n",
       "wPfFo8mJUf/N3/9nvhE1vy+9c/iTX/6pUQ8C9MEf3t/w9waA+1tc902GQ1GuRfqsqHj7urpZGPXt\n",
       "mvfvo0Ozz+0u79Pi3JxHAh/rYcMaNS7IPNcwb24SHNPVjbyODPvojytPjqErYm9JgT7jV1/9nXjN\n",
       "cIBrrsyV40jLQ31uCMmNmHw5u5cF+7jepPPrp5/JPvGH9/iO8Kq2rjXkvsYYazA6FOUeP0Ffejri\n",
       "3ycBAMQ7En+V5tzY6/D2tYnNcbq54dt7U3t/kNl859LfCwAAKuBjwojEAuva+2TH5XXWa5vx+VZ4\n",
       "bx8vTTu+E9Y6oWXOtZMR/25iZZnrm3eX+I5gHcux2WSE/ngykeeEnYPP8f7+XJSjoWgrkOPNFrHD\n",
       "Vc7Pr7rTR1EURVEURVEURVEURVEURVEU5QGgP/ooiqIoiqIoiqIoiqIoiqIoiqI8APRHH0VRFEVR\n",
       "FEVRFEVRFEVRFEVRlAeA/uijKIqiKIqiKIqiKIqiKIqiKIryAHDXU/nEq8kED/7rNhw82SPnRq1X\n",
       "8sGuKTl4dpvciXIZ4KGFTos/YAkAYLHBQ1RnC/NALsviD1my1+bhRsMOfxj0/b15KN0g4A9Vtfz6\n",
       "wcl8f1aZ+b3pDg8x6x7zB3lZhfkMgccfyLXemW21hAObLc88vCoSDqRf1vpouqAHEMqHrT97hgfo\n",
       "vXnzRpTLI9SDzz/9QpRbTvG57IaDgMfkoLKYHMT65efy4c05OfDObfjpc0wOWfPb8qHszz4/wnt7\n",
       "K1Hu40c8pPz4AK/xQD50L0zw+WzhYFMAgHSHhwcWuSwXx3h42KQnH0xoE3tdz81DTx8f8jr76cvP\n",
       "jPrZI/4QyP/w7/+9UR9MeL1KIjxc1gLZBw2IHW82/OHKAABxSQ4SBPOQt4tb/kDktHagdVLwBxW2\n",
       "ageJfv3N16zcQc/sO+kgxasrsz2ej/b7p3/xy7r4nvfkMMHfffXPotxnCY6V0+YPvEsy8wDZF8Ih\n",
       "mXd35mF/JTlA78OVfEBd0CMHT45kQ7T6+FnacND87RQPyiwK+fDbk1M8IPFn5JD3d28+cOIAAHD+\n",
       "Dfo0qzwS5fwSx3PSkf3l2RkeVPrda3mcHHIQtuvhnNDv8wcMAwBkS7Txoi0f/Gdb6NO2S/6QcwCA\n",
       "jOhBx5MPv+23cZ7stM3xnG74w1L7Q9Ovrlb8IahpZh4MO73jY40w6Br1yeiElYPK/N75Ha+nSYFz\n",
       "z/nNlfFZZ9itiwMAgFc7gH635OeEb1+/N+pnp09ZOasy+zLLeN22LNNHmgdANxxMTg6yt+snwBt3\n",
       "wM+8QJ6zUnJguG3L+kIPVbeJPw5Cea7dktipKGVfMOyR+dWT70cPOm2yqYLowYYcSN/UX3TuaJqX\n",
       "6Pc23w91nh5IW4fegx5iX28TpdMydTkTTsNttbC/xmNZp05OTvflKJYP952McT4MQ9NXWcJhsHd3\n",
       "5vrBc/n4/Pzi0qg/ecIfhrtYmIe8N/UtJY75GDpNa+0mcVuey31BzAHmc/ng5OfPn+/Ls9mMlfnk\n",
       "uTlXS7r9vjDnvJTEh9tIPmx9cogHLNfXIJQROSTXdeVDbSsSM+SF3P9Un88eP96Xaexfh45nvyHm\n",
       "3ZHD5T1fjjcTYocj4RBgAIA8RRuiPqhq+H/Lknxm23Ibsh3Ro4aTq2l82eQH6UHM7VrMYIX8uH33\n",
       "3Vuj3unza9R217TPTpe319wynyMv+eeyHLP/6DxH5xTK5aV5UPV4xMdmddO/v+ftcEAOawYAePWK\n",
       "X2/uaj4iTvgD7t+9e2fURyPU006H7y8AgLCDfjvO+AOuAQBuZrfk3hNR7mSIfuLq6kqUe3SM9v/i\n",
       "2dm+vCbzc51dirHdySm/NgQA+P4txtqX57JvCYg+1+cvynaFY/DZK1z3WCDbTRLhOK3XcmzskXdD\n",
       "VuGKcjmJ4a5v5Pdft0t8l7WNzb70Wrx9VWB+b5zx9np4gv5ytZbb4Dp4/VyIxwEAesSOOwNzzrMc\n",
       "Pjb4o2Nz7ZQk/Bz//t03Rv34hPezYS0O9Vz+e3/9q78z6i9fvMLyyXP2GgCAtEDdmRzI8WG0RR1J\n",
       "hfelSd9s2/Udr9vL2IxbCuH91+3MXAc8+xTt0HJk3c4znL8WKznOGA+xzyW/CgBQVOh33EBed/d6\n",
       "2H95hvbw8Ub2GYstPkeSyP4tW5A1x1aOH7ohjs2/+Uv5PcpoiO+UwhD1fLWVY6JuD3VxkLVFOW+A\n",
       "vrMV8u+gAQAGI5yHi1K2Q/rOfDAydbQs+Vjj2zevjXqc8n27jsy/LyO+HUltXusJc3yrhX/Pa3GQ\n",
       "ZQnxYS1syQS/XZSm7tk274+7PTO+aY35ucPxzPb5FT675ctx/DIna73FtSi3zTEGcayGF9EkHi4W\n",
       "sl3TtZ0d8M+uO30URVEURVEURVEURVEURVEURVEeAPqjj6IoiqIoiqIoiqIoiqIoiqIoygPArRJ5\n",
       "u32+w9+EFpm8tSxs4d6rrJTTPdC0Y3lDip6iwi1KH1fy1qjnpy/35SlJ6wMA8Ce/+AV7zWJppphJ\n",
       "hK16R8fm1u14xW99S1OzX04PTlm52fzWqB8McJtuFvHbvW+uzC2eB0KamtuF+exVi/8tb9gyt8Eu\n",
       "lvz23vuNud3TdnDcvIYUZ3mFW+s2G3lL9vND3IK6yeRtnVaIulTt5C2jz55jn7/5nqYbkLd4brb4\n",
       "vUeP5fQMPtkp+fkXz0U528O2fvfhvSi3mOO22qMhSQPVsG14OUUdW88WohxN9+B5cjoAmpbH9uUU\n",
       "PfGapJKp/T78p1/+nL3Gr20p/PbNH1i5yjO3Rs6jW1bu4AjtUNr5CQCwXKKfKIR0aQAAb15jCqfL\n",
       "W9O+3Da/bfL06bEpZ/Hbdv1aXx6eHrByg5bpW7wBPwZlbTd1QtKVffPd79lrAACePcUUUdFWtq/X\n",
       "3+A9xmfHrEynZT5rPVWQ9Pc//0tMLTP4vbzN+fAxbm0eTmS5qMSt88NDOT1Ll2zJHvTl1GoZSVtz\n",
       "O0c9uPjhB/GacRfvd33Dp9QBAHByHLiekBYUAODtD5hWZzCU020A2aafkZSL8UYe21aIdlgWso17\n",
       "xKj8htSRUYT2en01FeXSEvUgrKUM7B3yaeay3PTt0/t7Vs4PzLlnPB6zcuOxqR/xjk9LcHVhznOz\n",
       "LR/jrMiW6WEtfU1c8vPSrhZXBAGv22Fo/j3e8XFGkZhtK4XUhZ5jOslki/crhVQ5AAAe8dtVwzbz\n",
       "ijqlBn2hOI6cooimK6WZjNpt2RfQVCueJ9+bpgq7vpbjSIs8bySkLgAA+PCeT/93cCCnenQ8HI+b\n",
       "K7kNNLVdT0iRBABQkbmtngrN+F6S3m1RS9crPaNrm74qTfj4iaYQlNKlAZhpr4YN/19G0+bVp+44\n",
       "4tcJfi2+iXZCytWafS2FFJY0tRgAQCjYq+ua8Y2ULquopVKsbKy7gRzI0HQU55dyWlSaRitK+fG8\n",
       "vTX1TZq76ylTaGrALJPXabQvmmycju9qKac4pO6k25DOiqbyom1IGtpK01I32Th9DtruOvN7nP9P\n",
       "jvjYCQAgIP7p5BHK2aWcpoammAtachucBONzpyElpEtTPUbyuuye+FWr5lfraU5+pKhNrfWY9Uei\n",
       "WtqxtZDqcrUx1zdlxd+w1THt03XQV714zqdZe/+hlord4Z9pNDTjhyc/51Maf7w0U5+9fcfHjle1\n",
       "dfywz8evZS0NqkdSnG5jWWcT8i6lyQZK4pMuam2irImNNqWV65K8/ttLvEbyMwAARYXjdHAkp3d7\n",
       "/gTf7cRb2Q+2SExY9+GUjNjKNXl2G+QUPVmO11SVbIdvvsc17nIu3+/6CuPNJn/ZH6Nv36VmXzou\n",
       "n7Ln8MRMGf7i6QtWrtVFOwxC2Wd4Dr6P6DSkn0pSHPewZfZ/q8XPc65j+oI8458pdM24aivE55Na\n",
       "vF8JqdBOj8z1eKdN1kX1dKwEmurSc2Qdi0hqSsfl4/NHZ+Y6b3LGvyNY19YBqyVvU/NaaraE+Pes\n",
       "YY65uUXf1enI8aZNUuonsdxHNkk7nhdymlWw0Gc45H3wZ5/zPhYA4OYa54T4Vp6/SpJ2P284DiLL\n",
       "Ud82K9lXbee4vg7IO7OLe/5dFQAAkLR+3YG8hglJCsK0obuWJGVgUTTEYg7xGTtTbjbn1+utTm0+\n",
       "FNZ9cS39om3x7xMc27xfWfD3W5L5Jc7Ma7o9PpZazsyjDuIN7wv82hzg+PwaabmuvTsR3PHw0Hw3\n",
       "PCLHAtx9+MhfBAAbMgfS9+I/gXSRkA0TAMy0bSXIPojO8SDEArrTR1EURVEURVEURVEURVEURVEU\n",
       "5QGgP/ooiqIoiqIoiqIoiqIoiqIoiqI8APRHH0VRFEVRFEVRFEVRFEVRFEVRlAeA/uijKIqiKIqi\n",
       "KIqiKIqiKIqiKIryANAffRRFURRFURRFURRFURRFURRFUR4AbpVV4of39/N9OS5Xotxw3NuXR5NH\n",
       "olzb6+D94liUW6+X+7JvZ6Lc9Ha6Lz8/+8T4bLvdstdEufm9vcMuKze/mRv1zuGQlQsjs354wsul\n",
       "ydKojwbH+/J0es9eU0Bh1G/XC1ZulpjPGm34vs0cy6ivk4iVKytTJybk2csyZ68BAPjm66/25enN\n",
       "lSiXJ8m+/Orzz0W569u7fXlIdKfO6/O3+7IX4u+YT5+fiddYs9t9eVWsRTk7wz6bbgai3Hq1w/a8\n",
       "vhblyrLcl9/ZN/vyoBuI10SpgxVZDHrDyb7sQCgLVniTZSyP52KFevX46Nj47P5uXhcHAIC7xY1R\n",
       "XyYzVu746YFRt62Slbt888O+3O22xbZeXl7uy747EeUCF5/dquzaZ3xf+I7pg9rDPitXmuYKw5Me\n",
       "KxdF5rNe3/N9WVRme9zAxXJH/r1+tkC/eHgg6+y4izblj3j72u12Rv3xKe/fP3nxwqjf3X7cl58+\n",
       "P66L73Fa2LcF8P4NACDaoK9KLVkPAh99VRbJun0/xT4/e4zP9OTZE/GaD2/xmT55+lSU830f21DI\n",
       "bfi7//ybffnVK/l7P/kEv+vx4eN9+e6W1xsAgPkc/e/19a0ol6Woiy2P11cAgE4P7XU634lyto/+\n",
       "MuiZund/x49vlpn2tVrxc36n5xv1ouCd4fXtxqh/POfn1zfffzTqTtth5R6fov72u2Yb7ud3dXEA\n",
       "AGi3Tf+7WQjxyKI2B4e8vvQH5rO6wMdtbs0tRAX2peNZIOE4+OyZHHJBZaNcnsu6XZEYwrX5fm26\n",
       "xvddUc4j9wub5DxvX55NZVspSB/N57JcJ2zty48ePSafyL44S3FSSNNUlEtITNQDOdZxHPwuz5Of\n",
       "vdXCttq2GXtS/0TJM3MCSxK+vY6N/TqZyHPtaDTCaxraSufNsjaJhiHv69ttM26fz5es3Gh0aNS/\n",
       "/fZbVq6qTNsIAt63bGPTjoOQ70uqUwAA19cYE8aRrAfPnuE65u6O9y0AAK9fv96Xqe5Q/vHXvzbq\n",
       "n3/+JStX77u8wPa5rjxuVK4f8usoAICiwDFtmou6bRzrltCvAKYdLRYYX1qu7Geozl9dyWuTKkcf\n",
       "1Ou3RDnqdzxH9qvxDtdiLhFzffka6gfz2hqQ4vhoh40e1sLvuri/EcU+3GIMPYvM9f6i2NTFAeCn\n",
       "a8hkyU8elmfWq4p/LterCQq+1Xdr86GN4yGu/SPTTu43/Lrvzev3Rv38g7Ces80xdH1+FNq9mm0I\n",
       "86FVU4mrG/zeoGGes8iF0zt+vQUA8OwF+pZ2KOs2ZNjntiu/H7q6JWvoLfZlmsrvdg4Ojvbl77/9\n",
       "IMrNZhgr5pl8P6+Nc0yR8e8zAABCsnZazND+D4/l9VFRkbhgwceQAADjLva/LXcXPDvDOH6zkWPo\n",
       "5QL9fmdk6vlgxK89Wx1TP2yb77P5HG08S+T3HltiK/ZA9i7LJfoTPzBtutvl54R2bUq/u+Xtdb02\n",
       "50nH5XX2/Qczjj844OOnP/75p0b9iLzTyLb8+wcAgLcfcK59dyvPX6dHqIubgu//xWZq1N2Qb+vz\n",
       "T8x3Vx/Peb/d7ppjsyDvCFsNNr4hn3358meinOvivHlzKc8dGfXnpawv0Rb1frfD8bVAnu+zGO06\n",
       "sGU/+OgEY72wrmSEkzHGrNMP56KcR55jtUJf/MnPPxOvuSRyi0h+n7Et8JnKRH5218F1ZFXJOloW\n",
       "2K83l2Y8Fyd8bPzzp8+M+m7J2+H5R9NPFxWvs8O+6UvHfd7+0wzbWg/ZqpyPH1zL7COr5O0rrq1Z\n",
       "nIrXRbqGAQBY7/gYOp+bY9hKsX12w5xcbHAiiIX4HABgucSxKTI51ivI2Nt+PUZCSvJewC35yUh3\n",
       "+iiKoiiKoiiKoiiKoiiKoiiKojwA9EcfRVEURVEURVEURVEURVEURVGUB4D+6KMoiqIoiqIoiqIo\n",
       "iqIoiqIoivIA0B99FEVRFEVRFEVRFEVRFEVRFEVRHgD6o4+iKIqiKIqiKIqiKIqiKIqiKMoDwO31\n",
       "2vKnvrMvOkkpit3Ml/vyxXQnyjlVuC8/ffJMlHv86NW+/Nuv/kGU22TbfXnrbYzP8opvx8mLoVGf\n",
       "7e5ZOX9i9svrH96ycp8On5r3W0z5xlq5UU2i9b7sOMJvb65jVFPgxyDzzOvb7R4rN1stzCYJ3xu0\n",
       "Q6O+XmNb8zji2woA6RY/Ozk6EOVK192Xf7g8F+WKgjxvWYly1S7Zlw96k335djETr1klqDvDlwNR\n",
       "rj/s7svzNa8rAAC7HbYvbB2KcgDWvrRcrfblMpPtxi1xPNp+IMqVa+z/y6srUa4djvflfnsoyo0C\n",
       "/OwXr35hfPY3f/M/sdfkbmLUJ2f8/Telaa9WnrJyEeA4PZrI/dqP0F5Dj9d/AIAiz/blcd+Ue/Zp\n",
       "ty4OAAC5tWX/XicqMqO+S9as3PD4pVFP/IKV+9Wv/x+j/ukr9ItxlNTF97z65MW+nK9jUS7fYZ8/\n",
       "evaYlbm/N3V+Jfi3Xs+0ocX8jrR1WRff8+QR6sd0cSfKrWekHRU/TgAAi9klVmxflHv67HRfnq+w\n",
       "fcvtihMHAICjs5N92cldUe7123f78uOzJ6LcX/3VX+3Lb95+K8rdT8lcUbT25cv3t+I1b9592Jfz\n",
       "PBfl2i20Ab8txwK9EfqMD1fyOM1m2JeX9+a4Bw6viweHpl0/efIZKxd2TN/X63VYudXa9KWe32Ll\n",
       "+oOxUXc7DivX6/X35fXHmZKDAAAgAElEQVTStIdQuHe8NudJR5i+vMqcg7su79+HA9NXRcuMlYPK\n",
       "9CWOg8/UahhfStIQ67m+ty8XheyD6Pe6rmwrFWB7czIHlKXchqLM/lVyvS76ibofo6Qp2sdmuRHl\n",
       "ui28326Huvz2zTvxmvEYdazbkedu2kdhGIpyRZGTMj9vAJg2n6bm3Op5fDuqyjLqkt9otVDnLcti\n",
       "ZQAAXJfodoOc56Ncp2PadCC09eLio1Ffr/51c7TjeOzfl7XYuNvlbWW1MvUjSXmf1mmbcxQdX9eV\n",
       "dbZNYu+mvqX6XO+zH6nrx3DIx2J/+IM59zx9imuaJl2k7dtu5f7vdFBfslTW2Yq40qY5y7ZRX6II\n",
       "/WxayNesSKzd1FbfwZghCGR7bRE51+bnDQCAJCHtI77Zsng9BAAoC7RXuy/7TqvASaVs6Fef+h35\n",
       "duCT+dSxTN++vONjDcs3b7gV7CGvxavtNh+b/bTP+TVqVZkTapLg/SVfXx+ngwN+jdpum8+Qpbxe\n",
       "FbU53fH4ttbts0h5+6/rfOBhH+WJHMdXVK8a1slJhPeoZBdk2HXYkmOG0sb2esRfNtlXTtT08sMH\n",
       "Ue6QrPW8bsP/Jlt4w7JhPuz1cQyefvH5vpyk8nyf5fi9gwPZDwYpOi63kmOiPMN+LTJZbjwc7cuT\n",
       "I1N3SofXxVcvTo263+J9kmWjzs/n8vxy8xF1ZXZ7I8odHWJs7Pu1tf9Bvy4OAACLdG62yeLbOhof\n",
       "G/X+kLdXzzeV+fbmB1Zum5lru8tbfMbJIb/+BQBYFagjbz6+EeXCNq5bsph/nzPqm3NwKcxZm5W5\n",
       "dnJs3mDLwvQLNomnoZTHd0LaUWYNsTYx2DyW7WsZo82XNv8uBwAgibBNjoNzhwWy3zok477I5XcJ\n",
       "Dolfb+fCe1gASEjMUG3l95kdl7xTIuvk1w3x/rzEOLLqyP263ZH4PJbjlhaZX21Hvp9H4sv+xHwX\n",
       "EwjjW7qm7jguP77ttjknTyb8u/swNOcKB/g5a03moTQ317G3d/w726AWL1hCXOB7dT/Ny0Wp+b3r\n",
       "lJ+zsqXZJzbp595Ifm9M4xPJvwEAxHFCyvIc7/r4XK4r28qWxAm9kv9e3emjKIqiKIqiKIqiKIqi\n",
       "KIqiKIryANAffRRFURRFURRFURRFURRFURRFUR4A7ievXoof3sxwS/d0Lqe96QSYUuvs7EyUK8j2\n",
       "wDFJw1VnM8PtlIOBnH6qR9KY3dyYKWd2C37L3M0PZhqH08cjVq7KzO1enz3lt3L5mbmFcrbjUzrl\n",
       "lvn72jlJPbbZ8FuM+7WtoKHLp3GoZYGDhbBNLEnNLacdYQtwVZjbAbckDVSWylvLBuNH+3JRbxQh\n",
       "JCliPnyU07v1+7g9+GYjp2q7Izv1crIVcWvL21FpGoLDsiHtSo5bFncreUv2fE1SDTakx+m2cAzT\n",
       "BV7TqhpSl4UkncVS3gI4X6Jup1sh/Q8A9Dzcjn4wPhLlOj20jZ1t6mg24e9ftUx76Hw5ZuW+uXxn\n",
       "1Lcx718Cers7+TfqdovoZfBelOud4LMntqnL9/e8HVaeuV25P+JTc9zMr416XggpPAbmFuVuj9e/\n",
       "Z6cnRv14gPZwn8r2sFhgX+4a0sDFMT7XQMgu2H5kbqm/uuXt9d03Zp/bNupO4h3Xxfd88xZTcbx6\n",
       "JKdCK0Lso7whXVTvELfB3t3KfbScoZ8uN6gHP3v1Z+I1NL3m9P0/iXLdFuppfV6ieC4q97Anp6JL\n",
       "IrzHN7dYThPZb0UkbdiT0VNR7tEzTBlI003WiUl6vbbVsA15jM/Rqk3BlWAP7di06+SKb0dYSxeR\n",
       "xLyfPX9rpg25m/JzclLb2V/5fDqEaoUPsl2bPqLX5uOC40Ozz9fRnJXzXPPZW2M+XdzRyPz7/Uc+\n",
       "3Yjvm/fbOWj/ZSX7zyzHzvA8WRftEttR2fIcQ9NZ5aU8DwOxKZp2jKZP++kV+Bx+KKef8ciW+Kb0\n",
       "Yjc3mL7k5FCeD2m6nWEfx70eLxmQbf40xUwd+pmY7hcAPJK+IGtIZzUlKY4cz/SXqw1vDxaYBnF0\n",
       "xMckgwE+e7chPTRNazQV0jYAADx+jKlVlkvT9tOEn5N9z4wvY0Ffvn9jpnoJhBjaq8U3Hz9esnK9\n",
       "nmmHvSFv//WYPgzRBj59Ja+R3r7+w748n8upTA4OUE87IT8PdJ6/MuqSTfW7tXS4xF6PJvL6i6az\n",
       "ms7k9ImnJC3q41JOY5xGaEfbhrQrQ7J2nBE9H43ltL7zOfpf15X9Gw0t2i1Zrh2i4Ha3EOVS4ldp\n",
       "KsqRL7c13qDP9ta8rQIApMQGNnFDyrqApBpsSP+VVejPC8+cq5crXncWO1PPjw55n5FtzRh6teNT\n",
       "AJ1NzFgxjfjvzTJzTtlusR29Lu8X1w19SamnjhtP+HcVXi0OXa14PYgX5jO0enx6YqeWA3azQ91x\n",
       "LFkXPQvv9/RMjvUW5J1DEMrr84MTvF8mpKIDAKhIuv4qwT6f3cu6WJKY1z6S58NtD/uinzXkJMxQ\n",
       "Z/ONPB9+9gmm3uo76C/P53J83u3i9+4yOdaJSFwbebKOHTzD+NU6bfBBJNWVX0uhGwgx3Pa8tv46\n",
       "5nVsOERdbkrnbI0wPVY99anxvVuSRr4WZ0h9No/MWGCX8GvUQWDaeDfgY9751uxzN+D79vU35pze\n",
       "d3HuzhI5fd9BH1PnZU/k2Oz9Bc5F/R4fxw99c1zaNi83vTTjINvj7fXuxrS1jKSYzyvZDmnq1zSX\n",
       "04SfHj7flx2Xf1cKAJBW6OPKXI7352sce9/HceqG8nEQ6wz94HQnr1HbFnn31zDPAWAfeQN53Hfk\n",
       "ffWMvEuQ0iMDALTJcQmtSr53ZaFfXa9kH7Ql8VK3I8diwxH6lundO+OzTof3i4upGWOFDm+vnzz9\n",
       "1Kh/+IH3B2vLfI52n1/vpzHqcpSYupJnvO7U15otX/CftbVTKuhiUUvZKq0j6+uKNp27c952AQCS\n",
       "BfZtkcvv4Fpd1KXCkdeodoD6kjfcLyzIPVq8r9KdPoqiKIqiKIqiKIqiKIqiKIqiKA8A/dFHURRF\n",
       "URRFURRFURRFURRFURTlAaA/+iiKoiiKoiiKoiiKoiiKoiiKojwA9EcfRVEURVEURVEURVEURVEU\n",
       "RVGUB4D7t7/6T+KHFjk7rNORDy3KUjxYqO3Kh1y1hnhY0utv34hyCTnkMRUOZQQASMkBusudeSiV\n",
       "1+YPspscmwf1xjF/YGiemwenffryOSv3u3/8zqgfHvOHlt9emoelDcZ4iNxiyR/+t60dIpUK5xlW\n",
       "hfnBYs0ftNXrmgeL5Tnft/VDVAMfD1zcZfJBhRcXF/vycNgX5SIbx63I5QOb7+5Qrzq+fOhgnuIh\n",
       "X2/eoF7llXwIZUE+a/vyAfLZDg8Cq1L5cLgqxzGwK/nQxyzGPm+3sY+6Pf5AYACAkByc3grkfhj2\n",
       "8BCvqpQP6gzbOJ5Hj8aiXJscLv13vzb9hNfi/UFVO1/tzXfvWLlv331r1F++/ISVe/YI7Snf8Yc6\n",
       "AwC8v8UDJds9+bfs8RAPUW63TB3tDXidtWzz4LTC4u3my89/ZtSnd7ytLK/NgyytNt+Xf/yznxv1\n",
       "01M8UPK7P3xbF9/z9W+/3pfPDh6Lcidd1LlWxh+s226ZBw5bp7x/O69d/tu//2Zfngz4w30BALab\n",
       "6335xegLUa5F9K2yZN3u9fGwyYO2fPDku7d48OlXX/92X16v5YMih308SPEXn/9bUQ4s7P9lLB9g\n",
       "HheoH0UpH+za8vAg7G2B7QvcpgNu8VDF6a18UOQiwsM+kwa/FaboB4tSPnAwr3D+j7emHTou7z8v\n",
       "a4eWWg4/vvOV2b6TM14XKzBjkFZb0hfzkEcn4J8rStD/zuamTScRHz/Qg1IBAKqCn4u6tYNEk5iX\n",
       "+8mBlDbv4+LYnE/pmdRNB5hn5MDxpgOvAx9vWFa8z6hDDzCv45CxTlM8tHS3kw98z3O8X8OtYbVC\n",
       "vZJiHQBzrLJMPiQzIrYyn+OhvU1z8suXL/dl25EbS/soazg0msqluSxHQx+r5i/DkD9gNstN+5Tu\n",
       "T2MnsBsOH3Xxez3hcGUAgJIcXO365uGvnssfeF8fzo5wOPrdnen7ooTXq6I07avT4Q8Z30Tm9V7I\n",
       "r3fabbOPLQv7abGS5xiKLx1WCwAJOfxa0hevdkj0x48fWbmnT83D30s67g3jSw80rio5Nqb6NhjI\n",
       "ce6KHFq8nMuHUNPnvbm52ZefPZdjHdpfTQcxt0KcU+mY1ZnP5/vyYCzHGcMhxgyXl3iQ+HI558QB\n",
       "ACAghxEXpey38gQ/i4X4DQDg6vzDvvzuw3tR7jZCv/9xdm98dn9/XxcHAIDSNmOQ2f2SlXNrsYow\n",
       "fcG7t1dGvT6f/choZPZ5luFYxTFv491uu1bnfcZ6a64z6NxISVLTn1fCuqDT+9etu8va4eNpjHoe\n",
       "uHLMW7p07pDnr+Vqive+l9dS7QjfkQx7sm6HZN4b+mjXn7q87wQAWEf4vdtUnuNhh33hBPI8d3CE\n",
       "bV3eyXHuJdHfTYTjsctkv2UVOBf5vuwzrqf4bkdaQwIAHB3iOiiuL5gINFY8PjHfTYxa/P03S3NO\n",
       "WWxuWbnZEn1QryuPbauH7wXWgg0CANxc4/qtcMz5JujwcYZnT4z60YSXC23zWdcbqc/qtsHbV56b\n",
       "1+9y1MVqJ9vNeIx90Xn6XJS7Jc+7WPPrvovba/MPKX/Y/fzOHM9unx+raW2eTEp8xtEBHzsBAEQZ\n",
       "+unNbCrKbRP0q9FOjl8zm8TQuazbAXnn5Xv47Kst72MBACzAOMj1eV0BALifYp/HP9EJpEjQ5j1L\n",
       "flfUclGf6feuN7Lfur5Fu2t35XfmG+LbNw33cz383mRbiHIrsi71a7G2U/G+a7Mw+/yTP37GymWp\n",
       "2Zf39zes3P3UfI50weu2Q9aQQceMC6qEj3lty9S9SFgfttvmHB8IfjuqrdtdQQ1ODk27q8jaJ13z\n",
       "MREAgE9igXZLjuNdx1ioiXLbFY5vJasBBDb2ue3w+qc7fRRFURRFURRFURRFURRFURRFUR4A+qOP\n",
       "oiiKoiiKoiiKoiiKoiiKoijKA0B/9FEURVEURVEURVEURVEURVEURXkA6I8+iqIoiqIoiqIoiqIo\n",
       "iqIoiqIoDwD90UdRFEVRFEVRFEVRFEVRFEVRFOUB4GZWJX5YZSUKRqkodzga7ctduy3Kff78s335\n",
       "43fvRbmz54/35W/uvhfligLbPhiPjc+iOGeveXc+Nep2mbFyLd8y6v/8G769i/naqN/db1i549NT\n",
       "o54k2Paz5y/Ya3771VdGvdcds3KTybFRz2Z8G2w3NOqB32LlVqudUd+Q+na9q4vvcX38DfHogG8r\n",
       "AMDNDfblJ8+fiXK7GMcmdGW9yrYxXrPZ4gdOyUj/C4vNcl/+5Zd/Lsp9/c+/35fvb6aiXEp0MRgM\n",
       "RLlWC/s8KPDvq82akf4XJgd4v8DzRLluC+V6DW2YrfDZN8lKlFss8LPrtfnslTAe69nMqDs+PwYn\n",
       "/ROj3q74+yUztGMPXLGtByO0ryjainKLu2hfHg4Ojc+iDX/dLl4a9QJ4n2E7pj1Zpc/K9XPzt3ab\n",
       "vx2cf/fGqK/nC9oIkS+efbIvdypZXzoV9mfH5m+4urwy6nMnYuWg6xjV40cHWLkXrgGAMEH9iDeJ\n",
       "KBdb2ElWKt9vc4d9NJgciHLDMdrH8WP0n65jceL/0laiym//8DtR7r/+b//Nvvw//C//oyj3/Xv0\n",
       "g8fjR6KcnaPPTSPshzyX9dyK8Pmmd7ei3NqZ78ujR/x8AADQ6aF9HownotyODOF8a/qCaMf37TY2\n",
       "dW+5XrJy2cW9UX/z4ZqVO3p0ZNTLSvjfFqdWDXn/0glw3my3zHtFO34+bLVNuUyw8enUfKYgCFi5\n",
       "+cKc031BzvHyWh3LRSnHejYRdAWfDQDQ6XX35dUyFuXoc1hWg02F2Lcx8duZ1GG1+6WpHJdOpzhn\n",
       "OQ12PZlg/Lpc8roHADAaDPdlOsf0unJsUhT4HIPhUJSjcQEt1ykBx9CK5f7PUqoHpi46Tk3x/z+6\n",
       "PfM5bJvvM9r/vs/PcQCmDozHcjxI21O/X7Tl9WC5MuOlIOD77ODQnON/89vfsHLttmlPbhCycl6t\n",
       "fZJe1fvYddG3JEnDPJegP+l0ZL3yfWzfbLZgZX725Uujvlzzsd5kYvrzq6uLfZm2u86CxJGTo2NR\n",
       "brNB3+Va8v3Wa7Sp6+sbUS70cKw8D/v5hx9+EK85ffJkXy4KOXjywo74GYW2dXJ0KMrRNSqlqmRf\n",
       "HAToi4sGOcvFZ18t5Fjg999+sy/f3d+LcpsK+2WxMHXq6VN+nfb+w6VR36742MyxTbvxQ1636/48\n",
       "Svh1fBCa/WJZ2BeVxc9ftmvapCSXZeYzSPpS1t6diLZS9xEp/0ydjql7nRbOtVYh/3/ujsTNSSTP\n",
       "CdRXdXzZtwxG+L1FKt/v+gpjx5KI+S4fmwAAOB4+x0m/J8olJMbvdHhfDACQkvaFPdl2EzLWH2cY\n",
       "F7Tbcj8AeZfVasn3DgPUq4sPst9azN7uy9utHGe4Ho5TVPPZL56fsdccnJjz6/UbVgzmZA15cSuv\n",
       "/anOJ5k8X3lkHrJ8s4/ef+Tj8ywz5bo+r9vDnvl3V3jnMKzFVVd356xcUZn23hqjntf7mZKR5y9s\n",
       "OTYuC9TZquJ9RlLzZ9GO79ubpdmeyzver3ZqMZvfInNjg87m5J1GYvH+CAAACvLuL5NjbTdA/x7l\n",
       "ch9BgbayTdB2b69mnDQAAFglXtPtdkW5kizoPFuOoZfk/WgmzC8Apo9MiVwcy/ZQEVffsWW/FVjY\n",
       "X3El92uVYl+meYNcgV/cDfrGZ+mG9+G2Y85X79/fsXK9oTl/dcZ8TDKrubS18JtBh3ztoGPGBUGn\n",
       "DxxJbV3mhfwck9bm1liKHzzzezNBt7st8/1Zr4tjuqo/MKHVR7mu0FYAgKzE9rU9WWedHepBUcj2\n",
       "ZZE1fhTx7yZ0p4+iKIqiKIqiKIqiKIqiKIqiKMoDQH/0URRFURRFURRFURRFURRFURRFeQC4q1hO\n",
       "1zVs41Y6KX0CAMDpIaZje3ryRJT7n//mP+zLBwdy6p3bS9wW2m/Y8mSRLeNXc3M7+jLit+A5nrml\n",
       "zXf59BSrTS2dipAS4+D4qfm9Sz5N1/2deb8k/3/Ze68mSZIkQU893D3cg7OM5EWySFfzoX27WOxi\n",
       "b/GM+40QQATPeIFAIHciEIhg2excz2z3VLOimVWVPDh3jofecTX1VQ3cc4p+T2aZ6h7mZqpqah5h\n",
       "asb25Sb/jHt7NCXcYsOnurgppNQqV/i23tzQ7bY73V1Wzits/V4YfWmX5K1qftlMNyBvfbNS3Ppa\n",
       "dvi2AgDUe5iiaLEllYyZmqbeRJ1NbTmNwzJFvf+H/+cfRblggXLdhpyexTNSvFyO5K2q11PcEl81\n",
       "2l0tyWm41nXcpmvbcv+XSvgd7rY0cOZ27fOh3NZbYwvw7gndVn5xzm8FLW6hfnjAb0cvbnm8LKSJ\n",
       "+DNpjPrx8KPHrAwAQMfYqv3uRzl15MJIfzB4R9Ne9Xb5raW7XZq+YyWk1VmHxTRVvG+93yvej9+6\n",
       "fdCgKfqWY/Qh/S2py8xUBq6cHQRSI43FJua3Iicluu11OuJThfUf07F59lc4D9x8eyq2oVJH/Yh3\n",
       "5FRByRi3wfY78rOPrzF9yWrLlv2qkQLs8/1f5GV3JfuM4xqmwfnm+e9Euf/1f/nf8vI8llNYOBam\n",
       "4bu+kdOzfPIY++iPb/8Z7z2RU0Lu72LKylomt6FdxfEt9+QUWGmEKTESV+7XgyPsowcHNG3QasGn\n",
       "G/jmX78n9f1Wh5UrFXxfvcM/19m7d6QeCzZQr1N7rwjpWQ4O8TnqNTpn2hb/u5k0pn15fsanusiy\n",
       "wvZzm7/ffE19hCOkZym59HMdB+vbUqbZRhyUgpy+YDwzUrpsuZ+ZpmtbOiWTkpn6SUrJV/jfdIsN\n",
       "ZMZW/8OjfVHu4ABTK16mcltTw6+a4267cgwTJ2hf29LcmfhVOeY1Uwi5W+b4mRGHzpd0HkqF7AD9\n",
       "wnzjebw/LleMdIdb0m1ExrjXW/zcCkBTOtV8Og+9ecXnqSmmNItiPo1DVkhRJ/VZMW5ZCHNyr5i2\n",
       "WEiL2ulQHzYzUlbO57LOekZqv9qW9CxmGgtpLVV81n6fT8u5WtG1SamEOnZ7K6cDcz2UK6aIM4kM\n",
       "G4hC2b5iIy3MaimncDXzrMbGuNeacn81jP+tN3KalNkU+8ItbfFBxv/sLbH79Q2mxyWpnT35GjD8\n",
       "jL9FB66NtK2bSE5TkxlpXJaB/OxrI2dwMYXIYsbHJyWg9mXbvM9YFVK9hDEfQ9uFOTiI+Mn7+pau\n",
       "P3wjPWOzxfukpBAIrIV3BMWUfJLPKKZ3K75byCn4IL/C388C2ueJ8ey1qpwes1FF29uWrswyYovJ\n",
       "lF+/AQCMrzFWcUtyOsZSiO0LjZRHyy3pK10jbf7u/lNRruKjLq62+Iy1ERf19+R1QWLY1MZCXfS3\n",
       "vF/68RSPFijbcj+sUrxHsCXdbDA0+iWTY6eesd6MM+oHP9zy6+R5TOeUWot/t7MyjhUYDvm0oABU\n",
       "58tCTApA0xivCr7lXEiHbwXU9sM6f//pkN5vueTnzfYOHUO/xsdjpYJ9poZZJmV5obwKcO5OtuRV\n",
       "dzzLKPMycULblhbj/38jKKSbilZ8H5ULrqRipITdL7w/NHGMNNUv3/woys1GGDtGkZxWquVhDG25\n",
       "8juqmXEUg5nmVkqnCwBQMtK2bUuLGhhzYHNLyuW58UxWIs/DqTEXhSG2NYxkHShX8HOF6QUAACoW\n",
       "yvmufD/LNnzsFt9SM+IJ16HzTSqk9e42abw/uL1k5dKMzum9HT7WGxVSx0Yx/1yOYRxBIbW77/M6\n",
       "5hTmUKfM68tySuOUpTAIpRZ9plTo2zSmPiMO0G8f7R8VxXOqRqr41JJ9fWweL7NlHbl3iPN/LPgM\n",
       "AIDJZGyU+WfSnT6KoiiKoiiKoiiKoiiKoiiKoih3AP3SR1EURVEURVEURVEURVEURVEU5Q6gX/oo\n",
       "iqIoiqIoiqIoiqIoiqIoiqLcAfRLH0VRFEVRFEVRFEVRFEVRFEVRlDuAfumjKIqiKIqiKIqiKIqi\n",
       "KIqiKIpyB3DW67X4z2allpd9ryLKHR0e5+V/+Pt/FOWWy2VebrfbotzDRw/y8rsfXotynb1WXnba\n",
       "ZfI/1xqw19xOx6RuV1xWbh2tSH2xClm5itcg9bLTYOXevHtD6o+f4DNe3X5gr4ES/U4utfjv6Pwq\n",
       "/cyd3j4r93Z+RupJmLBynlsn9QVE2KRM/p6wXPbz8mbD9xcAQLu9k5cvL29Euf6uk5fH47EoB8Zj\n",
       "lD07L9uO3Nbd/b28PL2dinKOce8o2Ihy5Qq2dbWciHKWbeG9PdTZ0pavX3/3x3/Ny49PHolypft4\n",
       "v3I9EuVsw5Zvx/Kzvx/f5uV6RHWlv9tjr+m2a6S+026xcq0y9SdRbcHKBRu0w+V0JrZ1f6eTlw/q\n",
       "u6Jc4KFeni2pjk5v+L6Yz5ek7tWqrNxgRMe97PFys4A+axbFrNxvPvmC1FdjvG50y/s3AICKaYeR\n",
       "rAejxTwv/+M//MDK/NVf/JLU/Yz3l/ebdJwf7x7l5ajRFNtwNrjIy//5+38W5Y5ax0ZNNpZWC9sR\n",
       "GM9XZDJHXeq4Xl5ezZacOAAA+Bv83FJJfqZ2B/3x5FK+X5oa5Uh+pm++/j4vh8Z0XXV52wIAiDP0\n",
       "l1Es+60kQX9ZAk+U63bQX+4e+qLc408P83Ijoz7jxxdX7DW/qT8g9Sgus3Jg0b9PpnzfPqvdJ/Wb\n",
       "Ae+PbZver9ets3KD4SXe65r6oMcnJ+w1owmdr0Yz3l4fPHpM6nGUsXJvTt+SeqvC+4ygMKd7fjcv\n",
       "T7b4+lKM+uf78vgmCSrtOuDb+rMctiPL/tvkyuUyWy7iuuiDtsWvcYxtXS1lG3AcnLuPj49FucUC\n",
       "/e+9eyjnebLduB62Ndzii83/lbYEA5UKzpu2bYtyUYz9uljRPkpTPu4z43MAgGaTj2VrNZzjTX9b\n",
       "5PYW44ftOoXtMe8NAHB5ec1eU3wEc6xNXr2icXe9wT9TGAWkbpV4nTXbCgDQqPHPNZ1TPxEb4+E6\n",
       "sm4HAbYj8vhxAgDwqqgHZZu/n2XRZ7h37x4rNxlRX3V4iD786or32QAA9x6gnzXHukiziX61WZP1\n",
       "5Yfv/u+87DqyvhhdBDt99G/1Ou+/AQCiGP2l+XxFnj9/npdLtuy3mkb/F8faJM5QL+uGT9sEK078\n",
       "Z4xhXwCv1wAAmY1+aziXY53hDP1+yeXjNwAAMKYUC6hcKXWAw7KoD6r4/HsCtxDvJyDYV0aft1bi\n",
       "ddv1qY80dSwRuiwuzEN2xvvPapXqUbnMP7tpqwAAjqCztkuvD1dD4XMLvsnDtWIc8vM9AMDrU/SR\n",
       "2Zb1eZriHOMI4wQA0DD6vFGV7TW0cE5tlLHTG23ZDjcJzqFxJs/dk5URs214nw0A0DHWfUHBh5ss\n",
       "N2gD/X1cu/Z7W54vRbtOY9kXt5uoRy9+lP1lr42f26jJ77+iBMe62d4j/2v1+uw1v/v9v1C5Gq9j\n",
       "jQZ+rmVZrAwAjYniWH6XY87XbpnO3UnMj4ebUjuxS8I6eULjpU3A68uHd/RZd/b4vnV8GqcFCdrK\n",
       "rCnbVwkMP5HKcvEc+ykK+Gcv2/RZKz5vK61C7LUM+LFaz+m7hCTCPppt0e0nxnukdlO21/fn53n5\n",
       "+ff8OwIAgMkIfUalUhPlQmN9k6bY/64jx7J+GcctDeUYemPEuXbGv0/6+XOxDSVhDvgZtIFGE9f7\n",
       "zlr2M1GIfnAxk9t6dTPKy7Yjz/H3HuG7LKsk26Floy/OgPoq3+PnhNWaxn0Vl58TpsPC/cp8n63W\n",
       "tM/dMm/XjTI+02JB18Vpytt4vUJ1dLLg5bLC5O+6/NqsGN43m/z7nJ0d6kvmY2xvxZXtJgbUkbXg\n",
       "twAAGsb70jST55huD/1ByZXjUq+G/ikr8TagO30URVEURVEURVEURVEURVEURVHuAPqlj6IoiqIo\n",
       "iqIoiqIoiqIoilMyp5UAACAASURBVKIoyh1Av/RRFEVRFEVRFEVRFEVRFEVRFEW5A+iXPoqiKIqi\n",
       "KIqiKIqiKIqiKIqiKHcA/dJHURRFURRFURRFURRFURRFURTlDuDs9nviP7MkycvzzUqU+6/ffpuX\n",
       "X5y+FeUOdvfy8u7xoShXrVXz8heffC7Klase3hsS8j/vg81eMxndkrpT4uV63Sap3w5vWbmz03NS\n",
       "b1TrrFzVrZL66HKE/yvX2GvsMv1ObhnFrNztxYDU694eK5dG9H7j0ZyVc0oRqS+m67w8ny3ZawAA\n",
       "4izNy5WqK8qVSjhWF5cDUS5J8B7j4UiUcy18rnoT+z8NLfGaRqeRlx/duyfKpcEmL6+mU1FutVrk\n",
       "5QRCUa7T3c3LvU43L1dKjnjNZp3l5agsf0/7bnSTl2+XM7mtUZCXX746FeW6x0d5OQupnVRsfnxT\n",
       "m9rht3/4IyvnZ/Q5np48ZeXMz5mP5GcqneBYT2ZjUe6v/uav87Jdoc8wC9ZFcQAAuB4MSf3mcsLK\n",
       "1RotUl+u+Pudjakutyq8/d8WbCOYog8eXst2c//Jo7zc9GU7fPIF+tbf1hu80Ib6iMrFa1asVnjU\n",
       "zQT76GbA+04AgEWA/uTLp5+KcsEYfdJ4ix40Gmj/+wfyHDNYor1upmjjy9GCEwcAgPkGP3e1lm38\n",
       "/qf9vFy7L9/v8vo6LzfKu6KcG6F+HO8+ycvvTvmxAACIHLSHdU32LTdzfPb1IhLllgna61nM6z8A\n",
       "wDxCfSnHtI/ChJ9ver0DUm+1dli5P337I6mPBX88nVBl7HWPWDnfo3N8o+KxcoNrfN7dXWonh0f8\n",
       "uB3fo7rX7/P2OhzRvoyFuePByX36h5j3GbMR7RNz5NOE+maT9RrnhGrVF+WSFGOQUkmei9IUY4Fq\n",
       "tSrKuS76J9vCOaYkxGUAAL6P7SuX+TEDAJiPsW8nE9lntI2YwSvLz55W8Zm6XZy7azV+LH5uXzkv\n",
       "m89axOxL25af3bLQrp2yfL96HZ9ps6E6lWV8XFR2K6Re8yusnO/iM1V9ub9aDbSVljS/AEASot+J\n",
       "A9rWOOR1dlwYT8fhdbHdoDY+nPF26Li0z/1qmZVbrTekbmW8zyzqxHqNPsm0jSJVIxbYIgazKc4r\n",
       "9+8/YGWylPadZCuLGfXLh/voL/0yrwMAAOEGfUan05LlQhzT1x/eiHK3txhnPX30RJSLIrxfo2H2\n",
       "c/bvhf8N0x7imF9HAQDYLnrMbT4ISmhDV1c3otj+oTkPYLtXK3k93dhBW/Grcv+Plxg7WY7sB1cR\n",
       "KtLLt+9EOdPyrEJ8PxwJMZxD5YKAj3dsj/al4/B9u1pTu/ZqvI+rFn2uhXaYAB/vBCH1LdFmw8qV\n",
       "rIIepfwYxBG1L9fh/aqT0fakNu8zN2FA6ouZsaYM5LXswHg3EcbbfseL/7O2qPbTHdTZzt6BKDcO\n",
       "MNZYR6jPtRofvwEAQIR6ugjk9XSvjz6tUuLfqQAA+BXs2/PrU1Gu1cZ7NOro26NYtsOTJxhzXV5e\n",
       "yW3w0F4//VR+X1Uz4suNoHsAAKMhxi0/vfiO/K/d6RfFAQDAtgrjLoTytTLGYlFJ9oObJbYvCuS2\n",
       "2jvo9zuFudZKhPsX106CPdQqXVLvtTus3NU19WklkG3FxCmjEWRlebK1LPRB66m87ltPUJdcwcDq\n",
       "XarLacL7qnhN1zCrecDLRbTdM8N1TcdyzLuZ4/z64CPZxj9+gu3Ntqwfggj76OZafv9yc45zpeeh\n",
       "PcSRrGP1Gsq1qk1RrtNEXZzP+LUmAIBvvIsN+W4FAICN8f6mZ8zJcSSvk6ejpSEnx+dBgPeINvI7\n",
       "gs87J3n5oy3vM0o2Dvym+K4+5cft+vKC1Mslfp6L1tSeVoJa2QUTajb5dV/HWA/6CY0bqzXeF8yX\n",
       "dKDSDT8GmzHty1TY1+K4NF5qevwazrFoexp19EmdNu+LAQBiB3UnW215H9zD+217vxkt8XlLnmyH\n",
       "FSN+7bX5mFx3+iiKoiiKoiiKoiiKoiiKoiiKotwBHCeTfx314eIyL7c+4r9lBwD45sUPebm95Rdf\n",
       "gYNfBX793TeinLlr4st7H4ly5q8l0uKvc2z++6z/8Mtfkvr1eMjKXRV29hR3yeR/T+i3oMsZ/421\n",
       "X/hFVGT8wrr47f+fGQ/pN3+TBb/LZvfwmLZhyv/CIovorwo2Mf8NZL3uF+rYviCS9SVLsY9ubuRf\n",
       "gy8W+E1vtSLvNItC/CzHkX+tbv6mwvw17SaTvxGdGN8IX4fyrolSjDobCv0PAFB38dl3+/uinN/C\n",
       "vlwav5S8HFxy4gAAkHn47ION/G3wcoC/bqhs+QV0EKB+jBfy/WoL/MVWUPglxu/evGKv+eu//IrU\n",
       "P3nC7964OafPK+06W89xnErFnxIYvH2Fv/YZJfIvyH7/AncenRd2oJxf8L9mLNp+o877uE3B9mPh\n",
       "11xRSn1GJPyidJ1Qn7ExfsXXOTgpiuf87uvnxmfJNvD0Gf7aJ3X4XzYXf0zeafC/iNjc0l9YvDZ+\n",
       "7ZP6/L0BAKou2n83kX9+OKvg/Wcg/4pnbfxq3G3Kv7SpOfgcg1u0/0z+wRFEEY5brS//Atet403u\n",
       "78h+6+BeOy/boSy3HqG9fvwM+6vTl3+p935g7JLM5F8iv7rAnaoVkJ+p0cNftVR78q+tTNVOMjqe\n",
       "tZbgkwq6Z+4YNfkPf/FrUn9X2GX7Z/749fekvprz/mCvS3/hdiLs+PRsfKiSQ39x9OH0oigOAADN\n",
       "Ju0jaffMJqR98viQ/9V+UvhV8Ur4Md3ZD9ekvljhPFyryDtuGnVjx40r/xZoOMFdiuYuliLmbpXd\n",
       "XXkXmzmvrxb4C7XJRI4fKhXUU3PHTZG1McenkewHOx20qTCUf8Xne/i5ixXGAvv78nxv7nKyt+zm\n",
       "NX/1uG1HUGLYxrYdCybF2MkWdum2mjTGl8bX3JW0bdeKGTdmW9YZ5v1Whd2x0vR1dUHjB2nX0+Eh\n",
       "/XXkxTVvr2AV4vOI/7VwUujzVcLrSxBQP2HuTqsIO3sBADLDgbpbdm94xi+2HWHuLm48iEI+3ncL\n",
       "O8ssow29nmxfgwHOK2ks29f5+fu8vJzKP60NjB1pFxfCOAHA3/7t/5CXoxjt0NylU2Rj7OIuCzvY\n",
       "AABc4xegZU/u/8jYgZZs+QW0aXuxscM+TWXbNXetDYZyLDs2YuPhRJabG7vTWj3ZF5u72KaFtU7N\n",
       "5+f8rJClYhPxOyfimN6v5PB+w/Pp3ONX+JgwDOnnmPbqV4S2FuKKTci31Sn4NP+/cQePK+0MS4u+\n",
       "T9odSfWo1kA97T+Ux233AP8XJ/Lcbe74XG/kXx8fGfNhubLlfkOMw1eGfZnr+yKRkeVjNJTj+JWx\n",
       "Nm41ZJ8x/YDxiO/Lc8xuG+Mq0w7HY3mnT7OB/TCeyHLjS9TtWl2OiZpd7PN2T+6jk2e4w6jepnLm\n",
       "OxGT6YjuRFqu+J21VwHGh1kq74gx47c4kP3b9RnOAd0atbuaw7/X2r1H5xS3ws8xQUDt6a2Q2aBZ\n",
       "pT6o1uLHIPbo825S1IPbt/L7lxJgbJDKr4CgUsL5orvD73arl2mMtRF2MtcKu+PnDm8Ds8J8miX4\n",
       "7IuZbDf/9P/iO4JXb+Tdn8cP8Tn2t+z6OzzA3cEvX38Q5YZXuHDJDL/473ZXGpjJbUqwJY5vo/5F\n",
       "W3bjWMYbw2ZNXsvGCdprYOx2W87ld2ahsVN9siVrSLOFvt0T4jcAgCRFv+pV26Kca+y+Xy6pX10s\n",
       "eN+1Kewejdd8DFGr0Pdd0nzYb9M5qiXs9AkXGNt5Fp1r7SUfw0UTqsvlmJ9raymN46V1hxfSz01m\n",
       "/Hw4WtOF9k4ffZVjyzrb7BjvzMX5HmBlxFnToexcrk/x3WS85SWVY4S27Ra/E0l3+iiKoiiKoiiK\n",
       "oiiKoiiKoiiKotwB9EsfRVEURVEURVEURVEURVEURVGUO4B+6aMoiqIoiqIoiqIoiqIoiqIoinIH\n",
       "0C99FEVRFEVRFEVRFEVRFEVRFEVR7gD6pY+iKIqiKIqiKIqiKIqiKIqiKModwNks5uI/+zvdvJxZ\n",
       "mSjX3d/Ny48ePRLlPpy+zcuNRkOU8xteXr5cDkW526vrvFz3K+R/y/mCvabZ6pB6WuK/99rvHpP6\n",
       "ZsU//+1mSupu2WXlRoMxqdtZnJe/+Oxj9prlq5ek3qm3WTmIaNvWSczLpTapuq7HijmWQ+rD6SQv\n",
       "LxYr/t4A0Gga7csCUW4+C/Nyf/9AlFsssc9qtZooZ6UR+/csTsVrNkmSl1eO0F8AYEd479WWZ5+v\n",
       "8X9uuy7KxRN8pjTC9s1GU04cAAA6h7287Av6BQAwDWd5OXFk+3LK5bz8xZdfinKrBY5TEtE+rtpV\n",
       "9pqLs0tS39vtsnKNWovUJ8LzpxGOzePj+2JbW/VmXl52ElHu1eg8L68CqqOD6awoDgAAda9H6mW7\n",
       "wsoNBjekvprzvqvZ3yP1ywte7qcfz0jdK/t5+enjx+w1PzcQ9W81lP3n1//4x7z829/+mpW5nFyT\n",
       "+nUasnK//sWnpD6b47xycHQitqGdoR49sndEuTerV3l5kQp+EAD+/tuv8/J0Kdvr8e5RXo4NWwl8\n",
       "2WdEhlucxeei3Hc/oB5l9lqU+/Rj1OdOjdcpAADXMOXBYJSX37y6ZKR/ZmE9zMuVmuxj261BXvZl\n",
       "twWBMc8tbngdAACYW/i/tk99UHjL98WjR3Q803jDyg2vJ6S+199n5f7Hv6P2dfqS76d/+od/IfWb\n",
       "i2tW7ulHD/KyVaL+13H5uGA+p7q3WPO62N6hfvD9+7esXL9Hn3V//5CV29vvk/r5G7TDMJTHzQJ8\n",
       "Dq8w/xO5DOXa7Y4oZ9sYa5ycyPYPYOWl22v0n9OpPB+WDT+4s7MryrV97NvT0zei3NUlfm6tzsdE\n",
       "AAD7RpzrONhHkRRvAYDror60mrLfMuXqddkQwxjn4TiWPzfL5Hg9syz+Hym9Jo35edQp4dhGwRad\n",
       "Mj5nNJDnIVNXzHsDAAQrPo5cr+nfp1dXrNwqpHbn+z4rF0bU56wnS1auUqF+OljzcsX1jQX4XFkq\n",
       "9H/h/vWqrAfm8Er6cvWO+pI04nWi26UxWquFduMWxsPk6dOneXmxkteRVWNtNhttiaGNmKFWkefD\n",
       "wIjb3DK2r9NpceIAALBc4/jOZnycBwCwXOJ4xp2mKJcavrTVlP3geo1znmu41W32uVphHwUbeR31\n",
       "7bfP8/J3r1+IctczXHO4NT5uBwAIDfufjIt9JPw+1KdzRdnj5VaF50iF9wndHl3nlVz+fsX5od1G\n",
       "HU4tfj3YqFKdsqtlVs5Oqd+rlfk+Swrry1qV19kso88QCW7bKtHPdWzsI78m+4zEGBsL5PVh10E/\n",
       "scUFQby8zcuTcCzKletoA04FPzcG3icCALRaaFPV1rEoV/bxfpPZSJTLAMe615bXD+EGbYrYVyzb\n",
       "4djwVauFLBeYPiOR/WBsxFVOjV8XAwBkNurB5cUt+Z+T8b7eARpbBEt+Xm4Yvn63J/fX2RmuPa8/\n",
       "8HExAMC6gbbxm1/8krYh42333Rs6Vw8mp6zceEZ9xlqYYx7ep8/RqPJzfOAV4psM+7k2leO+NMA5\n",
       "ZksIDSUb/clmwhv5bUD9Vnenx8p98fkvSL3hX7ByP3z3jtTnY3ymbfGD42Nf1H15Tri+QtsbjOQY\n",
       "rlXDeOcvf/OVKAcp9vP78w9476G8nnYNv7he8e91AQCaVWxDxZfXMNMx3qN3sCfKJQne4+0bfBcb\n",
       "bfj5BQDgYBd9mpvy61gAgIMTtNf7j+Q1jGWjb7m6le0wNmL1mwvqL6cTPuZq1Gh8c9Th9eXoAW1f\n",
       "pcavYyyg/rzT4mPHmw/f52U7orYaTvg5dDmnc60H/Nrk/iP6rsP3+Tl+NCnMa9I8kNGJMgvQp01G\n",
       "8ni09g09cOTJdjrEOMuJ5T04boj9lKXyXGR+Vrzk5XSnj6IoiqIoiqIoiqIoiqIoiqIoyh1Av/RR\n",
       "FEVRFEVRFEVRFEVRFEVRFEW5A+iXPoqiKIqiKIqiKIqiKIqiKIqiKHcA/dJHURRFURRFURRFURRF\n",
       "URRFURTlDqBf+iiKoiiKoiiKoiiKoiiKoiiKotwBnHa/Lf4zS528XK02RLnp/DYvv/zphSg3m4zy\n",
       "ctBsiXKe52ED65YoV9rFe8w2Gflf7fiIv3fFI/WK77Bym9WK1BsVvg3OUZfUh5eXrNzTx4ek/uDw\n",
       "OC/P50v2mlqVjs08Sli55Saif0gjVq5Wq5F6kG5YuaxC+ySr2nnZieTvCaNgnJd32mVRLnbx/p6f\n",
       "inLXt3g/vyLraZLh2K/W2Jc1vyq3wejziXUuyrVqe3k5KAlKAABpiP1y9WokytU72Ca/jn1U68nP\n",
       "F8V47ziU+38xx/uVLV9uQxft5np0I8pd3Vzn5aCge/UG37eVwuda64yVy6KQ1CfrGSu3u7ufl7+/\n",
       "fCe29bvLt3m51ApEuZ0m3m+vtUf+5+7y49uudEj99PQtK7eYTUg9TXl7nUzXpL4JeRu4uKZ65Ho4\n",
       "vrHF9ysAwF/9+ou8fHQo20DNsMO3g/eszPVgQeq//OpvWDnn6Rekvnn1bV72t9hhy8Jnanfrotz9\n",
       "62ZeDiqyDSw/PsnLs/VUlBtf/piXd5o7eXkE/JgBAEzH6DP2H3wuyvU91O3Tdz+Jcv/899jn9VZT\n",
       "lHu6i77hi49wHs5KNif+8/08HNvxaCDK/eq3n+XlVkf22aMZzmvVhiwXRHFeHoyoPTw5fMZeMxxQ\n",
       "2281+VjjybOPSH02432XW6JjeP9xn5Vz/F+S+vyGnw9XKxynKKO2++Txr9lr5itqn2nK+zfHoX7Q\n",
       "tnn9Wy1o28qFduSfU7w8Qx2p+TWQmMzQzts9OdbbhBgXHezviHLNJuqss0VP+128x+nL13m519ky\n",
       "HwbY1roQvwEAuFX058OxPB/2umh79bpsh4ExpvU9jPvSZEuM6uD/ejtdUc51DJvK5PuFa7Qv35X9\n",
       "ahKifpQdGvM2m/wzlkpULrP4dlSNYLjsu2IbxmOM37Itz1R1UN/mCxp3Lze8nrfb9BlevOL9rFVQ\n",
       "vTTl59pgE5N6TVifbDbUXj2X123HoXpZq2Of+WWvKJ5TKuHctpzL89fx8f28/NMPz1mZeEnXAUdH\n",
       "/Jro8clDUm+0UK/qdXlOTo0hffGajx8AAMo+Pu9B/1CUa1Sxz6NQnoerVbTle/cxnpuv5uI1mbFG\n",
       "aG9Ze87r2OerjRxH+j7aq7vFBqa3OG8eGz5jEfJzDQAA2NjnkwWv/wAAY8Nnh4JeAwBExrOvVwtR\n",
       "zryH5VN7Xa34dpQsGls4ZT42aFepPTSafKxd1LfJnJ83oUTbl1hol57N+7eyTdvmAO+T7MLfW+0O\n",
       "K9dp90i90eD1ajAYkvpszcctQUDHJrPQF67X8ty9XOGzT2dCfwGAV0G7SRL+HQEAgJ+gT2tusRW7\n",
       "hXo1NtYJr1/K67SPP3+alw/v8/0KABCnaMvra9kOU+MdVZTI82G/hr4vidHGG03ZF49vMX7d6e7K\n",
       "bYhwnWZtWZfVjfdak0vZV40StKmT+w/J/y4/3AJHu0Xt6eNf8HHpwxNc897efhDbMDVU8dPGJ6Jc\n",
       "YDzuIKbjdLu4Yq9ZD+j7rtGMf/9VtP3HT05YuSe/oO1bLnkf5xaGxk3Q32VVWcdabcMnNWU/a8YQ\n",
       "yyBkZZaFy3dbvP5V+9Teaws+zj0M6DuM5RTjBzNWLNLu4pyVWbIuRiuch3fqe6LczQ36uCz7UZQ7\n",
       "2kc9HRtuMPX3GemfGd2ivU6mvP4DAHQq2NY0k9eoLcNWJmNeRwEAaj7Gpa0q+iq/I/uZrrGeadRl\n",
       "Xzxbor6NB7z+AwDMF+gLolSOBSxjzVt0Qf0u78P7fTqerS4/H4Yx1Q9HeKcHMb0+rvH95Dbx+nhT\n",
       "tBM+3jxu0TX8YsHb+GZD1w8h8H3bPaHry+GUf2dru/SZ/D20r9SeFMVzrqc4B17NZZ0NYnz+5pa1\n",
       "54MjjPchltfTYYwORtIX3emjKIqiKIqiKIqiKIqiKIqiKIpyB9AvfRRFURRFURRFURRFURRFURRF\n",
       "Ue4AznIubxmrGVvaPpzxacsAACJjm+T1tSxXNVKr3V6+EeUePMBtnCUhpRkAQBriNrGbK7qFulvY\n",
       "ev1nNj7dTnm0x2/b3d+5T+p7vQes3PVVIQ2cx6c8mQ7pNvhXp7i1VsiiAaP5mNRvhDQ9Rw+OSX2+\n",
       "4G8YrWlKAUvISrCa061zB7u4DXDibtk+bqa6yOTt43XP2PYnDy/4Lm7RXE7lzz06OsjLYWQ8Y8Jv\n",
       "sQUAaNawj8KJnMJiNMNtmIuVnJKhv4fj/vgen04IAOD8PabBaDdQLgrk/poaafOChbwVt2OkRnBA\n",
       "3oY8ucUtrS0h1QsAQNJEGyqX6fbxo31+a/7Dh/dIPQN+2/TLly9JPUh4ucxGG6825W21UYTXVx05\n",
       "NdDkBu01qVB7Or++YK/pfkrTHY2XfHoGp0K3Xfoe74Msl249Pmjy26bdKjVQz9gue3PLtxUA4O0t\n",
       "6lgWy1uHHcP47h19xMq0OzQlzOkp77etKn322QL98YdLOeXB22vU7dpvZTtsGCnY3r3j0+sBALx/\n",
       "ibodwbYUKjgPjNdoe42+nLIqNdLUjUavRLlOD8fz7/76P4pyjyaYPvEP33wvyv3wPcrd3/0yL9er\n",
       "csqJchfH9tUbub+iBHX0p1eyj31ipM2zHTklhpWivrkeTUnw9e//ib2m3aLPMbjm57mr8zNSf3xy\n",
       "zModHdL7TW3eBk4eUV/1Mn7Nyu0fP8rLowltW2LzfrtRSAHg1u6zcl4h9eH9HV5uPadx1cU539bE\n",
       "ojpvl9H2Nlvmr7091Nmdvpx25cEJ9lm/y/s3AIDVEj9rs5E/dz7H+cxMweT7cjq2Vgv9sbcltZLv\n",
       "4j0qFVlnzXRnnY78TIGRRtd18XMPDg448Z/vZ6SOM9OdFTk+wn6VUhcA0PRksy2pfFwXnzeOaZqP\n",
       "MOTjIjMFGQBAS0g5aaYJtm051UClgvdbLuT0KXYJ+3K9pnKSHqQpbZslBNFRJMeA9H60jxYLvm9t\n",
       "V04nSO9H4y9zDBJbvodpA2a5iDmGkn11m9SOnz3j02s2mnTedRwcU3MM/x02/mbws88+E8U2Rqqb\n",
       "2VDWA3MMt9lKtWqkP5tgio1wS7xfraKfNW23yPE9TD83nsnp9aIIfUExlZ+JbYy1V0W7qcdyjBon\n",
       "xrp2KMd5fg1t/N4Dft4AAJi+Rv1YzmXfEhhrsVqVpqKsVHhdXIb0/YGd8nbYKaQuqfi8P14X30cI\n",
       "6axbFeqnnRR1Non41D5hIc1oWWhDf4fe+/iQT4tYtDu/yqdg8yr0HcFoysc3fpX6jFYTfZ9fk9MV\n",
       "RcbQbEI5pZNj5LcKU9lWYh8VIduSPjU0fPUkwDWR25DvnTroVzeZvPhPMuwzz5PnmJYRO+505bhl\n",
       "HWKcUW3guF8I6fgBAG5HuIbpbknNaqYq3OazY2OOqdfk+3nGHOOUqN08esDroutQHz4c8qnbJgt8\n",
       "3qP7chrfR5/iu4mLS9kP/vQC7/fj/0nTekmpX5/do76qUuXl9g4ekfrJI97HXZzTdIJm+k+Terdw\n",
       "XMIIn6vkyr9/ny1Rrm7LaRY7ZhqtBb/maO3StYkZp5lMJ/T6OOX76ONPaWq7vR2MI8NIfrfreWh7\n",
       "z3/4gyh3fo42npa2xNo+6mnFl98ptdqoc3GMKXmTSI4Lyh7OKft7W1Ikl9F/tqqyv2wYR5VcncvH\n",
       "GyyX6KfbHRzbxZZ35u8/4LpsW0pj2zeOpNiyPjK7vFOT7dUMfxt1qv/S2qeQIRU2K/6d4WRA7T/b\n",
       "8P4gS+nnPkn5d+a93Yd5ud6h8WW6EeYbl84Vsxn/LnBaSAlpAT93xCn10yXhZXgcULnASHdYFdLX\n",
       "AQBEG+zciiP7jGoDx9SJ5bl2vsTn2jLFQ72FPi4W1Ep3+iiKoiiKoiiKoiiKoiiKoiiKotwB9Esf\n",
       "RVEURVEURVEURVEURVEURVGUO4B+6aMoiqIoiqIoiqIoiqIoiqIoinIH0C99FEVRFEVRFEVRFEVR\n",
       "FEVRFEVR7gD6pY+iKIqiKIqiKIqiKIqiKIqiKModwPGduvjPyw9XeblkV0W5xWKZl7vNrig3m83w\n",
       "g62yKLeaBXm54bqiXBIlebnqV8j/sjhjr7m+HJL6crRh5ZaLn0i92+mwcl6dfm9m2w4rt0pWpH4z\n",
       "Xudl36kUxQEAYD6PSN1K+LG6ejsj9WkQsHKuR+u2FbFyWZaS+vuXt3n58bP77DUAAHbZzsuzxUKU\n",
       "AwvlNuulKFb1Wnl5OZ+LcjcX+D/bwr+XXZuR/pmS5eflVqUlygURPofr87oCAOA3sM9Ti+9/AICj\n",
       "4wa2IcVnb9dk+4II/7cB+ZnaVdSjJJDb6hmf9f7dO1GuVkWdTxYx+V+2Kkr/W1MXIam7Nd4eqo0m\n",
       "qbcTVgzma/ygKBQ+FADAwhvEM/4zAQAePT7Jy45H9dxy06I4AAB8GJ6S+tHTA1Yu2tDrw4B/qGaz\n",
       "QeqWw49pZ5f20TrGvu0dyn52Y6NdV2q8bwEAqNfRBupt3r9VC7ZxdOKxcv/6/bekPtmgnz19/aPY\n",
       "ho7Xzsu9/rkol87HeTmJZPv61cdf5eXACkW5V5dnefnF6Zu8vD694sQBAKBWQf/7q18ei3LNEo7b\n",
       "9Qf5fl4DberLTx6Jcu+sSV4OU3Rwni//ZiM2/NbBAa+vAAAX7/HeVzdTUc6vjvJyZ1WT5Zpoe8sV\n",
       "7f+6v8teY/pvAIBSxs/5/j6d/25uBqzcZHpN6hbErNzDh7TPTz7n2+dYaAODwjwUlYS5tkXjj3LG\n",
       "z92j0YjW1zNWLt7ckHq7d8jKracWqQ8ucEz7e/w1AAD7fdTnZkceXzM2WC7Wotzbt2/z8uPHj0W5\n",
       "wRBji8US+/ajoyfiNdUq+q12uy3KNar4HNPpvijnltGOSiV+DgAA2N3bycv7+3g/25bnZDPmPXt7\n",
       "Ksp1O728vFrJ81yths+0XMqxk22jDZVK1E+0Wny8s1zRmMF2LFZubcRs5bIcO8Ux9mUYyr54YcSK\n",
       "UURjUukZV7ZfswAAIABJREFUKxU6r/m+z8qtp7QvU4sfX8ehMcMm5nXbcenneh4/H5Y9ej9zDJJE\n",
       "CHYAIE2xfa4jr33M9jabTVbm8IDOUSVhuri9vSX1p0/R9rbZ15uz07xcrcnryG4P7eYPv/svotwm\n",
       "Qv37/PPPRbnpFH3a4RHee3I74cQBAKDdRv2Q+gsAYDbFuaJRl/3gZoNtrVfl2D021qXmuJcs2WcY\n",
       "KgCXgwtR7tXZ67zc2uHnLgCAko06Oppci3KLJc5lR8d0PDcRb79ZSufWxZpfd4Qruh70y7xu2za1\n",
       "p0adH6uKQ/s8MNY7zZ1eURwAALod6quqHv8OolKlbViHvL2evadjc+LwvqB4fZzy6+5Fwf86PvZR\n",
       "EMsxb5Tg/RZrOYZrGL66tyvbgO2gAi5W8hxTruHznnz8IC9PJnwMAwBwM8F4eJHK/q3TRbtpGf6j\n",
       "iGnL64X8jmBwi3HWcoO+vTg3mlgOjlu3J/dXEOG9pXkIACDc4P3qW5b7plpGAY0PW21+PZcE1PfV\n",
       "6vwa2NTEWHj/AwBQ7+AatbqUda/TRT9RnNdSIZQquTSucIXp0PNoDJ3F/Dul1ZyuA4Yj3lc11nSN\n",
       "W9/BNbTvyfPcfIg2VSm+RDMIDR95dXvDynQPjki9VefX3UlCn/37i9es3C1QW3v7GteyrifHsr/6\n",
       "zcd5ufgexCRI8JmGl/K7ot4OPkcYy/FNaLyznc1QZ9crfo0GQGPt3S1+q1JFW54vZV/QbKIfvDo/\n",
       "FeUaxvuRirHWbrX5+QUA4OIcx73ekGPjhx9jf22LRy4uMTYbDoeinBk3JkDtax3wsaxtU99nWXx7\n",
       "rcL6xi7zvmU2puN+ccHbaxijg+v2qK3GG2HtU9DRksvP3U6NtjVN+Djr6t0lqa+m/OdaGX3Wahnn\n",
       "w5N9+V34IjTsMpDXc6bPCGPZBoIA+3I8l9+ttyJsXwr8+k13+iiKoiiKoiiKoiiKoiiKoiiKotwB\n",
       "9EsfRVEURVEURVEURVEURVEURVGUO4B+6aMoiqIoiqIoiqIoiqIoiqIoinIH0C99FEVRFEVRFEVR\n",
       "FEVRFEVRFEVR7gBOEm05VDTGw8Tmk5EolyR4yFKjIh8cftDHwybfv5MPqJyO8RAk25MPCLUtbF/x\n",
       "cO/xlD+AsFyi7Xv+4hUrd++IHri2mPGH3r14+xOpOzZ/0NvOLr3f+yt8/rrPj4Fn07b2hAPE6h6V\n",
       "m579xMrNZ/QAqP0+37eVMj0kKyljP79/KR/m5lTxuiefyAcxr9Z4gFsinyUI8wWOabCWDz5dzrD/\n",
       "zMPWh1sORDYPPjv8RLaBkoUHedlr/gAzAIBNCQ/kmgzlA2UfPsDDw6fGwZNWU7abboaHvi0c+YC6\n",
       "dh0PXxxey3KPHp5gZYv9X13iAYbLJZWruLzuzNYfSH2d8oeOXdyek7rj8d8/t5p44mXfOFzy38nV\n",
       "0e7Ssawrp2/QNnYO+uR/sznvMw7v3yP1tXBYbaNK2/f8+fesXM2mB/f98BMvd3RMP7daRx1Zb+Rx\n",
       "s208wK3Rkg+oXMzRz74cnrIyvk/H+Ze/+hUrt1rSA2Q3Gxz39UY+xHs6wsPr6t1zUa5vHGDab8gH\n",
       "H379x2/z8u2WOWtqHDZp1/EAw3JJ7tfTn/Bw+npJ1rHPnmL7qhX54M+3b9GXxlt+fnH88DAvX4/x\n",
       "QM+jB31OHAAAvv1XPDB3OZcPYp2N8HDIj58+EOWaPbTDKNtygDzgHNDv0YOw5wnvP8e31Eesl/yB\n",
       "hm9fUf0onfLP9fRjaje1On+47vMfTkl9/yF/sPB0ifNIuUKfIQX+mV6+fE7qzRbvu/wKHfhGgz98\n",
       "EcI9UnUy/pDx1KIHu5ZcbN8nnzzj7w0AjToeant2yh8aCwDw6vWP+FnCIZkAAPM5zj9fffWVKHcd\n",
       "4Biac7Jty/c2D18ejWQb73dx3nz28UeiXKeF9rpc8oeeAgC0mnigdK2G/f/HP369pa1YtiAT5Vzj\n",
       "cNRKVT4M2nFQrlzmDzMFAAhD9LnBhgZZ0wkfG1QKdhLHvN+2bfmAe5OqccD9dCIfPhoZMUitRu3E\n",
       "snh72ITU9rOM79viQd1pxh9abDsFuZD3QVlG+7Jk82NQ1F/HuP+2X9pFEX5uWThoHoAemu17fOxo\n",
       "9j8AQKXOj1scF/RjinN5LPQXAECjgWPVaMqHFo+nGA+vVrIemGN1dnYmyrWNONA11iZ7O3ucOAAA\n",
       "RCn213otz18b48Bcy9pyyLuhl+u17DNsG+eU1RLjRseTD7G3fdSdUlleF7R7OP/P1vIhwKsljm+3\n",
       "sy/KhTEeQn07oodG7+3xsYZdOCx4E/B2GEa0z9OU9+9FH3l+fs3KeR6Nq+7fx0OVyy5/76PCml7S\n",
       "g6ubK1IfDAas3O3tLakfPThh5Rodum5vdfi+9CrU1lwH/e9gINtNYKwFyq7smx0H/ft8JutslKAu\n",
       "pVsOZa8a89R6ge27uZHnZNMeDhoHolythuNrJ/K8ORigzmaZEDsBwMMnqB+J8V6r1ZHXR2YMY867\n",
       "RSIjbiltmeMnId5vsZDfESQ+9lGjRu1/uXpbFAcAgOENXX8la0EPHMNvRfK6rNXGNliZvN66f4xz\n",
       "zNE+XRe/P+PfrYURldvb77ByO306pwRLPm7ptGgfpVP+pdJyTWPjdIl90RHmRgCATg+fv+bIcteX\n",
       "6A9GE8FnDOnfqzVe/1Zz2keX7/n3pcV41Yyhd/f4fgUA+OTjx3nZL1dFuf4u+q7qQl5H+lXUlyST\n",
       "56LbW/TnkRlfCnEeAECrjf3vbomJzDaALcctJeOjpHkNAKBpjM2bU1x7upF878CwqeXgVpSbfIN2\n",
       "/J/+0/8kyu3s4bN/9yP/3gmAxmyNGu2jzZq3h/mC3q/b5ufNapPOtd2aEEem9HkXG/75oxuMqyyH\n",
       "6l6W8n5xPqV+NbP4toZRQY9SPoZbLOjc36jw7zO9QnxvG/Ph5SUfmwAAJIB9KywRAADAMqbXshDH\n",
       "/3wTfK7NlrVUMEEfF6b83K07fRRFURRFURRFURRFURRFURRFUe4A+qWPoiiKoiiKoiiKoiiKoiiK\n",
       "oijKHcBZzuU0UF0jNdByeinKpRFuH1vOp6Jcp4lbbKONnNcrMLYX1xvyNvjdPUxJUqvSLWhuid+O\n",
       "++J7mp5sf49PCfDqJU0l02rxWyCXEW1fFPJbZo/v0W2EloVpsJZCeoCsTLcRfjjn+/arX9KUS7/+\n",
       "7Des3O9//w+kvhrx2wXb+3Q7b6ON22wtIUUPAMDNAreuXpxdiXLmczW3pIWYT8ytfvL3k70d1IPM\n",
       "2NK2mslbqM3UF+OR3NbjHUxJWLHk7bLLN7jlrhzKKQlHK9xW2D7Gdk+HM04cAADsJvbXwZGcniFa\n",
       "4r07XblfHRe3Cj58fG+LHPbR+3c35H9ui081uNjQ55gL6ePCwnhWfX5rY6uFz3F4wH8mAEDZ2M5b\n",
       "qsjbixsh6vYmoj6o3eb7djCgW0EXCyFlXWF7ayRsc74Y0vQHfp3fPm851Lf0e/j844G8Hdor43Xh\n",
       "TN7CPzeeazoesjK//e1fknp3h98OHRf8Xrtm6F8mb0fdALa11pPTs0xSbN98LNvKYIl9++MrPr0A\n",
       "AEBYwvliZ+c4L6+n8ny4W8f0ID99I2/dng3xebNMTjG5t4v6FljylvHpHP1Tq41z8s2FfM1mituf\n",
       "353Kc3dm47jV6vL2/VYb7dWvyXPyykjrZ6bR+Pn+fNqqeoPO3esF32dZISVMlvH7ps/ejun9m7x9\n",
       "PfvkU1K/uf0nVm69QjtuV++T/6UBn56hFFJfVbX5+CHe0Dn9wwU/Zx3ff0rqf/qWT/NhhdTvd3cw\n",
       "JVkQyekBojHq8zff/lGUs4z96HZJTgvR6chzpYmZlivL8N6zmWzjvR6m0Tl7eyrK+S7qx1/9938h\n",
       "ygVr1Dcz/UwRMx3Q7373u7x8dO+YEwcAgDjGPq9sSX1spq1ItqTU2gTG/WpyGrh4jjFl8X6X13xa\n",
       "gscNqtsrIT3u/j76rYVgqwAAvof6EcfynJzEK0OOtvXLX37BXvPhA00j293hYwOvQn3EdDlm5ZaF\n",
       "FBh+mY9zi6n3yoKcW0gx5ft4XcWTx21jpEL1XVnOTN9npnoz6fW7pD4c8nN8MbOKY+iipAMAAPU6\n",
       "xrnLpZwyzTPSVmxC2QftGHH88IZvKwCN3b/77oe8vLsrx4effYl65G1JixgZ47SYy89edowUbCDH\n",
       "YqZ+JAna5LZfW56dvcnLN2M5HtlEeJf1Wo7zwMJnskBed7eNWHu+pDGqaaMmZZ8+yf39I1Yuiuga\n",
       "V/LvXpmunfp7fEyepbTPzZRCe31+7skSqnvPv/uGlft3bRPS/LkFOx4JaVfevHlD6sMR738zoO3z\n",
       "jbCo1ZDTkFlGSt31RvazSyOdc1qS9cC2cU7u9+X0R565PjHs4WDnkJH+mabxLqFald8lZMZ8EURb\n",
       "3in10Gd0OrL9X19gfDMxUuBsSwnXMtKlb0s3+f4MU2/VhNRHAACNGup2GMhp86ZGiijrgKY7vbng\n",
       "U+dtCunv05h/p3Q7xHX8zt4uKwMAsOwZaTOFd2QAAGUjjWlQSCfUFlKm1XeoTbtlPt5pFtK2BY6Q\n",
       "tq2QqrDZ4D83K/j9+QavmwmpkAAAWlUctxhkP+tV0B7uP+Hfq9SbtG1mXGCyXtBnrQjpxC2nGFOi\n",
       "TdWsLkiMr/A5bm9k+9qEOK/XKnJsHEY4TwVj2besjXii6htt7exw4gAAkBgx4dl7OQV82UiVnaXy\n",
       "OK3m6Kd9X17DXA0wBhmNsY/CQH6vWG9in69mckz0cAfTTf/wXE6nXSpjf1Xqsq+yusbxBoXUxEnM\n",
       "604S0XX3JuRTUyYR9dPNDv9u8TCm7w9S4FPbR8Z7Aa8whwYBHx82C8cUzGbCO6WQ6p50fI1dzKcv\n",
       "pPUvO7TP3ZJxpEwqvy8xj1jwtqQqXwdGGu4t91us0QYmM1muZMzrXoNfb+pOH0VRFEVRFEVRFEVR\n",
       "FEVRFEVRlDuAfumjKIqiKIqiKIqiKIqiKIqiKIpyB9AvfRRFURRFURRFURRFURRFURRFUe4A+qWP\n",
       "oiiKoiiKoiiKoiiKoiiKoijKHUC/9FEURVEURVEURVEURVEURVEURbkDOGGQiv9cTMZ5eXdnV5QL\n",
       "wzAvJ0ksyl1d3OTldrMryo1Gy7x8+vZSlPPLTl523IT8b7wO2GsqlQqpB2v+e69PPntaaNOIv5/b\n",
       "IvUo4j832MxJ/YvPn+Xlszdn7DVxWBibrMzKffPtS1Lv7+6wcp9/8imph+s5K7dazEh9cXGdlzv9\n",
       "HnsNAMB8s8J7L0NRbjrZoFyQiXLVqpuXD4/kz213anl5uZrm5d0HB+I19Yqfl0uWJcoFE+yjVqsh\n",
       "yq0i/F+wkb9LvZmgHpW8dV7efyQ/X2cHbeXNy1ei3GEPbXS1WolycYY2evLogSi3XGL7soy2z2nX\n",
       "iuI/t+/5j6S+CWasXLdH+7Jc4sdgOsD+2gifCQBQ6+H/QovXawCAso/j/ub79+R/wwFvu3sH90nd\n",
       "r1ZZuQRcUrcM/0TaWuuT+nLO91EcUZ82HaFuX3yQ/eKDe/fy8lGh7SbXH4Z52avwut3p07auAt6/\n",
       "Ozbtk6bhZ0c306J4ThSirVy9l5+pfYjjtoo2otxNiJ/l78r22nHQps7foX+Ll/L8VSIf64lyEdh5\n",
       "eX/3SJSbj3B8xwv5mcoH+ByZhXPAj//1JScOAAClEvZr2d0X5fw6tqHVPhTl4hhtqlmXfZVt1fPy\n",
       "xfk1+d98yc9fltUh9SSJWLlqhV6/f8SPb7tX+ByX98eZQ/Wy7vZZuXYT/cJyviD/+/r3f2Cv+eGb\n",
       "K1I/2O+wcrt9Gge1mo9Yudv3VD/S0GflZkbsBADQ9NEOk1Sek13DV83nsr3W6zi+riPPm5sNzh2b\n",
       "YMtcFGObzHtXBR8LAJAkGDNMp7Kvf/nydV4ubfl509/9x7/Ny0HAzwEAALbhAEy5KOL1FQDA83Cc\n",
       "HIefDwAAFgvUqyRJRDnzHo7tinLDoTmGdJw6bd5+fZ/qVLvdZuVs43NrNd6mAQCWC9SBgwM5Fru+\n",
       "us3LWUaf/dnHj9lr2u0m/UOJjyN/+OEHUp+/EPQlpddL+lcpU79v6qyJbdvs3wEAPE+eO0jf+nK8\n",
       "s1qhLkr3G4/HpL7Z8HPM4QGdH7IM+2KbbtsOtjWO5XkzCtDGW215Tq5XsS87HXmOGQ6NmDBAHbu4\n",
       "uBCvefDoJC9XKrJvadawDdOJ7FtM/ShtcS4bYz3oediv5arsCy5v3+Xlbwr6a/L8O5QDeRkP1Ya5\n",
       "PpJ98d4+zkX9Lp2XSjY/vlbBVS1m/NzRaNM+393j16iXVwNSP3v/npVr1qkeHR8f5+XZmB838z0F\n",
       "AMDwZsDKlVxqu64Qx1uFdaMvyPXadO5//+4FK/fwAbXDlrHeyWJ5rh0N0AacjI8LAADmxtp4E8i6\n",
       "vX+ENhAt5VhgafRnr7eXl58+PuHEAQBgsUb9u76V433z2fs9ee5YzPF+F+9vRLk0MWw0xvE9fyP7\n",
       "jDcr7NfFTO6vaIN27cWyIdabqAdpuSnKDWbo36aXVKdePefbYUEhNt7l403HWDuFI3nNEZQmeTny\n",
       "5Tn+1li7emU6F7oW/86w1aBxxWx5xcq9+/Ca1Os1fj5cB9SuXYefk+PCHG9FWD+7OGevAQDoNtHX\n",
       "VFzZb3tljLW7O3z/22XqW9KMj1uKsVgxhvszcUgdcLAx5uuEf68AADAdot1slrLOxjHe361XRLmK\n",
       "j7HAUHhXCgAwGuE7h+USdbnXOebEAQBgtsTY2KvJbag1sc8EVwwAAJaDYxBu5PhmEeBaqmbMXzXh\n",
       "PSwAgONi+6JUfrc5G2Fc4JRkn50Y66g4kcfJ9fCB05Tq2GrFr2lW87QgJ7yHMvwgAECvyT+XV/Bp\n",
       "kis0ffFkQvXXSvm+DRd0nEaDBStnFebJhsf7jHhN7ze45mOBiUP7st5APTjpPmGvAQCIQtSdTbgW\n",
       "5abGO9Z4i86OpobfXsl6VTPWm9GUX+/rTh9FURRFURRFURRFURRFURRFUZQ7gH7poyiKoiiKoiiK\n",
       "oiiKoiiKoiiKcgfQL30URVEURVEURVEURVEURVEURVHuAPqlj6IoiqIoiqIoiqIoiqIoiqIoyh1A\n",
       "v/RRFEVRFEVRFEVRFEVRFEVRFEW5AzjBWv7nZpOgoJ2IcvVaPS+Px2NRbjpb5uVyuSV/cOblxXa9\n",
       "L4pFIZY93yX/S9MNe80miEi9XK6zcstVQD8rili53m6F1OPIYuWm0/ek/ptf/TovLybX7DXzaUrq\n",
       "O0f3WbnTN5e0/v4FK/fFl89IveKXWbnL8YzUTx4+ycvj6awonrNY4Pg2nKoot9Ns5+XlUr7fwf39\n",
       "vPwXX/1alBsML/KyXYrzsu/74jWObeiLL+t2s1/Ly9WKK8pNXn3Iy6Nb2aiefPkoLy82aCteR26D\n",
       "Z9t5eTaaiHLLG/xfv9sR5e4f3MvLUcDbCQDA0WEvL2cZ1f/LAa9jnz+h9tpqP2TlZrMFqU/GvB48\n",
       "efZpXj55dCy29bvv/5iXN9ZClKsaKlFr18j/mo0ue01/hz7TYhOycquQ2n6w4cf0w+k7Uq/VKqyc\n",
       "bWWkPhmhfXW7fFsBAMpVfK6v//S9KPfNi7O8fHK4x8okmU3qmc37jCdPPyP1H/9kjMdU1rEgQD8b\n",
       "Llai3PoG2zEJZTm7gX4nSwNRrmQM1aPH6FffvngjXnM5v8rLbiaKgbvEsen0ZB/kV9G/u6HcR9M5\n",
       "2l6lgWOblWRf8H48yMs7Oz1RzrFx/nOrbVFuscQ2nL2finKlEv6OJAwd8r8o4zut1qZz8D2X/y1K\n",
       "o07/7nq8n6136bxZclgxeH/xHak7sMvK9Q9Qp3o79H8ffca31XfpXD0f8XPHckb/7pX4PhoPh6T+\n",
       "8OEjVm5Ypn40DrB9fkX+jU+0QVvxPT4mAgDwjHhpOLoR5ZIEfV+9LscCNqBvDUP0q1nGx1EAAK9e\n",
       "vs7L45EcPzSq2NbbWzkuXRp+Z1vMUK1i/7XbaCuOIygYANjG3F0u876zeA/Lkp1Ls2n0/0C2f7Mv\n",
       "12tqJ/t7h8JVVD8sy2alBrejvLyzs8PKAABsNujT9vcPRLnpFP1JnNC5NUn4uLvTo77qiy8+Y+XM\n",
       "NgAA3I5ueblgSeoZxKyc6d8AANKUn+OLf48i1/hfWhTPiePQkOPjgp/lsH2e57Eys8Wc1Os13g69\n",
       "CtV503YbjYbYBstCGy2XZbuZj1Ffms2mKFey0AayRLb/+RRteW2s07rHfAwDAPDuLcY6rZY8z9Uq\n",
       "aF+eJ/d/uMZxGq+WolyWoG/p9HAedqtyvN/bxT7/y7/5rSjnGuP24w9vRbnZFNtXr8vj6ZTQP8Vr\n",
       "qv87fX69vp5T/xtEfBwTFvqoWq+xcu061Q/X4nXb1FEAgDDAfq54/Dy+KrR1NuHj+LREn92r8HFG\n",
       "HFPfFEd8XNrr0Wfd3+efvRjfVMo4D9Rb8nou2RgxVyDPHZnhT+4f8X0EALB7gGNwc30lyt0aMebg\n",
       "Fn347Y08L62NlzZxxvtYAIDpEtdwN5dDUa5qrHU2wroMAKDiotxsiOPZqMixSSlEP1135Tl+tkC9\n",
       "Gl3Kzz6+Rr/VrMu+pdHENvku9av3j/nYbL2mutht8Tr26BjnSack+yAzVDHfPxSZrHDcFwtq+5nN\n",
       "6+LmDV3/Hjzkfcs8pPPXeMb3bakwT7oZ395oTdeDmynaq53J42sB3m9brOdX0VeVhFivUpirZ8L7\n",
       "r2hJ+2694WN3y6WfU7bQppYbOeZ1jbVAOpN9xnCA7UtAlktT/F+SynZYN+bX8j3U0XZbXnOsIozZ\n",
       "ylvewUUW2vUmln1LuYl9torld0WVFn7WjrkmKsmxzrszfBe73nLvHQdjkCyWY53RAOfNalN+9v0j\n",
       "nB+KsWcY8HrgeFSnVhv+fclkSH3LT9/z76sPDqgdLgPeXqsVtPeo8Jn9Pq8HoxtqJ/MB37fWhuro\n",
       "0Qm/7tjr03VL0OZ19uKWzn+rFcpNR7I92I6hIy4fwwAAWGbcLL2oAIDVCn1VNJd1ezPHfrHLvF7p\n",
       "Th9FURRFURRFURRFURRFURRFUZQ7gH7poyiKoiiKoiiKoiiKoiiKoiiKcgdw0kTeuvnwwdO8fP7+\n",
       "gyh3/h63tPX7ciqZxNjGNpzJaTlKxpbubekFkhi3304ndCtorSZsgy1sQQ0CfqtUFNItcnHCb+Wa\n",
       "jWmqhkBIl9UpbM1zLNwy12ry370NBjR9yvk1v6WttUu3fjebfBqsVUSv39vnx+rX+7+hn/set7h5\n",
       "dTlFydNPH+flYC2nOCs5qAeNqrxt/cERpiE5OT4R5X56/jIvv3iFuhhu5G2Tj59g2rDHniw3XuPW\n",
       "0okr6+yuofdNW96qWg1Qr1oJbod87Oxz4gAA8IcPmL7u/uGRKLeeYJ8fiylcALIY23Dx4Z0o53mo\n",
       "s/v7NCWGVeJTGYwK2yGb5Yes3NMvnpL68+evWLm3L/Hvi9WclQEAGE6MFBYHcvoOr4Jbind26db+\n",
       "dMVvb/3ppz+SepTw2zBbfTo2Scz7VqewTbqY+uLPuGV6fZKir5qt5dRlT/dRt//5229EubYxppbF\n",
       "+6BaId1Gb4dPofJP//w/k/rg/WlePrknp+XbM3zXZiKP704N01GUhZQfAABLB5/j8ES2lYmRosxM\n",
       "c9A9kP2RW0MbPWzz6RMAAG6MNASHD7bY4RxTfg7X56Lcg8cf52W/jtuL/+JvZT2Pajhu04mcOq7e\n",
       "wHu8/PC1KFepoi+wQE4LUTO238cO1etKndcxG+h4ZhbvW+qFtDz1Bu9nu4WUU2nGz1mnb2n7xlNh\n",
       "Hh6hTzu4T6/Z3eV18dmXtA3vf+LTeczGNP5IbD79VFpIZ/P8T7xdd9qFZw/xmcqeHOtFZipfR04j\n",
       "4HuoV/W6nGbRnDu2xXBVD7e3v3lzmpdfv5bTFWUpPlMSyamy3p3hvFkX0gkBAIzH6Av29uT4xkzL\n",
       "ZT6TmaKyiJS6s4iZLm65lP2gmVJrKqQ7AaBptMz0Tj/fn4/N+nvUvlZL3m+YKU7MtANFzBSkWSaP\n",
       "08EB+tXbW6r/Zuo3kyCkfV6v877go4+ekHoi+K6gkDJ0OOZTFxbXFUny/99HAACVCupBdYtOmGmr\n",
       "tqWBM9NNV3w+RZHjUnv3q/znFtP/ZQl+bqcjz4fm2LfbcrpZ8zmqVTk1ShignOPIdvjxV1/l5e++\n",
       "+zYvd3ty6jgz3eFsLNtNo4p9uVvM5WlwfY0pTpJQng9bRjpWM23T2eVP4jWTKdrAJpXXUa0u3u/w\n",
       "WE6f+CHGNFzN2hZfXMa2xjG1h9sLPsVWrzAH2y4/d4wWA1J3LD6GfvT0AamPJ/ya6+1bOj+khj8I\n",
       "V/w8l6XUTvq9e6xcalPfUqnz9xuPaJqbdpO3Q9+nMcJ6w8fQdona+8qYBxJXtoeKkaanuyV14WSC\n",
       "c0fFl+f4ZgPbd30hp4ja38cUs1GEccx6S4q5tRFn7OzK6Rgjw69aluwHy66Rerclr6HXxlwWV7F9\n",
       "5S2/e/YqOG4X796LcqUNrv1rJbmty5XRl1tS7dZrODbVKk079PmX/HEH8zmd42NhLdsy1gV7bf64\n",
       "AACA0Q22dT6U45FsjXb8/EeaLrm9x/vPPbeYzo1P71ZvUl81mfB+e1141ou3fOzYa9E5qm2kmSpZ\n",
       "csqkStlIOyqkfQUAWKzRZ1oxrwe7e9S/LUZ8+tpimtvbEf+OwCtMp47hu5aR/L5q79Doc1eev+bG\n",
       "O5daTfYtL376MS9323LKRN/Dviy7GI9cXMjr3+kan73SkefkFIxYrCyvdZrGnNXsyuvz2RBjz2bD\n",
       "XE/Lc3KtiZ9rOXKcd3uJ79Pniy0xkREP2u6WFLpT1MtiKtZnz/jx2AT0ffB4yj9XtqF9KWXvazbo\n",
       "2GQ2L7izg+27vqTfK/g+b1/BirbNAf6dbVRIc2mt+bkodej1vsfHRVFQWI8s8Jmuhq+L4jkHxtEY\n",
       "7b689twYqbzDLUfoRBHKtevy0Tg9I4bLhHlTd/ooiqIoiqIoiqIoiqIoiqIoiqLcAfRLH0VRFEVR\n",
       "FEVHVqIUAAAgAElEQVRRFEVRFEVRFEVRlDuAfumjKIqiKIqiKIqiKIqiKIqiKIpyB9AvfRRFURRF\n",
       "URRFURRFURRFURRFUe4ATriWD6WaTfHwxWU8EuWe/RoP6s4y+TCiZYKHLMWJLOfZeIBetSIfChiH\n",
       "xqFNJXow4TDkD5/r7fVI/dX3p6xcvUwPzPMS/pBQNyocPCWc8/bk6CGpV208OMov8fc+2qfPVBEO\n",
       "ro7TwuFVwB/gVDwY9uqKP6y2eLDrcokHqXnCobEAAKlxNlavxx84CABw8eFNXn7wUD7k/dEjPCjy\n",
       "P/9f/0WUG9/ioYMf3cPDOccj/vkAABbXz/PyZUU+HO7+o4/wfmv50GLzoFPHlg9zPH6Ihwl+fP9h\n",
       "Xg7n/EF9AADD0z/k5cqWAz3rFTzorVeRx+nNN3iI7HS65dBowAPcdguHbj4++Yy9plJ6QeqJcBj0\n",
       "zRs6NrbgD7pdfN5X716Jbb01zpl9VpcPFe420YayMvVpR8cP2WsWCT10dr3kD5FrFQ4zToVDowcl\n",
       "+l17VTi0+HifHs4bRXhI48t3b4riOd98g4e8n5zIB/xeXeFB53/z1X/HygRLOk7/x//+L6xcFlP9\n",
       "PXmKdrNZyXPMcoaH4Xa68kHM1SbqURLKNgAB2nIayIc5eg20D8dHu/Fd+XcQjToezLiRTRz2j9Gn\n",
       "bUr8gcUAACdf/CYvH//6I1FusULlns/xcMk4lfthmeABiTtHsi/utrDP02Qhynk29quVyodBh8Y9\n",
       "mk16+LNT5n3SekHnud09/pDhrEQPdY9sfrI9fU8Pja5W+IMPXZ/GFnsl/uDN60t89mBI54r+M68o\n",
       "/jNdOievBJ8xX1NFSmxeZ9MyPRQz3PBxUebQ9vg+jlVqyfpSbeJ187WsB1DC57Ad4dmBxgmTLXPM\n",
       "teGDVgHaeMmR7cYuob26DbkN0QYPsg1i/sBcAICacUhroyEfkmke3h4E6NNqQlwGQA+Qty35INbI\n",
       "OOB6tZTbOp1gDFLxZX95cY5tdT2q18sN74/nY/7w5yLtDj5vqST7WPN/zpa4xTEO963U6LOv13z8\n",
       "EEVUzvV5v13t0rE5fMAf3n54/pDUay2+b5OU9tFcONTXLxwUm0YoV0rl8YUY9cCpyDbglLE/XZ/v\n",
       "20aD+ulqlfe/cUz9aMs4DP7yRo6h20a8c3VzLcrt7KDPXC2FU4AB4N3pWV5+8IQfJwAAq4x9+/jj\n",
       "J3l5s5Zj6P0WxkFhJPf/bIpzzOHRkSjXaGPfDm7kz7UMHxlFaA+NhnyAdBphP3z48EKUq/fw0N6n\n",
       "bXkNc/I5xiOzgbyePntzlZen48LB8CG/9rHcgo6G/P3nhQOWF8mAlStf0fnwV59/ycpFSxpbpCHq\n",
       "RNnlx9cpnEBdLfG2Wy5TX9Ks8H672qMHm9fr/Byf2HQ+9Sp8XzYbHVJ3Db94ec4fYg8AsJhhn2XZ\n",
       "WJR78wbXTw9PZN1uHuFzZQ05Hp5N8TkWC9QX15Z9vWeEdlko241nHNRdFvofAKBRw7ltMb0V5S7f\n",
       "oW6vp6gfx3vy+wfPODjd9eQ2xJFx2PqW9yNmSLMAeU20NmzKLVF7aJf52HivT+1/KbyuC43D299d\n",
       "/sQLAcBqgfNcu7MryjVinAN2WtSn9Zp7RXEAAKjUacxgAx93J2s6LzUcft2xKXR5tsePQQpUL8cB\n",
       "PmPJlsd3GBqxXleONys1/J8n3G+9oPFM2eWfaV3wq1nEx1k/vflA6r/57eO83O0+LornpICfG6Xn\n",
       "otzJR+gnrC19dL1En5FWZJ8xCtDm12P0VWWX1wEAgGYXdWy5EF6wAkC9jm0II/ld3dpCe/U9OX6t\n",
       "Gb4lNNYmblmeQ8HBe1cbsh9MrtCOs1i+X2joaMWT190PDtH+s4jOc+06H8tmFfp3P+b98dylc20i\n",
       "7BVpNahvqpZrrFy3gv1SqtJrHvb4Zwzu07h7XOb79nxJ15qXwtpzMn5N6mHGxwz1VuFdoo2+ZTGT\n",
       "5+Szt6gHg4G8ThvMcF7avy/L7RmxnrPlu5Omj/1plfhYW3f6KIqiKIqiKIqiKIqiKIqiKIqi3AH0\n",
       "Sx9FURRFURRFURRFURRFURRFUZQ7gH7poyiKoiiKoiiKoiiKoiiKoiiKcgfQL30URVEURVEURVEU\n",
       "RVEURVEURVHuAPqlj6IoiqIoiqIoiqIoiqIoiqIoyh3AWSws8Z/j2Vle/uRXR6Lc3r1yXracWJSr\n",
       "tnfy8myQiXJpWMU2XE1EOcvG8v69XfK/P33/LXvNvYf7pO43HVbu6uKSXnf4gJWrVOn1dslm5Wot\n",
       "n9QH00Febvfa7DWTVUDq55cXrFy71yX1dN5h5d6/PyP1JFqzcjv9Fqkf9HHcqg2PvQYAIEzwfq4r\n",
       "61W9hs/bMXSiyOUV9tFsuhLlSpabl1+/fZeXPVf+TnM6G+flvQcNUe7i4nlerlVcUa4VJ3l5fLUU\n",
       "5W43WN51K3n5ZnQuXnPvAHW28/+x917NsiRHgp5nVWVpLY+WV98Wt7shuoHGANhRS+6u7azNrJFm\n",
       "/A98oPEfkba2T0Pa7sAwy5lZDAZAAy1v3+6r1TnnHlVa66qs4gMG6eE57mXk6zH/niJOeuaJjPBw\n",
       "98jK8EzxugIAEI3G3bIFvB4CAPQdnKP9uTxfG62qWz4z9BUA4OPIB+w5d7feIfVqucLKVapNUk8F\n",
       "k6xcz9DR2GTMygAALI3bjYcjolzAQluVSFGbFgnzenBwcEDq8zlvM5ZA9SObL7JyvR7V5WGry8qt\n",
       "5QuknkxiH11/6y32HACAWqvmll+fvBTlgj6cy2eXb1gZP9B57O2LP/C7331G6hcXaKuSSVlnnTna\n",
       "uI1tvr8AALbX8P/OlhNR7suHD9zyzsG+KDed4X0NB6hXW4d74jmLOcr1O1NRLhZB/3X8/LUo9/QB\n",
       "Hltbj4pyqTT6jnZ34ZaHQ9kmdhfoE95++44oN+vP3PJbd94R5dpNnIfLeU6Ua7XQBs0XdD45Q97n\n",
       "184bpD6Z8POhsE7tuS/A+6+FQ21ftczrdjROr7eee4+Vm3WxPcUE9Y1pO8a3waL27Y8+4uOHuJ/6\n",
       "5G6Ht3EnJ9T+Hu5kWblImNrRsI1jMBouvOIuIWOaZzMlUa7d7OA54Zko5/PhBbtdfjwBAIJBtMe7\n",
       "u9hHuWyBEwcAgOkUfe1oKNuC3O66W06neP8CAJBK4ZhOp/K8Ho9xbGYzvPdoVJ67kwm2LxwOi3Jm\n",
       "P6TTsr0029Dvy/M/EsH/FQxTHV0seD24KNOYt1jk7bHPj35uMJBjnWgCbQHYctzYb6N+hEJUbnNj\n",
       "mz1nNqfj3h30WLlOl7bPHA+T7W36f0olPi6dO3R+Tnq83HDUIfXlAvVKagMAwNyIx5rNpigXNmK9\n",
       "gBDn2jaNR0zdMcnn6T3EjGtXKnz85m2rzyfH2qZuf/ABHzcCUL28du2aKBcIYPxVq2H7trbeFc/p\n",
       "dXE8zLnrpVVDO3tyciLK5YroAy1LXuv4LGzrYIDz1Q7L8+Hg8DqeE5Ft9toGzs/5whHlJlNsw+MH\n",
       "x6JcLo12v1Gn/mY67rPn5D1rV0lnUw5dkzY6ZVYuGKBykRjv53748U9JvdvCeR5I8vF/rULbNp7x\n",
       "tn7sWRP5g3y8H43S+CYW5dva7NH4ppS/zsrNZnQMUwmcN/YWewoAAFye4zMSnx0U5RpNHMNOV/Zz\n",
       "n/zqC7fs98l6ulzinPcZ66p0To4P03H0RdZS1tlEHMewUJT9YcCIM+IBua35KNq4N0e4Ntnb5dcz\n",
       "AAAPvv7KLY/HfKwJABA3fG2zXRflmoav9EXle88P8Hq7G+vkmM/HP4MIhaiPt3L8fF3M8PyLU34O\n",
       "AgDsXMe1Uy67LsoVR6hHm9foenoorNcnNl0HxIW4yBeIk7ojzNdpgPqeKPB922jQZ4nWBNthx+Rn\n",
       "QGkjFrXkEA7GI7TvXeHefZ64oJCKs3LJKNXltXXeps087iGbwVh0OJSflzx59NgtN7r8+ggAYH0D\n",
       "502jURPlIj68j7gtd1K7gnFawId9fvPwtnjO2Znx3NMv+1rHh52xsOTnXy+P0K/fuCbP/3Uj9ux0\n",
       "cNxGc9kWbBQ23PKq+Ly9xHsKB+TnVe9cw+c8wSjvhwAA2nW0Lc6Uti/i5+1izBODZGJ8rJGM0Ng6\n",
       "mOTXvMuxZx3f55/dL0M4NrkEvZYz5Ofu2+u3SP3rKv9cxbdNfcVpucrKhUueZ+bCXBlMqb4Fg3h9\n",
       "yyfrQSSCYzoZ82sTAICAD2ONfJaPHwAAEjEcq26DvycAgLaDz7XDQoypO30URVEURVEURVEURVEU\n",
       "RVEURVGuAPqjj6IoiqIoiqIoiqIoiqIoiqIoyhUgEIvJaTSGRgocM22Wl1ASt7SlcvIW22QOt/1F\n",
       "Y/JWtYtT3CLrOPJW/PEIt1el0nSbXkJI2xZN0vbtX+e3rlp+muoiU+S3LNoW3aqaSvNbtM6rZ6Te\n",
       "7+D221x+wysOAACBIN3KW1rn5S4rtK1On99iH0vSrWqTEd+3nQ5N6RA30uAsHDk1RauDW8tWpTyw\n",
       "jHQPjXpHlJtOcLthKMhvgwUAsI2tb84C25rJ8NsQAQCcU7z3vl9Ocfbu7T23fK0kz5XuBY5nNSb3\n",
       "UX+M/+v4HPur2pW3hSdzmPLAH5fnV7WN15uO5O3jPmNb/kxI9QIAsDSG0Ju+o9ZpAMdZlepOQeiz\n",
       "9ds0nUq9zeuBb4Bz4O57e1JTYWJsufVF5T6aDbD/ZxZNhTAN8VuCzXQiAACDIb9ds+dJX1URdDsW\n",
       "oymiNgu8DUqlqC159uyJWx4JW90BAJJp3DZ9fV/eNj3s45bgT3/7OStTKtFUT5MpbwedOU1xdOMG\n",
       "plq5OJVTF/otPM+3lNM4bJcwZcSL1y9EuVwM5/xYSJsHABCJ4ZyqNXEbcsIvp8dYmnvpp7L/CoSw\n",
       "jw625NRqR69wi33MTolyQWN7dqeOutfpyClSa31saykpz/GNbdSV+Ui22fkMyk0msl0NGmkal0Dt\n",
       "YKfH64F14UlFYfEpo+Yzj+/e4tP3PXtIY5XaOX//AU9aiPAGvx29ZKS3mHmm/ukz/tp712nKJGvB\n",
       "bwW/c5vO/YtTPiXA+Sn9x4EAr6fmnAYAcALYvnxGTp/45OEzt+zzyfqSTOJ8na+IBcxUlGZ6Jy8z\n",
       "wP9lprfx++X0DEUjtVI4JKdWq1cxhYKUlhIAIB7H2KLfl21GtYrb6iMx/L+r0kWZ6eJCETntRX+I\n",
       "4+ZNcWayKo2WyXxpjOHMk7pgKVzDT/9+7kn3xl17f59PWwhAU1s5MznGmhnpZoOe1CCjPu9DLR+1\n",
       "fbEYb5O8qcuevThi5SZjOobOnPevlifeb7VarNyt2zQ9WcCPfeY4st2uWhhX1epyauscSX/Ez+t2\n",
       "nbZta4vPEeVNA2em7IutSHuTyRhxqV9OfWzOgeVSvnczvWO3L6fEyKbx/5ptaLfl/gpHcE6tSp84\n",
       "7OL/HY7k9B29HsrlhTS+AAAxY22yt4/pj1p9Pn4GAKga95FK8qm6vfQH8r2fX+DaIhyRU8kEjfRY\n",
       "c088t5jzNiME1FZtr++xcjNP+rlkgk+L2GjQGKHT5tcxhQzVN58Rt13Wzrzi/3xtusayI7zv8IQF\n",
       "MBXMu9+hMeB0xPu5xYT+n/GEv6B3Ds0NsYCQ1gsAYM3whyOpsQAwGeP6wUy/6mXQM1PEyPM1k8Xn\n",
       "EesltC2hgNzWZBj7YjLlU5ABAPiN95GnfXmt4w9jnxdXpKU1Mw3nEiiXy8hr+pNjTCHUaMopdeJG\n",
       "fJ7Py2lk/WGMaaJp2cf7jWcnA8+9R9K8n5t41iPVDm8PMknUlZvvvi+2oWjGvFNZB6wI+m5nQMdz\n",
       "2uXnbjhEffxiLMQGfio3F9Zc3jA0G+fte8CTbtr24/Xe1OXUZc++wXRgk4WcMi2TxbH3PjP4A3GP\n",
       "q0iW+PF0prTvgsJnI37w3R+S+mCA5z168MQr7pKIoS+KBGT/1ari2Dz6ho+dAADCEWzfKn+4GOH8\n",
       "z2bQBzTP5X493MRnGI4j24J0BuP46ULW2Zu7mDKtKKTxBaA7Itay2A9nF6fiOeUK+q98Rr524bu4\n",
       "3h9P5HsKGqlFT47l/2vGRMUCtYP9Lu8TLk6on3TCvI/fvkXXTpEwr7NHr+nnR3zA27is8RmFhUXb\n",
       "Vm/werC1pG2NCqnV4ms0XkpsrrFyTU86aKfO26ryGV1/LEZo45yF7EOnRhroWETWxY8++AjlknKs\n",
       "fXKGY2/55Riub6SYHAhmVXf6KIqiKIqiKIqiKIqiKIqiKIqiXAH0Rx9FURRFURRFURRFURRFURRF\n",
       "UZQrgP7ooyiKoiiKoiiKoiiKoiiKoiiKcgXQH30URVEURVEURVEURVEURVEURVGuAPqjj6IoiqIo\n",
       "iqIoiqIoiqIoiqIoyhUgUL58Ix6MJgJueT63RLnLNxO3fHLUEOW2d4pu+bvfuy3KdXt4jcLbu6Lc\n",
       "oyeP3XIiHSTHfvzHH7Pn1JtVUg9E/KzcW+/fIfVIMMHKPf76OamPpxNWbj6bk3q7NzIa0WPP2djY\n",
       "IvV6u8XKJZIxUu87FVYuGomT+tvvvs3K+cEm9csL7LPT03P2HACAdDbvlre3t0W5N9Uj8ZjJ48c4\n",
       "vuPhVJTLZQtueX0Ddazd6YjnpNJptzxcyr99lluOW3757FtRLjjHPjs9rq34v9jW7gWOeywdFs8Z\n",
       "h/A+FrYtyk0mM7ds+4Oi3LiLujfsDUW5YgLH05lRva73+HsMBOg8GfjmrFy9cUzqCx8/D0OZklu2\n",
       "o3If2X78P9FQXpRzDDV69PAJOdbt8/eUzodI/bxywV97QeV8viQrZ/mp3DM7xMqdn5yRer/fd8s/\n",
       "/BFv3wAASusbbrlWKYtykTDqyPbmOisTjUZJfTbm7ZvfonPo9YuXbtmZLcU2BG08r9/i7SAAwLNn\n",
       "n7vli7Jsg6qdpltutAaiXDSeccv3v0I7k0nydh4AYDjE64UCKVEuk8665b/4D/9elNv80Q/csrPo\n",
       "i3KnZ8duudPBPvL7ZFtw7z3UPduW+2ExQd37T//Hf5HlAG1LOBQX5UqbeO8ffHidHIvEeTv7vR8c\n",
       "knq1ys+vZoP67mIpw8r9w88/J/VXz/i+zab2SH1DGNKAv+2Wf/PJb8mx2Zy/9p13cqSeW1uwcj/6\n",
       "+CekHoo4rNw77+2QeiHH27hWncYIn/z6d3isIev2ieHXIyFZbrnEuZxK50S5dhvn4S9+8QtRrmv4\n",
       "6HAY7bszl22Gz/AV4/GKuCCNA5rL8roCAFCvG3q14P3V7//X2C2b8c10KrfBDuP86qyIRz755BO3\n",
       "bFlyrD0aoe8eT+W2np9fGu2bkWP7+/vsOYfXbpF6Wuizbh9t0HTO6ysAQL2Jujif8foPAFAsYszW\n",
       "bDbJsQdffu4VBwCAwZD6ilA0wrehQefDp599wco9NWJNAIDZnI+LJlP6fzNxPiY5PKDxbzSNcyoW\n",
       "i3nFkSXq9kweXsjlcO6l0vx8HXliu0SCl3PmdGzabbR3h4fXveIuZrw5n49EuWJhzS3/8pe/lK83\n",
       "xWs0GvI6MpvF2D1kYwzjW/EKozmn3nrrLVEumUS/uVjKNsiMi6R+BQAo5bGtvT764XqjzYkDAMBv\n",
       "P0UdPWq/EuXqbfSTwbB88+2u4f/nfKz5+2Ooyz6g8fjSmXmlAQDgcJ2u473n/YFCpkDqyyUfu4TD\n",
       "dB5PJ7wtHHv8w8sTXFMuo/w5rQ7t84Vgu8Ih2kemzTWxPfHlr/6Jty2dLp2HmQyvL3OH+pFBH/9v\n",
       "MBj1irsc7N/E/9XgnxEAAFQreP/5ohy/FrM4X9fXdkS5QR8N1KSLfRlOyfFhv4V9UW9cinJh47lM\n",
       "KSvPr0UcbWn1RF7rTEeovxulTbecjvF6DQDw0UcfuuVCMS3KXbw6dsuDiWwHM2nsl95EjgXsCd57\n",
       "PEHnw2Qy9ooDAMDCT+fDaBxg5RIJbEO9JfvkQADtycKR45FOF/1hIEjndLnK3+N0Rte15TI/bvnc\n",
       "GqmvG+Nm0m7RGHye4u89k6HxajyBcyqZz3rFXfxL7KfHnjjB5PmbF245HOXnq9OjfR4Hfq5sFEqk\n",
       "7gjjXrugfffmHOOn2UiOzZIxjO18Nm+zAQCGU7zeoCf7rEQMx6pRkeWiIZxH+fSeW+715fmQSWJf\n",
       "DEey3GiIc3k0k+/dZ+Gc6rTk2D1go94vFih3eSk/36sbccvbb98V5bbvGM8Bu11R7tUL9P/dofx/\n",
       "b9w4cMt+H40vv/qKf2558YY+J965fcjKjTwxbzDEx8blCpXzzt8/0OqgLi8XtP9t4dnC2esTUs/k\n",
       "C6xcd0znSV6w26EAtVUnz3gbdLhL10TPn+I62R+UA/SA3/CHK2KzUg7n4fOjU1FuPsY5+vQp/3wE\n",
       "AGA0QFuYyPLPH3Wnj6IoiqIoiqIoiqIoiqIoiqIoyhVAf/RRFEVRFEVRFEVRFEVRFEVRFEW5AuiP\n",
       "PoqiKIqiKIqiKIqiKIqiKIqiKFcA/dFHURRFURRFURRFURRFURRFURTlCqA/+iiKoiiKoiiKoiiK\n",
       "oiiKoiiKolwBAhubEfFgf9Ryy3du74lyS9/SLSfTW6Lc8emRW3788Lkod/f2O2756NmpKPf+h3fc\n",
       "smXPybHLywp7jrN0SD0aSbByzUab1N90a6xcLJIn9V6nxcoNRyNSn87w97blgv/t7eziktQvLvm+\n",
       "2NxeI/Vs7jort5gtSP3lqzorNx1PSN2yLLfc7k3ZcwAAFn7ss7XNDVFuOuu75bkTFOWK+YJbHvbH\n",
       "8vVG2Ca/hX0ZiYbFc/qDgVvuVLqiXMOXdMvjoXy92Rjbd/fDe6Lct9985ZZHPeznjeIdThwAAAJL\n",
       "7NdlfybKpSPY1kFvJMpdXJTdctCW7ymWybnlbrtDjgWXvM5GAilSP3pywso1euekvn+dv/9YGu2T\n",
       "Za34jdpCG/S7zz4TxdqtoVvudnvkWDThZ8+xPSYyHudthuWLkvrpKW8L5nM6D9O7h6zc4eEBqbeN\n",
       "MTg6es2eAwDwX/7mZ275f//f/ldRDuZoC2fTc1Zk7dptWi/lWbmH34RIfdhDe7yYOF5xl621kltO\n",
       "p+TxffbyiVu2QyFRbtOwO6OJ7DvOz/F+o4adKNd6nDgAALx1e98td5uyzWi3q275P//n/1OU+/jH\n",
       "H7nlpV+2q5YP+y+ejIlyJv5Fxi0PGvI5s07cLZ89y4pynU7TLWfycv8fv0Dbks9Qvf7gww/Yc96c\n",
       "PaL/a9Bh5aJJqh+V5gtW7uBOhtRnToCV6zaojVws46zcaIo6Yfo4AIBkMuUVBwCA10dVUp9bfJw1\n",
       "8s4NvqnQH9JYYLFos3K5JJ2fG+vYvrNj3t8DAKSSaLsskMcXAO3sfD6XpZZLtrwK83oBvxwXxOM4\n",
       "TpmMLcolYyg3HMv+cGnEhJGQfL1UCvtyOsX5OpnLPjkZxXE3z/fS66GOmfGWl/kSfYePd1cAADAa\n",
       "YXzjjYVv3brFntMdUJt2cXHByq2vr7vlgRFHeQmHUKdmM7mP/vqv/9otLxbUN9rWwiv+ezx/l/rM\n",
       "+/f5lLezIc+4m203Cdr0/7bb/LrgN7/+J1Lf3991yx988F32HACAUgn7djqT9cBnoaH46suvWZli\n",
       "vkTqjjAPgxEaA/qD2BebO9tiG8w10v37D0S5h4+fuuXAihAukcC4KhKR16XhMNqGly9fuuVoWLZb\n",
       "ps0oFAqinGPE8Y7c/ZBMY1tDQcFoA8DFJdrto2Nsa0XQGwCA/gBtlbOQ500shn3UEtanv78G6qy1\n",
       "kI3GcoHrkXqjSY6tC3Hftw+/JHWfj583d9+ivj8aFmKSfxEr8gozmVG5o+NjtxxM8jbcmdFr+UDo\n",
       "ixD1PYvlhBUbetbJn/6Wn4eVKrWrM8Ftbm1R/xA3xrdR59cSAACTIfZFOiv7mM1NtC12SJ6IW2so\n",
       "l8+ti3K9IK6lLs4xtrj/2RfiOXMHz9nYyolyYKHe10/keX3tEO3q0Ss+HgQAiEZRLxtl7EufT+4H\n",
       "fwDnTb8vx/u717ANPr+8nq7WcU75BnLslDJiGp9F539+vcieU7tskHowzK9Ri2s7bnk+lg3c0pgb\n",
       "n/zuU1Hu0ngmNZkOybF4gu+LuY+usWKxJCt3cvKG1F+/4tdz3viy3eLnSjJJ4/s///M/d8ubW3y/\n",
       "AgBc2910y+vpjCj3xX2c/89f8etz38YOqUcCfB/VL+j6IZsW9NSm957ooc6GIvK6b3MXbVx3tCKG\n",
       "A/RFH/9kR5TrdrFvJ315TsVC6HtnxvPIvd0DThwAAH7+85+7Zb8t6+xwgvqXL62Jch988B5WfCvm\n",
       "gHFo6cO2mrGEl7Mz9AlmTO/Ft4PPKVI5fq4CAKSaaPt29lbYywDaiQcPviGHXr7iY4NMio7nxdNL\n",
       "Vq513if1g/0SK7eXpe2LCTFc3HieEUtR2x6L8eu+QZTGbOM+37dxzzojG+R9RwToOuAv/zUfkz8/\n",
       "pnZ1eojtm0xkPSjl0ab94Pvy8+Df/hZta6Uu+5hWB/tsMpbnVziMdiwU5mMx3emjKIqiKIqiKIqi\n",
       "KIqiKIqiKIpyBQjcfEv+RbRax195dw7lNyA7xlsQ/RW/bgaNX6Vrl01RznLwt6hEnv+1CgCg38f2\n",
       "9T1v7Z68OWPPWS/RHSi1Lt+OZoP++h0X3pxYK2ySujPl36bzvMAI0Qjeox3gf5E/PTsi9Ww6zcol\n",
       "PL+oxlN8n3U79BdbW3irtdOmfVku4y/FfvkFPChtG29LBOW3+0M23ns8Ko/vxHjLbbniFcG4sUPj\n",
       "8hjf4N+/Lr+ldLCzh/8nKOuibeOvuY+rvE4BAGzs4r3bK+793/6PP3LLtRN8O+r0Ob8zDQBg3jTG\n",
       "LSK/IeQ3XkJZ9Xb1zbvGrpqA/BbVw6e4G6/r2Tm0Fefflowm6I6s5y/5t4VHnrej4wn+jYucsdto\n",
       "1Zsrn32Bb5OWz+U32oNB/KW+WKT3sPTxbwEvHPpGoG3z7Wi16S/1mTQvl0rRt4U69SorFw/R8zc2\n",
       "sb3nl3y/AgD85Mcf4rXbcl9EjbcgzLdnTSJBaiOcBd9H8QSdxzvGm1PjHv+mJABAOIDj7sxluU8F\n",
       "r44AACAASURBVNIavgn08rX8Rl/T+F/7e/wb7QAAkQj6qVAQ53ggIL+1+8knv3HL9lyeX8MRzv+1\n",
       "Ddm//uMvcUfazTt7otzOAdqxTA51wHFkO1Mu4w67AMht8Dk4ntGw/NZT0LCDkZj8hsvShzoV8dH5\n",
       "9fg+/6be42f0zaR8ibf1e7fp22CjMf9mzJ2390jdAn5+Pf6Gzo1ef8jK5eM4/+ee17+jUf7tq5in\n",
       "z/sdPi7qtekcHw35+eW3qF7u7/C7A3c9bxIePTN28C3kt4VNGzcayHoVCODYT+fyG4LDIfZldIWP\n",
       "N9+09fuxDeGIvNPH3OUxX7HLZjRFW9Dv90W5ZBzfXNvc3BTlajWMg8y5t+ptYZN2m9+dBUB3pPhs\n",
       "2Qb5DbnZTB4ns339IR2n0YTf9RSdU93zB1dsJfpnikX5Ddnnz3Bnw/3790W5kLFzM+2JcYMBfqfP\n",
       "wmOqpsIOHu+OkfGY3zHueF6/7/Z5v+kDqm/7e/xOmESCzuuW8fbxZyvehH/3XXzjMB6T3wA1dcTb\n",
       "ZxKSv/D23a1bGB9WK3L88Itf/NIth8PyG+62jXM5nZbvaWqMzapdhCPDv968edMt1+tyW82dZt2u\n",
       "/EZlOor2bWW/GtktVl3v9UuMocczvD9zh5KXpfE283gk7wA27Vs0Iu/wCBq7OiayGYSFsXu/VKJv\n",
       "8y6X/HiMJ9SvzWa8D+336e7dnPAW8MU5jRGisT1WztQpAIBA0NipKmwODPhoLFur8v7w/LxM6osl\n",
       "Pwa5HN0ZLc2BQp7+fSH05WhA7fJ8gvpi7oj3cu8t3I1/WuZ37AMATEY4VreMbCpeMnHU+2qVj50A\n",
       "AB4+wN33zth4ezsuPyvyAc5/e8VWVb8f7dt8JNsCO4Djns3IcW6ribZhZLzlHRbeBAcA6PTxLe/x\n",
       "UI51ntTwuUA6Je8iLBQwjg/GV+yGSBjPhmzal5KtWXp2LGxt8M8+GjV8m9+/Ykf3P/73/9stT6dy\n",
       "/48HaFBSnvVuJsHP8WaP2oj5kJ+wAc/u+LnD+26fn67F0hl+3e3dDPyLX/wDnpOQY9T37+Kb+jd2\n",
       "90U5M3NGPMn7udIa1dGA8FzLH6BzIxTkr9fo0vlp7k7JFuTMDbkiznF7zGdWAACoVjHmHc9kP5dK\n",
       "YxwYzsn/17fAHRDpOD4Hefn8KScOAAAhY+fleEW8H7BxDFfFrnYEbUutVRblTk5eueWF8Wwin5N3\n",
       "e5nrtG5ddraf/xbj4WJB9t2JMMYjb9+VswH1u9gvjkP9VTLLr9fjnp1v0QK/427oyQJzIWRGCljU\n",
       "TqwXePtiB1H3kp5MDakcPw+fvaG7kEpJ3s72Lumupkevj1m5rc1dUn/zgs9IFPDM44MtzGR2VuF3\n",
       "RgEALBdoq548kZ9XWT5DX/ry+nxsZAeKRuWH8IkIzr3RlH+urTt9FEVRFEVRFEVRFEVRFEVRFEVR\n",
       "rgD6o4+iKIqiKIqiKIqiKIqiKIqiKMoVQH/0URRFURRFURRFURRFURRFURRFuQLojz6KoiiKoiiK\n",
       "oiiKoiiKoiiKoihXAP3RR1EURVEURVEURVEURVEURVEU5QoQKGxFxYPrBzfccqN9KcoFw7Zbnrdn\n",
       "olwonEa5uSO3yhd2i1YoJIq1y023vJbfJMdi0Q57zunpBamnoklW7sMPvkv/V4O/3smrF6Te6bRY\n",
       "uXQ6Terj8dwt97sD9px4NEXqiRg/Vs5sSeqVy6es3GwyJ3Vnzv/mVygWST2f33PLw9mEPQcAIJ4M\n",
       "uGVP0wnbfhyr2Xghyk1GqEvOWL5ep9l3y+0O6sR6MSue01g28PzLtii3vo7j1u/KcidHQ7c8HvI6\n",
       "BQCwnGy4ZduHum3HI+I50yH2Qywj39Np+dQtO5YoBreM8Z3MZMGa0S8W2OTYMOJnz+k06fzqjHqs\n",
       "3Fpxx1PfZ+Wq9Zpb/u2XvxHb2mzjeG7lCqJct4dy0ViAHLt24xZ7jh2mNmh7Z4eV6/Xp3K+3yqxc\n",
       "JBgjdWcyZeVymTypD4Y4CQJB+ff6733/O255Y21dlDt59dotX1R5nX309ITUb9yKsXL59T1Sb5TR\n",
       "Xl7bvS624cWjb93yYi7blmwJ7/ejjz4S5eIpvI/ZCt3e2kSbefwadbbRaHLiAADw4Xe/55Yff/NE\n",
       "lCtuoM148K0st7235pYv61X5ejs452/exb68LJ+L55xdHrnlnbW0KBex8drffMvrIQDAcoHHGjW5\n",
       "rdEo+qg3R1Tu4FqOPWc9WyL1548fsnKnL7uk/u49fr6G/XRe59NxVu72DTqvCxlet2Mx/Pvf/Ffq\n",
       "ryrnx+w5Ox4bMXNGrFytTHU+m+PHauHUSb1R531Rs0L/vlxge//sz/6MPQcA4OnjN27588+eiXLT\n",
       "GfraSFieX4EAjsH6umyDfBZew+fDOR6P82P2/4doJOGWS4W8KBePou9NZuS5Ui6jPTf1fDDmxxYA\n",
       "YDjEuGBuh0W5/YNdtzybyTH0dIo+YDyW52uhhPe79AyTdP3xkMahdiDIysXjeO+9Hu/fAQC+vn/f\n",
       "LTfqdVHu4GDPLVcrdJ2RSvB9FozQv3vja/faG9uk/uGHvO06fXNM6s+fPmDluv0aqQeDAVZu2Ke2\n",
       "qlRCG2f5+XMAAH71q1+55XfvfVeU293AGLpcrbAyzoKOc0hYSy0WdP1g2rvPPv1CbEO3i/eYz8sx\n",
       "12CAejUayXPFbN9uSb5ev4826NYt9AG1Wo0TBwCA01OMjfP5oijnGO0LrBin/hD1/vXxK1EO/GYR\n",
       "7dvUkeeuaU+CNu+TAADWN7fccjyZEOUuLjHmnYXluPHlc7wPO0D9XDjE2/pYgtrp5YLvs3SGxpej\n",
       "QZ+VS6XowtFxlqxcr0v1qGWsAYMB/h5nDl2zTAVVjERpX2bz/NosEKB90uvNWbmBx1dfP7zByrVb\n",
       "1Db1OqjP0YjsO/I5jOH8AXk9ffLmOV4vzNt2AIAp4H19+5CPxQAALsvYvmIW29Dp8s9KAABScezb\n",
       "yVh+BjSfY1+mw3IsMDKeEZSKG6LcoIc2aGMD45FUKiOes7TQ18Zi8vo8kML+CgVluZNzjLHiK663\n",
       "NPq/VmuQY1ubu15xAACIhum8ycRLrJwNOE++/PRLsQ0hH87j8YR/PgUAkIrh2ET99J4Gdf68RJza\n",
       "35jwDC61RWO2MyHW7g5pHzkL3mb4LPoMw/LhHLCm8nh0angfs7S8Rj3cxrGpdhusTKdL46CtEr8m\n",
       "WlrUd3e7rBgswTs3cP73B3Ic2e6hbpfr8pq308P7/elP/0KUG3XwfyUj8jw8fok24+/+9r+55XxB\n",
       "jrtHRvwwnPI2FgBg7wBjgR/+6B1RrtvD5zTLFQ8WU3GMR14+P3bLU+F5LQCANUPf0ynLcgfX0Xf7\n",
       "ZvIz7oCF17OD/DM3AIB2H2PA3W0693d3ed9h+akP6C9tVq7gpzpmLXjH2arQtcB5m58r3z5HP3T9\n",
       "NtX/P9m6y55T8uhH9eKClZsMads2r19j5bptOjbrO2usXCxHn7kfnWGMNBvzcxwAoHaG914Jyf7w\n",
       "4PaBW86U5FivfoT3u78p+6x0BPupITyv1p0+iqIoiqIoiqIoiqIoiqIoiqIoVwD90UdRFEVRFEVR\n",
       "FEVRFEVRFEVRFOUKoD/6KIqiKIqiKIqiKIqiKIqiKIqiXAH0Rx9FURRFURRFURRFURRFURRFUZQr\n",
       "gP7ooyiKoiiKoiiKoiiKoiiKoiiKcgUI5LdS4kFnMXPLjV5XlGu3LJRrLES5SDjulqeznih3/8FX\n",
       "bjm9kRXl8uki/t9mnxybz/lzDvcOSX02HLNynUad1M/PLli5bDZP6oVCgpX79Hdfk3o0GnbL+3s3\n",
       "2XNs26b14JKVOz15Teohf4GVWy48Y7PkO2k+8JP6xMG+za/FveIu6WLULXf7NVGu28X7sCEoyrUb\n",
       "bbdcPeuLcpZxG3s7m245sJSv3bjE8S23ZZ3tA8r1HUGpACCf3sFrt0ei3Dc/+8Itb26V3HKxJOt5\n",
       "0xin9c2iKLccYludidyGFy+fuWXfLCzK7abX3PJ06NG9YYc9ZzG5JPUba1FWrpTOkfpmlJcbGbr3\n",
       "xZvnYltjsSSeM5yJcoVizijTPt/cXGfPOT2vkvrJ0Tl/cT+1JfM5PwYzi9YzyTQrF7KpYCSHtnp7\n",
       "b5tvAwA02y23/PCbr0S5Vy9euuXCDu8HEskkqRfWMqzcL371S1LvNgb4f14/Fduws4b6HE3aotwH\n",
       "799yy52+7DuOTl64Zb8l6/Z0jjYuHMH5HwzJupMvYB/91X/8D6Lcf/2bn7nldIbXawCAcALtUyob\n",
       "EeXOKq/c8uY+jsfGjmwznj/H+4jGeb8BAOCMUWdbzaYoF4ni+yGbGxui3GiMY1OvHZFj79/dZ89J\n",
       "b1P/9+SrY1auM6D38dLPt3c2DZH6vQ8OWblshtowZ8L7rLgRt9w6vEaOnR7zcdGLR/TeY0lWDO5/\n",
       "/gWp//Dj77NywWCA1He2t1i58hm1TesbaO/iMcsrbsihDUqm/aJctYa2JTDjYx0AgFAIx+Dg4ECU\n",
       "SybwGj4f6lg6zdtEAICFEccEAvJ7S34fzv+1Ih8TAQDks2jT0hlhoADA9mG/1JoNtzyXgk0AiERw\n",
       "Xpv35+XmTT4G/JfgvZfLZVFqOnPc8sUFlavVeD33Ns/26Bwn16jVWRkAgFYL+8hxZLs66KLNmI2p\n",
       "zzx49w57Tq5I44d4nB+3RrNF6uMh75Ntm97rvffeZeVCHpfy+Se/YOWyWdk2mzrhZTrG9iYS8vzq\n",
       "9zEuKhb5mDASpv504Y3//5lkkvr+Xg/H4/lzOeYyz+t0+HgQAKBQwLm3FNYcAAB/8qf/yi03Gg1R\n",
       "bq2A9zuboV5J/QAAsLu765YtvzwPQxEcYJ8t28Gvvv7SLXd7LVHO70Oflc7ieK6vlzhxAABIGXFp\n",
       "3+HXp79vIF6705XXR+kk3lN7OhDlNtbQT6bTdO2UiPN91qxSW1LIC7HBgvrkNyevWLF6m9qTaJyf\n",
       "KyHPRPzg/Q/dctjm23p0RNcm5XKVlRsO6Xj2+7ztCsdoH917731W7sd/RPtkOnRYuWiY6pszH+I5\n",
       "Y3ncTo6wL2MpeX2+s41rhmRS9nOPX5y55dEK35bKxNxyJIK2ZtiX4829vT23HAzKdjAcwrg5ZMlx\n",
       "S8CPx2w7JMptb+P839/HsuPwYwFA/XoyERPlzgYYh1pzeQ3jN/RyfYOP3wAALDB9N33u1KgNveIA\n",
       "AFAq0udQF0dtVu7zzz93y4OBvI5azrENG4UdUa7bxmsUUvSeMilhXRujfu3svMLKJUN0rXljj1/P\n",
       "2VE6hpUqvz5vNGmsnkpin93ef4s9BwBg2kXf9vL5sSi3vof+p1DIszLVDrU5lo/Xv3bf41P8U1Zu\n",
       "4XnGUFjHeT115OdfwwnqRzItz0O/MQbjqfxMaWsNn7tdnsqxwMXJqVuOBnG+Hr9+yYkDAEC7hzr/\n",
       "/Y9+KMq9d/e7bnnYl9eykxFeb9CXn2uPhqjbWSPWCVpyf4GFceRGXp7j79+665aXsgmChWGfZrOJ\n",
       "KNdYYJ8no9RfhRJ8HJMp0GcT9QEfQ0zHngbOeJ9wefSG1CtveLl+C/WylaK2/Z/+7m/Zc4pp2peJ\n",
       "CB/rPX/ykNSHU14XE54F+ULo2nGL2sj9bbSFzlyOI50x6pXfluP4qrFGyq7Lch8UMYaY9+Xn1bk4\n",
       "+p/RjI9bdKePoiiKoiiKoiiKoiiKoiiKoijKFUB/9FEURVEURVEURVEURVEURVEURbkCBFpn8rbh\n",
       "pZGiw2fLW+e7A0wf0WvKW/sWRnqy8VxO9zCd4jbO3pkoBmEHt0pev7VLjgV9a15xAACoV+j22LDN\n",
       "bx2ORenWyHiI39LXq9NthJvbfNql69f3SL0/xHYMp/xW3JQnDcTOPp9+qrBOt992avx2vtMLuu11\n",
       "OOD/by5NU6FEjTQR8ZS8fTkYxGO2T94OvRjidt6lzacQAQBw5jg22aK8Hd1xsC+tBG5BHczla4ON\n",
       "7Ts8lLeFz+e4lW5z7ZYoZ24t/+zTZ6LcRgm3/YaMYTp6yac7AACYGnLVppBaDAC2tnAL5Kwn9/+g\n",
       "jVsP35Tl9F+5NKaZKOZoiqRYRtg+a1FdjCb5ebO5sUnqYZvf49p4jfbEL6RtAAAwp8pkhdFIFK67\n",
       "5T/6Dt0q3B/z292bFZo+0RJ0tjeiW7BDQX4MMhm6PbPZ5NNMJFP0fDOtSXQppx7Jx9B+XtTl9Dul\n",
       "GF5/Xue39l6c0+3PnTM+3cib5zR1xu3rmAZr547sO558ifq3u39dlKvWUQ+OTuXxLZl6JXcRSXWz\n",
       "qOIW22RCtgUJI81XryVvH99ZR/t58Ubeth5d4nbeu0KKTwCA16eYYmcjj9cezVakatnBlFqhsJzm\n",
       "rj9Bn7xZklMGDnrYR7YjbzPf2ka/603r5Uvy25JfPKTbwsdt/vp3dqn9HQkpZ0c1Oj+/+fqUlfN7\n",
       "2nPv+i4rl0ugTbtx6wU5Forw88bncZOzCZ92xQLqa9sdPi6aDqmvfvnsBSu34Um9l8/ifKhW5HQe\n",
       "8ZiRjmpFvoFMCnVpNJS3mfv9OPliQooeAICC4Q+7XRzPValHhkbstCql09JIQ+C3ZN9hptFKpeR0\n",
       "x8kMpiupGul/rRWGxg7I9oS0IY7/d7IijYZ57/2BLDca4bGRx68tgdexXpfaNNvPpwfx+XB+PX7x\n",
       "RGxDwkgb4l+REqNnpOIolWjcPnH4VEHREPWNY6EvPvvd56R+WubTNNdqNAVePsvbzL1tqm//81/9\n",
       "FSv3//zD35N6Mo46NpvL88tvxBZffn1flPvpH//ELS8DfB8tPWus8ZS3q5MaTaX25sT0r/K8MVMP\n",
       "fff9D0S5iZGa6n/4N/9OlJtNsV/2duWUkEMjJct0ivHIqhRzYyONaTQqp8CKJVGvbJDtWyKG15gM\n",
       "5BQx+QKmx7looI59/8OPxXPKdUyZdnn2SJRzbLynbofXawCASQV9lNORU2/FElmjTPU/ZAupAdPU\n",
       "3wwnvG7HovT8F0d8yt+oJ82zpH3ttidt4xjtYnp90ysOAAADT0rqeoPvs2iC2irfkrfhQU/64FCA\n",
       "9wMBP7VNjR4ft52d0fYFg4b9Xcg2Y28fdazVkueA6SsDK+Z1+QLjsRXLc0gb6b+DfhTMZHKcOAAA\n",
       "rG9jWsNkUl6j1qs4V7Ib8ro7Occ1V8Qv91FgE/3rwvhsQfdCTpHaM3xtZYXNDgTRtpeK/DMaAIB4\n",
       "GMc9FJVT1l22MNbL7dHr2TN+QPxLj08XUoguLWPdM5WfwUUD+H9iK9ZR7//oe2654Ln3Sp1/vuRN\n",
       "69cb8qk8pw5dF0eifEOcOV1333uLTwk79KR2/e0nn7rlX5b5FHMAAJt7+FylsCK9/iKD9qDk49Og\n",
       "rxWpfUvZ/BxIeOKeywr/3GcWoPFq24j7wlHZ1qeNVOrVS3k9t7OBa6I7N+T1eesS58rf/Oz/EuV8\n",
       "Do59Ood9NLfkfi1s4Fy5991roly2iG04fSM/J+uO0EYuvPPGIJ/GeZ0z1lWjurzu3jRSIS4ceeKc\n",
       "HaH/ujiW099bDsYWtuBfAADuP3zslg/uUnvZ6fCpAS/PqO2bCvFOzPtsbsH3WShI27f1Fj+m77/3\n",
       "E7d8/JDeu6/Lr/t2rtFnE5E1Pj5/1nhM6mOH94f21PPpFIuPCeee2DpopL2NpuTU/dffwXvv9WVf\n",
       "m1vD+WvZcprgcBR9arshr/v6hu9I5fln9brTR1EURVEURVEURVEURVEURVEU5QqgP/ooiqIoiqIo\n",
       "iqIoiqIoiqIoiqJcAfRHH0VRFEVRFEVRFEVRFEVRFEVRlCuA/uijKIqiKIqiKIqiKIqiKIqiKIpy\n",
       "BdAffRRFURRFURRFURRFURRFURRFUa4Aga8ffS0ezJQKbrnTG4pyF2+qbjmbKIlyBxuHbvn8rCzK\n",
       "Vc3rba+Jcrd2993yq6dPybFe22LP2SwdkPp41Gblnj16RerLxYKVS+WXpO746qzcjRu0X4KhlFt+\n",
       "+PQRe06rf0zq8VKalSslgqQ+nnZYuXzNJvX5fJuV8weSpN6oN7HiW4KIccxaIVcs4pgunbAoFzjA\n",
       "PqrXmqKcz8JrTGcTtxyOxMRzUinsyxnMRLknXz1wy/lMTpS7df2uW97e3BHlZjP8X/UKjtNsLrch\n",
       "ac/d8rd//1iUu3YD59dkeSrKtfs9t+xLyPcU2sJxslNzciwW2mLPWfqp/o+nl6zcWWtE6vnkbb4N\n",
       "kbhbTsRTrAwAQLGI9zGfOaJcb9x3y7MFlavUeJs0mU9J3Zl3Wblag957oVBg5epN+lt7PMHPgWqN\n",
       "zuP1DbQhF+Uz9hwAgFIW5bKCzQAAaHYrbrnV5u1gJkvtVnGLt+/pPNWjkWEva52B2IbNQxz3/kS2\n",
       "GdM59lGjMRLlHr/4xC3nirK+jMY4hgtj7lkL+T2IpYX6spm/JsrdvH3DLX/76BtRrlZrueXjo3NR\n",
       "LhbHOTDsof4GZNMJm0Wcn+OeX5TrtbENVoD3mQAAgRD6jplPnl9OCK9xUqM2yLfgx80eT0h9czvD\n",
       "y2WoDWo2+qzcN4/fkPpWd4OVi8ejpD7e5udKw0H9tQK0rTdv89fOZajvuTzn25pNBEh9OeLjjItq\n",
       "g9Q//eJ3rNy7790i9b1t9EWlwr5X3OXFE7QF/kBQlHNmeMyyJqJcOIzKGTVsuJduF+fhq1cYcy0d\n",
       "vh+89Ho98VjUxv+7XMrXy2TQTvhXzYEAjpVt43zw+WSbMZ2i75jOxqJcuXLx/+l6jQbqwYsXL0S5\n",
       "wRD7pVqtkmNSn+1s0XgwmeJjg2AQdeDiVPZDmSzGkaMBr/8AAOk0zrvr16+TY/E0bws6fXoPx69e\n",
       "s3LHx8ekLvWZ32Mi+50qK1fIJEh9nODnyk9+8kekfvIG7XurwsfnAACOg7a105HlLAv1dDDg/Wv5\n",
       "nI7NnTtvsXLDAdXLv/u7v3PLd+++LbZhPkd73B/J68P9nV23bM4hL62W4YuWso/x+/Heh0P8v6Ze\n",
       "ejH7dTyU44dcztC3FTbj7Az7tpiXY6xKveaWF8b1AiG5Hyp1jEOf3pfjByuEccu1HXmdfO+H77nl\n",
       "09OGKPffv8b/9aZyRI7t7ayz54z6dOLks1lW7tmzZ6QeFO7/3r17pD6e8Hr12eef0/Yd4rr+zt0b\n",
       "XnEAANjaprHrmzcnrNxsRv3aYhFi5fw29RXpHO/nhkNq+5684J+5VC7o+mF7G+fNbCyvD5sN1LFc\n",
       "PiHKvX3vJl5vKvsiG1BPnbHs430JnFOmT/nLv/xL8ZxOE9vablZEuUYd/WEoGxXlQkGMs2ZTef3Q\n",
       "G2D/+QB1NhuUY+N6F9swD01FOXuB14ismNdjC+1lvS77TbCM5ygWDfLDEV4XS9kiqbfLvL7k4mjf\n",
       "Ohf8syoAgL23cH1TqV6Icrk1nO++KO3/s6evvOIAAFAs0vjGCvPPdqJZqsuxhKAHfjoP/Wk+vknk\n",
       "6P+98X1cn2+s3fSKu5TWN93yaCLPm9EU/Yrl433RbEz7aOLn9aXdpr6nO+PnYTTm8T3Gs4p2n1/T\n",
       "A1B/mEryMRYAwFoe77123hLlnt5/7pZ31vlnQwAA8zGOQa2K435tn19HAQB8/NOP3fJsIceR87kZ\n",
       "B8nrgrnxfDSdTopyQR/q1eUZ+sNRV7YF8Tjao3JV9rWhLNqC1JYtyq1nsV+2jOfnXjaMuPnBU2pb\n",
       "RhPeZrQ6NMbqC8/CU5EIqa+ViqzctUP6vGUsPAOuNlBXnr38lBxLWnxf7HXpOIVt3ha8+9b7pN64\n",
       "5GNo29MnUZvvIytMbUvXiB0TaTneTKWxj5yl/KAmlsL7ev5StsfzGc6bRFzW2Ukf7zeZ5mM23emj\n",
       "KIqiKIqiKIqiKIqiKIqiKIpyBdAffRRFURRFURRFURRFURRFURRFUa4A+qOPoiiKoiiKoiiKoiiK\n",
       "oiiKoijKFUB/9FEURVEURVEURVEURVEURVEURbkCBApre+LBeBI/ljQa8h9kBwBYL+BHJN+7+X1R\n",
       "rl/GD2DVTuSPlCaW+HG4xUD+cNo//vwXbjmdox9ODoXz7DmnR/TjjW/d5T+OlaKXg/mU//hnIk9/\n",
       "N9tcO2Dljl7Sj6A9/gY/KFtr8h8dS5ZoI1q9OSsXyVK5pf2GlQt4Pgbnm/MfKp2MaJ8HY/hBrkFH\n",
       "Ho+p8SH2RJT/CDAAQKuOHwxbLPl7AgDoGx8jdkD+eNrS+NbW1t4ent+XP/p2+RI/MmgF5Y83Fzfw\n",
       "Q2rFTEGUOzU+mnt+Ls+VXBp12zY+9hew5Y+5ZcL4kTE7LX94MhZBXZwM5Q/rVqqoi/5ISZSLrqHO\n",
       "37wT8RzlP8LZa3k+DncRY+XicfpR8es332flfvOP+MHy8VjWgadP8KPx6zv8x2QB6EfKpw7VPV+Q\n",
       "/5jb/iGd04kM/2G2/ojO8ViMl2s0qFyvx9vCZIx+GPbla7QZqaSsixkLx+DF8XNRrtnFj1X7hA+a\n",
       "WmH6sbrxjB8Df5h+kDKTR/t7cSrPh0IC5fIZ/gOBAAAvXuD4+gNeXURGYxzT80v5/5bW8WN4Ph/e\n",
       "e6suf6zywZMvUW5N1sVcBu8pW+Q/pgcAMOzjhydbddlWzeY4rwOGyU5H5A/c9qP4IdflULaxuYzx\n",
       "IdYVH5C3gji+3rE2uaiiXdg7oHPctnlbsLCorYrH+XZ0u/QDlffu3mHlXj8vk/r937xk5ZIRGiOE\n",
       "4mVW7u138MOkl2XqW7c3+Hn47r09KrfJ+/j1Eu2j5Zz/EHN8jX6EPVng52txk/axnUB/3RrwcQEA\n",
       "gD+IfR4K8XYQAGA8QB9v2/KHzm3Dn626XrOJH3OtXGL/r/rgeyKBfVSpyHN8dwPt9mwmfwjbstD/\n",
       "mx+n92J+KH65xH5Y1VbzepGIbLfM663qL58fx30J8sfuJ5MJW/b+L5NWi9q+fJ6PocOGT7BtOR4x\n",
       "+ytkyx+7nxtx6P4+nQ+VBv+R577HZ14Ktr7dph+nlWzcYEDnp2/Jx7mVSpXUD3f5PorEqG02/Wa5\n",
       "In/AfAk49qXimig3neL1bCF29PmoXkq63enQvjSvXVnRVvP/Sv0PAPC9733PaJPsYyJCs7gzAQAA\n",
       "IABJREFU/OXF1CtzTkn9AAAQMHy8Zck6u1igLkYj8gd4NzfxA9eTmey7o8aHnV+d4segp3PZHk0M\n",
       "W2XLUxyifrz3Dw7vinLX13bc8o1d+YPlj89xbVw7ouP+8vUT9pzD3XukfnHBf6B+MKJ9dHCwx8ql\n",
       "0tT/PXl2yspFPbG15cOOSqR4e7x/QD8w/uQJf08Li/q1ZIaPW1Jp+vdsgY/HWq/PST2d5/V0MqWx\n",
       "9uW58fHwgeyXbh7imFYu5PmaNu7j9p1rotzIsLmbOXkdPzGeJ4wnGMt2e/IHzLe2McafDGW5w8Nt\n",
       "tzy15WdFFy2839MT+XpB43lEPIo6Vpvxz3UAAIJ+PBYMyP3fKKNuhxw5JlrfwLV2JMnHeQAASxvj\n",
       "kWqd3rsvGPeKAwCAFaA+/cEXn7FyX3/9wC2/fecdsQ0XFxdueedwR5SzIzjXnh49JMeCKb7Ppgu6\n",
       "dupP+Ni4c0HXBTPheVUylyH1LT9vtzd3Nkl95ybKzVryuq/TQNuynK94T96w1eU6r4u1Ko1n1oXn\n",
       "r/U6jdlmDm/T2p0BqS/8qDvJpPzBdzMWKGT5GAYAYDrEmwoEZP9aO6u5Zd9Cfp6WSqL+ms/nfvqv\n",
       "PhbP6Yywz/ojPh4EAChXUWd9luw413KGDRrJzzN7fdS/bALnbm8pP1s7LWN82Frx/HHYwnl9U/CF\n",
       "AAC+Nl6j2nokytXa2KbmsEaO5dc2vOIAAJAs0ectkzGvB82KZ274eX+YztB52Bjz62lniTH5dz66\n",
       "To5tpvjnJZ0uHXffPMjKpZL0nkZB/jmNtaR/j8Z52+KL0TXb8SXGI+m4rOf15rFbvnFbjs3qLdSX\n",
       "dq8ryhXDuBaYrvBZcx/e1xz4PtKdPoqiKIqiKIqiKIqiKIqiKIqiKFcA/dFHURRFURRFURRFURRF\n",
       "URRFURTlChColmviwfEItzbFInIKC5jgdqOXrx+IYpU3uFWtN5a3Uy6X+L++8x0+hQsAQHeEW2Qb\n",
       "HXof4xm/ZdSy6X00O3VWLpWkctkinzJqOKDbb2Nhfuubb0G3p82HuA0rFeG3UMdDdLv46dGElSs3\n",
       "6BbPTC7FyqXTdGtwPMunU6hVPNvRM7hNLB6Ut3j2athn/Ya8zXnm4NbLSpnfAggAkM7iVr1ARP6/\n",
       "ZrqHVh+3yI2H8ja4iZFeodVti3JFI1XTqzafJggAAKZ4v36LT58CADAe4TbMiZGKqlCQ03W9aGCK\n",
       "rlKJH1sAgPkAdTQa4tMWAgAkQsbWcovXKQCAD27tuuXwjM6TT77l53mrTLcUDur8dvTTKNU9a/KM\n",
       "ldvcw5QM9teybcmVcPvtbCGPe8TYrvnoKf2fYoq9AP1tPDTmbWHIptupOx1+K/J8Qbcee1PB/IF0\n",
       "mtqcMyNNWrMl62ylilvLuyt0OxbH7e1SejFzKy4AQDjK6+nOJk0BYBt21g7x20wBAOJpTPszs+Tt\n",
       "spkUjlu1Kqd7iBipGi1bfqdhNka93zBSOPqXckqX+RTbMFvK9q3WRt/TbMlbdoMBnAPT8YqtwmW8\n",
       "RquOtj6Z4H0NAIBloX2bTOVt5s4C+6jbk3XFMlKezCdyvw4G2K+HmzfIsbmQRnPcoakQQgF+DHwD\n",
       "aqs6R1VW7tCTMu00xW/Hf35Mfc/BOW8L/TdRl7NxuoW92+Kv3YzSuR+K8TYjlqZ9GQvxW+zfPP/a\n",
       "0yh+2/rCs6V7bRN96KC1Ytw6aJPGQipbAIBIHP3PdCr7ufkCjzmOLDedog8003wFg3Jb02m0s/2u\n",
       "PL/MNHCrUl34jZRpESF++31bsc9JyjRLtgXOAudhvy/72r4RtwzHA1lugHLWCntppuzqDen8l9LR\n",
       "2SHq/8Jhfh6aKfmkVHEAAAEfti8npIoDADg+wrSDoxGdT/U6H587c6r/JycnrFzL44OlNH99Tzrc\n",
       "9SIfZ00m9PzJjE9hs52naSbCEdSrbp9fmwAAlNZwLbAq5e/Dh5hK5/AGn6rJm06w3+f1ajyh975l\n",
       "pMFpNeR12pqRNkQaJwCAWAzv/exETjFJ9LkvzykzvWA8jrHTirCbpLNJJvmYFAAgn8OYq1qR1yam\n",
       "LbAs2VZNDLmckSqr0ZR9bTKNPubd9+V06UE/9tE7N98T5SJTtO3tqZxWrttFmzEYUh11Rry/eT6l\n",
       "KdK6HT7WSCfofCpd49cnv/zlL0hd8kXJDLXnZirlgM0rQsaTBj2b5X3CcEJT/iyFFOQOUHuezPLp\n",
       "O3ctmqbREvxF3rNuf2WkrD4/ktManZ2i7TtYkYprfwuPjVekzU8bKcSsmZwmKWw8CzB96HAkx5uN\n",
       "hlmWnz3ZPhzD0qGcYi5ooS+zgnLs/tKIFX2GX7J8sp1ZGLa+kJCvHQ/iNbY2tkW5bAHHt9mV0/CZ\n",
       "8W/c44ODwvOXRIrq8mTJ+5jv/vBdtxwW0i0DAITH+H9v3r4lyl0a6U47XeorHIvXsVGfxh/9Ph+P\n",
       "TGc0vmk2eP8Vb9KYdyHon9/zXKDZRGW0bTnmWstj3x49k/3X2RGmFwv6eVsQCtO0fgHBBsV8dNz7\n",
       "Vd7+jhaeTzEk0BdlCnLMW8zinFoKMQwATcf6D3//S1EubKRPjURXpB03/Mpf/Md/j23wyc47FcZ5\n",
       "0+7LKRyv38RnxZ2qHGPdv49rqX5LfpZgfs5hEcU5nspucuIAAGAZn2J40+DThwIAnKOqwKAt24K1\n",
       "HOpLMS+nhJxYqB/ZIn22dlnn22HGTgAAoRCvs/ltOj8TMX5eB+J0fm3k+Ri628GxnvXoOQs/f+1Q\n",
       "grbt/JL3HT6gfZQQ1nODGY15h3M+HmtX6Ly7fvttt9yp8alnAQBmDt5Xf8VvHU+fP8W2xuXPGyyN\n",
       "5zSdFesHXxD9dTDK21Xd6aMoiqIoiqIoiqIoiqIoiqIoinIF0B99FEVRFEVRFEVRFEVRFEVRFEVR\n",
       "rgD6o4+iKIqiKIqiKIqiKIqiKIqiKMoVQH/0URRFURRFURRFURRFURRFURRFuQLojz6KoiiKoiiK\n",
       "oiiKoiiKoiiKoihXgMA7d26LBzfW0245HFqKcpVaxS0vHFuUi+fabjlZisqN8uOxuTUW5ZYBo607\n",
       "2+TYaOqw53S7tH520WLlzi8npG75h6xcMhwi9U7jM1Zua32N1P+n/+Ujt1yu1dlzmiPa2HmQv6eh\n",
       "MyP11mWIlWuV6fX29kqsXDxUIPXpCO99OpH1IBGJueVgNCvKNfx4jctKRZSbL/H/Ln2WKGeHIm7Z\n",
       "MnRnOp2K54xGA7d8bf9AlAv68XfRfoPXFQCA3QPUv1F/JMpVyzjWfhsVOJwIiudEnR08x7hXL4sA\n",
       "6kF2i9dXAIDkOvblJ78+F+VOnuE99doBcuz1eYI9x7bp/N9aW2flQnaY1CejGSv3+mXZLc+W8m/U\n",
       "gZgfr9WT5Xq9nlv+4ssvybFCfoM9J5ZMkXq/z8/Dre08PS/Mz8O1ddqX7XaTlQvaVCc2tvbdcqUs\n",
       "62K7g8fmi4AotxjgPPRbaVamfNYm9e+9z4/nkXVE6t066vn+Nn8OAEDDsH0/+fGfinKbebQt7fa2\n",
       "KPerT1DvG82qKNet430d7tzE8x88Es+Zz1DH/u1f/Ikol4yjvjx48FCUW0zRTvTKvA4AACyXKPfy\n",
       "6Ylb3lrfFM8pNy7csh3OiHLhCOpHLp0S5eZTnJ/2XLbFzhznRv0V9Wt7t3e84r+X85iqqJ/3HdUR\n",
       "tavhfJGVu//kMalv3eX/bz9KfVlgzPuLL/8JfXrlko7TTHCHzTq91uEd3rZE+3R+QTDHyi3BGwct\n",
       "WLl+j9rRl8/Rv+5s3mHPAQBYLIx2+OXxnc7Qb/p8vH0DAJjNsB2TmeyHFwu8j5kRszkr4s1kPO6W\n",
       "41HZH0Yi2L5gULaDnU7HLRcKBVHOvCezrUthLAAA5vO5W3aWc1HOMuKMdrstyo2MWCwSCYty3QH6\n",
       "ObPdAADhMH9eKETHczrlY+9wGGOs0XDAygAAWBb6w9FIjomSyST+T4f2UTDIt9XxuHgr4Gfl9vf3\n",
       "ST1Y4X1CoUR9dybB61UhS+MeC3i9Gk3ofbw6OnbLTe8ixGDhr7llx5LXUu/u3HXLyyUfj7Q69P/E\n",
       "43zMFgjQezDnw8yRdXYwwLFfpbMVo8+TsZgoZ9oCyyfPf1OfQ0aMZM41L5aFNs1st5d0CvvIG8ua\n",
       "xIz7KFfORDl/CK9Ru7h0y4+fvxLPKW5gvDToyrbz+h7GQdm0HBMVw9hH3aMXotz773/glhOe+dAR\n",
       "1mnVdp/Uw+E8K5dJUJ/++CkfZxXXqP+r1vj/G43RsYkb66eTsxOvOAAABH1U9+IJXhcTSc+ziQC/\n",
       "NrGA2rTZtM/KxRPUrq6t8bH26TFt92yKNvzO7X2vuMvRSzyvVr0U5ZaAdsLmzSUAAHSN+Z8rrYly\n",
       "8STex8SwE/OZ7A9Dhs9aymEGXNbQZkyWfP8DAKztYQzcH9REufUsjkExg+0e9+XnS+vZLbecWBE/\n",
       "rK+jrYrF5edazgI7fX9ffu729BnOjUKJxo3TKd+OqUM7M73D2/rFHNs6m8s+uV7DNeSjx09FuWIR\n",
       "53v1jMb7kxnvE7avU12Op/l5GLBoX/qW/L3PPb522uuwcsEJfaaXDmAQ0W3LevDi5Ilb7lz2RLnr\n",
       "BdSX9+/eY2Vu3aIxuPTM4ZPf0eeIZ4YumvgTtE+OKq/d8myFbkeDhk0KyM+efv3rT9xyPi8/06uf\n",
       "4XwdzmWf9YMf/8gtl1v4bCeVk6/96hU+W1jl48+f4L0/+uwbUc4kHpHna8R4nrlc4rx59lz2oeUG\n",
       "6nxnOhHlQoYBnqwYp1kU29duyXHL1FgfFrfpc93BkLfHyShd7y9s3h4slvTvvjgvN17QeLNf5uNS\n",
       "nxEzJ5N03C/P+b7tdal9i4Z5fXl19IbU375xyMqtXafPfM9rb1i5fovasAffoi3IhOVY9tD4v33v\n",
       "Gt+8fg/Xc9G4/NyyXMU4KCirLATDeI3JjH8GrDt9FEVRFEVRFEVRFEVRFEVRFEVRrgD6o4+iKIqi\n",
       "KIqiKIqiKIqiKIqiKMoVQH/0URRFURRFURRFURRFURRFURRFuQLojz6KoiiKoiiKoiiKoiiKoiiK\n",
       "oihXAP3RR1EURVEURVEURVEURVEURVEU5QoQ6NWW4sH7r5+75VhM/n3I8c/dcnswEeVmTsgtr+1c\n",
       "E+WKuTW3XH7zRpS7qFbcciA8Isc63S57Tja9Q+qOk2DlquU+qQdDM1bOn8uTerPZZOWOT+l9bJWx\n",
       "b6OJAHtOIk/bFg77WblcPEzl/CVW7uXL16T+xWdfsHIHe7uk/t6799zy8fiYPQcA4Oj03C1f3+f7\n",
       "FQDAb+P9ZvKyXDyF97W2sSHKXV60jPKFW+53B+I577591y036lVRrtXtuOWgJc+VvW3Ug16vJ8oN\n",
       "RnW3PDd+c620jsVzYD51i+HAjihm+y08ZSG31R8ouOX17aAo97p86ZZDqSE59tadIntOAOj1nBnf\n",
       "jvXSOql//puvWLnr1992yx9+59+Ibf3Z3/7cLRfylijnM2zVzJmTYy9ePveKAwBAwKY6mkimWbnJ\n",
       "hNq+wlqKlcsUc6SeTtl8Y2FB22G0PbgRE84BGA/x/n1+eXx9PtS/Lx/y/X/39h1Sr1d4+xYL0P+z\n",
       "jOA9nR6/FNtQrbTd8teprCg32UeblErKNuPHP/zYLTfbdVHum0ffuOVQMGJcW27D2TnamaNj2S/d\n",
       "exdty9Yeb4sBAMZ99FGD3liUWzpoBwtr2245npRtYiaHOra78ZYoVzlFv/lZ5KEol03j9VqViijX\n",
       "aeB43nvrHjlW9DvsOeedKak/vzxj5UYWnQ+vWvdZueaI+v71KO+7C1tUZ1MB3lYdHt50y8MutYOh\n",
       "aJQ9p9ZrkXr5bMrKHd4okHphY42V2x4ekPrxa76tnQb1ebMB/t/tgmwzqpVTLFdrolwiYdg0R44J\n",
       "gwEjplmusMc+Pqbx+/m/AwAkk0mjPXFRLp1AnxwKhUS54RDn3mzG6ygAwHTKj+EqzPsYj0ai3GKB\n",
       "/7fX42NXAIDhEPXPAdnHj0aoB/M5bbclxTGeLp/N+Vg+YIyt6UP+BcZ8nU5l+5ZMoT1vt6l/6faH\n",
       "XnEAAKicUxthtskkHImQ+prFt3cwpDGbM+X/r1c/4sk8KzeeULnXx9je/lDWo3wJ9XQ8kddSEeO+\n",
       "crkcK/P61Qmp+20+zoglPP7UGLdwWI4flobcinATWi20hSFhnADo/EpnkqKcaVv6fVynLZdyI8Jh\n",
       "9KG9Tl+UOz/HNczdW7dEudkMx0aaJwAA3z5Cn2quvy5r8pqj00bdW7HkgKNHz9zyVoiPSQEA/t1P\n",
       "f+yW21353jsDPHZ4SNfn/vV99pzKsEPq9WqDlVvMqO8+PT1l5ZwFjcmzOd6+J9LU7w7GqGORyB57\n",
       "TrtJ7aqplybRCJ0nmWyYlfPOp8mIt3GWn957s8H710SM+qhiDudALhHxirsEb2BMuGrexBN4fW+b\n",
       "TLaM9f9gxNtBAADbRoeRjqMNee/dtzlxAABoGTF5YYNfQwIA5Eto02yb738AgHYH/UXElmOGjRzG\n",
       "9b0mxqjWUlp7AYTjRpwR5ddyAADdCep8tS3Pr3wRfYWzkO3qH338p265Xqf+sNHmY4hMJkPq/gR/\n",
       "/W4Drzcb83ExAMDMh/ph2bLNXhhBw97WITnW6lx6xQEAYDCm97Bc8D556YktYkk+hpsOqS53+7xt\n",
       "PbvwxKFLtDUjS47NwJjns7Dsu2c2zv9Kn18fth/QPgkI8e9kQsfGmfPPsnot6nuCxlDFo3K8X6vg\n",
       "PPz0k09FuU4b46JInLeXAAARG+3Tzbdkv2mFcExDQZzXZ3XeHwAA+ELoBBs13r8AADSNuTJxZLtV\n",
       "KOJcCYfktckihP4iFkf/em/vgBMHAIByDc+pGGthL7MZjm/YL69NbKN5l+VzUW7hx+tFM3Tc8/mC\n",
       "VxwAAHwWtRGLQIaVG83oc5Q3Z2VWLpWkfbm3dZuVS8TQrg77dD4sBL8U8jxzG/V5X+v3zKdah39W\n",
       "YcdpzNzq8/PLu+bbXkcbnlvx/OXVS3zmtfDJdvb23Xfd8mAox5HjGfqVyXAuykUtY7054PtId/oo\n",
       "iqIoiqIoiqIoiqIoiqIoiqJcAfRHH0VRFEVRFEVRFEVRFEVRFEVRlCtAwLblbabFPKamqVyciHLd\n",
       "Pm4BzG3I6afmRhqdh1/xqZQAAJzxY7dsbjn3kkwbW24927PCCX7b3tk5vY+TF3wqru21LVJfW+e3\n",
       "Ik8XdPv5xuYmK9fqHpF6Y4z3lVjn0zOUNui1ynV+u+ykRbcyTgL89jvbk17n+uEeK7e+Tv/vqZHy\n",
       "oCdsYQcAyBZw61u9LW8FvbjA7bfFDTmdUjqP2xS7XTlVUySKOuw3UpxFQ7JuhwMotxzKW0EPtzAN\n",
       "WT4jp5KZjHDL/nwuX2/7AO/35tu4DX5Vv1ZeG+nrKvI22Nt3r7vlbJHXKQCA332OKSeGjrwFdQo4\n",
       "N77/0QfkWGjKbzVNROj/dYZ8+qOLE6ofiTg/VrUq6ko4xG8/BQD4448x9duvf/ufRLmNLWxfrkjn\n",
       "9FRIRTfwDOdkym+v/Oprmi5xafFjGvgHul3+5i0+dcbCs0V507Att2/d84q7VMs4bv2BnK7owX20\n",
       "s+0+bwedJT3fmyroD/R6NM2HuXW+VJDTOOxu33DLflvejl4u4/89evVKlBtPUa+ktBwAAAfXsM/b\n",
       "RoqYcFJOEWG3sS+evngqysWNa0STcv+nM7itO5WU053Op3i9/Lrhk+tyGsnzYxyPi6NvRLmlgzbt\n",
       "5SvZx+eyuCX74x98X5RrGmlrqj2aZsERtm6n1qgP2I7w8/CsQm3OdonfXr300+3s9Tq/xTs4pak9\n",
       "fvzn32HlDg8wXcHPfv635NjE4efDaObZ0l3mdXF3l86byYDXbWtB50YxdcjK9Rs0leLpOd67vZB1\n",
       "djwwUkcGVqRmtdCeT+byNvNYGOVm3r4wWeJ7R8kkxnNb63yaOwCayiQUlOdrPI66vSr1U8BITbmq\n",
       "rVPD7ptpzSZTeVt+IIByjiP313iMvmKxkFPvdAw77ThyW81reFPlrUzJZiCls6tVML4008j9izbM\n",
       "8H6jUTl2mht69NXXNGXj02e8TXrx7Ampj0f8OsHx5B2bOHzf1hvUVsVCfNqfeJj+vdPi053WPNer\n",
       "VNAvxVNyHNNsoT2YTWXfYaazk/TAm74qEuFTRMVi1LZYlhEbr8jbZuqHLaSOAwComilZHPmezGtE\n",
       "I3LKk2AA9XlkpEz03odJ0kxht5BTugSNdUFlRRrT3W1MqXVhpJT2kjZS1loLbPfNAz71CQBAzUhT\n",
       "EwPZFry7h35p0pTXyX//3/7eLZ+M+bUhAMC3xpxKZWg6lcPitlccAP5lH10/vMHK+Swa874SYjjb\n",
       "pmMzEtIsxoHqW2kNY0y/j/e18xmNl8ZDPqVTOu5Js5bn16hzoG2bj3h7WfWkc1sKZjsYoPd057YR\n",
       "E65wofk82tbdFamHdvfQp7a7HVEuYay7rb48/2vG84hYDG1Lv83bRACAhJGm7vmx7DtqDdTTd40U\n",
       "OF78xvyat+V5vRbB+e/vo785asrPKXZu4hph0pFj7ZSFa8roinSMQ8NWdfvygI4HaE/WSjSWvbjk\n",
       "29to0nk4HPJ2wzHioN5ATiMbS+A9+UJyjDUx0jG2PelrZz5+PPp9z7xb8vFIp0N9qJSiN5ej/tT2\n",
       "835gmfakizPSTMGK9L8To7n+FevDjo3XP4ny9vjWTWofF4J/LXvSh0dKvNzcEyNYgPNrNJOfKd3/\n",
       "2kjlPZefk8HUODaS0/w1jPkxn8s+6+wCn19ZEZTrjWR75BgxeSotz/FYBNcPich1Ua64bthzn5zW\n",
       "7/9l772aJEmSPD/1cA/OWWYkZ8Wruqu6e5pMz/T07Myu3O7dLIHcAnIQiACfAF8Er3gABIBAAMHi\n",
       "4QCBQHBzbGd3Zodtk2lanGVV8ozMjAzOPRge5tbV1Fc1ZZ9T9PdklvF3D3MjamoeaWphB+s2G8U5\n",
       "ZWuFnwsBAIpFnBNKZ/L4MuPw1U7lkHX1Gr73jCfk+o8WjHUZ0PsN+nw5LN9RDLE4H4p+CvR7cwX+\n",
       "HX86RUOLVmt8mMVmA8sX9U3V8RQfim4yo8JoUQr1SNvTnfJzzCBA17hSWPWlFfqs5SOcl2oXhDdP\n",
       "Z9F+Lq8tiLp6C+35i+2Xoi4cxzaYXhDW2zXC6Eq2RXf6KIqiKIqiKIqiKIqiKIqiKIqiXAL0Rx9F\n",
       "URRFURRFURRFURRFURRFUZRLgP7ooyiKoiiKoiiKoiiKoiiKoiiKcgnQH30URVEURVEURVEURVEU\n",
       "RVEURVEuAU6j/1T88M5VPCw46MiHfe3t4eFJw4F8qOVwjIcvBcbnom5xHg+UGldEGURjeL+k79Du\n",
       "Uok/zHH7GT0MujTHH/o26NEvbjf5A9yavgMl+xZfT8WlNMkHw3jw1uPtA7/89/fynfubTEgHVNJ8\n",
       "NrfE6m68Rw8g67v84YTjie9AvrrRvlP+sEoAgHYLD46KBvOiLhzDOlpa5Q/jBgCoN4xDRwPy4XAL\n",
       "8wUvnYvjIW0vn7wQr4lGsO+8//Zbom5q1EU2Ix8Mn8xge2aKaVH3xYNvvXSriwed5Rf4NgMAaHXw\n",
       "sC+3Jh88d1LFOvrrv/mtqFu9ir/1fv/H8gGG+/t4KN3zL+nhnGury+w14TBtp4m9z+oSBXoAYbrB\n",
       "H2zZbeBBbNOZfOimE8DB8q/+i38l6oaThpfe3ntIPosl+LoYTelAjCX5fjDy/YYeCvMHJ09G9O8D\n",
       "4QDYYJAexPb6FR7S/uLpDnsNAMDW1pteejaWDz7c2MDDDuNZ/tmLiwWST2b5A7ldlx4aubSIB+s2\n",
       "GvIhw90+tvt6iT9IEAAgZmF/Oxntirrnj7BN83Py4dLRc6OfRrDd1q/LB8hbcazLdJg/zBAAYHML\n",
       "y9rubou6mHE4Xy4t25b6OdbRbz7FcR2L8IceAgBc2cTDA+PCAY0AAOfneAh98QIb1O3h+P83f/tT\n",
       "URcz7Oqb779JPkts8Pc///kuyc8G/IH3b1+ndZ5P8HO3Y1EbFLzCH268d0zn3deHz1ldu4f1P/Id\n",
       "mr6yOueX/74MITrGrUCB1Z3t0QNM97Z3+bLuUr8qHOXnwxnQcWjbxvgXDrEHoD5E0JEPRA8H8YDv\n",
       "4UA+gBRsHFP9/lCUTYyD3dNpnDeXl/n5BYAeSN9pN0TdZIzzqx2QbcHysjyWTWbGIciBAD7fcCg/\n",
       "X9Q4kN68xs/IOKzWPNDej2lnBwP5oF4T26a+q3QQaLdLDz01n9fEcdBuuReUwbzfeMaPaQCAeBz7\n",
       "W61G/Yx2m/dRIxFqL7sd/iDgSDRG8vUKv+7wP6v//v/AdErH/9FRmdXVm7RftttYF3ZYHl+W4eea\n",
       "/dyP2UfOz/lnGo2ojxUK8WsTc9wBALhjbKtClrdbAACdDvqHZp/wU6ngWiqX4v0HAIC40VatlnwI\n",
       "8sSwweEw1kPsgvqq19F37Pfk8RoJ4VhJJOSyjo06unnztqgrFnHu7XbQz/vsd1+I16xt4Lq7OJbH\n",
       "Vy6E9RW15PovFnBN9Pil7I9kimjbZxa1Vb/89a/Yaxq+8T+X5w8t3traIvkf/ehHrO7v/u5vSH55\n",
       "jV8fFufpodHu2FijupLd8vd/2Tc2mU542zX12TRHmGNs30HYIJwFb/kOXp4rYHucncgvQmwH26rV\n",
       "lt+r7O2jLuiziybJAvb7wbQn6uZj2K/CYZznEsL6CABg5uAzrm/KB6IHE1hJ7VFN1DW6aPd7h/Kz\n",
       "J5JoVz/64GMvXfv0N+I1Z61TLx2YyO897n/72EsHo7JtT2exvl69fC3q/uC773vpSpm2e7cnzIcD\n",
       "ejD5zOXtQbeFz5FMyu8ppsaB4E5UfkeQzGW9dGtI1+etOt8eVpCOm0KBn2OmQdr3gjHef8otU7vf\n",
       "E95rlQd7JB8wpsdCW+6z1gyff1KT7fEwiHU7yvEae5E+uyv4jlGX2qbz8SGra/uuD0awTXsD2d+v\n",
       "V3BN3izzh90DAORTuMa0gnId5fNoj7NZ+d3fyhVcX+8cP/PSA1deS/RH2A96XfmkHfOoAAAgAElE\n",
       "QVRdwsiY18tnsq/dNeaKiSX7GRvLuLZLx3F87e7KY/f5A+N910z2R8YxtGnJuDwOF1awXhN9uT3D\n",
       "GZx77Bid56rC+5dIkM6h6Tl+nnNdOq+5Y962WDadv2YWP3eY6yV3TO8diWb9cgAAyM3TPmUL64lk\n",
       "gvoL9Trfr3o9WrZQkG+r4ZC+b62e4zo8FJP9yCvFa1766VP5N5byGa4fMoWkqOv0sQ07bXlOzhv+\n",
       "ZiHN+/u600dRFEVRFEVRFEVRFEVRFEVRFOUSoD/6KIqiKIqiKIqiKIqiKIqiKIqiXAL0Rx9FURRF\n",
       "URRFURRFURRFURRFUZRLgP7ooyiKoiiKoiiKoiiKoiiKoiiKcgnQH30URVEURVEURVEURVEURVEU\n",
       "RVEuAc7G2rr4YSIZ9NIzNy7rKkUv3RlNRN3Iannp9HpS1E2C+Fl82hd1jWbdS1vDFPmsNeqx17z1\n",
       "/VWSL+9UWN3RyzLJr5QWWV2lOyD5mWWxOtudkfx8Keulr2yl2WvOqgckP5zarG7s+/vY5cvwm9/+\n",
       "juRPTmusLmzR8qTjYS+9ujbPXgMAsDqPvyGenrdF3WQW8tLNSlfU7b2oeunjo1NRd+U6Pv/KUslL\n",
       "JxNBTg4AAA8efOalNzJ8/QMA3Lz9FmYseQycnWPfnt9aEHXzyxnM2I6X3Nl+KV5z+/ZtL/36+Y6o\n",
       "+/LTT7z01Ws3RF1xfuSlA7OOqHtzc81L/4f/9wH5bOd+2C8HAICb79BxcuVuntU1A4e0TDcSrM46\n",
       "wv5x3tsVy2oP0WZsJPmxCgBw68o7XjpTzJLPAoEpe00qTds9AA6re3z/Ockf7J+wupc7RyR/fsDb\n",
       "oCu3l0k+mcN+Wqnx1wAAfHX/7730vTsfiLp4DOs8lr/CahpVaiMyAb6d8lF6/cFrfPb+pOqXezhh\n",
       "tBnVqjy+cpvYNpvpsagLxZa8dKfHzwEAAEfnOHeMhjhn1ZryOAyFsAyhJG9jAQD6Q6yjOm9if1++\n",
       "DtqtXle2l0ELy7dYwrk26kTFa+wQlqFpzJN+xuOhl04n+f4PAFAsYN/rDvl5CAAgmcJ5uNmj7X67\n",
       "OfPLAQDgj9/cJPnRhG/f589p29hp3gZZQMsXsEOsbmXJ1+fTGVaXn8O/dwYu+ez+V4d+OQAA5DLU\n",
       "7s2An79u37tJi1Dky/Bqe5/kG4e8X+S6I5JfXV3x0kEr65d7xII4VuIR3r4BADiGjQxaMVF3fo4d\n",
       "3w7J/1vkhLENg11MT2byNZUz7M/RC8ra6eLcsbi4KupsYx4Oh/k+BQAQsPHZmy3s2+GIPA4HQ7zG\n",
       "EvohAIDlYJ91wvIzRWL4XduvdkVdOIa2dOhSHyvgyOPcpN5ssn8PWPgcQ8N++BlNsS9mE7kLdJh2\n",
       "QhHyWavdYK85PafjqSfYejtM6zwU5u12t0fXLeXKOatLpeg6YxgYsbpql/pV0QSOvV5frrNUCn3W\n",
       "RFzui6eVMy8dDkZYTX9A7WgiyY//8Zj2h1gE72c78jwXDmE/DVhyn52N8HkTMXmOb7XRZvh9LpNI\n",
       "GH29VBznuURUHoezKdrtkM23GQBA1LhHJCrboHYPx0anJ69RhyP83o8/+iHe25Zt56CH9dXdPxB1\n",
       "qTnsi1ZAnpN3KjhW+nJzgmNUy2RMx9PdN66x1xz5HJy//ZufsrpC/r8k+WiMr9ubt9dJPijMHdEQ\n",
       "bWsHcNwEwfXLAQDg5ZNtku/UeZ29QOtyNOUr7eiUtvvtt4qsLlui47NydMTqOhM6DvcaOM81Oy2/\n",
       "3CNk/O/u/MqyqMsX5rx0Kif7AqEAjr3+urw+D4WxnrpdHA8XmAIyJ4dtebxGjTIcnfC2GABgaMyb\n",
       "kzC/NgEA2O7iPHL625956bor2+K7xlwUBd7GAgBEbfTZrJE8wH73y0+9dPgCv2Uuj+Paby+nwrud\n",
       "bpnONwfHu6wuEcE5ZcZ3fwAA6BvtZDmyfQunsf42k3SOzwrjyx1Tv8Ky+XabzNZJvjfg7XbzjI6b\n",
       "bn3A6kYdOq5jRv/rJOT1Fzg49kobvH8OADABbJuxxftY+3W6Jpqb58dhr03HXVd6reobQ0nDz5i6\n",
       "8thNxLE/F5dLos62sc6GF8xzgQnaoCf3H4u6yQh9kmQK7WVuSS7D7j7a7dZ4V9S1XSxfMi2Pr5jh\n",
       "Vw2H8jxcqeH9JjPsA5sra5wcAABKt9DGPn38TNRFDVtVt+R2msZwXotkUqKub/ibeZs++0Ket112\n",
       "iLZnc8iPr3SStk2gw3fG44NXJD9f4MeKE0WfvHFK7W//lPfjz09oWbeu8u/4nAx95xsR/M39gzOS\n",
       "l3zCfJ6u49dv4bvYTot/nwEAcHCKPletIb//CgRw3IwavN0CAEiHcZwnL1gXpI33PpEk/+y600dR\n",
       "FEVRFEVRFEVRFEVRFEVRFOUSoD/6KIqiKIqiKIqiKIqiKIqiKIqiXAKc//D/fSF+eP0qhsp548Yt\n",
       "UZdK4TauRuVY1IXi+BtT41zWTcK4berevTdFnbm96uSUbpk+2uXDYCWjdPvzG2/eZHXry0skPxzw\n",
       "YbDSU7o90BJCgJ2c0RA7269xy2K6xm+/iyfottfpjN+KWDmmITAq069ZXd+lW+cy2TlWF/GFDZor\n",
       "Frx0ICDvCTbDfiQvCOdhhmcICqGyAAAWF3D7ZzYpb90O2rit9rPf/NJLv3vvnnjN6lsYpm4hJ5f1\n",
       "7r23vfRX334j6o6OMBzg0b+VQzJsXFv30tE41nMQ5DBrDz975KVLeXl7cdzB/tEZyOEAGk2sr+FM\n",
       "3lLYS+K20x/+8cfks+cv9v1yAAB4vE3HXWpJCONo05B6kTC/1d+d4jbMJy/l0Ha3b7/vpXdO+bBq\n",
       "AABnHdzGHYnQcdft8eFsOts0LMQ7d99hdW9957skX5zjy/H+u/RZn7x8yOruP/2S5D8wQtPZjrwt\n",
       "+WCIffHRE3mr9btGeUcdfuv2SZWGkYuubLG6v//sE5K3ItjHYhn5fwviFo7r/ki2BY8fYX8LzOTw\n",
       "LI062tlcUR7X19Yx7FWrh/08mZK3zg6H2D+u3pC3eI+NLeO9pmwvT8+wneIXhFa7dhXnrOvfwVBo\n",
       "3ZZcD7Mgttv1G3Kox1YNt9s//Equ/0Ebv6u8w4dcAgCo2NiP3r1aIJ+9OObr9v4jGhbx2wefs7p0\n",
       "zmcjZnxojrl5uiV7dZnfCn5apuPz+iY/X6Ry6GdsbNC67LX5re5nR3TcnAghSq7dpOGn3tziy+DO\n",
       "6LNXz/mQfa9fviZ5J4Tb3ZMpOTxAo4l2MRyX59pG3QjPckEoNHf0T/t/IlM1nWFdvn796h+L/xNR\n",
       "I6zMjet8WEoAunX+orIOh9iPRiN5TFkBtGkJwzcbT+Rt/iMjtBXM5DFuhg07PpbnbsfBMRqJyM9U\n",
       "LWNIgVic9jEpFJo1oeNfqovxGG2a68r2rVrFMgTDcmi7XAHDR6yvb5DPAgE+RO9kQstWF+JoWr5w\n",
       "y1KohWCQfk+3y8+HyaTPnwnwurX1qyQfieK6YDCUw46GQti3YxeEKzPDTrQafGia6ZT2t4gwBrq+\n",
       "0KJmSBf/PUwyGSPsZfuCZ4qinzW4IJzSP5WuEXooYdTreCyHfR308ZrRWPZ5HQf7gb/vmJj25ILh\n",
       "D/t7uM598A368amUHN48HkXb8qN35PVv0bBBm5tyWK9JDAvY+9W/F3X/5he/8NJDXxhTe8aPm9Ia\n",
       "nVtv3eZ94+c+3/1733+P1R2VX9DvdXgbVGvQNdbKCvpzySg/f83NUX9w59VzVhfzhU9JJ3lf++iI\n",
       "9uVmg5/jc3P0nUBfeJcQ931vrYZrn2xanpMDU2zfV6/lkEIzB3XxrhxyZhLA500V5H4ajaBN78/Q\n",
       "Do6n8hy6to7vVR4/eyrqhn20J/WqvJ4bGeEn01E5JOTWJtrjs2MMvXNeOePkAADw9Nmul17Py+Gn\n",
       "Dg5xjIdCchi4dApt9mgsh8ra3MCynp7QZw9YUhhH+vfQmJ83Zz2058X5AqsBAAhk8LPVBTmkfzyK\n",
       "fXYK1P4e7vEhyCM+P/T8jJ+7AzNal8fP+L5d8oUqHNf59Ynjm3pixvvIoC37xvNb+Pxt64LjJvpo\n",
       "M5+/2mY1H7xL7eVGeoXVNR5Teznp8/Nw3OerO0aYtWhQXs+Fw9g/Vpfk0Mf5HL6DOz4ui7p2HX2I\n",
       "szN5TJ2dYz1HEvi9hbS8Vr9zB+dAOyyHMd3bw7XPRH49AjNAO3iRzzAcoZ+QTuP7qlqdf08EANBs\n",
       "YN9buCBkXaWN9TUYyn0qkUMfqy34pAAAyahhp33xNet13j8M+sLXDqZ8XUSD1J5LNi6Xo+/0ghHe\n",
       "f3KN9y3uhM6FwyFf1mqV+mxxYVo6q1K/JRjix4Dfr83O8f2vUqE2rD/A8i0L7xUAALqGrWn15PnQ\n",
       "DHcYumCNGjR88jnhqBkAgJrR/0YubzN0p4+iKIqiKIqiKIqiKIqiKIqiKMolQH/0URRFURRFURRF\n",
       "URRFURRFURRFuQTojz6KoiiKoiiKoiiKoiiKoiiKoiiXAP3RR1EURVEURVEURVEURVEURVEU5RKg\n",
       "P/ooiqIoiqIoiqIoiqIoiqIoiqJcApxiNid+OHUtL/3zX34h6sqnbS9txyOirrCU8NKJ2KKo21y7\n",
       "4qXr1baoe3R/10u36i3yWb4QZq/Zf1En+dqJy+oWVgokX1rJs7p2m5av1RqyuniKlmd+Ee/X73fZ\n",
       "a4b9Mf3DaMLqpgOH5AOhPqvL5jMkf/vOTVZ3ekjrMptLemnH5p8PAGA8xXQ4FBJ161tFL92vNUTd\n",
       "taUlLx21bVH361/91kv/4IP3vHQqnhKvefPOXS99dloTdX/3G7z3SeVQ1GVyOI7Kp6eirlubeend\n",
       "V9tY1nRcvCYVwfrvTseirjXGvp1KZETd42fPvfR3P35L1M2Mn4RfHOySzzbvlNhr0iv0e1++LrM6\n",
       "y5qRfCTIt8FCad5L37gn19HL7adeehK5Jeqe/vY3Xnrryib5LJ/l62w6GpD8Sf2c1XV7dHzWWk1W\n",
       "F4/6xqczYnW9IbULv/3tJ156YYmvfwCAfDHtpQe9gahL5rCBnQlvt7PX1kn+9IwfA/nFLMm/3H/l\n",
       "pVPLq2IZ3Bnart7IEnWNw56XblUroq5SPvDSwdCeqLMctCe3b1/30ke++cEkGsFrqjtTUZfMYF2U\n",
       "X++LuvlVYz7MzmTdEtoWOxj10s223LZOCJ/j/IQfgwAAj77e9dIH2wei7t5ttBNpkMfh+TmO49bB\n",
       "MfnsJfT8cgAASOTouNu8w49f26F1Hgo5rO7Vy5ckf1DmfYjbt94g+c6Qn4cfPX3gpbduUJvx6a95\n",
       "v2hpdZ7kc/kkq5vOqP/x/MVTVvfgyUOSPytXWd35eYfkv/MW2oJaTZ7nnBD6JwErKOosC+2E68q+\n",
       "QDiM9xi7F9igLI6Vfhf7R6/DtwUAwPoq+o6jEW87AQC6PSzf8fGxqFs17NNF94tEsb+NxzgPD115\n",
       "To5Gcbw6TlTU9drYbrYt28GgjTY7HJHbKeTInwHw92+1qC/W7XVYXSaJ49UJyt8TieHzDodyXzF9\n",
       "6EQ8TT6Lxfh56eSElnU24+1nJEr90EQiwer87W4L/qbjUJuTSBdY3WBA+3zUKEciJfuyARufw5rJ\n",
       "/5M3HKAP0RPm+HCQPnvA4u2l/1mTSbRVUn0BAIQctBkD/1rFIBaLeensBevNvf1/mj8cCGC9TKfo\n",
       "c0XC/JoPACCVxL7YbctrjkDAmOPPeT8PACBTwPXblF+WAQDAURntzt/+4udeOhyU18m3b9z20u/d\n",
       "3BR10xnWuduT7eV0huM9FoyJusU5/K4vvn1EPkvGs345AAC8enVC8plMmtVNptTn/VAYr2+/e4/k\n",
       "n738mtUFgrQvtzro4yRi8345AAB89PF7JN9snLG62ZSOp3r9hNWFg3R8hoTh2vbNu+EILwwEff03\n",
       "gDYzlpL7dsTwZUcDef5qNLGOWgPZFxiFcN08BP69BwDAtIW+S7uO94t15TlhGsDy9fv8/AIAEI1h\n",
       "+5aKss04b6CfO+rz/iUAwMDwVYIRtC0LS2viNZMpjpudsrzmODee3XHk9x6RCI75kMPbYgCAw0Ps\n",
       "bwGg46RZ433ZdJLeb9rh+5gVRB+6cSb3gXQW+4A9kdcm6QTW5bcP7pPPZiP+PVS3Q/vH+vISqzs9\n",
       "ou9Rrizz4zrhe9e0cfu2oKPvgwKAYyoWkuebifHOa+zIfsyx8S4rlOfHQHpE22lY5eto1KN1nonz\n",
       "7yYSvvc8YcOGhAKyn7G2uuyl19fkOSaXxvHfrspr4/IQ3wu8Pngp6rouvlu0Qji+hhO+HgAANrbW\n",
       "vfRcTn7vMVfEz6p12d/vGv5S96Vsg5pN1LkjnGubgl8MADACHF+dtlxfgaCxHrzonV7HsGlj2dHY\n",
       "ebHrpT987x3yWTjErz3HEzrPpeO8rzfsUrvqBPl3H+Z7YgCAcJifi2pTtGGRLB0noThvP3O+912j\n",
       "Ce/zOg4dN4kI72eVT6g97w/5ucP2+RkJB23I8ekuew0AAASwb2/53qGZpBPoL7kdeQzYhu/e7sr9\n",
       "r+vic8xsfr2pO30URVEURVEURVEURVEURVEURVEuAfqjj6IoiqIoiqIoiqIoiqIoiqIoyiVAf/RR\n",
       "FEVRFEVRFEVRFEVRFEVRFEW5BOiPPoqiKIqiKIqiKIqiKIqiKIqiKJcAZ3NtXfxwewcP1pxfmBN1\n",
       "xTU8FGz/TD40OhjFQyRTcf7ARwCATgMPSzvYkw/TbFfxoKi4Qw95Cwz5Q8xqx/TAS3fAH7hWKNHy\n",
       "3X+yw+qmLj2IeWvrGqsLBqkuFMTyJRP8IY3NGj0IrFVtsbrFEj2A66jKH3I1P7/o+wv/m9/Ad0Dz\n",
       "z3+OB5B+78N7frnHytqGl/7pT38l6uYP8TCsCMiHBJay2AbXLuin3//Bu176zKijhcUNTg4AAL/4\n",
       "7HMvXavyhyMCAJyd42HwxbmUqHv84pmXjsfkgydfbuMBc29/5yZ+EJAPYm2cY/naFxz21e/hQW/3\n",
       "7lwRdYtbeHD1iz350L12u+mlbd8hwKeV+345AAAMx/SQ6GS2yOpCIXrAWr/F9+3ZBA8jy6Rlm/HR\n",
       "x1e99JdfPBR1iwsLXro0R21Gs8Uf1hmPURtxKBzgNug+J/mwcDjkYED7R3FumdX95X/+35D8X//s\n",
       "Z166XnX9co++cQik68qHmzZa2K+kwzrHLu2XK5tbrO4Xn3xO8rl544BJSz5cNpNGnT2TDyq0bJw7\n",
       "xmP5sFTzjMWwdLIu0LG8t42HUGZT8gHLZeNg0WKWP1gTAGDe6KelrHzwZDKGY2V1XbYZ9JBxPPRx\n",
       "AvKhovYQdUFLPlh3dWHFS68vy4dfNoxDSpt1+QDYaAzbxgnTAx/furrOXvPsGT00OjTlbeGkT593\n",
       "POQPw13M0cPVk1G+bvee7pL89T/7Lqubm8eDZv+vf/3/kM9+/Mfvs9f84q9/TvK2xY+v5bWrJL+6\n",
       "xduC+09pHQ2FQ5AX5+hhmksLaH9jYXncLC2gLXz94kjU2Rb6LcOxbIOsALa9JTw7AMDUOMT07AwP\n",
       "MJ4r8vMGAEA8hc9YvaAvjlwsQ6UiH6r69r23vbTrys8UiWJ/i0ZxXpLmDQCAfB5tQeCCf7EKG4fQ\n",
       "D0byeG008XlDIfkw6GDIONx7RA+KtR2+PWzfweSTCW+3+wMcn70LDuOeGYe11+ty/Q+MYR0M0jmz\n",
       "2+VtwfPnz0h+OORtYbVG22Y05g/NHfv+btt8G/jLc+vOTVaXy1Nf8cGTb7z0WeWAvQYAoGj0l1Q8\n",
       "K+qmIxzL2SS/NotEYiTfbDZZXShM2z1gdNSIcBAuAEC9hvebTvnDfQEALAvvZ9vy4dLxOI7rUkme\n",
       "N01z0ulg/+sJfQUAYL6AB1LHE/wBtwAAoRC2+1DoKwAAgwHaidFE1l25huvBP/jxD730L3/5a/Ga\n",
       "+08eeOlSMibq/tn3cL4a9uRnN+s1GpRtRjaNur/8y78kn/3P/8v/zl7T8x0qnM3xPu/SMp2Tp8KU\n",
       "4A5dX56v22KB3q9ozBe9Nn+N7dC/j8a87RqNqB8asPh1XyFP1yPLi3yfbXTogfSJlH8d/ntOa2ck\n",
       "P57hWi8UlSePQg590XhU7i9nlaqXPm/K9rjZxHWBE5B9cndgHjKOdWvP+PcZAAAPH2PfTqX5g8MB\n",
       "ADp9tC3m2PUzZ3xmzWTbMjbaNJTE8s1n+UPOAQCyhh/Z68jrqMIClsHty/7D7dt3vHTlTPa1Uxks\n",
       "UyZF+1itxq9tnRB99mK2wOrcIa6zI7KbAeEg2v0AyPbSNd6zLS3Sdw7tLt++1Tadh6IRvt3iSWqr\n",
       "5PmQXn8s2EJnQnW9HvbzxTj//gEAAFy0E25Tfh+5UEAfurDIj/HXZ4ck3yrw9jKQpL56Pj/P6s59\n",
       "fu0giP28WJDXqKbfYs3kuds21tA3b10XdWc9tF0f/+EPRJ3pXx+W8d1aOiu/W9t5jbrCvPwe2rx3\n",
       "OCx37v0D9L+CEdlWWU3sLwfG2t8JyPWVzxlr/+UlUReOoK58Kr8z7/axL3each+dy6INSoRpnyoV\n",
       "+HHz9CVdU3bH/P2tAJ1T+j1e12rT9UIkxk/y8TjaE8em/XznFT++NvK0nepNfoz7XbZGi9cFHPq9\n",
       "vR5v37tt+vdICMtRyMvtOw3gu51uT55DD/bx/etCXl7zhh3sc6929kTdxHifHonw7z10p4+iKIqi\n",
       "KIqiKIqiKIqiKIqiKMolQH/0URRFURRFURRFURRFURRFURRFuQQ4fSG8GQDdHtTqyyGw1lZx+9cw\n",
       "KP+OVKviNrb5TX77IwBAeRe3QA468veOBrj92XXo9q/AlC+H5fhCNe3xIQ8CcbrVuj3iw4isLdCt\n",
       "x5OxECZpQrf9BoyQB4EAf004QkNlOSE+3EanR7cKu0M+JMOrbbotLJXit5MNB3Q72tYWhqCZTeSt\n",
       "jX0jvMLWxrqoG3awzhvncmgUMLbppi4IyXBaxbaZhbEv7j/8VrzmrI3hikIXhLAoLhnhwBbkbea7\n",
       "R9i340E5jE48iVu37z96aPxdvARsY+t2byiHyml3sU89f8aHIwQAOGvg+JrZ8ni1A1gve9u0j63f\n",
       "4sN8TW263Tgc4kMtuH067lYX+Pud7WA7rW3xW9YBAOpn2AembTkEXrOBW7W7KVrp4zG/FbQxpPcL\n",
       "x3ibmcrQbbQnZ69Z3bBcJXlzfJnEfeGrOg1s+5nlVyPZNG4FD9py2A8HcPt9rsRvxT/1hbJLZfgQ\n",
       "e9Eotb/9IX6v25VDHjT6GIpy8/aaqOsa29ZLJXmLtzNGXeVUDlNVraDdGY1xC+/NK98Tr0msYvlm\n",
       "Y9kOXlnHbb+ffclv3wcAqJ/h2ChX9kXd1dtop0Nv4zW33pS3xFt1tBnTER/uEwBgsYQ2LZmWQ4Mc\n",
       "7BshSi4IE2bF8XltX18Z9fj56/rmDZJ/+owPHdnzhXCyhLCBpRy10+kUX09PHn5F8l98/ZjV/eCH\n",
       "aHf8YVGqTX7++uGPPyT5RJyfvw5OaLsPp/xW/HyW1qW7wM/dS/M0xEwmgW26uSb7XP0+2pZeV/a5\n",
       "wiEMGTEZy3NHx/AFzDBfftpGWE8zlFQmLYc7NEN5tTsNUVev4Gdzc/KzHx7ifLi4uCDqLAuNrvlM\n",
       "V6/y9hsA4OAA/YLuBfVq22966Wa9KupqNfysUJDDAZyeYr/0h9SqVvk+m87QOWAshO9zjRgKF4XD\n",
       "axlte3xyIupyOZxf876wfhlhvkn7Qr1Wzk9ZnT/smBlGz8QfHm4mTLDBIJ375+f5/jI3T0OrxFJ4\n",
       "XXRPnjtOTnDOuijEWSiA92/V+Tl+q0TDTzgOH9ork6T2MWL40DCTx/jECAkbjctzR8LweQ+P5X6Q\n",
       "zxlhny/wyV1j3Tc3h75AtyOHGjTDd+TyctibkzLagsIF9T8x1m/+0IAmZljDSgPHbjwl+wXms1fO\n",
       "Zfv27AWGX3/75qaoi87wfu5QrqPVZZw3G64vbFuGD8FUyFA73Rvyvsbm5jrVCSGY0r7wcMkEPw9M\n",
       "pnR89jrYF1eFdwvdGp2HYnHej4lF6PgcjfjQkcMBXReMBV3IN+5GU76/RMO0z5v9wG93TM7OMSRO\n",
       "0JYXBgEjtF8wLI/rtSTWeeaC8IJN43m7A2x3C+SQSUEHvzefl9fTZgimAMhh29aW0CePxeQxdWq8\n",
       "Z+j2sKzjC+av6RSfvbAohxbv/w7HyvLyqqh78RL9y+AF6+5QGNtw7/AV+SwQ5EMFuUDDEHWHfLii\n",
       "JeMdxnPBzwYAWDHmyS+/fSLqrlzDMGEd33f2e7wtCKdpH319uM3qsr6XIpkE7xvbAeq3VCr899br\n",
       "9O9zC9h3sltyqEEw5o7YhA+/DABguTiu9/b4eS4xT5+h0uHDLMZytL89/eZLVhew6LrCHHn1lhyS\n",
       "sGmE5XSCsn9eruKcFbZlW/DuBxjm+le/ko92MOdhc1nw2Re/E6+5dQvDIg5c2Xcyw9Ke1nh/EADg\n",
       "5BTtZWFenuMDDr6jiiXQtqSSsp3pGuvDapV/twwAMOyiPcrPy2udgfHePZ+UXxLevoJraP+xINEI\n",
       "v07Ipnzvrm1+/hoM6XidCiFX01nat3su//zlE1wXDPt0Dq5U+DIUsvReoSDvH8aTdByfN/jx1WjS\n",
       "tVg+w9dR2DcnV85wPNRq8nvGmTHPBUPy+5J+D+uyW5d9Y/Oogrl52Qa93MH5orPD21Xd6aMoiqIo\n",
       "iqIoiqIoiqIoiqIoinIJ0B99FEVRFEVRFEVRFEVRFEVRFEVRLgH6o4+iKIqiKIqiKIqiKIqiKIqi\n",
       "KMolQH/0URRFURRFURRFURRFURRFURRFuQTojz6KoiiKoiiKoiiKoiiKoiiKoiiXACez4IgfNgcT\n",
       "Lz2euaKuWj3w0gHLEnXLC5teut+WCzXqY5nqlYqoy2XTXnrqDslnzXadvSaVydLvcnusrlU7J/lE\n",
       "IcTqJuM+yZ/XjljdwcEeyZfm5r30u+98h72mWWvSfJ0v69LyPMnPgnzltrv0747Nt1W9WiP5QDLh\n",
       "pc/GLfYaAIBcLuelQ478e2JvMPXSthUUdcl0HtO5gqjr23iP82bXSzuxsDQCcu8AACAASURBVHhN\n",
       "KoPlO94/EHWz6chLd3oDUbexddNL773eE3W9AZYvk4l46fFUrq+V5SUsq9sXdTYUvfT9h5+JutIq\n",
       "tlO3I4/rudyCl14o0L5yXu6w17Rc2ney+XlWNx3R51goLLI6e5DCawaybSnm57z06vdKou717q6X\n",
       "bp9TGxGO822wfnWT5MvVQ1bX7XZJvlgssrr0HLVB9+5eY3U7r+n3xGLYVr0ebwsAAJp17H8rq3Jd\n",
       "BAJY3vP2mNUcHZ+QfC7JP1O3QcvjGva4kEn75R6TAT5TJhkTdaV5HCuPv30s6o6OcSwPe11RF47j\n",
       "HJMxbMvB8al8jWFnktGIqHu1v+OlZwG+XgEA3DHak95Ibs+dHWxPCz7y0qm4XIbDlzg+y8eyfdva\n",
       "wLbJFbOibhJAXwCCM1H3dPuZl569pPX/8Ycfs9c0O755KZZgdblUhuRDDm/fP//sS5IfDF+xulAk\n",
       "T/LF/DqrSydxDEVCtC8/fb7jlwMAwI8//gHJ7+7tsro/+dM/p/fbfsHqbt2mNqJ8vM/qDg7ps66v\n",
       "Ydlb7XO/3GMwQNuXzaZEXbWKdnswkOfDcBjb5qRcFnWLC8te+u1773jpRqMhXhM1+kezfYEuGvXS\n",
       "F9lL8zmsC/xXs0yZDPbFZkt2ZmMxtGm9jmyPKoafe+3aVVHnhG0v3enIzzQcYjuFQtROJBJ8+86m\n",
       "U5Jvd/n7p1No0xIJfqwCALTb6CvW6lVR1x/iHBCJxul3JfmyhiPUbxwOh6wuGqU2wgnyNsPfP3xV\n",
       "4bGxQX2BWCTK6vo9Wp5UHJ/jjTt3+ZsDwOoq+nqBgOwbN8+xz84sfo7p+/pbOMjfz7ZtknccnBub\n",
       "zaZfzl7nurIfOR5j+YK2KAOYoQ1qtuV1RsBonEAarzHHmp+B0Zf3d2X/fGUZfd7xeCLq4pmkl641\n",
       "5bLuH+J3PXr6BMtzge0shdAfSWYzoi6exs/qjQvWZUvo729srIm6vRb6PtEZ7VM//ojvs+Uy9aEP\n",
       "jvn177BHdeMJ//zdLvUtWoLNPPSt2d596z0vPejy1wQCtH8UCjlWNxrSPj8Y8msdK0DH/kRYw6VT\n",
       "1M8on/F1FHSo7VteQl/jrHLMXgMAUDXW6/kL+os1xboNOPz7DACAYhKfq92QfYa+0e/7fWzPcFC+\n",
       "9+Ya2k8nLOtiEaMubPkdlR0wbEZd9gW6A7THgwmu6VNR2WbYRnNOrZGoi8TQru4fvBZ1xRyunZYW\n",
       "50RdJI71shyj67e9Pb4cwajPbwnzfsxuGf3VjZvrYhnOz3EMPP6K90kBAAaA7XTt+gr5TLLhbp+O\n",
       "p2Aozuocm87V0z6/7ogE6Li7nudtXCBH+1vKWE8MBF8HACAcxXcY44k8J9RdrLOKe8ZqEmM6B19Z\n",
       "49f+e/t07Z+fy7O6Ro3Ou5Uq+qKJ1Ipf7tHu43XVMm+PAABevNj20m/c4d9TAgC459gv7957S9R9\n",
       "+umneM0Yx6QdlMf4y9fYZ3/84z8Udeb8f1rj39EAANy8cdfQyfbN9K/NtYQ7lNf00Qj6w90O75MC\n",
       "AKSM+y3O8e++AABmY6zXaFi2VUHD5o5HdJwMB/y4qZzT8RlKsjLI55dIPuLyzrET9rXhkB9T0ymW\n",
       "dTaha5O+MHeXD+kaMhLjC3twSH8vKM7z7x/XV6kf327xc/zRPh0bb72Ba9SALa99vr7/wEvXW7wt\n",
       "AKDvzF/uynPH2jquk6NxYXECAN0e9pewzfsjutNHURRFURRFURRFURRFURRFURTlEqA/+iiKoiiK\n",
       "oiiKoiiKoiiKoiiKolwC9EcfRVEURVEURVEURVEURVEURVGUS4D+6KMoiqIoiqIoiqIoiqIoiqIo\n",
       "inIJ0B99FEVRFEVRFEVRFEVRFEVRFEVRLgGOFW+IH958c8NLH+wdibpBv+2ls9llUTcd5730gy9f\n",
       "iLpiIe2lY05c1AWtsJfuTtrks3CEv8b/9+SMF076Q5KPWbyukCvRMgUtXpedJ/nZDHX7B2X2mtFw\n",
       "RMuayrA6J0LLFrB3Wd29t6+S/FGZb4O37t4m+V6jg/eedfxyj3AQy5FOyr8n9qo9Lz12xqJu4Bp1\n",
       "dHQu6k5r+NnO7qGXtia2eM2T+9ifczlZl0kXvXRzPBB1B+6Zl75xc0PUpdLYZ6u1ipfudWfiNb/4\n",
       "j7/10mulN0RdPlXw0u+9fU/U7ZXx2dv1qahrVQ+8dDZP+1hpMe2XAwBA0aJ1mcvOsbp+65jkrSnf\n",
       "XxYXcdxUG2esBgBgaQF13WZX1K1d2fTSg26ffNbrtf3y35dtHCV5Z5RidXmfLbh5g2+rYn5C8s1G\n",
       "ndWVT+j4nJ/DNojHi365x2CA/XRtdUHUuUMch90BX2dTl9qgXCzP6iYtmh+NsD2Xi1fEMuzu7+A9\n",
       "pkFRN1+MeenPG/KcVatiQebm+L4HALC0ivX3+uAVlgHCnBwAAIIBtFWRpYKoC4RCXjqRl23L1tqS\n",
       "lz48cUXdZIJzUbWMfTQVlMsQDuGzWyDbWLCwzje3VkWZHcN+MBzz4wQA4FZ00UtHYtRmhHiTAYsF\n",
       "2k6Feb7dHt9/Rstkh1jdwhK1v6PphNWtrtLnXVnj6/PoeNdLh2K0PUtFvqyHxwckH0vxNuOb+09J\n",
       "/sqNG6zOCVB7+Sd/9ies7pd/+zckPxhhWxVLWfYaAIDuAOefqc3XFwCAFcL5YtwTZRA1xsDe7oGo\n",
       "i0XQv5ufM+0s70cBAGQyOS/tjuQ5ubCBz9vtDkVdq4U2YzaT52GTfh/njk7nAp8ojM9XKMjj9Zuv\n",
       "vvbSg+GW/L0DbM+lJdnXfvc7b3vpoUvn+HabH7/1eoXkez2+gc3nTWV4nxQAYPvVSy/turJ9m86w\n",
       "PK+MawAAbly/zl6ztrZG8sEgb2fPzqjP0O7ybeW/XzrNj5VQiM4PjXqV1R2VD0m+tIR9NjeXZK8B\n",
       "ACgYtnAykX2zcBCN6cyqsZrxmNr9RJz/Xsvy5/EP/nuYhEJo39st2RiEw1hnjuOIugng2AsGZV8g\n",
       "J9jSi+69sIB+0HAgl9UcG6FoVNRNJmgjI/GYqNu8ir7PH03/0Es3LvBhJhOca6NBfo4DANi8gvPc\n",
       "YpavEwCAUQBtX3FuUdQtLeJn8SSdu/eePmKvycRpOyWvrrG6SJrer9k8ZXVrm3T+G0/58oZ86+zd\n",
       "PfThlldzfjkAAAT/Uf/g1xwz34BIpvj7TSf02R8/5dfTy2vUR0jH+PuNbDr3ZArYprVGyy/3KJVw\n",
       "fK0sy+17cLTvpbuDvqgbWzjmm8KaCADACeHzZ0I4BpZKS5wcAACubaI9r10wBm4a/aAF8nouHMYy\n",
       "TMYX2Mt4wktHAPtBNiiP8VgErzmu8DYWAGBmuEv5vLwuGxlrqe3tbVH30Q8+8NKtDq2jwYT3Y9aW\n",
       "Nkn+R384z+q2X33jpQMz2Q4eltEXCMfkNVE+j+vBXo/6YpZ/YvlPBCfUZ0gl+Pvn0wmS79b4fhCO\n",
       "UNs3c/l+EHSoX3uy99xLJyOyDa8Zt0sUS6JuMsR+Vczzvpm/LqMO/14xAtS22Bbvk8d8LzTLhn/z\n",
       "avvQL/fIzWHd9ke8DwMA0B1im+4Z6yA/pRyupQYD2dcLOIbNMMZk9Zx/BwIAMJ6gPfrks8/kMpTQ\n",
       "9s0V5bVsrYnfdbB/LOoSCSxfMY+++/mZ/B4qEUYfK3DB+4zjMtZ5ICyPr3Qax0r5kH9PDADQrmOd\n",
       "d9p0nMyt8HNyKE593MNjfv7qD6gP0mzzdmN+gb4bsh3++W0Lx4nlG6pBm/fjkz4fy7J4uz126Bw6\n",
       "GfNz/Ji+1iK+LPl7gD77F59/4aUTSeGFBgDEjHcf45n8G4Y5fnNZeX3YaeN8/bvPvxV1qTyWKSz4\n",
       "r7rTR1EURVEURVEURVEURVEURVEU5RKgP/ooiqIoiqIoiqIoiqIoiqIoiqJcAvRHH0VRFEVRFEVR\n",
       "FEVRFEVRFEVRlEuA/uijKIqiKIqiKIqiKIqiKIqiKIpyCdAffRRFURRFURRFURRFURRFURRFUS4B\n",
       "TrXZET/cf3bkpS03KurarbaXHgwfi7qN9be89OPHL0Xd7TsFL91rhkXdeDrC8vl+vkpkE3xZO32S\n",
       "twMxVheyHJIPQ4TV1U9HJL+yWmJ1q0tpku/0m1imNt8G1eo5yS+UCqwuN58n+Wi6yOra3VOSj8fj\n",
       "rG5/7xXJH+6UvfT1K0vsNQAAvXbPS3fbrqjb3Tvw0jOYiLpIAstXrXdF3c5r7KfjPn7vemlVvCZ1\n",
       "2/bSdjwp6spHDS99dlwTdd/98Dt4v0Bf1MF06iWjIRxTk7HNqQEAIBbIeulkiO+vAACOhX3x9q1r\n",
       "om5nH9szHOL7CgCAE7G8dKt/QD4bd+rsNdn8HNWNHVYXCWdJPpHi2+D5sydeutNrsxoAgGgayxqJ\n",
       "pkVdxPieUIjaCMvmbU02QcdXozJidSc7dBxHZ3x/mawGSf6Tv/+C1X3z9SNajgzW7STDXgIAABsb\n",
       "t730leU3Rd3eIbbpae0bVjNotUi+edZgdelIjuQzSXzGr754JpZhbmneS4fjc6LuePe1l3Zdvv4B\n",
       "AFIxbPvhYCzqXrw69NLZPI6BVzv74jUhG8fewpLcALFMCMuTk/uiE8I5ZW19S9S1mtiPHAfHUyQs\n",
       "24xaF58vFJ+KOjuC9nKruCzqtnewLz568kTUbWxe8dKNE2qzP6t9xV7z9t13SD6X4W3S9z/4kOQb\n",
       "zSqr29ykbWOH+DlmMqV2enEly+oCDtqW14fUFtTPz/1yAADonZ2R/K2b91jd4TG1q09ebbO6z3/3\n",
       "Ocn/y7/4M1b3k//sX5D81B146UlAnmvtCPbZ9Wvrou43v0U7kcvlRF2rgW0zdoei7tnTF176+TN8\n",
       "9rff/g4nBwCA4RDvl8nmRV00jPZ8MrFE3e7urpfO5fg+AACwvML7drGYPCcPBmirJiO5/oNBrP/7\n",
       "9++LusOjXS/9Bz/+I1HXbKJ/GYnSuVXy+xoNOl91O7wfMy2iPZmbk232/QffeunABf9eNh6jna5U\n",
       "KuSzcCjklwMAQD6f9eX5fpBM0mc/rZyxun6P9tFikbdBBweHJP/yBb/e8Y+NyhmOh09+9xv2GgCA\n",
       "jz7+wEuvra2JumgUfcf+gJ8PrQ71M2ybny+6XTrH1+vo27mu7McPBvhZpyOvI6NR7G+phDwfJpKG\n",
       "/zWTx6vZf4MBfMZGjfdNAAC6EyyfE5Q7YzqN5QtG+DUfAMAvfoNtmCvxdgEAIGB0fLP+HUcug7ke\n",
       "nGXl+gpHcWyUfeOG6BJGvaZkn+FP//lPvPRf/R//K/mslOHH19raBsk3fX3pH9g+oGvK9dUbrK5W\n",
       "p2vU1zvP+cJOaf+YW8S1sWn7TK5vXSX5bJa39UeH1A4GhHlzOqV1ef/bh6yu2aZ+1ZU13tdbvUbH\n",
       "eyKe8tLLy7ItGBjrouOy3A/6PWMuuuD/fRsDvJ8Lsg9tW/j83QaOvVRKnkPrVdRNxzNRl02g/QyE\n",
       "g6Ju1ED/5qJ52ImgzUgmsHzdA95/AwAYdnGee/zwtagz/3fatEd+zms4B6RT/BwMAPD0GfpEi/73\n",
       "SQHeLjbb1PaNhPd1mQz2qW5bfk8RN2zG4gVrncPDPS/9wx+9Tz6zLN5+Rsb0780W3waZFLU5b95Z\n",
       "58uwd0Ly7Qb/nuDf/eynJJ/PYX9ZL8rvtTI5XKPuH++KusLSipceCjaj6dJ5st8+YHXHM7q2GXb5\n",
       "91/pFH3HdWUd+3a9Jc+H2Qzay+kF74CLc9gGfv/QJBPFfuoOZZvxwfu4hvvkk0+89Om5bLfixvu5\n",
       "86pcBieEfXZt9aqoOzjC91/++cuk28P6M32isSv78WPDXl7ZvC7qvn6Ia+F+X77fBLBtGoI/DgDQ\n",
       "qOFnwQgd+09e7vnlAABg+VxrK8DbpHCM+iBuje+LzSYdd4U5/n75AvbR4y6dqw/3d9lrtpapv1Br\n",
       "8H3bcuh3Vse8LxCOUDs6G/Fr1EyG+vHTIfa/4Yh/BwoAUMgveunJTJ5r9w92sAxj2ec1/ev3v/uB\n",
       "qGv2ULe1wr/P0Z0+iqIoiqIoiqIoiqIoiqIoiqIolwD90UdRFEVRFEVRFEVRFEVRFEVRFOUS4Dz9\n",
       "lt+ODQAQMkKfxSPy1qP37uAWufNTebvs17/7tZeeL8pb52dGKI6zobydb6mAW6/msnSbY6fDX9do\n",
       "0C1ZkTAfPmIWpdt0e8IWvPIrGqauUeO3SkZStP4W13AL3twiv4W/P6BtM5r0WF2vd0TyibSwHT1A\n",
       "67zf5O8X8IVjiYYx35rIYdYiRki96jM+ZBUAwOoChs7YekfeArmzi6E0vv1EDin0Rz/6rpcOZHHb\n",
       "nzvjt/YBACSC2F8mM3l7a+BbbLcb790Vda/3MexNKSNvh76yhSEO21Xcbv/V7/jQRwAASRu3Cg5G\n",
       "fHgSAIC9Q+yLv/xUlMHMwa24sbS8Hf36xgKWtUbHyW59l72mMaLhGa6s8GEJIoVFku8O+K2rRyf4\n",
       "PedCKCUAgEEXt9VatrwN1jLChoSCNBxAu86HMpmM6Ljp9PhwKqEQDWV3dPQJq5t/Tsf7g0dfsrpY\n",
       "jG5V7fbwN/rj4xO/HK9L4pbs/bIcrixr2M94iN/mbG/SbbX1M36slM+PST4QQFsQviDswutnOMY7\n",
       "78rPFLSxDVYu3JKNYUQsSw5lEjI+OjhA+xmKy2FMk0l8pnhJDm2VX0b7lqvJoSPHEzMcpmxXwehu\n",
       "7SrOXwMhpBEAQDyOfaXe4rd3AwCcd7HPTiNyKJncMtq+yIm8Ff+4gVvnNzZWyGdHR6d+OQAAfPPk\n",
       "t7RMwjj/6Ps0vFupxIeWml+gITEGwtZt/3h98PRzVre3i317MqL/J5PM8v6DE6Ah9UZBfjv6H/3x\n",
       "H5L89nP+2U+PaJ1/8SVvW+69TUPHmCGABudy2IVUAu1xoSDPX8slHAP9huwTTo0wplOQw7hUjTCh\n",
       "YWOM/92v5RBYqQSOqffefUfUrd17w0sXLwiHeeZgv7SmclnrLRyvC6tog778gu83AABdI/RxMiPf\n",
       "u9VCn+1ACHEAADC1sB/9n3/1P4m6udJNL331xm3y2UAIeTCZ0r59cMjbDTPkRyor2/asEZpqZ2dH\n",
       "1BWLGD7FNyShUeP9Hf/9ur0Bq/Mzm/G+sRkyEADAlUKm+eoomeCff5Sgbd0dYp3HwvLap2+EZJm5\n",
       "cujdiYN+W7/PlzXoCz/VF8Isjn3/+2eGERlfEEo1YczrowtCONpGnecz8vzaMp69kFoUdZYRens0\n",
       "wvIFQ/L/MA4H2D8GrjwOp2a46Qv6VM/wV+uv5FDlzTau4Z69wPCVX3whr48SCbSx7oZssz/5GsNA\n",
       "jlvyGiZshIGdW58Xdf/9//A/eukbN33hcUZ8u3Wa1NdeEkKKvP8RDf20ffCC1T1+QMO5tZu8Lz/n\n",
       "C+vZq+D4mib5MOijAV37f/e7fOjjf/tTup4Gi18jNdr0HUMiI4RPdOmc/nKXt0FP92k45+IchsFZ\n",
       "vSC8WyiI82E8I4fDf35grgX4tT8AQH+K/c+5IARbMIhz/CCG/fTrF1+L19y+iuF/+xeEO631sT/v\n",
       "vZDHV+0M23RyQXicsREOsGvY9lyO7ysAAOeGn5tNpkRdo4u2b7cmr7eKy7iefve9t0Xd0Hj2hw9p\n",
       "+NDBkA9d1ozQvpcW1nPxIK5bjltyeCI7jj50wZHr1T3ENdvp50/JZ2tv3WKvScVoHw2n+PGVitL5\n",
       "7+tveH/k8JT6xu6It9sLV+6Q/NkhttVpTX63MDZCdL7zvhxa6bCCa1l3xLfTcsk3p9u8XR00qI92\n",
       "HuV9Bsd3ikU0YLyrc+U5IRHHOXTQkf2RWBiffXou2wy7j204ucC2nB9hnd+5jn30+GBXvAYMO5FP\n",
       "yeN1+zn6hNEQf7wHAMDCIobyG43lsu7uYl0OjfCwAVuek6NxtJfLa3IZXh+hbxy6IEw7uNg2jVN+\n",
       "rQkAMHSxv42mNARxt8v7+7dv0vV0e8D/FhDyrXnzYX6OKe/TUIUL6TdYXTyN89rIpXNoRggJF/JF\n",
       "DE3avE1yfFUprQt6PdqGN6/z4QBti+qKRRyv7kR+z+ga8034gpDGhRJ+Zs3kfpU1wnJO5Gj9UIri\n",
       "O5GD169Yje70URRFURRFURRFURRFURRFURRFuQTojz6KoiiKoiiKoiiKoiiKoiiKoiiXAP3RR1EU\n",
       "RVEURVEURVEURVEURVEU5RKgP/ooiqIoiqIoiqIoiqIoiqIoiqJcApzConyI1+khHvS2Xrom6iIx\n",
       "PLAqW5APErzxhnGwlXA4IgDAcIQHeq5P5MNMa8bhjbEYPTQrEucP3ist0+cNhfjnH/oOQWvVhMOg\n",
       "g/TkqE5TOCTXpodw9Qf4/M0Wf4D8eEJPtXX7Dqt78bRM8jfvLLC6VIr+vWbzh+QWfAdk94Z4sGWl\n",
       "Jh/+Zx6Ge8t3eLDJuIdt8+LxE1FnOXiA2zt3+UMBAQAqR3gIenMXDyN75wO5z5b3n3lp15Z/+ywa\n",
       "B7bfus0f9gUAEEpiWR1H7tun51h/hzt4+NpcST7YsZjFw87iEfnehcJ3vXTnS/nw9t4Y+5vrO/TN\n",
       "pNXFE8OubNJDT99YvOOXAwDAk+f3ST7o8AezbV67SfLHpyesbmAcwJtK8fcCAGg08TDHXk8+nM88\n",
       "+NfynVGaFg4JDATo+JxaXVbX6tND45otXleav0fyi0v898bj9HmHfbQ1f/qTn7DXAABUKmgPToTD\n",
       "uAEAHt3Hw4Q3b/AH8F7bogeCtoenrA4idAx12ti3A7Z88tzSHNr3jTm+DAAA5Sj2j/Ez3sYCAKTz\n",
       "WI5cLi/qWh2cY2pd7BOLy3OcHAAAImE8uHowkp8pEMQ5ZejKh9W2jEMGHUeeN49P0U6/9Qb2lfOK\n",
       "fMh2egH7zosD2WYXimgjrWFD1JnnA99ak+1g+Rz7Xq9J56tkkp/LA0APZVxeTbK6Wp0ejnriO8D1\n",
       "H7Cf0kOiT05429If0vF6ZeMGq4tYeKh4rUMPnpwJzba4QQ/Mbjf4PhuP0Tp6992brC4apf3otLrL\n",
       "6rb3H5L85iYenNzoyAe7xqLYBslYVtS9fRcPsv3m84eizk1iG56d8fUPAFBaMurWOJQ5Eolx8t/f\n",
       "28V2S6f5vgIAMJuhgR/P5AOp7SC2QVPw3wAAcvNoTzJ59AvuvcEfCA4A8PIF9sXXr+UDruMJHNcX\n",
       "HUg/s3H+d8K8PwhAD2+djqmdSMb5A2Ytl37vTKizTgd9rGpVtlslw4+8aE7udvFA1E6bzpnFPG/D\n",
       "QyH67JMp78ePx/Rw1KlgtsO+w2kjIf6A5WCA+vHjEf9c3R61Vddu4TwaCMrzUnEe7XY4Jh+gXT45\n",
       "9tL1Om/fF9LrJB8K8QcB15v0+skEbY2//kxM3+wiAsZB2FKfAgCwbfRv+n35kFzp3rGYbDPGNvaX\n",
       "YFD2oSMR7Ef//q//o6izI3i/pRK/3gIA+ObbB156anQ+f38z6Rh2+vEz2caGJuiX3t2S5+REFA8L\n",
       "PtzjD/cFAAhYWL5f/OJn5LMZ8H5MsUDnivA6XxflI7rO6ElzkUUHaCzJt2l/7Ot7xlApnx0BR9C/\n",
       "dhJcs48+/gHJ//Tf/YzVnZ5VST6Z5e2qW/etHyL8uqDZofc7NeosE83whQWAQhH7rOXKPmHceAdR\n",
       "yMv36/SwvLML7jebYn0GDLtYKpXEa9pdHK/VijzGzxpoV58/PxB1AaMNoxF5fTi18HvN9xTmXOZn\n",
       "6GIZsrlFUdc2+vLyvLx+KJTQJ5xO5TneMv4Xuz+k88vQ5eusOaC+e9jh56VsDuvI3pdtuxXAz1I5\n",
       "2R8cj3Hgldaoz3v/wRd+OQAAxBw6V5s216T2FfWXesJcFE3Tg9KlNg37/Kr0HPpwkZDsS937AH3e\n",
       "ozr/zgwAoNZHn2sC/Du9I58dXCxtsrreObUR4wn//rHbbvl0+BwbGxt+OX7v8pKXHrhtUddv4zOt\n",
       "X5fv12ljvZj+g5+FuS0vHQyjvfyLP/uvxGt+/ZtPvXS7I/vnwz4+xzfffCPq1tb+wktPpUkAAHp9\n",
       "o79ZOF/PzfHvawAAjo/wfUulLq+nU8a6ZSK0LQBAp4e2pTeU22k8QbtQmM+Rz5ptfjwcHlO7Wi7v\n",
       "srqFFXq/TJGfO5p96kc+fPyU1SUzWH97B/TddS4/75cDAEA8Tb9zfYO3syGbzgFWgPezAiHqC+zs\n",
       "8H5RJk79j7CDPmpMeF8IALC9g/0gEuH9AgDqX1dOZdvSNWzam3ffEnVnxvv5aJxfG+tOH0VRFEVR\n",
       "FEVRFEVRFEVRFEVRlEuA/uijKIqiKIqiKIqiKIqiKIqiKIpyCdAffRRFURRFURRFURRFURRFURRF\n",
       "US4B+qOPoiiKoiiKoiiKoiiKoiiKoijKJUB/9FEURVEURVEURVEURVEURVEURbkEOKHEQPxwaS3l\n",
       "pQ/PdkVdoxX10pPhVNT1BvhZs1kXdaubBS99Nb0h6lpLDS/d77nks2G/z14zC/ZIvrgUZHXDrkXy\n",
       "3ZbN6tLJJMmHomlW153R8vQGE0yf8XVRO6dlTYSjrC6dyJP8ZMCXYb/WIHnXdVjdowcPSD4cDuN3\n",
       "FbLsNQAAThB/Q0wmwqKuXD/y0o1aW9QF7JCXfuPepqjrNfEe3Z2Ol/77nz8Xr7mxtu6lK92uqGt0\n",
       "Xnvpb7/9v0Vds4npWzffEHXHJ6+8dCgU8dKbW1fEa4IzfD7Lluur3sL2zeYKou5879BLr5T4vgIA\n",
       "UKkfe+mNpRu0TPY8e008liP5VCLJ6vKFDC1TrczqfvKTP/HSx8fHrAYAYOc1fjYfLIm6YR/t3ZMn\n",
       "r8hnjfoJe83m5grJhyK8zdhaXSL5ZqfK6uqtc5LP5OZY3e2b10k+nUxgmdbW2GsAAH72H3a89KAn\n",
       "9+1aGevs3bUtVpMczEj+3evXWd3e994i+WodbdcXX30rlqF7jAPnoMbXPwDAjXtYt6c1uX2nz3D8\n",
       "21ZL1K3NY7/vjtBWZXK8TQQAGLnYdz74wbuiLpnB+/XcpqirN8/wezPyeF1dwbaeWVi+eqPHyQEA\n",
       "ILGC42t5Y13UDV2sr/rxE1EXmOH9li6wGasbi16606e+wKujF+w1JwaCMgAAIABJREFUxSKdU+q1\n",
       "CqubwJDkp4ERq4vHYiR/583brO7xk2ck73aHrC4ajXvpTIbarVyRt2/zC9QOvvEGPydYgTHJT8b8\n",
       "eI0naL88fLTH65K0bepd7COhAG+3AACOjrEvLuVln8ua4Jy8vi7PyeVT1I3HrqgbD/Ezy0Kfq9+V\n",
       "+3Y6hXYwGuV9IgCAoOG3SP4gAEAkimUNhkOibjZDW9hu4zwccmRfZ3UB547jgweiLm6UIeBMRN3E\n",
       "wToKx+XvtY26tG3qy4Ys3sY1m9RWTSZ8ORoN9DOCQblPlUpop28KvisAwM4O9uVIJEI+G7p83xkM\n",
       "6Lql3+dtgZ/JlB/j/vvBhPf3QyH6HMkYX5fRKK2Xrc1VL50pWn65xziAdTscyr5et2f48rMxq0ml\n",
       "qG3qdjusznHoM9RqNS8dCUX8crzOwjrq9+V1pDlGzTHux1xn9C8Yr9MpzitmKwUC8v8wms9ofo8f\n",
       "sz/HfPOISSiGz9Ruyz7WrVu3vPQXX3/lpbeuyrbTLMPey5eiznXRRkaDfH8FAAgB1tdwKq/P3R72\n",
       "t55L+54tDPPvf/efkXzL5evCPx5afb68jkPbMJ3NsTp//3jrLfQ/+z2+n++83if5OzfusbrJmJbh\n",
       "ox/8kNX9zc/+juSdED937O7TuXqQ4e3q2pJvnRHE+aaYK7LXAABYxu2GNdnnHVTQZjRc3g4CABTT\n",
       "WA7L4W0LAEAX0DaPbOxXjZb8bqfZwc/CUXnuGFSwDftduc+a9mk4kHWjKZY1EsVrZiDPtYkE6hoN\n",
       "fi0HALB5Fdfub78jrwtcw3843NsVddMp1vl0RtdfsxD/jM0BrfPAjPehV+aveek//bM/Fsvwq89+\n",
       "56W/ffRM1N1axfudtM/IZ4kUb2dfPKLr7uXVVVb33gfvk/xvP/uc1VXO6HuBpaUFVndePaXfu4jr\n",
       "7htb/BoBAOCojnUbTMp91gmgTTs+OGM164v0PU/QFvxNl37PdMT7QbUufZeQiKGduGg+3Ns78NKh\n",
       "qDzHj2Y4r3/+2SeibmML63Iq+JcAAK0+ziupAK5V+vIUCt0W+nYjoR4AAOYLOFfUW/wcAABwdID2\n",
       "uDAnv0vYMPr24dGul25f8L5w4GJZn23z610AgGIe26l7gX0DG++3spEXZckMvqsfjekcsODwfSxo\n",
       "03bPTfl1fW9EfYGIzbdvOkfX8bkC36/GE+zbTpC+k56f59ujXKFjt9Hk14e5NH2XNje/xOqsCbWr\n",
       "+0eHrM5eoddHQzimTiv8GAegPm+jLb8DSiWwzu++eUfUnZ/jOH/0VH5Pc/XaTS+diPK+k+70URRF\n",
       "URRFURRFURRFURRFURRFuQTojz6KoiiKoiiKoiiKoiiKoiiKoiiXAGdjbVH8cNDGra/WhN8uCgDQ\n",
       "b+F2smRCDv/Vc3ErV36OD4sCAFAuY6inauVA1N2+i1vkN2/QLaJnpw2/HAAAZhO61Sqf48NCpML0\n",
       "OY5e8dsFx2O6PbjZ47dNd0Y0/EGqhFvfemIIJrrtTwplEovR7XuNGl+G1oBujex2+RAKm1dpeJf+\n",
       "ALf3hdNyaISpEcKuecEWb4jiVmk7Im8fd0cYCuLwRA7V9sWnn+L9ori9Lx6R+/ZZBdtjcUPe4plM\n",
       "4DZAayxv7a0e4la/gCtvw2waYRJXNrDd7j/7hXjNH334Qy8djSVEXbON21afb8tbsm0H75FMyuNw\n",
       "3bANL17REAXlL/mQXYsrKZK/fp0PkfHw0Vckb4bYMXGMUBcLi3xIOQCAaBjDY916Y0XUTY0+dXRI\n",
       "t2eeHvPbMM8r9O8Li8usrt2pkfx77/+A1RVztI7293jbmvSF77EstEGZrLwlu3yE291jQTlEye0t\n",
       "DNl3fJ/fMrqUomV1YvwY+Ms//xHJuwEs+3sf3hXL0OngNt1ASA61UGninJDMyaGCFoywZo8fPxZ1\n",
       "12594KVPzrGOSiV57J6eYPt2u3Iour19rP+37l0TdaMR2tnF5XVR1++hjczFcV462Nnn5AAA8PRz\n",
       "7FPzS7Id7Bh91orLoa0GA2yn1Q0+HAMAwOkZ3m99gY6TzBLfD3p9un08GOHnr1iUbiuv+LZ8/wOW\n",
       "Ta/v9Gus7tp1Os+FgZ+LFpdwi/fSGr3m+Ut+XkpkqF2NxPlxeHJKbVAuzYdxyeXpOJRCD7Vd6qdY\n",
       "EyO0z1AOmTbr4Tw3bM5EXdzGclwU/mhzA+vp6rULQrP2sExBB21a+UgeX0EjVNNsJpe1aYRgG10Q\n",
       "Lipo4/8+zeczos4Mu+IaoQurZ3Lol4U5nLP+/Cf/QtT1jfAzm015vFaNcB4Pn8pzvDU2QlZm4+Sz\n",
       "QY8PkeG6Ph81xfsaZhg4s07+8f3we1ZW5Dn52jUMeZL0hSeUbPh0QvvHYMD7m7ZNw0gFgfdfZxPq\n",
       "awfCfAiLRJyO660N3hcww3oBAKxs4Lhuu3xoRgCAwQjHw+HpkahrNHCudCy+z86XqC0JC2Fp601/\n",
       "2GdcE7kDOZzKLIb9yhXC8AEAWBaOr4vGqxnWbDiWw8WZofhiRqg2/1qMYIQ1u6gMnQ7azw8//FDU\n",
       "hQ17/vj5U1FXb+FY2djAMK2vdrbFa86N8KbdC+LeJI3xaU3lZ4IRfhaPyb6TGYbzH4VEDfP33z+n\n",
       "fXQ04dutUaYhZzoDPgxZLk378tKq4Gt36fUPHuB6xB0La/A2/ftX9++zuqXSOskPBvw7gjt33yT5\n",
       "WJwfh1evUr/nqLLD6uoVGqqp00K/ZePKTb/cY2UB16+ne3yYGgCAXhX7UiKeEnVxY52xvSv3UzuL\n",
       "/a9p49iLReV7Ty0jdNlY7rNrRvjqVlMO1dSood1PxuOiLpbAsk6MeHjmePfz1vsYknfUkX2n7/3B\n",
       "H3rps5rsC9z/HNe8R/vyHFAu42fXbtL+XxHWHYUFOm8mM/z6sNJAfzMqrOUAAG7cxrXh6jU+pDcA\n",
       "wNE+jv9mlT57u3rulwMAgB2nc2tPsBlf3v+G5GdTfo65skzDuSWEsLdv3fiA5GdGpNG28C4MAKCw\n",
       "jGGSTpvy+8ijcxx7Tpz/f/r+lH5Pvc33PytE22Y45G1QNErfU64s47jpD+UQjjHDjzHD+PuJGyFi\n",
       "FzdlPz4cN/ynmbyOfPQEbe7CPLb7QpEPLw8A8O57GLpz+4W8pk+m8Xs3NuXw913j3aRtyfseUim0\n",
       "5+/cwzJUqrKNLRlh44/L8hjP5o36r/JHGwAANIwjGxaX5bDbAcP+rixQ3f4+X15/u8cSfLvlSzRM\n",
       "mG3zdnviq0p3wIdwrVexz3d9YbylkNKuf20+48dD0xfW7/SM7y9R33vPSJSfO3ojOobCEZxHIlH5\n",
       "XezQ8LmgLfvGpq99dsq/pwCgYa8Dluwbf/EVjq/piA8bqDt9FEVRFEVRFEVRFEVRFEVRFEVRLgH6\n",
       "o4+iKIqiKIqiKIqiKIqiKIqiKMolQH/0URRFURRFURRFURRFURRFURRFuQTojz6KoiiKoiiKoiiK\n",
       "oiiKoiiKoiiXAP3RR1EURVEURVEURVEURVEURVEU5RJg/bf/3Ycz6cNsOuWlq5WKeJOD3RMvnYin\n",
       "RV2z3fHSAScs6k5O6l769Kwr6vLFKF5zViOf3b17j71meSlL8g7UWd3Dbx6S/L/8yX/N6v7qf/vX\n",
       "JD+2Eqxu7NBqLm2grrDAX1M5OSf5dDzJ6tLJCMm3Gh1W15tOSD6T4tsqArSs4ZjtpQ+rx+w1AAA3\n",
       "t6566UBrKOrq3Spm4jlR1x3gcySsiajbeVz20qfVkJe+++Z74jXjAbb7ZNYSdTbgs9eqTVEXmGIb\n",
       "HuwNRN1kin221cNyF5bEYQiZFP42e+vWDVF3/9s9L51PbYq6Zhvb8OYbRVH38P5rL109TZHPrNiJ\n",
       "X/77+93aIvnTU8FuTOMke+XaBisrltBO2MGxWFbLxnYPOXJdxiI4hkIBOu4iIb4vnpSpjRgM+PYt\n",
       "zNM6SmairC6TCZH8y+eHrK7fp7YvFOnjPeJxv9zj6bf7eI+GPA4nYxxf2WyW1wRonb/7/e+wOitI\n",
       "n2nkTr10rymPh3Ydn3Hmyu3bi+NzzMby/yr8/+y9+Y9kSXLnZy/ixX0fmZH3XVl3Vx9TPT0zvTPD\n",
       "4RIksQRXWO4SAiQBEhYSBP01+4OwgKTfFgQW1Eq7S86Ky2PY0z09Pd3TV1VX112V9xkZ9329iNAP\n",
       "Qz5zezRL8OeEfX5yz/y+F/78MDd/EW5+uG88e4e3gwAAtRq26RSLCvFL7FHdKOt33ntH1L1z75ab\n",
       "3nn5TNTFDXs+t7Qq6koXWNZvHz5y03mhzQAAAgOcE06bT0VddgXLkF5YEHXH5ziO2y3ZDt67fsdN\n",
       "X5zQcWNH+PnGDtC82S9N8rk0yVvCnDCZ0Lwz4u1BLEHH69Th+2lvMHTToTAd0+0uf40zHpJ8vVJl\n",
       "df3uiH5Wlx+vi/PLJL994xqr+/rxI5KvtYy5beKpaAO/0V+6VXmutQY4zv2+qKiLGz6JMxmKOtu2\n",
       "3fR0guN6KhcBpkYDr68uibpQBMsXtP2iLp1CW5pOJ0VdMGz4rFMs66cffipek4lhn731HXm8go39\n",
       "4Pnhc1F2Wr5w0zNz86LOmmL91y+65H/+Kd9uT76hPu/I4fviYIjtmUrJ/v50iuMunZbtaiaTc9PJ\n",
       "pKf+J/zYbTbo3Njv83NHIEDb3SdMHYMBfdbJhBf6fXSeC4fDrC4WoX+/dgtt63ntCV8IAPj105+5\n",
       "6dFIng/ToS03XTnkNe9+57skf+/ePVb39Nkrki+X0T/vtnteuct4iH3W9lui7r/9V3/spgd9eT0X\n",
       "DmPdji959lQa56xUHH246US+JhLEsRsKyWtPn9FdQhHZx2p38TmiSX5dBgBQbmBdvth96aZPzuV1\n",
       "1M7BjptOBHkfEgDg7TVcC7y1ys8HAAA+B+sllOP7KwDAo4PHWNbzF+R/Q2vklQMAQLlaJPlut8vq\n",
       "jk6pj7uwOMvqGg3qMzSb/NrMtC0AANeu4fM7IX7stuq0bPnsIqsrX1RIviS8+8ik8yRvB/h1PExo\n",
       "f6v2ef9pPkr7kW+K7WZF5fGVjOG4GZZ4PwMA4NVL7H99oY4AANbTaN/z+byoO+1g2zw6OnLTW5t3\n",
       "ODkAAMyG59z0TFqeuwcWPtN5RfahN1eNdaPX8TNotFpuenEVfe2xI68VBy0c4+fHJ6JuZKyRltc2\n",
       "Rd3PP/qlmz4y6svL8gKuyZNpm/zP8fG+cbFGy7eUvcnqrm3ie4FWQ14fra6ibiDMhQAAfQcdtZRn\n",
       "LgxMeCeuUmmRvM8zp/49hTz1b3xD3o988+Y2ydcv+HcTR2fU5nYGaNMOimWv3KXRxzHVmdZFXbKA\n",
       "zz8c8+uCZonOp+/c+Qmr6zc9/qrNly8WoWui4QDtRDwu2CMAaPexDYYgr89fH6BvUCzx9QoA4DP6\n",
       "gf8SXyBu2Li5Aq5p4mHZNw760V8N2LaoGwywbvOXzHOOMeYbddkfOTvDue2dd3G9f3K6L16zs4+2\n",
       "6uz8QNStbK646Xhc9h+GQ3PtKT/T4Qn27UqJjuu7995gr9nf3yP5aJD3i+YXaNt0uvycHArS/haL\n",
       "zLG6i3Oc/yoVOtduGPVi4lh03B3u8e/MElFa1rbgv1bb9Bn6Q34MZNJ0rZSKoT826Mnr2oVFfI7p\n",
       "VB4PvS62VUCWQb2Oz2+HZZ/wvIT+UyzC63Snj6IoiqIoiqIoiqIoiqIoiqIoyhVAv/RRFEVRFEVR\n",
       "FEVRFEVRFEVRFEW5AuiXPoqiKIqiKIqiKIqiKIqiKIqiKFcA/dJHURRFURRFURRFURRFURRFURTl\n",
       "CmAnLzm4OmjjwXi5TFrU+Y2DCl+9ei3qLOMc4eElB3WuruEBX+26fDDh8QEeXnfnLj088GiPP3Ss\n",
       "dk4PhLJt4QDYID3g/qzCH+ZYWKSHVVVr/OF1vgA9gMwyDoeedPjDL5s1+pkR4Szi4yZ91niMb6uN\n",
       "tTWST0X5Q4sDI3poZ72Nh8hFI/IhqI+e4UHAi8kZUReOY7+qOzVR5wviAX+phHxg8PJ1rMtIA+8d\n",
       "m+MPHwUAsHp4eNrLh/KhqgfGgWE3t5dF3d17eFBvAISTdQHg6VNs01QUDz7zT/g+AAAQtvDZaxX5\n",
       "8LBqBQ9I23v1uaiLGwdcX3b45YsXWNbZeXoI+LU7Oa8cAABCYdr/L4p8++6/PiP5QY8/ZHzRONAw\n",
       "VxCLCtUmHrq3scQfYgkAMD+Dh0Pu79HDL3st/uC9SpkevBqM8t+VH5xSW7V1nT+odGxRm1Gq77K6\n",
       "eIqOz0fPvnLT3kPtTVIFvO7td2+IupfP8bDeizZ/kN3b9+khgN0gP6YabfrsYwfrqNriD64FADg5\n",
       "xvFVmJFtxqiGB237QT7Q0LbRZljAHxAKALC6ggeVHhtlqNUrnBwAAJodrKNkmO//AAAvvsVDWusl\n",
       "+SDs4xEeptnrys8UNA4FD4XwcL5wVD7QLxjEOvf1+IMXAQAOT3GMX/RkW1Bt4DxpW/Jhmv/uT/7M\n",
       "Td+9QQ8Or1V5O3vnzi2Sn4z5dtur0MNMUwn+oG3zQE8AgKTguxzu0nE3Ep4rl8bDIScOPSTzow9/\n",
       "5pUDAMBFidq9m7f4Q6PBT+s8GuWfveXpHx//ij/IsjBPP2d+Hm3N6bF8EOupcQB0IsYfsg0AsHdk\n",
       "2MzRJf0vjHbbGQ9EXTKNc9t0jAesWiA4O0APbA/IMshm0J6kkvKh7OlVrDPLLx/snMmjrzzo4Dwc\n",
       "CMh25vzswk0v1XnfEACg2sZ6taayzQgb5WuVeZ8UAMD8pKbncwdd3oeLxWl7Fou83RiPsf67Pfkg\n",
       "XMv4TdmrVy9E3crKmptuNOhcMRH8k0iYtmcwyNtP74HvjsP7+34/7UgT4D+357Et50W+DaJB6s+k\n",
       "s5jvg+zrLa+iH1lvyv2gfohz0ebyW6wmFKb2zHto7t9TLBZJ/ugIbct4dMnh6FW0cRtr66LOnF8j\n",
       "Yd7PAwAIBtFOhy85tLjfx2f3Ge0bsOXfMAZ82L6WJZ+Ym0jiGBgKh/sCADgOjv9OtyXq+n1s61wO\n",
       "7cfz10/Ea1ZW0WZfHMk2ezDG/nFRk21BNolrnWQiKuosY4HZHtFx/WL3mVcOAADxHPVRv/z2S1Z3\n",
       "8zr1Q+sNvs7aHj/05KTI6rY26eHtR8doZwc+3oan49Rn++CDj1jddEztZSDI36/Tp+8Skql5Vlcp\n",
       "U59hHOTbYOI54D5snOw8isnjsJfCsRLty3OtebC7Lyyv48cjnJOHXXnePD147KaDdt5NN2uyfRuO\n",
       "8PDwyVAuaziH9xs58v2+eYxronXP+w2TuDH/P3n60E37LvEzHOOg7mxCPmi+3ULf6c/+7E9F3bXb\n",
       "t9301Cc/eyyC/sRSgfpi3S5vw4Oe7uEb8Lbr+Q6O4/AlB8j3XqIunZDXZfU+2omLIK3LrWXe5x37\n",
       "aNlys7y/GfP4bOeveVv4+sVjkneEZ/cH6JziDHFcD6dtr9xlYmE/yGflflAq4zuNieBHZrP0fWu9\n",
       "w7/fLHtsRiTMj/9+n/59ewvffXS78jPF49jHLmryO7h4FNvg0bm8No4HUDe/kBd1+Vl8/mQabVDw\n",
       "klPsp8b7yKlPnuP9xjvWVk9+59Dr4djLpuWyTqbY1p0u2vr+QK7X8RjLmr6kr0zG+LzDkbzm8Bl+\n",
       "aSIp+0TjQ/zcqOe9bl2wx+Z8AAAQsPi6HQ7pO8dUmp8TmnU67oI2b+PKJZzTcxlqg7ptfr5fW1sh\n",
       "+XFb8OM974aigTirm3r2uxyc8u/+wmE6XqMJs27ltU+1gWunxTneLwAAsIx1Rr8tv6cJBLC8vb48\n",
       "H17b3sT7CTrd6aMoiqIoiqIoiqIoiqIoiqIoinIF0C99FEVRFEVRFEVRFEVRFEVRFEVRrgD2aCyH\n",
       "wPIb4Ta84UpM6lXcohQMyWFvmn0M71JrX4i6pBFGY66wIOomxvb2iCfEhtPht+DVW3RbWDDCb7WO\n",
       "JulW1RfH37K663fptvW//q98WK2pJ7LHxgaGF+r3+bpYm6fhxFbXN1jd8SkNJ+YTdix7wzt89ref\n",
       "srrFJG3DrRv4uZOhHMokl8PtvN2uHJoi4ODWRr9f3rIYi2E8r25X3g4dCGHIiDv3cUvlRVHejuqz\n",
       "cMtyNsvXKwDAxjpul01G5W2Y+Qx+7uJCXdRVatjWTWML6vycEP4HALIJDPfw7LkcJmVkbIPt9+Uw\n",
       "cCuzuM38dFfeUphK4tbIN39At6pOHb4uZvN0u+ztO3xnjIXp+Nw/eMXqHD9uAbYusS2WD/vRydGR\n",
       "qKuWDTs2oiEOKhf8ds2jQ7qtvD/kt01+/0c0zMrxIb8dPZygYXRiKX4MdHo03MPC2nU3vbE255W7\n",
       "BPzY9hdluS4Ss7hVtT3ln/2Dv/0bWoYFPsbe3XtvkvyDh0/d9NLymliGhxUjLMdE7rMzRliS5y+e\n",
       "izrLCA3mOHJIjN1dDEO6sIB1ubgizzcHB7gF+K/+4i9EXTCA9igakMNoBELY7o5P3t5++01s93IH\n",
       "w0CFUrKNXd7AeljIyNvMOy9wTt55KIdm7Xexzy4sy31veRHD/NQ8IVwuimdeOQAA/OyEzl/ZFB+O\n",
       "LRqh4+b2bT50YdQT+un0kN+6/fo1tTnRGb5vb61hn3j56BG9xuL72D//7e+T/JPnj1jd4iaty8ws\n",
       "H3I1GPeEqWrwn1sp0RB6dSMEmDWRQyul41hn5aIcGiEcx7YZ1OXx2ukY9sS6JKxZGedovx/DM/Q6\n",
       "cmilmBGa5nQi3zufwbAhfrgkpJMRJnEwkf3hgDGuO44Ztkmel0rH+Hy1Eh+6AACg08O5YmzJz+4f\n",
       "4nP4/LIvVrrAdi+eUzsxdviQzn6b1pEZRsskbvSV0CWh7WwjxFmzKfsZNSO8SM0TakQKx2Z7/Mbp\n",
       "mG/fvid08sjhn8kO0ecIBPnQhT6L6iaCS+iL0bAVEeP+kbTcX0I+bCtfUfYjB0Y0r1iUt++2TcO7\n",
       "HR/zYYcbDVrnJ8dop73rFpNOC+17YUYOCXlRxLCcyUtClKRSWGeRpBw6cjDEOjLtTDolhysaDHD9\n",
       "IPUpAAArgHa115PH4WwBQ3b0R7Id7HexfP/5v/y/bjocl8fN8QXa36DUwQDg4Bjnr9WsHKa9bZi0\n",
       "w2eyP3hmhJh8uUNDJvXHfDi2/ad0bn3zzTdZ3dATdiwuzPGhCA3HYgX4fvBsl37uaRH9yLDgcy3N\n",
       "r5L8SGjeQJDakkSSv1/IE+Z574AP2Xd6SsfXaMw/U25I72eG4lt4Qw4t3g9j3U47csgZx+inzZGs\n",
       "e/QV9oOgXx4r60bI2jkjdGE2K/ftWSOk0M4Ov+YDADjdw7BtK8vXRF2rjWPl+Jj38wAAQkZYyXIN\n",
       "Q2pdNn+N+/jsvaYcPrEwj7ZvY1NuJzMEeXpGDrPYreEz5Tzj5Oz1DntN1DNf2UL4OMcIGd6+pG39\n",
       "RhjTi+M9UZecwbms3qV+44tj3maUXtB5KDfL+0VzBTpeY8KLrSHQ5+g4/LrovEZDqZ22jToKyCG7\n",
       "ojGs257gEwEAxCMYFjEclH1tk5At2PcprbtIgl+bnJ/TdwzlCtbloCP78ckU9r/TS/zSnlG1yRgf\n",
       "KgsAIORH2+UXwmsCAMSiZqhytKs7r/bFa4YDvN8lpxHAySnWxY1b8jhsGb5oPiP7pRlj3Vxtog9T\n",
       "78rXRNM4XuunchiuximuC3yWHB52ZIQTT8/IPhFM0Y69fE5Df+eyvC3w2bQvR0P8+PLZdDytbfLv\n",
       "SI6P6Xts/5T3X5MxrNftbRq2bWeHXyc/fUD9kcVZ/n3pxTkd4xcVfgxMQ9Q3zqcE/2lCfQHzHWsk\n",
       "Joc+NddOo4n87jqVxnGYTclzkfmOavdQ9uF8YbyfNeXHq+70URRFURRFURRFURRFURRFURRFuQLo\n",
       "lz6KoiiKoiiKoiiKoiiKoiiKoihXAP3SR1EURVEURVEURVEURVEURVEU5QqgX/ooiqIoiqIoiqIo\n",
       "iqIoiqIoiqJcAfRLH0VRFEVRFEVRFEVRFEVRFEVRlCuAPZh2xX/GIyk3XWv1RF0ysemmn734QtSt\n",
       "befd9MxKRr5fOuSmQ05K1AXteTc96FbI/zbWc+w100mS5E/P+eevtYokbzUGrG5tYZvk19dXWN03\n",
       "X35L8qGp7abH0wB7TdNT5599+jVfhmvrJH90/JrVzc+tkXw+M8fqhp5nffjlEzed2OCvAQAIxaNu\n",
       "2rLl7xO7dctNjxNjUTcMNN10rdQRdZkEtmmnNXXT0VhQvCYWD7vp88NjUffzT5676d/9re+KulDo\n",
       "mpve2/lU1M0tYL9fSyy4aTuYFq9Jhkduejrh+woAwGSIfd625PoqnpVQFwiJult3b7rpm3fz5H+v\n",
       "H/H24OT0guRPzw9Y3eLKIskns7P8/YqnqEncZDUAAO0m9iPbroq6g9091AG1LY2q5ZUDAEA6sUby\n",
       "pYsKq3vyVZnkl1ZmWF2rMSX5ar3N6p692iX5QR/T5XITJK5dz7rpSCQi6sJh7C8pq85qnrx8TPK+\n",
       "owmrO35G23k2ic8eDMp98d1ZnDt81lTU7bWxH7zz1huibtDDNtzbORR1oQDa37l5LOsYRpwcAABW\n",
       "1gpuuhyQnykSQLtztH8q6npltLO+uGwHqx1sw4V1tLHhmDx3n/ZxDPh88r3fvHfPTU8q56Lu5RHO\n",
       "h1vfWRZ1195ec9P/+//1b+ln3bjBXjMc0jo/O+TrrFahdV485+e5jU1avu//4D6re/PNNZLfreyy\n",
       "unr7qZteWaL2Nxvi62Jlgfo3mys/YXWlDrUZZzX+2f0+Oj5nZhdZXf2iT/JBwH4+6nvVSK2C9/f7\n",
       "8qIuEku46Wm3JuosP9qJKTjyBxs4Dup8Ptl/MP83GPB+GQDAsIcPPInLdrDfR93Ykss6GmE/TaVw\n",
       "7rhx45Z4zdEutmfljO9fAADJjOG3GH6UF58f63/gXGIvX71CXZfWUSa1xF7Tc2gHicX4cphzyngs\n",
       "25ZeD32EWCwm6iwLbXYoEib/63V4G+dt9+mYn7vtAO1Hlo/3CQcjaoOGI36eC9i0f4zGvO76xgbJ\n",
       "J5JxN10ZnrDXAABU+2gPRhO5fdNpnLMa1QarKSxTn0pqg2KsFY0CAAAgAElEQVSRrnWiUWz3/V3e\n",
       "fwMACPj9bnoy4esBAKDdbhs62Qg5DvrDoZDsl/rwY6FpjN1wOMyo/+7eg+E/qqytVstNZ7NZUTcc\n",
       "YN/u9OR52LQt2Sz6+FN5aQKfP/jMTd/2rO1MZgs4x/zNR38l6v7oj/7ITb968ErU7dV2sHw2Hden\n",
       "x/vsNfffpfPaoMuvC0LRBMl/9jn/niAYpn00O1tgddn5BZI3W2Ahwa9RgwE6B0SCvK2Pp/0kX67x\n",
       "fsbq5jWSD0b5OcYO0Mbud/k1XLZPP7fbwjl50Jf9/UoFbWFhIs+bYaMcrRrv7wMAzG/hOJrN8O9R\n",
       "AAAW13EOnIbxc9dW+PkFAOCzv/nYTefneB8GAKDuYB11O0NR57PwmS4uLkTdyMF+mUihfRtc4hRt\n",
       "rK266X6TX6P9pgw4Vm7d3hJ1v3rwpZuOp+T3Xwu5NTe9b6xXAQBGbb4uvvcu9XHPit+yuv0h2rfA\n",
       "jPzOwW/Ma8NeS9RVilie2pT653Hg55tBl85X0bDN6sJROgc4gq/XcajNOa6VWN0HXz0i+dwGvk/I\n",
       "ZWS/L2RMK6Ou7O9kE1ifjUqZ1fR7tI7yaX58RTxV8vkD3l56P+fdN3E9t7Utj6+LEvqlo6HcvukM\n",
       "2t90Sp4PO8b70qA8dcNwiP3l8ODMTTdbl/gFhmsWjMgT59hC4ecPH4m694yxsn8svyN4vofzoWnT\n",
       "ShV53ZPO4riuCb4rAIDlYAPHY7LfEjI6Qr8t26DpGOeOsE3fcXcafN/euk7n0FvX11jd148+IflS\n",
       "kbezhRnqb37yId8Gm+v4zsfrVoyFvpgIUT/g6bePWZ3P8350ZYX3nx48f0Ly+UV+zet9f1Yt4Xhb\n",
       "Ed71AwAMR2irDg7ldV8+jX5RvyX3qy++/KWbvn77jqhrd3Bel6Y23emjKIqiKIqiKIqiKIqiKIqi\n",
       "KIpyBdAvfRRFURRFURRFURRFURRFURRFUa4A+qWPoiiKoiiKoiiKoiiKoiiKoijKFUC/9FEURVEU\n",
       "RVEURVEURVEURVEURbkC6Jc+iqIoiqIoiqIoiqIoiqIoiqIoVwB7OhiI/xy0e246n4uLupPjx27a\n",
       "mV6Ium7LdtOJxIyo67ewTBNfQ9RNg1U3HQmMyP+Wl2bZa5r1Dsn7rD6ry6a+Q/LPn+yzutP4Mclv\n",
       "vZNjdcMULc8oFcb/XQhlLR+QfKc/ZHUx/xzJL+XDrG7cbXl0S6xuELJJ/vMvP3XTK9EKew0AQLV8\n",
       "7qZnFzdFXXuK7ZZqJkRdwgq66Vdnj0Td4vL33XTnYIz/cALiNb4spt/97juibus6to1lt0TdVzsf\n",
       "48dG5Wd6sr/jpn/7995w081mlZMDAEC1PXHTMwV5HNo+y013mnI7BdJ4v1t3+D4AALB2Dev/4OkO\n",
       "+V8+8H2vHAAAPv3Z1ySfzsdY3UWxTPLDcY/VzS0U3HSny49VAACwHTeZmFkQZddTK2765bd07J4c\n",
       "7rPXZBMOyc9n86xuMOySvK8zZnW7vz4h+XrnhNUN2vR+qfS6m37y2Sl7DQBAvVR300vrWVFXKOD4\n",
       "iESDrOb9H/+IlqnDt8HFa2qrfvjOe246Z/N9AAAgu33bTZeL8tyxNFl200OfLeoqfuxHhUJB1E3H\n",
       "OMfMzWfw+uGZeE25V3LTb/3wXVFXKuI93vjBj0TddIpliMTkZ/IFsB+lLJxfSlV5jHfbUzd9Y/2m\n",
       "qGuVsT2bk3NR99v/HG3kN48firpwAZ/jX//r/4n876tffsBek89Qe3n/7d9hdb/46DOSt8Z8nY0G\n",
       "tC/XKiNW1+1SmxtZ5vtL7bTophcWV8j/ZhL8nPzmvTdI/qLK1239dZ3kZ/K8L9D30bmndCaM/zGd\n",
       "+837ndbk/hIOYl322h1RZ+EUA1Pg6xUAoNdvu2m/PA1DJIK2YQp4c58l/x5p6GDfHnXkshbLNczY\n",
       "U1HXN/yqQCAk6nLxJJZhhM930K5xcgAAmNhofwd+R9Sd9Z656d7wWNSlM9j/nj8uibp6G+uvP6TP\n",
       "noW2Vw4AALY/SvKW1L5G21iy2YLxAJ+32++KumgU291p0fE0nUy8cgAA8Fl++gc/318ch87BwTDf\n",
       "vtMRvd4f4DttwI54ysHfL5NJkXwqhf18/7Xs67Xb2Da+S+ZNnw/Lu3v6mtUsrFC7unmN94ssT12a\n",
       "dZZI8X4BAMCoh+0b8MnjZtjHNVwgkBR1Ywfb3hnJ49pndOdBB/uV5ViM+jdEQ2gXRw7vawIAmCN0\n",
       "IvQ9AABnjP+LRmWffGR0P9uwLWeVPfGam29suOliWbYFjRbaluV1ft4AAPjbb3/ppr96Lc/d+QyO\n",
       "f7+f9gnb05//nqc7T0j+e/ffZ3WfffwVydebfPvOZ9IkX6zy81wiSsdG1Chuscr7kekonRtDUb6/\n",
       "VLr0nYjtqYu/p3dE5+R0nF/7743peA93eVu1vHad5FsNbPtRQ+4HSxu4/k9m5LXPWRF9kB9srom6\n",
       "kjEInAt5HKanWC++CdrL//Qf/0y8ZhJHXTgij6+w8Q6iVCuKumwW+2U4GhF14w4+lGP4GaO2PCe/\n",
       "eHbkpm/duC3qAobvtHNcFnXBEPaPXln+3HgG6yg1Q8d1t95kr/FP6P2SMX6NajVeuunj13K9jnto\n",
       "91eC8ru6zTTa8+6IzgGdET93NPvUr2iM+GcqHz4m+bjDv9cqT+j4jObSrC6VpnZ6NY/le34ozwmr\n",
       "GXzGQVd+X3oMuAY+OOdt0M1Z+l7x8BW/nm4OaJ3E0xlWN7dI27nrx+t2S/J62vZhnc3My+076OIE\n",
       "FrDl8ToNY/kySfmdw/EB2rGwMW+mM/I7s/1DfD8ykd1IiBr2vT+UfaxvvvkCM2N5XZDN4nO8ePXq\n",
       "H3MJFI01Vt+R10eFCNZ5tyvb2IAxhJZX5Hd1p2f7qNug4yGT4te10QjtUweHz1ldEOi42XvK96tU\n",
       "mq4r/GF+HE6j6GeUB3QOrld5v3s6oe0ZSERZXSZLPzOY4hco736fvvPtDflxHQzTugwb78kigUu+\n",
       "E6lin82med8JACAcwD5rJ3ibDQDQMrpIuyaPw0Yb7cntu/x7H93poyiKoiiKoiiKoiiKoiiKoiiK\n",
       "cgXQL30URVEURVEURVEURVEURVEURVGuAPavf/GN+M/f/2c/cdOzwpZJAAC/sd1taUHeXpxI4T36\n",
       "o7qoa7SMbadheethNIbbqyIRuk2sVOO3jAb9dLtXbp5/rkyKbiXN1fltYuUKDdsSSvNbwedm6Nat\n",
       "5Xncnva8xId+aTboltPBkA+h8O//3V+Q/Np1fnvl9hYNAzcN83slIym6TXp+AbcYj3pyCIXuAMMz\n",
       "1Cdy6JFQBrfIDcdyyK5xFL+TvHt3VdSBhW09MnY5/+1/fSBeEs/h1sabd9ZF3WwB69wfkrcAp7PY\n",
       "nq0GH/IHAGDrzpvGNfh3f1AOj1EbY12Ogd/WCAAwdLCPrm3K9WUHcStjIChvURwb27MzGboVNGXz\n",
       "W1dv3pwn+XCML+/IoVsUn7zkt5bGk2hcWk3ZZmTzuAW71ZJ117duuenD/SPyv4VV3hYM27TdRz4+\n",
       "PE4wQsf+46ffsrrkAtUtC5/bGNDxObawH8wt8lvdAQDSOewHF54QkeT+HbzfnWtv82UN0y365SIf\n",
       "IupH79wn+Yj5c4KAvB/64RGGG1hcXRF1d3xou6Y+OeTM4+cY6ub69j1Rt3+A27Xzxtb08UgOJzoO\n",
       "4TbdeEy2g+ElHHvHx3K4uGYL6395U97eXljEvt1pYd8LR+S4WcEQbuneP5TLEAa0O/ffvy/qem3c\n",
       "5v/me3K4OF8YbV+rT+eA7Tf4kJ+BAB0PR2d8uKJb79D+Ua3ybVWv0/G/U+RDg0aitP6aZT48SC6H\n",
       "7V7v0f7fKPHj4fhDalvaUhiyAO1HEz/fr8Ke0DR+IcShN8TMaIjtNgZ5HIZjeH+fX56LqlW0hVNL\n",
       "3mYei8X+Ubp+H+d/Z4TlCwflUC0+49mHffmZzFBZqb5sM6ZTvIcZNsvLcIBz3niC1+Tz8rb8xUV8\n",
       "vlZH9om++BztdLkph+X44W+hTfvBd3mbDQDw6WcfumknTm1LT3BPRgPqi02E/jI1Q/xN5PqfGLpw\n",
       "WJ6vzP9NPOHYzP5hYll0nPh8vN99WYguE7MPcPfHz6H9wzflPzeZpHO6GQLMB/w1AACzszjPVSpy\n",
       "2I/SBYYRsv18GDjvs0+n/DNFInSslUsYtuqy8RA1wnQEhHB4AAA9o1/NFOQwZGaVX9ZuYcNXHg5x\n",
       "TJrj3Usuj+2RCMvhNizDHtcasi8wb6xzm5eE/AmFsKx5I9TmSXVXvGZvD0O/JTPyuCkbIaErIzl0\n",
       "5yCC9nJ+TV6fnx5gCOdqk9qqaJwPyzefXyT5wwM+HNvQM663rl1ndWMfbffTIr82jnjmh0wG571B\n",
       "hw+d5R/TMrxhrMVMnCn1u0sHfCi+Tpn6GZM+P1b8A7pWstP8/Lp8nbbNbPqGm7am8prGXGMtL98Q\n",
       "df/p//lzN70xuy3q7An6iyclef3w9Tfop62tb7npoC2Hdxob/s3BwZGoixjG4Pa1LVFnh1DX7V8S\n",
       "Jslwl0rn+H5pcV5ec9Qv8L3CxYU8JweMUHSpxXlRFzR8uBjIcVGfPcaQiZEYHf/9Hv+Me+e0LsNR\n",
       "PrS4Y7yj2VqW+0DEj+uH9plsB2eW0KcvN+nY7wo+ry9A56tGk38PFUtQmzOd8I5LIEDr6OtvPmd1\n",
       "7Sm1048e4XOVm7IfE+3i+Lp+SV/sAo7RfpQf47Epfd+yubrG6p68pu8cxkN+7u55wsDl1gxfT3hH\n",
       "AwAwMcLZOlN5Ptw/xTBVK8vyuA6Hsb+dHMtjpVJB3yKRxDrqduRQgxdGmOZs7pLjIIz3y/m0HI7x\n",
       "9BT7afKSsHKNOn7u9vVrbnpnV567Q4YtnsvL765haIZIltcmZsDZy3yiVArfYXj9uW6HHzdToH8/\n",
       "F0ISzmSpTVtb48PMnZ7TNowKIesjYfQVEzE6HqpFPjxmxLN+2Njg32+OHDrGP3/wFatb8Nj9ZJL3\n",
       "bzoVGsI1Y7xnfL17yF4DANAzXkQPL2m3dg99481N+UiUmXn0DRp1+ZiR7gif/6uv+GfXnT6KoiiK\n",
       "oiiKoiiKoiiKoiiKoihXAP3SR1EURVEURVEURVEURVEURVEU5QqgX/ooiqIoiqIoiqIoiqIoiqIo\n",
       "iqJcAfRLH0VRFEVRFEVRFEVRFEVRFEVRlCuAPezKB3B+9MEv3fTv/M53RN3iHB4idXx4yYGSHTyA\n",
       "qDuoirrxCA/QmoJ88GfbPNTOpgfGt6XD4TwH41m+HqsLOPRgt+Xr/IH3xXN6GNbz5y9Z3cY1ekij\n",
       "A3ho1tIqf+9PP3xB8m/d/SGriwSO6b0n/MF75RKt8/h6htU5Fj2Ab/MmHtZZPuUPyQQA6Dewzlqn\n",
       "lxyIPsGD49Ip+SA1mBgHwOblA01PzvBgtsI8HjL+wx99T7zmi4fPsKxt+SDW9U3sfyOhXgEAbOPc\n",
       "vlv31kVdb4CHnfWdspGWyxBPYn21+/JhtStb2E6La/JBkYVZPOgtEpwTdU8e44F1PoseEO7L8Qeu\n",
       "/cs//m2Sf/SIP5T98IQeGhcN8wcfjkY4voKXHO5db+DBs4OBXJcR44DFu29tkP91tnhb0G/SMX64\n",
       "yx86mMtQW5Wd4w/ye3XsORzV4nXrK3R8fvTht3jvGXk8NJt4MGAwKR/KPrFwLAey/AG8hSg94G59\n",
       "bY3VJSd0HpkL43W+qfzbAnsW7WKnyx/aDQBQ7qM9X9+SD6u9bRy4+OoFb4sBABZmsc6HDn5uJiUf\n",
       "VplKYPs++5zv1wAA1Qoe3NeWHwkghLpIRrar2QK25+sXeMhuyJYP4JwzDiqMBGRb0O2hPcnn+cMM\n",
       "AQDKLRxfyWha1DW6OMckAnRemwj9oDOk800oyx9sORhRnT/JH1abS8jlM5mfK5D8iXRodArbvd+i\n",
       "ZejZ/CGZQ89h7X2LP8wx4KfP+vo1f0joTJba6WyWtxktj60qFtE3GDv8YbAAAAtzeIhkfSr3RfDj\n",
       "/4JB2bYMh1gOZywfkuv3o90I2lhn06l8zWiI9n1q+UWdbWO/v+wQVPN/oUvmmIFxILcdwL6cSMQ4\n",
       "OQAAxBNYR2fnvE8KAJAIYf0/eFYTdX/y6ud4Te5nou6f/Yvvu+nphI67vT3ejxl4fBCz/kwso50m\n",
       "I34MAtA2tCy5740drNd+nxpMS/hdmrfZ/T5eN57Qz7Usvl95y+cDvl/5fLROAj5+/RSL0PVI2Dhs\n",
       "OhCQx00ojH2xFZTrttVEexwP51hNMEhtS38oHITtp8/kODjGpT4AABDyyz6IdD/pwFzvZw1G8iHU\n",
       "pq7dxTF1JthvAIBoFMd1KCWPV8fB+s+l+XoFAJhOsb8MhXoFAGi2cc17bByKfdnzhQ0ftd6UbUE5\n",
       "aB6ELR9i325g/R9+w/t5AAArxny4uEIPSm4P+PufnlFfeCK43n4f7Yt+P9+v0lm6HqzU+fcJYc/B\n",
       "zk4P6/OodOCVAwDAjQ16cL0feJs09vgpU8HGzaapf35S5A/CXshRXWCB71dOkFZeJI19tlOX2/e8\n",
       "iAfIv3r+kajzTdD2ffaLX4m6XQd9hnxAfv/SaWP9PXyAfssgIs+1ayt4CHi3Kx/4Pp9HH27Slde8\n",
       "T5/tuOnV9RVRl46jLzpO43itV+U1/a1bd1FXk8twWjpy03vVkqibANb/j965L+oWFtDXO/fczwnx\n",
       "fbbvmVKWVudZXWWK9qhdlv2R/hh1w4E8d//Jn//UTWdmaCHGgh8ZCtIxHgjx88h4RO2qNNeaPhYA\n",
       "wOoqf9B8ZUSf98w4eH57dYu9BgDg/rV7bnrYaYo625gTQmnej7w5Q985/OSf/IjVvX1njeS/fPU5\n",
       "qyvXaf/whbCOmh1+HQUA0DDnFUt+pve+d8dND7vyOn73CN9VWj65v4RC6FftvMJrgpesZRcLa276\n",
       "snVB2EI7u1CQ5+6LU3x31WvKdrXfxvdBv/7Vr9307Jz8zsye4vON+/I6Kp1D+xYeye/gS0Yfrddl\n",
       "WxUM4j3iEVqXjeqJVw4AAPulVyR/fMrb42tbt0g+keDte8XTFxeFcTgcY72cndCy5TJ59pqoZ77/\n",
       "8suvWR346FzdHfIOycEJfWf+3uK7rK7bpmOjXcF8MCz7v/k8PkcoII+HZgvH4dOnT0VdwvCby2X+\n",
       "3SsA9fmXlhZYje70URRFURRFURRFURRFURRFURRFuQLolz6KoiiKoiiKoiiKoiiKoiiKoihXAP3S\n",
       "R1EURVEURVEURVEURVEURVEU5QqgX/ooiqIoiqIoiqIoiqIoiqIoiqJcAfRLH0VRFEVRFEVRFEVR\n",
       "FEVRFEVRlCuAbY1D4j8no4GbfvH8+SU6x02Px3FRl80F3XQslhB1hULMTR+ej0Td9s11N12rNcj/\n",
       "fHaOvebwcI/k1zfnWV29VyH5xaVZVjczpp8zt1BgdRN/j+SjobCbzq2k2Gs2b+RpmRoHrC7gm5D8\n",
       "bDrD6rq9DslPx35W1+4VSf7m9TU33WzW2GsAANrttpse9ZuibhzC7xrXbtwRdYEI3qNa2hN10Qj2\n",
       "4UEPy5fJJcVrfMG6m9669p6oC4Wxz6Yii6Lu/Ljkps9qR6Iulhm76fYQ6zmT5fsNAMD2jRtu+uT4\n",
       "G1E3W8D2nPo7oi6awbG3//qJqDs6wvIlE98h/9s/+Iq95vz8nORbHYfV+Xz073furbC64RjHjT8U\n",
       "EMsaCKLdccZTUZfJpd10JEr7/8AZsteEPcOksJZlda+e7pB8pdRldb7QAsnvvOLHysYKtTlv37nr\n",
       "pvf2eFsAANAZY5/tNCxR99a79930fJq3BUfPX5P85jbfTzdWNkg+4dhuetTpi2VYMNrjtFQWdeUp\n",
       "/q9cORN1gXjETdtx+dlzKewv1Qa2++GhfO9kAdv9xvKmqPu89MJNN2pVUXfewGcqLN0Vda+f4piK\n",
       "B3FOqJRkWzxooQ1a21wQdaMh9tFuT77f7CLOKY26bNujsZCho+3Z7vDj9+x8n+ST2TCry+XpuHMm\n",
       "fJ+tVantW11eZ3UPvtkl+UI+xuoeP/zWTS+urJL/ndfqXjkAAEQC9F7OcMLqoEnHxtLCdVZ2dkzn\n",
       "5F6H71dhY74CAFhcxvJWq3JfDMRwTvZ1hbICgGOhT2hN+fr/zU1w7IX8fHsCAETC+L/JBOfGZr3B\n",
       "yQEAYDhEn9C2g6JuMMCyDke2qBsOsQ2iUb4PAAC0W6jLz+IcGolFxWuSaRwPszOy//AXP/2Vm7am\n",
       "8v2GA/Sxut2eqPsP//dfuunNbWqrsjl+PDTOLkg+FI2wOn8Q293nk22sHTD6lDwlgwV4D8ui97OE\n",
       "2/9DHf8B3r9bFv87N9tP7+fz/eN+D5dM8HVk2/R6sxy2UAYAgG7f6IsReW3m9+M9IgG+b6dSdF0x\n",
       "GvFrqfF4TPKBANppn2/slbsEjbE3HPN+HgBAIIRjyu+X+4tpM5wx74sBAAyH2P/MsnY6ss9rrk18\n",
       "ftm+xWJYVm+9mLQMW9pz5Gc/Pj3F8vWN8l0ybhotnF+jSbkPtCZo39og+1iNLt5v4LRF3UkZ+6gz\n",
       "oXV0enrulQMAQKdH7/fWvXdY3d2b90j+1e4Oqxt71gXRKP/8y0t03W5206PKMXtNKEn9j4sG728+\n",
       "ekLXWIkp3w/WbtG161vLc6xukqRzyk71gtXtHtB3LJXzEzcd8ss2Y2YGfcK5Nfm9SqXx0k0PfbKv\n",
       "fe/aW3jNkewzBLNo+xzDzA6D8jub8hn6pfNz/HsKAIBhB+e21RnZf61X0WedSedFXbmBOmeIhV1b\n",
       "lf34QR/b/fhIXhds3bnmpp8d7oq6kB/t1uvXr0Xd22++6aYb31Kblp7h3xXVPbavL/hm4SC2mTWS\n",
       "7eDxBfqb5w1+HQsAEJnF8vjjdB4adQdeOQAAnJx7fNnKCavLxKkfNIzwfXt1nvpVvRI/vs6L1Fcf\n",
       "jdAeFE/kdzZ7Ftqgi4OiqPtf/+f/xU37B/yckPdTf6GQ4H3jSJw+08Eef79olr5vffoKy1duy3NM\n",
       "NGP0o4Dctwc9rEt7Io/DW7e3sQxPXoq6bBbfaUyGRvtO5Xc7A+Nd4uo6/x4WAKDVQbt/fCKvHxJJ\n",
       "rPPsJe8IRyN8t1ssYr06E9mZrVWwj6XS/DtoAIB4HNut0ZDLmkxi+W7duC3q+n20uW3P/XyCLfD6\n",
       "gxub26yu7lnvR0P8mmtjfYnkK01+jml30C50W9TPawVa7DUrS3TdvbywxOqSs2mSl1rq4cNHJP/J\n",
       "L3/F6t7/7n2Sb1TKRlp+DzJoo80M2PI4XFrA/nx8Ir/TW11Ce9Dryj6cY/iinS7fr3Snj6IoiqIo\n",
       "iqIoiqIoiqIoiqIoyhVAv/RRFEVRFEVRFEVRFEVRFEVRFEW5Ath2UN4+fvvWTTe9t/+1qNta33LT\n",
       "07EcmuL54303nZmTw2jMDnHrWzYvb1cOh3GrZL9PQ130h/zW0niSbudrtvgQGeEI/T6s2+O3LGdz\n",
       "dEtx8eKQ1fV69HNSUbyu3Oe3wX3vh3S7XbvCb+HffUa3Z6Z8fJvGo3Rr5Id/yYcKe/cnyyR/YoRW\n",
       "e+O9N9hrAABOznGLrG/Ch70AoGGEmkJ4HACAnB+3ETpjOYxLPoPbxEvGdu/xSN5+9+Z9DFOVyV4S\n",
       "bqODW+TaNTmEwi/+GuuyWpK3f65t47baf/K7OL56fTlERKn6yk1v35brtWVs67w4k0NT3Lu75qbX\n",
       "t+SwN+kMjtGzA7r1MJvgt1ceHNL+n8nz22dDcc/4GvFbEaMRLF8iKYeOPNzH7bf8yP8NUyNUw/3v\n",
       "0r6cyvD3f/j1tyRvx3jdjXs0NNNf/xW/ZTTlp31+aZkPbRcM0P42jaANuXtHDhVkB7B8x+fydvQn\n",
       "D7B8dyN8iMPf+cF/Q/IRYb4YdKl9nJtFW+NPyeOr2cawBJk0Hx4DAGDYxjATJwdyqMflWxhmbmTx\n",
       "W4UBADIZ3Hods7C+CgE+vBYAwIsXGLbt5u/K4dhys7idujqQQ848eIrhPNIpeR6em0VbdWaEj8gm\n",
       "5bE76KEN6rXleggZ4XYKOT5sIQDAyAiZWB/KNtsMNdJt0DnP7+Nt3OISDRl4UeLDPZwM6P0iAX4c\n",
       "+qa0Lo/3hW3mdRrewury4e0K80ZfntJwDAE/b9+87ke9IoTiGtKx8fIRHxohO0s/J5fl/aKLije8\n",
       "Js6BUyEEFgDAyAhZ0OvI4zVjhAYtN+XwYvEYljcUlO32dGJsR29hP70svJMZ2cu25TFgbnX3hgMz\n",
       "Me8RCct+6e4ujr10Bv3cUESu10QS/RYL5DB3d94wfO0DOTwGBPF+R2dyOIB8HsdhJk3DcpihKkwm\n",
       "DvUZxkPe5+0bIchicfmZ/JYRVmIsh5IZG33AGxbtslCtJtMpr/P+XYra5vf7PTpeaE1pPwpH+LAk\n",
       "IU9M2GAI+5gZaszLNIFt4PfLc0LECP0WsPjwHSFPqMKRw/vD3joKBQy/eyJ7U6Eotr1QhN+UL2rc\n",
       "z5H7gdkG04k8Xs3+Z4ZJcYaX2QwjdNwl4djMMOFSqG4AgITx7N2aHBb12nVcw4Uy+Hx/+fOn4jXD\n",
       "IdrVyCUhNJsjDCFSavIhjQAAMikMeTIuy+uCgBG2ZTChdWTaE5PoiPbR17u87fKGFnUmfBvEknR9\n",
       "Ewrz/aDVpnXereGYyq/wZR366bPX6nydXbt7g+S3F/kQ8LW9fZJ/8uwFqytc3yL5SIC3mRMfnU8n\n",
       "E7S/A5DDH42M3+62HXlOnlvH54hHN0RdJrrmpl925H4aX0b78smvf4GfsyH78e/cxjB/g0vCk9aN\n",
       "MEm7Ly+b53CMNmvy/Rp17B9Lc7jeal3mwxihcre3b4i6p89xfRhMyP7DohGSMHvJe7edXVzvt9vU\n",
       "ZreE0LuFJA2Vd1bkff6qUa8+YQwCABTmcQylVuV1wb7xvuvkgvrZi3k+jKxjecLICuGiRiM69wRT\n",
       "M6zum0c0RP1elX+XcFSmdbK6iOVL52U/xgzr2yjL8+H/+W/+1E3/b//9/8BqhhPa36bCe8Udz/uW\n",
       "5fSbrO6kSt/9/d5vve2me5eEZv3wk4/cdD7Hh+QEAHu5PdcAACAASURBVOgbz352IoeEtEr4znAh\n",
       "Lx/ZUKxiWK377+O66uOPPxavKcyvuenl1UvCuzVwntu6Lb8fOT3FMHDlaknUzWRwDJwZIQgvziqc\n",
       "HAAAOi0cU8GQvO5pGyETuw35HYHphT79Rj5i5eULfCfinasXlvk6WyhQG3RwzIf5i9h0bFSKfJ0F\n",
       "Q3SuTkvv/kLY50d9Oo9vCSHmwjb1C4Ix3i96/IrOVz4htFokQu+Xm+Pn+LMiXU8njJDX6bhs6y+M\n",
       "6+YLcp998fSZm15bXhZ15SKOvTvbt0Td2Rn208ZQw7spiqIoiqIoiqIoiqIoiqIoiqJcWfRLH0VR\n",
       "FEVRFEVRFEVRFEVRFEVRlCuAfumjKIqiKIqiKIqiKIqiKIqiKIpyBdAvfRRFURRFURRFURRFURRF\n",
       "URRFUa4A+qWPoiiKoiiKoiiKoiiKoiiKoijKFcAG2xL/+cFHn7rp3/udH4m6l89fuOnlpbSoC4Vj\n",
       "bvr4uCrqjs6LbrqwlpDvF4q66WgkSf63tDDHXnP79g2S39l9xerG4wHJXxSbrO64USL5eIyvz3Ao\n",
       "TvKd9sRND8cOe00oTv8eyQxZ3b/4Vz8h+UAzzOp++pefkPx337nP6qxJj+Z9WI7sfIS9BgDg1neW\n",
       "3HTpjK8vAIDCOOSm5xfyom4waLnpSDgp6lotLG+v33HTM7mceE0uFXTTX3/5oaizJliXP3j3B6Ju\n",
       "hEWFMKREXeMC6/Lp1yduOpOZF6+ZzxfcdGquK+pCYawHn4/vAwAArU7DTbe7ZVFnB6duOpmi7T47\n",
       "s8Jes39SJPnD43NWt31rgeQzc3w/8Nu2mx47QVYDANBsYn+LJGQbNBhg/VdqtI/6/GP2msISLWu9\n",
       "3GJ1VoiO/e+8t83qosEQyacScVZnAx3//Q62/fYWf28AgPEI2+qieCjq3v8O2sLf/y5v3wtryyR/\n",
       "Xr1gdbsH+ySfGmFfjFpyu60srbrpYY+3bwAAdhLbZvfhJ6Lul0+/cNPBiF/UnQ+x3/dbdTe9OrvM\n",
       "yQEAYMuP9fXFgy9EXTiBfdaWzSX8+MffcdOn5z1Rl4hk8d6rOK7rtTPxmnES67xaLYo6c/wvzi+J\n",
       "umYT7WrokoeqVnBsmPM9AMBgyvedVrtC8gsL/PgdOVOSL13wc8zS7CbJN6tC3Tp0jpe633iI/ajm\n",
       "8QOW53g7eOKxe4d7R6wuk6B+Sn52kdVZfmr3R+MRq1taofPIFPChJD8DAGDs4P9iKXn+6jXxftkZ\n",
       "2c4OjSrv9+Vx7QNs0/EEn2ksPB8AgFFU8Fm8zQYACGdMuzMRddMplmE0ku/XaOAY8PsDmL7Ehw4Y\n",
       "c6gFIVHnAD5vOCU/ux3H/60nC6JuJnMNP3cSIP8bNHjf+x+Ma4evs1EPG3cSslkNAIBlYb1c1p6j\n",
       "Ef4vaHvraAo8tGxTiy+rZdHrfeKUQP/h9/NCn0V/Jzcc8c8VCtG6jIRxHdNoyT5cLoP2vTuU+2Iw\n",
       "iH3bB3wbdDodkvfbUl3S/muOB8eRx244jGX1BwKibmgMWDsojwHbGFOOc0l/GaDdbhvPmE7IdisY\n",
       "xntHInIZEim0abLFAAAf1pnvkvE/NexTq4V+9/Iyb+cBALKzWK+VKu8/AwDUDR8rmZXXOvUizrup\n",
       "oDx3N+tYvkSc1uVEGL/DcZ/kt69v8boBrc3zEv9c53vHJL+2usrqxkM6d/uM1po6fD93fJ71dCzK\n",
       "6tIzGZJ/9Pwpq4s69H5bb9xjdalV6lNmgvznjod0rNVK6GtUSgOv3OXYXGv75fG6v4fvOtYXN0Ud\n",
       "NH+FZRrJPsPSKvoaa9v4jP2xbN9gguU7PjgWZZEArolqTdk3dnw4rqfC+g0AoNZAvzQcb7vpeIRf\n",
       "ewEAvHqN77UKM/z7JACAhPFu4ptnz0TdaIhjpRaQ10SpBPYP20fnm5mZGf6aAF3vF08brO6ijL72\n",
       "XEG2l+MA1mW9IdugQQ/73toStWmnh7y/f/0GtREnJX594vOMr2qD9/dz2VmS7zt8P1icp+v4s8NT\n",
       "N/1tve6VYznaaE8KoTVR509gG3z0N09YzR/+1pskv7PHP/vzfVp3ET8/v27fpuv2uQ2cB/78Z/9e\n",
       "LOtkiPPc0y8lvwCg2sDy/f4from6pwffuOneWF53D4fYpl9+iutXn7MhXpOK4efatnzv+SWc2774\n",
       "8peirmb4v7G4PB/6wzin5OdwrDgj2TNYXEBbcHFWE3UhH/ps/b78rvT2TXznYF+yfujWjXWex2Rf\n",
       "nPJ9e+qnc8qN7ZusrnxO+2i/02d1QZvaoHiUf3dvGXNUIkHrcn9/n71mZZG+74qn+ffBuRSdu3sO\n",
       "P3fMF6gtKJ7x71JiUWqnq0bfCdv8PA4A8IPvveemxyN57p7L43gtCXYQACCewHcp58I7VQDqtwWT\n",
       "fH/RnT6KoiiKoiiKoiiKoiiKoiiKoihXAP3SR1EURVEURVEURVEURVEURVEU5QqgX/ooiqIoiqIo\n",
       "iqIoiqIoiqIoiqJcAfRLH0VRFEVRFEVRFEVRFEVRFEVRlCuAfumjKIqiKIqiKIqiKIqiKIqiKIpy\n",
       "BbCTsxnxnxeVspv+6X/5lahLp+Ju2h+8EHULawtuuvKsKuqGE/wu6vy0Kerm56Nuul47Jf/LZvvs\n",
       "NYdHuySfz8+yuvEoQPK+ic3qfOE2yVvTAKurVjokH4z03PTAanvlAAAQTS6TfLvH11kyHSP59Y0b\n",
       "rO7nv6Zt+NGnX7C6/HKe5OedtJve3ztgrwEAePvd6276Z3/1oagLjPz4WbMJUbe3i21a7RRFXSqP\n",
       "/W8wGLhpn8/PyQEAwBmM3PTt7VuibtQb473bdVH3w/ffdtOVovxdajA6ddP11rmbjmQXODkAADTP\n",
       "LTdtxxuizgri/6Z2SdQdnGB/C9oRUTcZY/3tHdL77ezssdfYQXq/1Y3rrM7vGU5+35jV5bNon3Z3\n",
       "z8SyppJJvGauIOpmCti3m40W+V8iHfXKAQCg3vDYIP+U1YXCE5LfujnD6jp1apu2tzZZXeninOT9\n",
       "ccdNT0NyH/vpn/1/bvr9731f1G2sYvkK2/O8KEiz5dMyK8stp0g+nsd+kLD5egUAcKZDN/1q55Wo\n",
       "66YNu5qT5yxooJ1tDOTxOrCxj3Rj2Bmt9TnxGsews5kA318BAL54+JmbjmflZ2++QFvqD8RFXTWE\n",
       "47Uwi3bioj7h5ABA7erqVk7U9doVNx0Jp0Xd0QG2e9ewnf+grK1j/NzNdVqmEF8On6cr1xr8PJdI\n",
       "0vLNzvB11urQ+dTn58fK+sYSyY96rAxKhh9UmKNzY1eYE+Zm6bP+6Efvs7oHXz8l+YmPb1PbpjZn\n",
       "4HRZXSZCfQE7hONmbUbuB+cnWOfHh/Ick47huAkE5T5b7mEbOCO5nwaNtrEsY5675OdIY0Nnzvf/\n",
       "QDfGMdpqtUTdyBkauo6om4zxc+NxnG8SySAn/7v/hd20n3cNAQBgOELbXm3xbQsA0K7jHJhJy3bQ\n",
       "Zwyq0gn1jW2h7/Q9LrMtNIJj+AXRaJjVAAAEQmhXg0G5jshnBqjPNhwJdtZvkazPa0T+/u8eF9Ds\n",
       "Y5ddbwu+o2XRRhw7wuf6aL0EQjhWLrOz9QaOPWfClxUAYDLFuu33eXtcLtO5OpkKsTq/nz6rWUeX\n",
       "tZt5XSAgd25zjI6G8rw5HOIYAEu2GZYxkM7O0UdKp+V6nUzNe8vP1DDsRCwhz92VCtrLRl8er60e\n",
       "3u/oeN9NV5vyesYBw4epyevklh/rstvl17sAAGljTbo4K68zyl0s68udF+R/qQi/TljZXCH5SCzG\n",
       "6pqGnwEAkEjw6z5nQvvyZMz72mVPvdhjHA+2d3HxdzSqnrna5se4d67Ixvhn73nWBc0W37f3HtF3\n",
       "DjMxvl/5gc5ltQrev1yU27fZxv4ydGqi7rd//GO8piw4OwAwv4w+cLkqv3/57Otv3fTCCvpStbN9\n",
       "8RpnjHW5snZN1J0cnLjpm3ffEHXNDrZpbi4r6hYc7PfxONrir776SrwmGkE7MR3LY3w6wj4aD1+y\n",
       "1hmgDXJk8wZNw1Ylk3Q8jVp8Pzir0vdu/ihvC8NxHHfdqexkne2hH1+6kPvUO+/gu5N2m/rduRRv\n",
       "C/odT11O+DGeTFH/ZjnLr816wyHJ+/hpDpwJHdf5NI7/WF62i6MK3n9ald8pFct4/0CQf/bCEn2G\n",
       "r15/yup+8RX9+/omX753V35C8h/9+nM3/clnL7xyl7NzbNNOV+6M/93/+Adu+uBUfgccDmOlm36y\n",
       "l81NfNdRr2E/D4fkufvO7Tfd9PPXT0TdwTc7bjqVlPv2deP96FnpSNR1m2hbesackLzE3+8Zvns2\n",
       "JfvG+TSuIzPpJVEXN95NdBqyzV5ZXnTTlQodh4PJ0CsHAIBGm6519l7z7/TqFTrXziT5top41oPV\n",
       "Mj93dI311sIC7dc1Yb4Z9B2S39vl2200pnPoZMrPyaeH9D12JsfPHVGPD9jrY90OGvJa0efHMdVs\n",
       "ye3mGLZrAvK4sQPYl4pF/h0cAMDY2MfTB36u0J0+iqIoiqIoiqIoiqIoiqIoiqIoVwC73pJ/Dd0b\n",
       "4jfwsUBS1BWL+O1cKCp/j/TWd2/iva0NUbe7d+imC7PCL9ABIBjEb90jEfqNXLfDP1e3R78FPe7x\n",
       "39YtzNJvX9MJ/leV8RD9Rr9Z5n95mvD8UsoO4i+a0gX+m9PXrw9Jvl3iv7lbztNfUXWrz1hd2PMI\n",
       "+Xm+rZaX1kje/AVetST/4qXbfeCmV9f5XQ4AAP0qfrv56Kn8S5tkAn+hNhnK36raAeNXY8avV9Ip\n",
       "ecdHx/i1a7cp//qwcoE7XG68J38jn0/gr6j/YudzUdfu4ZhqdvGZFgvyLyXNb9rTNv8rNgCAUBi/\n",
       "Dc7PyDt4qsYXxc2m/CuPG9vmrzLot8vdnvCt9IT+Eqbd4cfD7Bz9hWAqzf+CptnAvh2PyrvCUgn8\n",
       "nLOzE1G3uIz2pHJc8/yP/zVNOEx/2fHZrz9hdXfv0B125TK/6zGRos8x8fO/BOg49FcPjR7WxZOP\n",
       "H7PXAADMLGC/f+97b4k6Z4h9+9XTh3wZPNsfDkt83fpDtI6+fPBrNz0Yy+NreRN3gj38Vn6mFKDx\n",
       "iqblX9osZvDZF+bkXxJ+/quP3fTQsBmvT+Sdqq0p9vlMlP/1DABAZg7tebcv262I8Wskf0D+JWcy\n",
       "bfz6NYy6aZD/hRwAwN4pPkc8JP867cL49fHZsbw7MGLMX9lCXtQ5ASzTSZnuzOtV+X6eydFdYsEg\n",
       "/6ubao3WebvF75CNeHYvHh8esroffPddkn/27BtWZ/7yt1anu+9mZvm6eOPuPZJ3prydTWSp/1Aq\n",
       "8b8An83TX41ZNv8rMr9naJSMNpiCvENraQn9sWZlX9Q1jJ0IMeEX1QAA0Sj6Y3aE/9UjAMDAmAO7\n",
       "HWzfYFCeD21jh0Gj6Yi6yQTrfCrUPwBAzPh1unmNl+kU+7a5e8my5HFoB9BmZHOyD72yvOWmn+w9\n",
       "F3Uh49eviZT868iRg/PhsEvHSURotvGAPkcgyNsNn2XYLUv2983dMj6/bIPMeh2NRuL/TLw7dvx+\n",
       "3h8ZO/Kv5y5D2hFke54jGOL7ts+i49P2o03Kzyx65S5fPsNfq0YTKVE3GmL52sIvQDtt+vdgiK9L\n",
       "7y4nc3ePPyCPXbOO/AHZFkwAx3WpJP9KMWlEjEglZf81m8H5odfDZ5T6AADAYIC6rl8e44EoluGS\n",
       "jVYQS6Ju94SfXwAAPvkCfx1dNXzZckOea8dTHK8L8/IapnqKn+uz5PqHPrb72f6pKIvMYX9bXKTr\n",
       "bkuwi8Vz+hzpBD8frq2t0esueD/r+JyWL5fh73f9Go3OUDzEeXkxxa89WzX6TqDZ4/0H729he03h\n",
       "F7ND2kEqRf5XymVP1U0zfMeKRuhcVqziM/X6cp/1B/G6795fF3XOBH8dPZ3KO2RrbVzLJnKyr1fv\n",
       "Yz2dlnGMN1vy3G1upH3y+IGou//OO266WpV3HvsNP2E0kf2bCeAapFTBPrayIu/waJSxv1iW7GfY\n",
       "U7SXt67LUUMihk0LjeX1w3CA7yYczy/VJz2+3ZKeCBu1Lt+3+4ZfUB3Kv0A3f8ReyK+IupkkjrVl\n",
       "j60aCLs6Xz3fJ3lprvWGA9k94qPMxJN0PZ2d5Xegl8+pzQkbU3l+S37PeNBDO9uryTvGoyEsx9aN\n",
       "ZVbTGXl23wrvfTbv0jpf3OCjgfwff/pvSP6Lz3ENM53IO02mAXyndP2+rPvkwX9w0zuyWwrQxba6\n",
       "dlMeU7EkjqObd3HNERF2kgIAfPblX7vpg0N5/nrrTYy2E7jEvp2a/egSn2G2gH17bXHVTe/uyNGO\n",
       "rCHOFU3vjjZTN0Z7nojI7zN2X2EkiMAlUXlmZrAuHzyk71HCcf46Z0ptWi7Lr7tznnfflXN+7i56\n",
       "osAUVnnfJRrB8dnp0TqqCDubD17Q3bJR4XuGWIL+fevaKq+L0O2A3zzi339t3tgi+dUNHNezG1te\n",
       "uYvjYN3Gk7IPfXyIc8zcgvx+eWjsCOqN5Lno6BjHR7PPzwG600dRFEVRFEVRFEVRFEVRFEVRFOUK\n",
       "oF/6KIqiKIqiKIqiKIqiKIqiKIqiXAH0Sx9FURRFURRFURRFURRFURRFUZQrgH7poyiKoiiKoiiK\n",
       "oiiKoiiKoiiKcgXQL30URVEURVEURVEURVEURVEURVGuAPbvf++PxX/+6em/ddOppC3qIoU33HQu\n",
       "Fxd1X3/zpZvOzARFXbdTd9PF06Goi8fxs9KpHPlfu2Kx11hWmuTfe/8+q/MHBiQfCE5Y3c6rIsmX\n",
       "a21WN1OYofezx266enLBXrO5dJ3knzVes7on+y9Jfmsmzeo2tzMk/96P/5DVffDR5yR/dNx00+Vy\n",
       "zit3SU0ibjo3I3+fuDy35KafP+afCQBgd+/YTa9dXxV1gz5+VnQm5aaPSyfiNac7p256Y/uuqAvG\n",
       "/W66M2iJukJ2zk3Pz4dE3dk53iMSwHLbwSPxmloD+0pr5Ii6uUAe7x3n+z8AQCLecdPnbb7vAQA8\n",
       "38N2t9N0/E+dsVcOAAA7L5+TfDbF95fsTIDkZ2aXWd1+qeSmY/EUqwEAOL/A5/DF5PpvtvHZJ2Na\n",
       "R59/+oi9xrLos+bTS6zOGdE+n4jz47DfaJD84dEL/n5A63xhEe1Bvc7bIwCA2TR+7tP9B6KufH7m\n",
       "pkNj/n7NAbWD0RT/TNNQmOR9NrbB5sY1sQwT47p37r8n6h58/cpNl4tVUZcbR930i6MDUdeYYtsH\n",
       "k1iGVkse42Nn6qY7PXkcxiI4twUjcl8MB7G/dLt9UVcr4jg87eH8MnLkOTkeKLjpg/1jUVepYN/u\n",
       "OR1RNzeL6WmtJuoKMziOHzyhtiAdy3jlAABQPKN1fn7K26TSRZPk7927xepGfeoz5DO8DarUaD96\n",
       "7z7vCxyf4hw/nU7J/86Ku+w1Ez/1A/oTfi564+05kj8+5PtLp0X7RzrNj8ORpxt1W9hPz/oV9hoA\n",
       "AHuMvlQmw7cTAMBkjM8VtpKyboT2ZNLvirpGB+t2DFi3sSj/fAAAlTL6h0G/PAa6A9TNzMn+Q6uN\n",
       "/SUZH4m6RALnrImDz2dPwpwcAABiIazXaPoS3ymHdmttTfaN+4D+iAXy5/qDWNZmj843udgCe03P\n",
       "ouPQb3yWSaCP7WQN5XnICmPf89myzm90eWdEdZafbw+v+xEM8P3AZ9M5eTTi1xOhYJTkp1Pev3Ec\n",
       "Oh9GfLyf65/Qvw96mN5afwMkPvnyYzfd7zVF3WiE5a216qymXKftF4zwfosvQOeygYP9JWzLfSwU\n",
       "woZLJSOizg7E8N59eXw1m/i88UhA1GVSCTedM/yRRlWelzLrK246kZT9SCuK9Tro830AAKA7wLmy\n",
       "XpH9kWAIx0owiunISH6+WhU7y9luSdR1DL8glZHt5WxhETMj+ZkqJZwffHFqg4a8KYBml/adbIH3\n",
       "408P6PqmXeP9nYKfzoe5Pm8zm8/o/BodYrv90/vfY6/5ao/69x88/pTV+UbUllhDfozbUzpXR/y8\n",
       "LhKidZkL823VHlA/zbax0mfm8165S6OO/X7/+EzUbayh3c+vLIq6bA7Hh+k/eLGrOAb6XRzXMwuy\n",
       "LegD9tnrb2xfokOfIZaRx0oiie1+cPxK1IUTRlsF0PcfdmR7FI+jfzOXmhF1zQrOWQOQx5dlDKK0\n",
       "8I4GAMC2cI56/OBL8r9oKOqV/6asc7Q9z84brK4/xL6dz8v+SCaGNrvd7om6E8MGzRWo3zge8OOh\n",
       "7XEFmg1+3REOesZhgG+rQIj2j2uzc6xuwfMu4uwc583yIT+HAgDYhl8aSsjvVaoX6D/9x7/9S1YT\n",
       "jt4jeSvIz1knL74l+dMS37f36/T6+CK2wVwwK5bVP0U7/e3LHVHXd9BOJ0Kyr71xB/uz35LX0L/1\n",
       "wx+56V9/+dhNnxZlXydrrCnXVuQ1R/H83E3bsgsNF3Vs61xatlXgYFs/efjETScTl9SrH/tKMsuP\n",
       "VQAAZ4pjqj+S35kPDP965Mjj8PQC33XMFOjntvsDrxwAAMZjOp4GPX5ODkTo/ZZWV1hdoVAg+anQ\n",
       "XQZjLM/YR+3lwuo8e8384mOSF9x46Hbo+rzd44WFeboG+ifv/1NW12xR/6tdwX7aOZP77HBorCkT\n",
       "MVFnG+uTVke+X994p5HJXuILtNEvigv1rzt9FEVRFEVRFEVRFEVRFEVRFEVRrgD6pY+iKIqiKIqi\n",
       "KIqiKIqiKIqiKMoVQL/0URRFURRFURRFURRFURRFURRFuQLolz6KoiiKoiiKoiiKoiiKoiiKoihX\n",
       "AP3SR1EURVEURVEURVEURVEURVEU5Qpgf/CLn4r//IM/+Jdu+sMPfi7qGoMjN13vjETdxN9x0z7/\n",
       "kqjbXF910xdnNVG3sbbppl+/2iP/syybvSYWTZL8Lz/+nNWtrM7QMl3jy7uxuUzy4xH/uY1Wk+Sb\n",
       "HcdNzy8se+UAAPCrz74m+UQky+rACpPsebvNyvz2hOTLr/dY3fLSKsnnc343fXhwwpcBALZW1930\n",
       "YFQXdf1pH3XQE3Wzi7NY1mpV1IWmATcdTWBd2LafkwMAQHYR63JhcVXU9br4HD6hTwEA1BqoS2Uz\n",
       "clnDOTddbWCf8ENIvKbTPcZ7x2Tdyemhm07noqJuOp266WgsLursENbl8fkZ+Z9/kmKv2b52m+Tj\n",
       "0TCv294k+dGY77O5mbybPj9tiGXttHA8VU/Loi4eTLvpXq9P/tdsNr3y31wTj5H8ysIiqysenZK8\n",
       "HWBlULkokbwvyNfR2sY2yftt7H8LCwv8zQFg79VrNz0aDEVd8QT7VX4xz2qiYVq2/qDL6u6ur5H8\n",
       "7CyO3Zevd8QynA6wDfojuazlOs4dMBZl8OF//sZNZ7KCvQSA2eU51IWCbjoUSHJyAABoDYz+MZEL\n",
       "0elgWe/c3RZ1F+fnmPHJ4zoVw7YpHuFcO3Zke/S68rGbdiayrtfHsrZbMVHXjqLNaLZkWzw7j3PZ\n",
       "1KG+wOvX++w1kSD93FyGH1+pBO3zpQt+vG6sz5N8s8X3q8nEIfl6i7/f4iKW5/jkkPxvZoYfN6Ew\n",
       "HfyFQoHVBfy0v1VKfFmnYzqXjYYTVufz0b8HAzgP9Hodr9xld/fATWdSsm3JpHH+qhV5mw0A0G3h\n",
       "uJ70RRlYluWmk0msi2FPtgXm/OX3y3P8aDT6R+mGQ/ws85rLympeEw7z9hsAIJFIuGkflERdKITj\n",
       "P5Ph51YAgEkIn2PoBEVdo4Wf5Y9Myf/aA34etf0WyVtjvg0soyp9llxf88Yc0B7y8wYAwNgYhtaI\n",
       "9t+pj7ezU0/3H495nc9Hf9cWDPOTcihE63I84vvL1KGfY9u8bY1EqT13jLpcX1tjrwGg82arI4/X\n",
       "ch3vF4/ydtvbl6Wy9nrUBzf77GW/CxwMBm46l8uJOnO8DpuyMfAB9j/zGi+1Cs4/MzO4TvPac5O2\n",
       "sSYKheT50G+M8UwqLepaxrpg0Jf7diSA/apZx2taDdmXnclhH2g25D6Qy6GdiCdlv+XsDNdsK3Oy\n",
       "bXfG2Db2hLZ7NB7hy5Cl6+KzgwNWNz8zS/Jxm7ddx81jkp+dn2N1+U3q2w2MfnVwwa89q23aPxyH\n",
       "t9sLOeo/1C/49YTPorZgaPF+0chjR2sNfs3rTOn1uRkc19OJsJgAgOEI6zKZlHXNTstNW5Y8Hx6d\n",
       "YhsO2ryfAQAQC6Lv8/jxIzd9/fZ18Zq5JbQTkUvGYTyMfovfL+s+/vgXbnptk3+PAgBQvLhw090R\n",
       "2q3FWXk8NKs4Roetgay7QNsysyS/18pE0VYFL/HJHzz4CnWedcFwZHnlAADQ6lFbf3D2ktWFo9hn\n",
       "g2HZvp2f4jj0///svfeTLMmR3+lVlaWytGwtXnc/rUZjMMACCyxA8kjaLWl2e3Z2/98ZaXbHO9px\n",
       "uTysngV2McC8mTfz9HutdVV1aa3rfpid9PCEex1/vTb//BTR9c3szBAeHlEVHnPmJhs3sK6nY1e7\n",
       "9vBtZzqjZRkI8LYgEqa+9aow7/79F78h+dNjvr8mU3StI5EwfLOAbD8rPXzewZxxyedHXTTJ98Nm\n",
       "g44VnT5vMx7eeUjy/+mv/xury2xvkfyFsbYwsWTfrHSO6znNibwGN/Pg+2bmrDlEI2iPt9fk/v8f\n",
       "/7e/ctJDY7zxx/h2DQBQqaE9bzfl8dAzwT4Vick+tLmOurSwJOpOjg6cdCiIbeX0vMTJv7vf8rqT\n",
       "Ho7m2E7jftM5CxppY34prU8BAPj9aM9DETpWD2b8/RdydGxdiPL2wLZpv0nF+fVNc34EAPDq7StW\n",
       "1+rjOBTLxshnM+D9w0Sa+rilIv+9QDZP1+2bwljr9dG+YfpIJpZrzbxptD87IK/zmr5o41z+DuP+\n",
       "fVwvPT45EXXdLpbLqCGvrS8Y/pId4etTd/ooiqIoiqIoiqIoiqIoiqIoiqJcA/RLH0VRFEVRFEVR\n",
       "FEVRFEVRFEVRlGuAdV7aFT/887/A7WTvPXwg6t7s/aOTXl7ht2MDAHz9dQV1i/x2cQCAUA63FD56\n",
       "JG/ZjURw29rt2zR8Sk3YFj8Z0y3ecSGURrlGbfagIAAAIABJREFUQzU1v71gdZEw3Rba6/HbFCMJ\n",
       "Gm6rWsf7RWJ8iK21dRoCa3Vpi9VZFv3u7uDyGavzuUJTZIWQALe275L88R6GIRrk5S2j3TZupWt1\n",
       "5dAvEMYtc9GcHF7Ma4TY2M7L7eD4HMPUtTv4DF8fyG37zg5uwxzN5K3u4MMQAAN5Zy+8ePncSX/2\n",
       "0S9F3ed/i+EEiwXsD15LDseWzuAWyFQuJuouqrgt3w7LoZrM8FPhsHy/UBQ/Sw9p22lV+HYedW2r\n",
       "jUb496o16FbV0ZDfujqb4f/JZeXtxT/4FLd+F4pnoq5jtNFei7blXIK3XUvLdMto8YTf3jtxhRfx\n",
       "BPl2tbxE+/V4ym8D9vvptvqzM3yvzpzQLytrGGLgo8fvi7pnT79x0s0IvwU4v0i3P3safL/2TmhZ\n",
       "Xp1gn0xF5VAGYz++u1/Y5g8AUOmgDVoQwn8BAPww+rGTrlbnxZXC/xUxtns/+eq34iV3b2O9tduy\n",
       "HYxG0aa9fiXbIDtmhN7qyqFpZkZopMU8ttFuQw450ehgP7QsOTzDQgbbSjwu2+J2B7coR6KyrTLD\n",
       "6Cwu0H6TTfD1dnp2QPILK3y/icVp+7AjfPi+i5MCyQ9HfF+JRKjPMBnxfaDRxHff2KDhO84v99xy\n",
       "AAAYjGjb293l20E6Scc1dziq77FcoUU7rRar67ZdIbqM8AzBOe2g3cX2XK3LYQTqDdTFvHJ4kMkY\n",
       "Q9oIkbe+eyYj/FE0jO3qtCxviTdDq4XD8juZ/dAdekCiLYTGdWOGn3KHxzIxQ2qZYZvcpBLYX8O2\n",
       "bAd9CfSbZx45rNzEg20+vUx9gfolb7tsHy1LC3ibZAcxdEkgOMcOxrAft8qyrfIaZWl5aViU/kgI\n",
       "z+DqD1L4vj+od8GHm7rGYJ/QXPyu9hYI8GNb0D32G50gPSfs6M7WTSe9f3Ag6poB7KNTIcynu4y6\n",
       "XT4MmTvUkxkicjSQxyV/TA4lZWK+b7Uvh94Nh7Ftj8fy/zXrygwNVK3KfdfUSWHuAABsIzTKVUUO\n",
       "4/JuD8Mn1etyuNOo0V5sYy5h5+WwMrkchg2pJ2Rb7C0UnXS/L/s6ZljPar0i6m7fxrb3d7/5Nfks\n",
       "keNDmdy7d4/kBy2+DnbL9P9KYXWSSTonrTX49tKu0fHv8gzH/L6XtwXJJfoOmzv8fCIQpJ3/zo37\n",
       "rO7omIYtnvp54xJIUDvtFcaYYIj6X+ksjheDwbywbXi/QFDWZYy5dqkkt22fF5/XO6eLnxcwJM7y\n",
       "KtZnuVLk5AAAMHiB9faTH38q39uY0w+78sR7bRn9scqV3P9DYaz7o1P0xTp1OaRO0phD+yzZfxgN\n",
       "8Z2K56eizvThrrqyz9C4xPA9O7fpXDEg+N6nBbo+dXLOl8XSItrB1y/ksNvxMLa95VV5vjUzjjNo\n",
       "tGkYQw/wfsyHH3xC8sk4Hxr01XMaHqojhPZaW6Ph+e0wb9+vyjSE05vXb510KCnb41AAfTNPXG4H\n",
       "tQrW/cEJvwZn96k9/+Uvf8Tqbn+8SfIHZ3x/rbhC6i2kcU7z+tkL8Vm7RqjHje1NUddqox8eneOX\n",
       "9o3wmn/1q78UdSFjTSMaw/419snrGf0BtmXpuAAAgFYdfcx+Rw4PvbGOdr9Zk/shjPFZS1Ush8lU\n",
       "Xi+8uMTxKmTL8+lUAu9xWS6IuloVw/VtbWyKOr+xftgu0DDS7tDF3zOaUJ88neHXwr0zOictXfGh\n",
       "0Nw+m/s4ke+JG+PhcEDtVL3Bz2uTWdo/s9kcq5uO6YBVr/JHmFy61hw2N/j15UzWFX69gmUbkL/C\n",
       "oKHAJ7LPW21iCNGxO2a1gc+ow3BYXn+ZGuZJ8gl1p4+iKIqiKIqiKIqiKIqiKIqiKMo1QL/0URRF\n",
       "URRFURRFURRFURRFURRFuQbolz6KoiiKoiiKoiiKoiiKoiiKoijXAP3SR1EURVEURVEURVEURVEU\n",
       "RVEU5RqgX/ooiqIoiqIoiqIoiqIoiqIoiqJcA6yF5az44eFe2UkfnL4VdYlsyEnbcb+oS6eTTvro\n",
       "8FzUpVoeJ51Lr4o6n3fmpKezAfksGbfZaxqtPsm32m1W9+DBY5Lv9Hld4fyC5L0+H6sbT3okPxqN\n",
       "nHQwxD9rJpMk+f2916xuNJyQfHo5xupi4RDJJ2z+/3Y7Q5KPRqNOegIet9zhm1ffOunMUlLUxWx8\n",
       "jkapJupsb8RJVxtNUXfrziMn/WYfy+ju/dviNVMftp2nL/hyBQAYDhtOOpoMi7pCE3Xf7r4UdWu3\n",
       "tpz026NLJ31ZqojX3MotOOnRSC7/wQDfqT+Udb3u1El7YCTqptBx0pMJbWOZbIq95sR4JwCAUCDC\n",
       "6kbDPNUF+e+f3+1i3czG8jutrtxw0p9++qmoq1bqTvr27bvks5bQxgb9Lsn3+2vCvem7V6tlVnf3\n",
       "1n16/1Gf1Z1cnpB8yELbEk4m2GsAADwzLMujoyNRl06j7W+M+GfdO6DP8OGte/zNLGr3pz58Bm/Q\n",
       "Ep/Bb/TD1rgr6hJZtGn+kNwOUh7so7FUVNS92z9y0sMxluX6xrJ4TafbctIbqzdE3enlmZMOReV6\n",
       "urjEsSMZl+1lpVJ00rFAHNN2iJMDAEC3ifVRurgUddEo3m/7lvwMp6dop4cg11OtgTbj40/eJ59N\n",
       "J7xvYAVo+9/aWWB1UZdvUbq8YHUPHtI2en5aZ3XNOvUZylclVheLow0budroxo119ppqhdrzhfwK\n",
       "q6tVqV+xvLjN6s56pyRfEsaLTqdD8stLWJY+v9wPvTB20rM5Y0IojH0q6JH7YTyB/XA64H0iAIDp\n",
       "0PDhpjgutVotTv7Pz4f/NxCQ3ymZxPY8HPI2FgDA60Vb1TTGcTd2CN/db5RltVqVr4mjLhHlx0IA\n",
       "gHAQ+/LcZx3hGJXIy/7Iso3jczsRoPfw8P132KRtMRoKsrqFHJZDOsP7mgAAIcP0We2ZqLMm+Nlk\n",
       "StueL8C3Hd/M5S/MaYtU9t+n8/l4XdimZWJHeBvss+j1wRDarlF/4JY73N5G23VxztsjAICEUeyV\n",
       "Dl+fHh99tpnw7u4yMecmMMff9xlznV6vJ+qy6bSTzuUzos7sh7PxRNSNx2irYjEsiHZTthlm/7K8\n",
       "ss2oVtAPSqZ4HxcAIBLFdtAf8HNDAACvB8vIY5SrHZFtgWVhf63Nmfc0Gvi+8Yjs6/zPf/ZnTvqq\n",
       "UBR1loXl8qd/+j+SzwpXwnUz2l+XV/K8zsX5Oe+TJOK0zLMZ3heACe3/wQS+/0HpkL2k2qW+bK/P\n",
       "zz1DAXrviwE/JkRCtH/Ve3y/PnpH/ZRkkO+v65sbJN/p4DhweHDqljtkcktOegZDUffkK5xLrawu\n",
       "irpCCes6G18SdRs3Np10rYZlZCdkH7o/wDZbrVyJumIJ20ckIPfDfB7f4/xCHodrl+gDhnx4v/FI\n",
       "9nUaxrNCOCDqPv3hD5z01ZVsg8pF9NkaNblfR4JoGwI+aqt+/Zu/Z68JJqk9+ewHHwt3R1sVtOS1\n",
       "up/+6N846WfPnou6YgHL/LJcIJ8tLm+45QAA4O9MSf6vf/v/sLrxmJbReMiPMUsLtI16PDlWNxrS\n",
       "sswk8fnO6mduucNCAP1IOyT7XKmcYTeCHVYz89F2FPSned2Q+kvZND+PPN+nZd4dYRl98Ol74rOm\n",
       "kzjvCwTktv365QtDJ7eX07MjJ/2jT98XdZ0u9oF6C9tio8P7mgAAgSl+5p3jj2TSqDs/l23Lq9fG\n",
       "3Gkq+6Vra7jOs7qCNuOiKI+hVcMHiWfiom5kzLdiCdmHNu1loy3bluMjtO0+i45LuSXe1rvXnS4K\n",
       "/Bhj+iMAAI0GPx6a/gMAQEjwjUM29qGOe7jy835fJkfXJg72T1jdVZGO6Rubm6xuMqH1vrTI24xq\n",
       "lc6zQ0Fsf9W2vA5i2omlNf4ZAAB8RnvOZOU+UCqjnY3Ycnvx+bGPeiZ8WepOH0VRFEVRFEVRFEVR\n",
       "FEVRFEVRlGuAfumjKIqiKIqiKIqiKIqiKIqiKIpyDdAvfRRFURRFURRFURRFURRFURRFUa4B+qWP\n",
       "oiiKoiiKoiiKoiiKoiiKoijKNcB67/EH4oc723gYWbUmH17V6eKBRsUSfyA4AMDyGh5aVinJB9n5\n",
       "fXhQ0dOvjkXdzZs7TjqdpodVHZ/yhzy3O2OSX1rkD+R++vU5ya8KBx8uLtBD3Ztd/nDIVoe+byaH\n",
       "B172+9Lhi/RgwqxwcO/BwRF9hjJ/gNNRkR5utpDiD1WNhOmhoOGw7aQrcw5YjuXwfpU5h46B8Rrp\n",
       "vHBQJwB063jQWEs4JBMAoPDVKyftC+GhY3ZCPpj8oowHRZZO5ANzd7bxoO6Xhweibmwc7Lx3KbfZ\n",
       "WxvYtqMZLNd+b8zJAQDg7R62xeUN+QDOZAoPCx/NOTy7UsZ+PU3J3/umjIOcVxZpPe3v8mURDNJD\n",
       "30IB/tCx5cWbJN/r8odwbt247aSrlQKrAQBIZ/HQuHZPbnuv3uGhlOcXtJ7W1viDJ4d9eoBkNGKz\n",
       "OvdBe9IBifuvXpF8Ksf3w6RN++EUsF97fXL9BiysN/eBdSaVKzykLhbkD5GrD+hhf2+P+QMvh316\n",
       "IOre3p6Tvnv/jvgMYw++k8835zcIU7SRyah8EPNZeddJh+cclry+hWVrR/EZsrk1Tg4AABen2P5a\n",
       "bfnAXPMA3nQuK+o8M7RBqYR86OOHDx466YPdfSftFQ7qAwBYX8d+l07I5dVuYttu1OT+5fHhAYGD\n",
       "rtymzPH1n/7hS/LZvcfrbjkAAMxm9H6jPl8Wz9/Q5/vit69YneV/S/J2hH//zY1Vkncfvv49jQYe\n",
       "Ary4skU+CwT4wyrP39IxZTbj7333/mOSf/mCf6dWjR4omUzyB7uurND2ljPaX6fDHy773f2wzIcj\n",
       "2baEDDvhHcr9NRjEQX7SmzMWlfBQ0MEA26LHI7excNg46Dggt+3h0OyjU1Fnlovlke8XNt7JPOze\n",
       "55cPl7WMQ1WjtnwQ7vIyHn69siLboOoE/SCPJb9TNIZjT69HfdL0In/oe3KHtp3ZiLdxsym+e9cj\n",
       "j7WNItbtyCO3FZ8xnlquarfH/Lg0HFDheMI/q89Vn7bNjwkBH62b2ZRvs5aX/j2e5G2VeywzD3Yd\n",
       "DeV+uJRHm+S3eD8DACDgw/edTfm51GBAfeaIMB4OXYeZm/Y4GuHbCgDAeIzjz3Qs+6/VKvp2+ZQ8\n",
       "Hkaj+L5Bn9ynfIbvE43i81Wu5Llnq4Vlns/Lz2DbaFf3j/ZFXauL7T43Z4yfjXFuvLaEfTy+yNtv\n",
       "AIBvX6OP2u3LB80vGAeYJ2zZfzg5xrnw85fPRF06jfPzeJzWe7vJ9/Ohh/rGlRpfB/EUfd/TC2GO\n",
       "tEr7TbnBz6cf3KGHlCdTeND2x1sptxwAAHyuMWUpt8TqGmXan45d8+vvuXId8gwD3gbF/NRHmE74\n",
       "uezpMS27YBjrNJ3Ou+UO5Su0s2Zfc/Pw0UdOOhSUfcdhH8up1+uLOjuA4894gmnfnLlJLI7vdHh8\n",
       "JOqmxtgTD8v3K18Z7zuRxxizyEfGXCKdkfthpYCHhduCbwgAUG/ggfTttmzbOx3sK5kMP+cDAMhl\n",
       "se+dFo7IZ7fv8OtVDdeYUrw4ZHU3b+I8/vHjB+Iz/Pl//Y9OejiSfbFbdzed9I0EXZtoCWUxHlG/\n",
       "Jb/Aj3N2iI5XUg2EArS/f/XkBX+/MF0PShg2bnWZtwUAAINLfF5PQC6LaAZ9lZHQbxo9WiavXr9j\n",
       "dZ/9/N+TvC2c8d4s0XXKvuFAvatfuuUO9x/inLJ3KbdZMMb1erstyszlg1rrStRVjXW3geE/WCG5\n",
       "HzaN/7uyItfTdIplvh5Ii7pBH/9vLCL/32rFGAcMP7LZ6DLq74gY94tE+LUvAID9w5dOOiysvQAA\n",
       "pA3/ctCT1xzyxvpcNELbebPL1697PlgCfkzwuPaGSOtawTB9j0KV9wU8DWyjVojeu9Ph/Yyeyw3y\n",
       "CPOJlMvPuHD1j+8ZdOkY3G7VWZ3pXwLQeXcoIdvw6Qz7jUe0XAC1Kvo347E8nxuP8B6vX8nr0E1j\n",
       "DdL283ZVd/ooiqIoiqIoiqIoiqIoiqIoiqJcA/RLH0VRFEVRFEVRFEVRFEVRFEVRlGuAtfuO314I\n",
       "AFCu4fbWP/rJZ6KuUMJtXeYWcTdmKI4X37wVdRdnuC3sgw92RN0/fvEEdR/RrarROB/KoOkKI3V2\n",
       "ecLqqlW63evggC+nH/zwEcmvbSyzuqNTug1+NsPv2xp1ftukL023hXuA3+qfz9HtfCNht2YqRnVS\n",
       "aJqWa9tfywjfN5gTJiUQwK1wrY68FTFshEKzbfl7x0IJQwr22nKYg3gI21zA2Pb35jm/xRkAwBfB\n",
       "cB7JpBzCIpHC7ZWhsPyslTI+69KckHXvTl476VgG22jKx9cFAADM8FlrLTksomeA2zP9c8LeTIxI\n",
       "HP45/7dtbFufuMKnZNN8OInxkIYgvLzgn/frJ09Ivlji++GdOxjuJJ2St8tGjBBOV8VTUbeyhFsy\n",
       "BwPapibjnlsOAH9YltIW1OUlGi4qFuOft1+nYSEGQhid8hUNbVFrYhiHnVs33XKHp08xhEe/L4dn\n",
       "yOcxZETtnLdB3gDdsntS50MhZldWSP7BD37kpI+OjsRnWM7nnHS9yofy+A4so7CP34oLALCzjeXS\n",
       "7jdEXX+I23sHQ6zPyZwttmFj+/JFQQ53Wirj+BWOyiF6vDNsVyvLq6LuvIBb4jMLaOvSST6MCQDA\n",
       "jftYXpULOXxls45tfjDmw4cCABSb2FdKFTmUTLuGZZl0tf9mk7cFn/2A+hb/+f/6r6wuFKJ2+o9+\n",
       "+hGr67RoW67X+fby9Om3JJ/M8LYwm8Uy77SpjTg748MduiIrgdfPhyip1Wgbzeb4Or1zm4b8Cvr5\n",
       "ZzXLHwCgUsaQeFL5f/d/ccxKCL4TAEA2g6GMaldyyNXJAMdKIfIWAFDbNzDC3Iaj8jNYlhFqcCz7\n",
       "BTUjJJ4ZPs1NuYL9Yzkv98OJEU6xUsF7b6VWOPk/Pyv28W5PLv9EFPvKjfVtUTc2Qlg1unJotb4R\n",
       "lqPlCjkctfmy6E3o/aSIbCPDdsbCsn0zI6QlMrLNmI2wjFoeGjqjW+NDTrjDm3qFh/UC1Xk8fKgF\n",
       "d4hJSwhR9IfhHvgQwma9uwlasp0NGT50JiGHdDo/wnbg9fLv3hvS/in1/1CI2hIz5Oe8UE1mmI9G\n",
       "XW7b5pj6gSucpcnZKYat+NlPfyzqysZ4OBlhOw+H5XKNG2GlRiM5tFXcj/1w3v18Rv0OR3K4l2oR\n",
       "w4tclTHd98pzhN7YCN03k8MJNWs4rsXDsr1sd9EHjAjhCAEAOob/Wz2loVlubm+55d89w5jWu23z\n",
       "Zdbu/PfpwEPDBPr9fD+qNqlPc7WH9rhc5EOcjbrUt/voEd/Gbm3eI/n/9X/6U1bX6NDwSc/f/prV\n",
       "HZxSP6PW5MMBXpzTMg9ZWKe9jhxaadjHz/xePvQOAECvifZgXljOfh/rIDYn7FLfCD24uYnt4+B0\n",
       "j5MDAECzhfUkVC0AAKRi2E5fvebDdQEAPH7woZMOBuXwqd4Z1r1ljBUfv/8eJwcAgMtTfPfSOT8/\n",
       "BQA4K2A4q25H9kemhpk+PpfnqOUa2tx7D+k8780RX7ZrqzTs26TFh/bKRdDu/OrP/1p8hkAI58n9\n",
       "Pj8vBgD46msMR/zQFS6u2xTm0x6XPz7ldd02Hav33vK+drNObaTP4sNlxaJ0LDsw1mLqPXnel5ph\n",
       "f11ZkseEZgN9eTvIryk1x7QfewL8+PrlV1+TfD6VY3UrrhBToQyOX2MhrDUAQN0Im7mSkv2Msy7W\n",
       "TbE9x39dQD9oNJTDla2t4nEip0UM8XlVl/tXehltQX8qh3CNGeH75oVFjSewbnJzwmZORsYcxliv\n",
       "zQphQQEA2gNcO200K6LO50dbFZsT2t1v6Bo1eQzIG890ekpDmjWFozb8Idr2psDPKWcz6i+N+sK8\n",
       "z6L21+Pl29/EuF+/Q+/Vc8dx+2cCfjquSf61z0v9h8mYXwz3W/R+rTZvgzquMHCmfe8I9wYACAex\n",
       "LN3+tYlZV8OhHCI5bIS6HAplBAAQNHyGqRCmXXf6KIqiKIqiKIqiKIqiKIqiKIqiXAP0Sx9FURRF\n",
       "URRFURRFURRFURRFUZRrgH7poyiKoiiKoiiKoiiKoiiKoiiKcg3QL30URVEURVEURVEURVEURVEU\n",
       "RVGuAfqlj6IoiqIoiqIoiqIoiqIoiqIoyjXAyufT4oeBUN9Jf/nkt6JuYXHdSdcaU1G3tJx30ps7\n",
       "S6Ju++ZtJ90bVEXdR5/dd9Klq1Py2eLiIntNtXFE8js791jdxGOR/Mb2DVY3GNL3Pbs4ZXV+v4/k\n",
       "A74kpgNh9ppc1ib5SvmM1QVc+W6/yepGownJR6IxVufx+0n++PjYSa9vbrDXAAAkUhl8hkZP1EW8\n",
       "+MTuciG6OJaLxyPrYuGokz4/uXLShasrTg4AAB9/+omT7nULoq50iWW+ubkp6oqFSyd9ecHXEwBA\n",
       "OoP9bdQbO+mgNeHkAACQyOacdOFqIOqGs5FxP7+o6w7xHoPeSNR1unUnHe0HyWebN/h2cHxYos80\n",
       "aLO6UHxG8pks/7zjMV4/GdqsBgCgYNS7P+juEUjExja/s75JPhv0+TrIZHIkXygUWV21Sm1VvdJg\n",
       "dfl8hOSvCryNK5RqJN9odpz0zLpgrwEAaHXxPSKxpKjzhfA5RhO+nvp1+nc7nmB1r75+TvJLa2jf\n",
       "V5cWxGd49s1XTjoQsERdwrAF3VBE1JVLaHcKxbKos0LYnqt11AWD8r1vGO0lkY2KOo+FY0+zVhd1\n",
       "1TLW+9nhpajzBbBv7BWx3mce+ZqdjbiTtm35tx2xEPaHvdOKqBuO0WZs3eTHQgCAygWW5YOdHXqP\n",
       "Wd8tBwCAzz//nOQff7jO6g6OXpL80eUuq7uxdofkP/nhp6xue5f+HyvI+y7ttmGDJtRujYYe9poZ\n",
       "0DE9EubH2pNj6i/4BdPV7VEbMRvPWF0kQG2kZWGfurm1zd8cAAJhvK7XHYu6oB/vZwWGoq7b6Trp\n",
       "8US2xxPAMh+OjPErHBKvGQ7w+QYDeTwMWVg3Hg9fTwAArVYLM3lRBsMhvq/ZJubdezbDerLnvFPX\n",
       "GF8T8ayoC7fQ/vaGss8w8+FYkc3SMSBm8TZ8NKH1HhFsYaWEdqI/lMt/MMH+PoWWqPNM0bcLhamf\n",
       "0anz9/e7xgoLeP9hNqa2bzrl+/jE9fu3SEjwyXN0LEulUqwuGKTvMR5j2Qa8sj32zfC6Ozcfirq9\n",
       "tydOum3xvvZoRttHscj7LZEItU3FCdrwwUDu43Hjul5P9vdDRllcXsp+y89+9jMn/cVvPxd194z5\n",
       "YSyGzyDVLQDto5OJ3G9aLew3Pp/sQ8dTOL6en8v3K5VwbuEz7FEkJvuyYAzDuQV5fv78q6dO+t/8\n",
       "y1+Iut/8Dufu/YlcT1PDFtsJ2n5nwM8TAj7aDxu1GqtLJGgbG4Q6rC7g6hrS/PCr3/0jyefz6HPd\n",
       "2Fphr2m7fNlq44DVnV9RO/i//5eXrC6WoHU4HPL+vs81/mUzvP31zOj9SmVsO2OPbD/v3bvppC9P\n",
       "+fIHAKga96tU+XcHAPj0x7900gGLt4MAAKeH2Je/NNpiLC370Jax1mH55HGz0Ua7L9lYAIBGA993\n",
       "c0P2b6pV9MM9Frap3/7jb8RrRh2sz7UFeQ5TbWC7qszx9zfWt5x0+6ok6vxTnFvsH9C1iUaFtzW7\n",
       "b+n8aznBP+/lPtr2XHxVfIZSA/v76zcnom5hGX2LsyM6f/jy99+y13z4AV2bW1jIsLpCmY4Vkl8U\n",
       "s2kbnc74dhV26cIDtHHxFO+fAwAMSujDFYry2k4kh2Xx8MF7rKbygvZjy+af9dmLFyT/+O4tVrcS\n",
       "o3V4dnnupIOL8jslfPju7UveLwAAuGus8ySEdUUAgEgC2+zh23NRV49ju2p10beIxOX+1e5g/4pE\n",
       "ZB/6sohrQP2+PIcZGvPpXFqem9hhrM/BCJ/1/Jxf4wUASObRL1hdy4m6w0MsS9uWfYGysa5YKsnr\n",
       "GfEI+gm2a33EnAOa1Bp0TimN3QGXL9zt8vP4rmst0e0Df4/PsPuzKR3fYzZv63N56ovNgPf1BgPX\n",
       "HCbB9wFzLvfdDfl+eOVag6v3jP47k/3DZhXrKhqV14oCfnR4cil58lk1fJfAnLVd05e/POX7te70\n",
       "URRFURRFURRFURRFURRFURRFuQbolz6KoiiKoiiKoiiKoiiKoiiKoijXAP3SR1EURVEURVEURVEU\n",
       "RVEURVEU5RqgX/ooiqIoiqIoiqIoiqIoiqIoiqJcA/RLH0VRFEVRFEVRFEVRFEVRFEVRlGuANeg3\n",
       "xQ83Njad9Jb/hqgLRm0nvbv7VtT90z+9c9IP7r8n6qaeNt47nBR1sWjQSd9/8IB8dnxyyF5z995D\n",
       "kq9VW6xue3uH5IfDIasrFaskP/ONWV04HCT5Z89eOulPP/4Je029TJ/N742wupl3QnWhHqvz+AP0\n",
       "/h3+3dvtNsmHI2EnXS1X2GsAAILekJMOTDyirt/uOunueCLqAkGfk/Z4gqJu3MO68c7w79lERrzm\n",
       "4vTcST++vyQ/Qwjb9sH+gagLei0nvZjPy/dDGczCWB/WzMeov+Pw/A1mLLlc/UGj/INhUTcZYFkm\n",
       "4ilRBxNsy6PBgHxUOKuzl3i99D3SaZvV+UMjkm+0+HblD+B75DJyuQ56+P11r3Ml6nxBbCDnxyfk\n",
       "MzscZ68Zdemz1moNVpfL0udrNHjdidH2AACW1tZZXXtEv5Mv1Y6d9IvXclvc3Np00sNxX9QdXxSc\n",
       "tMfLt7/88grJx23eBgWntF2m4jEn3Sidu+UO2zeW8ZoMX/4AAGDcv3ReEmWzPnaw6tVU1FnYVWAC\n",
       "+E5WmH8/AIBwCN+pNpLtYMjG/hWd0w83ltecdCIq98N/+KffOun2EOvz7qMHnBwAAIbdhJP2wkjU\n",
       "1arYV06O5XqyF1addLNbFXW1xoWT/vu/3yWfbe48Yq8JBmi99zp8vS0tbJL8/TsxVjed0H7z95//\n",
       "FasL+F117eVt68xoe50OtYPxGF9v7S6VUCGNAAAgAElEQVT1FyIRvm1HY3RMbnf5djVzPdra2gar\n",
       "S0Wpv/Tkd7930n6hjwMAbKbQdoUCsm4ywroZTeV21e13nPRsPBN1Hh/W1QRQF7QsTg4AANMB/t/J\n",
       "bE4ft7AfSv4bAMBoNGLTf/iPMen14nPPvQbQ0CwuyuNX6arspJvNrqirVnBM6Xlk3QBQF3RV51W9\n",
       "yF4zGtJ6Ci3zttAD2Ga7nTarAQDojbDMW13eJwUAiIWiTjq/niWf9XkXFWZjP8lPBnw7mLk6js/H\n",
       "t6uQP0TykUiU1bn9pUScn5+Ewy67P8WyHQzk9uIPYdneunVb1OVy2K/rVd7PmEyorRpP+TKaTKgP\n",
       "HgjgM0yFawDoPGF5eVnUeTxYB5WKPG4eHR056YcPH4q6tuF/RW0cA8Zjfu4FABCaYXsJWH5R12xi\n",
       "gyvVyqKuUMU+5A8GRN3iEvb5o6N9J/3026/Fa676WK5+Sy7/u3dvOenzixNRl0rh2GPn+HYNAHBs\n",
       "3GPBPYeZ8vO0yiUto6mgu3f7FslPhgNWd/8ObfPtNm/jzDkfAECrheNNtc6Xxb27dMwMBYV+6KG+\n",
       "tdfH+xmFAn2HaZ+f6ww71OZ0Pbz93ds9JXl/aGakZfs5meBcbDaVddEIttMHD34o6t7s4zzDmsnj\n",
       "cOES/UDL6APlOWsEiRSW5cKSbDNGfSzbdFh+hpFh9ydz/BHLh2VpWTggxuLynCO9gT5vKirPC4IV\n",
       "tBn+MN8GAOh46I/IukgCx5ivfvct+Swa49c07BBdw3h0e43V9b34rOWBMLgCwNRYU3r43k1RBxba\n",
       "3P6Qrgn88JPH7CULKTqnbDRPWd37j94n+bywrvLs+T7JF6/4Nc12l/bX2QzH6NFIXod6/wN8jrPT\n",
       "C1FXHmK73zvgbdCoRu3W759+weryGWqn7y7fZXWfPfojkn/66omTflfZd8sdNnewffhj8rh5Ubh0\n",
       "0uOQvPZ0afj7niBv2wEAmj0sP38A56hHh/x6EgBAKpN20o26rJuNu0ZaHuOnQazrN6/5dWIAOo8M\n",
       "23g/OyKP9+Z43e3IdjAQQH/Tvd5qYtvYDtJp2RcoFHAtJ5GgPqrpf5msr9N1J7+wtjgY0DYbtIQ1\n",
       "DdcaZqPJ25dQKGSk6bpuzxjHTXbfURsRCvF1kE5TfzwQ5MeOmUXXCNxzn++xwwmSN91hOyS3sdDy\n",
       "gpMeD+X+1W1hmx305fmc15jnhoPy/w0aY1s8xteT7vRRFEVRFEVRFEVRFEVRFEVRFEW5BuiXPoqi\n",
       "KIqiKIqiKIqiKIqiKIqiKNcAazzhty4DABQLGEomFJHDa339t5876ZU1ecvuyjpuE/WG5e+bxoBb\n",
       "lAd1eYtcr4dbZAdDui3M4+W3axavjkg+HMiyunKZbsGeCaE0/DbdEucRyrN6QbceL2cWnfTLF1+y\n",
       "1yRTdHtWOsFv16pXayQfsfmQM6Mh3fpda/FbJZdX6PbbsREeqN+Xw0WNfVgWA5C3IkaNbXGWT94y\n",
       "mjO2dXo9csiZjhEOyAyVdXoib8U1Q3T1WnLol3Qe62nllhzi8Pm3T520pyhvFQ4a2+XTKdyqPRXC\n",
       "jgAADIzQarkFOQzUyELddCxvg71hbFs/fC1vAZ4G8D1yG/T/Nq74EGrmtlUAgGanxupSrrCN69v8\n",
       "dvTxCOv9oiZvf9x7iyG/uj051MVHH33kpM1QRQAApWbBLQcAgGiE9mmPl99eeXxFw46dnp6xumCG\n",
       "1nX16JjVXV5SG+Q3wq4sLyy45Q6dOm5v7w3lcA/DEfblWDTNappNuvW4UOBDq2Wz9PqgscX47rrc\n",
       "b/w+fKd6RQ4b1hseOemQJY8di8a2WssVssfk/BK3rfeNEKe1yhGj/o7xGNv87dv8dnsAgMoMbctw\n",
       "Im/tnfpxS3HhSrZVNzawbzx58cJJH57K4diSRhnFl/jwgQAA4wra9vGE76sAANUStoP2kO8nAAD5\n",
       "NPaV+Aq1GXaYt+GFoqvfnPHtYOvmFsnXhXBl7n6TcYWF+56wK5Tfi2cvWN1SDu30xjINB9Ku8XY2\n",
       "FaDjWl/wY+wY7Te9Fh9GZDKi/k0N+H49tmnfuHMDQ+pFbbk/DPvG9vGYHHrk+BRt6+LipqibGUNq\n",
       "vyuPbd0OjjEJwLLozQlxlkyi7qoot0WfEaauUZfH+EQcn6HbkUPEzIxwWbfvYDn7fHLIJDNsgB2R\n",
       "nyGeMsI9tGRfp1TAeg9l5TF+ZNRnJE79uWBMCAfWpyETKmV+/Mpnc056PJWf1TMIGDpRBmMjJFSv\n",
       "R0ODBIVQg64IjjDs8WU7m9KxOhjk5zF2kNZhJMr3FX+QvkjYz/t6vT+IS4d20ZoTDsxn3H4ykdvi\n",
       "zhbOpV4+f8Nq/EFqq+wQPxZ5Zq7w0IBlHpkTWilqhKycTWXbMpphnSbTsv96UUC7vb4qzyN9RsSN\n",
       "ZgvHikBQ9gtGM/R1BiCHXI0aoVknF3PC1FTQHldacniWiRFyeWqEhQkJPiQAQNoIbTlsyvPffBrH\n",
       "pf5Iti2dAT7r2xd8WwEAWDP8jOmY3i9k82NCvUlt0I9++Bmr8/tpP07GeZs5HFG73x/zZbu2Tf1f\n",
       "M2Ti+ekr/t4DWpYewY90hzS8uuJ93smIlkmryYcD3L55n+TtLv/u/R7th4Mu+mNbN2655Q4Xlzgm\n",
       "r63kRF3HmLs/+eqZqEsl8R52XDbcq2F8j+fP8Bk++sFHnBwAADILWObNlhw+sWWMA62C7AuY/kMm\n",
       "J4+HmztoNK7OsVzPXsn9qxvD9xvlZdtiAc5lw3NCvRYr+Hxe7xyfyAinFMrR8EIjDx+GaH2b+pHH\n",
       "XX5uMJ7guFSsyb5TcgHDxa3euCfqLi5xTuQOSdZt8mEMqxV6BEQkIfibrrWm0Ii3BekEbR/pG4us\n",
       "7u2rS5JfmuIRDsf7e/wzAMC7o+dOOpqRfb3hJbbZxjFftnEfDc/3+oT3saJpGhrvbz/n1wgXF2l/\n",
       "f//DnzvprRYfXg8A4MA4MuCydSnqIim0s8ULORTafhXrZmV9RdTNPGhPXuzh2tP2umzfpoZdrB3J\n",
       "c9RYGMfauzflIxvAwnH49FQ+CqDfQ38psYr3yyTkMM2toRFa0C/bjFwO/cH+nHC/vS627USSX6MB\n",
       "AEitYB/yeanN7vR5G+4NUlvSbvF2duAKxTqZ8n6kK8I/JDO8rz0zi8Xj6uNCCEFPi/pLPh8/L3CH\n",
       "yvP0+Dpo1GgIyFCQX7dv1+k8OxnH/juaEzI8HMB3T0f57xgAAJJ+I1T5VL5fo4HtfmNnS9RNjKpu\n",
       "t/n/qzt9FEVRFEVRFEVRFEVRFEVRFEVRrgH6pY+iKIqiKIqiKIqiKIqiKIqiKMo1QL/0URRFURRF\n",
       "URRFURRFURRFURRFuQbolz6KoiiKoiiKoiiKoiiKoiiKoijXAMs757Cpb5/j4fQLS/LhVcvLeOhm\n",
       "NBoXdVPjAKiBcPAqAEDHOAT1xuqmqPvH33zNPgMAQCDIH7AaT9CD8Y6P+APvtre3ST4Y4g/eq7kO\n",
       "8ZwKxWm7Dkc+P8fD01Y2+IPnNm/QA9F8wL+Tz08PuXIfSvs9VpserNW+5A9w81j0MK2AhffPZOVD\n",
       "qXbf4sFslYp84Br48ODDkHC4NwBAzzgoKyIc/AkAEPZgoZ8cHjjpxbz8rB+9d9tJl87kQ9QPdo+d\n",
       "9NLyhqjbSOHB7mmbPxQMACAbxUNk7QiW63npVLxmcQEPWG225cPu/TE8oO6qJOsCMTzEbGllU9T1\n",
       "pniwW6NJDz4rXfGHKmYy9EDf0Zg/sLbTpYfXxZMJVtft4f8dzfgDqAEAYilsR3ZCPsTvL//61076\n",
       "F7/4GflsY4Xvh2dn9LDFk3P+0Mf333+P5NMj/lB292Gc1TLfV9bW1ki+eI6HDobD8mHEqRQelvzs\n",
       "pXxg62yGz9Fx1e/3bLoOZQytywcsmzx/+sRJ+7zyGBM1DoNdX10TdSsrHzjpSEQ+eLI3wEN3B1O5\n",
       "X997jHU9GeNhmKXLHicHAIB2C+2vx8cfUggA4J3iWNGry2129SaWZXnIHxYMABCMYr/+6H08VLXT\n",
       "6XByAACYzfCz3YPnou7lq3dOemV9W9R5/fgMH9+QDwhttfB9z0+oTWtU+cNNByN6UKRt87b+7Jj2\n",
       "w4WFBVY3GtFx8vjwhNVFo9ROLy/dYHXlArajSoEe/Lu1vspec+/+HZL/4svfs7pUkvoF5phgYlm0\n",
       "H44H/CHj4yl9d18I660zln2ueBz9tmpVHjsGPTx4czLuizrLPCR7Kh8GHYtgPyobvlQgIB923+9i\n",
       "H5UO9AQAKFbQXqbjcn/tj3EsavXlQ6NNPygUQ9tuBeRD7MeA9TSac8hz1LhfKsWPhQAAoSDafb9X\n",
       "LqPUIvpY6SS12d0uf1iqP0b7nWcqHBpt2OmZR7btS8bh73sHR6Ku38H6rJRp27P9/BhqWbTMg0G+\n",
       "HQRctkRqV4Eg9e9t4eB697jbF9rLDGgZezz4fEEvX64AACHjeXtDeSxKJrF+pXdyH7c7FA6eDVj0\n",
       "XT0WPqvHw7cVAIBIxOgDlnwweSyJZTaTXx3u3X3gpF+8eCXqPv0IfYGrEr7TVDhgGAAgFJT7qIlp\n",
       "PXN5fnwBAOgbdVh5IY/dL1/jgdlLy+iXWWG57/p72KaWNmSf6OAID9ZuD2RfIGz061u374q6Zgd9\n",
       "wGGL3q/V4dvi0iId/7xevh+2mvT6k2PeN6tVqb8UDPJ2u16n/urSKo6P6RzvoxZdcxZflb/3xho9\n",
       "VLxW5v392ZS2+ViMt1V914H0tXKF1W2s07o+OcKxo1rl/XMAgHQKfdlcWl6n8RiHQe/syAenjwH7\n",
       "a7PNr48AANSaWFc//vFP8IMpXw4AAF9+/pWTzmfktaKIjT759vvyGO/34z0iEXne3TTmN/uvi07a\n",
       "jsiHo5v20ufjxwMAgMwCHu69EpLnRwFjDPTPsUdBY4yxvLTtpDNJtxwAALY2aD8MRvnDvvsjLIdg\n",
       "RLZBXz1/7aTNtSo3fmMc7tSpzUgnM245AAAMfHQeMAvwflHbtd719pyfJw9m1F/63V8/YXW2h47d\n",
       "m6to33Mfv89eAwBwVjTWgAR/HwBgNEZfqOHlx6LCIe37/jHvP13V6iRfrvFjd6lRpPk65ueNhx99\n",
       "gmPo4/xnou7JC+yvWVv24yvll0768tUbUXfzAc5fFw0/N2rL/vlFFceK1e0VUZcw1gjPTg9F3eZN\n",
       "nOf96z/9kaiLGP2w3cbx6/nzt+I1jTr216sj2Wbn0ub8Qe6HUWPdOOTn54YAAKUr9EGWV+gYsJDh\n",
       "x4Rqi7ax0IC3cVGbjnP1Jr+m0Wi1SN7v521cx/CZBy6/JZrgx450OkXyU+DHhG6H2ox2lbctyeRN\n",
       "kr88P2Z1oTBtl2HbqIMxvx4PANAy1r8nAXne3etiWUhzCQCATg/LaTBnPt3ro89gCb6Y7vRRFEVR\n",
       "FEVRFEVRFEVRFEVRFEW5BuiXPoqiKIqiKIqiKIqiKIqiKIqiKNcA/dJHURRFURRFURRFURRFURRF\n",
       "URTlGqBf+iiKoiiKoiiKoiiKoiiKoiiKolwD9EsfRVEURVEURVEURVEURVEURVGUa4DVH/bED3/y\n",
       "xz910t9++1TUNRoNJ12p1UWd3+9x0oNcXNQtLqXwfpWGqHv86EMn/fLlc/JZNh9hr8nlMiQ/WQ2w\n",
       "ulqtQvJbO0usrjMYknw4EGR1K4ubJD+eTZ30eanAXlOoXpD85voaq0tEbJIfjUasrt1tkXxv2Gd1\n",
       "nT7VpVIJzHimIBFLRJ10uVITdV6f30lbIb68AAB6UyzbYasp6mx/yEknEpj2Tfn3AwA4fffSSX/4\n",
       "6DNRF4ri8/UH8jN8dPO+ky4cn4o632zspKce/M61eFYUrykbZe6zPaIut7TgpP3jqKhrVAdOuu/t\n",
       "iLr2oO2kJxZtUx2haAPdCclPZ0L9emibzeb4tu0Llp30bOqTHhViaSyjfncm6n7yxz930r/73e/J\n",
       "Z89fvGavyeezJH/v8T1Wd1o8JPlyla/TaIzebzwesrrT02OSn47wHccT/hoAgLPzEyedX1gQdfVG\n",
       "1Ul7pny7ev36JcnfvXub1c1gTPI725tO+s2bN+IzzIz32N1ribqrOpZlKGyJuvwCjh25/LqoW13B\n",
       "9nZ+cuak33vMvx8AwImhq5RlW9Co4BhoB2X7Zo6b1Z48biYiOJatL6ad9L2Nj8Vrnr1756SPmvz4\n",
       "AgAws3H8641le7mcwDb793/xd6KuM8B2sLa1RT4LBfg2NhgMSP70+JzV/cmf/Jzky9UrVpeKp0j+\n",
       "/u0HrO75c9q2u9Mxq3twH/2Mdp36BT4Pb2tePqNtPpfOsDqY0HfvtsusbGnxJslPwyFWF3S1N78f\n",
       "x9p2u+2WOwyNdy+X+WcAAEilDN+sWhJ14wGObZbPFnV+C5/PC2jfPF65j3eGaDOCAd5/AwAYjPAz\n",
       "n1++H3ixXXp88hgTNMrca6FuOOb9LQCAsGGrPF55XAqFUBcI+EVdMob935+YiLrhBOvz/Jz6kdMJ\n",
       "b7vSMdqmpkP+vWpl9O0iYdnP6AyxbQd8cvn7I3iPUoH26eW8cJ1F62k84csiZtOy9Hp4G+TuN9Eo\n",
       "32Ztm5aRNA7PBvT3dD4f3t+a02YtC993NpN9vUwm56RDQf5ZRy5XfQr8/bxe+qymzTCfx004HMbM\n",
       "TO43oTC+b7VaFXUXF9hOP/5YHttKxUsnbRvPMJnKPpH5DFPBzgMANLs4BjY6XVE3HOE9hmO5Hwb8\n",
       "WO/fPHvlpP223AbSORxrfX3ZP//ww4+cdLkul2uhgn2qIMw1AQAWVxbxfhU6zrXa/HMkInQe//rV\n",
       "LqsL+F3tY8bbuHqN/p97dzZZnWdK++vFEY5F4TTvc62t3SL5Upmfo37x5QuSt3z8WkIoSG3B2QU/\n",
       "Hr7b3yP5VITvr3dv0jHes4r+k+mjupkaY+jzZ3uiLpnGebzHI/ul8TT6xpGUrIPLfSd5eIRte9SR\n",
       "bcaDW+hfe0H2R+rG3Kl8eVfUnZzjnKtcOxR1to39NZVAX8way+sZgzZeMwB5jG8bvnsuIc+3kmm0\n",
       "VbFYTNSZY6U1pbrJiF+va5QPSL56NWB1iQS25WGN1wAAtJpoTyJx+Z0GfbSRmxur5LPS2YFbDgAA\n",
       "hRL1P6wUb4+bPToPSMX4fhi0wySfy/O+9rhI67BfxGdPJOTfv4eCWB/1Gj/nAAAoXuL45ZmmWE25\n",
       "TOd56/llVvd69x3JD5p8X9lc3ST5juEHhf38HAEA4PN/+NpJ5xfl+l1Z23HSC4lbom47j/fw+GU/\n",
       "9/URjg9ZP9rByZz1vZExBoYWEqLOuB18/Bk/5wMAiMXRh371/K2oK13iMzWr+Ax2TF67DkaxjaZj\n",
       "sh/fr+NaR7lxKeo2trBP9d1jqIHHg5+VruiaefecH5fcvc434dfazfVaAIB2i7dBHh/th5FwltW1\n",
       "Gvg85SJt170233ZO+7SesrlVVtfruuy54GeMx/TtA4JPXq/SubDXg9cl58zTwgGc02yt3xB1HmM+\n",
       "0h/J/ubuEY61hZJsg8IR7B8Bi7dputNHURRFURRFURRFURRFURRFURTlGqBf+iiKoiiKoiiKoiiK\n",
       "oiiKoiiKolwDrJkQngQAoFzGbVirq/w2RACAwQC3TYZCciiPSAS3Crc7cvivTDLvpKc+OcSBz4Nb\n",
       "6X72i1+Sz97ufu2Wf/cMcbpdNhDkt2EWijQkRlkIS2D56PbnsRASo3BBt/DFokZYDIuvg+GYbqML\n",
       "h/ntrR4v3WbWHwpb/X30O75enw/nM5rQrW/v9nBrnW3L4TxyaQwPEI3J7WA2wS147tASJi0jhpjl\n",
       "l3VhD24rtMa4zbHXlEMj/PTTT5207Z8TCu0K621lWdadn2CooKWsEMoHAMJRDMvx2ydYrvllPrwZ\n",
       "AEC9hG3R75O3FO6+we3tnjmh0NoVY7usEI4QAGDixXYQT9N+E4nyW1xbbbpFMR7nde0ODcXx+a+f\n",
       "sDqP8Qwbmyvis5rbJCdCGBMAgCffYki3rCtsm/RO/QF9p0aT34rcG9Lt8mmhHRQu6fbMrU1+++fZ\n",
       "CbVBqQV83mJR3uL5/ge4tbk/nBfyBNvI2RkfUuuGEaYNAKDd50Owlcs0bMiNDQyt9uh9PhweAIDl\n",
       "xWfIZvntwAAAnQGGG/HOCU0RtbF//dOvfy/qjvZxK3M8in1qMjkSrxlNcczyBeT+ur6Enx0e8OFO\n",
       "AACGU9yKv7azKeqefYWhVVtjLOc/++QX4jV/+zmGO90/ktvKxj1sK82qPCab4SezsZyoA8Axq3BF\n",
       "t27H/FJbpFuyHz16xKqePXtG8js7O6yu16Pj2u5bPszEsE/D8vhD/Hj41Vdf4r1dYRZ+YYTANTk/\n",
       "o/3EHcLuez74+CHJJ1OCDepTHyES5sdXt790UZLDhpq0WlgHzbYcZnFjDW3woCqHZzGjbQXmhHeb\n",
       "GOHtkkkcYzzCtnwAgF4X7XGnLYcntoxQbUG/HE7JdIEHPfl+YSME2NCwq52WvC3f9NmmPjmUjNeH\n",
       "DzGdyKFkAn68Xzwq36/WRHt5UaEhCqI2X7atFq33oBCSrWSEiPJYsp9R7+D9xiN5HMqk0d8fdaku\n",
       "Ghd83imtz74QfspyhcTwTHhf2+/S+QR/c/IHdcO3K3fI1nkhxagO61QKOQEAEDFCfto2X0atNrVn\n",
       "fuF+lquefWa/seWx1mOhrfF55f5q9pXHtx6LurMzDGGVScq+9r1baPdPT9C2x+KynTHnGSQsnYup\n",
       "hfX0+oAfNwAAfvvkCyfdH8mhaWJG+LPbOxjaqj2Q5yY3to33e/WNqDs5wjDSV0KoUwCA5hDtUzqT\n",
       "FnVjIx7gaETHxliMD6vjcYd+EcIQ+fp0XNrZ3mZ1h/u0zL/6+hmrc/eNoTHv7gIfbs9r0bHQFsLv\n",
       "hKK07w76/NjdGbhCRwqmMOMq82yEb9uHh0ckv2iEvN7ckMOB/e53v3PSccF/AACYjMxwT/LY8fUT\n",
       "DN8bjcv2PRDAPtUzQsf7gLdHAABBIxTlV1+8EHVxY32k0efbAADA5o1NJ90fyv7reIBtIh7Gfnh6\n",
       "JIdij0SwvG7clkPMeWfYXk5P5fv1+qirN2TfaSGH4+HyGu0nUyEU+OU5Df838vI+ScUIU3XrlhzK\n",
       "Ohg2wgQFkqLuzWuc3xTO6DMc7/Lh9paXaOjO8zIfcnLooeOSN8TP65NBags8QpjqhbsbJL/ox3lM\n",
       "Nyj7vNs72A/7c0J5Gm4pDLr8uBn00H58sn/C6sIh+k6VjtBeXKGYz4rYB6Jz1rWWshiObTqV/Yxm\n",
       "A/3hdFIOrZaP4Nz99u2boi6bwPlDJIPP96u/+xvxmrYP5+pJSw5ZNzP6169/JduWWAL7F0xlXyCX\n",
       "wBBisxmWa9wn94fVVWwrraHcxz02jimtrnyEydQIK9lpy/YtZBvhoV1jskcIadx2rf+m4husLuA6\n",
       "gmM65ueUHVcoWo8wDtsRfL5clpZ/Ps/7J+029e0sIXTZaEzD0np9vC3ouupmZZ1f01iZ0Lq+cQPt\n",
       "8Y2UvF7V62O9ZdJzwmMa86KpR54jhBNoN8bPnou6RBKfqdvl24vu9FEURVEURVEURVEURVEURVEU\n",
       "RbkG6Jc+iqIoiqIoiqIoiqIoiqIoiqIo1wD90kdRFEVRFEVRFEVRFEVRFEVRFOUaoF/6KIqiKIqi\n",
       "KIqiKIqiKIqiKIqiXAP0Sx9FURRFURRFURRFURRFURRFUZRrgBUKhcQPDw73nPRCLivqPB6fkw4E\n",
       "AqKuUCg4aa93LP/f/X0nPfZ6RF0okDCegeruPXjAXvPy1XOS73WmrC4ej5O8P+hjdUEIk3w6nmN1\n",
       "1XKT5M/PL5x0KGaz13iAPlvpssjqIkH6DBubq/z9KjWSX1/ny/bgYJ/kFxbwnSqVK/YaAIBbO7ed\n",
       "dLlcEXVe47vG2VBuB7l42klP+WoCAIBmqeOkV1NLTjqdjorXVC66TtqTmIk63wjL6PJdVdSl07ec\n",
       "dCyWEXX/56/+Gz5DG5/7/R98LF6zEsLyGo5Hom44nmC6PxR1yUzSSft8fLv+7n4DJ91ud8lnSwuL\n",
       "7DWJRILkZ0LRVmsNkg8DX1eTCb5vpdwWn3VhAe1TvXcp6no9vJ/fT9+97Oqj3+P1UN1F4YLVrd+g\n",
       "/a7b77C6/EKa5Ku1EqtbWKS6VDz1/3kNAECzVXbSw7Hcvy4LWE6JjGDfvbQCpeaSTCdJvjfuO2lP\n",
       "QP5tgdeogy+ffSXqkuEFJ53JhkVds37mpPOLcv/P5/NOulhEu1os8G0AAGB9bctJH5wei7pgDp/V\n",
       "tnnbDgBQ62KfKjx9JeqyMbxfdmA56d6VbAvOzvGd1tc3RF00HnHSfo9sZE8u3jjpdCQt6n72J584\n",
       "6ae7e/TDXku4iraxep0fO7a3b5D8ZDJhdZZlkfxgwPfDsatvzAb882VzaNMe/Pgz8tneuz23HAAA\n",
       "7BBto1fFAqtrNgYkn0wusLqhTeu63emxuuOTc5I/u0RbFQ7L/SZj2O2ZZLQB4MJ4j+GIL1cAgFQC\n",
       "x4d8alnUFXxo0wundSfd78njl+nrRaNyH69X0UbaluyXBgwfs16V/ZaY4Sv7pmjTvBPZRzV1njm/\n",
       "sTLHolgsJuqGPayb4oX8rJaNfTkRpfcbjPmyLV7RMWVzma83cy5wcnYiPkMyhnUzHNRF3VUJbZVl\n",
       "+clnnTbfzl1DN4wF0zUaUxvhF6rAF6D/1+vlhe6+MRwK7dRDdcRWzbGzXWNMsKNyfx0afrNt87py\n",
       "hfpY8TDfB9w+4MxozvPGr6nhlMdjEVHX7mL9VmtlUffpp586acvD23YAgFIJ26nZVyYT2WaMDFsf\n",
       "nGMHA8Ggk85kU6Lu009+4KR//+TXou7Zt0+ddDKFZXRZ5scDAIBWA23i1or8DLUa9v9IVK6nSRfL\n",
       "MhGT7eWbd7tOeuqacPU6fbccAADarrH1zu17rK5apvV+LoyHQVdbHk/5dhAI03WLm3dw7llp8HbR\n",
       "PQZ7henc8uoSyfd7vA/datE5kUcYYqZT2i5PT/n5gweoDbo8xfl6NsvPtwAAtrfuOulaoyHqmjWs\n",
       "w9M5/utshL5xpx4UdXtXaPtTORQeMxEAACAASURBVGxX6SW5Lc58WGbdCW/bAQDGXfThlhOy/7q3\n",
       "i3V6cSn3qbs3bzrpQvHUSVcb8pzeCmKZd/rymHz09jdOejKVfYHJDO3sxuZNUfcf/o+/cNI///mP\n",
       "yGd+v98tBwCA2YzOu9sd3s6mjDUV70y2LSd7ODfs9GSb7fdio++7/PGl9A57TatF5+f5JD+fmI7o\n",
       "Glxywr/78IK2IzvBj0WtIe0b1Rr2w1Ffnkvdvo9rO71OV9QdHx446aX8bVbT69M5xnuf8OuU7Rb1\n",
       "l4Yzi9VNPdRPqbbw/v6k3A8LDazT3lCalwHkczivrzXPRd1+A+3xF09ei7rldVxLNN/9jz/4mXjN\n",
       "+RX2125Ptm92FG3V9mcfirpCAdcIuh15vr+1gO/+v/wPf+KkDw7PODkAAESSxjpKQPYz/u8n/8FJ\n",
       "L6zkRR1YaDMWFtZEWfkC27J3Rtvy5iK/tlNr0rL0x3j/qelqiytrvC30W3TuWm/yPkM2hXY1FKB9\n",
       "/+2rXbccAADSrjWfywJfB7kcXXtdWFpidUHXBOLo6Ij/v0l6v7MT1Hkb/PsBAJSNtfZ79/i+CwCQ\n",
       "XcL+MJrjv6aM9TX3GquJ13itcrPGa8SrFUVRFEVRFEVRFEVRFEVRFEVRlP/foF/6KIqiKIqiKIqi\n",
       "KIqiKIqiKIqiXAP0Sx9FURRFURRFURRFURRFURRFUZRrgH7poyiKoiiKoiiKoiiKoiiKoiiKcg3Q\n",
       "L30URVEURVEURVEURVEURVEURVGuAVa/2xc/fHDvoZMuFi9FXSIRxRta8vdI48nQSadiEVE3neIz\n",
       "+Xx+URewfE6636fvUbi4YK+JhOj/jQTCrM59v6tajdUtpYOu/3vF6mJ2nOSH/ZGT9ofG7DW+gEXy\n",
       "7Xqb1bVGdZKv15usbnvnFsk/erjF6sbTCcnnF1JO+uoq6JY7nJycYGY6E3WzGb77oDMSdQGvx0kn\n",
       "YilR1+xiuXz+9LdO+t7ObfGaVBTrIxKR22zMDjnpUFJ+9y+fP3HS/V2PqMttLTnpq91DJ31eLovX\n",
       "eC28X7VUFXXhILblZo1vKwAAPh/2m9lMrqd8LuOkbZv2k7LwvFelAsmvrq2xunQqQfL1WpfVRWOo\n",
       "6/Yb4rPu72Hb27y5IOoAsG9Eo9QWTEZT9opalf7feDzO6kquugkG+fYy6LVIfmvzBqv75uun9P9G\n",
       "0M7m81n2GgCA5eVlfKaK3K4mU7THPj9vj8cz2j+Lgl3NZNIkf1UsOemU6zOTXC7npG/dkfvr/vOi\n",
       "k/b7W6Lu+PQd3u82X64AAPUGPt/KyoqTfvf2kJMDAECtjuV1+7b8rKfHx066UK2IulgGbVo8JJdR\n",
       "+RD71L/4o3/hpP/zf/pz8RorgvW2vim3lefvnjvpjz54LOpWs/jZ0Z5cRvUufpZK0THUG4ux1zSb\n",
       "tH+ZbcIkkaJtdMoPm/D06+ckHwxEWd3du3dJfjDibabPi+PDs5e0T7ZqfFt8+PAhyZ+d8Q/baA5I\n",
       "fntnldWdXeySfKfNP+u4T++XiyeddK/XY68BALADaKvGYd4nAgCoVtHGhWxL1HW7aM+LQ9l3HA55\n",
       "/06ysQAA3Q72w1ZDHueipq834W07AMB0hHUzHftEXdgol26746R9E3lcWszhe4TDss/bHWNfyWfk\n",
       "/mp5sLx2989EXW4Z/ZZolN6veMb7qLMhbaPlqzqryySwTXnn/G7M9HHTCdm+vXu776Rtl39er3Xc\n",
       "8u90NvVRfcC32dGI6kI2394CgQDJT6d8e3H7xvU6X0Z2hPo3gwH2y9FI9nknM6yDWJK3lwAAPh/6\n",
       "hKFwgNXMXG0+4Of9Ea9rjuXx4L09vjn1O8R+6PXKuskQ3z0Ukn3owRDtUygSEnVBY17k9aD/OhzK\n",
       "fbzRwj7qC8hzyt4M63c8HIi6RhX70M31dVG3s4J97/jojZPeWJJ91Msr9NnW1/nxAADgze5bJ91q\n",
       "yvOC+4/uO+nXb9+IuozR3no9+u5BYZ4cGtEx4PjgHatz23Pb5sfkTouOp9Eo3w4sl5multEvDQX5\n",
       "/rC5Sv3B80veN37+FR2v1tb5ebJ77F/b4G1cv0f/zyhss7q6a55xdmH4vMI7AQAUL9GXvbl1U9QF\n",
       "g1jm/c6ccdN4vi9/L7eXUBTbhGeGZfHg0V1ODgAAr16hfxgOZ0TdxRnO025syn5GLLbopL0T2QYV\n",
       "jKUJv2XMoxZlezS1sE+1xruibtNYVzkX1n8AAI5OsT5XhPEKAOCX//rfOumTs3PyWa/Hj4d37twh\n",
       "eX+f96G7LbR9f/lfvhSfIWDMB5uGv+Vmcw3LPxSi9XR5dOKWAwDA8hbtJ60J7xtfXtB3f/+TH7K6\n",
       "bCpJ8n/55a9ZXdjlV9kxzM88p+w1AACNJrbtY2Nu52bBmJNvb22wmgcPHpH8X/3NX7K6s3O6jmL7\n",
       "edsSdtmSk3PsN+mcvGYWNC677MhtdtbD+/XK/BooAEBggH0gn5d99/0ztNOvD3D82lzn14kAALJp\n",
       "fI/onHlyYISDglfw8wAAWob/kAwmRd1CAsfDtHG/5F2+bgEAwknsN28O90XdYg7/71WxIOoCYXyn\n",
       "44q8lrCUwfv5vXT9sdPir/O61nY8wNuMpYVFki9XhPnDjPoMsQRvt/s9HHuKJVpG6Sxvw821SACA\n",
       "bGaR1TUb9BlePeXL1uujZRSxeXu8co+2y9evvsH/dcH7/gAAN7ZxHG4INhsAoHaItiW7ILfFmeHv\n",
       "tLryfDPgN9aA2/zahO70URRFURRFURRFURRFURRFURRFuQZY1Tnf3paMbyAnE/nXaTPjJ7e9vrxz\n",
       "aH0DdznkFuRvg6Mx/FXL/gH/awEAgK6xw8P9S6JQiP+FUMSmv577+skrVre0tELyG8KvfXpNWi4v\n",
       "Xr5kdfkU/WVX19hhVW3xdZBboN9uJhIJVjfpu34pYfG/CioV6K/Bmk3+G8g916/dN4zdGn6f3F46\n",
       "LayP4WAi6lZW8H6thnw/40d3kIjy7w4A0Izjr4rrxi9wXwm/OgMA8Bi/EDyryPf+o88+xGsm8i+l\n",
       "JxGsz6FH3j1zWcBnyq7gjozn3/LtBgDgs598htcM5XLttrAtWl75F0x+45cOrZb8rbHZRr0T+s34\n",
       "bMx/XzwZ0F9bzoRfzDZdv5DttvlfVY6H+E6TqfzLy6iNv7DoteRffJYL2N5GHVqWqRT/TXs8QX9N\n",
       "MxjwttBtMzodvr2MXL+OrFaE3QIPPqC6Mv6iLzHnl9O1GtbpcChshwCAW7fw12G77w5YTadDny2f\n",
       "5n+d53Ht7FvM4q9GxhO5P1he/AVNuSDvSrp7D8v27du3ou5nP/25kz45lX+9NTDs08kZ/mJ+6pmz\n",
       "89DGdlUuyb+OyiygrS/U5V/gZoxfr4zq8q9BdpZx3OwY9rIz4Hd0AgDYyzgGVK7ORV3IqJpeW36G\n",
       "egPb1MNP3hd15ydY5re36S9r68J4E3RtgEil+B0Rl2f0V3b5HP8r6PGU1mEmzt+v4vrl1GTC2xfz\n",
       "l/mDAe3TO7c32Wu8Fm3zP/rjH7O6kOvlD4/4Nlty1WFX2KEd8lLbEgqjXzQRfl0NABAyfu3fnjN+\n",
       "RY2y7PXkXwu3JvjZyJJ/deedoD82AexfvYE81pq7Mnx++XdLlvHzqFpT3h3oDeNYGQnLOwxiSfQT\n",
       "qnXsh3OGUFhbR1uQmM3b3Y52WvJdAQA8gO/umcrvbvo3tmvXhPSrfa+P/ny+3+PHDnM3ZCwiv1PB\n",
       "+LVqZmFZ1NlhLFefh/qukzG/A3g8ov6IPyDsqu3TMT6T4HVh1w4jc2eOSbNJbe64y/8KOmxTX8KM\n",
       "HGDukHHjneJ7DUeyv2NGVJA22QR8tCx9Pn4XW8C1I9my0IbMe1afYWuk8gIA8Pux/w9H8vxwZjj8\n",
       "0rO6PxsadqJclsda027F47K/7x0ZO/jkDfuwmMWxu1WTffKjPdwh0Kng85Wrsv/wwSc/cNJjYUwC\n",
       "AGjU8B5L63L/evkcf50amGPfLk7wV9j37z0gn1Wr/K9agy7/PpHl/UO3TWu3ed8lEaW2KZvmffLD\n",
       "/T2SDwC24cGQf8daic41fRa/48YdDSSd4n8xb1nUPkaFX5f3u7R9tIW+0hnQMeqDj7EO6lV5nuwN\n",
       "YJ9KZeQdQe0m9pXHj+XdOF/8BttLOiP3ldVNnINk19FH6nTlHag3d3A8DFnymJzNYFnaMdkfmUyw\n",
       "Ha2s8vUJAHDURZ1ZH/6wvIsok8Ff9PsteTdfrYU7wyod+Z3yRgSGs6Lsk799g79+91v0+X782Sfs\n",
       "NaEQrfdvv+F3Jt3dwV1/cWHnPQDA1g3cudHty/MCMwLQyT59pw8e8ZEDCq5392R4H+LOB3S3fBt4\n",
       "f7N+Rnfm/ct/9QtW9+U3dD0oMDV2bnvk8aZQwnnp5ia/DggAsLWJferv/uYLVjMBOqh89uP3WJ03\n",
       "QG3G6Wt+bry7T+dEt+7gvDtkywOYGdVg+ba8szxu+EuRgXy/3W9w7Cic82sJAAC5JM5BNoz1kpOC\n",
       "vNvl7R6+o7nO46Zl7BJd2pD7dTqBZTSbyXOT4wNsV2FjfPn0h/L8N5HH52v15fnW6An2qW5FnscH\n",
       "jfG0XZV9gZGN7Teapv93OOH7by5L15AOL/m1djtK59nTGX8/z4zaoFaFf97hAO352LUWtr62yV4T\n",
       "iVBb1R/wc5Nmk87pPUK/9rmc5mSS/z7i4oyOZeY8Lbko79b+8ttvnXQ6I+/g+fSzj510rS3vHKrW\n",
       "zfeS1/QGQ5wvSdN43emjKIqiKIqiKIqiKIqiKIqiKIpyDdAvfRRFURRFURRFURRFURRFURRFUa4B\n",
       "+qWPoiiKoiiKoiiKoiiKoiiKoijKNUC/9FEURVEURVEURVEURVEURVEURbkG6Jc+iqIoiqIoiqIo\n",
       "iqIoiqIoiqIo1wBr3vc+0WjMSSeTMVF3VS466f6wJ+o63ZaTvp1el3W9qpNOxG1RVy7h/0onU+Sz\n",
       "16++Ya/Z2b5F8vnsAqvrdfokn4iHWV2r2yD50WTG6oqVCslvb285aX+Er4OFpRzJ9ztdVnd8cEjy\n",
       "nRqv8/k6JD+ZjVldIBAi+Wazifdu8fcGAPD7/U56Ibso6kKRhJPOZDKi7mhv10nv7u6KurXVG076\n",
       "3/3Zv8XrT4/Ea4LhoJNuNi9E3dPdAyddLl7Jz7C9jffr9UVdu4Nl6Z2hbtVV1yZ7h0dOenttW9Rd\n",
       "HL1x0qM+X7cAALFY3En7035RF/YHnPSwR+8Xs/l6m44nND/in6NeLZN8NJJidbMZ3m80GojPmkpj\n",
       "m2q2pqLu1vYDJ235qK7dabjlAAAQ8NP+6bdCrK7XbZJ8MsmXkQcCJH+wz7ftbIraJjuM9VYp19hr\n",
       "vvu/SSfdbJREXbuF9iCT4Ms/G6N2v+qyY99j+S2an/mc9GQyFJ9h/w2++83bt0Td7h627dW1ZVHX\n",
       "aGK7yub4dwIAODk5cdKRSAQ/8HnkZzjYc9Kbi/L4dXmFdqI/m4i6i2LBSYf6I1E3auNnSw8fOuly\n",
       "Kc7JAQCgYeM1Zj92s7mUdtLHe0VRF4xhGdXbogzS2U0nfXZwRD6rDvj7z2Z0zJT6YTgcIflmp87q\n",
       "/H4fyS8u5lldsUjb8qDH11XUDhsaOoZK/k4mlyb5/cN3rC6douNkvdZidR4v/XuzwutmQ/oOkxHa\n",
       "uDt37rDXAAAMxmhb+315/FrK4POGI7xPBADQM9psMMjbSwCAYRf7W+T/Ze9NmiRZksQ8jXAPD499\n",
       "j8h9qcp6tb73+q39erp7MOjpnpEBRQYYAQHIgCI48cITTzzhT+BE4Qk3HkBSMAIOCAgxa3dPb6/f\n",
       "VntVZlZW7pmRse97BA9vxtXUqZo/IEW/k1m5uqe7mZqqmkWZWiLulZtXspI5rqzP5NlTfIfJVB7X\n",
       "6YXxPEuOh2NpHG8Whg8QmMr3BIznjUeyT3aj2EazmWwzWg30MU5Ijo1jMfwmy2fTIhG+3y6P6Xha\n",
       "yWdZuW4LfU8qzssAALgO+o69V29FuXgC/eRoQPu92+/5xQEAoNOmPiXm8m3mBKkuLxfXWblwOEzq\n",
       "/S5vjwcDOt7nQp/aNvWHZp9Op7IehCy877pxaD5/NuPf1bKoHfTb2X8gGKDvGgyizo5GcswVjaD+\n",
       "XRebmf41eM1/M5xM8DscR45LbRu/azJG3X7w4IF4T6eHelWv8X4DAGAUwPnNdCLPZWsVjKtalQtR\n",
       "Lmr001oBY/zbm3L88OLpU688l6cFMJ6gflyV5TnM8ira7KBtiXKhIF6rXlFf3W3z9nh1jfrWq6sq\n",
       "K9eu0LmTJfSvDXRsuEU+hlsqpEk9aaxVzEb8s09HtI1sm+/fVIbay8PDL1g5M84GADh4w8fG9+/f\n",
       "IfXz8gErd+/hXVLPl9DfLK2k/eIelXOMIwNBOdaOJ7BdbEv2MR988pFX7vfl+X4kafj4JMZsyUSK\n",
       "EwcAgMUYdfGo/0KUe/IFjoGPfxAW5WIu2rThSJ732UHUj9OTN155Jy37r0QW45FWn4/fAADMJZE3\n",
       "p0ei3FIe26tZb4ty8Tj67lyKxvhOgLezg1ad1P/gDz9l5YYdfIdsWo7fQiEc7/svvxTlbm2jP/3h\n",
       "9/8xuVYr83PPfO4+qT8pn7Jyj3fPSH0tx9sCN0D7/eKXv2DltrfpvHHYQBvXD8ttsbaO60vBOe9D\n",
       "AQAODlCvIlE+RrV8c7EnT3nbUmtTO3qnsM3K3b+/Ruq9IbbFSFiLBAAIhbEt5wvZzzWGaNMiEdl3\n",
       "fPz72Kf1K3nNIeniWK6co0+Y9uX4fNTH76g05XedTNCmRVPyumK7gW1bysrr2q0r1L/yKa5TzBdy\n",
       "XPZP/tmfeOXbm5+Jcv/d72E//cVPfy7Kff74sVf+6DN+TAPQOfNkSvspnuHbwo5QPxkJ87bQCvrm\n",
       "bwvev86mVN/MeM5kfQNjH//cpNvh11jnM/pNASGOTKbp84YTfi1hZYXGLQ8fbLJyX39Jx2cwiPHc\n",
       "6cWlX9wjmkK9anRkW//kxXOvnM7KNsiMh92IPP+1LeyrcJWX050+iqIoiqIoiqIoiqIoiqIoiqIo\n",
       "NwD90UdRFEVRFEVRFEVRFEVRFEVRFOUGoD/6KIqiKIqiKIqiKIqiKIqiKIqi3AD0Rx9FURRFURRF\n",
       "URRFURRFURRFUZQbgP7ooyiKoiiKoiiKoiiKoiiKoiiKcgOwf/C93xEvHrzd98qL6VSUc4NRr1wo\n",
       "5kW5UHDmlR9/84Uot7KR8cp37twX5WZjfL/qxSm5tr16h72nXKmR+mXtkpV7/70PSD0gfH4mFSf1\n",
       "d99/h5ULzAOkns1mvXK1esXe02/Qd01nEqycbQ9J3Q3EWLlur0vq+eUcKxeL26R+dVXxytEI/w4A\n",
       "ALlU2iv32j1RbjrF710q7Ihy0Th+R6PREOVOKsdeeTgaeOV6uyreE5tFvHI2vy7KVWpNfLYVEeX2\n",
       "j/CbLGchyg2G+LzxGO/ZvL0q3tOqYr/1R7yuAACk8qhj4YgryoWssVeezSei3OoqjuWDoz1yzZq3\n",
       "2HsKBdpGSytpVs5156SeTPN6NZzgu7bbI/FdeyPUj2FnJsp1w5ZXXvi6KR5Psfck0/TfAwFWDPb2\n",
       "X5J6Os1/O8yoMVlb4fXv4M0J/bsL/K7SUtYv7hGNhL1yLCzrwXc//b5X/sv/+p9ZmaWVZVJPCd9k\n",
       "+/7O/gHqS6lQFN+hmEcbdLi/K8o1DXsy6Mt68MFHH3rly8vyNc/reOVkBt/v7au34j2TCfZbIjUU\n",
       "5cpt1MVusyvKbbuo8ydD3g8BANzKY1+vOKh8/2Ug33Ncw/Ya2vL/7ViZo40dpni/AQBQCGO/jzpj\n",
       "Ua7cqntle0YHynTOj/FImPqbohBD1Hx+ciE45U+/+xGp7+0esHJ7r+m/p+MFVq5YxBhkeXWDXFta\n",
       "WmHvKZcrpN7tWqzc2yNqMzKZDCs3G/dJfdwdsHLTPpX73mefeuX+mL8HAKA9Qn0JhhxRbncPx8et\n",
       "u1ui3GSBY7R+cS7KpePYfhNDX9x4nBMHAIBRH32HHZLtWwDQwI/HvL8CAAiHNvF5tmDcAaBSee2V\n",
       "o86WV46E5Lig3UcblCrxugIAEAqizi8X5HdNhdFW5Zdui3LnlSOvfHn1glybL/jxVcjT8bmyco+V\n",
       "Ox5jvHVxJccjjTp++7gv61RniLoyHNG48azOx3DLxVukPh7wcczmdpjKzXh73OlSex6Yz1m58YTG\n",
       "oa7Nx9CdVpvU8znDtkzkmCtg6N+oJ/uOQATHx2zG6+x4Ru100JinmVg+nXcc7Ksg8O0AADAbov2d\n",
       "2PI35VdQZxdT3g4CALguvl8kIo+pyQTbxYy1y9UTThwAAJLJpFfOxfh2AAA4a+L7OY4cYwUB44fh\n",
       "qCLKHb5FH/0Xv/hLr5xek2Oi5Z0tr2wN5HlUMIS650zCotzhExyHS6u8jwMACBm2NJ+gtiAT4e+z\n",
       "bfp3Uym+f22L6lgmxscCldMLUv/6bz9n5T7+7BGpzy20IZNh2y8OAACRAI0b+11etwslOhdLhvl5\n",
       "AQTot1ox3hdFHBpDv7vN63ZxjerlqwNcI9m8Jc9RIY7fNY/I43BzFf1PW7CrAACFovF+QVuUsw3b\n",
       "981XODd5/fSCEwcAgIvjX3vl734if9P//D/9sVfevTgW5ZZzqAdPv5TlwiG07z/5ySde+d49ef3h\n",
       "L/7iV145uBDmcgBwcIr99NknvyfK9Y24+eWzn4tyyytodzbvb5JrK5t8m+0f7ZP6bCC1LbbDZCHH\n",
       "GZEQ9vtnH70vyl1VMLY7LR+Ra41+xy8OAADTAR2fyQgfG9wqJkm9UuPnc7c+omt1JxdHrFy5TWPj\n",
       "zgjryVyIvQcAoN7F952NZf9VyKCdGANvtx2Hjqds4REr123TxYn5uMbKHR3R+eryCs5PIiCv1R0f\n",
       "4zxtNJZ9TH4F+8YOyWvAv/7VT73yzu0NUW4awDnI6jtoL6PhJCcOAAA/++uvvXJ3KPs5mKP9HLuy\n",
       "bk+Ntez2Nd80SOG7jsf47J//hp9PAgB89l20v+mkPE/+zv0feOViUl77W81irP7rr3lfCACQ38Rn\n",
       "/OVf/YJcKy3zsUYuR2PXfIafczWrdBy7MV5uPKX+dTnJ26Dj0zOvHPPFYnaE9zerJSrXavZZuahL\n",
       "45TvPORt19raGqmfnp6ycg8ffUzqVxWUe/ZU9jf5AtrwQFhej2w0MQZJ5+T1l0oTdS4WlX9jqRt+\n",
       "3Zrztkp3+iiKoiiKoiiKoiiKoiiKoiiKotwA9EcfRVEURVEURVEURVEURVEURVGUG4C99/aFeHEx\n",
       "w61q47GcziaRwi13vT6/tRoAIAS4dcsRtnQCAJyd4NbDpby8vbjdwvdzgnTb39sjfqt/pki3PK6v\n",
       "8yk3eoM6qUvp3ZaL26R+fs6nMrnypcFotTBNRCjEb8Pyb7u0Hb4tlle2qJywrfP88ozUeyM+3UvI\n",
       "l26nP8S+N1M/+GkY3xQEOU1Ku4Hf5ZyeiXJuFLcRJuQsE2S7ZrG05JWlVFQAAJ0ObllstuT0DCEj\n",
       "NVL/mlRo4ym20VpB3q7phPF58wDec3Ykp0kplUpGTW6I9XXcTjkbyynm2k3c+tpqy2nzzBRxEZdu\n",
       "PbRtfsti0rdFdCq02cYW3foZDPG6fXaG+rG2IacDePr0sVcuFmW5hJGqrVGnW4C7XSH1S4dub01n\n",
       "eb0K+VJd1OtNVg5m9FsTUX683traInVzK/d0KuvBN4+feuX5Qt6+/PNf/Mwrh8L89vZWm9rz/oj3\n",
       "A+/cpWk4C3nUWenZ374f6qmZ3sVP0cJr6Yy8FXz/OaaV61yTHmdnB9NwXpXR1ltT+f9BuC7+3X6X\n",
       "314MAJBNG1t7J/LW3nQGt+l2A/LzooYdPDzG8WCF5a3umwXj2Qv5HZanmMqjHJR1qlbBbcOdodyu\n",
       "Kytofy8uqG1PFPgUMcMe9XO1Mm+TRiOqy+UabzMbV3TcbW0JabB8KVdz2SVWzA2j7jXq9F0P9r/2\n",
       "iwMAQLNJ38ESwpjhgNqWs36dlctn6Fb8TEZIzVqk32DaoJNr0qRMLRyHTlROmRY0hsfRgey7g0Ec\n",
       "87GInCZpNkPdDBupN7sDOd60DV8xC8gpFGCK/TsDeQxMjLQEqZSc/iiVxDafT4w0UNfYN9vGeGk0\n",
       "lN81HETdFjKLAQBAv2OkGpnIvjuVxTSBow614S9f8ulPkr7YrnXFxxAW4LefnsvpMJeMFKTDa/pz\n",
       "BPh+QV8qyrDNDxwnTGPmbou3SeMR1b1Wh495L8s0vUM6zvuixYLGM6HoNZ1lMDRiaNeVx9fc6Pxg\n",
       "QJ77mOOm15PTs5iEQryems8CAAgagzwQkONI8zuuS79sWZjean6dchsMBnIqyrmRHjeVkFPY0OcZ\n",
       "KQSvGYd9oyn7XdlmDIZ4rdWSdTsYwrh5YxP9UGsu39MzUhXminKau24fbXu+wPsDAIDRFL/3xe5r\n",
       "UW7nLqZEz/lSiX/1xTfsPUfnNMXsipA+7v4Dmva83ed1Np6jsXVxhU9N0/OlLpxMsT+KRX5OH07S\n",
       "NpoIqu3/93qVT4VWrtB0U0tL/Lsen9MUroko31e1Jp2PrK/juGlU+fROAAALYy5Qq8lz2enESO01\n",
       "4lNvAQAsAaZnWrsmDeFXX73CZxvhaz4lp2b94X//z/DvLMn27bKCbRaLyWlR3xxjarW778u+O2qk\n",
       "2Dt6g7bqr/7b34j3fPABphC9ahyKcusbmFK6VJTXHBZz9K/lK3mO+q/+FNuo0aY6dnLEp5aqnVP/\n",
       "Fdng7ed4bqyVrMk2I+Ji35wd8jEpAMD2O1te+fnuG3ItmuTTIsaT1Mc7Du8P0ws6v0nn+LWnyzJN\n",
       "bZfLCmmSLOp7JsbcM5uUY9TDN7imF3OFVI8AcHyE7eSE+BTkowF9BylNVS5D00+Fsvycdw3o2Bi0\n",
       "0K5ensrpv+dTbPNEQo5Hcmn8u8GoHGd88n1MsXd5LqdZBaNZ2l30X8WcbAscIxabdq7zmziuZwHZ\n",
       "bi0cjDcHIMcZMxt971IJ0yxOWnL88J/++j965f/hX/1LUa47wG+PJ+X1jMO3OMeKxGTbMpuiLt+7\n",
       "R31tIsXf59h0PLkR/ruqQbNaVQAAIABJREFUXep7QnG+r4a+9OHlMj83MNPKWRbV//I5n2YtbNF3\n",
       "FZauIeX71qOTV6zcs+d03p6IlVi5t2/pXKm0hM9PJ+S18H7PSHPvyOvGcyNV8csn8hrwO3fRPjWr\n",
       "wroiAFTP8Rkhh4/3daePoiiKoiiKoiiKoiiKoiiKoijKDUB/9FEURVEURVEURVEURVEURVEURbkB\n",
       "6I8+iqIoiqIoiqIoiqIoiqIoiqIoNwD90UdRFEVRFEVRFEVRFEVRFEVRFOUGoD/6KIqiKIqiKIqi\n",
       "KIqiKIqiKIqi3ADseuNKvJjNpbxycD4R5drdnldeWVkT5YpLK175onwuykWiYa9cb56JcgsYeuXR\n",
       "mL5fLBFl72m2+6Te7nZYuZUS/Y6Em2TlLLBJvd8fsHLRmEvq0ym+uxMJsffMpnNSH45nrFytVif1\n",
       "lZLLyllh+htfOppm5ZrtFpVLZb1yAKbsPQAAwRA+f9Dj2/XbZ1heudOR5ZZWVvHZtiXKXV5eGs9D\n",
       "XZzDQrzHdhyvbFljUW51ZcMrH7+VdbHVxL97eS7r9uoGflO3i+8XjvJ9BgDQMPq35/RFuUf3l73y\n",
       "N188FuXW19e9ckBuVlgs8P2Wl5fJtYDQZsPBiNTD0Qgrd35J7c5wzNuXbrftlVdW11kZAIB79x54\n",
       "5YiVEOWevXjhlaPROLk28L37P1AsLJF6s95g5WIR+rxGq8nKTfr0W1sWPwYePHhA6tEo2rR2Sx43\n",
       "uVzBKzsRR5RLpbCd+k3+Xd+8PST1JcOGm5hjEAAgHEYbHrJ5+wYA0GjWvPJ0KtuWvJvxylE7Jsod\n",
       "VU9RLirLxcPo26ZRHASzjDwgTk9xXKeyKVGuXUedDQXk9n+1/9YrbzzYEOWudg+88ttGwCs357Ld\n",
       "6vexP9Iry6JcKoJ+bff0UJRLBrAP/Xpp4hh2tXp2Qa41aryORV3aRmdHvP004wIAgNvbd1i5fn9I\n",
       "6i+ev2LlElFqJ6xgnJULGN9eqVAf4Ni2XxwAAKaTHqlbQX4MpOL0HfqDrvCuvvjDFxv8A9Ekfd5l\n",
       "Gfug1ZF9x8oWxjt2SB4DloX6V67xdhAAIGbY1mBQ/r9F4yH2leVg/7oR+R0WM3yeEw6Icu3WULxm\n",
       "0jNildk1cW5vgOMtOMM4L+bwfgMAoNfFNk+nef0CAFgA9mcmxcdlAACFXN4rvzp+JsolbRxTgSnV\n",
       "vZjLv4ffLx2V+Xgna77fTLZv7Sa2SyqTFeXCDvq1ZIba1Wy75xcHAID5gr7rdMzrWMen8/ksry9j\n",
       "33idLHj9mwzouFuMeZuWz9OYYbbA+xayysJkgt81Hsv2PWzYk+v8pok0Ds04DwDAMfy1HeLtGwCA\n",
       "ZWEbua4s126jP9xc2xLlBgMcU6NRWJSLRsxvxzmRbcm6GDF0vt+X7WAuh50zB/kdvnl65JXHwboo\n",
       "t3En55XbAdTt4WWbEwcAgHQe29Wy5W+yjBirXK2JcjHDv27c3hblUhkc13t7++RaJMLH8Q8fvUfq\n",
       "oxnfthe++DCX4ufTc6Dja//1W1Zu5Bv/mRLGh+MxP5c6u6BxRcM3z/0HPv70E1Jf2eDjp4lFvzVV\n",
       "4Nvonbu3SP1ol2+j0YCOdzeEbRRZ8OsZAADjEdrZaFz2HVfnZa8ccvl3BQBoLtAWplze/gIArGVx\n",
       "npEK4ripLGS/+1/+/D955Tv35bh0Mkd9juYLoty7937klZ9/tS/K7b78jVf+7Hv3vXIsLtvO3Zeo\n",
       "e9OBPA7tEP5dx+LXaAAAxjMc13/6b/5YlPv3//5/88r/9t/+L+Ta6xd8rGFNqb/pdMqsXGEF5UZj\n",
       "uW87XWz/0lpRlJsbzmzsG5PBGf+uKyt0rrP3YpeVmw1p30hx0a0Nui4wmvJ/9/jyxCeH4/DqlI+7\n",
       "AQBaFXxeYyKvlyZj6AMTJX7uORzQeGEpy39TxKXxR63H26qMb51zNYd9Ne3wthMAAOb4ftNr1oDq\n",
       "FfzeZEn28f0+zrtXt+XxChMcH/Eo+sOrMv99AACpPNpBNybHkdMJ6uI0KL9rfgnbvN6Q1+pmM/Qj\n",
       "MyO+Wd+Q3+G3j3/llUd/Js8lfvT7H3nlv/mLvxPl3vvofa/86g0/jwUAqI1wvLpRGs8FA3wcOehR\n",
       "O91v8zbusknvzyzx84f+kH5vrcrPUR1jXXYeoDK5NB+fjHzL6o0GH3f752+BIG/fI1E6J2oK619B\n",
       "3/pNPI46u7nNxzAANCY/v3otyrWMOfStjR1RLmT4VHsu+6xCHOOg5oBvf93poyiKoiiKoiiKoiiK\n",
       "oiiKoiiKcgPQH30URVEURVEURVEURVEURVEURVFuAPqjj6IoiqIoiqIoiqIoiqIoiqIoyg1Af/RR\n",
       "FEVRFEVRFEVRFEVRFEVRFEW5Adi5rHyY3miEB9wmU/LB1dE4Hs4VicuHZx8c4MFie3tvRDnzb926\n",
       "kxflAsYp9OlMhlxrdvlD6paXS6Q+v1iwct0uPWzxzuZ9Vq5apQeB9bv8gWTJLG2XkIMHg9kO/9ub\n",
       "49LDptwof7BoJkAPThvPB6xcKkMP4Gq1+QMXA77fAs12vr1zyy+Of3eEh5NWK/JhUzPj8N+lpSVR\n",
       "zraNwyFr8gF6wzF+bzyJ7eyG5APkzYPmYxFZx9p1PODPPETZz8I4v3Exl0/qHXRxTDVqePha0aeX\n",
       "JskkHhhmX3Ow6/4+Hoh498FdUa5sHOjphOUD76rVqlfO+MbX7iF/ONnMd45lb8QfJpbP0e+9uOQP\n",
       "HZzNcHz+3c9/w8oAAHzyycdeuSUcygZADynf2Fwl13Zf7/Hv4DscrlDgDyp8+ZIeSLm+vs7KBZNU\n",
       "PwYjfhw+f/6U1G/dwrG3CMqHCZaNw9sDE/kwwXYXx+vt27dZmUanQ+oXFxesXDJBD6TMZvH9jo5O\n",
       "/OIem5ubXvm6A99t42zO3V3Zdyzm+Izi0pooF4/h++7v4ftdnMl2Jp9DWzUQ/AsAQMjGMWWF5FMy\n",
       "0wkc12/2D0W59/MrXjkFaN+KafnQXiuI464+lg/WHRmHAD+8L9uMpIUH/06B95kAAPtvD7xyLJYg\n",
       "14pZ/gDITpPqWDzOyzkOPaB5POHtbK1CD2WNRfmxcv/hu6R+ecQfAHvZwgPtx6MGudYVDlidzH36\n",
       "MeG/adKl9jwZ522LHaQHL9cbFVauU6dxy4MH97zy3JL94eWF4YtKsm2p1tB3pPMZUS4Zx74qX8pj\n",
       "Kp3Ag2drdZTbXJUPtTw9Nr9dthmui+8wB9nPgTFWuj15XDfqeC2bwgN0LZv3cQAAc8MeTaeyHMzR\n",
       "cWaSOVFsYx191sFpQpTrtdG2jxbUBmXi/MHMB2fUrjoWfyB6PG4crBuW7Vs8gbbq7Jz3GwAAvUHd\n",
       "K4cuqdxiwcc7kxn18a7LH3Q+GlD9mI0PWLlHjzbpP7T4+LWY3SL1brPByvkJBNBWzeeyHthGrG3a\n",
       "Zj+WjfHrcMAf1Dv32emZ8HfDITqvCBlxc9SV+3c4wNhie1v2HbXGsVfe2b4jygHg+y0Wso8x44SJ\n",
       "Ed9c165hI86NRq45gHeO42a+kGOnz36A8ear11+LcofHL7xyaRXtZS/Q5sS//btztOGvXvIxKQBA\n",
       "NobPm3X5OR8AQH2Gury2Lh/KXq+iD7i3Q+1vo8zr+WWb+u7bWxusXK9fJ/VomB/XvQ61v50Ob4+D\n",
       "Lr0/AFi3o7wtyJToWocV4+3n21Nqg6YzPn56/zuPfO/Aj9ef//znpL6UfMDKzSdUf0/Ll1455srr\n",
       "L2eHOE9zwrL/6o1R59a2VkW5VBT9T68p61XI8L2xEI6v7/3RT8R7fvLj3/PKz/Yfi3KDMepbfXwq\n",
       "yn3+zf/tlcN2RJT7wz/GvgpZ6GtDIT4uAwBwLLSLSwW5vbpV7JtJ4JoD5FdxbPzNz/6rKPfP//Sf\n",
       "euUvv/6cXLPnfLxjTWksPG7wMdzTY1yv+uCz74jv4MawjTrCmta34Nh47326RnZR4eO+L7/wrR1M\n",
       "Z6xcwqFrZge7fAxRv6I635/wOhvP0fG+uYbz6bO9ul/co3qJz89n5Ng4bOHzey3ed2ys3yN1x+b7\n",
       "s16j8U1kwH9TLk3bKGHEpYuHW+K7nl3gHOm8KsfnG8u45hV0+qJcyEEfsxDWHwEAxmPTX+O/R6N8\n",
       "rAkAUAPDVwZln3xhrHtUavI6WTS97ZXjKTkWKF+iTuweP/HKR+dynPHeI7QzTw+/EeWu/mzfK//p\n",
       "v/gfRTk7iLblzem5KBe1MAbc2qHrTj/76a/Ye/od33cseFtY61L/N1nwsfHlFR1DwQAfO8YN3z+e\n",
       "0mfFEvwat2NT3YvE+Ll/Kk37vVTk55HtFtXRtyM+ziou0zi0P0Adc/ryOm/JiDWC18SbAcB+M9db\n",
       "/WRS6FeyKXneHS2ij3n+gl8n050+iqIoiqIoiqIoiqIoiqIoiqIoNwD90UdRFEVRFEVRFEVRFEVR\n",
       "FEVRFOUGYB/sy2kXlo3t6JcX8vZH28gaUirJ22DNFFFmWh8/NSPt1dWp/LtUMYdb1VeW6Lby6quv\n",
       "2HuGI7od3UxNZ3Jrg26DnwcuWblAkG6Ry+WFbdiW7+8EjO8K8tsF2y2apqbV7LJyd+7SLaOvXz1l\n",
       "5WJRur11MuG/fTiiW9/GFdy2Hr4m3cNijnLTmZzeLQC4Le7i8kyUM9O2mekx/BRLqFfjMb5DfyRv\n",
       "dU8EsC2ijrxldzrF7X3ZtLxNz0wHOPPnODMwM1itreEWwHxBfofzMm7rbNV5HQAASBlbj1+9eiXK\n",
       "mSn1rkuj0e7h3+r50t7EE3xqqWCQbq/s9fntuONhjdRTCT7tRKWCqXxmU1mnPv8Npti4e1e2LWYK\n",
       "kcNDmuol7PJbgh2L2qDpmE+nkkvTbZe9Fr/N2bRvAAC3bvMpMQIBqkdPn7/Ev5Xj00AB0JQY+ZKs\n",
       "s2Yal6++5Lcix2J0+3ivzadqi4Xp32nWMCWAE5C3WgeNtEvnZ7Iv6jdxfJXLZVHuT/7kT7xypSr7\n",
       "rBe7mGKgbKQ1Wd+WdWdm2ILmQE4hOBnidujBRNbZgZFyZvMdOW1msIHffmWkTLBKcvq6yQB1YLGQ\n",
       "befR20Ov3L2S039NDN/jCOnXAACcGG7Pbjdo+6dKfDqVhUX932DMp0mZ+IZdKsm/bzxBbem9dx6y\n",
       "codvj0m9cdVh5RYB7E+fKYB8jt9qvbxMU7js7h6xcnaStmW9yqfSONqlKTHu3OK3rQ/6dCv+1988\n",
       "98pzeRiC7WBaiP29Q1FuZRntznwm+9fyFaZkSFyTrqxSQf+/tYZt5k9vYRKPo+8Z9GW5cATt52Ag\n",
       "j8OgoX/DoZwKcdDHZwTSaAuClpxywglhypmAkO4AAMAyUtkuZvJ4NdPSWgs5vdtwgO1frtJUUtUG\n",
       "H8uWfClsxkM+1qhU0P5ubfBpQQEAnj9H3VsE5JQYkTi2kd83JuJ8XBSw6diXYtlU3JcWsVlj5SC4\n",
       "TaqtNv/tbsiXZiLMp6Pwf+3MSLV2nT2ORtDfThdym5nf2xdSYC2C/jbi9TQZp7FcKIR6bgvpZ/7+\n",
       "iV4pLLQDAEDKSNfdbMk+eWMT05hel+q138c+SCVwDIyFuAwAoGmk/I3H5Jio1zLSolZlW3BmzFsa\n",
       "DTkNX7WK7xp08NmhoPwOp2c4Pt9Z52NDAIBpH783m5PTQycMn1xvC/oPAO0qjutBjfZTMcPHm9kY\n",
       "HV8xv4P8e3pDGgtHYnw6n7QvhfaFw6f2mvps6R/94x975V8+/pK95/ycpsdxXD4VfaNOffDKKp+C\n",
       "/PyEpmMZDXibsVqgNrJT4VNZW77UYFtrmKYnbMu2fjmP43dvX059XFrCtt3ekdP6b+QxBj46vCYN\n",
       "fwb/7tY6xiO1mpym5vwK9S8Rk+PIZhv1r1Xn0/UBAEwnOK43NuV0x60O9k31HMfk5rKcbnIpj+9X\n",
       "b8gpqjPGHCmSkVPvnFZxfnP3kfx3T84wVoz70pZeXfDx4UqO9ufWMp+KPh7Hvjk+4OMAAIC77255\n",
       "5cVctqudHvbTm9e0jYYz3i4uLdHYddTj04ZVzqkezYGPn0ZDGtsVl1ZYualvPn12gvZuPJRTl33y\n",
       "Mc4fphPZ1pup+x2HD7arvjnpXIhbbJ/vLgZ5/3rhOyYj+iGmrLZScqrBbgXtceKaNYJYEu30bCK3\n",
       "USyOejqZXJPGOIT+Yfc1pj5dX5Hnvx9+gPOCxVReryoVcbzu7++Lcm0jttu+zesKAEAmh99uxjfD\n",
       "jvwOv/7yt/jsW7KNHcyxb37zjZzmsttE3ZaOLAEAsCLoh//D//GfyTUhGxt89snvkroT4Z//+dd0\n",
       "XWa24GO423doDDIR0sqHjPlSPETt29rGFntPvXZI6guLT28+mVEf/OIZP+8+fkvjig8/4328HaZz\n",
       "p3YL22gWkFMSnpbx+Zs7cmx8aaSmHDbldePxFO2Bk5b/7v27aKuW8rzf1J0+iqIoiqIoiqIoiqIo\n",
       "iqIoiqIoNwD90UdRFEVRFEVRFEVRFEVRFEVRFOUGoD/6KIqiKIqiKIqiKIqiKIqiKIqi3AD0Rx9F\n",
       "URRFURRFURRFURRFURRFUZQbgP7ooyiKoiiKoiiKoiiKoiiKoiiKcgOwk7GEePHq4sorr22VRLmt\n",
       "7VWvvL93IMrNxlOvXMzLzytmM165VhmKct1Oyyv/7Kd/S66t3+aff+f+Fqmfnx+zcs16i9SjdoyX\n",
       "a1G5GcxZucV4Rp8Xdb1yYBFg74lHU6TearZZuXa9SeqJeIqVm88X9PmJKCs3mUx89+E3nZ6esvcA\n",
       "ALiOje+Q5NsLAKDf63nlWDwiyqUSaa9sheTfJ+PxuFcOBLAtx+OxeE+zg21ZrTZFuVQq65WDVkiU\n",
       "y+fzXvni4kKU6/f7XnkRWBj/fi7eU1wueuVuh9dXAIDREPttbWNdlDs7w/cbj+XxtbWxie836JFr\n",
       "p5f8e3z04WekfnFeY+XajT6pz6YTVi6wwH6fTWasDADAFNC2RKO8XgMA5PPYn7UafbdSIe0XBwCA\n",
       "YICOz5cvXrFyuewSqXe7XVYuYNPnPX72mJW7e/cdUnddtBnTycIv7hF2cDzUr9HtbhfHdT7N28uE\n",
       "Gyf1ldIaKxdzaJtHo3hfq9Pzi3sE545XLhX4ZwMAPLl85pUjSd6+AQBcNfB7G+2WKJdOY1+7ibBX\n",
       "vqydiffMZsZ4HfB6DQCQTqL/KuZzotx4gmPvxbPnotwPs9gupTQ+79W5bGfCIbRVs2tsZz6PtmUe\n",
       "GIlyIRt1b2yJYjBZ4DiezumYPjo6Ye+JuVR3FlPeH2bzBVJPuHzsErOozl4c87ZqPqS2784d/nm7\n",
       "rzEO6vWoT5kMeFvTbVL9qDf7rNxwQuVyeV63tzdX6T8spqxcrV4h9WwR26zdlsdhCLsXCkVZZ5eX\n",
       "0U6kS7YoNxwY9thnQ0yS8YFXdoKoWL0g7w8AAKYTfLYblm39eIbfO2rLscB0jt8xm13jYyaol/0+\n",
       "2vZRQm6HuXFPp8frAABAJovxkrWQv8ls/3CI91cAAJMZ2sFklNr2UIiPUeMJl9QnMX4cdppoV0+O\n",
       "5bglGUfbcl4+FOVMW7yY07YcDvl+m/v0X4oPYxFq07I5fnwNh/R5qWSWlWu26/TvCnHuaEJtS8To\n",
       "02BI1hfzWnDKj3EAGtsGg/y3z3zdNxWeZ1nUoEcc9IfzuewTImHUl4vypSj34ccYx4yuiQXM9/C/\n",
       "k8lijmPUjF8jEXkuETL94Uy2LVYQffxowM+3AAAGQ7zWaldFuWgUv8M2dLTbH3DiAADw/Y8+9MqB\n",
       "qRyfB6b4roVMQZRzI/jtvZ5sMzLZD7zy/nMa4z5/zMcnKzt3SN1hpQBWjDgDAOD+zj1W7sQXI6zl\n",
       "l1m5wiq1aVNjTukI/5c1FKDzt8WQj6GvTq5I3Q24rNyDrU9JvVors3LlIxqnPbp3i5UbDqle1muo\n",
       "Y9tbRb84Pr+MPv/O/R1R7vXuLlam8vzhl7/5lVc240g/X32D85bvvNvxyodv5Rh6YfSNE+HbFQDA\n",
       "stB4JdOyT05ncJ47lcUgZMy5wkm0g9XunnhPJIn9tHX7kSh38uaJVy5l5dhpeIm+cj6UbVAyj3Fo\n",
       "3KEx6bjH91soSuXOT9+wclYM/cud7Q3xHf7sz/8vr/xP//gPRbliDPWyWqV2cLXAP3/hU6lgnI+7\n",
       "w744JRbm48ihL46vVPhxeFGh4zCdxVhgZUm2i/Ekxm2zuRxH5pZRn3sdPtarXND4YX3lNit3fEjH\n",
       "0M7WO6yck8uQ+vPXOMbH18TGCUNPTw75eRkAQPgK9XTnlmyDRmP83la3LsqlUvi+P/zB97zy0aG8\n",
       "rri3+41XjrryumIohL720Xu8jQUAGPTQFjRr8rsmM6h/OWNM+vvGxApj7JQuyLZg1MN2ffrm70S5\n",
       "IOC7BuN8PA4AMJzhu777wRa5VitXgKPd3SX1vLAWu7FNx0ZvzPvXQpGOz1aDj3HM5bTDt9T+XtX4\n",
       "WOp3f/gBqR+e8PGmf83t4oyP4RoNujbUavHfXlqhTsUJ4zdV6/w8CgBgtsBrg4nsQ60wyoWF9QwA\n",
       "gLML9B31K1ln917gWscPPrzLyuhOH0VRFEVRFEVRFEVRFEVRFEVRlBuA/uijKIqiKIqiKIqiKIqi\n",
       "KIqiKIpyA9AffRRFURRFURRFURRFURRFURRFUW4A+qOPoiiKoiiKoiiKoiiKoiiKoijKDUB/9FEU\n",
       "RVEURVEURVEURVEURVEURbkB2KVSQrzY7Iy8cixii3KNas0rD3o9Uc6xHa98dnIkyk2nU698e2dL\n",
       "lKtUKl45GpmTa63GFXvPb39dIfWd2++wcov+hNSXs5usXLP9lNSn4zEr1+8P6T9MQ14xGOR/e4tE\n",
       "IqRuQZiVuzgtk/r99+6xct1um9QvLy9ZubBD36fTGXjlQi7P3vOtXMcrDwczUc4Kul651eyLcraF\n",
       "3xsYiWIwmbS8stmWruty4gAAsLq06pXHg6koNxqgPvc6DfklFvh387miKPZ6b9crx+NJ456CeE+1\n",
       "gv20mMvjsFrF95stAqJcf4j9+d1PPhblGrW68a5xcu3+/bvsPY8ff0Pq2cwyKxeNRkl9Oub1JZVG\n",
       "+/Rw5Zb4rheXJ1650ZD7KRJBnQpZtI3K5Qv+HZI5Uv/ggw9YuZfP9kh9ubTOyp3X6N+JB+Ks3FWF\n",
       "js9wGOUO356y9wBQu7FzZ1WUO7/E9530eFuQ3qH9HHP4d21WaJuHCzj2KucVv7jHfI59cH7Btz8A\n",
       "wGiC9nhlZema56EfsGx5DBy8xXHYbqNdHI1kQ2Pak2gyIsoFLSz3B11RLhTGseyEQqJccIzf7tpo\n",
       "Z2zBbwAANNtoV9tT+ZuS0YxXtq7x8a7Rlm7EEeWqLbQZiXSSXFvPb7H3nJyckfpiwH/Xan6F1KdD\n",
       "/ruCc+q7m/UyK/fgIfWTuSKv2/0W9uH+G6rLiRhv305Oz0n9stJm5Qor9G/agh7YUxo/WMEFK5dM\n",
       "+e630Lcl0rI/LK2iz0rFZV0sZlNeeRqciHK9HsYCkyH/rgAAnQ7617CF/T6bW5w4AAA4IdQ/hw+J\n",
       "vn3GCJ8RCsnPmy+wjcZC/PbtNbQtZqwTWE5y4v+/e5xrvmkGKCd0LQAArK2jPb8qt0S5i+axV+5P\n",
       "6APdOB/zN9pUt4MWb7vmE3zXcT/KygAATEdoT+KRjCgXMNol6tC2tGy+McZTqqNLRT5+Cli0P0MO\n",
       "7xMO3h6T+oO7KVZuOqfjsD/i+3Q4pHKjMI4Vx5Ht58Twc8GgbI+7XdQ/2+afN/fVzWebmPMtABqb\n",
       "tdtyfB6NYF81Wx1RLpFAfcvG5bFitlksLNugZAptZtuI9UIhub3Md+j15G8KhfBaQn5ViHSxdTN5\n",
       "+e+GuvgdWSNmWF2RH35exrlrvcz7LgCA73/vd73yRPCFAAAnR2/wfVw5Zjh8+9Irr5eoX8ukeN/o\n",
       "WPTb373/gJXb26OxcbfB94E9pz7KDfI+a9Kj39tron9tXPLx/1KKxvGVK95+FpLUVuWifF91avTv\n",
       "jDv8GLi96ovBF3zsOBzSOZATw/e4aPDxAwBAaX3DK7uu7BCztaZXbjQGolxhGdvp1BfHmNx7912v\n",
       "fGSsJbRG14wvC23VuCX72nd27njlUVgeK7EE6t9lVV5TCrs4Dt0IrmGY7+MnYKM9Oq29EOWyKxiX\n",
       "vrlmXavSrHrlechvnZEgdhOEgtS/ljL8nBJ89vLBhw9ZsWf7OMaf7cnftH572ytfNZqiXMw1bNrq\n",
       "Nrlmrs9RqC4HLd5+LhbU919U+fnhqm98baY3WLn8UprUs8b85Oz8gH9VAOgatnX7tjz3HBsxeqPL\n",
       "j9dQjMYfgxm/Xnrr3g6pv23ya1RXvrWEeRCfb18TP5yd4PrBaCCPw6YRRey/lW1BNIp+ZWNjS5Sr\n",
       "VHEMdCv4vA8/eU+858iIzaYj+V2LxRLKzeRx/fIlzv3nM9kfxhPoAw/e4By1UJLXQO+8c98rd7uy\n",
       "HRwC+opsSY51UgmML/3jwWR/H+MEJxQj17buCOuRvjllOp1jxco1GjfWazVWzgnTeYXr8nODUhHb\n",
       "r9+jeh2JZdl7nr6g6+ydFj9uslk6xm/tpFm51TU6jmuX/O8FqSSNexYLjBmaVXltZ3UD7XSr8VaU\n",
       "KxTRVr36Qo717t9B25pOyOO6dYW26uGD32FldKePoiiKoiiKoiiKoiiKoiiKoijKDUB/9FEURVEU\n",
       "RVEURVEURVEURVEURbkB2MUlfts2AEA4iluF6k05RY+566xYlFNbxVzc/hULy6lG9vdx+13YltPP\n",
       "ORZu8Yon6Vay4Zzf/hVw6Ba5J09+y8qFA/R5USGVTqNBt4iHHX7rdq/lS+8Ww23Y+Tyf+mI6olvf\n",
       "pDRkOd/9V+UqK5dI0m1/q8srrNzFJd3GaRtbRmEubzEM2fhNjbqcesSxse8XC3mb83CA164q8tZS\n",
       "18WtnLEY9ttkJqeYy2SwzSJRebvc2gpu0xv0hqJcq45boMsVfqsgAIBtoX6cn+I2ybArpz/Ze4Xp\n",
       "GTZvbYtyqTRujXSu2eZvprC6uCalVvkSr+VydOvnhbCVfmODbktuVvktro063RrpCuMmYqSjODza\n",
       "F981EcfvTSbldABfxeDOAAAgAElEQVT1Oo4Nf1pF2+b14PDwkNSPD3ldTMTott9qjbeZqRS1afMF\n",
       "vxX5+IT+XcdGfb4udeHCSJm2mMrjNWK0uSWkDaxXaQqLEPByA99W5kYQt7eHr0mhsP8SdTuWkvtt\n",
       "YqT/SyT41DsANIXNqxfPRTkI4PNWjPQMpi3xEw4b6SZdOVVTaI7btSfXpFm0Qqh/2aScJqm7j/Zk\n",
       "CuivkwXZd4cc1LFOlU/dBwAw6KMtWL7Gthw+x7QQs578f0ViRsqE9ohuA//N333jFwcAgPUVmrJi\n",
       "rcBv8bZ87i+X4eVqFZouLhLkUwI8/vynpB5Olni5b1575XyRpo5oN/lUMn5f25vwW+fX12nKynaf\n",
       "f541o9+0tsanlRsO6Ti0Dd/Wn8r+6+QUx2H+PT51JwDAcIRpCVa3+NS4AAC9NuqVmcLtOhaAYzeZ\n",
       "kuO+fhflRmM5rdFwiP0updD9Vg7bbD6V45Z4GL/DNoa/lDIMAGBkvEPgmmbo9/EdQnPZFqSNuGU6\n",
       "kW27mRps7EtZ2RvxOja16LcXi7wtjBl9c7wnp7BwbbRPgaCse2YKoZBNvz0g9Fu/R2M7KZ1wNEHb\n",
       "qNHgfXIyTlPENJp8qqZcjr6fZfF+wJ8yrW2kfrouTYd5XzQq+3gzvWBPSKkdTtAxNJnwY8Wf9i1u\n",
       "+Ne2nFWKfLs/FbVJt4ux3uaynG52Psdvn87kNC5hI42ImSqv1ZbT+tJ2lcdXIoo+pVSU5yazAI75\n",
       "yUTW7fkYrwUXOCalNOAAAHEb2/+P/vWPRLnnT5555YU81YHtbfRZP/vVT0W5dx9hutNsjMZYt27x\n",
       "KZMaQ2r7/tv/+9es3MUFjUFWCrz/CltUj7a2brNyln9oBHBMreR4P276AwCAcY9PcRb1pUvMJHhf\n",
       "9PrZE9878OOrW6cvG8nFWLm8r00WDo6vwVD2S2UjDX90Ko/DmY22+hrXAU9fYDql4UhWrJmRft2N\n",
       "YRtlQvI7hIz/Z9xvysbl/BTTT20+4tPVAwAM+xhjTqfXrCW0sP3Mdh5fkxax38M5/WQmp/KpVowU\n",
       "8EPZH44XaGfjMdkGmYk5r3zj5s3+sV8YAAA6TWrDb60/YuVWb6155WdP5PRudhjf4d59/lkAAIEp\n",
       "/t2lZbr2NxfmitaEjrtqk9ftiEvHyfEp77uPzr4i9eUCn37L9aWRG3XRJ5SuSR0/mqBfef7ilSiX\n",
       "yeMYCAnrL0sJOg8YD/j4oTuk/fmszKfY216nc6d2GWOp5jGfhgsAYD5Au722JPvkRMmYYzryWJmO\n",
       "8f2usxmlZUyrNQ+gjjXb8rvevotHa5weyWnty8Y8N+KuiXJ37uI897pYzLZQ/9ZW0R+eXsipAKs1\n",
       "tGmXF/KxEaabe+eWvO7RN9Jkn53Ja3W5DK67zf0+QEh1FwRq08y1AJORTxfXVvlYIBiisXqvz49X\n",
       "J4xjoFCi3352zq+dJpJ0PEUc3sdXr+qk3o/XWbnJkD4vMOHTQ/eadI3FcvH9QoFr9sxM8FpLSGUL\n",
       "AJBcRbl3du6LcjEXx+vzp1+Icg/vfOSV/93/+u9YGd3poyiKoiiKoiiKoiiKoiiKoiiKcgPQH30U\n",
       "RVEURVEURVEURVEURVEURVFuAPqjj6IoiqIoiqIoiqIoiqIoiqIoyg1Af/RRFEVRFEVRFEVRFEVR\n",
       "FEVRFEW5AditvnyYXtQ4nG8xlQ+rHRoHQI07/OGIAABR42DCUFJ+3tIdPIjq6lI+4MuN4Pu9eL5H\n",
       "ruVzRb84AABkc2lSn3X5AzUTq/Rgp/Mmf5BaPEYPlMrl+UO5ugN6yOgsiIfXBcP8oX6DET2g9c79\n",
       "FVauUaeHX0XT/CGZgwE9UKpZ5Q+5WinRw+H2G4deOR3nD7wCAOiGUJcWQfkQM9fCw7EGI/kQ1GwW\n",
       "D1W97sC1oXGY8wJQx6YT+UC5sqFXobB8AOTVBcpZAfnw9nwG9e2Tj74ryv3286+98sV51SvHXP5w\n",
       "TwCAVBx1rFPnDxgGAGjX8eC0VJo/5BwAoN/EMZre5scJAMBvD/DAsHiE6mgxwx+UN/KNp4jLHyIH\n",
       "aXo46vkJf0hdZBkP8eu25H46O0LdS/JnwQEAwOYmPq96dU6uzae8vsQjdEx3u7zNLOTp+Hzy9DEr\n",
       "F+vQ5yUy/G/v7z/6kNQvznGszOKy/YQgHtD39vyNKOaEsA8213k9OHpD7W+/xx/2NwvStmt18VDF\n",
       "aJQ/WBMAIJRDPe1M5ZPOY3E8eK/V4O0WAMDlIfbNalrW7bCLY9kNo45OAhNOHAAAbAe/cTqRD2IO\n",
       "xPDZgYn8vIZxaGE0KR/mOA3h8yZTtIPjrnywZm+Oh5bG58IYBICpG8J3kIcXLCzjIOyIbKuaFeyb\n",
       "sEO/af3ddb84AAAsT33f3uAPdh03ab9/fvCUlXMtekjjci7Oyn36O3dI/arJ92nQxX5/uXtErs2E\n",
       "/zcTsEKkfvsdXhcdm+q8NeEPfYyFH5D6eLTEyjV8hyNXDvHg38KKrAer6xl89ljWq8oV2qDckuy7\n",
       "A0GM4RYLWbEyWTzU0w4aej6U74kah+ROHf6wYAAAK47f227w8RsAQDaFMeHomnHdHhx65VL0rlfu\n",
       "duR27cXw7xYy/OGjAACjmTEO0/JB2Gsu9tP2SkaUSwTxUND0pEqu7f2Wv6fZp4cU393ZZOVsG23B\n",
       "cFQW3+HWLdTRcIQ/2BgAYO81xsbDPo0bI/Mt9h7XpX93NOLjosWC2pZQmI+hbd/h7b0B72OKQRpX\n",
       "OQ5vtys1Og6zKXz+xTl/wC0A9XOra/yBuQAAw9e7Xnlu8bFx2KG2aTLhY4bhkI7jtoX94Ti87QQA\n",
       "iMXQD8wn8kHzYLjAQU8+1HZzE/1Dp10V5SbG4ethG8dNzJXjjICDY+q8Js8p61Xsm2ZHlms08f3c\n",
       "oKzbixi+U7eF/j4wl23sv/mX/9wrv3jCx5AAAA820X/Vmg1RrtzAb/rww09FuYuLM69cr1B7mYy6\n",
       "7D3LKTpuWl3eHncG9HvrwqHRgTHVxemMj8nzRTp/GAxR/wIRfj5d8R2E/YMP+La4uKK2xXJ4H3/7\n",
       "4Q6p753xB3zn790ldXvIr5GUStQ/hCxs2ydPnrD3AADsGAdr1zuyHvRHOC9Y2ZR90XCMbbt9e0eU\n",
       "a7RxLJtTpzf78pyjkEN/n14PiXKxCMYC37wSHBYAhBM4rgvr/LoHAMAiiPHE8SnGRLmEbN+GU/RF\n",
       "AeD1HwCg1kZbX1qSbVD9BH1KcpEQ5RJp7JvKJZ0/7Gzx/qt2Rm3VtMOPmy9+9lOvHA3Ja3X5DPbT\n",
       "0y/5OBuArrG47nNy7Yc/+NAvDgAA1SPqAxYz3hY8eUGft3XnDivX2qW+P+jwejXxrQcVEimvfF6W\n",
       "Fw2CQRz/F6fy/5NfDPF5+ZywVtek7zoH/tt7ffo+bcFvvn5B46V+FZ/36Ud8+wMARNN435sT2bZE\n",
       "LfymwEyOtYOAsUWnJa/9zSaGvwiirc9kUoz0t5we4bipVuX16nQG+z2fluP4xRzHXrstzzMWQfym\n",
       "yytcX06lZH/fmqHdmhv21s+DrW2vnAzLaznVBn7vh49k391to24f79N1rUCMn6+7Lu3PuM3bpEjo\n",
       "lNRTed62nJ1TG2Su35pclPH9vn72jFzr9/m5lBWg/fS9773PypUvqU1LJ3Os3LhH+/Bw75SVy6bp\n",
       "HKhgzPt+8gey/xqMUGd/+WtRDE7HOK6vWt+Icskc6ktvIK8BD4f4vIcP77IyutNHURRFURRFURRF\n",
       "URRFURRFURTlBqA/+iiKoiiKoiiKoiiKoiiKoiiKotwA9EcfRVEURVEURVEURVEURVEURVGUG4D+\n",
       "6KMoiqIoiqIoiqIoiqIoiqIoinID0B99FEVRFEVRFEVRFEVRFEVRFEVRbgB2s9YWL9Ymda88HgxF\n",
       "ucVs4ZUTqbQoV6k1vLKTtEW5ZDqDcsGGKBcJRb3ybL5Grp2f9Nh7rioXpD6dT1i5eHJK6tXGJSsX\n",
       "i89JPZpYZuU2NjOk7jiOUQuw9wStCKkHQgtWbm17ndTngSwr93jva/pOqxusXLs5JnXbiuGzZyH2\n",
       "HgCAymXLK4dcS5Rzs/jt7U5TlDs5OfLKkwnfTwAA4XDYK9dq+LzV1VXxHvPvZtN8nwEATMf4d7vt\n",
       "jijXafe98tMnz0W5k5MTrxyysY2urnj9AgBYXi545WrtSpRzHBx744E8vqJO0Ssf7J2Lcolozis3\n",
       "a136Tuub7D1vD06o3BKvY90GbcuIU2Llzk7QBs3mY1YGAMAJYVvGHPm37KO9Xa/c7w/ItWKef4fZ\n",
       "jI67pRyvV7/9NR1fS0X+eYkktZEHR09ZuYhL5aw59unBmyO/uEc2i2M04kREOWuObTbpT1mZue+f\n",
       "g8CP6/mc2rBw1PXK9XpVfIfeYOSV17eWRLlRD/VlOBqIcuMx6sjQlsfAxhbq76u9V1558zav1wAA\n",
       "VzX8jnw6IcrFwtjmvelMlEvE4l55eo19y2TQd+QTaAsSrmyPrsplrxx1wqJcv4vPGPfkdg0HsT+b\n",
       "FTlmiEbR9wTnLrnmBnkdS/pcSiQXY+WaQP/uu+8+YuWmE6qjzQpv4754vEfqTizJyvX6ho5uUP2o\n",
       "Cz4hGqfjbhHg9aDepmMjHOH7KhCk8czXT3/Gy1kOqa9t4pjqjSrsPQAAQeO+fncuylXK2AdvrvEd\n",
       "MUO3+726KFet1rxy1EV9KWRl3z027PFszsdEAACzKV4LheQxYNqMgCX7DjNmsw3b0uvxsSYAwGiM\n",
       "Y2oR4vUfACAWx28fjFuiXDSEOvp7P/lHotx/+Mv/0yvvHX5Jrs0ivJ7HAnTcVWqHrFyxiH7phz++\n",
       "K75DJocx0Xgs61Szhfbt6IiOp1iOb7NsNErqLUHHTs5pvJRO5Vm5aIL66qzLywV87q/d5m1hKkFj\n",
       "8EoFx55jyzF0Ko19sFjIum0F8RnBIK+zts//dbsjVm4+p30zm6GtGg1lnY0afdCsyWM8kUBf2e/3\n",
       "RblYDL+905ZjhmYTY/dcGnVxOpXfdWrEDKVSQZQbT1Gu0pFj7d4Y58P1hvzt8xnqcyaLel7I8GMQ\n",
       "AODFq9deeTCQbYvroj0KLuTxVcyjLp9eXohy4SA+zw1RnWpV+Xl4Kk9j1LXVFVZusqDPe/Fin5XL\n",
       "+tYPQgk+3uxNabvMAjhWiokUe08/Q9cwbMHWuw4dn5UqPzcrbRdJ/TuPHrJytTbVDzcaZ+Ve7dI2\n",
       "iUQwhrj7kI91AABOzs+8srSeAQCQL6Le9/vyeo4pd2HEkX4yWfz+cgXH63vvvSveM+732LKfbht9\n",
       "4KP7W6LcmxP89ssTOb5ZGP+/eSmPz1uMZXtkB9EOTqbyu5ZKuH4wHfM2FgDADqCPbzXlWLvTw+8I\n",
       "h6mf293f84sDAEAmSsfNZZmfH27u4DpZJCWv0bw9fuOVcwU5dmoZut1sUvv74tkBe8/3PvqU1B//\n",
       "+X9k5UpFOh+cT3l/+Ec/+QNS/+rzx6xcLEzjm9EE33fQkudShQKOh4d33xHlWk3UkcMj3r4lU9Q2\n",
       "uQmXlcsv0TW9WZgfh0+/ek3qHzz8xCu//wlvjwAADo9xjeqjDz4W5cx1t2DAEeVqVVwf6vdkGwQL\n",
       "HFMBC23Qi+cvxVuyaWyLzU25/ReAcXyz1xXlchm0q/GgvKZ0eoprRbMx9m0uWuTE//55aE82S1FR\n",
       "rjPEMd7oyLaluIK+u9mVdbTXxbYcTmhMmnP5NaBSgY6HTJb33b998Q39hyhvN8ZT3/Nyt1i5X//6\n",
       "b73yB+//Dr32xZfAcW+HriNWK7x9W1mh33B2XGPlYr716eIyb+N6AxqHdvaxD955+B32HgCAgbGe\n",
       "dvcdeRwOx+iXCjlZt/deYiwanPPrigA0Xu90eH3RnT6KoiiKoiiKoiiKoiiKoiiKoig3AP3RR1EU\n",
       "RVEURVEURVEURVEURVEU5QZgt+ryNtORsSW+mOPTHQAAvH2LW63afXlrXzaP2/xH16R7mA9wi1LI\n",
       "llMcXFydeuVYiqbomp7w27pSabq90nb4FEBmSh0AgGiM3/41GtNtZv0uvw3en1IgHMWtcE8e81sb\n",
       "C0Xfdrsg37b9IW3LjQ2+r2zbl7KudsbK5dI5Ug/auGUxYMlbERMp/A1x6s8LZVAo4PNrNXlLdr2O\n",
       "fZjOZkS5mJFKZ2Zsb08l5BQK/a65zZxPrwcAAAvUj8BcThfVbRvPG8spCdNpfCdzW/gXX3wl3vPw\n",
       "0R28pyinogsGUEf3dk9EubCFWxuP63K6h+3bqH/JBN3a2+/yKWg212lanmqFT33h+NKOhcP8llHH\n",
       "RT1KpeT+fPUaU6RNjuSUZmFji/fW2ha5Vizw21vjMap79+49YOV+8NmPSH0w4G3r11/TNHD37/Db\n",
       "RCu+1ArdNm6NXs7K9rjZxHQUmeWcKDcZo21tXPE6m47S+8c2vx16tqBjyA6jLRj2ZRteNLbwDwby\n",
       "uEmmMCXGZCTblomRmua6VKO/+NXnXjlo+IDB7qF4TziGW/GdhZwWwnFQzrZkmzExmqVUlPvTNTJg\n",
       "9qbY/qvFNUb6W/pGWko7IP/fjpBh64/enopyiYSRemcoxwyFJdx6nM3QbciNi12/+LfPq9K/G4rz\n",
       "6U/CKfodT17yaREvz+nW/oiQ3s71ZegLhfjUHI6RYiO/5LNvbd53t3t0a3U0xqdG8KfySmd4G9Rr\n",
       "U1uwEFL7FQo0LUQ4irYwBXJaKTeKcdF0JOtL00j9+s0Xr0W5uJliJyDHetkcdsJkgu3fuSY9Q3CG\n",
       "90QicgqFmZHBxp/qysQyxqjlyG0Ui+HfNW17x5HTHUIA7aIVktOp9Pv4vWE+4wcAAMzm2K7vPNoS\n",
       "5TZeY2qF8Aodd9UrPoarntG2LC3z47B8gvb39Qs5fvj+j9CmlZbk+O32QxyfizB915DLpyEK2FQ/\n",
       "8ml+fDlR2p/ra3z6zpAv1VMmx6fv7PZoX4cXfBs1GtSXtes4XtNJPv0UAICZqc1MCefHTCtnWbxe\n",
       "+VMiS+niAgHZP8cTfKpNAJoGzkyxfN175NLyt0+mOP5dVx4EThDtyXQqp2cxcSP4vP5YnsMY4T7E\n",
       "ErJtSYyw31ttef4Qto2/a6S2a1pym0cMAzAcXpPebYBys4lsY7sttFVH18wLUgn8psMLOjdcL/Ep\n",
       "Rawp/fZ+m58X2L7vffDoNivn/465MI88uqCpRT/9HqaM6ld53xEI0nd48eIZKzcY0dgukuJ9gt+c\n",
       "jwf83w0C/bvNLt+nE984LGUxNrPCcmql3gjHQDgiyx0eHuOzhf4EAHBdHASRmDwGDo/fGveg3Onp\n",
       "MScOAAAp43mTa1KrJQ1drJUPRbngFPWlVpOf50ZwLnBQRd25c1uOoWeWkf7rmjSLyzl89osXL0S5\n",
       "sbGuFQ/L6aEbdbTtdoj2ZzTB29lkkvZTOrPNytWMVJR7T+WU8v/oR5h2qd6W/ZBtHDnQadI2Ojrl\n",
       "U3S2On9H6tklfk1jMKS+1hXSotbL9P1ubfHfPpnQFMvPnuD8ISkvGcBkgHqViMh+aWKk/Oy1+WML\n",
       "Aj47OJ7zsXYoTOeuwRm/nvnj3/+A1NdK+O1/9dP/R3zX8QT76v41Keu6XfQdT7/5rSiXMuYteWEO\n",
       "AwDw8hmmJwxHsT+y2XVO/Nt3HeIY+MXP+NR9AAChCLbt+ob8TZcVtPvTuZwyLR7B7ygs4xpccySn\n",
       "Xy4ace6rV1+Lchkj5W02J8fG9Tr6lMFQ9vGTIcZOhSJ9XkF4fiREY7tghJ/HJHM0xu0K8/9oktqq\n",
       "0Zh/Xq1h6PI+fdbSKh/LBi1qS6wFv7az+4KuJRSX+Pg1m/GtVwX5ON51aJrmrhF394Q1UACAsJEK\n",
       "PJOWY+MDw4fOJ/K61uUZzie2V647ggDTcj58l0+9rTt9FEVRFEVRFEVRFEVRFEVRFEVRbgD6o4+i\n",
       "KIqiKIqiKIqiKIqiKIqiKMoNQH/0URRFURRFURRFURRFURRFURRFuQHojz6KoiiKoiiKoiiKoiiK\n",
       "oiiKoig3AP3RR1EURVEURVEURVEURVEURVEU5QZgD/sB8WIilvPKn3z8u6LcYPhLr3x6fiLKxdOW\n",
       "V67WuqJc0Jl45WQwLcrNxiEshxbk2tatPHvPRfmS1FfWN1m5k7PXpJ7N5li5iEP/fTwcsXL7uxek\n",
       "nssVvHImtcbe025MSf349JyVy2QypN7pfMXKra4Vfe86Y+WarQqpR+LYbxflA/YeAICllRWvfHZ2\n",
       "JspVKvj8wWAgymWzWa+8Yjzbz+npqVcOGL9jTicTThwAAFwn4pXbnZYol8ug/l1dI5eMJ7zyYsa3\n",
       "KwBAs9nBdw2g/j56+K54T6NR98r9fl+Usy183rDfFuX6s55XjkVjolwuteyV9/f3ybVRsMneMxi8\n",
       "JfWdnR1W7s3+S1KPRl1W7vYOjs9+v8PKAADcv3/fK//go98X5YJB1OWwGyfXmg3eJr16tUfqn//2\n",
       "f2flLIva0pMT3hZmMtRmZHMJVu7yskrqhXzJK5+fHrH3AADEY1GvHFzYolwmEfbKISfKyjTrY1J/\n",
       "u/uWlZsGqL4VltAm3dridQAAoGWMh5kdluXqqLPT6VSUW1pCO+HG4qLc6uY6Vox+6/blMW7ZKBeJ\n",
       "JkW50RDfbxTg/QEAtS2jniwXzqKv2H+Btq7rDMV7WjX8jtOzC1Huxz/+A6/cH8rPy6RSXjkRz4hy\n",
       "qTTq9vH5KbkWmPLfuLmxTOq9VoOV2z16Q+rZ9S1W7vyM2om1jVus3ME59fHtizIr5xh2IuBQnbId\n",
       "3m45Lo1HOt06K+e6IVJPZXhbYIeoL8suFVm5yZj+P57KFdqQlNGHfi7LNa+8vrItyjmO45XrV7Lv\n",
       "dgyzY4dlGzSbYTtFouiTLcvixL+9x2iKQECOXy0Hn7EQpQDCYbQ7QdsR5ebzuVcul1FXYkYs4ccx\n",
       "vn0ou24IdnBsxCLyN01maFvyJd5mAwC0a/i85DLVqaX3lth7Dlzq0y/Oq6ycHcJ4NRHLsjIAAL/+\n",
       "Ofq/aOpKlPvOxw+88qe/e4dcC1i8nT04fEbqzSY/vm7do2N/MeNjQtemOuqEeY3p+Oy0I7xfs0Vt\n",
       "0GiA981mc7+4R7eLMcjRkTyXMuUmYz7eHFn0XaNRXl+CQWozZkb8ulzk51EAAFXDtpTyBVGuVkPb\n",
       "srPNz7cAAIaG/0kk5LjUsbD9WnV8tmmb/CQi6LMqhq3zMzPGVzrJ22IAgItTHMzTQU+Uq9Zxvrm2\n",
       "iuOuU5fj8+Qq/t32RNaVSgX9ZPmU910AAN0OtmskIMdEF29xXhZ36bd3avy4mS9oLJYO8zrWqdLx\n",
       "eev+XVau3aHjZjgcs3I779zz3Ye+KOzyepDI0LWE5fUNVq5apW3ZHfNznas6XUuIpvm2vbVF/848\n",
       "xMv553b1OrbZRUXuX3PcTEHWl+UVfI/rYuh2F/U5kZTtu23YzMUCbUYwIHvbBaCcZI/8zx715Ji8\n",
       "38Vvd4JynJGKoo3r902dktthbRXbazLn4y0AgC9//Ruv3G3L61qui987GlwTDBh92GpTH5wVbNLb\n",
       "8xekvimsa+WX0Q4ub66Kb/BqD2PjO3f59SkAgNkcv3fepH7ItkN+cQAAqHXpGO9f8eMrGqa6nM/x\n",
       "8WsyQeOv58/2WLl8gcY923cwzl0tyuuMjSb6i0xenvtYDn5vr8evVUR8awS3NwUbVKO2ZTXFv9+F\n",
       "b43BnqHtK+Tlb2oaTV6vy+Pr1Utc9+n25fnhdIYPfPH0WJSLRrCv3n33tle2A/L+g9NztH2OK/uv\n",
       "UhH1Yy0hryUMJhjTtAbyGuGgi98xHqJNbDXlOOOqinOObEkeXxFAXel05Hg/bawNZ/OyfTs7Rp2v\n",
       "Neh4Wsrw79Hp0/FVnR6yctMpHdf9MR+7uAH6vKPjS1buvfu4HuSfFy8CvL8vpLZIfTDi5yb9Ab0/\n",
       "m3mHlbs8p/60P+DXHNaW6Pw+GsX1jYM38hrc/Yc476ie8e8KALBcQF0cTfi1BACATA791Az4uQ4A\n",
       "QDqLY8CN8L5Nd/ooiqIoiqIoiqIoiqIoiqIoiqLcAPRHH0VRFEVRFEVRFEVRFEVRFEVRlBuA/uij\n",
       "KIqiKIqiKIqiKIqiKIqiKIpyA9AffRRFURRFURRFURRFURRFURRFUW4Adq3MH6IGANBz8eCuJ9+8\n",
       "FuX6PTwMywrKh/N1Wig3msiHAK9u4KGg25v3RbknT7/2yifNc3JtZZU/gPT2Dj04LRTiD8cq5OmB\n",
       "eb0ef9DT3KaHy6WSOVYu4jsAOpM0DgYM8O9wNKDflIjyh/g1GvTdpkP+AL1nX39D6ttbd1i5Qq5E\n",
       "6uZhW9OxfMByJoEH5TWuOWS808FD0e7e5Q/0BAA4P8fvNw+D9bOygoeddTt4QOL+Hn/oPABALoc6\n",
       "Np/Juli5woMK7+zIB1z32nhwX1Q4SPTbd8LDzRNxPCSzNZEPg7UsHFOzqXwAZHCB48tx5QPqolE8\n",
       "5K59zSF+Z+d4SGDYoQcWnxzy95kHuQMAHO7zBzinknR8jsf8d80m2Jblc/mw+9kMr5WP/lyUs0N4\n",
       "kGC1SnWqKRzCuVjQg/beff8RKzcc0T5MFfjxOhjSsdEZCAf02XSsLW+izQi78jjcf416v1SQD2Ku\n",
       "GAfW9jr8AbB2kH5DNMofpPju+++S+sHxrlf++ovH4jsUCmhrrvumUAD7rd+XdfbqCm3Vy13+QE8A\n",
       "gO9+9qFXni2wPzIl/pBzAIBOB/9ubyzbt34dbUFpa1mUC4bQTtevZPvmAo6BzdtbXvno8lC8Z9zH\n",
       "w3RjUfkw3t23OMZDtvx/QHKGHs1n8jgcTPDaZE7H00J4/q+ePSH1W1v8wZPBFI0tBnP+0Md4ih4C\n",
       "XqvzhyDf3qGH3V6c87rthNBezmb0kOK2YDMSQH2ADbxP3vQd5Nps8AfA2hZ9XrfD90G3Q33ZYIxy\n",
       "gZ7sOwZ9vC8akw9BHc/xGaur8gG/rRaOlfBCPoB0OECdsI1YzBYO9AQASKeNg1gb8kHM5vn0YZdv\n",
       "fwCAuWHeAzAT5a6u0JeFw9hGk7n8DgPDTowGclwQbKCcnZMP9ATAdklec1jtrI22tNKmbTmL8HqQ\n",
       "zNJYdmOdj+jmTCIAACAASURBVA/PzvCA24QtHxw+rWJ/hoXDywEAfvrTz73y+gb1N26SP4w4EqO2\n",
       "ZOv2Dis36tH3G474bx/16XhaWVpn5ToBavcHA34cTiZUJxIJ/K7GNTHXZGr4oox8aHTURR2ZToRY\n",
       "L0J1PhaPsGLBIG3L0Qi/ybJknzyZolwyJffvcIi2pdPh7RsAQDSGsaPjyGNlOkKbGzAOjZ/NrjmU\n",
       "2TiIOZlMinJt4/2OD96Ickmj/TdKJVFuo4h92GnjXPvu/QfiPf0+6ujBwakoFwrg+F8MZLu1mOO7\n",
       "nh2diHLn5xde+c4tOtfpDvl+a9ZpzNtu8+NhZZ36ikmft5njHu3Dbo+fmwWC1KZNAY34YMbPpeIR\n",
       "n46Oeb8Uy/piXou3s1aYzgt6whymXKGxXXfCx3r+cWiOlWFfnqNubW3hs1v8IdsAALbxHdGwPF7r\n",
       "XeybSp1f9wAASKVQt89Pz7xyIS/Hm1YQ7cl4JMfQizna7eXSiigXiuCYag3lObQbxb4x45vxSF7/\n",
       "KpdRF31hH+HWLYxXzfUHP4EAfvvpJR+TAgAUC9iuVw2fv5ny77uxVSB12+bHV8jBD1kI8TMAQL6A\n",
       "frdSuRDl+gO0xW6M+pfFhG+0UJja9rjNrxmuLlE9isdjrJwZawIApDO8fX97TO15JILvW+vI/REL\n",
       "o51w23LMdXWGB9fnUnzc4tjUJ1tD3m6nfG0yF+x71jdn7taxP7LZol/cI5HDtgwKa6AAAJ98hN9x\n",
       "eH4uylWP8T3CIMfD2QT6onb1wCvv7NzixAEAYFxEPWi35Xhz7wX24TB9JsqtbmMfxl15LrtVwvlh\n",
       "t49jZW1JNgYXZzhHGF7ya8EAAFddtKtWiNdrAIDRGH2FGw2IclYI7cTHn9K1mG6Vj4vcKP27Bwd8\n",
       "bFC+oHPcQIjvg8WC/p2tdT6Gbl2hfkSAtlGpwK+xfvH5L0n9/2PvzZ8kyZL7Ps/MyPs+q7Luo6v6\n",
       "7pmec3d2F3sAhBGiQDMRBsBImGg6/xrpB4omoxl/FSEKgrSSkRKXSyyw2GNmdu7pnr67q6rrrsrK\n",
       "+74z9MMS4c+D7mX6ucw/P71X+Y3IiBfvufuLrOfv2hbfX9bXtkm93eNt1/Iq9Sk//2mZ1XUa56Q+\n",
       "neG7rO9/7++zxwAAlE7RFx3tyDFvcQlt1cwn2+O7b2Bf3Hl+Lup2XqH/+fpD/nt1pY+iKIqiKIqi\n",
       "KIqiKIqiKIqiKMoVQH/0URRFURRFURRFURRFURRFURRFuQJYvY68pMhMYfHFF1+IumwBl7evr8rL\n",
       "9PpDXHocistL1TZXN51yZ3Ag6pbWcBnsyTFdWrawyKemODygy+UHQz49Sz5L0yL1e/wSuf0jmkIs\n",
       "IKSwmbjS2f3uD37XKZ+fCelnXMvjQnE+PcPua7psNRjgr2F5kaaz2d3h2/a5aznv+iYuhVtallMZ\n",
       "nJ3j8sDL0kKcGstgPXBJ+ogxLmmdjeVlneVzXJpnprcJXJJqsGekIbC98nLNQR/P9/TpU1G3YqS6\n",
       "6XXkpfj5LPbZ42Nsh3RKTsNVq+KS7sKcvGQ0ayzZfe/9N0Tdl199iroP7oq617vYrq0mXSqYiPPP\n",
       "LZ2iS7f9AX7pcKtDl1NK6Tx29zBNWCwqpzsJGEtkGw05JUEhgUuFi4t0fCWz/FLfoyO67HU05W3m\n",
       "YEyX4gfC/D1V6xVSDwkp02Ku1DbdLtrPVJZfPg4AsL2NKTH3X++Jurt30FYfdHkbZKYkAAAIBqUU\n",
       "MfQ5N+poV8OXpJLYe45tG43JKZjWN9Ged0BOC+E1UmUuFOX0U6/3953yrXu4JLje4NMRAgB0ujgG\n",
       "vJekgfrWu2875U+fPxJ1PqMvXpb+qDlA37PXQtucTst9oF7G59mfytdaaeA93b69Kepe7u445Xfu\n",
       "y6lpvvjl3zjlaIKmSUkX+DQdiwX6nE5O+ZQ2iXnqe85LFVaXy1Eb2RNSsJ2dH5K618unY+x08Pgz\n",
       "l69eXuZT0YHH1eYh3heN+3R8tau8DTo7o/0yLaRQMdNIAQB4AGO4allOIWhZOG7MNGZu0kaKvQDI\n",
       "Prk/wPguIPgAABonRKNow2cTOUWEx4vjIRqXzz3q4zliCTkWMFOcBi3evgEA1NtofzcNe2TbcvxQ\n",
       "bxq+OyPrgkY6MO9UvoapkV5MSrUJALCUwX55+Jjee3nC2/pIhvq11zu8H711D1MSrG/KqXx+/hNM\n",
       "sWF55RQW77/9jlO+cYPallKTTylSd6VzvjgV+vaU9o/ta3wauFqV9vlGg0+T1GrScR2w+XQv9pTO\n",
       "b+JGKiTTnrgZjf//pUJLG/MTv5/3m5f1SxN3rG4e1+/LsWyhgOljZjPZFoSMVGitlpx+Km2k1RrJ\n",
       "oQCA8V3hsJGmxiv/D2PXiMlnlmwzMkZanjNLvojnjzAl6eYlKVx3dnFu1mqjLZhM5RimZqTrrrXk\n",
       "9p8Y8WDYK9uMThP9ZPOS9FOxFI7liastPWJ6TPp3f4C/jtf7NN3OyOZjEtMHcPW/o9GhY6NcxXuM\n",
       "zvNxkT9Mr2044+f0I1ca1KiQRvOiVCP1VJ6fm3Xarmct9KvBgPr+fBbH1zhxSepCI8WkOxW1yWxi\n",
       "pEL0yLpMGm1LoyGnPzsoGfOimZk2TJ7Tm6nsewPZx4+NlJX2JelmzfmJmX7ZTclIZR2LYv/wgJxG\n",
       "0raxvywurYq6wRD7ckJIRwoAcHqEcW0yLvtD2xgbfVdflI4bDV39Q9gyoHyKMW8qKb9LOC3hu4n4\n",
       "JbFTJIIpYS9O6Zzetvl+sH2bvpsLBPKsznalzd0/5FM1NevUn4YivA1y+zkzpfzCEp+KCgCgZvSd\n",
       "Vkf2ybUa2oNckr8nz4Ta1b0dPqWWzzV/SMb4uVOzRftHKo3Po1uWfe268e5j55I06Psl7LPbb96W\n",
       "z5dGn7zjk31b1I+2ZdJDXWwgt39ihv0qkZH94cY69tNWQE7hWp3g2JiN5Oc57KMfDoWwL4Y88nuo\n",
       "tS1so/09eXuJgLFVx+GR/I5mI4px/Hgkz+NnRir1jz7+OfksEeff2bpffduCzYgl6LhZ3uDjHY+H\n",
       "9sVJn+9/ISOdYNOVpjwe5M/9u9/5Q1IfzA5Z3WBKfUDI4ucnZyf0Wt985warq7tSw8/P47ud7kCO\n",
       "48F4Hteu8ecGoG0eiMnxequH85OjMzl1YTaD85t8jJ8f6kofRVEURVEURVEURVEURVEURVGUK4D+\n",
       "6KMoiqIoiqIoiqIoiqIoiqIoinIF0B99FEVRFEVRFEVRFEVRFEVRFEVRrgD6o4+iKIqiKIqiKIqi\n",
       "KIqiKIqiKMoVQH/0URRFURRFURRFURRFURRFURRFuQJY128six+mM0mn/PLVrqjrtqtOueSbyF9m\n",
       "eZxyvlAQdZlE3Cl/9Oknou6t++855WQ6Rz7rtHvsMalUitTrdQ+rC/oTpD4eXPDnM9oIACDg97G6\n",
       "ST9K6o1qxym/en7AHvPFJ09J3Qr4Wd2N2zdIvbiWZXV7uyekHo+GWV0mTf9uw8ApV+st9hgAgOvX\n",
       "bjrl87OmqFtaWnXKvR7/nAAAvDNsS59libp+f4jH2AGnXLloiMe0W12nHEtERV0sGnTK6STfrgAA\n",
       "0zH2o153JOryuTmnnE3jPR0fn3ByAAAYjftOuVqR7ymfxzHV7vD9GgBg+8Zd1HXl55Rfijnld7/z\n",
       "BvnsYPcRe4zXS/u/PeOvIzdZpTrbZnWdDo6TeqsmXmskNsNyVO4rT54+cMrTCf3Ne3vrFntMwAqS\n",
       "+sOv+HvP59OkfvPWDVY3l10i9WqFH1MX5Tqpf3O655T/5I/+hD0GAODrsx3xu0xOjtCm7ezw/S+T\n",
       "oX15PJ2yuv/wM+of7r2B9360VxavYS6H19es8zYWAKDdwDbqCrYdACCbRX8WiPH2EgBg/xD7Uukc\n",
       "x1Tb6G9uZkZfLs7xthMA4PwE27J/iS2YBPB8lh2Sv9eLY2NuCcd4vVXl5AAAEDSGYWZ+XtSNQyi8\n",
       "uJDbfzmPfvPJwweibtHw63aA2oJG/Yw9puFq8uGYjyGa1TGpd/tjVpdNREjdDvN9tlY/J/VoiH+m\n",
       "Xq9hJ6Yz8ln1gn8GrSYdu8VikdV1qvT4ixJvC1LxOVL3TXgbd3JA78m0q1EjrnITjaIPPD+Tx2vK\n",
       "8JWDjuw7btxYd8q1elvUtXt4v8nkolO+7L+Rel3sMH6fPA49Fj6rYIiPywAAZjb2j36/K+pCQfQD\n",
       "fj/alslEjnnbbbz3er8i6vI5bNfZLCHqhh60ffF4TtSlU/isTw/pc8rf5mPvqY8+p2JR8B3GcGrX\n",
       "hrwGAD54/02nfHwk96nnj5855bOjQ/JZY1B3ywEA4N337pF60Mf3mKlrnDz86htWF41Q+9ucsTLI\n",
       "xLZJfTLm4xZzPAEAFIvYtyeDvlvuMJ1hewaDct8eDtCvWEJs7PPRPj+b8Tdl9n/3+YZD+VqLKxtO\n",
       "2Z7wNhYAIJvNGOeWR3avh2MvYPHtCgAQDuA5JmNsh3BIjuM7Q+zbjbY8h6lV0Qe6289kMMA50YsX\n",
       "z0SdGbsnjbni0akc7798jbGUDXJc4DPdX0CO989KJaccSco+oFzFMbq4Rv2NDfzzXShkSL035n1y\n",
       "xRXjWv4gq2uVqY1cFJ5Bq0HnAneMOfCToz23HAAA+v3+pfW/47333iZ1c85gsrpE5zDdPh/r2WP6\n",
       "92SCt++5FWrPX+2+dMokBnFhjutKRZ4jBf3YlwbdgajLFbGfJoRrBQAIFjCuDIfw3J2W7EOPDPue\n",
       "SaZEXTqD/a/XlO+p3sXvSiZXRF3IeAbRMNqJnR2+rwAADCc4L/D4A6IuGcJ5sj0WHAcArK9hH905\n",
       "kN+nnZ3heN1Yv04+M+MJk1iYxrzVBu83M+m8U57O5LjFjIWnA3k+XW7g9Xg91FaFo/z8q3RCbV9M\n",
       "6GPVKn3uPou3hWOb2pJJl7dV2TSdn4MHdYtz8vtI/wx1baFdAag9mcaFeMTlgwdDvr8sLi6Q+kWD\n",
       "n/Om5+m8om7OJ5qy7z6s4PkKkZiom7t2xyknE/L7r8gUx+vbP/quqJvPof8JBXDszs3nOTkAAFxU\n",
       "0FadluU5b6WFvvvjC3lct1s4vpZW5fcjpVOcSxWKeO8Xl8TxwwHajExqVdT1K3ju6zc2RF3Qh3HQ\n",
       "/JzcRmCjn+ykqW23heFbKtO5oiXE0Ek/jS26E/49wUKe9kVfnB/XpiU9Pv6cfBaO3ASOw0P6PG0h\n",
       "3Llo0jgjnuZ98vVb9Hte75ZYXTZPffJognOp2VB+V9RroS62LPexi8qpU57Kbg5CUWzLlRXZz7Vq\n",
       "OKZaI/7edaWPoiiKoiiKoiiKoiiKoiiKoijKFUB/9FEURVEURVEURVEURVEURVEURbkC6I8+iqIo\n",
       "iqIoiqIoiqIoiqIoiqIoVwD90UdRFEVRFEVRFEVRFEVRFEVRFOUKoD/6KIqiKIqiKIqiKIqiKIqi\n",
       "KIqiXAE8P/rjFVv60Lbxo9F4Kp5kMBg55WAwLOpi8YBxvraos/z4XdH4oqi7eWvTKTe7NfJZqXzG\n",
       "HjOb0ds9PiixunZ9SOr3773H6qp9+j29TpfVba1ukvqLR7tOOeRNscccH9FriyfTrC4Si5L6wpaP\n",
       "1fV7M1IfDvhHv7ySJ/VMLuSUy5VT9hgAgPJ50ynnc0ui7vgc2+zs5EjULS4WnXIqxbcRAMDxIZ4v\n",
       "k8Zr/+bhc/EYrxfbKBrNiLpwyHLKPu9E1HVadacci0dEXbOB/T5tXOt4NOPkAADQaJad8mgk/07b\n",
       "72E5FA2IunwRr+/++1uibjDE59kf9shn9dMD9pi1lZuknogtsLoXL07oH2z+vhJJvNaLmtxXJtO+\n",
       "U46Fk6LO68F2qdfoPc0m/LhpNDqk7vf7WV2lUiH1TIbvs6PRiNRDQf56gyHaJtU6tvmf/vE/Zo8B\n",
       "APiX//Nf4DXEeZsBAJBMYp+LJOOsplwekHoiwd/T2ga1GZ999plT9s1i4jX4bfQXvW5T1MVS+Gys\n",
       "cFDUTT1Yti1RBvMLc075oop2NhaRx43Hi/YykZRtQTGB5+745WuNjvHez/cPRV1uFc+3ksLnNBsN\n",
       "ODkAAPh9eO7jekPUpVfQvx4d7Im6bgVt7N0b10TdaRnHdTBF+1S+kOAP6tMH9eAxb7erE+pbl5d5\n",
       "2xW16Xj6+MMPWd3t9+l99Ot9Vlevoc0uZOfJZ2dnfPzg99F7mkx4+275aLw0GvI+2f2sxzP+2Tc7\n",
       "9B6yBRyv8/NFt9yhXEYfY/k9ou799992yo263Gd3XmI/GAxl35afKzjlZApt/VwhJx6TSqK/Lp/X\n",
       "RV2zhjZj0hmJutoFjo9+Rx5TC0trTjkYwmtNp2Ubu7mKx6zc2BZ11+Yxhtte+0DU9X14v7mU7Od+\n",
       "+q8/ccr/wz//H8lnh9On7DEzb4vUc6kVVjceYaydyct28M17t5xyJDgn6totbHMb6HO6aLbccgAA\n",
       "qDZo3C3NOzIp2ucti3cKz57QNrFmfP/LJW6ReijMxy0LczT+feveW055MuDtDACAx4tzn0hEnkud\n",
       "ly6c8q9//RGrSeZo/wiG+Pgm4Kf34LfQB8Yjch+7sY1tEfDJznZpCX2MPRmKulQa/UU4yF8rAIAF\n",
       "aE+GPfQJ6XRWPKbexRhuJMSaAABn5xhjeqbytR4foo969eKBqOv1cbwWFjFGevbqpXiM7cPr29q4\n",
       "Ler2X+w45WRItkFeDz6b57uvRF12Hu3qRZXO8yyLb7OgNSb1zVt3WN3B6Tmpj0e8n+u1aAyYz/Fz\n",
       "M78rTBuMcEylFvi5Z8CicftkwtuuWr1M6tvbG6zOCtA+3+vx/WUwoP4vlefvqd2j70SabbR9Xkv2\n",
       "yaUSXq/PI4/DuRzaYI9HHl+Nbln8zGQywmdvzs/PTs45OQAARKPo51qtjqhbWMB5Yzwo33vZiM1a\n",
       "PdkX+Yw46+gA45alZTkmqjXxPiaesagLTvHe11eWRZ3XxusLhOV5xonx7urohI7DoD/klgMAQMo1\n",
       "z6u3+bgobLwqarYqrAYAAGwcK+26/O4vl8d4eGrT+TR4+PEwm7ra0sM/386A6qYzvs3icTonDQcE\n",
       "XZR+jwfw/NGo3MdCxji3vPK46Rv97+ykxmo8QOeDxSLf/6wAtVU94WtTCTrHGjTQfkbbctz9gxvv\n",
       "OuXNovyurrCC19cCOTb2jLEt84k1URcw5ryhmBHfeOQ+BkFsi5kt99lKB9+pPnvyG1H35CW+R+nO\n",
       "ZHs5MebuHTPmEHwhAEDZGFONLt8HAABSIYwF/JfceyGB49o7lW3Gy2doJzoDOu6Caf56Y1l673HB\n",
       "Jg1m1C+dX1RZXSZO5wvJIP/eJ2xhP/J76bg7P+V/F1hfpb8DjGZ8m3VcsfVwxs/7PAHqK/o94fcI\n",
       "2xUzDLHNQjH5eVSO8dn7vfI4zBQwvh5PedsOANCo42fVuuw3T44xLk2G+XevutJHURRFURRFURRF\n",
       "URRFURRFURTlCqA/+iiKoiiKoiiKoiiKoiiKoiiKolwBrFBQSLkCAB4PLsH2eeWUBMmEsWbUIy9l\n",
       "6vdxCdUbb9wVdSsruNzws0+/FHUf/+pXTvmHf/B75LNqjU9pM5zRZV03bt1idWfHF6Te7fNL9apV\n",
       "uhQ6l+aXbkeDdCnY+hKmNamW+BQWS0v0XIcn/NLGpmuZdCjDp5+6f/9NUv93//4nrK4/oama3ohj\n",
       "aopmTcwGCPUqLvEc9vglgAAAgy4uzQv65NRq58eYuuFgT07jsmgsT31hLHMsn8pLsjeMdFTeMd9e\n",
       "AADHJSONmU8eK35jSfHKtpxqYWakFzk7xOtLxOV2mM/gsvyDo2eirpjDpeUXldeirlfGJdm//qmc\n",
       "muKP/vTPnPJf/vgv6Xfl+baoV2j/uDg9YXX5DF2W/OTxp6wuGsQlo5sFfrkiAEC5hGNg/7W8rHY0\n",
       "xLEWsuiYDIf5fjAXo88zGOGXYcZcy8rHY2F5+5jqOm3etvYCtC2TRpvlc3w6NgCAzQ1sp3FH/l3f\n",
       "ArzfV0/41F4hV+rIu2/cY3UvX35N6hEjzcR4KF9DPIv3UVi/JD3L8b5TnkzkZeaRLC71r1fkdHHP\n",
       "vsQ0J+sbOG4WlwucHAAASp1jp7y0zKc+AgCYjtEHJqbyvX/z9edO+caGnGZxu4BLmx89f+yU80ty\n",
       "yqRrq3i+3LqcbuP5ky+cstWTl5kvFLGNXpzKaRZDRnq8+hn1AZZgZj/5hNq0m7dusrrgkPru2vkF\n",
       "q+tG6FLt7//B91ndzg7t8/0OPw6jCSNVXpkek8vNu+UAAJCM0r//9V99wequXaNL7NMpPqVTb0zv\n",
       "3T/hbVBhkaalsm18pqOJnOavUMTzLSzI/Wpk4zmmEz5uAQBYWsJl60G/7De7bUwJEg14jL/L5+52\n",
       "Db/ulVNgRfz4Wdcrp+/weDGNg8cnxze9NvoYI9MjTCNRRv0fdUYanUFFbv+gYU+GYzmFhRfwfMOR\n",
       "PF433sX45ts/oumJwl/y6Xvufu9bpD4R0k60hhhjLSzLqWyjQbTF1ZI8L4hmsX882/2cfBbw8ef3\n",
       "An2eoz4f6+2WaKrIVIL3MZ4x7Uc28P1latN+mQzzdvv65nVS31zFGDUeldM4jI30Z+OxHL+en6NN\n",
       "N8e4yaBH/WQoyMcMkTDtv50O9vPpSO6zfSOV9cR3STo2knJVTqdiGWnXApf8P+J0gu0SCmFbNi6x\n",
       "GcEI9qOZkNYLACAexZQkj5/KsbYN+JyiBTkF3sEz9JX9c2wjX0CO384vML3T3sHfiLrlDKbeqVVl\n",
       "n3zWxGdYLMq2vdVCXTBC0xC1gfeNlisF4e4Jn/Iz5KfjuNvi06mkMnR8BoVUvu0OjfH7Rvq+4jo/\n",
       "vtzpl6NJPv1MJk99aLnJX6vloX00GubPN+jTMdTp8c8+laTz7v4QU9NI6fUAAPJZnDv6L0kn3Gxi\n",
       "PHx2xqe/BwCYTtGexOOyf82k0W4njRRbVlH2CWZsPLwklWqrjvateoktGA7RFiSF9PcAALEoXlMg\n",
       "gLa43Za3GQgYccGwLaeHHc3wGr768rGoMwPg9U0+ZSAAgGXh87xzwzXnFdJjfvXlZ6Tu9Qmph8Zo\n",
       "gzKpPK8BAL/hd3t1OR7pt/B5+n103MUTvF0cDum8YDARfG2b/j0U48eXNaUxWzTE9xfLS//eMeK5\n",
       "Xk+eK84bKewGl6Tht4zU8Yt53s4eHeyTetjLxyMJ17uI2YRP6RTs0OPtMxyvf/Ad+R3rt++tOeV4\n",
       "RE6l3O5hm2Uz66Lu1UOc//f7sh/2xXFMVc8xNXYgIvvktmG3Fhavi7rC9LtOObEl67aWMS3q6ws5\n",
       "3elXj9GXPX+A8z4rJtvYWB5jqegltnPgxXnP/oG8ZcbRBY49t38wGRvp76dd2s+bHT6OLNdouvSp\n",
       "l7+ObJqmT4yHefs+6lE7cVjmY5Jrmzeccr1JU0I2hXdmexWXzRj1WF1ujr5H7XX584Vs+gxPj/j3\n",
       "1TFXnGYZ86+1ebmPTYwpb6XOXysAwPOXGFeNhFR0AAAJ43y+gDxHXVrDbWQKYd626EofRVEURVEU\n",
       "RVEURVEURVEURVGUK4D+6KMoiqIoiqIoiqIoiqIoiqIoinIF0B99FEVRFEVRFEVRFEVRFEVRFEVR\n",
       "rgD6o4+iKIqiKIqiKIqiKIqiKIqiKMoVQH/0URRFURRFURRFURRFURRFURRFuQJ4Fm5GbOnDUNjn\n",
       "lCMxj3iS1Y2iUz4+2Rd1N67fcsoLxVVR99kXD5xyo3Mu6paXl51yIBwgn4VCIfaYfCZL6q9e7LC6\n",
       "gI+e7+D1AaubX0rSa1pcYnXT8YTULY/fKTfqPfaY3f0TUl9c2WJ1wVCM1G/di7G6wWBE6r3+kNWd\n",
       "X1Soroe6YXfMHgMA0OsMnLJty/1lbW3NKT9+/FjUtVt9pxwO8fcEADAxmjaTwOc7Hc/EY54+fe2U\n",
       "4+GEqEtlI0650x2IupkHv2tst0Td+9+67pQff4N9atiRf3+1PNiXvVZN1EVjYaxMU6Ku10LdAPZE\n",
       "3bvfueOUK2f0edbO+bbwWbSf2946q5tfoOf73u/cZXXnJyWn7LXz4rXuvqw6ZSsoP/fVlXWn/OTh\n",
       "N+SzXo8fhzev3yD1drvN6jo9+vd6nb/3YoHavlx+kdVVmlVSrzX2nfL9t2+BxOkRjt/PP3wq6pYX\n",
       "sC3agzKruXP/DVL//MFnrG57Y53Uy4d4Dc8fyn02YXTTG/c2RN1x6RQrftm2JPM4/sP+iKg72j1y\n",
       "ysEAjr14lvcbAABrN/A5XZR5fwAAkIrjTaXjGVG3OrfilI93Xou6pSX0Kd4g+uTOmO+vAADDwdQp\n",
       "hwJ9UXd08Mwpe2z53kNxbNfTi5KoG83wu5aWF8hnsZDfLQcAgHCY2qqDI97nT4E+91aXt7PLqyuk\n",
       "3u3wtmoyoXbC9DcmjSb25XiU+qFWvcse4/dQnT31sbp+t0nq8TjfZ2e+KanbNh+2+QLUj8RiUacc\n",
       "jYbdcofJFNtoOJH9nA14HdtG/OXm668MuzMNiLp0GsdHYb7glJvtjnhMsYh2YiSHIzAxzHG/NxF1\n",
       "jQv8rkGPj4kAAAI+yymb8WUmkxOPuX0LfWg+Jevee/ctp5xKy7FOMo2xijfIjycAgFoN7fnPfvr/\n",
       "kM+ePfmaPSa9Sf2VP8Bfb7lm+Fq//ADOT4+d8v5eVdR5rKBTnnpp35vPveWW//baXPH5cDhidd0W\n",
       "HZ8BwScMe3Q8pRILrM5vxUn99vYNVpfLpkl9bXkOyyu8vwcAaDTQV4bDUVH3yWdfOOW/+fnfshqP\n",
       "RW1OKh1ndQsLBVKv19EmeW3LLXco5vCeNtdl3726gnbCHR+S6yigj7En8jgEG/tct4uDPJGWfe1g\n",
       "gs+3LsRvAAC1CvbTX3/016JuPMU2OjuXffdwjPcxnuK9dwe83wAAiCdx/HeHsi3ulnC8RsL8swUA\n",
       "GPvxGe7t7Yu6uQTOZQMuX3393TfccgAAODt0z5/52KxeobZlOp2yuvlCkdRXFvlxOBrTdjk+xngO\n",
       "Qvy4sSzqG3OFLKtrdmj/yGTSrM7rpePr7PiE1YVC1OakF4qszn19HSM28F7y77njMY6HSESOec3/\n",
       "8bV8dP46OgAAIABJREFUsu8o17BvDkeyH47HDBs8w+c+u2TencngGD3Yfy7q/MYcLp7k2x8AoFHH\n",
       "mK1aluPhWgXvaTbDdpifnxePicXQx7c7/FwOAGApj3bwwTfy+4xOD681dUnMkE7jOJwvuHQ2bz+f\n",
       "PHxA6vEcH0OsLOM87flLee6fMGzBo0cvRZ3fMmIii467ZJx/BxEK0z41FEKIQIDaNI+fjyMTSTpv\n",
       "6ff5WCPvapNWE31tH+TxYE/xAv1ePo4HAAgbbXFri39XF3YN5GiYn3OVLy5Ifa6wyeoqJ7uk/k/+\n",
       "8A+dcsEnj5vDR2dO+Tcffi7qNm9jfBMX7CUAQK2J97WwJvv4wjKOa68P5yMXx/Lc02vjGNi4Jo9X\n",
       "rw+f55Mz3hYDAHQb+F1PH8o2aGkZ41IrgX3gkyfyGG/5Mc5oW7I9Kh9j+0+n4it4GBqDI5eTbcZw\n",
       "iPbNAzQWntn8vHZ9g8ahnRbvu1sNOs8eD/gBa3npGPICP1bMuavPdYxl8fFmIO7uH7yP+fBDOrf5\n",
       "0Y/eZ3U7L6hNm034Z5CK0vf7Q+OdeTgi99muYevDUXkc7r7GOVIwLM/7arWGU47Hk6JuYQHjpVm3\n",
       "wmp0pY+iKIqiKIqiKIqiKIqiKIqiKMoVQH/0URRFURRFURRFURRFURRFURRFuQLojz6KoiiKoiiK\n",
       "oiiKoiiKoiiKoihXAP3RR1EURVEURVEURVEURVEURVEU5QrgCWV94i5S+XncNHZjS97E6+79a075\n",
       "009/I+pW1nBzM8tKiLoHX+Pm0qE0v0ErAEDU2Ew3Fafns4C/rXyG3sf169dZ3Tdf043xxsJmW6uL\n",
       "dLO5SIzfjMnnpxtU/fSv/8Ypp4wNUU1irk3Ak6kCqyuX6cZ177zDb37ZbNDNQyvlJqv78CO6WfvW\n",
       "tZtO2S9stAUA8OrVK6ecSvGb+AEAlMu4yfDS4qqoa7dw06xWU97YtdvEDdOMPfcgGpY3tbSNjbt6\n",
       "Nfm3z6kHN6Wb2PKmqvE0btaVzFy2ITpuyBU2Nop89Uze7D5s4X202/wzAwBYWcO+eHokbyI3HeGG\n",
       "i0NpF0UAmFvCTdbefutb5LOvv3rEHpPP0z66vcVv8Nvt040KRxP+/u/dRZvh88l9bzzCTegO98ui\n",
       "rnyBm8TbE7qZ7HyBH4cvX7wg9USCt13zc3TcjUa87ZrNglQ34Z9BJk837huNcHM4jyVvsLqxhhsn\n",
       "/5sfy5sR20O0L2+8c4vVfPnNL+kxXn4MTLp0E8DVwrZTzqVk3/Hg4adOeWVN3uB6Zmxwf16+EHUX\n",
       "hm2JRWQfM5/OGzrcUNIfljehffT8oVMuLMobJ183NveejuRNGktHuJnjd975lqgLB3ED08MSblAZ\n",
       "uGQjQfDhfbw27LKbVBzP3e/Lm0u3+thHe0PZXubm0Q7Wqgfks1iAt8dJV/+IJvgNufdPjkh9MuN9\n",
       "wsSmz9DvD7K6TpvayLHNbzw5l8Prc2+6WTrjN0vs1Og4Scb4zRztKbUReWlz6UGD1KUNL22b2rSJ\n",
       "sfFvOiNvAAmAx/kD/IaeAADRKD7DpF/28baxWbLllfvp0SH2Z9uDx6yu8xvXAgCMJ3h99kzeWHfQ\n",
       "xmfQqvObmQIAlE9wk+bxkN9gHADAb2w6GothO8Tj8kadpi2Yy8ib0H7vuzj+Q0HZz0ViaKtyxbyo\n",
       "mxmb3f/4//hz8lm/y29K/dNP/idS91m8Pb44x3OHwvzYAgAImvt8T+Q+dXSKdtAK0fNdv32XPWZv\n",
       "j25CHY3ym7dn07SPTib8JsN7L6lt8dp8HH/n1tukvjJ3g9Vtb62T+sIc2rQ7t7bdcgczvksk5PH1\n",
       "r/63v3TKX335NavxBegmuYkk30Zbrmu9uECbFgnIfs47xbH3nQ9k/5VN473H43K86fNiHwnKwxpC\n",
       "xoc+H5YHl2wgPzPGbncozyWqZYxDv3n8qajbP3yKuifyRthxY1P2iNH+1TrvNwAAvBa2Q73TEnVp\n",
       "Y+N0yR8AAEyNgejz8ZuhAwBMW+gPC3NF8tmTfX7T93ScxgJerzzOTTqtNvv3mGv+bHn4juAexpGI\n",
       "EVsIG77n56m9fPGK38Q7nqDjxArw53PbnFGfj/fHY9rnO1PeBsWjYVJPpXDsNer85vQAAK0W9pE5\n",
       "13MzCRjPvlKR55tDG23wyemBqIvH8P5Xl1ac8mwsx7yzKfpXy5L7SruFcfy4LxuDSBRji4DL3pnU\n",
       "6+jzzks4f5jN5Fg2ZsShoSBvOwEAhh1jTumVz1ero21vteT5m9mv0kk6hylkeZ9w7w71k18/523S\n",
       "dIbt9fGHz1gNAMDaGvaj0YQfqwAAnSbeRyRIr2025GODwZDatEyB97W37q2QejTF94OyMScCAJgI\n",
       "c65OnY7PQRf9RScox3D2GOPIfEbuB/0G9tkbm/x7rbCH9vmFHP9Oby5HbdX5BT83G3apXXj3zptO\n",
       "OWPJ8+4Pf/Yzp5xIy+OrNcS2fPioJOqaI2yjO/f4dwkAAOkctvPIMItffP5YPGY4wOeUiMnt7zVe\n",
       "ZR+25T7r86H/n4xku5oz3uOtb+G7nb5PnkvM0njMxSXzaX8f44J2uyHqwhG0aV6PHLdEoqiz/LT/\n",
       "9/t8WwxHdP4bsPh592xCz5dP8/MYn4f6yXaTj10W5rDPX5Tp2M3l+WsI56iNODk6ZXVem9rfeplv\n",
       "29GI+uDRkPfJwSC1YeEw+uhkVH6/bM4zprYcl5aMd/e9gfx8R8a8dNDnrxUAIJ3EMR8G3r/qSh9F\n",
       "URRFURRFURRFURRFURRFUZQrgP7ooyiKoiiKoiiKoiiKoiiKoiiKcgWwbt5YFj/sD3A5qrx4HGDv\n",
       "5a5THg3k5fsPv8I0BH/2X/63ou6Lz3Bp6nQsL2WaW8RlZrEQXRp9enDklgMAwPnBa1LvtPjlffkF\n",
       "uuxyJqSLcy8pTqT4FCqnZbo08t47bznleJJfhvnkyVNSl5bwH+zR9FOnx3xagq3tO6Q+nfDLoWNh\n",
       "usSu28JnOhrLyybDIVzulorzS3YBAO7ewXs/OZaXjO7vvXTKli8s6haKuAy4eoHn63XkZZMe43FO\n",
       "J/IyPTP9mRWU++LhK1ymmC7IaXRu3ccl+/0h9r3VtSXxmOePcXxtbclpb1JpXM53/+49UffTv/o3\n",
       "WBnLKWcGRtq8bvuYfPZP//s33fLfnvvffUzqD77hn+/r3XNSLy7wqWq6HVySncnLqSk6RjqAXOqm\n",
       "qFvfwHRzB/v79EMhNcW2KwVkLManDeu26XLeXo9fBlyp0dQK0vLe3X1qq3J5XHLfH8op7CJRXK5d\n",
       "b8rLl791/3tO+ckX/PLq61s0xU+re87qZjHa583UWcm4PHZv38e2LZXORJ1vYKSFmMkpP28Z6QRb\n",
       "dTk1Sp+ky8JrLabllEkfvPeOU/ZcksWkUUYbWcjyKQMBAN64+YZTXl6Q01w+fYp+oHyGfWcMsj0a\n",
       "zPAaYgE5dUG3jW0ZiMhL5wNGGrJ2R16ufGiM6+VVmp7QJ1xuo05TXZQq/HObudzVeMafcHGZpll8\n",
       "+XKH1aVStF26fT52uajiWEu7Ui5ls3zbjvp0nGQKvI/pd2lc0e7zaVe8Aer7PT6+A/otaiOHHbRB\n",
       "EyGNJADAeGLopvL/ArXamCZlEJDH4fkZplBJCvENAECtijHm8jKOgZOTE04OAAA+L95jNs+nxwAA\n",
       "iMZQNxnJadvCRooYyyv3bTNNz2yGusFATqVaa2J7FXN82l0AgGYT2yFalO+p20UfkxnL43pi2IZn\n",
       "z5+Qz9oNPrXUD3/0n5P651+8YHWLKxjDnJzw/gAA4PjASOO7tCLqfB48XzhI/Uirzfu57evUXobC\n",
       "fGycTNE49OyETwvx1rvXSH3Y588XDrv6kc3PC2au/FNmqtfRSE4TbPaxqTDnAAAolTCuCsf4FGwz\n",
       "l32U5g+Wy2Z4jJRa6fQlvqOB/d6eyQ7RTHXhTpdhEvCj3QkHZBvU66Bv8xmpvKbyECdtWavJ84KW\n",
       "cW6P95J0wkZq4L/3+39f1H302UfsucMp2dc2jZRui8vroi7lx7jq5EhOw1WpoA2S0iACAIxaaFvi\n",
       "SdqnvD6+cSOuVMfDER/ztlrUr+WLfBqXiws63ltNfqzM5WhcelpCm5Zb5GO4Roumxt66wad2f/To\n",
       "IakXl/iUad0Bjffrdb5fbWzQFNfBCe9jKhd0rtTp4PUG/HIKpnQSY5LxUPbJ/TGmj+m0ZRu0vIlz\n",
       "0cUFeX74/Ammxxv3cbx223L6o2atbejk9Ed5I7X1XEG2Ba/3cF7a68oGwJw7LcyhrW925DlHMIRx\n",
       "6fyCnDpu13CTfp+su37ztlNuNOT0bp6ZYauqdDxYFh9Htjs0NVA2zc8nXu3ie7F0Wk5/PRphH11Z\n",
       "4lO0AwBMC8a8wBXHT0P8c1vL0/l5Z8D75KFN09AGhFR8iQydX1bP+H6Vz9L4q2thfzncP2SPAQDY\n",
       "vIbvSIMBuY+NjbRa9Qb/3sMbo/OHLx48ZHXZBPW7OS+f1m951ZWy8iHO4/eeyjF0r25sWyDYIwCA\n",
       "gY0+sDeW+3bPuK8Pv+FT/wMAgB9t2syDbblY3OLUAABw+BJ9x+4lqd37xhiIZmU/t7yBtsVMv+qm\n",
       "2sbYdmS8/7I9cvwQt9F2Nk7l9pr6cFxnM3IKXcuLz2k2lZ/TsIe6iyYdh1vX+HR7tSqdZx8evWR1\n",
       "4SCNoT1j3r57XPPLi3M+dn/1bN8p37xFbYvXw7fZ/h59FxYUUoZ7XKkdOxe8nY2EXPcEvH8t5ul7\n",
       "WXNrgYhHfv/iN/x1vSL32ayRIm4hK8+TTXu8++pY1HWNWM+K8/NNXemjKIqiKIqiKIqiKIqiKIqi\n",
       "KIpyBdAffRRFURRFURRFURRFURRFURRFUa4A+qOPoiiKoiiKoiiKoiiKoiiKoijKFUB/9FEURVEU\n",
       "RVEURVEURVEURVEURbkC6I8+iqIoiqIoiqIoiqIoiqIoiqIoVwDPf/FPb9jSh5PJxCnv7u6JJ4lE\n",
       "Ik759t3bos6y8DemWrMi6oKhgFMeTfqi7o1795yy3+uj5/AH3HIAAPjsi89JPT2fYXWtYZfUQ5Eg\n",
       "qxvXx6TuC4ZY3UWtTurdPt7XZDxjj8mnc6Q+G4xY3XQ8IfVQgj/fYnGD1M9PW6yuWumQ+tHhmVP2\n",
       "+vhzAwBkcwmnPJkORN3pKd57NpMTdR7wO+VWoyHqqmXsS9c2V51yIsI/CwCAwbDnlK1pQtQd7pec\n",
       "sg1DUTccYj+Yzfi+BwAQy2O7bNzKOuWz8wknBwCAehnPl87VRZ3Xh0O5tB8XdR/8zrJTfvbgXNT1\n",
       "+k2nHI3Tvvdn/9V/xh7zy198TOrJ+Dyr83nDpL63x9uXXA7Hp/nM3Cws4PeclaqiLh7BdvG7bES7\n",
       "1XXLf3sNmTyp9zodVlet0u+VbNBoSv8+sfn7WlxYIvX9Q3xWR8c77DEAAP/wH37PKVfK/LUCAHz6\n",
       "EZ5jPZ5iNX/8j79P6v/7j/8XVheLr5C67Yk65b4tX8PqesEpn5yciDrfFMfHxtqGqOv2sJ9ObNlW\n",
       "TW0839SLulgsJh4DgOOre0m79kdoC2xbdK9w/86bTnkhPyfqfvKTnzjlO/ffcMqvj/flK7XQzgS8\n",
       "/LMFAPBO8fpOy69FnT+EtrTenIq6bAa/q90+IJ+lkkn2mPMKHTfhJG+7xl5qI4Mxi9VFotRXD/q8\n",
       "35ybo7apXq2xutEI+8e4T6/B5+GvIRSivqc4l2d1lfIFqUv9pdakNmI45H1RIEBtSzqNbZ5MyT4h\n",
       "GMTjBkO5b9dq6Gvz0YKoa7Uwtjg+lX1MNovtMujjuAmFIpwcAAAWimgXpXYAAAhaeI7pyCfqBm1s\n",
       "835H7tu9DsYtPh+eLxKRbcbK8ppTfuvuW6Iuk8Bnc/vWdVFnPt9MgY9dAQCiSex/f/6v/iX57NHD\n",
       "z9hj7Awdh9E0H/OWa2WnPB7K7dqt4bjpNOTntLx+zSmflErks4O9klsOAACDAR0Pv/OD77K6g8Nd\n",
       "Us+keVt4vE+/J5daZXX5FPXJd66/y+p8HtqPtq7h+e7cuuaWO5gxRCQux6X/7J/9C6c8HPM2Y2ZT\n",
       "uzdf5G3Q8vIiqR8doR++vnlDvIZWte2U11fXRN2iEZvF4/L4MuN1eybHwwE/9rluD/tBNCmPh94Q\n",
       "++LpxYWoK50fOuVf/OKnos4c8sdnu6IubsyJqm2M3QfA+yQAgFgKT147kW2x3UV7lErLfcWXQJtx\n",
       "cnIs6oJjfDYffPAB+eyXn37slgMAQCgWJfVwxM/qPF4ai4VCfGw8HtP+MRvz/5d6euKK8W30w9k8\n",
       "P8aDIXptsxnfFyNx6nt6PT4+b7ToXGxza5vVuePaeIofhyuucdhv4/yr3ZLnv/EIPoP91/LzbbYx\n",
       "JrR8vG0HAPBaOL5WV9ZFHRixytE+xo4BPx8TAQBEjPcjtao8T7ONuDQWC4u6why+P0ik5JjBBuNZ\n",
       "e/D+prb8f8/nZxjr7O8fibpYGuOg0VC2W30jDk2nsqKuXsfnPhrS919Bi/e30ynty/4Abwvn5tNO\n",
       "+fjkgNUAAEyGeK2RUFTU1SpoS7e36Byw1eLt7NbbC6SeTqdZXadH5+Olcz4+Pz+mY2PU55/BPVdc\n",
       "dXy075Q9ltzHojG0Vc22HMuurhWdckR4D5iIUNv08vE+q4tHqD0/2+ffg06ntO06PYyh5+fl91A7\n",
       "e/ge1CvMYQAApjZehzmnd2P78dm8+94dUTeeYRxYrqBdffWcj/MAAMIhvIbxtCnqEgm0Gekc36cA\n",
       "AGYenBPllpdE3XkF34+kUvg8B50xJwcAgLIxn7u2XRR11RbavkRM9t3TEY5rWw4ZyLxgMKDvXtvt\n",
       "tlsOAAC5OTp/e7XDxzEBiz73gJfvBwv5ZVJ/9fwFq1texncd/gCNC4IhD3vMYEyfu2fKx7y5OL2n\n",
       "2YB/B7S/f0jqN+/eY3VDm9rVegfntb1L4sj5ebwOv+xqoV7HfrC1Jc/7Hnz1xCkn4vI7c78f++nY\n",
       "w8c3utJHURRFURRFURRFURRFURRFURTlCqA/+iiKoiiKoiiKoiiKoiiKoiiKolwB9EcfRVEURVEU\n",
       "RVEURVEURVEURVGUK4D+6KMoiqIoiqIoiqIoiqIoiqIoinIF0B99FEVRFEVRFEVRFEVRFEVRFEVR\n",
       "rgBWMNkTP4x7I075ZnhN1Hkh4JTPTg9F3btvv+mU5wthUdftNZ1yqyPKYHEu75TPSxXy2VePHrLH\n",
       "1DotUp82PKwumomSerVVYXWNyoTUbZu/1mQiTeq5LNbHwzF7TKveJPVht8vqwv4AqTe7/DMd9U9J\n",
       "vXLON+5s6qfHDfAe4/GIW+4wMW7D4/WLOns0NQ4KiLrJFE/o98vnC0fws0wG2/X0eF88ZjrBe5pN\n",
       "W6Ku1cU2WllaFHWZdMopv9p5LeqqFyOn/O3vbTnlRu25eMwsg52qOxiKumg445Sv314Qdbv7T5zy\n",
       "rXvfEnVfffbIKU8mtK/8n//6C/aYd999n9T3Xr9gdc3mEanPGWPZZDrF55RNZFgNAMB0gOUb1zZF\n",
       "3Vdf4j3t7pyTz7a2t9ljDvaekvrxcZnV/e4P3yH1mc2P64g3SepnpQare73/ktQ7bXz20VCMPQYA\n",
       "4OljbNvhsC/qYsmZU/7h999nNQ++fELq33v/77G60yq9h/2LklOuDariNaQmeB/X7t4Qdd4O2sLd\n",
       "53yfAgDY3rrplAPhoKgrt/AZTr34vw8ee8LJAQCg38VOdn3tuqi7qOC5I3H5OU2GaAv8liXqohG0\n",
       "uR/96tdOef4Se3R0cuKU46GBqGs3cFx7LN4XAgD0KnWn3OmNRJ3pBNbWrpGPXh/ssId4LBoL1Oq8\n",
       "Xyqu0fvtjZuszgYfqYdCUVbX61BbOuzxttUcd2BTf+X18v2l26M2Ipni/WYk6br3Wo3VBQIhUp9M\n",
       "ZqxuOKDX4/PiccdHF+wxAACJKPbT6ZS3WwAA4RD6OZ9fHl+RRNwpr4Z8os58VuZYadT4ZwsAEIxi\n",
       "P00I7QoA0K4bPn7GtxcAgG3j+O/35XjY9EVmPBIKhTj5f0Kzzdt5AIBsOoG6pnzvmVzWKVtBOXby\n",
       "B/CzN9+ifmkwbLPHHDb3Sb1UfsnqxjYe7/XI7V8ozjnlbvdE1F2UMS6tuZ6738P3sVCSfu/Tx89Y\n",
       "XbVB+3w8mmJ1v/97f0i/d8br9nfo+XptPiafn6fxTLGAbXFZX4zHcdy0u7LdHk3xHDPhf/dsm9rz\n",
       "eCzJ6nw+n1iPROTnOzVsjQ1TURcK41hJJWR/OJugX/F65f9HNK8vGET72e/LsU6jhZ+dn5+Lul//\n",
       "8udOuVDIirpG6wyvVVQBBCxj3jLDOD4UlP19u41jIByX58mTGbb5sxdyTOSLoi3Y2FyTv/cM2+XV\n",
       "y8fks2Ix7ZYDAMDD53uk/t7777C683M691xc5q9jZ4eebzziJ9QXtTqpLy4sO+Wo0Gfd/eOtt95k\n",
       "dS936FwsGuKfQW9Ax/5gwPuOYrFI6rMpH2edHtJ3J90O+gt59gvQqWNbDPuyzZjLoU3qCLEOAMDi\n",
       "Mvb748MDURcLoS7gzTnlfk2OH/ZPcK5tj3kbCwDQaeE5JiBfa6+375RHY/l7zWEYieOIzRflls3m\n",
       "8bNEUo519naPUZeQ76lew3u3LvGbFXM+6KG+wuPhx4NlURvu6fB98fp1fOcgzU8BAHptjMEP9s5E\n",
       "XSqGduHrz+lc8bvf3XLLAQCgVqbv0k6O+PclvgB9NpkMP98Jh+l9hLx8vLn3io6vkBE/nR/KsfHi\n",
       "Co7f6xtviLqpB/1hv88/p9evqB08P+Gf085zeq1rGX4OE4jTtmwZc6KlFN/+AAD9IZ6vkHxL1JUu\n",
       "MG5bvy77ov0S3se//bcPRJ3Xh8906kFblUjJc4TeFMd/xF8QdWfHOFZencovjheW0A+Ue49E3Vwe\n",
       "fbR/hPHbeMo/CwCA+UWc8x5W5PeKq4ZPqF7wMSQAQLeGvqJ2iW6xiPOH+cUc+Wxm77nlAACQSNCY\n",
       "7fr1m6zu7ISOjYXCEqs7NOwgAIAU5vq8xrg7o/OCmc2/W8gmaZsX8nw/aLneHUSC/Nzs5k36/ubw\n",
       "gLdB1abrGfrQdySCcp8NhvAep2M5Ll024paTwyNRt7a25pT9fnkcmr+DBBJ8ZKorfRRFURRFURRF\n",
       "URRFURRFURRFUa4A+qOPoiiKoiiKoiiKoiiKoiiKoijKFcDKLPBplQBoOhvPVE5JMD+Hy3xvRDdE\n",
       "3Rt37znlD3/xt6IuGMSlXBvba6LuxR4ugXz4DV1a6hOWdY2ApsTo9vj7uqjRpVYBP78cv9OhS+7C\n",
       "YT59gWXR7+13cclXr80v8WzUaDqQ1dVlVheO0Hs1l+aanJ9VXTp+KZ3XtZjcb6RTiF2S3i2bx6W+\n",
       "na6cysQzxe9t1i/ReXH54Wgsp12x7ZlRxmW1HpDTn7SbeL5Yik9dAACweR2XMu482RV1tSougfxH\n",
       "/+gfiLq/+IufOOXf/C322bvvzXFyAAAotXB5Zrgrp3QKBHBpeWpBbq/aK/yt9+nLp6Iuk8dlos0m\n",
       "TQnTavJLFksl2sekdCpjVxqdyZBPk+TzmuNTvqdWE5egz4Zyepyb19A+XRzTVErVEz61ks+VPjEV\n",
       "5W3L1199Serra3yKvYsSXQa7dX2F1dkeOo7bYezbr3fklGm5OPbZtl9etv7GfdQ93vuK1ew9p0v7\n",
       "ZzM+NUUsT9tk6z6m2Iu05PRHVSM1ReCSFGebK/NOeWks5NAEmo7x9JWc8mR5C8eRZ4p2ZtyVl+J2\n",
       "S7jUN7UpL/EOBdF+Nlp1UZdJYyqf33z0S1EX9GObLy7gsubzipx2wUwH5rPk1DtB41qPT+Q+Nb+E\n",
       "y9EjcTndhs+D33V8QNPoXJT4tr1+my4X75ZPWV29Qn3FcMafr992/V1YZ17IzpN6t8Wnu+h18PhE\n",
       "Mk4+M1PxmCSSNA4ozBdZ3VcP6biTUj/ZAzruLB+fbsTrOr7fwXtq1+XUL/022l8hgwgAAKRSmEZg\n",
       "NpbTDYRj2K/8l6QhG0/xy8yscsXFeUb9W5pttNNzBdl3Ly6iT63XLklxaGOfLZfk8er1SvZJjo3b\n",
       "RlrK4zM5xdnWtXWn3B/K12piC7YYAKBtpB2rNeg9lcp8etKJTe/DO+XTCFge/N565ZLUFDZ+z3yB\n",
       "Ty0GALC0gikx/tc//3/JZ8vL/PxkxZXq8dTlU/+O7/3gd0k9EODHzfMndBxmY2usrtGg92svrLK6\n",
       "XJamBguHMW7uXuJjssZxr3afiDqfkT45EOCfkzslr5k6zmQ6dfsH7Ac+65L/CzRSDwUvSVdmG+Pr\n",
       "shRsASO9aDAgp84wbW7USAkZvCTtRXeMc47jS9I+541+WqvK4xVsHKMZwya66bUxZpgM8N5zBTne\n",
       "rx9jvN/uyj5+OYM+ZW5RnsefNbC92l3Zd7/97ntO+cUTmqLHZ/HjZnmJzvcffs2nqZ6fp/b8s0/4\n",
       "tDrutKWVMm+PYzHqX7vGu4rKOX9M3JVq95uvHws62o8uynxq9/GYzlkmQiq6o0OaOmb2n4y333Lv\n",
       "zm1SjwVNO8vbbACAXAZtRigkp+xqtfDZX5Yu/egQ46xshk/lAwBQq2K8uLqK/S8akv1SPI5zoqN9\n",
       "Ps4DABgP0J60u/L8od027dMltspGe9Js4Dyy15fbq3Ju3Id9yXsPI9aplC6Zl2VwPn1xUhJ13TbO\n",
       "tUcTen1vvXXPLQcAgE6Xzs+HQqq7n/31v3fKW1ty+i/Lg/e0tiL3gVEf/eFb9+m1tRr8fH1Yo31P\n",
       "ms5du0Fju36PH9eeGY2Xhj2+/w261LYEE2i3E3G5z05G2HeqZTk2e7WH74cCfr6/HO/T556M5Fjd\n",
       "uiv95bXbfPzUndF4ZHsJ01ZVqnIsu/ltTGX/0c8/FHWRINrMr3fktN6JED7Twpwck2fSaCdaRtrs\n",
       "vX05tZVlvAf0F+WUabkiPt+VrDznMKdI08GaqAtP8b1Mt4XxZWFFjmEghD7h9KlsC37zIeqWF+R3\n",
       "5l5AO3hJiAX1KrZLuUzbcmmNfx6lU9qXZz7+vpaWaSq1QYdPDz03T9/19aP8M2gbaUtTcRo7BYMR\n",
       "9dcHAAAgAElEQVR8nOF+R/78KZ+ObeKak773Hp+6MDfnSoEX4Mf/eoBuFfHsOaaob3Vk/zUY41YU\n",
       "N27I2xZUKhhb2D7Zf7UG+HzzCfnd0xDwmQZ8/LtXXemjKIqiKIqiKIqiKIqiKIqiKIpyBdAffRRF\n",
       "URRFURRFURRFURRFURRFUa4A+qOPoiiKoiiKoiiKoiiKoiiKoijKFUB/9FEURVEURVEURVEURVEU\n",
       "RVEURbkCWJWOvDlX2NhUKVGQd5Ea2rix0+rWLVH3+Clu3pjNyhvSR8O4uVNl0BB1jTZee8G1oeRg\n",
       "xG+uO27Szdr9Fr+hYS5GN3PsCBtyZ9J0k6xsht9QczamG0UNJrg52cUFv9n68toyPYef32zqpEo3\n",
       "zE76+A1bfR76G19Q2GB54mq7XB43hOr35Y17mw3cka/dvWTDtQxucjWx5Y0UPV78rNuX++ma0U4N\n",
       "Y9PSs1N5I7XBANu/0Zc3yRx28LNb6/wmigAAhQI+m//rxz8WdT/43h865Z/+7OdOORKSN64NTXHD\n",
       "u2ad30QNAGBqbMRse+SNCf0+3JixP9sVdfEMbh5oT+kmo/3BAXvM85dfknqhwG86trxCx0mryY9z\n",
       "c/PLRDTGagAA2sZGgp2a3PfWtnHz25083Vz98SP+nopLdCPLlSJvu8JROm62t1dY3doitTkvXj1g\n",
       "db//B98iddsYK7GAvMnw+TH2+5VNfjM3AICtTbRdFyf8GFjccG32OeVtRt+mNmgEuPGex5J3hrc8\n",
       "6Fd6Hdm2PHj1DC+hLW+c/qNv/8Ap37wt+6Ldg5dOORTA57E4L29auv4++pgxyPbo5c4rp9xs8JsA\n",
       "AwDYMzxHJCJvPGnbeH39CR6zmeL7FwBA29i4un3JNYwn+JxMm+imWkW/ubolb9QJxibFgxb1N9ub\n",
       "m241AAB0WnSTxmiI91/mhuAAALEQb1sCFrWltrBx8uGrQ/q9CX6s+C3cSPjitEk+s4L8/83U69QG\n",
       "nZV4Hx8I0jij1eLtu9/1/zn2RNistk83l65WcAPSbJrfNBYAwOvF8w+H8mbfJ8fYl6IJeTPooNFM\n",
       "kQS/OScAQDCMbTsY4bW7N/Q2WTY2LbdB7rMdI1a57Hy+gHwfJraNdmw0wg0zx8Kmyb89Bvv2KCm3\n",
       "a9PY8D0altvL50d7ORzLNsiMsTI5uhFrJsf3g2GdbgAbtnm7/fARxgw+W95k+/79m3ju0bmoC/ix\n",
       "s7z77k3ymdQWEddm6+DJsrqXr+hm7WVhk/dUjPr0bu2Q1W0u3SH1YrHI6gaueLXfx01yc3l+U2YA\n",
       "gLQxnzg/lzf79nqxH4zH/BiIx+gmueFwmNV1ujT2mkxwHE6nct8eDPCeLhuHjSbajGx6XtTNDN/W\n",
       "bsubJUei2CdsG6/V45WvoVLFtryoye067aGfG18yvgBwLHt98veOhyO2XK/Ic5N8BvvyAOT5rznv\n",
       "jqUSos5n9L1yTd7ce+81xpRLazTu+/jrj9ljwtEFUp+fW2Z1B66NukfDCavL5Og43tgssLrDQzo+\n",
       "Y3HsE+0mv4F8NEznD8M+b4+7rk2jewPhfEl6vnqlyepiERpXBLy8LyqdHJP66jK27ebbcqw3HOAY\n",
       "rdbk+WEwaPRnr+xjSsY5vnn0VNRZxjnOTjG+ubG9Lh4z3sN+f3Ioj8NEbM4p11ty/Nps4rUG/Xzc\n",
       "CAAQj+MzsCyMtQtZ2fdHYxGnPJ1e4rsNezKfkWOsgB99ZTArt3/Ej5/FU7SP2TPe1iTjVDf28v0g\n",
       "Fsd+9PSbl6wGAGBtddUpb64viLqghXHG80cvyGeDLu87VjepD5gTfOjpMX03EYvxNq5ddo27Md+2\n",
       "iUiE1AddtPVtT80td9i6945T7g95WwAAkC/i87W8/PvS1WU6Jz3Z5TeDXypmSD2V4/3h7XVqH3dP\n",
       "0Ibv7fLvMwAAlgto38N+eX6eNuLz/VcDUWdlsM2nUVn3ooLvgC0vPg8L5PGwsbKGupDsD2NxbCP/\n",
       "QPaHe0f4rCujY1H37o+uO+XCPF7DRPAHAACtOt77/Q05Nv6V+c7XI9uW3DzOy3yW/F7LYzzCjCvG\n",
       "evpshz3m1u03Sb3ae87qlhbp+Oy1edtSqdLY4sbmDVY36GIb+S363A8O+D67PH+N1HNZPi6oNul7\n",
       "sXqPb7OcReOMVI6PyU2/BgCQyaIfufOmHMsmkxjHN3t8XAAAcFFD35bIy+/qZsb8v9yU/eHyFsZf\n",
       "nQ7fT3Wlj6IoiqIoiqIoiqIoiqIoiqIoyhVAf/RRFEVRFEVRFEVRFEVRFEVRFEW5AuiPPoqiKIqi\n",
       "KIqiKIqiKIqiKIqiKFcA/dFHURRFURRFURRFURRFURRFURTlCqA/+iiKoiiKoiiKoiiKoiiKoiiK\n",
       "olwBrGTAFj9MR8NO2TcLiLqVxQ2n/PmHj0VdKjfnlEu1mqibQN0p+6cdUddqtZyy5fOTz7rGZyae\n",
       "Gb3femfK6jK5AqmHkgVWB7MuqXo9QVZ2WiqTerWC95VKLbPHtOtDUk8mPKzO7gzod/XHrG7Q7ZF6\n",
       "NJBiddlElJ7frjrlRIE/NwDA4dGJU959MRF1cR8+32QqKeq6I7zeSJJvVwCA0Rjv//Ts2CnbNt9e\n",
       "AAAw9TnFRDgtyvpevIaDygtRd3SB3xUNZEXd51/9xiln8vj3xw/PxWOKW5t4TKYp6kJhbPNpXx6v\n",
       "0+mBU06lEqJuNMa+PfNXyWfba3yf3T94ReqW8LNyKkmf++baJqv7+c9+7pQ3VnkNAEA+j+PzxvqG\n",
       "qBtN0O780Z/eI59dv2exx0yNvgIAUK90Wd3G6jVS39/fZ3Ud1yOcn+efwUcf/i2pFxcXnPK1m0vs\n",
       "MQAA/ugZfteoIup+/SHapFCCH4ehELUt3foZq4uGQ6Reafad8thlm03CqYxTfuv2HVE3ajWc8v7+\n",
       "oajbPzp1ypOx7NuK89edsmXKfLLNOG1jWx7s7Yq6/hRtZDAjj6/jCp7PHokyaJSxw0wNs2pZIUb9\n",
       "H3VjtJedgXxPMw/aqrBXtsXDOl6gNYiLunoP+4c/RHXN1tAtBwCAqMvfWF6+MTwB6lManTKrK6yu\n",
       "kvreqwNWF09Rn16ul/jrC2O7+FwmIhTg/dJ4Su+1UuLjnfX1NVL/4uwrVhfwUxs0HPJtFArSNq9V\n",
       "0VaNJzP2GACAUBgN9RT45wQA4PXj944GogzCYYwt+j1Z1+rhh4Eg9tOFRdmHttv43KdD3mYDAGxt\n",
       "oo0sTeWLqJYwVsxk86Ku28W2nIxwjLe7fKwJAJCIo32LWbJPbpXRvhXiOVEXNcbUdCzHWI0K+uuF\n",
       "LO3n8QA/zn15an+bQ97OxpI7TjnoXRGvodvDvuK9pE8dv0abnUo0yGfxGO/zvTMaWIz9fVZnpamN\n",
       "XFm7zuq6dRrPjPjTQSRNx3vIx4//gDdM6rYX+/bYI89p+jY+m8Pjhqizx9iXZlPetkxt+pytAN//\n",
       "ehUa00cMe1e+kK8hHkffNhwKDQYAC0UcA0OQdbMR2rhilp+bAABUL9pOOZHDc1c7F+IxkagxbmZy\n",
       "+7dnaNRCMTluaZTQV9iXjMNwOOaUfTPsK62m3A5ho+/Mp/n+CgAws9EeVcvyc/L28T684BN1Byfo\n",
       "J8+rJ+SzrZW32GO+2aFxUKvDt4UNEVKfCfagUm7TP8z468275g8TwwZfW+ZtRrNJA+9SiY8fIhF6\n",
       "rRvbwnzCQ8fN8SlvLz1BaqusPD8Otzbp/OH8GJ/B8eGOW+5wffuuUz49PRV1tSb6wPkF2W73m9iv\n",
       "Au6Ax2Btdd0pf/P1E6f86cevODkAAOQy6Isy6WuibjjE/tGRuzbMF4pO+eTkRNSVTvGdw1wRj+lb\n",
       "si349HOMxYKBiKhLZ/D5jgdyjOUxXjXls3KsHQ9in5/1aNySyvJx0d4+jXGDIT44G3Xxeb536x6r\n",
       "AQA4P0db2i3L84y9Ml5fdoHGDy+OfsUeYy3Sd26e7DyrKyYWSf3VU368+v1zpD7z8O/0tm7RPn98\n",
       "jO8qcym5L8aNkHApzV8rAED7E2zzg5dVVrO6TH3KB793m9VNbPqOYTDl+9WvfvMNqU8n6G/O9sRL\n",
       "hcAA+0GzKfva83Ocowbyl/jDBl5faCifr1bHyXYig+Vb9+V4v95C21c5kv1mPrftlP0B+b3Hxl3s\n",
       "L+/lt0Td+Q6+kzt6itd645bsk/sDPGYgxGUAAD/8B9iW9kSeP2Ti2C5f/Eoeh6M+xhajIZ3vf/tb\n",
       "b7PHDMfUf60l+DHQqlK/GY/x1zGI01i40+Pvq3SCsdNicYF8Nh7y9vikQm17KMzHBdk5Otex/Lwt\n",
       "+PLLL6nOx59vNKBttHXNeG805c8NAGBP0H/5Q7JPiGYwLj0+k/tByMJ3JJ2OrPPMcM41hiir0ZU+\n",
       "iqIoiqIoiqIoiqIoiqIoiqIoVwD90UdRFEVRFEVRFEVRFEVRFEVRFOUKYE26crqu5etrTrnTkdNj\n",
       "vD5+7ZRPy8ei7sHTR045kZFTWGRyuITy8OhI1Jm/WC0v0/QMfiH9SaNaJ/VYgk9VEw7TpWrPX/Kp\n",
       "vaJButSt3eTbMxCgS628Rtqw6Ux4BjO6fMxc8mwSCtGlx+UKv6zQ76HLyptNfpnYXJ6mO/NYeP7e\n",
       "QE7T4TGW4i/NZ0TdcgGXLOYKc6Ku3sbr64zktGZ+L/aEcMhIpzSWl9/NRviZ3y8vW/Va2D+8Xjk1\n",
       "QreBz7Pfk8eUbSzdvnX3plN+9IJP6wMA4AljX15cXBR1tTouyV5YkJfLrq5hP+i25XG9WFxzyq9f\n",
       "03HoETJGJeMxUl9d5a/38aOnpJ5N8v3lv/mv/zun/OFH/HJxAIDjE1zLnM1ui7rnr5475aYrz1oq\n",
       "zbfZzRtvknotwY8b13CFkxPedsVTN0n99JxPK7XtWkZcqeHzffLqU/YYADqmInE5LYHfj+NmJNig\n",
       "nCv11nTI95fsHB3HH371tVO+duOGeA1xY+y9fiKPgWdGGpHVVTl9X6ePy4OnUzm9W72Nzz4axnQq\n",
       "iZDcXp89xHuKBuVUTWMPfu+ww6cCBAAYTYwOM5aXAK8ZY2hs+LWTEz7VHgDAeITt4LXlJfHlMva9\n",
       "ZkNOAxc22ujoRPYBYw/ebzJLfWggwtvZTo+Ow8MzfjzEXSk+kyl++fLJAV3aHwrw6TvNtF4AAF4v\n",
       "f/9BI91Op0uXn4eE/JV9V5qbis3bjOU5evygxfeD1pA+63CIv/dSm8Y3XsM3ngntCgBQLGIOi8v8\n",
       "oW2jnQhZcspVs5/GEvy1/lZo2J0+tlntXE7P8J0P3nPKlZKcFvXhw4dOOeCVU7im03jvrarsu9tt\n",
       "fDaxGPq5lpBKGABgZuM91ZtyDLNsZOucXpI2YDbDaxgPZV00hs/GF6Y+2Z2y4O84fPWa1NOL/Hh4\n",
       "9/Ytp9zvyv83NjVypIXDQnpkAHj5DJ9hNELTYeZXwm45AADs7dJ0Dz6vEBu70qxFvUKKM1danrRg\n",
       "M0I29Q+BIH//6QydVwQCRoqtS/7VrmvMs87OLrHvRkqxgZBnMe6haVY6HT51RsCi473TMn2o3Mcs\n",
       "C1PERKPyGPcYwaLpR9x4jes4PJRz0xTyONdrtzEdWFTwBwAA/QHaIzMtnRtfBPtRvSK3fyCO11qv\n",
       "yimi6g18Nj3jmc1A9rXnZ5gaaH5pQdTZxgy41ZJzbcZSeI6jA3k+nc3iPYVdtr3S4G2X2QcAAE6P\n",
       "+TYLuWyQmGbOlX690+Bjl7Qrrq0Y8/peVprT0IEXDvP9xUwVDQDw8METVucP0GdYLPI2LhKjfb7V\n",
       "4OfnP/3Jr0l9xXj2+bw8T/7ya0xTFU/IdnY6wTEwHMhGqN1G/xCOyGnIfv2rT/DcU2yLdFye+7/e\n",
       "wzRkr4FPuwsAMOrjtQbkaTcsLuIcKZWWx/VwgD761Jgrrm7I6Vy//6M3nHI0LN9TvYJzk60NOfVT\n",
       "x0ivF4/GRF2zjfnsiktF8tmz53yav6UFqtu4wV/v612MAQ93ZBubMubjT55+IeoWjZTrR6c0rd+f\n",
       "/MnvscfsHdJ3aS+ftFmd5UrPHwryffH1CR2f12/yqQurDZoeLhbHa28N5LY4OUKbVKnJ87nVTRx7\n",
       "tjCfyyRoWva9PT5+XVinPrnS4GO23/vhPyH1f/HP/2+nHPPJ74ombbyPzTl5LhuNYax3cMg/JwCA\n",
       "0gxTWwajdVF3+zr2+7k5HHuNunxu2whB3rwvp/jPZdBnjWey37R8+M720QPZBg37aCNrNRyTL1/K\n",
       "aSRXt9CnrG3Lae7SIWzXgLQHAgCUTvA5rSzcEnVhP7ZrIkXP983j37jlAADw9jv3Sf3kgr+v6ZT2\n",
       "vf6Af1bjCfXVsbiQ+ngd3+9PBvSYlVXez3kt6qtDUT7FXKNJx7g/yOtu3aVt2RbmZuUSnYfuH6D9\n",
       "XSrKfaxSRx+fL8rvYg8PsM0zwjYvAABgoxNcNdKquun38HrjYf5dlq70URRFURRFURRFURRFURRF\n",
       "URRFuQLojz6KoiiKoiiKoiiKoiiKoiiKoihXAP3RR1EURVEURVEURVEURVEURVEU5QqgP/ooiqIo\n",
       "iqIoiqIoiqIoiqIoiqJcAfRHH0VRFEVRFEVRFEVRFEVRFEVRlCuAtbm4JX64sbzplP/qb/+DqPOH\n",
       "/U55+86GqHszmnTKz57uiLqgNXPKxeU1UXd4eOiUy7UWvSbL75YDAEAkEiP18WjK6mbjGakvFpdY\n",
       "Xb89IfWDgyNWFwiFST0UCjnlfD7Ln7vbIfVBv83qms0mqS8VF1gdzCKkenZ2xsrO6oekni8EnHI8\n",
       "luHPDQB1P16f7fOIup29Xad8dMpfAwDA2UXDKRcX06JuCvgMRyN8Hq16TzwmadyHPeX7AABAt4vn\n",
       "aDS7oi4RTjjlfqsvn8+L31Vt4P2lsjnxmGYFn+/19YKoixj9qNMsi7rrN9eccr1VFXWhoOWU19fX\n",
       "yWf7O6/YY65du0bquUyK1aXjtB8dHxyyul/84hdOeXllTrxWWMDvOb7gzwUAsLS+6JTzA9qWsQQ/\n",
       "Dp88e0nqm6u8zTw+OiD1eCrO6g6P6bOZecesbne/ROq2B/vO3OIaewwAwNn5uVP2thqirlarO+XV\n",
       "zSKrWS3SNp+OhqzuokSv9dv37zvlwUAeh3OJIF5r2BZ1/ju3nPLpeUXUZdI4jhJJ/nkCAHi92LdP\n",
       "T7G9HlyUODkAABRyeO7heCTqKrWaU07n5fF6UcJnsy7ZbID/j733arIkS+78PO6NG1drlVpUZVWW\n",
       "bFGtR3VjIGYA2mJtCKzZ0ggSD+THoNm+0Ui+kbZGI41c2j6u0cjlLoAd9GAxwAAjWlV3l+iSKSq1\n",
       "uDfzai35AHb48YB7vjPNf0/n5P1HZMQJP+5+4t5zDqRTGLMqZ3h9a2t58ZhOE21qOuXtEAAgk4y6\n",
       "5cJ3bou6rx4+xXMP6qKuNUIb7Y5L5LPlq3xb1GrUB2UyCVbnt0OkPujxMcb20b+bMcEknaLX82pz\n",
       "h9VN+mi/oyE9d6fB28Go7yf1szYfOxoVem2Ls9dZ3eExzSscJ8zqUknaRv0+2oHvgp/4BIPYD6fA\n",
       "txcAQDSN/7d8LMeYUAhzhqEjyiBnPOtoCK9hMuV9IgDAqw30s8Egn+cBAEwneB9jkM83HuKz6V+Q\n",
       "CwwGPePkZs4h+wK/kQe1u7IfPDpFHzQ/Oy/qWi08RzjB2wAA9W8RT8525wbfz89ODkm9Wd9mdcGU\n",
       "Ydu+CqsBAAgEUDebWRN19jW8voizQj6rnD5nj0k41LcnE3z+VGvQeDUWUri4nST1iKf+LfaYGvN4\n",
       "xMfDcMQm9Ylhiz4r4pW7bBo+qFqtirpgEJ+9bQsdbErj6dgzpvmWTofmq5aFz63RaHnlLtdWcKwX\n",
       "DNqizmc4nrOyHF9nkjjGygh5IwBAs4njjEAU22E8kfOHR99g/BqPZV3pDGNRvdYQdc0mfraysirq\n",
       "tjeP3PJhCftKIiWPo/w2jnUaTdlv7ezuuOUL3CVYSbRRyyc744CDecLu7gH5bGkx6pUDAEDlnOYC\n",
       "TkDwSRMafEwbM4lHaa7SrvP5qwPU3t596ztueWvzEX/uOO3T0Tjfx88q9J5SST7PChnxCgBg59UB\n",
       "qwOg/S6R431VNERz8FYH7/FsUx4np1PoC2tNORb5/Ni2X/zmoajLz6E9nx7L48PhCGNbo4Y+JBWT\n",
       "x/7xOF5DvyuPpwcW+stEkn9OAADlM4yb1ap8rfNz6KuqDby+wgxv1wAAto2xttXm/TwAgA8wP//L\n",
       "n/6NqEvGUfe9774t6lJp7Bu94Qn57Mo6n8t/9sUXpL73S95/rq4sYfmmPD7qD9C/fXCdf/cFAHBW\n",
       "wr5S94wNH37Fx26/TfPubot/bqfHO6TuhPhnsHCF9icp12v2qD/PpNCuFmeueuUue8eYF1kBOYk+\n",
       "PkVfnyvwffzshObM6Qz/PFev0JhS6/G52En5iNTnjPcg+89PvHIXy8h579y8YHyYxljZvWDcvfYD\n",
       "HO+Hoj1R1+li/A84aOepmPxu5+wQ8/1aSY7Ji0V8nvHALVH38MGv3XI6FRJ13RDGnoUVvL7zinwN\n",
       "4z625dkeP44FADjewHZdvRoUdZEwtuVMns/fAABWl43+7qP9JJXj8/3lRZqTnzf53CyRpO8mvO+b\n",
       "v2V9fZ3U+13eDizAGGX6IwAAS0jNag3a5pEYn0MXZlZIvVLjc+hag96D7efzkes36Lu+Z8+eueVo\n",
       "RM5R4w7aYrPBv7cHAJgYMbTblseH5TL6yHRSHvctr+CzGgrv3XSmj6IoiqIoiqIoiqIoiqIoiqIo\n",
       "yiVAv/RRFEVRFEVRFEVRFEVRFEVRFEW5BOiXPoqiKIqiKIqiKIqiKIqiKIqiKJcA/dJHURRFURRF\n",
       "URRFURRFURRFURTlEmBPB/IGnH/98d+65Xpf3tAzZWxiH4rIm1JV6rgR2Ggsb/ZVOcNNxo6q8qZZ\n",
       "167ipseDHt287eSQ35RqdoZuktvr8Rsfbm3STRmHQ35zOD/QjQBTcX4Dt2CYbqBpbqp8fMhvANn2\n",
       "bP48U+A3O4tG6AZfAZv/Lm9rg276Vpjjr9Xn0M3mBsaz6rXk7wkzxma6SzfkzU1fbG645UpF3mje\n",
       "NvZojsXkTdEmxr6RrTpummVZso3F4vjcTsvyhndhY2NRx5E3cxwbG0CPRvJG2IGQuUku2nZmRr6/\n",
       "WBQ/275oQ09jw8umsHE4AMDGc2z//Ky8GdnREdrlxgtqo/NzM+wx3k3eTo6OWN1kQG12IGz6NjU2\n",
       "Zbx+S7apdhc3yS3Myxvcl0u4IZoTiJHPdnYPvXIAANjdo/ewtbnH6n77tz8i9Vqb30RuekTvNRzm\n",
       "N2br9emm4qEo+pDtV/w1AAAUi3j/vYFss4sLaC+VMm9XvWVqyxPgNwIulz0b4znYvy7alN3c5Hlq\n",
       "yRsVzuSMzQRH/KZ7AABzBdwMdwoXbC5tY5xq1rbw71N5Y/hX29gHcomYqKsa8atytivqCnl8Tk+f\n",
       "vBB1/TbeUzyJ99Qfyv5tffWGWz4+ln1GfYL+st+RNw6/dn3FLf/mq89EXSSD9vHO+6+Tz/ZLG145\n",
       "AAAEY3QzzW5jzOrmMrRfSxud+xwao3odfiPFyjndmDSf5f2GmSMM+jRf8AkbUtfrdHP0eJzv41/e\n",
       "/4bU33jjDVbXbr4kdWvC22mnQ21iMsE+ddHm6OdljMORqNxvgg7afTgqbwruM3bkTGfkvlKrYJ7W\n",
       "MI6JJeQNlpeXF93yRN4zGoYH6Hdm5tOirtvGZ9jtyD4oGjOe4RTbKBWQN4OtVdHGQkX5nsplzLls\n",
       "R/ZBJUO3nFgWdb0e2kHAov1peZk/rg/Ulg8rvN9ITnED6EhYzgdTKbSPgBA3AABurGIeXzqh/WY0\n",
       "5jfxHvTpjq+PvuH959033iH11oiPh/4g7ftPX+6wujfv3iP1bI6/Pq/NOxFsJ9uWx0j3v3ho6OR+\n",
       "OBzifYTC/PkmHjcaDPK6bpe2ScC4vinvigEAIBpFew4H5Y4YCKA9JxPypuznZ2jbF3R/iMTwHCMj\n",
       "f6jV5Y2mEwn0fYcH/NgQAKDexzzm6TM5Jt+8jfH10TN+w3IAAL+NvsGMcwdH++IxuRxudH5yLm8C\n",
       "HApiO2Rn5I2w9428ttfuirrDHn52Y51uhP348VP2GMuhcS2bKbC6yhmN1f0+n7vUTyuknkryhjDo\n",
       "0fHN86eP3HIkzh/T9th5OML7pL196vemU3536Ww2S+rhIB9fb9y4Tuo7+7xfrdbovft72PmSF8TQ\n",
       "3eOSW06E5BgfMezl+tpNUXdivnPxyf7dHLdEQlg+EN5nAAAU8xiH5y4Yp/X7eL+zxYyoW1rBc3z1\n",
       "9UNRl8kbm9XbmMNNJvJYfWCM6bt9Wbezgc/t9Xtvibq9bRxnjC/4uXV/iP3QmlKbjYZ52/6jf/6H\n",
       "pL57zG/i3WnjtaYScvsHbRzfHx5URN3YGNvFwzTH6rX5vCg/S225UOBz6Ju36Ebzw/E5q/MFqC+o\n",
       "1Xld/Yy+S2wcbrrlcFnuX7kF3DQ+EBZ2mgeASQvv97TMt9nMLPUZMWFD+tIpHWdYFj/W8Ufp+7M/\n",
       "+GN8B/eLf1fyyl3mE3fc8mxWzjfzWfTntTuy0X66jRvcBwJyfrO0uOKWgyP0GZ0u/8wAAN55+7Zb\n",
       "9gXknOjx4223vH5bzuPXb2GsfPxwS9R1jHHBoIO+IF2Q+000hv93ZMkxPpDEcx9V5Hd1qQT6rYMD\n",
       "2QcV80tueXZuiXz26CH/DmJuhj73eDzO6poNen2xKO+PwyF6fKfF31dxDtvPb9O+Xzvn+027T98v\n",
       "DSd8/hCJ0WuQ3sWGQtQ3Tad8/trtU/+7cuWKW86k+FwHAOAHH37glv/3/+N/E3X3Xn/NLe8fyv31\n",
       "WgLHvOmM/K44mcA+1a7zflVn+iiKoiiKoiiKoiiKoiiKoiiKolwC9EsfRVEURVEURVEURVEURVEU\n",
       "RVGUS4C9vydPdR8Yy2O1xvwyaAAAL4wlCa5cvyLqBl1jrYCp/H1Ts41Lyc0syNPWzyq4HIDjp9Mk\n",
       "Eyl+6bLSKZ0mWavxy9ZNJ/T6hkP+eosZOp3s6JRfzqpxQKdhLi7iMnM+YQp1IkGncXU6/PtsJQgA\n",
       "ACAASURBVJTdZpPeg+Pjp3UlkrSN6g1+Kl1nQG3i3ls4zXZQv2B65X2cKtluylMWa8a0P8uR7eDK\n",
       "2oJb7grLAQAAjIY45bZu/N9khp+uCABQmMWpyBNbtu2jY2yLbF5emmI6wna5aMmTUBinVGZyOBU/\n",
       "GJaXrPriU5w6Ozcr9wdzPY+lpXlRtnOASyEMBhcsgZfAaZzXrl0jn7Vb/LKLrQ597tEgP3154qPT\n",
       "b/ttfgkwy5iB+vFf/ZV4rXffWHfL9kBuy0QG28+csgsAEI3xtt1qb5O6udyeybOXdPmqN9/mp/rX\n",
       "anQZgkqF74eDHp1yGjFsJxWVbftgD5fzyApLVgEAhONoz6Esf+/fPKZLnEzH/LTpKdCpwtEETn01\n",
       "lwn08mIHl1a0LXkZuFwI7WgmLdu21ce+N5FneMPP/vov3XI6jXY+Gcvr2WQj6DOsjrxs3rSF91Hv\n",
       "yMup9IwlwEZDeeq2E8Fn3fdhf603+XgAAPDzn//aLQ+7cru+dhunFw+mcr/59PP7bnliyf7t1h1c\n",
       "NqTepMtm+oXlimIxukRMvcT3h/1dGlt9U/4BZ5fptOuVZX4a9vYu7ddCOISKsWTlysoi+Ww85tt2\n",
       "7Fn21bvU0rfUq9Rfnp4Ky9IWFkhdWhbVb3mWrDHaqHQiL98XCKCvqZ7XRZ253FNxgc+xAACmgPbc\n",
       "aMtLuGYKxtLAhn+TciIAgLyxREZIWO4EAOBg65Vbrjfkex/08P8GAvwyfAAAoSj6oNNDzD3jUXlp\n",
       "EHPJhHpDXqo4ksdze5f1NTGX1PL75TZyHLSD8Zj6lliMv95rV26QejDO57LtBvqJ/rnsg2wf/t/Z\n",
       "OXnZoe+99x08JkA7yqTB3+PLJ3TJilaHX/o1N7dC6r4Yby//4Wf0fDdj/PK1t1I09rTb/DM9OqK+\n",
       "ZWYRl+j0Lhdr8uX9x245HOJzJwCA4Qhz1kiEX0Zn5BmzScu7mcuvAQCAEePjKTnPaLVw3JFOyUsw\n",
       "hRz0+82qfO/ZNPq4fl9eqs1ciSNs9MndkrwE+a9/9albbrfknLd0jktvmX3Ny87OjltOXrBs5niK\n",
       "z6A/QD+YK8jtOhxgn5r25WXzJmN8bg82noi6bBbzFscnL+UTcbAtX3mWcy6ks145AAA8f0WX5UnF\n",
       "+f7abdF8KRbl/WzUoTlIJCzkDAl6H1Nj2cYzIZ/2+r1+g49zE58n7w7ydtDyLJXnF2LWV189IvVI\n",
       "nB9HjkZ06ahqCe0lk5NjbauGeVZ9KMeO2Rye33fB731v3cbl6J49eybqxiO8/4mRB/3WD98WjxkZ\n",
       "Op8l59pbW2h/wdgF/ct4R7W6tiDqHnyJy+OmUni+prCsOABdlvr2rXuiLpXF8daDLz8XdX/8n+IS\n",
       "bI8fPhJ1Pj/63yXPUqyHR7zNls/pkoHbO3y+EzGW5I1e8J7ieB/j4fKK/M6hN8R3Ph/++Db57KzC\n",
       "L28VilL7nw542/ZbVHda5vPIdJHGtZGPz8mXVmh+8/QR5tqDtjz+Gg6wnRZWF0XddhPtIJXl3xG0\n",
       "PLnwrddusLqDAxr/Knt8PjIdUN0ghv54Zm7WK3c53sG85eraHVG3W9nBa2rJvuC91zD/ioTkdw5j\n",
       "wFylXMH28tny0lbFZYxfBxcszbp2C3Mz25GXmJsYudOV6/Kyz/kC2t/QWAZyCnJMHhjvInd25GUR\n",
       "41m0+VxOvoZGE2252ZTfU/7NL/Cd0p/8KV3q0RGW4d49oe924jE+LvktGjcDNh+7g5427w/4bTO2\n",
       "d9AvzBWpb5lbWmGPOT6h2xlISwgOxzSGdoT3xt0B9RGpON9fm206vuka9YWi7As++exXbvna+lVR\n",
       "Z+bkli3b1VkJ+0c8IS8nvn+I7WQDn+vpTB9FURRFURRFURRFURRFURRFUZRLgH7poyiKoiiKoiiK\n",
       "oiiKoiiKoiiKcgnQL30URVEURVEURVEURVEURVEURVEuAfqlj6IoiqIoiqIoiqIoiqIoiqIoyiVA\n",
       "v/RRFEVRFEVRFEVRFEVRFEVRFEW5BFgf/ZOZqfShE3XccnPQFE9y/fZ1t3xWrYi6WqWB/3hii7pQ\n",
       "IOSWB/ZI1MEIv7Pqdaiu156wh9gQJPVhj9d1u136ryZ8M1njAak7Dn9f2WKO6kIBt7y1tcEeEwo5\n",
       "pB4OBVnd7du3Sf3l0yesbji0SH0y5dt2YSlF6sGwcY6eBRKne3W33Gr2RZ3t4PO1fKL5wdh4NN3O\n",
       "QNR12ngfjmO0kTUUj5mbz7vljY1Xou6td15zy+FwWNR1WmgvtbLcB9rttlsORPBaRz65vXpNbKNi\n",
       "ISfqxiM8x2w+I+os4xEenRyKOieMzymZTJPPQjHHKwcAgEGnR+qlo2NWd2ed2uxMYZbV7R3suuXH\n",
       "L74Wr/XO6+iDSqWSqLt29Zpbrlbr5LPSaZU9Zqa4QOrbO7y9hKK0TXz+MauL2QlSHw74PtXv0f7Z\n",
       "7aM9V6pn7DEAAE4Q7SoQkG02nkQbadb5NpudK5L6WfVcuFbaPwdds0/ytgIAMDJ80A8+/K6oW4kV\n",
       "3HKhUBB1n372hVt+9WpX1GWzWbdcPsV7P9g7EI+JR6JuORLwi7qpH2PA7PKSqHu5gX5/eUXWpfMx\n",
       "t7y5/9wtB2N8PAAASA2wvxZSss842dtzy61BT9Z1jecbiYu61vDELd+8kyWfOTH+Ol48pv2ptN9h\n",
       "dcMO7U/RUIjVlar0+HvvzLE6y6axv17i7fS0hDaxskrPNZ7wMfT0hPbP8VS2F5Nej48Dq0srpL67\n",
       "u8fqgo63v2OO1Onw7QoAEDF815ynzxMsvF8rIMfkaALzG39QjsOrV9HvT6Zof8uLK+IxzXrLLVdK\n",
       "vM8GACgdoq+y/1G7IMkkXkOvLeel/Q4+w24T773TlHPjfhc/swNRUXdl8apbnsnPiLof/ejHbnlt\n",
       "/ZqoS2Xxf4W9vmrMP7c/+zd/TuqHp49YnTVFm5rNy78bu7GCPmgmsSzq/IDxr7Dg6dPpCH/Q0KOz\n",
       "BVv0JUn1i8d8bvxnf0H9/sSOsbqVleukvr6UZHXDKbWJtRvrbvnjv/yEv1YA+Phnv3TLuYKcw/lt\n",
       "9IW2zfut4YD29+9973us7uXLTVKPBLHNgwE5di8ZfmJ1VbbZuVm0A2vE5w8AAL4x2qzll2PRaILX\n",
       "F4hjLtUH+Zj/4b/7X9zyZ5//vahbuz7vlh894u0fAMBvo5/oj+X/G0ug3zkpld1yoSj3h04b/WX1\n",
       "/ETU+X3Gc7rAvwWDOH5ot2VfBVP02Sur9Prm5lJeNQAAbB/Tsc79z56xutki7U+On4+H8Rjt15kc\n",
       "n2tsbFKbXVnF3KLZ5OPNYExjdS6fZ3X7njHL2uoVVne4T31GPMr7dx/Q/H5vnx8TRRO0jcZT7OOD\n",
       "gRxr33jrDbfcabZEXcCIA0eH8rhvYuSviURC1F29ijGr1cSx1GdGDu4lFsFrePude6Iun8fcMRSW\n",
       "c6etbcyHe135XUKrjnFqY3vLLb/3wR35mDbmFgFbiEMAEI7h9e1c8C4hEsLn++49+d4bjRoeE6H/\n",
       "96uvH7LHLC57bDTIjynLZ6du2Tfh82cAgHQc89yzMm+vAAC3b2MMaHfL5DO/zV/D0Kbv1r76YofV\n",
       "/fCj3yd12+ZzjUQmQOrPnvPvCfw+6iMDfozd2VjWK3fZ3Nt3y91BXdR1+3j/M3lhjDqk1/Dm22+x\n",
       "svsPaIwKDddY3ewKtfn+BG02OJXz+IefYx8YT+R3Tx/84D23/PUj3rcDAET66Hc++ugjUTcCvN5n\n",
       "W5iL+eWhLHxy/yu3/N533xZ15xV8NgFfQNRVK/IzNFlZxfc+ubzx/suS34HuH2D/SmXk9xQvtnH8\n",
       "Fony74kAAPxGeyWi8vl2jfMtLdPnvrTEv1uo12h+mIzxPu7lSxrnDg/4d09Xr1EbXVjk46vfj/E5\n",
       "HKQ+6OuvHrDH3LpL827p/ddgQG05HudjsncsbI5pTEIBapjjIb4zaDfl97zJJPoW8z2ql9NT9K2N\n",
       "RkPU3b1719DJMb5eR9vudPjvNnSmj6IoiqIoiqIoiqIoiqIoiqIoyiVAv/RRFEVRFEVRFEVRFEVR\n",
       "FEVRFEW5BOiXPoqiKIqiKIqiKIqiKIqiKIqiKJcA/dJHURRFURRFURRFURRFURRFURTlEqBf+iiK\n",
       "oiiKoiiKoiiKoiiKoiiKolwCbDsWFj/0B4NuuVOri7qd7ZJbHk/kf1avjdxywPaLumnEwsrIEXW2\n",
       "Dz+bDvvks2G3zR4zgTGpRyIRVhdw6PV1Oh1WtzS3SurjKd8ApbNzUj/ZPDWugX8Gb731Dqm3W/wz\n",
       "qFbpuc+rFVY3O5sndb8VYnXW2Cb10wN8volUlD0GACCRw/P1JmNR1+918X9Np6IuHMZ2mVqyHbQ7\n",
       "A7c8GONz8tsjTg4AAJEEft/53R/cE3XPN5+45Tfv3RF1gRA+92qjIeree/MNt7zx6pVbTmbznPwf\n",
       "zm0n3HKlciDqcjG05U6zJupgFHOLk4H8PH0O9v/TkxL5LJjg+03I0699Qj//6sHXpJ7L8PcVjeO1\n",
       "rt+4K15rMpN1y0+/2RN1pRP8vzNF2uaF4ix7zOdffEnqvmCA1c3E6PnsEK+DCe1fB0dHrKzVpD5t\n",
       "cWnJLc/Nz/PnBoBypeyWs4W0qDvYP8GKxffX7b1dUs8XMqwuFKK+5LSJPqnd7nvlLoXCjFvuVC1R\n",
       "94uvP3HLk6ncr4vFolu2bVEG4RB++Hs//NAt7+/tiMcc7aONOkE5fiWzObdcucAXrK8vu+Uvvvha\n",
       "1CUS6AevrGO8saOyTwxPsX8OBwNR5w+gH6yVy6JuEkA/0W7zsRAAIJrC/trwxKFWiY/JkWCM1B0/\n",
       "/3wDAfoblWCAj1+5BLVl34T3VU8fb5J6ws6yukQIr8/bRnfv3maPCfnps1lducbqdnZ2aH13i9V1\n",
       "G7TtriyusrrjI3p9th99uBPh2wsAoNNpuuX5wqKoe/78qVtuNs5FXSKP/yu/GBd1u/vo+95486Zb\n",
       "nozk/KF9jn3q3dfeEnWfdL9yy40LbLbTabnleGxO1HXb2I8mY7RFIeUDAIBoFPtNLJoSdeEIxopa\n",
       "VW5XM1dstmXfEk2g/cU8fiLo5/tDLkPt/z9+zPvto7Nfu+W5Rfl3Y0eHGK8XZuXxgy+AOeBdm+ZY\n",
       "8Sl//sCY/j0a4vNIx+Mis6kiqws5tN9Ek/yzmo56pD4Y8Ln7YELtrVFDX/jkmxfsMQDURqYg94Gk\n",
       "4WcHfV4XDlC/Ohrwz3Ps+Xs4hTnDoDcUr8Hnw3g9GPRE3WSC/jzsl+NmKIRtOQa5U0182Kea5rUH\n",
       "5Pzh5i20qydPHom6Vy/w2Ux7cvsHo9iHAhf8dtIeYJ5x9xrm/ps7cqw9PMLcPZKQ76nTQn8ULci+\n",
       "5axy6JanF4y30kns/y9evCKfTX18vlk9p77q9deWWd3JwSn9g5/PXaae3PjlC35c4PMmd76kW/zB\n",
       "b/HjtI9/9jNS70/4PMM7xvUF+Wfg/XsiHWN1GY8viSX4eBiPJUl98+W2W87F5PFh4xhjd60px46r\n",
       "6ytuudvnczEAgEYb26VYlMcPm5tPjRr2149+6z3xmP4Ax/52UO43Z1XsH6OKPH6YXcJ4/fVX34i6\n",
       "cgX7yt03b+H1TFqcHAAA7r2Hud2DR09FXT674pbXlq+Kum7T+F9T2V8mDfOIxqgP+oMfv80e8+wF\n",
       "jSnbO/z5LT+2f9AWxqcA0DByncUVfswHADAGjOuhEM0rjvb4mN+1aWy8dXeF1Z2ePyH1VLLA6mID\n",
       "mgsvFN5kdYdHdCzbmWD+tGP0NS++AN5XKCbn0HNzOD4fG3ZuUvCMx6NhPh4WPP3O1+bf08zN0mfz\n",
       "cgf7fywlj/sSBbQrv83ngwAAr45fuuXFddkXFEM33HJlKOd6J2f4DHwx9Bn1pnytN25jf+115Zi8\n",
       "uLTglht12Q/6bPTH8Zh8T+0O3keggc9pd39HPKY4i2On/UP5PRTJyae8rQAAJBMYkyunsq9anDds\n",
       "b0zf1U0sPoaGYtSvDob8+6/hkOaAK6trrM5nUX/y4OvHrM7MR5YXl8hn167z7/hebtFxcTrDx9qx\n",
       "Re/pvHbC6hJxerzf4mP86cEh1QHaQTgpv39pdDEmQ/uC57aI9lIq89cKAHB8fOyWYzE513v08Jlb\n",
       "zi3xuZjO9FEURVEURVEURVEURVEURVEURbkE6Jc+iqIoiqIoiqIoiqIoiqIoiqIolwDr9/70mjjf\n",
       "u1rFaebBsLxEh9+HS4i0u/JUtb6xVIC07BMAQMOYDhWYBkVd0ViOaTKit1Ep80uc9bt0aqnf5qd1\n",
       "TaZ0Sptl8c0UD9PpnnljuSKTap1O8arVcGppf8hPxU0k6ZTOcIhvs5RnWnmryS9lMvVMZfZOO/+W\n",
       "dIzeQ6eL1zqw5KmbYwuvL5VcEXUHe/tueXubX84GACCbxamr1bI8Re7ObZzO22wa0+oC8rTwqYXT\n",
       "2wcdecro+u0rbtkOystKdY0lYoI+eQpwo479o1zFdvV51yEx6BmPM5WSl3uYDvF81RO5H57s4X0k\n",
       "4/JyNjFj+qLlUBtdWOOnDr58RqfYhwP8FHJrQNuyUuGXqglH0bZ9QXm9rhHg9ODlIj/9FADg+Qu8\n",
       "vmiEXls8mfDKAQBg4vlufDjl7eX6Tfp/D4746b3NI9qWXcFMxyPa3+NxXP7E78g26xjLTuwZfc3L\n",
       "9XVcvqDVaLKa0dRzcRa/3EsySpem2HqM0+Xff+P74jUsLeJyCNELpq3uHOGSLMfHh6Ku00I7Cgfl\n",
       "PpUwlvUcGctNFjLydO9oGI+ZBOTlZ8xlQz77/L6om5vBJVM2n8vLNi4v4bIGt1/D6c97h/IxpxWc\n",
       "4h0eycs4pELYRvFsUtS1fdgPD2vyVHzLRjsajeiSCZHUglcOAADlQ2p7owb/3CIOvb6zMj+Ff3GZ\n",
       "Lk+2fcDHGJ9D22Va5f170Fi6cwI0Dg2Ebhjy+Cpzmr6J4/H7jrDkydPn1JfMzvJLsE0n9PijQ7SD\n",
       "yUS22Rs3r7vlUulY1JlLK1pDeemnaBbvy5+QdfklzCszafRvyZC87Givhs/gyhy/zB0AwG8eoM/I\n",
       "ZOQlSkZTfFbzs7dE3Yun2C69hrFUsU+OycM+XqtlyTnvXB5zrsgF9/6TP/pjtzyVTwc37qy75WKe\n",
       "+jTvUsjf8uIh7Sf/8//0G1Z3Pvl3bjmWKbEaAIBJe8Uttzqnom7gw3ho2zT3HJ7xtpOP0WXa4iE+\n",
       "h75+lS6reNNYQtDk/pd0vDAzyy91EfEsC7G8wudPviBdPskJYuz4l//y/2aPAQBIJI3lTgfyEmBz\n",
       "8+hPGg1+qab5Im0jaSnrcumM1ONx9LORkLz89/wMXsPiIu/fAACyafy/EUteZjEYMJaVG8tLF/qD\n",
       "uHzqwIc+fOiT49J//9/+r275yTdfirrbt/Ec167wtgIAUDpCe2l3+NwJAOD0HNt2cxfzlkZfjsmj\n",
       "Cba57ci/y+x10G/1+/JYpziLPnYqLGkGAHBoLMeUTNLxfqfP9/NUhuqGff78tTMaN+dm+fHD8TH9\n",
       "P6MR3/8DnqWT08ZYcWLxY/9Emub3Byf8ciozMzlSz+V42/a2ZdXTj77FBhofJsA77kmf6gZGV4mH\n",
       "5PcvZcPGrq4vibrCPPaveqcq6lpdfFb1ujzeTybRT1jG8jgD4ZkBACwsoL9sCsvVAwCk0zgWsIUl\n",
       "sAAAgiHsH3u7ct6SiKE/bxhLn0cvWAJrwfBpx8eyL4Y+Pqh+S+6HA2OZ63t3XhN1jpE6xqM03kyA\n",
       "zzWaDTreH4T492ZzC3hP1XN5ib9OC9v1m8fy0tO3bmG88tvUV33xCb8kXnqexnhpGdNBj7ZlLMbn\n",
       "RUVPnBv3eZ85P0tzAZ+Ffvbz3/w9ewwAQMPwfc4FS2qvX8dlJUun/NjMsmhcM5dpNel06fvGUY9/\n",
       "/3jr9RVSP68bS9hN5BjTreL/LR3L7xJSWWzb05r8LsEXxD711tvyMvxmu5xXMCds1eX3e9MJtnky\n",
       "lhN1HaN/3b4r5/FHR/g8p2M5HtrGssNTI7foD+X2qlbR96XS8hL8nQZea7MtLwNnTbBfr63K99Rv\n",
       "4//t9mg+Egnz4/pWg95Ha8C/V1lbo8sl7u/xW0e82qbLJ2ZyfO4YjaODC9jUT5VP+LiUmaUxOBDk\n",
       "x7Krq3QZ1NMS37aDLm2jVJRvo3qF+si5Ir7DODqXxzTFHPYbv1/uh+fG8rhXr8pj2c1NfJfi3fbB\n",
       "xG+8ex6GhWVpxaMVRVEURVEURVEURVEURVEURVGU/9+gX/ooiqIoiqIoiqIoiqIoiqIoiqJcAvRL\n",
       "H0VRFEVRFEVRFEVRFEVRFEVRlEuAfumjKIqiKIqiKIqiKIqiKIqiKIpyCbAbp/KGmSEbN/uyuvJm\n",
       "RK0ubmTnOPJm66026kIXbBDq7+LGn/2OvGnW2dDY9MlPN3YaCpvVxj0bpw17/EZeM3m60WRX2G19\n",
       "AHQDvWab3xiw26AbmDrG922F/IxXDgAAsQS91nKN3yhyd5duKLWQy7M68Gwo1Wzxm6qenj0h9VoN\n",
       "N1xcWb7CnxsA/ICbSP38178QdXeMzefuvXlD1J2UcaPNuRV+E1oAgBc7n7nl9XXckHp3S97wPRzG\n",
       "TQFHU3mD65N9c3NTeaPz4Rg3m9wrbYu6qLFhWOMUbWUyvGDT+TxuKNc4lTeei4bRjvhtHL/9X7jh\n",
       "Zb8n37vZRceeHcsffcVv7ri8TDcSDQR4v9Go0Y37giP+iifGJtvnpYs2/sR23Xgpt//qHPbrVJz6\n",
       "quMmvxFodpn2z/W7r7O6X31MN4OsHfIbzfuAbkg5tfmNSq0QrfeG2GaDqrwhcszY5Pa3P/xI1P3q\n",
       "80/cciLB23Y4SC8iGuY3tW1X6OZ+//V/9aduuXwg98NG7ZlbfvTVpqiLhXET2lvz/Cb2AADnZ9i2\n",
       "ji33gmoVY0cshH62mC1ycgAA2D945ZYPyvyzBQDYPUA/Pb+0JurOzrDvJZPyBry3br3tlrc2sL1e\n",
       "br0Qj/nBd3/HLVcb8ga37R72qV6b3wwdAGBpAa9vOJQ3MNwt4UadiVm6cXK1zG8AafnohoMjP7+p\n",
       "58EZ3aD57q03WF3tnMbJdITfBDWXoz631OdzF8foT3vH9Nrml/nnZm5sDAAQivLxa8N4ngAAiRjv\n",
       "C1bn6SaPG5u8j8sWC6SeNzZ8r9flzZvBwVhk+WU7aDdwA8y5GX5jXQCAqY33H4mmRF2/j+3Z6WOM\n",
       "SThyrHV8uKn1o68fiDpzU8t2S96wORzF+7ho4+pMFu25Mjauu3nB5vRGntERckMAgFIF/+/yrJzr\n",
       "jDr4f702ZjI2Nnb2pWk+GI7zbbtwm27A3Zv8lNWVy+hPRskQqwEA6CaxHzZDsu35mhiTz3foZrD2\n",
       "YM4rBwCAb3ap77N9fB//64d0Q+Xfa/D9K5ukvmrk459pcYH2L8tqsrpB33M9Psz3u0PeDwIADOuY\n",
       "38Vi/CbPAACxKMbD0ZDfOD1boLG6WedzveGAtonfh/0wl5afb8RBvxj1yeND/xjHThNL3pR9GjDy\n",
       "4bF8PsePbRs1NnnfO6hwcgAAuDaPPqOyI+faG0823HKtLPu3/gCf50FJzltCcWy/RgfzkclEvoa+\n",
       "sRFzICyPk1NZvIbRSG5XM4/f2OQ3GAcAmF9CP9GoUD8Y8gkbjleo/feG/PjEa3nX1lZYnTOlbV6v\n",
       "8f2w3i2TequJzz6aE/znhLblvRtvs7LjE7pheemozOrMvAAAYDzl84dul7aJb8C/S1iYpb5uGMb+\n",
       "8OjRK6/c5d33193y3rGsSxbx/p2w3K/tMea2hYti0QhjTDCEzy1mxGcv/YHxDigi94FQFG17OLlg\n",
       "4/QabrRdnC2IuskU2zIyxefhCM8MAOClMR5Znl8QdVMb28gpyO2aTaHPfv7smahbWsL/VZjJkM+e\n",
       "v3zMHuP3vHeLZvj+el7BWHF6KvvLhfkVt/z2u/I7GtvoAq92XpLPfv8nH7DHPPyabq6eyy6zusMj\n",
       "Gie3N/ic14yFAACjPv9OMxWnOfTuNuYQxUzCK3eZlvAmB0O5zf7m7z52y6+99hGrabeoJ7yzwuc3\n",
       "z57Q5+yEZ1mdzxN3nQDehznG9RLPYCz6nTevibrdHewDiYS8gfzEQjst75dEXekU+2vQj9eaDcux\n",
       "1nz32m52Rd3BId6vBXJMvvPaHbzWCu/bAei7K9vG/jUdy/6oVUH/Wz3aFXWBIPq3lC37rUwM23Ux\n",
       "K7zXBYCSD9+VZjzvf3f2+OuYmafjsv4B7+O848aFRT7XWLtK7agvvFuf+vD4So3ayuIV3h/vH9N3\n",
       "GKEgfw2PH5yQ+rU1fnze99HYUz7n+/W1tZukPp3g/40P5bHiYIJ22uvyYwQAgLjhd+qttqiDIdpc\n",
       "LCDP1ZnJGe+XLV6nM30URVEURVEURVEURVEURVEURVEuAfqlj6IoiqIoiqIoiqIoiqIoiqIoyiVA\n",
       "v/RRFEVRFEVRFEVRFEVRFEVRFEW5BOiXPoqiKIqiKIqiKIqiKIqiKIqiKJcA/dJHURRFURRFURRF\n",
       "URRFURRFURTlEmBnclnxw3qt7ZabjaqoGwxGbnnqi4k6v9/vlvuDrqjr9fGzbmso6vqGzh+k3185\n",
       "Ib9X/g/XN53ScwwHrK7V7ZD6eMBfx2F5n9Tz2Ryrs3z0/07GY7dcrfJt2+62Sb0ntJnPb5F6qcyf\n",
       "LxIPkrrfnrK6XLFA6paFunqjwh4DABANJd3y93/wtqgbDFtuud/ti7q54pxbHk7Gos5xIlj2B9zy\n",
       "nVt3xWN2dvbccr4g2+zLF8/d8uL8kqgbDHpuudWWbRYm2FdsB21073iPUwMAQGbmunGtvH0BADx+\n",
       "+MQtNyo9URd04lix5HYtnx+7ZX+A9pN4OsUec3J0QuqxGN+2oVCE1C3LYnW9HtpHsZgXrzUcRtue\n",
       "Rh1RZ95vvd0gH8UTIfYQO0Cv7bNff8bqzs9apB60+DYqFujfo+kMqzs4OSL1fhv7fy7DnxsAoNts\n",
       "uuUnDx6JusXZBbccDtr8udrUjkbtNqubnaE+ww/YZj/60Y/EazjaR7tPxuOi7mDvcQuJVAAAIABJ\n",
       "REFU0C1btvxbBTuEn/UHvG8HAGi06m45npx3y18++EY8Znv7wC2v3boh6lavYB89OTsXdWeGn84k\n",
       "kqLu+Bj7Yb+P/mN15TonBwCAn/3N37nlpZV5Udfuo81+8L58vs3Nx2756PRE1N1447Zb3j89Jp8V\n",
       "i0X2mKura6T+dz//FatLpajP2Hz5gtVZQH2aNeHjZuHWFVLfebHB6rojtOVFT1uenpXYY4JOmNRX\n",
       "r66wunqDHn9ywtvLyhK99+9++B6re7FJ78GM8E5Y7jdOEO+x3WuKuuIc+p2rN5ZF3XnjDK/BGYm6\n",
       "ZePZ7+7itTuW3G9mEjNueViWY7cTwDgwHMtxrt7APjCahEVdwJ9wy7Zts2Uvo5ER7/18jAMACBg+\n",
       "zYxlXioVzL9mZ2dEXdvw0978cgx83hez6b3fvsH31+HoXbc8Gcn5YL2DfiIa5c8FALCxgz43HaB+\n",
       "0HJ4O7B6dVIPBnj/mc/QNgo4fNxMpxdIfXFpgdU5Dn02QYePMb0W9TndLtZ9Pn5sAgDQMeJtNCLH\n",
       "w8lk4pavXbvKamw/vdbhsMHqvGOiWBx9TTQW8crxuDHa9mQi93ETcyzhxW/0j2BQ7gPGrcOgi/06\n",
       "YMvX2uth/4rHZVu0w2hXlXO+vQAAzqo4PrSCcr5pDlsKs2h7qXSCUf8DY8C+6wPZZ/hsHOs0hbwM\n",
       "ACCZxn4diBZEnW2cLz9P/ep0wvu4+gm9j4VF3icd7h+Q+u7WDqs72aW+Kp1Os7rakPavleVFt9we\n",
       "8WPK7c1XpN7J1lndwuIcqVdb/Hg6naI+58XTZ6wuFqNtdOs231/LJ6ek/s47OIaemZPzw4ePH7rl\n",
       "XFF+n/Or39x3y+99cE3U3bi77panUzluHh5iTj42cqR2t8XJ/z+wHxrm9o/wt7GTZ7OyzaaMcdD2\n",
       "9qaoqxrvr5LxqFseyq8f4J7R/vs7u6IuEsRnc3p2JuoaTbTZUkV+nxaOY98LnNBGKszOeeUAANBs\n",
       "U1t+tcNfRzSK9354xOeuAABTC2PU+g3eXgEAAkYoy/eo7Z2Wj4DD55+Q+u7uNqtbnKM2urf1itWd\n",
       "H9B7H034/LXRoLqZBbQdJybnvKEojvX+nz/7WNTNrmG8XlzkY/zTp/S5j4aLrC7gp/291ebHMGfl\n",
       "Gj0uhPbS68p9N230gd/8+ktRFw3jO5FBT+4sPiMPWl5eF3URI0+rVzG++qbyuYM+vIZGpyPq1tYw\n",
       "Z/P55LHO1w++cMuJhDx+qBr2MpPHuGa+7/Zy9QqOoc89z8ak28DnOWhekA8a751PbNm3hJMY47c2\n",
       "qK+Kxvm86PyE9v833rrC6oLBKKkfHRyyulqL5uoT4PvUaIq2EknQc3e7fH5YzIU9Ot5eZgo0b9/f\n",
       "OmV1gQD1q/EoHzdfbW6R+rXr6Ast4N8XAgD4/Xi9ibj8fH0+zKtaTTmHmxpjhoveFfkDaPe9Gp+/\n",
       "6kwfRVEURVEURVEURVEURVEURVGUS4B+6aMoiqIoiqIoiqIoiqIoiqIoinIJsFt9eZm1jjn31S8v\n",
       "YRGK4jQnv1+es2vOqKpX5Wl64yFO/4yG5el3xgzUfzRl1G/x32dZQKdaSdMAx57lQEbTCatbWqLT\n",
       "M9vCFK3SKZ1m5jeuIxLhp995l7yajPmpbwE/XV7AifBtNvBMe5+O+GmKSc//9RvLkOWz8vRx81kF\n",
       "LpheeVbGaX+DobwUWsQ433QoT1VtGrYUmOK0uvOBvDxDzFg6Y1eYNgwAkEmizrblaZ2JOC5DUCzK\n",
       "yynt7uBygHVjyvmtO/y0bQCAmRn87PjwWNSZ007zeXkptGoF28WRuzUk49iWnR71E2YfNYlE6XTN\n",
       "cDjK6nwW/cdj/nT0//pkG3h1iG35+vqKqBuN8Xwry3QpisaIn4764jldRipf5KfB+n10CqpfWG4k\n",
       "HKP99fiIt790hi5tMWcs41IpldljAAAWbuN09HSWXzoOAGAwwmm2iSg/VfXU47fiCX55nESMTjmd\n",
       "Gt3/3//Fn4vXUDvH5YGaDXk6dMhYqsZriyZ+Y6mV7lCOMS3DFx6d4/8dX7C80+//4T9zy3/1N78W\n",
       "dUPAdg0Iy4wCADgR/CyXl6fs3r+Py3Jkstivy+fyElgxw0+PLHmpnFgCl7qpNOQlDuwQxp71Oyui\n",
       "bmT049/70R+Rz37zi0/ZY/7t//WXpB4O8Lbom9CYUizwsSiTovHPtni/PejQ2BNN8v31rILtPJeg\n",
       "vn0a4OPc1jZd9vWrx1+zutkZ6qevpvlr2Nqly7ZFovzST8MpXW5qNodLDTbacjx8voVL02Ty8rJS\n",
       "M/N4vmCK9+0AAHM5tJf9owNRV6tgvlSv4rWHHbnv7vYwBlZ7cp7ROkFdKCov/eQE8bPgBcvIWkYO\n",
       "aC4v4F0ey2Qyws+CAdkX2DbmXL0LcvL9gx23HI3JywsEQtjnvfeezvG5QTRBn/sHH6yyup/92Vdu\n",
       "eacm5yPJK0a+GZATjZiDPtue0twznuGXzgrYNA6Nu7zfdgL03gd9/vl6c/DCLN9GjkNzaJ+Qv6bT\n",
       "1J9vv8KlNIbCEhYAAMMh3n8sJvfDuLEsRr7Ax/h+l9rbsMcvD2J7lptLxXE5qmhEXrps0Ma2GI3l\n",
       "PH5qJAP+C5ZCHBvnsHwXLJlojIP8Ntr50pK8POnyKn6WTc2Kul98gkuL3n1DXtYolMLc8bzBL3cC\n",
       "ANAYYEztdtF/TC9YziYUQdspCUupAADEIvicbizzfRUAoGIsUxOQXQtkjFyxWqH+t9Xg/fF5jS7/\n",
       "G4rw/uA736E589Hmc1Y3n6L9//nTHVb3ww9vk3rP8M2dU37JyXSC2lSnzec7G8/pMmGv37vD6vY8\n",
       "efv7H7zL6ra36fJV21v8M200aHzu/wrzvrU1fswBAPDW2991y70Lct4793C5MksORVBt4rKc3Z68\n",
       "5ExvjM9+aIwH4yl56el8DpdqK5X5pXcAADJZPEevJy9VfmosNewE5Vzg6houzW4uRdmsyTnvp/dx\n",
       "Ge98Vh5Pd9s4FuuBvKR0xHjncPXWLVE3Msbxh8d0TDQe834jmaHx5rzJ98NpAPv43Iq8VPzEWLrT\n",
       "XP7Wy+kxxpTyMR2PeJdt/pZYjC5xNuzzeenRPu2HC0V+mb+wTfNQn8PnAt487auHv3HLb779FnsM\n",
       "AEDd8IU/+cnvirrNPTzf/ja/XH/Qojnb1uYOqxtPaDwN2HwuYPvp+SLGsqipuJzLzhRxaebFGTlu\n",
       "Do0l0ne25OUTBxPshyfH+6KuVsPztZvYr9958zXxmFAYXxyfXTDmnRpLJPcu2GEhNcDx4eEF13rv\n",
       "Ddwe4te/xGd75/ab4jH7uzjWadTlYBtoo41GbHnsPzbcby4mL+fcG2MfjYeorVgTfolY26K53cEu\n",
       "72dLpzReObbwPsETVBIZYZxhbL9Qr9F4NRzzeV8uR8fw0xHfZs+/oTZqbjlC/k+PvnCcjPhnlfS8\n",
       "S3j40BjHW3J+vn4D38E9efJE1NnG+4PiBe9sza1AtvfkfnjjGvrcVp1/R6gzfRRFURRFURRFURRF\n",
       "URRFURRFUS4B+qWPoiiKoiiKoiiKoiiKoiiKoijKJUC/9FEURVEURVEURVEURVEURVEURbkE6Jc+\n",
       "iqIoiqIoiqIoiqIoiqIoiqIolwD90kdRFEVRFEVRFEVRFEVRFEVRFOUSYN34YXYqfTjojlAIjngS\n",
       "nw+/O5qOJ6IuYAfdcqPRkc9nBfAa2kNRF4mE3LLt+OmH1pg9xu/R9Xo9Vmf56fdhzUab1SXTYVKP\n",
       "RaKsLuALkLpt1Lttvi36/T691kGf1YXD9Bqa/S6rG43p/4klbFa3fmOJ1CcTPF8oINtBu9lyyydH\n",
       "p6IuHs655UQqJerK52dueW5uTtTt7Oy55Wql7paDjnyt6QT+32tX74i6RvvILdsO3/4AAB3DjsIh\n",
       "+Z7Oz/D62r2GW15ZnRWPadbQZjdevhJ1PsDnGY2kRd2oj/06lY6JOrCw7xWK9J6ePN5mD0mm6Pkq\n",
       "9QqrW1xaIfVz47mZ+AJ4T/UGfy4AgEwu6ZYdkH3Lm3fvuuVS6YR81uzyvgAc2nefPOXv/drKVVIf\n",
       "9XhfePP2Aqnf//JrVmdZ1FfNzGAfODRs/h8xRZceCYZEWTaLNmJPhGu9c5fUK1X+OXX7tO2Oj7H/\n",
       "D/uyD0/E4m650xbaHwAiFt5HMBgQdY2WcX1+3r8BADTq6NPKp9gPQ8EkJwcAgKPDklt2omFRFzA+\n",
       "Go6bom5tbd4tLxbl/v/giwduOREruuW9fdnHJooZt9wb8LELACCZirjlfD4u6hwH7WMw4uMLAMDY\n",
       "jzY78Hy2t1Fjj0lEE6R+cnTC6pbn50m906iyumiE2kev02J1gQDVLa3eYHWNNtpHbqZAPnv09Bl7\n",
       "zGBokXqzydvB8gr1BaOxkI/0af+st/jzRWOetiyjzc4tFL1yl4CD+U5A7jZg+fA6wim5D5hdtC/5\n",
       "VQAoneIzXFnFtphYXutBqnW0535PjvH5NMYsM0f1MhriPUVDctwMO/hZ89zoA3yqCQAAvS5e67Qv\n",
       "t0MyjnljMsbnkAAA62vX3PLy8rKoS2Uwx5qbp/ncypWrXjkAAKRjtC37fb5//clP/pVbfrj1mXgN\n",
       "oyT2DV9A9i3m7QYm1PgOj3lfkM1QW46G+fO//eb7pP7997/H6paXaL9OJC1Wd16lcTfs4/tAMkP9\n",
       "+S/+7iu3/G/+z5+xxwAALK6su+V0OiHqvvfh6/i/knyHbTdo/nD/04esLhoJkvrNG9gWuXTEK3eZ\n",
       "DtDwvT7XJF/ANkpELjjfBPtoKCzf+xDwf/XAiDdjuY//63/1r93yxrMNUdeovnDLpyU+1wEAiKez\n",
       "bvm8xcc1AIClqxizZpewT27u8HEDACBfwHsfj2RnPJ2ijU6m4jAefv3pfbyG2Yyom5tDP/Hg6yfk\n",
       "s3iYH9PcuEbzw+2Nz1ndlXlqY7/7weuszvH4UkfIx/79X/0tqf/xf/5fuuX/8Pe/YI/Z2y+RejjI\n",
       "31OrRf10Qxh33H3jNqn7Q7z9tXs0//KPeF/VaDRIfWsDbbFQyHnlLt//6Ptu+acf/1TUJQx/Upwt\n",
       "iLphEO3eseU+5TfekZh9t1mXx1+jIdqpzy/KwLEtQyfnGaksjjfHEzm+lqvHbjmfx75r++XxUcu4\n",
       "j9FgJOr6Q8wFgkH5Wne2DtxyNCSPuzOpvFt2/LTf2EIes7RE88itM35MGQ2j//Xam0m/g2351uvv\n",
       "iTob8PqeP9okn01GfAwNJmkue+3KIqvzjWibP7r/lNW989YPSF0KA4dlOm4f+ox3RaElr9wlGsZ4\n",
       "Y45XvVwzxg9HpyVW85vPfk7qq9f591pHx15fxfvtaITa784Ovh9aXl4Rr3XQxfx6e0t+l1DIoZ/w\n",
       "jpdMEkkc43eHcu6ezBjvHCx8UN0mP0YDABgZdhBPyvErnsbPTk7k85VK+E6v3ZFj9+ISxm7HeHf9\n",
       "4vkmJwcAgLkC5uT1mjzudrroi8+PZF2lVHbL8ytyTpSaQbvMzVJfsHvAv6+aAvWX5w3+Pc3yKo0V\n",
       "vSHvN7xj3HQ6z+oqVTx+6qN9PF/k7zFgUV2jzvv6RIzaR6vGv6uo12lul07zucDYom0SMXLlekN+\n",
       "H2xyfHokfjY/h23reL/DMP+v4YMCPjnXc4yYXGvytq0zfRRFURRFURRFURRFURRFURRFUS4B+qWP\n",
       "oiiKoiiKoiiKoiiKoiiKoijKJUC/9FEURVEURVEURVEURVEURVEURbkE6Jc+iqIoiqIoiqIoiqIo\n",
       "iqIoiqIolwD90kdRFEVRFEVRFEVRFEVRFEVRFOUSYNcqffHDyQS/EwpYU1EXDjt4Qr/8PVLQCeO5\n",
       "B11R12q33XI0FpGvD/CaRqMR+Ww44u/L6lmkPvAc9y22bZO6T/h+rFJu0j8k/azOBwNS7/Ww3m52\n",
       "2GOCwSCp+z3X9C19a0LqgUCQ1aXSMVJvd85Y3bNnz0l9pphzy9OYbAfjMbZtOBwVdZMxtmW1Whd1\n",
       "kZBhL5OJqFtYmHPLo8HQLdt+vh0AAMYjvI/7n2yIuv74xC1/+Ns3RV2jWXLLkXRC1FkFbJc5J+2W\n",
       "8/mseMwn21+55XDYEnWxaMott5o9UTeeYBs1akNR12jW3LLZrgDy82i1WqSeyxZYXbVaJfXZ2VlW\n",
       "d3SK7W878r1Ppnh9o4nsW7Z2d91yt0NtuVJpeeUAABAIOqTuA/46Gq1TUp+bzbG601qJ1Feur7C6\n",
       "87MKqZeqeP5ILuaVu1gTvK+wI/eBmUVs87WFVVZTqTdI/dXhPqtrdmibj41rqFWaXjnqfHh9wwHv\n",
       "iwEATg4NOwjKMSZp9L3tzW1Rl0hif/OFMMaclhucHAAAYkm05faQ950AACvLK275+Uv53s8reE9X\n",
       "Fnn7BwCIRvH6/EZ8vXn7tnjMw28euuU//MmPRd3Ljadu+Xi3LOreevNdt/xq96Wo+91/+oFb/vTR\n",
       "35LPJlPeJ/n9SVKPGn7fpN2k/TPo8PEwnU6T+rngqyyLHn9yfsrqAkHURRM0rmUyKa8cAACevdgl\n",
       "9XCEvyczhwEASKYyrK5epv6yUJxndVMf9U0382izZ+cnXrlLwMG8ZTAaiDrHaPNKuSLqYBRyi+Ph\n",
       "WJTNFo3Y3UUfHgjKMbRZwbjUH8v5g2NjmwcCfF4GAOA3/HlnIsdNy/is3+8bf5dzosEA2zIcuOg3\n",
       "Vmijk4nsB50g3ke3w8crAIBAIIDnG9Pzteo1rxwAAJIRanuhCB87/tmf/LZbfvAvvhCvYdTFe2pV\n",
       "ZdsbRlfwf4ZoW15ffp895vada6SeyyRZ3ZLHr/p9/PM9PzsmdZ8VZ3WTIX2Gp/VzVhdPL5L6sxcY\n",
       "i1IZPicCAOj3sA8Ui0VRNxyiXeXyfJ5ROaExqtvl86L5GZp7TkZ4DZOxPD5MJgw/e0G/AcPHdTuy\n",
       "b7EstO1IVO4rkRD6Fttn+KOWHGtDCdRVuyVRlyugHV25I8fkoxLmQavZBVH39MWOWz41/G+7I+ey\n",
       "Tx8cueVgnLdDAIDx2HhOU/k5ZVJ4H52G7LObzoFbvrNGbS8R5fPNZJzexyjPt1k+RH3L7iN+3FFI\n",
       "0vsNRnh7+b2Pvk/q9z/7GK81zo89l1dov+sN+fxhbnGG/mE8x+paXepHa502q3Pi9B1GNBlidf4k\n",
       "tfkPVu7itV7wvmT37IlbvveD66Lu4OjQLfd9VVHXq6MtDQKiDMJhjK9mfp7Lyv3GMfKMkxM5Jqyt\n",
       "XXHLrZ58746DbdloyvFwxsgzzLGnbcux1jyff8rbCgDAySm2VzQq64pFvCf/Be/JqkZMWVygNvvu\n",
       "O6+xx3z8l39B6u0mH7vXb6BttyvyWGdhfsktjwb8+ykAgIHRB9ZWaS6cSqS9cgAAaA6pUb149oDV\n",
       "3bm5ROq/++MPWN3RAfXngzHftt5x/OLSDbdcPpf9pz+EPqg/4vs4AEBvgPnOeMz7rfWbdJx9/+v7\n",
       "rK5QWCF1J8jHi3wxT+qxGPrpV5tb4rWa72/Wri6LOvOdUrksj3lPSthX8gt8LgYAUG5ijEmnjDFC\n",
       "UO6HPht1B6UjUZc02r9Tv6Bf1/AZXrnKv/cAAKhX8H5TKWyH1y4Yd5eNMdH8gpzn+frYByIR+R33\n",
       "jVv4bDZffSOfzxgXnJ7TGD+xeF8QidIxaTrAjwsiMWp7IeF8owntG70Bn49FonityRS1FcvH98Oj\n",
       "A3ru4ZDXxWL0fM0+H+cCUToe3D3h32sNRnQ8Mj+HeX27Keeb6SzaSz7P+0EAgKGZX8uvYqFuxKIr\n",
       "q4uibnYGY+/ul3usRmf6KIqiKIqiKIqiKIqiKIqiKIqiXALsdDwvfjgY4C802y35m/BmHX8J4Lvg\n",
       "a6RJHL81cxxHFk6Nb+HkH2iSX679o19HTvlfX049fx8M+a/XzF9KAgA4Yf7b2Jjn1wPNOv9LgEGf\n",
       "Xp85EyYY4n+Z5PfTmx+P+W+vh4OpR8f/MqZQ8Px6KzHD6spn9Nv0WhW/0ew25V/q+Y1fTter8q9z\n",
       "5o1fMJYu+PVxNo+/Wtg/3BR13/nOd9zyTBF/tXj/C/mb8V4Pf5kYicq/TCim8Jv2jZe7os52sK/E\n",
       "Y/wvuQAAWk38NX29hbYy6su/TAgF8fmOB/KvioMB/EY+mJZngpTLeA3hiHytiwv4q7Fsmv6a9PP6\n",
       "1+wx5i9NAACiMf4X7sEx/b8bG/xsq7gxcyNiy7NWEgnsn6Oe/JV5s4XPfTqmfVrqD/t7O6R+/cY1\n",
       "VjcB+supTp//JVWvSX8NVj3nf40Q9NxvMovPwBeUf4Jn+9BvrC3Kv+IJBfA6zoTZOI+fPiX10wp/\n",
       "rZMp/TVIf4T9IRCUf8nSaKGf6AgzHgEAri5jm8eSsm1//ehLrPhk23Yi6HObxow264Jf/p1V0C9e\n",
       "u83bCgBAs4W/ELq6Js/gm8sZn43lfh2N4rVaxq9s7n/5kJMDAEAxj23+0z//WNR95zuvu+VkkJ+1\n",
       "AgDw1eeP3XKlIf9S+vudN9zy3Az9hYvvLX4Wy8MvXpB6ocDPYglYnphs8zN4egOaq6zduMXqNjd2\n",
       "SL1c5X8F/fqb+OvKBw9pm9+6y//y8skzGivu3r3D6rZf0bh2dHTA6ooZam9nZ/yv7hJp+gwPDvB8\n",
       "Syt8uwIAjMboFxeXZJ9RqeL/tXzy7Nuh4VtTSfnX6m0jHs7NYV6wuyvb2LzxK8iDkxeibn8P7z0R\n",
       "k2ce53LoV4cTOc+FAN6vbWOi65vKSa/tR7/ov2AGjzlzKCrMsAEA6HYxZ5gK+SAAza8tj65d52dH\n",
       "nXlCSiLLx5hbb6DfWrsu/+rs8Rb6jGxatoHDA4w9gQhtf/+IHwBc6dJf34fD/GwX77ig3RVmGOTp\n",
       "fURC/K/znn5D89VwnL++rR06c2g4MXLjhvyL9GtGe+YLcuzIGr8k9I5p3P/jfc7CjLRIiNrboId5\n",
       "y3hwwczyAuZ2owt+pWhZeA7bL/8S3m8M9gY9uR9OJ3i+iTH+Gk3lGYXpHD7PTFFu18MDnMVaEfI3\n",
       "AIDCLD6n+1/KPqjZwvFSwEEfG+TTYgAAyBfwOQ0cebw17GOjLy3I/XBs+JZE5KqoW5nDX9ZbQ2rX\n",
       "5qw9gkXHu9dX+dgxbtLneecmHw9/8R9/Suo//PH3WN1hncZJn43XO7H4ay1VaUyZ+PmH4M3bowHe\n",
       "DzqeP4dTvM/wRWke2unys+LmFqhPq9Ux1+5f0B8CfryQYV+OyWDMinNCck5+ZRF//f7i5TNRVzfG\n",
       "AokEjtOadbnf+I2Z/bMzcj6ysYGzFOJZeXy+fx9/zfzW2/dE3eEh5mMdY1WCQECOoWGjjcz787K4\n",
       "gv1wOpH9W7WC45vpWH6x9eYqzqqvnlEf/uf/9jP2GNtP88N6jZ+N7wN8tpm03K5hIwcZ9mUfNGus\n",
       "AnN2TGfKP3/Kv38Z+GhbLi3ysy28Cz9s7fC/xreDtH/95rPPWd3qtTVSP/8Gc9l2V7aDe2/je5BP\n",
       "Pvm1qDuvYX8oFPjZn5Eo9Y9Xr/AxeXP3E1Ifjvjz9fs08LbM3GIs+4KgMePutMSPOQAARhl89sOx\n",
       "HORn5vC+xpbc/xdX0MeNJ9gfSk15lQlzll2+KM+eefocx1K5C95rwwTvaXdbfqf3/rvvuWUzl+p1\n",
       "ZF9s+9AXZ7PyDI9KybjfC16FHxrv6tpDeVWDWgv/b2HmCvnMifJxbgr0HW3rnH//sveK+qoFob8G\n",
       "gMaU0/IOqzNnKFdPaSxMJfnn5gSpX52MeRvr9mg/zmT5XK9Upr5qavF57nhCc8qO8Z3IVMgzAAAs\n",
       "Y2U0Szg3AJ3N32zJs2+DYXx30mrL9nf/AY65Ykl+TKQzfRRFURRFURRFURRFURRFURRFUS4B+qWP\n",
       "oiiKoiiKoiiKoiiKoiiKoijKJUC/9FEURVEURVEURVEURVEURVEURbkE6Jc+iqIoiqIoiqIoiqIo\n",
       "iqIoiqIolwD90kdRFEVRFEVRFEVRFEVRFEVRFOUSYLcaLfFDvz/oln1giTqfz++Wh6OuqKtVem55\n",
       "OpUvajI2r8GWdRaeJBgMks+CgRB7zNTzj/v9Iavr9/v0f/XHrG4wHtA/+Ph2ikWjpB4KY/38/Jw9\n",
       "ptOhz8YJBVldPp+lOov/Lu9wf4/UAw7/EIpzBVIv5HJueTxiDwEAgFa9b5Tl7xOPT2pu+dadm6Ju\n",
       "OK27ZSfCtz8AwGSKNrd7sOuWp1P5mFA04pajoY6oS6VSbvnLL2ui7s17V93y+Zl8PhihfQT9Afxz\n",
       "V25Yv/E8M6msqOt18X7j8Zioy93Aa03E+H4CALD7Cu1lHA+TzzKFNHuM12YnkzCry+XypH5erbC6\n",
       "Vh3bPJbizwUAYPuNfueTdWBjm5+dN8lH7fope8jC4gypn5fPWN1gTJ/7GHqsLhkvkrpvxPfr8Yj2\n",
       "odIxtkUgKt9joYj9tVqXbfH84MgtR+wEq9nZPSb1dD7H6o5OqG6mOOuW61U5xqSS+H8nbTkoPHz6\n",
       "jVvO5jOizolgv05e0EaHh/tuORZC3c2b6+IxrQbay8wC314AAMGw3KdMrDHa7MbTTVHXrKMd9fqG\n",
       "77y9Jl+Db+KW319ZFHXnNYw92UJe1Jn9euo0RF2tjm009cXJZ1fXAl45AACcHERIvVtrsrpkboHU\n",
       "d3b5Npudp/HrweNvWN0E6PVkCkVWN5ygXe4d0r4/mj5ij/md3/kBqX/22ResrlDwxlrev3eatB/3\n",
       "eny/HldpzAsG8R4dR86l5vJoI/e//lTUvfvePbe8uflS1AUCaNuNLp9jAQAcH5ew4sd+U23UGfU/\n",
       "EDFiW8SWfUFyAXXNhhy720207f4F1+rMoJ2GQ9j/R0IOCQAwGmM/7Hfl3Hg6wfjv9/tlnZHTtNpy\n",
       "P7wWwxjfrtPY2mu12WNinlwg4Ofj0tIqxv7FOT4PAADYPzSejSXf++I8tmUkTe233+FzuEiC+vZU\n",
       "YYbVWRb1Le3uhNXtHdH+dFLi+9fzrUNSX73C/9+zWpnUK4ZfNGOUF8vGflOcLYi6mSK2e6fN5y2V\n",
       "iiensvh77w/os2k18NoD/r5X7pLPYLwIhRxRNxziOQIg23Y4jPY2Gsu5+3Q5cN8eAAAgAElEQVSM\n",
       "/tjnC5gfiMecnWH7V6uyLd59F/32841PRN0vv/hbtzweyveeTKN93Fy/5pY//+Rr8RhrjPYxsGTf\n",
       "Eo5gv/nyV89F3YcfveaWU3G5/b/3vRtuOZui/frhV/z1br2gfvq4dszqvvPuPVK3onyM/4N/TuOm\n",
       "FeBjVghSpF46wP971Nz3ygEAIJymsWIg/Oa106T+cb7Ix5iwQ5/7WZe/J/B5/s+Ez4OmY3qvARvt\n",
       "4PiIHx8BADjGdQQdOecNh42cdSTnqGZO2L/gfY5j5BbhCPbdwQXHRMyc3C+/U5pfxlyv3pTHD9Fo\n",
       "0i2fHPPvUQAAhgNs2/EIy9Gw7IvHhp9pXPCe7GQX76PZlK8hlsR8ZDKVz7f/6uduOV9Iks9yM3x/\n",
       "8Pnp2OmqMI5xHHw2kZQ8hhkYOU2pKucZYQefe9fzjmxx9Qp7zP5RidRPT/g2mwLNP4pFPtZ67ej9\n",
       "732flfls2kZHRzj+Dfrk/jAaoo9bv70s6s4r6DfKGy9YTSJK72FlaYHVLV39IakP+/z1/d3f/pLU\n",
       "G1W8hoU5ob0AoFjAcUYoLI8LGk3Mm2/euCPqzs+rbrlSrYq6dB7vd2jYi2+c5OQAANBpoy069kDU\n",
       "xSIY2yIxPtcBAPBZxrvXU8FnA0DZsMuTY8yJOh3+vQ4AgGXk7ub7OC+JJPrBi94XhAy/enfxtqg7\n",
       "PsccMJWm7/7KZb5/1Tw5arfH+6REnMa/x48f8tfqyQHzOf5dUa2C/3c6os8pFuDHHL4Y9dOvzsqs\n",
       "btfjq65cWWF11pi2+fLCLKsbTmj+VW/i+ePxuFfuEg7j8x2NZJv1G++AT0/kfmPG+FRGHvOOp/h/\n",
       "z0p8HNaZPoqiKIqiKIqiKIqiKIqiKIqiKJcA/dJHURRFURRFURRFURRFURRFURTlEqBf+iiKoiiK\n",
       "oiiKoiiKoiiKoiiKolwC9EsfRVEURVEURVEURVEURVEURVGUS4B+6aMoiqIoiqIoiqIoiqIoiqIo\n",
       "inIJsK3pVPxwOhq65YlR9uIP+N2yzyefr9vruOVAICDqfH7bLY+mE/n6pmM8d3dEPms3O175P5wb\n",
       "/KQeCoVZXcBPr29qCddq0fsNOPx9jSae62vVsGKNgCObz5D6cNRndSenR6SeStis7vadm/Rag/x3\n",
       "fr1Bj9SPDk/dcuW8xR4DANBpDtxyNJISdZMx3m+11hB14RjqonFH1PkCaCODYdctJ1Jx8ZhGFa81\n",
       "MTcQddEIPoPFhTlRVz3Da+11y6JuZjbtlmvVc7ccCcvX+k/+4J+65bNSU9R98tkDt3x8fCzqrq7i\n",
       "fVy/fl3UffPoS7fsB9pGjpNkj6lUaL97uVlhdfHTE1IfDsasLhBEW85lZJuyfYYNjGXfEnSCbrnZ\n",
       "2iefNZu875qbof1uKvjMeLRA6sdl3g4G7TqpxwQf5ASCpB6w0XfFEhmv3MVvRdzy4e6pqOtUsO/1\n",
       "Q7wm7ERJfX93n9VNPA7SmqJviYdi4jXUz9APVs94WwEA8Pmx/5cr56JuYPjIxZUFUXf7zjqer4R9\n",
       "5dE3D8Vj0nG8p9ff/kjUPXr0xC3nsjOizm/Yqd8XFXVgxDkLsJ3HY77PAADYRhz64ssHoq7Vabvl\n",
       "t97m4wYAQDKHn91+931R98vPPnfLH3z4Efns6OQz9pjX3rhG6q+e8TEhFqZ2ND+3yOpebm+R+tr1\n",
       "a6xuY2OX1NsjPmcIBNH2IhEaM69evcoec7hH+4kf+ASi3+mSerPO23Y+nyf1a9f5/3t0RHMBM915\n",
       "tb3JHgMA0OpgXJqdy4u6SuUMdQtFUVetoc6eRkRdsJFwy6MJtrPll/NI89whv+wH00mMF9MJn2MB\n",
       "AASNXLTaq4m6qdHfzNxzPJbPDYD3EYxc0McnGF8nIPfr3ghzs2ZZ9pfJOPaVTpvmbPEIn/eVj0tU\n",
       "l+ZzfieAce7KspwTPXqAzzaSlPOb7ZNttxz1UVtZunKPPWYA1Fdt7Z2xOsei/9cHfB75/CX1+5EY\n",
       "b3+hJB0/nJ7x+XC7S/v1abnqlhcWV9hjAAD8fjz/YMDn+wAAiQQ+3+GAt4NGk9qyFC+qVepz2g2M\n",
       "h37oeuUu2ST6iWJR9hl9IycPJ+UYE3Dw3nstuU9ZxiMI+DB38vnk3zAeHWH7n5zIY45nu7/Ec4fq\n",
       "ou6tdz50y6fHfNwAAKiV8RlsbLzEcwfkZ2u2Q8TfE3XjMcbu/+I/+09E3dbWBh4TlHPof/Hf/I9u\n",
       "udui9l/IFbxyAAB4560rpH73zlusbjihCeajJ3usbnv7Oamn82lWd/PN10m90kF7Sab5ay2sLJP6\n",
       "y50dVje7SH1au8338WaD9qezFj82i3veOUwHvO6sTJ/1YIAxYX2dz3UAAEYjvHcnIMfax4+/wWuK\n",
       "8eM3AIDcDPqWpQty6KPjA7fsM94lJLKyrx8N0a7qbTl+zfy/7L1Zky3JkZjnmSfPvp/a11t337vR\n",
       "6G7sg8FGI2dIkziiTCYZJb3on+gXSO80msloHJlJJEUjMTsGIIAZoIFe79b39t2qbu3L2ffMk4se\n",
       "epAennAv43OZf08RdTyzIiM83D3ynPBYxri5tcuvOQAAbl7DOH4gvPMBADjcQ/+QNt5XFXKyTw4M\n",
       "n5xOy7Zlbg7jh4VFXl8BAI6OcD1Yq8txy83rX4vLb7Zfk8+uX32HvcY14ngAgFmK79uTE1wPTl35\n",
       "nZ5pg4p5YXEIAKkC6t5Cka5XMynextUnVG4y5te/fkD7cjrjbdds2iF1abnZPKA2Z2UF49dJX7az\n",
       "4ymOW9pZE+VmM9SRwXSHlVnZon058vh3FfkctavHraes3N071A7OpmiTPvvkQ7Gt7hRt0OYleY06\n",
       "P4962mrJ627wca6cHsvvHGYByt26eS8uR4UKJw4AAJUsvts5OdsR5epV7NvMOf51aQuf15vIsfZk\n",
       "jDoxHaGeR6H8LnI4wljHncrxg2/0VzCR7dbtq3fi8mh6Ksr5M3zeg326rm00eFuTydD5ddbi1z5H\n",
       "x9T+OsJ744lLn+PFc94Gba6gH86X6Lp4NOZ1JxVRm5ESvhZYW6B+sn3M++4I6P2ap/z6oTpH52ut\n",
       "hvFr61h+F9vtYl+aY51kMsFxW1xYEeXe7B1gxZJj8nYbbeHWxiYrozt9FEVRFEVRFEVRFEVRFEVR\n",
       "FEVRLgD6pY+iKIqiKIqiKIqiKIqiKIqiKMoFwHHlnUJgG3uozts6PzW2dc1m8lYmxzG332VFOTN9\n",
       "Ujol/9/I+M5qFtJteoHFb9vzA7qldTLh0ziY21sBANIOvw0zDOlzdNp86gDLofcz0zgUhLQfyb60\n",
       "hO/oFubodnbH4cfATNMGAGCn+D7yEmnkzHZYlpDnDgDWN3Eb4dqavB29aaQlcc/ZYjw1tqr2+vJW\n",
       "SW+IelU1UmzVavIW6lc+boGMIjmVxHSKWzx33xyKcoU8bpe/e++WKDcY4lbh1Q3cwttqySnhfvbT\n",
       "X8TlbkdOr5fNoh6tLM2Lcs9f7sTlqSen0Qkt7L9n23SrpuXw41at0P+7Ms9vDR8N6DypV/gt3u0O\n",
       "6mzzRE4HYKYaGvTlcdrdxW3w9UQaiPl5vi8Om/R+byfSJP6Opw+2Sb0K/Hb0yZQa3WKNTwmQStM9\n",
       "rPVF7NsI5DQp7VPcWto9J31iNofblA9P+W21sxm1EbUqr1dnZ3Tr99mJsVU4kHXMTLeZq8hbvMdG\n",
       "Gh1XSHMJAHD37fv4bx156/buIaawuX8f039VqnzaEQCAfBbb2m7uiHLlAtrI8UhOF7W9g23o9WS/\n",
       "WSihHqWrmL7jZCjfe2yhLcgvz4ly6QD7/OnOtii3bOje8WdymjDP2IZt52iaD6vMj+8ooKkVNu7w\n",
       "Ojbs0O3U/ojfkp1P/JvBhLcHN27TtAZnHd6+7O1iio1GnaZ+efViPykOAADehI5nvcY/U6tF/dp4\n",
       "xPuifI5unV9Y5G3L9l7CrlbRLrpuKikec7CL9nx1XdaXspE2LJeV02iOR6jbaytyrLdrzIHG3LW4\n",
       "PB3LqeNKRfQVw7HsNx9/juNupotJUiyh/XXlLB/gGSmOazmMxQpFOX2lmU4lcOVUxaUCPpM3lWOi\n",
       "1gna2cWGnErmk08/isuXLtG0RvV5vr3NRPqOhaaQJmkZbdC1O7Ifqv0K0xX46QNR7uvfxnQ22Xwi\n",
       "nehxJykOAACzxDQZDfi+dROpEOYXeJ11A2pLnYCPWzJAjct+Mp3iP+Al0mEXSjgHhj05/cnX3sK0\n",
       "jVc3+P7/EtQ/y+HXD2mHpovwg2esnJUYwtCIh3d35ZQuhQw+x9qaPF9N9x/NZH0ZTtGvB44cM8x8\n",
       "HKtpB69Jp2Q7U3TQd7iDV6JcKoO6PerJsfZv/x77ssu7IQAAWJ5HW5qtoo7euyOvEap5vGZmyTe3\n",
       "DXP+6PO/F+XcGf7fTEH2AWnDP5cWaPqv69fuJcUBAOB0SH3mB3/+U1buez/8Pqlvt/nYpbx1mdTP\n",
       "hrx9f/OrvyH1b34L08q9OT5OigMAwKBDffWVVT4NWT5P0/fk13k722rRZ897/P2iROrjcciPwTSR\n",
       "6nXqoQ0pV2WfbKZclVfnAIU8+sCMYDMAAA4PsJ9WVuS0jWur6Ff6fYw7knGaSbWKa8rOWHa2+693\n",
       "4nK9LKck3H6FMev8vOzj5xr4HI5jHB8wltf+7RY+k33OMQPOZXzXMb8o9+uqkSnPtuSUaa9fYkw0\n",
       "7NER/fgjPvYulqhfa+3x82ZgpIiKznm3trK6FZeDc94RpK/hXJm6NP2Uk+XjjFKZpiD86jvfZOVe\n",
       "btP5+uaY91+ZHH2O/T1e/xbnqS6PRzi+K+ekjr9y8/24/B/+01+LcuZREVcavD/87K8/JvXlZd7H\n",
       "W9ep76kBb1s6Q7rGHTXRZnzt8j8S2zo6QL/eOJDjjELRiHdycrxfqON7lWlVTlcW5XFd1OzguqpS\n",
       "lmPZbhvHczqTX1jX89jndl6eh+Uyfra6IaeinBmBy/USvqvzmvJ7hVwB++h1W05L2XdxfAdDOc4Y\n",
       "vcTPRkP52TMZnIfN/R3y2eEZH3svLtI16cb1K6zcZETHs9/lY3JvSlNMbm3wqZ/zRjptJ5FueTbl\n",
       "bY03o3Pcm/C2yyvTdXerz9tBK+GCl9Z4P+fO6Lsms+1BIL+PnHjoL9K5c77DyOF8HcxGolzKRlva\n",
       "O5X95lwF9XmSXCT9A7rTR1EURVEURVEURVEURVEURVEU5QKgX/ooiqIoiqIoiqIoiqIoiqIoiqJc\n",
       "APRLH0VRFEVRFEVRFEVRFEVRFEVRlAuAfumjKIqiKIqiKIqiKIqiKIqiKIpyAdAvfRRFURRFURRF\n",
       "URRFURRFURRFUS4Ajp2yxA+DYBaXLTuQb+Kk4nIqlRHlbBSDlBP9VzXQD+XP0uk0tiHxfx2Hb683\n",
       "nZF66PNy/iz5j2esXOjR53Ac/vkdx6H3D/H+sxl/b9vsMACYTqes3GAwIPVaNcfKFYpFUp+bX2Dl\n",
       "KtUCqbuuG5d39/bYawAAcvlyXN55cyDKtZtncXlxcVGUKxSwHdKzAwC4xpgWGtiGs9OWeI1lod5b\n",
       "blWUi1KoY1c210S5IMQ2uJNTUc6xvLjsjUdxedKXn++gjZ+5vi/KZTOoy8USrwMAAFGIuuh68v0i\n",
       "wzTk83nyWac7Ya9xbKrnUOLvbdv0++Yw5Ce6OQc8VzYGfaM9gwE/n768H+qUZdM+Khb4uZty6P+1\n",
       "k8/4D+Ry9H799pCVKxWo3P37t1m5k+YRqc8CHN/X2zvsNQAA4ynqmGkjk3gz1KtstszK9Edt2obu\n",
       "iJVbWFwh9dEIx8N1vaQ4tmGC98tkZN9RrtbichFkPbAdVNoTw8783v8N0KYdHB7H5cCV58O3vvXt\n",
       "uPz61SNRbuThOI1HPVEua9jjaytbopyTwbn36MnjuFyv18Vr8iW85uRMtkelErbBBzkW6A5xnLxA\n",
       "tlXpEo7hZw8/Jp/df2eTvcYKqA/+4vFTVi6YUpsxGvO+e2Fhid5fiDXmlipULsX7gWCG/eekqB08\n",
       "Oj1KigMAQBhSnZ/6/LyZX2iQ+qTEz9cwpGPz6OHnrNzaxgap97pj/GxN9l/dTt+4Rvabo8lJXH7n\n",
       "q/dFuUIW7ezOzhtR7s6tK3H5YG83LnsuJ/0ldgrte7XK2y0AAHeGY3B2diLKOUYMXCoXZTkL7f5g\n",
       "3I3Lxbzg5ADA9bD/U578G6sgi/Nm7Mn2spAxg2j5flMjZut2u+Sz1dVV9ppyhT7HsM+KQWMB+//y\n",
       "df5eAADXr1+Ny5U1We4XH/w4Lns+7f9ydSMpDgAAYUTt9GzGK8xZp0PqgyGv2/mE72+edVi505Pk\n",
       "9fwYnJ5RuaJh63NZ2c816hgPV8o1US4FqAe5LK9/UTgm9WQc8zu8GY3lzNg4+L11EDIYoE07PGiK\n",
       "cpcuoY1zPT4mAgAYt3EdM7+yIsqlIuy/wRht++7BLif+5f0WLsXlpeUrolx5ZQ7vt/dElOt2MS5a\n",
       "WCiIcoPRi7jsGWuEy1feEq/pTQzd8eW1yYMH6F9v3t4S5Y7PsF/6A9m2376LunfpMp13Dx7+mr3m\n",
       "u99/j9Qv3ed9TDr/itQr/jErd+XqNVL3fP5++7s0hn65i354dZ2/plCivvvw5JCVa/XoevrFR5+x\n",
       "cnMNun6eq82zcseH9Fmr1Swrl1wDlUqoV+a7mCT5HM6Hs1PebgHQdxonXTku9SP8bK4u2yAvgza3\n",
       "08L5UCzK/vDImKNXrmyJcsfH2GfVc+zg/ByOgWWlRLnxBJ8plUbfsbqxLF4zN49zbzqS31dtP0P7\n",
       "ebAt28E5w06srvK6AgBQLmJf2ja14XMLfIzueTQmry3yfunextfj8v6JHBPVGuivku+uTM6O8P9E\n",
       "QeJdjvAOIpOiPqDV5d8VFeboMy05fKw3dulzVEJeD3oelcuksH0vz3lf9dWv/ygu14uyvuy8xHdj\n",
       "89eWWJmv3fwOqdvCWtY9pn8/PN1h5Rbm3yX1UoRromAqr/vWNnDtWHTmRLnGEn42DuU+Ghvv59aX\n",
       "r4lymRr2+bMXL+Ny/px3cJcaW3H58ry8MBi7OG/Wt+R4s7WH65H5guy7d/bxfpkczodPP/uYEwcA\n",
       "gGwZfUzjCq8DAADLOZS7sSnHOi0jjiw58ju9XAHvl8pQezn1+LVnsUjntTfiY7NKhcbkgxP+vUqY\n",
       "eD/X6fHvCKeGG57NqB+qVSrAsZCh9uz1c14X62U6nsGEt5fLGzRGaNR5/Ts4pu8iohT6jlxJ1p1w\n",
       "hP56fVO2GX6IsUYmLd9v2ke5S9euinKTCfqfdo8fT93poyiKoiiKoiiKoiiKoiiKoiiKcgHQL30U\n",
       "RVEURVEURVEURVEURVEURVEuAPqlj6IoiqIoiqIoiqIoiqIoiqIoygVAv/RRFEVRFEVRFEVRFEVR\n",
       "FEVRFEW5ADhwzqHY5uGBKUs+5DmXw4MJnbT8PZJl4WF4USQfjGceaOiAfHjVZIgHRZkHhwMABAF/\n",
       "/2yaHqKaPHxdIgj4Q6NDn/ZfyuEPac1l6eGN5jPOfP7gXtuifZm2+QPqIofeu95YZOWSB6ofHvAH\n",
       "+TWb9ICvvnGiby6bT4rHFPJ4GNb+nnxIYNk4GKzXkw+UNMcmn5f/b62GB5eljMONS8Kh2AAAoxEe\n",
       "CPfm9UCUG4/xgNCNS3y/AgDM1/EAsgjkg5gtC8fK93BOFfLyoewnAbYv7cjPZOqU58mHWkaAbTht\n",
       "yv1vHtQ7GdMD9GxbOow0UZ/5rFw6Q+1JKMwB83vpyZi/FwBAGOGhZZ4rP3utjgcTTqf0fr5wQP3K\n",
       "WuLQTWEelmv0oEl/xh+klnES8zrD28x8nvbx/qtt4x7n6IFhg8+zs3aEcvkif0imf0oP/g0j3g5O\n",
       "Xfr3yBi3dEY+uDpnHPjun3OAedU4aC91jo95/vqLuFyq8DoKALB5CQ/yW5zHw2Aff/ZAvOYXP/8g\n",
       "Lr/7NfkQ+6OTR3G5PCcfkrlYwD4/PJQP3UwbfvPKtS1RzmRhAf9vaMs6MBziHB+N5UMyzcNcU4K+\n",
       "AgBUjMPgnSydJ7/+u8f8vW0677761h1WLpeihzw+e8gfxDzXoAdjPnz6IStX6NMDKccu3083b+Oh\n",
       "1qMhPVA5k1tnrzncpwdNFvL84cY7bxKH0FZ4PxBG1EfVhIMnZx41wMMh2iArkg95rpSxfY20HBPt\n",
       "7D6Py5OBrC/1MupfpcTbFgCAz5+8jsuFPMoVi/LBrt4MDzeuVBui3NTD9nnn2JbhEPs2DHn7BgCQ\n",
       "TuEcqJWxfX4w5sQBAKBQQNs3OacNsxnqlRXJMfnEQ7l+n/cvAABgHKYd+FSvR0P+gNVMYr5mBB3r\n",
       "9PCA21q9yMoAAKxsYLz084/+nSh35SbO106Xxp7ulJ+To2GX1Ntj3ncn58NoyPdtqUx9RbvJH3gf\n",
       "BtT2WYJtbZ61Sf3KletxuVGT48i6cRi878t6EBr9Mh7xh7y7Uxrb+R6vp5NR4pmMmOG89dF0ivq8\n",
       "u70ryjXq6OMLuXMOpC+iLpl2K0m2hH00nuC498+xRw+eYFxw7+2viXL7bbRH6bQcR87VUV+ubq6J\n",
       "cvnipbgchNj/vYEcd2eMg5it9GtR7o/+5K24PBnLtmV5Hf1pty/bqsBYj3zy4RvyWaWyxV7z7HWf\n",
       "1OfmFli5XpvO1+X1t1i5p8/3SN12+HVfyqKHVdtpjIefPHvBXlOr0/jh8JiPH4pFatO+8c0/YOU+\n",
       "/eQhqWfSvG7PEgfL59J8POwn7L75vuRwf4e9BgDAN5YxwUz2X8uLeKB0p9MX5VzjXUe7KcelC/NX\n",
       "4nK9in1mC+sjAIB7d2/E5X5fbsNcA2OBXqctyoGF9mk4kHX75l1sa7ONtmowlJ9v2Mf5MOzI77/e\n",
       "/jp+Vq6ds/asoc1oN49EuckM45HLqzR2unRpi73ms4+3Sd2d8fagb8SvS0vyQfPlBipVOi0/e2TE\n",
       "Fv0enePdIf9eZb5CY+bPnz9k5RorNBZOOXysNx3SOP6sy797unR5ldTbpxgHra9tstcAADhpHINR\n",
       "V/bJV5fuxeX9x7xt+ca775D6q+2XrJydWON2j/l5PWxRW3fv7ttxeW31UlI8ZmsTYy5vwsdOAAC3\n",
       "jbXYX/70x6LcchXHagbye5qxETP8y3/yL+Ny7xx7FBjv01J52b4dnKHPmh7JcUbKiDHTjryWXc6h\n",
       "vp01m3H5R3/4vnjNm1PDbxbkNpwd4v1CT16fR0a8Wa1WRLmU8X7ZDen/DQM+hvNsGmuP/TNW7uzw\n",
       "mNRz5QIrly7QNa7r8mM1cVHfQp+2dXv7Fd8Gj8bnP/z+D1m5g7OdxP/i7budpj5+/6DJyvUGdG5s\n",
       "1PBdQFF+JQ1hhPo87Mvvly9tYiybFuICAIBJD/upN5J9Vr6IupTll3m600dRFEVRFEVRFEVRFEVR\n",
       "FEVRFOUioF/6KIqiKIqiKIqiKIqiKIqiKIqiXACs5et1cW+ZuQ3rvDRwuTxuS8pk5LRDjrmVzpLv\n",
       "5xqpLiZjWc5Md2Yntqol678jCsJz6/HfE2mRIuC3qkWJVFJmmg6TTIa2J5XGuufx2yttO5lKghWD\n",
       "TCJ9Uq7Mj0GYyL01nvDbzmoNmtbD9+XtmuT+RhetX5K3y+7vfh6X11Y3RLlez9jmfEWWe/DZx3F5\n",
       "eRlTZ5jpJ5Lkc7hFcTaSdda2sc+2rqyIcn6Ae+k6HX6bJABApWJsGT3BLYBHh/IWdneG2zMdIX3g\n",
       "l2Bbk6laTGY+boOfTuUt8eZ3wtMJ1etCnt9qmkzvmBW6Npen82Ey4fciekaKE++c1AUpI/XOeXJm\n",
       "/0U2lUtneVuwsES3rU7H/LwpF+i8yWf5lE7FFN1uu7jCp3t5+sXnpN4dYMqTVEreW9o8Q72qVOQt\n",
       "wWZ6hc11fr6entKtpGbKJJPFRfoM3XbH+Gw5KR5zsIvpPHzBdgIAZB3U57klOaXTxMc+Kp6T3m1m\n",
       "2LSxke7oxrVb4jW9NqZk6fXkVFnzS9gXmXPSYe7vYwqAsxa/vRiA2u31dUxRcHoip4iYjtB/Vapy\n",
       "qqyckXascE4KzYmRjiaM5HQAC+s4NpkSneMry1vsNR/+9pe0TTbv6IJEqqdoxtvChXlqp2cRnypo\n",
       "kNgmnSnyc6Xdwvm+uEBT+Zyd8Xpw5w5NUffkyRO+DYl0O9kMny4rl6O2aesyn1bu6CiRViLA1BxR\n",
       "KPu5TAbnSj4v+5jFJUyrM5rK6ZRmM9SRbE5OD2LGaU+fYaqLbIZPIQAAUDVSv9RqvI0FADg9Rj98\n",
       "8+ZNUe7JU7Sz7XPSnd6/fzsul4zUjNE5abgCw864vXPSdRm2L5viY1cAgJwRN1rn/N9LGxgvvfXW\n",
       "PfJZqcT32dYV2kfeuMbK3b6PNmhqyTbo//g//9+4/MX2I1FuamM6lqUV6of230gpUmnql36H74t8\n",
       "js5pO8Xr4mREx92x+bkyHVKd3zvg07Pk8rTv7t/7alz+xvvvJMVjvvcHmHqsfE564qqRquqkxceO\n",
       "/+Zf/VtS73b3WLm5Op3vJSOl23x1PikeU8zjHLUt2XdfvYI28+Z1OYb2jAWEnZPnf2jjZ6kc9vOf\n",
       "/9XPxGv+zf/9p3HZycix8e4+6vPaqhxnODbqQeQLeTQAIAhxDTK3jG09FcYMAGBt43Jcti353gMj\n",
       "HjxvrXPrFsY0x0JKMwCAXh/bdPvONfJZSuizYTJ9c8TbrumU6kddSAOXXHcfHe+zcqUy1dmBMX8r\n",
       "ed5udbu0z+vz/PgmUwsm06L/jnaLpiTyJrzcXCLd+q2rfFqtZ8+fknpko63K5M5Zo6bws3YijZ5J\n",
       "2kjJbVnyHLDTRnr9tJx6KJtBOTP9+mQkx4eekW7z0uZlUc7MEJdMLW6yu4vx19nZSJTbMlJ75Yto\n",
       "Z0ol2c4c7qNO9dtyP2RSOAfsrOwP/+Rf/OO47E1lH99qY/8dndD0jqMR/4y3b75H6v/pP/4VKze/\n",
       "gP1w89Y1VgYAYGEF+6XTlW3GhpHC9cULmho7m+HHrRDdJfX9Iz416GhC18kh8OuTxjz1Ua7F++Qw\n",
       "orY0m8X7p1x5rXhtA1NR9g/ld2G/+itMIz2X421QIU/ncWWOX5t98oL7/goAACAASURBVPATUt+4\n",
       "zr//SqabDUO0GX/8o38qtjVnvI9sd+R0Uf7MeP9yzmvA9XWMKZPvdkycFM6jneeYmu72OfG5Gdkd\n",
       "d2W/2RyhPX7ykNcBAIC31jAeub4pv5toGz7luIkxaqUkr49Oezj/c8ty6uOjDnbm0ZF8FMadu5hG\n",
       "vjeQU95OjXXGWeLdxGGLfx+ZLdD5FAC/ljXfWQIALC7wMZw7pO/Tdl/ssHK3L+Pa+OkD6vMsQccW\n",
       "1miay6ywRn1zSOOFgpAu3U58T1EUUtb1xzTNc6GI11XKfAwDANAx3sHZkRybbayhnXj1aluUyxXw\n",
       "OYQQCwAASnW0B4HgNnWnj6IoiqIoiqIoiqIoiqIoiqIoygVAv/RRFEVRFEVRFEVRFEVRFEVRFEW5\n",
       "AOiXPoqiKIqiKIqiKIqiKIqiKIqiKBcA/dJHURRFURRFURRFURRFURRFURTlAqBf+iiKoiiKoiiK\n",
       "oiiKoiiKoiiKolwAHNtOix+mU1Fc9v2ZKDedhCg3c0W5TD4Tl+2UJcrNZvh/M5mMKJcCvEcU0fu5\n",
       "Lt8O36PPYUWsGOTy9P/msnlWbuR5pO4J/TQLfPp/p/iPLYvvi2TbwtBn5WbpxP90SrzcjMqFwrOP\n",
       "B7TvOr1uXF5dXeYvAoBqBf/vqD8Q5fLZXFwOZqEoF8yCuPzsyQtR7vKV63HZNr7GTGc8RvpLWs1e\n",
       "XA59oSOA9tnk+USUy+fx2fs9+ZlOz/D/DgejuJxK5zhxAADwpmNsTyDPL8dBnU2F8vyautgvk6k8\n",
       "r8ulOt7PoX3p+0FS/EtC+uxRwMsldX484scqsnBAwzAlttUCJy5Px2NRrlLDPqrWquSzo+Nd9pqM\n",
       "Q5/h7r1brNy3vvFNUreF79TfvNwn9f3DN6yck3VIvebgeLzZOWSvAQAoV/C5RqORKDc/h/cLPH6+\n",
       "ToZt2oZGg5Vrn9H2VCqVuDwdtZPiMWkb9a9UyYpyAeAY3Lp7RZRr907jcqFUEOWazWZcPj7C9p2e\n",
       "nnLiX7Yvj8/Ubsr2rZCvxeWzaU+UG/SHcXl5cUmUOz46isujTicuL9TrnDgAALiGzharNVHu9c5e\n",
       "XC5kZRu0trSIbRjLNuNkD9uaKdLYIhPyPhSm1NeGFq8H/nhK6utrC6yc6/VJvVGrsHI5h9qT9pCf\n",
       "r1aAtiqfoX1eKvB2q9mktuT+VzZYOc+jtqrVarFykU/HZjTusnIzn/qHsqGz+3uybvtGaHHnDm/f\n",
       "AAB+88GncbmxMC/KvfPV+3H52rXLotxf/NWfx+WlJRzPZpvvBwCAclmOQUwmE/TXDx5+Ksp9/wc/\n",
       "iMuPHj0S5fb30W7nMqjLpXxZvKZcxP7P5ORYdjRDPXLPibXN+HU2mYpyDcNOJ2Nj6bdeSZ8c2bzv\n",
       "mBgxb7m2KrahWkP/ZUX8HAQAGLVxnN6MqR/xZvz6xE70eTbP2/rxlM6vcpGXs23aJ4U8H0N3E3Y/\n",
       "aWt+x+r6Jq2voc6ur6+z1wAA5Ayfn5XVBVJGaJDOCL/dC2hcG8x4udGIxjf1imGnbTmOXFtHn+DP\n",
       "ZH8YWain26/3RLlrN67G5f5EjnNTBdSJ8RD9+M7BU/GalXUc98FY9slb1/H/joevRTnbGID33n9b\n",
       "lNs/Qj8wmaHv3rwpxybrWzhOB4dDWW5tLi5nUry+AgAc7qPdb6ysiHKFGtrfbuLfWsJCuVinfihf\n",
       "qPJyPo1lPbfDyxWonaiX+ZjETfjNnDF/vSHfZ6mEHcwIdjCVeNTI49fd6YgKblzi/ZxjURv2ubCW\n",
       "PTym/vnSFYwZCvkiew0AQLFofHbOuq/XwzkqrcsAAJaXMcY5PuLXJgAAlmW8z7Fw3ee6fH8BACw2\n",
       "0F90W7wOAACk0xgDer68figZ9nxz9YYo9/jJs7i8toG+cdSXbcHeNtqqrUs3Rbnnn2C5M9oR5a5f\n",
       "PYnLpaLsDw8PsF8sh457o8bH8ru726T+1leusXJnZ2gvP/nkE1YGACCXRtv+3nvviXJPPnsZl6OI\n",
       "xsbLW3zM+8FPPiP1G3fWWLmHH9FnWtni1zt7iVB44zav26UiXWONxqhXl7Zkn9zp4LzcO5R1tjyH\n",
       "fnPm8f6rF9CYrdPl44fcBtWPk9kZK7dQuk3vf4qd8asHPxXbaurRxvJ9UW40wPZlc/J7le4A5//o\n",
       "QPZZp0fHeM2J4ZeKc5w4AAA4OfQdrYE8X4/a2Ee9gdzWg138v85AtoPuzBgr42WpNZX3Stxfxb7s\n",
       "+XI/TELUveripiiX7mOsPW8L62cASBkx2+CY2su3N64nxQEA4M0BfQ+VX+bngB/SNe7JMR/D3bh+\n",
       "ldSzDj//v3jyOC4vLdO5f7zHr/sGNvW1ToGPC+wS7aOx8M58cEb1aAH4dwnDPp2vkfmuOJTfB4+G\n",
       "2GfjPr9WBwBon6Euzs8tinIpC+O7o9MDUc7Jod0If2/d9yW600dRFEVRFEVRFEVRFEVRFEVRFOUC\n",
       "oF/6KIqiKIqiKIqiKIqiKIqiKIqiXAD0Sx9FURRFURRFURRFURRFURRFUZQLgH7poyiKoiiKoiiK\n",
       "oiiKoiiKoiiKcgHQL30URVEURVEURVEURVEURVEURVEuAM5wMBY/TKVScTmbKYhyVsoon/M1kuM4\n",
       "KGcFopxtfDabufIN7XRcTKXS5KNCIcdeYuXp3y3h1lEUnFv/HQHQv1cqJVYum82S+nA4jMu2zXea\n",
       "53mkbttZVi757FbE3y/5CNPpjJWrVCqkfmXrclye+fJ45LLYjma7JcpVSthH06l8v1IJ2zEYDEQ5\n",
       "d4oPZnZlq9UXrxmNJnE5lZF1cWllJS4PB3JbO71pXO51PFGuXC5iJYX/1w/5sQAAKJVx3P1ZJMql\n",
       "UvjwKUfSbIAgwP8bhqIYhD6WI5/qVCTM3yBF/28Y8u1NAf3HM6HLLAuvDyK5saHRf7VaTZSzbLzf\n",
       "dDwhn803Guw1d+/eJnXP5fXgz37816Tuz/gxDXzaJ2abTPrDDqnn8qg7jfk6ew0AQK+DtiUCWbfD\n",
       "CDs9iHxWZmGpTOrlSpGVyxcS+mGM1dLCstiGuTraglVjriXpT3pxud05FuXe7O3F5atXr4pyRwcn\n",
       "cfnte3fxgyDFSH/J2UkzLlcKVVFuMjrHZ5lyE9Q/py87zlvXr8VlY4qDm9BfkyiF49ltd0W5Whlt\n",
       "bLkk+3jHxn4JfdkGrSxtxOX2gOrvoMe315/SZ8+mBd+dcGCdFu9jnDRtXy4zz8oVCtTPTXz+ftMx\n",
       "3s9JzNWlpQX2muGY3qvd7LByQUBtRK0yx8ql09T3n56csXLXr1+n/7eFY7++Jc/DYhHnebN5Ispt\n",
       "XdvENpzxbQAA+M9/9tO4/J0/uCvKFSv4XI05tNt33roiXpPJoH6cndOGTAbLdsoR5R5//mlcvnHn\n",
       "tig3GWKsfLCLNqhR5/0GAEAKMCYateUYxtSDyVi2H1kbnyOX4+NBAIAoQj/szui8Wa/zOmYl41CL\n",
       "9wmWhff2vTQrAwDw1tu34vKf/tu/F+WKFdS9cZ+OZ7nC9+1sRttWKvK2azSi8zC0eJ9cLtPrZ64U\n",
       "w9EYZGmZb1/SLqytrcXlbDaTFDfA5yoW+bUEAIA7RR8f+HxbLYf6sqQN+R2jyZD+wcb2tbpyHO9k\n",
       "cI7m83lRLmOoSMGRfYwRlkK5XBblOsNRXN4+PIrLjx/9RrymMod9uVLlYxgAgHYHfUKttCrKNeYW\n",
       "sT0jOXZ/c4h9u7q+FZdTjmyPXr7COAOsiiiXcnA8n75+LsrNz6P/szOy787aOACTKdWJTIZv7+CM\n",
       "9mV6ju/bQSKW9QM+Fjg93CP11VV+DKZDOg9XlnB+DYR45+SIxo22sPiZX6Rzdyq8I6kVaQzYPm2y\n",
       "cicHCZtW43X72pU7tH4L49ePP/0tew0AQKf3Oi7PhDUHAMDqMvZluSzHrzvb23F5YVH2bbUa+uFq\n",
       "FZ9pb+eIE/+yfcb7g5nL+xcAgG4b9eX6zXVR7uAA5XrdQ1GuYawz0jbaoOU5ec2RmuHzvXj+hSg3\n",
       "v7IVl9/efEeUCyKcU3tHb0Q5z8d5nY7oOm/vDR9DdPo0ZvvOt+7xbQhwbqRt2Xd7U/QB//7/+Y+i\n",
       "3MZlnO/9IR33Qp5fo7qJxf5ToW+v39ok9T/44U1Wbvt1j9TzdX4OtE4T79MAx/fnv/wFew0AQDaN\n",
       "cWm9IPuExatoZw/f7LEyfmKdnanwftOxqO8eD3g/8OGDB6R+59qNuNwbye92PWPtP/IeiHJXNvHd\n",
       "n+/JtuWoiXHCbCL7th//+IO4vLG8FZf3j+V3Ox98+ldxOb8kx05zG2ireuGBKNefYr/sbcvxzZUt\n",
       "1Lcnn6OOfnrA23kAgGXDD23dui7K2R7O8fPW8T5gW1stfg0JAFBuoI4uWHTeTbv8O6B3Ft8i9ZHb\n",
       "ZuV648Tfc/y7ivEe9bumHzGpVpewYlM9jzL8+5f9XXrvdou3g8urdJ7YjvT+keryqMvfL2vTvgwG\n",
       "+Ox7Z/vsNQD0XXGjKr+PtFOoB72B7A9HxhjMQvnd7mxsjE2al9OdPoqiKIqiKIqiKIqiKIqiKIqi\n",
       "KBcA/dJHURRFURRFURRFURRFURRFURTlAuCMR0Pxw0wOt9JlsvKWPcdBuVBIgwYA4BtpCM7JtgGp\n",
       "DG5LSqfldADZNG5PtS16Q9/nt0rNkinThARv+TxNhVAo8O1otZPbdPnntxLptkZTTFFgplYxGQ4T\n",
       "2zOFtG1WKbFFbjBi5cx0fQC/n8YtJrF9bNDHNGm2LW/DzBeMNDotOcXZzMPniIRnAgBwjPbOz8mp\n",
       "aQ6PcSttpYrbuAN5txxUyrgVNJ2Tt8tls7j9tt+X50q+gNucR0P5fpMJjs3UxXIuJ08I20hxFoVy\n",
       "+ikzjYs/k8fJuB1k0/J2Wc8z0sxY9JmSuiQhZA2DaUDnSTgTUhJa+BzJrdEmtpHOZjyUn71YwvH0\n",
       "plRHF4VUTfP1NVKXUgo1T+iW4umU316d2LkNkc3bjPl5ui20b9jqtbVL7DUAALMZtmM64W0BAIDn\n",
       "Y0pCK8Vvg03naQqA+iK/VTU3ofbSdANDV26DmTbkpCVvm55Mze298vwq5dGm7W3LaeACF//v6aGx\n",
       "bTqU7dFkYs4HWc71UE+tjCyXMWxLriCnnJm4uBXZG2NfZs5JEWNmP7JsWc7zcGv5YCT77owx36eu\n",
       "vM2/aaSwGk/o/bpDfvt4LpF2qNXjt9wvz9G0VN0Ory/ZhD1f2eDTg4zGdMv4eIdPa2amQXz58hH5\n",
       "LOXwqeiS8UIU8fPLS5i0bpNP7ZXJ0K39UnqWdKI9BUOv/IjvfwCApVW83/olPv0XAEBk+IFbX5FT\n",
       "sO0ZaRZzFVn/Npe24vLh/k5cnrhyyoNqHVNspDqyT/j6N96Oy4ORnFqtN8D4plA8b17jGFYbGGfY\n",
       "QnpOAIDIx7kSnpdq00g1FAq6AgBgG3M+m+F1DwAg5aDdDhNpjMQUQIlUCMUSnxax2cR5t3VZTsN1\n",
       "9xam9ZuvyPHbUQt1ZezSVC3ptKDnaepEp9MpK5dMOzaZ8D7ZTqRcGwqxXjqRMk1KuewkUuW5Rsq+\n",
       "wUCOI7NZjDUKRTllGhgpMd2zHiviB9TvBkJquygR21lGyg1HSAkHAOAaTqZwjv8y03VnMnK8+fo1\n",
       "pqmqLMg2aGUTY5+//eUv4/LiPB+/AQBENvZ/vy+ndKlV0W5/8UJOwTQxUjVVl+R5uHoTn8P3sB+e\n",
       "PpdTgywsYQxzeiDHMGZmlHfffVuUGwzwed+8fiXK3bmD6RiHXeorJJ8feXQN+egzPlXTvfs01c3i\n",
       "8iYr9+Tzz0jdc/m5srZG0648eIDpz8o5PmXX4gJNzdTr8+lyei93SH15mY8fDnZpOqvFxf+6VHQT\n",
       "IU1S84ymIx9MnsRl/5y0w5tGCiYzbXwS18N2tIT0UwAAYxflVlfk9ILm+4kwwLbnC7LNaDZRn2/d\n",
       "vCPKffHs87hsRfI7oH/6x+/F5YND+Zlev8L5dnqEcd6gKac+Doz19HJdTgO3c4hzKp3lU5ABAKTS\n",
       "GDMU6nIK1ytGLFar0BTVP/vbD9lr3ETK8WcPePvy3nvvxuWHg8diG45bz+JypS7HYvNG+u8b9+iz\n",
       "p/J8vHnrXdqXM5fX7VIi5erx2SkrV12gvjaT5m3LWUT7xAyDskU5jWG3MzHk5LXP3jHqQbXO++4w\n",
       "8f6xusT7zUdPn5K62+FTvUYB9f3T8YnxmTwP946xL8pVOUXy2EN7srF0WZSbN9Lcts7kmLxn6KnT\n",
       "R/341//uT8Vrrt/FdGBnPdlvft5Gm5HPynH8vfe/HZffql0T5bwJ2sGsEd/sVuW4YDTBZ+/05Pce\n",
       "WWM9vbTI6ysAQN54xz2tyen6zDg3tGk89+aIT3WXSUzrrpAyfHNpkdSldcGbE+oP39/4Jit3dII6\n",
       "mnxHdqnKrycWImojpOM+NkobpP7Zg6es3HhC1zrScRVRgY6h+S6gUJJ98uU7uPYZTWRbPzLea7m+\n",
       "/F6rYqyf0mn5/WaliHN+X/CHutNHURRFURRFURRFURRFURRFURTlAqBf+iiKoiiKoiiKoiiKoiiK\n",
       "oiiKolwA9EsfRVEURVEURVEURVEURVEURVGUC4B+6aMoiqIoiqIoiqIoiqIoiqIoinIBcMoV+bBQ\n",
       "8wBoSz5jCMIIDzdzzzmANzQOZS+V5f9bLhmHm51zcH1gnILsevT/SgfZR4lDbf2AP3RsMqUHIjZb\n",
       "/CFXly/TA9U7Hf5wyNmMHhSVMg7yWlxcTIoDAEDg08OmfJdvaz5PD7ybuvwhV5aVeHbhflHisNpy\n",
       "HccjCOVDqQ738ZC1Rp0/gBcAoNvBQx/NQyiTdNp4iFa32xflPEMPel189lQqzYn/A/h9Z+jKB037\n",
       "Uxw3dywfBj01DnYdDfhDhQEAKmU82NWOcDy8iXyNk8bxTTvnHayLcyAI5EOj08bhvKmUPLFHIxzr\n",
       "XIb+3+Th0PHfA3q/WfKk8liO1i3BwETGIdmRLT9TBHh94MnfZZs6v7KyRD5bX+EPbH3xdIfUDw+O\n",
       "WLl8iR56minzhzQ6eTqvj88OWTkvoH1cqeD9Wy35MOLJBOfN5StbotzB3m5cri/wB1lOJ/TgyaHL\n",
       "Hya4skYPsT07xfYNuvxB0wAAGVOfQ/kA88W5Wlx2zpkD29vGoYWRfGj0+iq2t9PCw/ROT/nDQgEA\n",
       "ssb/TRVlmxEY8zqbltvgRYZtSRzwaXJ6igcf1st40GF/IttE18P/W6jKh2yDY8yVtGwLmj0cz+k5\n",
       "bYUpzq9UmvqlmXAYcb5E+ygC3hb6NrUlxQqvs5UKPfT0+JT33W5I51CtxPvhjIXP2/Wp/lfKvJ8r\n",
       "FKmO+iF/AGypSG1Gs8nHD8USfdb9Xf6A7503J6S+fgltXL0uH8rc6eN1lXP0ZXsXDzH1A/lAyevX\n",
       "8eDuxUX5kFzPQx2+eXcrLq+tLDPSX/L08+dGG+TDUu0UxpgRyHFLYw715YPf/FKUq9XwANOMjfd2\n",
       "Z7LdggDnVzotxyMjQL3K5eSD4XNZ/Mw7Zx6a/jlI2NXDQ97fFOv0/1ayl1g5N0Rd6XROWBkAgEoZ\n",
       "D1v/9je+Lcr957/6v+KynaI2oyXMh4XFLVLvdnk9qNTowbCtI/5+UKT/V46faGzhOLwfcFLUpnXa\n",
       "qOdLcwvCvQGKRaO9kWyPs1nUv06HP4zc9Wm86s74PiqXqL1MZ7Ht88tyW0OjL0rFuigXGHHpZCLH\n",
       "0CvGnLfz8hzo9zHWrpYxLsieExfkSji+3V5TlPNneO9337snyqUqODan4x1RLjTWfZkMtmH9Mj+3\n",
       "AAD8KY7T4pIcP5jrxuOjl7LcAvqAhWvyQfPuAO3EqEv1eqHB2+PCKl0nzy3yz/WLn/+a1C3gx+rW\n",
       "rdukXs6vsHLHB/Rw6hSg/o2nvK+ddKnuDYZ8/FStU3/16QP+wHt/Sv3fWZPX7WGfzrupy7dvbXON\n",
       "1DvHqKeVmuyTT44xjnFd2c9ls9jnuVxBlDs4NJ7DkuU6bYyVK0ac0WrKh61HEcZw1bo8x2/cRD1y\n",
       "LPldwm8//CAuf/u790W5Sg1t1fYXaC+fP5bXUWkbn72Ql99D3Xkb9WB9UW7DRx9jW7/+Q/n912iG\n",
       "MdbDXz0inzlZfj6srlPdgV6Jlfvxf/htXP5n//wHYhtu38T4sj2QfXytgWvmqUd17+Rsh70mW6Xx\n",
       "/a//jl9Pv/POFVLPD7dYufHsGalH0xus3IcPPyb19997Jy4P5deWsLKJ7eh05LVsYIR3nTHvkxfm\n",
       "qC4PB/z9Lq3R8QyrvO/eGdN4pH2M47a4IduM2hzOvU5Hjks/PkI7296QbcvdO+iLFhY3RLl/8T//\n",
       "cVy2jXc7L15/Il4TZNBOLy7Iccb0FNtXK8lrDvMdwde/844ol7Lxfgdn23G5sSGvo1bzOO9+/fHH\n",
       "stwi2pblmmxbinm0E4WqHO8vL2O/XL1J9d8LeZ//+s0OqS885vVg6tH1w/427+eOXlGdv3GLjx23\n",
       "sqjb+TL1hZmMsKYs0/mwd7LNinWP6Pub25t83LKxdZ3U/+anv2blUiG10602PuNoItvFjINxfGjL\n",
       "8yswYvz9Q/nd07iPa7abN66KcmlDZ2tFfg7oTh9FURRFURRFURRFURRFURRFUZQLgH7poyiKoiiK\n",
       "oiiKoiiKoiiKoiiKcgHQL30URVEURVEURVEURVEURVEURVEuAPqlj6IoiqIoiqIoiqIoiqIoiqIo\n",
       "ygVAv/RRFEVRFEVRFEVRFEVRFEVRFEW5ADj5UlH+0MHvhPq9nihXSpewXMyLcul0Gu+dSYty0SyK\n",
       "yzN3KspNJhOUm81EORPLski9XK6wcp7nkXqhUGDlmicHpL6yvsrKdbq0/4qlWlyehSP2mnKN/s9+\n",
       "d8DK2TZ9pkKWf6ZCxSX1mdtn5WZeROrDthOXA3CT4jFhGMTlSxtbolzz9FFc3t37QpSDNLYjhJIo\n",
       "ZqUacXk4QH3JF+TvND3PeHY7EOVGY+zLYCa3odMeYlv9qihn29iXftTBe7s1TvzL+4XjuDwe8roC\n",
       "AOD7YVzOZrOinBVhv2SdnCjnAN4PIjpfU06Zv8huUzmhb9MBtTvmXDaJQvx7Ni23NXDxfpUqP1e/\n",
       "/Azt0/IynauDAT+/dt68IPXZzGPlvKBJ6vUGry+9Lp1D1QI/X0/36PxcXduKy0d7e+w1AAD37n0l\n",
       "LrvBWJRbWNmIy6MebwvGU/qsnX6LldvePiZ1086Wi/K86Q9w3pRLslytsh6Xu922KOd7qG+eJ8+V\n",
       "6Qh1OzTmg2XLfsnK4NxNRaIYhJ5pt0JRrgCoi+O+7L9KRbRvXmA833m/2bDw/05HQ1EsMuRm5zyT\n",
       "42SwPYJeAwCEPrYvCKnuRG6KvcYd0efwA4eV88An9VSWty3dCZ3HdY8f06Mj6pMrVd5uV/Nom+0M\n",
       "tavJOOF35EvUVq2szbNygyG1GZeuN1i5Qr5O6vffWWblPI/GS69fv47LmbzslyLAPgqtjCg3P4/z\n",
       "0PV4ewkAMB2jPn/xaFuUK+dRl45e4/2e507Ea7YPXsXluQW+vwAApi7aibW1DVFuNEIfkwbZD0+6\n",
       "OFeiHOqe78mxcSaDfZny5di4Xp+Ly+5YtgWuYd/SNj+fAADGAeqlnYgF2gPe185c6jczDd5+npzg\n",
       "9dUar9cAAKUK+rV/8s/eEeV+9ov/D9vWorFsFPHxZv+E+rVZ2GTlmu4RrR/yfVvYoPFMFHZYuZMT\n",
       "+vdSnTeaVorahZSFfTEcyj7ZD3D+uoK9BACYRXiPwLVYGW9K7V5y7YN/p/oR2ain9UU+NgEASDto\n",
       "p8OQt9kAAPk8zoH8/Jwol0oZ7UvJc6BQRZsxtbAf3vvee+I1u3sv43KmLbd10ML13HL9HN328TlK\n",
       "hTui3MxGPWj30R4ddXfEazIR9v/a8qYol8tgzHtyfCrKvdzHZ3KF2BUAwPNwXq+sL5LPsnl+Hq7O\n",
       "0/b9/Oc/Z+XevvsWqbdPeN99vEPn16DFx3qLq1QvK3msHxzz9vi0Se/lOLwe5PN03kQu7zdHfWpH\n",
       "p2O+j0ol2tZagZ/XuRS1vxNAH9hoXGKvAQBott/E5cCV10iFIsYQg478XmXN8KkPP/pUlFuaRx3p\n",
       "nxn+5hxbUMga17TkgPPWPYxvnjyVYwHLWBPu7/I2GwBgfQX9euUt7IesLceyr3fQdywsCutdAFg1\n",
       "You//Iu/E+WWjBjw8aNXoty3//B6XPa9z8lnpRzfjg9//ZTU/5c/+T4rt7mF/dXuvWZlAABKNeyj\n",
       "4VDWqVfb2L7GHI1RLeDX4a9fUp+8tiHExgOqR2Gxy8o9+4LqR7nCz//33r9N6sMh3m82k99rffLR\n",
       "g7i8urQlyvXauD65cpWfr59/Qcczk+PfvwaJOfTffPc6K5dNURvUHqCtz9Xlcdu8ivPw+Ej2Ha19\n",
       "HEMvJcctD3axjyqdXVFuror/NzDWr1/70XfEa/ZP8P1LdyLbgrkFvF/N4XUFAKDt4pz/3//1vxLl\n",
       "3rt1Ly6PXbz3zpkc758NDuOyZ8vr8+9884/i8sOHz0U5sDGuvXPz26LYaQ+f98O/fUk+C1zehzZq\n",
       "1JYUVvhYw5nQvvzatQVW7rvfu0HqtTK/NnvzAt9dtffOyGd5l/cd+6/2Sb2TuC6+vkFtjjPHj8G8\n",
       "Tdd5/+33/4iVK8/ROXTUeRaXuy8PkuIxoynOy4krv38pGd8/zNXltaxbwphhNubXbwAAvSnGVSsb\n",
       "/DjpTh9FURRFURRFURRFURRFURRFUZQLgH7poyiKoiiKoiiKoiiKoiiKoiiKcgFwUsBv+QcACDzc\n",
       "Yl/MyFsFYYZbigrC9lMAgCDE+1mBvLV3NMa0EkHgi3K+j5+lUnTLdC7Hp9JIppFqtfh0RVtbW6Qu\n",
       "pY9LZelW8KMzfsvX3fs0vUW3i9v2XJffWnrp6jqpHx3ss3KdFt1u2Dzg03JUPbqlbW31Mi9Xp8/0\n",
       "4gVurwxATn/kgZGGLHwjymULqHO9njy+6+u4pfX4iN/OBwAwGWNfRhZuM08X5FQtgY8pLQp5eQ40\n",
       "TzHtVUrYrgwAUK3g1rypK6e98Vx83sDFtBeFspx2IZyhnJ2ROR2IwQAAIABJREFU22rbeO8oklPW\n",
       "TYythxDJ2/ynLrbJcei8mYW8zpbLtH1Omk8V1G3TrcKuy29ZzBrTOJm6yKRWwXQbm1vyNknbwhvu\n",
       "7tCUMM0WP3ezBTo2K2t8SoBMmm7VHggpu+qJ9HPtDq8vQUDHsN/D9AXZjJxC4dPPPorLC4t1Uc73\n",
       "sT8Dn5+H6YTdX15eY+X2D+mW/fEYx7dWltMauRPc+tptHopysyH2RS4np58KDL8ynchzyvVQf50U\n",
       "2oIwlNOx2cZ27cCX51cUGend5NtBFOFcMVOfJnFS+LymD3Uc+ebpDOqY68nbgW0jnV3qnHRRMw/1\n",
       "I/Tl1DsW4D28CbURHSF9oh/S9EL5Aj+/Jgm3Vqvzun10SH1Po8GnJUimc1tY5P3FzjbaBSuR+syy\n",
       "+b4YjWhj9/f4NqQzqYTcS1ZufYWmEBr0efs7HCT/jiksc2k5VdNkhral5si/BWoZc7RYlGO9ThPj\n",
       "qvapnGphdRHtiWkzAkuOC2oVHPfUOfGIGR9ub8sp5nJpnCvZrBzn+q4Rs0aGHkSyTx6PsA21nDy/\n",
       "zDSBYSjfz7RPkSWPk5nK66xJ/Vwux8cx5TIdz8GAjyPbbUwXsbzMpxkEABiP0bZfvcbHmgAAd+5g\n",
       "Wog//7OfkM8qS3yKgtMzGgtnCvx6otunsXHK4efA4SFNSVLI8bY1SMQ91coSK5dM+2imj8nn5fgk\n",
       "n0f9m47ltBC+YXemU97P+T7tk1KJt2+WlZxDGFtk0rLvHvYxNs4sybFxysiFOu7J91vfwL6czOQY\n",
       "+uwU1wIzD23G6/0XnDgAAHg+6uz1G3IbLlX+x7j85LGcenrHSIlj5+VYbK+JqUw8wx595b6c7rDX\n",
       "wnn39LGcxrdcxZh3NJJtS89IoXveuiBl+KKURcfzi2c77DUffvIhqVcLK6zc0SG1QbOAT8V19eYV\n",
       "Uj855GOXTIqmhArSeP90lvcJv5f2WeiyyZSmOu6Pef9VqdJUheMRnyK53abPsDy3yMq9eknjlkwR\n",
       "9WXYl+cDRGirclnZJ5yeoA+slM5Js2ikTEun5PWDZ8SEmTT6Dm8qp8p6+RrTQF/avCnKdZq4Nqk3\n",
       "zknXXUQ9mAz4/gcAeLO3E5fXVtBnNVbkeROk0V4OBB0AAHi1h7alzg8tAAAcn2JKt0pNPlaheYLj\n",
       "ef3qLfLZ0QGfWurr779N6juH/Lui+SUcT/+c1NM//eXP4vJdI114kvcuY0rNYUL/x2N+PBYsmvrs\n",
       "5Jjv216b2oh6jY+LbKB9aUV8avvRgMaUloV6Pujy7wEBAO5cwzRf/XPSIgYzvP/TJ49ZmStXaZrh\n",
       "5Lr5d5TKdG3y8W95ucuX3yX16gL6tss3+NgEAODFzm/j8sZVOY73jTgm+T6CyEX47MWyPF9bxjEX\n",
       "ecNmPHkkpxqEjPEeKi/Pm7VV/Gzclt8Xbl7BNGZLC7K9/ODXmLJuvobvYnvn2DfXwVinN5HT4bUi\n",
       "TFPn5uT1+ZOHD+Pyi+eyfcsa7/4Wa/S98ajPp9urJtLpX67xsXHGpvHN5o23Wbn5EtW3YYv3WVtz\n",
       "2L53r9L3SZHPp6ILCsm05XzK1Z/8nMYjtTzvv9xTGtst1Pn031abxtC1Ds6vhSU+5SIAwNoG/t+D\n",
       "QzmGGxpddHtD9rW9KepSpiynae8b603b4X2b7vRRFEVRFEVRFEVRFEVRFEVRFEW5AOiXPoqiKIqi\n",
       "KIqiKIqiKIqiKIqiKBcA/dJHURRFURRFURRFURRFURRFURTlAqBf+iiKoiiKoiiKoiiKoiiKoiiK\n",
       "olwA9EsfRVEURVEURVEURVEURVEURVGUC4AzV6mJH/a77bgcQCTKWWDFZX/qinKj6SQupzMZuVUW\n",
       "/q9Z4ItiqbSD7QtC8tlk6rHXZLJFUo+E7722d3ZJvd6osnKVeXq/cvkKK3fcfE7qS8sot7q2zF7z\n",
       "mw/+htQbDf7e86tZUi9V+qxcxqZt7XY6rNzCwgb9Q5SKi7kc3w8AAP3eOC53+rIejGeoL+CkRbmF\n",
       "xXJc7hm6mCRlY5tmPurLaML3AwBAsY76EgR8/wMAZMv4fzvH8jOVs9hnhYI8VyDEe1jlUlxOZ+Rr\n",
       "Qgd11PN4vf7yHjgfMufML9/oo8gPRDkHbwe5XI58Fkz4vgjDFPv338Oi8zpb4PVgaRntkzeT+39t\n",
       "aT4uj72RKGcbdqw/GpDPjs/4+XD73iKpt7o9Vu7WzU1S94MxKwfRjFQnI35M5xvzpN7toj677iQp\n",
       "HrOxsY7X9JqiXDaHY5VOl1mZILBIvdvk/2+/TZ/BtlH/DnfPxDYszDfi8mQ4E+XaLRyrWq0iyqVs\n",
       "tIWFgiPKFYooFxmuYzwWxgwAwhB1djaT500Umf5rKsp5xtw7b75agP/X87GfLVu2GeVCPi5PXLkN\n",
       "KcP/WZY8d81njwL5/2ZSeL9gRn3y8jJ//9W1S6TebvNjEPh0PMdDfgwajVVSb3aGrFzCpAEEBVau\n",
       "nF+Jy7ZN44XDkzfsNaUKtWcLK/O8XIn+z9PWMSs39Q9IvVDl7eUspD5vaQl9W/Nsh70GAMAyfPyo\n",
       "L8dcyw30c92OPK9tww/cu3lPlHvx/BX791Kdt0cAAJtrl+Py8dmhKFdt4D2O9o9EOc8yYgFf/h1U\n",
       "MEO9tww/Eszka9JpjLksyxLlAiPOtSw5JjL1z3Fk+5bNon3rdrvksytXFpPiAAAwTcTMvh+ycisr\n",
       "OB9Mu/D798N5nM3mRbnv/uF34vJvfvMh+WwitGE6pc/kQ5aXmyTbx/vDKGFKfI9vbyERp1zeusHK\n",
       "pTNUf2uGPm9sriTFY7JGPOyG/LMDAIzGGAu92ePngJWibfV83nenLWrPy6V6XJ5O5fGdn0fb0uvy\n",
       "NhYAYHkF50CtwdtYAIDBCO1JsSLL5Tx8rvYJ6sHxjhzrbG7OxeVRsyXKPXr6AO93JNu3pTWM9dyk\n",
       "8pj/dxF9m2+h3KcfPxSv2VjG+O20zcekAAAvd/bi8urKhiiXSqPNqNUaslwG5fYOqb8pG2sVk8XF\n",
       "LVL3XD72DgPaR3MJH/07el0aqwQRHwv8l//yl6ReLaN/vXz3UlIcAAByiXVZaPG6neyj1VV+fbi3\n",
       "TX31wiK/Nk4BjXsCYQlnhbR9tuEuRj15LVuq4ri9eHkiyi0sYblSkW1LsYK2z0nLcenSAs4Bz8PY\n",
       "fXdXnocpYy17fHAgytWM9y2BLcevOzv7cXl6zvphcQltxlELY4Fyvc6JAwBAy5hfxXJRlCvXsK2X\n",
       "b8q2/egQ3yV88MunotwLY6rcuEF9dTHLxwa7+zQOXbrEt+PYeOcztyA/+w9++MO43G53Rblf//bX\n",
       "cfnqtcvks92DvaQ4AACEHtWpt+68x8p9/NEjUu+1eP91aY364Kk7YOWKWbpufP4c38kVUrx9AwD4\n",
       "7EO01bXynCg3GaPtu3ZjjZWZjmnbrl/h5R5/Tt8X5qtXWbn9sy9I/fZbaKsWV/k1BwBAmL4Wl588\n",
       "/a0od9ZFm7S5Lsfx2TzGI/uH+6KcO8T73b/3flyeX5TnjZVBO/3yjew3iyXUq9lsQZT76DHq1cY5\n",
       "fjO9jgvE9VvorxZD2Rb3xxgzTGd8TAoAsDdEG9m15PllldBZTCbyWqdgrPc//4LOm1yGtxnjEZ0P\n",
       "b3ZOWbn1VRrLvmr+BSuXK9L3cwsLfKzxz/+7P4nLBztUVw4O+Ngs7dF4cGebX/sUMu/SurA0S3vU\n",
       "lqSE95mWT33KtSrOqWab7y8AgI/+/OO4HIHsl/IVdPINR/a1KcC+zIIcw9Vq6CsfP+btr+70URRF\n",
       "URRFURRFURRFURRFURRFuQDolz6KoiiKoiiKoiiKoiiKoiiKoigXAP3SR1EURVEURVEURVEURVEU\n",
       "RVEU5QKgX/ooiqIoiqIoiqIoiqIoiqIoiqJcAPRLH0VRFEVRFEVRFEVRFEVRFEVRlAuA4wee+GEm\n",
       "n4vLKbBEuXw+H5eHk7EoV0zhd0zjyUSU86MwLlsp+XupwMdyqVQjnw0GI/aa0Yj+33K5zMpls0VS\n",
       "DwP++d1pQOq5LP9/nRS93+H+m7gchXyf3bp1J3HNASvXPe2SepQu8XL9bVIP/JCVy2ffIvWNlZtx\n",
       "+aC1w14DAFBfqMRlP+D7FQDAj07jsu3IeuUHOFZLi1VRrtPG5yjV5uPyUfu5eI2TbcflrNUV5RYW\n",
       "cQx6J29EufEMxyYDfL8CAAzbaZQzxmlon4jXZHOoO67rinLk/wzlfjXnTdbJnnMXx7iGzkPLjtgr\n",
       "bCdN6nONBVZufSNP6tJzVWv47J4r25ZMBtt3sivbliDsxeVsLkU+q9WdpDgAAHTbM1JPp3ldfPDp\n",
       "M1J30vwYzBLNm5ubZ+VaZy1SD0PUq1q5lhSP6RjXXb16VZT79NPP4vLy4gor49gZUj/Y5fV0bmGR\n",
       "1E9PmnE5nUknxWPaZ/24nBPsFgCAZajboC+P72g8iMthJM+BnGHfI0PO92ec+JdtSBtzN5MR5Qz3\n",
       "BUEQiHKWZZZTolwY4sObbU2n5LkbRPL/pfdGY+AL/gAAwHFwfoWefO/Q6D/HojZjc4PXxeWlVVLv\n",
       "dr7g723T9nX7PVbuxs3LpH56wvvN8YQ+RzjZY+UyabRVE5fqhxQ/9bt0PMeTJitXKDRIfdCp83Ip\n",
       "6k/HE95npRP2d298hPcoyjoLET5XcI6LqZawHRs37oly26934nK/0xflLq1vxeWeEbNFkayLn3z4\n",
       "KC6fM22g10P96HUHolzKsHFWJNuqQh5trmfY4kGPj/kAAGo1vGYCcsdaFvqeKOJ9KwCA+UkAspzp\n",
       "K0Yj2j7H4f3cJBGTZ7N5Vq5aRf/nebJPrtTRnntJp2fwzlcx3rx8+RL57ONHL9hr7Aydu77rs3Iz\n",
       "l+pREPE2I2VTWzqZ8IoVRlNSt2zeBtsW7eNyBftydXmOvQYAYDzBueI48nw13cqbnUNWxrTZAADd\n",
       "Pj8Pw4CO4crSclze33sgtuHO967F5fZJW5TzPOyz/uhUlMvlcL0ZnqPbluE4s3YhLm9/Id/72QPU\n",
       "o9XFhij3o++8g5VA1lnHGsblUkWOWzoezvnpFPt5bk723YUSPvv9r26JctkM6tTJmdz/ZR910RyL\n",
       "JO0e6kexSNer1Qb/jP0+9UMph7fbkwH1k07I26Cd13SNdfkaP1eWV+gYzjcwhrCFVwZRRH13b9Bi\n",
       "5WY+nQ9z1UVWrlKh89Of8vbd1FcAgNYRPwa5QoXU08Z7gWCcS4rj/XP4wN/75ldEubP2K6wI7zMA\n",
       "AEoF7PNCSZZ79XI3LtsW6ksK5LV6Nm0Mjs37FwCAF1+gTYtK/DgBAMxXMAYJEu9YTMy1zv/wP/0o\n",
       "Lu8e7IvX1OdQx3J5+X3G2Sm27+j0tSjXaOA670f/+Gui3PFeJy67A+rnijm+HUuLCXtp8fPr5q1b\n",
       "cfnly2esDADA3i72fxDItjifRr0c9obks3qFt7PDJp2HrcMzVu54n47N8vIqKzfs09ju8IB/TxOG\n",
       "tC9LZfQd5KVIgvu378blkxNZFxtr63F5dXmJlZm41F6Wq7xdrZfoOKfy/JprNDsi9U8f4LiNxnK8\n",
       "WaxinPv1b/xAlPv3e38dlz/8WI4FKmWMl65fvyLKWRXUpaef/zYuV+u8jQUA6PVRr77+rXdFue09\n",
       "9PH9Pr+WAwC4ch318sX2x6Lc6hrGN89PnsbllVX53YtVwOfLhrI92u3i/63W5Hjkzjuoe6MjeU0E\n",
       "U+yjy3eWyUefPvwv7CW9xHvnsMbHvM3EOrtkV1i50oS+x7Lmb7ByP/kM53sYdchnTfcoKQ4AANMz\n",
       "als+fcaP760bb5P62OfXZt4JXY8X27wvahTpWJ/1cHzfPJBtAVh4/z/47jdEsTDE+X94xq9NAACG\n",
       "AfpaGMix3shFezzu8u8mdKePoiiKoiiKoiiKoiiKoiiKoijKBcDpjORfQJq/vPLO+cWyb/x6yJd/\n",
       "FADZPH6znrHk75tmxi8T5+f4b8wBAHwfv8lK/poxCPhfbGcy9BczzTP+27p6nf7CaDQWfp0zo7+o\n",
       "GI9esnJbq++R+qbxg8adN/yvGbMrt0l9eZn/tc9sSn9BvXvI/0LNceg3f6kM/yuebK5A6ifNh3H5\n",
       "/juXk+IxxQa2bxbJP8HtjfEb5ueP5B0uB3v4y7P335d/VfyTn/wkLndH+M3xxJd3sS1VDL1KyXNg\n",
       "5uM3zMWK/MuJyMdf7nlj/lc2AABWGp89XcRxykT8TgsAgPEQv+HPCr/0AQAoFPHXG4NhR5QLjF/j\n",
       "p+Smgp3CX79MPfpNu+/zv4j2XGoAJhN+DJptOu/m5vhfuC+vYL9k0rJO/fIXP4vLg4H8iwizj0oV\n",
       "+i2+O+N/7WNb9Bd9feEXs9ks7ZPTM34MGiVqW3rdISuX/E7e/NW4ZN8AAGYejsHLL3ZEucj4BWgw\n",
       "4+3xcEx/fbC0yP8ip9Wlctkc9oV1jk/oG78iMX9BnsQd4rwplOVfPeby+Osa89fuScwdERPP2OVw\n",
       "zi498xf40bm/RMa+TKXknQOOcYvkr0Hp/8XPLKPs2PLknUzQH0q/fAUAoG5Y/rVbuYK/7pkO5F9A\n",
       "e1Njp0/i0fd3+F+otJvUd6ezfIPrVfrr6JV16ZdU1E5nMnw/Tad0rKOQ35XY7mD7/MTusZKgs+Mx\n",
       "ndP9M36nz9w8tY/ujP9l0uEBjT98j9c/c1cSAECtjPO115TsDMDaBv7aLIxkfwjGDrLHj56KYnNz\n",
       "2JcH+8einOOgLpm7qDK5c34JX0AfaMaoSew09q1Vlu/nG0Frryvv2nEnaKsyxi4Mz5PnjbmDNZ+R\n",
       "21ooYMzljmTbbtuGXT1nvgbGM2UTOy2lnT79IR339Rrvkz0jfrAd2SenjV3607Hc1moZf+12/x7d\n",
       "3f7wGf/L6TCx0zgV8jYjuduwXC6wcqMhnYeSPe4nbF/o83rlJ5ze8iLOh0pV/oV7ZPh1C2SdTRl6\n",
       "0Ony8UgAtK1LK7x9G/bosz98hL+K//Y37yTFY1otjOHmGvKvX7N5HHvPk+NXCHFschn516/NKe7c\n",
       "PDrCX4Z+7Rtvc+IAAFCvoJ6OB7wtBgBwPZz/3//Bd0S5vQNsw8t9OQNA2tgtZ+rA4bFsE31jq2Vy\n",
       "R5tJf4L2fDSR4/1SEfsyOmfdbcYquRz1rcM+b5MKRTr/hz1eZ0Of2px2l999e+0W/TW/O+Hb22rS\n",
       "MewP0Bdly3xcsLlF3yWcnO2ycoVcYoedsGs6GVasrfLzK/nqpFHn+7KYo7/6H4xRR2yQYz3fQ790\n",
       "dib/wt0yfO3CAt9WAAA/wjjtnGU83L6P/Xl2jPHJ+JxsFHMlnOOt3uei3Le+iztShKXJl5+NsXP9\n",
       "qRy7v/0V/MX86Rn262wmt3Vk7DyeCutYAIC8+V4rLa/js0bmh17vlSiXzqL+FdNr5LOFBv8+rNmk\n",
       "Oxb2XvOx9so8xoNjcd0J4BnrraqwYwcA4NJlfPd0lpyTI94v5VNUqVLAz4e5GvWT9+/xO0iePqVx\n",
       "6OY630fVCrULpq0vFeT5sLiwEZetc3ZhD434aTrl3xf2erRPyiXeb87XqR6Nprz+zRLvAWp5fPbX\n",
       "L+SdCIUqjsH+gRzzrq7huwrfk3fsh2NcHxaETCgAANks2qC15U1swx6/2wsAoJDFeRMIO7oBALZW\n",
       "cWdOc0e+384TfI6FRXlXUvsIDc9giP93dk6WqlIJbfi4L/tup4i6/c77d0W5V48x60VlUbZB9boR\n",
       "Dx5TnSj3+HjzaJfqaOcVbz9vXtoi9Z1d3sfMJ96nRT7//B/+CvsvmQwnK2T2arp0HeC6/HuVpz/5\n",
       "O1IPBPu+2KBxRj7i/WswprFdPotjcLUh+5tBD5/9pz+Td8jNraJNaiytiXJPPkKftXbtmij31nv4\n",
       "xcLXV/hn0p0+iqIoiqIoiqIoiqIoiqIoiqIoFwD90kdRFEVRFEVRFEVRFEVRFEVRFOUCoF/6KIqi\n",
       "KIqiKIqiKIqiKIqiKIqiXAD0Sx9FURRFURRFURRFURRFURRFUZQLgH7poyiKoiiKoiiKoiiKoiiK\n",
       "oiiKcgFw7FxG/HDkTuPyZDgS5XKZfFyuVquiXLfXw2tyOVGuVCrF5S+ePhflrl3fjMu27ZHPCgX+\n",
       "GsuakfrSUp2V63XG9H75MivX7R+Q+sbqZVau3XlD6sEM++lrX/lD9ppXbx6T+nL1CitXWaJjGKW3\n",
       "WbknnwWkXqvNs3K/ffgzUs+VU3H57KTPXgMAMJ7g/UduS5S7/w4+x6TliHLN5mlctjOuKJcr42C7\n",
       "IyyH0xknDgAAwy7q4tqWJcodvY7icjbdEOWC9D62YSp/l7owdxPlPOzL3vBEvCad9+NyeM7XtNli\n",
       "LS7bjjy/ep1sXJ4MUqJc2kG5TIb2kRces9f0e1NSD8I2K/e//m//Pak/f/E5K3faxn452N0T23r5\n",
       "KtqCp8+eiHK2jWN4uN8hn62sLvJtaNL5NLeYZeV8j/blQmqJlRt2evQPVsTKhaFP6pubq3H56EjW\n",
       "FxuwHa2mPF/n5/F5w5CXmc3oHGq1+XGPbKofjoPzOp8vim0IApyvKTstylkpVPxslu9/AADfRz/Q\n",
       "6/VEOdtBOdvGtqbTsj2yLHzG4Wh8jhy2NZOR/at5v1AaAACIosiQQxvr+z4nDgAA0ynay3RWfqZU\n",
       "ytRZ2Q6WSsYYRnJbLRvbmrKosXLHfDtOT6mNKFZ5I+f5dJ4Uy7yTH/YnpJ5xeN+dtamNPGm9YuWK\n",
       "Bbw+SrRhd5e3b/U6/Z9WWGHlgmmJ1PutCSu3tEL9X7fH618JqM53BuiHC1JQBABmeDe/NCfKffHM\n",
       "6KNI1qsQukZZdlr9IT7H0jLat/FYnl/jCfqYmSfHpXYaxyoKZd027VO9LvvNsdFJjoPP5KRluzUY\n",
       "on4sNC6Jcqa9dC15fqVsoy95t/HlR4Y9zuTpM0UW3xejEe3LpO3/HeUy6rZty211HLR9o9GpKBeF\n",
       "+Oz3/n/23qNJtizJ7/MbWouMiIxILV/my6dF6eruUl3V05gGOAA5NBiwwY4rbrig0WhGGvb4AjTS\n",
       "aCRtABCDIYHpmWkMe0RXdXVVl3r1tH6pRWRorSUXzbl+PcY9jes0/63OefG/kfce4e7nxjt+rlwh\n",
       "n3n/8j+x11Qq9O+Oxnx8GI3Q+dUdDFmd3U7/fTzkn2smuUzqDie/3nF5aOcsLi2YZX9A9l8BL7ZF\n",
       "rSLHr/0+3u94zPfnyKDP5Pbw879Vp37Euv7a3t4W7+H29Wtm2eOXbYvNgeNqNros6pqtulnutOVn\n",
       "j0Rx3TKVwHiu3sqL13RGOD4cvjPGrB/7s9LpibqmZW6MbLKP9wfxXu/cf2iWvT55DKRLuKZMLCVE\n",
       "ndMS4/f6sjHI5rBdLm5eE3WlAvb16Qn1a1IM16HhPgQDfFskpuj1z58fsjqXh67Hff4Aq/MGl0m9\n",
       "VER/0xsU2GvcTmoHL164zOoyGRrj9ju8zei26fhYnJ9jdfaJuGo/zc+p4UQXjofYuMEAv1YHAAhZ\n",
       "bNyzZ/zaHwBg6/qMWY4n5Pc0h2mMGYJheX345RffmeVuG33C8grfDgAA+QKukzcv8u8zAABevMD3\n",
       "JT7vGe+ULOubQVf23e02PtP8Is6p4UCeu7s7uMbyeuX5Gl/AmG0+tSjqmlWch9EIH5MCALhsOFcG\n",
       "bfpMewe77DWRKRpfdod8WxQt71QCbi+rAQCYn07h/ThlXfoAbVU6R9ekC0t8W8SC9Nl3D/j5cOs1\n",
       "Oj+DIf6ZIjH67KEw37bZU/oOLuDHvvf55XFQKKI92N5+Jeo6fZyvdje/NusPaHy/vc335+rKBVIf\n",
       "GPy6oNmisWejivGh3yP3WyGN48Bzhi+atdi03e0TUefrY9xyv/VY1P2X//RHZnkwwLnrnOffvQAA\n",
       "FErou9OH+6LOH0Q76Dzj/VcyNW+WT06PRV06i5+FI5b4ZiS/zyhb1rKjgdyuzjHOlZfP7oo6rwPn\n",
       "occv2+KRA2OnsZv6q1s/WGOv+ebLNKm/uXCF1VWL9F1uv8vH2rUm/b73br3J6raf4RrycGL8xwK8\n",
       "v4f+DKnWyxVWNvmO1u7mY7higV4fdvIxoXNI35+5DIxl3aHr/L0CwMd/cMsseyPyePnTP/+NWW7y\n",
       "jwQAAGN8tQv1IR/fAAD89mu0QWPBBulOH0VRFEVRFEVRFEVRFEVRFEVRlHOA/uijKIqiKIqiKIqi\n",
       "KIqiKIqiKIpyDtAffRRFURRFURRFURRFURRFURRFUc4B+qOPoiiKoiiKoiiKoiiKoiiKoijKOUB/\n",
       "9FEURVEURVEURVEURVEURVEURTkHOAbjkfih2+sxy/3+UNSFQ2GzHAoGRV2lUDTLY7tL1Hm9XrP8\n",
       "2u3roi6XP8J7CNvJZwuLc+w1z569IPVCvsbqRgP6fe+89S6ru/OgSOrZbJ3VbV72kfrzh4dmeXXl\n",
       "AnuNz+8k9UeWa6xcupYg9dlZvg86zRlSP9nPs7qRvUfqwam4Wa7kyuw1AACF05JZXl1ZFHVf/eqB\n",
       "WZ5fWhd1ngXDLGdK+6LO6XaY5XJ2bJZtYycnBwCAQRv7zT6+KOrGI+zPbq8l6iLRKbMci/pFndvp\n",
       "NsvVCo4Jh3eKkwMAgNeO/Vtv5kQdjLAdRqOuLBt3zPIQZF0wiPMwHKXzNdybmZQDAECtRb8vNs23\n",
       "xdEpnYcLK/zz/+qvvzbL2VyJ1QAAJFN4rxsXV0XdyxdoM+xOOidL1Qx7jTdAbcH0TITVbb88IvVg\n",
       "YJrV1WsDUnc4DVbnNuhv8vlC2ix7vLL9LDWaZjkej4u6XhfvwzDGvKbfnrhX/rticdom3gD2+2m6\n",
       "OCk3mUrg/RWyFVFnA/RT0r0CADid2Fdut1vUuTx4f+Mxtv9w2OPkAADQ6eC8cTjl/y8x6Ms+1YrN\n",
       "ht8xHMr+1Yph4L2Ox3I7jMeW7+7z42vyHgaDgahrt/HZB2fEAnYnDhBj4v6CYcekHAAAQvYYqY+B\n",
       "7wPDRp+j1+af3xh4SH0k3G6vQ/tpdpa3GwE/xjeVCo0X+kKThUIhUh8M26xuNKI2zeVqsrpWkfrT\n",
       "WIjvU7ttYr660B43W7LvDk2hPRmOOqJuOoW+qM3fKgAWSy+ZAAAgAElEQVQANNroKwcjeZza3dhX\n",
       "+0cY30y2n5V2G59xcVGOM46P0V5a580kzTq2i8cj29VQKGCWI1G8v0RC9t02i+uoF2Vf223imO/3\n",
       "+6IOLD7BdoYdtNqT0YiO81aLj2MCMRo3ZjK8P/R4sM8CAR+rmbwHp0Nu13wO/YPfFyafXbrMx8a/\n",
       "/aJB6u0mH3e73LTf61V+HromfEVryA/uufk3Sb1R5/tqYYqOCWs7OeyTasQ6Xs4asyfpU7Pc7fL3\n",
       "0B9TOyrZQZuN2mW3y9KnY9nWj0c4FquVhqibnsa+r9b5MQUAEPDi3zUcsg91uHD8ra1vmOX7T/m1\n",
       "HABAMIzjKhrl14a/+8N4r/2+PF8rXcvzuni/BgDw4OkTs5xMzZvlJ08fideMR9hv4W5M1JVKBbP8\n",
       "0Yfvi7rDg2Oz3GzKPmBzc8Gio89eKvKxmQF0Xnc6/PqkN2HT1tbWWN14YsjnyzusLhimsXWlgTZt\n",
       "fS3FXpNNZ0l9fn6e1R3s0HjV7ayyupnYLKlnjk5YXadF58bzfb4tlxcCpG4bo485zJ4xFiv7Zjk5\n",
       "I/vDZgUbdzohr1ENF36fO+ARdd4gzlGf5V3RwydPxWtuv4793urx7QoAML+Ec/TyxlVR97/+z39s\n",
       "lpNJeV6/8eYls3znzh2z3G7I9u2dt26a5fsPvhF1Lx6j75lNyPewvrRlll+9eizqgmG0q9EIdRYD\n",
       "EPztRGw8tvGBabWI73ziUTnGyp7iWrYnLwvA4cJx1B9SYVN4X9I6pT64N+Jt/WmRvp86KvK2xe6i\n",
       "NihT4tebLr+X1PuWNqrX+LgAACCXRZsZDPNrfwAAu8UnNFp8/BAM0TgjFuPt+8igbdnp8Pc3nFiA\n",
       "+FxoQxaWApNyk2YLbeGJYI8AAIY9HFejjhy4OIc4/9tl2Q8/u4f23OVEnzAYyevpkSU+GdvlwVgo\n",
       "YkwUn+X9CwDA8RH2k8O+LOqWZnCtMxzjNU/uHojXZNNopz0e+d3L5iUc8zev8O/SAAAKOez3zkiO\n",
       "sZwutKWnWWojnE7ed4wadHzs7t1jdX4/HbObr/E+ptak9/fFq1/y3xfE+wus07jA6+HXnifP6Zxu\n",
       "GbzN8Hvo/KzX+LHo89LxNpfg54pnSJ99JoEx0splud/6lhi6Kr82hpzl/fJxTl5Qj0c4v1wjeS2V\n",
       "iOGa0OXkfwfQnT6KoiiKoiiKoiiKoiiKoiiKoijnAP3RR1EURVEURVEURVEURVEURVEU5RzgqFbl\n",
       "LbYba5h6a9CWU04MLWlhClk5/dRogFuPnGf83mT9rJg/FXUJSzqK2QW6VTUU5vMQXfyDH5P65599\n",
       "z+pOj+l2yt/8+lNW94//+T8h9b/+6z9hdcUcTVsxt4TpH37xV79gr/m9n/xnpP6DD/mtyP/23/4F\n",
       "qW9c4LcYX799jdSbDT6NTiy8SeqRMG4tm31b3haeO8a+P92Tt3guzeH2+0yGT8sBAGDz4rbOuXU5\n",
       "hcprb+E2/b/OYeq4XlPeCtqz7EQctOU0UD5LepDDXT4dHgBAPIHbCsMxea48votpzZoNfL7YvJxS\n",
       "pz+0bBkNyNv8fUHsm3ZX3q5st+PfDQf5FGQAAE6LLndKt1caBv+M12+/QeojB78l9eFjul3+xs3L\n",
       "rG7j4opZ7rbkZ2pY0lYEg0lR9+ZbOAeePH1IPksk+LZot6gt6ff4tCsLizStRH/A9+l0jKY09Ae8\n",
       "rC6bnbB9lvwsNkNOXWgYOBZ9Lnk7+tEhbvH2C3nb/BNb4sMJ/l7js/Tv7OxY0nIY8rbwTueMva9W\n",
       "LKmMej05BZslWxmclbrUYUkp0LPkL7Cmh5skEMAtwGelQhv0sd8nUytR8LOz0qda0/xYn288kK/x\n",
       "ONAW9HqyzRhYtkk32/L8sjIcyfbNb0nRM9lP4xGfnjEYoL7RmpqO/N0WnXcG8Gl1KiUa03iFNH+T\n",
       "6ef6Yz71TbWG/q/XpfdgE8KYkxOa6mU6yadxmEyt1O3y48Xtp/bX6Q6zulGPjt/0Mfrhs1I9et1o\n",
       "MytnxITTM+iHy1U5bWOtjlvVz0pTtbqKtrDRQF9hTaU4SSSCtiafl32y3Ybb4F1npGA6PUU76/XJ\n",
       "W+cjUZz/1jSQna6cdiE6hXFpYEZOB3B8hPfg6cs2yNqS9jPsm9OSZnHSBvV6/Pyd1JXL/HywpiRJ\n",
       "peT44TSNqbwCATmVzMnJtln2+6Lks5/83ofsNc8e01SqozHvE0rFAql7PPy8cbkm0ugIbetyTqSB\n",
       "EFIIz8/TFBhBS9prt1u2n/0uzhu7lEsVAHZ3d81yTpgDsWk6loNBPhboTqTliE2hLVhZ2pyUm/Qs\n",
       "KWeiYb5dAQCcbouRFOwbAE0HeEbmUgiF0B7PzGGKrb/6tWwLWj38wu0D2b6VG/jZ7ZtyWqlAHH1K\n",
       "4UBOO7ywhHM+fYpjcUtIWwgAYLeksKk05PVRwBI3vnj5UNRZbZ9HzsYIoxHO9/kl6iuicd6GW9NA\n",
       "AQDks7wtvHSRtuVoxM/XdIbGvGMhnVV3IvXehas4v0YNfowZE3HFk4fPWN2H731A6of7x6xu0KUx\n",
       "YMDLp0KrTqSlWr7Az5XpKL2+mMPrppOzk3KTxAza49gZadtCSYvPGvGp4gEAkkmc/2637Idv3Lpt\n",
       "lhtltC2JpJxirmtJ6eaxy6njjo4w5VRh77mocxuWtV5fHtxuJ7ZRyIcperZW5DRQdYv/W1u4JOqu\n",
       "3UDfUS5kRV2njm0Z9K6IunYd7cnCCrXhJSGNaShMx4fby8c709M4T0o5+d1abBrjvOEZ6d0GlnSY\n",
       "CxsrE5/xRvxom9rpxOwCq8uU0qTu8PDjJVui75q8bl4XCFLfXczjvA7ImdAgMY3vl/oj2cc4+9gW\n",
       "KeGIhW6f3munz69/hw3a6H4XP06fv/ya1Ac9/P5a48Wk3MQaw1V88rvY4QB9/MpKQtT5qujnbA55\n",
       "Hkb9OF8zWfQd7TPi/dQCvlex+eQUWB5L6uP6WF6bxC0xQ7suv0tY30AfOACM2YIJ+Z3KaIyfZdJy\n",
       "nDGXXDLLn372W1G3vIB+03PGqwSvJQW5fUTjxliQH9zGHI3dR30+3Wl4iq6fu2P+3e7b79wg9XKL\n",
       "f/5iEfvGNaJxdzXDz6/APH342BJ/r4/u7ZJ6X3hXtLRB39W98Tof6w2LNJ452cX3WnsnfDpXAIB8\n",
       "D+fN3RevRF0bsG1tDvk9tNeD9tzpl9fTY8u7tnCQt7+600dRFEVRFEVRFEVRFEVRFEVRFOUcoD/6\n",
       "KIqiKIqiKIqiKIqiKIqiKIqinAP0Rx9FURRFURRFURRFURRFURRFUZRzgP7ooyiKoiiKoiiKoiiK\n",
       "oiiKoiiKcg7QH30URVEURVEURVEURVEURVEURVHOAQ7nGT/79HptsxyJB0Wdx+k2y/s7R6Ku2emY\n",
       "5cS0V9RVm12z7As7RZ0/7LPcX5R81h2U2Wtc/gGpX399hdVNTzdJ/f73z1jdr3/9b0j9rdffZ3Vf\n",
       "fvUFqcf8MbO8ur7OXvPo5VekfsGWYHUf/Pg2qX//3QtWt9bJkPrC8gyr235+Qur5ErbFwZ48YOJh\n",
       "v1m+/b5D1P3t/4PjAJx2URcKYd88evhY1P3wo4hZnl/umeXi4ax4TX+E46pUfijqCtmwWb5ybVHU\n",
       "/ehD7MM//tefi7pRZ8EsO8fYDqlglJMDAMDuKxx7N2/cFnV7ewdmedAciLrxENuo0jwVdaHQlFkO\n",
       "WMYrAMD8ykX2msGIzutXT9KsrjeKk/r9QZ7VbWymzHJqNsxqAABCfhwDuUpG1FVb+NnS6ir57Giv\n",
       "PSkHAICZedqWOy9OWN21GxukPrvgZ3XHmT1SX1nlx+mm/RKpf/kp9u9oINvPoRv71DVdFXX+cQWv\n",
       "ETTxmQC9xsvb42KmQHV2HDunmcqk3CI0zKLDLj+T34u2r1jixxQAQDyGfipsGROTVCvY14aB99CH\n",
       "vniN24e2yhjKdtDt9pjlbr8r6hwOtJGGfSzqBj28J5/lu3sd+V57XZzjDot/nqTRwvsLhuT2clnM\n",
       "+XAkyiASxO8oFErks/5walL+u3/vukjdbrAyMPp0HjpsvDDspbGKdL8OJ/VRg1GP1bU72EZ2Gx2j\n",
       "TvBMygEAwO/2kXq9xM+wcITOr7AQZgXp18FQmLGeEG3L5Si2+fLMPP/lAHC0jzYjNi3b2TnLZ9Nn\n",
       "jJfjA/SVTx5vi7pOGW1Dp4fzOhAIidcM+zieGx15foXC2LahSFzUbVxEuz0yeB8AABCM4Pwfj9B3\n",
       "O8ayLTAGOPiqVd7HAQAMuji2uz15go0t3T4YyvfqCeA4Tc7RuKVcb7DX+AP03512fmw77DjGchk5\n",
       "fohG0f8NzrCD9TrGlydHNfLZwmXfpBwAAN54jcZB6Qw/Xrb3adyeT/P+yxjQ6/1efn5Nmumgj5+w\n",
       "S/PU94es644R3/4AAL0B2vQhyDHct19jjD8c51iNw5kkdaeDj0dWlqhdDvjxIZ0u2S/5Azg+vAE5\n",
       "jg8EMIbrGvK6oGNZHzo98hwYjXEsJcP43RcWXhevyVbRBo1sNVG3cfGCWS43OqJuKoG2tHdYEnWd\n",
       "OvaN24P+pdFtcnIAAAiG0a4GQ7zPBADwe3FunPW/N+1j9JOvXr0SdZubm2b54OUB+Wx1IlY27y9F\n",
       "bUvcwdu4ZrZF6qVmi9WVWnR8hKf4+WUfUt8/ZeD83Unza3+w0zHab/Jj1mFQu9do8fNrPKax9X/+\n",
       "s3/B6v7k39VJfeeIt5mX15dpffNDs9xqyPPwOL1jlmtd2R6nAthXB4dyDF0b4XNd2JwTdX4/2tJ6\n",
       "b98sn+EOAbrYFrPxC6KsWcU5UC0ci7r3b+EayRonT1Ldw/dSnjbqfvVn/7d4zYef/NQsO5zy2n/c\n",
       "x7XPtJ9/pwIAUKyhnTgsPhV1S6toWzJpunbqCGajUd0ndZeL94elLH6fa+xiNQAACzO43uqN5Dgj\n",
       "U8JnLxZp+5ervP10eOgcf/nqgNdNrAeDEf4dyWii38cuPmYwxnReOwzUlWr8PQAAxBI4B+y+uqjz\n",
       "GmjfXZI/7FCf7nEEWJnfSd+3nEy8M/g7whFqB69fxfcyxZL8TG675ZkM+Z1tKIi+1uvh2xUAoFzB\n",
       "sX1xXX7vFgmivy5m0E7PrMjveSsNHGNuYVwDANgcOF66Jd5mAwDEkzguV9fl+frmG++Y5ScP8Pu+\n",
       "+ewLTg4AAI2axa+N+PgZAKB4jPFlKnlV1NlsOOEDXjl2OtrG8TGzQNu/kuHjvlafrsuCwK/nti7S\n",
       "91CPdvlxdXryktT3jgusbjDE51hcpHY12+HnVwPoOz2Pj39X5J6Yd+NRktU936YxYLf3a1b3kx/T\n",
       "mNJpsS33HmfZawAA4ATtrN0tj9mRgc4ym5bfW25soq88ygrxDQBsW2LogPC+RXf6KIqiKIqiKIqi\n",
       "KIqiKIqiKIqinAP0Rx9FURRFURRFURRFURRFURRFUZRzgP7ooyiKoiiKoiiKoiiKoiiKoiiKcg7Q\n",
       "H30URVEURVEURVEURVEURVEURVHOAQ6nQz6c6+gADyxfWZUPsqvW8MAmX1A6EhzA7cPfmOw++XDv\n",
       "oOVw7+4Zh1VXavi3cnfpga0/+wP+UE+3i35frcEfyu6bOGD5tTdusbrnL+ghaI8efcPqrl65TOov\n",
       "X+KBmqsb/IFf4egSqXc7/OGmDi/99wtb/AFO5RzVDewvWN1rP5gm9eIRHr4W8PIHzwEA7L28Y5Z/\n",
       "/ifywZPvvnfNLL/IfCXqOgYeCnrWYeQuJ97TRz/BQ8x+/u+eiNfkD/EwrLnlG6KuWsM28gblw1fv\n",
       "38PDNKeiCVFXGOJhZ4vreMBXqSQfLrtsmXvf3pXb64038cC13V15ft3cwLHo8cvturyGhwl6/bQ/\n",
       "O/w5rPDbr78k9alpvs3qDToPPY5pVvfpL++a5Y8/lg+8OzzG+T8T4g9vAwDY3sED+QzfxDM1+QPq\n",
       "Bn16sHkozB+M9+DxY1K3+flDUK9epc9xmtlndcdH9N9Ts+tm+asv77PXAADML+H9Gjb5MOgff/we\n",
       "Vgz+EPtCno6jfpv/fwLZE3oAXzGLdUM47B4AwOfB8dc742BylxcPqDPssq5jORDd4+YPAQYA6A/a\n",
       "Fh3aD4dDPtx0ZBmyTqd8qCKM0C+53fL8sh7a7bDJ3+d14HcE/Oivy4WieI3Dje01HsvtFQ5hG/XP\n",
       "OLAVAP/uoGOIqmPLodbuydjCqAJHr09tgcvBH+o5GFBdb8T7GI+HjrdBnx/bQ6D+0DYUDoe04/Pm\n",
       "Jg5RtAn3Op2Mk3qlwh++6B/S+eR08/PVGFCf0u7zhz6WKnQezsbRH56e8odsAwDML+EceOOda6Lu\n",
       "s9+gfY9G5QMq165gH4SS8tjOnKDfq+WxnxJx3sYCAIAl3rE7+D4DAGi38btbTTkunZnFA0wHctgC\n",
       "fi/ahqAvaPl3+V5bNXymcpE/2BQAoG+ZA16v3K52y8Gfvb5wWDAADIf4vK1Wg3zm84Yn5QAA4HDQ\n",
       "fuq0eSdfLOE4mk6ssxoAgLHl/5SNDT52BQAoFNAn9zr0mRyji5NyAAC4cm2N1HcP7rC6SpHaHJc7\n",
       "xuqiU9ROx+J8PAIjqltfjrOyqSA9dDroxQORx0N5kNWbqGv05BgufYi2v97mdfU6jdU7Hf5g7ZWJ\n",
       "A+StPqvRaIDEouXA4IHcvdBq4Thy22V/GA6hv+gN5b87GuG4CoRxrbO8vCpe8+pzS7zkkds/W8Sx\n",
       "2D/jRPrtYzxcPhrhD0AGAHB6cC5b/VB/IMdlhSraiWFLbtjZJLb/1ctybJxP4zPdvCKvdXxutKWL\n",
       "r9P1frnM++6a7ZjUb97m7cHxET30OH+f90VL83Re1+vC+n/iEPpf/fKBWY4neFvf7tH4xuflD4a3\n",
       "zi0AAI+NtwUzsyukXsoKB9eP6Tx86+Y/ZHWPH9D1w87uX5jl5WX5wHGPzxJvBuT3Jf0+jmeXm392\n",
       "AID0I3z+Wu5Y1CVncO5FQxifBPxyDH3n8edmeXZKXqfduI7vW5ol/n0GAMCU5T1NsyEfcA1jnPPX\n",
       "rl4xyz/40QVODQAAnR62ayzO+w0AAIcd++bTzz8VdfEo2rf5Ffn76pa4pVyl8Vxkirc129t07RoI\n",
       "8DG63YU+PhblfRcAQMsSP5z17uXChU2zvLNP36WF/Xxc5HLR+LwMvC3oNKkP2MnwB6d7g7RNamU+\n",
       "Nu6U6XpkZRHX56WCfCh7vnBqlp0eOeYKB/A+nj3ZZTWrq3S82e38GvXZq5dU5+JjseXVDVL/zRf3\n",
       "zPLVq/PivZarh1hxyOuCcBzHSLcpz+t6EO9vakZed1fb6Ee2D9C2jDyyLegOcbzEZtZEXbWNfbhw\n",
       "QV5z7O/jsxtnrM+/+PJrs3x8iDFWck5e//rCOF8zGX4cAgBszH5oljtC/AYAEI2inWg15fWDzYZ2\n",
       "cDii/dTpTqp/RzxJfbwT+HeQnRGdh5EI74uOjqj93XuaY3Wzi3h99vAV+Wwxya+nkwka23WEsbi2\n",
       "Rfuz2+JjgdMTeq/rt/h1xi8+/5rUW3X08faB7JfiSZwDh6eHoq7Xx/guOX3GfC1j7NJuyO99Oh18\n",
       "/7Kf3WY1utNHURRFURRFURRFURRFURRFURTlHKA/+iiKoiiKoiiKoiiKoiiKoiiKopwDHFPxM1IN\n",
       "1HELeq8rbwFcXMJtSY26nJpiZwe3oLZb8jbJ+fkFs2xzytv8x068J7eHbpfNC+mytrboVutYgt/i\n",
       "WsnR5+jZ+G3T1y+/QeoeP78N0+mh29bclhQlTh9/Ta9Pt/0ZNj61Wm5ia+rm2gqr6/Xp38kLuwp3\n",
       "tvdJ/eblj8xy9kTuj9l5TDEwHZe3V+5sY9+sXZNTMpTqeL97O3yKHgCArz7fN8srS7ht/fINPr0W\n",
       "AIDDi2nHar0jUWe3dNtgLKdaKGZwO2/6SE4lE/Di76whP24P/NnHH4vXNGxPzfLbfXl+tS1bGUc2\n",
       "OR1AoYTzOjIQ0pgAwJefpfFeo/T34b3n/NbNXo+Oc6eTT3U37NH0FqnFS6yuhxks4PnTp6wGAODS\n",
       "VUxB2M7I7X/jIm6vjk7M/Xrr1aQcAAD8Prp9fGaRTynUbNPt7G4vnzrT6aRtNDe3wOqqFZouInOy\n",
       "Z5Y/+elb7DUAAEvLuFW62S6JulwO+9Dh4bcOJ5N023W9yG+Htht0u20oaE2Zxm/ZBQDoD3A7tFtI\n",
       "bQUA0O7jvUbPsC1eS+qAcIhPYwQA0G7jnudBH31gpyPbGcOwpKID2Q56PTgOxiPZzw0sqejiUTnd\n",
       "Q6+LbWQDy9yNyGnz2m38zDgjpU65hNvtvQH5+5r1mqUs7BcHgEgQ54bfT79vaPD91utNpHp08ffr\n",
       "8tOUJNYUVlas6YQAAFJzfOqAWp06wGGb/7v9Id5fcpra1UqdT3tzcnJK6rdf32B1o4m0im4P//9w\n",
       "Ai46jtJ5Pm7z+qjP67XwmbIZOf3JwJJacf5UTiOwZknnMZ2S0zhs72Bq1f5Q/r9F8Wk08MtLuMU+\n",
       "NSPP3UoVbVq/K393toTb6gcDWVeqoP8PheX0tQNLepyXLzGWtY/kdA8eF9oCu1323d4A6mpFIXcq\n",
       "ADQa+Fk8Jre/Yce5Vi7Tfu91+XmTn5ivLifv52pNtAVOt5zyo99DOxHwy/e6tIJpjP/jf/gL8pnL\n",
       "xaezMby0jZLTfBzTWaX9HonxKRlGQ2qbjBGf/mjSV1+9xMdZF1dpXGu3YZv1u3IcObSke+j15JS/\n",
       "A0toEHDzaXQcNmozjg74NBPXL10hdZ/f6kPl9InW+GFqSk4V5HBj2/bbsn8FA+OETleeU6EptA0+\n",
       "S9q8YEBOszY3u2yWq105zjip7pvlm6/dFnW7lhQx+RIfCwMABC2pH32W9HVBpxwT5Szp3XxnpMrK\n",
       "5TE9zpPH8pj64N0PzPJXn38r6nbSmFLo4iYdE42JtKF/x8PnNGZ+8O1LVpecpn5pa/Myq/v0C3p/\n",
       "1ZoQZ02kSJxP4LyWYqneRHrYWoWPY54/2Sf1To9Pp+IPzpL6q53vWd3+MW2jXIVPeT09Q+fa0BJv\n",
       "djpyqqCtNVx3V+qnou74CJ+jUpHnQCKM7be6LqddKubxvUOlgbHUUUWeD5988EOz7HPL7562tx+a\n",
       "ZXuPH3sAAI0y9vuoI/vutuUrDp9i/HBWSukrtzBmyx7KtrhWRDtr68jvHAIx9FHpQ7mfXuzj/I9O\n",
       "Uz/U7fAxqtdD0xP1x3ysF0+iv2rUZVvcqFnijCk5Fnv6FabNnEyr7HbzvmMwcWTDtQ0+NWW3R+fJ\n",
       "aY5vs+pE2lK/h193txt0vudPcczOzPJrcAAAcOB1e8e8fQMA6FlyA09P8+/gshl6D7kxn1YuHKFt\n",
       "3unxfRUMU//wT//ZPzLLuzuPxHtNJS1tbsjPlJxBP3V4IKfAW1zHdIxOIa0fAEC9jvPNn8B+KrZl\n",
       "+7Z8AdvyF5/9iagDSwh36035veLWFfTruzt8Sn8AgGeP0Bc1qvjlr11/W7wmEV6wlOV3L0/vPTfL\n",
       "xZLcrrUWjqlLW3IqZRtgmw+H1EY8fMIf4zEZy66t8fP13tN7pD4a8zYoGqW2ry+M2XgI7fRJmo7R\n",
       "uSQ/D1MpetTJi1f7rM7uozZjZo6PCUOz9L2kI8bHmw/26DuCS5tbZjnhlWO4cgPHsyckx2b1PNqD\n",
       "QolPDwsAkH2IqTNnUnJqVp/lXWVynn8m3emjKIqiKIqiKIqiKIqiKIqiKIpyDtAffRRFURRFURRF\n",
       "URRFURRFURRFUc4B+qOPoiiKoiiKoiiKoiiKoiiKoijKOUB/9FEURVEURVEURVEURVEURVEURTkH\n",
       "6I8+iqIoiqIoiqIoiqIoiqIoiqIo5wBj9rJ/LH3o8/nM8ng8FL9kYWHBLOdyOVE3MzNjll++3BZ1\n",
       "wWDQLL/9gy1Rt7uXN8sjg/7d5bUp9hq7ESL1TqvB6o6P0lRXC7C6coZe7/XwutSCh9QX12JmOVes\n",
       "stcEwl5SNxx9VtdtO+k/9LusbmndT+p3vz9idT73LKk3u6jr8s0FAAAXL1wzy+3+S1HXqjjM8tFp\n",
       "XdTVm1GzHIo4RZ3d88Is+y3NPOjwYwAAwOHCthi6+PYHAHAO182yyz4Qdb3eoeUa+e/uPsHnDVhu\n",
       "9uKlBU4OAACtIT57+vRA1F2+gvd6cpoWdTC2m8VEMi7KQhGXWc4V6N+1j/gxtrdXIPV8ts3qyqUW\n",
       "qW9dWmV1+bx1XhvSrcLNG6+b5Xb1RNTlSzhWVjfXyGcON39N5pSOPX/qmNXF4tOkfnTAm9b11TlS\n",
       "f/T4AatbmF8hdbsNx0upVOFvFgAqFeyDufmUqCuXi/i3lvn51W3Q/xfQrnlZXfGU9s3L56dm2WY4\n",
       "JuUmdmfPLI9AtgVuLz770tKSqOu10U+VCzVRl0mXzbLDjs/UH8pjzPp/JAZ9u6iyO9BOhEPys48N\n",
       "nAO2M8a2245+2ONE/1XIy883HOHYa7d5vwEAMBiNzHJiOirrhk2zHI34ZF0P7UIoFCGftXu8nS0V\n",
       "6XOMRnxbJOJJUrfb+TGbmqNj/rs73/D3OqLtEnbOsbpsPmOWPR7qx+Op2KQcAABOMtRethu8Ldi6\n",
       "Rn1FNOpndZcu077pj3hj1Z/4M24PtmUpK/u5kB/9wOPH90Xdj3/2tlnuNFui7vH9XbPcbvVEXTwR\n",
       "NsuXNi+Z5VcvDzk5AABUqhb7NhcSdc4AtlE4mhB1R8dZs2wz5DjD7UI7MZvCseJyyHO8XsWAKXcq\n",
       "t1e1gm3Uqcu2YIzTFWq1gqjz+fE5FucnYosxb7s8Lvrsly5dZnXVMs7XH77zrngP8/MYR7bbfLwA\n",
       "ANDrob38H//lvySfuWEWOOZWaButrV9lde021d1+a5PV/Z//+pek/uIx718vXZ0n9X/xz37E6lbX\n",
       "lkk9YQkNTo7k2KzVwDF7mJVj6P/2v/kjs+wL83Hp/Aq1Zz4P77svb9E11rtvvmaWY1PBSbmJw45t\n",
       "63LJ88blwjgy7OfXRwAAwwH6V1+Av1cAgM4A4wTDht/94PELTg4AAH/zm5+b5UzpkXyvcTSgp9lT\n",
       "Ube4smiWK8WSqOs2cdy3G+hDY0nebwAA+IPoX2IkaEsAACAASURBVJsVecE1FcHv2H2xK+qubOLc\n",
       "iPoiou7h99guo86IfHbr1muTcgAASOfpvH727An/5QZ9fzC28f6wP6K6aaGd7Ab9u7EYjtNuk/eh\n",
       "/8cf/SdSv7DB25ZOh8a8/QFvt3/vp2+R+rNn/Pjbf5Un9UaDnyt2F+3ruVnsq+WllUm5SamG3+/w\n",
       "NkXd7TdvmOVvvr4r6sJh7JtkSl7L9to4RqoFjKV6HdnWv/f+LbM8Hsr+cNBH22Iz5PVcLIxrgdM9\n",
       "fq0JAGAf4jgq5vHvRqfl+eAJ4TioNc/wtS60aUen/DsVAADfFOqcfmGxCQDVHvpX54QdtDn42KBc\n",
       "pf5KirlKJfzupYUN8R6GXezbbktu12EX+9rjpHHQ/bt32Guu33iH1MdDfryMgT7D+hb/juDV4Q6p\n",
       "lyv8uOpMxALVIur8fs+k3KTdR38Ticnx5uEJrhOcLt7P1et0fsbjwvgz6NokFufHS3DivmtlfCb7\n",
       "Gf+lv99Ae5nNZkXdz/6LC2b5zp1vRV0li/dx+eqyqGs18bmSM2h/D4+fitc4LWsuv1+2RyenGC95\n",
       "XHw8CABQtbz3GAzktUk+g3MqOWWJ9+3y+jcSwn4PnhHD1Ks4D09OZPtmuLFvbt2+Ieri09gu5Qr1\n",
       "N69e8rFsPE59a7/NxxrViXVGOMrPlbkF6k9bTb5te1308bUqXZPeuHFtUg4AAPde0pit3+ffabi8\n",
       "dG3TH/E6u4364Fh0mdXtPKPPfriH92sT7gEAIBDANopEzngPbcP178Pv5d9EfE5c//dbst8sFnBt\n",
       "EYuFWY3u9FEURVEURVEURVEURVEURVEURTkH6I8+iqIoiqIoiqIoiqIoiqIoiqIo5wD90UdRFEVR\n",
       "FEVRFEVRFEVRFEVRFOUcoD/6KIqiKIqiKIqiKIqiKIqiKIqinAP0Rx9FURRFURRFURRFURRFURRF\n",
       "UZRzgCMSG4kf2u1ds1yt1kXddGrLLB+m90Rdb9gzy063V74rm8ssfvXNXVG2dWnZLH/zNb2/Vj3C\n",
       "XnPxqkHq9WaT1a2sLpF6KDpgdb/+eYvUs9lTVpda2qD318J277aNSTkAADjcPVLvjcqsrlzpkPqV\n",
       "zWVWd3rcJvVb195kdXfvP6P32vCYZW9gyF4DAGB40mZ5NGqLOrsfPwsl5N8dR+6sWU4uxEXd8QG2\n",
       "U9i3aZbrnYZ4jd9bNMtez7yoyx4fmOWAl+8nAADbAJ9jYWZa1F346axZ/v67r83yiycV8ZqiZYj2\n",
       "R3L71+s4By5eWRR1axeSZtntc4i6+3dxHBhjH/ls+xk/HwoFO6knU0usrts/JnW7m7+HhQvYXq2m\n",
       "/Ox/+be/Msu//7M3RN2hpS0HE3+zUM2x1zi89BkuXdpgdb0ebZOAK8nqtrdfkXo8wveVx0ltmNW2\n",
       "5Au8nQEA8HhwvuYyeVEXT+D3ZzO8bWnWqW0ZdMasbnH5IqnnCn38jobsO5KWuTKdlMdsoYB2dufV\n",
       "sagrWyaLzyf7mEAQx3O7hfc6GvPP9ztwjoci8nf7fCGzXK9WRV2jhm3r8/lEXTCB/dlsYz/ZXB1O\n",
       "DgAAnRb67shUVNSNDadZbrdboi4YCpjlfFa2VeEgjqluk9qWZov3tV7LeAUA6HZ6rK5cKZL6+vo6\n",
       "qzs4pDGI3c7b7WiU+hQPuFidw5Uwy6eZDP3MHWOvmZlJkPrS8iyra7bovMvn+Pm67abGKjzNG0x3\n",
       "iNqgk/QTs7yyIPu5fgdt39rlhKgrVXHuGbI5his3cF73B/K46rTxS05OLPFDP8DJAQDg5nXs90r9\n",
       "majzhHDcHxzLNiM2NWOW/T4+bgQAePoE7XbRYo8ajZp4jd9igxJhfgwAABgGjtFcoSDqFucWzLLN\n",
       "zo89AIBeF2OfVrtLPgsG+WeMTE2R+p07d1jdj37wHv6dgbx+yOfQ9oWiIVFXt8zrmXn6THe/5uP/\n",
       "vp2O0fsP+P5d21gldcNdYnX3vn9B/6HDx3AXtyZsRtDJ6oIRakvaXfQrhpu/BgDgzm9wPP/5L38u\n",
       "6oYOHH/9Ee+LxmNq9yIRvt/DIep7mk0cO/GYPB9cTnxGj0d+JsPAZ+8P+LgRAMBm4HN0evK4Ckex\n",
       "73sD9N3xuLxGuHXrNbP87//0O1FnH+NciUXl+dVtYPu7HfKz253YB3bLkAg45PihZInZvEHZd2dz\n",
       "Vp1sL4/SuIaJXAyKuvWLGOfm09TPNVrZSTkAAGxvPyf11Qt8DBcI0PsrFvkYotnok3p2L83qPvrx\n",
       "B6Rer+P3FdpH7DU//dkaqQcjYVaXzVP7Oze/yuoa/R1SX93kx0uvTx1l/ph/9hs3LpO61+LzI6GZ\n",
       "SbnJ6QE+78Yyv94CAHj49W/N8ntvvCbqDDfeXygoj9N8Gv1e2PCb5V5Xnrt1i287zhyIOrsNY8LV\n",
       "tTVRV62jPVnakOd/3xLbxubQHsUT8vO92sc1lidwxhwfoI30ePjYFQAgd4rz1RWS1xnhaVw31qr0\n",
       "HYY0z6slGoOkhHV3pYSx8cMHL1gNAIDHif1ZL8trmJkE2uKWQW2728P7jpk5Gge9fM7HcN4JPxkK\n",
       "8bZwPKJ+zuoTrIzGNGau1HBMDM7wS90ervv6XVEGmSNc38wueljN/AK1Eccnh6wuEU+ReiBoZ3Wv\n",
       "nlFbN+xgnFUr8e8zAACMEbaF2yO/gytlsS3HbXl97rHh/bUb8pzqttEJPrhrmf82eTERiuI46Dbl\n",
       "94pbG7fxux9+K+oSU3Nm2RjK8Y2the1iWGx4oya/e1mcWzHLlfJzUbewcM0sz8+nRF2psW2WR2N+\n",
       "DAAAVKs4/1s9+r4lOeOflAMAgM1Jbcuoz49Zj4/OG3+QXycbk+8jBvz7iVYHJ5Fn4t3E/Ve8T+j0\n",
       "6MQzHHxbTMaNnSY/YYN+alsyR7usbipM7W3QEj+5g/L7YLcL52GlIL//6vdw/v/o9+R5Ew7g34qH\n",
       "l0VdqYjtGQ7xcYvu9FEURVEURVEURVEURVEURVEURTkH6I8+iqIoiqIoiqIoiqIoiqIoiqIo5wBH\n",
       "JMhvAQIAKFm2B87MydvMcyXcgn3horwl/tmLx2b5n/zh+/LfLeMW4KNdIe8TAPi8+Lfe+5huPRzb\n",
       "i5NyAACY3IkfCvNbqv76lzStxNoCnwrt9bffpX8X+FQmR8d0q+XDB7iNbW2LTwPVmUjLIWXYiyRo\n",
       "6oxcln92AJq+49Gzh6yqWKapMmLRZbPs8Z2R/siGfeVyyNvMwXliFsdjOQVbambKopP/rteD6Ski\n",
       "U5atuGekQotN4xZjpzzEIG9JqWWc8RNpu4kfNhvyltGgZaflJ59cNcv7L+Xv/u4ZppWZn+VTiwEA\n",
       "LC7hXM7kdkSdz43j5ed/+meiLp/Brb0b62/TDx18qqZoivZTz84/WHKZbs+MzvBp5rqWHaL2Eb9t\n",
       "GwDg9//wB2Y5V+S3TAMAXLmJuuOjffKZXdgyOh7TFEzffcVvGZ2dpemTWnW+D2pVev3iHJ++YOcl\n",
       "TbHR6WKbOxz8ll0AgJol3aPfL28Z7VlSzrTa/JbdYJD+nVKP3zJuc9PxsL6FtrlSlrdkj8a4HbfV\n",
       "ldMIdCxb7G1SLkAAmJ2zpBdry+nPykW0kdZ0ePHoFCcHAIBqBW1VNMZvhQYAyFpSo/TOSAcQjeDf\n",
       "agppRgEAupZ0BUNLCoXWGWmzhpbt+9YUbpMM+tj+1Rqf4g8AoNXBzy5vXRB1977HLe3Xr9HYwj/i\n",
       "x+zYRrdJz8/zabDqdTo+Wm3+fpcW6Hb5SJD/u8WJNFpBYdt627JdfjpJ4yCHkB3TG6Q+udHhU4BN\n",
       "pp6LRvk4azimf2h+aYHV3blPfXrQjakuXz6Ut5mvreJY7NZPRJ1rCm1cuymPvwdP8T7W1+UY0wHY\n",
       "Tl5LCqBrV+c4OQAAHFq24nvdfDsAAHi9+H2ry3Jcms1i2pVKUU6t1qjhPKxW8Jq5eTmda6eHbTQc\n",
       "y/FIu43z331GqiybDcfB8Rkp65yW4bK+TudrJMynwalU6PwKBvj0RyNL2rCjIz790u/uAW3Q7Bwf\n",
       "4wIA1Ftoi4NhOgf9Md6APt+7T+rzs1dZ3dImTV321fe/YHWlMu2bVITv04UFOj/nhXRKYzvtw+dP\n",
       "Md5PJGXf/Te/wnXHs6dy244A7fZoxPtDh43eQzLBp228fv0aqRdy6L8cdt4mAgCAJaWL54xUqmDx\n",
       "WYacEQMqJbRPoRA/9gDoWsCalic8Jac4az7F756dldMsVrsY3/S7ctzStzj2ZFwe2/4o3pPPiW30\n",
       "6y8/E6/ZuozpKztDedHRGlpigYa8jho4sZ/uPzoj7Y0l9pmep+PcGPJpqwJBOm/aQnw4HZromzEf\n",
       "P62kqN1fn+Ht+6Pv6Pp8ZEkhmFrmfcdpj6ZVG495f3j1Go3j05lXrC4cpXPDLiwQVy/QZ//kx3z8\n",
       "NJOiY/7V832zXM3Jtj4Vs6Ts68ppqn78Lqbl/O1XvxF173/yY7NcycmpjLplnMxGF9tiNib72v4Q\n",
       "fczWxpaoKxSxb77/Xl7LzibRl/mc8juqgCUN71QY2/mb7/h3IAAA0RiOo0JBTuHa6WI88uTFU1E3\n",
       "lcR7WJ2SY4Z8Ae1vd0jTFaVPhP6w0/jw1TPed4wtcaTLJtt2u2UZ/8F7H4q60zSmfXxueb8HAHBx\n",
       "6/KkHAAABgZdx5fK/DxcnKe+9Ze/FMask7ZRtc6vpYYTudmOjnH9cOWinPq4bkkD5z7jZZHDsMQa\n",
       "Iz7FYdBH2/yTjz9gdV9+8Q2p37/D9+ebb9D3kvsvMS6tleU0i8vL+M6hVZPXyQ+/x/Ri8akVURdJ\n",
       "oA3qNKX3jwCvdjC94BCwPz74yU3xmmAA2+zp4zPSOVvSAb79urxGLeexP0N+ORZLxtBuF7M4/wN+\n",
       "uR3KJbRvo7EcE7n96DenE3I84qthDJLNyGuTsiUF48omjUeGfd4vVRt0TLli/P3GXHRuFLIZVtfY\n",
       "p/51BPw7W7cf27U0kbL9772g//+Ix2jsenzE28GAn757Dfn4dLbdNo3tVhf5mMHvoe8Ei5ZjFS7e\n",
       "5n8TAAA4OcC2iATkdOlly28sUTnkhaV57NPTI/k9zduvv2+Wf/nZZ6xGd/ooiqIoiqIoiqIoiqIo\n",
       "iqIoiqKcA/RHH0VRFEVRFEVRFEVRFEVRFEVRlHOA/uijKIqiKIqiKIqiKIqiKIqiKIpyDtAffRRF\n",
       "URRFURRFURRFURRFURRFUc4Bxus/S/GnLQFAIIAHk3XPONSybTkUyX/GwVgJy0GiU1P8YbKT3zd2\n",
       "yIeZzszMmOVOi/7d3e3spBwAAJZX6KFU1RJ/GHH6gB6aNRzyzz/s0b+bLW6zuoUFeijdEPAgL7dP\n",
       "OqCeHvqWz/GHdTa79ACtkI8/0HDQpwe2TR7S/nf4A/RAL4cT7zWVkg8dKxXwAL12Wx4vlRweADly\n",
       "VURdwHoe5Fg4MRsAfA7r4V34jE6vfIp6d4T3NxWTDzQ8PcCD8ZaTM6LOa8ODSesF+YDr69fwkFYY\n",
       "4dRz2xfFa47LeNjXowf8+AIAmJ3Fw+vSZxz69t33eJjrVFSeh7UGjsugnx482QD+cNP1DTo+xgZ/\n",
       "AOb8Am3LkHDY2YOHL8zy8IxDgMeWQ7JdLv6QWACAowM8BC0xcbDx22/dZq959uI7Ui+k+QO5HQ76\n",
       "G3oswd+w20YPOm1U+PH3zdf0sOrlVbzO57dPyk2qVTwYc/KgeCveAB70aBO+b3k5Reo+L/99/S61\n",
       "LafHaH87bdHFwJTlEOTx6Ix7deFBezsv9kWd1Z6Phv8/D0534+Gc7ZZ8EG6njd+XTMiH03c7OPdC\n",
       "UfkwzWQKDzTs9eTDNMcjy8GHJesh1vKhomXLYYsOl2zfHA7s91KZ95kAAO+8i4d9+33yM/V72K6d\n",
       "Nj1QdT5xnb1m/4DaErvwWNMz1K+l03xscHxAn+NHP3yP1RVz9EDEl89PWN1pDg+bnJqmhzJ7Q/zh\n",
       "l44JE7S8wh8UeXK0R+pXL/OH3164RO30X336t6yuWqN+slbE+3UM5INFuw0cL5ev8IfTAwDkLIe8\n",
       "n2ZKou4HP3jHLJdL/EG9AABjSxx0+208XNbukq/Z3cbDNA935Thj4QL6okn7ZMUwcA48fvRC1M1O\n",
       "o4+em0f/tX/4RLwmmcLYZCrCjwEAgPQxPm8uzR9EDADQ6+L8dzlkexkKYew+eSByKBSZlAMAwHhI\n",
       "7bTDxn//2irGMIWcfKhoo4G2+PU3b4i6WArH5edf/CX5bO/48aQcAACWV+kB74USH0eGp+gz2W28\n",
       "ff+f/tVvSf2dG3/I6v67//6fk7o/ys+p8YCeymqzHGp7fCwfyv5f/1f/yiw7PHLblip4cO8nP+EP\n",
       "g+4NqP/7hz/7hNVtXKCxZ6uB6wyHwR+sCwBw44alT42eqGu00H4GAvL60OdBG1c84+D0kYFzOZac\n",
       "MssvXr4Ur/mTP/sjs2xzy7alO8Zx5AnL/yfSuiYaduVnzx/h9126gAfXn2QPxGsOTzDGX5qX4wy3\n",
       "22Mpy7GA04b2rV6T29U+wuddW1wmn5VLvK0/PJxYJxt8bGCfiI3tA75tL8ytkXo8FGN1dgf1c/ce\n",
       "Y6zcG/LxzlF6h/6ti5usbm+fzs+RwdsMr48+w6DH94FjRNcZjR5/0Pmt27Sv08c4RhamN9hrAAC+\n",
       "/BzXJ4Yh+8PNTfQ//b6sW1zDGMQG8hq6nMOx3ShjGzWb8vzyT2GbGW55XeC2vMNo9uWD4VMRXD+8\n",
       "erwr6hZT2LY+Lx7u/WJ7h5P/7pr1ZbOcr8ixztCLNrLTkdt1ZJkbhTO+b2Qx29E4jfvuffeAvWY8\n",
       "pr7aF1pgdV4XtnmnLfuXShnb/JOPf1/UffqbL8yyP0oPTe+N+Xnz1k067+59w8dPxQx93zW3MM/q\n",
       "qu08qW9e4efK0yfUP9jHaCde7Ryy1wAAzM+jf9zfk333pUsXzfJwzL8DcvvomDfsvO+Ynp4i9SPh\n",
       "8PZwmPpnrxNtfbUqr+dcI0tbDnyiLhjDOMPtCoi6zAk+r+GW3mcCBENoCx1uHC82hzxvnj/F9WHi\n",
       "jBjaup42BvI7uNPMkVneuiT713gMY5VOH7/v9Ix3a6nUslneO8iIOocLYxi3k/dxAACpGYwjCzm5\n",
       "jWaSlndDQTrvhgP+3c7Dx1+Selt4/+IY0/ExG+fXh9029f3SbwGFEo7LZoeudZptfu0zGNPv9nr4\n",
       "MWtzUB/cqPNtZo1xAQBmUiFW9+ZbW6Q+ncAx9tXdO+w1AACJKI7TUV+OoTtNvL94lH9vDwBQzOGY\n",
       "m0+ti7phF+OivcxzVqM7fRRFURRFURRFURRFURRFURRFUc4B+qOPoiiKoiiKoiiKoiiKoiiKoijK\n",
       "OUB/9FEURVEURVEURVEURVEURVEURTkH6I8+iqIoiqIoiqIoiqIoiqIoiqIo5wD90UdRFEVRFEVR\n",
       "FEVRFEVRFEVRFOUc4Gh3W+KH/cHALO/sFETdJz9+1yyvrlwUdb/+9Ldm+fH3z0TdRx9+bJbdvkVR\n",
       "98Xf3DXLLledfJacjbHXbD8/JnW7Y8R/ub1GqjPJGVZ2fNwjdbeb10XiQVLv9PJm2eOZYq85ODgh\n",
       "dZvNYHVR3zqpd7tdVlevD0g9FIywuhGVQWeAbetyudhrAABy+VeWe5V/T2x2sW1bNVEGU9P4XJXq\n",
       "qahrDffMciwRMMvbOznxmuT0hlnONpqizmMsmOWQl+9bAIBBG+dR0GcXdeVy2iw7XWOzbPP6xWum\n",
       "p31m+dbtVVHXbOJYduT5MQAA8N6P3jbLg6E8/30hHG9uD50nnuAH7DWVMm3LVoO/j25lTOr5RonV\n",
       "ra/h/D88kW1QLl+xfLn8TBEftnP+hI6px3fyk3IAAKh16DMlU1dYXamcIfWT0yKrC9jos+9v8/c7\n",
       "n1oj9UIWbdfsXJS9BgBgznJdpSrPgfEA/67P72A1tol/LpT5PihkadutLuH8qtXk+dWz2Cp/MCDq\n",
       "GjVsy0DEK+rGQyy7HG5R53DGzXK/hxftbB9zcgAAmJtDW5DJv5S/22Kmo7Y5UXd6hL6jUKyKulgS\n",
       "7UkgjOO31uDHKwDAwhrajNjUGXZrgM8+HPI+EwCgUMCx3fLK9m1xAf+W3U59xbOnT9hrplN0LBeq\n",
       "J6zOO+EnQyF+zN68vUHq4ZCH1W0/p3Oj1+uzuo8+es8sH2cO6TXjDnvN0sosqbfaFVbnclOfXhb8\n",
       "XKXUIPXr1y+wunyJXp9M4Tgw2nx7AQCktzEWcBh8OwAAJGLYB1Nxvl0BABLJkKUsz+uXO9+a5aMT\n",
       "nA/9rlO8JhLGMba0JgcQOy/3zfLcTErU2S0Tdm1+WdQNB6grZLCd5VYFSMbDZrnelP1SPp/F+7GH\n",
       "RZ1h4HwNh/j4DQDAsKG/zmSoXyqVeFvjsNE2t8OY1fW6eA8OuzwG3G6003t7e6JuYMP535wICA+O\n",
       "dthrPBHalr4QK4Nig87x6fg0q/vZP75N6pUTPh4pF+g89If5eNgY0BvaP7hnlv+vf/9L/mYBYNzD\n",
       "udIdy77o0voNszw7zdvtl/v0+tGIX+s0GvSZ5mZwfu3vHE7KTR4+fGiW5xf4dgUAiCVw7dMftUXd\n",
       "9i6uH5aXNkRdwWILm01cm8wuzHJyAADY2MC1xEH6oairddAG1QplUef1oy2IBOT5OjufMMulKsZO\n",
       "t167wcl/930JnFNTLp+oO82gzQiF5ZjI6ofrpYGoA0C/fu/ePfLJ6vLapBgAAGZm46TeG/Pxfn9I\n",
       "/24yxI+XrUW6vjne4edAsUL75uqVy/i3+vw9REJDUt/Z22Z10Yn+dArxzlSCWv7TU953J+PUFtRG\n",
       "vLFqjY6oroe2LxBbYq8BAHjjbXzn8uoF/0wAAI8eYMx65fJNUefz4do9m5HXD50WxvWHBzgW33uP\n",
       "XxsCADzbeWSWP7O8v5nkxm2cH+GwHL9+/RCf981b10Wd00Bftrvz1CzHY7IP7ffRtvS7cpyxn0Ob\n",
       "kZyR7eDMbNIst8+YhrYxtv/2c2p/tzb4fivk6Fqz1ePHbLWMa4ZrW/KYSrvwHnxeOcIZjvFBam3q\n",
       "R1KLvD2u1ui9Op38Oi2VpOuCsD/O6kZA5/XRHr9+GA+ozh9EO3vjhmyPj08wdpmfD4q6VhNtUr/H\n",
       "a9otGu/3hvw7AqeTxuAuF/8+bTDxd67ceM0sP370a+lWoVnDmPDiJf59BgBAvoRtOR7Kzx61DPvE\n",
       "vLyO/O4uzv8t69+1ye8IrtzCfncb8li0O7D9o375fVoitWyWKxV5Xltj0dV1nCsun3yv1Tb2Z6WV\n",
       "FXWLcRzbhays6/TxmZKxdVHnclrixhb1jU4Hv5aKhamtGgd4v2Qb0vnZrfLrgmaNjtmwm/+77hHG\n",
       "Kq2JNdFYaNqhnf5Nw8HPh0KRzie7nR8vM3P0vUyjxb/XWlij6+xiEX20bXjG+6qG5bn6Q1E3sLx7\n",
       "qvJLDgAA6HUwptnfk387iUSwD212Pt7XnT6KoiiKoiiKoiiKoiiKoiiKoijnAP3RR1EURVEURVEU\n",
       "RVEURVEURVEU5RzgWJ2Wt3h2B7hFtJ7g05gAAJTbuK35F5/KW+eHXdyq/sa710SdK4BbD5+82Bd1\n",
       "tTZutVpMzJPPghF+S1UyRbe01ar8VvDdbbpvMpPlU56kKzTNTzjEb1XN5Ok2NqcN26Jd5/d1OQ26\n",
       "B7g/5Lf6e710O/rB7lNWZ035AQCQzfBbS2/c2iT1piUjQ6MpjwO3B7e7tZpyejH7GLd/+hyyLnuM\n",
       "W8s7ffnvGnbsm1IV06dFIvJ2VJcH9xEGhS2AAABOA+dAtcSn6AEAiEXwmfaP5bRL5Sr+zupyY3lj\n",
       "Q26HgGWbpOGU26Fq2U568/UVUZe2bNlvdeRUPtYUCs423S7uMvj96S93dkk9leDT6kxPbKs/PuDH\n",
       "4pElK0yzKqRiBICgB9u/WZe3UzoDuAX9H3zwDvns4f1Xk3IAAPA46LZXt52fr+MhHR9eN7/NOWCn\n",
       "bdJq/YbVxafpltbblq2mJ2l5W/IXn2NqjtlFOT3IVAq3t+894cfslY3LpN6q8uPP6aZpWzo9rLs9\n",
       "8v8tsO5aN/py6peQG1MFDNvyPti+F8fzWakbDMu87rbRFiyvyNvCl5ZxW/K10OuibufVY7M8Oy2n\n",
       "P3r8Pc7DWFBOYRFz4/Z2Y4T91B7K6WdmYpgmZWZaTpVVsfi/Ulm2QS5LeoxkSn6mqGXMGmU6D71S\n",
       "CpqJsfP6m1us7PiApnpZW1vmv25ivP38z/h0SksTqWR+eplPc3DnAc6nzoC20Rvv8uPg4dNHpJ6a\n",
       "5dP8jYHGC89f8lv9S0U636dT/LyOTPS1x4n94QrI9nMrhTapUpRzj3Q72LZvp/h+AgBoWra354qy\n",
       "31yOY0qWuiXN1BiE/BgA4A+gv+4MZFv/3rtvmeV0Oi3qhkO0GS6P/OzWFBtuP7azxzPPyQEAoGlJ\n",
       "DRoKnDHHpzBt3uGubNujUbQF6VM+jQkAwHiMzxSLJslnAT8/f/M1mkqmVuJzLRzu4RjdWOPTDAIA\n",
       "rK1juwRDsg/odtD3J2eor73s59M7Gwb1jU4Pb1t6k6l7XXys503QVDL2MH+/DydSts5v8nHW7kua\n",
       "yvLoCY7tfkn2X/4hphTq2fg0GgAAP/0pptQ+OBXSg0y00e7+Pitze+mY93vQVtlsQt48ACjXcf0V\n",
       "rsuxttOBPtURlFODtmtoJwZNeV6XKmiDe5ZUlBvzcnqnS4toCw7zclopZxdjhrGjIeraTbRPzbJs\n",
       "q+o19PHTcbQZd+7IKV0GbXy+F2XZdl68iOs0f0CO83Zf7ZvlTlP2AY0q2my/l6YusaacsjK5DIgE\n",
       "+FTlvS5dZ3i8fGqUu/vPSV1K1da20ZhhXMd3Btc2eJ9cLNEU8DNhPt7sNqn9XZzm7ftoQNtkys/3\n",
       "QSZH02naw3yM2Z4IwT3OZbO8tyePl80VTL2XOZJjvfga2irnQI61/8Mf/bFZfvutd0VdvYKdv7CA\n",
       "75H29444OQAAlHPYnx+9KaeBS6exP0tVOcVk3JKS6MUjPn0wAEAkiv5h4QKuJVxnvCN4eoh/91F6\n",
       "X9Ql5zAVZTrHr2MBAHZeHeA1UTndbK+DpOZ2pAAAIABJREFUtm9t9ir9jl0+3eHxKU1PFPLyaeby\n",
       "Rez3tWU5VX9iFsfK4YmcZnTrIuomj4oYtPh0tuMRvbdGhl/HXL9J593OIb9ODoTo+69Bn4+zyl1q\n",
       "rOp2nHD9luzn+m1c8yZSclr18QhtnDfCp/zsj6lPdnv5+CGfp6kiPW6+P4cGtY/Hx9hXGxdfm5Sb\n",
       "7L3C95a5knx0wsI8ju1uR05rdpjFcW8DeU5dsKRJi1rmZLEopz4OWdIYFwt1UeexpM3suc/Yz2Cg\n",
       "v55KyH7T7sB5eP8RpqFOpOR35vtHOA+7PTm9fH+Icbz1ffffuwenZcw65DbKlXHshWL074Zn+Jh3\n",
       "c4GmivzqztesrpehdmIpxKd63VigcyPo5e3LizrOp+AyjQPaNr5/Dw4OSH174j3j37G2SlPgOZ38\n",
       "PDzYoWun26/xv0e0qjQd44vneF22INv6ehHn+eKcfCTH+++hfX/46EtRF7OM02FfHlduJ8YWcS//\n",
       "/lF3+iiKoiiKoiiKoiiKoiiKoiiKopwD9EcfRVEURVEURVEURVEURVEURVGUc4D+6KMoiqIoiqIo\n",
       "iqIoiqIoiqIoinIO0B99FEVRFEVRFEVRFEVRFEVRFEVRzgH6o4+iKIqiKIqiKIqiKIqiKIqiKMo5\n",
       "wLj1YWIsfmj3mWV/2C1+iSswNMvtdk/W2WNmeS6ZEnXHR8/MciK1JOp6/a5Z9nmd5DOHg7+mWq3S\n",
       "eqnO6gq5NqkHfAlWl6nkSX1u0c/qFmbipN6o9M1yPlvjvzuTIfV+n+8qpz1E6q1uh9X5/V5aD7hY\n",
       "3eIyfdZC8cQs+/z8NQAAHm/QLNsMp6g73sXnajSros4bxDE3NvqibgA4DpaW58yy3W6I12xubuC9\n",
       "Dluirt3Cvmmdca8hn8csL8wuiLp6BcfV3Owy3qvNy6h/R7WPfzccDou6XC5rlh0uuf0fP35ilocj\n",
       "+XffeCyJ1zx6Tj4b23l7UKuVSf3yxZusLnNcJPVGoyDcRcMsee1JQQNwcjAyy83urqhbWY+a5dff\n",
       "oPf2/MnJpBwAAHb3T0l9YZW3XYadtvmjR/x9XNtcJvVAkG/L05MDUu/3cDwn4ovsNQAAfTTHUJno\n",
       "Dyv+EN5voyON7RGphUIBVjUVCZJ6sYR20WmXx1itgn+3P5B9R9CPNikUkMdBp4332+6WRF29fWyW\n",
       "33pn0/KJfK/VMt5fIBgXda062hO7IdugkB+d1GjA+yEAAIeBuloFfYDLPiVe8/23D/Ae7LItWL+A\n",
       "tqrR5cc/AMCFixfMci7H+xcAgFwG+zMwETMM+nzbpmapz+x1mqzOPvaQeizC90Ehlyb1epMfV/e/\n",
       "3yP1ljAFllbX8B7c1P8Fo7y/rzbp2Ov2+TazGfT7kslZVvfgEbUFTjf/TNNJO6lfuoTfNzMTnZSb\n",
       "NKpoZ4s5eSzGpvD7Tl+kRV10Cvtm/+BY1I1seL+Xr101y9VmRbzmOHNoluNx+ZnWFrHfylXZFjx9\n",
       "9sgsx+Kyf71x+7pZjkQiZnlnZ0e8plbDtvS6ZZvx4C76ivRRQ9Q1G9jvHrdsW0Yj1KWm58hnPi//\n",
       "jKUS7U+v08fq6hX87ng0xmoAAP7B739slq/eXhF13z/+zCx3BrSf0vUD4Ji8136ny+qMEbV97733\n",
       "HqtrNKmffPyA95tTwauk/oPX32F1w9aA1JdS+Pzpo5fsNQAAf/kfcSxuXpfXSO9+iH/3f/83/xur\n",
       "yWVpWy4t8Wupt9+hzzSfumaW280zbEECA41hT/YxdjvO8UhyWtTVLOudtaVrou7IsuYKT1nik54c\n",
       "PxyeoK3/47/6X0RdvYdzzx+Rv89t8d0elzyvrb573MO1hN9j5+QAAOC0+uvBQNS12+gnbXLzQ6WI\n",
       "f3dxZlnU1UuWtUlshnzWbPBrVL+L+mSrXbRykqXzdVEYi+UynXehUIjVNWrURvp8GJfWSu1JOQAA\n",
       "5E/pPYQDvH0LeGhjvnj1gtVtXLpE6mM7/9Lhi2++IvWhPcjq+l063ubn0dc67fJ46bYxtnj3bd4e\n",
       "AQC8eIxruIf374u61TlcW0SjcozZtSw0DMuz94T3FAAATcu9nqRzsq6JYzsxJ/v4hbl5s3zWu4le\n",
       "H79vYR2vuf/8CScHAIB0yRLLnuHnAgEc860GP/YAAPwejBWdZ6z3v/3mnll+cJ+OvVicfw81GUcW\n",
       "CnzbevzYZ+tr8hpycwvfj+TyR6IuX8Y51R/Qft/d423GBzd+SOrpNL/237xM29wV4nVOB53HX37G\n",
       "P3urQXVuL/qOqVl53We347unixvy+8iD/X2sjHmD3O3SNipW+EXH349r+fmfPqXxUSSKa6733n+X\n",
       "v1EAKBTQhwb98li0jqMxyL7IG8bxZwjvhgAAlpYxJt/dxZh3OBpx8t/dXwBte7MhvwfMnOC9xn3y\n",
       "O7iFBezDJ8942w4AUG/i+I0nsD/2j+X4zePHcZRMyXFBt4dt2e/L8X48hPO9UR2KuoblPWVqgfpM\n",
       "T8AzKQcAgMWlLVIvlU9ZXbdM29w74Meid2I5YgPeH17YxPduPRd9Jruf799amX7X7t4zVpcvHpJ6\n",
       "qcLbgsrEejA1x6+7PR7PRB3H+bODR5Nyk0QQY/db6/yaAwDAOUCf8Nuv/lzUXbyOtvDoVH4P3Wrh\n",
       "mLPb+H7XnT6KoiiKoiiKoiiKoiiKoiiKoijnAP3RR1EURVEURVEURVEURVEURVEU5RygP/ooiqIo\n",
       "iqIoiqIoiqIoiqIoiqKcA/RHH0VRFEVRFEVRFEVRFEVRFEVRlHOA/uijKIqiKIqiKIqiKIqiKIqi\n",
       "KIpyDnCMHS7xw/2DA7OcSERF3dhomOWPPvpY1H3x+T2z3G/1Rd3hUd4sl0ojUWdYfrJqN+rkM7eH\n",
       "/z0rnpii3wH887uctN5qtVndsO0l9cxhgdXZhx1Sz2ewbhvybeuy0Xu1OTqsrlwukXo0GmZ1/U6L\n",
       "1Peyp6yu0y6SejjqMcuG4Z2Um7gc2Gi1WlPUeTyWis0t6qamI2a5P+SfHQAgGl8wy6MRjpdQwCde\n",
       "8/DeI7O8uXlB1HV6DrNcqsj34HD4zbInOC1/3wDH0effPjXL5VKDkwMAgGFprzffviHqnu48M8v9\n",
       "ofx9a6vrZnl/Nyvq8lUcL60+nSfVE36ce1wxUm9WxqyuWj0h9Y2NZVbXbtjxHlo98V574wdmORRO\n",
       "irp330X79Dd/81fkM6cjwF6ztETHR/p0h9UFo3RuLC1HWN3lrYuk/uLFC1b3/GmZ1K9enTPL6xfm\n",
       "JuUmX331jVkulmuirtvG+7vx5k1W881vvyL1071DVjcTnxjzBs7D+YWEeA/zW6v43adpURcN4LjK\n",
       "5+UxO4KhWV5ZiYu6SmNglqtVy1yxy2MsHA9Zynw7AABsRpfN8oNvdkWd0zFvll+9zIi6Wzewb7wO\n",
       "tB+G5Vkn+fBjnOPlouxrwxFso95Qtu2dtmGWU4lZUTc3i890kqHjeuPSBnvNzvZjUs/lcqxuZZbO\n",
       "m/TxMavzuO2k7hwbrO79d98hda+fn6+5QsUs1+rUr7mcfJyRy9B7Gxl8X924eY3UP/v0c1bnC6yT\n",
       "usfD+7ZBj47fJw/3zLLRl8dLyI/2fWt9UdTVKxhnvfFDvj8BAHpdnP+Gh4+dAACGlvCuUN42y51e\n",
       "V7xmcQH7qdWui7pMAX38YCDHkZcu45g1bA5R1+mindg9wPk6NM6ITRL4ffuviqLuNIs2LZ+X22sq\n",
       "inY2PhUSdWNA+9Zs0jZyOJyT8t999xSNN1dX+Ljo26/umGXDccb/G7PjZy6fX5SFo9if1TT1AQsp\n",
       "3tY0a9QHSPMhGqRj+WSbH1eJeRovVXNVVjflpn3TrPHfN4YJm+vF71+/Kc+v/+Gtf2SW24OSqKs0\n",
       "MHbPFw9YTbdD7d7K8jKrC/qCpH56jLGZw26flJuMhm2LLijqZpLou+9+w8dOAADjFrZ5LLQu6qbj\n",
       "M2a5B9gOsTgfvwEAZIs4FlcXN0XdduahWW6fYVuqzf+XvTeLkSw70vTM933fY19yi1wqszKrillV\n",
       "XIfN3sXu1qjVGgESpqUZCANpgNajnvQkYV4EQYA0EAYNQQ8SpGl1a9ScmeZQw2aTRVaxqrKyct9i\n",
       "X909PHzfd9cDm9euXZrFuwL2PZ0T/vuNc89ix871e+xg27idsq2yT9F5j8ewfDsvtjk5AACk4nh/\n",
       "d27IZX3+CtfT6Wxc1AVi2Db5Er/mAwAY1HF+aJ1Sv9Ex4efQdJyuXW0j3t+3WealTuWM1eUSdP3Q\n",
       "rPNtkPDRti7mTeuRMV/WG5ct85VtzOq6XWoL7t69x+p8QWrTuh1+Hvh7v/+HJL9/wPst7S5dn+8f\n",
       "7hvp9JpsM4YBvN9Wj69XAID2BOefb/32h6JucIzjMF88EnWeIPqLy0vrRro34usVAGBrD8tw9faK\n",
       "qHu1uWWk6115LTs6RVs1msj/1+y7F17jtZ0e2WbM7Hi9elX2oad9tAUut/w87fAE1wyvXsl20OfD\n",
       "8bq+sU4+K+Z53zhtea61cplfc9kc2EcrFX4NDwDQaGAfaLZl++b14dw97tA6Wlnh1+Enp69IPpVb\n",
       "YXWHRbomigPvm3U7dK4+LfF+VjRk8VVm2K+6XdmPefc99NH73bqou2payx7u8eu5Rp1+32Pn+0un\n",
       "Tut82OXt4I0r1EcLhvB52sPPH4plXVnHspbr8jOC4zOsy9ycvI5v97Dtrf6mGbvpOdnM1J5er+x3\n",
       "N0xzQLlUE3WBAI7xoU1en//0IT4fuXxNnl+XwjgXFQrob84csj0KBbHP+5xeUTczPc/02eXnFGcF\n",
       "nDfzx/L6weVBnd1JfdQr12/w187Tdpo5+PlrPKLrhSHw64fcIrWlL19+xurqr9GGXbn+LvksbEtY\n",
       "5QAA0O/vkfzyEu/vJNP0GcbREW/fwyH6f/oDvs/aA3QcxlPYpouuLPsdAIDqPo6HB58/FnWNE+zP\n",
       "X//GB6JuYlrPjW28/wAA0LaZxkp+i9XoTh9FURRFURRFURRFURRFURRFUZQLgDNflN+anpvDt+yi\n",
       "IXnXhNeDv27ube6LuvEAf408OZb/7+XLt4106UR+M8lr2jJit/xSPBZ2hvjd9G3efp9/s3tsedO0\n",
       "K7zt4LT86mmf8m/GuRz0rcxuy/SWQZt/42I6o2VLJvlfN1NJ+kbFYMC/pRgJ07fxHHb+7VePi+6+\n",
       "8Zh+sTa3oZWK6S2j0fCcHVo2fDMplZLfHuia3qxtd+W3EZaW8C2oBw8eGOnL6/KbyN0W/nL66Sf8\n",
       "L9IAAIEA7pr64Cvvi7p+D6+3vy+/qetyYf84q2E7zc55a79nenPir3/yY1EXi2P72u3yeDW/1ZJI\n",
       "ym/t//QnHxtpv4/230sr99nvbO8+I/lKlX8zqVaj9/vqFW8PAiEc1zYb/xYhAMD6VWzrgFfeBfPi\n",
       "Bb4Ve1aibya5XXzfHgxpe9pm/FuttZLl7UgX/+ZZpUTv/Wiff3Pkzi26C8DuQBu0+eaVVW4wnmJ/\n",
       "+cp7b4m67U18i0/abbS0sErypTHfTn3Lm3DRKPaXrRd7VrnB8hDfag1G5bfu/CaT5PfJ/aDZwjEl\n",
       "vEwKAABOF7ZhrYTtNAH52rYJFqJalt+XqEWxH8RT/O4RAICQD/vBV96/Keqmprdn3T58M2xyzm6I\n",
       "WBzfHvJ45TfGJ6a33QJO+Y2jYgHnqHJXfovqpIDzdTScI5/VKvzbbwuLdP6yzr2/ZOqgb/AurC6y\n",
       "ukiYvu0zHfJtur9H+3JBeGM+kcD7ePLyKfnMI+wwcFnm0KUl3iY9/OIRybv4l6ig3aZ1vji/xup6\n",
       "ffomYTyFdRFPyG/jD4fYZyc23n8AAAglsA3aQ/nNM4dpN8niqvwWet3kB7naOB4yAXkXC/H77PL4\n",
       "8njwesnUgqibmt7G/6vv/42oS5qmgXQG33Dvj+SdPq0m1tHcgjzGq1WcexpVeXdgMIg2stOR/Yx+\n",
       "zzynUF/s8mV+B894TOcrl5u3cXHTDiOPR36zudbAvpgvyH7885foMzzfojtL3xHsYjxB+8dpnveh\n",
       "qzU6xoM+/o3tq1FqSzJp3n/d2twk+UiAfwP/5lv07cr2EPtINCfvRH69izuWx2N5t/zREe4SH4z5\n",
       "fhCN0LcZXXZ+bVKr0vG++RLb6ptf/4ZYhoUlrLN2XV4XgGlOPSvIb0o7Btg2w548t0W8qNvfwTml\n",
       "c85b+6dFnAN9IfkNXLvJF/A45CgEsxn6WJ2OvEvXOcM2eFPCvhjwC4YeALqmtcQPf/BDUXfr7Q0j\n",
       "vbgk96nnz3F8jcbybohoGG1p2E7r8taVW+x3hpYdPPUGPw4X4nT+Kwg7SKwRO2Jh/s3fXpP6zKsL\n",
       "OA4Dbn5Xod1J+//+ieDHWN6+d3v561VOaV+eE3YlDmp0fmhVeNsymdFnGAGvaRd2V95xt34J2+bk\n",
       "RN6ZE/bjLtFaqSvqRhUcKw6b7Of2+3hf27u4c83hl3eM20y7sB+9eirq1i/heq7ZlMu6d4RvPXsC\n",
       "8prXBabdUBVsN49bLut4jO1xVpR3GCTXsW9vbcpzd2+CduvSDfnZhMPkO54c0nnz5t1rVjkAAMzG\n",
       "1McdTvm5w23D+vcHZDtYrqOtyqRXRN2jL3HH0sjSrb0Bfl4K+mk7uQVbaAtTG9Qa8s8ShlO6nl64\n",
       "xEe6uXfzNsl//NEPjPTSPF+vAABF0zPI5RX57f5uD+s8EOT9onSa+uC1Cl9HTksEosUE77/WLVER\n",
       "ymc4b8bTvO0EALDbsG8PhN2ZAAAz0853b0j2tTumXbonRTliR2+AbX39Ktb5zi6/KwEAIGzaUbm0\n",
       "uCzqHj1C38nnlNccy6vvGOlcTl4XfPH4cyMdN+1ojUbkZ5Ybl/F5y/Y5tqBQxHXBoCfbt8UF3PHs\n",
       "dcm2amJqQq+HzleZNL+uLxSo3+ea8TpfgPaP8Yj34eLztG3uZ36T1W2+xjmq2qD9tz/jd7H4g5a1\n",
       "q433D9NhOm7iqVVWd3RI+2hvwK83ZzPqL5VO0b9xOeXdaffuYbttPd8Udd9+D+fu7S3++QMAQNs0\n",
       "/6dX5ahrrhH2K2lnv+70URRFURRFURRFURRFURRFURRFuQDojz6KoiiKoiiKoiiKoiiKoiiKoigX\n",
       "AP3RR1EURVEURVEURVEURVEURVEU5QKgP/ooiqIoiqIoiqIoiqIoiqIoiqJcAPRHH0VRFEVRFEVR\n",
       "FEVRFEVRFEVRlAuA89qVy+KHnWbLSAd8QVG3t7NvpEPhgPzfpjMj6XK5RVnhpGqkm5W6fLlI1Ejb\n",
       "7Tbymc3uYb/TavapzmZjdd0O1bnd/H0Nhh36vXaP1RWP6X30e1gXobCX/Y7bQ+soGPSzuk6D5kez\n",
       "Bquzzyx5u5PXAf17MBgx0k4nX18AAHsHB1iG4UTURSN4vfP6gdeG9zscDkXd08cvjHQ2tWiku52x\n",
       "+J1qCfv2wlJC1GXTWSNdKp6Kups3bxrp73//r0Rd0DQ+/EGsy8o5/Xx54bqRzhcPRZ3bgfU1A7m+\n",
       "+l3so5VSTdQtZhfwOz3anuXh37Df+Tu/t0H/16DL6hJLYZIfD/gxUKlg+ZaXl8Wy5nLzRnr39UtR\n",
       "d3xYNtI376ySzz7+2SP2O/HkbZI/y/N1m8lmST4S4/t2vXlC8gtLcVZ3+TK1zds7z4x0LBG2yg2y\n",
       "C/jZWaki6iJR7C/pxTlWc7KTJ/l4hJ8HZpZbHY2wj8XDIbEMHpfDSMciss4+LWJZkxFR57Lj+LI5\n",
       "ePsGADCYtFE3M9mJCd8PAQDGnZSRrg+Koq7fGxjpuRxvswEAzvpop1fm5Xsv5rHPdttoxG9cvSN+\n",
       "x+c/M9Krl+Q5/vUrvPbrF7J9qzVwHNucLVGXSGLfa9RpHb18ztvjWJzW0fLKGqvrtmm+2W+zupmH\n",
       "zt2bm29YXdCfJPmTM94WFsr4f7Jz1AadHPN1NhrR92m83iyrG/aoPY+E+L7tddG6s40HvM5B/Z5M\n",
       "Gst7cFC2yg3m5rFvz9yybXH5XPi/gPexAABKpZKRrtfORN3ayrqRDgTwnhoNuY/5Pej3vXwp2/pI\n",
       "PGakHz/+TNSBA9tq7dKqKHN58X4PjtGG7+7uit8JR7E9I8EDUWe2xfGk7EPPJlhHLpdL1I1H+Jnb\n",
       "S+1gsVRgv3P79tsk7/fx7dsfYRk8HtnPczrx//Z6fVGXzaaNdHe8RD4rnPLja2lhgeR/67c/ZHWd\n",
       "Jp3/anW+rR4+fEXyt9+9yursdupbF0/3WZ13i86TqS7mh7Yp+x0AgFIVx02vK/tm5Tr2pdVVvs86\n",
       "Jw6SH41GrG5hgc4Pz57s4f+pymP39j38nsPeEXXzS3jvf/q//EtR55+gHy6tywAAwjGsv9xcxkh/\n",
       "9P0XnBwAAKpt7EdfHv21qHvrDs49B/t5Uefy49jIZeTxWsrjfJ1bxb59WpRtgcO0UMulkqJuPEQf\n",
       "6+RQXhf43GgLLl+RfehaHm3upfkV8lnp9AQ42kM6rmdC3x7MaP+Y2vn2rdRpn6/X+Dk+GcuQfDiE\n",
       "8+NgxNua7pDOmbMxX4bjU+q3RGP8+tBuudXjfd4nLOWpDYsuRVldo9Uk+fXLOCe7/PI6eQJYZ4uL\n",
       "sm/cKONzlV6X9x9+8b9wLXW4tSXqcivYn/eOcax4Q7JfMHHifUzGsp/x9AmOj/Q5PnQ8gW3jj8r3\n",
       "3huj7ZuZ1gU2pzyHRj3ok0f8MVH38MsnRjoUk5+TdXomP9Ij/1+zzW126fzl9fB9dj5N1287B7zd\n",
       "tvmxzjvCsyoAgGTCVOcjue/V8ngfiRxdx9rtvM2IZmi7h1P89feOSiS/dukmr9s+Inkn8PPc5ms6\n",
       "x3/zG+gzdM55VlRpYF2+frkj6nLzaKsDQX4d2etTO3jl8jyr8/voenDzOe/nWv9PLIl20XZOH2t1\n",
       "sC9OZHcEwlFs01ev+XUUAPVF06ZncFY8bhwfb17vG2nnOWv1Yh7rP/1WRtRdv47PyTwhef1grvOX\n",
       "b/ZEXa+H4yMZu2Kkx13Zl93dfWqkV5b5NR8AwOPP0Q81+xy/Wga07d2B7GNduozXuHGT2gLpOVSr\n",
       "R8f/yQHva9vGaZIf9Hn7/voNfYZ5WuH77OpyDq/toPOQy8nbz3qR2oxHj/hndWvrV0i+WCyxutMy\n",
       "tatuYR2Tmafl8ZjKF/HJ81K3tW+k566IMqg7sW8PQvyzUgAAp2lt3B/LfmnEh+OoU+HneN3poyiK\n",
       "oiiKoiiKoiiKoiiKoiiKcgHQH30URVEURVEURVEURVEURVEURVEuAPqjj6IoiqIoiqIoiqIoiqIo\n",
       "iqIoygVAf/RRFEVRFEVRFEVRFEVRFEVRFEW5AOiPPoqiKIqiKIqiKIqiKIqiKIqiKBcA57jXEj+c\n",
       "z6WNdLXcEXXZ7JqRrjfKoq7b7xnpUDgk6gK+iJHu1OXrTSYTI91qdclnYeH6pRK9XjKdYnXD8Zjk\n",
       "fX4nq3NMpyQf8UZY3XTmIHmny2Okx9OxVf6LMnTaJN9ud1ldv+Uh+em0zeoAaBlgxv/m16j3SH4w\n",
       "OjHSHp/DKjcYj7AuotG4qLOZ/u/hQV7UpdIxIx0K8vUKADA/t2iknz95bqRv374jl2FsM9L9pigD\n",
       "Rwr/73TM1z8AwMsXj430bNoXdY36yEhnMstGetiWx9eLJ18aaafDLepCAayvbm8i6qYDLMPR/qmo\n",
       "C5jaOp2i7XlcjFnlAADwl//HCcnnsqusLpockfzCio/V5eayRvrwnLLOpvhZMCj30cGgYaS3t5+S\n",
       "z95+Z4X9zsnRDsnfuHWV1RWLeyT/7e/8Bqt7+eYTkl9fv8zqOu0i/b/v5Iy0wy73g3odx391a0fU\n",
       "rSyi3a6enbCaQIDaiIOTI1YX99P+MANs325HHjeNKuoCQfkdhEG7hjr/TNSFA37UhWWbsbldMNKd\n",
       "HpbP4wuK3/G4sV7jUfmeeqax7HTK14sFbxrpF4/lvj0/t26kHRHsE63JG/E7n/6wbqSrlYei7hvf\n",
       "ft9I3/kgKuqeP8P6Gg1kndOWMNJuJ/Ut7A7e13C7XSQ/GE1Z3dRG+8dgOmB1ixZbletnWV2lRMuT\n",
       "nud9htkUy/fznz4hn924foX9zqW1dZL/6cef8Lr1eZL3+vkyBFx0Tj4+PmZ1a1fp/w0GcTzM+ny9\n",
       "AgD0JjgfFnd4WwAA0Oth316Y430nAIBMBj+byeYYHr/Euc3vwbJGzxm7heKBkQ4EXaJu9xB9i1Ra\n",
       "HoeBGN47eGR/ZOsQ/6/NFjDSd9+7yckBAKBcwvo6yW+LOr8b+2y7cybqMtEVIz0d2UTdaIjzv8NF\n",
       "G8Dt5ueOQIDOwc+fPWF1bg+Ow0ajxmoAAF69RPvk9sv+SMXk46eT1LacNvnO8/TxJslvvTpgdV//\n",
       "+tskP7bx5V1eu0Tyte4rVpdbobZk8yk/Dnf36Rzli+Nce3hUt8oNjk+2jPTa6oqoS+ewrTrtIasZ\n",
       "d+i6IiCsiWZ22o8mNrxepVkRy5Avop2w27yiLhjDOcHm5m02AMCLh7tG+vBI/r/pm9iX0jm0M4lU\n",
       "UvxOtYf9pTdsiLqTE5zn3E7ZBi2sYj/1BmTf/ayAdfTsEc7D792/IX5nefG6ka4VZXsUT2B7Tqay\n",
       "PzI2rbvbTbms/T5eI2/xB0+Pi1Y5AAC4Qn6SH0/4vjg/T+e5SIifO/wBS52PeF+v3abzYamG/WXa\n",
       "5NfTTi+1e3a3h9WtrtI59PGjp6xuaX6R5Icj/v/euXuP5A/O+LqMRej47PfRN/b45b446KJuZpMn\n",
       "2y8/x/nn2hV+DQMA0J1iH5m55eud1nHhXDjDtK3F9wEAgHgS1wmHR/xaAgBgaRnrNhAOiLqR6VlC\n",
       "b9ATdbUOjvmFJeyLqUSakwMAwOYrtMUvn22JuukQ7ac/Lj/XmlvA/2uzyWuYYAD7ZfbmNfJZp8GP\n",
       "38MjuvacTfn5dnV5yUjXAnLbVs6wbXogPyMcD3BNtLd9SD772q8vW+UAAGBz0vkvHl9ndaMe/f7e\n",
       "U95uP/qMzsErC3OsLpKm493vQJ+w0ZF93o1V9PHzZwVRNzP50M02X2c3b26QfK/DPyvyOOl8+t5X\n",
       "77K67W3qB41M6+7lhQWxrM9f4ffNw9mNAAAgAElEQVSCMf5ZDgDAYgbrMp4Ii7qW6dlkpSTPr29e\n",
       "4ByfTuIcUBaePwAA3L13y0gPh/KztfVLK0a6MeBtLADA02fo24Ws842JtXkcK1vP0Hae7JfE71y/\n",
       "is8cv/fPH4i69z/EdfeVDdkGHRxifa2ubYi612+wfHsH9NlaJD1vlQMAwBSoLWkK82azTm2LtH7o\n",
       "j+gz8vkM7+N8+lP0g/wBaqe+9q3rVjkAAGTXqT/4W6v8GD/Yoc9RnG5+Tliap98vnPF+fDBA5x6X\n",
       "B22mrSevv7ptnAfOOtLzeIDYAq5f7T75+VevjW2a9Mr9xW/H8h6cPmc1utNHURRFURRFURRFURRF\n",
       "URRFURTlAqA/+iiKoiiKoiiKoiiKoiiKoiiKolwAbH/yX/2auM/UFCEC/sVf/li8yGyG2wNd52xR\n",
       "cpi2WgU8flHXqOK2KadL3rIbDOJ2w16Xhg0IhPhwHtUa3ZoXCvHbcQd9uu3MF+C3Ng4sW7eyc/x2\n",
       "wUq1SvLdHm7rmoz5JphZtuxPhO3jsyndthry8SFPhkMa3mVm47enDUf0/46m2AYur7wtOTuPoS9c\n",
       "LjnsyumxeQueHPZjbhG3sTXOCTPh8+H9h8MYdmE8kMv6d//uv2ek83k53IY5bJvDJW9bd9jxPgYj\n",
       "WdfvYZmePcPQW9FYRvyOf4JhvZznhJLoA27D3LgjbwEcjrE9fS5Zd3aMZW1ZoqJ4QvzW8FCCbq9s\n",
       "dausbtql4yQb+zqr87rQTrzc/JlY1lYXtwcnI/KW3VRixUgnLKEdP3/4EfudZCZB8tMJb+M++PAW\n",
       "yXsD/LbOqZ2Or61dPnRAvUa//+69bxrp40O5zzarJjvrk8Ou+Eyh2+pFPsZh/ohuZ09E+P7StYSE\n",
       "tNvx2vMLct9udbFjZedlXbuCOn+AD7UJAFA2hfloNOW5I5XArdvpLG5/7p0T6/HlGwzz4fLLW+c9\n",
       "fpyLwsFz7GUKx3UqxodCAAAYmMIxtroYdsEf5OcDAICgA0MmbL7mQx8BABTLOG4SKbmvFE5x3ux1\n",
       "5dCCDlM4u9GYbsWfCrY+nqTz16XLfF2clWifDwf5Od7nodvbY0E+HN2bl7Re5tdXWF2jhuEK8sd0\n",
       "PFxZv2SVAwBAs0nL2uvxYY2cDhpSqyaE72i06PXuf/AVVnfjLRpq7OOfo83sDeXQSn1TW7W7cqgg\n",
       "s780OifcaSqFttVpk+d4cxuuL68Y6fKpHELh+VPctm4HeYt9zxQCM5mS5wSnF8fRDOS52xxaolTG\n",
       "PjHsyz7v0ORE93vytW/feM9I772UQ4ic7KJ9Ot6XQ6t5PVivoQj1tb2Cf3jrDp2/Dvb4cHTVMwzH\n",
       "5gI59I4dcFyvX8mJupVraHfmlqlfUenyYS+PDmhooF6Hb4Nhj9rIaxt8qMdAiPajswofHsRr8ZfK\n",
       "Bd6+x8I0rO1tU+jYQVf2jWNxXGc8e74r6lo99B0PhX7gA+q3vH3zN1ndwiKtk48//rmRvnPrLbEM\n",
       "Pj+Or41rcojDt+7ivP7f/ZP/VdT98/8J59c//A++K+p++4/R5oZj2Hfyu3KI1H/74z8z0i/yn4u6\n",
       "ninEGQzlcDbr17G/3P2K7LecHqJuPMR2n9pkP6NrcvuysXPCT71GO5hInBMu3YtjtFGVQzU5HViX\n",
       "6RT1jc2h1M2Mh3S+Gglr1HaL+gKpKH9fx4c0zErAyYd9HnapbxcKoL0Le3ibNLZGN7XxNiOdo6Ff\n",
       "VlbWWN0XD74k+XCAb4Nmk/rxczk+DOGXzx6RfNYUgqY/k+fQUhl93nRS7osBN9blw8/lkL/xNNZf\n",
       "PCHb7VdbptCFb9CXisYSnBwAAA6PUXflypKo27iOY7xnl0M6VWroF7m98jOlveN9Ix00hYs7b61u\n",
       "Hg/jkSgD+wzt4HnHGwRDWP8ul+y3ZDLYhp9+QkNE5dJ8WCPr86/LV3nd/h4+I8hE5b5SOEBbmhPC\n",
       "QwEAhKLY5+sd6qO6PPw6oVah89X99+6xOqdlvTAR2iC/T+fq5bkVVle2HO3gNYV3zCzKc3KhjPc1\n",
       "mMrt1hihLbR7hWd1Fv9y1Od98lyG1vlwyK9lY3Hq13p8WOd7B3LItInpPmY2+d7Bjv5N9ZyjNpym\n",
       "tm7V5HXB2jKGyhsO8N5dDjn0dDyNfczrk9f+tRo+a/rsgfy8MOjDe7+0Loeo7jVxDHRbOG/Gw/K4\n",
       "KZexfTsteX0ez6ItWFzifVIAgEYL271Ske3g3uG+kf7uv/sB+czh4dujUKDrjNGIf6bXrNF5siiE\n",
       "3v3gA7p+GA15X2MyxjasndGyDQb8ePA5aMj2/ph//nXj1grJO118Gzz48lOSX13lnzmMZnS8Op1Y\n",
       "F48/58O+AgBksxiOcedAHjdjF9ZRek4Omx80HXnjdcjjNWMKY95v7rMa3emjKIqiKIqiKIqiKIqi\n",
       "KIqiKIpyAdAffRRFURRFURRFURRFURRFURRFUS4A+qOPoiiKoiiKoiiKoiiKoiiKoijKBUB/9FEU\n",
       "RVEURVEURVEURVEURVEURbkA6I8+iqIoiqIoiqIoiqIoiqIoiqIoFwDb3/+Ht2bShz9/8MxI+8KL\n",
       "4kVOCiMjnVtIi7pGe99IO6Y2WVfBdDQhysDrCRrp8YTehtPpZL8zHPVJvj8csrpAIELy3c6A1Y17\n",
       "U5LfuJlldYcnOyQ/nUQxPQ5a5QAA4HTSOhqPWqzO7XKQvAvcrK6QL1Kd18fqXB56vZkd793hnLDf\n",
       "AQC4euMK/q9CQdS5bXj9Vrsm6jx+1MXiAVE3HmP/czpdRjoZS4nf8XtDRjq+wPcVAAC7DT8rHMv3\n",
       "NB1julJuiLrhGIUffPXrRvrp0+fid872D410l++GAACwfvktI/34+StRN51hn1+/LNdRrb5vpONx\n",
       "F/ksEsix3wkFMiT/2acPWd27794g+cmsy+qqZyUjHYvFxLKGQziGenWvqNvdKxvpMdDx1R1UrHIA\n",
       "ALA56G/ja8vXWF23T7+/vOpndd4ovV6nX2d12Xlax6f5jpFu1+Tf63tt7CShkGxn5xewztr5Eatp\n",
       "t2m7eN38PbnttM5dLrRB+/t7YhniibCRLhRORF04hHZncY6vfwAAjwsnjIMj+XpLy3NGenMLbfN0\n",
       "4hG/M+hhnU99/XN02E4ej2wv771zyUh7fXI7TUZYpkkfy/3lZ/L9lSoPjPTl6/LcXW/geHC7w6Ju\n",
       "MsN5bjSV7z0YxHlzPKR12RnxY9zp6ZF8NhNndcd7x/R/ufm2yiZoH02Fk6zOMQuR/CzMz8PPnzw1\n",
       "0gmLDbLD2Cr/xbXt1B/Z399ndU4XLavXE2J1/uwcyduF4T/8lbbBduv2+foHAAiF8P+a29pKs4k+\n",
       "yMzF2wIAgH63aaQX5+dEXamAbTpot4305dU18TuDHs5fdpDHjTOF93RyXBZ1rSZeb9CXx2u1itfY\n",
       "uIHlG0/l+X5+wdT37HK9DlrYX3aey37G68f4mW0SEXWNOo6puQU6J6fS/PgajOk4jEX48XCwi/Y8\n",
       "5JUddL8Xy+dwyTYjs4j1svFWlHy2eJ1vjzev90l+0OLLOmxR/6bd5K8Xzm6R/MbVr7G6Lx4+I/lM\n",
       "lm+D99/7NsnP7Nh3+m253R5/+dpI509kZy+9hHanUOD9lrh3neQHbd4O3r5zneR//OOfGOkPP/xQ\n",
       "LMNkjOX79e/8lqhbvoS+4w++94Wo+x//64+M9KVLV0Td7/3Dm0baF0M7M+oWOTkAAByVsH3LPbkv\n",
       "trto36aDqKibut4Y6dyifL1hC+cLhw37aCLt4uQAAHC4j33FNZN92WLhCK8Xkedu2wwnC/tMXuuY\n",
       "/aVEitqI0/Ip+51v3n+L5KW1z9X1myR/sMv7Ls0KXeOOOj1WN+7Tv+ey+NwhEeXXCZEI/ftoyNuC\n",
       "vcMjkrcBX2fRKK2jdoufX+/cfZvkt0xj3MxJkdr9vg3toisgr38dpnV8u83XFwDAaQHXUnPZeVFX\n",
       "bezi/3XLY6BcxTXD9h5e2+GUfehgCD/L5WQ72O3gmsiW4n0sAIBAAMfUaCzPr6MplrXZxT6aymY4\n",
       "OQAAFE/PjLTHx88vAACnx3jv0bDsE8WiOEYH59igYQ/vd9Cn99Rs8N9768Ydki+3nrG6VBzvo8tP\n",
       "GwAAkA5fNtKt9rGo+/bvoJ3+6Sd0re8E3oYHHLQv9zq8b3ZplfqNARdvM3ttanOcDn7evHf3Fv2D\n",
       "yUc/Kco+3Is3+PzlrCW3W76G99Ee8dfLzFGbERdslctO73UwabK6/oCOd7cHx1cyKT/b2TtAWzMe\n",
       "iY+AoVjMG+nsPP9sEwDgrII6r5tfwwAABDx4v8U8fufahuzve7xYvtFMtm+mx4rwfEteG6fjWIbU\n",
       "OXbVPcWx53PiPDwaynamN8LPdvePRN2VG6tG+rQoD8TDQ2z3SES22Z0B9r3MIu07Xh+/WAyHaXvu\n",
       "Hr5hda0a7fPzgs3stc9Ifm2JH/+2Ma4ZmpbHvzt7u8Dhc9Fn1a02bzOcXjpXTGeCLXjnPZI/Ocmz\n",
       "OpuTPgvv97EuvvW7N6xyg60320b6xz96JOpgbHoOHef9cwCAyzfwWaA3JK9Rt/c2jfRakl/n6U4f\n",
       "RVEURVEURVEURVEURVEURVGUC4D+6KMoiqIoiqIoiqIoiqIoiqIoinIB0B99FEVRFEVRFEVRFEVR\n",
       "FEVRFEVRLgD6o4+iKIqiKIqiKIqiKIqiKIqiKMoFwPaf/IOviad4RRN4gOHPPvlUvIjDhgeGbe3y\n",
       "Bz4CAIRNh3b3J/JhRACo84dbompmKnkkRA8c7DT4A7+shzlOJ/xBwPnTEsnbhZOTp5aDxSbCfQ2H\n",
       "9ICplZUVI10UDpFyO+mBXL0uf1BkIkEP0+3Xhqyu1aV12Z3wh9Kl5ugBcKMp/l/T+ey/wtoqHhhe\n",
       "FQ7+BACIxfEAsXJJPrQYJngfC/PyoXTLy3jAmfmgrfUrlzk5AAA8eICHDnZm8qFv77zzjpGuluqi\n",
       "Ln+CJ5IVT9qibj6Hh7e/fI4Hp8Xj/KFbAAC9IR4KePvGXVG382bfSA868qHdBVOdB0LyoZvr1/Ag\n",
       "todP6MGQgSB/qOLyEm2nSIjXDfv0YMJmkz+o8PotPAB2fM4B454gHvT29NMDUTed4cFskxkd05kc\n",
       "f+B4q0HLlo7yh+YOe1S3cfkSq+v66Nhwefj7Ojmi/e20gON3bUU+1K9yin0xFZcP2k6m0L4Pavxh\n",
       "qdEwPWy10+TtcTBI6yRfRPtZ68qHL7rCeJDd4+evRN3NJTyU2nHOuwrVErZBQzhYFwCgWsfPIgns\n",
       "s+OpfO3CMdqJu9flQ/feuXvbSNcrJVH3+gUe9rdxVR7XpxVsz5zZDjrlA27/xf+Ndbl8ST5c9trN\n",
       "BSP94OETUZfLom7/YEfW5fDAwUiA2rRgnJ88ul1qLzNzOVZXLdG6XMzwB0q+d4vW5Y//9Q9YXbNc\n",
       "JXlPiJ9jtnfw4OWE5fBhX5i3n0vryyQ/BN7PcHjpoadHeX7erB/TvhyJ8Iel2uzU//D68P/6/PLk\n",
       "vbODbWoDWdftYp87bci+2Xv38IDv0zx/OCcAwKSP93VzAw/aHY1GnBwAAPpDPJzT45UPRK+3sY7y\n",
       "hT1R1+7g+IqeMw93uli3PtO8ObbLfkHMZGMvLS+JurMilqHb4PsKAMDBG/QFdl/Lhw83TT5gKkV9\n",
       "3kiMPxy+0qV9b3n+Oqvbeo195c5bso8V8GE/ioXkg+YXF3GOGgzpGG8Mtq1yAAB452sLJF9pVlnd\n",
       "4SHty50OP24GY3rv77y/wOrKVepbBP38AcQ+J/379iYe6vv6zUv2OwD0gPVetybqHDZc/BzsdFhN\n",
       "wEVtEIz4dUF2gdrRkyrWxds33hXLcCmBbX91g68vAICND/Ge8tuyv/+f/Yf/vZFOhOR+9dVfw8OX\n",
       "F1ZxrhjZ5IPh2+7PjXTfcSjqCido00Z9/hBgAIDxAOvS53SKOrsDx3I4iuWe2GT71jbNh6OaXIZ0\n",
       "Om2kg0H5oPnVVTw0+vBQvvfhEO+p06F9ypr/JdEYPQh7LsvP3e06tVXuGT9v5neKJB/x8m2aSVA7\n",
       "fbCPc8z9O7etcgAAaNSpf97t8/5TIEJ95r/6Pu8/3L//Acnn5vn1w+PHj0l+LcOPlf1D+hxgaDpg\n",
       "feKQD1u3e3BNM5O7ItRa2K/cHvkA814fr3d4JI/XWAr73xRMfodT7tsnJ2g/U2l5beIxHUjv8Mpl\n",
       "9UZw7j0s8s9RAACcTqzzvskOZnLycyjbBPtH2CsfNN/tYR1NBT/vFzpcB01lGYR8+CzLPqEHmPda\n",
       "/LOFcZ+Oz3iA92MCYWybXEpew+xvoR0c9uT1A0xw7Xr7Lh13fj9vkwadfZJP8G48TMd0XXz7xvus\n",
       "rnFG15dnp/zzHJ+THlyfxO4L9qgDJCpNPDT+6Ez2ZasmP7Lf5wfi0ydvSP6rH/D35HVTv7Za45+P\n",
       "tDpnJN/p4fOvQECoWAAYjrHOzvNfK5WKkfb7eNsOANCboc+QSWdFXT6P/l3Qj76Y3y/3sdMi3qPN\n",
       "Lj+v8nnRx3RM5bW/2zRf727KNsPlxOulkjgPOVzytTsdnK8vrd8TdUelnxnpYFD2ncoVHO82l2xX\n",
       "c/NY54M+fYYxnfFzhz9I/358wvsGPhddF1fPeF87bHHxAx5+DBwf4HhaXaB2NZuLWeW/uJZ17erg\n",
       "fdk9yzOz2YwfA4MJtZfVJv9MY9yj9zDtm55xd7fY7wAA/MZ30RZOZvI67dkzXBfARLbHAQ/a0gcP\n",
       "fyLq0mlshLu3+fWm7vRRFEVRFEVRFEVRFEVRFEVRFEW5AOiPPoqiKIqiKIqiKIqiKIqiKIqiKBcA\n",
       "2733MuK+YbcXP7pz923xIh999IWR7vERwwAAYObC35hKVX6LGABAMo1bsrqjsqhLm8LyOGx0G1a3\n",
       "yRdkbNkyOhPC+YxGdNuv3cmHPOn1aYgTKbzbZEi35kUiuF1QCtvmtIQNGAiVa9XNeny4KHeAbo0U\n",
       "ItuBN0C3lvZHuBXU7pBDbGVN27XbTXlLm8eNddlt8dtWAQCWlzAsxNy8vGU0Fcctgb4gbhk9yRc5\n",
       "OQAAlEq4ZfSgIJchmcDt1Ym0HEqmXMUtxcmkHCImf4zbYIMBLKvdLu/Lb55iP2+U5ZAfrSpuBY0G\n",
       "5S3x8QT2vfZQ3qraGmF/c7hoSJhaix+/sQjdpuv18J3MaaP9qNvmw0eMx7iNMzcnb1fOZnGvts0p\n",
       "971OB/uyw0nvaTDgQ2kkkzR05O7ua1bnsoyNr9znt/fOLBErEgk+5MzRDm3rnecYRsA+lcMSTAfY\n",
       "T+fT8tbhRAK3tHcE2xK2hA2JRfi+bQ3/USzj+GoP+a24ADQkQ255UdSVdnDctGtyWCmPafu31y+H\n",
       "FCpVcBvwYIK2eWFBDptXr5nCrEX5bcgAAOEQ9qtUSg670jTZyNA54Y8qDdMc6Ma69ATkdzYOj3Ab\n",
       "fasib4mfDLF8zZY81y4umULJROSt+K0uXqPRoqEHllb5vuj10/I5nfx92YC6KtkkHx5kMUntRHGf\n",
       "D/ewMkfLMxrxNrPdRrtab9Ht49E4H37msEjDVOVP+bq1u2n4jssbN1hdp0XnsnqNt5df/eqvkfyz\n",
       "Zy+M9HHhmP0OAMDCItbZ9vamqDs5wbqMZ/hwNgAAiTj250RUnov6Jru/PIfjf3dnX/xO4Qzt4NKS\n",
       "bDMmpjAM7Y48J5jDJI0GcpiPgcmuNjrYJyIJeXzV29huX/v6h6Lu5VMMx9isyGEcZgPsb28eyyF0\n",
       "ux2cH8oVqkskhdCAFhfE7+b7diGP/eh3f+fXWA0AQLOKdZ5NyqFBsln8P/0hHavlumCTbLTOPTF+\n",
       "jonM07li75gPYeG101Csa6v8OPzsi++TfK/Bh2RIZdIkH09hvyoVK1a5Qf4A221BCJUFANAfYD0N\n",
       "R/zc/fwB7ctuOx9mNR6nvnUkh/7Owpw8L33z1u8a6XZLHjfXP8Qwc36HvED8x//pP8EyBGS/5epN\n",
       "9ClDMew7r3fkUC1X72OoprMu778BAOzv4VpgYU62b+O+KXziOSF05+ewH3R6aOvGIPtE5jlFCtME\n",
       "APDsGYZcHo/lUK8xUx1Nz9FVTWvy6ZT6stKcbF57AQCMBvx6omdZ54V8vG2ZWrpH4YAPL3ZljYb/\n",
       "67RxnL/71n32O7Ua9aeLRX596PXSdYEUHufqxhWSr7b4tVmtRsf7qMOvIy2PHMBmWhNu7smhZJI5\n",
       "tEEjkNvXZwq3NQN5vL56heNodk4YsmgC7UQ6h/20PzrHP/ehv+M5J8Rc2I/9o9GV57liBftHuSmH\n",
       "qfIF0GcNRLBeG3XZZnRq2CCnR+fUq+nR0HAk16s/iGUIRuX1fiKKvlj+kPotRSHcXiRMr5dM8uP1\n",
       "+hUMuwtD+Z46ppDmg7Yc7rdSwjoazuj6+evf5p8ZfvjBOsl327wttIb+71T4cuy/oGus3/l7/Dq+\n",
       "26Dr+NEU1yeFhmyPf/LJR0Z66ZL8DKI/Q+N1dMTbglxmhZZJ8EsTcVrWZpvv2802HRuRGH6v0zpn\n",
       "Tkii3Q7H5L7Y6aAvel6Yv1Ibw/BmMvJRDHHTurlhCg/d7Zw3vtBfPTyU1zAeD9rVZFJ+PlI3+det\n",
       "yjnj1Yv96uT0qZG+spHm5L/47DI+86kU+TDKAADtEYYTqzfkdXc2iz7IWUlew0RM9erw0LE/tE6q\n",
       "f0u5Rv/vygIfwvL01GJ/p3ydVU/pM8GlhWVWt5DFMeSy0zoqFvhx43Faxp0Q2n7z8AuSP23wvt4H\n",
       "H36D5J8LaymXnc5RpdK+kV5ckv3Det1kgxxyiN7MAvpZISHsNgBA9Qx1+QN5nuuZQojevs0/y9Kd\n",
       "PoqiKIqiKIqiKIqiKIqiKIqiKBcA/dFHURRFURRFURRFURRFURRFURTlAqA/+iiKoiiKoiiKoiiK\n",
       "oiiKoiiKolwA9EcfRVEURVEURVEURVEURVEURVGUC4D+6KMoiqIoiqIoiqIoiqIoiqIoinIBcJZq\n",
       "XfHDUChspP+fv/xI1EWiASPd6rdFnd8eNdIuh0PUDQY1Iz2FqajzBf1GutfsiTozzWaL5Gdj/ncv\n",
       "j89P8tPBiNW5bF6SD/jdrG7mpffR65rKO3Gy3xlPaN5h97A6mMxI1hfkdVOw0es5+Ht3OX30DzMs\n",
       "X6NZ4csAACc9/Mzn5esBAMA+xrqcTy+KukQkbaSds4Coq1fxes+fvjDSxVJV/E6rjf3e6YuIutyN\n",
       "JSMdTc5EXXYOr1Gv10Xdlcs3jLTXlTDSO9vH4nfyhUMsTzwpX3sxa6QrpRNRFw2ZOlaX79cAALU2\n",
       "3oc/mCafecZj9jvBEG332YQfv81mh+T9DherW1vA+o+c06dOd4+M9PU7d0TdD37yb4y0w2KDFhf5\n",
       "vribPyT5yxs3WJ0nQMfTy1cHrM6dpPdaL/tY3f6LU5K/c+m+kX725UP2OwAAd669baR77b6o847x\n",
       "/k/OyqwmGcmS/IunW6zO5aL3tLmzaaTf/srbVrlBu9sw0omwX9SddPE+0rGUqLt57RZeuyXfu8u+\n",
       "b6SdHrRv8URI/E7UjeMmlcyIuoXFnJGOReV7Gk0GRjoSC4u6H3/yIyPti6AdjCbkawcjOFaqp/K7\n",
       "HUdbaCNvbVwXdYMhzpuegGyLW22cAzoW12LU5ed8l4POV1PetEAuS23QaDhhdW2LK7C8tsHqWrUG\n",
       "yZfrz1jd2sq6kbZZbFAw4LXKAQBg72evSP7q9dusLpGi93SS5+cBf4raiLnQPKt7+eYlyRfOSka6\n",
       "P5Zt/RePnxjpyVT2udavoe1zunmbDQAwGuLYq9U7oi4awHnz559j/YdC54zDuGmeqzdFnc2B/7fT\n",
       "kcuQNY+jEe+LAQC8ebFrpKcz9KUO9+RrgxPr4XOPbLNrpr7omvHzAQBAPIT9Zfky3wcAAJ4/2TbS\n",
       "gwEdJ7Um75+sLKyS/HDE289gGO1Jty/7g2cVnFMSlnnEzNbOjpGeW6DjK5dNWOUAAPDwyWOSvz53\n",
       "mdX5XDGS99p4G3R8SOvkYOdzVuf1UbvfqPM2qFKl8+S9yJyR3tx5w34HACARvGKkdw92Rd3Xvor3\n",
       "Oz8XZTX7z6kN6jT5Ob58dkbymTXsYwcHT6xyg2c2rIvjXdk3G3vQb16ck31ohwsN99Ub/D0BAOTm\n",
       "8H89evLaSPsjwvoIADLZuJFOuuR5LpvB/jGzLsBMVEtYl6ORrHv9Bvv2lauXjLTDLa9/C/mCkf6y\n",
       "8ELUOe04Du/fvy/qSmdFLOtEmFwBYH4Zfe18gc5D1VrNKgcAgE6D2r7lJX6cByNBkg8Hed9l1KN1\n",
       "Oe+cY3VTD13Llk6xfJ+/+Sn7nZmlmRYzS6wun6d+96X1a6yuPaLzaR/4Nu1Z/JuZ38bqlkx+BgDA\n",
       "y9c4fhc2Vq1yg5MirjP6gs0GAEiZ/m8wJI+vO/dxjv/pxz8TdaZhDS93sQz+sDwO767dM9Kf/vyR\n",
       "qEunFox0lJ8CAAAgmcYPxw7Zv6m0sE1nbfS1i4eyr+OcYR2FA3ybAQBMR+joJhJyGaJJ9BXrNdlm\n",
       "nJ3hnFqq0rnCE+L72GBM29PpD7K6bVM7/dY3vy2W4Xgb/Yf2TLYZ9iTWS2pxhXz23vs32e/8n39G\n",
       "59ZWg/d5//N/9Ack/6f/8z9ldV+9/x2SHwLf/87aBZLffIVtVe/Lz0HDKfRR8xX52U67i3Xh8PG+\n",
       "8fEZbc+7d95hddub1O7Pr/LrzYXAVZI/LeJ6rnfOs91ZHf3N3lBeH5r90tVled4MO7H/DaeyPxyI\n",
       "4HjdO8A51GWTn2sVzrAMXrf8rA6maPu6/ZYoy8zh+F9ela/36HNcS7k8WEf2c9Y9jT6ut5whfgwC\n",
       "AJw8xXVGMCDb4pN9rCPbRH5G8JPPnhvpP/ij3yCfxXJ8OXwndJ47qxZYXadHn6PWynzdhrx0Pn3y\n",
       "eJvVed/B9c3BPh0Pu5tnVjkAALz7wTdJfjDi7WwwtEzydh9ftz/9IR0bxWP+mcblDWpvv/P7a0ba\n",
       "75TXir0ujtdnT/h6BQAoHAyNtA3kfrC0hP5SPC7rvniAdqPTH7Aa3emjKIqiKIqiKIqiKIqiKIqi\n",
       "KIpyAdAffRRFURRFURRFUVIMivwAACAASURBVBRFURRFURRFUS4A+qOPoiiKoiiKoiiKoiiKoiiK\n",
       "oijKBUB/9FEURVEURVEURVEURVEURVEURbkA6I8+iqIoiqIoiqIoiqIoiqIoiqIoFwDb/NXITPpw\n",
       "OHAY6el0LF7E7uwb6XQmJ+oO96tGOhjxirop1Iy0O+wXdalUyki3qi3y2bg/Zb8z6I1IfjK2sTqX\n",
       "i5av1+uxuvGI/p9gMMjqbEB1nSaW1+Vy8d+x0bJNp8I9jS33NB2yOrflntxevg3GY7mtvcJ3AACm\n",
       "pu/1u11Rd/uta0Z6cXFB1O3sbhnpWCwi6nb394x0s9E20i6P3Hc8Hp+RHkyboi4UcRppt3ci6sz3\n",
       "kT8qi7pKCdsqEpo30tMx3wcAAMa2YyNtG41EnXuKn82lw6Lu9p3rRvrL589FXWuMpiGWpu00ntbZ\n",
       "77x+tUPysyl/X7lUluTrpSKru7qyZKTl1gQI+7E9Hz2X29MOaNNgQseTZON++7u/Q/JfPPuc1R2e\n",
       "HpB8KM7bgtxyiuQnwwarg46DZGddzKciPqva4OGDL410Mp4SdXffXTPS+6c1VhMKhUg+k8mI1zPj\n",
       "9mO7t4dye4xtOHdsm8a7lYXkJSOdjsll+Oj//dhI220eUff2O/eMdL6I4ysYlMfhoIPtdOPudVHX\n",
       "bqMNCgQCoi4UjhnpQulM1A2naHdK1ZKR9gXlPuALY51nU3IZwh5s3/wOP28AAOxt472Xai1RB26c\n",
       "H5y+KPloLs2X1zruWl3++vEknQP6PX6OsU+pS3N1ZZ3VFU5O6PUTfPm8pjqaTmj/2Hq9z34nmZoj\n",
       "+cwc7xft7FB7aXfy/sib412SN/s+Zhptapc9Ppy/Quf4Up3uwEg7XLzdAgA4LaKd6PfkPutw4H1M\n",
       "R3K/Cnixbzps+A5SKCz3WY8P7eBkJvsZsQDajMqZXNbDg4KRXpjj+woAwMMvnhrp8QzH5NJKQvxO\n",
       "IoP3UenkRV06je25OL8q6va38D7ePJevd7CDdsLvp+3utPMufyxM5+SlZb7PlqvYF+NxuU8d7mBZ\n",
       "s8nLoi43j75KKNwnn/VH/D3OrVM/1OPn/cOtTTfJv3jJ9wN/aEDykQTv6yWTcZLv9Pm6fPL4Fcm/\n",
       "+/5VI213yuOh28TrhQOyr318hHbDNuTt1hc/pv8n4OLvyRui8+TyxqKRzh/uWuUGG5mvGOlIYE3U\n",
       "hRbw+lfX50TdP/un/8xIf+tb74u6v//H/5GR/m//m//BSJ/UtsXvvP8b2Le7Y953BQBwe3AsB4Mh\n",
       "UTcz+Y6hgGwvXW60v/k8+hn54gknBwCA23duGen9Y1kXj2Nf3NuWfadMNm2kZxN5bef2YFkTMdrP\n",
       "P/30E/Y7Gyu36B/sA1bnctF1S7PJt0E6SW1O+Yz3jf0W36JUQnu3ssDbcNuY+vujPl/W2lmJ5KfA\n",
       "j/GJjV5v5nawunfuv0fyB5v8+rDeon5PrYZzbSB0jq/nx3Zbu7Qs6szv+D57+lJU+QP4v8KhmKhr\n",
       "dHDuffEa7d1sJq9RwxEcU7msbAuqVfRfPT63qLPZ0bbsHByKuoUF/F+FPM4Bk+E5/n4b+4fXLZeh\n",
       "cYbPhhIZ3n8DADg8xvXh9Y2virpaHcs3v0T9oPJp1Sr/RRkq9D58Qd5/SkewjzqG/DMtAIC5MNbX\n",
       "u2/fEXXZZfw/Qxf1xXYO9qxyAAD43vc2SX59hV/PrS2skHyp+IrV3bxD58mTA36stHt0vP785/js\n",
       "Y/6y7Mfsnbw20tfvyn5MvYPjN5Hk/XOPh861/U6H1V29TMdxMMb7Yv0+rXPzM8JCoWCVG3RauEZt\n",
       "1uV+MOljv9p6I/ub2WVsw6VV+dlTJIY2qGH6v92mPA5LRZwDMll5XeBy4vW8znlR5/GhH+T1yP83\n",
       "f4R1NJ3h+O9Kz2sAYDDG9ry+cUPUff4p9uVQsC/qYkH8v8OevEdjPMY5wOGj85UnxtukzpDON40K\n",
       "7xuMLM9v7r/7IasrHtO+XC3x6/iKaX61253ks1x2hf2Ow0vvaXt3h9XFkrTv3bh5hdW93HxC8sVj\n",
       "fl3QbtDy+V3Yr/7wD99mvwMAcJR/ZqQndnk+LJyanhUF46KuUsOxd+PmTVGXP0GfweMVno+I31YU\n",
       "RVEURVEURVEURVEURVEURVH+f4P+6KMoiqIoiqIoiqIoiqIoiqIoinIBcI4n8tajkSm8UyIpb/Ot\n",
       "mrYemcOEWPH6cBt8tyNvKfT4cQvqeeFx2g3cPjYc0lAG4yEfCs3no9s4pfBuE0skBGuotV/idNHf\n",
       "zWZCiKjJiP7dvIU6EuK3Q3r9dJtqs8OHSepaQqkNR05WN5nQLXJOJ6+bTem9mkPbnbMbEtxuLK99\n",
       "xm91BwCIJXGL3MHJqajrm8r7Zo/fKgwA4HRjeb2msIHWsCZm7HbTNtOiGOEQJmPsCDYhLAoAQH4P\n",
       "t24Ph3IYuNEQrzHo4b2PR/K4sbmwL+fScrgut2lbvcsnb7Ftds3hovjtxQAAYAq9c7pFt85vXOND\n",
       "2qyvXyX5Rw9fs7rZkIY4WJnjt+PO5TC8286LF2JRYwGsF5tD3tZsHseJJL2Ha9euWeUAAPCv/vX/\n",
       "RfKVNr/FfnFtkeTjCX675ukODWV3+zYfGmX/jG6n9tixP3/5VK6L9asbRrqQl8fXi20cU/fee5fV\n",
       "TGbUbl25wofO6PbbJP/J5z8z0nPLWascy1c4MtKZXFTUgR1t0OoV+Xr7exjKxGmTw+M02rid12ka\n",
       "X5GIHKoluoB9bOaQ569WF/uHyyOHhai30J4Pzgm7Aja003YHjslzImiCzYnhADY3+dCJAACxANqj\n",
       "YUd+B6Q9xHAsKxtyqM0+4D2tb9DxsBRfssoBAGB3j4blCUZ4W5DO0jAQu7t8OJ9KkYZnWRbKG7NE\n",
       "Fynk+e3otT7+PRZOk89uv89v8S4U6Lh7sfMlqxsM6biZDPh+kErTuswXjlldqUxtXzaHNq7e4u0W\n",
       "AEDRtOV+ZVkOYWEOJXO4Lc/x7Tb2g9A5YQhzWZynolFMd3tyCKytHQw5df2GXNbNvQdGOnBOCCZf\n",
       "GOfDw/xjUbe4itdYXcXwG76QPMbzhX0sg0Oek0tHaI/CHnl85dLYnqVoW9RVA9hnW3U6x0+mvM+f\n",
       "jtOQIjvbvM+VyuI8ZPUpzThM4Y4KZTk0SCCGOm+I+p6pOT4EUKNO7z3h4+eOcoOGMZra+Tpz++j6\n",
       "JpHk2+rSNdo2T1/wNuj+V2kIhmAUx8BoJocH8QXRBnfbchiy5XVT2Fv7Iqt5+vMvSN4B/DjsDai9\n",
       "7PRw3hz15Dm5Z5ov/v0/kkOZdF1oC/78f/s3os7lxfLZnLIPvbePvvbyGoZCdDdlX7bbQXtyLISy\n",
       "BQBIZrEvJpNJUef3YVmPj3lbDAAwHuJY65jC/0Sjcr0+e4ahQcAlr2EK+TdG2umU5+6haR0/6st2\n",
       "1W2q/+29ffLZwjLvo9Y61Ja0Ovwck8nS8TSw8TazbWn2codfFzn6tA0DEfS1t6t8yGqb5dphL98G\n",
       "7hQt6842b7uabXrv1nC2v6T6ExoiMerl5/iMJTT+3iH2c29QDlVsfk6Qz8u+nrkfhGNyKJnZBNdm\n",
       "haJsq0wR6sEFODeGzgk9HQpju48GsgPrsONntboc/shjeqbkccrhGH/8Q+wTmTSOazvIPtHt27jW\n",
       "iZzjw/z8Y/TtalW5XpNRXF8eHD8TdUvLOOd9/BENaeZ08GuamCWEkzPAhyvyRUw+Vkn2H07PsM6d\n",
       "zndEXcCLffb5Uxoy6c/+nA+Dnr1kCZkU4uevQon60N0+31+C4bskn17i2/TLf2kJCeXB+WJ8zvEV\n",
       "XsBQ3s2y7PM6glifvXaa1Zwd0nu3Ofjniltj6lcFYiVWV29VSN4fQiPnD/LPQAEABhOso35fDkl4\n",
       "doT9oFaSrxcKYr8sOeVnyo0arpt7A6yvWFRe01+/iX6pxyfbDF8Q7yN/KD/3CJvCaD1/Io/DgA/b\n",
       "0G9aI0Qjsm/SNE1g5mMnfqUMUdMzS6e8LnCYwn3HkvIc73GjHXT56Tz04AkfmnX1GvVv9rZ4Pyab\n",
       "pOvxH/3wU1aXtDzvCvl5WxiJ4jq+awnlflTiw46mU7QM77zLr/t2tuhcXRCiE48q9FmEfcSvY3yW\n",
       "cLXHpue8n/1IDsPdn+J8PfXKx31kl0z2xCHPc/M5vN/TorwumDmw3x/u8H6u7vRRFEVRFEVRFEVR\n",
       "FEVRFEVRFEW5AOiPPoqiKIqiKIqiKIqiKIqiKIqiKBcA/dFHURRFURRFURRFURRFURRFURTlAqA/\n",
       "+iiKoiiKoiiKoiiKoiiKoiiKolwAnB63fFBkr4cHneXzJ6LOfAhaMCj/juQwHVrmks9/hfEAP/S7\n",
       "5MO4qy080Mg+o/93NpEPHSO6GV+QkeVgbZtduK8p/T+jEX+IWb9DDyDzuF1GuinVhZ1+MJ3y9+R0\n",
       "uUg+IRxAWq7SQ9/swuGfXic9bG44xMM/+wP+YE0AgEgMDyRLrvCH8wEA1Lt4gFupLh+kOBzjoW+e\n",
       "gHyQ5WSKZUok8N4rlQonBwDaPzxu+ZDGYR/bs9uV793nxQN+/R65z3rDWOeTGdZDPC4fQtkbY3uM\n",
       "J/L46g3xntrH/MF/AADFJh6sW+vK48TvNPWrKe1jnRZ/oJ7bSQ86zlkOJ/0lXjdtT4+fb4MRYPnS\n",
       "SytSUeGsg4egJecToq7Xwz713T/6d8hnf/EXf8GXwXLA2u2711ldKBqg/0s4qNTnpP2o3+fHwMxF\n",
       "bVC9i4eqJhb5w+4BAPI1/L/lxjmHL6bwwL+pTdBZDpp88po/6HzmoGXduIOHljZa8sFz73/t63jt\n",
       "J09EnT+MBxW+3H4l6sIpbAP7TD5gvWHqvyMH2rdCVT4AcjjFvp0KpkRddv6Skd4/lA8wj0SwbkuV\n",
       "gqjz+HCs2O3YTrncgvidfPmpkU5G5QMHywU88DWdke2WM4Rt2O3L9Vpvop0IBulnk2oTOFxueh+j\n",
       "Pn9Y6qundJzMZvw4bzXpQZsf/4z3XWZj2ucLZ/yBiwd7h0baWudrwgHXj5/SAyknwM8doTCt83SO\n",
       "n7ubbVq2epOf2xJxam/rVfThrt/iD78EAJjL4Xz95OmXoi4QQDs9vyIfQAo2bPzxSD58df2quS+Z\n",
       "Dw8+52By0xiw++RDMiOmQ9mjYXmOnzqwfIurst+STuABy7s72CdGM9mHrlXx2ubD5K3cefuGkTb7\n",
       "M79yvRqOV6ddPny4VsHxGgnRg12nwjm0Xj+19YOhi9Xt76Ktiqfkg43Xr+FB2Ntbh6LOH8VrnDWp\n",
       "/U2u8u1mm9G59jjfYnX+CLVVkRF/84MRPfS03eLv6/EXWyS/fmWZ1R2e0H45NPkCtTZ/wCoAgNOG\n",
       "h9+O+05RNzKNlZPqa0FF7dtsxvvQkwmtk2QaDzDulWRb3zP5xuGEvKAz27i5Rd4fBAB48BnazOyc\n",
       "3F+WVvDA4VYX69Ljl8sQNB3efD0mz93lBvZts69o5cULLGs4KPvutRqWr1zGPpFMyT7qbIbt5rLL\n",
       "9+T3m3wdaX0KAAf7OP+NRrJt6Q2xPa337hvy5UhY6rI/421cpUl96OGQt12tHh0bbl+E1fV69Hou\n",
       "QNs1GPLzktOyrt0v8v7I2GILNt7i/f3BgI6bVpuf57Z23pD8qWCDmp02yS+trhjpRkNeJ+8fHhnp\n",
       "TIY/QB4AwO3C/tIS1m8AAMkkjlevV57buj0sUzSMupOiPHa9Phz/9TPZNx4MsXyuSFDUOQPYVt5J\n",
       "R9QFAvjZqIU+nPWAcDOZOI7RhWV5rk0t3jfSP/9oXy6rDeu/UpOfZ5RNa4GV1Qz5bDjk12m1Bj2E\n",
       "fZrnr/+Va18x0vWJvOb44N5VI90aHIm6H32EdnBula4zNm5FrXIAADgr07F7sLfP6pbX6NhPJfl7\n",
       "OqnQe283eFt47VaM5L/359jPJz35EPW5dfSlgufY+uevsS+GEo9YTS5Hx6d5TjCTL2+TvK/H12Wz\n",
       "Tm3J2+/cM9LVc9aUmST6m43ivqiLRtHu25bk+dDnQlvgmMo+YalQNNIR07O6VCrDyQEAoHyGzz3C\n",
       "U3mNms9jGRIJeY4vmexOMie3p9OGvufxIa63JlO5r6ys4/qh2ZLr62DvwEh3W/LcvbK4ZKTDEdkX\n",
       "GI7R/11cov18LnvJKgcAgLGlz3/w/ldZXbVE7WpeeKbRMK1NAABcwK8fxmP0KRsdOteuXObn7tGQ\n",
       "Ps8MBHk/0m7pekfHD1ldKklty/IaP286LM+QtmPoSzV6z9jvAAC4vWjrpz3ehwEAaJzi/QZC8lw7\n",
       "Nj0z7AzkZ1RrV9BOxHxZVqM7fRRFURRFURRFURRFURRFURRFUS4A+qOPoiiKoiiKoiiKoiiKoiiK\n",
       "oijKBUB/9FEURVEURVEURVEURVEURVEURbkA6I8+iqIoiqIoiqIoiqIoiqIoiqIoFwD90UdRFEVR\n",
       "FEVRFEVRFEVRFEVRFOUCYMutpmfSh81uxUjbHQ7xIh5vyEj7fIFzdJiu10qiLpGM4fUCXlHXaDSM\n",
       "9GxCP5uM+duaWf48mfLX7o/Gli/yv485bS6Sn44nrG7U69M/TFE3sxbqb/GFaV06XE5WNwX6PyeT\n",
       "Eavzev30e1P+5vv9Icm7XHiPuVyO/Q4AQDQRNV17LOqazaaRbndbom4wwTqz2cRuCm431st0jP/X\n",
       "5/ZzcgCgv3aG/FFRd3qK/bTTHoi6XhfrMhiIiLpWE/useTz4g/L4CgRxfHk8HlFnvqleX65XsGH/\n",
       "MLetlekE63w2pbposst+x+uOkfxZgS/HoEf/ns7ydba4iP1t0Jf7wMERtpN97BZ1oUjQSPf79B7i\n",
       "iZhVDgAALicdJw6rsflbnA5avrduXmd1Nhe93qPnn7K6g6MGyQdCc0baDnJdhDwJI+0e+0Sd1439\n",
       "2RvmbcEYaJ+3e/h7j2foGBpO0Ya4nLINr1bQFnQ78vgKxbHdvvW1b4i6x589MNLJZFrUPXz0yEgH\n",
       "Qji+HMJ8AABw4zq2Z+G0IOoqZbynXHZB1I0neL+TaVvUeb04sIdDrNfxSO4DxdMTI+20h0VdJIKf\n",
       "BcL8vAEAkC/sG+lEdE3ULS+9ZaR/8tNPyGehKN93guEQybtcvI0rV+skL92/3xMkea+H90k6LTr+\n",
       "e70eq2u1OkbabqdzcKvZscoB4Ff9ljEMBR291zdbr1ndyvIyyQ/7NlbndNB7PSuhD5eby7DfAQBo\n",
       "NmtGuttpnKPDvr24vCTqVtbQbjeaZVEXCqF9WlpeN9KFguwfdjpY5+e4BeDw47jpdfj5CgCg30E/\n",
       "w+OU5+FwAMdKvYbz12TM+2UAAMFA3Eg3mmei7t47N4305tYLUdfu4hidDmT/5gf/6rmRDvtpH/O5\n",
       "g1Y5AACk5+lcMR3x1y+VsD1rnapYht/9vbeN9Ggk2xanG+u80aTtHkr2rXIAAJhY/JFel5/zFxav\n",
       "knypVGR1qytZks8f8/Y9Hqa66ukuq7OapqENx1QgKtvjbArtZzEv9xeY4jjcfLXNSnYe03ZPh+dZ\n",
       "XaO3RfKX76B933ws+5F317DP/oP/4jdFnTOJlfG//+lfiboffA/7bHpOfh/xT/7Lf2Sky3Wc54qN\n",
       "Z+J3wIF1YZOHOAQjaLcTiYSo++u//hu8no23xQAAM5MPPTcnr53MFE/zRtrplOthYQF9i/FYXm9N\n",
       "Tb7ieeuoVhft6mRC5+rRiJ+/Gk06Z/r9/Dicy1FfrNvl7fGoT++jXm+yumyazmW5Obx+f8j3WbPv\n",
       "BADQ6vLzfTpFx3itxpfBbaf2MRLk1w9Ty7OITz75Aau7cvka/Z5pfX712mX2OwAAlQraY59P9vf7\n",
       "PWzTdkv2tcNRbINEPCvqGg2sv3gqaaS//PIL8TtB03wfCYZEXSKRMtKvj56IurPKoZFeW5XHV62I\n",
       "43/nGaZLh3y/BgD4vT9Af//XvyuvJU5N/ajflcfXowfHRvr104qos9nxGouLdF28tbXDfqfdoHYi\n",
       "EeAXMmvLl4z0WxvrrAYAwGHHeX1xUfYbD/ex7xVKNfKZ083bruV5uibqT/hxaPfTumy0eN0EaF0+\n",
       "/oh/pvGd36bj9YuP0N7NOvJzlXt/B+37s81DUef1XTHSU98pq/FFqF0tFXlb5XZRf+msyveXGxvf\n",
       "JPnyGdbR7v4rsaxXL2M/GA3kRW+7ju3rcfH1DwBweQH7yFld9gn9EXxO0Btj/zgty9eezHBOPtiX\n",
       "193rq6tGOpGV/X1vAPtpJCI//8ofYlv5XThWImH5eaHbh/6qwyPbljOTb7e9w/cVAACfD+eUdC4u\n",
       "6k7y6ANmUpbxOuOfv9gsPnSjza9lkwlqgwYd/llF2TL+ZxPhuY8NfYSJjbaTy8fX2ckRna+iUX5t\n",
       "ksnQOaV8yq8j46FVkrcD75OvLFO7P57h+mF354j9DgDA7iH61L2h7HBm0xtGulSR+/bKJbyvcES2\n",
       "VcEA+qw2O1+XutNHURRFURRFURRFURRFURRFURTlAqA/+iiKoiiKoiiKoiiKoiiKoiiKolwAbIFI\n",
       "WNyPGknib0Ljmbx9fDzBrVYOh/w7ki+IW7RCIXlbXSiI2+fK5bqoGwzwesMBLZ8UBmswoFuebHY+\n",
       "NIc1vNt4woem8djodrKxEMbCNpta8ljtDocQqsVDt8pPgC9DrUnDsXiEqo3F6Pbz0Yi/njXk14Ip\n",
       "jEs8Lm9tNIdqKxTyoq7Txu2BDpfcX8ZjU4gor9xfJkO8DzvgVjprqAAzkRDeR7Uih7AYj7E97ef8\n",
       "RGoO++N1y9vvWm1TmI8gtq/DybcFAIDLvPVQ6K8AAENTH7W75ZATdif2Pd859dqqYlgDl4PekzfM\n",
       "b/EM++l2SL+H38Jfr9HQJRPgt+MGYxiuqHhOO02maINcI7mh4kls92aX2hZ/gK+LoI9eLxPnw+O4\n",
       "gI79hSwfEqA7pXXy8cMfsbrhlNb51esYLqff50NOAABEndhfPAN5a+mgg9tJp14hLKeD3lM0zW+r\n",
       "LZRPSD4QwjpyOeUwRC47/t8nj+Xt6G5T2JVhW773RBTrdnFpTtT5gxhm4unTp0Y6m5ZDRLQb2P9c\n",
       "LnnrdjqFYXQcdjm03WCAW8HTKTnUhTlsYDRsCjkzk8fubIi2z+GRQ3kUSzgGmjXZZvRN4cSyObk9\n",
       "X735zEgvLtG6zJd5m2EN5+b18+PLabFBe7snrK50SreZW8O9/ZKVZRreYtTjfY3TItoqt5vOyZEY\n",
       "v+W+bwkl4xLC3hzmabiIK1eusLqZJaSkFK7MYQnDe3x0YKTPC83aqODW/vFI7lc9UwSAcFye57oD\n",
       "rEu785yxksVQBKdFbLfKmRyeYTzCvphJ8yGrAADmL6Otn4zkMRAxbZf3e+RQF9kMtnW5jGEvmg05\n",
       "NEWnjeNwNJTneK8f72k8Oyc0hSlUYf5I1s2GOAcUj6l/GPQJ48tNx03hiG+3ThfvY3FVDuf8wTex\n",
       "L+/syrY9HMV2SqWT5LNGnbc1hwV6PZeP9/WsIYzdLr680wFtG5cQVqvfpnW5GOHDd4aiNCzS0I4D\n",
       "ZwByqLs3rzAcRfic8Ed+L95vqVBjNc8e0P/jc/DjtdamIe+u3kW7WDyUQzO+f+2+kf7aN94RdZFl\n",
       "rPO/+bd8aCsAgL/5PvojkZg8Vr72rTtGOmAKRZVbke3WcR59hrOKfE8TUxjOdkseX3bTYmAwkNvT\n",
       "zMi09oxE5BDQgQD6JqMRH3IFgK5xWy3ZN7aZ1uSBkDx3z0xh6syh0wEA/EF+3Ngt4eLS6RSrGw9p\n",
       "mEafm79erUbvww68T9KzhCAtlzFETirJhx3tT+gcEAzzodDiGTqnm+dQM9ZQwOko7wsMLaHdPWE+\n",
       "lMxkQuvy9BTvyeOTQ1ZnMljng4E8bnpdk80o8jYDAMBpw366sCyHJ3Z50deYAd7jzu4WJ/9F+fo4\n",
       "VqIhOXRcuYT94KzFh+QEAMhEcE1km8l9O59/bKTncuhDH2zKtmAui+30j//ku6Ku5t8z0o2yvPY8\n",
       "y6N9+uyjN6Ju0Me6LORpCKF79962yn9x7RJdEx095cOQ/cd//PtG+tEXPxXLcOf2LSO9cV0O51wt\n",
       "o812OOl89eBTPhRdLk3HtLRcL7foeiGc5tdSDie1v3tP+Gckl1boevzaNdTld/kQqQAAJ8c49g4q\n",
       "sh/jS6JBCARusZpen/bRwZgP4eq0PBMcjvm56OrGHZI/KWKdL6yccxSADe3E4ab8jHUxg2El3eeE\n",
       "PvaaQmpOzzkKxBVAu2+OelXvyWv6/WNc57mccvjKRh37Szgi+/sr6zj+x+f55A5cL229wDIMR7K/\n",
       "X29jaLvVFTkkZ9CHfaU3ktccTdN0OIFz2tOB9ffW7RXy0cc/egQcy6n3SH7m5fvi3sGXJL++ssLq\n",
       "Wme0zw56/Dic2NC+WR8N3bh1EzgOT+m467T5tUnllPbla5ffYnUzy3OxoJ/3xzyWh+k2O86hnQ4f\n",
       "ehoA4PMHD410LCWHc55bwv87Oec3luMjbJvFRXnNG45ieYNh3h/RnT6KoiiKoiiKoiiKoiiKoiiK\n",
       "oigXAP3RR1EURVEURVEURVH+P/beo0mWbLnz8xSRWqvSuureW7eubP36PeBBECAMMyCHNuQGBu64\n",
       "pHHFD8I9VzSakQCNNJpxBjMG3Q/vobvR6t6+WpQWmSVS64zIjOCiB+HhOe71Acr8tzqn8h+RESf8\n",
       "+PETWcePoiiKoiiKotwA9EcfRVEURVEURVEURVEURVEURVGUG4D+6KMoiqIoiqIoiqIoiqIoiqIo\n",
       "inID0B99FEVRFEVRFEVRFEVRFEVRFEVRbgC+pbslR/owlZh3y4PBQDxJf3TulkNR+cscO+CW0+mk\n",
       "qPNH8LtO316KOl8g6JbDEXo+x+FvK5NLkPpoYLK6XndM6kFfnL/WYJ/UTXPM6izTJvVIJIbXMLTY\n",
       "Y6JR+p3dbpfVBUPGVJ1/Vn6/j9RjMf6e5heWSD2dzrvlysUFewwAQL2Fn018fDsAAARh4pZbjaGo\n",
       "Mwy8r5HJ3zsAQCKJbdlu4O+YsTh/fz9d35Vb7l7K1xrw4zUkovL5gsGQWzZN+Z58np9ZjUjA83eb\n",
       "Uf9Eb4Cf+Xw+UTeZyZGKIgAAIABJREFUYLt6226aUCjkqcnf6/1sNBqRT8LkHMj8XI7UZ0opVlet\n",
       "nZN6rztidSED27zebItX2u523LIfZN/i87iFbI7qemaVPeaT33pI6pbD9y97RH1Ou8brWvUaqY96\n",
       "/G/vs4UsqSeTqMtk8tNyl8o5tqUvIP+u3x/jM9jc2GY10/2u2b5idbEktQevnQbDEfEaTI/77ffl\n",
       "flOvYluGwkFRd1Epu+WtW6uiLhLG8uXFqVv+gz/8HfGYp09/cMsjix83AAAcB+89Gp2Iupn8Gh4D\n",
       "fLsCAIya2AeKBc+FWzFG/RNzC2g7B0dlUVevYb9ptjqibnsb7aPVaMrnq+NnQaA+aPP+/LQcAAC+\n",
       "//EFqXf7/Hi4vLpF6oeHp6zOD9RHjk3etywtLNDjfPyzurpsueVOm9poscj3w2ia3nvf7LG6ZJYe\n",
       "3xvyY1GzfEDqc/OLrC5o0L7W6eD3Nmp19hgAgCCg7ypm06Ku28G2cKKyDxqN8Rmm0rJuMsIx8OV3\n",
       "HjuwxLAUJhPse7NzBVHXc9B3FYryPY1t1K2sFUWd142123hMMcs/C4CpONLm7RAAwHLQrkozWVnn\n",
       "HeN98jg3sfBi/9+/+Evy2UyJv95Ehtp2s8lfb3+EcUEyzY/vAAD5Isba+YLsqyIx7K+NOo33wyH+\n",
       "ebR7dFzK53kbOzk5IXUphjamYuNshr+v5WXadtVjPmbotKmPvL11y3NNsj9OJPB+X73dF3XpAsZZ\n",
       "nR4fF+0+oW3pF0KBaISO3aXSrFuulOX5Vz4345b/9E//9BodtuWf/19/IerevsRnFQnL/XX9Nvrt\n",
       "xBz2h8E1Y+hZGc89Hskx9Mo8jjHmhB9fAAAKmWW3vP9eHg/jni6ayWOfnDhy3N3uY3zojOX4YW4e\n",
       "2z8QkO+p1/OMPY4cO2U8z/PwgNpoIs4/j/bgjNTTKd53+afmLZlMhtVNz7HmZ+dYnWXRGCEWwRcP\n",
       "B5WTaTkAAFye0nuKC3Hk6RXVlVYWWN1kRP3lQoy/p5RN790f5ueRfaDzBV8EO6w8GgJEw2hk9XPZ\n",
       "FnMZ9C1HR8eiLuz5trlFvv0BAJJ5vA9/DMcKx8/HbwAA5VOMH2rnsi1WjvEcoYL8ziEYxHOMenIf\n",
       "ODvC740a6O/yGfmF1dIMxuenhy1R9/v//SduuWN9I+oSCbyn2pn8LuHlNzhGRQL0+s5PK+wxthkm\n",
       "9T/6nB83zy/Qn0TTAVYDAHDrLsbq//DFd6Lu3s5jt+wL0PlDOsXP+xpX1M5f7/L99daDZVIP5/hx\n",
       "7u0eteWo7xaru6rQ+Pfxh/iea60Ynpa7/PmfP3HL/vg1/nMR73c0mGU1lQM6b+x2+Hu/vUXj2gcf\n",
       "bLK6g5M3pF70jAmlGX6+BQBwcPwer2HYEHWnx+hPFmcfibpsGG12f4+f6wAA9C30maEEPo/sjBxH\n",
       "XlWwX58eyu+hvWNCcU5+7/HBx/hdozHf/gAA1TKO0RHfPfyekWwrjfYRXsP8NbaSwfitfC77YtMz\n",
       "1wkE5Hi/Wcdr7bboO+nbm0vTcgAACIdpDGL1+Vjjmy93Sf3e9kNWt75F3/29fP3PrC6exHEyl6M2\n",
       "OhrxY0c4Rf1gKsO37dUFjQH7gmlHo/R8mRxvL964EQBgtrTulpcWH0/LXU5P8N3a2JbfqwSj+Fm1\n",
       "LttivoD+pNeTz3frDsYqXWE81JU+iqIoiqIoiqIoiqIoiqIoiqIoNwD90UdRFEVRFEVRFEVRFEVR\n",
       "FEVRFOUGoD/6KIqiKIqiKIqiKIqiKIqiKIqi3AD0Rx9FURRFURRFURRFURRFURRFUZQbgG/xXljc\n",
       "I3B+HjcPuryUN/QMhXHDVmkjJgCAoIFfNb8gb+57WsENNIMjeTMy76aUY5vexlmZ3wT10Qd0M+hB\n",
       "n98c7rJC7zfo4zf8s226IZ+0WepwSDfXAs8G68MhvzmZf2qfvXCE3xhvPKabP3s3EvdSLNFNNqc3\n",
       "pf0Xpp/hyMTzN5vyRpGjMW7maDuyHTgmPqt2S96YLZnCDRfNazZf9fnxe40A2tXY6XNyAACIRNB2\n",
       "Qv7rNprHjdRsS95UdTLBe7IsecNm8GwWHgyjDQQNeVNF8KFuLDcrWBZuzBYOyRtFhsOejeh815zQ\n",
       "h/cxmt6IfBICjlic3sf8HL+xqzF1v5WKsAmvjdd6cHTOawBgfR03WLtm71uoXeHmgcEgtSlzwm/y\n",
       "/N/86R+T+tOn/MaWQT/d4C8WTLC6dovuLjca8E4jGqNtbITRFq1rbDEAuOluOCxvVBpLoL1YQ5PV\n",
       "tNp088uN26uszgZqR7UGHlco8ZtaAgC8eIkbUUajss36JrgxafCaTYuHQ3yG5kjefNU7/ty/j2PC\n",
       "u/cvxWMKRdyAsN+XfUung32lP5THzVwWN8ldW+VtBQAgYOMGif2O53wT2W+NJ2iL+/tHoq4/RN++\n",
       "MM9v+AgA8NnPPnLLT5/+IOoiBl7T6uo6+eyswrdFOEr7zbPXz1ldwKD1TJbf2HJ2jm4o+frlU1a3\n",
       "OEft0gjwPs0HeE9vXu+Rz5otflPFB48fkLotjMnNFt0MutEcsrpul8Yzs3P8Bsu5YonUnzzBTWh9\n",
       "Pnk76GQU7/3Rvbuiru/ZRNI2RBmMPZtBV875ze4BAAZd9BvNCzx3MZPj5AAAEI2hvcQT/DMDALBs\n",
       "HGOui19v3952y/2+vElmKonfVSziRruvXr0Wj7EtfO6+gLyxazKJvs+IyA3rje0qZblds54N1btt\n",
       "6gf9wG8iH47TzXQnNn+9gWDMLe/v83E2AEAoitc6N8vHAQA0Vux16BjsjHk7yOXopukXV/wG18mp\n",
       "DWC7PX5MyGfp9wSAj8cKBbpB9unJIauLx6lPG3RwnhGJxKblLpYnNh6DPM5Znmc4svixqHZM4wpj\n",
       "ekLxn3Ac6hf8Prz2q0s53l9eXnXLd25vibqlJZzD/W//+/8i6sYD7F+jgdxXPvwMN9Cdv4V2cHb1\n",
       "TjwmEMB7DwXkOOPNS/SX/R4fEwEA3NtBn2HbY1E38IyvrS7aXrYgx2WLy7gZ92gk+2xvHN8SxiEA\n",
       "gE4HP8vn5X4IQfyueIL6INvm4812m/49leI35I5HaazSFTYjLp/QTa0TSb6vZDK0/0fDnnEgwl9r\n",
       "LkGvbdDjx9p6k/qg0xo/N8nEaVt+cusBq9tZ2iD1L3/4gtV1re5UHePImXl+vAcA6LdxDh3yyWPH\n",
       "1iZuBj8YyfFr0jN/6Jv8WAEAcHKBvr/cwLhocVWOIzN5fJ4jU76Gw90Lt/zsa/kallcxjr/7YEbU\n",
       "fflPf+WW6xdoH7HAmnjMqIfzX78h96+QZzPyXFa+hrvbGA9Xm29FXcozFTidmvMevjsFjgf375P6\n",
       "+e4Zq3v4Ad7v/XuPxGvodtD37R/y8TgAwMIsbhyeTtMxtN7kr3U0SpP6RZ2PzcypdxOJPO+3TZv2\n",
       "40GXf6cXi9HxzwigXX18+xP2GACAf/rqhVvePXkv6lI5jAm//pqfc60uL5P6/ILg35JTsdiE96sv\n",
       "X39N6klPG9lC/AYAEPX494F5IeoMA8eYdkOUgTHGuZh3/jvN9v17brneLrtlcyLH5/1hzS3f2pLn\n",
       "Jj8+wfF/flEe53x+bywmj8NmB+2528TxKxKV23Xiw3MPR7wdAgB8/DP0Ba/f/Sjqtraxv16cX/MA\n",
       "bLSjToO+U41F+PdLmxv03fqb5yf8NazdI/Uff+Sv1/FRf765uc7qJja2ZS5P/WUgzPv6wxPqz3o9\n",
       "3mb9PhozOyY/P8zlqH0kkvz3mhPqW9pN9Iu1qvzONp/HMfA/e/fvIRzF+LDdueb5et5BLCzKY8za\n",
       "Bn5mB/h+qCt9FEVRFEVRFEVRFEVRFEVRFEVRbgD6o4+iKIqiKIqiKIqiKIqiKIqiKMoNwHfrk6y4\n",
       "fnxhBZfOHuzxSzUBADpNXAJYyMtLj0IRXBo1tuUlgEYIlzIO2nIKC286q0iYLpOs1fnlXxvrdElb\n",
       "q1ljdfVzmqIrZPC/j40ndJmYlNprepmYz5NayrL4FFvTGWGyGT4lnmnS9AK5fIHV3d2hKRjiCT49\n",
       "0PfffUPqva7n2m055UTAk38nFJKXQNYquFTaHMmpEcJxXIZtDuRURr4AXl80jkuHA4acnmFsos1a\n",
       "trz8DrxpA69JGxYM4v1Opy7z4vOjzTp+PGHgmmMmNtqHeU26h24bdYFAWNSFQrjk0QjJS+dDnsyP\n",
       "jo8uGTUmfNqViUP7dSLB95t4fCrtSofvN5022kcyWWQ1AABHh7j8c26ZXwoNADAxsc0bU33/8ScP\n",
       "2WNOLuhS7eXVBVZ3vEeXx2aTfBslItRnnJb5pc3pPE1fZfvxGZTL5Wm5Sy6FqSDCAXn5cu0KzxET\n",
       "ljmHI9QuHZ/QX6dSriXTmKOg2ZZTI+Q96ah6Az7dxk+nRzuq1XifDQCQTuDydn9A7isBTz/0+sHz\n",
       "c3mc+/3f+yXqKvI1VM7xs3BMTvWYy+K954ry/1/Eo+jT6ldoK4Ou7DvNEbaDacopHBst7K/mWL7W\n",
       "1TW0+bOpFCxeNtZwOfpwQP3v0pqQnnQqvVDQ4G1xMqGpS54/49P5DPv0fLVL3v4iUykwFwt8utPT\n",
       "CvYTy6Ftbvv4MWZk0lQtpSKfbuCiTFPHFHN8/LSyRVPEvHnzhtVFUzQOinr8bLkiP7e5WYwtCnk5\n",
       "1WA6hW0Wuia92+v3mPIsLcQjAADxCNp2zJN26eUzOc1iMon3VJyTz51Ioe/68ckrUffph79wy7u7\n",
       "h6IuFsEx9c72Lbf85qV8rfk8tuv+yYGo86bEMEdyoLG8hCl6ymdyWg5v6pxSiY4jczOZaTkAAOwd\n",
       "0XQU7TYfF8VjeL6JI/ugvieVWiQqG8vd25iy4/SUpnGIRvi4aDotcCzG20GtSvt+v8+ncHUcer61\n",
       "NX7s7vao37eATzkTnHLnPgfHm4wQFwAArK/ddss/PH0h6jLEn/AxXDJGr+3du11WV6vS5744h2k5\n",
       "An45fvCmTIvG5PFr1mNvk7GQxhcAKsf4rEIBOf13s4t9JZZDuzqvy2N3Oo3XUL2Q075mPWk+6hdy\n",
       "TF6YxXjf8cv35PejXUY843hCnnaTdKfWWE5/7U29FwrzqU4BAKIR9Of5vGx7/qAnlbWfxmIhYTqR\n",
       "nBpvRkM+1jg/p2mqLIv3G9vb26QeDPLpWabP12qi7ezs8KmaqufUX06Ea8iV6Dyj2uLTrpwe0fE0\n",
       "5fBz3q15mtIpOcPfU2tAfdXA9r4vkceEdU+axcN9vo8DACwtYrzZ6srx69uv0OZ6AzkmNLLYLsEk\n",
       "2svsrJwyrW/iPY5MOXWkM0GbPX0mvyuyTezX+aKcAm9m0fOuKIFjwMmRnFaqcoTtYA7lNLKrtzFm\n",
       "W96WUzpNANsr6udTAQIAvH2JqbHjcdqffvbZx+wxvQa1vV/93T+zOl8Q06D+23/9b8Rr2H+D/Ssc\n",
       "lm1gbh7b//KKPqelpRX2mCfvaCz29i0fF9Wn4o9klo9bFpamxgoff735FI3Bb29g2qr9l3JsVpzH\n",
       "MfC0IqfKPthD2959z7+33LpHr/XhY76v5NI0NdbTp3yKvViUpnN+/gp1rb48HhaKaLOryzui7jdf\n",
       "/q1bXlyW3+n1u9hXOs20qKtd4TONptC2Y3E5fpgvYnxoBOT3gP0h2mxJzjAJzhDTegevOV/PRF+6\n",
       "uoo+vHEpH/P2HdrRyJbj848+wHTpnZ4cPwRCOEb5fNdscQE4QIemthkwB3wMkYrTmNzn5+eyvqmU\n",
       "oQ8fbbO6o2M6H5e2LYhEsP1PL+h7rESaH+fiMTo3r9X591/Tqf8vy3VWl5hKvzxx+HcE0+/6Wk20\n",
       "3+Mz+beJgA/jrNFAfm47O9j3nlwT76cSGJNcN5dyPKkL5+b5WE9X+iiKoiiKoiiKoiiKoiiKoiiK\n",
       "otwA9EcfRVEURVEURVEURVEURVEURVGUG4D+6KMoiqIoiqIoiqIoiqIoiqIoinID0B99FEVRFEVR\n",
       "FEVRFEVRFEVRFEVRbgD6o4+iKIqiKIqiKIqiKIqiKIqiKMoNwPdf/Q8bjvRhPJZxy//wt9+LJ7FG\n",
       "EbeczSVFXSqDvzHt7V+Iuu3bm2757YtDURcyom55MvaRz+bncvy1mh1SX11eYHW91pDUh90JqzNt\n",
       "2nwnZ8esrjBTIPW+OXLLrXafPSaZzJD62OJ/oysWZkl9eSPN6rK5BKkfHL5hdfVqjdTtMX7vZbnB\n",
       "HgMAEA2l3HI+w7c/AED5FM9vhEQZjMbYRuFoRNQNhniSgXXplmdm+HYAAOg2Dbccicu/fQb8+Nlg\n",
       "MBB11hCvNRDwiTqf4Sn70KYCRkA8Jh7FPuU48rn7PbTZ8Xgs6owQflckIj+AWAzbfGLT8406/HHV\n",
       "2hmp5wv8c1tdnif1/T2+34xMbP9wRH6e4KCub9VE2YePHuN37u+Tzy6qV+wxxTnadz//rc9Z3W++\n",
       "+BWpJ8JRVhcPxUm967EdL+OATeqBOD43/9RnXuwh+qRUWG4zs4P2bFkWqxkOqR+0ffz3ls/rpH77\n",
       "7ppbHkydw4s/6LknIyjqgkbTLYfDYVHn2GgH8WhC1E3G2EaRCNpoyDA4OQAA7O7uuuXlxVlRd1VF\n",
       "fx6Oy/0w5LGPkVUXdckk3q/PRtvx+WSfkYzG3LI1kX3GoG+65U6vLepsB+2j1+mKusePP0Rdm+oS\n",
       "Sf65vXj1itQDgh2Mp8ZaZ8Lr7AltFyMQY3WjIX02To8PhRw/tp/tp23Z7PJtFp4a2JKROKtLhmi8\n",
       "NOryvsCO0O/1B/lnOpzQ480x9r25+cK03GUwxHF9cWlG1KWS2JanJ0eirtVrueVMMSvqJmh+ELCx\n",
       "70XD/DMDAGi30RfMX9MPLV8ZK7bcr29t7bjl509firpmDftoOo33NOFdJwAAmCMc4wemHDtlMhjr\n",
       "XTfGV6/Q3nwgj91e32datB8GDd7Oay0a4yaTfCw/8YwVDvD2CgDQ7eA4PN0fvPzyt3/fc3J6719+\n",
       "+9f8QT4aVwx7vC9Ip6gtG8J1DAe0Hy8u8OPm23cvSL24uszqFufpvOLZ0+d4TXG5H7Ya2F8Tcbnf\n",
       "VBvYB1ot3q6275dI3RbGgYP9MqnHIvi9o75s3Jks+rS4PO2Djz+955aNoNwHjvaqbnnYk+P9g+OK\n",
       "W3ZCeE+dXoeTAwDA4hw+p1cv3ou6zz6845arlz1RF4qj43L8TVEXjebdsu3pr6msHMPMzqLNWhN5\n",
       "TH7/DuPXZCIv6todtCkjyMekAABjjzPOZqn9p9P8Aw5FqZ+W5kjT8WW3y8cQqVSK1EcWHztms7Rv\n",
       "BAKeMd8oA0cyQu9htsjP/feP6fHn53xslorSNjLb/LUaFu13y5vzrC4Yp77J8qGf7g74dwQAAP4J\n",
       "6prNc1E3M4dtm87JdvBXf/7OLRdmSqJuZRv76NBCOx225bl/2EB7cWw5jux1sM12X30r6v7kv/5D\n",
       "t/zlVz+Kuq+/PHXL+Sz6gj/81x+Ix9y+j3306OQbUde5wrG7fpkRdS9fYn/943/zQNQl8uh3nDEd\n",
       "q5s1fv7V6dB+FwunWB2McYx3LNkXFz39fW6WH+MAAMJxvJ4nr56Qz4YDfgxt9U5JfWzyukSK2lGj\n",
       "947VhaM0btlcfcjqzo9pH+p1MHZpNKrTcpcPPlpyywFh/gsA8PwJ9r2FxVusprRI5yYjh/fvrakh\n",
       "JRzmx+HjU/rexIhg/0om5sRrPTnC2KxS4f0lAMCtbfSRxZI8nx4M8T4qFblfx8PYlnvv8R2wPZHf\n",
       "EXzy6W233G6fiLpWE9/fpLK8jwUAiHli43xWDlxsHz4E7zulQqkoHlOp4LzHHstjvN/j2wNBU9RN\n",
       "HIxporHr3hHiPbXqNA5amOPbotdpkXrI4OeokSlfYtv89QbDdC7gD/IxXKWM1zcaU7sOhHg7H3Rp\n",
       "nJFJ8f7NAeoLLs743xkScTr+1Vu8bmWF+r5gEOeRTlh+H9zveN6dmny7AtB3/C+f74m6Yh77zd/+\n",
       "3X8UdbfvYp/fvLXEanSlj6IoiqIoiqIoiqIoiqIoiqIoyg1Af/RRFEVRFEVRFEVRFEVRFEVRFEW5\n",
       "AeiPPoqiKIqiKIqiKIqiKIqiKIqiKDcA/dFHURRFURRFURRFURRFURRFURTlBqA/+iiKoiiKoiiK\n",
       "oiiKoiiKoiiKotwAgomsIX54dtB3y+YoK+p8gZFb9gf7oq7Xn7jljfVZUbe3t+eWR4OAqItHY245\n",
       "lQqRz47ODtljHj+eI/XSwoTVrf/8Fqn/+//vL1ldu0LvIxpJsbrT4ytSX7u14ZZNq8oe02g0SH1z\n",
       "4xarSyZjpH5cecPq3uy3SP3xwx1WZ4RtUn/9bN8t5zI59hgAgFql7ZY///Dnoq5e+8otR1NBUWfW\n",
       "HbdcWAyJuoN3Prec9TyOeCosHpPLLbjlt29eiLpEIuGWfT6fqAOwPTr5nkIh7G8BA39zDQTkc1sj\n",
       "PF84IveHcAT7YdDm7RoAIBTG74pG5P7v2KhrN03y2WTA32M6VST1frfJ6ipnNVIPBvjn64tiGw1H\n",
       "XfFaw2F81oX8gqg7Oiy75VZzSD5LJYvT8p++t0+fzYtne6zO76P2Fo3GWZ0xoW0Zn+pv/8Jlu03q\n",
       "dzbvueWLanla7uILW265WIiJussh2ksgEGE10XiS1L2+2UsiHiX1ZqPnlm3HmZa7pDN43HAwEHXt\n",
       "OtpzJs1f60/gszJA1rWb6At9PmwvB/hnAQAwNvH5nlcuRV00PIPHjDqiLhDAPhQKFETdaIR20G1g\n",
       "/zdCss84P951y+mU7LNtB/u/OZKf02iE7W/4k6KucY62PRnTPv39N2fsMdncIqknY3y/ef3mGanH\n",
       "krzvisfocw+HLFYXMGg/NGK8vTgBbJfhmB4TFkysWaf2MV+8w+rqlVNSH3v6pJeYjz7DdoO3q1ia\n",
       "tt3RLvqJTPqaWCqBz8oP8tgxtjyxXoBvVwCA2fm0W574xqLOCKF/909Ql8/LY/dVo+6WGx35Wn2e\n",
       "c/sc+RoaXTzf7JLcVwIR/K7KKcZz8Sg/bgAABEPYDuOe3F+HfbTlZEqOdUIhjK8X5uUYejhAO63V\n",
       "aL+OhBPT8p/+HqVtVC7zY0wsite3tiJfQyqF7W8E5P8vazQv3PLMDB27lzfW2GPaHRo/LH5UYnWF\n",
       "YobU6zWh3xjrpF4+4uMWG+g86PSQj0kMP40tEnGcd/QHsi0ee+wqm5J14OnKmQw/58ik6D09f/aa\n",
       "1Vkjag+HZ3jvUgwDAJBIofNbWFwUde/eH7nlWFYeN2eWVt1yOjkv6swQ2nazj/1hdkXuh806xiOh\n",
       "a2JoI4zPN1Vqi7pEGvv1VVXu1wuraM+tDrarZcpxxvkFzgdNYTwAAIhG0La7XTk2npvDdjEt2V9G\n",
       "I3m3nExMjTctfl4/sWm/NgzeFkMG/d7JmI81IhHq+yJR/lmFp2Kfy0v0VecnfFzQbpyTerHIj1+z\n",
       "czQW69f5uHTkp20SsPn+eu/OFqkfHFRYXaNPn+HC+pJb7nbk2Pj4EOfnE1N+/2Ja6IOabVk3fwv7\n",
       "daVyIup6r7CdDR8+99Nd/v4AAAwbn2chL/ebxVmMoR/f/0i+hg72o4BfHmN2HuL4kC/hde8dfyEe\n",
       "c3CC7fDxB38g6vxpbKNAoCXqNj0xSLlyIOqcS/RvhkHHka2trWk5AADEEtSHH7w+ZnUf3ftdt/zk\n",
       "+1+J1/Dho223fH4h++xeHe+p1qd93LJ703IAAAhPzXVKM/x8vVqtk3rCSLO6jfU8qfe7V6zONOn1\n",
       "ZFIem63Ivr5Wx35ZzMvztMIMfnZxecpqekM6ngYF/9Yd0PjjovaK1Q071N9u76B9GGE5fqg1cUye\n",
       "Hv+9nJ9gmy0tyvPpbhf73uKSPD8cDNGWNu7gGNDvy3PPcByv4YMN2Rc8f4J9Kj8vv4OzLLSrZqch\n",
       "6kr5Tbf86gX2p431u+Ixl34cu68avB0CACzkfuGW3715LuqyeWzLzMqMqIMxtr819c68dsG3RTK2\n",
       "SupGmI8h+n3qV1stftxc3aSxtuPj+38sjc86EaD2e3LCjzfNOo3344kNVjc26bUVSrxtx2L07xOH\n",
       "j8curqhfME30xwubsp0PPZfx9In8fnnZE/MursoxbyKO7fRbv/xE1L3b/cEtmwO+jXSlj6IoiqIo\n",
       "iqIoiqIoiqIoiqIoyg1Af/RRFEVRFEVRFEVRFEVRFEVRFEW5Afj+7H/+RFxX93//H9+4Zb8jL2tc\n",
       "28Ql8Zm8KIOzY1z2m03LS5kODw/dciG1Kurev3znliNTqby27y1NywEAwPHT5XzZDL/07b/7t/8t\n",
       "qT958ozV/fn/+gOpxxJ8OgRvqhEAgLGD67+EzFbw+c8/JvVImP+Nbji1LHz/4i2rS6XotfUH/JLW\n",
       "ANDlgZMRLod2hvKyyYO3uGT0F5//UtQ9fYnp3ayJfL6Z+RW33DL55a0AAOEApr3yxz3LpsfyctSD\n",
       "95jmI2DL6R6SSVzCZwTl30hHI0zD4FyTzirgSXPi+HBJ4WQip11IJXFZZ0jOegPDES4Jnjj80koA\n",
       "gGgUU2pFI/ISRXOEy+8vL2i/cYZ8CoVYgv7dMvnryObo9waDvB2cnWFKqJk5PoXLT8fjtTZ78hL7\n",
       "TBq/NxqljWmN+SWePZMusR9P+JQbK4vU+TWq/FLVD9Yek/qzt3x/zc+ukPqPrzFl187D2+wxAACL\n",
       "i7jM9nD3UNRVjrGdzBF/76MRTWeVy/LPwJ76/wHTxOOChtxvLAvTVnT716QoKWGqGltIowFA+9fl\n",
       "lZwCLxpDe8tkMQWezy+fe2LjPZk9U9T5PGPlyObTBAEAxDyp86TlxQAAsTQ+J6uD7eDAkJMDAIA9\n",
       "wLE2GufTIgAA1BueNnfk55TypEIYC6lZAACaNU8aHT9N+eeE+BQlrRbtr9k8n6YnkaBLwSWfcXpG\n",
       "04tYFt9fZ2dpaqphg/dV3QH+3RzTc2VyfFzkTTcJANDr1ljdxipdsh8QUqY1Lmi9XOHTR2zdpuk/\n",
       "llYw7dL7/ffsMQAAYxvvy3fNvwLduoUpD+r9I1E3nGD6GJ+crQxKnnQZNU9aI1vOHAdpT2qlaEpO\n",
       "P9XxpH7xjg8TUdMxAAAgAElEQVTTzC/gNezv86lxAQCGQ7ynTBqfW6cpN9jlOcZYflNOkRwO4/gf\n",
       "ics+qN3C8XB1jY9xAQB8Puyj0/Z/eXU+LQcAgFaH2uzCAp925eoC/epMUfYtDx5iipjptE1e3rzG\n",
       "lKGWRX1LIsfHcN60FwAA4wmfrujklKa5SSX5CcrBO5rCpl3nfVy7SQ3TmvDXl0pS3xf1pMTr9uRU\n",
       "MrEIPoPFJTmdhzcF83jC+62xRa/BFFKKOTb1o+VT9FVnJ/IYagOOgf/j//Rnoq5ax2fQG8vpoopF\n",
       "TD9Vq8ptdHGF12d4Unw36tfEDwW05X/82x9E3dryqltevS3364EnlVGvc01QHsBrevQY5ylf/uaJ\n",
       "eEijhvf34aP/QtRNbLR5G+R7T2UwJu/26qLOmqB9hENT6U/GvP80EjS+kcbkANB5QSzKzzvGU37/\n",
       "1Ss+JWHAT9t8bg5tp9vin9vFBU230xFSnBXzNMa1hXjHGlG/mk3zqe0CU2PPbIkfB94fH5K63/PO\n",
       "4Jps3VC7wmeay8rzudIs+upYUp53l2bxHJeXcmqvZh3vv+1J89VryqnoVueW3fJsQR4Pg570mK0J\n",
       "P14BAGysP3LL1ZrsMxZW0T6++PU/uuXNdT7FPQDA8xc/uuXVdXnuuTiDY0AyuSLq9vexLcsVOXa6\n",
       "/wDndrUajRvrVT4d1dzU3PjeGr8VwD/95lu3vLwkzyFzBXwnclqT0xM1O2ij+RKNPQ/PfpyWAwDA\n",
       "bJxeq2nxKVdT8alU8R0+hggbdFyb+Pkxa3mZpiA92MV5R2ZWTlMLnvTfw56cbrPbRX9yesrH5/Ur\n",
       "GtvNzPExXGuwS+qhAG9/M9Mpfh30NccncprFjQ383lhCdi5xzzuS0VCe99l+7PMh4T0lAEDVk1Yu\n",
       "Esf4YTSS23VrDfv47jv5nh7uoK7WlMe5VgcnU8O+nH59toSphSunqMvm5XfXu7v4Tjp4TTvMzmD6\n",
       "VNOSx27ve4qgIT+ndgfvd3VpmXzW7/PvKspn1K8OTF7nt2mq12aT97P3H1Bb9Ed43WiEfSCVosfU\n",
       "hbTll1dTceOE9wWtFvWPs7N8uu5QiB7vOFFW5/fRd8OWjXYeSV6zzYCN8dPxgTx+1es45zWC/DUA\n",
       "AKytYkrBeFzWNds4Pxyb/DisK30URVEURVEURVEURVEURVEURVFuAPqjj6IoiqIoiqIoiqIoiqIo\n",
       "iqIoyg1Af/RRFEVRFEVRFEVRFEVRFEVRFEW5AeiPPoqiKIqiKIqiKIqiKIqiKIqiKDcA3+//2bq4\n",
       "O9fRIW6IFrhmN95EAjctmt6U2cvsDG6m2bxm073LS9z4aD4/J+rGNv5mdX5JN/iKpfiNJxdXpjeA\n",
       "5TdB/fzzz0k96Oc36/ybv6AbTR4d85vIjSa0mecXV91yNp8BjnSabthkjfgNv6IR+tvdpbCR/X+2\n",
       "eaCf3xhsY22T1Ft13FwrYcgbRU76uBlbIc9vmAsAUJjBzcmO9g1Rd9Xed8u+OP+cAAAaTdyAzLvR\n",
       "dPlc3ri6UcFNuMKhmKizJ9hGE0veYNm7cb1ty5uyezf4Dkc9G4H55I2mfZ6NBKc3IPPi3QxvMpF3\n",
       "wg4GcXMyw5Db3+e5pl6Ptr8f+OsYj+lmcOEgf/5IhLb5YMBv5Hfnzh233GhfsRoAgEYTN8n0h+UN\n",
       "B0sFtEt7Qr/Tb/D3FAzTvyfTvC7goz6t3+U3cHuw+jNSf/HqLat7+Yb6tGgSNxD0heRN/f7gX33k\n",
       "lrtdeZPA77/B/uEXzKVapRv1zs0usrqTI+r3kkn0E36/3B+GI7Qrn+CPAABmSrjxZKcjb74Y9Ww8\n",
       "Wa3Km9DmC7ipre3gzcdicv+qN9D+fJbcb4Zd3Fw+lg2IumQa+0C7K/u3wjzaVb+G/m0wqnFyAACI\n",
       "BLGN1tY3RV29hmPF8Rm/+SgAQCaDmxQvzMobyHs34N57f0g+m50vAod/Krbo9YasrlKm/X9mRtjo\n",
       "PEDtzWtjXtJpOpbNCRssDwZ4PcdHtE93W7xtB4JxUncc3icNxnTjydIMP74uFAukHonwm0geHdEx\n",
       "fmMLN9c1hY06AQDOKnhfRaldASCdxn7TG8ubqs6v4AadIyHGAgAIhbAfvXv1Bo8vLnByAADI5XBz\n",
       "zmab39gYAKDfw349mci+JZvF+Ovi8kzU+f34DPMltOWrSzmW9W4uPx7IviBk+DxlUQYTCzfnXF1d\n",
       "FXUZj3/zB+i9H58esMcEgzQOTSb5jclrl7hpbCIeZzUAABED47xrQiJoejZUr5Sr5LN0lo+N7QmN\n",
       "eYMG3x/evT0kdSPAx/HpFO37AT///3DjEe1Di6t8X5m2I9NEHzIey3Gkt3/1B/JcKhJFe1lb58fk\n",
       "auOC1H/x899hdV9/9YTUnQm25emRvAmtd4N6n5/32QAArQ4+34VlfgwAABgNuh6dPO/Le/y0E8Tn\n",
       "9PzJK/GY1VnPuNmWN41+t4tzjkJJnut88umnbvnZj3z8BgAQ9MS/lsd2xiPZBiJRPKbdljtO0OMz\n",
       "Pvzkvqg7v8AxoTTD9ycAgNMz1C0uU/8rjTfBCB3XmrUmq6vXqS37hPnDZYX682gkweqKeboBdLOB\n",
       "Pnh375A9Jp+ntjca8UFvo0Y3AY8Eeb+9tkLb6NPPPmJ1F1U6TtYu+XmMBdRP52ZwrrK3e8geA0DH\n",
       "yvfv5TmvN+atVOWx+/d+iffh+OVY+/QE+/XePvq7dFbuX4uzK265kFwTde0OxqJ37t8RdeVTjIHH\n",
       "tjzG+z3zpfMKHuNM5Ll/IoY2PzSrom7tFp4jHd0WdceH2DcyWX4cAgA4OT12y5dlGjttb/GxfChC\n",
       "/W8mFWR1Fnmfcc17D48t9qwjUVeaRdtrN6gv8AsbzyfitO8PhrwtzuRXSP3lD3VWZ5n03Ynt5+d9\n",
       "8RRt89oV+taCsOE7AECn75n3gRycDUz0J4vzBVbz4kc6xyrm5lmdL0Tv4eiYjzGjYfqeLZPB7/3+\n",
       "x1+J17q2jmPo6jJ/DQAAqXjJLc/Pboi6pVV81tU2H18CALx7i/f19Fu07dU1uY/nZ3HcPL/cF3Xz\n",
       "M3iOezsfirrvn/47rDiyf0snllE2wTh3NBpwcgAAsMdoY8Oh3L9W76DvvC4ejESxr1z3HqXXR99S\n",
       "Pqf9KZflY65ej95Hb8CPyWaP9q9Bn5/PrW3SGDqZ5n1Qs47fOx0HDEb9aTkAANRb1P67DX7sTqbo\n",
       "fGR7m4+N/VNDeqXM28H0nHkwxnZuNORxzgjg3GluTo5lfX48x7s3e6JubOJYdGvrnqjrDzB+Cof5\n",
       "mE1X+iiKoiiKoiiKoiiKoiiKoiiKotwA9EcfRVEURVEURVEURVEURVEURVGUG4D+6KMoiqIoiqIo\n",
       "iqIoiqIoiqIoinID0B99FEVRFEVRFEVRFEVRFEVRFEVRbgD6o4+iKIqiKIqiKIqiKIqiKIqiKMoN\n",
       "wPfJv7rrSB/WO6/dcjhyzVmsLJ5wUhBltVrNLa8uz8mnsyZuuVHpiLpWFz8bO33y2e/+4QfsMZt3\n",
       "86TeHpyxukSC3vBgMGJ1nX3afPtHl6yuXrNIPZ1dccv2xGCPOdjbJ/V+u8Xqgn6b1I18lNUtLM6S\n",
       "+mjcZXXD4ZDUE2E838riEnsMAMDF8ZFbbtb4dgAA+J1f3nfLf/9XPVHXgfdueX55RtSFEni9l2ch\n",
       "txxOXsnHTLbccq3OtysAQM9jY/Z4IuqCwaBbdsQeRXVGCG3M8cnHOH7sN/FYVtQF/AnPQbxNAQBY\n",
       "FtryxO6LunAU7crnN8lnQT/vEOwxvXnbZGVgBBOkPrb4BhgM0D7GwPdBAIDRGHWhsOxbcpmYW+73\n",
       "qP13+7wtxtP0Wj/92SNWV6+9J/WVpQx/DbE4qf/N3/4DqxsM6fcGDbyvriXb7PxG2C3bINvsaITX\n",
       "ER3zRmsE6XM+r9RZXadF225zfQOvwbGm5Z7jsI8aIfl/EAKBgFtut2SfYY48NusLirpQOOWWLWuM\n",
       "19ORzx0OY7tmk7It9ntJt+wPDUSd7Ue/5Q/I/XVho+2Wy3vow6NxuV237+E4l8/JY3IwhPfUaFZF\n",
       "XaOBPsj7LKaJhdFmjw4r5LNuYzgtBwCAjfU7pF4q8GPMr774mtSnx6l/wZrQdolEebsaWvTZ/Oyz\n",
       "x6yufIoxwnjqK5t13g66U/FCLB1idZvbRXpNTo3VFeP0GXpt0Ys3dgIAaDbRdiKx5LTcJZVEX9Uf\n",
       "yHZlmujQR5O2qAMD+2GzL9uVM8G+d3/7nluuVvh2AADodHBMzmTl8XDUw2sNhxKibtDH+73OXzo+\n",
       "PF/AQH8Zi8vBsWXhuTvDc1EXDmCMZfjl59Rp4Pli0byoi0bRPmpN+r2WEPdBiMaRZp9vi2yq5JYb\n",
       "NXkcqlXxs7nZRVFnesb+g0Maj8/P8D48X6L3XiwWWd3J2SmptxpNVpdIpEh9ZXGF1VUvqV0urvJj\n",
       "fMCg/vzkBH1hQIidAADAxucWi8k22+1i31vf4K81nKCx3dVVg9U5E+pLRj30752WPS13yXnGlYsL\n",
       "fh4FADA3j88mELxuIonOtXyxL6qKc9g/TBv7gzmUA+/OFbaFIcy3AABaA3y+rRrvswEAPv05zi9P\n",
       "zt6KuskAn2G7jv5jMpb7TamIPq1hXYi61RWMsUbmWNR5/7czm02LqkgU+9rQoj7i9Zvn7DETk84p\n",
       "DSE0CEdofH/v3iar6/TovHE44PtrLkvnuPl8zi1f1Pg26/bo4G0KIdzSDI0/2jX+HYR/6n9mhyYf\n",
       "jzR79Pj91yesbmWD+sjZJYz3q1d8OwAAxMLYH6oXfB8HAMh62ujbH74Xdb/3S7yO0iLv3wAABl20\n",
       "v/fvsd8EU8fiMd53QLdWPxR1q1vYR6sn8hw16LErS5hrAgAcHeH35nJ4T8vLOU4OAAB+TyzQbMjx\n",
       "/vaDZbd8dSFf6/t3h245FJDnOt02xqWGj/rLQp73SXe26X20B/wYb1ke3+eX4/jzc4zZDEP2l9kc\n",
       "+t9ui9reuMvPO+pD2pZBg58jJeP0+sYm799XV7ZIvSm8J2u0aR8qeGKIxqXsPy8ar9xyNi+/W2i3\n",
       "sf9v76yymqN96pvSQgy3shoj9aHN28u7d29IPeDH48ZyGA/DMcZFjx+vibrGJX7v2ydyG6ViOA7c\n",
       "fSDHeqUFHH/++u/xvceHH/NzLwCAV+++c8u9vjzniMcwhgtF5PfG3RbaVdiQx/hEEh2KNcLy0vy2\n",
       "eExhBp+nOZHj/X4P44LANXP/QR/7Sjgi6+pNfI/SnrJzqZ/7gJ7PMXiDMYK0jRqNMqvLZOj3FHN8\n",
       "X6ldYVvG4/Rd2GjCz/sOdqntnZ7wukyK+svN27wPKhRpHLS3z7+vjkTovWcK2GZv3p5Oy126bWzL\n",
       "UkGeo1oTfFYzMwui7h/++qlbLubld/CbW9iXo5EYq9GVPoqiKIqiKIqiKIqiKIqiKIqiKDcA/dFH\n",
       "URRFURRFURRFURRFURRFURTlBhB0/PKS+LHpWXpoy8vygw4uta5V5WV1Qc9ysjev5CXx9+6v4jXk\n",
       "5CWo0SxeU29Ev/eg/Iw95sHP/5jU98r8cuhAtETqvTG/BDWSpWuK76f4pX+pOE1hc3KB6R7e7vJt\n",
       "cdWgS86WCvzyr/YVTa3QOuefVSJO051tbPPLzgYDuhR/2PQsc67KSxZrbUz9FEvLy8Jzc/i91Zq8\n",
       "FDyWwqV57ba8rDOf8aQ8yaKNncur78BwDt1yplQSdZkCLls9P5NT1vl83iWjclopw8BUGr0uLgcO\n",
       "hfileAAAAc9n3u+Zpt/DZc1+kPPF2Q4uGfWmgZmmlMN2abVo/zKEw5wQ9Scdod/4fDR1zEjIqhP0\n",
       "3LvfkZfi9rrYD4cdOZ1Q9dxjKzHaT4IhfvlsLERv9tl337C6lXW6ZPSszBtgcvM+qQcj/DLYfpO2\n",
       "XSGJ1+e7Zul2wod+22sT0/httL98kk/7EQTaRpk13mckppbVDk30b82q3B86Ntpz0C/3gbYn9Z5p\n",
       "yX2g1cT0CpEQn+YSAGDQQb8fj2N6jKAt29h4gN973JUfgGOjnwiHZJ3P8xD9PnkJcByzXkG3je3g\n",
       "88t9992rAzx3QPbZ+QIuic+V5DE+HEbby2bmRV00irpYivqgUYPPvzEaTqVdmOHTDQQjNC3Eyjw/\n",
       "Hr58RlMemEPeF06nKnXGfGq/9VXUvX5L0w7FMrzPCKXoszEifKqmywr9v5twbJXVnY+pL5lN87qX\n",
       "T2iKSX8A/XF+XrbFZg/TTuQK8vNtVPFZtYfyeLi0gul7top8Kh8AgPoVLtPffeOJHxKyz8jMor9M\n",
       "ZuUUWEYXfZDPlu89mMB+HbsmBV6jhdc38uQtrVtySsiRJ3UkdOW0F11PqrxwVI6hnRB+rz8lt1Hf\n",
       "xHsyHZoaoSdknAz2qQ8KGHx/DQbQtjttOe1NoYi+xQlWRN3sPD7DxU2aLiqb4tO2xaLUt9tCnDGd\n",
       "DveizI8x7Qbth960sl52PqDne3fAx6/jAbXLYnbdLff7cgqg+iWO1xdlOcXhoictkeXwc5jWVOrJ\n",
       "F6/es7p7d+ncJDuLY2C9KaeL+uLv8XylGTneD8fwOuIZOV2cP4Dfm87J/fr0GNvFOy9Ymkpf7SWV\n",
       "xDGg15XbdXkJY95RXr6GiYW+4PGDDVH35iWOvbEE9sPUNfOjYnbHLf/q7/mUYQAAr1uYJmz1luyz\n",
       "k54xqmvJsXG5hr49HKb9KxHnrzeapf7y8pxPqT0e0XGyccnP5xyg9jFT5H1meypl2uEx9pthl495\n",
       "E0maAstxeFt0HBpf+oS0w+k0TU3jb/Lpj3JTKaHubfFpzbpT99Ty3MeyEOsAAPT7mMormZXnfYkU\n",
       "xgKPHq2KOhPQ7i9rcuzYqWL7Hb9H/5udkVPRpbM40csk5DjeP8KxYzKSr+HsANtsa+2+qBtdYDzc\n",
       "H+FzcnIpTg4AAOeeFPXBkBxr+1v4nLoncjrGN19jip7127dFne3g2JNbora3uMLPExpTNl8X3pdc\n",
       "nKPvG3TlfHjbd9AHnVfksTsSwrnmrdufkM9+/dUX7DHtqZhhbXGH1QWAjumLq3wMZ00OSb3Z5PtA\n",
       "b0BfMkQ9KdLH18z7EnHP2N27Js2iJ7Q4PuBj4/hUKuDCPB/DTaZSfjk2H9/0BjSWqNXxe5eW5DRQ\n",
       "6ysP3fKLF4eizvvu49HncvwaBOxT//Td/ynqxj9gn3/06DO3XK0fcfKfriGKz8YcynP63VfoJ9aW\n",
       "+ZS3AADbO3gfza78kvDiHJ/1pmc+8+LFK04OAADzDWzzbElOHTlTwmuwbDkeyeTRXg72ZD94cuqJ\n",
       "M6bTIo74fm5bU+lJA/x1pOI0Zk4k+LhoYY7am/S+dPc9xsypqbTl9oTvD/Ujeg92ix87riq0P5iX\n",
       "/DWkcjQO2vngDqtrD+n5vvsaY177mjUzpicV5ftd2X/+7POP3LIRkmPjjOfdTCB0TSpKT/rUuVne\n",
       "V+lKH0VRFEVRFEVRFEVRFEVRFEVRlBuA/uijKIqiKIqiKIqiKIqiKIqiKIpyA9AffRRFURRFURRF\n",
       "URRFURRFURRFUW4A+qOPoiiKoiiKoiiKoiiKoiiKoijKDUB/9FEURVEURVEURVEURVEURVEURbkB\n",
       "+BY/DTrSh8Vi0S2PJ33xJIVi0i2bg7H8ZZbhlufnCqLu+PiNWx5O0qIuGsPy3HKKfDa2O8K15kk9\n",
       "FEyyunbNJPXNtbusLhGj33N6aLG66qWP1L998oNbbvQr7DEfPnxA6vuvDlmdb2jTayrFWV2jNST1\n",
       "dD7G6uaXI/R8BtbtYWpa7lKrdt3ycMy3PwDAb3/ysVv+d//Pj6Ku079yy7GiaKaQKmTccjhUcst7\n",
       "756Lx4DHTKNp2cbCIWyj634hDYXQtgfDlqibjNGuzBE+N78/KB5jT7BsWXL/MoywWw76A6KuXEF7\n",
       "y+fle/f78J6iEdpPhqM2e8zElq/PSyQcJfV2o8vq4nG0Zf81DyBk4P2mM7JvOT8vu+UJUJtqtXib\n",
       "TU/ZRzIVYnWRMO37RthmdXfv3yH1L3/D94FSaZXUG01scycwAQkjgN87mcj9Ju55pr0W74PyedqW\n",
       "48mA1d26s0DqJyfHbtkP1/iMq5FbPju9EnXF/LJbLpfLos4ZY7vk8vL3RhJo2z5PewVCcr9pd3pu\n",
       "uVnn/TwAQLuBfjaTzIq6yRifjdnjfTYAwEe/i33q5Q/YxwszUU4OAAD9/q5bzmZnRV132HTLi8sZ\n",
       "UWd62rV6Kfv2XB7PkUhQ24uFwtNyAABIZWib5wsJVvfFr74j9ft3Pmd1z58ekPqgO2J16RQd/7Zu\n",
       "z7G6UBjt6OXLY/JZr8/bQXdA/ePtnUVWZ8RoXFVrHLO6jz/4A1I/2t9ldWDTuCWe8sRmE94fAQAM\n",
       "LTwuEeP9GwBAq1lzy+nsqqhrtnAMvO57K8fodwYd9C1r6yviMfEs2lGmyNsKAEC3js8gEpLHV+8A\n",
       "OzL5cQgAwB9EO53Y2EbnV3Js3G5j323VeR8LQMfDtZVNUXdeQR8Zj8lj98hEX2WZNB5ZWMpPywEA\n",
       "wHaoP2nUzlldNITfWzs3WQ0AgGVh/89k+b4PAGADtn/IoHGGFXjJHrO6SselbIpvCyNAv7fV5H3X\n",
       "ydkpqedLM/zFOgapfvWPJ6ysfkHrhZwnjgzK9hIN4zxhZW1L1Pn82Lb3H66xmov2JakP+nxsZk9o\n",
       "YLW8iGP5X/6H/yhew60ttNNudyjquh2836V12Q78nmcVi8q2nUnjvPTN63du+bx8wckBAGBtFeOH\n",
       "lcUlUff+DT7PWKon6rLJDbc8N8+3PwDA2Hfklnsd9IO2yfdBAIDX73/jljNZfkwCAHAA2zwQkX2s\n",
       "7cc+ahiGqJudwTa6uqD9xPDzsUYw0iD1kdBkE5N+b8gfYXX1ep3U5xf4WH7zNu0bV1foF8V5cpDG\n",
       "GfMLC6yuXKFj8Pb2bVZXq9XoH2w+dpzud9ki/6yiUdrGto26o6OjablLKOyZ9xnyJCmXw9jMO1+d\n",
       "ZtDH7x2PZf9+dID3/+bVmVtOZ+S49A//6BduudWW4/1EAsf1Tusa27bQX7abTVG3soj+PBJD31m9\n",
       "POPkAAAQjaMPsiz5GnZuYWx3elQXdc+e77nlBw8eibqDk9du+dZt6quWlufZY7pdGrd8/fzXrC5q\n",
       "4LU2r/i4GAAgGMT7nbZLL7vv0S4//fk98lksyY9z/QC91k6N9wXVMm3LUIhv25376/T8HT5+ff6c\n",
       "jg/bO/gMrurfsscAAFiAvtBny+NSMo7+JBDkx9rAlN9bWuLH+IFF57iGzc9ln714Q+rDAT7TUER+\n",
       "bn7Pu4/yKR/D/KRDf5LPy2NW0hOLFnJy7F5tYEzS6O675YlP9jOtOsaHD3Y+EHWpNPrBX//qH0Xd\n",
       "7BKOqf6gT9RVPWNK0EHfPlPi+yAAQOUc7y9dkN9DZXPYrjs7O6IuEkM/3WzJ8Q34sL82p96l+QO8\n",
       "rzem3nWcCvFTpUzHuYDD91cjQOdiAR//vcMBPutGvUo+847j5O+ndJ4dC/HvS3xTY3Amzc8Pwyl6\n",
       "vtIS/y48UaD3GgjjPHIgh/FwsH+IxwTlMTlfwPlOaYb/LQIAwLTxept1OS71+pde95LV6EofRVEU\n",
       "RVEURVEURVEURVEURVGUG4D+6KMoiqIoiqIoiqIoiqIoiqIoinID0B99FEVRFEVRFEVRFEVRFEVR\n",
       "FEVRbgD6o4+iKIqiKIqiKIqiKIqiKIqiKMoNQH/0URRFURRFURRFURRFURRFURRFuQH4dv7IcKQP\n",
       "Z0rLbjmXT4gnubg6cssxIyPqXj65csubq3dFXbd7ieVQXdTl83m3nE2lyWf7e3vsMY8ePCL1YWfE\n",
       "n3xCqzt37rGySLZH6pXjNqv74u9+IHU7gM2emw+wx6RSPlIPjiOsrlmmj7Dda7G6aCJF6rligdX5\n",
       "/GNS77bKbnl7a4M9BgDg7BSf1d5eTdSVUvi9d+7IdvB3f//v3XJ2LivqOl20g1Q67pYr5V3xGP8E\n",
       "n3u6wLcDAIBlTTxlS9RNbNMtF4vytfZ7aC/RSNItdyU7BIBeC5+v44jdFZIpvHfD8Im6kTn0fO9A\n",
       "1AUh7JbrNWrnkajBHtPtUvvPZJOsLpmMkvrYGrI6x9MRh8O+eK2RSMgtry/fEnVHZ+irWm16rdFo\n",
       "fFoOAADzc0ukPhzy15pK0f7ZafF9wI5Q5zIcjFmdPxAi9bW1Fbd8cPiOPQYAoOexsUg4LepCBj6b\n",
       "UZu/VsdPbT6WCrO6haV5Uk+lUZdO8X4LAOD9q3233G3boq5fi7nlwUC2A9NjR6EI71cBADIFvPdW\n",
       "v+GW48kYJwcAAH8Q+5RlmqIu5Ec/27+mXx8foV+dy++Iuux8xS2/eYrX4Dfka8h5Hns2OyPqml18\n",
       "7tGM7DOiEewb1aueqPN7/o3k0Qdb5DPH7rLHGBF6vo1b/PWOplzVqx/PeV2H9hufzfvt86t9Un/4\n",
       "6CGru7zEeCSepGPo2OZtNhqndlS5uGJ11Trtd8vLy6wuHqe+KRHl46zTswt6HZ5+OLT52AQAoFDI\n",
       "uWVnINtB8xyfVaV2IepWN9FXTRzevwEAmD204XYDH7AR4McXAADD07STgNy/MhG8p0iY91sAAN1W\n",
       "0y2PLXk8rNXwWXU8PjsSLorHhKJ4DSPzWNSBg74qmZDjkepVxy1bphwLhEMePxGk97S8yl9vbp7a\n",
       "WL1WZXW9pmf8svKsBgCg3UBfPBg2RZ3Ph9eay86Rz4ol/h6XVui4Vq6csjo/0Pij3eV9UHGOni/g\n",
       "48es4yPqqy4O+HHTNwmSundOc/ehHB/e3kbfd34ut9l4hPOxy3O+X69sU1/S6/PjxfIavZ5MAZ/v\n",
       "6XFjWu5ydoy6WEK2xf74jVveWLkv6kYjvL5Ol4+xAACSCfR9pqf7X5TlOUenjefbXN8SdZUyjgmd\n",
       "rjz3jMfwGiIROb756DMc158+feqWZ2bWxGOGI4+NBeV2MIL4vQ7I13Bxge0yP7co6sKeeGli0Rgr\n",
       "Fg9Ny3+6vCAdW4c9fjwMGdS3BH38/5sGgnSsiCd5XbdPn3UigfffueLt/KxSJvV8ifdd55dUZwpz\n",
       "k2QiRyonkAYAACAASURBVOr5DD92jy0ah/a7fPwUDFKfMTeHvvDXv/kVewwAwK07m245EpX/jzca\n",
       "x89iMXk8nIzxOhJheS5Vrhy45ZGJPqhZC3JyAAAIBPHZ3Hskx6WvX+I8LTfL2x4AwP4uxsaTgRzv\n",
       "b2/h+5urczwmGpPPbfjxfIGAfO5UBmMV25LvvXyKNjsayXHL1m20I9Ok/XA85vvXcETnlOt3+fnE\n",
       "m+do25OJPH/YO/zSLSfj/Lz4p8/wfdDLF2/IZ/kZ3hbNGPVV27d5G8tnqe68/IrVra9RnxYO89f7\n",
       "4tlben7P+69qVfb1lqeZegP5HVDLE++Aw/evuUUa28US/PNstuh8Iejwdjq26PGhELZZKiPHGbVL\n",
       "tMViUY5fvfPcTEZ+t2vYGD/l8ilRd3yKPuPpj9+65XBc9lvzs+inve/jpul38Fp7I/k5+f04gfj4\n",
       "Z78Qde/fob0F/HjuQb/DyQEA4KyMc6L7jz4RdV3P881kF0Sd4507BeV40PLMW/L5FfLZt99+Oy0H\n",
       "AIDZqXi/mF9ldZMJnQ9+981zVufY1PeNhrxt3759GzVTfnA85ueK7Sr1Vd65hZfm1LuJXpePjdMF\n",
       "am+bO/xYtLhFbb5cxTlcxC//JmJ6buPk5ETUPXi47ZbrrYqoW1qedcuBsDwWtZpom5MJ31d0pY+i\n",
       "KIqiKIqiKIqiKIqiKIqiKMoNQH/0URRFURRFURRFURRFURRFURRFuQEEbVNe3vr+NS4ny+fk5ePR\n",
       "OC5Pa5jy8rt4tOSWuz15OWU0gUu+fIa8DPnqApdDWUO6/GtbSBvWmU595vDLxB49vkPqkTCf6uLt\n",
       "uwNSX1lYZXXp3FT6Az8uCZ6Z4ZeJBYI0tcLVCX8N0Qj9zlqdv6dq/YzWm3wauEKOLvese5a+Pry/\n",
       "zh4DAGAB2svtu0ui7uANpuK4dU9OD/L0FaYAqzYvRZ3VxxQejQ6mZ4iF5GVwsSi2uWXKS60HA08q\n",
       "tD6fGgQAIBpFO2025TQ6mxu4tPGbr350y/ZEvtZkGJcEBwPy77SdNi4Fj8Xl86UzuLy1XudtCgAg\n",
       "kcJluvE4td/udK6l/0Q0PpUmxeD9y/Ry6niC12Wy+JzyxRyrAaDLnFtCChcAgGoN+9TyCk1J1mjx\n",
       "y3aPTo9I/bLCL7P9kz/5L0n9+IhPOdPs0yWoBSG9YDRCfV/T0wc2N+U0HZ0O3sfuO3nJaMSTA8wI\n",
       "llhNvUNTEvmErEunJ9RXLQfxnpIpOR0bBLAtZ2ZkX7DbQF0iK49ZzSb219W1O6KucoF27zPRxs72\n",
       "5XEpFscxMJKUU1YlPL5+MJCXZOdm0GY/+FhOwzcGbL+D1+jDw9ekr9v2+N9qTV6OXprFJd6Ra5bY\n",
       "X1ZxrIhG5WXN4SAayPEBtR0b+PHmt377M1L/+jdPWV0skp2q82kJhlOpERaW+LadW6TL4Jc3+LQQ\n",
       "oRj+3e+nHSAa51Me5PI0TVUux/uuiyvab6Q0IrXaVLqHomAvU2mpTiqYAm95U/af+weYCjU8kdM4\n",
       "hMfYryMR2V68dvBul/eDAABBwNQBK/Po02xhaToAwNEp3tPgmjQpLU86BGcsp4uLBT1jTJ73gwAA\n",
       "YU8KtoinC3T716SbHGO6h9E19xQKoy/wB+WUWukc+rdETE6jYZnYrvHYLPnscI9PN1DrUr9aLPLn\n",
       "Pz3D52n1+bSFAACpBMZlxZJsK7NzaG+VMvUZ79/xY/m9xz8j9Vv3Nlldb+rRfPsN74Muq3Sc7I/4\n",
       "GNqIUDtav8P7DMek/TAee+CWxxM55vKmEP3kMznl58vnGJPsHfDnq1/R55dKR1nd6RG992AQ+2Eo\n",
       "LM/7ivOYIsYW0nUBACzmfu6W99/xKXoAADY2MFVQry+nNfP5sa+MvSmKAnL/mkxwvD4tn4m6+Vls\n",
       "s+oLeYxf38R0IMGQfK31Gl7rx59+7pZPKnI7JEIYl/Z6cqpNe4JxRr0hp9oslTzzh9A1beRJXz2c\n",
       "mk+3m3wMUavQ8Soa4+1gfY2OKVZA8JlTdvTuNW/bsTD100/30Q/F/LzNjiw6JpsdPo4MJ2m6qZ2H\n",
       "86xu4tB7KJf5ca5epzFgNsnHucEw9S3edHQffPgpewwATakdDMj9NRlHf3xxURZ1oz4+g7HJx2IA\n",
       "AMEIjlPJJMYj5UM5TXM4ip85IKdgCnlTYI/k9GKPdjAlb6Mp94F0Cfty35N753BfboeZWRxTTvfl\n",
       "cS6dwRjEtmQ/mEpg/DoSUgYCAKSz2FeurmgbffHrX7PHJOLUpip1fn4+GODf+30+PTIAQHEWbXFu\n",
       "Ro4b455AaG+P+hafw6fKfvkN3XrB6vC+oJCntmwYfGy8a9Ex3e/nY4Zmk17f7u5Lt/zLX8ppvnbf\n",
       "43jR78p2kC2gnbab/PMdmtSf+YR3T/EEHavTKX7ONZ0ey/Scr92X0wkX5tFe/H45zZ83HWOjL/eV\n",
       "Qua1W87N81thAABs3Mb+GjHQZ7x69ZqTAwBAzJMaNFmQ0ycmNrF/DS35nt7uYvz713/zH0TdZz97\n",
       "7Jb9gONfvyePobU62uzSgpwa8y+++M4tt1tyqv5iEZ/T9s6qqOsO8H6vytQPDjt83Ocf03mBM+Df\n",
       "tQcC9N3fb/82n7aucknt7asv+WeazGD7Pf0VHV8KeX6srdVon3bGfFwUjNGxZ22On885AWofMSGt\n",
       "f71O3+WaQ7z2W3dmp+UukTCer5Dnt7gAAAh70o77A3K60yvPewK/Xx5fu0O001KJP5+u9FEURVEU\n",
       "RVEURVEURVEURVEURbkB6I8+iqIoiqIoiqIoiqIoiqIoiqIoNwD90UdRFEVRFEVRFEVRFEVRFEVR\n",
       "FOUGoD/6KIqiKIqiKIqiKIqiKIqiKIqi3ACCp3vyxlh3H+DGmpYjbwhu+XCD8eVb8uZG1hvccC0W\n",
       "WRJ1fgc303z26xeirlDCDZJKSbqx8eU5v+Ha0irdzDEc5jdRb7Tp72GmyW/qmS/QTZrOKu9Z3eef\n",
       "3yX1oyO8PnPEbzzXadIN7sJBfvNmZ0Q3gAyF+Y3GVvJ0YzFfiN8Myx+gm1cZBp7fZ1/z3GzcJLDb\n",
       "r4m6xWXcrOv167eibqa06pYdkO3v+3eHeMwK3nsiIW/KXN7vuWVz7Ii6WAI35HIm8iaZkQxutGcY\n",
       "8uarvT4+67l53Ij85FDehLLXxc0c4wl5Q+reAO8pnpY3v0xmcPOwzVtzoq5Sxk3tHT/dUDKR5Td5\n",
       "Dkz9jly94u0gN3X82OE3PhzbuGnZxJQ3/oyEPffr8BvSAQDMzqP92lM/eW/d5jeDfvuW9un124us\n",
       "7vCU6u5/eJfVffUl3cT39Ih/9pGpfvzw0ZpbnsnxGzsCAGSSuEFtIiZvIlcuoz92hE3ZC1Obhfv5\n",
       "vTQhlaS6c89m6+k4v3EtAMDcLLZlwJY3JjcyXj8hb97+6LZnM+i2vMH6aIib64662M476yviMecV\n",
       "3ADS7Mnt+vWLfbf8wUfy+e7tbLvl16+ei7pgCDcdnJnDNorG5LH7soabQ5ZKy6JuYOG4Fk3J/SbU\n",
       "wQd/WeE3QwcAyKXwWY8tOmYOhU1Lhx3qq4YtfuNYn0mv77x5wOq2tqhPOzrmx+TZUpHUf/yuzupy\n",
       "RdwgNBihmygeHvHjVzRJdTMLgj8O0X4XDvObbmZy66ReFzYtnlmc6qAtHNvCIfl/fLwbT3Yv5bHb\n",
       "dLDfOEF5s9SBZ5xbmF0Qde0WfpdhYD8cmvJGx3tv0LcUCvLmlz7PBusBEBwXAMQ9vuuqfCnqfH68\n",
       "vkI26/lA9kexJPrp/oiP3wAAQhFsy1BUvvelZbTZ8TVxy8UpPqdhn+oSUX7T0kaFjjdzOT6Wb9eP\n",
       "3LLfkdu1aWE8ksnIvn3o2Vw6HKDnCwkx74/f0ngwkeVjg/ZUHDo/t8Pq9jwxJABAKJphdXaIbpC9\n",
       "dZePCS+Oqe978Qo3r15ckMeE7/7ZM8bY8obBs6v4DH+R2WA15VMax4eCfF/pd6ju4go35LXs3rTc\n",
       "pXqFdmWEeJsCABhP8FlFhHYFAHj1Gv10Ki3HN6MRPoNmA5/v0qI8NwEb/WUsLo9z9SaeO52V4/hq\n",
       "DcfAQoGfQwIAdHroT5IDj21P5HZIZjB+y83J13B0gPdk27IvsHp4v92GHBNlMhhPrKxmyWe2w9tB\n",
       "JNKhujE/Pzk6oX7VnvB+wxrT68vn+BgnXaA+ci2M/nNQb0zLAQBgdm6V1IeCmx0DbfMnP/DvIAJT\n",
       "lxaP82P34vwWqZvjI1aXTNG2a7fwAlsdeRP1RBxtqV7nYxgAAMtCH5lOy+Nm1/OuJ5iU/Xup8Mgt\n",
       "l0+xzYORfU4OAACFBYyLOh3ZZpORVbecuCZuqXnmqNGEPM842kcfV2tju05kVwDRIvqCmbg8JkcB\n",
       "5zCdekfUVRt4rbc2V0XdBNDvn1fpe6w7Ow/YY56/2KV/mNqA/F/Y2cGxp3op+5ZIEMfrTv2a9xmB\n",
       "qlv++JN75LOvvuLnNHcXVkndrPEbkz95SW0+7vGLXorzTVKfmeN9azhE52wtjw8/fCvHvIkUXl+9\n",
       "wb8HBABwxvjctu/yY0K9QWPmbo2PH5JZeq/DMe+3I1Pvg0Ye286m5Jir00b76PVk2zYM7P+RiNxZ\n",
       "rOFtt/zsiRy3gPOtWyzNYv//nUW572bTOK7HQllRV6vhGLN3zL//BQAIR/F5/s7vPxZ1zTbGYoaB\n",
       "vnNxVZ7PVK+wLc+Fd9AAALdu4TvQQEj2g/E4xkFjk+8nAADvXr9xy3cf3CafhaO8zbZb1KZefs+P\n",
       "c8vrdD6dLvHj3MYWfc/Q7PBzqeEY+9of/PFn5LN+j59TvvjhkNS3bq2xusV5Oq49f/YDq8tNxWy1\n",
       "Bh8zjAe07RwH++XElmOpWAJ9TUh+XQLNJvqu5VX+ngAAuoc4xxwM5ZjcZ2MfHfT5eamu9FEURVEU\n",
       "RVEURVEURVEURVEURbkB6I8+iqIoiqIoiqIoiqIoiqIoiqIoNwD90UdRFEVRFEVRFEVRFEVRFEVR\n",
       "FOUGoD/6KIqiKIqiKIqiKIqiKIqiKIqi3AD0Rx9FURRFURRFURRFURRFURRFUZQbQHBhfSR+OLcy\n",
       "dstv37RFXSYy65ZP9k1RF4lE3fLQqoq6/d2KW86nRBlk0pZbnp+Nks8SuSx7jBOg9VQmxurqtRqp\n",
       "X102WN3EOiP1XCrB6uIR2n7xuOOWD16fTcsBAGBudp7UQ6EMqxvatL6wlGN10WSE1LvDPqsLBmij\n",
       "+52gW377do89BgAgnSm5ZV9gRtT9+ldfuOVs+vfk8yWwLV+9PBJ1q+tzbjkYa7rlXnsoHmP4i255\n",
       "NJL7QHeMfWBuaVbUDYeXbjmdi4u6yuUbt/xg56FbbjSPxWNO36N9NNuOqNu8u+KWr+pye80soh18\n",
       "8MkdUffPX37nlrO3Fsln3z59xR5jDXykvryyxuqMIP29OR7l++txed8tb+/cFa/VMNBWJvLjhEQ6\n",
       "5JYvqqfks5HF94eNrWVSb3d4X1C9om2+vMY7r/G4Q+oLc2lWtzxfpH+YeI6zBuwxAACtGtrL1saO\n",
       "qEvFDbfsi/F21fr/2XuPHnmWJMHPIjNSRGqdWZWl1V+LJ/q17p7pnp2Z5RJcgrscLAnwwBtB8MYr\n",
       "9zPwAxDgiZdZgsQSVLPDnp4W2/3e637qr0VpnVprycObCQtLmBX2XLDfyb3SIsrD3czcPDLdvE7H\n",
       "05x7WLl2g7ZnZqDdFM5qYhumUyxHw5Yot7mzapf7A3kuMi2cf/KJsChXK2P74nmUW8u7OXEAAPjg\n",
       "6a5dfvF+JspNh+h3zk+KopzLwHvc2ZPHyePFMdjaQBt3mW1OHAAA6hWcX90efk4CAOiPcQ4dzyai\n",
       "XLWK4+v1GKLcdIzPNF+436TP923xnNpTNMj7glKd2tdgUmbl2n2qo4bpY+XKlYX2jbysXDyO/Xd8\n",
       "+oZ8trTKxw+9AW1bd8TbQLNF7cZj8nY9mZmknkjwscB8TsdmyfHs1VZ1URzlskn8XyE+fgAAGDSw\n",
       "z2Yu2Q4DQWzvYDgW5RpN7Kf5CP2ve8b7GQCAkA/v7ZqYotxohn2RSspzcrWO88Cw3xTl7jzYscvt\n",
       "DsYZgQCvAwAA7TY++7OXJ6JcfgV9XzrDjy0AQKeONm+6eX0FAOh2sDwc0nH3eHk7DFl0Hjo5fMvK\n",
       "3dlFX9xqyGMbDmKfV0tyPBLy5e2yz50in7lcfLyZiN8h9cvCESu3sbdO6r0Bv+5IZaiPuDzn53i/\n",
       "Rfuu21hm5a6uDkh94oihwSX7z/4Y568ZyLGe30J9GQu2Mhp0Sb3Y42O2mUHnspUQzkXlcmdR3GY+\n",
       "wz6azuSgq9vBWO8mW7HCOA+7TNn+vV7Ue68P7z0cyW3NLqEPj8f5+QUAoFLEfs3l5TnedOE9ZlM5\n",
       "Zqg29rF9R+jblzI7nDgAABwe4Bwznsn33t/He29v8HE2AMD+wVfYhht8cTyGc8BwQGPeqTNQc1C5\n",
       "pnYzmvDz13DcIHWvn9eXYJiuC0wrzcpdnNO4au6wgZX06qI4AAD0OvQZrq6FOL5B2xoI83OH10vb\n",
       "6onycdb+O7q2m0543fZ4qb0mk+iPM9kbdLaM85fHI/+OdzTGuePqWo4FttfQH48nsk11HLGLMcdn\n",
       "395OcuLfylkFu+zzynHp0QW2r12WY+jd+6inbo/sg+4+xGd6d4w+ttWR/UxvgLY3nsgvorxu9BOR\n",
       "uDx3J8I4hrWa3P/9AerfcER1QpoT1rapzl9f8fc/ucA5PRyS11vO/3JwtC/K+QLYvgcPHpHPsln+\n",
       "HVDcRW26XOFjLleO+pZ4lo/jEwvv/hoL9vuPDPr07/kcjsf+K94XAAA0Oxi7/OCnj0S5UATn9cvz\n",
       "C1bm9Wv6rs/y8Xq1Bluk7vH7WTmXQWOJXhvj86szOea6f+9DrMxkG09lcS3Q7sjr+MiyQ2e7sk2Z\n",
       "c7SP0Qif6a//l38rXvPhB9+1y9EwP7YAAJ9//qldTsb5uAwAYOponi94wxomgvZvuFDPu/0r8Zon\n",
       "38X/6zZkf2SFUZdrdf79LwDA/ft4v8P3ss/4+X+E4+nx0XfwoTi/TjANGlsspfh3EN0BndNfv3rP\n",
       "yo1n1Df5hXd6hiO2W1wnmz4+3nH7aBsaXV63x5fU7u4+4n1QtU51PhAS3k2U6DuW1TWcb9pd2W58\n",
       "Fur2TXOyP4hy52fXopzTrmOJjCjXajtsdM6vjXWnj6IoiqIoiqIoiqIoiqIoiqIoyi1Av/RRFEVR\n",
       "FEVRFEVRFEVRFEVRFEW5BZix8Lr44XTiSI+RSolytQpuYwtH+S2YAAAzwG26/pCcbmNndwPb0OO3\n",
       "lQMAtDu4vcpr0m21QT+/xbi7kPLgy0/fsHKWRbeMzuf8tlpvgG5VPTzht52FAnQrczyF9Y3tDfaa\n",
       "yZi2IRrjtw4nMnTrW/lCSMHUoVvpWv0uK7eUpakCVtewrZXqCXvNt+3AraBX5/K4OVMFDEby945L\n",
       "WXz+2VxOS7C1jWkhag3c2mgJqfsAAPo+bGvRJW8fnxrY1qUVeTu0aaF9RJOyDeQyjm27jpQE3/uB\n",
       "vG14/BjH/e0+n3IFAKDexq2Nf/7PfiLKPXiIqSV+++//XpQLRHBsIjG6VXApK6RFLNGUev0Wv206\n",
       "uLANvtfmtw7/q7/6Z3Z5fXONlQEAeH+A6V0O3srbml2OXZzJhG/hMz41Za1G25ZK8unYNjb2SN3j\n",
       "5lNd/NVffY/Ue00+rdz1Gd1G/LOf4HVTkFN7DXqYQsF08/cGAEjGHbaX5FPO9Bb8b1pIveUa0W3X\n",
       "O6u4LblSkbfB1hzPHknI9mVF0F5fv5W3V7sdaWbScTlN1U9++n1sXwHtf2bwPhEAIJXDNJL5npxe\n",
       "7/GTH9vlTk++3/E52vIU5K3b5St8plQG7S6VkrfR+4LYl72+nHL1qoR9WWuWRDlwof2nUnyqAQCA\n",
       "4gX6INOkuvP04d6iOAAAeEyqO+ubK6xcrEp9y3DKxxDLy0uk/vr1O76xc5q+xwrzKRnyW9ie4yt6\n",
       "zd2dP2ev+fyLz0nd4+NT5z1+Sv1+o1Ng5Y7O6dbvxjWvV6ULamuGC9u7c19OT9rvY5oDn0e2m9MS\n",
       "6mk4LuvBkiN9QXt0Lv/fIdrRrIfOuVmS/ZbXje0LBWWfsbSBn63meZ0CACg57H8OcpxrOtKiFUp4\n",
       "TTonp1aqNHDuyOflFDG5LI7NTemn/viHr+1yMs7PQwAAaUcs9uQpTXGwf/icvWbYpXPKhx/zqV9f\n",
       "v8WY2euTU2AtOdKTLq/I6ax+/2v0g5vrefJZNMo/42BhvpFS4h0cHJN6Ks2ni0ql6NgEfbxv6fdp\n",
       "yo5ug/fBhWvqSzfWcQySKTklYTSBvssFchq40Qh9q3vG22F+m45N5YpfE42G9NlrVfQFbq88fyVS\n",
       "aF8uQ455L68xHnP75WcyHF0Zi8m20utg+5JJfKab+suZTsnlltPm3XuMKYTPbkjNOpmgfzJNOQWb\n",
       "34f6GwniOurk9KV4zcMHH9jl4ws+lQoAQD6DPiMW5PUaAGAUwvQuPZec8jqXQR1tt2namznwqWo8\n",
       "ERob+918X6ys0fRT/QEfEy6uuy/P+BSuTx9+l9T/8Ptndrld5dcco4XUdpEk72fvP6D+/Pj4mJUz\n",
       "DDpPDlp8Gp3yQljREcJha8HlFC5xzj+LyqlfolHU++FITle0u4fP1bshLrXcKDeZvBDlpq4TuxyM\n",
       "oO40GnLa0Wkb/XvbJac/SmQxLnj0gbzu297DNJ+///wbUa7RRl+Yjt+zyx5DTudaKmPcMrohzZ3b\n",
       "4X6zCTmt/dUVKkIkIMdOeUdatKVlmsrnxduDRXEAAAiG6Tz55BO+HXt30V9enMlp2ywvrhn2Hsop\n",
       "4GNxnMtqdRo/DIXUu492adt6vSVWrlqndvz8NT++9Rp99uO3fKw9G9L50PSg74resPaMhtHOXYIf\n",
       "BABoO95hmAYfF9y5Q2Pw8YS3w+mUPvu4y6d0qhbpHBV1pKLMCSmgAQCO36EupjN8OkwAgPWlbbv8\n",
       "5r0ck5caGI/MZ7JNXZ/ie5pEEN+FPXjyhBMHAICgY3hfvf1KlEumNuxysyKP09CRdi2UkOPXguNI\n",
       "j2wO192TvpwGvdbAdMQ3xTBjRxr05SV5/XB+inHkcCL/36EjTfugRnVKSgXeXoj3o8KRKFEPnZjc\n",
       "IV5fgjHq9/uL5478Ay4D4692k+rKygqflu/uQ9pH7Rafpnm6YJ+jKd9n3S59fzMY8e+X1zeovfZ6\n",
       "aONzU57n3h+gn35yg24PrtB+iwU5feJkjO/qfB75/7oNlPObvP7pTh9FURRFURRFURRFURRFURRF\n",
       "UZRbgH7poyiKoiiKoiiKoiiKoiiKoiiKcgvQL30URVEURVEURVEURVEURVEURVFuAfqlj6IoiqIo\n",
       "iqIoiqIoiqIoiqIoyi1Av/RRFEVRFEVRFEVRFEVRFEVRFEW5BRj/6X/7aC592Jtc2OVmsy3epN+K\n",
       "2GUr4JP/m7tqF0O+jCh2eei3yyZ4RLn1zbRd9oZ75LOpUWOvMT30cVOJHCv34tkBqcfDvFwwl6L/\n",
       "d8T3U7d1TOrJND5jJLLMXlO4HpG6xzdi5QzzitTHFb6tlcqM1PuTCSu3tkXHMJXC/+vzeNlrAAB2\n",
       "tr9jl9+9uxblLo7rdnk2lO+3tobfSc7mblHu7PqdXd7a/MAuv3zxhXjNtIO6Y3oHotzOnU27fHTx\n",
       "VpRbXovb5Ug8IMp1W327bExRrlyQ7Ws8GNvlZDotyvlDeL/BtCfKvd9/aZdnU14HAAAsL+ro3b0H\n",
       "5LNJf8he8/nvXpL6auYeK9dutki90zln5b7/00d2+ac//4nY1nf7+3a525mKcoUC6mUwHKJtanXY\n",
       "ayzLIvXJlH/2drtI6vmVFCsXj1H98LlCrJx7RH1fp9mwy7nlKHsNANW/V+/ei3L+EPrtky7vL8cN\n",
       "+ruAdCDCysUs2icuwDGo1Pj+AgCYmahjY7ess2f7aDfTmSy3e3fHLl+cF0W5gBft1QXoW6JhQ7xm\n",
       "NMI+crlkG+8PcY5JpPmxBQBo9NFvm+4b/ODyj+3yZ5/+zi5PZ/x8AADw6OkStiG5JMrV2jgnT6Ev\n",
       "y9XQXl1D+dmTUdSP4aBKPvPPZ4vi3+Kheh4I8jq2f0jnlHgqz8qdnNG51iXMm0t5+n9Gfd4XRkJZ\n",
       "u3x6TJ/p5avjRXEAAHj0iPrLYvmElQvFqL5lcmFWzhOl+mFO+N/rmFOT1CtlnGu91g3zUg/nwOlU\n",
       "9p/lYskuT3p83AIAsPcEn8MMyHPb1SnqlTXBueLzXx6K1zQbOAaf/PCOKOeL4z3mU9m+PAb6gvlM\n",
       "litX0P5jabxmNBNDaHj99sgu72ysiXKDAfZ/pVIR5Z48eYL3fvFclNu7u26XN7dpzFAo8TrrnydI\n",
       "PZGxWLlKBXWgL4dOsLS0YpenY1mwUsR5bTLwk88GI75vY+kuqX//T56ycr/4xR9IfTTgnykep/Np\n",
       "p8XPh+Ewldvc4m3gunBC6pZjvunWZR07OUF9efgBHz8AAOzcwbGaCH6116N/b9VZMRgMqf8dTXC+\n",
       "toL+RXGbTscRL5myz2h3UV/8sRvmzS7O6/GwHN90G/h/kzHs116Pj98AACIR9Ee9viyXXEJf32nI\n",
       "cUunjZ+ZLnlt0m3jMzUaqFOpuDy2Dx+gjR9fnIlyhsM01tZWRbnL81O7HL2h/wcTbKt7YZ3sNvm4\n",
       "yJjR+apcabByi3bjtXi9cvpBAICj/QNWzu+hcVWvg+PRuebHw/TR+T25xL9bGExp3JhIBlm5q8sS\n",
       "qQf8/Lo7HKDx1+EpP6aDIZ0n79zBMe32eX8EQH3X9saOKHdyjPHm/XuPRLlYENebwisCAACYzTEG\n",
       "KRYL2IbdDfGat29xPH3+mCiXTKJ9nBb3RbnTc/SXa2vy/x30UZ+bdYwHi9clThwAAO7f27bLnXZZ\n",
       "lHOuH6oFeZyifow381l5HR+NoW18/vVn5DPT4tcT0RTVPSPQZeWCFraheMnbKgCAB7ANmaTsq8JR\n",
       "1IHLa7rWTCT5WLbdPyX1+WSDlQsFaXxfrLxj5YJeap+/+3dHrJw5pvrW7+OEGM/LMdzH38O49Oz0\n",
       "BlTm3wAAIABJREFUUpRLZTAWmM55w2m16N8jUX5tNp1RPyitH9Y36dikHL5qPpPXstk0vtd6t8/H\n",
       "gwAAtSbqveEZi3KhFRzrleyGKNeuo31cnuF4ZhJxThwAAJp1jGN2NmS/NZ/jGE7bwloTAF7uv7LL\n",
       "/ri8Pv/9pxhf/8f/9C/sss9rcuIAAHBwhNfce7AhyrkMjEMHXfl+1SrqqOGSY+jRCH1ap0t1LJ1J\n",
       "LIp/K9crkHqSFwNw0/sNZy1WLJKi62kD+HnY6Yv3tp6Qz9684Od7t4u+k65Ueb9t+WhcsbV5l5XL\n",
       "pKlvefeO9y3LK1Qv377/0i7XmrLPSCRRrzpdIfAGgOVlXCNdXchyXUe8GQ7z8QgAwOUVxhbbm/dZ\n",
       "Gd3poyiKoiiKoiiKoiiKoiiKoiiKcgvQL30URVEURVEURVEURVEURVEURVFuAfqlj6IoiqIoiqIo\n",
       "iqIoiqIoiqIoyi1Av/RRFEVRFEVRFEVRFEVRFEVRFEW5BRif/IukeBrRbIwHBs3m8iFSsQjK1ary\n",
       "ob17e3iQ7ckpf3ASAMCwjwcsruY+FuUMN7ap1T4hn6XS/OFYroXDyEZD/sCvwYgeHNWo84d6ugx6\n",
       "SHQoxB9O6PXQA2STSTwgqlq5WhQHAID1NXrIW6vRZOVm44WDttr8gdy9Jm1btcrLre/Qvnv0PWxr\n",
       "KM4fhAsAcHyGh76ZPvmAtHx8F685PhHlXj7HA9ceP+YP6gUAuLzkD9dbXZUPNz09xcMEU7EVWe4Y\n",
       "D4POJrdEuaP3eECd4ZZPv/zBz/bscneI/fV+/5QTBwCAUBzt6+LsXJTb28Z7//qXX4hyO9t42KfL\n",
       "xx9mCgAQz+DhfB4/dRO5GK/nJtBDiktnBVbu8D099DGV5Q/u/ek/+RO73Bzzh1MCADjPex515QPu\n",
       "z87woLNmk/qqoXAqdT5LD8nsNvkDMNt1ehBbWjgZ76On90h9JBxyPZtR37ScRn8wbMn+2OPBMd0/\n",
       "4g/GAwBY30b7eHbOH5zumlF/mYvyz5QMJUl9/y3qc6Muj5s/iIf/lepVUc7nONzUdMm/VXAeaNjr\n",
       "ygcxG4B95Oxnl3zGNkzn2Bduj3y4aamGz5Ff4w/3BQDY3cH+N8byoYD7ry/ssmlg/z97KR9wm8/g\n",
       "IYp/9p9si3L9OfqtwpV8UGcmhz6yWH0lyi1l8CDsSY/qSijMH/ZdKNLDbz0mP3csTHNgGFKfLczp\n",
       "c15uPKLtsdz8wbODAf7jZ9+8JJ/t3eMPinz9msqtr2+ycgf79FDnaIS3r5WFqSeZ5v2210sVeNTB\n",
       "+Xr/vXwouPPg2HBIPlS1WkUdOTsqinJb9/Gg4tSKbK/ZNPqNq32898Ub8RK4Okf7Mtx8DAMAsHsH\n",
       "dXbsOKR8kUoV9S+T4scJAKBcrdhllxfbelW4Fq9JZ/HA0OGIPwAVACCVxT6fueVDaOuOGHA6luXu\n",
       "7aLNR4JUz//kxx+x1/zuV9SugzHeH7T72OflktwG0/EcliUfGu2eoo72ylT3Oh7+wFaXi8aoSeGw\n",
       "adeC6ReEsfL6qI7WmvxctLZOY8VUMsPKtVp0zgv68RkNkz/gFgBg0Mf5KxLjYyIAgHAc58NExs/K\n",
       "1Jt0XTEa8D5j/zXt41IB4yLZxwIk0jh3J5fktna6aF+eoLx+mE5wvp6P5RiuU0NfFQli/wcDEU4c\n",
       "AABKZRz38aQjyj35+Ed2+aogr1ENxxnZXlM+kL5eR3v1WWgPiwd1O7l/H9c6R+eyI3TPcdy9Hnm9\n",
       "1W3j80bDN/S/w5/UyrSPXMAfHjwAqh/TxUn6H0gnaHx4VeTXBY0m9ZF+f4CVMxb+Ta+F/t3j4cfD\n",
       "7aE6NREOpF5a0OVQiG/DoEf7KBLh9a/qmDcAAPI5fn41F561XMH2eS1Zt8/P0M59Pnl8nYdc3793\n",
       "R5QzZujffX5Zry6LOP8v5zHu6/fld0C9Dtp4rSivC85PcG0cX5bXqOEIvqdxmbJNOQ/qXl1+bJfX\n",
       "lp5w4gAAcHHpWBMZcqwzamMbVteyolyrhX52Z1d+N5FIYhxaLFMf/ubg/aI4AABMF+wQZryOdbo4\n",
       "No+fyDrQHeLz1lvyAeNBC+fdxoJcNO5bFP+WOY1H3AYfd0/6dNwnwnKuXaN27J7wi7hhk8Yq8yHe\n",
       "P7Ui67k/hL6l1ZT7YjZG23vy0T1W5qLyjNSbXT4uXVmlMdrhMyHG9FKfll3C+bB6KcebvhnGIOmU\n",
       "7Fue7WNMGEnLuj10vItdysnzYTiIcdawh30Z9MuH0496eM18KsudONYjbr8c7w8d85zpkX1LNIk6\n",
       "0e2j7SZSchtiEdSBaPSGmGiMY/P2RVmUy6Ud7+pc8vuMYATjYbeH6v9VkX8/6vbR+8XDS6yc30/j\n",
       "y0KBn7v7fboWCwR4m6o61lvZTJ58Js1fhnvhXV2Xj0tDgTSpVyoVVi6VWmibwb+bqNXou4lsCvvo\n",
       "+Tv+nRkAgGGgziYS/Jp+sX17e7ui3MtX39jlgF/wq0DfJTbrfAytO30URVEURVEURVEURVEURVEU\n",
       "RVFuAfqlj6IoiqIoiqIoiqIoiqIoiqIoyi3A+NF/GRP37/u9uFWqecO2xn4Xt7Cv5OUtSpEobt0y\n",
       "b0hhMRnhdrKn9/n0KQAAv/rVr+xyOEy30g0H/Hat4ULagNySsNXaS1NbVKr8FrmtrUek3mrxqQPO\n",
       "Lug23cEAtx/e3ePT71xd0pRfgx6/vW8xJUxS2FZoBWhaiVevn7NywyF99qkjl8Huvb1FcZtcHreW\n",
       "enx8ej0AgLBjd+Tp0Q0pnUzcTjqf8FuAAQBePMfn2NpxtMEvbx9fzuOW1llHTiUxGeJzdJryM715\n",
       "hvqRWeJTfgAA7D5YtsvPXv3RLheq8vbx7PIndvn/+j/+XpT70fdwS/DWtpyy7uQM++u6fCzK/Rf/\n",
       "1b+0y8WFFAVXZ3yKp90tumV81OVTxERCdDxfvuJ18bs/+p5d/mYhZZITb8CRAu9ATi+QyeB29PpC\n",
       "Ojafh/8OfHVlmdSHXd7G7+1Q26iU+THttei2a6/F69V4YT97v4PbZ8N+eUu2z4v+86LIp44EAMjk\n",
       "0b+fnNVYmdmEpky4s7XGynUWUk8OBmhTzvYsUijjtmnTK/8GIZ7Cvi0L6TABAAZ97NvkDdtqE3F8\n",
       "9r4jfVezyafQBACYOFLdXVfktFLtAbZvdU1OF1W7wnQeb7/h0xgBACzl8Dka3dd2OZTi5zgAgId3\n",
       "MH2Ex5MW5fxBvPf8hu3jvTGmFwgE5LnbaSuNKtUpt4ffFh8J09QvJyd8X/R71E9HYrwNLKZqarf5\n",
       "MW22aMopj8mncXH+3+0F/3Z8zPtPn5+mDbi+5tMzTCcGqbsMPt3AeEL7Mr/KP/v6Gk0b0nM8+k1p\n",
       "FocD9JmTiTy+zu3zzeYN6SMSeD9/XE53Go040lFc4DX1azlVS/kcx7fflHW7M8GxifjlNIuxOPZl\n",
       "dyCnajNN9NOTCepyoyGnLmt2cY758KmcHsMXQh9ZqsvpHhJJvIfbc0Oq3X1MA3Nvj+rEzs7yovi3\n",
       "916wwxevfs/KbW6hL67KbgumU0cKvKKcpqrfQT/WKlMfsbHHj9vpCU1bOhzw+vK9Tx6Qus/Dp34J\n",
       "huhcMZnxKdg6C6lja0N+LtraoGmD0kl8rmpLTo9Za6KdN+pyGjh/AFM8LG/yPmMyotdbHn4+vDqn\n",
       "dtzv4JKw2ZZ1O57AFBnegCHKNdqoz8OxnELUbaDfCQXlFCrzIf6vfs/hq2ZyG1odtEO/Jffr/Ye4\n",
       "nptM5TiyWMRnmozknLCrjrSecwP9b7cnxxl+R2psf1hO5eF3zKeXF7LP8JqoH6ZL9u1eE/9XtUJj\n",
       "3JGQLWe0EDN4hNTWuSWaTqU/5Pu20aV/bzV4ffG76Bp3OsA54eKCj2XX1mn6Gr+P15fkQlrmfod/\n",
       "+OmE6lGrwa8LGg1qX+kUH2f4A/TvlRrqbFtIPQ0A0Gri//XekK7o7i6mCspl5bnIa2LfhuNyeseW\n",
       "I85ttlEPTENOffzsS5yX1tf5dEIAAAEL54Spjx9PAIB4BO2rXpPjkWYbUxItO9Y933zBp0sDoLGJ\n",
       "cy5bZGfVkQb9hv7PZXHevbriUyQBAFgB7P/DY5qS9+yMX1OubtB1xnKe9/W15oldDoZlHzvoYawT\n",
       "CsnrN9NC3XOmwAKQj3pIpWncUi/z718CJn2PMmjxviUaoe8SpiPeDsc9akOGgfbrj8lrRZijXPFa\n",
       "DngyKbzHzOD97I9/8jNSf/WOT9F9ckrT+L959SUr9+F3vkvqY8cxHC5Dfme7lsa4qt+R58PuGO3a\n",
       "SstyM3CkMXXL6aEHbdSregVtajyQ1/7OtIH3HshHLByfYV8upXZEuYNjjB2tkGyv4ynGPvl1jI0N\n",
       "kH3B5iba4Xgor3u6fdTRUkn2BbMJ+l/TLcf7aUfq/3aHvpuo1YT5a06fPZoQ5lprIWX4iH9PUC7T\n",
       "GMR5hIkTp49cnBunU/6dhmtG46BBn5fzeugcGk/w78KfPf8DqW/v8Ok2F7Mb9/vYR+mMvKYsOlKf\n",
       "1m84tiAYwjFdXpbvN3CsbwbCWgeA9m2lyPtf3emjKIqiKIqiKIqiKIqiKIqiKIpyC9AvfRRFURRF\n",
       "URRFURRFURRFURRFUW4B+qWPoiiKoiiKoiiKoiiKoiiKoijKLUC/9FEURVEURVEURVEURVEURVEU\n",
       "RbkF6Jc+iqIoiqIoiqIoiqIoiqIoiqIotwDjX/z3G3PpQ78nY5dHo6F4k9GgZ5e//nJflLt3f8su\n",
       "P3p8V5Q7eF+wy/3SsSiXy6/Y5XA4TT777LO37DXLuTuknoj5WbmZUSD1weCClYtlN0nd4+Pvt79P\n",
       "+yUYCdrleDzKXhMJhkj94qzIyhWuq6SeSSVZuUcfpki9WuefqdcKkPpkjG11e6fsNQAA3oBhl2OJ\n",
       "uCjnceN3jT6fJcodHZ7ZZcvL9ysAgDHH+7XaDfw/psGJ/8P/9djlqzcHotxf/Nk/xft53KLc/uFX\n",
       "djkY8opyQ0f3VRtdu9zoNsVr7j79sV2+PGmIcn/4/XO7vLmZE+XKtUO7vHt3XZS7uCzb5Z2tx+Qz\n",
       "0zPmr7m4IvVEIsXKWT6qY61Wi5VrNPHvgUCAlQEA6Dv801puU5R79fqFXV5ZzZLPJpMBe83yEpUL\n",
       "WbzOziazhfqEles06LP6g7y+ROP0efs99LOjvmyHoxG24+T8TJQbTrF96QX/+Y8s6nytXmblvF76\n",
       "DCt51KvpiNcVAIBqDe+Xzy+Lcsdn13a52WyLcg/uPbLLnUZflDNdaP+9Ht4vmvRw4gAAMBjV7XK5\n",
       "KfuW3//uvV3+s3/yF6Lc3//il3Z52Jbv5/dE7HJ+PWaX0yszThwAAHa30QbevLkS5VwenP5dft4G\n",
       "AQAsh86Puz5RLhJGnTU9NfLZxM37z0GfPofPG2Hl/Bb9e6FQYOXMBXO6LJ6wcvfu79J2DPn+rJTR\n",
       "50ajdF5b1Pt/pFYrkXowGGTlFnXZ7+Pl3LPF/9Nh5YKhhXlyatrF44MT9hoAgK1NtD2/V7aB2Rjn\n",
       "2mhC/s3QYIL/97pdEuWsGPZ50I+6OLzBvhoFjIsql7LccIb63G7I8+tyGp/97FC2lVgYx945X1nB\n",
       "sHiNYWBf7u3IcUEohvd4e3QkylXaGDOEI3KM1e+j73vwcI981qjzceTdrRVSD4X5pcHB/qldHg/k\n",
       "Z08k0FeN3VVRrtFEXfZ66BzQrfK+vl6lOnVva42Vy8RpH7lcvM5eXNL2nV3wfeSx6POm9/hY2wA6\n",
       "1pkltMtgTNZFK4hyrZYpynkcficU5f3W0QH1j5Jfdc1onNHtYFwwn8hxRmeAzxGLy3F8t4f+U+p/\n",
       "AIBavWKXQ5Yc7yfjuC7tdkZ22RLiMgAAwzH1RGMhUS4SQv97cXUoys1nODaF664oN5vh2GRy+H93\n",
       "dnl9BQAoVdC3dB0x3yKtFv7fpcyKKHd9jbFTtczrNQDAX/45rnVevqDrVdPgx6PXpzFWOs2vZd0u\n",
       "Glu3h3VWrlSjduh28TG/30V1edjGGHMqTAmRKJ1b/YKKVWu0j6bCuw+3m86TIYt/dsOgOl8v8OsC\n",
       "w00bnkgn7LLrhrWsZWE8dnwozx0fPn5il3sdWWdrHVwzhEKyXpkmjkEih+XDky/Fa9Ip9MfuaUyU\n",
       "u77A8SzUZTtMp3HdkkjJ9u8PoB+7vsI1h8cjt6FQxHkuEB6JchuJbbssxXkA1A7nhhy7p3Po3w6O\n",
       "3pHPQlHed3n9VBc7LV5n0ylcy45G8jMFAvgcXiEmBQA4PkJdMVz0mXJL/NxYL1Ebnw/5eHNtma7j\n",
       "j969Z+X6fRoL7OzlWTnnOzcAgFIZ2zH3yO9BZoD3D1ryO6BUDNv76We/YWU279A2tLr8msvyUbvz\n",
       "+/g4azCifV6uYLy0viS/Bxl08P/OTXmOWdtF+7qsyO8S4gGUm05kX/X2Ddpyq4n/d3d3lxMHAIBi\n",
       "BWPy/lD2W3cc67nrE3nNUSxi3DIay/GI5cexisWxbMnmAOEIxmW9Pr9GAwCYDdAPprOiGBwev7bL\n",
       "k6H8/isaxvd9Lg/ViX6f77NEgupYucm/a6/VKqQeCvHtSKaoL3XOSwSH7yuV/sPWyYOFWHg45N8p\n",
       "NRr0ncP9B7xetdrUB4Vi/DNdXlyTejiMz2iMZEWYztD/Xl2di3LJFMYM87n4VQz4vPi/2m3ZXus1\n",
       "tP/HDx+xMrrTR1EURVEURVEURVEURVEURVEU5RagX/ooiqIoiqIoiqIoiqIoiqIoiqLcAvRLH0VR\n",
       "FEVRFEVRFEVRFEVRFEVRlFuAfumjKIqiKIqiKIqiKIqiKIqiKIpyC9AvfRRFURRFURRFURRFURRF\n",
       "URRFUW4Bxn/9rz+cSx+Wi327nE7HxZsUS1d2eW/niSjn8xt4TflMlGtUp3a5XyyLcmcF/L/h2ML3\n",
       "V0aEvebO1vdJfS23ycpFIzNS/+KLv2Hl4msJUm+02qzccDgk9cl8YpdHowF7jc8bJPVIIMXK9boT\n",
       "Up9Nh6zc0jK9/vLykpXzeP2kvrqescuDSZ29BgBgMOzZ5YDQVgCAahHLe3dXRLlu78Iue738MwEA\n",
       "BPyWXZ6NAnb56rzHiQMAQL+Fat8tdkS5O3uP7fLp6StRbgzY1o+/+1iU6w1MbKvLa5eLtWvxGpfV\n",
       "ssuDrigGyWjeLr989lyUM1z47PceyG31mTiGv/71F+SzyWy6KP7tvU1qh9mlDCt3dkbtv9nk7ebj\n",
       "Dz+yy4O2/PCZdNIun56/FOW2ttHez86PyGery0vsNZZlkbrb4L8r9/tDpO51e1m5Sr1C6okU76sa\n",
       "rRKpuwDHbTWzyl4DAOCao4598fVXolw4gv835JFuRp+10eHHIBBK0j/MfXbxmy9fi23YXFnDf2WI\n",
       "UxGMHR+trsi+ZThE/5TLJEW5uUN9yyUcj0AgxEh/SyKF9zu7nohytf57u1woHYtyrbLbLvsgLcrl\n",
       "sjj3un34f2uthnhNNpvF/9OU/Vu7X7PLXp/8G5BIaNkun7yX/68LcI5fWqZ96Y7wNg7gJrVYlO+L\n",
       "WpU+h88KsHLeIL1fOM7b4fXC2AQsXl8OD05RZkE/RqMRe83uzhqpHxzss3LxOI2rTMPNyrWbBqm7\n",
       "TV7/5rMxqderOL5LmeyiuE3Qj/83m0mIcpcX6Lc9fFMBAOC8iO31x3Oi3NyLupRZxnFyz2RdvDhC\n",
       "v3j/3gNRLuBHfbs+leNI3whjkG9+WxPlZj1s03SGPmMpHxavicVidnk+l/1b1xED+qKyD3r27q1d\n",
       "Ti7dMJ4RvIfXogNVLF4tigMAwGqGzkP5PB/zG3O839VFU2xDIIRzQHvMx5oAAL4Iyi0tbZPP3n7D\n",
       "+8+tPI3b33z5hpX78MEHpH52csrK9YZ0Xgsl+DF1+6lehpb5+LVQfkfqiQTGEF6vtShuM3CsE6qN\n",
       "oig3dcQCySQft0RiPlI3DR8r1+1QH9ZpYBuSSXleKhSd8bk8H4YjaNd+P++zAQDevcMxvMlWVtfR\n",
       "t/Z72NZQSLabmYHrOdNzwzxH2ie3YTJGG3jx/ESUMwz0g4kM9r/blO+dTePzvXrP6zUAQDCIzzsd\n",
       "y/3v9WL/hwNBUS4aRr8/ndA+ikaEufEttc/ZhF8XjEa0fd0hv+adu+k8B8IcE/TSOd09x/Gduvi+\n",
       "HU/oGjKdirJyozGNM+JRXmenU/qszv5zUqsu+Mghb/8eP33Yi2u0r+Vl2ddbPo+jLNvXpI92Ph3P\n",
       "RLmxQ7c39uRY++gC11mlCsbdH3/0c/GaYRfHt9kuiXKddsEuX9+wPl/Nb9jlRFK2//3DF3Y5k8a+\n",
       "LBalmBQgEkVbSWR53wkAMGmjrfQGfDwIADBx2Ea7Kz9TKos+d2ZQne32+fk2trCGLJ5XeLkIxvGV\n",
       "Ci8DALCyhuPe6chtnc9wrWkFF3TKzcdSxojOrUFhPgx6Ftbdgsssl6qknlnaYuXOzvuk3h/ie67X\n",
       "Z7/gbw4AWxsYawQtaaEMYAI+fyTCr+kX56hyjY9LA2H6f0yT97/dPh1Dpy8oX8u63WqjvX73h3IM\n",
       "fXaF76UaLXnOioUcfsIlv6szvTgGAYeravfk94p+H9phsXCTHOrV1PGebRG3G/toMpHnTWcs5vHg\n",
       "NcOB7DtHA5Qbj+Q4I5FA3bsuvRPl0o73WrWy3NZmHdu0vZMnn9WafAydzlJdnAjxYa9H7X8249sR\n",
       "DFF77XR4/Wu18H1mPk/j52q1uigOAAC5JJ3/Mjk+Lv3iy09JfWmZf//Y6dNnchm8vpge+i68cI3t\n",
       "C7ryi+L4WRD78qZ5rtfDPlrf5P0WAECnjbp48P5clHv08EO7XBbePelOH0VRFEVRFEVRFEVRFEVR\n",
       "FEVRlFuAfumjKIqiKIqiKIqiKIqiKIqiKIpyCzAbFXkr3tuXmMrD+0TeNvzw3lO73Gr2RTlnmqQX\n",
       "z78W5e7u4RalwJKcxmjswS3iLu/Ctlppq9qQbg88Pue3qnlcNE1KKMJvJ5sD3abe7/Nb2nwL2+qb\n",
       "ju3QmQy/Ba1com3ttMesXDRIt2BXavx2MstPt8h1mvyYxjL0u8BnL7+0y1lhWx0AADjSSpkuvq0A\n",
       "AMEYbs3//A+/E+WiMWxfLCqnJTht4lbwp48wHdhwyG8VBABw+7CtniU5BVNjhnpU6snboZMp7NuT\n",
       "Sz51AQBAo4Ofleq4Te+HP3vKiQMAwN/8r/h887mcsu7OXdyu+YPv/6koVyrhlmJjItv13/36l3Z5\n",
       "OqVbe7NL6+w1zS7drjwDfjv604/oVsZGnZerVDAtUjIhp5is1TGl1sMH8jbJVhP/TzRIt6NeX/Jp\n",
       "b5azdAvq0SGfImZ1laac8QupFoYmTQtxVeH1dDSkvjTsQ128OJG3eM766NPCN3yv/2ADx7Be57dN\n",
       "L/qtauOElXNuPwUAGI/wGbM3pKI7u0BflY7HRLnNO9gOj0/2LdEgppIyQdbtuSPtSn4Jt/D2hvJW\n",
       "XJcHP8ut8D4bAODdLx0pzpJ/Kcr1r1G3XXN5nFoVbN/cg2mIph65H65r3+A1I3kbcr2MOrW6Jj+T\n",
       "14W2kk4ZolzIQh80Mxa2UAvpDj0Lf78+53V7ZSGlU7XGp50wTWrXh4e8fzfMBZ3t8/dbTmNKjIMD\n",
       "mhIyKehs+YL6wbUcPwatBbtbEbZ4nwxpqozBgE+j4zbpNvVECn1mKCbbQ7uBftGsyynOuo74xmPI\n",
       "aeDWNzHVQn8u62mri23qlNEGrIA8h2ZWsM8vinJa1IEjNfC8L6fleLiJ+vezH/FpOQAAemX0x1dH\n",
       "mBooNJNT4Cz5MV46vD4Q5Ywp9tH0hjn+Rx9ibHxYkO+3uY4+9/kbmuo1EhNiKZOOk8sjpEnqO1Jq\n",
       "hW9Ie+NIARuw5Lk7HEafUSzSlGb+EN/WxkLKCW+YlzMWUib1prxeLW3QFITeoJAeZKFPWm3eVwV9\n",
       "1D4DHtTzSkFOD9JzpD/qDWSd7YwwRUYuyvet303bcHJyxMrN57SPsin0VUeHcnqx5SXss6W8PHcP\n",
       "HKlbBmPZrsGRHsc05dyRloX2OpqiTc5uSCvjTOPSF3wnAMBqClPl1evy+qHfw3skYnIa2VIF/VM4\n",
       "jH6i0ZBTpO6/x3V3Niunxmw65o71DTnGcj57PHJDDO1IQzZdcNmtC769uQy1u5cv+BTYwSBN6WT5\n",
       "efuKZagvPT4/ZOUWf6+adcxztRrvPy1roQ2CTwpadF47Ozth5QYd2knJOD93VMrU3nd2pfQ41Jc6\n",
       "179WQPazsSi21z2XY7PTK9Tnh/ceiXJuD75LiSfk9X6vg77w8X0ctznIKc6+fo/vfVwz+ZkiAdTn\n",
       "3H3ZF8xnqLOzMb8uAwDYW0P/1G040sHX5f5yO9LGe8bye63WCP2OJcxXAADFisO+XLIPMjz4WW0h\n",
       "BVs2z/uadrtF6pEEr2OmD+crsyvHGYHAnl3u9/i4HQCg4FifTyr03dfu7h32mtVtmo60I6z9RwM6\n",
       "V6yv8ykOCwvpq8YePmXaLEjnh/4E7fLOvb1FcRtnykSPIafYMgzUkUKFP74i2KM+J5rmUxL2BgVS\n",
       "H7YuWDmfQf3++1fYl840WoukHH72SJ7i4fgcx7TaOhHlfvAzfO9mCCmqAQDOzzC+y6VxvTkSUl4C\n",
       "AFwd4zXDkWyH2RTOKcGgbNemC2P3hjzFg+l4N2Y61qheS7bdgQv7K7crr6dLZRzfTFaOnZxPcUPm\n",
       "eZhNMVa8PKfjPgPefrM56n/dQv5En4/Gob0ev57zmPR+8xk/VqMB6ke1TH3QaMTHvJ6FXOLtFv++\n",
       "anl5IY738s/eXkhpHAzz89zhAbVjy4/2m8rI49YZ4Bh88Il85M3X3/zRLo+F/gIA8IXwHVD7hhSi\n",
       "1xXUq81dfl2qO30URVEURVEURVEURVEURVEURVFuAfqlj6IoiqIoiqIoiqIoiqIoiqIoyi1Av/RR\n",
       "FEVRFEVRFEVRFEVRFEVRFEW5BeiXPoqiKIqiKIqiKIqiKIqiKIqiKLcAcz6UD90KmHhyVCQoH1pk\n",
       "efHwurPapShXreAh1B89lQ83evEMD4cbzeRDT/fu4MHOZ6f0MDfp26yJSQ9iM4w2K9ef0sMpX5ya\n",
       "AAAgAElEQVTlPD7+ANJpfeHvbv4/Nxv0/zRbeICV4eIPyYzH6YGS5QJ/6tgc6AF1kTB/KJo/QA/q\n",
       "mgJ/gF5l4YDsmOMwx9Mj+SDW3Z0du3xxLh8yvHt3wy4PBl1RLjDA57huy4cOuhwH0R7u48GpjRb/\n",
       "fAAAXi8e+haIrYlysfSKXR6/kw+4/voZ6t/aDYeqDkb4vJEUHij31//m78RrfC1s39qm3NbiNT77\n",
       "xrp8iFyrh3o0acon2f3gR3hodLtLdbRe5Q9zCy0cKpxf5f1GNkcPTisW+APcCo5DLVfy8qGipuNg\n",
       "zFFf9hmWhYfNBbz00E1zxvuCi9MSqcejfN82a/R6K8cf6jkHeshgucjrVTxBD551HtbXEA6/BABY\n",
       "z+CBl+kbdLFaRF/d6PIH3o3K9CDRTo23fytMD4m/uMADQ5dzS4viNskEHlC3viUfiBzw4yG5K3lZ\n",
       "twMW9u3vfvsbUS6fx8OqW3U8dK9/gz8yfXhI4Mgnn3559wnq2Ke/+lyU6zWwz0NB+RDqBw/Rb7eG\n",
       "2NZaXT4I1zTRTxwdy4eP9rr4f03/a1HOY+GzV2ryQZbhTYwZXG6qO6EgrwfzGT2YML/Mj+/W+gqp\n",
       "u6HIyrn9VJcr9WtWbjii8+HO7gYrd3BwYpczcXpQ5NUFf8Dq/XvbpJ4U4ifvQlfuv3rHymXWaNve\n",
       "vimwcqaX+pbNHbT/YpE/4BYAIOBD+2p0ed8OAJBaRrvxu+RDi69rOB8aXv6AUACA5YzjMFfHAZ+u\n",
       "uZ8TBwCA2QzlZiDbzQeffGyXT17zOgAA0G1i+3JeeX5dXcE+ik7x0GjDkGOTSATnzbmREOUaPYy5\n",
       "Ri7ZXr2A9r+3wR8cDgAwm6Bv/+DxMvms3efbG4vS+WYpx+vsy+d4WPvenhzH/9v//d/Z5SdPPxLl\n",
       "4gFsX71wRD5b39hir7k4PSH1jbt5Vq49oTqf2eL7zOWl66ALwVZML53nNrd4Gzg5pofptqdoU72m\n",
       "HEN7vdi+QJx/dgCAoOOg2F6Xj1t8HboWyWX5g7BHI+p/Oz2MLcYT+dDYWt2h2yA/Uyhiip858TgO\n",
       "S57O5Riu38f/5TzYeTKV2+o8iNkw5N86Xl1irBcMyodLz+fodza21kW5aALvkcqgT2t1O5w4AADU\n",
       "GviZNyCvz2Nx1JXRWL5foYBzhdctj0WrheOZStE52GUKhzwvHN68trrMylkB+n8HwPug3oTO6dkl\n",
       "3r4GHTpHTaY47/kD/NzR69GDkptt/qBzc+FA6+xynJUbD6m+eYS1/zcv6Vp4aYW366sSXWesbeB6\n",
       "+vhUnr8iQWzHeCjPHTFHDDI15Nhx5Bia/UM5zs2vYWwxGOLaZDKRD1HvtvD/Bn1y/PDgDq49raAc\n",
       "k/tdqKfPv3omygVDaK/5DWzfrL/PiQMAwPoGxpv1Bv+OBgBga4PXj0V6PYyH5zf4II+JbV3K0vkq\n",
       "HgksigMAgN9NA8lOJcfKteroCwIWv+YGAOh0cR7uDvhD0wEAUmkcz0h0l3zmcvF68OLN70l9KbPJ\n",
       "yk2m1Pe9PeDfVbj99FlHhuAzZlSPGj1cd68HtxfFbQIW2lSjLsfQLsdbx51d/n5mgM5rviAfa1fq\n",
       "1AcFglFWblCn7w5mriu7/IOfPBLburyGuv3itWwDd/YwHn72lWyHv/i/ZT/hZD5BPT0NoaPJZWUb\n",
       "crvRn6ej8nvoyQj7st4NiXJ726hvfpf8TIUSxvgeE+eOO/d3OXEAADhwvB8tF2WfPZ1grD2ZyrGO\n",
       "z0I96I0ORbmE4x3Lm2cn5LOHDx+y11yf0/sF4rxvCYVoX44Mfo65vqC2kU7xPmgWRp/hW4inZ0M+\n",
       "Ljg7pfc2Td63PHp8j9THIz5uuTihzz5q889kjKleNto4vi7zdFHcZm0N46BeX/afzQ7G2nNDXndH\n",
       "Yvjuc2VTXvd5LLQv0+qzMrrTR1EURVEURVEURVEURVEURVEU5RagX/ooiqIoiqIoiqIoiqIoiqIo\n",
       "iqLcAvRLH0VRFEVRFEVRFEVRFEVRFEVRlFuAfumjKIqiKIqiKIqiKIqiKIqiKIpyC9AvfRRFURRF\n",
       "URRFURRFURRFURRFUW4Bxr/+H//zufTh5toju3xyui/e5Otnn9nlUDgmyp1f4j2+88lDUe74sGiX\n",
       "T6vnotz2xp5d/uNvn5PPNlZW2GuWszlSN1wTVs5l9kh9NG+zcsP5jNSnU5OVC4cSpN5sdvHeowF7\n",
       "jQH03pbXx8qt5tdIvVIusnLBiIfU3R5+6Kdz+l1guTy0y5nU2qK4zZdfoR7s7CyJcpeFM7ucTmZE\n",
       "ubt37tvlL774WpQzwWuX/X7LLl9f8/0AABCJRPB6r1+Um4xQD2YjXlcAAAK+gF0uFGWd/eh7j+3y\n",
       "q7dv7HI8wesrAEDSg58NRg1RzgqjvlSachvuPdi1y6cnV6Jcz2EClxcV8tn25h5w3Lu3SurHRy9Y\n",
       "uVAoROpL2S1W7voK/6/pl7+jzmTjdvntq7ei3GyM9+jUFuxuxtvuSn6D1CV73T+g/3djkx/TqY/+\n",
       "n3pTHlMniXAU29DuinLmpG+XLWsqyuWWsc/abQ8r4/V6ST0aSbJytQZtT6lYt8vValVsw+7dTbu8\n",
       "s7suyj1/8ZVdzi/JtnJ+fGmX/b6wKOe0/04X25ddiXDi394vgP7SsPj+AgB4+xr9W6nYFOVODlC3\n",
       "N1flZxr0x3Z59xH20VXznXhN+xrlyiW5DQ+epO2yL3wtysWi6Kc/+/WlKDeboQ8KJTrks27bYK/Z\n",
       "3liYK6ZDVu5H3/0JqX/zFR+TvD+mvi+c4sfUDND6+dkFKwczt13cWtsmH7ld/DONBi1Sz2Z4uxkv\n",
       "+BLD4O/Xm4xIvVTqsHIToNdP3diXLrd3Udym38ZnHPZl3xJLoP9cW+WfCQDAANNR5v0lAEAqjjFN\n",
       "pYh+sNsLcOIAAOCN4NzhjvK6AgCQTWOsFzFv+H1TFe16csnHWAAA1hDvEfSgjw3c4AuGKAYer/xM\n",
       "9Q6OZ28+EuWMMLZ1FhyLcu0J9mUslSafdQb8db0+/b/BIB8XzV3Yhkwmx8oAAIx6qIvDnrjMgOff\n",
       "PLPL03GffBZbzbLX5PN5Ui8W+Vgvm6XXN6q83RwenJF6Ls3Huaab9kk2y4/9+30aC8SjuC6q1/g2\n",
       "AABYAfRVLo+ss6ks3u+6xPtt0099gd/i7+cP0WcoV3C+6HV4fwQA0Gzgmigale0m4bDxTDIhyl1e\n",
       "lezyYCjbQDCKdtTp1uxyv9/jxAEAwOsJ2uWAV44LRl18pkBYttdeF9vnt0Ki3HiGvtR0xGKNmuy3\n",
       "TBfalN+SbXw2x3tH4/IaZjm7bJerlZYod3qCepTLUbuuVsvsNRk/lUvE+bnWcNM4tNQssXLnRarL\n",
       "KxvbrNxkRNfG7Tr2hdvH+5pKmT57JsP7lmaDtmFzO8XKjYbUjgNWlJV79s17Us+lNli5WpXGaZtb\n",
       "d+3y23cH7DUAAI0GPtcHj56IcgE/zsnVCj+e3/7fO3b57PJElFvfxBizVMQY2mMGOXEAAOg10UaP\n",
       "Dg9FuQd3cI26nNgQ5RpVnOc2V/hxAgBIJNHHOeObaFh+/2CFsb9OLvl1LADA3OFnx9OZKNd0rNkm\n",
       "Y3k+bLfQNzj9FoAYGkM4SN+7NXtnrJzLRF8ciMi+3RfCmK0/lN971CsYU3ba1Fd5rEXpf2gDUN/e\n",
       "6fJrVJ+X+pJKrcLKrWzQOcX08/ebLHResYw+KDh3L4rbeAyMn4KWPM/NDJyLwMX7grdv6By1srXM\n",
       "yu0+pP+nVuX95aBOfdC0jePRrMrPNHbhWPWm8vq8UcH5cNqV57lJH+2oUDkV5TIr2D7nq4RkVlAW\n",
       "AKjV0Vfll/j+AgDI5XAd2azzugIAcHaCsWIkKNt/vY7vMJIpjBm81g22O8D/G43L/VUv4MOPpn1R\n",
       "bjmPcvk1XqcAADxebFM4SO3mV7/8NXvN9QUd9zv377Fy5TKdK6Q1qstF48vTUz4mf/IY3+v+5jev\n",
       "yWff+fjOojgAAGzv0jijWOLfW8bjtI8GwlpnOqZr4U6Tjzdfv6btSyTQz7r9cryZy2FsMRzL61+3\n",
       "G/tyIqsVdHvou/w+Wa/A4ccSWf6ZdKePoiiKoiiKoiiKoiiKoiiKoijKLUC/9FEURVEURVEURVEU\n",
       "RVEURVEURbkFGP/d//BDcVNRwLF1ezDk05sBAFwWcDvfcCDvURqMcPuyyyNvGfV5cEtbay6nGrFc\n",
       "jm3+C1u3V9L8tr1Go0DqsSS/hd+9sNtwMufb25/RvxvAb1M0gG6/7/dw69Vkwm/D8rjoNtV4jN86\n",
       "v7jlsXxdZ+VCCdrW/ogfU5cZJ/WaIw3WYCinCgpHcEtquylvfVvfxLGZTuTvHa8vcev2fCanpnEZ\n",
       "ji2jjrRNZyfylnifD69ZX5NTK80cW4KvT/h+BQBoO7bSDgZy6oalPG4TrTTxfvkcv60RACDvSFHy\n",
       "m9/9e1Hug48f2OVmX95i2xli+qNMjk9xAABQqeBW9dIV1Z2nj/m0LgGLbm+fTPnUZbkETel0dcXr\n",
       "1XSGdnNyKaes27uL6eGGHTklhs+ReqBwViOfTYb8ttX5hNphJMqn0rhzj6aEOT55z8rtL6TUW9/e\n",
       "YeV6I/ocowH6iXZF3pL9yXdQD3w+eevwzIW+9eGdR6zMHz79I6m3G7xuWz6aWuH4EP3sg4cfiG3w\n",
       "WmiHRzfYazqDPsktZyWA6RTHqn5DWrlMDn1mOIw6UaoJKb4AwDBRt1eFlB8AAENH6obTY3mbebeG\n",
       "NjXpy2n4ai3c2p/KYz/MfXIqCRjjNueLczlt2/YGptczvXIb2h18jlRW3hJfLKBPy6RpCqZ+h59v\n",
       "5lM6d3sNfj4MeGhanrX8fVbu3/xv/w+pJ1d4H5dbo89xcX3C/18L/2/hkm51/+AJn04lbNEUjh4h\n",
       "ler+O5oGan19k5V79pKmF/EF0qzcaEZ1ojPGPi/ckGowZOEcGAnJaY2uitje1Zw8b7rd6LuyMTkN\n",
       "3Ny5832KFV9ETu90XMN54JOffkeUq84w/d9GnPexAAC9U9S/5FROM5F04XNsZzA9cbcpzzfnFzgP\n",
       "d+uynMfCPo/l+LEFAHh79souF7pymsXEEqYhmC2k9ZsAH0tVFny7FeZTl8WSGOednMkpJj/+EMem\n",
       "elUT5ZZT2FZzwfYnET7l6h/+QNM5x2J8OrZ376jvGw/5eDMUoL5lPubj/cRCDH51xadqS+bovLu5\n",
       "ifPF4Xt5XsouO3yVV547Hj5B/Ts95mPt9kK6s8GYT+01Xehzlwvjm/FYjrvLRRzTVltOFxVxjGHI\n",
       "Jcf7znAnGpPTwCUdqXz7jjSaZSGtNQBAyI/XJOJyzOt1oQ+6KsqxQCCAKTZcbjm9o9uHDzWeo660\n",
       "5SxrsJTGOWU4kvvVmZbW9Mq+xTnHHx7Iz+T3oW77fDS9ULvNzx1rCWoPzrSeTkIh6tMuSvxzdaZU\n",
       "F1t9vqPSSWqvlTLG1H0hNWC3TefG/NIqK9fvU5teygkpfw16P7fBp12ZjWhfdnp8qqZqjfbxUh7X\n",
       "NMWS7D8nDsNZzslxqcuF/RIKynbd7OJzxW6ww7JjDeJM6zudyu+A0jFs37tX/PoIAMBwpNS1ZrLP\n",
       "qBTQ5u/u8rETAMBjR+qiz3+Lc5ZrLscmyQy21QrJ6yh3AOfNsZR/DQCW82gDc7csZznSfzdb9J3D\n",
       "bMjbuWnS8eyP+bWBxyFXr8nrh3bbkXa3IceNiRzew1iYr9x+vq21Kn2nNwc+DVkyS99rvXrznJXb\n",
       "uUvHvdvl3xkaU9pHPg/GHe2SHEs50wS7XDf0WRd9lenl7XCw4AvaY/79iGFRH7SW59NcQou+i2hc\n",
       "YRs6PXnuOLrEtXYoIqdMa1TQZxjC+xEAAM8A41fTkt/tjtz4vDsPsF9z6/Kc/OwFjntISC8PQOev\n",
       "YEB+/3h6hGOdiMnHUMAU/U6phD47mZHj80IR+zyelNv6+CmuR/72b/9GlLMC6H8Dfvn/+hzLluGQ\n",
       "6vLDe/w6uVygPu3rr16xcpub1L58fj7eCS2sGzsdfu6+usJ3Q/fv07a9eMGn0fSH6LuJx0/usnLD\n",
       "hXTp4UCclfvm6zdUTkjNagXos3ocLqQqh5tghXBAGg35+IZGCz+T0s0CADizhtbr8ncx65voJ6YG\n",
       "nwJPd/ooiqIoiqIoiqIoiqIoiqIoiqLcAvRLH0VRFEVRFEVRFEVRFEVRFEVRlFuAfumjKIqiKIqi\n",
       "KIqiKIqiKIqiKIpyC9AvfRRFURRFURRFURRFURRFURRFUW4B+qWPoiiKoiiKoiiKoiiKoiiKoijK\n",
       "LcCcuYPih1fVKyxfXYlywWDALvcnLVEulUnb5VarK8q5fV67POs0RLn0SswuT3od8lmrz9+/2Z7R\n",
       "+qDDyvmCBqmH4n5WzhP2kroxn7JyvV6Z1MMx7DPT9LHXXF8WSD04MVm5s6tTUk/HeTnDoP9n2DdY\n",
       "uUSG6oTHO7TLnb6bvQYAwHBF7HIunxPlag698lt8WwEAQiEcq8vTgihXKmL71tZW7XJ/VhOvSaQt\n",
       "u9ybhES5Lz59b5cf3tsV5XZ283b5669einK90dguzwzUqUg6Ll7jCmJbk8m8KPebv/uNXf7Bn94R\n",
       "5dwm3uPieCjKhUJRu7yxPiafGVP+utP9Cal7jCgrBwu6d3ZRZ8UymTVsTyDNygAAuN0euzzsTkS5\n",
       "/qxnlyMx2rZmjfcFoVCY1L0u3gYu3leo3Jx/9rUk9RGuGe8zvnlN9ejDj/bscjAk++3cEv7fZ1+d\n",
       "iXLp7LJd/p//p79mZf6zf/6vSP366pyVO3hP54e793bscj7P+zcAgL/9m9/Z5VgyIMq1itjn23dX\n",
       "RbmLCrZv5JmJcv3p3C7Xzor494Y8f60uo422zi5EucEQ7TXmlf2lL4j+cuBpinJ+7127PJygjvXH\n",
       "A/Gaerlvlw2Q+7/XRZ2ftsai3MDxr0Z93k4AADoDtL12l+re+hI/J/QHFqn7AklWrlamscCjuwlW\n",
       "LpOgdued8XPMq9+/IvWPf/CUlWv1cWx6C/P98TlvX8EI9VV1wbckk3RO+cPrEivXG9BnMvu8z4gF\n",
       "qJyrgs8eH8j2FXTo6bgjz5veGdpNbybrwaSDvye6PJVtxe/G/gxHcD4MTuW4wOvO2uXSuezrj6to\n",
       "A3s/XxPlBj7Uq+NTOc51ZbD8+9d/tMvr2R1G+luSOfRV3lBflJs44uZOR/ZBlhf7P+97JMqZEbTl\n",
       "6mhEPqsO+FhqZfceqTcq/JzcqaDuZfwbYhtmHWzrdVHWgYkH25dfp+N0dPSavcY53wMANAtC/OCN\n",
       "kHqtzvftqE7n7iePHrByp2eHpB6Z8mNqtul6IeFJ2WX3Dr+WAAB4f3xpl1dW9kS5T3+N7b2+vmZl\n",
       "kukUqW/sLbFypQbtY48fnX2pJK+/wkFcf1k+OR7xeFAPOr22KNfrY0xpekQx8FZR/2YTbKvcqwCD\n",
       "NurH2CfPh7URxoeJZFaUC4Zwzrq6knXb7fBj4Sj2v0sO92Hmxj7qj2VfbAXwOS4uyqJcwHLYhsHP\n",
       "GwAAgxHKpVOb5LPpmI+l/BZdO11fVFg5y0fn6lqV90GpVSrX6PNx0dSgMYPLg+0IGvNFcQAAGA+o\n",
       "Lvstfv0bS9DB6XZ5n5FMZki9WefXRIM+9REzFz9ndYf07zMP+oJ6s8peAwCQSKHmZ1Y3RblKBcem\n",
       "1ObjDACAWMBpSXwfAQBs7+Dzn5xiW+MBeT3daTp0LMnHbwAAb16in13dkO3wzic4B0YSfNwIAHA6\n",
       "wlilm0X7SqXlOOOihbHdWIi3AADOXuK4+UFY7wKA+Sn6lpRfbms6hm26d2eDfLa8yo9Hdpn6NMvi\n",
       "29FsoA68HLwQ27CVQx04veTtCQDAY2GcO53S+WbU4u1hPqC6bJj8Gikzp+Ne8fJzfOusR+rhWISV\n",
       "c7noWAe8OGd5fbJDjvtRbmzIMVwggPrcG/Jrs+vSe1K/c/8uKzcY0d/jmx3+2S8ui6QeCmOfmW55\n",
       "Rnz49Id2+fhAfkeQiqCfrRVknzEYY9y8vbkuyp2VcKyaTbRDV5GT/pZhF/XIDyNR7rhwbJeDYfnZ\n",
       "XRbez+2yRLmrSxzrviOGbh3z8RYAgMeNMdHR0b4oVylhX3785E9FufMzHJtSkX/3AgAQi6POZ3J0\n",
       "Djg+4efkYJT6jEcP+JjXmFGdL5UOWLlkZJnUo6v8etPwYJ9P59R2tzf4+atYpvrvmvE2fnxA+zwU\n",
       "5uOi737/IalXi7x9La4zXA6z9Hpkv3h5iTFDKCDPX7MpPkejKsd6bg/6E/dc9kHzPj5vMs7PMbrT\n",
       "R1EURVEURVEURVEURVEURVEU5RagX/ooiqIoiqIoiqIoiqIoiqIoiqLcAvRLH0VRFEVRFEVRFEVR\n",
       "FEVRFEVRlFuAfumjKIqiKIqiKIqiKIqiKIqiKIpyC9AvfRRFURRFURRFURRFURRFURRFUW4Bxr/8\n",
       "bz6aSx9aVtAu12o18SaBoMcueyxDlBsMunY5HA6Lcv3hyC43Wi1RLhLA9h28OSCfZWI59ppud0j/\n",
       "4OEf3/BNSd0fMFm53Gqc1GdTVgwMg/bLZDixy6PRZFEcAACq5SqpLy8vs3KXZ5ekvrO1ysoNxwNS\n",
       "3xDkpkD7pN7o2OVyqcFeAwDgdll22fKHRLlvnn1ml3/2809EuUatYJf9vqgo9/mnr+1yMIxyyUyQ\n",
       "EwcAgHQ+YJcHlYAo12pW7HLh+lqU8xr4vzzupCg3nXnx3h3U7Q8+eixe880Xv7bLj+//WJT77Lef\n",
       "2uUf/OSRKNccle1ypzcU5SYTtMN43Es+i1i8fY37VO7yku8zr7dH6tMp345wNG2XB6O+2FZvEA0v\n",
       "6smKcs0m9vnqKtX/dr3NXjMe0LatLvF2WK9Qez0+OGTlAi43vd/9XVauOqF9FM2gbp+8f8deAwCQ\n",
       "CKPtha2YKFe4Rt3eziRYmcPDMqnv3Vln5S4v66SeXcYxaHQKi+I2vTb2xWTeFeWyKdSDcr0ky63j\n",
       "/50ZA1EuEsU+2n/93i7/yfd+Ll5zfYZ94bbGopwX3SCcXl6JcksZ7MvL87oo53GYlNsxJ7d6PUb6\n",
       "W87O0e68Xn5+AQC4s5e3y5Zf/g1Iz/G/IgnZv1VqaANfPn9DPstEeZ/x9AH1Vfuv3rBygza1/9X8\n",
       "BisXCtK54v3RKSs3XJh324J/+ejj+3b5onBGPjNNfu74/IuXpJ7N+1i5za08qQ+GvB90eahfDQX4\n",
       "+/k9NE5plptYmXtBotXEZz89l3U2u4x2mMhlRLlqEf3sxXFZlIsGInbZ5cbxMAMz8ZqNXeyz3lCe\n",
       "E4YG+renD5+IcmnHHHP65kSUm3awfU/37tnlQVW23WEP55TmlUeUy6bRT9cW5hEnwSjGkfW+PHcb\n",
       "SYzhQksR8lm5x/vji2vqf8c93sdtrOJ8lU6kxDYUi0W73B3I4+QP4VrAcFEdHY07i+IAADDo078f\n",
       "vH3Fyq0vUfva3dhj5aJWmtQP31+ycjCnY5jI8s+1tU317f/927+3y+m87D+9YXz+ZpuPRwAAThwx\n",
       "vwFuViYSp3HK1ODvV6yekPryCl7XbstzTMBCvRpP5PHNO2KB4WAkyrXq6DOmY9n+cynsv3bLYXuG\n",
       "PM+ZJvZrwJLXnnMT25dI8DERAEDhCvs/lZbHs1xBH1RvoS/2W/KaY2cHdbTb5vUfAKDVwrE5PDgW\n",
       "5Xb3tu1yqXwhyt3Z3bLLhkHXgKkU7+v7ZapTkxG/nk6nlkj9d198ysqFkhapu4P8nDUe04X2fOyI\n",
       "Xaa8PQwX5tbZnNeXSNRP6tMpr7Obm9ukfrDPxxmzhfZEk8I8PKM60Rng+qHXknV2zRHzGuAX5col\n",
       "nFcq1aIoFw+iL3z0SF6XNh3r11oD53iXS7bDgA+f/fpCXk9HAhjDDUf8uxcAgPv3H9rlzz77TJRb\n",
       "31yzy6Mp2lS7I7/P6A1w/VCvy3KWF+fN+UB+5zBq4nPc2bojyg27jvctBfrebdizFsUBAKBaof5y\n",
       "aZl//3JvG+OWrc08KwMAcPcBzutWUp6HukOMh3udJvmsL8wdwwm1h5cvzlg5mFO/6vHw74CKNboe\n",
       "HM/5d4Z7D+jzFsr4f8OmPG4VRwydiq2Jcj4vzheX13wMF4jS8Qun+TjeCtP3hUev+fV+4ZKuceNx\n",
       "nDu+es77IwCA02ucv7Z25RgunUC98ptyLGAOUd/uPt4R5b559YVd9gUw5i1X5PhhMkJ9CQrvYQEA\n",
       "5jO8Rzgiz8kH+yd2eTkvP7vHi3NKvYFzwMmR7DvXN/Cd0tWVoNcAsJTFPprMK6Lc1i7Ou64btmhc\n",
       "nuNYL85zyfgKe02/Q2NZX4BfT6Ri9B13LMrbymBEfVV7yNtAwhG/1atUp+7ufcBeU6zTd2nrG0us\n",
       "3Nk5lZtOeH2ZDKkddtv8i/uN1Q1SL5Vx7TQBef3VaqAu+kPywJmO96A3fSfSrKIdBnxy7Njtoy9c\n",
       "XeNjNt3poyiKoiiKoiiKoiiKoiiKoiiKcgswY+GI+GGzhb84aDRu+EVEH787CsflX5r4LPzGtlqX\n",
       "v900Tfx2rlmSf/XoTeK34SvL9Ff76Tj/q+Kry4VfBQD/q5Tuwi8MPXP+G8Nel37T7vPxv8So1+mv\n",
       "Dywv9lOjzv/C3fLTXzZI31qCi/5aoHDN/zIjGKFy10W+b6cz+kwNx+6IgC++KG4zm6IeXF/Iv+69\n",
       "v4e/nC4XZD2wgqgvHq/8y78/+0vc/VKtOZ7dLW5ig57jF7iDtvzLpMkIvwFOpeRn97nxW9pGXf5F\n",
       "dbmEfeky8d6dQZMTBwCAx0/xm/rpDb9MWs7hL1mqJfmXE2u7+GuVi+KJKBcI4TfKxsKvtwpF/heD\n",
       "owH9hUomm2bl+gM6NuMB/yvoXht1vteT+3VawV9i1M1zUc5jYvsuzo/IZ0s5vq0rOxukngjzvzgK\n",
       "+OcLdX7X48ebdGfDv/27/4+Vmy78KqjbwzFdXdteFLe5ODqxy+Ou/Otyv8uxI8jD67Y5oX4rl+R3\n",
       "UZ0c01/tNVvoWyzh15oAAEOHvrhv+LXVfI59u7Mt/0ruvIi/eLn/waYoNzXQ3tZ38LsBvR8AACAA\n",
       "SURBVNc+l9fyL2E7Xcf8VZB3L33/T7F9rffvRblJAXeDtOv8vAEA4A+iPza62P/9qezflvN4v3BA\n",
       "3iVZvkadOjmUd3j4HTuMPvqE3yEKALCyhH6wVqe/iAoHeR2bA/0lbSLDy9XmdA4w+B/0ghWhv4TJ\n",
       "CHZ9cUVjgUd3P+ZvCI5f7Szs7KkUhF/6L9E+iqb4+avfo7tE1tZ5u56aNEaIJ/hfcroN2pcZx07k\n",
       "+VjWsVoFd3UcX8h6ELBQl6olefd3tYj25Z7Lc/ewj/NwMIQxUTIm/1Kv79hxE4neEI+M8JeEv/g/\n",
       "5V8B/+U//1O7vPJQ3iW6//qtXb4aYB95PPKu5lIdbTTilfu/5PjF28qy3IbxEPsyGZV/gdua4K/Q\n",
       "Chd014ol6E42S+NLt4uP5VttnBOOpF/pAsD6Ou5kbDfleMQK4S9kuwu7+WodPjaOL/za8JPvfZ+V\n",
       "G3T/w359uL1Dd7C6fPyvI7/47Bmp3839kJU7uaJ+f3kb+3I4luPNZhvt0GUKDg4AYhHH7pk+P57t\n",
       "Lo2tx0IWglj4PqlPxxgzTCdyHB9Loq83vfIc3x+hn51M5d0zNcfOlcKV/GtaZ2aEYR/9TDQixw/h\n",
       "MK59BiN5B3C7jfoSCMhr2UYL4/BIVP6Fpt/3/7d3Zk9u5Ed+T6BQuO+j75tNNpscDmeGmkMjaWWt\n",
       "tNLaa284fL04/GA/+q/aiA0/OPyw4Q071rvSzkoj7YxmhhpyeAzJ7mY32AeAxn0fhQLgB60qK+HM\n",
       "fndHfp5+v8a3Cr/6HZn5K3RlYV96Adfu+Iqn1ruuNlgjOXPGoI+23mfI1z4Z49iMx/L/edZaeE25\n",
       "xbmnA1t8TJ2J0H32cMj/l32zQ9fdZMI/Rdic24tlo/x/qwb8NK6tNdGPBk3+nsZ0SvtSyrBhjejf\n",
       "bSELgTvGBQCwxryt8pt0bOp1/kn13R36dGDpEPsyEeP/sxkAwOtFu/3od89EXSKOcW4yIfsY0/W0\n",
       "0Mu5DCpusot4vqHrCT7DkP8D2uuK9XZvyk9NdFt4/+XB/vui7i//8r855Y3NLVF3Ucg75bVNnFPN\n",
       "ltxWw4MGMy78dzsAQDqA+wzPVH4SoQq4Z7AMOXY6a+NTHblN6ocyfj7eSXSoreqWeJv064f4n/C/\n",
       "+Vzem3hdT/r5fLLNSLps7u0bNOYN+fksE6llGgfdkDLYFB+R+tjm5+L9u9Sn9IR7CREftQsjE/1e\n",
       "Oi3vk+MB9BfTkRzLBg20s9kw3/+JOO2TepOfB/UyvR80qvFPZW0vU9//5OXXTnlhWW7r4k3siynI\n",
       "GTa8Bs6rWJyPiQAAvGP0Ha/P5CeMfCbasWYDbcFpXvb37ntIlbL85Kvp6v+gyT9BBQBgDV1Zlgby\n",
       "3I7FXJmuanhNmYS8/z09RL++sHLVU0R4vSFDjom+dK3R5RU5awsArqlUhLZvNuD93FKW+sOzEr+f\n",
       "WJ57Snf+Ht8faLXo3nMw5p+QDQewj1ZX6d681+PjzcXF+fv5/L2P+d8pNtb5LDrNGl0bpsn30WDu\n",
       "/pcvhLYg6Jfn2MyVEcAfuuLZGld2C9Mn7yOHffRF6aQ8D2wPxmmnb/g1pU/6KIqiKIqiKIqiKIqi\n",
       "KIqiKIqiXAP0Rx9FURRFURRFURRFURRFURRFUZRrgP7ooyiKoiiKoiiKoiiKoiiKoiiKcg3QH30U\n",
       "RVEURVEURVEURVEURVEURVGuAfqjj6IoiqIoiqIoiqIoiqIoiqIoyjXA121WxQ+HvYFTDvg8oq58\n",
       "eemUV1bviLpQNOiUZxO5UaVS2Sl77amos/uWU15eWCafDTpd9phmo0HqZijI6iaT8dwf/Kyu0ayR\n",
       "ejyW5HVVqouubTnlTCbHHjObzEjdGtmsLp3Kknq9Xmd1Hr9B6uNaj9UlElFSNwC/d2JdMR7joVPO\n",
       "ZeOirlItOOV0JiLqFnMbTrlYLou6g6MXTtmysc8GVkc8Jp7AcU/6l0TdQiLtlE9P34i6qWk6ZcM/\n",
       "E3V37+M1vTjAdn/0vQfiMZWzT5zyyYuCqEulsC9PL16KuqEHr33v7Q1Rt7m56ZSTsQT57PPPXrHH\n",
       "XLpsAQDAeMaPwcxD59HWzi6rO83jeu1122JbRyNcr5tbYVEXDODv3Df36LUn4iH2mGb9gtSnkxar\n",
       "8/rob+gffvcdVvf488ekHkoHWN3rCh3rYCbmlCc1a17u4Iv4nPLK8qKoa5exP2NLJqtZGdJ1PDIq\n",
       "rC67Tu3j7f1tp5w/4+cKAEB4jNe+uCivw0dfPcM22LLz6HbR7rdbvH0DAJh6sP+8XpwvPasvHpPO\n",
       "YV9md2X7dnxccsp37vJzAACg1XvilN9967ao+4e/+9Yp53LoK3IrQ04OAAD+DPZDr8v7AwCAm0su\n",
       "v2nIc2o4wD7vDGqibtzEc9z/Dr2mk2PehgfiNLZonvBzLLGQIvXRhG9vz6ZjWKiVWF1zQO1J48Uj\n",
       "vn0mxkHLi+vks1qFH4O4y28AAHRafDxSadFrtSf8+RZWaf387IjVra7TNWS5lko2IduC5y+e4jEj\n",
       "Q9SVS7imWm3ZJwdNtKXRkGyPQwH0RR4v+oRue8DJAQCgcozzeWVD9l92A+2g1ZPjjMOXRafcB/ma\n",
       "YnFs6+dP0L8mjG1ODgAAR49w7gX6B6IuGsCY6+OP7oq6ShHnR3d8Lrc1h23qeqlt9voz7DHFWp7U\n",
       "L4qnrG5za8cpT4D3GwAAT19gfJOKyf1vj9Gflkv0Oy3g425zbjtSOOHjDKtH59F7795jdV88fELq\n",
       "O9v8WvnoRzukXjxvsLpgjMYSsRCOb/lEtp8ze8UpP3l8Jur6fbRx0Tgfj2zu0nHutfm2GkBtjseD\n",
       "fRYNy/8X2GrgOpxNZZtRukTbl8z4RF0whPFNOCL74aW1Nad8cY5t94X4OAoAoNbAfW46nRV17Rae\n",
       "r+xrirq1ZZwHBy95WwwAsL+/75THQ4yNvV5+LwcAcHx47JQTCX4/CQCwsoJtqJTl2LjRxLXh9uPz\n",
       "+Pw4Z4cW9a3pXGJeDgAAnj6dHzMvv/cpVagPngDfjnCAxlW1Kj8GC5kFUreGI6fsF6as6aPzw+Ph\n",
       "72nM759X1xZYXSRCbVo6w8eElTJdd4bJN7BYLJK6e//VrMj77tEIfXImy48TAED5EmONjdiKqKuU\n",
       "XzvlVIa/dgCAb57iPE0m8dpte8zJAQAgt4tz9ujoQtQtZrF9//D3Pxd1b+1jjBkIXLH+WzifG1Xs\n",
       "h631NU4OAADNNq6bXleORy5O0b5Vy7JPvv8O3htLJHkfDACwbGNfToHO0acvnrPHpHN07k3DvD+8\n",
       "/0cYv84s2QY1q2h/IyF5DsTDaM+bvafkM9vk5+zLz6htWVtdZXVrS3T/EIvwvnvUprF17SLP6mCR\n",
       "+pSwD2OLkhDrAADYffQJMX9U1K2voF95/NuvWE1z7l5dWLCroQD9nk9f/IbVffDBB6S+tIb7w2pP\n",
       "vlc0nuB8zi6mRF3Ih7G754p7scUK2t+QKc+Xi3P83koZ7dbyshzzTm2cy/FoWtT12tiGVoPfQwIA\n",
       "xMJot70e/v4vAIBt4drzztBm18qyLej10P+lFuQYJhDAfr25J/dXb4SxXSou99FpHudvdJmur2Gf\n",
       "3/8upG+Qer/Dt7fdofGqz8f7L8uidt8e8LH7Uhrv9T158pB8dvftm+wxvRaNL0cD3sf8+Ic/JfVf\n",
       "f/oFq1tZukXqXg+/Pw9FaTzTtTAe8czk2Gzg7guvvPdZWkEfHwnJcWkhj36lfMnH+wAAm9vYf9EV\n",
       "/nz6pI+iKIqiKIqiKIqiKIqiKIqiKMo1QH/0URRFURRFURRFURRFURRFURRFuQbojz6KoiiKoiiK\n",
       "oiiKoiiKoiiKoijXAP3RR1EURVEURVEURVEURVEURVEU5RqgP/ooiqIoiqIoiqIoiqIoiqIoiqJc\n",
       "Azz/4T9vzqQPcwsrTvnsvCyeJJpKOOXReCjqxuORUx4OZZ3HYzrluM8QdaMRns8zo79f9Xtj9pjh\n",
       "aELqRsDP6nx+Dz3O7rG63FaQns8wWV2nPSD1dGrRKScSKfaY10d5Up/YNquzLIvUP/z4XVZ3WaqR\n",
       "+tiasrqzNwVSj4bxGqPREHsMAECzhXNkY31F1I3G2N7ZbCLqDBO/aziQdZ0u9m25cumU9+5uices\n",
       "b2ad8tnBoahrt3CO+c2YqItGo9ieXkvU7e7dcsqvX1845bt33hOPGdf7Trlbt0Td00evnbI15uc/\n",
       "AMD+O9tOeWN3SdSd53E8j15ekM88Af78o3GT1KMxfj2sra2Ruj3i5+I333zjlB+8K/dRq4V9bk/k\n",
       "Ptrf23XK5cob8lk4ytuaWJjO+YXMAqsLGRFSHwvXVO21Sf3g5ITV3XmPruPTCq5L0y//Xp+K4Dyd\n",
       "NPqirnB87pQ3bmZYTTa9TurdYYnVBefWRrOJ86DbbIhtSIS2nHKpUJR1MZyngwlviwEA/BEftqEt\n",
       "r8NKFdtkGnhMJOjh5AAAsL9/A9tg82MLAFCqvXTKt/Z2RN1Xv8Q+CpuyXYUp+srzEs7ZVPK+eEhy\n",
       "F9fuZCrPge0tV78O5H4tXqLv8M3NczexeNopd9r0e91j4yYaipK6d8qvw/zROamHQwlWN5uLBQyh\n",
       "b1+9pHY/koizukEf50o6sUg+m1m8Tyhfzs15k/fd4SSNHyJRPhZo1F+QuuHn7arPpOeb2Njn4xHf\n",
       "/wAAgzbOsclYtp8RVyxQOr8QdZkkXsfJ60tR996Dm045m0UbdPQ6Lx4TTaD9PXkj24xJI+CUF9bl\n",
       "ODK3g7rHzw7k7w2iLexUcTyT4SAnBwCAVuPUKd9e3Bd1b07OnPLPfvahqPvyM5wHY29V1C2uYZwR\n",
       "ytG5t3P71rwcAAC+PXxF6tEYvx6ssSsW88lx2cxld+Ihee5lEriOTw5fk8/aQ357MupTO+2d8DbJ\n",
       "C3SdeICf2z/6EbWl7T7vk9/9gPbdo0d87DjohUn9ooC2Xgi7AQCgeIH92euERd3iKtq45BK/BpLx\n",
       "AKnHwsusLn9CbVXTFTP4g/K6GU+6TjkQ5u0RAEAqhbagY3VFXbOJcVEmw8cjAACzKY7h7VubTvni\n",
       "gh8zAAC/a/olErzfAAA4fIUxViQsx/vDPtrLZl2OM7a2NpxyLI7jWbg84+T/BM6B5XXeHwAAmAb6\n",
       "zVab9y8AdH/UbFVE3b13bztlj0nj+2QyOi8HAIDuZYfUlxf5/cT5m1NSPyvycza3TPcFl7U6qwvO\n",
       "+TlriPs0n8H7+0iEjmev12F1/QEdz+988Bar6/XpXufykvdzHqBraGTxMWbATJL67j5ex+mxHMP5\n",
       "/DhW0rUDAAz6qJvBSNSNeji3q/W2qAsFcU7EYti3jQY/ZgAAq0t4X8DrlX2C2273m7KfK5fxs3v3\n",
       "7om6ThfHajzB69va3uDkAADQbmGfHx3KtsXVreAPyNcUC2EfZeKroi7ow3sTv/7lp+SzZJqPNVpt\n",
       "ui977z1+3zF2m9+J3NawK1ZfXJPtYCqD49RqUNuykOZtQTJI77ntbPLxSCFPx712ydvZQID2yYtX\n",
       "vE825nQz17rsgzy+QS/GQQmD96EAAOYUx+2bb/g2JJbTpO5PsjJYvUnvMbwqH7G6gJeeoFzCPVy5\n",
       "Jq8bfxjjh0hMngdp137u5EDuo2kQfUwwIM+XUQ9tX+Ec50tYuA8LABBPYhyTTMtxhu26L1AtNEVd\n",
       "u4Z9tr6RFXW2F89xcYJzpVWX7xEsreFne3flc5+do68Yj+R7OUHXPamNXblfz09xL2ZadI6dHfP3\n",
       "bN6+u0vqoQTft/Es9V/5c35upyI5Uq9f8LF2KoY6X4TGLdEs3xdDm8aNI4v3h5Eg3QdsrN9gdcUS\n",
       "9WuGj18DjR61acEwjm+7I/vkTBrvE5wX+P4HADAN3N8EgvLcHrou/+xEnttBw/VbjBAT6pM+iqIo\n",
       "iqIoiqIoiqIoiqIoiqIo1wD90UdRFEVRFEVRFEVRFEVRFEVRFOUa4FtdldM7uR9fGl+RMqnXw8fq\n",
       "onE59ctkgs/BRkL84+IAAMEgPgbvteU0cGYAHzurV2mKgnQ2PS///fm89DHCVpt/fDm3QB+rr7X4\n",
       "NBaGj/5uNp3wuRvmU7C509t1u0KaFA9NbZFM88+CDgY0dVzhkj/f/BCWLvjHsO25FHi+GD4Wu7W1\n",
       "PS/H85WxvYZfzmFhD/BZtWRKfgTyooAphQJ+PtUIAIDPi4/F7Wxhuod0XH4csuN6BN39ePw8kajr\n",
       "keCZ/AhqJofpKDymnMKi28f0EQFXirR6XU6fOOri+bw++bH8tz/E+fHwq29EXaGCc68+4B8bBgBo\n",
       "lPF7U3NpvoIJvi+iSZqSZCykRUykaBoCv49PudG1cH1GUgFWAwDgD+F6bbf5tA0AAH0L18rUSx9b\n",
       "9fr5R+dDcWpLTk75NA7Hr45J/TsPPmJ1F3267nJCKsRWl17HaDhwfSbPsWgUH1WNZuQ+M4q4zocz\n",
       "/vf/L599S+qb2/x6rTaoHfW4TMjphfyY+UYG/U+7Jdv6YhlTphkBOaXQrX18ZLl0Ka+ptVVMKxWL\n",
       "4Jxtd+R0UQVXarWxLduCWhl94BtDTruyvYVtePr4c1HXb2Gf39h73ykfnMipqF6do/0djOR0G+e7\n",
       "aLOjwpoGAPB4sI/GY9m212s4Z93pVwEAwkm+L4Zhan9jYd7PeU06lw9eH7O6gJ/aoLv33mZ1Uw+d\n",
       "R94Zn8oolcQ52urQFKnJFO87yj36CPxbb/OpR4YW9d0Di0/7Yxh0bNJxPsVkp02dfP4lpsQLh2R/\n",
       "OLHxuEhMTl8wcKW+WV1aFHVtV7rNzS05RVG1irY0FsNxm83kNrx8gWkmrshICCET51/+tXy+ZhnX\n",
       "l2/E9ysAwAhw7MOudACFwxonBwCAjx78iVNeWpXXTWeE8etRiZ/XAAA3P9pyyo2+nMonEMR1vb5L\n",
       "0y789nd/yx7znXf/mNT/8fMvWV2thmO7viKnO8kkcb7ZYzlNWKGI/Zfy07Q3a6v8eHz66W9IPZvi\n",
       "+2I0on7pzl0+3cN86uQf/7M/Y3VPnj+kf7D5FGzt5rw/xPblD+V0h+0+9sUPf8LbLQAAd6aqsbXG\n",
       "apJh6qvPTvk0E+fH1E9ub2JqoE5PTiVhutLj2AM55qqM0P/3R7KPsSwcg9P6VenPUOedog33XpGy\n",
       "qjdDO51O5ETd0gLO5+lEthmdOn5XpTwQddEIGqh+H21sMCjvZ9pdtAWdtmzgQq7Ue4ZXbqvXi23d\n",
       "uy2nm+13cc5OgO497SEfH46HNMXJirDMI3P3BWJd3hdZ47k9rzBWvbkYfzzEvjWFexDVOrXToRBv\n",
       "M1bXNkn99IyPCTtdGld5hX+htSwa1/oN3qZVm/Sabu67/aYcGzeb2A532vh5DB/2bSrN3x8BAKiV\n",
       "cH15ZnL8CjOMx/wm2kF/QE4J5/HjOE2mV9zbMdFOxFNymsuRjWPtk7c6EPXiWDeaOGcNQ/ZL1giv\n",
       "PR6T+wumrvtfQsphAIBuC3X581ei7uYO9suf/hmNG02Dv8hvn1C7mgrwc8xypdPPpuVY5/AIY5Bf\n",
       "vnwu6t5+gGlRE1F6b+j1AW+77mzT9fnzv33C6nxAdedveP8VnruXaHj5eHPuFhxsrOM6L5bkGHU6\n",
       "wT57eVoQddUKxvwf//D7rKY5pOmi0iv83M4sUNv0/g0+tf3hK5pyLed6vcQAZL/kNfGabFtOK9Vt\n",
       "o50eCzYbgMZ3HXnbDeDaN4cNtO3xsBwb72yhT/7Vb34t6t59B+Ol9U05zrhwpfideOW45eIC76Mm\n",
       "kneccjYj++7OEO9TFCpyKtWI+Y5T7k3ltHkLGXQq9Qv53sR338HzffHb35LP3n//9rwcAABKp9TX\n",
       "npdesLp30zQt9fYOH2/WC7QvVxZ4313MY3wznZt6+TN+PN7/kNrB14U8qzut0Mn3xacvWd37H82l\n",
       "xvfzfm59ndrIvuseXK8n34d6+CXazGpFvld3760HTvnxVw9FXTyG9mBzlU+HCQBQLWKsl13i26dP\n",
       "+iiKoiiKoiiKoiiKoiiKoiiKolwD9EcfRVEURVEURVEURVEURVEURVGUa4D+6KMoiqIoiqIoiqIo\n",
       "iqIoiqIoinIN0B99FEVRFEVRFEVRFEVRFEVRFEVRrgH6o4+iKIqiKIqiKIqiKIqiKIqiKMo1wFfv\n",
       "9sQPA6G4U86thkRdzxo65fNyQdRlM0mnPOx3RV3EH8Bzj4eiLhgMOuVpkH5mhPnfs4b9PqnPjDGr\n",
       "mxk2qccT/PUbQZPUo9E4q2u3RnN/wfYVLorsMYlEgtRHQ4tvg2GQer/P95kPaFt7/Tar29+7Ter1\n",
       "et0pN5pl9hgAgGAw7JQ3tzdEXcg/c8qttjwPPD6PU65WmqIusxBzyt0WXlO/PePkAABguKaHzxcV\n",
       "dfHljFN++W1e1N3c33XKrZ68Vjzgd8qdTsMpZ9L8PAQAuGzi/Li1kxV1Vr/llD/8wQNR1x9gv05g\n",
       "fl4imXTOKZ+f0HV9/+4t9piJl45Tr8+vw9FwQNvU9bO6xZVNPGYst3Vs4xpo9a6wLSlcn6FYirZh\n",
       "yI/B0+dnpD7s8OvLmkRI/bzQYnUb+3dJvVmtsbqjR69JvdIsOeXVG4vsMQAA5ULFKS/dvi3qomm0\n",
       "x0FfktUMmnQ8L/J1Vufz0mtfWMR1c/+998U2nB7h+d5+cE/WXRw75QlMRF2zjWtqaSUl6lodHNN7\n",
       "937glI8P+DEDALgsYV+YBm/nAQBsC+ep6Q2IuswCztmltbSoG6Z8TvlN8cgpewKyzRi45kooJLfh\n",
       "ux993yl/8803om42Q5uxvSXb9hcvHzvleJLawYjBz7Fmha7X9X3etlTGVOebd/r/RC61ROrfPv6W\n",
       "1e1t75H646+esjqPgd+z9/Ya+Wxs8PHOhz/YJvUnX79idanYAqkHIzarG83ZptplldU1a9SnRwwc\n",
       "t5jpm5cjAZyL9lSOCXNL2N5GUbazt/bw+iMRef65YxBrjD6hVClxcgAA8ADGRYm4vMYLpalTntln\n",
       "ou7eLVx7d9Zlv/n5Lw6ccr+OsUXW4O03AMCg87VTfvDen4i6/fsfOOV//N1jUefLYPw6m5mibvdt\n",
       "7P9f/+pT8lkqmZiXAwDAi5fPST2X4vvW7uFcXI4vsBoAAD/g3NvfvCHqOnWcA8dHefLZZZ5fNz/5\n",
       "4HukXm9csrrNG3S91pr8vFrOUPv76Se/ZnW2Tden15NjdcMOnROXJVyv4xG/xgEAfvD9d5zyxpa8\n",
       "bi7OO075r//HC1bTq9H5cf+DNVZnTzukXm48csqpVGZejkzRvp+cyPF5KITxOXjkGC6bxL607Kmo\n",
       "67psxuWZq5+vOHcwhH1Rj8p2q1bHebScWxd10TCOzebakqjrtbFv/QGMGVJRfg0CAISj2NbpVO6H\n",
       "4QDjIGkvBwCwtYvj3mxVRN1sius1k10mnw36fMxVqzdI/WB2yOrGI7p3nXkMVtds0LnYH/LfGwnQ\n",
       "tdHroe+QZsHG+g6p1+fa/geqDTqXpb1/JEbjmVaLP59h0r3NoMOPacCkMeXBq7xTjoZW2GMAACJh\n",
       "bEenMxB1MEP/3+vx9hIAYGZhO+yxR9QNZ2jHLAvLmYxsMwIBPF/pUr5XNIvjnjzoD4u6UBL7tt6T\n",
       "57Z7HYWSGM91RnKsU+/hPJj55NgpYOAcjfIhLgDQOGhq8/tdAICL0olTPrepDTdnkXk5AAA0u3RP\n",
       "mhD8cnwF153hlf1QOo3tm3rleD8Rxu8pnOXJZ4vZGHC8fE7XeDrH28+z82NSD6T5ewn+MLUt1SI/\n",
       "D3bXaLz/9cMvnLLd5X0jAECtgbFjNC7fU3rw8VtOeesOv597cUzn/KKw77Nsuo5Lrn2fm3CA7oE6\n",
       "dbR+AVOOHwZT9IHJrLy+dtfx/svLlz8XdUEvro9KQb5n261h7Pjue2iPI0nZfwWCOF8iETnmzedx\n",
       "vRqGbN92bq065ZQQ4wIAeH3Yl+EQrofXh8ecHAAAcks4542gfK90awH766/++4WoMwY4P7Y35Xt/\n",
       "1Tye46O73yWfHZ/we59khnrKGPBzsVKifs0X4n13aM4nJ/z8en3rx669zlc0vj856MzLAQDgME7j\n",
       "do/NG1pjzq4aU97GFQu0T+492GZ1h6/onigQwhj1/72n72KKPnQykuds/RLXg3fK7yUAAEYdtDtT\n",
       "W77/dfsu+s2Dg3NWo0/6KIqiKIqiKIqiKIqiKIqiKIqiXAP0Rx9FURRFURRFURRFURRFURRFUZRr\n",
       "gP7ooyiKoiiKoiiKoiiKoiiKoiiKcg3QH30URVEURVEURVEURVEURVEURVGuAZ5/91/fEt9M1mj3\n",
       "XWX5RVtLK/giNq8pvxyu7XqJZDIqvzwsmcCXXFYb8ks3Aya+UKrXoS+Aivj5F9512/TFfak4/0LN\n",
       "9tyLWCdT/qVN3Rl9wfLN3X1Wd3FOX+oVCuILlzod/mWCHg99ieJsxg9VMEhfXjUWXl41GtDvCQgv\n",
       "2tpYWyX1wjm+9CqelF98Nhrj9+7s7Iq6ShlfhLayesUL6Wv48q5EMirqrAG+yC/gw3GvV+Q5aw2w\n",
       "rYkl+QVagQC+hKtUkl8u7R6b2ZR/0RkAQLOJL4o3DOz/tRX5ZbCbt/ElyLXKc1GXCGMfee1lUVd3\n",
       "vQPcH5RfTHh6ii8IXl+mLxK1gF+Xyxt0XR+fnLC60Yi+7NM7418iN/PgSwE7bflFnabpejlnW36R\n",
       "oAdcL7I06AvW6pU6f24vfUFdKMDPxWGPfu9Pf/JTVtebs0H/+6/+J6uLBun3Wl6c52ZKfsHq2x/c\n",
       "dcqxCP+yewCAQRfbMW3wL5e1bXp8scaPZyhMX6wXT+E88Afk8Sjm8SWBP/vZj0TdwQG+RH18xYvs\n",
       "/K4+s8b8SwEBACZT9G1g4zoctOW1229jn89s/iWlAAB9O++UQzH5BbChGK6ht/Y+EnWvT5465dUN\n",
       "fNH3WUF+UaTfwPFs9+SXbK+sot35zT9+IerKJezzjfVVURcOoT/tdenLSFdW4/NyAACwx3TuTce8\n",
       "TYrFqK8+zfMvqKxUqJ24vc/75MmEzqNZn/9efwhfoPm69Jh8dvM9fn3lz+gL4JRJCQAAFkJJREFU\n",
       "W7tV3s8tpegLJFtN/iWh7WGf1KN+/nuTYWqbnj/K42cJPiYCADBd6yYivLgaAGDsell68Ip/GYpE\n",
       "sX17Lv81zxRw7J8++dYpN5uyX7os4rh1urIdjK1gXORpyTajd4w++cH2fVG3nsaXFsdSePHv//Et\n",
       "8Rgzjv0VXZLt0f/65G9Ql90Tdf4M2p1PfsHbYgCA4RCvKf+ySj771//qT9hjOl3q/0zgXzY9G9mu\n",
       "8pjVAADcWMeYwTuRdaWLolM+OqLzv17jY7h0htqSn/3sJ6xu4qHf2+7ztrDTp98TS/M+/s3ZG3p+\n",
       "ISafWDReGk9xTfmjcl8srqGd+MXPH4m6Zh3PEQzxayC1RP+ey/F7rnSa2oVGBf1S6Ux+WW3bFTN4\n",
       "fPJ6DYbws2jIEnXRGMYQ5SofiwEATF2+LRxFf72wyPsXAIBUGj+LBOUXXBcrGPMG/fzeEABgYuH3\n",
       "JlPyHqbt2jdHUzgHxlP5BfI2YJ+nY/JL1CsV3I/Ek/LLgqNxnAeVKv9yXwCA/tC1J4rTaxoN+Dlm\n",
       "z6iPj8d4v2TN+a9Ukt/vTOZeVP/FV49Z3b3bd0g9GMD2vTo95M9t02sIBPj1sLlJ+7zdqbK6Vpv+\n",
       "PZvlX7Q9/7Lwzz75ltUtLW6Ren+ML7kO+eX9nGHiGCQT8l6228U4fDqTY3LvDOdS9Yp1mM3mXGW8\n",
       "xtwV63A4wvVwcSHPxVDEtX8Iy7YlEkF/OBjI19Ro4D4jEsR1WCk3ODkAAKyu4Ivm3XHtPNVLPEeh\n",
       "xM89AID1TYwfPLa8Lwu7xrrbpPYyk+bnrMeg68uu8z5mc2XLKQcDsh30etHGnhflF9evba455W8e\n",
       "PiOfvX//u/NyAAD47Nefkfru/k1WV5+7BxdN8H0WNOme7ctPv2R1q6lNUo8Hcb0movJ9S9OPcdDM\n",
       "lO3s0gbOly8f83Zra28u3h/x62s8o+O5uMqv60qJ2t9axXWPIMbHbwAA6RWMb/LFvKh7+gjnc8iX\n",
       "EXXjCrYjFJD3D+kU2ga/iX5uYsixcXoB44JacyDqEmlcN712XtTFoni+RLYv6vpDbN/Xn6G/9pny\n",
       "niO1gOfbXL8j6sqHGIf2WvL+/P4+3supFeT7X9Uq3gvYvU391/LmyrwcAADqHWr78m8KrK7cojFg\n",
       "MM7b92yc3utI+PhYLwBowz75VZ58NrD5thrhF6S+s3aP1R0fXZL6/Xf5+9DtEbXTQcFlBSNrpF50\n",
       "3Qf5jus+2zz/8IuHTtnw8ffWAABcW0rIvz4VdTML1+u797dF3d49l2+r82tFn/RRFEVRFEVRFEVR\n",
       "FEVRFEVRFEW5BuiPPoqiKIqiKIqiKIqiKIqiKIqiKNcAz7/5LzfEZ2cHA3w8yAzIj6O66Q/kx9ZT\n",
       "rpQMvoD8e5M7pVZnID9+12zio8KGQR8tC/j5Rwy7XXq+6Zhvhz2ce4zT5h+VtDw0LYQ/xD9inFug\n",
       "6Y96HXzky+fjHxntzqWzymT4xys7bfoYnZRdbD6dzfxj53/A6tHHwkyvOyWWnP4olMBHra2pnE5l\n",
       "OsXUI7Op/Kjk+vq6Uw4G5Mdqg640dZ0GPiY66slt6LpSgF1U5Ue8b9zENAfFEp9OCAAgk8LHEqV0\n",
       "fQAAM8Cx8nrw8ep4lH+sEQBgaGEagcU1+dF5y8Zz+7xy+ql6Dfs/HJDTT1mu/jOm9HyNAZ9aKp6k\n",
       "KQ5+9zX/mPOtOzukPujzjzm3XI/fZ2NyGg3vBNd7uyWPZ901PxaWaJoqw+TntjWesxlT/rHVpUXa\n",
       "vkGXf7xy1qKPe/qDQhodg9qmsWtNTWfy4+gr29iO7lROz+CJYjtqJ/yjw9ur9NH7xiWf1u/NBX00\n",
       "2Od6tDwYl2399hqm+bi9syXqnj/FFGeWV56zvS72SywgPwrucaUuGs1w3DNR+dz9PB5jTeTUaqu7\n",
       "OK/8CTkt5cn5kVMOm3yKAwCAVgfTgbx1D1OVNRpymqD8EaZ+SmevSMlp4fV++/xC1AWD6P97g6Ks\n",
       "C2Ef7WzRtGrJND/PL97QNB/tGm8/o0F6HVLKjTfn9DHp1AJvCxNZmkpmLZNkdcVL9BXfHlAfYHt4\n",
       "H2OacymTqnyapFaNpojZWOXHKrdKr3UipMCb93ldV9rbTEZOUeJ1udfxVJ5X4RDO5/pQfhw9ncY1\n",
       "0O/JaVdu7WHqt2ePcT3U+UwDAADQKqP9nV6RNizbd8UjY9knLy+j7/jzf/uhqHv3fYxHVtYxlcRX\n",
       "v33FyQEAoFJGe/TXfyOnZk1m8TrWd/hUpwAADVcmiFlIXofFEsal89kwNzZus8eUjmkal6CPT/8y\n",
       "daV029lcYzUAALd2MM3EcCSnaS4UME3VaEwbWynzqS+SKRoLd/v8PiGWmJvzHn7dDIe0fdvCdZ2d\n",
       "0/Ruww4//+w5H5VZwfVQu2JPc+RKH2eN5LRGIT/O7YDJx4Rdm87LSFxKm0lt1WSENqhyKfvQegNj\n",
       "BsMnr0PLwvUaNOUYzpXxGuJJeZ/R7WL8uryM6zAUldPZgBevYzKV56LXwP3IzhXxiNfAde1OHTdP\n",
       "s4nxl9c1J3yGnFqpXEafcHgoxxljVzrt6RX7rcUlHM/+QE6jMxphH62tbpHPzs95WxOJUp85nvDr\n",
       "dX7vGQnw6YrmU3SZwry6s09ThoaCuB6+fvFsXg4AAL0WjZn7wjQIzqVvXljk44KpQU8QivF72UaT\n",
       "pgUvHPDpXlZW6TVZU4w16lXZhy7k0C8trMg2o91Cu9O6InbMpHAPN7bl7w2GMK6fgju9ubynn3nx\n",
       "M+8V/3LsTqFkTWTfHXals03G5PRT7jSL1TKOR+iq+1ozXK/WQO6vdh/XTW5Rfm1BJoV+vVqR12Gl\n",
       "iGttdS4ejIf5FL3RAL12X5/fHy7kcN9dKshtcBOKyOmJMovYHvf9QgCA7S1+T3N09JrULZtva7ND\n",
       "967TGR9DW6O51xZM+HtFC3F6j2XqSlm5kpPTJ/7i079zyj/66c9E3cPnGN/l1nibsb5L74/YE36t\n",
       "zPtJb5Afg9MytXWWyyckr7hf0ihj6rxaQV7jFxc4R3pCKjoAgJv7eL2/e/RC1H3v+z9wyid5jHW2\n",
       "t+WUVSvruKaOn8lt7Q4wfh0P5TSyoRDm1PJecS8htYTzqlRCn+z38mMLAJBIox1s1+Q2mGP0V90K\n",
       "nz4UAMBnos1eXXlL1NltHJvGWYt8dvcDPl30IEJt1ZmQ+nVnaYHUZ8DbwoGHGvR2S0gvNsQ+P3hJ\n",
       "7zkUm/wa905oW4NJvg3z6ZZv7fH76VScxl+SPc4uU3s7tDDGPMu35uUOC8to6//+55+Lutu3cS/m\n",
       "C8rnM7wYP7lj3nm2tvB6Y3Het+mTPoqiKIqiKIqiKIqiKIqiKIqiKNcA/dFHURRFURRFURRFURRF\n",
       "URRFURTlGqA/+iiKoiiKoiiKoiiKoiiKoiiKolwD9EcfRVEURVEURVEURVEURVEURVGUa4D+6KMo\n",
       "iqIoiqIoiqIoiqIoiqIoinIN8KUzcfHDbsfnlA3DFHXjse2UB4OBqJuMp65jxqLOGlpOuTfoiTrb\n",
       "wu8FH/39ajSxgMMajkg94I+yOo9p0PO5rpGcb+7v0XiQ1UXCMXp+G6/ftif8MZEIqYfC/Ll7HXqt\n",
       "7Q7fZyury6RumvyYNnpVUs+m0k55OOyzxwAA9Ko49pmlBVHXbc+csm3z/QoA0Ongd/X78u+TAQM/\n",
       "67mOmdkGJwcAAMs1F2E6E3Wn+TdOeWExLer6PezzZCIm6gqlc6ccCQeccqVSEY+JRHEd1mtdUWfZ\n",
       "OLf9Prm/CoWyU46FfKLOGmK/9Bu0fdaUX7+vXpyT+u7+TVZXn7ve+/d3WV3mAdqnw2dHYlvPj4tO\n",
       "ef/mLVF3eHDilJu1AvkskRJs4Yxeay6VZGWxIO3LZJA/X3vYoqc3+PU/HNN1/PTxa6f8wz/+Dt9W\n",
       "ALg4xX6KLUZEXS6K1zGK8+u606Vt9fp4mxEIzdkmv8cpRuK8jQUAaLYbTvnVq5Goi8RwTc3ca3eO\n",
       "ZBK/y+q2RZ3HQNtgu9Z/MCy31RPB9bqQWBZ1fZfP6s94P/T7tmL/dxtDURd39V+tVnPKrRY/bwAA\n",
       "AgEcp3ZHti0zD17TDGTbvrOzh23t834IAMBj4PVOZh36mTfBHpNboOtkZvPz4N6cLXn18jWr2721\n",
       "RuqdPm8zRyP6PbUm7ze7PfRRwz4dz/GEt4Mzf4Dq+ryfs0fU95gm37emSc9XLl6yunKxRuqjEX6v\n",
       "Ycj+MBwNOeXhUJ6LzTr6eI8p+5hTl32feT2irl1/6pTt/tRVltuaCPudcjwiz8VYb98pb96Q2/qn\n",
       "/3LHKT/44Iaoe/HtsVP+zS9fOeVhX76+YhH9Ui4tX9PmFq6BxWV+nQAAPH74uVP+8b94S9QZ45JT\n",
       "nnnotYcM3n52GtTW33rnPVZ3fHDolMPBEKsBADg5QV/7/R98LOrGY7RjgRD1V7f3wuwxpUtq00rP\n",
       "n7O6mYeOTT6fZ3X336F9eXZWYHWxGB2bW1ubrO7/fPIJqVc7aINCWXnP5fWhPVlIy7qgD9fA6Zs8\n",
       "qzFD1GZUyzVW9+aE/t07Q598RXgOIdfQpDNyzGuaOEcWVwJX6HCsvFfYlqODplO+OMdYttfh1H84\n",
       "IZ7bd0VsHEnhuVtX+ORMFq+315X3svYEz+EzcMyKxVPxmH4fj7HkkAjGrjgoJcSkAADBAM6j4VCO\n",
       "R0wf9lGvSwfetnjbFQmmqG7K961l0b40vLzd9k6pbfLO+L3ZbErbM3GHQsK+7/beHqlXL/n48Pj4\n",
       "mNQzGd7G3bq1TeqnhUNWNxrQPg+H+bGKzsWerR5ex3gkj1sogAsxJJtjsnf0+a7Y91n4XZ4r/i14\n",
       "5hoba4zH2FfE54Yf49KJEDv9/nwYZwTD8kXZrnk17PL2DQCg59qfj0fYPr8h++6gieu1Z8n9H3DH\n",
       "bFPZx1+6fJYx4/0aAEAuu+KU03HqA5az/H2VoEnXYb9aZXXVGtrL9c11sQ1uezkYyIa13cI9QyaT\n",
       "IZ89e/aMPSaeWCT1Xr/J6mqXNB6PhPi9ZyRMvzcY5HWGQX3PZQP74uHD0rzcYfvWfafcseT7oLYH\n",
       "19SbyzyrSWzStRFP8PNgOKJrY9Dg/eaTJ49J/db+Had8WZGv6XdfPHTKvonsO2oVnPf+sLzfbDbx\n",
       "un7wR++IujenuGfbv4v3aQqFC/GYrms/PezlRJ0ZwLUX8sn7eK8XdcXLsqiLpHA8v/ddjF+fPOb3\n",
       "nQAAhTO897K2xN/7AgDIxjBu9K2virpbe1k894Vsg46e1J3yRx/+kHx2UHw6LwcAgOX7tH2LBm9b\n",
       "8nkaq4QEJ5Pd2CD10Zi/nxBzxa6bmzR+Pq3wbW02abyfdp3Dzfom9cmVBn/vw7bpNSzk+Ps59mzu\n",
       "3oHLIXpM+beORgv3D7t7W6Ku67o3sbe1IurOTvNOedCT71eXXDZTjLHEoxVFURRFURRFURRFURRF\n",
       "URRFUZT/b9AffRRFURRFURRFURRFURRFURRFUa4B+qOPoiiKoiiKoiiKoiiKoiiKoijKNUB/9FEU\n",
       "RVEURVEURVEURVEURVEURbkG6I8+iqIoiqIoiqIoiqIoiqIoiqIo1wBfIhIQP/RMbKc8mXlEnW27\n",
       "KtOpqBsNUTi2LVE3m03wmNFI1Bmm3yl7vT7aprE9L//9944npJ6KB1md7TVJfdQfsDprQK/D9IZY\n",
       "XSwcJXXfDNvXaDTYY+Ixekw0zJ+7Ck1STyRSrG46mZF6s9tidb1ej9RXFhecciCQYI8BAGj18HyV\n",
       "yqWoM03sW4sfJgAAGIxcYzWR58HQwLk57A3xe4AfWwCA2RTbkJwbGzejMX7veDAUdUsL60757OJC\n",
       "1K0sLzrlcrntlH0+fmwBAEpFnB8zg5+HAACBMK6BpeWMqDN92C+JFD9XAABgjMVCv00+qpf5vkgl\n",
       "V+gphC4zDT+pl0sFVjfoVJzy1mZOailEXHOqU5bnXsa13rMZOpfvvLXPHnN6dkLqpo+VwbhP12Ey\n",
       "zbd36cYaqVdbNVY3mVEb9J/+4z93yg+//h3fCADILqedcjwpz+3xoIu6BK9rXHZIPRFZZHXhWJie\n",
       "24eTJ56MiW2oFt845XatLOref+8Dp1y/rIi6YADb0R70RF08hvPPcA1oMCT/H0Qf0BYsLmZF3bcn\n",
       "L/DcRkRuQyLulOtleV0nM3hNzSbOsUpFtol3bu065Vha9slnBbRVD1J7oq5cxu9dW98QdcXyK6e8\n",
       "uEJt2mzG+/zprE/qN26usDozQK93aYWfV50e1eUWeBt3eJIndWs0Y3WjgeGU7RF1WOMhf02BEI0z\n",
       "pn3+3OMBHRtjLu74A5027SNLcJyBEJ1vpg/PPxxeEZtZaAs8HjnW85toP4unvN0CAPD7cGw2NzdF\n",
       "XauJazniOnc8Icel+7tbTvnjj+6IunDspVNuF9dE3a/+Fsfwy7+Xfce9BzgvcwvY7tw9eY1v3sQ1\n",
       "8L2RbIvPLp455WBEtkH//s//zCnPTLmtu6tLTnlo0fUQCfHrprlK112vxceHPtf/iqVjcvwQXUFf\n",
       "cXRwKOrc8e+Ht++Szx4/ejYvBwAAr9eYq/N9Fp6L7W7f5ufL4cExqX/0wQNWVyzR2M6YNFmd10Pj\n",
       "m1YL/ag/FZ6XO9zaw7XS7dVF3cUp2tlokl8r6+v3Sf3NmxNWVyufk3ooiOvQ75f3aZkF9JvxuF/U\n",
       "mQbOt2LhTNR5vGgzDUO2QS3XvPQbGOdGonIMHYtirBeKyPuCehvjluOjqtyGJtrjyxK/fwMAiMZc\n",
       "8WYWY4aLc/ncqSRek88n98NohPFNSFjTAADTCa6VQV/ecPn92NbhgPorv8mfv3BOfYDXx8cx4xH9\n",
       "e8AwWN38fj+e4K9/Mqbtm7hksQhvk4oXJVK/s3eX1e1srZP6b7/4Fas7OabX5DH4vr2zR23O86/4\n",
       "sbfm9pfxCMaHzYAc67XbuDfLjGUf4/dhbGHL0wqmrns4wQAfjwAAmCaexJ7i2r3qXlEohGt0OORj\n",
       "IgCAnuteUdyU/etoiN/b6vZl3QDHKhbB85mmbAvc91HaLTk+N1zxkncm++5WHX3AYkb2m7EYjvvE\n",
       "GpPPJhZvZwdD2udbW7dZXbeH63V5Nc5qAABqVfRrM6/cR6+foT2fvz3yzZOn7DHRFJ3/5oy/ptol\n",
       "3b/NEvy9p0mXfnEX+HkQWJ1bGwEcq823ZP+VWcG+fXz4j6LOG8B5lcnxeySPl+4bT475GKtWptew\n",
       "vMyvgXSW3ueJxFFX6fGxCQDA/j3c6xnjpKh7+OWBU/7w4/uibmBhbFG7Yh/fHWCb3pxifL69I+8p\n",
       "J1O0EwcXbVGXDOA4jW15vZ6f4r2mq/ayadcepN2ou/4u99fdOx875edP5FjnoIzx5kJc3usMv8X7\n",
       "I8OubNsNA+3qX/zFX5HPdh/w96GCTeoPZybvk4dze9xOi48J2xN6D+/s7JzVzTo4nivLW+SzldUF\n",
       "4Ehl6PrcuMnfh7q4oDGzYY5ZXb1Br+H8jL+n9ODDW/Q4V+yZyl3lOzBeOj+X/dJaFK/j7ELeIyUS\n",
       "qPvssyeibm8PY5fiKb9/0Cd9FEVRFEVRFEVRFEVRFEVRFEVRrgH6o4+iKIqiKIqiKIqiKIqiKIqi\n",
       "KMo1QH/0URRFURRFURRFURRFURRFURRFuQbojz6KoiiKoiiKoiiKoiiKoiiKoijXgP8LHbOmoCyH\n",
       "W2wAAAAASUVORK5CYII=\n",
       "\" transform=\"translate(427, 47)\"/>\n",
       "</g>\n",
       "</svg>\n"
      ]
     },
     "metadata": {},
     "output_type": "display_data"
    },
    {
     "data": {
      "text/html": [
       "<table class=\"data-frame\"><thead><tr><th></th><th>Label</th><th>Latin Name</th><th>Common Name</th><th>Train Images</th><th>Validation Images</th></tr><tr><th></th><th>String</th><th>String</th><th>String</th><th>Int64</th><th>Int64</th></tr></thead><tbody><p>10 rows × 5 columns</p><tr><th>1</th><td>n0</td><td>alouatta_palliata</td><td>mantled_howler</td><td>131</td><td>26</td></tr><tr><th>2</th><td>n1</td><td>erythrocebus_patas</td><td>patas_monkey</td><td>139</td><td>28</td></tr><tr><th>3</th><td>n2</td><td>cacajao_calvus</td><td>bald_uakari</td><td>137</td><td>27</td></tr><tr><th>4</th><td>n3</td><td>macaca_fuscata</td><td>japanese_macaque</td><td>152</td><td>30</td></tr><tr><th>5</th><td>n4</td><td>cebuella_pygmea</td><td>pygmy_marmoset</td><td>131</td><td>26</td></tr><tr><th>6</th><td>n5</td><td>cebus_capucinus</td><td>white_headed_capuchin</td><td>141</td><td>28</td></tr><tr><th>7</th><td>n6</td><td>mico_argentatus</td><td>silvery_marmoset</td><td>132</td><td>26</td></tr><tr><th>8</th><td>n7</td><td>saimiri_sciureus</td><td>common_squirrel_monkey</td><td>142</td><td>28</td></tr><tr><th>9</th><td>n8</td><td>aotus_nigriceps</td><td>black_headed_night_monkey</td><td>133</td><td>27</td></tr><tr><th>10</th><td>n9</td><td>trachypithecus_johnii</td><td>nilgiri_langur</td><td>132</td><td>26</td></tr></tbody></table>"
      ],
      "text/latex": [
       "\\begin{tabular}{r|ccccc}\n",
       "\t& Label & Latin Name & Common Name & Train Images & Validation Images\\\\\n",
       "\t\\hline\n",
       "\t& String & String & String & Int64 & Int64\\\\\n",
       "\t\\hline\n",
       "\t1 & n0 & alouatta\\_palliata & mantled\\_howler & 131 & 26 \\\\\n",
       "\t2 & n1 & erythrocebus\\_patas & patas\\_monkey & 139 & 28 \\\\\n",
       "\t3 & n2 & cacajao\\_calvus & bald\\_uakari & 137 & 27 \\\\\n",
       "\t4 & n3 & macaca\\_fuscata & japanese\\_macaque & 152 & 30 \\\\\n",
       "\t5 & n4 & cebuella\\_pygmea & pygmy\\_marmoset & 131 & 26 \\\\\n",
       "\t6 & n5 & cebus\\_capucinus & white\\_headed\\_capuchin & 141 & 28 \\\\\n",
       "\t7 & n6 & mico\\_argentatus & silvery\\_marmoset & 132 & 26 \\\\\n",
       "\t8 & n7 & saimiri\\_sciureus & common\\_squirrel\\_monkey & 142 & 28 \\\\\n",
       "\t9 & n8 & aotus\\_nigriceps & black\\_headed\\_night\\_monkey & 133 & 27 \\\\\n",
       "\t10 & n9 & trachypithecus\\_johnii & nilgiri\\_langur & 132 & 26 \\\\\n",
       "\\end{tabular}\n"
      ],
      "text/plain": [
       "10×5 DataFrame. Omitted printing of 2 columns\n",
       "│ Row │ Label  │ Latin Name            │ Common Name               │\n",
       "│     │ \u001b[90mString\u001b[39m │ \u001b[90mString\u001b[39m                │ \u001b[90mString\u001b[39m                    │\n",
       "├─────┼────────┼───────────────────────┼───────────────────────────┤\n",
       "│ 1   │ n0     │ alouatta_palliata     │ mantled_howler            │\n",
       "│ 2   │ n1     │ erythrocebus_patas    │ patas_monkey              │\n",
       "│ 3   │ n2     │ cacajao_calvus        │ bald_uakari               │\n",
       "│ 4   │ n3     │ macaca_fuscata        │ japanese_macaque          │\n",
       "│ 5   │ n4     │ cebuella_pygmea       │ pygmy_marmoset            │\n",
       "│ 6   │ n5     │ cebus_capucinus       │ white_headed_capuchin     │\n",
       "│ 7   │ n6     │ mico_argentatus       │ silvery_marmoset          │\n",
       "│ 8   │ n7     │ saimiri_sciureus      │ common_squirrel_monkey    │\n",
       "│ 9   │ n8     │ aotus_nigriceps       │ black_headed_night_monkey │\n",
       "│ 10  │ n9     │ trachypithecus_johnii │ nilgiri_langur            │"
      ]
     },
     "execution_count": 11,
     "metadata": {},
     "output_type": "execute_result"
    }
   ],
   "source": [
    "# read monkey_labels.txt\n",
    "label_discription = read_label_discription(label_txt);\n",
    "\n",
    "# show ranfom image\n",
    "idx = rand(1:lastindex(train_raw_imgs_path));\n",
    "show_image(train_raw_imgs_path[idx]; return_plot=false);\n",
    "label_discription"
   ]
  },
  {
   "cell_type": "markdown",
   "metadata": {},
   "source": [
    "# Preprocess\n",
    "## Read image information"
   ]
  },
  {
   "cell_type": "code",
   "execution_count": 12,
   "metadata": {},
   "outputs": [],
   "source": [
    "info_train_raw = get_imgs_size_info(train_raw_imgs_path);"
   ]
  },
  {
   "cell_type": "code",
   "execution_count": 13,
   "metadata": {},
   "outputs": [
    {
     "name": "stdout",
     "output_type": "stream",
     "text": [
      "Number of images with width greater than height: 811\n",
      "Number of images with height greater than width: 253\n"
     ]
    },
    {
     "data": {
      "text/html": [
       "<table class=\"data-frame\"><thead><tr><th></th><th>path</th><th>size</th></tr><tr><th></th><th>String</th><th>Tuple</th></tr></thead><tbody><p>5 rows × 2 columns</p><tr><th>1</th><td>data\\\\raw\\\\training\\\\n0\\\\n0018.jpg</td><td>(550, 367)</td></tr><tr><th>2</th><td>data\\\\raw\\\\training\\\\n0\\\\n0019.jpg</td><td>(1920, 1080)</td></tr><tr><th>3</th><td>data\\\\raw\\\\training\\\\n0\\\\n0020.jpg</td><td>(337, 450)</td></tr><tr><th>4</th><td>data\\\\raw\\\\training\\\\n0\\\\n0021.jpg</td><td>(4367, 2911)</td></tr><tr><th>5</th><td>data\\\\raw\\\\training\\\\n0\\\\n0022.jpg</td><td>(1526, 1900)</td></tr></tbody></table>"
      ],
      "text/latex": [
       "\\begin{tabular}{r|cc}\n",
       "\t& path & size\\\\\n",
       "\t\\hline\n",
       "\t& String & Tuple\\\\\n",
       "\t\\hline\n",
       "\t1 & data\\textbackslash{}\\textbackslash{}raw\\textbackslash{}\\textbackslash{}training\\textbackslash{}\\textbackslash{}n0\\textbackslash{}\\textbackslash{}n0018.jpg & (550, 367) \\\\\n",
       "\t2 & data\\textbackslash{}\\textbackslash{}raw\\textbackslash{}\\textbackslash{}training\\textbackslash{}\\textbackslash{}n0\\textbackslash{}\\textbackslash{}n0019.jpg & (1920, 1080) \\\\\n",
       "\t3 & data\\textbackslash{}\\textbackslash{}raw\\textbackslash{}\\textbackslash{}training\\textbackslash{}\\textbackslash{}n0\\textbackslash{}\\textbackslash{}n0020.jpg & (337, 450) \\\\\n",
       "\t4 & data\\textbackslash{}\\textbackslash{}raw\\textbackslash{}\\textbackslash{}training\\textbackslash{}\\textbackslash{}n0\\textbackslash{}\\textbackslash{}n0021.jpg & (4367, 2911) \\\\\n",
       "\t5 & data\\textbackslash{}\\textbackslash{}raw\\textbackslash{}\\textbackslash{}training\\textbackslash{}\\textbackslash{}n0\\textbackslash{}\\textbackslash{}n0022.jpg & (1526, 1900) \\\\\n",
       "\\end{tabular}\n"
      ],
      "text/plain": [
       "5×2 DataFrame\n",
       "│ Row │ path                               │ size         │\n",
       "│     │ \u001b[90mString\u001b[39m                             │ \u001b[90mTuple\u001b[39m        │\n",
       "├─────┼────────────────────────────────────┼──────────────┤\n",
       "│ 1   │ data\\\\raw\\\\training\\\\n0\\\\n0018.jpg │ (550, 367)   │\n",
       "│ 2   │ data\\\\raw\\\\training\\\\n0\\\\n0019.jpg │ (1920, 1080) │\n",
       "│ 3   │ data\\\\raw\\\\training\\\\n0\\\\n0020.jpg │ (337, 450)   │\n",
       "│ 4   │ data\\\\raw\\\\training\\\\n0\\\\n0021.jpg │ (4367, 2911) │\n",
       "│ 5   │ data\\\\raw\\\\training\\\\n0\\\\n0022.jpg │ (1526, 1900) │"
      ]
     },
     "execution_count": 13,
     "metadata": {},
     "output_type": "execute_result"
    }
   ],
   "source": [
    "# Show the number of images with width greater than height\n",
    "println(\"Number of images with width greater than height: \", sum(first.(info_train_raw.size) .> last.(info_train_raw.size)))\n",
    "println(\"Number of images with height greater than width: \", sum(first.(info_train_raw.size) .< last.(info_train_raw.size)))\n",
    "first(info_train_raw, 5)"
   ]
  },
  {
   "cell_type": "markdown",
   "metadata": {},
   "source": [
    "## Define the image size of the input neural network and save resized images"
   ]
  },
  {
   "cell_type": "code",
   "execution_count": 14,
   "metadata": {
    "scrolled": true
   },
   "outputs": [],
   "source": [
    "train_img_width = 150;\n",
    "train_imgs_path, valid_imgs_path, train_img_size = resize_save_imgs(\n",
    "    info_train_raw, train_raw_imgs_path, valid_raw_imgs_path;\n",
    "    train_img_width=train_img_width, do_process=false\n",
    ");"
   ]
  },
  {
   "cell_type": "markdown",
   "metadata": {},
   "source": [
    "# Read data for tainging and validation"
   ]
  },
  {
   "cell_type": "code",
   "execution_count": 15,
   "metadata": {},
   "outputs": [],
   "source": [
    "# read training images and labels\n",
    "tmp_imgs = getarray.(train_imgs_path; img_size=nothing);\n",
    "\n",
    "num_img = length(tmp_imgs);\n",
    "train_imgs = Array{Float32, 4}(undef, train_img_size..., 3, num_img);\n",
    "for i in 1:num_img\n",
    "    train_imgs[:, :, :, i] = convert(Array{Float32}, popfirst!(tmp_imgs));\n",
    "end\n",
    "train_labels = reduce(hcat, splitpath.(dirname.(train_imgs_path)))[end, :];\n",
    "train_labels = onehotbatch(train_labels, unique(train_labels))\n",
    "\n",
    "# read validation images and labels\n",
    "tmp_imgs = getarray.(valid_imgs_path; img_size=nothing);\n",
    "num_img = length(tmp_imgs);\n",
    "valid_imgs = Array{Float32, 4}(undef, train_img_size..., 3, num_img);\n",
    "for i in 1:num_img\n",
    "    valid_imgs[:, :, :, i] = convert(Array{Float32}, popfirst!(tmp_imgs));\n",
    "end\n",
    "\n",
    "valid_labels = reduce(hcat, splitpath.(dirname.(valid_imgs_path)))[end, :];\n",
    "valid_labels = onehotbatch(valid_labels, unique(valid_labels));\n",
    "\n",
    "train_imgs = train_imgs |> gpu;\n",
    "train_labels = train_labels |> gpu;\n",
    "valid_imgs = valid_imgs |> gpu;\n",
    "valid_labels = valid_labels |> gpu;"
   ]
  },
  {
   "cell_type": "markdown",
   "metadata": {},
   "source": [
    "# NN"
   ]
  },
  {
   "cell_type": "markdown",
   "metadata": {},
   "source": [
    "### assist in building NN model"
   ]
  },
  {
   "cell_type": "code",
   "execution_count": 16,
   "metadata": {},
   "outputs": [
    {
     "data": {
      "text/plain": [
       "(9, 7)"
      ]
     },
     "execution_count": 16,
     "metadata": {},
     "output_type": "execute_result"
    }
   ],
   "source": [
    "Flux.outdims(\n",
    "    Chain(\n",
    "        Conv((3, 3), 3=>32, pad=(1, 1), relu),\n",
    "        MaxPool((2, 2)),\n",
    "        Conv((3, 3), 32=>64, pad=(1, 1), relu),\n",
    "        Conv((3, 3), 64=>128, pad=(1, 1), relu),\n",
    "        MaxPool((2, 2)),\n",
    "        Conv((3, 3), 128=>128, pad=(1, 1), relu),\n",
    "        Conv((3, 3), 128=>64, pad=(1, 1), relu),\n",
    "        MaxPool((2, 2)),\n",
    "        Conv((3, 3), 64=>32, pad=(1, 1), relu),\n",
    "        Conv((3, 3), 32=>16, pad=(1, 1), relu),\n",
    "        MaxPool((2, 2))),\n",
    "    (123, 150)\n",
    ")\n",
    "\n",
    "Flux.outdims(\n",
    "    Chain(\n",
    "        Conv((3, 3), 3=>32, pad=(1, 1), relu),\n",
    "        MaxPool((2, 2)),\n",
    "        Conv((3, 3), 32=>64, pad=(1, 1), relu),\n",
    "        MaxPool((2, 2)),\n",
    "        Conv((3, 3), 64=>32, pad=(1, 1), relu),\n",
    "        MaxPool((2, 2)),\n",
    "        Conv((3, 3), 32=>16, pad=(1, 1), relu),\n",
    "        MaxPool((2, 2))),\n",
    "    (150, 123)\n",
    ")"
   ]
  },
  {
   "cell_type": "markdown",
   "metadata": {},
   "source": [
    "## build NN model"
   ]
  },
  {
   "cell_type": "code",
   "execution_count": 17,
   "metadata": {},
   "outputs": [
    {
     "data": {
      "text/plain": [
       "my_model (generic function with 1 method)"
      ]
     },
     "execution_count": 17,
     "metadata": {},
     "output_type": "execute_result"
    }
   ],
   "source": [
    "## build NN model\n",
    "function my_model(;complex=false)\n",
    "    if complex\n",
    "        return model = Chain(\n",
    "            \n",
    "            BatchNorm(3),\n",
    "            Conv((3, 3), 3=>32, pad=(1, 1), leakyrelu),\n",
    "            MaxPool((2, 2)),\n",
    "            Conv((3, 3), 32=>64, pad=(1, 1), leakyrelu),\n",
    "            \n",
    "            BatchNorm(64),\n",
    "            Conv((3, 3), 64=>128, pad=(1, 1), leakyrelu),\n",
    "            MaxPool((2, 2)),\n",
    "            Conv((3, 3), 128=>128, pad=(1, 1), leakyrelu),\n",
    "            \n",
    "            BatchNorm(128),\n",
    "            Conv((3, 3), 128=>64, pad=(1, 1), leakyrelu),\n",
    "            MaxPool((2, 2)),\n",
    "            Conv((3, 3), 64=>32, pad=(1, 1), leakyrelu),\n",
    "            \n",
    "            BatchNorm(32),\n",
    "            Conv((3, 3), 32=>16, pad=(1, 1), leakyrelu),\n",
    "            MaxPool((2, 2)),\n",
    "            Flux.flatten,\n",
    "            Dense(1008, 128, leakyrelu),\n",
    "            \n",
    "            BatchNorm(128),\n",
    "            Dense(128, 10),\n",
    "            softmax\n",
    "        )\n",
    "    else\n",
    "        return model = Chain(\n",
    "            \n",
    "            BatchNorm(3),\n",
    "            Conv((3, 3), 3=>32, pad=(1, 1), leakyrelu),\n",
    "            MaxPool((2, 2)),\n",
    "            \n",
    "            BatchNorm(32),\n",
    "            Conv((3, 3), 32=>64, pad=(1, 1), leakyrelu),\n",
    "            MaxPool((2, 2)),\n",
    "            \n",
    "            BatchNorm(64),\n",
    "            Conv((3, 3), 64=>32, pad=(1, 1), leakyrelu),\n",
    "            MaxPool((2, 2)),\n",
    "            \n",
    "            BatchNorm(32),\n",
    "            Conv((3, 3), 32=>16, pad=(1, 1), leakyrelu),\n",
    "            MaxPool((2, 2)),\n",
    "            Flux.flatten,\n",
    "            Dense(1008, 128, leakyrelu),\n",
    "            \n",
    "            BatchNorm(128),\n",
    "            Dense(128, 10),\n",
    "            softmax\n",
    "        )\n",
    "    end\n",
    "end"
   ]
  },
  {
   "cell_type": "markdown",
   "metadata": {},
   "source": [
    " ## loss function"
   ]
  },
  {
   "cell_type": "code",
   "execution_count": 18,
   "metadata": {},
   "outputs": [],
   "source": [
    "## cross entropy\n",
    "\n",
    "# loss(x, y) = Flux.crossentropy(model(x), y);\n",
    "\n",
    "augment(x) = x .+ gpu(0.1f0 * randn(eltype(x), size(x)))\n",
    "function loss(x, y)\n",
    "    x̂ = augment(x)\n",
    "    ŷ = model(x̂)\n",
    "    return crossentropy(ŷ, y)\n",
    "end\n",
    "\n",
    "## kldivergence\n",
    "function kldivergence(ŷ, y)\n",
    "    y = clamp.(y, eps(Float32), Inf32);\n",
    "    ŷ = clamp.(ŷ, eps(Float32), Inf32);\n",
    "    entropy = sum(y .* log.(y)) * 1 //size(y,2)\n",
    "    cross_entropy = crossentropy(ŷ, y)\n",
    "    return entropy + cross_entropy\n",
    "end\n",
    "\n",
    "# Re-definition to fix interaction with CuArrays.\n",
    "CuArrays.@cufunc kldivergence(ŷ, y) = begin\n",
    "    y = clamp.(y, eps(Float32), Inf32);\n",
    "    ŷ = clamp.(ŷ, eps(Float32), Inf32);\n",
    "    entropy = sum(y .* log.(y)) * 1 //size(y,2)\n",
    "    cross_entropy = crossentropy(ŷ, y)\n",
    "    entropy + cross_entropy\n",
    "end\n",
    "\n",
    "# test\n",
    "# > y_true = [[0 1]; [0 0]]\n",
    "# > y_pred = [[0.6 0.4]; [0.4 0.6]]\n",
    "# > kldivergence(y_pred, y_true)\n",
    "# 0.548\n",
    "\n",
    "# loss(x, y) = kldivergence(model(x), y);\n",
    "\n",
    "# augment(x) = x .+ gpu(0.1f0 * randn(eltype(x), size(x)))\n",
    "# function loss(x, y)\n",
    "#     x̂ = augment(x)\n",
    "#     ŷ = model(x̂)\n",
    "#     return kldivergence(ŷ, y)\n",
    "# end"
   ]
  },
  {
   "cell_type": "markdown",
   "metadata": {},
   "source": [
    "## callback function"
   ]
  },
  {
   "cell_type": "code",
   "execution_count": 19,
   "metadata": {},
   "outputs": [],
   "source": [
    "# ## callback function\n",
    "# # for Flux.train!\n",
    "\n",
    "# struct StopException <: Exception end\n",
    "# Base.showerror(io::IO, e::StopException) = print(io, \"Early stop!\")\n",
    "# # try\n",
    "# #     throw(StopException())\n",
    "# # catch ex\n",
    "# #     if ex isa StopException\n",
    "# #         rethrow(ex)\n",
    "# #     end\n",
    "# # end\n",
    "\n",
    "# valid_loss = typemax(Float32)\n",
    "# num_early_stop, early_stop = 0, 4\n",
    "# function evalcb()\n",
    "\n",
    "#     valid_loss_tmp, acc = @show(eval_loss_accuracy())\n",
    "#     if valid_loss_tmp > valid_loss\n",
    "#         global num_early_stop += 1\n",
    "#     else\n",
    "#         global num_early_stop = 0\n",
    "#     end\n",
    "#     @printf(\"Number of early stop: %i\\n\", num_early_stop)\n",
    "#     num_early_stop > early_stop && throw(StopException)\n",
    "    \n",
    "#     global valid_loss = valid_loss_tmp\n",
    "# end"
   ]
  },
  {
   "cell_type": "markdown",
   "metadata": {},
   "source": [
    "## evalution function"
   ]
  },
  {
   "cell_type": "code",
   "execution_count": 20,
   "metadata": {},
   "outputs": [
    {
     "data": {
      "text/plain": [
       "eval_loss_accuracy (generic function with 1 method)"
      ]
     },
     "execution_count": 20,
     "metadata": {},
     "output_type": "execute_result"
    }
   ],
   "source": [
    "## evalution function\n",
    "# accuracy(x, y) = mean(onecold(model(x)) .== onecold(y))\n",
    "\n",
    "function eval_loss_accuracy(data_loader, model)\n",
    "    testmode!(model)\n",
    "    l = 0f0\n",
    "    acc = 0\n",
    "    ntot = 0\n",
    "    for (x, y) in data_loader\n",
    "        l += loss(x, y) * size(x)[end]\n",
    "        acc += sum(onecold(model(x) |> cpu) .== onecold(y |> cpu))\n",
    "        ntot += size(x)[end]\n",
    "    end\n",
    "    testmode!(model, false)\n",
    "    return (loss = l/ntot,\n",
    "            acc = acc/ntot)\n",
    "end"
   ]
  },
  {
   "cell_type": "markdown",
   "metadata": {},
   "source": [
    "## hyper parameters"
   ]
  },
  {
   "cell_type": "code",
   "execution_count": 21,
   "metadata": {},
   "outputs": [],
   "source": [
    "## hyper parameters\n",
    "num_epochs = 500;\n",
    "batchsize = 64;\n",
    "learining_rate = 0.01;\n",
    "decay = 0.8;\n",
    "decay_step = 10;\n",
    "clip = 1e-4;\n",
    "l2_factor = 0.001;\n",
    "early_stop = 50;"
   ]
  },
  {
   "cell_type": "markdown",
   "metadata": {},
   "source": [
    "# Data Loader"
   ]
  },
  {
   "cell_type": "code",
   "execution_count": 22,
   "metadata": {},
   "outputs": [],
   "source": [
    "## DataLoader\n",
    "train_loader = DataLoader(\n",
    "    train_imgs, train_labels; batchsize=batchsize, shuffle=true\n",
    ");\n",
    "valid_loader = DataLoader(\n",
    "    valid_imgs, valid_labels, batchsize=batchsize\n",
    ");"
   ]
  },
  {
   "cell_type": "markdown",
   "metadata": {},
   "source": [
    "## training"
   ]
  },
  {
   "cell_type": "code",
   "execution_count": 23,
   "metadata": {
    "scrolled": true
   },
   "outputs": [
    {
     "name": "stderr",
     "output_type": "stream",
     "text": [
      "┌ Info: Start training loop...\n",
      "└ @ Main In[23]:12\n",
      "\u001b[32mEpoch [1]:100%|█████████████████████████████████████████| Time: 0:01:12\u001b[39m\n"
     ]
    },
    {
     "name": "stdout",
     "output_type": "stream",
     "text": [
      "Epoch [1]:  Validation loss = 2.9375982,  Validation acc = 0.12867647058823528\n",
      " -> New best accuracy! Saving model out to .\\models\\monkey_simple_acc[013%].bson\n"
     ]
    },
    {
     "name": "stderr",
     "output_type": "stream",
     "text": [
      "\u001b[32mEpoch [2]:100%|█████████████████████████████████████████| Time: 0:00:03\u001b[39m\n"
     ]
    },
    {
     "name": "stdout",
     "output_type": "stream",
     "text": [
      "Epoch [2]:  Validation loss = 1.3558105,  Validation acc = 0.47058823529411764\n",
      " -> New best accuracy! Saving model out to .\\models\\monkey_simple_acc[047%].bson\n"
     ]
    },
    {
     "name": "stderr",
     "output_type": "stream",
     "text": [
      "\u001b[32mEpoch [3]:100%|█████████████████████████████████████████| Time: 0:00:03\u001b[39m"
     ]
    },
    {
     "name": "stdout",
     "output_type": "stream",
     "text": [
      "Epoch [3]:  Validation loss = 1.2562228,  Validation acc = 0.4485294117647059"
     ]
    },
    {
     "name": "stderr",
     "output_type": "stream",
     "text": [
      "\n",
      "\r"
     ]
    },
    {
     "name": "stdout",
     "output_type": "stream",
     "text": [
      "\n"
     ]
    },
    {
     "name": "stderr",
     "output_type": "stream",
     "text": [
      "\u001b[32mEpoch [4]:100%|█████████████████████████████████████████| Time: 0:00:03\u001b[39m\n"
     ]
    },
    {
     "name": "stdout",
     "output_type": "stream",
     "text": [
      "Epoch [4]:  Validation loss = 1.1839881,  Validation acc = 0.5294117647058824\n",
      " -> New best accuracy! Saving model out to .\\models\\monkey_simple_acc[053%].bson\n"
     ]
    },
    {
     "name": "stderr",
     "output_type": "stream",
     "text": [
      "\u001b[32mEpoch [5]:100%|█████████████████████████████████████████| Time: 0:00:03\u001b[39m\n"
     ]
    },
    {
     "name": "stdout",
     "output_type": "stream",
     "text": [
      "Epoch [5]:  Validation loss = 1.1700158,  Validation acc = 0.5919117647058824\n",
      " -> New best accuracy! Saving model out to .\\models\\monkey_simple_acc[059%].bson\n"
     ]
    },
    {
     "name": "stderr",
     "output_type": "stream",
     "text": [
      "\u001b[32mEpoch [6]:100%|█████████████████████████████████████████| Time: 0:00:03\u001b[39m\n"
     ]
    },
    {
     "name": "stdout",
     "output_type": "stream",
     "text": [
      "Epoch [6]:  Validation loss = 1.1367867,  Validation acc = 0.5477941176470589"
     ]
    },
    {
     "name": "stderr",
     "output_type": "stream",
     "text": [
      "\r",
      "\u001b[32mEpoch [7]:  6%|███                                      |  ETA: 0:00:03\u001b[39m"
     ]
    },
    {
     "name": "stdout",
     "output_type": "stream",
     "text": [
      "\n"
     ]
    },
    {
     "name": "stderr",
     "output_type": "stream",
     "text": [
      "\u001b[32mEpoch [7]:100%|█████████████████████████████████████████| Time: 0:00:03\u001b[39m"
     ]
    },
    {
     "name": "stdout",
     "output_type": "stream",
     "text": [
      "Epoch [7]:  Validation loss = 1.1875303,  Validation acc = 0.5477941176470589\n"
     ]
    },
    {
     "name": "stderr",
     "output_type": "stream",
     "text": [
      "\n",
      "\u001b[32mEpoch [8]:100%|█████████████████████████████████████████| Time: 0:00:04\u001b[39m\n"
     ]
    },
    {
     "name": "stdout",
     "output_type": "stream",
     "text": [
      "Epoch [8]:  Validation loss = 1.4979142,  Validation acc = 0.5"
     ]
    },
    {
     "name": "stderr",
     "output_type": "stream",
     "text": [
      "\r",
      "\u001b[32mEpoch [9]:  6%|███                                      |  ETA: 0:00:04\u001b[39m"
     ]
    },
    {
     "name": "stdout",
     "output_type": "stream",
     "text": [
      "\n"
     ]
    },
    {
     "name": "stderr",
     "output_type": "stream",
     "text": [
      "\u001b[32mEpoch [9]:100%|█████████████████████████████████████████| Time: 0:00:04\u001b[39m\n"
     ]
    },
    {
     "name": "stdout",
     "output_type": "stream",
     "text": [
      "Epoch [9]:  Validation loss = 1.0400561,  Validation acc = 0.5625"
     ]
    },
    {
     "name": "stderr",
     "output_type": "stream",
     "text": [
      "\r",
      "\u001b[32mEpoch [10]:  6%|███                                     |  ETA: 0:00:04\u001b[39m"
     ]
    },
    {
     "name": "stdout",
     "output_type": "stream",
     "text": [
      "\n"
     ]
    },
    {
     "name": "stderr",
     "output_type": "stream",
     "text": [
      "\u001b[32mEpoch [10]:100%|████████████████████████████████████████| Time: 0:00:04\u001b[39m\n"
     ]
    },
    {
     "name": "stdout",
     "output_type": "stream",
     "text": [
      "Epoch [10]:  Validation loss = 1.0670664,  Validation acc = 0.6102941176470589\n",
      " -> New best accuracy! Saving model out to .\\models\\monkey_simple_acc[061%].bson\n"
     ]
    },
    {
     "name": "stderr",
     "output_type": "stream",
     "text": [
      "\u001b[32mEpoch [11]:100%|████████████████████████████████████████| Time: 0:00:03\u001b[39m\n"
     ]
    },
    {
     "name": "stdout",
     "output_type": "stream",
     "text": [
      "Epoch [11]:  Validation loss = 1.1292169,  Validation acc = 0.5882352941176471\n"
     ]
    },
    {
     "name": "stderr",
     "output_type": "stream",
     "text": [
      "\u001b[32mEpoch [12]:100%|████████████████████████████████████████| Time: 0:00:04\u001b[39m\n"
     ]
    },
    {
     "name": "stdout",
     "output_type": "stream",
     "text": [
      "Epoch [12]:  Validation loss = 1.0156407,  Validation acc = 0.6544117647058824\n",
      " -> New best accuracy! Saving model out to .\\models\\monkey_simple_acc[065%].bson\n"
     ]
    },
    {
     "name": "stderr",
     "output_type": "stream",
     "text": [
      "\u001b[32mEpoch [13]:100%|████████████████████████████████████████| Time: 0:00:03\u001b[39m\n"
     ]
    },
    {
     "name": "stdout",
     "output_type": "stream",
     "text": [
      "Epoch [13]:  Validation loss = 1.014803,  Validation acc = 0.6029411764705882"
     ]
    },
    {
     "name": "stderr",
     "output_type": "stream",
     "text": [
      "\r",
      "\u001b[32mEpoch [14]:  6%|███                                     |  ETA: 0:00:04\u001b[39m"
     ]
    },
    {
     "name": "stdout",
     "output_type": "stream",
     "text": [
      "\n"
     ]
    },
    {
     "name": "stderr",
     "output_type": "stream",
     "text": [
      "\u001b[32mEpoch [14]:100%|████████████████████████████████████████| Time: 0:00:04\u001b[39m\n"
     ]
    },
    {
     "name": "stdout",
     "output_type": "stream",
     "text": [
      "Epoch [14]:  Validation loss = 2.4501984,  Validation acc = 0.46691176470588236"
     ]
    },
    {
     "name": "stderr",
     "output_type": "stream",
     "text": [
      "\r",
      "\u001b[32mEpoch [15]:  6%|███                                     |  ETA: 0:00:04\u001b[39m"
     ]
    },
    {
     "name": "stdout",
     "output_type": "stream",
     "text": [
      "\n"
     ]
    },
    {
     "name": "stderr",
     "output_type": "stream",
     "text": [
      "\u001b[32mEpoch [15]:100%|████████████████████████████████████████| Time: 0:00:04\u001b[39m\n"
     ]
    },
    {
     "name": "stdout",
     "output_type": "stream",
     "text": [
      "Epoch [15]:  Validation loss = 1.4527459,  Validation acc = 0.6433823529411765"
     ]
    },
    {
     "name": "stderr",
     "output_type": "stream",
     "text": [
      "\r",
      "\u001b[32mEpoch [16]:  6%|███                                     |  ETA: 0:00:04\u001b[39m"
     ]
    },
    {
     "name": "stdout",
     "output_type": "stream",
     "text": [
      "\n"
     ]
    },
    {
     "name": "stderr",
     "output_type": "stream",
     "text": [
      "\u001b[32mEpoch [16]:100%|████████████████████████████████████████| Time: 0:00:04\u001b[39m\n"
     ]
    },
    {
     "name": "stdout",
     "output_type": "stream",
     "text": [
      "Epoch [16]:  Validation loss = 1.1579788,  Validation acc = 0.6286764705882353"
     ]
    },
    {
     "name": "stderr",
     "output_type": "stream",
     "text": [
      "\r",
      "\u001b[32mEpoch [17]:  6%|███                                     |  ETA: 0:00:04\u001b[39m"
     ]
    },
    {
     "name": "stdout",
     "output_type": "stream",
     "text": [
      "\n"
     ]
    },
    {
     "name": "stderr",
     "output_type": "stream",
     "text": [
      "\u001b[32mEpoch [17]:100%|████████████████████████████████████████| Time: 0:00:03\u001b[39m\n"
     ]
    },
    {
     "name": "stdout",
     "output_type": "stream",
     "text": [
      "Epoch [17]:  Validation loss = 1.1217496,  Validation acc = 0.6507352941176471"
     ]
    },
    {
     "name": "stderr",
     "output_type": "stream",
     "text": [
      "\r",
      "\u001b[32mEpoch [18]:  6%|███                                     |  ETA: 0:00:04\u001b[39m"
     ]
    },
    {
     "name": "stdout",
     "output_type": "stream",
     "text": [
      "\n"
     ]
    },
    {
     "name": "stderr",
     "output_type": "stream",
     "text": [
      "\u001b[32mEpoch [18]:100%|████████████████████████████████████████| Time: 0:00:03\u001b[39m\n"
     ]
    },
    {
     "name": "stdout",
     "output_type": "stream",
     "text": [
      "Epoch [18]:  Validation loss = 1.100218,  Validation acc = 0.6875\n",
      " -> New best accuracy! Saving model out to .\\models\\monkey_simple_acc[069%].bson\n"
     ]
    },
    {
     "name": "stderr",
     "output_type": "stream",
     "text": [
      "\u001b[32mEpoch [19]:100%|████████████████████████████████████████| Time: 0:00:04\u001b[39m\n"
     ]
    },
    {
     "name": "stdout",
     "output_type": "stream",
     "text": [
      "Epoch [19]:  Validation loss = 1.1443624,  Validation acc = 0.625\n"
     ]
    },
    {
     "name": "stderr",
     "output_type": "stream",
     "text": [
      "\u001b[32mEpoch [20]:100%|████████████████████████████████████████| Time: 0:00:04\u001b[39m\n"
     ]
    },
    {
     "name": "stdout",
     "output_type": "stream",
     "text": [
      "Epoch [20]:  Validation loss = 1.4875027,  Validation acc = 0.625"
     ]
    },
    {
     "name": "stderr",
     "output_type": "stream",
     "text": [
      "\r",
      "\u001b[32mEpoch [21]:  6%|███                                     |  ETA: 0:00:04\u001b[39m"
     ]
    },
    {
     "name": "stdout",
     "output_type": "stream",
     "text": [
      "\n"
     ]
    },
    {
     "name": "stderr",
     "output_type": "stream",
     "text": [
      "\u001b[32mEpoch [21]:100%|████████████████████████████████████████| Time: 0:00:04\u001b[39m\n"
     ]
    },
    {
     "name": "stdout",
     "output_type": "stream",
     "text": [
      "Epoch [21]:  Validation loss = 1.0733995,  Validation acc = 0.6691176470588235"
     ]
    },
    {
     "name": "stderr",
     "output_type": "stream",
     "text": [
      "\r",
      "\u001b[32mEpoch [22]:  6%|███                                     |  ETA: 0:00:04\u001b[39m"
     ]
    },
    {
     "name": "stdout",
     "output_type": "stream",
     "text": [
      "\n"
     ]
    },
    {
     "name": "stderr",
     "output_type": "stream",
     "text": [
      "\u001b[32mEpoch [22]:100%|████████████████████████████████████████| Time: 0:00:04\u001b[39m\n"
     ]
    },
    {
     "name": "stdout",
     "output_type": "stream",
     "text": [
      "Epoch [22]:  Validation loss = 1.5529749,  Validation acc = 0.5992647058823529"
     ]
    },
    {
     "name": "stderr",
     "output_type": "stream",
     "text": [
      "\r",
      "\u001b[32mEpoch [23]:  6%|███                                     |  ETA: 0:00:04\u001b[39m"
     ]
    },
    {
     "name": "stdout",
     "output_type": "stream",
     "text": [
      "\n"
     ]
    },
    {
     "name": "stderr",
     "output_type": "stream",
     "text": [
      "\u001b[32mEpoch [23]:100%|████████████████████████████████████████| Time: 0:00:04\u001b[39m\n"
     ]
    },
    {
     "name": "stdout",
     "output_type": "stream",
     "text": [
      "Epoch [23]:  Validation loss = 1.6498611,  Validation acc = 0.5514705882352942"
     ]
    },
    {
     "name": "stderr",
     "output_type": "stream",
     "text": [
      "\r",
      "\u001b[32mEpoch [24]:  6%|███                                     |  ETA: 0:00:04\u001b[39m"
     ]
    },
    {
     "name": "stdout",
     "output_type": "stream",
     "text": [
      "\n"
     ]
    },
    {
     "name": "stderr",
     "output_type": "stream",
     "text": [
      "\u001b[32mEpoch [24]:100%|████████████████████████████████████████| Time: 0:00:04\u001b[39m\n"
     ]
    },
    {
     "name": "stdout",
     "output_type": "stream",
     "text": [
      "Epoch [24]:  Validation loss = 1.2032557,  Validation acc = 0.6654411764705882\n"
     ]
    },
    {
     "name": "stderr",
     "output_type": "stream",
     "text": [
      "\u001b[32mEpoch [25]:100%|████████████████████████████████████████| Time: 0:00:04\u001b[39m\n"
     ]
    },
    {
     "name": "stdout",
     "output_type": "stream",
     "text": [
      "Epoch [25]:  Validation loss = 1.2627536,  Validation acc = 0.6544117647058824\n"
     ]
    },
    {
     "name": "stderr",
     "output_type": "stream",
     "text": [
      "\u001b[32mEpoch [26]:100%|████████████████████████████████████████| Time: 0:00:04\u001b[39m\n"
     ]
    },
    {
     "name": "stdout",
     "output_type": "stream",
     "text": [
      "Epoch [26]:  Validation loss = 1.1842276,  Validation acc = 0.5661764705882353\n"
     ]
    },
    {
     "name": "stderr",
     "output_type": "stream",
     "text": [
      "\u001b[32mEpoch [27]:100%|████████████████████████████████████████| Time: 0:00:04\u001b[39m\n"
     ]
    },
    {
     "name": "stdout",
     "output_type": "stream",
     "text": [
      "Epoch [27]:  Validation loss = 1.1535853,  Validation acc = 0.6948529411764706\n"
     ]
    },
    {
     "name": "stderr",
     "output_type": "stream",
     "text": [
      "\r",
      "\u001b[32mEpoch [28]:  6%|███                                     |  ETA: 0:00:04\u001b[39m"
     ]
    },
    {
     "name": "stdout",
     "output_type": "stream",
     "text": [
      " -> New best accuracy! Saving model out to .\\models\\monkey_simple_acc[069%].bson\n"
     ]
    },
    {
     "name": "stderr",
     "output_type": "stream",
     "text": [
      "\u001b[32mEpoch [28]:100%|████████████████████████████████████████| Time: 0:00:04\u001b[39m\n"
     ]
    },
    {
     "name": "stdout",
     "output_type": "stream",
     "text": [
      "Epoch [28]:  Validation loss = 1.4294543,  Validation acc = 0.6580882352941176"
     ]
    },
    {
     "name": "stderr",
     "output_type": "stream",
     "text": [
      "\r",
      "\u001b[32mEpoch [29]:  6%|███                                     |  ETA: 0:00:04\u001b[39m"
     ]
    },
    {
     "name": "stdout",
     "output_type": "stream",
     "text": [
      "\n"
     ]
    },
    {
     "name": "stderr",
     "output_type": "stream",
     "text": [
      "\u001b[32mEpoch [29]:100%|████████████████████████████████████████| Time: 0:00:03\u001b[39m\n",
      "\u001b[32mEpoch [30]:  6%|███                                     |  ETA: 0:00:04\u001b[39m"
     ]
    },
    {
     "name": "stdout",
     "output_type": "stream",
     "text": [
      "Epoch [29]:  Validation loss = 1.2548728,  Validation acc = 0.6838235294117647\n"
     ]
    },
    {
     "name": "stderr",
     "output_type": "stream",
     "text": [
      "\u001b[32mEpoch [30]:100%|████████████████████████████████████████| Time: 0:00:03\u001b[39m\n"
     ]
    },
    {
     "name": "stdout",
     "output_type": "stream",
     "text": [
      "Epoch [30]:  Validation loss = 1.0770662,  Validation acc = 0.6764705882352942\n"
     ]
    },
    {
     "name": "stderr",
     "output_type": "stream",
     "text": [
      "\u001b[32mEpoch [31]:100%|████████████████████████████████████████| Time: 0:00:04\u001b[39m\n"
     ]
    },
    {
     "name": "stdout",
     "output_type": "stream",
     "text": [
      "Epoch [31]:  Validation loss = 1.2789717,  Validation acc = 0.6507352941176471\n"
     ]
    },
    {
     "name": "stderr",
     "output_type": "stream",
     "text": [
      "\u001b[32mEpoch [32]:100%|████████████████████████████████████████| Time: 0:00:04\u001b[39m\n"
     ]
    },
    {
     "name": "stdout",
     "output_type": "stream",
     "text": [
      "Epoch [32]:  Validation loss = 1.16629,  Validation acc = 0.6580882352941176\n"
     ]
    },
    {
     "name": "stderr",
     "output_type": "stream",
     "text": [
      "\u001b[32mEpoch [33]:100%|████████████████████████████████████████| Time: 0:00:03\u001b[39m\n",
      "\u001b[32mEpoch [34]:  6%|███                                     |  ETA: 0:00:04\u001b[39m"
     ]
    },
    {
     "name": "stdout",
     "output_type": "stream",
     "text": [
      "Epoch [33]:  Validation loss = 1.6003139,  Validation acc = 0.5625\n"
     ]
    },
    {
     "name": "stderr",
     "output_type": "stream",
     "text": [
      "\u001b[32mEpoch [34]:100%|████████████████████████████████████████| Time: 0:00:03\u001b[39m\n"
     ]
    },
    {
     "name": "stdout",
     "output_type": "stream",
     "text": [
      "Epoch [34]:  Validation loss = 1.3152965,  Validation acc = 0.6102941176470589"
     ]
    },
    {
     "name": "stderr",
     "output_type": "stream",
     "text": [
      "\r",
      "\u001b[32mEpoch [35]:  6%|███                                     |  ETA: 0:00:04\u001b[39m"
     ]
    },
    {
     "name": "stdout",
     "output_type": "stream",
     "text": [
      "\n"
     ]
    },
    {
     "name": "stderr",
     "output_type": "stream",
     "text": [
      "\u001b[32mEpoch [35]:100%|████████████████████████████████████████| Time: 0:00:04\u001b[39m\n"
     ]
    },
    {
     "name": "stdout",
     "output_type": "stream",
     "text": [
      "Epoch [35]:  Validation loss = 1.2826185,  Validation acc = 0.6617647058823529"
     ]
    },
    {
     "name": "stderr",
     "output_type": "stream",
     "text": [
      "\r",
      "\u001b[32mEpoch [36]:  6%|███                                     |  ETA: 0:00:04\u001b[39m"
     ]
    },
    {
     "name": "stdout",
     "output_type": "stream",
     "text": [
      "\n"
     ]
    },
    {
     "name": "stderr",
     "output_type": "stream",
     "text": [
      "\u001b[32mEpoch [36]:100%|████████████████████████████████████████| Time: 0:00:04\u001b[39m\n"
     ]
    },
    {
     "name": "stdout",
     "output_type": "stream",
     "text": [
      "Epoch [36]:  Validation loss = 1.3451519,  Validation acc = 0.6139705882352942"
     ]
    },
    {
     "name": "stderr",
     "output_type": "stream",
     "text": [
      "\r",
      "\u001b[32mEpoch [37]:  6%|███                                     |  ETA: 0:00:04\u001b[39m"
     ]
    },
    {
     "name": "stdout",
     "output_type": "stream",
     "text": [
      "\n"
     ]
    },
    {
     "name": "stderr",
     "output_type": "stream",
     "text": [
      "\u001b[32mEpoch [37]:100%|████████████████████████████████████████| Time: 0:00:04\u001b[39m\n"
     ]
    },
    {
     "name": "stdout",
     "output_type": "stream",
     "text": [
      "Epoch [37]:  Validation loss = 1.4649347,  Validation acc = 0.6544117647058824\n"
     ]
    },
    {
     "name": "stderr",
     "output_type": "stream",
     "text": [
      "┌ Warning:  -> Haven't improved in a while, dropping learning rate to 0.008!\n",
      "└ @ Main In[23]:82\n",
      "\u001b[32mEpoch [38]:100%|████████████████████████████████████████| Time: 0:00:04\u001b[39m\n"
     ]
    },
    {
     "name": "stdout",
     "output_type": "stream",
     "text": [
      "Epoch [38]:  Validation loss = 1.2055786,  Validation acc = 0.6433823529411765"
     ]
    },
    {
     "name": "stderr",
     "output_type": "stream",
     "text": [
      "\r",
      "\u001b[32mEpoch [39]:  6%|███                                     |  ETA: 0:00:04\u001b[39m"
     ]
    },
    {
     "name": "stdout",
     "output_type": "stream",
     "text": [
      "\n"
     ]
    },
    {
     "name": "stderr",
     "output_type": "stream",
     "text": [
      "\u001b[32mEpoch [39]:100%|████████████████████████████████████████| Time: 0:00:04\u001b[39m\n"
     ]
    },
    {
     "name": "stdout",
     "output_type": "stream",
     "text": [
      "Epoch [39]:  Validation loss = 1.1290399,  Validation acc = 0.7132352941176471\n",
      " -> New best accuracy! Saving model out to .\\models\\monkey_simple_acc[071%].bson\n"
     ]
    },
    {
     "name": "stderr",
     "output_type": "stream",
     "text": [
      "\u001b[32mEpoch [40]:100%|████████████████████████████████████████| Time: 0:00:04\u001b[39m\n"
     ]
    },
    {
     "name": "stdout",
     "output_type": "stream",
     "text": [
      "Epoch [40]:  Validation loss = 1.0287235,  Validation acc = 0.7316176470588235\n"
     ]
    },
    {
     "name": "stderr",
     "output_type": "stream",
     "text": [
      "\r",
      "\u001b[32mEpoch [41]:  6%|███                                     |  ETA: 0:00:04\u001b[39m"
     ]
    },
    {
     "name": "stdout",
     "output_type": "stream",
     "text": [
      " -> New best accuracy! Saving model out to .\\models\\monkey_simple_acc[073%].bson\n"
     ]
    },
    {
     "name": "stderr",
     "output_type": "stream",
     "text": [
      "\u001b[32mEpoch [41]:100%|████████████████████████████████████████| Time: 0:00:04\u001b[39m\n"
     ]
    },
    {
     "name": "stdout",
     "output_type": "stream",
     "text": [
      "Epoch [41]:  Validation loss = 1.0785395,  Validation acc = 0.7389705882352942\n",
      " -> New best accuracy! Saving model out to .\\models\\monkey_simple_acc[074%].bson\n"
     ]
    },
    {
     "name": "stderr",
     "output_type": "stream",
     "text": [
      "\u001b[32mEpoch [42]:100%|████████████████████████████████████████| Time: 0:00:04\u001b[39m\n",
      "\u001b[32mEpoch [43]:  6%|███                                     |  ETA: 0:00:04\u001b[39m"
     ]
    },
    {
     "name": "stdout",
     "output_type": "stream",
     "text": [
      "Epoch [42]:  Validation loss = 1.0620412,  Validation acc = 0.7022058823529411\n"
     ]
    },
    {
     "name": "stderr",
     "output_type": "stream",
     "text": [
      "\u001b[32mEpoch [43]:100%|████████████████████████████████████████| Time: 0:00:04\u001b[39m\n"
     ]
    },
    {
     "name": "stdout",
     "output_type": "stream",
     "text": [
      "Epoch [43]:  Validation loss = 1.0108178,  Validation acc = 0.7169117647058824"
     ]
    },
    {
     "name": "stderr",
     "output_type": "stream",
     "text": [
      "\r",
      "\u001b[32mEpoch [44]:  6%|███                                     |  ETA: 0:00:04\u001b[39m"
     ]
    },
    {
     "name": "stdout",
     "output_type": "stream",
     "text": [
      "\n"
     ]
    },
    {
     "name": "stderr",
     "output_type": "stream",
     "text": [
      "\u001b[32mEpoch [44]:100%|████████████████████████████████████████| Time: 0:00:03\u001b[39m\n"
     ]
    },
    {
     "name": "stdout",
     "output_type": "stream",
     "text": [
      "Epoch [44]:  Validation loss = 1.2030121,  Validation acc = 0.6875"
     ]
    },
    {
     "name": "stderr",
     "output_type": "stream",
     "text": [
      "\r",
      "\u001b[32mEpoch [45]:  6%|███                                     |  ETA: 0:00:04\u001b[39m"
     ]
    },
    {
     "name": "stdout",
     "output_type": "stream",
     "text": [
      "\n"
     ]
    },
    {
     "name": "stderr",
     "output_type": "stream",
     "text": [
      "\u001b[32mEpoch [45]:100%|████████████████████████████████████████| Time: 0:00:04\u001b[39m\n"
     ]
    },
    {
     "name": "stdout",
     "output_type": "stream",
     "text": [
      "Epoch [45]:  Validation loss = 1.325151,  Validation acc = 0.5955882352941176"
     ]
    },
    {
     "name": "stderr",
     "output_type": "stream",
     "text": [
      "\r",
      "\u001b[32mEpoch [46]:  6%|███                                     |  ETA: 0:00:04\u001b[39m"
     ]
    },
    {
     "name": "stdout",
     "output_type": "stream",
     "text": [
      "\n"
     ]
    },
    {
     "name": "stderr",
     "output_type": "stream",
     "text": [
      "\u001b[32mEpoch [46]:100%|████████████████████████████████████████| Time: 0:00:03\u001b[39m\n"
     ]
    },
    {
     "name": "stdout",
     "output_type": "stream",
     "text": [
      "Epoch [46]:  Validation loss = 1.5920064,  Validation acc = 0.6286764705882353\n"
     ]
    },
    {
     "name": "stderr",
     "output_type": "stream",
     "text": [
      "\u001b[32mEpoch [47]:100%|████████████████████████████████████████| Time: 0:00:03\u001b[39m\n"
     ]
    },
    {
     "name": "stdout",
     "output_type": "stream",
     "text": [
      "Epoch [47]:  Validation loss = 1.0807695,  Validation acc = 0.6948529411764706"
     ]
    },
    {
     "name": "stderr",
     "output_type": "stream",
     "text": [
      "\r",
      "\u001b[32mEpoch [48]:  6%|███                                     |  ETA: 0:00:04\u001b[39m"
     ]
    },
    {
     "name": "stdout",
     "output_type": "stream",
     "text": [
      "\n"
     ]
    },
    {
     "name": "stderr",
     "output_type": "stream",
     "text": [
      "\u001b[32mEpoch [48]:100%|████████████████████████████████████████| Time: 0:00:03\u001b[39m\n"
     ]
    },
    {
     "name": "stdout",
     "output_type": "stream",
     "text": [
      "Epoch [48]:  Validation loss = 1.100127,  Validation acc = 0.7132352941176471\n"
     ]
    },
    {
     "name": "stderr",
     "output_type": "stream",
     "text": [
      "\u001b[32mEpoch [49]:100%|████████████████████████████████████████| Time: 0:00:04\u001b[39m\n"
     ]
    },
    {
     "name": "stdout",
     "output_type": "stream",
     "text": [
      "Epoch [49]:  Validation loss = 1.1204957,  Validation acc = 0.6985294117647058"
     ]
    },
    {
     "name": "stderr",
     "output_type": "stream",
     "text": [
      "\r",
      "\u001b[32mEpoch [50]:  6%|███                                     |  ETA: 0:00:04\u001b[39m"
     ]
    },
    {
     "name": "stdout",
     "output_type": "stream",
     "text": [
      "\n"
     ]
    },
    {
     "name": "stderr",
     "output_type": "stream",
     "text": [
      "\u001b[32mEpoch [50]:100%|████████████████████████████████████████| Time: 0:00:03\u001b[39m\n"
     ]
    },
    {
     "name": "stdout",
     "output_type": "stream",
     "text": [
      "Epoch [50]:  Validation loss = 1.2568195,  Validation acc = 0.6360294117647058"
     ]
    },
    {
     "name": "stderr",
     "output_type": "stream",
     "text": [
      "\r",
      "\u001b[32mEpoch [51]:  6%|███                                     |  ETA: 0:00:04\u001b[39m"
     ]
    },
    {
     "name": "stdout",
     "output_type": "stream",
     "text": [
      "\n"
     ]
    },
    {
     "name": "stderr",
     "output_type": "stream",
     "text": [
      "\u001b[32mEpoch [51]:100%|████████████████████████████████████████| Time: 0:00:04\u001b[39m\n"
     ]
    },
    {
     "name": "stdout",
     "output_type": "stream",
     "text": [
      "Epoch [51]:  Validation loss = 1.3420918,  Validation acc = 0.6507352941176471\n"
     ]
    },
    {
     "name": "stderr",
     "output_type": "stream",
     "text": [
      "┌ Warning:  -> Haven't improved in a while, dropping learning rate to 0.0064!\n",
      "└ @ Main In[23]:82\n",
      "\u001b[32mEpoch [52]:100%|████████████████████████████████████████| Time: 0:00:04\u001b[39m\n"
     ]
    },
    {
     "name": "stdout",
     "output_type": "stream",
     "text": [
      "Epoch [52]:  Validation loss = 1.2437642,  Validation acc = 0.6801470588235294"
     ]
    },
    {
     "name": "stderr",
     "output_type": "stream",
     "text": [
      "\r",
      "\u001b[32mEpoch [53]:  6%|███                                     |  ETA: 0:00:04\u001b[39m"
     ]
    },
    {
     "name": "stdout",
     "output_type": "stream",
     "text": [
      "\n"
     ]
    },
    {
     "name": "stderr",
     "output_type": "stream",
     "text": [
      "\u001b[32mEpoch [53]:100%|████████████████████████████████████████| Time: 0:00:04\u001b[39m\n"
     ]
    },
    {
     "name": "stdout",
     "output_type": "stream",
     "text": [
      "Epoch [53]:  Validation loss = 1.1631343,  Validation acc = 0.7022058823529411"
     ]
    },
    {
     "name": "stderr",
     "output_type": "stream",
     "text": [
      "\r",
      "\u001b[32mEpoch [54]:  6%|███                                     |  ETA: 0:00:04\u001b[39m"
     ]
    },
    {
     "name": "stdout",
     "output_type": "stream",
     "text": [
      "\n"
     ]
    },
    {
     "name": "stderr",
     "output_type": "stream",
     "text": [
      "\u001b[32mEpoch [54]:100%|████████████████████████████████████████| Time: 0:00:03\u001b[39m\n"
     ]
    },
    {
     "name": "stdout",
     "output_type": "stream",
     "text": [
      "Epoch [54]:  Validation loss = 1.2580351,  Validation acc = 0.6286764705882353"
     ]
    },
    {
     "name": "stderr",
     "output_type": "stream",
     "text": [
      "\r",
      "\u001b[32mEpoch [55]:  6%|███                                     |  ETA: 0:00:04\u001b[39m"
     ]
    },
    {
     "name": "stdout",
     "output_type": "stream",
     "text": [
      "\n"
     ]
    },
    {
     "name": "stderr",
     "output_type": "stream",
     "text": [
      "\u001b[32mEpoch [55]:100%|████████████████████████████████████████| Time: 0:00:04\u001b[39m\n"
     ]
    },
    {
     "name": "stdout",
     "output_type": "stream",
     "text": [
      "Epoch [55]:  Validation loss = 1.1691446,  Validation acc = 0.6948529411764706\n"
     ]
    },
    {
     "name": "stderr",
     "output_type": "stream",
     "text": [
      "\u001b[32mEpoch [56]:100%|████████████████████████████████████████| Time: 0:00:03\u001b[39m\n"
     ]
    },
    {
     "name": "stdout",
     "output_type": "stream",
     "text": [
      "Epoch [56]:  Validation loss = 1.313412,  Validation acc = 0.5808823529411765"
     ]
    },
    {
     "name": "stderr",
     "output_type": "stream",
     "text": [
      "\r",
      "\u001b[32mEpoch [57]:  6%|███                                     |  ETA: 0:00:04\u001b[39m"
     ]
    },
    {
     "name": "stdout",
     "output_type": "stream",
     "text": [
      "\n"
     ]
    },
    {
     "name": "stderr",
     "output_type": "stream",
     "text": [
      "\u001b[32mEpoch [57]:100%|████████████████████████████████████████| Time: 0:00:03\u001b[39m\n"
     ]
    },
    {
     "name": "stdout",
     "output_type": "stream",
     "text": [
      "Epoch [57]:  Validation loss = 1.0910517,  Validation acc = 0.6911764705882353"
     ]
    },
    {
     "name": "stderr",
     "output_type": "stream",
     "text": [
      "\r",
      "\u001b[32mEpoch [58]:  6%|███                                     |  ETA: 0:00:04\u001b[39m"
     ]
    },
    {
     "name": "stdout",
     "output_type": "stream",
     "text": [
      "\n"
     ]
    },
    {
     "name": "stderr",
     "output_type": "stream",
     "text": [
      "\u001b[32mEpoch [58]:100%|████████████████████████████████████████| Time: 0:00:03\u001b[39m\n"
     ]
    },
    {
     "name": "stdout",
     "output_type": "stream",
     "text": [
      "Epoch [58]:  Validation loss = 1.1721228,  Validation acc = 0.7352941176470589"
     ]
    },
    {
     "name": "stderr",
     "output_type": "stream",
     "text": [
      "\r",
      "\u001b[32mEpoch [59]:  6%|███                                     |  ETA: 0:00:04\u001b[39m"
     ]
    },
    {
     "name": "stdout",
     "output_type": "stream",
     "text": [
      "\n"
     ]
    },
    {
     "name": "stderr",
     "output_type": "stream",
     "text": [
      "\u001b[32mEpoch [59]:100%|████████████████████████████████████████| Time: 0:00:03\u001b[39m\n",
      "\u001b[32mEpoch [60]:  6%|███                                     |  ETA: 0:00:04\u001b[39m"
     ]
    },
    {
     "name": "stdout",
     "output_type": "stream",
     "text": [
      "Epoch [59]:  Validation loss = 1.0938748,  Validation acc = 0.7352941176470589\n"
     ]
    },
    {
     "name": "stderr",
     "output_type": "stream",
     "text": [
      "\u001b[32mEpoch [60]:100%|████████████████████████████████████████| Time: 0:00:03\u001b[39m\n"
     ]
    },
    {
     "name": "stdout",
     "output_type": "stream",
     "text": [
      "Epoch [60]:  Validation loss = 1.2481893,  Validation acc = 0.6691176470588235"
     ]
    },
    {
     "name": "stderr",
     "output_type": "stream",
     "text": [
      "\r",
      "\u001b[32mEpoch [61]:  6%|███                                     |  ETA: 0:00:03\u001b[39m"
     ]
    },
    {
     "name": "stdout",
     "output_type": "stream",
     "text": [
      "\n"
     ]
    },
    {
     "name": "stderr",
     "output_type": "stream",
     "text": [
      "\u001b[32mEpoch [61]:100%|████████████████████████████████████████| Time: 0:00:03\u001b[39m\n"
     ]
    },
    {
     "name": "stdout",
     "output_type": "stream",
     "text": [
      "Epoch [61]:  Validation loss = 1.3658416,  Validation acc = 0.6176470588235294\n"
     ]
    },
    {
     "name": "stderr",
     "output_type": "stream",
     "text": [
      "┌ Warning:  -> Haven't improved in a while, dropping learning rate to 0.00512!\n",
      "└ @ Main In[23]:82\n",
      "\u001b[32mEpoch [62]:100%|████████████████████████████████████████| Time: 0:00:03\u001b[39m\n"
     ]
    },
    {
     "name": "stdout",
     "output_type": "stream",
     "text": [
      "Epoch [62]:  Validation loss = 1.225867,  Validation acc = 0.6213235294117647"
     ]
    },
    {
     "name": "stderr",
     "output_type": "stream",
     "text": [
      "\r",
      "\u001b[32mEpoch [63]:  6%|███                                     |  ETA: 0:00:03\u001b[39m"
     ]
    },
    {
     "name": "stdout",
     "output_type": "stream",
     "text": [
      "\n"
     ]
    },
    {
     "name": "stderr",
     "output_type": "stream",
     "text": [
      "\u001b[32mEpoch [63]:100%|████████████████████████████████████████| Time: 0:00:03\u001b[39m\n"
     ]
    },
    {
     "name": "stdout",
     "output_type": "stream",
     "text": [
      "Epoch [63]:  Validation loss = 1.099669,  Validation acc = 0.7316176470588235"
     ]
    },
    {
     "name": "stderr",
     "output_type": "stream",
     "text": [
      "\r",
      "\u001b[32mEpoch [64]:  6%|███                                     |  ETA: 0:00:04\u001b[39m"
     ]
    },
    {
     "name": "stdout",
     "output_type": "stream",
     "text": [
      "\n"
     ]
    },
    {
     "name": "stderr",
     "output_type": "stream",
     "text": [
      "\u001b[32mEpoch [64]:100%|████████████████████████████████████████| Time: 0:00:03\u001b[39m\n"
     ]
    },
    {
     "name": "stdout",
     "output_type": "stream",
     "text": [
      "Epoch [64]:  Validation loss = 1.0107548,  Validation acc = 0.7058823529411765"
     ]
    },
    {
     "name": "stderr",
     "output_type": "stream",
     "text": [
      "\r",
      "\u001b[32mEpoch [65]:  6%|███                                     |  ETA: 0:00:04\u001b[39m"
     ]
    },
    {
     "name": "stdout",
     "output_type": "stream",
     "text": [
      "\n"
     ]
    },
    {
     "name": "stderr",
     "output_type": "stream",
     "text": [
      "\u001b[32mEpoch [65]:100%|████████████████████████████████████████| Time: 0:00:03\u001b[39m\n"
     ]
    },
    {
     "name": "stdout",
     "output_type": "stream",
     "text": [
      "Epoch [65]:  Validation loss = 1.0277431,  Validation acc = 0.7316176470588235"
     ]
    },
    {
     "name": "stderr",
     "output_type": "stream",
     "text": [
      "\r",
      "\u001b[32mEpoch [66]:  6%|███                                     |  ETA: 0:00:04\u001b[39m"
     ]
    },
    {
     "name": "stdout",
     "output_type": "stream",
     "text": [
      "\n"
     ]
    },
    {
     "name": "stderr",
     "output_type": "stream",
     "text": [
      "\u001b[32mEpoch [66]:100%|████████████████████████████████████████| Time: 0:00:03\u001b[39m\n"
     ]
    },
    {
     "name": "stdout",
     "output_type": "stream",
     "text": [
      "Epoch [66]:  Validation loss = 1.2433974,  Validation acc = 0.6875"
     ]
    },
    {
     "name": "stderr",
     "output_type": "stream",
     "text": [
      "\r",
      "\u001b[32mEpoch [67]:  6%|███                                     |  ETA: 0:00:04\u001b[39m"
     ]
    },
    {
     "name": "stdout",
     "output_type": "stream",
     "text": [
      "\n"
     ]
    },
    {
     "name": "stderr",
     "output_type": "stream",
     "text": [
      "\u001b[32mEpoch [67]:100%|████████████████████████████████████████| Time: 0:00:03\u001b[39m\n"
     ]
    },
    {
     "name": "stdout",
     "output_type": "stream",
     "text": [
      "Epoch [67]:  Validation loss = 1.0944953,  Validation acc = 0.7095588235294118"
     ]
    },
    {
     "name": "stderr",
     "output_type": "stream",
     "text": [
      "\r",
      "\u001b[32mEpoch [68]:  6%|███                                     |  ETA: 0:00:04\u001b[39m"
     ]
    },
    {
     "name": "stdout",
     "output_type": "stream",
     "text": [
      "\n"
     ]
    },
    {
     "name": "stderr",
     "output_type": "stream",
     "text": [
      "\u001b[32mEpoch [68]:100%|████████████████████████████████████████| Time: 0:00:03\u001b[39m\n"
     ]
    },
    {
     "name": "stdout",
     "output_type": "stream",
     "text": [
      "Epoch [68]:  Validation loss = 1.1577344,  Validation acc = 0.7022058823529411"
     ]
    },
    {
     "name": "stderr",
     "output_type": "stream",
     "text": [
      "\r",
      "\u001b[32mEpoch [69]:  6%|███                                     |  ETA: 0:00:04\u001b[39m"
     ]
    },
    {
     "name": "stdout",
     "output_type": "stream",
     "text": [
      "\n"
     ]
    },
    {
     "name": "stderr",
     "output_type": "stream",
     "text": [
      "\u001b[32mEpoch [69]:100%|████████████████████████████████████████| Time: 0:00:03\u001b[39m\n"
     ]
    },
    {
     "name": "stdout",
     "output_type": "stream",
     "text": [
      "Epoch [69]:  Validation loss = 1.0454719,  Validation acc = 0.7095588235294118"
     ]
    },
    {
     "name": "stderr",
     "output_type": "stream",
     "text": [
      "\r",
      "\u001b[32mEpoch [70]:  6%|███                                     |  ETA: 0:00:04\u001b[39m"
     ]
    },
    {
     "name": "stdout",
     "output_type": "stream",
     "text": [
      "\n"
     ]
    },
    {
     "name": "stderr",
     "output_type": "stream",
     "text": [
      "\u001b[32mEpoch [70]:100%|████████████████████████████████████████| Time: 0:00:03\u001b[39m\n"
     ]
    },
    {
     "name": "stdout",
     "output_type": "stream",
     "text": [
      "Epoch [70]:  Validation loss = 1.0369519,  Validation acc = 0.7095588235294118"
     ]
    },
    {
     "name": "stderr",
     "output_type": "stream",
     "text": [
      "\r",
      "\u001b[32mEpoch [71]:  6%|███                                     |  ETA: 0:00:04\u001b[39m"
     ]
    },
    {
     "name": "stdout",
     "output_type": "stream",
     "text": [
      "\n"
     ]
    },
    {
     "name": "stderr",
     "output_type": "stream",
     "text": [
      "\u001b[32mEpoch [71]:100%|████████████████████████████████████████| Time: 0:00:03\u001b[39m\n"
     ]
    },
    {
     "name": "stdout",
     "output_type": "stream",
     "text": [
      "Epoch [71]:  Validation loss = 0.92347485,  Validation acc = 0.7205882352941176\n"
     ]
    },
    {
     "name": "stderr",
     "output_type": "stream",
     "text": [
      "┌ Warning:  -> Haven't improved in a while, dropping learning rate to 0.004096000000000001!\n",
      "└ @ Main In[23]:82\n",
      "\u001b[32mEpoch [72]:100%|████████████████████████████████████████| Time: 0:00:03\u001b[39m\n"
     ]
    },
    {
     "name": "stdout",
     "output_type": "stream",
     "text": [
      "Epoch [72]:  Validation loss = 0.91297245,  Validation acc = 0.7242647058823529"
     ]
    },
    {
     "name": "stderr",
     "output_type": "stream",
     "text": [
      "\r",
      "\u001b[32mEpoch [73]:  6%|███                                     |  ETA: 0:00:04\u001b[39m"
     ]
    },
    {
     "name": "stdout",
     "output_type": "stream",
     "text": [
      "\n"
     ]
    },
    {
     "name": "stderr",
     "output_type": "stream",
     "text": [
      "\u001b[32mEpoch [73]:100%|████████████████████████████████████████| Time: 0:00:03\u001b[39m\n"
     ]
    },
    {
     "name": "stdout",
     "output_type": "stream",
     "text": [
      "Epoch [73]:  Validation loss = 0.9716029,  Validation acc = 0.7132352941176471\n"
     ]
    },
    {
     "name": "stderr",
     "output_type": "stream",
     "text": [
      "\u001b[32mEpoch [74]:100%|████████████████████████████████████████| Time: 0:00:03\u001b[39m\n"
     ]
    },
    {
     "name": "stdout",
     "output_type": "stream",
     "text": [
      "Epoch [74]:  Validation loss = 1.0482763,  Validation acc = 0.6948529411764706"
     ]
    },
    {
     "name": "stderr",
     "output_type": "stream",
     "text": [
      "\r",
      "\u001b[32mEpoch [75]:  6%|███                                     |  ETA: 0:00:04\u001b[39m"
     ]
    },
    {
     "name": "stdout",
     "output_type": "stream",
     "text": [
      "\n"
     ]
    },
    {
     "name": "stderr",
     "output_type": "stream",
     "text": [
      "\u001b[32mEpoch [75]:100%|████████████████████████████████████████| Time: 0:00:03\u001b[39m\n"
     ]
    },
    {
     "name": "stdout",
     "output_type": "stream",
     "text": [
      "Epoch [75]:  Validation loss = 0.982598,  Validation acc = 0.7205882352941176\n"
     ]
    },
    {
     "name": "stderr",
     "output_type": "stream",
     "text": [
      "\u001b[32mEpoch [76]:100%|████████████████████████████████████████| Time: 0:00:03\u001b[39m\n"
     ]
    },
    {
     "name": "stdout",
     "output_type": "stream",
     "text": [
      "Epoch [76]:  Validation loss = 1.1151621,  Validation acc = 0.6654411764705882"
     ]
    },
    {
     "name": "stderr",
     "output_type": "stream",
     "text": [
      "\r",
      "\u001b[32mEpoch [77]:  6%|███                                     |  ETA: 0:00:04\u001b[39m"
     ]
    },
    {
     "name": "stdout",
     "output_type": "stream",
     "text": [
      "\n"
     ]
    },
    {
     "name": "stderr",
     "output_type": "stream",
     "text": [
      "\u001b[32mEpoch [77]:100%|████████████████████████████████████████| Time: 0:00:03\u001b[39m\n",
      "\u001b[32mEpoch [78]:  6%|███                                     |  ETA: 0:00:04\u001b[39m"
     ]
    },
    {
     "name": "stdout",
     "output_type": "stream",
     "text": [
      "Epoch [77]:  Validation loss = 1.4644107,  Validation acc = 0.6764705882352942\n"
     ]
    },
    {
     "name": "stderr",
     "output_type": "stream",
     "text": [
      "\u001b[32mEpoch [78]:100%|████████████████████████████████████████| Time: 0:00:03\u001b[39m\n"
     ]
    },
    {
     "name": "stdout",
     "output_type": "stream",
     "text": [
      "Epoch [78]:  Validation loss = 1.1276349,  Validation acc = 0.6875"
     ]
    },
    {
     "name": "stderr",
     "output_type": "stream",
     "text": [
      "\r",
      "\u001b[32mEpoch [79]:  6%|███                                     |  ETA: 0:00:04\u001b[39m"
     ]
    },
    {
     "name": "stdout",
     "output_type": "stream",
     "text": [
      "\n"
     ]
    },
    {
     "name": "stderr",
     "output_type": "stream",
     "text": [
      "\u001b[32mEpoch [79]:100%|████████████████████████████████████████| Time: 0:00:03\u001b[39m\n"
     ]
    },
    {
     "name": "stdout",
     "output_type": "stream",
     "text": [
      "Epoch [79]:  Validation loss = 1.2005441,  Validation acc = 0.6727941176470589\n"
     ]
    },
    {
     "name": "stderr",
     "output_type": "stream",
     "text": [
      "\u001b[32mEpoch [80]:100%|████████████████████████████████████████| Time: 0:00:03\u001b[39m\n"
     ]
    },
    {
     "name": "stdout",
     "output_type": "stream",
     "text": [
      "Epoch [80]:  Validation loss = 1.3232489,  Validation acc = 0.6397058823529411"
     ]
    },
    {
     "name": "stderr",
     "output_type": "stream",
     "text": [
      "\r",
      "\u001b[32mEpoch [81]:  6%|███                                     |  ETA: 0:00:04\u001b[39m"
     ]
    },
    {
     "name": "stdout",
     "output_type": "stream",
     "text": [
      "\n"
     ]
    },
    {
     "name": "stderr",
     "output_type": "stream",
     "text": [
      "\u001b[32mEpoch [81]:100%|████████████████████████████████████████| Time: 0:00:03\u001b[39m\n"
     ]
    },
    {
     "name": "stdout",
     "output_type": "stream",
     "text": [
      "Epoch [81]:  Validation loss = 1.0510644,  Validation acc = 0.7205882352941176\n"
     ]
    },
    {
     "name": "stderr",
     "output_type": "stream",
     "text": [
      "┌ Warning:  -> Haven't improved in a while, dropping learning rate to 0.0032768000000000007!\n",
      "└ @ Main In[23]:82\n",
      "\u001b[32mEpoch [82]:100%|████████████████████████████████████████| Time: 0:00:03\u001b[39m\n"
     ]
    },
    {
     "name": "stdout",
     "output_type": "stream",
     "text": [
      "Epoch [82]:  Validation loss = 1.1035519,  Validation acc = 0.7279411764705882"
     ]
    },
    {
     "name": "stderr",
     "output_type": "stream",
     "text": [
      "\r",
      "\u001b[32mEpoch [83]:  6%|███                                     |  ETA: 0:00:04\u001b[39m"
     ]
    },
    {
     "name": "stdout",
     "output_type": "stream",
     "text": [
      "\n"
     ]
    },
    {
     "name": "stderr",
     "output_type": "stream",
     "text": [
      "\u001b[32mEpoch [83]:100%|████████████████████████████████████████| Time: 0:00:03\u001b[39m"
     ]
    },
    {
     "name": "stdout",
     "output_type": "stream",
     "text": [
      "Epoch [83]:  Validation loss = 1.0228192,  Validation acc = 0.7242647058823529"
     ]
    },
    {
     "name": "stderr",
     "output_type": "stream",
     "text": [
      "\n",
      "\u001b[32mEpoch [84]:  6%|███                                     |  ETA: 0:00:04\u001b[39m"
     ]
    },
    {
     "name": "stdout",
     "output_type": "stream",
     "text": [
      "\n"
     ]
    },
    {
     "name": "stderr",
     "output_type": "stream",
     "text": [
      "\u001b[32mEpoch [84]:100%|████████████████████████████████████████| Time: 0:00:03\u001b[39m\n"
     ]
    },
    {
     "name": "stdout",
     "output_type": "stream",
     "text": [
      "Epoch [84]:  Validation loss = 1.0041273,  Validation acc = 0.7316176470588235\n"
     ]
    },
    {
     "name": "stderr",
     "output_type": "stream",
     "text": [
      "\u001b[32mEpoch [85]:100%|████████████████████████████████████████| Time: 0:00:03\u001b[39m\n"
     ]
    },
    {
     "name": "stdout",
     "output_type": "stream",
     "text": [
      "Epoch [85]:  Validation loss = 1.0056728,  Validation acc = 0.6985294117647058"
     ]
    },
    {
     "name": "stderr",
     "output_type": "stream",
     "text": [
      "\r",
      "\u001b[32mEpoch [86]:  6%|███                                     |  ETA: 0:00:04\u001b[39m"
     ]
    },
    {
     "name": "stdout",
     "output_type": "stream",
     "text": [
      "\n"
     ]
    },
    {
     "name": "stderr",
     "output_type": "stream",
     "text": [
      "\u001b[32mEpoch [86]:100%|████████████████████████████████████████| Time: 0:00:03\u001b[39m\n"
     ]
    },
    {
     "name": "stdout",
     "output_type": "stream",
     "text": [
      "Epoch [86]:  Validation loss = 1.0088634,  Validation acc = 0.7132352941176471"
     ]
    },
    {
     "name": "stderr",
     "output_type": "stream",
     "text": [
      "\r",
      "\u001b[32mEpoch [87]:  6%|███                                     |  ETA: 0:00:04\u001b[39m"
     ]
    },
    {
     "name": "stdout",
     "output_type": "stream",
     "text": [
      "\n"
     ]
    },
    {
     "name": "stderr",
     "output_type": "stream",
     "text": [
      "\u001b[32mEpoch [87]:100%|████████████████████████████████████████| Time: 0:00:03\u001b[39m\n"
     ]
    },
    {
     "name": "stdout",
     "output_type": "stream",
     "text": [
      "Epoch [87]:  Validation loss = 1.070175,  Validation acc = 0.7022058823529411"
     ]
    },
    {
     "name": "stderr",
     "output_type": "stream",
     "text": [
      "\r",
      "\u001b[32mEpoch [88]:  6%|███                                     |  ETA: 0:00:04\u001b[39m"
     ]
    },
    {
     "name": "stdout",
     "output_type": "stream",
     "text": [
      "\n"
     ]
    },
    {
     "name": "stderr",
     "output_type": "stream",
     "text": [
      "\u001b[32mEpoch [88]:100%|████████████████████████████████████████| Time: 0:00:03\u001b[39m\n"
     ]
    },
    {
     "name": "stdout",
     "output_type": "stream",
     "text": [
      "Epoch [88]:  Validation loss = 1.0326813,  Validation acc = 0.7132352941176471\n"
     ]
    },
    {
     "name": "stderr",
     "output_type": "stream",
     "text": [
      "\u001b[32mEpoch [89]:100%|████████████████████████████████████████| Time: 0:00:03\u001b[39m\n"
     ]
    },
    {
     "name": "stdout",
     "output_type": "stream",
     "text": [
      "Epoch [89]:  Validation loss = 1.0053862,  Validation acc = 0.7095588235294118"
     ]
    },
    {
     "name": "stderr",
     "output_type": "stream",
     "text": [
      "\r",
      "\u001b[32mEpoch [90]:  6%|███                                     |  ETA: 0:00:04\u001b[39m"
     ]
    },
    {
     "name": "stdout",
     "output_type": "stream",
     "text": [
      "\n"
     ]
    },
    {
     "name": "stderr",
     "output_type": "stream",
     "text": [
      "\u001b[32mEpoch [90]:100%|████████████████████████████████████████| Time: 0:00:04\u001b[39m\n"
     ]
    },
    {
     "name": "stdout",
     "output_type": "stream",
     "text": [
      "Epoch [90]:  Validation loss = 0.9071743,  Validation acc = 0.7058823529411765"
     ]
    },
    {
     "name": "stderr",
     "output_type": "stream",
     "text": [
      "\r",
      "\u001b[32mEpoch [91]:  6%|███                                     |  ETA: 0:00:04\u001b[39m"
     ]
    },
    {
     "name": "stdout",
     "output_type": "stream",
     "text": [
      "\n"
     ]
    },
    {
     "name": "stderr",
     "output_type": "stream",
     "text": [
      "\u001b[32mEpoch [91]:100%|████████████████████████████████████████| Time: 0:00:03\u001b[39m\n"
     ]
    },
    {
     "name": "stdout",
     "output_type": "stream",
     "text": [
      "Epoch [91]:  Validation loss = 0.9400578,  Validation acc = 0.7316176470588235\n"
     ]
    },
    {
     "name": "stderr",
     "output_type": "stream",
     "text": [
      "┌ Warning:  -> Haven't improved in a while, dropping learning rate to 0.002621440000000001!\n",
      "└ @ Main In[23]:82\n",
      "┌ Warning:  -> No improvement, stop training.\n",
      "└ @ Main In[23]:87\n",
      "┌ Info: Start training loop...\n",
      "└ @ Main In[23]:12\n",
      "\u001b[32mEpoch [1]:100%|█████████████████████████████████████████| Time: 0:00:10\u001b[39m\n"
     ]
    },
    {
     "name": "stdout",
     "output_type": "stream",
     "text": [
      "Epoch [1]:  Validation loss = 3.0895643,  Validation acc = 0.20220588235294118\n",
      " -> New best accuracy! Saving model out to .\\models\\monkey_complex_acc[020%].bson"
     ]
    },
    {
     "name": "stderr",
     "output_type": "stream",
     "text": [
      "\r",
      "\u001b[32mEpoch [2]:  6%|███                                      |  ETA: 0:00:07\u001b[39m"
     ]
    },
    {
     "name": "stdout",
     "output_type": "stream",
     "text": [
      "\n"
     ]
    },
    {
     "name": "stderr",
     "output_type": "stream",
     "text": [
      "\u001b[32mEpoch [2]:100%|█████████████████████████████████████████| Time: 0:00:07\u001b[39m\n"
     ]
    },
    {
     "name": "stdout",
     "output_type": "stream",
     "text": [
      "Epoch [2]:  Validation loss = 2.237545,  Validation acc = 0.2536764705882353\n",
      " -> New best accuracy! Saving model out to .\\models\\monkey_complex_acc[025%].bson\n"
     ]
    },
    {
     "name": "stderr",
     "output_type": "stream",
     "text": [
      "\u001b[32mEpoch [3]:100%|█████████████████████████████████████████| Time: 0:00:07\u001b[39m\n"
     ]
    },
    {
     "name": "stdout",
     "output_type": "stream",
     "text": [
      "Epoch [3]:  Validation loss = 1.8255717,  Validation acc = 0.3492647058823529\n",
      " -> New best accuracy! Saving model out to .\\models\\monkey_complex_acc[035%].bson\n"
     ]
    },
    {
     "name": "stderr",
     "output_type": "stream",
     "text": [
      "\u001b[32mEpoch [4]:100%|█████████████████████████████████████████| Time: 0:00:06\u001b[39m\n"
     ]
    },
    {
     "name": "stdout",
     "output_type": "stream",
     "text": [
      "Epoch [4]:  Validation loss = 1.7172678,  Validation acc = 0.4411764705882353\n",
      " -> New best accuracy! Saving model out to .\\models\\monkey_complex_acc[044%].bson"
     ]
    },
    {
     "name": "stderr",
     "output_type": "stream",
     "text": [
      "\r",
      "\u001b[32mEpoch [5]:  6%|███                                      |  ETA: 0:00:06\u001b[39m"
     ]
    },
    {
     "name": "stdout",
     "output_type": "stream",
     "text": [
      "\n"
     ]
    },
    {
     "name": "stderr",
     "output_type": "stream",
     "text": [
      "\u001b[32mEpoch [5]:100%|█████████████████████████████████████████| Time: 0:00:06\u001b[39m\n"
     ]
    },
    {
     "name": "stdout",
     "output_type": "stream",
     "text": [
      "Epoch [5]:  Validation loss = 1.6279079,  Validation acc = 0.3382352941176471"
     ]
    },
    {
     "name": "stderr",
     "output_type": "stream",
     "text": [
      "\r",
      "\u001b[32mEpoch [6]:  6%|███                                      |  ETA: 0:00:06\u001b[39m"
     ]
    },
    {
     "name": "stdout",
     "output_type": "stream",
     "text": [
      "\n"
     ]
    },
    {
     "name": "stderr",
     "output_type": "stream",
     "text": [
      "\u001b[32mEpoch [6]:100%|█████████████████████████████████████████| Time: 0:00:06\u001b[39m\n"
     ]
    },
    {
     "name": "stdout",
     "output_type": "stream",
     "text": [
      "Epoch [6]:  Validation loss = 1.7411667,  Validation acc = 0.34558823529411764"
     ]
    },
    {
     "name": "stderr",
     "output_type": "stream",
     "text": [
      "\r",
      "\u001b[32mEpoch [7]:  6%|███                                      |  ETA: 0:00:06\u001b[39m"
     ]
    },
    {
     "name": "stdout",
     "output_type": "stream",
     "text": [
      "\n"
     ]
    },
    {
     "name": "stderr",
     "output_type": "stream",
     "text": [
      "\u001b[32mEpoch [7]:100%|█████████████████████████████████████████| Time: 0:00:06\u001b[39m\n"
     ]
    },
    {
     "name": "stdout",
     "output_type": "stream",
     "text": [
      "Epoch [7]:  Validation loss = 1.3624536,  Validation acc = 0.46691176470588236\n",
      " -> New best accuracy! Saving model out to .\\models\\monkey_complex_acc[047%].bson\n"
     ]
    },
    {
     "name": "stderr",
     "output_type": "stream",
     "text": [
      "\u001b[32mEpoch [8]:100%|█████████████████████████████████████████| Time: 0:00:06\u001b[39m\n"
     ]
    },
    {
     "name": "stdout",
     "output_type": "stream",
     "text": [
      "Epoch [8]:  Validation loss = 1.4068125,  Validation acc = 0.4889705882352941\n",
      " -> New best accuracy! Saving model out to .\\models\\monkey_complex_acc[049%].bson\n"
     ]
    },
    {
     "name": "stderr",
     "output_type": "stream",
     "text": [
      "\u001b[32mEpoch [9]:100%|█████████████████████████████████████████| Time: 0:00:06\u001b[39m\n"
     ]
    },
    {
     "name": "stdout",
     "output_type": "stream",
     "text": [
      "Epoch [9]:  Validation loss = 1.4862877,  Validation acc = 0.41544117647058826"
     ]
    },
    {
     "name": "stderr",
     "output_type": "stream",
     "text": [
      "\r",
      "\u001b[32mEpoch [10]:  6%|███                                     |  ETA: 0:00:06\u001b[39m"
     ]
    },
    {
     "name": "stdout",
     "output_type": "stream",
     "text": [
      "\n"
     ]
    },
    {
     "name": "stderr",
     "output_type": "stream",
     "text": [
      "\u001b[32mEpoch [10]:100%|████████████████████████████████████████| Time: 0:00:06\u001b[39m\n"
     ]
    },
    {
     "name": "stdout",
     "output_type": "stream",
     "text": [
      "Epoch [10]:  Validation loss = 1.4023119,  Validation acc = 0.4522058823529412"
     ]
    },
    {
     "name": "stderr",
     "output_type": "stream",
     "text": [
      "\r",
      "\u001b[32mEpoch [11]:  6%|███                                     |  ETA: 0:00:06\u001b[39m"
     ]
    },
    {
     "name": "stdout",
     "output_type": "stream",
     "text": [
      "\n"
     ]
    },
    {
     "name": "stderr",
     "output_type": "stream",
     "text": [
      "\u001b[32mEpoch [11]:100%|████████████████████████████████████████| Time: 0:00:06\u001b[39m\n"
     ]
    },
    {
     "name": "stdout",
     "output_type": "stream",
     "text": [
      "Epoch [11]:  Validation loss = 1.4662899,  Validation acc = 0.5\n",
      " -> New best accuracy! Saving model out to .\\models\\monkey_complex_acc[050%].bson\n"
     ]
    },
    {
     "name": "stderr",
     "output_type": "stream",
     "text": [
      "\u001b[32mEpoch [12]:100%|████████████████████████████████████████| Time: 0:00:06\u001b[39m\n"
     ]
    },
    {
     "name": "stdout",
     "output_type": "stream",
     "text": [
      "Epoch [12]:  Validation loss = 1.5465539,  Validation acc = 0.5\n"
     ]
    },
    {
     "name": "stderr",
     "output_type": "stream",
     "text": [
      "\r",
      "\u001b[32mEpoch [13]:  6%|███                                     |  ETA: 0:00:06\u001b[39m"
     ]
    },
    {
     "name": "stdout",
     "output_type": "stream",
     "text": [
      " -> New best accuracy! Saving model out to .\\models\\monkey_complex_acc[050%].bson\n"
     ]
    },
    {
     "name": "stderr",
     "output_type": "stream",
     "text": [
      "\u001b[32mEpoch [13]:100%|████████████████████████████████████████| Time: 0:00:06\u001b[39m\n"
     ]
    },
    {
     "name": "stdout",
     "output_type": "stream",
     "text": [
      "Epoch [13]:  Validation loss = 1.6784053,  Validation acc = 0.43014705882352944"
     ]
    },
    {
     "name": "stderr",
     "output_type": "stream",
     "text": [
      "\r",
      "\u001b[32mEpoch [14]:  6%|███                                     |  ETA: 0:00:06\u001b[39m"
     ]
    },
    {
     "name": "stdout",
     "output_type": "stream",
     "text": [
      "\n"
     ]
    },
    {
     "name": "stderr",
     "output_type": "stream",
     "text": [
      "\u001b[32mEpoch [14]:100%|████████████████████████████████████████| Time: 0:00:06\u001b[39m\n"
     ]
    },
    {
     "name": "stdout",
     "output_type": "stream",
     "text": [
      "Epoch [14]:  Validation loss = 1.4468473,  Validation acc = 0.5330882352941176\n",
      " -> New best accuracy! Saving model out to .\\models\\monkey_complex_acc[053%].bson\n"
     ]
    },
    {
     "name": "stderr",
     "output_type": "stream",
     "text": [
      "\u001b[32mEpoch [15]:100%|████████████████████████████████████████| Time: 0:00:06\u001b[39m\n"
     ]
    },
    {
     "name": "stdout",
     "output_type": "stream",
     "text": [
      "Epoch [15]:  Validation loss = 1.8626524,  Validation acc = 0.5220588235294118"
     ]
    },
    {
     "name": "stderr",
     "output_type": "stream",
     "text": [
      "\r",
      "\u001b[32mEpoch [16]:  6%|███                                     |  ETA: 0:00:06\u001b[39m"
     ]
    },
    {
     "name": "stdout",
     "output_type": "stream",
     "text": [
      "\n"
     ]
    },
    {
     "name": "stderr",
     "output_type": "stream",
     "text": [
      "\u001b[32mEpoch [16]:100%|████████████████████████████████████████| Time: 0:00:06\u001b[39m\n"
     ]
    },
    {
     "name": "stdout",
     "output_type": "stream",
     "text": [
      "Epoch [16]:  Validation loss = 1.9403027,  Validation acc = 0.4522058823529412"
     ]
    },
    {
     "name": "stderr",
     "output_type": "stream",
     "text": [
      "\r",
      "\u001b[32mEpoch [17]:  6%|███                                     |  ETA: 0:00:06\u001b[39m"
     ]
    },
    {
     "name": "stdout",
     "output_type": "stream",
     "text": [
      "\n"
     ]
    },
    {
     "name": "stderr",
     "output_type": "stream",
     "text": [
      "\u001b[32mEpoch [17]:100%|████████████████████████████████████████| Time: 0:00:06\u001b[39m\n"
     ]
    },
    {
     "name": "stdout",
     "output_type": "stream",
     "text": [
      "Epoch [17]:  Validation loss = 1.6907946,  Validation acc = 0.5330882352941176\n",
      " -> New best accuracy! Saving model out to .\\models\\monkey_complex_acc[053%].bson"
     ]
    },
    {
     "name": "stderr",
     "output_type": "stream",
     "text": [
      "\r",
      "\u001b[32mEpoch [18]:  6%|███                                     |  ETA: 0:00:06\u001b[39m"
     ]
    },
    {
     "name": "stdout",
     "output_type": "stream",
     "text": [
      "\n"
     ]
    },
    {
     "name": "stderr",
     "output_type": "stream",
     "text": [
      "\u001b[32mEpoch [18]:100%|████████████████████████████████████████| Time: 0:00:06\u001b[39m\n"
     ]
    },
    {
     "name": "stdout",
     "output_type": "stream",
     "text": [
      "Epoch [18]:  Validation loss = 1.5944968,  Validation acc = 0.5257352941176471"
     ]
    },
    {
     "name": "stderr",
     "output_type": "stream",
     "text": [
      "\r",
      "\u001b[32mEpoch [19]:  6%|███                                     |  ETA: 0:00:06\u001b[39m"
     ]
    },
    {
     "name": "stdout",
     "output_type": "stream",
     "text": [
      "\n"
     ]
    },
    {
     "name": "stderr",
     "output_type": "stream",
     "text": [
      "\u001b[32mEpoch [19]:100%|████████████████████████████████████████| Time: 0:00:06\u001b[39m\n"
     ]
    },
    {
     "name": "stdout",
     "output_type": "stream",
     "text": [
      "Epoch [19]:  Validation loss = 1.9083809,  Validation acc = 0.4963235294117647"
     ]
    },
    {
     "name": "stderr",
     "output_type": "stream",
     "text": [
      "\r",
      "\u001b[32mEpoch [20]:  6%|███                                     |  ETA: 0:00:06\u001b[39m"
     ]
    },
    {
     "name": "stdout",
     "output_type": "stream",
     "text": [
      "\n"
     ]
    },
    {
     "name": "stderr",
     "output_type": "stream",
     "text": [
      "\u001b[32mEpoch [20]:100%|████████████████████████████████████████| Time: 0:00:06\u001b[39m\n"
     ]
    },
    {
     "name": "stdout",
     "output_type": "stream",
     "text": [
      "Epoch [20]:  Validation loss = 1.6458772,  Validation acc = 0.4889705882352941"
     ]
    },
    {
     "name": "stderr",
     "output_type": "stream",
     "text": [
      "\r",
      "\u001b[32mEpoch [21]:  6%|███                                     |  ETA: 0:00:06\u001b[39m"
     ]
    },
    {
     "name": "stdout",
     "output_type": "stream",
     "text": [
      "\n"
     ]
    },
    {
     "name": "stderr",
     "output_type": "stream",
     "text": [
      "\u001b[32mEpoch [21]:100%|████████████████████████████████████████| Time: 0:00:06\u001b[39m\n"
     ]
    },
    {
     "name": "stdout",
     "output_type": "stream",
     "text": [
      "Epoch [21]:  Validation loss = 1.8134135,  Validation acc = 0.5110294117647058"
     ]
    },
    {
     "name": "stderr",
     "output_type": "stream",
     "text": [
      "\r",
      "\u001b[32mEpoch [22]:  6%|███                                     |  ETA: 0:00:06\u001b[39m"
     ]
    },
    {
     "name": "stdout",
     "output_type": "stream",
     "text": [
      "\n"
     ]
    },
    {
     "name": "stderr",
     "output_type": "stream",
     "text": [
      "\u001b[32mEpoch [22]:100%|████████████████████████████████████████| Time: 0:00:06\u001b[39m\n"
     ]
    },
    {
     "name": "stdout",
     "output_type": "stream",
     "text": [
      "Epoch [22]:  Validation loss = 1.8550338,  Validation acc = 0.5477941176470589\n",
      " -> New best accuracy! Saving model out to .\\models\\monkey_complex_acc[055%].bson"
     ]
    },
    {
     "name": "stderr",
     "output_type": "stream",
     "text": [
      "\r",
      "\u001b[32mEpoch [23]:  6%|███                                     |  ETA: 0:00:06\u001b[39m"
     ]
    },
    {
     "name": "stdout",
     "output_type": "stream",
     "text": [
      "\n"
     ]
    },
    {
     "name": "stderr",
     "output_type": "stream",
     "text": [
      "\u001b[32mEpoch [23]:100%|████████████████████████████████████████| Time: 0:00:06\u001b[39m\n"
     ]
    },
    {
     "name": "stdout",
     "output_type": "stream",
     "text": [
      "Epoch [23]:  Validation loss = 1.6258628,  Validation acc = 0.5735294117647058\n"
     ]
    },
    {
     "name": "stderr",
     "output_type": "stream",
     "text": [
      "\r",
      "\u001b[32mEpoch [24]:  6%|███                                     |  ETA: 0:00:06\u001b[39m"
     ]
    },
    {
     "name": "stdout",
     "output_type": "stream",
     "text": [
      " -> New best accuracy! Saving model out to .\\models\\monkey_complex_acc[057%].bson\n"
     ]
    },
    {
     "name": "stderr",
     "output_type": "stream",
     "text": [
      "\u001b[32mEpoch [24]:100%|████████████████████████████████████████| Time: 0:00:06\u001b[39m\n"
     ]
    },
    {
     "name": "stdout",
     "output_type": "stream",
     "text": [
      "Epoch [24]:  Validation loss = 1.8905014,  Validation acc = 0.5441176470588235"
     ]
    },
    {
     "name": "stderr",
     "output_type": "stream",
     "text": [
      "\r",
      "\u001b[32mEpoch [25]:  6%|███                                     |  ETA: 0:00:06\u001b[39m"
     ]
    },
    {
     "name": "stdout",
     "output_type": "stream",
     "text": [
      "\n"
     ]
    },
    {
     "name": "stderr",
     "output_type": "stream",
     "text": [
      "\u001b[32mEpoch [25]:100%|████████████████████████████████████████| Time: 0:00:06\u001b[39m\n"
     ]
    },
    {
     "name": "stdout",
     "output_type": "stream",
     "text": [
      "Epoch [25]:  Validation loss = 3.7551522,  Validation acc = 0.40808823529411764"
     ]
    },
    {
     "name": "stderr",
     "output_type": "stream",
     "text": [
      "\r",
      "\u001b[32mEpoch [26]:  6%|███                                     |  ETA: 0:00:06\u001b[39m"
     ]
    },
    {
     "name": "stdout",
     "output_type": "stream",
     "text": [
      "\n"
     ]
    },
    {
     "name": "stderr",
     "output_type": "stream",
     "text": [
      "\u001b[32mEpoch [26]:100%|████████████████████████████████████████| Time: 0:00:06\u001b[39m\n"
     ]
    },
    {
     "name": "stdout",
     "output_type": "stream",
     "text": [
      "Epoch [26]:  Validation loss = 2.9372137,  Validation acc = 0.40808823529411764"
     ]
    },
    {
     "name": "stderr",
     "output_type": "stream",
     "text": [
      "\r",
      "\u001b[32mEpoch [27]:  6%|███                                     |  ETA: 0:00:06\u001b[39m"
     ]
    },
    {
     "name": "stdout",
     "output_type": "stream",
     "text": [
      "\n"
     ]
    },
    {
     "name": "stderr",
     "output_type": "stream",
     "text": [
      "\u001b[32mEpoch [27]:100%|████████████████████████████████████████| Time: 0:00:06\u001b[39m\n"
     ]
    },
    {
     "name": "stdout",
     "output_type": "stream",
     "text": [
      "Epoch [27]:  Validation loss = 1.5284172,  Validation acc = 0.5036764705882353"
     ]
    },
    {
     "name": "stderr",
     "output_type": "stream",
     "text": [
      "\r"
     ]
    },
    {
     "name": "stdout",
     "output_type": "stream",
     "text": [
      "\n"
     ]
    },
    {
     "name": "stderr",
     "output_type": "stream",
     "text": [
      "\u001b[32mEpoch [28]:100%|████████████████████████████████████████| Time: 0:00:06\u001b[39m\n"
     ]
    },
    {
     "name": "stdout",
     "output_type": "stream",
     "text": [
      "Epoch [28]:  Validation loss = 2.1289418,  Validation acc = 0.47058823529411764"
     ]
    },
    {
     "name": "stderr",
     "output_type": "stream",
     "text": [
      "\r",
      "\u001b[32mEpoch [29]:  6%|███                                     |  ETA: 0:00:06\u001b[39m"
     ]
    },
    {
     "name": "stdout",
     "output_type": "stream",
     "text": [
      "\n"
     ]
    },
    {
     "name": "stderr",
     "output_type": "stream",
     "text": [
      "\u001b[32mEpoch [29]:100%|████████████████████████████████████████| Time: 0:00:06\u001b[39m\n"
     ]
    },
    {
     "name": "stdout",
     "output_type": "stream",
     "text": [
      "Epoch [29]:  Validation loss = 1.7128925,  Validation acc = 0.5220588235294118"
     ]
    },
    {
     "name": "stderr",
     "output_type": "stream",
     "text": [
      "\r",
      "\u001b[32mEpoch [30]:  6%|███                                     |  ETA: 0:00:06\u001b[39m"
     ]
    },
    {
     "name": "stdout",
     "output_type": "stream",
     "text": [
      "\n"
     ]
    },
    {
     "name": "stderr",
     "output_type": "stream",
     "text": [
      "\u001b[32mEpoch [30]:100%|████████████████████████████████████████| Time: 0:00:06\u001b[39m\n"
     ]
    },
    {
     "name": "stdout",
     "output_type": "stream",
     "text": [
      "Epoch [30]:  Validation loss = 1.7608625,  Validation acc = 0.5220588235294118"
     ]
    },
    {
     "name": "stderr",
     "output_type": "stream",
     "text": [
      "\r"
     ]
    },
    {
     "name": "stdout",
     "output_type": "stream",
     "text": [
      "\n"
     ]
    },
    {
     "name": "stderr",
     "output_type": "stream",
     "text": [
      "\u001b[32mEpoch [31]:100%|████████████████████████████████████████| Time: 0:00:06\u001b[39m\n"
     ]
    },
    {
     "name": "stdout",
     "output_type": "stream",
     "text": [
      "Epoch [31]:  Validation loss = 1.6440879,  Validation acc = 0.5404411764705882"
     ]
    },
    {
     "name": "stderr",
     "output_type": "stream",
     "text": [
      "\r"
     ]
    },
    {
     "name": "stdout",
     "output_type": "stream",
     "text": [
      "\n"
     ]
    },
    {
     "name": "stderr",
     "output_type": "stream",
     "text": [
      "\u001b[32mEpoch [32]:100%|████████████████████████████████████████| Time: 0:00:06\u001b[39m\n"
     ]
    },
    {
     "name": "stdout",
     "output_type": "stream",
     "text": [
      "Epoch [32]:  Validation loss = 1.4746408,  Validation acc = 0.5735294117647058\n",
      " -> New best accuracy! Saving model out to .\\models\\monkey_complex_acc[057%].bson\n"
     ]
    },
    {
     "name": "stderr",
     "output_type": "stream",
     "text": [
      "\u001b[32mEpoch [33]:100%|████████████████████████████████████████| Time: 0:00:06\u001b[39m\n"
     ]
    },
    {
     "name": "stdout",
     "output_type": "stream",
     "text": [
      "Epoch [33]:  Validation loss = 1.8006393,  Validation acc = 0.5661764705882353"
     ]
    },
    {
     "name": "stderr",
     "output_type": "stream",
     "text": [
      "\r",
      "\u001b[32mEpoch [34]:  6%|███                                     |  ETA: 0:00:06\u001b[39m"
     ]
    },
    {
     "name": "stdout",
     "output_type": "stream",
     "text": [
      "\n"
     ]
    },
    {
     "name": "stderr",
     "output_type": "stream",
     "text": [
      "\u001b[32mEpoch [34]:100%|████████████████████████████████████████| Time: 0:00:06\u001b[39m\n"
     ]
    },
    {
     "name": "stdout",
     "output_type": "stream",
     "text": [
      "Epoch [34]:  Validation loss = 1.721272,  Validation acc = 0.5147058823529411"
     ]
    },
    {
     "name": "stderr",
     "output_type": "stream",
     "text": [
      "\r",
      "\u001b[32mEpoch [35]:  6%|███                                     |  ETA: 0:00:06\u001b[39m"
     ]
    },
    {
     "name": "stdout",
     "output_type": "stream",
     "text": [
      "\n"
     ]
    },
    {
     "name": "stderr",
     "output_type": "stream",
     "text": [
      "\u001b[32mEpoch [35]:100%|████████████████████████████████████████| Time: 0:00:06\u001b[39m\n"
     ]
    },
    {
     "name": "stdout",
     "output_type": "stream",
     "text": [
      "Epoch [35]:  Validation loss = 1.7086736,  Validation acc = 0.5477941176470589"
     ]
    },
    {
     "name": "stderr",
     "output_type": "stream",
     "text": [
      "\r",
      "\u001b[32mEpoch [36]:  6%|███                                     |  ETA: 0:00:06\u001b[39m"
     ]
    },
    {
     "name": "stdout",
     "output_type": "stream",
     "text": [
      "\n"
     ]
    },
    {
     "name": "stderr",
     "output_type": "stream",
     "text": [
      "\u001b[32mEpoch [36]:100%|████████████████████████████████████████| Time: 0:00:06\u001b[39m\n"
     ]
    },
    {
     "name": "stdout",
     "output_type": "stream",
     "text": [
      "Epoch [36]:  Validation loss = 2.032421,  Validation acc = 0.5257352941176471"
     ]
    },
    {
     "name": "stderr",
     "output_type": "stream",
     "text": [
      "\r",
      "\u001b[32mEpoch [37]:  6%|███                                     |  ETA: 0:00:06\u001b[39m"
     ]
    },
    {
     "name": "stdout",
     "output_type": "stream",
     "text": [
      "\n"
     ]
    },
    {
     "name": "stderr",
     "output_type": "stream",
     "text": [
      "\u001b[32mEpoch [37]:100%|████████████████████████████████████████| Time: 0:00:06\u001b[39m\n"
     ]
    },
    {
     "name": "stdout",
     "output_type": "stream",
     "text": [
      "Epoch [37]:  Validation loss = 1.6791693,  Validation acc = 0.5477941176470589"
     ]
    },
    {
     "name": "stderr",
     "output_type": "stream",
     "text": [
      "\r",
      "\u001b[32mEpoch [38]:  6%|███                                     |  ETA: 0:00:06\u001b[39m"
     ]
    },
    {
     "name": "stdout",
     "output_type": "stream",
     "text": [
      "\n"
     ]
    },
    {
     "name": "stderr",
     "output_type": "stream",
     "text": [
      "\u001b[32mEpoch [38]:100%|████████████████████████████████████████| Time: 0:00:06\u001b[39m\n"
     ]
    },
    {
     "name": "stdout",
     "output_type": "stream",
     "text": [
      "Epoch [38]:  Validation loss = 1.9276859,  Validation acc = 0.5367647058823529"
     ]
    },
    {
     "name": "stderr",
     "output_type": "stream",
     "text": [
      "\r",
      "\u001b[32mEpoch [39]:  6%|███                                     |  ETA: 0:00:06\u001b[39m"
     ]
    },
    {
     "name": "stdout",
     "output_type": "stream",
     "text": [
      "\n"
     ]
    },
    {
     "name": "stderr",
     "output_type": "stream",
     "text": [
      "\u001b[32mEpoch [39]:100%|████████████████████████████████████████| Time: 0:00:06\u001b[39m\n"
     ]
    },
    {
     "name": "stdout",
     "output_type": "stream",
     "text": [
      "Epoch [39]:  Validation loss = 1.7396818,  Validation acc = 0.5441176470588235"
     ]
    },
    {
     "name": "stderr",
     "output_type": "stream",
     "text": [
      "\r",
      "\u001b[32mEpoch [40]:  6%|███                                     |  ETA: 0:00:06\u001b[39m"
     ]
    },
    {
     "name": "stdout",
     "output_type": "stream",
     "text": [
      "\n"
     ]
    },
    {
     "name": "stderr",
     "output_type": "stream",
     "text": [
      "\u001b[32mEpoch [40]:100%|████████████████████████████████████████| Time: 0:00:06\u001b[39m\n"
     ]
    },
    {
     "name": "stdout",
     "output_type": "stream",
     "text": [
      "Epoch [40]:  Validation loss = 2.3782628,  Validation acc = 0.5294117647058824"
     ]
    },
    {
     "name": "stderr",
     "output_type": "stream",
     "text": [
      "\r",
      "\u001b[32mEpoch [41]:  6%|███                                     |  ETA: 0:00:06\u001b[39m"
     ]
    },
    {
     "name": "stdout",
     "output_type": "stream",
     "text": [
      "\n"
     ]
    },
    {
     "name": "stderr",
     "output_type": "stream",
     "text": [
      "\u001b[32mEpoch [41]:100%|████████████████████████████████████████| Time: 0:00:06\u001b[39m\n"
     ]
    },
    {
     "name": "stdout",
     "output_type": "stream",
     "text": [
      "Epoch [41]:  Validation loss = 1.7596732,  Validation acc = 0.5367647058823529"
     ]
    },
    {
     "name": "stderr",
     "output_type": "stream",
     "text": [
      "\r",
      "\u001b[32mEpoch [42]:  6%|███                                     |  ETA: 0:00:06\u001b[39m"
     ]
    },
    {
     "name": "stdout",
     "output_type": "stream",
     "text": [
      "\n"
     ]
    },
    {
     "name": "stderr",
     "output_type": "stream",
     "text": [
      "\u001b[32mEpoch [42]:100%|████████████████████████████████████████| Time: 0:00:06\u001b[39m\n"
     ]
    },
    {
     "name": "stdout",
     "output_type": "stream",
     "text": [
      "Epoch [42]:  Validation loss = 1.5438325,  Validation acc = 0.6029411764705882\n",
      " -> New best accuracy! Saving model out to .\\models\\monkey_complex_acc[060%].bson\n"
     ]
    },
    {
     "name": "stderr",
     "output_type": "stream",
     "text": [
      "\u001b[32mEpoch [43]:100%|████████████████████████████████████████| Time: 0:00:06\u001b[39m\n"
     ]
    },
    {
     "name": "stdout",
     "output_type": "stream",
     "text": [
      "Epoch [43]:  Validation loss = 1.4332281,  Validation acc = 0.6102941176470589\n",
      " -> New best accuracy! Saving model out to .\\models\\monkey_complex_acc[061%].bson\n"
     ]
    },
    {
     "name": "stderr",
     "output_type": "stream",
     "text": [
      "\u001b[32mEpoch [44]:100%|████████████████████████████████████████| Time: 0:00:06\u001b[39m\n"
     ]
    },
    {
     "name": "stdout",
     "output_type": "stream",
     "text": [
      "Epoch [44]:  Validation loss = 1.8720224,  Validation acc = 0.5441176470588235"
     ]
    },
    {
     "name": "stderr",
     "output_type": "stream",
     "text": [
      "\r",
      "\u001b[32mEpoch [45]:  6%|███                                     |  ETA: 0:00:06\u001b[39m"
     ]
    },
    {
     "name": "stdout",
     "output_type": "stream",
     "text": [
      "\n"
     ]
    },
    {
     "name": "stderr",
     "output_type": "stream",
     "text": [
      "\u001b[32mEpoch [45]:100%|████████████████████████████████████████| Time: 0:00:06\u001b[39m\n"
     ]
    },
    {
     "name": "stdout",
     "output_type": "stream",
     "text": [
      "Epoch [45]:  Validation loss = 1.6859617,  Validation acc = 0.5661764705882353"
     ]
    },
    {
     "name": "stderr",
     "output_type": "stream",
     "text": [
      "\r",
      "\u001b[32mEpoch [46]:  6%|███                                     |  ETA: 0:00:06\u001b[39m"
     ]
    },
    {
     "name": "stdout",
     "output_type": "stream",
     "text": [
      "\n"
     ]
    },
    {
     "name": "stderr",
     "output_type": "stream",
     "text": [
      "\u001b[32mEpoch [46]:100%|████████████████████████████████████████| Time: 0:00:06\u001b[39m\n"
     ]
    },
    {
     "name": "stdout",
     "output_type": "stream",
     "text": [
      "Epoch [46]:  Validation loss = 1.5645515,  Validation acc = 0.5919117647058824"
     ]
    },
    {
     "name": "stderr",
     "output_type": "stream",
     "text": [
      "\r",
      "\u001b[32mEpoch [47]:  6%|███                                     |  ETA: 0:00:06\u001b[39m"
     ]
    },
    {
     "name": "stdout",
     "output_type": "stream",
     "text": [
      "\n"
     ]
    },
    {
     "name": "stderr",
     "output_type": "stream",
     "text": [
      "\u001b[32mEpoch [47]:100%|████████████████████████████████████████| Time: 0:00:06\u001b[39m\n"
     ]
    },
    {
     "name": "stdout",
     "output_type": "stream",
     "text": [
      "Epoch [47]:  Validation loss = 1.7027377,  Validation acc = 0.5294117647058824"
     ]
    },
    {
     "name": "stderr",
     "output_type": "stream",
     "text": [
      "\r",
      "\u001b[32mEpoch [48]:  6%|███                                     |  ETA: 0:00:06\u001b[39m"
     ]
    },
    {
     "name": "stdout",
     "output_type": "stream",
     "text": [
      "\n"
     ]
    },
    {
     "name": "stderr",
     "output_type": "stream",
     "text": [
      "\u001b[32mEpoch [48]:100%|████████████████████████████████████████| Time: 0:00:06\u001b[39m\n"
     ]
    },
    {
     "name": "stdout",
     "output_type": "stream",
     "text": [
      "Epoch [48]:  Validation loss = 1.6697825,  Validation acc = 0.5661764705882353"
     ]
    },
    {
     "name": "stderr",
     "output_type": "stream",
     "text": [
      "\r",
      "\u001b[32mEpoch [49]:  6%|███                                     |  ETA: 0:00:06\u001b[39m"
     ]
    },
    {
     "name": "stdout",
     "output_type": "stream",
     "text": [
      "\n"
     ]
    },
    {
     "name": "stderr",
     "output_type": "stream",
     "text": [
      "\u001b[32mEpoch [49]:100%|████████████████████████████████████████| Time: 0:00:06\u001b[39m\n"
     ]
    },
    {
     "name": "stdout",
     "output_type": "stream",
     "text": [
      "Epoch [49]:  Validation loss = 2.0347087,  Validation acc = 0.5808823529411765"
     ]
    },
    {
     "name": "stderr",
     "output_type": "stream",
     "text": [
      "\r",
      "\u001b[32mEpoch [50]:  6%|███                                     |  ETA: 0:00:06\u001b[39m"
     ]
    },
    {
     "name": "stdout",
     "output_type": "stream",
     "text": [
      "\n"
     ]
    },
    {
     "name": "stderr",
     "output_type": "stream",
     "text": [
      "\u001b[32mEpoch [50]:100%|████████████████████████████████████████| Time: 0:00:06\u001b[39m\n"
     ]
    },
    {
     "name": "stdout",
     "output_type": "stream",
     "text": [
      "Epoch [50]:  Validation loss = 1.649719,  Validation acc = 0.6066176470588235"
     ]
    },
    {
     "name": "stderr",
     "output_type": "stream",
     "text": [
      "\r",
      "\u001b[32mEpoch [51]:  6%|███                                     |  ETA: 0:00:06\u001b[39m"
     ]
    },
    {
     "name": "stdout",
     "output_type": "stream",
     "text": [
      "\n"
     ]
    },
    {
     "name": "stderr",
     "output_type": "stream",
     "text": [
      "\u001b[32mEpoch [51]:100%|████████████████████████████████████████| Time: 0:00:06\u001b[39m\n"
     ]
    },
    {
     "name": "stdout",
     "output_type": "stream",
     "text": [
      "Epoch [51]:  Validation loss = 1.5207515,  Validation acc = 0.5919117647058824"
     ]
    },
    {
     "name": "stderr",
     "output_type": "stream",
     "text": [
      "\r",
      "\u001b[32mEpoch [52]:  6%|███                                     |  ETA: 0:00:06\u001b[39m"
     ]
    },
    {
     "name": "stdout",
     "output_type": "stream",
     "text": [
      "\n"
     ]
    },
    {
     "name": "stderr",
     "output_type": "stream",
     "text": [
      "\u001b[32mEpoch [52]:100%|████████████████████████████████████████| Time: 0:00:06\u001b[39m\n"
     ]
    },
    {
     "name": "stdout",
     "output_type": "stream",
     "text": [
      "Epoch [52]:  Validation loss = 1.5431232,  Validation acc = 0.5919117647058824"
     ]
    },
    {
     "name": "stderr",
     "output_type": "stream",
     "text": [
      "\r",
      "\u001b[32mEpoch [53]:  6%|███                                     |  ETA: 0:00:06\u001b[39m"
     ]
    },
    {
     "name": "stdout",
     "output_type": "stream",
     "text": [
      "\n"
     ]
    },
    {
     "name": "stderr",
     "output_type": "stream",
     "text": [
      "\u001b[32mEpoch [53]:100%|████████████████████████████████████████| Time: 0:00:06\u001b[39m\n"
     ]
    },
    {
     "name": "stdout",
     "output_type": "stream",
     "text": [
      "Epoch [53]:  Validation loss = 1.8376789,  Validation acc = 0.5441176470588235\n"
     ]
    },
    {
     "name": "stderr",
     "output_type": "stream",
     "text": [
      "┌ Warning:  -> Haven't improved in a while, dropping learning rate to 0.008!\n",
      "└ @ Main In[23]:82\n",
      "\u001b[32mEpoch [54]:100%|████████████████████████████████████████| Time: 0:00:06\u001b[39m\n"
     ]
    },
    {
     "name": "stdout",
     "output_type": "stream",
     "text": [
      "Epoch [54]:  Validation loss = 1.7107911,  Validation acc = 0.5808823529411765"
     ]
    },
    {
     "name": "stderr",
     "output_type": "stream",
     "text": [
      "\r",
      "\u001b[32mEpoch [55]:  6%|███                                     |  ETA: 0:00:06\u001b[39m"
     ]
    },
    {
     "name": "stdout",
     "output_type": "stream",
     "text": [
      "\n"
     ]
    },
    {
     "name": "stderr",
     "output_type": "stream",
     "text": [
      "\u001b[32mEpoch [55]:100%|████████████████████████████████████████| Time: 0:00:06\u001b[39m\n"
     ]
    },
    {
     "name": "stdout",
     "output_type": "stream",
     "text": [
      "Epoch [55]:  Validation loss = 1.9053553,  Validation acc = 0.5367647058823529"
     ]
    },
    {
     "name": "stderr",
     "output_type": "stream",
     "text": [
      "\r",
      "\u001b[32mEpoch [56]:  6%|███                                     |  ETA: 0:00:06\u001b[39m"
     ]
    },
    {
     "name": "stdout",
     "output_type": "stream",
     "text": [
      "\n"
     ]
    },
    {
     "name": "stderr",
     "output_type": "stream",
     "text": [
      "\u001b[32mEpoch [56]:100%|████████████████████████████████████████| Time: 0:00:06\u001b[39m\n"
     ]
    },
    {
     "name": "stdout",
     "output_type": "stream",
     "text": [
      "Epoch [56]:  Validation loss = 1.7565297,  Validation acc = 0.5404411764705882"
     ]
    },
    {
     "name": "stderr",
     "output_type": "stream",
     "text": [
      "\r",
      "\u001b[32mEpoch [57]:  6%|███                                     |  ETA: 0:00:06\u001b[39m"
     ]
    },
    {
     "name": "stdout",
     "output_type": "stream",
     "text": [
      "\n"
     ]
    },
    {
     "name": "stderr",
     "output_type": "stream",
     "text": [
      "\u001b[32mEpoch [57]:100%|████████████████████████████████████████| Time: 0:00:06\u001b[39m\n"
     ]
    },
    {
     "name": "stdout",
     "output_type": "stream",
     "text": [
      "Epoch [57]:  Validation loss = 1.7395158,  Validation acc = 0.5294117647058824"
     ]
    },
    {
     "name": "stderr",
     "output_type": "stream",
     "text": [
      "\r",
      "\u001b[32mEpoch [58]:  6%|███                                     |  ETA: 0:00:06\u001b[39m"
     ]
    },
    {
     "name": "stdout",
     "output_type": "stream",
     "text": [
      "\n"
     ]
    },
    {
     "name": "stderr",
     "output_type": "stream",
     "text": [
      "\u001b[32mEpoch [58]:100%|████████████████████████████████████████| Time: 0:00:06\u001b[39m\n"
     ]
    },
    {
     "name": "stdout",
     "output_type": "stream",
     "text": [
      "Epoch [58]:  Validation loss = 1.8491092,  Validation acc = 0.5551470588235294"
     ]
    },
    {
     "name": "stderr",
     "output_type": "stream",
     "text": [
      "\r",
      "\u001b[32mEpoch [59]:  6%|███                                     |  ETA: 0:00:06\u001b[39m"
     ]
    },
    {
     "name": "stdout",
     "output_type": "stream",
     "text": [
      "\n"
     ]
    },
    {
     "name": "stderr",
     "output_type": "stream",
     "text": [
      "\u001b[32mEpoch [59]:100%|████████████████████████████████████████| Time: 0:00:06\u001b[39m\n"
     ]
    },
    {
     "name": "stdout",
     "output_type": "stream",
     "text": [
      "Epoch [59]:  Validation loss = 1.7168242,  Validation acc = 0.5588235294117647"
     ]
    },
    {
     "name": "stderr",
     "output_type": "stream",
     "text": [
      "\r",
      "\u001b[32mEpoch [60]:  6%|███                                     |  ETA: 0:00:06\u001b[39m"
     ]
    },
    {
     "name": "stdout",
     "output_type": "stream",
     "text": [
      "\n"
     ]
    },
    {
     "name": "stderr",
     "output_type": "stream",
     "text": [
      "\u001b[32mEpoch [60]:100%|████████████████████████████████████████| Time: 0:00:06\u001b[39m\n"
     ]
    },
    {
     "name": "stdout",
     "output_type": "stream",
     "text": [
      "Epoch [60]:  Validation loss = 1.626519,  Validation acc = 0.5919117647058824"
     ]
    },
    {
     "name": "stderr",
     "output_type": "stream",
     "text": [
      "\r",
      "\u001b[32mEpoch [61]:  6%|███                                     |  ETA: 0:00:06\u001b[39m"
     ]
    },
    {
     "name": "stdout",
     "output_type": "stream",
     "text": [
      "\n"
     ]
    },
    {
     "name": "stderr",
     "output_type": "stream",
     "text": [
      "\u001b[32mEpoch [61]:100%|████████████████████████████████████████| Time: 0:00:06\u001b[39m\n"
     ]
    },
    {
     "name": "stdout",
     "output_type": "stream",
     "text": [
      "Epoch [61]:  Validation loss = 2.1054084,  Validation acc = 0.5220588235294118"
     ]
    },
    {
     "name": "stderr",
     "output_type": "stream",
     "text": [
      "\r",
      "\u001b[32mEpoch [62]:  6%|███                                     |  ETA: 0:00:06\u001b[39m"
     ]
    },
    {
     "name": "stdout",
     "output_type": "stream",
     "text": [
      "\n"
     ]
    },
    {
     "name": "stderr",
     "output_type": "stream",
     "text": [
      "\u001b[32mEpoch [62]:100%|████████████████████████████████████████| Time: 0:00:06\u001b[39m\n"
     ]
    },
    {
     "name": "stdout",
     "output_type": "stream",
     "text": [
      "Epoch [62]:  Validation loss = 1.6524069,  Validation acc = 0.5477941176470589"
     ]
    },
    {
     "name": "stderr",
     "output_type": "stream",
     "text": [
      "\r",
      "\u001b[32mEpoch [63]:  6%|███                                     |  ETA: 0:00:06\u001b[39m"
     ]
    },
    {
     "name": "stdout",
     "output_type": "stream",
     "text": [
      "\n"
     ]
    },
    {
     "name": "stderr",
     "output_type": "stream",
     "text": [
      "\u001b[32mEpoch [63]:100%|████████████████████████████████████████| Time: 0:00:06\u001b[39m\n"
     ]
    },
    {
     "name": "stdout",
     "output_type": "stream",
     "text": [
      "Epoch [63]:  Validation loss = 1.7579769,  Validation acc = 0.5588235294117647\n"
     ]
    },
    {
     "name": "stderr",
     "output_type": "stream",
     "text": [
      "┌ Warning:  -> Haven't improved in a while, dropping learning rate to 0.0064!\n",
      "└ @ Main In[23]:82\n",
      "\u001b[32mEpoch [64]:100%|████████████████████████████████████████| Time: 0:00:06\u001b[39m\n"
     ]
    },
    {
     "name": "stdout",
     "output_type": "stream",
     "text": [
      "Epoch [64]:  Validation loss = 1.4682792,  Validation acc = 0.6066176470588235"
     ]
    },
    {
     "name": "stderr",
     "output_type": "stream",
     "text": [
      "\r",
      "\u001b[32mEpoch [65]:  6%|███                                     |  ETA: 0:00:06\u001b[39m"
     ]
    },
    {
     "name": "stdout",
     "output_type": "stream",
     "text": [
      "\n"
     ]
    },
    {
     "name": "stderr",
     "output_type": "stream",
     "text": [
      "\u001b[32mEpoch [65]:100%|████████████████████████████████████████| Time: 0:00:06\u001b[39m\n"
     ]
    },
    {
     "name": "stdout",
     "output_type": "stream",
     "text": [
      "Epoch [65]:  Validation loss = 1.532416,  Validation acc = 0.5919117647058824"
     ]
    },
    {
     "name": "stderr",
     "output_type": "stream",
     "text": [
      "\r"
     ]
    },
    {
     "name": "stdout",
     "output_type": "stream",
     "text": [
      "\n"
     ]
    },
    {
     "name": "stderr",
     "output_type": "stream",
     "text": [
      "\u001b[32mEpoch [66]:100%|████████████████████████████████████████| Time: 0:00:06\u001b[39m\n"
     ]
    },
    {
     "name": "stdout",
     "output_type": "stream",
     "text": [
      "Epoch [66]:  Validation loss = 1.4515063,  Validation acc = 0.5955882352941176\n"
     ]
    },
    {
     "name": "stderr",
     "output_type": "stream",
     "text": [
      "\u001b[32mEpoch [67]:100%|████████████████████████████████████████| Time: 0:00:06\u001b[39m\n"
     ]
    },
    {
     "name": "stdout",
     "output_type": "stream",
     "text": [
      "Epoch [67]:  Validation loss = 1.7372549,  Validation acc = 0.5404411764705882"
     ]
    },
    {
     "name": "stderr",
     "output_type": "stream",
     "text": [
      "\r",
      "\u001b[32mEpoch [68]:  6%|███                                     |  ETA: 0:00:06\u001b[39m"
     ]
    },
    {
     "name": "stdout",
     "output_type": "stream",
     "text": [
      "\n"
     ]
    },
    {
     "name": "stderr",
     "output_type": "stream",
     "text": [
      "\u001b[32mEpoch [68]:100%|████████████████████████████████████████| Time: 0:00:06\u001b[39m\n"
     ]
    },
    {
     "name": "stdout",
     "output_type": "stream",
     "text": [
      "Epoch [68]:  Validation loss = 1.3879757,  Validation acc = 0.6286764705882353\n",
      " -> New best accuracy! Saving model out to .\\models\\monkey_complex_acc[063%].bson\n"
     ]
    },
    {
     "name": "stderr",
     "output_type": "stream",
     "text": [
      "\u001b[32mEpoch [69]:100%|████████████████████████████████████████| Time: 0:00:06\u001b[39m\n"
     ]
    },
    {
     "name": "stdout",
     "output_type": "stream",
     "text": [
      "Epoch [69]:  Validation loss = 1.6516333,  Validation acc = 0.5698529411764706"
     ]
    },
    {
     "name": "stderr",
     "output_type": "stream",
     "text": [
      "\r",
      "\u001b[32mEpoch [70]:  6%|███                                     |  ETA: 0:00:06\u001b[39m"
     ]
    },
    {
     "name": "stdout",
     "output_type": "stream",
     "text": [
      "\n"
     ]
    },
    {
     "name": "stderr",
     "output_type": "stream",
     "text": [
      "\u001b[32mEpoch [70]:100%|████████████████████████████████████████| Time: 0:00:06\u001b[39m\n"
     ]
    },
    {
     "name": "stdout",
     "output_type": "stream",
     "text": [
      "Epoch [70]:  Validation loss = 1.5521418,  Validation acc = 0.5882352941176471"
     ]
    },
    {
     "name": "stderr",
     "output_type": "stream",
     "text": [
      "\r",
      "\u001b[32mEpoch [71]:  6%|███                                     |  ETA: 0:00:06\u001b[39m"
     ]
    },
    {
     "name": "stdout",
     "output_type": "stream",
     "text": [
      "\n"
     ]
    },
    {
     "name": "stderr",
     "output_type": "stream",
     "text": [
      "\u001b[32mEpoch [71]:100%|████████████████████████████████████████| Time: 0:00:06\u001b[39m\n"
     ]
    },
    {
     "name": "stdout",
     "output_type": "stream",
     "text": [
      "Epoch [71]:  Validation loss = 1.6427469,  Validation acc = 0.5882352941176471"
     ]
    },
    {
     "name": "stderr",
     "output_type": "stream",
     "text": [
      "\r",
      "\u001b[32mEpoch [72]:  6%|███                                     |  ETA: 0:00:06\u001b[39m"
     ]
    },
    {
     "name": "stdout",
     "output_type": "stream",
     "text": [
      "\n"
     ]
    },
    {
     "name": "stderr",
     "output_type": "stream",
     "text": [
      "\u001b[32mEpoch [72]:100%|████████████████████████████████████████| Time: 0:00:06\u001b[39m\n"
     ]
    },
    {
     "name": "stdout",
     "output_type": "stream",
     "text": [
      "Epoch [72]:  Validation loss = 1.4474548,  Validation acc = 0.625"
     ]
    },
    {
     "name": "stderr",
     "output_type": "stream",
     "text": [
      "\r",
      "\u001b[32mEpoch [73]:  6%|███                                     |  ETA: 0:00:06\u001b[39m"
     ]
    },
    {
     "name": "stdout",
     "output_type": "stream",
     "text": [
      "\n"
     ]
    },
    {
     "name": "stderr",
     "output_type": "stream",
     "text": [
      "\u001b[32mEpoch [73]:100%|████████████████████████████████████████| Time: 0:00:06\u001b[39m\n"
     ]
    },
    {
     "name": "stdout",
     "output_type": "stream",
     "text": [
      "Epoch [73]:  Validation loss = 1.5532117,  Validation acc = 0.5808823529411765\n"
     ]
    },
    {
     "name": "stderr",
     "output_type": "stream",
     "text": [
      "\u001b[32mEpoch [74]:100%|████████████████████████████████████████| Time: 0:00:06\u001b[39m\n"
     ]
    },
    {
     "name": "stdout",
     "output_type": "stream",
     "text": [
      "Epoch [74]:  Validation loss = 1.5847038,  Validation acc = 0.5992647058823529"
     ]
    },
    {
     "name": "stderr",
     "output_type": "stream",
     "text": [
      "\r",
      "\u001b[32mEpoch [75]:  6%|███                                     |  ETA: 0:00:06\u001b[39m"
     ]
    },
    {
     "name": "stdout",
     "output_type": "stream",
     "text": [
      "\n"
     ]
    },
    {
     "name": "stderr",
     "output_type": "stream",
     "text": [
      "\u001b[32mEpoch [75]:100%|████████████████████████████████████████| Time: 0:00:06\u001b[39m\n"
     ]
    },
    {
     "name": "stdout",
     "output_type": "stream",
     "text": [
      "Epoch [75]:  Validation loss = 1.4981637,  Validation acc = 0.5845588235294118"
     ]
    },
    {
     "name": "stderr",
     "output_type": "stream",
     "text": [
      "\r",
      "\u001b[32mEpoch [76]:  6%|███                                     |  ETA: 0:00:06\u001b[39m"
     ]
    },
    {
     "name": "stdout",
     "output_type": "stream",
     "text": [
      "\n"
     ]
    },
    {
     "name": "stderr",
     "output_type": "stream",
     "text": [
      "\u001b[32mEpoch [76]:100%|████████████████████████████████████████| Time: 0:00:06\u001b[39m\n"
     ]
    },
    {
     "name": "stdout",
     "output_type": "stream",
     "text": [
      "Epoch [76]:  Validation loss = 2.1928332,  Validation acc = 0.4889705882352941"
     ]
    },
    {
     "name": "stderr",
     "output_type": "stream",
     "text": [
      "\r",
      "\u001b[32mEpoch [77]:  6%|███                                     |  ETA: 0:00:06\u001b[39m"
     ]
    },
    {
     "name": "stdout",
     "output_type": "stream",
     "text": [
      "\n"
     ]
    },
    {
     "name": "stderr",
     "output_type": "stream",
     "text": [
      "\u001b[32mEpoch [77]:100%|████████████████████████████████████████| Time: 0:00:06\u001b[39m\n"
     ]
    },
    {
     "name": "stdout",
     "output_type": "stream",
     "text": [
      "Epoch [77]:  Validation loss = 1.8208765,  Validation acc = 0.5588235294117647"
     ]
    },
    {
     "name": "stderr",
     "output_type": "stream",
     "text": [
      "\r",
      "\u001b[32mEpoch [78]:  6%|███                                     |  ETA: 0:00:06\u001b[39m"
     ]
    },
    {
     "name": "stdout",
     "output_type": "stream",
     "text": [
      "\n"
     ]
    },
    {
     "name": "stderr",
     "output_type": "stream",
     "text": [
      "\u001b[32mEpoch [78]:100%|████████████████████████████████████████| Time: 0:00:06\u001b[39m\n"
     ]
    },
    {
     "name": "stdout",
     "output_type": "stream",
     "text": [
      "Epoch [78]:  Validation loss = 1.5517666,  Validation acc = 0.5514705882352942\n"
     ]
    },
    {
     "name": "stderr",
     "output_type": "stream",
     "text": [
      "┌ Warning:  -> Haven't improved in a while, dropping learning rate to 0.00512!\n",
      "└ @ Main In[23]:82\n",
      "\u001b[32mEpoch [79]:100%|████████████████████████████████████████| Time: 0:00:06\u001b[39m\n"
     ]
    },
    {
     "name": "stdout",
     "output_type": "stream",
     "text": [
      "Epoch [79]:  Validation loss = 1.1960336,  Validation acc = 0.6176470588235294"
     ]
    },
    {
     "name": "stderr",
     "output_type": "stream",
     "text": [
      "\r",
      "\u001b[32mEpoch [80]:  6%|███                                     |  ETA: 0:00:06\u001b[39m"
     ]
    },
    {
     "name": "stdout",
     "output_type": "stream",
     "text": [
      "\n"
     ]
    },
    {
     "name": "stderr",
     "output_type": "stream",
     "text": [
      "\u001b[32mEpoch [80]:100%|████████████████████████████████████████| Time: 0:00:06\u001b[39m\n"
     ]
    },
    {
     "name": "stdout",
     "output_type": "stream",
     "text": [
      "Epoch [80]:  Validation loss = 1.2424071,  Validation acc = 0.6176470588235294"
     ]
    },
    {
     "name": "stderr",
     "output_type": "stream",
     "text": [
      "\r",
      "\u001b[32mEpoch [81]:  6%|███                                     |  ETA: 0:00:06\u001b[39m"
     ]
    },
    {
     "name": "stdout",
     "output_type": "stream",
     "text": [
      "\n"
     ]
    },
    {
     "name": "stderr",
     "output_type": "stream",
     "text": [
      "\u001b[32mEpoch [81]:100%|████████████████████████████████████████| Time: 0:00:06\u001b[39m\n"
     ]
    },
    {
     "name": "stdout",
     "output_type": "stream",
     "text": [
      "Epoch [81]:  Validation loss = 1.5764688,  Validation acc = 0.6397058823529411\n",
      " -> New best accuracy! Saving model out to .\\models\\monkey_complex_acc[064%].bson\n"
     ]
    },
    {
     "name": "stderr",
     "output_type": "stream",
     "text": [
      "\u001b[32mEpoch [82]:100%|████████████████████████████████████████| Time: 0:00:06\u001b[39m\n"
     ]
    },
    {
     "name": "stdout",
     "output_type": "stream",
     "text": [
      "Epoch [82]:  Validation loss = 1.4460769,  Validation acc = 0.6066176470588235"
     ]
    },
    {
     "name": "stderr",
     "output_type": "stream",
     "text": [
      "\r",
      "\u001b[32mEpoch [83]:  6%|███                                     |  ETA: 0:00:06\u001b[39m"
     ]
    },
    {
     "name": "stdout",
     "output_type": "stream",
     "text": [
      "\n"
     ]
    },
    {
     "name": "stderr",
     "output_type": "stream",
     "text": [
      "\u001b[32mEpoch [83]:100%|████████████████████████████████████████| Time: 0:00:06\u001b[39m\n"
     ]
    },
    {
     "name": "stdout",
     "output_type": "stream",
     "text": [
      "Epoch [83]:  Validation loss = 1.3098669,  Validation acc = 0.6213235294117647"
     ]
    },
    {
     "name": "stderr",
     "output_type": "stream",
     "text": [
      "\r",
      "\u001b[32mEpoch [84]:  6%|███                                     |  ETA: 0:00:06\u001b[39m"
     ]
    },
    {
     "name": "stdout",
     "output_type": "stream",
     "text": [
      "\n"
     ]
    },
    {
     "name": "stderr",
     "output_type": "stream",
     "text": [
      "\u001b[32mEpoch [84]:100%|████████████████████████████████████████| Time: 0:00:06\u001b[39m\n"
     ]
    },
    {
     "name": "stdout",
     "output_type": "stream",
     "text": [
      "Epoch [84]:  Validation loss = 1.4999323,  Validation acc = 0.5882352941176471"
     ]
    },
    {
     "name": "stderr",
     "output_type": "stream",
     "text": [
      "\r",
      "\u001b[32mEpoch [85]:  6%|███                                     |  ETA: 0:00:06\u001b[39m"
     ]
    },
    {
     "name": "stdout",
     "output_type": "stream",
     "text": [
      "\n"
     ]
    },
    {
     "name": "stderr",
     "output_type": "stream",
     "text": [
      "\u001b[32mEpoch [85]:100%|████████████████████████████████████████| Time: 0:00:06\u001b[39m\n"
     ]
    },
    {
     "name": "stdout",
     "output_type": "stream",
     "text": [
      "Epoch [85]:  Validation loss = 1.3161281,  Validation acc = 0.6066176470588235"
     ]
    },
    {
     "name": "stderr",
     "output_type": "stream",
     "text": [
      "\r",
      "\u001b[32mEpoch [86]:  6%|███                                     |  ETA: 0:00:06\u001b[39m"
     ]
    },
    {
     "name": "stdout",
     "output_type": "stream",
     "text": [
      "\n"
     ]
    },
    {
     "name": "stderr",
     "output_type": "stream",
     "text": [
      "\u001b[32mEpoch [86]:100%|████████████████████████████████████████| Time: 0:00:06\u001b[39m\n"
     ]
    },
    {
     "name": "stdout",
     "output_type": "stream",
     "text": [
      "Epoch [86]:  Validation loss = 1.4273775,  Validation acc = 0.5955882352941176"
     ]
    },
    {
     "name": "stderr",
     "output_type": "stream",
     "text": [
      "\r",
      "\u001b[32mEpoch [87]:  6%|███                                     |  ETA: 0:00:06\u001b[39m"
     ]
    },
    {
     "name": "stdout",
     "output_type": "stream",
     "text": [
      "\n"
     ]
    },
    {
     "name": "stderr",
     "output_type": "stream",
     "text": [
      "\u001b[32mEpoch [87]:100%|████████████████████████████████████████| Time: 0:00:06\u001b[39m\n"
     ]
    },
    {
     "name": "stdout",
     "output_type": "stream",
     "text": [
      "Epoch [87]:  Validation loss = 1.3529578,  Validation acc = 0.5992647058823529"
     ]
    },
    {
     "name": "stderr",
     "output_type": "stream",
     "text": [
      "\r",
      "\u001b[32mEpoch [88]:  6%|███                                     |  ETA: 0:00:06\u001b[39m"
     ]
    },
    {
     "name": "stdout",
     "output_type": "stream",
     "text": [
      "\n"
     ]
    },
    {
     "name": "stderr",
     "output_type": "stream",
     "text": [
      "\u001b[32mEpoch [88]:100%|████████████████████████████████████████| Time: 0:00:06\u001b[39m\n"
     ]
    },
    {
     "name": "stdout",
     "output_type": "stream",
     "text": [
      "Epoch [88]:  Validation loss = 1.2669073,  Validation acc = 0.6323529411764706"
     ]
    },
    {
     "name": "stderr",
     "output_type": "stream",
     "text": [
      "\r",
      "\u001b[32mEpoch [89]:  6%|███                                     |  ETA: 0:00:06\u001b[39m"
     ]
    },
    {
     "name": "stdout",
     "output_type": "stream",
     "text": [
      "\n"
     ]
    },
    {
     "name": "stderr",
     "output_type": "stream",
     "text": [
      "\u001b[32mEpoch [89]:100%|████████████████████████████████████████| Time: 0:00:06\u001b[39m\n"
     ]
    },
    {
     "name": "stdout",
     "output_type": "stream",
     "text": [
      "Epoch [89]:  Validation loss = 1.2491841,  Validation acc = 0.6470588235294118\n",
      " -> New best accuracy! Saving model out to .\\models\\monkey_complex_acc[065%].bson\n"
     ]
    },
    {
     "name": "stderr",
     "output_type": "stream",
     "text": [
      "\u001b[32mEpoch [90]:100%|████████████████████████████████████████| Time: 0:00:06\u001b[39m\n"
     ]
    },
    {
     "name": "stdout",
     "output_type": "stream",
     "text": [
      "Epoch [90]:  Validation loss = 1.4715133,  Validation acc = 0.6213235294117647"
     ]
    },
    {
     "name": "stderr",
     "output_type": "stream",
     "text": [
      "\r",
      "\u001b[32mEpoch [91]:  6%|███                                     |  ETA: 0:00:06\u001b[39m"
     ]
    },
    {
     "name": "stdout",
     "output_type": "stream",
     "text": [
      "\n"
     ]
    },
    {
     "name": "stderr",
     "output_type": "stream",
     "text": [
      "\u001b[32mEpoch [91]:100%|████████████████████████████████████████| Time: 0:00:06\u001b[39m\n"
     ]
    },
    {
     "name": "stdout",
     "output_type": "stream",
     "text": [
      "Epoch [91]:  Validation loss = 1.5786704,  Validation acc = 0.6066176470588235"
     ]
    },
    {
     "name": "stderr",
     "output_type": "stream",
     "text": [
      "\r",
      "\u001b[32mEpoch [92]:  6%|███                                     |  ETA: 0:00:06\u001b[39m"
     ]
    },
    {
     "name": "stdout",
     "output_type": "stream",
     "text": [
      "\n"
     ]
    },
    {
     "name": "stderr",
     "output_type": "stream",
     "text": [
      "\u001b[32mEpoch [92]:100%|████████████████████████████████████████| Time: 0:00:06\u001b[39m\n"
     ]
    },
    {
     "name": "stdout",
     "output_type": "stream",
     "text": [
      "Epoch [92]:  Validation loss = 1.2868049,  Validation acc = 0.6727941176470589\n",
      " -> New best accuracy! Saving model out to .\\models\\monkey_complex_acc[067%].bson\n"
     ]
    },
    {
     "name": "stderr",
     "output_type": "stream",
     "text": [
      "\u001b[32mEpoch [93]:100%|████████████████████████████████████████| Time: 0:00:06\u001b[39m\n"
     ]
    },
    {
     "name": "stdout",
     "output_type": "stream",
     "text": [
      "Epoch [93]:  Validation loss = 1.4557714,  Validation acc = 0.5625"
     ]
    },
    {
     "name": "stderr",
     "output_type": "stream",
     "text": [
      "\r",
      "\u001b[32mEpoch [94]:  6%|███                                     |  ETA: 0:00:06\u001b[39m"
     ]
    },
    {
     "name": "stdout",
     "output_type": "stream",
     "text": [
      "\n"
     ]
    },
    {
     "name": "stderr",
     "output_type": "stream",
     "text": [
      "\u001b[32mEpoch [94]:100%|████████████████████████████████████████| Time: 0:00:06\u001b[39m\n"
     ]
    },
    {
     "name": "stdout",
     "output_type": "stream",
     "text": [
      "Epoch [94]:  Validation loss = 1.7462894,  Validation acc = 0.5661764705882353"
     ]
    },
    {
     "name": "stderr",
     "output_type": "stream",
     "text": [
      "\r",
      "\u001b[32mEpoch [95]:  6%|███                                     |  ETA: 0:00:06\u001b[39m"
     ]
    },
    {
     "name": "stdout",
     "output_type": "stream",
     "text": [
      "\n"
     ]
    },
    {
     "name": "stderr",
     "output_type": "stream",
     "text": [
      "\u001b[32mEpoch [95]:100%|████████████████████████████████████████| Time: 0:00:06\u001b[39m\n"
     ]
    },
    {
     "name": "stdout",
     "output_type": "stream",
     "text": [
      "Epoch [95]:  Validation loss = 1.5725759,  Validation acc = 0.5551470588235294"
     ]
    },
    {
     "name": "stderr",
     "output_type": "stream",
     "text": [
      "\r",
      "\u001b[32mEpoch [96]:  6%|███                                     |  ETA: 0:00:06\u001b[39m"
     ]
    },
    {
     "name": "stdout",
     "output_type": "stream",
     "text": [
      "\n"
     ]
    },
    {
     "name": "stderr",
     "output_type": "stream",
     "text": [
      "\u001b[32mEpoch [96]:100%|████████████████████████████████████████| Time: 0:00:06\u001b[39m\n"
     ]
    },
    {
     "name": "stdout",
     "output_type": "stream",
     "text": [
      "Epoch [96]:  Validation loss = 1.4991126,  Validation acc = 0.5845588235294118"
     ]
    },
    {
     "name": "stderr",
     "output_type": "stream",
     "text": [
      "\r",
      "\u001b[32mEpoch [97]:  6%|███                                     |  ETA: 0:00:06\u001b[39m"
     ]
    },
    {
     "name": "stdout",
     "output_type": "stream",
     "text": [
      "\n"
     ]
    },
    {
     "name": "stderr",
     "output_type": "stream",
     "text": [
      "\u001b[32mEpoch [97]:100%|████████████████████████████████████████| Time: 0:00:06\u001b[39m\n"
     ]
    },
    {
     "name": "stdout",
     "output_type": "stream",
     "text": [
      "Epoch [97]:  Validation loss = 1.3351173,  Validation acc = 0.6213235294117647"
     ]
    },
    {
     "name": "stderr",
     "output_type": "stream",
     "text": [
      "\r",
      "\u001b[32mEpoch [98]:  6%|███                                     |  ETA: 0:00:06\u001b[39m"
     ]
    },
    {
     "name": "stdout",
     "output_type": "stream",
     "text": [
      "\n"
     ]
    },
    {
     "name": "stderr",
     "output_type": "stream",
     "text": [
      "\u001b[32mEpoch [98]:100%|████████████████████████████████████████| Time: 0:00:06\u001b[39m\n"
     ]
    },
    {
     "name": "stdout",
     "output_type": "stream",
     "text": [
      "Epoch [98]:  Validation loss = 1.4660153,  Validation acc = 0.5919117647058824"
     ]
    },
    {
     "name": "stderr",
     "output_type": "stream",
     "text": [
      "\r",
      "\u001b[32mEpoch [99]:  6%|███                                     |  ETA: 0:00:06\u001b[39m"
     ]
    },
    {
     "name": "stdout",
     "output_type": "stream",
     "text": [
      "\n"
     ]
    },
    {
     "name": "stderr",
     "output_type": "stream",
     "text": [
      "\u001b[32mEpoch [99]:100%|████████████████████████████████████████| Time: 0:00:06\u001b[39m\n"
     ]
    },
    {
     "name": "stdout",
     "output_type": "stream",
     "text": [
      "Epoch [99]:  Validation loss = 1.4976453,  Validation acc = 0.6213235294117647"
     ]
    },
    {
     "name": "stderr",
     "output_type": "stream",
     "text": [
      "\r",
      "\u001b[32mEpoch [100]:  6%|███                                    |  ETA: 0:00:06\u001b[39m"
     ]
    },
    {
     "name": "stdout",
     "output_type": "stream",
     "text": [
      "\n"
     ]
    },
    {
     "name": "stderr",
     "output_type": "stream",
     "text": [
      "\u001b[32mEpoch [100]:100%|███████████████████████████████████████| Time: 0:00:06\u001b[39m\n"
     ]
    },
    {
     "name": "stdout",
     "output_type": "stream",
     "text": [
      "Epoch [100]:  Validation loss = 1.3381922,  Validation acc = 0.6213235294117647"
     ]
    },
    {
     "name": "stderr",
     "output_type": "stream",
     "text": [
      "\r",
      "\u001b[32mEpoch [101]:  6%|███                                    |  ETA: 0:00:06\u001b[39m"
     ]
    },
    {
     "name": "stdout",
     "output_type": "stream",
     "text": [
      "\n"
     ]
    },
    {
     "name": "stderr",
     "output_type": "stream",
     "text": [
      "\u001b[32mEpoch [101]:100%|███████████████████████████████████████| Time: 0:00:06\u001b[39m\n"
     ]
    },
    {
     "name": "stdout",
     "output_type": "stream",
     "text": [
      "Epoch [101]:  Validation loss = 1.2829286,  Validation acc = 0.6066176470588235"
     ]
    },
    {
     "name": "stderr",
     "output_type": "stream",
     "text": [
      "\r",
      "\u001b[32mEpoch [102]:  6%|███                                    |  ETA: 0:00:06\u001b[39m"
     ]
    },
    {
     "name": "stdout",
     "output_type": "stream",
     "text": [
      "\n"
     ]
    },
    {
     "name": "stderr",
     "output_type": "stream",
     "text": [
      "\u001b[32mEpoch [102]:100%|███████████████████████████████████████| Time: 0:00:06\u001b[39m\n"
     ]
    },
    {
     "name": "stdout",
     "output_type": "stream",
     "text": [
      "Epoch [102]:  Validation loss = 1.4084849,  Validation acc = 0.6066176470588235\n"
     ]
    },
    {
     "name": "stderr",
     "output_type": "stream",
     "text": [
      "┌ Warning:  -> Haven't improved in a while, dropping learning rate to 0.004096000000000001!\n",
      "└ @ Main In[23]:82\n",
      "\u001b[32mEpoch [103]:100%|███████████████████████████████████████| Time: 0:00:06\u001b[39m\n"
     ]
    },
    {
     "name": "stdout",
     "output_type": "stream",
     "text": [
      "Epoch [103]:  Validation loss = 1.3196651,  Validation acc = 0.5955882352941176"
     ]
    },
    {
     "name": "stderr",
     "output_type": "stream",
     "text": [
      "\r"
     ]
    },
    {
     "name": "stdout",
     "output_type": "stream",
     "text": [
      "\n"
     ]
    },
    {
     "name": "stderr",
     "output_type": "stream",
     "text": [
      "\u001b[32mEpoch [104]:100%|███████████████████████████████████████| Time: 0:00:07\u001b[39m\n"
     ]
    },
    {
     "name": "stdout",
     "output_type": "stream",
     "text": [
      "Epoch [104]:  Validation loss = 1.2961646,  Validation acc = 0.6139705882352942"
     ]
    },
    {
     "name": "stderr",
     "output_type": "stream",
     "text": [
      "\r",
      "\u001b[32mEpoch [105]:  6%|███                                    |  ETA: 0:00:06\u001b[39m"
     ]
    },
    {
     "name": "stdout",
     "output_type": "stream",
     "text": [
      "\n"
     ]
    },
    {
     "name": "stderr",
     "output_type": "stream",
     "text": [
      "\u001b[32mEpoch [105]:100%|███████████████████████████████████████| Time: 0:00:06\u001b[39m\n"
     ]
    },
    {
     "name": "stdout",
     "output_type": "stream",
     "text": [
      "Epoch [105]:  Validation loss = 1.2616413,  Validation acc = 0.6139705882352942"
     ]
    },
    {
     "name": "stderr",
     "output_type": "stream",
     "text": [
      "\r",
      "\u001b[32mEpoch [106]:  6%|███                                    |  ETA: 0:00:06\u001b[39m"
     ]
    },
    {
     "name": "stdout",
     "output_type": "stream",
     "text": [
      "\n"
     ]
    },
    {
     "name": "stderr",
     "output_type": "stream",
     "text": [
      "\u001b[32mEpoch [106]:100%|███████████████████████████████████████| Time: 0:00:06\u001b[39m"
     ]
    },
    {
     "name": "stdout",
     "output_type": "stream",
     "text": [
      "Epoch [106]:  Validation loss = 1.4552838,  Validation acc = 0.625"
     ]
    },
    {
     "name": "stderr",
     "output_type": "stream",
     "text": [
      "\n",
      "\u001b[32mEpoch [107]:  6%|███                                    |  ETA: 0:00:06\u001b[39m"
     ]
    },
    {
     "name": "stdout",
     "output_type": "stream",
     "text": [
      "\n"
     ]
    },
    {
     "name": "stderr",
     "output_type": "stream",
     "text": [
      "\u001b[32mEpoch [107]:100%|███████████████████████████████████████| Time: 0:00:06\u001b[39m\n"
     ]
    },
    {
     "name": "stdout",
     "output_type": "stream",
     "text": [
      "Epoch [107]:  Validation loss = 1.3926492,  Validation acc = 0.6213235294117647"
     ]
    },
    {
     "name": "stderr",
     "output_type": "stream",
     "text": [
      "\r",
      "\u001b[32mEpoch [108]:  6%|███                                    |  ETA: 0:00:06\u001b[39m"
     ]
    },
    {
     "name": "stdout",
     "output_type": "stream",
     "text": [
      "\n"
     ]
    },
    {
     "name": "stderr",
     "output_type": "stream",
     "text": [
      "\u001b[32mEpoch [108]:100%|███████████████████████████████████████| Time: 0:00:06\u001b[39m\n"
     ]
    },
    {
     "name": "stdout",
     "output_type": "stream",
     "text": [
      "Epoch [108]:  Validation loss = 1.379244,  Validation acc = 0.6397058823529411"
     ]
    },
    {
     "name": "stderr",
     "output_type": "stream",
     "text": [
      "\r",
      "\u001b[32mEpoch [109]:  6%|███                                    |  ETA: 0:00:06\u001b[39m"
     ]
    },
    {
     "name": "stdout",
     "output_type": "stream",
     "text": [
      "\n"
     ]
    },
    {
     "name": "stderr",
     "output_type": "stream",
     "text": [
      "\u001b[32mEpoch [109]:100%|███████████████████████████████████████| Time: 0:00:06\u001b[39m\n"
     ]
    },
    {
     "name": "stdout",
     "output_type": "stream",
     "text": [
      "Epoch [109]:  Validation loss = 1.4628288,  Validation acc = 0.625"
     ]
    },
    {
     "name": "stderr",
     "output_type": "stream",
     "text": [
      "\r",
      "\u001b[32mEpoch [110]:  6%|███                                    |  ETA: 0:00:06\u001b[39m"
     ]
    },
    {
     "name": "stdout",
     "output_type": "stream",
     "text": [
      "\n"
     ]
    },
    {
     "name": "stderr",
     "output_type": "stream",
     "text": [
      "\u001b[32mEpoch [110]:100%|███████████████████████████████████████| Time: 0:00:06\u001b[39m"
     ]
    },
    {
     "name": "stdout",
     "output_type": "stream",
     "text": [
      "Epoch [110]:  Validation loss = 1.5615371,  Validation acc = 0.5992647058823529"
     ]
    },
    {
     "name": "stderr",
     "output_type": "stream",
     "text": [
      "\n",
      "\u001b[32mEpoch [111]:  6%|███                                    |  ETA: 0:00:06\u001b[39m"
     ]
    },
    {
     "name": "stdout",
     "output_type": "stream",
     "text": [
      "\n"
     ]
    },
    {
     "name": "stderr",
     "output_type": "stream",
     "text": [
      "\u001b[32mEpoch [111]:100%|███████████████████████████████████████| Time: 0:00:06\u001b[39m\n"
     ]
    },
    {
     "name": "stdout",
     "output_type": "stream",
     "text": [
      "Epoch [111]:  Validation loss = 1.8650597,  Validation acc = 0.5257352941176471"
     ]
    },
    {
     "name": "stderr",
     "output_type": "stream",
     "text": [
      "\r",
      "\u001b[32mEpoch [112]:  6%|███                                    |  ETA: 0:00:06\u001b[39m"
     ]
    },
    {
     "name": "stdout",
     "output_type": "stream",
     "text": [
      "\n"
     ]
    },
    {
     "name": "stderr",
     "output_type": "stream",
     "text": [
      "\u001b[32mEpoch [112]:100%|███████████████████████████████████████| Time: 0:00:06\u001b[39m\n"
     ]
    },
    {
     "name": "stdout",
     "output_type": "stream",
     "text": [
      "Epoch [112]:  Validation loss = 1.5175966,  Validation acc = 0.5919117647058824\n"
     ]
    },
    {
     "name": "stderr",
     "output_type": "stream",
     "text": [
      "┌ Warning:  -> Haven't improved in a while, dropping learning rate to 0.0032768000000000007!\n",
      "└ @ Main In[23]:82\n",
      "\u001b[32mEpoch [113]:100%|███████████████████████████████████████| Time: 0:00:06\u001b[39m\n"
     ]
    },
    {
     "name": "stdout",
     "output_type": "stream",
     "text": [
      "Epoch [113]:  Validation loss = 1.3652796,  Validation acc = 0.6470588235294118"
     ]
    },
    {
     "name": "stderr",
     "output_type": "stream",
     "text": [
      "\r",
      "\u001b[32mEpoch [114]:  6%|███                                    |  ETA: 0:00:06\u001b[39m"
     ]
    },
    {
     "name": "stdout",
     "output_type": "stream",
     "text": [
      "\n"
     ]
    },
    {
     "name": "stderr",
     "output_type": "stream",
     "text": [
      "\u001b[32mEpoch [114]:100%|███████████████████████████████████████| Time: 0:00:06\u001b[39m\n"
     ]
    },
    {
     "name": "stdout",
     "output_type": "stream",
     "text": [
      "Epoch [114]:  Validation loss = 1.3854157,  Validation acc = 0.625"
     ]
    },
    {
     "name": "stderr",
     "output_type": "stream",
     "text": [
      "\r",
      "\u001b[32mEpoch [115]:  6%|███                                    |  ETA: 0:00:07\u001b[39m"
     ]
    },
    {
     "name": "stdout",
     "output_type": "stream",
     "text": [
      "\n"
     ]
    },
    {
     "name": "stderr",
     "output_type": "stream",
     "text": [
      "\u001b[32mEpoch [115]:100%|███████████████████████████████████████| Time: 0:00:07\u001b[39m\n"
     ]
    },
    {
     "name": "stdout",
     "output_type": "stream",
     "text": [
      "Epoch [115]:  Validation loss = 1.3684967,  Validation acc = 0.6286764705882353"
     ]
    },
    {
     "name": "stderr",
     "output_type": "stream",
     "text": [
      "\r"
     ]
    },
    {
     "name": "stdout",
     "output_type": "stream",
     "text": [
      "\n"
     ]
    },
    {
     "name": "stderr",
     "output_type": "stream",
     "text": [
      "\u001b[32mEpoch [116]:100%|███████████████████████████████████████| Time: 0:00:07\u001b[39m\n"
     ]
    },
    {
     "name": "stdout",
     "output_type": "stream",
     "text": [
      "Epoch [116]:  Validation loss = 1.3073075,  Validation acc = 0.6507352941176471"
     ]
    },
    {
     "name": "stderr",
     "output_type": "stream",
     "text": [
      "\r",
      "\u001b[32mEpoch [117]:  6%|███                                    |  ETA: 0:00:06\u001b[39m"
     ]
    },
    {
     "name": "stdout",
     "output_type": "stream",
     "text": [
      "\n"
     ]
    },
    {
     "name": "stderr",
     "output_type": "stream",
     "text": [
      "\u001b[32mEpoch [117]:100%|███████████████████████████████████████| Time: 0:00:06\u001b[39m\n"
     ]
    },
    {
     "name": "stdout",
     "output_type": "stream",
     "text": [
      "Epoch [117]:  Validation loss = 1.2949735,  Validation acc = 0.6360294117647058"
     ]
    },
    {
     "name": "stderr",
     "output_type": "stream",
     "text": [
      "\r",
      "\u001b[32mEpoch [118]:  6%|███                                    |  ETA: 0:00:09\u001b[39m"
     ]
    },
    {
     "name": "stdout",
     "output_type": "stream",
     "text": [
      "\n"
     ]
    },
    {
     "name": "stderr",
     "output_type": "stream",
     "text": [
      "\u001b[32mEpoch [118]:100%|███████████████████████████████████████| Time: 0:00:09\u001b[39m\n"
     ]
    },
    {
     "name": "stdout",
     "output_type": "stream",
     "text": [
      "Epoch [118]:  Validation loss = 1.310011,  Validation acc = 0.6360294117647058"
     ]
    },
    {
     "name": "stderr",
     "output_type": "stream",
     "text": [
      "\r",
      "\u001b[32mEpoch [119]:  6%|███                                    |  ETA: 0:00:06\u001b[39m"
     ]
    },
    {
     "name": "stdout",
     "output_type": "stream",
     "text": [
      "\n"
     ]
    },
    {
     "name": "stderr",
     "output_type": "stream",
     "text": [
      "\u001b[32mEpoch [119]:100%|███████████████████████████████████████| Time: 0:00:06\u001b[39m\n"
     ]
    },
    {
     "name": "stdout",
     "output_type": "stream",
     "text": [
      "Epoch [119]:  Validation loss = 1.3152454,  Validation acc = 0.6397058823529411"
     ]
    },
    {
     "name": "stderr",
     "output_type": "stream",
     "text": [
      "\r",
      "\u001b[32mEpoch [120]:  6%|███                                    |  ETA: 0:00:06\u001b[39m"
     ]
    },
    {
     "name": "stdout",
     "output_type": "stream",
     "text": [
      "\n"
     ]
    },
    {
     "name": "stderr",
     "output_type": "stream",
     "text": [
      "\u001b[32mEpoch [120]:100%|███████████████████████████████████████| Time: 0:00:06\u001b[39m\n"
     ]
    },
    {
     "name": "stdout",
     "output_type": "stream",
     "text": [
      "Epoch [120]:  Validation loss = 1.2981446,  Validation acc = 0.6617647058823529"
     ]
    },
    {
     "name": "stderr",
     "output_type": "stream",
     "text": [
      "\r",
      "\u001b[32mEpoch [121]:  6%|███                                    |  ETA: 0:00:06\u001b[39m"
     ]
    },
    {
     "name": "stdout",
     "output_type": "stream",
     "text": [
      "\n"
     ]
    },
    {
     "name": "stderr",
     "output_type": "stream",
     "text": [
      "\u001b[32mEpoch [121]:100%|███████████████████████████████████████| Time: 0:00:06\u001b[39m\n"
     ]
    },
    {
     "name": "stdout",
     "output_type": "stream",
     "text": [
      "Epoch [121]:  Validation loss = 1.2891439,  Validation acc = 0.6176470588235294"
     ]
    },
    {
     "name": "stderr",
     "output_type": "stream",
     "text": [
      "\r",
      "\u001b[32mEpoch [122]:  6%|███                                    |  ETA: 0:00:06\u001b[39m"
     ]
    },
    {
     "name": "stdout",
     "output_type": "stream",
     "text": [
      "\n"
     ]
    },
    {
     "name": "stderr",
     "output_type": "stream",
     "text": [
      "\u001b[32mEpoch [122]:100%|███████████████████████████████████████| Time: 0:00:06\u001b[39m\n"
     ]
    },
    {
     "name": "stdout",
     "output_type": "stream",
     "text": [
      "Epoch [122]:  Validation loss = 1.2580576,  Validation acc = 0.6286764705882353\n"
     ]
    },
    {
     "name": "stderr",
     "output_type": "stream",
     "text": [
      "┌ Warning:  -> Haven't improved in a while, dropping learning rate to 0.002621440000000001!\n",
      "└ @ Main In[23]:82\n",
      "\u001b[32mEpoch [123]:100%|███████████████████████████████████████| Time: 0:00:06\u001b[39m\n"
     ]
    },
    {
     "name": "stdout",
     "output_type": "stream",
     "text": [
      "Epoch [123]:  Validation loss = 1.233654,  Validation acc = 0.6617647058823529"
     ]
    },
    {
     "name": "stderr",
     "output_type": "stream",
     "text": [
      "\r"
     ]
    },
    {
     "name": "stdout",
     "output_type": "stream",
     "text": [
      "\n"
     ]
    },
    {
     "name": "stderr",
     "output_type": "stream",
     "text": [
      "\u001b[32mEpoch [124]:100%|███████████████████████████████████████| Time: 0:00:06\u001b[39m\n"
     ]
    },
    {
     "name": "stdout",
     "output_type": "stream",
     "text": [
      "Epoch [124]:  Validation loss = 1.2387302,  Validation acc = 0.6397058823529411"
     ]
    },
    {
     "name": "stderr",
     "output_type": "stream",
     "text": [
      "\r",
      "\u001b[32mEpoch [125]:  6%|███                                    |  ETA: 0:00:06\u001b[39m"
     ]
    },
    {
     "name": "stdout",
     "output_type": "stream",
     "text": [
      "\n"
     ]
    },
    {
     "name": "stderr",
     "output_type": "stream",
     "text": [
      "\u001b[32mEpoch [125]:100%|███████████████████████████████████████| Time: 0:00:06\u001b[39m\n"
     ]
    },
    {
     "name": "stdout",
     "output_type": "stream",
     "text": [
      "Epoch [125]:  Validation loss = 1.2334744,  Validation acc = 0.6397058823529411"
     ]
    },
    {
     "name": "stderr",
     "output_type": "stream",
     "text": [
      "\r"
     ]
    },
    {
     "name": "stdout",
     "output_type": "stream",
     "text": [
      "\n"
     ]
    },
    {
     "name": "stderr",
     "output_type": "stream",
     "text": [
      "\u001b[32mEpoch [126]:100%|███████████████████████████████████████| Time: 0:00:06\u001b[39m\n"
     ]
    },
    {
     "name": "stdout",
     "output_type": "stream",
     "text": [
      "Epoch [126]:  Validation loss = 1.5059983,  Validation acc = 0.5735294117647058"
     ]
    },
    {
     "name": "stderr",
     "output_type": "stream",
     "text": [
      "\r",
      "\u001b[32mEpoch [127]:  6%|███                                    |  ETA: 0:00:06\u001b[39m"
     ]
    },
    {
     "name": "stdout",
     "output_type": "stream",
     "text": [
      "\n"
     ]
    },
    {
     "name": "stderr",
     "output_type": "stream",
     "text": [
      "\u001b[32mEpoch [127]:100%|███████████████████████████████████████| Time: 0:00:06\u001b[39m\n"
     ]
    },
    {
     "name": "stdout",
     "output_type": "stream",
     "text": [
      "Epoch [127]:  Validation loss = 1.3357584,  Validation acc = 0.625"
     ]
    },
    {
     "name": "stderr",
     "output_type": "stream",
     "text": [
      "\r",
      "\u001b[32mEpoch [128]:  6%|███                                    |  ETA: 0:00:06\u001b[39m"
     ]
    },
    {
     "name": "stdout",
     "output_type": "stream",
     "text": [
      "\n"
     ]
    },
    {
     "name": "stderr",
     "output_type": "stream",
     "text": [
      "\u001b[32mEpoch [128]:100%|███████████████████████████████████████| Time: 0:00:06\u001b[39m\n"
     ]
    },
    {
     "name": "stdout",
     "output_type": "stream",
     "text": [
      "Epoch [128]:  Validation loss = 1.2619739,  Validation acc = 0.625"
     ]
    },
    {
     "name": "stderr",
     "output_type": "stream",
     "text": [
      "\r",
      "\u001b[32mEpoch [129]:  6%|███                                    |  ETA: 0:00:07\u001b[39m"
     ]
    },
    {
     "name": "stdout",
     "output_type": "stream",
     "text": [
      "\n"
     ]
    },
    {
     "name": "stderr",
     "output_type": "stream",
     "text": [
      "\u001b[32mEpoch [129]:100%|███████████████████████████████████████| Time: 0:00:06\u001b[39m\n"
     ]
    },
    {
     "name": "stdout",
     "output_type": "stream",
     "text": [
      "Epoch [129]:  Validation loss = 1.210559,  Validation acc = 0.6360294117647058"
     ]
    },
    {
     "name": "stderr",
     "output_type": "stream",
     "text": [
      "\r",
      "\u001b[32mEpoch [130]:  6%|███                                    |  ETA: 0:00:06\u001b[39m"
     ]
    },
    {
     "name": "stdout",
     "output_type": "stream",
     "text": [
      "\n"
     ]
    },
    {
     "name": "stderr",
     "output_type": "stream",
     "text": [
      "\u001b[32mEpoch [130]:100%|███████████████████████████████████████| Time: 0:00:06\u001b[39m\n"
     ]
    },
    {
     "name": "stdout",
     "output_type": "stream",
     "text": [
      "Epoch [130]:  Validation loss = 1.3575754,  Validation acc = 0.625"
     ]
    },
    {
     "name": "stderr",
     "output_type": "stream",
     "text": [
      "\r",
      "\u001b[32mEpoch [131]:  6%|███                                    |  ETA: 0:00:06\u001b[39m"
     ]
    },
    {
     "name": "stdout",
     "output_type": "stream",
     "text": [
      "\n"
     ]
    },
    {
     "name": "stderr",
     "output_type": "stream",
     "text": [
      "\u001b[32mEpoch [131]:100%|███████████████████████████████████████| Time: 0:00:06\u001b[39m\n"
     ]
    },
    {
     "name": "stdout",
     "output_type": "stream",
     "text": [
      "Epoch [131]:  Validation loss = 1.4442573,  Validation acc = 0.5808823529411765"
     ]
    },
    {
     "name": "stderr",
     "output_type": "stream",
     "text": [
      "\r",
      "\u001b[32mEpoch [132]:  6%|███                                    |  ETA: 0:00:06\u001b[39m"
     ]
    },
    {
     "name": "stdout",
     "output_type": "stream",
     "text": [
      "\n"
     ]
    },
    {
     "name": "stderr",
     "output_type": "stream",
     "text": [
      "\u001b[32mEpoch [132]:100%|███████████████████████████████████████| Time: 0:00:06\u001b[39m\n"
     ]
    },
    {
     "name": "stdout",
     "output_type": "stream",
     "text": [
      "Epoch [132]:  Validation loss = 1.2899504,  Validation acc = 0.6286764705882353\n"
     ]
    },
    {
     "name": "stderr",
     "output_type": "stream",
     "text": [
      "┌ Warning:  -> Haven't improved in a while, dropping learning rate to 0.002097152000000001!\n",
      "└ @ Main In[23]:82\n",
      "\u001b[32mEpoch [133]:100%|███████████████████████████████████████| Time: 0:00:06\u001b[39m\n"
     ]
    },
    {
     "name": "stdout",
     "output_type": "stream",
     "text": [
      "Epoch [133]:  Validation loss = 1.3546705,  Validation acc = 0.625"
     ]
    },
    {
     "name": "stderr",
     "output_type": "stream",
     "text": [
      "\r",
      "\u001b[32mEpoch [134]:  6%|███                                    |  ETA: 0:00:06\u001b[39m"
     ]
    },
    {
     "name": "stdout",
     "output_type": "stream",
     "text": [
      "\n"
     ]
    },
    {
     "name": "stderr",
     "output_type": "stream",
     "text": [
      "\u001b[32mEpoch [134]:100%|███████████████████████████████████████| Time: 0:00:06\u001b[39m\n"
     ]
    },
    {
     "name": "stdout",
     "output_type": "stream",
     "text": [
      "Epoch [134]:  Validation loss = 1.2864146,  Validation acc = 0.6102941176470589"
     ]
    },
    {
     "name": "stderr",
     "output_type": "stream",
     "text": [
      "\r",
      "\u001b[32mEpoch [135]:  6%|███                                    |  ETA: 0:00:06\u001b[39m"
     ]
    },
    {
     "name": "stdout",
     "output_type": "stream",
     "text": [
      "\n"
     ]
    },
    {
     "name": "stderr",
     "output_type": "stream",
     "text": [
      "\u001b[32mEpoch [135]:100%|███████████████████████████████████████| Time: 0:00:06\u001b[39m\n"
     ]
    },
    {
     "name": "stdout",
     "output_type": "stream",
     "text": [
      "Epoch [135]:  Validation loss = 1.242822,  Validation acc = 0.6102941176470589"
     ]
    },
    {
     "name": "stderr",
     "output_type": "stream",
     "text": [
      "\r",
      "\u001b[32mEpoch [136]:  6%|███                                    |  ETA: 0:00:06\u001b[39m"
     ]
    },
    {
     "name": "stdout",
     "output_type": "stream",
     "text": [
      "\n"
     ]
    },
    {
     "name": "stderr",
     "output_type": "stream",
     "text": [
      "\u001b[32mEpoch [136]:100%|███████████████████████████████████████| Time: 0:00:06\u001b[39m\n"
     ]
    },
    {
     "name": "stdout",
     "output_type": "stream",
     "text": [
      "Epoch [136]:  Validation loss = 1.313977,  Validation acc = 0.6213235294117647"
     ]
    },
    {
     "name": "stderr",
     "output_type": "stream",
     "text": [
      "\r",
      "\u001b[32mEpoch [137]:  6%|███                                    |  ETA: 0:00:06\u001b[39m"
     ]
    },
    {
     "name": "stdout",
     "output_type": "stream",
     "text": [
      "\n"
     ]
    },
    {
     "name": "stderr",
     "output_type": "stream",
     "text": [
      "\u001b[32mEpoch [137]:100%|███████████████████████████████████████| Time: 0:00:06\u001b[39m\n"
     ]
    },
    {
     "name": "stdout",
     "output_type": "stream",
     "text": [
      "Epoch [137]:  Validation loss = 1.2851071,  Validation acc = 0.6360294117647058"
     ]
    },
    {
     "name": "stderr",
     "output_type": "stream",
     "text": [
      "\r",
      "\u001b[32mEpoch [138]:  6%|███                                    |  ETA: 0:00:06\u001b[39m"
     ]
    },
    {
     "name": "stdout",
     "output_type": "stream",
     "text": [
      "\n"
     ]
    },
    {
     "name": "stderr",
     "output_type": "stream",
     "text": [
      "\u001b[32mEpoch [138]:100%|███████████████████████████████████████| Time: 0:00:06\u001b[39m\n"
     ]
    },
    {
     "name": "stdout",
     "output_type": "stream",
     "text": [
      "Epoch [138]:  Validation loss = 1.2563095,  Validation acc = 0.6286764705882353"
     ]
    },
    {
     "name": "stderr",
     "output_type": "stream",
     "text": [
      "\r",
      "\u001b[32mEpoch [139]:  6%|███                                    |  ETA: 0:00:06\u001b[39m"
     ]
    },
    {
     "name": "stdout",
     "output_type": "stream",
     "text": [
      "\n"
     ]
    },
    {
     "name": "stderr",
     "output_type": "stream",
     "text": [
      "\u001b[32mEpoch [139]:100%|███████████████████████████████████████| Time: 0:00:06\u001b[39m\n"
     ]
    },
    {
     "name": "stdout",
     "output_type": "stream",
     "text": [
      "Epoch [139]:  Validation loss = 1.2338697,  Validation acc = 0.6286764705882353"
     ]
    },
    {
     "name": "stderr",
     "output_type": "stream",
     "text": [
      "\r",
      "\u001b[32mEpoch [140]:  6%|███                                    |  ETA: 0:00:06\u001b[39m"
     ]
    },
    {
     "name": "stdout",
     "output_type": "stream",
     "text": [
      "\n"
     ]
    },
    {
     "name": "stderr",
     "output_type": "stream",
     "text": [
      "\u001b[32mEpoch [140]:100%|███████████████████████████████████████| Time: 0:00:06\u001b[39m\n"
     ]
    },
    {
     "name": "stdout",
     "output_type": "stream",
     "text": [
      "Epoch [140]:  Validation loss = 1.2675995,  Validation acc = 0.6139705882352942"
     ]
    },
    {
     "name": "stderr",
     "output_type": "stream",
     "text": [
      "\r",
      "\u001b[32mEpoch [141]:  6%|███                                    |  ETA: 0:00:06\u001b[39m"
     ]
    },
    {
     "name": "stdout",
     "output_type": "stream",
     "text": [
      "\n"
     ]
    },
    {
     "name": "stderr",
     "output_type": "stream",
     "text": [
      "\u001b[32mEpoch [141]:100%|███████████████████████████████████████| Time: 0:00:06\u001b[39m\n"
     ]
    },
    {
     "name": "stdout",
     "output_type": "stream",
     "text": [
      "Epoch [141]:  Validation loss = 1.255584,  Validation acc = 0.625"
     ]
    },
    {
     "name": "stderr",
     "output_type": "stream",
     "text": [
      "\r",
      "\u001b[32mEpoch [142]:  6%|███                                    |  ETA: 0:00:06\u001b[39m"
     ]
    },
    {
     "name": "stdout",
     "output_type": "stream",
     "text": [
      "\n"
     ]
    },
    {
     "name": "stderr",
     "output_type": "stream",
     "text": [
      "\u001b[32mEpoch [142]:100%|███████████████████████████████████████| Time: 0:00:06\u001b[39m\n"
     ]
    },
    {
     "name": "stdout",
     "output_type": "stream",
     "text": [
      "Epoch [142]:  Validation loss = 1.3965266,  Validation acc = 0.6213235294117647\n"
     ]
    },
    {
     "name": "stderr",
     "output_type": "stream",
     "text": [
      "┌ Warning:  -> Haven't improved in a while, dropping learning rate to 0.001677721600000001!\n",
      "└ @ Main In[23]:82\n",
      "┌ Warning:  -> No improvement, stop training.\n",
      "└ @ Main In[23]:87\n"
     ]
    }
   ],
   "source": [
    "for use_complex_model in [false, true]\n",
    "    \n",
    "    global model = my_model(complex=use_complex_model) |> gpu;\n",
    "    global optimiser = Flux.Optimiser(ADAM(learining_rate, (0.9, 0.999)), WeightDecay(l2_factor))\n",
    "    \n",
    "    global best_acc = 0.0;\n",
    "    global last_improvement = 0;\n",
    "    global num_early_stop = 0;\n",
    "    \n",
    "    @info(\"Start training loop...\")\n",
    "\n",
    "    for epoch_idx in 1:num_epochs\n",
    "        global best_acc, last_improvement\n",
    "        p = ProgressMeter.Progress(length(train_loader); desc=\"Epoch [$epoch_idx]:\")\n",
    "\n",
    "        # Train for a single epoch\n",
    "        for (x, y) in train_loader\n",
    "            gs = Flux.gradient(params(model)) do\n",
    "                loss(x, y)\n",
    "            end\n",
    "            Flux.Optimise.update!(optimiser, params(model), gs)\n",
    "            ProgressMeter.next!(p)   # comment out for no progress bar\n",
    "        end\n",
    "\n",
    "\n",
    "        # Calculate accuracy:\n",
    "        _loss, acc = eval_loss_accuracy(valid_loader, model)\n",
    "        println(\"Epoch [$epoch_idx]:  Validation loss = $_loss,  Validation acc = $acc\")\n",
    "\n",
    "        # Early stop: If our accuracy is good enough, quit out.\n",
    "        if acc >= 0.97\n",
    "            @info(\" -> Early-exiting: We reached our target accuracy of 97%\")\n",
    "            break\n",
    "        end\n",
    "\n",
    "        # If this is the best accuracy we've seen so far, save the model out\n",
    "        if acc >= best_acc\n",
    "            \n",
    "            savepath = joinpath(\".\", \"models\");\n",
    "            if use_complex_model\n",
    "                model_filename = @sprintf(\"monkey_complex_acc[%03d%%].bson\", acc*100)\n",
    "            else\n",
    "                model_filename = @sprintf(\"monkey_simple_acc[%03d%%].bson\", acc*100)\n",
    "            end\n",
    "            \n",
    "            !ispath(savepath) && mkpath(savepath)\n",
    "            modelpath = joinpath(savepath, model_filename)\n",
    "            println(@sprintf(\" -> New best accuracy! Saving model out to %s\", modelpath))\n",
    "            let model = cpu(model)\n",
    "                BSON.@save modelpath model epoch_idx acc\n",
    "            end\n",
    "            best_acc = acc\n",
    "            last_improvement = epoch_idx\n",
    "            num_early_stop = 0;\n",
    "        else\n",
    "            num_early_stop += 1;\n",
    "        end\n",
    "\n",
    "        if epoch_idx - last_improvement >= decay_step && optimiser.os[1].eta > clip\n",
    "            optimiser.os[1].eta *= decay\n",
    "            \n",
    "            # After dropping learning rate, give it a few epochs to improve\n",
    "            last_improvement = epoch_idx\n",
    "\n",
    "            if optimiser.os[1].eta <= clip\n",
    "               optimiser.os[1].eta = clip\n",
    "            end\n",
    "            @warn(\" -> Haven't improved in a while, dropping learning rate to $(optimiser.os[1].eta)!\")\n",
    "        end\n",
    "\n",
    "        # Early stop: no improvement\n",
    "        if num_early_stop >= early_stop\n",
    "            @warn(\" -> No improvement, stop training.\")\n",
    "            break\n",
    "        end\n",
    "        \n",
    "        if isnan(_loss)\n",
    "            @warn(\" -> The loss becomes NaN!\")\n",
    "            break\n",
    "        end\n",
    "    end\n",
    "    \n",
    "end"
   ]
  },
  {
   "cell_type": "markdown",
   "metadata": {},
   "source": [
    "## model evalution"
   ]
  },
  {
   "cell_type": "code",
   "execution_count": 24,
   "metadata": {},
   "outputs": [
    {
     "name": "stdout",
     "output_type": "stream",
     "text": [
      "Maximum accuracy: 74\n"
     ]
    }
   ],
   "source": [
    "## load best model\n",
    "all_modelpath = recursive_readdir(\"models\\\\\")\n",
    "best_acc, best_acc_idx = findmax(map(x->parse(Int, x.match), match.(r\"[[:<:]]\\d+[[:>:]]\", all_modelpath)))\n",
    "best_modelpath = all_modelpath[best_acc_idx]\n",
    "println(\"Best accuracy: $best_acc\")\n",
    "BSON.@load best_modelpath model"
   ]
  },
  {
   "cell_type": "code",
   "execution_count": 25,
   "metadata": {},
   "outputs": [
    {
     "name": "stdout",
     "output_type": "stream",
     "text": [
      "Training Loss: 0.011730555, Accuracy: 0.9990884229717412\n",
      "Validation Loss: 1.1111557, Accuracy: 0.7389705882352942\n"
     ]
    }
   ],
   "source": [
    "## model evalution\n",
    "model = model |> gpu;\n",
    "testmode!(model);\n",
    "best_loss, best_acc = eval_loss_accuracy(train_loader, model);\n",
    "println(\"Training Loss: $best_loss, Accuracy: $best_acc\");\n",
    "best_loss, best_acc = eval_loss_accuracy(valid_loader, model);\n",
    "println(\"Validation Loss: $best_loss, Accuracy: $best_acc\");\n",
    "testmode!(model, false);"
   ]
  },
  {
   "cell_type": "code",
   "execution_count": 187,
   "metadata": {},
   "outputs": [
    {
     "data": {
      "text/plain": [
       "272-element Array{Int64,1}:\n",
       " 10\n",
       "  1\n",
       " 10\n",
       "  1\n",
       "  6\n",
       "  1\n",
       " 10\n",
       "  1\n",
       "  6\n",
       "  1\n",
       "  1\n",
       "  5\n",
       " 10\n",
       "  ⋮\n",
       "  1\n",
       "  2\n",
       "  4\n",
       " 10\n",
       " 10\n",
       " 10\n",
       " 10\n",
       " 10\n",
       "  1\n",
       "  6\n",
       "  5\n",
       "  8"
      ]
     },
     "execution_count": 187,
     "metadata": {},
     "output_type": "execute_result"
    }
   ],
   "source": [
    "reduce(vcat, [onecold(model(x) |> cpu) for (x, y) in valid_loader])"
   ]
  },
  {
   "cell_type": "code",
   "execution_count": 188,
   "metadata": {},
   "outputs": [
    {
     "data": {
      "text/plain": [
       "272-element Array{Int64,1}:\n",
       "  1\n",
       "  1\n",
       "  1\n",
       "  1\n",
       "  1\n",
       "  1\n",
       "  1\n",
       "  1\n",
       "  1\n",
       "  1\n",
       "  1\n",
       "  1\n",
       "  1\n",
       "  ⋮\n",
       " 10\n",
       " 10\n",
       " 10\n",
       " 10\n",
       " 10\n",
       " 10\n",
       " 10\n",
       " 10\n",
       " 10\n",
       " 10\n",
       " 10\n",
       " 10"
      ]
     },
     "execution_count": 188,
     "metadata": {},
     "output_type": "execute_result"
    }
   ],
   "source": [
    "onecold(valid_labels |> cpu)"
   ]
  },
  {
   "cell_type": "code",
   "execution_count": 178,
   "metadata": {},
   "outputs": [
    {
     "data": {
      "text/plain": [
       "10-element Array{String,1}:\n",
       " \"n0\"\n",
       " \"n1\"\n",
       " \"n2\"\n",
       " \"n3\"\n",
       " \"n4\"\n",
       " \"n5\"\n",
       " \"n6\"\n",
       " \"n7\"\n",
       " \"n8\"\n",
       " \"n9\""
      ]
     },
     "execution_count": 178,
     "metadata": {},
     "output_type": "execute_result"
    }
   ],
   "source": [
    "unique(reduce(hcat, splitpath.(dirname.(valid_imgs_path)))[end, :])"
   ]
  }
 ],
 "metadata": {
  "kernelspec": {
   "display_name": "Julia 1.4.0",
   "language": "julia",
   "name": "julia-1.4"
  },
  "language_info": {
   "file_extension": ".jl",
   "mimetype": "application/julia",
   "name": "julia",
   "version": "1.4.0"
  }
 },
 "nbformat": 4,
 "nbformat_minor": 4
}
