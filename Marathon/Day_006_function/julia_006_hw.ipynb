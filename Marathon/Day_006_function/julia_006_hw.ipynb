{
 "cells": [
  {
   "cell_type": "markdown",
   "metadata": {
    "colab_type": "text",
    "id": "xGRRA-qCa1ug"
   },
   "source": [
    "# Julia 函式 (Functions)\n",
    "\n",
    "## 作業 006：身高體重指數 (Body Mass Index; BMI) 計算機\n",
    "\n",
    "身高體重指數 (Body Mass Index; BMI) 是我們常用來衡量健康的指標之一，例如肥胖是否為某一種疾病的致病原因。請用 Julia 函式撰寫 BMI 計算公式，並呼叫函式計算 BMI 值。\n",
    "\n",
    "BMI 計算公式：\n",
    "$$BMI=\\frac{體重}{身高^2}$$\n",
    "其中體重的單位為公斤，身高的單位為公尺。"
   ]
  },
  {
   "cell_type": "code",
   "execution_count": 1,
   "metadata": {
    "colab": {},
    "colab_type": "code",
    "id": "0ENgBuhna1uj"
   },
   "outputs": [
    {
     "data": {
      "text/plain": [
       "calc_bmi (generic function with 1 method)"
      ]
     },
     "execution_count": 1,
     "metadata": {},
     "output_type": "execute_result"
    }
   ],
   "source": [
    "# 定義函式，並在函式中計算 BMI\n",
    "function calc_bmi(weight::Real, height::Real)\n",
    "    return round(weight/height^2, RoundNearestTiesUp; digits=1)\n",
    "end"
   ]
  },
  {
   "cell_type": "code",
   "execution_count": 2,
   "metadata": {
    "colab": {},
    "colab_type": "code",
    "id": "HjjZi9l8a1up"
   },
   "outputs": [
    {
     "data": {
      "text/plain": [
       "20.7"
      ]
     },
     "execution_count": 2,
     "metadata": {},
     "output_type": "execute_result"
    }
   ],
   "source": [
    "# 呼叫上面定義的函式，得到計算出來的 BMI\n",
    "calc_bmi(63.3, 1.75)"
   ]
  },
  {
   "cell_type": "code",
   "execution_count": 3,
   "metadata": {
    "colab": {},
    "colab_type": "code",
    "id": "I1Ap6yqNa1uw"
   },
   "outputs": [
    {
     "data": {
      "text/plain": [
       "23.5"
      ]
     },
     "execution_count": 3,
     "metadata": {},
     "output_type": "execute_result"
    }
   ],
   "source": [
    "# 可再次呼叫上面定義的函式，計算其他人的 BMI\n",
    "calc_bmi(80.5, 1.85)"
   ]
  },
  {
   "cell_type": "code",
   "execution_count": null,
   "metadata": {},
   "outputs": [],
   "source": []
  }
 ],
 "metadata": {
  "colab": {
   "name": "julia_006_hw.ipynb",
   "provenance": []
  },
  "kernelspec": {
   "display_name": "Julia 1.4.0",
   "language": "julia",
   "name": "julia-1.4"
  },
  "language_info": {
   "file_extension": ".jl",
   "mimetype": "application/julia",
   "name": "julia",
   "version": "1.4.0"
  }
 },
 "nbformat": 4,
 "nbformat_minor": 4
}
