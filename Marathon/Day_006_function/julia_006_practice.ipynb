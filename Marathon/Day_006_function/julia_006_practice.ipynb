{
 "cells": [
  {
   "cell_type": "markdown",
   "metadata": {},
   "source": [
    "# Julia 函式 (Functions)\n",
    "\n",
    "在官方文件裡裡面，對於函式的定義是：”函式是一個將數組 (tuple) 引數 (argument) 對照到回傳值的物件”(a function is an object that maps a tuple of argument values to a return value. )。也就是說，呼叫時是用數組的型態把引數傳遞給函式，函式內的運算結果再透過回傳值傳回。\n",
    "\n",
    "我們可以透過函式的定義，將相同模式的動作或邏輯，抽象化提取出來成為可以重覆被呼叫使用的模塊。"
   ]
  },
  {
   "cell_type": "markdown",
   "metadata": {},
   "source": [
    "## 1. 函式 (Functions) 的基本語法與呼叫\n",
    "\n",
    "函式的宣告和呼叫，Julia 的函式宣告是以 function 保留字做為開頭，end 做為結尾。"
   ]
  },
  {
   "cell_type": "code",
   "execution_count": 2,
   "metadata": {},
   "outputs": [
    {
     "data": {
      "text/plain": [
       "f (generic function with 1 method)"
      ]
     },
     "execution_count": 2,
     "metadata": {},
     "output_type": "execute_result"
    }
   ],
   "source": [
    "# This function accepts two arguments x and y and returns the value of the `last expression evaluated`, which is x + y.\n",
    "function f(x, y)\n",
    "    x + y\n",
    "end"
   ]
  },
  {
   "cell_type": "code",
   "execution_count": 3,
   "metadata": {},
   "outputs": [
    {
     "data": {
      "text/plain": [
       "5"
      ]
     },
     "execution_count": 3,
     "metadata": {},
     "output_type": "execute_result"
    }
   ],
   "source": [
    "f(2, 3)"
   ]
  },
  {
   "cell_type": "markdown",
   "metadata": {},
   "source": [
    "**Assignment form**\n",
    "\n",
    "There is a second, more terse syntax for defining a function in Julia. The traditional function declaration syntax demonstrated above is equivalent to the following compact \"assignment form\".\n",
    "\n",
    "In the assignment form, the body of the function must be a single expression, although it can be a compound expression (see Compound Expressions).\n",
    "\n",
    "可以使用更簡潔的語法來定義函式，以下緊湊的\"指定形式\"所定義的函式等同於上述所定義的函式，但是僅能將單一表達式 (expression) 指定給函式。"
   ]
  },
  {
   "cell_type": "code",
   "execution_count": 6,
   "metadata": {},
   "outputs": [
    {
     "data": {
      "text/plain": [
       "f (generic function with 1 method)"
      ]
     },
     "execution_count": 6,
     "metadata": {},
     "output_type": "execute_result"
    }
   ],
   "source": [
    "f(x, y) = x + y"
   ]
  },
  {
   "cell_type": "code",
   "execution_count": 7,
   "metadata": {},
   "outputs": [
    {
     "data": {
      "text/plain": [
       "5"
      ]
     },
     "execution_count": 7,
     "metadata": {},
     "output_type": "execute_result"
    }
   ],
   "source": [
    "f(2, 3)"
   ]
  },
  {
   "cell_type": "markdown",
   "metadata": {},
   "source": [
    "Without parentheses, the expression f refers to the function object, and can be passed around like any value:\n",
    "\n",
    "可將函式當做物件指定給另一物件。"
   ]
  },
  {
   "cell_type": "code",
   "execution_count": 10,
   "metadata": {},
   "outputs": [
    {
     "data": {
      "text/plain": [
       "5"
      ]
     },
     "execution_count": 10,
     "metadata": {},
     "output_type": "execute_result"
    }
   ],
   "source": [
    "g = f;\n",
    "g(2, 3)"
   ]
  },
  {
   "cell_type": "markdown",
   "metadata": {},
   "source": [
    "Unicode can also be used for function names\n",
    "\n",
    "函式的名稱也可以使用 Unicode 字元。\n",
    "\n",
    "∑ 字元的產生方式是：\\sum[tab]"
   ]
  },
  {
   "cell_type": "code",
   "execution_count": 17,
   "metadata": {},
   "outputs": [
    {
     "data": {
      "text/plain": [
       "∑ (generic function with 1 method)"
      ]
     },
     "execution_count": 17,
     "metadata": {},
     "output_type": "execute_result"
    }
   ],
   "source": [
    "∑(x, y) = x + y"
   ]
  },
  {
   "cell_type": "code",
   "execution_count": 18,
   "metadata": {},
   "outputs": [
    {
     "data": {
      "text/plain": [
       "6"
      ]
     },
     "execution_count": 18,
     "metadata": {},
     "output_type": "execute_result"
    }
   ],
   "source": [
    "∑(2, 4)"
   ]
  },
  {
   "cell_type": "markdown",
   "metadata": {},
   "source": [
    "函式內的表達式也可以用複合表達式 (Compound Expression) 模塊包住。"
   ]
  },
  {
   "cell_type": "code",
   "execution_count": 19,
   "metadata": {},
   "outputs": [
    {
     "data": {
      "text/plain": [
       "6"
      ]
     },
     "execution_count": 19,
     "metadata": {},
     "output_type": "execute_result"
    }
   ],
   "source": [
    "f2(x, y) = begin\n",
    "    z = 1\n",
    "    z += x + y\n",
    "end\n",
    "\n",
    "f2(2, 3)"
   ]
  },
  {
   "cell_type": "code",
   "execution_count": 21,
   "metadata": {},
   "outputs": [
    {
     "data": {
      "text/plain": [
       "6"
      ]
     },
     "execution_count": 21,
     "metadata": {},
     "output_type": "execute_result"
    }
   ],
   "source": [
    "f2(x, y) = (z = 1; z += x + y)\n",
    "\n",
    "f2(2, 3)"
   ]
  },
  {
   "cell_type": "code",
   "execution_count": 22,
   "metadata": {},
   "outputs": [
    {
     "data": {
      "text/plain": [
       "6"
      ]
     },
     "execution_count": 22,
     "metadata": {},
     "output_type": "execute_result"
    }
   ],
   "source": [
    "f2(x, y) = (\n",
    "    z = 1;\n",
    "    z += x + y;\n",
    ")\n",
    "\n",
    "f2(2, 3)"
   ]
  },
  {
   "cell_type": "markdown",
   "metadata": {},
   "source": [
    "函式使用 return 保留字傳回值。"
   ]
  },
  {
   "cell_type": "code",
   "execution_count": 23,
   "metadata": {},
   "outputs": [
    {
     "data": {
      "text/plain": [
       "11"
      ]
     },
     "execution_count": 23,
     "metadata": {},
     "output_type": "execute_result"
    }
   ],
   "source": [
    "function f(x, y)\n",
    "    return x + y\n",
    "end\n",
    "\n",
    "f(5, 6)"
   ]
  },
  {
   "cell_type": "markdown",
   "metadata": {},
   "source": [
    "函式的傳回值不一定需要用 return，回傳值會是最後一個表達式的結果。"
   ]
  },
  {
   "cell_type": "code",
   "execution_count": 24,
   "metadata": {},
   "outputs": [
    {
     "data": {
      "text/plain": [
       "5"
      ]
     },
     "execution_count": 24,
     "metadata": {},
     "output_type": "execute_result"
    }
   ],
   "source": [
    "function b(x, y)\n",
    "    x + y\n",
    "end\n",
    "\n",
    "b(2, 3)"
   ]
  },
  {
   "cell_type": "markdown",
   "metadata": {},
   "source": [
    "如果有 return 的話，就以 return 的表達式做為傳回值，而不是回傳最後一個表達式。"
   ]
  },
  {
   "cell_type": "code",
   "execution_count": 26,
   "metadata": {},
   "outputs": [
    {
     "data": {
      "text/plain": [
       "6"
      ]
     },
     "execution_count": 26,
     "metadata": {},
     "output_type": "execute_result"
    }
   ],
   "source": [
    "function c(x, y)\n",
    "    return x * y  # end here\n",
    "    println(x + y)\n",
    "end\n",
    "\n",
    "c(2, 3)"
   ]
  },
  {
   "cell_type": "code",
   "execution_count": 27,
   "metadata": {},
   "outputs": [
    {
     "data": {
      "text/plain": [
       "hypot (generic function with 1 method)"
      ]
     },
     "execution_count": 27,
     "metadata": {},
     "output_type": "execute_result"
    }
   ],
   "source": [
    "function hypot(x,y)\n",
    "    x = abs(x)\n",
    "    y = abs(y)\n",
    "    if x > y\n",
    "       r = y/x\n",
    "       return x*sqrt(1+r*r)\n",
    "    end\n",
    "    if y == 0\n",
    "       return zero(x)\n",
    "    end\n",
    "    r = x/y\n",
    "    return y*sqrt(1+r*r)\n",
    "end"
   ]
  },
  {
   "cell_type": "code",
   "execution_count": 28,
   "metadata": {},
   "outputs": [
    {
     "data": {
      "text/plain": [
       "5.0"
      ]
     },
     "execution_count": 28,
     "metadata": {},
     "output_type": "execute_result"
    }
   ],
   "source": [
    "hypot(3, 4)"
   ]
  },
  {
   "cell_type": "markdown",
   "metadata": {},
   "source": [
    "**Multiple Return Values**\n",
    "\n",
    "In Julia, one returns a tuple of values to simulate returning multiple values. However, tuples can be created and destructured without needing parentheses, thereby providing an illusion that multiple values are being returned, rather than a single tuple value.\n",
    "\n",
    "回傳tuple模擬多個回傳值，而tuple可以不經由括號\"()\"來建構及解構，因此產生了多個值被回傳，而非單個tuple被回傳的假象。\n",
    "\n",
    "函式可以有多個傳回值，回傳值以逗號分隔。"
   ]
  },
  {
   "cell_type": "code",
   "execution_count": 31,
   "metadata": {},
   "outputs": [
    {
     "data": {
      "text/plain": [
       "d (generic function with 1 method)"
      ]
     },
     "execution_count": 31,
     "metadata": {},
     "output_type": "execute_result"
    }
   ],
   "source": [
    "# multiple return values\n",
    "function d(x,y)\n",
    "    i = x * y\n",
    "    j = x + y\n",
    "    \n",
    "    return i, j\n",
    "end"
   ]
  },
  {
   "cell_type": "code",
   "execution_count": 33,
   "metadata": {},
   "outputs": [
    {
     "data": {
      "text/plain": [
       "(6, 5)"
      ]
     },
     "execution_count": 33,
     "metadata": {},
     "output_type": "execute_result"
    }
   ],
   "source": [
    "r1, r2 = d(2, 3)  # return a tuple and then \"destructuring\" to r1, r2"
   ]
  },
  {
   "cell_type": "code",
   "execution_count": 34,
   "metadata": {},
   "outputs": [
    {
     "name": "stdout",
     "output_type": "stream",
     "text": [
      "r1: 6\n",
      "r2: 5\n"
     ]
    }
   ],
   "source": [
    "println(\"r1: \", r1)\n",
    "println(\"r2: \", r2)"
   ]
  },
  {
   "cell_type": "markdown",
   "metadata": {},
   "source": [
    "**Define input and output type**\n",
    "\n",
    "函式的引數和回傳值均可指定資料型別。\n",
    "\n",
    "使用 `::` 指定型別。"
   ]
  },
  {
   "cell_type": "code",
   "execution_count": 30,
   "metadata": {},
   "outputs": [
    {
     "data": {
      "text/plain": [
       "Float64"
      ]
     },
     "execution_count": 30,
     "metadata": {},
     "output_type": "execute_result"
    }
   ],
   "source": [
    "function e(x::Int64, y::Int64)::Float64\n",
    "    x + y\n",
    "end\n",
    "\n",
    "typeof(e(2, 3))"
   ]
  },
  {
   "cell_type": "markdown",
   "metadata": {},
   "source": [
    "**return nothing**\n",
    "\n",
    "For functions that do not need to return a value (functions used only for some side effects), the Julia convention is to return the value `nothing`.\n",
    "\n",
    "當函式不需要回傳值時，習慣回傳`nothing`。"
   ]
  },
  {
   "cell_type": "code",
   "execution_count": 36,
   "metadata": {},
   "outputs": [
    {
     "data": {
      "text/plain": [
       "pow (generic function with 1 method)"
      ]
     },
     "execution_count": 36,
     "metadata": {},
     "output_type": "execute_result"
    }
   ],
   "source": [
    "function pow(x)\n",
    "    x ^ 2\n",
    "    return nothing\n",
    "end"
   ]
  },
  {
   "cell_type": "code",
   "execution_count": 37,
   "metadata": {},
   "outputs": [],
   "source": [
    "pow(5)"
   ]
  },
  {
   "cell_type": "markdown",
   "metadata": {},
   "source": [
    "也可以直接用return，後面不加其它語句。"
   ]
  },
  {
   "cell_type": "code",
   "execution_count": 38,
   "metadata": {},
   "outputs": [
    {
     "data": {
      "text/plain": [
       "pow (generic function with 1 method)"
      ]
     },
     "execution_count": 38,
     "metadata": {},
     "output_type": "execute_result"
    }
   ],
   "source": [
    "function pow(x)\n",
    "    x ^ 2\n",
    "    return\n",
    "end"
   ]
  },
  {
   "cell_type": "code",
   "execution_count": 40,
   "metadata": {},
   "outputs": [],
   "source": [
    "pow(3)"
   ]
  },
  {
   "cell_type": "markdown",
   "metadata": {},
   "source": [
    "也可以在最後一行使用nothing"
   ]
  },
  {
   "cell_type": "code",
   "execution_count": 45,
   "metadata": {},
   "outputs": [
    {
     "data": {
      "text/plain": [
       "pow (generic function with 1 method)"
      ]
     },
     "execution_count": 45,
     "metadata": {},
     "output_type": "execute_result"
    }
   ],
   "source": [
    "function pow(x)\n",
    "    x ^ 2\n",
    "    nothing\n",
    "end"
   ]
  },
  {
   "cell_type": "code",
   "execution_count": 46,
   "metadata": {},
   "outputs": [],
   "source": [
    "pow(3)"
   ]
  },
  {
   "cell_type": "markdown",
   "metadata": {},
   "source": [
    "**Optional Arguments**\n",
    "\n",
    "函式的引數可設定預設值，有預設值的引數可視為選用 (optional) 的引數，在呼叫函式時不強制傳入。"
   ]
  },
  {
   "cell_type": "code",
   "execution_count": 47,
   "metadata": {},
   "outputs": [
    {
     "name": "stdout",
     "output_type": "stream",
     "text": [
      "傳入年月日: (2019, 7, 1)\n",
      "傳入年,使用預設的月日: (2019, 1, 1)\n"
     ]
    }
   ],
   "source": [
    "function date(year::Int64, month::Int64=1, day::Int64=1)\n",
    "    return year, month, day\n",
    "end\n",
    "\n",
    "println(\"傳入年月日: \", date(2019, 7, 1))\n",
    "println(\"傳入年,使用預設的月日: \", date(2019))"
   ]
  },
  {
   "cell_type": "markdown",
   "metadata": {},
   "source": [
    "**Keyword Arguments**\n",
    "\n",
    "Functions with keyword arguments are defined using a semicolon in the signature."
   ]
  },
  {
   "cell_type": "code",
   "execution_count": 67,
   "metadata": {},
   "outputs": [
    {
     "data": {
      "text/plain": [
       "foo (generic function with 1 method)"
      ]
     },
     "execution_count": 67,
     "metadata": {},
     "output_type": "execute_result"
    }
   ],
   "source": [
    "function foo(x, y; base=ℯ, power::Int=2)\n",
    "    return hypot(log(base, x), log(base, y)) ^ power\n",
    "end"
   ]
  },
  {
   "cell_type": "code",
   "execution_count": 68,
   "metadata": {},
   "outputs": [
    {
     "data": {
      "text/plain": [
       "132.54745276196"
      ]
     },
     "execution_count": 68,
     "metadata": {},
     "output_type": "execute_result"
    }
   ],
   "source": [
    "foo(1000, 10000)"
   ]
  },
  {
   "cell_type": "markdown",
   "metadata": {},
   "source": [
    "呼叫函式時可以使用逗號或分號分隔Keyword Arguments和前面的引數，使用逗號的方式比較常見。\n",
    "\n",
    "一定要使用分號分隔的情況僅有在\n",
    "1. 傳遞varargs時\n",
    "2. [Keyword Arguments](https://docs.julialang.org/en/v1/manual/functions/#Keyword-Arguments-1)頁面所述的，需要使用關鍵字時\n",
    "\n",
    "更詳細的說明請參考[Keyword Arguments](https://docs.julialang.org/en/v1/manual/functions/#Keyword-Arguments-1)。"
   ]
  },
  {
   "cell_type": "code",
   "execution_count": 69,
   "metadata": {},
   "outputs": [
    {
     "data": {
      "text/plain": [
       "5.0"
      ]
     },
     "execution_count": 69,
     "metadata": {},
     "output_type": "execute_result"
    }
   ],
   "source": [
    "foo(1000, 10000, base=10, power=1)  # 使用逗號 \",\""
   ]
  },
  {
   "cell_type": "code",
   "execution_count": 70,
   "metadata": {},
   "outputs": [
    {
     "data": {
      "text/plain": [
       "5.0"
      ]
     },
     "execution_count": 70,
     "metadata": {},
     "output_type": "execute_result"
    }
   ],
   "source": [
    "foo(1000, 10000; base=10, power=1)  # 使用分號 \";\""
   ]
  },
  {
   "cell_type": "markdown",
   "metadata": {},
   "source": [
    "## 2. 匿名函式\n",
    "\n",
    "函式可以是匿名的，也就是沒有給函式名稱。"
   ]
  },
  {
   "cell_type": "code",
   "execution_count": 71,
   "metadata": {},
   "outputs": [
    {
     "data": {
      "text/plain": [
       "#8 (generic function with 1 method)"
      ]
     },
     "execution_count": 71,
     "metadata": {},
     "output_type": "execute_result"
    }
   ],
   "source": [
    "# 匿名函式的寫法-1\n",
    "x -> x * 2 * π"
   ]
  },
  {
   "cell_type": "code",
   "execution_count": 72,
   "metadata": {},
   "outputs": [
    {
     "data": {
      "text/plain": [
       "#10 (generic function with 1 method)"
      ]
     },
     "execution_count": 72,
     "metadata": {},
     "output_type": "execute_result"
    }
   ],
   "source": [
    "# 或是：匿名函式的寫法-2\n",
    "function (x)\n",
    "    x * 2 * π\n",
    "end"
   ]
  },
  {
   "cell_type": "markdown",
   "metadata": {},
   "source": [
    "可以把匿名函式當做引數傳入到另一個函式。"
   ]
  },
  {
   "cell_type": "code",
   "execution_count": 73,
   "metadata": {},
   "outputs": [
    {
     "data": {
      "text/plain": [
       "3-element Array{Float64,1}:\n",
       " 12.566370614359172\n",
       " 25.132741228718345\n",
       " 37.69911184307752"
      ]
     },
     "execution_count": 73,
     "metadata": {},
     "output_type": "execute_result"
    }
   ],
   "source": [
    "# 透過匿名函式，計算半徑為 2, 4, 6 的圓周\n",
    "diameters = [2, 4, 6]\n",
    "map(x -> x * 2 * π, diameters)"
   ]
  },
  {
   "cell_type": "markdown",
   "metadata": {},
   "source": [
    "## 3. 函式的點運算 (Dot Operation)\n",
    "\n",
    "相似於運算子的點運算，同樣的在函式數也可以使用點運算。\n",
    "\n",
    "以下範例將陣列做為引數傳入，透過函式的點運算，傳回陣列各元素的平方值。"
   ]
  },
  {
   "cell_type": "code",
   "execution_count": 76,
   "metadata": {},
   "outputs": [
    {
     "data": {
      "text/plain": [
       "3-element Array{Float64,1}:\n",
       " 1.0\n",
       " 4.0\n",
       " 9.0"
      ]
     },
     "execution_count": 76,
     "metadata": {},
     "output_type": "execute_result"
    }
   ],
   "source": [
    "A = [1.0, 2.0, 3.0]\n",
    "\n",
    "function B(x)\n",
    "    x ^= 2\n",
    "end\n",
    "\n",
    "B.(A)"
   ]
  },
  {
   "cell_type": "code",
   "execution_count": 81,
   "metadata": {},
   "outputs": [
    {
     "data": {
      "text/plain": [
       "3-element Array{Float64,1}:\n",
       " 1.0\n",
       " 4.0\n",
       " 9.0"
      ]
     },
     "execution_count": 81,
     "metadata": {},
     "output_type": "execute_result"
    }
   ],
   "source": [
    "broadcast(B, A)"
   ]
  },
  {
   "cell_type": "code",
   "execution_count": 78,
   "metadata": {},
   "outputs": [
    {
     "data": {
      "text/plain": [
       "3-element Array{Float64,1}:\n",
       " 1.0\n",
       " 4.0\n",
       " 9.0"
      ]
     },
     "execution_count": 78,
     "metadata": {},
     "output_type": "execute_result"
    }
   ],
   "source": [
    "@. B(A)"
   ]
  },
  {
   "cell_type": "markdown",
   "metadata": {},
   "source": [
    "Since adding dots to many operations and function calls in an expression can be tedious and lead to code that is difficult to read, the macro `@.` is provided to convert every function call, operation, and assignment in an expression into the \"dotted\" version."
   ]
  },
  {
   "cell_type": "code",
   "execution_count": 91,
   "metadata": {},
   "outputs": [
    {
     "data": {
      "text/plain": [
       "4-element Array{Float64,1}:\n",
       "  0.5143952585235492\n",
       " -0.4042391538522658\n",
       " -0.8360218615377305\n",
       " -0.6080830096407656"
      ]
     },
     "execution_count": 91,
     "metadata": {},
     "output_type": "execute_result"
    }
   ],
   "source": [
    "Y = [1.0, 2.0, 3.0, 4.0];\n",
    "\n",
    "X = similar(Y); # pre-allocate output array\n",
    "\n",
    "# X .= ..., which is equivalent to broadcast!(identity, X, ...)  *broadcast! have in-place behavior\n",
    "@. X = sin(cos(Y)) # equivalent to X .= sin.(cos.(Y))"
   ]
  },
  {
   "cell_type": "code",
   "execution_count": 92,
   "metadata": {},
   "outputs": [
    {
     "data": {
      "text/plain": [
       "4-element Array{Float64,1}:\n",
       "  0.5143952585235492\n",
       " -0.4042391538522658\n",
       " -0.8360218615377305\n",
       " -0.6080830096407656"
      ]
     },
     "execution_count": 92,
     "metadata": {},
     "output_type": "execute_result"
    }
   ],
   "source": [
    "X"
   ]
  },
  {
   "cell_type": "code",
   "execution_count": 93,
   "metadata": {},
   "outputs": [
    {
     "data": {
      "text/plain": [
       "4-element Array{Float64,1}:\n",
       "  0.8414709848078965\n",
       "  0.9092974268256817\n",
       "  0.1411200080598672\n",
       " -0.7568024953079282"
      ]
     },
     "execution_count": 93,
     "metadata": {},
     "output_type": "execute_result"
    }
   ],
   "source": [
    "X .= sin.(Y)  # equivalent to broadcast!(sin, X, Y)"
   ]
  },
  {
   "cell_type": "code",
   "execution_count": 94,
   "metadata": {},
   "outputs": [
    {
     "data": {
      "text/plain": [
       "4-element Array{Float64,1}:\n",
       "  0.8414709848078965\n",
       "  0.9092974268256817\n",
       "  0.1411200080598672\n",
       " -0.7568024953079282"
      ]
     },
     "execution_count": 94,
     "metadata": {},
     "output_type": "execute_result"
    }
   ],
   "source": [
    "X"
   ]
  },
  {
   "cell_type": "code",
   "execution_count": 90,
   "metadata": {},
   "outputs": [
    {
     "data": {
      "text/plain": [
       "5-element Array{Real,1}:\n",
       "    1\n",
       "    0.5\n",
       "    6\n",
       "   -4\n",
       " true"
      ]
     },
     "execution_count": 90,
     "metadata": {},
     "output_type": "execute_result"
    }
   ],
   "source": [
    "[1:5;] .|> [x->x^2, inv, x->2*x, -, isodd]  # [1^2; inv(2), 2*3, -4, isodd(5)]"
   ]
  },
  {
   "cell_type": "code",
   "execution_count": 101,
   "metadata": {},
   "outputs": [
    {
     "data": {
      "text/plain": [
       "5-element Array{Float64,1}:\n",
       "  1.0\n",
       "  0.5\n",
       "  6.0\n",
       " -4.0\n",
       "  1.0"
      ]
     },
     "execution_count": 101,
     "metadata": {},
     "output_type": "execute_result"
    }
   ],
   "source": [
    "[1^2; inv(2); 2*3; -4; isodd(5)]"
   ]
  },
  {
   "cell_type": "markdown",
   "metadata": {},
   "source": [
    "## 4. 執行函式後引數值變更範例\n",
    "\n",
    "- 另外這邊也示範了，同一行 Julia 程式可以撰寫多個 expression，各個 expression 間以 \";\" 分隔。\n",
    "- `sort()` 是 Julia 的內建函式"
   ]
  },
  {
   "cell_type": "code",
   "execution_count": 102,
   "metadata": {},
   "outputs": [
    {
     "data": {
      "text/plain": [
       "3-element Array{Int64,1}:\n",
       " 1\n",
       " 2\n",
       " 3"
      ]
     },
     "execution_count": 102,
     "metadata": {},
     "output_type": "execute_result"
    }
   ],
   "source": [
    "# 不變更 (non-modifying) 版本\n",
    "v = [3, 1, 2]; sort(v)"
   ]
  },
  {
   "cell_type": "code",
   "execution_count": 103,
   "metadata": {},
   "outputs": [
    {
     "data": {
      "text/plain": [
       "3-element Array{Int64,1}:\n",
       " 3\n",
       " 1\n",
       " 2"
      ]
     },
     "execution_count": 103,
     "metadata": {},
     "output_type": "execute_result"
    }
   ],
   "source": [
    "# v 的原始排序並未改變\n",
    "v"
   ]
  },
  {
   "cell_type": "code",
   "execution_count": 104,
   "metadata": {},
   "outputs": [
    {
     "data": {
      "text/plain": [
       "3-element Array{Int64,1}:\n",
       " 1\n",
       " 2\n",
       " 3"
      ]
     },
     "execution_count": 104,
     "metadata": {},
     "output_type": "execute_result"
    }
   ],
   "source": [
    "# 變更 (modifying) 版本，在執行完 sort!() 後 v 的順序也已改變\n",
    "v = [3, 1, 2]; sort!(v); v"
   ]
  },
  {
   "cell_type": "code",
   "execution_count": 105,
   "metadata": {},
   "outputs": [
    {
     "data": {
      "text/plain": [
       "3-element Array{Int64,1}:\n",
       " 1\n",
       " 2\n",
       " 3"
      ]
     },
     "execution_count": 105,
     "metadata": {},
     "output_type": "execute_result"
    }
   ],
   "source": [
    "v = [3, 1, 2]; sort!(v)"
   ]
  },
  {
   "cell_type": "markdown",
   "metadata": {},
   "source": [
    "## 5. 多重分派 (Multiple Dispatch)\n",
    "\n",
    "有時候相同功能的函式，可能會需要處理不同型別的值，這時候我們可以透過多重分派 (或譯多態分發) 的方式，定義同名但是傳入或回傳不同型別。Julia 是動態程式語言，會在執行階段 (runtime) 進行判斷。"
   ]
  },
  {
   "cell_type": "code",
   "execution_count": 107,
   "metadata": {},
   "outputs": [
    {
     "data": {
      "text/plain": [
       "h (generic function with 2 methods)"
      ]
     },
     "execution_count": 107,
     "metadata": {},
     "output_type": "execute_result"
    }
   ],
   "source": [
    "function h(x::Int64, y::Int64)::Int64\n",
    "    println(\"Int64 版本\")\n",
    "    x + y\n",
    "end\n",
    "\n",
    "function h(x::Float64, y::Float64)::Float64\n",
    "    println(\"Float64 版本\")\n",
    "    x + y\n",
    "end"
   ]
  },
  {
   "cell_type": "code",
   "execution_count": 108,
   "metadata": {},
   "outputs": [
    {
     "name": "stdout",
     "output_type": "stream",
     "text": [
      "Float64 版本\n"
     ]
    },
    {
     "data": {
      "text/plain": [
       "5.0"
      ]
     },
     "execution_count": 108,
     "metadata": {},
     "output_type": "execute_result"
    }
   ],
   "source": [
    "h(2.0, 3.0)"
   ]
  },
  {
   "cell_type": "code",
   "execution_count": 109,
   "metadata": {},
   "outputs": [
    {
     "name": "stdout",
     "output_type": "stream",
     "text": [
      "Int64 版本\n"
     ]
    },
    {
     "data": {
      "text/plain": [
       "5"
      ]
     },
     "execution_count": 109,
     "metadata": {},
     "output_type": "execute_result"
    }
   ],
   "source": [
    "h(2, 3)"
   ]
  },
  {
   "cell_type": "markdown",
   "metadata": {},
   "source": [
    "## 6. 變數作用域 (Scope of Variable) 的示範\n",
    "\n",
    "Scope of Variable 在不同的程式區塊裡面有不同的影響，在這邊以函式做為範例說明。有關於 Scope of Variable 的詳細說明，請參照官方文件 [Scope of Variables](https://docs.julialang.org/en/v1/manual/variables-and-scoping/index.html)，後續的內容也會在相關的章節中提供更多的範例。"
   ]
  },
  {
   "cell_type": "code",
   "execution_count": 110,
   "metadata": {},
   "outputs": [
    {
     "name": "stdout",
     "output_type": "stream",
     "text": [
      "baz(): 22\n",
      "global x = 1, y = 2\n"
     ]
    }
   ],
   "source": [
    "# 宣告 global 變數 x 與 y\n",
    "x, y = 1, 2\n",
    "\n",
    "function baz()\n",
    "    # 在函式內宣告一個新的 x，這裡的 x 是屬於 local 變數\n",
    "    # 有沒有 local 保留字都可以\n",
    "    local x = 2 \n",
    "    \n",
    "    function bar()\n",
    "        x = 10       # 賦予 local x 新的值\n",
    "    \n",
    "        return x + y \n",
    "        # y 是 global 變數，此 return 值應為 10 + 2\n",
    "        # 其中 10 是 local x 的新值 10\n",
    "    end\n",
    "    \n",
    "    return bar() + x # 回傳 bar() 函式傳回值與 local x 相加的值，應為 12 + 10\n",
    "\n",
    "end\n",
    "\n",
    "println(\"baz(): \", baz())\n",
    "\n",
    "println(\"global x = $x, y = $y\") # global x 與 y 值仍不變"
   ]
  },
  {
   "cell_type": "markdown",
   "metadata": {},
   "source": [
    "### global 保留字\n",
    "\n",
    "如果我們要使用的是 global x 的話，在函式指定值時加上 global 保留字，例如下列程式第 6 行示範。"
   ]
  },
  {
   "cell_type": "code",
   "execution_count": 111,
   "metadata": {},
   "outputs": [
    {
     "name": "stdout",
     "output_type": "stream",
     "text": [
      "baz(): 42\n",
      "global x = 20, y = 2\n"
     ]
    }
   ],
   "source": [
    "# 宣告 global 變數 x 與 y\n",
    "x, y = 1, 2\n",
    "\n",
    "function baz()\n",
    "    # 加上 global 保留字，代表我們要使用的是 global x\n",
    "    global x = 20 \n",
    "    \n",
    "    function bar()\n",
    "        return x + y\n",
    "        # x, y 均是 global 變數，此 return 值應為 20 + 2\n",
    "    end\n",
    "    \n",
    "    return bar() + x # 回傳 bar() 函式傳回值與 local x 相加的值，應為 22 + 20\n",
    "\n",
    "end\n",
    "\n",
    "println(\"baz(): \", baz())\n",
    "\n",
    "println(\"global x = $x, y = $y\") # global x 已改變"
   ]
  },
  {
   "cell_type": "markdown",
   "metadata": {},
   "source": [
    "# Function composition and piping\n",
    "Functions in Julia can be combined by composing or piping (chaining) them together.\n",
    "多個函式可以組合或是組成管道(鏈結)\n",
    "\n",
    "Function composition is when you combine functions together and apply the resulting composition to arguments. You use the function composition operator (`∘`) to compose the functions, so `(f ∘ g)(args...)` is the same as `f(g(args...))`.\n",
    "\n",
    "使用`∘` \\circ[tab]組合函數，`(f ∘ g)(args...)`等同於`f(g(args...))`"
   ]
  },
  {
   "cell_type": "code",
   "execution_count": 112,
   "metadata": {},
   "outputs": [
    {
     "name": "stdout",
     "output_type": "stream",
     "text": [
      "\"\u001b[36m∘\u001b[39m\" can be typed by \u001b[36m\\circ<tab>\u001b[39m\n",
      "\n",
      "search: \u001b[0m\u001b[1m∘\u001b[22m\n",
      "\n"
     ]
    },
    {
     "data": {
      "text/latex": [
       "\\begin{verbatim}\n",
       "f ∘ g\n",
       "\\end{verbatim}\n",
       "Compose functions: i.e. \\texttt{(f ∘ g)(args...)} means \\texttt{f(g(args...))}. The \\texttt{∘} symbol can be entered in the Julia REPL (and most editors, appropriately configured) by typing \\texttt{{\\textbackslash}circ<tab>}.\n",
       "\n",
       "Function composition also works in prefix form: \\texttt{∘(f, g)} is the same as \\texttt{f ∘ g}. The prefix form supports composition of multiple functions: \\texttt{∘(f, g, h) = f ∘ g ∘ h} and splatting \\texttt{∘(fs...)} for composing an iterable collection of functions.\n",
       "\n",
       "\\begin{quote}\n",
       "\\textbf{compat}\n",
       "\n",
       "Julia 1.4\n",
       "\n",
       "Multiple function composition requires at least Julia 1.4.\n",
       "\n",
       "\\end{quote}\n",
       "\\section{Examples}\n",
       "\\begin{verbatim}\n",
       "julia> map(uppercase∘first, [\"apple\", \"banana\", \"carrot\"])\n",
       "3-element Array{Char,1}:\n",
       " 'A'\n",
       " 'B'\n",
       " 'C'\n",
       "\n",
       "julia> fs = [\n",
       "           x -> 2x\n",
       "           x -> x/2\n",
       "           x -> x-1\n",
       "           x -> x+1\n",
       "       ];\n",
       "\n",
       "julia> ∘(fs...)(3)\n",
       "3.0\n",
       "\\end{verbatim}\n"
      ],
      "text/markdown": [
       "```\n",
       "f ∘ g\n",
       "```\n",
       "\n",
       "Compose functions: i.e. `(f ∘ g)(args...)` means `f(g(args...))`. The `∘` symbol can be entered in the Julia REPL (and most editors, appropriately configured) by typing `\\circ<tab>`.\n",
       "\n",
       "Function composition also works in prefix form: `∘(f, g)` is the same as `f ∘ g`. The prefix form supports composition of multiple functions: `∘(f, g, h) = f ∘ g ∘ h` and splatting `∘(fs...)` for composing an iterable collection of functions.\n",
       "\n",
       "!!! compat \"Julia 1.4\"\n",
       "    Multiple function composition requires at least Julia 1.4.\n",
       "\n",
       "\n",
       "# Examples\n",
       "\n",
       "```jldoctest\n",
       "julia> map(uppercase∘first, [\"apple\", \"banana\", \"carrot\"])\n",
       "3-element Array{Char,1}:\n",
       " 'A'\n",
       " 'B'\n",
       " 'C'\n",
       "\n",
       "julia> fs = [\n",
       "           x -> 2x\n",
       "           x -> x/2\n",
       "           x -> x-1\n",
       "           x -> x+1\n",
       "       ];\n",
       "\n",
       "julia> ∘(fs...)(3)\n",
       "3.0\n",
       "```\n"
      ],
      "text/plain": [
       "\u001b[36m  f ∘ g\u001b[39m\n",
       "\n",
       "  Compose functions: i.e. \u001b[36m(f ∘ g)(args...)\u001b[39m means \u001b[36mf(g(args...))\u001b[39m. The \u001b[36m∘\u001b[39m symbol\n",
       "  can be entered in the Julia REPL (and most editors, appropriately\n",
       "  configured) by typing \u001b[36m\\circ<tab>\u001b[39m.\n",
       "\n",
       "  Function composition also works in prefix form: \u001b[36m∘(f, g)\u001b[39m is the same as \u001b[36mf ∘\n",
       "  g\u001b[39m. The prefix form supports composition of multiple functions: \u001b[36m∘(f, g, h) =\n",
       "  f ∘ g ∘ h\u001b[39m and splatting \u001b[36m∘(fs...)\u001b[39m for composing an iterable collection of\n",
       "  functions.\n",
       "\n",
       "\u001b[39m\u001b[1m  │ \u001b[22m\u001b[39m\u001b[1mJulia 1.4\u001b[22m\n",
       "\u001b[39m\u001b[1m  │\u001b[22m\n",
       "\u001b[39m\u001b[1m  │\u001b[22m  Multiple function composition requires at least Julia 1.4.\n",
       "\n",
       "\u001b[1m  Examples\u001b[22m\n",
       "\u001b[1m  ≡≡≡≡≡≡≡≡≡≡\u001b[22m\n",
       "\n",
       "\u001b[36m  julia> map(uppercase∘first, [\"apple\", \"banana\", \"carrot\"])\u001b[39m\n",
       "\u001b[36m  3-element Array{Char,1}:\u001b[39m\n",
       "\u001b[36m   'A'\u001b[39m\n",
       "\u001b[36m   'B'\u001b[39m\n",
       "\u001b[36m   'C'\u001b[39m\n",
       "\u001b[36m  \u001b[39m\n",
       "\u001b[36m  julia> fs = [\u001b[39m\n",
       "\u001b[36m             x -> 2x\u001b[39m\n",
       "\u001b[36m             x -> x/2\u001b[39m\n",
       "\u001b[36m             x -> x-1\u001b[39m\n",
       "\u001b[36m             x -> x+1\u001b[39m\n",
       "\u001b[36m         ];\u001b[39m\n",
       "\u001b[36m  \u001b[39m\n",
       "\u001b[36m  julia> ∘(fs...)(3)\u001b[39m\n",
       "\u001b[36m  3.0\u001b[39m"
      ]
     },
     "execution_count": 112,
     "metadata": {},
     "output_type": "execute_result"
    }
   ],
   "source": [
    "?∘"
   ]
  },
  {
   "cell_type": "code",
   "execution_count": 114,
   "metadata": {},
   "outputs": [
    {
     "data": {
      "text/plain": [
       "6-element Array{Char,1}:\n",
       " 'U'\n",
       " 'N'\n",
       " 'E'\n",
       " 'S'\n",
       " 'E'\n",
       " 'S'"
      ]
     },
     "execution_count": 114,
     "metadata": {},
     "output_type": "execute_result"
    }
   ],
   "source": [
    "map(first ∘ reverse ∘ uppercase, split(\"you can compose functions like this\"))"
   ]
  },
  {
   "cell_type": "code",
   "execution_count": 113,
   "metadata": {},
   "outputs": [
    {
     "name": "stdout",
     "output_type": "stream",
     "text": [
      "search: \u001b[0m\u001b[1m|\u001b[22m\u001b[0m\u001b[1m>\u001b[22m\n",
      "\n"
     ]
    },
    {
     "data": {
      "text/latex": [
       "\\begin{verbatim}\n",
       "|>(x, f)\n",
       "\\end{verbatim}\n",
       "Applies a function to the preceding argument. This allows for easy function chaining.\n",
       "\n",
       "\\section{Examples}\n",
       "\\begin{verbatim}\n",
       "julia> [1:5;] |> x->x.^2 |> sum |> inv\n",
       "0.01818181818181818\n",
       "\\end{verbatim}\n"
      ],
      "text/markdown": [
       "```\n",
       "|>(x, f)\n",
       "```\n",
       "\n",
       "Applies a function to the preceding argument. This allows for easy function chaining.\n",
       "\n",
       "# Examples\n",
       "\n",
       "```jldoctest\n",
       "julia> [1:5;] |> x->x.^2 |> sum |> inv\n",
       "0.01818181818181818\n",
       "```\n"
      ],
      "text/plain": [
       "\u001b[36m  |>(x, f)\u001b[39m\n",
       "\n",
       "  Applies a function to the preceding argument. This allows for easy function\n",
       "  chaining.\n",
       "\n",
       "\u001b[1m  Examples\u001b[22m\n",
       "\u001b[1m  ≡≡≡≡≡≡≡≡≡≡\u001b[22m\n",
       "\n",
       "\u001b[36m  julia> [1:5;] |> x->x.^2 |> sum |> inv\u001b[39m\n",
       "\u001b[36m  0.01818181818181818\u001b[39m"
      ]
     },
     "execution_count": 113,
     "metadata": {},
     "output_type": "execute_result"
    }
   ],
   "source": [
    "?|>"
   ]
  },
  {
   "cell_type": "code",
   "execution_count": 115,
   "metadata": {},
   "outputs": [
    {
     "data": {
      "text/plain": [
       "7.416198487095663"
      ]
     },
     "execution_count": 115,
     "metadata": {},
     "output_type": "execute_result"
    }
   ],
   "source": [
    "1:10 |> sum |> sqrt  # equivalent composition: (sqrt ∘ sum)(1:10)"
   ]
  },
  {
   "cell_type": "markdown",
   "metadata": {},
   "source": [
    "The pipe operator can also be used with broadcasting, as .|>, to provide a useful combination of the chaining/piping and dot vectorization syntax.\n",
    "\n",
    "管道運算子也可以使用廣播，`.|>`，提供piping和向量化語法的結合。"
   ]
  },
  {
   "cell_type": "code",
   "execution_count": 116,
   "metadata": {},
   "outputs": [
    {
     "data": {
      "text/plain": [
       "4-element Array{Any,1}:\n",
       "  \"A\"\n",
       "  \"tsil\"\n",
       "  \"Of\"\n",
       " 7"
      ]
     },
     "execution_count": 116,
     "metadata": {},
     "output_type": "execute_result"
    }
   ],
   "source": [
    "[\"a\", \"list\", \"of\", \"strings\"] .|> [uppercase, reverse, titlecase, length]"
   ]
  },
  {
   "cell_type": "markdown",
   "metadata": {},
   "source": [
    "# References:\n",
    "- Marathon example notebook\n",
    "- [Functions](https://docs.julialang.org/en/v1/manual/functions/)\n",
    "- [Control Flow](https://docs.julialang.org/en/v1/manual/control-flow/)\n",
    "- [Julia語言—從入門到專案系列 第 6 篇 [Day 06] Multiple dispatch](https://ithelp.ithome.com.tw/articles/10185416)\n",
    "- [Essentials](https://docs.julialang.org/en/v1/base/base/)"
   ]
  }
 ],
 "metadata": {
  "kernelspec": {
   "display_name": "Julia 1.4.0",
   "language": "julia",
   "name": "julia-1.4"
  },
  "language_info": {
   "file_extension": ".jl",
   "mimetype": "application/julia",
   "name": "julia",
   "version": "1.4.0"
  }
 },
 "nbformat": 4,
 "nbformat_minor": 4
}
