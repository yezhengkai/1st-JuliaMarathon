{
 "cells": [
  {
   "cell_type": "markdown",
   "metadata": {},
   "source": [
    "# Julia 檔案處理與資料庫連線\n",
    "\n",
    "## Day 014 作業1：讀取 Nested Dict 內的資料\n",
    "\n",
    "Day 010 時我們介紹了字典 (Dict)，字典內的資料可以是巢狀 (nested) 的，包含較複雜的資料階層結構。在今天的下載檔 CityCountyData.json 是台灣各縣市鄉鎮區及路名的中英文資料，檔案為 JSON 格式，範例內容如下：\n",
    "\n",
    "```json\n",
    "    {\n",
    "        \"CityName\": \"臺北市\",\n",
    "        \"CityEngName\": \"Taipei City\",\n",
    "        \"AreaList\": [\n",
    "            {\n",
    "                \"ZipCode\": \"100\",\n",
    "                \"AreaName\": \"中正區\",\n",
    "                \"AreaEngName\": \"Zhongzheng Dist.\"\n",
    "            },\n",
    "            ...\n",
    "    }\n",
    "```\n",
    "\n",
    "作業內容為讀取 JSON 檔案，並列出台北市所有行政區的中英文名稱。範例答案將以 JSON.jl 套件作為示範。\n",
    "\n",
    "檔案資料來源：[台灣 縣市，鄉鎮，地址 中英文 JSON](https://github.com/donma/TaiwanAddressCityAreaRoadChineseEnglishJSON)"
   ]
  },
  {
   "cell_type": "code",
   "execution_count": 1,
   "metadata": {},
   "outputs": [],
   "source": [
    "using JSON"
   ]
  },
  {
   "cell_type": "markdown",
   "metadata": {},
   "source": [
    "列出所有台北市行政區的中英文名稱"
   ]
  },
  {
   "cell_type": "code",
   "execution_count": 15,
   "metadata": {},
   "outputs": [],
   "source": [
    "city_county_array = JSON.parsefile(\"CityCountyData.json\");"
   ]
  },
  {
   "cell_type": "code",
   "execution_count": 16,
   "metadata": {},
   "outputs": [
    {
     "data": {
      "text/plain": [
       "24"
      ]
     },
     "execution_count": 16,
     "metadata": {},
     "output_type": "execute_result"
    }
   ],
   "source": [
    "length(city_county_array)"
   ]
  },
  {
   "cell_type": "code",
   "execution_count": 19,
   "metadata": {
    "scrolled": true
   },
   "outputs": [
    {
     "name": "stdout",
     "output_type": "stream",
     "text": [
      "==============================\n",
      "臺北市\n",
      "==============================\n",
      "基隆市\n",
      "==============================\n",
      "新北市\n",
      "==============================\n",
      "連江縣\n",
      "==============================\n",
      "宜蘭縣\n",
      "==============================\n",
      "釣魚臺\n",
      "==============================\n",
      "新竹市\n",
      "==============================\n",
      "新竹縣\n",
      "==============================\n",
      "桃園市\n",
      "==============================\n",
      "苗栗縣\n",
      "==============================\n",
      "臺中市\n",
      "==============================\n",
      "彰化縣\n",
      "==============================\n",
      "南投縣\n",
      "==============================\n",
      "嘉義市\n",
      "==============================\n",
      "嘉義縣\n",
      "==============================\n",
      "雲林縣\n",
      "==============================\n",
      "臺南市\n",
      "==============================\n",
      "高雄市\n",
      "==============================\n",
      "南海島\n",
      "==============================\n",
      "澎湖縣\n",
      "==============================\n",
      "金門縣\n",
      "==============================\n",
      "屏東縣\n",
      "==============================\n",
      "臺東縣\n",
      "==============================\n",
      "花蓮縣\n"
     ]
    }
   ],
   "source": [
    "for city in city_county_array\n",
    "    println(\"$(\"=\"^30)\")\n",
    "    println(city[\"CityName\"])\n",
    "end"
   ]
  },
  {
   "cell_type": "code",
   "execution_count": 22,
   "metadata": {},
   "outputs": [
    {
     "name": "stdout",
     "output_type": "stream",
     "text": [
      "==============================\n",
      "Any[Dict{String,Any}(\"AreaEngName\" => \"Zhongzheng Dist.\",\"ZipCode\" => \"100\",\"AreaName\" => \"中正區\"), Dict{String,Any}(\"AreaEngName\" => \"Datong Dist.\",\"ZipCode\" => \"103\",\"AreaName\" => \"大同區\"), Dict{String,Any}(\"AreaEngName\" => \"Zhongshan Dist.\",\"ZipCode\" => \"104\",\"AreaName\" => \"中山區\"), Dict{String,Any}(\"AreaEngName\" => \"Songshan Dist.\",\"ZipCode\" => \"105\",\"AreaName\" => \"松山區\"), Dict{String,Any}(\"AreaEngName\" => \"Da’an Dist.\",\"ZipCode\" => \"106\",\"AreaName\" => \"大安區\"), Dict{String,Any}(\"AreaEngName\" => \"Wanhua Dist.\",\"ZipCode\" => \"108\",\"AreaName\" => \"萬華區\"), Dict{String,Any}(\"AreaEngName\" => \"Xinyi Dist.\",\"ZipCode\" => \"110\",\"AreaName\" => \"信義區\"), Dict{String,Any}(\"AreaEngName\" => \"Shilin Dist.\",\"ZipCode\" => \"111\",\"AreaName\" => \"士林區\"), Dict{String,Any}(\"AreaEngName\" => \"Beitou Dist.\",\"ZipCode\" => \"112\",\"AreaName\" => \"北投區\"), Dict{String,Any}(\"AreaEngName\" => \"Neihu Dist.\",\"ZipCode\" => \"114\",\"AreaName\" => \"內湖區\"), Dict{String,Any}(\"AreaEngName\" => \"Nangang Dist.\",\"ZipCode\" => \"115\",\"AreaName\" => \"南港區\"), Dict{String,Any}(\"AreaEngName\" => \"Wenshan Dist.\",\"ZipCode\" => \"116\",\"AreaName\" => \"文山區\")]\n",
      "==============================\n",
      "Any[Dict{String,Any}(\"AreaEngName\" => \"Ren’ai Dist.\",\"ZipCode\" => \"200\",\"AreaName\" => \"仁愛區\"), Dict{String,Any}(\"AreaEngName\" => \"Xinyi Dist.\",\"ZipCode\" => \"201\",\"AreaName\" => \"信義區\"), Dict{String,Any}(\"AreaEngName\" => \"Zhongzheng Dist.\",\"ZipCode\" => \"202\",\"AreaName\" => \"中正區\"), Dict{String,Any}(\"AreaEngName\" => \"Zhongshan Dist.\",\"ZipCode\" => \"203\",\"AreaName\" => \"中山區\"), Dict{String,Any}(\"AreaEngName\" => \"Anle Dist.\",\"ZipCode\" => \"204\",\"AreaName\" => \"安樂區\"), Dict{String,Any}(\"AreaEngName\" => \"Nuannuan Dist.\",\"ZipCode\" => \"205\",\"AreaName\" => \"暖暖區\"), Dict{String,Any}(\"AreaEngName\" => \"Qidu Dist.\",\"ZipCode\" => \"206\",\"AreaName\" => \"七堵區\")]\n",
      "==============================\n",
      "Any[Dict{String,Any}(\"AreaEngName\" => \"Wanli Dist.\",\"ZipCode\" => \"207\",\"AreaName\" => \"萬里區\"), Dict{String,Any}(\"AreaEngName\" => \"Jinshan Dist.\",\"ZipCode\" => \"208\",\"AreaName\" => \"金山區\"), Dict{String,Any}(\"AreaEngName\" => \"Banqiao Dist.\",\"ZipCode\" => \"220\",\"AreaName\" => \"板橋區\"), Dict{String,Any}(\"AreaEngName\" => \"Xizhi Dist.\",\"ZipCode\" => \"221\",\"AreaName\" => \"汐止區\"), Dict{String,Any}(\"AreaEngName\" => \"Shenkeng Dist.\",\"ZipCode\" => \"222\",\"AreaName\" => \"深坑區\"), Dict{String,Any}(\"AreaEngName\" => \"Shiding Dist.\",\"ZipCode\" => \"223\",\"AreaName\" => \"石碇區\"), Dict{String,Any}(\"AreaEngName\" => \"Ruifang Dist.\",\"ZipCode\" => \"224\",\"AreaName\" => \"瑞芳區\"), Dict{String,Any}(\"AreaEngName\" => \"Pingxi Dist.\",\"ZipCode\" => \"226\",\"AreaName\" => \"平溪區\"), Dict{String,Any}(\"AreaEngName\" => \"Shuangxi Dist.\",\"ZipCode\" => \"227\",\"AreaName\" => \"雙溪區\"), Dict{String,Any}(\"AreaEngName\" => \"Gongliao Dist.\",\"ZipCode\" => \"228\",\"AreaName\" => \"貢寮區\"), Dict{String,Any}(\"AreaEngName\" => \"Xindian Dist.\",\"ZipCode\" => \"231\",\"AreaName\" => \"新店區\"), Dict{String,Any}(\"AreaEngName\" => \"Pinglin Dist.\",\"ZipCode\" => \"232\",\"AreaName\" => \"坪林區\"), Dict{String,Any}(\"AreaEngName\" => \"Wulai Dist.\",\"ZipCode\" => \"233\",\"AreaName\" => \"烏來區\"), Dict{String,Any}(\"AreaEngName\" => \"Yonghe Dist.\",\"ZipCode\" => \"234\",\"AreaName\" => \"永和區\"), Dict{String,Any}(\"AreaEngName\" => \"Zhonghe Dist.\",\"ZipCode\" => \"235\",\"AreaName\" => \"中和區\"), Dict{String,Any}(\"AreaEngName\" => \"Tucheng Dist.\",\"ZipCode\" => \"236\",\"AreaName\" => \"土城區\"), Dict{String,Any}(\"AreaEngName\" => \"Sanxia Dist.\",\"ZipCode\" => \"237\",\"AreaName\" => \"三峽區\"), Dict{String,Any}(\"AreaEngName\" => \"Shulin Dist.\",\"ZipCode\" => \"238\",\"AreaName\" => \"樹林區\"), Dict{String,Any}(\"AreaEngName\" => \"Yingge Dist.\",\"ZipCode\" => \"239\",\"AreaName\" => \"鶯歌區\"), Dict{String,Any}(\"AreaEngName\" => \"Sanchong Dist.\",\"ZipCode\" => \"241\",\"AreaName\" => \"三重區\"), Dict{String,Any}(\"AreaEngName\" => \"Xinzhuang Dist.\",\"ZipCode\" => \"242\",\"AreaName\" => \"新莊區\"), Dict{String,Any}(\"AreaEngName\" => \"Taishan Dist.\",\"ZipCode\" => \"243\",\"AreaName\" => \"泰山區\"), Dict{String,Any}(\"AreaEngName\" => \"Linkou Dist.\",\"ZipCode\" => \"244\",\"AreaName\" => \"林口區\"), Dict{String,Any}(\"AreaEngName\" => \"Luzhou Dist.\",\"ZipCode\" => \"247\",\"AreaName\" => \"蘆洲區\"), Dict{String,Any}(\"AreaEngName\" => \"Wugu Dist.\",\"ZipCode\" => \"248\",\"AreaName\" => \"五股區\"), Dict{String,Any}(\"AreaEngName\" => \"Bali Dist.\",\"ZipCode\" => \"249\",\"AreaName\" => \"八里區\"), Dict{String,Any}(\"AreaEngName\" => \"Tamsui Dist.\",\"ZipCode\" => \"251\",\"AreaName\" => \"淡水區\"), Dict{String,Any}(\"AreaEngName\" => \"Sanzhi Dist.\",\"ZipCode\" => \"252\",\"AreaName\" => \"三芝區\"), Dict{String,Any}(\"AreaEngName\" => \"Shimen Dist.\",\"ZipCode\" => \"253\",\"AreaName\" => \"石門區\")]\n",
      "==============================\n",
      "Any[Dict{String,Any}(\"AreaEngName\" => \"Nangan Township\",\"ZipCode\" => \"209\",\"AreaName\" => \"南竿鄉\"), Dict{String,Any}(\"AreaEngName\" => \"Beigan Township\",\"ZipCode\" => \"210\",\"AreaName\" => \"北竿鄉\"), Dict{String,Any}(\"AreaEngName\" => \"Juguang Township\",\"ZipCode\" => \"211\",\"AreaName\" => \"莒光鄉\"), Dict{String,Any}(\"AreaEngName\" => \"Dongyin Township\",\"ZipCode\" => \"212\",\"AreaName\" => \"東引鄉\")]\n",
      "==============================\n",
      "Any[Dict{String,Any}(\"AreaEngName\" => \"Yilan City\",\"ZipCode\" => \"260\",\"AreaName\" => \"宜蘭市\"), Dict{String,Any}(\"AreaEngName\" => \"Zhuangwei Township\",\"ZipCode\" => \"263\",\"AreaName\" => \"壯圍鄉\"), Dict{String,Any}(\"AreaEngName\" => \"Toucheng Township\",\"ZipCode\" => \"261\",\"AreaName\" => \"頭城鎮\"), Dict{String,Any}(\"AreaEngName\" => \"Jiaoxi Township\",\"ZipCode\" => \"262\",\"AreaName\" => \"礁溪鄉\"), Dict{String,Any}(\"AreaEngName\" => \"Yuanshan Township\",\"ZipCode\" => \"264\",\"AreaName\" => \"員山鄉\"), Dict{String,Any}(\"AreaEngName\" => \"Luodong Township\",\"ZipCode\" => \"265\",\"AreaName\" => \"羅東鎮\"), Dict{String,Any}(\"AreaEngName\" => \"Sanxing Township\",\"ZipCode\" => \"266\",\"AreaName\" => \"三星鄉\"), Dict{String,Any}(\"AreaEngName\" => \"Datong Township\",\"ZipCode\" => \"267\",\"AreaName\" => \"大同鄉\"), Dict{String,Any}(\"AreaEngName\" => \"Wujie Township\",\"ZipCode\" => \"268\",\"AreaName\" => \"五結鄉\"), Dict{String,Any}(\"AreaEngName\" => \"Dongshan Township\",\"ZipCode\" => \"269\",\"AreaName\" => \"冬山鄉\"), Dict{String,Any}(\"AreaEngName\" => \"Su’ao Township\",\"ZipCode\" => \"270\",\"AreaName\" => \"蘇澳鎮\"), Dict{String,Any}(\"AreaEngName\" => \"Nan’ao Township\",\"ZipCode\" => \"272\",\"AreaName\" => \"南澳鄉\"), Dict{String,Any}(\"AreaEngName\" => \"Diaoyutai\",\"ZipCode\" => \"290\",\"AreaName\" => \"釣魚臺\")]\n",
      "==============================\n",
      "Any[Dict{String,Any}(\"AreaEngName\" => \"Diaoyutai\",\"ZipCode\" => \"290\",\"AreaName\" => \"釣魚臺\")]\n",
      "==============================\n",
      "Any[Dict{String,Any}(\"AreaEngName\" => \"East Dist.\",\"ZipCode\" => \"300\",\"AreaName\" => \"東區\"), Dict{String,Any}(\"AreaEngName\" => \"North Dist.\",\"ZipCode\" => \"300\",\"AreaName\" => \"北區\"), Dict{String,Any}(\"AreaEngName\" => \"Xiangshan Dist.\",\"ZipCode\" => \"300\",\"AreaName\" => \"香山區\")]\n",
      "==============================\n",
      "Any[Dict{String,Any}(\"AreaEngName\" => \"Baoshan Township\",\"ZipCode\" => \"308\",\"AreaName\" => \"寶山鄉\"), Dict{String,Any}(\"AreaEngName\" => \"Zhubei City\",\"ZipCode\" => \"302\",\"AreaName\" => \"竹北市\"), Dict{String,Any}(\"AreaEngName\" => \"Hukou Township\",\"ZipCode\" => \"303\",\"AreaName\" => \"湖口鄉\"), Dict{String,Any}(\"AreaEngName\" => \"Xinfeng Township\",\"ZipCode\" => \"304\",\"AreaName\" => \"新豐鄉\"), Dict{String,Any}(\"AreaEngName\" => \"Xinpu Township\",\"ZipCode\" => \"305\",\"AreaName\" => \"新埔鎮\"), Dict{String,Any}(\"AreaEngName\" => \"Guanxi Township\",\"ZipCode\" => \"306\",\"AreaName\" => \"關西鎮\"), Dict{String,Any}(\"AreaEngName\" => \"Qionglin Township\",\"ZipCode\" => \"307\",\"AreaName\" => \"芎林鄉\"), Dict{String,Any}(\"AreaEngName\" => \"Zhudong Township\",\"ZipCode\" => \"310\",\"AreaName\" => \"竹東鎮\"), Dict{String,Any}(\"AreaEngName\" => \"Wufeng Township\",\"ZipCode\" => \"311\",\"AreaName\" => \"五峰鄉\"), Dict{String,Any}(\"AreaEngName\" => \"Hengshan Township\",\"ZipCode\" => \"312\",\"AreaName\" => \"橫山鄉\"), Dict{String,Any}(\"AreaEngName\" => \"Jianshi Township\",\"ZipCode\" => \"313\",\"AreaName\" => \"尖石鄉\"), Dict{String,Any}(\"AreaEngName\" => \"Beipu Township\",\"ZipCode\" => \"314\",\"AreaName\" => \"北埔鄉\"), Dict{String,Any}(\"AreaEngName\" => \"Emei Township\",\"ZipCode\" => \"315\",\"AreaName\" => \"峨眉鄉\")]\n",
      "==============================\n",
      "Any[Dict{String,Any}(\"AreaEngName\" => \"Zhongli Dist.\",\"ZipCode\" => \"320\",\"AreaName\" => \"中壢區\"), Dict{String,Any}(\"AreaEngName\" => \"Pingzhen Dist.\",\"ZipCode\" => \"324\",\"AreaName\" => \"平鎮區\"), Dict{String,Any}(\"AreaEngName\" => \"Longtan Dist.\",\"ZipCode\" => \"325\",\"AreaName\" => \"龍潭區\"), Dict{String,Any}(\"AreaEngName\" => \"Yangmei Dist.\",\"ZipCode\" => \"326\",\"AreaName\" => \"楊梅區\"), Dict{String,Any}(\"AreaEngName\" => \"Xinwu Dist.\",\"ZipCode\" => \"327\",\"AreaName\" => \"新屋區\"), Dict{String,Any}(\"AreaEngName\" => \"Guanyin Dist.\",\"ZipCode\" => \"328\",\"AreaName\" => \"觀音區\"), Dict{String,Any}(\"AreaEngName\" => \"Taoyuan Dist.\",\"ZipCode\" => \"330\",\"AreaName\" => \"桃園區\"), Dict{String,Any}(\"AreaEngName\" => \"Guishan Dist.\",\"ZipCode\" => \"333\",\"AreaName\" => \"龜山區\"), Dict{String,Any}(\"AreaEngName\" => \"Bade Dist.\",\"ZipCode\" => \"334\",\"AreaName\" => \"八德區\"), Dict{String,Any}(\"AreaEngName\" => \"Daxi Dist.\",\"ZipCode\" => \"335\",\"AreaName\" => \"大溪區\"), Dict{String,Any}(\"AreaEngName\" => \"Fuxing Dist.\",\"ZipCode\" => \"336\",\"AreaName\" => \"復興區\"), Dict{String,Any}(\"AreaEngName\" => \"Dayuan Dist.\",\"ZipCode\" => \"337\",\"AreaName\" => \"大園區\"), Dict{String,Any}(\"AreaEngName\" => \"Luzhu Dist.\",\"ZipCode\" => \"338\",\"AreaName\" => \"蘆竹區\")]\n",
      "==============================\n"
     ]
    },
    {
     "name": "stdout",
     "output_type": "stream",
     "text": [
      "Any[Dict{String,Any}(\"AreaEngName\" => \"Zhunan Township\",\"ZipCode\" => \"350\",\"AreaName\" => \"竹南鎮\"), Dict{String,Any}(\"AreaEngName\" => \"Toufen City\",\"ZipCode\" => \"351\",\"AreaName\" => \"頭份市\"), Dict{String,Any}(\"AreaEngName\" => \"Sanwan Township\",\"ZipCode\" => \"352\",\"AreaName\" => \"三灣鄉\"), Dict{String,Any}(\"AreaEngName\" => \"Nanzhuang Township\",\"ZipCode\" => \"353\",\"AreaName\" => \"南庄鄉\"), Dict{String,Any}(\"AreaEngName\" => \"Shitan Township\",\"ZipCode\" => \"354\",\"AreaName\" => \"獅潭鄉\"), Dict{String,Any}(\"AreaEngName\" => \"Houlong Township\",\"ZipCode\" => \"356\",\"AreaName\" => \"後龍鎮\"), Dict{String,Any}(\"AreaEngName\" => \"Tongxiao Township\",\"ZipCode\" => \"357\",\"AreaName\" => \"通霄鎮\"), Dict{String,Any}(\"AreaEngName\" => \"Yuanli Township\",\"ZipCode\" => \"358\",\"AreaName\" => \"苑裡鎮\"), Dict{String,Any}(\"AreaEngName\" => \"Miaoli City\",\"ZipCode\" => \"360\",\"AreaName\" => \"苗栗市\"), Dict{String,Any}(\"AreaEngName\" => \"Zaoqiao Township\",\"ZipCode\" => \"361\",\"AreaName\" => \"造橋鄉\"), Dict{String,Any}(\"AreaEngName\" => \"Touwu Township\",\"ZipCode\" => \"362\",\"AreaName\" => \"頭屋鄉\"), Dict{String,Any}(\"AreaEngName\" => \"Gongguan Township\",\"ZipCode\" => \"363\",\"AreaName\" => \"公館鄉\"), Dict{String,Any}(\"AreaEngName\" => \"Dahu Township\",\"ZipCode\" => \"364\",\"AreaName\" => \"大湖鄉\"), Dict{String,Any}(\"AreaEngName\" => \"Tai’an Township\",\"ZipCode\" => \"365\",\"AreaName\" => \"泰安鄉\"), Dict{String,Any}(\"AreaEngName\" => \"Tongluo Township\",\"ZipCode\" => \"366\",\"AreaName\" => \"銅鑼鄉\"), Dict{String,Any}(\"AreaEngName\" => \"Sanyi Township\",\"ZipCode\" => \"367\",\"AreaName\" => \"三義鄉\"), Dict{String,Any}(\"AreaEngName\" => \"Xihu Township\",\"ZipCode\" => \"368\",\"AreaName\" => \"西湖鄉\"), Dict{String,Any}(\"AreaEngName\" => \"Zhuolan Township\",\"ZipCode\" => \"369\",\"AreaName\" => \"卓蘭鎮\")]\n",
      "==============================\n",
      "Any[Dict{String,Any}(\"AreaEngName\" => \"Central Dist.\",\"ZipCode\" => \"400\",\"AreaName\" => \"中區\"), Dict{String,Any}(\"AreaEngName\" => \"East Dist.\",\"ZipCode\" => \"401\",\"AreaName\" => \"東區\"), Dict{String,Any}(\"AreaEngName\" => \"South Dist.\",\"ZipCode\" => \"402\",\"AreaName\" => \"南區\"), Dict{String,Any}(\"AreaEngName\" => \"West Dist.\",\"ZipCode\" => \"403\",\"AreaName\" => \"西區\"), Dict{String,Any}(\"AreaEngName\" => \"North Dist.\",\"ZipCode\" => \"404\",\"AreaName\" => \"北區\"), Dict{String,Any}(\"AreaEngName\" => \"Beitun Dist.\",\"ZipCode\" => \"406\",\"AreaName\" => \"北屯區\"), Dict{String,Any}(\"AreaEngName\" => \"Xitun Dist.\",\"ZipCode\" => \"407\",\"AreaName\" => \"西屯區\"), Dict{String,Any}(\"AreaEngName\" => \"Nantun Dist.\",\"ZipCode\" => \"408\",\"AreaName\" => \"南屯區\"), Dict{String,Any}(\"AreaEngName\" => \"Taiping Dist.\",\"ZipCode\" => \"411\",\"AreaName\" => \"太平區\"), Dict{String,Any}(\"AreaEngName\" => \"Dali Dist.\",\"ZipCode\" => \"412\",\"AreaName\" => \"大里區\"), Dict{String,Any}(\"AreaEngName\" => \"Wufeng Dist.\",\"ZipCode\" => \"413\",\"AreaName\" => \"霧峰區\"), Dict{String,Any}(\"AreaEngName\" => \"Wuri Dist.\",\"ZipCode\" => \"414\",\"AreaName\" => \"烏日區\"), Dict{String,Any}(\"AreaEngName\" => \"Fengyuan Dist.\",\"ZipCode\" => \"420\",\"AreaName\" => \"豐原區\"), Dict{String,Any}(\"AreaEngName\" => \"Houli Dist.\",\"ZipCode\" => \"421\",\"AreaName\" => \"后里區\"), Dict{String,Any}(\"AreaEngName\" => \"Shigang Dist.\",\"ZipCode\" => \"422\",\"AreaName\" => \"石岡區\"), Dict{String,Any}(\"AreaEngName\" => \"Dongshi Dist.\",\"ZipCode\" => \"423\",\"AreaName\" => \"東勢區\"), Dict{String,Any}(\"AreaEngName\" => \"Heping Dist.\",\"ZipCode\" => \"424\",\"AreaName\" => \"和平區\"), Dict{String,Any}(\"AreaEngName\" => \"Xinshe Dist.\",\"ZipCode\" => \"426\",\"AreaName\" => \"新社區\"), Dict{String,Any}(\"AreaEngName\" => \"Tanzi Dist.\",\"ZipCode\" => \"427\",\"AreaName\" => \"潭子區\"), Dict{String,Any}(\"AreaEngName\" => \"Daya Dist.\",\"ZipCode\" => \"428\",\"AreaName\" => \"大雅區\"), Dict{String,Any}(\"AreaEngName\" => \"Shengang Dist.\",\"ZipCode\" => \"429\",\"AreaName\" => \"神岡區\"), Dict{String,Any}(\"AreaEngName\" => \"Dadu Dist.\",\"ZipCode\" => \"432\",\"AreaName\" => \"大肚區\"), Dict{String,Any}(\"AreaEngName\" => \"Shalu Dist.\",\"ZipCode\" => \"433\",\"AreaName\" => \"沙鹿區\"), Dict{String,Any}(\"AreaEngName\" => \"Longjing Dist.\",\"ZipCode\" => \"434\",\"AreaName\" => \"龍井區\"), Dict{String,Any}(\"AreaEngName\" => \"Wuqi Dist.\",\"ZipCode\" => \"435\",\"AreaName\" => \"梧棲區\"), Dict{String,Any}(\"AreaEngName\" => \"Qingshui Dist.\",\"ZipCode\" => \"436\",\"AreaName\" => \"清水區\"), Dict{String,Any}(\"AreaEngName\" => \"Dajia Dist.\",\"ZipCode\" => \"437\",\"AreaName\" => \"大甲區\"), Dict{String,Any}(\"AreaEngName\" => \"Waipu Dist.\",\"ZipCode\" => \"438\",\"AreaName\" => \"外埔區\"), Dict{String,Any}(\"AreaEngName\" => \"Da’an Dist.\",\"ZipCode\" => \"439\",\"AreaName\" => \"大安區\")]\n",
      "==============================\n",
      "Any[Dict{String,Any}(\"AreaEngName\" => \"Changhua City\",\"ZipCode\" => \"500\",\"AreaName\" => \"彰化市\"), Dict{String,Any}(\"AreaEngName\" => \"Fenyuan Township\",\"ZipCode\" => \"502\",\"AreaName\" => \"芬園鄉\"), Dict{String,Any}(\"AreaEngName\" => \"Huatan Township\",\"ZipCode\" => \"503\",\"AreaName\" => \"花壇鄉\"), Dict{String,Any}(\"AreaEngName\" => \"Xiushui Township\",\"ZipCode\" => \"504\",\"AreaName\" => \"秀水鄉\"), Dict{String,Any}(\"AreaEngName\" => \"Lukang Township\",\"ZipCode\" => \"505\",\"AreaName\" => \"鹿港鎮\"), Dict{String,Any}(\"AreaEngName\" => \"Fuxing Township\",\"ZipCode\" => \"506\",\"AreaName\" => \"福興鄉\"), Dict{String,Any}(\"AreaEngName\" => \"Xianxi Township\",\"ZipCode\" => \"507\",\"AreaName\" => \"線西鄉\"), Dict{String,Any}(\"AreaEngName\" => \"Hemei Township\",\"ZipCode\" => \"508\",\"AreaName\" => \"和美鎮\"), Dict{String,Any}(\"AreaEngName\" => \"Shengang Township\",\"ZipCode\" => \"509\",\"AreaName\" => \"伸港鄉\"), Dict{String,Any}(\"AreaEngName\" => \"Yuanlin City\",\"ZipCode\" => \"510\",\"AreaName\" => \"員林市\"), Dict{String,Any}(\"AreaEngName\" => \"Shetou Township\",\"ZipCode\" => \"511\",\"AreaName\" => \"社頭鄉\"), Dict{String,Any}(\"AreaEngName\" => \"Yongjing Township\",\"ZipCode\" => \"512\",\"AreaName\" => \"永靖鄉\"), Dict{String,Any}(\"AreaEngName\" => \"Puxin Township\",\"ZipCode\" => \"513\",\"AreaName\" => \"埔心鄉\"), Dict{String,Any}(\"AreaEngName\" => \"Xihu Township\",\"ZipCode\" => \"514\",\"AreaName\" => \"溪湖鎮\"), Dict{String,Any}(\"AreaEngName\" => \"Dacun Township\",\"ZipCode\" => \"515\",\"AreaName\" => \"大村鄉\"), Dict{String,Any}(\"AreaEngName\" => \"Puyan Township\",\"ZipCode\" => \"516\",\"AreaName\" => \"埔鹽鄉\"), Dict{String,Any}(\"AreaEngName\" => \"Tianzhong Township\",\"ZipCode\" => \"520\",\"AreaName\" => \"田中鎮\"), Dict{String,Any}(\"AreaEngName\" => \"Beidou Township\",\"ZipCode\" => \"521\",\"AreaName\" => \"北斗鎮\"), Dict{String,Any}(\"AreaEngName\" => \"Tianwei Township\",\"ZipCode\" => \"522\",\"AreaName\" => \"田尾鄉\"), Dict{String,Any}(\"AreaEngName\" => \"Pitou Township\",\"ZipCode\" => \"523\",\"AreaName\" => \"埤頭鄉\"), Dict{String,Any}(\"AreaEngName\" => \"Xizhou Township\",\"ZipCode\" => \"524\",\"AreaName\" => \"溪州鄉\"), Dict{String,Any}(\"AreaEngName\" => \"Zhutang Township\",\"ZipCode\" => \"525\",\"AreaName\" => \"竹塘鄉\"), Dict{String,Any}(\"AreaEngName\" => \"Erlin Township\",\"ZipCode\" => \"526\",\"AreaName\" => \"二林鎮\"), Dict{String,Any}(\"AreaEngName\" => \"Dacheng Township\",\"ZipCode\" => \"527\",\"AreaName\" => \"大城鄉\"), Dict{String,Any}(\"AreaEngName\" => \"Fangyuan Township\",\"ZipCode\" => \"528\",\"AreaName\" => \"芳苑鄉\"), Dict{String,Any}(\"AreaEngName\" => \"Ershui Township\",\"ZipCode\" => \"530\",\"AreaName\" => \"二水鄉\")]\n",
      "==============================\n",
      "Any[Dict{String,Any}(\"AreaEngName\" => \"Nantou City\",\"ZipCode\" => \"540\",\"AreaName\" => \"南投市\"), Dict{String,Any}(\"AreaEngName\" => \"Zhongliao Township\",\"ZipCode\" => \"541\",\"AreaName\" => \"中寮鄉\"), Dict{String,Any}(\"AreaEngName\" => \"Caotun Township\",\"ZipCode\" => \"542\",\"AreaName\" => \"草屯鎮\"), Dict{String,Any}(\"AreaEngName\" => \"Guoxing Township\",\"ZipCode\" => \"544\",\"AreaName\" => \"國姓鄉\"), Dict{String,Any}(\"AreaEngName\" => \"Puli Township\",\"ZipCode\" => \"545\",\"AreaName\" => \"埔里鎮\"), Dict{String,Any}(\"AreaEngName\" => \"Ren’ai Township\",\"ZipCode\" => \"546\",\"AreaName\" => \"仁愛鄉\"), Dict{String,Any}(\"AreaEngName\" => \"Mingjian Township\",\"ZipCode\" => \"551\",\"AreaName\" => \"名間鄉\"), Dict{String,Any}(\"AreaEngName\" => \"Jiji Township\",\"ZipCode\" => \"552\",\"AreaName\" => \"集集鎮\"), Dict{String,Any}(\"AreaEngName\" => \"Shuili Township\",\"ZipCode\" => \"553\",\"AreaName\" => \"水里鄉\"), Dict{String,Any}(\"AreaEngName\" => \"Yuchi Township\",\"ZipCode\" => \"555\",\"AreaName\" => \"魚池鄉\"), Dict{String,Any}(\"AreaEngName\" => \"Xinyi Township\",\"ZipCode\" => \"556\",\"AreaName\" => \"信義鄉\"), Dict{String,Any}(\"AreaEngName\" => \"Zhushan Township\",\"ZipCode\" => \"557\",\"AreaName\" => \"竹山鎮\"), Dict{String,Any}(\"AreaEngName\" => \"Lugu Township\",\"ZipCode\" => \"558\",\"AreaName\" => \"鹿谷鄉\")]\n",
      "==============================\n",
      "Any[Dict{String,Any}(\"AreaEngName\" => \"West Dist.\",\"ZipCode\" => \"600\",\"AreaName\" => \"西區\"), Dict{String,Any}(\"AreaEngName\" => \"East Dist.\",\"ZipCode\" => \"600\",\"AreaName\" => \"東區\")]\n",
      "==============================\n",
      "Any[Dict{String,Any}(\"AreaEngName\" => \"Fanlu Township\",\"ZipCode\" => \"602\",\"AreaName\" => \"番路鄉\"), Dict{String,Any}(\"AreaEngName\" => \"Meishan Township\",\"ZipCode\" => \"603\",\"AreaName\" => \"梅山鄉\"), Dict{String,Any}(\"AreaEngName\" => \"Zhuqi Township\",\"ZipCode\" => \"604\",\"AreaName\" => \"竹崎鄉\"), Dict{String,Any}(\"AreaEngName\" => \"Alishan Township\",\"ZipCode\" => \"605\",\"AreaName\" => \"阿里山鄉\"), Dict{String,Any}(\"AreaEngName\" => \"Zhongpu Township\",\"ZipCode\" => \"606\",\"AreaName\" => \"中埔鄉\"), Dict{String,Any}(\"AreaEngName\" => \"Dapu Township\",\"ZipCode\" => \"607\",\"AreaName\" => \"大埔鄉\"), Dict{String,Any}(\"AreaEngName\" => \"Shuishang Township\",\"ZipCode\" => \"608\",\"AreaName\" => \"水上鄉\"), Dict{String,Any}(\"AreaEngName\" => \"Lucao Township\",\"ZipCode\" => \"611\",\"AreaName\" => \"鹿草鄉\"), Dict{String,Any}(\"AreaEngName\" => \"Taibao City\",\"ZipCode\" => \"612\",\"AreaName\" => \"太保市\"), Dict{String,Any}(\"AreaEngName\" => \"Puzi City\",\"ZipCode\" => \"613\",\"AreaName\" => \"朴子市\"), Dict{String,Any}(\"AreaEngName\" => \"Dongshi Township\",\"ZipCode\" => \"614\",\"AreaName\" => \"東石鄉\"), Dict{String,Any}(\"AreaEngName\" => \"Liujiao Township\",\"ZipCode\" => \"615\",\"AreaName\" => \"六腳鄉\"), Dict{String,Any}(\"AreaEngName\" => \"Xingang Township\",\"ZipCode\" => \"616\",\"AreaName\" => \"新港鄉\"), Dict{String,Any}(\"AreaEngName\" => \"Minxiong Township\",\"ZipCode\" => \"621\",\"AreaName\" => \"民雄鄉\"), Dict{String,Any}(\"AreaEngName\" => \"Dalin Township\",\"ZipCode\" => \"622\",\"AreaName\" => \"大林鎮\"), Dict{String,Any}(\"AreaEngName\" => \"Xikou Township\",\"ZipCode\" => \"623\",\"AreaName\" => \"溪口鄉\"), Dict{String,Any}(\"AreaEngName\" => \"Yizhu Township\",\"ZipCode\" => \"624\",\"AreaName\" => \"義竹鄉\"), Dict{String,Any}(\"AreaEngName\" => \"Budai Township\",\"ZipCode\" => \"625\",\"AreaName\" => \"布袋鎮\")]\n",
      "==============================\n"
     ]
    },
    {
     "name": "stdout",
     "output_type": "stream",
     "text": [
      "Any[Dict{String,Any}(\"AreaEngName\" => \"Dounan Township\",\"ZipCode\" => \"630\",\"AreaName\" => \"斗南鎮\"), Dict{String,Any}(\"AreaEngName\" => \"Dapi Township\",\"ZipCode\" => \"631\",\"AreaName\" => \"大埤鄉\"), Dict{String,Any}(\"AreaEngName\" => \"Huwei Township\",\"ZipCode\" => \"632\",\"AreaName\" => \"虎尾鎮\"), Dict{String,Any}(\"AreaEngName\" => \"Tuku Township\",\"ZipCode\" => \"633\",\"AreaName\" => \"土庫鎮\"), Dict{String,Any}(\"AreaEngName\" => \"Baozhong Township\",\"ZipCode\" => \"634\",\"AreaName\" => \"褒忠鄉\"), Dict{String,Any}(\"AreaEngName\" => \"Dongshi Township\",\"ZipCode\" => \"635\",\"AreaName\" => \"東勢鄉\"), Dict{String,Any}(\"AreaEngName\" => \"Taixi Township\",\"ZipCode\" => \"636\",\"AreaName\" => \"臺西鄉\"), Dict{String,Any}(\"AreaEngName\" => \"Lunbei Township\",\"ZipCode\" => \"637\",\"AreaName\" => \"崙背鄉\"), Dict{String,Any}(\"AreaEngName\" => \"Mailiao Township\",\"ZipCode\" => \"638\",\"AreaName\" => \"麥寮鄉\"), Dict{String,Any}(\"AreaEngName\" => \"Douliu City\",\"ZipCode\" => \"640\",\"AreaName\" => \"斗六市\"), Dict{String,Any}(\"AreaEngName\" => \"Linnei Township\",\"ZipCode\" => \"643\",\"AreaName\" => \"林內鄉\"), Dict{String,Any}(\"AreaEngName\" => \"Gukeng Township\",\"ZipCode\" => \"646\",\"AreaName\" => \"古坑鄉\"), Dict{String,Any}(\"AreaEngName\" => \"Citong Township\",\"ZipCode\" => \"647\",\"AreaName\" => \"莿桐鄉\"), Dict{String,Any}(\"AreaEngName\" => \"Xiluo Township\",\"ZipCode\" => \"648\",\"AreaName\" => \"西螺鎮\"), Dict{String,Any}(\"AreaEngName\" => \"Erlun Township\",\"ZipCode\" => \"649\",\"AreaName\" => \"二崙鄉\"), Dict{String,Any}(\"AreaEngName\" => \"Beigang Township\",\"ZipCode\" => \"651\",\"AreaName\" => \"北港鎮\"), Dict{String,Any}(\"AreaEngName\" => \"Shuilin Township\",\"ZipCode\" => \"652\",\"AreaName\" => \"水林鄉\"), Dict{String,Any}(\"AreaEngName\" => \"Kouhu Township\",\"ZipCode\" => \"653\",\"AreaName\" => \"口湖鄉\"), Dict{String,Any}(\"AreaEngName\" => \"Sihu Township\",\"ZipCode\" => \"654\",\"AreaName\" => \"四湖鄉\"), Dict{String,Any}(\"AreaEngName\" => \"Yuanchang Township\",\"ZipCode\" => \"655\",\"AreaName\" => \"元長鄉\")]\n",
      "==============================\n",
      "Any[Dict{String,Any}(\"AreaEngName\" => \"West Central Dist.\",\"ZipCode\" => \"700\",\"AreaName\" => \"中西區\"), Dict{String,Any}(\"AreaEngName\" => \"East Dist.\",\"ZipCode\" => \"701\",\"AreaName\" => \"東區\"), Dict{String,Any}(\"AreaEngName\" => \"South Dist.\",\"ZipCode\" => \"702\",\"AreaName\" => \"南區\"), Dict{String,Any}(\"AreaEngName\" => \"North Dist.\",\"ZipCode\" => \"704\",\"AreaName\" => \"北區\"), Dict{String,Any}(\"AreaEngName\" => \"Anping Dist.\",\"ZipCode\" => \"708\",\"AreaName\" => \"安平區\"), Dict{String,Any}(\"AreaEngName\" => \"Annan Dist.\",\"ZipCode\" => \"709\",\"AreaName\" => \"安南區\"), Dict{String,Any}(\"AreaEngName\" => \"Yongkang Dist.\",\"ZipCode\" => \"710\",\"AreaName\" => \"永康區\"), Dict{String,Any}(\"AreaEngName\" => \"Guiren Dist.\",\"ZipCode\" => \"711\",\"AreaName\" => \"歸仁區\"), Dict{String,Any}(\"AreaEngName\" => \"Xinhua Dist.\",\"ZipCode\" => \"712\",\"AreaName\" => \"新化區\"), Dict{String,Any}(\"AreaEngName\" => \"Zuozhen Dist.\",\"ZipCode\" => \"713\",\"AreaName\" => \"左鎮區\"), Dict{String,Any}(\"AreaEngName\" => \"Yujing Dist.\",\"ZipCode\" => \"714\",\"AreaName\" => \"玉井區\"), Dict{String,Any}(\"AreaEngName\" => \"Nanxi Dist.\",\"ZipCode\" => \"715\",\"AreaName\" => \"楠西區\"), Dict{String,Any}(\"AreaEngName\" => \"Nanhua Dist.\",\"ZipCode\" => \"716\",\"AreaName\" => \"南化區\"), Dict{String,Any}(\"AreaEngName\" => \"Rende Dist.\",\"ZipCode\" => \"717\",\"AreaName\" => \"仁德區\"), Dict{String,Any}(\"AreaEngName\" => \"Guanmiao Dist.\",\"ZipCode\" => \"718\",\"AreaName\" => \"關廟區\"), Dict{String,Any}(\"AreaEngName\" => \"Longqi Dist.\",\"ZipCode\" => \"719\",\"AreaName\" => \"龍崎區\"), Dict{String,Any}(\"AreaEngName\" => \"Guantian Dist.\",\"ZipCode\" => \"720\",\"AreaName\" => \"官田區\"), Dict{String,Any}(\"AreaEngName\" => \"Madou Dist.\",\"ZipCode\" => \"721\",\"AreaName\" => \"麻豆區\"), Dict{String,Any}(\"AreaEngName\" => \"Jiali Dist.\",\"ZipCode\" => \"722\",\"AreaName\" => \"佳里區\"), Dict{String,Any}(\"AreaEngName\" => \"Xigang Dist.\",\"ZipCode\" => \"723\",\"AreaName\" => \"西港區\"), Dict{String,Any}(\"AreaEngName\" => \"Qigu Dist.\",\"ZipCode\" => \"724\",\"AreaName\" => \"七股區\"), Dict{String,Any}(\"AreaEngName\" => \"Jiangjun Dist.\",\"ZipCode\" => \"725\",\"AreaName\" => \"將軍區\"), Dict{String,Any}(\"AreaEngName\" => \"Xuejia Dist.\",\"ZipCode\" => \"726\",\"AreaName\" => \"學甲區\"), Dict{String,Any}(\"AreaEngName\" => \"Beimen Dist.\",\"ZipCode\" => \"727\",\"AreaName\" => \"北門區\"), Dict{String,Any}(\"AreaEngName\" => \"Xinying Dist.\",\"ZipCode\" => \"730\",\"AreaName\" => \"新營區\"), Dict{String,Any}(\"AreaEngName\" => \"Houbi Dist.\",\"ZipCode\" => \"731\",\"AreaName\" => \"後壁區\"), Dict{String,Any}(\"AreaEngName\" => \"Baihe Dist.\",\"ZipCode\" => \"732\",\"AreaName\" => \"白河區\"), Dict{String,Any}(\"AreaEngName\" => \"Dongshan Dist.\",\"ZipCode\" => \"733\",\"AreaName\" => \"東山區\"), Dict{String,Any}(\"AreaEngName\" => \"Liujia Dist.\",\"ZipCode\" => \"734\",\"AreaName\" => \"六甲區\"), Dict{String,Any}(\"AreaEngName\" => \"Xiaying Dist.\",\"ZipCode\" => \"735\",\"AreaName\" => \"下營區\"), Dict{String,Any}(\"AreaEngName\" => \"Liuying Dist.\",\"ZipCode\" => \"736\",\"AreaName\" => \"柳營區\"), Dict{String,Any}(\"AreaEngName\" => \"Yanshui Dist.\",\"ZipCode\" => \"737\",\"AreaName\" => \"鹽水區\"), Dict{String,Any}(\"AreaEngName\" => \"Shanhua Dist.\",\"ZipCode\" => \"741\",\"AreaName\" => \"善化區\"), Dict{String,Any}(\"AreaEngName\" => \"Xinshi Dist.\",\"ZipCode\" => \"744\",\"AreaName\" => \"新市區\"), Dict{String,Any}(\"AreaEngName\" => \"Danei Dist.\",\"ZipCode\" => \"742\",\"AreaName\" => \"大內區\"), Dict{String,Any}(\"AreaEngName\" => \"Shanshang Dist.\",\"ZipCode\" => \"743\",\"AreaName\" => \"山上區\"), Dict{String,Any}(\"AreaEngName\" => \"Anding Dist.\",\"ZipCode\" => \"745\",\"AreaName\" => \"安定區\")]\n",
      "==============================\n",
      "Any[Dict{String,Any}(\"AreaEngName\" => \"Xinxing Dist.\",\"ZipCode\" => \"800\",\"AreaName\" => \"新興區\"), Dict{String,Any}(\"AreaEngName\" => \"Qianjin Dist.\",\"ZipCode\" => \"801\",\"AreaName\" => \"前金區\"), Dict{String,Any}(\"AreaEngName\" => \"Lingya Dist.\",\"ZipCode\" => \"802\",\"AreaName\" => \"苓雅區\"), Dict{String,Any}(\"AreaEngName\" => \"Yancheng Dist.\",\"ZipCode\" => \"803\",\"AreaName\" => \"鹽埕區\"), Dict{String,Any}(\"AreaEngName\" => \"Gushan Dist.\",\"ZipCode\" => \"804\",\"AreaName\" => \"鼓山區\"), Dict{String,Any}(\"AreaEngName\" => \"Qijin Dist.\",\"ZipCode\" => \"805\",\"AreaName\" => \"旗津區\"), Dict{String,Any}(\"AreaEngName\" => \"Qianzhen Dist.\",\"ZipCode\" => \"806\",\"AreaName\" => \"前鎮區\"), Dict{String,Any}(\"AreaEngName\" => \"Sanmin Dist.\",\"ZipCode\" => \"807\",\"AreaName\" => \"三民區\"), Dict{String,Any}(\"AreaEngName\" => \"Nanzi Dist.\",\"ZipCode\" => \"811\",\"AreaName\" => \"楠梓區\"), Dict{String,Any}(\"AreaEngName\" => \"Xiaogang Dist.\",\"ZipCode\" => \"812\",\"AreaName\" => \"小港區\"), Dict{String,Any}(\"AreaEngName\" => \"Zuoying Dist.\",\"ZipCode\" => \"813\",\"AreaName\" => \"左營區\"), Dict{String,Any}(\"AreaEngName\" => \"Renwu Dist.\",\"ZipCode\" => \"814\",\"AreaName\" => \"仁武區\"), Dict{String,Any}(\"AreaEngName\" => \"Dashe Dist.\",\"ZipCode\" => \"815\",\"AreaName\" => \"大社區\"), Dict{String,Any}(\"AreaEngName\" => \"Dongsha Islands\",\"ZipCode\" => \"817\",\"AreaName\" => \"東沙群島\"), Dict{String,Any}(\"AreaEngName\" => \"Nansha Islands\",\"ZipCode\" => \"819\",\"AreaName\" => \"南沙群島\"), Dict{String,Any}(\"AreaEngName\" => \"Gangshan Dist.\",\"ZipCode\" => \"820\",\"AreaName\" => \"岡山區\"), Dict{String,Any}(\"AreaEngName\" => \"Luzhu Dist.\",\"ZipCode\" => \"821\",\"AreaName\" => \"路竹區\"), Dict{String,Any}(\"AreaEngName\" => \"Alian Dist.\",\"ZipCode\" => \"822\",\"AreaName\" => \"阿蓮區\"), Dict{String,Any}(\"AreaEngName\" => \"Tianliao Dist.\",\"ZipCode\" => \"823\",\"AreaName\" => \"田寮區\"), Dict{String,Any}(\"AreaEngName\" => \"Yanchao Dist.\",\"ZipCode\" => \"824\",\"AreaName\" => \"燕巢區\"), Dict{String,Any}(\"AreaEngName\" => \"Qiaotou Dist.\",\"ZipCode\" => \"825\",\"AreaName\" => \"橋頭區\"), Dict{String,Any}(\"AreaEngName\" => \"Ziguan Dist.\",\"ZipCode\" => \"826\",\"AreaName\" => \"梓官區\"), Dict{String,Any}(\"AreaEngName\" => \"Mituo Dist.\",\"ZipCode\" => \"827\",\"AreaName\" => \"彌陀區\"), Dict{String,Any}(\"AreaEngName\" => \"Yong’an Dist.\",\"ZipCode\" => \"828\",\"AreaName\" => \"永安區\"), Dict{String,Any}(\"AreaEngName\" => \"Hunei Dist.\",\"ZipCode\" => \"829\",\"AreaName\" => \"湖內區\"), Dict{String,Any}(\"AreaEngName\" => \"Fengshan Dist.\",\"ZipCode\" => \"830\",\"AreaName\" => \"鳳山區\"), Dict{String,Any}(\"AreaEngName\" => \"Daliao Dist.\",\"ZipCode\" => \"831\",\"AreaName\" => \"大寮區\"), Dict{String,Any}(\"AreaEngName\" => \"Linyuan Dist.\",\"ZipCode\" => \"832\",\"AreaName\" => \"林園區\"), Dict{String,Any}(\"AreaEngName\" => \"Niaosong Dist.\",\"ZipCode\" => \"833\",\"AreaName\" => \"鳥松區\"), Dict{String,Any}(\"AreaEngName\" => \"Dashu Dist.\",\"ZipCode\" => \"840\",\"AreaName\" => \"大樹區\"), Dict{String,Any}(\"AreaEngName\" => \"Qishan Dist.\",\"ZipCode\" => \"842\",\"AreaName\" => \"旗山區\"), Dict{String,Any}(\"AreaEngName\" => \"Meinong Dist.\",\"ZipCode\" => \"843\",\"AreaName\" => \"美濃區\"), Dict{String,Any}(\"AreaEngName\" => \"Liugui Dist.\",\"ZipCode\" => \"844\",\"AreaName\" => \"六龜區\"), Dict{String,Any}(\"AreaEngName\" => \"Neimen Dist.\",\"ZipCode\" => \"845\",\"AreaName\" => \"內門區\"), Dict{String,Any}(\"AreaEngName\" => \"Shanlin Dist.\",\"ZipCode\" => \"846\",\"AreaName\" => \"杉林區\"), Dict{String,Any}(\"AreaEngName\" => \"Jiaxian Dist.\",\"ZipCode\" => \"847\",\"AreaName\" => \"甲仙區\"), Dict{String,Any}(\"AreaEngName\" => \"Taoyuan Dist.\",\"ZipCode\" => \"848\",\"AreaName\" => \"桃源區\"), Dict{String,Any}(\"AreaEngName\" => \"Namaxia Dist.\",\"ZipCode\" => \"849\",\"AreaName\" => \"那瑪夏區\"), Dict{String,Any}(\"AreaEngName\" => \"Maolin Dist.\",\"ZipCode\" => \"851\",\"AreaName\" => \"茂林區\"), Dict{String,Any}(\"AreaEngName\" => \"Qieding Dist.\",\"ZipCode\" => \"852\",\"AreaName\" => \"茄萣區\")]\n",
      "==============================\n",
      "Any[Dict{String,Any}(\"AreaEngName\" => \"Dongsha Islands\",\"ZipCode\" => \"817\",\"AreaName\" => \"東沙群島\"), Dict{String,Any}(\"AreaEngName\" => \"Nansha Islands\",\"ZipCode\" => \"819\",\"AreaName\" => \"南沙群島\")]\n",
      "==============================\n"
     ]
    },
    {
     "name": "stdout",
     "output_type": "stream",
     "text": [
      "Any[Dict{String,Any}(\"AreaEngName\" => \"Magong City\",\"ZipCode\" => \"880\",\"AreaName\" => \"馬公市\"), Dict{String,Any}(\"AreaEngName\" => \"Xiyu Township\",\"ZipCode\" => \"881\",\"AreaName\" => \"西嶼鄉\"), Dict{String,Any}(\"AreaEngName\" => \"Wang’an Township\",\"ZipCode\" => \"882\",\"AreaName\" => \"望安鄉\"), Dict{String,Any}(\"AreaEngName\" => \"Qimei Township\",\"ZipCode\" => \"883\",\"AreaName\" => \"七美鄉\"), Dict{String,Any}(\"AreaEngName\" => \"Baisha Township\",\"ZipCode\" => \"884\",\"AreaName\" => \"白沙鄉\"), Dict{String,Any}(\"AreaEngName\" => \"Huxi Township\",\"ZipCode\" => \"885\",\"AreaName\" => \"湖西鄉\")]\n",
      "==============================\n",
      "Any[Dict{String,Any}(\"AreaEngName\" => \"Jinsha Township\",\"ZipCode\" => \"890\",\"AreaName\" => \"金沙鎮\"), Dict{String,Any}(\"AreaEngName\" => \"Jinhu Township\",\"ZipCode\" => \"891\",\"AreaName\" => \"金湖鎮\"), Dict{String,Any}(\"AreaEngName\" => \"Jinning Township\",\"ZipCode\" => \"892\",\"AreaName\" => \"金寧鄉\"), Dict{String,Any}(\"AreaEngName\" => \"Jincheng Township\",\"ZipCode\" => \"893\",\"AreaName\" => \"金城鎮\"), Dict{String,Any}(\"AreaEngName\" => \"Lieyu Township\",\"ZipCode\" => \"894\",\"AreaName\" => \"烈嶼鄉\"), Dict{String,Any}(\"AreaEngName\" => \"Wuqiu Township\",\"ZipCode\" => \"896\",\"AreaName\" => \"烏坵鄉\")]\n",
      "==============================\n",
      "Any[Dict{String,Any}(\"AreaEngName\" => \"Pingtung City\",\"ZipCode\" => \"900\",\"AreaName\" => \"屏東市\"), Dict{String,Any}(\"AreaEngName\" => \"Sandimen Township\",\"ZipCode\" => \"901\",\"AreaName\" => \"三地門鄉\"), Dict{String,Any}(\"AreaEngName\" => \"Wutai Township\",\"ZipCode\" => \"902\",\"AreaName\" => \"霧臺鄉\"), Dict{String,Any}(\"AreaEngName\" => \"Majia Township\",\"ZipCode\" => \"903\",\"AreaName\" => \"瑪家鄉\"), Dict{String,Any}(\"AreaEngName\" => \"Jiuru Township\",\"ZipCode\" => \"904\",\"AreaName\" => \"九如鄉\"), Dict{String,Any}(\"AreaEngName\" => \"Ligang Township\",\"ZipCode\" => \"905\",\"AreaName\" => \"里港鄉\"), Dict{String,Any}(\"AreaEngName\" => \"Gaoshu Township\",\"ZipCode\" => \"906\",\"AreaName\" => \"高樹鄉\"), Dict{String,Any}(\"AreaEngName\" => \"Yanpu Township\",\"ZipCode\" => \"907\",\"AreaName\" => \"鹽埔鄉\"), Dict{String,Any}(\"AreaEngName\" => \"Changzhi Township\",\"ZipCode\" => \"908\",\"AreaName\" => \"長治鄉\"), Dict{String,Any}(\"AreaEngName\" => \"Linluo Township\",\"ZipCode\" => \"909\",\"AreaName\" => \"麟洛鄉\"), Dict{String,Any}(\"AreaEngName\" => \"Zhutian Township\",\"ZipCode\" => \"911\",\"AreaName\" => \"竹田鄉\"), Dict{String,Any}(\"AreaEngName\" => \"Neipu Township\",\"ZipCode\" => \"912\",\"AreaName\" => \"內埔鄉\"), Dict{String,Any}(\"AreaEngName\" => \"Wandan Township\",\"ZipCode\" => \"913\",\"AreaName\" => \"萬丹鄉\"), Dict{String,Any}(\"AreaEngName\" => \"Chaozhou Township\",\"ZipCode\" => \"920\",\"AreaName\" => \"潮州鎮\"), Dict{String,Any}(\"AreaEngName\" => \"Taiwu Township\",\"ZipCode\" => \"921\",\"AreaName\" => \"泰武鄉\"), Dict{String,Any}(\"AreaEngName\" => \"Laiyi Township\",\"ZipCode\" => \"922\",\"AreaName\" => \"來義鄉\"), Dict{String,Any}(\"AreaEngName\" => \"Wanluan Township\",\"ZipCode\" => \"923\",\"AreaName\" => \"萬巒鄉\"), Dict{String,Any}(\"AreaEngName\" => \"Kanding Township\",\"ZipCode\" => \"924\",\"AreaName\" => \"崁頂鄉\"), Dict{String,Any}(\"AreaEngName\" => \"Xinpi Township\",\"ZipCode\" => \"925\",\"AreaName\" => \"新埤鄉\"), Dict{String,Any}(\"AreaEngName\" => \"Nanzhou Township\",\"ZipCode\" => \"926\",\"AreaName\" => \"南州鄉\"), Dict{String,Any}(\"AreaEngName\" => \"Linbian Township\",\"ZipCode\" => \"927\",\"AreaName\" => \"林邊鄉\"), Dict{String,Any}(\"AreaEngName\" => \"Donggang Township\",\"ZipCode\" => \"928\",\"AreaName\" => \"東港鎮\"), Dict{String,Any}(\"AreaEngName\" => \"Liuqiu Township\",\"ZipCode\" => \"929\",\"AreaName\" => \"琉球鄉\"), Dict{String,Any}(\"AreaEngName\" => \"Jiadong Township\",\"ZipCode\" => \"931\",\"AreaName\" => \"佳冬鄉\"), Dict{String,Any}(\"AreaEngName\" => \"Xinyuan Township\",\"ZipCode\" => \"932\",\"AreaName\" => \"新園鄉\"), Dict{String,Any}(\"AreaEngName\" => \"Fangliao Township\",\"ZipCode\" => \"940\",\"AreaName\" => \"枋寮鄉\"), Dict{String,Any}(\"AreaEngName\" => \"Fangshan Township\",\"ZipCode\" => \"941\",\"AreaName\" => \"枋山鄉\"), Dict{String,Any}(\"AreaEngName\" => \"Chunri Township\",\"ZipCode\" => \"942\",\"AreaName\" => \"春日鄉\"), Dict{String,Any}(\"AreaEngName\" => \"Shizi Township\",\"ZipCode\" => \"943\",\"AreaName\" => \"獅子鄉\"), Dict{String,Any}(\"AreaEngName\" => \"Checheng Township\",\"ZipCode\" => \"944\",\"AreaName\" => \"車城鄉\"), Dict{String,Any}(\"AreaEngName\" => \"Mudan Township\",\"ZipCode\" => \"945\",\"AreaName\" => \"牡丹鄉\"), Dict{String,Any}(\"AreaEngName\" => \"Hengchun Township\",\"ZipCode\" => \"946\",\"AreaName\" => \"恆春鎮\"), Dict{String,Any}(\"AreaEngName\" => \"Manzhou Township\",\"ZipCode\" => \"947\",\"AreaName\" => \"滿州鄉\")]\n",
      "==============================\n",
      "Any[Dict{String,Any}(\"AreaEngName\" => \"Taitung City\",\"ZipCode\" => \"950\",\"AreaName\" => \"臺東市\"), Dict{String,Any}(\"AreaEngName\" => \"Ludao Township\",\"ZipCode\" => \"951\",\"AreaName\" => \"綠島鄉\"), Dict{String,Any}(\"AreaEngName\" => \"Lanyu Township\",\"ZipCode\" => \"952\",\"AreaName\" => \"蘭嶼鄉\"), Dict{String,Any}(\"AreaEngName\" => \"Yanping Township\",\"ZipCode\" => \"953\",\"AreaName\" => \"延平鄉\"), Dict{String,Any}(\"AreaEngName\" => \"Beinan Township\",\"ZipCode\" => \"954\",\"AreaName\" => \"卑南鄉\"), Dict{String,Any}(\"AreaEngName\" => \"Luye Township\",\"ZipCode\" => \"955\",\"AreaName\" => \"鹿野鄉\"), Dict{String,Any}(\"AreaEngName\" => \"Guanshan Township\",\"ZipCode\" => \"956\",\"AreaName\" => \"關山鎮\"), Dict{String,Any}(\"AreaEngName\" => \"Haiduan Township\",\"ZipCode\" => \"957\",\"AreaName\" => \"海端鄉\"), Dict{String,Any}(\"AreaEngName\" => \"Chishang Township\",\"ZipCode\" => \"958\",\"AreaName\" => \"池上鄉\"), Dict{String,Any}(\"AreaEngName\" => \"Donghe Township\",\"ZipCode\" => \"959\",\"AreaName\" => \"東河鄉\"), Dict{String,Any}(\"AreaEngName\" => \"Chenggong Township\",\"ZipCode\" => \"961\",\"AreaName\" => \"成功鎮\"), Dict{String,Any}(\"AreaEngName\" => \"Changbin Township\",\"ZipCode\" => \"962\",\"AreaName\" => \"長濱鄉\"), Dict{String,Any}(\"AreaEngName\" => \"Taimali Township\",\"ZipCode\" => \"963\",\"AreaName\" => \"太麻里鄉\"), Dict{String,Any}(\"AreaEngName\" => \"Jinfeng Township\",\"ZipCode\" => \"964\",\"AreaName\" => \"金峰鄉\"), Dict{String,Any}(\"AreaEngName\" => \"Dawu Township\",\"ZipCode\" => \"965\",\"AreaName\" => \"大武鄉\"), Dict{String,Any}(\"AreaEngName\" => \"Daren Township\",\"ZipCode\" => \"966\",\"AreaName\" => \"達仁鄉\")]\n",
      "==============================\n",
      "Any[Dict{String,Any}(\"AreaEngName\" => \"Hualien City\",\"ZipCode\" => \"970\",\"AreaName\" => \"花蓮市\"), Dict{String,Any}(\"AreaEngName\" => \"Xincheng Township\",\"ZipCode\" => \"971\",\"AreaName\" => \"新城鄉\"), Dict{String,Any}(\"AreaEngName\" => \"Xiulin Township\",\"ZipCode\" => \"972\",\"AreaName\" => \"秀林鄉\"), Dict{String,Any}(\"AreaEngName\" => \"Ji’an Township\",\"ZipCode\" => \"973\",\"AreaName\" => \"吉安鄉\"), Dict{String,Any}(\"AreaEngName\" => \"Shoufeng Township\",\"ZipCode\" => \"974\",\"AreaName\" => \"壽豐鄉\"), Dict{String,Any}(\"AreaEngName\" => \"Fenglin Township\",\"ZipCode\" => \"975\",\"AreaName\" => \"鳳林鎮\"), Dict{String,Any}(\"AreaEngName\" => \"Guangfu Township\",\"ZipCode\" => \"976\",\"AreaName\" => \"光復鄉\"), Dict{String,Any}(\"AreaEngName\" => \"Fengbin Township\",\"ZipCode\" => \"977\",\"AreaName\" => \"豐濱鄉\"), Dict{String,Any}(\"AreaEngName\" => \"Ruisui Township\",\"ZipCode\" => \"978\",\"AreaName\" => \"瑞穗鄉\"), Dict{String,Any}(\"AreaEngName\" => \"Wanrong Township\",\"ZipCode\" => \"979\",\"AreaName\" => \"萬榮鄉\"), Dict{String,Any}(\"AreaEngName\" => \"Yuli Township\",\"ZipCode\" => \"981\",\"AreaName\" => \"玉里鎮\"), Dict{String,Any}(\"AreaEngName\" => \"Zhuoxi Township\",\"ZipCode\" => \"982\",\"AreaName\" => \"卓溪鄉\"), Dict{String,Any}(\"AreaEngName\" => \"Fuli Township\",\"ZipCode\" => \"983\",\"AreaName\" => \"富里鄉\")]\n"
     ]
    }
   ],
   "source": [
    "for city in city_county_array\n",
    "    println(\"$(\"=\"^30)\")\n",
    "    println(city[\"AreaList\"])\n",
    "end"
   ]
  },
  {
   "cell_type": "code",
   "execution_count": 21,
   "metadata": {},
   "outputs": [
    {
     "name": "stdout",
     "output_type": "stream",
     "text": [
      "中正區, Zhongzheng Dist.\n",
      "大同區, Datong Dist.\n",
      "中山區, Zhongshan Dist.\n",
      "松山區, Songshan Dist.\n",
      "大安區, Da’an Dist.\n",
      "萬華區, Wanhua Dist.\n",
      "信義區, Xinyi Dist.\n",
      "士林區, Shilin Dist.\n",
      "北投區, Beitou Dist.\n",
      "內湖區, Neihu Dist.\n",
      "南港區, Nangang Dist.\n",
      "文山區, Wenshan Dist.\n"
     ]
    }
   ],
   "source": [
    "for city in city_county_array\n",
    "    if city[\"CityName\"] == \"臺北市\"\n",
    "        for area in city[\"AreaList\"]\n",
    "            println(area[\"AreaName\"], \", \", area[\"AreaEngName\"])\n",
    "        end\n",
    "    end\n",
    "end"
   ]
  },
  {
   "cell_type": "markdown",
   "metadata": {},
   "source": [
    "## 作業2：將字典資料存為 JSON 檔\n",
    "\n",
    "作業2請產生字典 (Dict) 資料，並將字典資料存為 JSON 格式。請自行產生字典，也可使用下列的字串資料計算字數 (Day 010 作業程式)。\n",
    "\n",
    "【提示】可以參考今天範例程式中將陣列資料存為 JSON 格式的部分。"
   ]
  },
  {
   "cell_type": "code",
   "execution_count": 23,
   "metadata": {},
   "outputs": [
    {
     "data": {
      "text/plain": [
       "\"永和有永和路，中和也有永和路，\\n中和有中和路，永和也有中和路；\\n中和的中和路有接永和的中和路，\\n永和的永和路沒接中和的永和路；\\n永和的中和路有接永和的永和路，\\n中和的永和路沒接中和的中和路。\\n\\n永和有中正路，中和也有中正路；\\n永和的中正路用景平路接中和的中正路。\\n永和有中山路，中和也有中山路；\\n永和的中山路直接接上了中和的中山路。\\n永和的中正路接上了永和的中山路；\\n中和的中正路卻不接中和的中山路。\\n\\n中正橋下來不是中正路，但永和有中正路；\\n秀朗橋下來不是秀朗路，但永和有秀朗路。\\n永福橋下來不是永福路，永和沒有永福路；\\n福和橋下來不是福和路，但福和路接的卻是永福橋。\\n\\n中和中和路永和永和路\\n永和中和路中和永和路\\n中和中山路永和中正路\\n永和中山路中和中正路\""
      ]
     },
     "execution_count": 23,
     "metadata": {},
     "output_type": "execute_result"
    }
   ],
   "source": [
    "str = \"永和有永和路，中和也有永和路，\n",
    "中和有中和路，永和也有中和路；\n",
    "中和的中和路有接永和的中和路，\n",
    "永和的永和路沒接中和的永和路；\n",
    "永和的中和路有接永和的永和路，\n",
    "中和的永和路沒接中和的中和路。\n",
    "\n",
    "永和有中正路，中和也有中正路；\n",
    "永和的中正路用景平路接中和的中正路。\n",
    "永和有中山路，中和也有中山路；\n",
    "永和的中山路直接接上了中和的中山路。\n",
    "永和的中正路接上了永和的中山路；\n",
    "中和的中正路卻不接中和的中山路。\n",
    "\n",
    "中正橋下來不是中正路，但永和有中正路；\n",
    "秀朗橋下來不是秀朗路，但永和有秀朗路。\n",
    "永福橋下來不是永福路，永和沒有永福路；\n",
    "福和橋下來不是福和路，但福和路接的卻是永福橋。\n",
    "\n",
    "中和中和路永和永和路\n",
    "永和中和路中和永和路\n",
    "中和中山路永和中正路\n",
    "永和中山路中和中正路\""
   ]
  },
  {
   "cell_type": "code",
   "execution_count": 24,
   "metadata": {},
   "outputs": [],
   "source": [
    "d = Dict{String, Int64}()\n",
    "\n",
    "for c ∈ str\n",
    "    d[string(c)] = get(d, string(c), 0) + 1\n",
    "end"
   ]
  },
  {
   "cell_type": "code",
   "execution_count": 25,
   "metadata": {},
   "outputs": [
    {
     "data": {
      "text/plain": [
       "Dict{String,Int64} with 31 entries:\n",
       "  \"接… => 10\n",
       "  \"上… => 2\n",
       "  \"是… => 5\n",
       "  \"也… => 4\n",
       "  \"直… => 1\n",
       "  \"秀… => 3\n",
       "  \"和… => 54\n",
       "  \"來… => 4\n",
       "  \"，… => 11\n",
       "  \"沒… => 3\n",
       "  \"永… => 31\n",
       "  \"的… => 17\n",
       "  \"平… => 1\n",
       "  \"但… => 3\n",
       "  \"正… => 11\n",
       "  \"不… => 5\n",
       "  \"用… => 1\n",
       "  \"中… => 43\n",
       "  \"橋… => 5\n",
       "  \"福… => 7\n",
       "  \"路… => 41\n",
       "  \"山… => 8\n",
       "  \"；… => 7\n",
       "  \"。… => 6\n",
       "  \"卻… => 2\n",
       "  ⋮   => ⋮"
      ]
     },
     "execution_count": 25,
     "metadata": {},
     "output_type": "execute_result"
    }
   ],
   "source": [
    "d"
   ]
  },
  {
   "cell_type": "code",
   "execution_count": 27,
   "metadata": {},
   "outputs": [
    {
     "data": {
      "text/plain": [
       "\"{\\\"接\\\":10,\\\"上\\\":2,\\\"是\\\":5,\\\"也\\\":4,\\\"直\\\":1,\\\"秀\\\":3,\\\"和\\\":54,\\\"來\\\":4,\\\"，\\\":11,\\\"沒\\\":3,\\\"永\\\":31,\\\"的\\\":17,\\\"平\\\":1,\\\"但\\\":3,\\\"正\\\":11,\\\"不\\\":5,\\\"用\\\":1,\\\"中\\\":43,\\\"橋\\\":5,\\\"福\\\":7,\\\"路\\\":41,\\\"山\\\":8,\\\"；\\\":7,\\\"。\\\":6,\\\"卻\\\":2,\\\"下\\\":4,\\\"了\\\":2,\\\"有\\\":13,\\\"景\\\":1,\\\"朗\\\":3,\\\"\\\\n\\\":22}\""
      ]
     },
     "execution_count": 27,
     "metadata": {},
     "output_type": "execute_result"
    }
   ],
   "source": [
    "# json(a)\n",
    "# json(a, indent::Int)\n",
    "# Creates a JSON string from a Julia object or value.\n",
    "\n",
    "str = JSON.json(d)"
   ]
  },
  {
   "cell_type": "code",
   "execution_count": 28,
   "metadata": {},
   "outputs": [
    {
     "name": "stdout",
     "output_type": "stream",
     "text": [
      "{\"接\":10,\"上\":2,\"是\":5,\"也\":4,\"直\":1,\"秀\":3,\"和\":54,\"來\":4,\"，\":11,\"沒\":3,\"永\":31,\"的\":17,\"平\":1,\"但\":3,\"正\":11,\"不\":5,\"用\":1,\"中\":43,\"橋\":5,\"福\":7,\"路\":41,\"山\":8,\"；\":7,\"。\":6,\"卻\":2,\"下\":4,\"了\":2,\"有\":13,\"景\":1,\"朗\":3,\"\\n\":22}"
     ]
    }
   ],
   "source": [
    "print(str)"
   ]
  },
  {
   "cell_type": "code",
   "execution_count": 34,
   "metadata": {},
   "outputs": [],
   "source": [
    "open(\"str_count.json\", \"w\") do io\n",
    "    println(io, str)\n",
    "end"
   ]
  }
 ],
 "metadata": {
  "kernelspec": {
   "display_name": "Julia 1.4.0",
   "language": "julia",
   "name": "julia-1.4"
  },
  "language_info": {
   "file_extension": ".jl",
   "mimetype": "application/julia",
   "name": "julia",
   "version": "1.4.0"
  }
 },
 "nbformat": 4,
 "nbformat_minor": 4
}
