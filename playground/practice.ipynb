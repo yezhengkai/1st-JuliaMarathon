{
 "cells": [
  {
   "cell_type": "code",
   "execution_count": 78,
   "metadata": {},
   "outputs": [
    {
     "data": {
      "text/plain": [
       "openit (generic function with 1 method)"
      ]
     },
     "execution_count": 78,
     "metadata": {},
     "output_type": "execute_result"
    }
   ],
   "source": [
    "# https://discourse.julialang.org/t/open-file-with-systems-default-program/3019/2\n",
    "# https://discourse.julialang.org/t/system-commands/10618\n",
    "# https://docs.julialang.org/en/v1/manual/running-external-programs/\n",
    "# https://docs.julialang.org/en/v1/base/file/\n",
    "# https://docs.julialang.org/en/v1/base/base/#Base.run\n",
    "\n",
    "function openit(path::AbstractString)\n",
    "    if !ispath(path)\n",
    "        @warn(\"You have entered an invalid file system entity.\");\n",
    "        return nothing\n",
    "    end\n",
    "    \n",
    "    if Sys.iswindows()\n",
    "        run(`cmd /c start $path`, wait=false);\n",
    "    elseif Sys.islinux()\n",
    "        run(`xdg-open $path`, wait=false);\n",
    "    else\n",
    "        @warn(\"Couldn't open $path\");\n",
    "    end\n",
    "    return nothing\n",
    "end"
   ]
  },
  {
   "cell_type": "code",
   "execution_count": 79,
   "metadata": {},
   "outputs": [],
   "source": [
    "f = raw\"..\\\\playground\"\n",
    "openit(f)"
   ]
  },
  {
   "cell_type": "code",
   "execution_count": 80,
   "metadata": {},
   "outputs": [
    {
     "name": "stderr",
     "output_type": "stream",
     "text": [
      "┌ Warning: You have entered an invalid file system entity.\n",
      "└ @ Main In[78]:9\n"
     ]
    }
   ],
   "source": [
    "f = raw\"..\\\\play\"\n",
    "openit(f)"
   ]
  },
  {
   "cell_type": "code",
   "execution_count": 81,
   "metadata": {},
   "outputs": [],
   "source": [
    "f = raw\"Untitled.ipynb\"\n",
    "openit(f)"
   ]
  },
  {
   "cell_type": "markdown",
   "metadata": {},
   "source": [
    "## Variable scope in IJulia Jupyter notebook\n",
    "https://discourse.julialang.org/t/variable-scope-in-ijulia-jupyter-notebook/38264"
   ]
  },
  {
   "cell_type": "code",
   "execution_count": 1,
   "metadata": {},
   "outputs": [
    {
     "data": {
      "text/plain": [
       "10-element Array{String,1}:\n",
       " \"7\"\n",
       " \"8\"\n",
       " \"7\"\n",
       " \"8\"\n",
       " \"7\"\n",
       " \"8\"\n",
       " \"7\"\n",
       " \"8\"\n",
       " \"7\"\n",
       " \"8\""
      ]
     },
     "execution_count": 1,
     "metadata": {},
     "output_type": "execute_result"
    }
   ],
   "source": [
    "a = String[];\n",
    "for i = 1:5\n",
    "    b = String[];\n",
    "    for j=7:8\n",
    "        b = vcat(b,\"$j\");    \n",
    "    end\n",
    "    a = vcat(a,b); # UndefVarError\n",
    "end\n",
    "a"
   ]
  },
  {
   "cell_type": "code",
   "execution_count": 2,
   "metadata": {
    "scrolled": true
   },
   "outputs": [
    {
     "data": {
      "text/latex": [
       "\\begin{tabular}\n",
       "{l | r | l}\n",
       "name & size & summary \\\\\n",
       "\\hline\n",
       "Base &  & Module \\\\\n",
       "Core &  & Module \\\\\n",
       "Main &  & Module \\\\\n",
       "a & 210 bytes & 10-element Array\\{String,1\\} \\\\\n",
       "\\end{tabular}\n"
      ],
      "text/markdown": [
       "| name |      size | summary                    |\n",
       "|:---- | ---------:|:-------------------------- |\n",
       "| Base |           | Module                     |\n",
       "| Core |           | Module                     |\n",
       "| Main |           | Module                     |\n",
       "| a    | 210 bytes | 10-element Array{String,1} |\n"
      ],
      "text/plain": [
       "  name      size summary                   \n",
       "  –––– ––––––––– ––––––––––––––––––––––––––\n",
       "  Base           Module                    \n",
       "  Core           Module                    \n",
       "  Main           Module                    \n",
       "  a    210 bytes 10-element Array{String,1}"
      ]
     },
     "execution_count": 2,
     "metadata": {},
     "output_type": "execute_result"
    }
   ],
   "source": [
    "varinfo()"
   ]
  },
  {
   "cell_type": "code",
   "execution_count": 3,
   "metadata": {
    "scrolled": true
   },
   "outputs": [
    {
     "name": "stdout",
     "output_type": "stream",
     "text": [
      "[\"7\", \"8\", \"7\", \"8\", \"7\", \"8\", \"7\", \"8\", \"7\", \"8\"]\n"
     ]
    },
    {
     "ename": "LoadError",
     "evalue": "UndefVarError: a not defined",
     "output_type": "error",
     "traceback": [
      "UndefVarError: a not defined",
      "",
      "Stacktrace:",
      " [1] top-level scope at D:\\Devtools\\1st-JuliaMarathon\\playground\\scope_in_REPL.jl:22",
      " [2] include(::String) at .\\client.jl:439",
      " [3] top-level scope at In[3]:1"
     ]
    }
   ],
   "source": [
    "include(\"scope_in_REPL.jl\")"
   ]
  },
  {
   "cell_type": "code",
   "execution_count": 4,
   "metadata": {
    "scrolled": true
   },
   "outputs": [
    {
     "data": {
      "text/latex": [
       "\\begin{tabular}\n",
       "{l | r | l}\n",
       "name & size & summary \\\\\n",
       "\\hline\n",
       "Base &  & Module \\\\\n",
       "Core &  & Module \\\\\n",
       "Main &  & Module \\\\\n",
       "a & 40 bytes & 0-element Array\\{String,1\\} \\\\\n",
       "foo & 0 bytes & typeof(foo) \\\\\n",
       "\\end{tabular}\n"
      ],
      "text/markdown": [
       "| name |     size | summary                   |\n",
       "|:---- | --------:|:------------------------- |\n",
       "| Base |          | Module                    |\n",
       "| Core |          | Module                    |\n",
       "| Main |          | Module                    |\n",
       "| a    | 40 bytes | 0-element Array{String,1} |\n",
       "| foo  |  0 bytes | typeof(foo)               |\n"
      ],
      "text/plain": [
       "  name     size summary                  \n",
       "  –––– –––––––– –––––––––––––––––––––––––\n",
       "  Base          Module                   \n",
       "  Core          Module                   \n",
       "  Main          Module                   \n",
       "  a    40 bytes 0-element Array{String,1}\n",
       "  foo   0 bytes typeof(foo)              "
      ]
     },
     "execution_count": 4,
     "metadata": {},
     "output_type": "execute_result"
    }
   ],
   "source": [
    "varinfo()"
   ]
  }
 ],
 "metadata": {
  "kernelspec": {
   "display_name": "Julia 1.4.0",
   "language": "julia",
   "name": "julia-1.4"
  },
  "language_info": {
   "file_extension": ".jl",
   "mimetype": "application/julia",
   "name": "julia",
   "version": "1.4.0"
  }
 },
 "nbformat": 4,
 "nbformat_minor": 4
}
